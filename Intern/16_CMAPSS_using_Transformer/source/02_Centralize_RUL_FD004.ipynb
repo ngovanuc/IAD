{
 "cells": [
  {
   "cell_type": "markdown",
   "metadata": {},
   "source": [
    "Không sử dụng tập test, dùng tập train để train và test"
   ]
  },
  {
   "cell_type": "markdown",
   "metadata": {},
   "source": [
    "## Import the libraries"
   ]
  },
  {
   "cell_type": "code",
   "execution_count": 1,
   "metadata": {},
   "outputs": [],
   "source": [
    "import numpy as np\n",
    "import pandas as pd\n",
    "\n",
    "import torch\n",
    "import torch.nn as nn\n",
    "from torch.utils.data import DataLoader, Dataset\n",
    "from torch.utils.data import random_split\n",
    "from sklearn.preprocessing import MinMaxScaler\n",
    "from sklearn.model_selection import train_test_split    \n",
    "\n",
    "import warnings\n",
    "warnings.filterwarnings('ignore')\n",
    "\n",
    "import matplotlib.pyplot as plt\n",
    "import seaborn as sns"
   ]
  },
  {
   "cell_type": "markdown",
   "metadata": {},
   "source": [
    "## Dataloader"
   ]
  },
  {
   "cell_type": "code",
   "execution_count": 2,
   "metadata": {},
   "outputs": [],
   "source": [
    "class CMAPSSLoaderDataset(Dataset):\n",
    "    def __init__(self, data, sequence_length):\n",
    "        self.data = data\n",
    "        self.sequence_length = sequence_length\n",
    "        self.sequences = []\n",
    "        self.targets = []\n",
    "        \n",
    "        grouped = data.groupby('ID Engine') \n",
    "        for _, group in grouped:        \n",
    "            values = group.drop(['ID Engine', 'Cycle', 'Setting 1', 'Setting 2', 'Setting 3','Remaining RUL'], axis=1).values\n",
    "            rul_values = group['Remaining RUL'].values\n",
    "            \n",
    "            for i in range(len(values) - sequence_length + 1):\n",
    "                self.sequences.append(values[i:i + sequence_length]) \n",
    "                self.targets.append(rul_values[i + sequence_length - 1])\n",
    "    \n",
    "    def __len__(self):\n",
    "        \n",
    "        return len(self.sequences)\n",
    "    \n",
    "    def __getitem__(self, idx):\n",
    "        return (\n",
    "            torch.tensor(self.sequences[idx], dtype=torch.float32),\n",
    "            torch.tensor(self.targets[idx], dtype=torch.float32),\n",
    "        )"
   ]
  },
  {
   "cell_type": "markdown",
   "metadata": {},
   "source": [
    "## Transformer"
   ]
  },
  {
   "cell_type": "code",
   "execution_count": 3,
   "metadata": {},
   "outputs": [],
   "source": [
    "class TransformerModel(nn.Module):\n",
    "    def __init__(self, input_dim, d_model, nhead, num_layers, dim_feedforward, dropout):\n",
    "        super(TransformerModel, self).__init__()\n",
    "        self.input_embedding = nn.Linear(input_dim, d_model)\n",
    "        self.positional_encoding = nn.Parameter(torch.zeros(1, 5000, d_model))\n",
    "        self.transformer = nn.Transformer(\n",
    "            d_model=d_model,\n",
    "            nhead=nhead,\n",
    "            num_encoder_layers=num_layers,\n",
    "            num_decoder_layers=num_layers,\n",
    "            dim_feedforward=dim_feedforward,\n",
    "            dropout=dropout,\n",
    "        )\n",
    "        self.fc_out = nn.Linear(d_model, 1)\n",
    "\n",
    "    def forward(self, src):\n",
    "        src_emb = self.input_embedding(src) + self.positional_encoding[:, :src.size(1), :]\n",
    "        src_emb = src_emb.permute(1, 0, 2)\n",
    "        transformer_out = self.transformer(src_emb, src_emb)\n",
    "        output = self.fc_out(transformer_out[-1, :, :])\n",
    "        return output.squeeze(-1)"
   ]
  },
  {
   "cell_type": "markdown",
   "metadata": {},
   "source": [
    "## File paths"
   ]
  },
  {
   "cell_type": "code",
   "execution_count": 12,
   "metadata": {},
   "outputs": [],
   "source": [
    "train_1 = \"../data/train_FD004.txt\"\n",
    "test_1 = \"../data/test_FD004.txt\"\n",
    "rul_1 = \"../data/RUL_FD004.txt\""
   ]
  },
  {
   "cell_type": "markdown",
   "metadata": {},
   "source": [
    "## Tính toán RUL cho train"
   ]
  },
  {
   "cell_type": "code",
   "execution_count": 5,
   "metadata": {},
   "outputs": [
    {
     "data": {
      "text/html": [
       "<div>\n",
       "<style scoped>\n",
       "    .dataframe tbody tr th:only-of-type {\n",
       "        vertical-align: middle;\n",
       "    }\n",
       "\n",
       "    .dataframe tbody tr th {\n",
       "        vertical-align: top;\n",
       "    }\n",
       "\n",
       "    .dataframe thead th {\n",
       "        text-align: right;\n",
       "    }\n",
       "</style>\n",
       "<table border=\"1\" class=\"dataframe\">\n",
       "  <thead>\n",
       "    <tr style=\"text-align: right;\">\n",
       "      <th></th>\n",
       "      <th>ID Engine</th>\n",
       "      <th>Cycle</th>\n",
       "      <th>Setting 1</th>\n",
       "      <th>Setting 2</th>\n",
       "      <th>Setting 3</th>\n",
       "      <th>Sensor 1</th>\n",
       "      <th>Sensor 2</th>\n",
       "      <th>Sensor 3</th>\n",
       "      <th>Sensor 4</th>\n",
       "      <th>Sensor 5</th>\n",
       "      <th>...</th>\n",
       "      <th>Sensor 13</th>\n",
       "      <th>Sensor 14</th>\n",
       "      <th>Sensor 15</th>\n",
       "      <th>Sensor 16</th>\n",
       "      <th>Sensor 17</th>\n",
       "      <th>Sensor 18</th>\n",
       "      <th>Sensor 19</th>\n",
       "      <th>Sensor 20</th>\n",
       "      <th>Sensor 21</th>\n",
       "      <th>Remaining RUL</th>\n",
       "    </tr>\n",
       "  </thead>\n",
       "  <tbody>\n",
       "    <tr>\n",
       "      <th>0</th>\n",
       "      <td>1</td>\n",
       "      <td>1</td>\n",
       "      <td>42.0049</td>\n",
       "      <td>0.8400</td>\n",
       "      <td>100.0</td>\n",
       "      <td>445.00</td>\n",
       "      <td>549.68</td>\n",
       "      <td>1343.43</td>\n",
       "      <td>1112.93</td>\n",
       "      <td>3.91</td>\n",
       "      <td>...</td>\n",
       "      <td>2387.99</td>\n",
       "      <td>8074.83</td>\n",
       "      <td>9.3335</td>\n",
       "      <td>0.02</td>\n",
       "      <td>330</td>\n",
       "      <td>2212</td>\n",
       "      <td>100.00</td>\n",
       "      <td>10.62</td>\n",
       "      <td>6.3670</td>\n",
       "      <td></td>\n",
       "    </tr>\n",
       "    <tr>\n",
       "      <th>1</th>\n",
       "      <td>1</td>\n",
       "      <td>2</td>\n",
       "      <td>20.0020</td>\n",
       "      <td>0.7002</td>\n",
       "      <td>100.0</td>\n",
       "      <td>491.19</td>\n",
       "      <td>606.07</td>\n",
       "      <td>1477.61</td>\n",
       "      <td>1237.50</td>\n",
       "      <td>9.35</td>\n",
       "      <td>...</td>\n",
       "      <td>2387.73</td>\n",
       "      <td>8046.13</td>\n",
       "      <td>9.1913</td>\n",
       "      <td>0.02</td>\n",
       "      <td>361</td>\n",
       "      <td>2324</td>\n",
       "      <td>100.00</td>\n",
       "      <td>24.37</td>\n",
       "      <td>14.6552</td>\n",
       "      <td></td>\n",
       "    </tr>\n",
       "    <tr>\n",
       "      <th>2</th>\n",
       "      <td>1</td>\n",
       "      <td>3</td>\n",
       "      <td>42.0038</td>\n",
       "      <td>0.8409</td>\n",
       "      <td>100.0</td>\n",
       "      <td>445.00</td>\n",
       "      <td>548.95</td>\n",
       "      <td>1343.12</td>\n",
       "      <td>1117.05</td>\n",
       "      <td>3.91</td>\n",
       "      <td>...</td>\n",
       "      <td>2387.97</td>\n",
       "      <td>8066.62</td>\n",
       "      <td>9.4007</td>\n",
       "      <td>0.02</td>\n",
       "      <td>329</td>\n",
       "      <td>2212</td>\n",
       "      <td>100.00</td>\n",
       "      <td>10.48</td>\n",
       "      <td>6.4213</td>\n",
       "      <td></td>\n",
       "    </tr>\n",
       "    <tr>\n",
       "      <th>3</th>\n",
       "      <td>1</td>\n",
       "      <td>4</td>\n",
       "      <td>42.0000</td>\n",
       "      <td>0.8400</td>\n",
       "      <td>100.0</td>\n",
       "      <td>445.00</td>\n",
       "      <td>548.70</td>\n",
       "      <td>1341.24</td>\n",
       "      <td>1118.03</td>\n",
       "      <td>3.91</td>\n",
       "      <td>...</td>\n",
       "      <td>2388.02</td>\n",
       "      <td>8076.05</td>\n",
       "      <td>9.3369</td>\n",
       "      <td>0.02</td>\n",
       "      <td>328</td>\n",
       "      <td>2212</td>\n",
       "      <td>100.00</td>\n",
       "      <td>10.54</td>\n",
       "      <td>6.4176</td>\n",
       "      <td></td>\n",
       "    </tr>\n",
       "    <tr>\n",
       "      <th>4</th>\n",
       "      <td>1</td>\n",
       "      <td>5</td>\n",
       "      <td>25.0063</td>\n",
       "      <td>0.6207</td>\n",
       "      <td>60.0</td>\n",
       "      <td>462.54</td>\n",
       "      <td>536.10</td>\n",
       "      <td>1255.23</td>\n",
       "      <td>1033.59</td>\n",
       "      <td>7.05</td>\n",
       "      <td>...</td>\n",
       "      <td>2028.08</td>\n",
       "      <td>7865.80</td>\n",
       "      <td>10.8366</td>\n",
       "      <td>0.02</td>\n",
       "      <td>305</td>\n",
       "      <td>1915</td>\n",
       "      <td>84.93</td>\n",
       "      <td>14.03</td>\n",
       "      <td>8.6754</td>\n",
       "      <td></td>\n",
       "    </tr>\n",
       "  </tbody>\n",
       "</table>\n",
       "<p>5 rows × 27 columns</p>\n",
       "</div>"
      ],
      "text/plain": [
       "   ID Engine  Cycle  Setting 1  Setting 2  Setting 3  Sensor 1  Sensor 2  \\\n",
       "0          1      1    42.0049     0.8400      100.0    445.00    549.68   \n",
       "1          1      2    20.0020     0.7002      100.0    491.19    606.07   \n",
       "2          1      3    42.0038     0.8409      100.0    445.00    548.95   \n",
       "3          1      4    42.0000     0.8400      100.0    445.00    548.70   \n",
       "4          1      5    25.0063     0.6207       60.0    462.54    536.10   \n",
       "\n",
       "   Sensor 3  Sensor 4  Sensor 5  ...  Sensor 13  Sensor 14  Sensor 15  \\\n",
       "0   1343.43   1112.93      3.91  ...    2387.99    8074.83     9.3335   \n",
       "1   1477.61   1237.50      9.35  ...    2387.73    8046.13     9.1913   \n",
       "2   1343.12   1117.05      3.91  ...    2387.97    8066.62     9.4007   \n",
       "3   1341.24   1118.03      3.91  ...    2388.02    8076.05     9.3369   \n",
       "4   1255.23   1033.59      7.05  ...    2028.08    7865.80    10.8366   \n",
       "\n",
       "   Sensor 16  Sensor 17  Sensor 18  Sensor 19  Sensor 20  Sensor 21  \\\n",
       "0       0.02        330       2212     100.00      10.62     6.3670   \n",
       "1       0.02        361       2324     100.00      24.37    14.6552   \n",
       "2       0.02        329       2212     100.00      10.48     6.4213   \n",
       "3       0.02        328       2212     100.00      10.54     6.4176   \n",
       "4       0.02        305       1915      84.93      14.03     8.6754   \n",
       "\n",
       "   Remaining RUL  \n",
       "0                 \n",
       "1                 \n",
       "2                 \n",
       "3                 \n",
       "4                 \n",
       "\n",
       "[5 rows x 27 columns]"
      ]
     },
     "execution_count": 5,
     "metadata": {},
     "output_type": "execute_result"
    }
   ],
   "source": [
    "index_names = ['ID Engine', 'Cycle']\n",
    "setting_names = ['Setting 1', 'Setting 2', 'Setting 3']\n",
    "sensor_names = ['Sensor {}'.format(i) for i in range(1, 22)]\n",
    "column_names = index_names + setting_names + sensor_names\n",
    "\n",
    "train = pd.read_csv(train_1, sep=' ', header=None)\n",
    "train.drop([26, 27], axis=1, inplace=True)\n",
    "train.columns = column_names\n",
    "\n",
    "train['Remaining RUL'] = ''\n",
    "train.head()"
   ]
  },
  {
   "cell_type": "code",
   "execution_count": 6,
   "metadata": {},
   "outputs": [],
   "source": [
    "max_cycle = train.groupby('ID Engine').count()\n",
    "\n",
    "for idx in range(len(train)):\n",
    "    train.loc[idx, 'Remaining RUL'] = max_cycle.loc[train.loc[idx, 'ID Engine'], 'Cycle']\n",
    "\n",
    "train['Remaining RUL'] = train['Remaining RUL'] - train['Cycle']"
   ]
  },
  {
   "cell_type": "code",
   "execution_count": 7,
   "metadata": {},
   "outputs": [
    {
     "data": {
      "text/html": [
       "<div>\n",
       "<style scoped>\n",
       "    .dataframe tbody tr th:only-of-type {\n",
       "        vertical-align: middle;\n",
       "    }\n",
       "\n",
       "    .dataframe tbody tr th {\n",
       "        vertical-align: top;\n",
       "    }\n",
       "\n",
       "    .dataframe thead th {\n",
       "        text-align: right;\n",
       "    }\n",
       "</style>\n",
       "<table border=\"1\" class=\"dataframe\">\n",
       "  <thead>\n",
       "    <tr style=\"text-align: right;\">\n",
       "      <th></th>\n",
       "      <th>ID Engine</th>\n",
       "      <th>Cycle</th>\n",
       "      <th>Setting 1</th>\n",
       "      <th>Setting 2</th>\n",
       "      <th>Setting 3</th>\n",
       "      <th>Sensor 1</th>\n",
       "      <th>Sensor 2</th>\n",
       "      <th>Sensor 3</th>\n",
       "      <th>Sensor 4</th>\n",
       "      <th>Sensor 5</th>\n",
       "      <th>...</th>\n",
       "      <th>Sensor 13</th>\n",
       "      <th>Sensor 14</th>\n",
       "      <th>Sensor 15</th>\n",
       "      <th>Sensor 16</th>\n",
       "      <th>Sensor 17</th>\n",
       "      <th>Sensor 18</th>\n",
       "      <th>Sensor 19</th>\n",
       "      <th>Sensor 20</th>\n",
       "      <th>Sensor 21</th>\n",
       "      <th>Remaining RUL</th>\n",
       "    </tr>\n",
       "  </thead>\n",
       "  <tbody>\n",
       "    <tr>\n",
       "      <th>0</th>\n",
       "      <td>1</td>\n",
       "      <td>1</td>\n",
       "      <td>42.0049</td>\n",
       "      <td>0.8400</td>\n",
       "      <td>100.0</td>\n",
       "      <td>445.00</td>\n",
       "      <td>549.68</td>\n",
       "      <td>1343.43</td>\n",
       "      <td>1112.93</td>\n",
       "      <td>3.91</td>\n",
       "      <td>...</td>\n",
       "      <td>2387.99</td>\n",
       "      <td>8074.83</td>\n",
       "      <td>9.3335</td>\n",
       "      <td>0.02</td>\n",
       "      <td>330</td>\n",
       "      <td>2212</td>\n",
       "      <td>100.00</td>\n",
       "      <td>10.62</td>\n",
       "      <td>6.3670</td>\n",
       "      <td>320</td>\n",
       "    </tr>\n",
       "    <tr>\n",
       "      <th>1</th>\n",
       "      <td>1</td>\n",
       "      <td>2</td>\n",
       "      <td>20.0020</td>\n",
       "      <td>0.7002</td>\n",
       "      <td>100.0</td>\n",
       "      <td>491.19</td>\n",
       "      <td>606.07</td>\n",
       "      <td>1477.61</td>\n",
       "      <td>1237.50</td>\n",
       "      <td>9.35</td>\n",
       "      <td>...</td>\n",
       "      <td>2387.73</td>\n",
       "      <td>8046.13</td>\n",
       "      <td>9.1913</td>\n",
       "      <td>0.02</td>\n",
       "      <td>361</td>\n",
       "      <td>2324</td>\n",
       "      <td>100.00</td>\n",
       "      <td>24.37</td>\n",
       "      <td>14.6552</td>\n",
       "      <td>319</td>\n",
       "    </tr>\n",
       "    <tr>\n",
       "      <th>2</th>\n",
       "      <td>1</td>\n",
       "      <td>3</td>\n",
       "      <td>42.0038</td>\n",
       "      <td>0.8409</td>\n",
       "      <td>100.0</td>\n",
       "      <td>445.00</td>\n",
       "      <td>548.95</td>\n",
       "      <td>1343.12</td>\n",
       "      <td>1117.05</td>\n",
       "      <td>3.91</td>\n",
       "      <td>...</td>\n",
       "      <td>2387.97</td>\n",
       "      <td>8066.62</td>\n",
       "      <td>9.4007</td>\n",
       "      <td>0.02</td>\n",
       "      <td>329</td>\n",
       "      <td>2212</td>\n",
       "      <td>100.00</td>\n",
       "      <td>10.48</td>\n",
       "      <td>6.4213</td>\n",
       "      <td>318</td>\n",
       "    </tr>\n",
       "    <tr>\n",
       "      <th>3</th>\n",
       "      <td>1</td>\n",
       "      <td>4</td>\n",
       "      <td>42.0000</td>\n",
       "      <td>0.8400</td>\n",
       "      <td>100.0</td>\n",
       "      <td>445.00</td>\n",
       "      <td>548.70</td>\n",
       "      <td>1341.24</td>\n",
       "      <td>1118.03</td>\n",
       "      <td>3.91</td>\n",
       "      <td>...</td>\n",
       "      <td>2388.02</td>\n",
       "      <td>8076.05</td>\n",
       "      <td>9.3369</td>\n",
       "      <td>0.02</td>\n",
       "      <td>328</td>\n",
       "      <td>2212</td>\n",
       "      <td>100.00</td>\n",
       "      <td>10.54</td>\n",
       "      <td>6.4176</td>\n",
       "      <td>317</td>\n",
       "    </tr>\n",
       "    <tr>\n",
       "      <th>4</th>\n",
       "      <td>1</td>\n",
       "      <td>5</td>\n",
       "      <td>25.0063</td>\n",
       "      <td>0.6207</td>\n",
       "      <td>60.0</td>\n",
       "      <td>462.54</td>\n",
       "      <td>536.10</td>\n",
       "      <td>1255.23</td>\n",
       "      <td>1033.59</td>\n",
       "      <td>7.05</td>\n",
       "      <td>...</td>\n",
       "      <td>2028.08</td>\n",
       "      <td>7865.80</td>\n",
       "      <td>10.8366</td>\n",
       "      <td>0.02</td>\n",
       "      <td>305</td>\n",
       "      <td>1915</td>\n",
       "      <td>84.93</td>\n",
       "      <td>14.03</td>\n",
       "      <td>8.6754</td>\n",
       "      <td>316</td>\n",
       "    </tr>\n",
       "  </tbody>\n",
       "</table>\n",
       "<p>5 rows × 27 columns</p>\n",
       "</div>"
      ],
      "text/plain": [
       "   ID Engine  Cycle  Setting 1  Setting 2  Setting 3  Sensor 1  Sensor 2  \\\n",
       "0          1      1    42.0049     0.8400      100.0    445.00    549.68   \n",
       "1          1      2    20.0020     0.7002      100.0    491.19    606.07   \n",
       "2          1      3    42.0038     0.8409      100.0    445.00    548.95   \n",
       "3          1      4    42.0000     0.8400      100.0    445.00    548.70   \n",
       "4          1      5    25.0063     0.6207       60.0    462.54    536.10   \n",
       "\n",
       "   Sensor 3  Sensor 4  Sensor 5  ...  Sensor 13  Sensor 14  Sensor 15  \\\n",
       "0   1343.43   1112.93      3.91  ...    2387.99    8074.83     9.3335   \n",
       "1   1477.61   1237.50      9.35  ...    2387.73    8046.13     9.1913   \n",
       "2   1343.12   1117.05      3.91  ...    2387.97    8066.62     9.4007   \n",
       "3   1341.24   1118.03      3.91  ...    2388.02    8076.05     9.3369   \n",
       "4   1255.23   1033.59      7.05  ...    2028.08    7865.80    10.8366   \n",
       "\n",
       "   Sensor 16  Sensor 17  Sensor 18  Sensor 19  Sensor 20  Sensor 21  \\\n",
       "0       0.02        330       2212     100.00      10.62     6.3670   \n",
       "1       0.02        361       2324     100.00      24.37    14.6552   \n",
       "2       0.02        329       2212     100.00      10.48     6.4213   \n",
       "3       0.02        328       2212     100.00      10.54     6.4176   \n",
       "4       0.02        305       1915      84.93      14.03     8.6754   \n",
       "\n",
       "   Remaining RUL  \n",
       "0            320  \n",
       "1            319  \n",
       "2            318  \n",
       "3            317  \n",
       "4            316  \n",
       "\n",
       "[5 rows x 27 columns]"
      ]
     },
     "execution_count": 7,
     "metadata": {},
     "output_type": "execute_result"
    }
   ],
   "source": [
    "train.head()"
   ]
  },
  {
   "cell_type": "code",
   "execution_count": 8,
   "metadata": {},
   "outputs": [
    {
     "data": {
      "text/plain": [
       "(61249, 27)"
      ]
     },
     "execution_count": 8,
     "metadata": {},
     "output_type": "execute_result"
    }
   ],
   "source": [
    "train.shape\n",
    "# Có đầy đủ 27 features ban đầu"
   ]
  },
  {
   "cell_type": "markdown",
   "metadata": {},
   "source": [
    "## Load RUL"
   ]
  },
  {
   "cell_type": "code",
   "execution_count": 9,
   "metadata": {},
   "outputs": [
    {
     "data": {
      "text/html": [
       "<div>\n",
       "<style scoped>\n",
       "    .dataframe tbody tr th:only-of-type {\n",
       "        vertical-align: middle;\n",
       "    }\n",
       "\n",
       "    .dataframe tbody tr th {\n",
       "        vertical-align: top;\n",
       "    }\n",
       "\n",
       "    .dataframe thead th {\n",
       "        text-align: right;\n",
       "    }\n",
       "</style>\n",
       "<table border=\"1\" class=\"dataframe\">\n",
       "  <thead>\n",
       "    <tr style=\"text-align: right;\">\n",
       "      <th></th>\n",
       "      <th>RUL</th>\n",
       "    </tr>\n",
       "  </thead>\n",
       "  <tbody>\n",
       "    <tr>\n",
       "      <th>0</th>\n",
       "      <td>22</td>\n",
       "    </tr>\n",
       "    <tr>\n",
       "      <th>1</th>\n",
       "      <td>39</td>\n",
       "    </tr>\n",
       "    <tr>\n",
       "      <th>2</th>\n",
       "      <td>107</td>\n",
       "    </tr>\n",
       "    <tr>\n",
       "      <th>3</th>\n",
       "      <td>75</td>\n",
       "    </tr>\n",
       "    <tr>\n",
       "      <th>4</th>\n",
       "      <td>149</td>\n",
       "    </tr>\n",
       "  </tbody>\n",
       "</table>\n",
       "</div>"
      ],
      "text/plain": [
       "   RUL\n",
       "0   22\n",
       "1   39\n",
       "2  107\n",
       "3   75\n",
       "4  149"
      ]
     },
     "execution_count": 9,
     "metadata": {},
     "output_type": "execute_result"
    }
   ],
   "source": [
    "rul = pd.read_csv(rul_1, sep=' ', header=None)\n",
    "rul.drop(rul.columns[1], axis=1, inplace=True)\n",
    "rul.columns = ['RUL']\n",
    "rul.head()"
   ]
  },
  {
   "cell_type": "markdown",
   "metadata": {},
   "source": [
    "## Tính toán RUL cho test"
   ]
  },
  {
   "cell_type": "code",
   "execution_count": 13,
   "metadata": {},
   "outputs": [
    {
     "data": {
      "text/html": [
       "<div>\n",
       "<style scoped>\n",
       "    .dataframe tbody tr th:only-of-type {\n",
       "        vertical-align: middle;\n",
       "    }\n",
       "\n",
       "    .dataframe tbody tr th {\n",
       "        vertical-align: top;\n",
       "    }\n",
       "\n",
       "    .dataframe thead th {\n",
       "        text-align: right;\n",
       "    }\n",
       "</style>\n",
       "<table border=\"1\" class=\"dataframe\">\n",
       "  <thead>\n",
       "    <tr style=\"text-align: right;\">\n",
       "      <th></th>\n",
       "      <th>ID Engine</th>\n",
       "      <th>Cycle</th>\n",
       "      <th>Setting 1</th>\n",
       "      <th>Setting 2</th>\n",
       "      <th>Setting 3</th>\n",
       "      <th>Sensor 1</th>\n",
       "      <th>Sensor 2</th>\n",
       "      <th>Sensor 3</th>\n",
       "      <th>Sensor 4</th>\n",
       "      <th>Sensor 5</th>\n",
       "      <th>...</th>\n",
       "      <th>Sensor 13</th>\n",
       "      <th>Sensor 14</th>\n",
       "      <th>Sensor 15</th>\n",
       "      <th>Sensor 16</th>\n",
       "      <th>Sensor 17</th>\n",
       "      <th>Sensor 18</th>\n",
       "      <th>Sensor 19</th>\n",
       "      <th>Sensor 20</th>\n",
       "      <th>Sensor 21</th>\n",
       "      <th>Remaining RUL</th>\n",
       "    </tr>\n",
       "  </thead>\n",
       "  <tbody>\n",
       "    <tr>\n",
       "      <th>0</th>\n",
       "      <td>1</td>\n",
       "      <td>1</td>\n",
       "      <td>20.0072</td>\n",
       "      <td>0.7000</td>\n",
       "      <td>100.0</td>\n",
       "      <td>491.19</td>\n",
       "      <td>606.67</td>\n",
       "      <td>1481.04</td>\n",
       "      <td>1227.81</td>\n",
       "      <td>9.35</td>\n",
       "      <td>...</td>\n",
       "      <td>2387.78</td>\n",
       "      <td>8048.98</td>\n",
       "      <td>9.2229</td>\n",
       "      <td>0.02</td>\n",
       "      <td>362</td>\n",
       "      <td>2324</td>\n",
       "      <td>100.00</td>\n",
       "      <td>24.31</td>\n",
       "      <td>14.7007</td>\n",
       "      <td></td>\n",
       "    </tr>\n",
       "    <tr>\n",
       "      <th>1</th>\n",
       "      <td>1</td>\n",
       "      <td>2</td>\n",
       "      <td>24.9984</td>\n",
       "      <td>0.6200</td>\n",
       "      <td>60.0</td>\n",
       "      <td>462.54</td>\n",
       "      <td>536.22</td>\n",
       "      <td>1256.17</td>\n",
       "      <td>1031.48</td>\n",
       "      <td>7.05</td>\n",
       "      <td>...</td>\n",
       "      <td>2028.09</td>\n",
       "      <td>7863.46</td>\n",
       "      <td>10.8632</td>\n",
       "      <td>0.02</td>\n",
       "      <td>306</td>\n",
       "      <td>1915</td>\n",
       "      <td>84.93</td>\n",
       "      <td>14.36</td>\n",
       "      <td>8.5748</td>\n",
       "      <td></td>\n",
       "    </tr>\n",
       "    <tr>\n",
       "      <th>2</th>\n",
       "      <td>1</td>\n",
       "      <td>3</td>\n",
       "      <td>42.0000</td>\n",
       "      <td>0.8420</td>\n",
       "      <td>100.0</td>\n",
       "      <td>445.00</td>\n",
       "      <td>549.23</td>\n",
       "      <td>1340.13</td>\n",
       "      <td>1105.88</td>\n",
       "      <td>3.91</td>\n",
       "      <td>...</td>\n",
       "      <td>2387.95</td>\n",
       "      <td>8071.13</td>\n",
       "      <td>9.3960</td>\n",
       "      <td>0.02</td>\n",
       "      <td>328</td>\n",
       "      <td>2212</td>\n",
       "      <td>100.00</td>\n",
       "      <td>10.39</td>\n",
       "      <td>6.4365</td>\n",
       "      <td></td>\n",
       "    </tr>\n",
       "    <tr>\n",
       "      <th>3</th>\n",
       "      <td>1</td>\n",
       "      <td>4</td>\n",
       "      <td>42.0035</td>\n",
       "      <td>0.8402</td>\n",
       "      <td>100.0</td>\n",
       "      <td>445.00</td>\n",
       "      <td>549.19</td>\n",
       "      <td>1339.70</td>\n",
       "      <td>1107.26</td>\n",
       "      <td>3.91</td>\n",
       "      <td>...</td>\n",
       "      <td>2387.90</td>\n",
       "      <td>8078.89</td>\n",
       "      <td>9.3594</td>\n",
       "      <td>0.02</td>\n",
       "      <td>328</td>\n",
       "      <td>2212</td>\n",
       "      <td>100.00</td>\n",
       "      <td>10.56</td>\n",
       "      <td>6.2367</td>\n",
       "      <td></td>\n",
       "    </tr>\n",
       "    <tr>\n",
       "      <th>4</th>\n",
       "      <td>1</td>\n",
       "      <td>5</td>\n",
       "      <td>35.0079</td>\n",
       "      <td>0.8400</td>\n",
       "      <td>100.0</td>\n",
       "      <td>449.44</td>\n",
       "      <td>555.10</td>\n",
       "      <td>1353.04</td>\n",
       "      <td>1117.80</td>\n",
       "      <td>5.48</td>\n",
       "      <td>...</td>\n",
       "      <td>2387.87</td>\n",
       "      <td>8057.83</td>\n",
       "      <td>9.3030</td>\n",
       "      <td>0.02</td>\n",
       "      <td>333</td>\n",
       "      <td>2223</td>\n",
       "      <td>100.00</td>\n",
       "      <td>14.85</td>\n",
       "      <td>8.9326</td>\n",
       "      <td></td>\n",
       "    </tr>\n",
       "  </tbody>\n",
       "</table>\n",
       "<p>5 rows × 27 columns</p>\n",
       "</div>"
      ],
      "text/plain": [
       "   ID Engine  Cycle  Setting 1  Setting 2  Setting 3  Sensor 1  Sensor 2  \\\n",
       "0          1      1    20.0072     0.7000      100.0    491.19    606.67   \n",
       "1          1      2    24.9984     0.6200       60.0    462.54    536.22   \n",
       "2          1      3    42.0000     0.8420      100.0    445.00    549.23   \n",
       "3          1      4    42.0035     0.8402      100.0    445.00    549.19   \n",
       "4          1      5    35.0079     0.8400      100.0    449.44    555.10   \n",
       "\n",
       "   Sensor 3  Sensor 4  Sensor 5  ...  Sensor 13  Sensor 14  Sensor 15  \\\n",
       "0   1481.04   1227.81      9.35  ...    2387.78    8048.98     9.2229   \n",
       "1   1256.17   1031.48      7.05  ...    2028.09    7863.46    10.8632   \n",
       "2   1340.13   1105.88      3.91  ...    2387.95    8071.13     9.3960   \n",
       "3   1339.70   1107.26      3.91  ...    2387.90    8078.89     9.3594   \n",
       "4   1353.04   1117.80      5.48  ...    2387.87    8057.83     9.3030   \n",
       "\n",
       "   Sensor 16  Sensor 17  Sensor 18  Sensor 19  Sensor 20  Sensor 21  \\\n",
       "0       0.02        362       2324     100.00      24.31    14.7007   \n",
       "1       0.02        306       1915      84.93      14.36     8.5748   \n",
       "2       0.02        328       2212     100.00      10.39     6.4365   \n",
       "3       0.02        328       2212     100.00      10.56     6.2367   \n",
       "4       0.02        333       2223     100.00      14.85     8.9326   \n",
       "\n",
       "   Remaining RUL  \n",
       "0                 \n",
       "1                 \n",
       "2                 \n",
       "3                 \n",
       "4                 \n",
       "\n",
       "[5 rows x 27 columns]"
      ]
     },
     "execution_count": 13,
     "metadata": {},
     "output_type": "execute_result"
    }
   ],
   "source": [
    "test = pd.read_csv(test_1, sep=' ', header=None)\n",
    "test.drop([26, 27], axis=1, inplace=True)\n",
    "test.columns = column_names\n",
    "\n",
    "test['Remaining RUL'] = ''\n",
    "test.head()"
   ]
  },
  {
   "cell_type": "code",
   "execution_count": 14,
   "metadata": {},
   "outputs": [
    {
     "data": {
      "text/plain": [
       "ID Engine\n",
       "1    230\n",
       "2    153\n",
       "3    141\n",
       "4    208\n",
       "5     51\n",
       "Name: Cycle, dtype: int64"
      ]
     },
     "execution_count": 14,
     "metadata": {},
     "output_type": "execute_result"
    }
   ],
   "source": [
    "max_cycle_test = test.groupby('ID Engine').count()\n",
    "max_cycle_test['Cycle'].head()"
   ]
  },
  {
   "cell_type": "code",
   "execution_count": 15,
   "metadata": {},
   "outputs": [
    {
     "data": {
      "text/html": [
       "<div>\n",
       "<style scoped>\n",
       "    .dataframe tbody tr th:only-of-type {\n",
       "        vertical-align: middle;\n",
       "    }\n",
       "\n",
       "    .dataframe tbody tr th {\n",
       "        vertical-align: top;\n",
       "    }\n",
       "\n",
       "    .dataframe thead th {\n",
       "        text-align: right;\n",
       "    }\n",
       "</style>\n",
       "<table border=\"1\" class=\"dataframe\">\n",
       "  <thead>\n",
       "    <tr style=\"text-align: right;\">\n",
       "      <th></th>\n",
       "      <th>RUL</th>\n",
       "    </tr>\n",
       "  </thead>\n",
       "  <tbody>\n",
       "    <tr>\n",
       "      <th>0</th>\n",
       "      <td>22</td>\n",
       "    </tr>\n",
       "    <tr>\n",
       "      <th>1</th>\n",
       "      <td>39</td>\n",
       "    </tr>\n",
       "    <tr>\n",
       "      <th>2</th>\n",
       "      <td>107</td>\n",
       "    </tr>\n",
       "    <tr>\n",
       "      <th>3</th>\n",
       "      <td>75</td>\n",
       "    </tr>\n",
       "    <tr>\n",
       "      <th>4</th>\n",
       "      <td>149</td>\n",
       "    </tr>\n",
       "  </tbody>\n",
       "</table>\n",
       "</div>"
      ],
      "text/plain": [
       "   RUL\n",
       "0   22\n",
       "1   39\n",
       "2  107\n",
       "3   75\n",
       "4  149"
      ]
     },
     "execution_count": 15,
     "metadata": {},
     "output_type": "execute_result"
    }
   ],
   "source": [
    "rul.head()"
   ]
  },
  {
   "cell_type": "code",
   "execution_count": 16,
   "metadata": {},
   "outputs": [],
   "source": [
    "# Công thức tính toán RUL cho test có thể là:\n",
    "# RUL cuối cùng (trong tập testtest) + Cycles đã trải qua - cột Cycle tương ứng\n",
    "for idx in range(len(test)):\n",
    "    test.loc[idx, 'Remaining RUL'] = rul.loc[test.loc[idx, 'ID Engine'] - 1, 'RUL'] + max_cycle_test.loc[test.loc[idx, 'ID Engine'], 'Cycle']\n",
    "\n",
    "test['Remaining RUL'] = test['Remaining RUL'] - test['Cycle']"
   ]
  },
  {
   "cell_type": "code",
   "execution_count": 17,
   "metadata": {},
   "outputs": [
    {
     "data": {
      "text/html": [
       "<div>\n",
       "<style scoped>\n",
       "    .dataframe tbody tr th:only-of-type {\n",
       "        vertical-align: middle;\n",
       "    }\n",
       "\n",
       "    .dataframe tbody tr th {\n",
       "        vertical-align: top;\n",
       "    }\n",
       "\n",
       "    .dataframe thead th {\n",
       "        text-align: right;\n",
       "    }\n",
       "</style>\n",
       "<table border=\"1\" class=\"dataframe\">\n",
       "  <thead>\n",
       "    <tr style=\"text-align: right;\">\n",
       "      <th></th>\n",
       "      <th>ID Engine</th>\n",
       "      <th>Cycle</th>\n",
       "      <th>Setting 1</th>\n",
       "      <th>Setting 2</th>\n",
       "      <th>Setting 3</th>\n",
       "      <th>Sensor 1</th>\n",
       "      <th>Sensor 2</th>\n",
       "      <th>Sensor 3</th>\n",
       "      <th>Sensor 4</th>\n",
       "      <th>Sensor 5</th>\n",
       "      <th>...</th>\n",
       "      <th>Sensor 13</th>\n",
       "      <th>Sensor 14</th>\n",
       "      <th>Sensor 15</th>\n",
       "      <th>Sensor 16</th>\n",
       "      <th>Sensor 17</th>\n",
       "      <th>Sensor 18</th>\n",
       "      <th>Sensor 19</th>\n",
       "      <th>Sensor 20</th>\n",
       "      <th>Sensor 21</th>\n",
       "      <th>Remaining RUL</th>\n",
       "    </tr>\n",
       "  </thead>\n",
       "  <tbody>\n",
       "    <tr>\n",
       "      <th>0</th>\n",
       "      <td>1</td>\n",
       "      <td>1</td>\n",
       "      <td>20.0072</td>\n",
       "      <td>0.7000</td>\n",
       "      <td>100.0</td>\n",
       "      <td>491.19</td>\n",
       "      <td>606.67</td>\n",
       "      <td>1481.04</td>\n",
       "      <td>1227.81</td>\n",
       "      <td>9.35</td>\n",
       "      <td>...</td>\n",
       "      <td>2387.78</td>\n",
       "      <td>8048.98</td>\n",
       "      <td>9.2229</td>\n",
       "      <td>0.02</td>\n",
       "      <td>362</td>\n",
       "      <td>2324</td>\n",
       "      <td>100.00</td>\n",
       "      <td>24.31</td>\n",
       "      <td>14.7007</td>\n",
       "      <td>251</td>\n",
       "    </tr>\n",
       "    <tr>\n",
       "      <th>1</th>\n",
       "      <td>1</td>\n",
       "      <td>2</td>\n",
       "      <td>24.9984</td>\n",
       "      <td>0.6200</td>\n",
       "      <td>60.0</td>\n",
       "      <td>462.54</td>\n",
       "      <td>536.22</td>\n",
       "      <td>1256.17</td>\n",
       "      <td>1031.48</td>\n",
       "      <td>7.05</td>\n",
       "      <td>...</td>\n",
       "      <td>2028.09</td>\n",
       "      <td>7863.46</td>\n",
       "      <td>10.8632</td>\n",
       "      <td>0.02</td>\n",
       "      <td>306</td>\n",
       "      <td>1915</td>\n",
       "      <td>84.93</td>\n",
       "      <td>14.36</td>\n",
       "      <td>8.5748</td>\n",
       "      <td>250</td>\n",
       "    </tr>\n",
       "    <tr>\n",
       "      <th>2</th>\n",
       "      <td>1</td>\n",
       "      <td>3</td>\n",
       "      <td>42.0000</td>\n",
       "      <td>0.8420</td>\n",
       "      <td>100.0</td>\n",
       "      <td>445.00</td>\n",
       "      <td>549.23</td>\n",
       "      <td>1340.13</td>\n",
       "      <td>1105.88</td>\n",
       "      <td>3.91</td>\n",
       "      <td>...</td>\n",
       "      <td>2387.95</td>\n",
       "      <td>8071.13</td>\n",
       "      <td>9.3960</td>\n",
       "      <td>0.02</td>\n",
       "      <td>328</td>\n",
       "      <td>2212</td>\n",
       "      <td>100.00</td>\n",
       "      <td>10.39</td>\n",
       "      <td>6.4365</td>\n",
       "      <td>249</td>\n",
       "    </tr>\n",
       "    <tr>\n",
       "      <th>3</th>\n",
       "      <td>1</td>\n",
       "      <td>4</td>\n",
       "      <td>42.0035</td>\n",
       "      <td>0.8402</td>\n",
       "      <td>100.0</td>\n",
       "      <td>445.00</td>\n",
       "      <td>549.19</td>\n",
       "      <td>1339.70</td>\n",
       "      <td>1107.26</td>\n",
       "      <td>3.91</td>\n",
       "      <td>...</td>\n",
       "      <td>2387.90</td>\n",
       "      <td>8078.89</td>\n",
       "      <td>9.3594</td>\n",
       "      <td>0.02</td>\n",
       "      <td>328</td>\n",
       "      <td>2212</td>\n",
       "      <td>100.00</td>\n",
       "      <td>10.56</td>\n",
       "      <td>6.2367</td>\n",
       "      <td>248</td>\n",
       "    </tr>\n",
       "    <tr>\n",
       "      <th>4</th>\n",
       "      <td>1</td>\n",
       "      <td>5</td>\n",
       "      <td>35.0079</td>\n",
       "      <td>0.8400</td>\n",
       "      <td>100.0</td>\n",
       "      <td>449.44</td>\n",
       "      <td>555.10</td>\n",
       "      <td>1353.04</td>\n",
       "      <td>1117.80</td>\n",
       "      <td>5.48</td>\n",
       "      <td>...</td>\n",
       "      <td>2387.87</td>\n",
       "      <td>8057.83</td>\n",
       "      <td>9.3030</td>\n",
       "      <td>0.02</td>\n",
       "      <td>333</td>\n",
       "      <td>2223</td>\n",
       "      <td>100.00</td>\n",
       "      <td>14.85</td>\n",
       "      <td>8.9326</td>\n",
       "      <td>247</td>\n",
       "    </tr>\n",
       "  </tbody>\n",
       "</table>\n",
       "<p>5 rows × 27 columns</p>\n",
       "</div>"
      ],
      "text/plain": [
       "   ID Engine  Cycle  Setting 1  Setting 2  Setting 3  Sensor 1  Sensor 2  \\\n",
       "0          1      1    20.0072     0.7000      100.0    491.19    606.67   \n",
       "1          1      2    24.9984     0.6200       60.0    462.54    536.22   \n",
       "2          1      3    42.0000     0.8420      100.0    445.00    549.23   \n",
       "3          1      4    42.0035     0.8402      100.0    445.00    549.19   \n",
       "4          1      5    35.0079     0.8400      100.0    449.44    555.10   \n",
       "\n",
       "   Sensor 3  Sensor 4  Sensor 5  ...  Sensor 13  Sensor 14  Sensor 15  \\\n",
       "0   1481.04   1227.81      9.35  ...    2387.78    8048.98     9.2229   \n",
       "1   1256.17   1031.48      7.05  ...    2028.09    7863.46    10.8632   \n",
       "2   1340.13   1105.88      3.91  ...    2387.95    8071.13     9.3960   \n",
       "3   1339.70   1107.26      3.91  ...    2387.90    8078.89     9.3594   \n",
       "4   1353.04   1117.80      5.48  ...    2387.87    8057.83     9.3030   \n",
       "\n",
       "   Sensor 16  Sensor 17  Sensor 18  Sensor 19  Sensor 20  Sensor 21  \\\n",
       "0       0.02        362       2324     100.00      24.31    14.7007   \n",
       "1       0.02        306       1915      84.93      14.36     8.5748   \n",
       "2       0.02        328       2212     100.00      10.39     6.4365   \n",
       "3       0.02        328       2212     100.00      10.56     6.2367   \n",
       "4       0.02        333       2223     100.00      14.85     8.9326   \n",
       "\n",
       "   Remaining RUL  \n",
       "0            251  \n",
       "1            250  \n",
       "2            249  \n",
       "3            248  \n",
       "4            247  \n",
       "\n",
       "[5 rows x 27 columns]"
      ]
     },
     "execution_count": 17,
     "metadata": {},
     "output_type": "execute_result"
    }
   ],
   "source": [
    "test.head()"
   ]
  },
  {
   "cell_type": "code",
   "execution_count": 18,
   "metadata": {},
   "outputs": [
    {
     "data": {
      "text/plain": [
       "np.int64(19)"
      ]
     },
     "execution_count": 18,
     "metadata": {},
     "output_type": "execute_result"
    }
   ],
   "source": [
    "# Trong tập test, động cơ có số lượng vòng đời được chạy ít nhất là ID Engine = 1 với số vòng đời trong tập test là 31 dòng\n",
    "test.groupby('ID Engine').count().min()[0]"
   ]
  },
  {
   "cell_type": "markdown",
   "metadata": {},
   "source": [
    "## Standard data (train and test)"
   ]
  },
  {
   "cell_type": "code",
   "execution_count": 19,
   "metadata": {},
   "outputs": [],
   "source": [
    "# Bỏ đi các cột setting sẽ không chuẩn hóa\n",
    "scaled_columns = train.columns[5:]\n",
    "scaler = MinMaxScaler()\n",
    "train[scaled_columns] = scaler.fit_transform(train[scaled_columns])\n",
    "# test[scaled_columns] = scaler.fit_transform(test[scaled_columns])"
   ]
  },
  {
   "cell_type": "code",
   "execution_count": 20,
   "metadata": {},
   "outputs": [
    {
     "data": {
      "text/html": [
       "<div>\n",
       "<style scoped>\n",
       "    .dataframe tbody tr th:only-of-type {\n",
       "        vertical-align: middle;\n",
       "    }\n",
       "\n",
       "    .dataframe tbody tr th {\n",
       "        vertical-align: top;\n",
       "    }\n",
       "\n",
       "    .dataframe thead th {\n",
       "        text-align: right;\n",
       "    }\n",
       "</style>\n",
       "<table border=\"1\" class=\"dataframe\">\n",
       "  <thead>\n",
       "    <tr style=\"text-align: right;\">\n",
       "      <th></th>\n",
       "      <th>ID Engine</th>\n",
       "      <th>Cycle</th>\n",
       "      <th>Setting 1</th>\n",
       "      <th>Setting 2</th>\n",
       "      <th>Setting 3</th>\n",
       "      <th>Sensor 1</th>\n",
       "      <th>Sensor 2</th>\n",
       "      <th>Sensor 3</th>\n",
       "      <th>Sensor 4</th>\n",
       "      <th>Sensor 5</th>\n",
       "      <th>...</th>\n",
       "      <th>Sensor 13</th>\n",
       "      <th>Sensor 14</th>\n",
       "      <th>Sensor 15</th>\n",
       "      <th>Sensor 16</th>\n",
       "      <th>Sensor 17</th>\n",
       "      <th>Sensor 18</th>\n",
       "      <th>Sensor 19</th>\n",
       "      <th>Sensor 20</th>\n",
       "      <th>Sensor 21</th>\n",
       "      <th>Remaining RUL</th>\n",
       "    </tr>\n",
       "  </thead>\n",
       "  <tbody>\n",
       "    <tr>\n",
       "      <th>0</th>\n",
       "      <td>1</td>\n",
       "      <td>1</td>\n",
       "      <td>42.0049</td>\n",
       "      <td>0.8400</td>\n",
       "      <td>100.0</td>\n",
       "      <td>0.000000</td>\n",
       "      <td>0.130347</td>\n",
       "      <td>0.272082</td>\n",
       "      <td>0.212586</td>\n",
       "      <td>0.000000</td>\n",
       "      <td>...</td>\n",
       "      <td>0.993111</td>\n",
       "      <td>0.550773</td>\n",
       "      <td>0.400540</td>\n",
       "      <td>0.0</td>\n",
       "      <td>0.288660</td>\n",
       "      <td>0.627907</td>\n",
       "      <td>1.0</td>\n",
       "      <td>0.015473</td>\n",
       "      <td>0.015881</td>\n",
       "      <td>0.590406</td>\n",
       "    </tr>\n",
       "    <tr>\n",
       "      <th>1</th>\n",
       "      <td>1</td>\n",
       "      <td>2</td>\n",
       "      <td>20.0020</td>\n",
       "      <td>0.7002</td>\n",
       "      <td>100.0</td>\n",
       "      <td>0.626985</td>\n",
       "      <td>0.647971</td>\n",
       "      <td>0.634407</td>\n",
       "      <td>0.511781</td>\n",
       "      <td>0.507937</td>\n",
       "      <td>...</td>\n",
       "      <td>0.992395</td>\n",
       "      <td>0.481761</td>\n",
       "      <td>0.351346</td>\n",
       "      <td>0.0</td>\n",
       "      <td>0.608247</td>\n",
       "      <td>0.864693</td>\n",
       "      <td>1.0</td>\n",
       "      <td>0.477968</td>\n",
       "      <td>0.481487</td>\n",
       "      <td>0.588561</td>\n",
       "    </tr>\n",
       "    <tr>\n",
       "      <th>2</th>\n",
       "      <td>1</td>\n",
       "      <td>3</td>\n",
       "      <td>42.0038</td>\n",
       "      <td>0.8409</td>\n",
       "      <td>100.0</td>\n",
       "      <td>0.000000</td>\n",
       "      <td>0.123646</td>\n",
       "      <td>0.271245</td>\n",
       "      <td>0.222481</td>\n",
       "      <td>0.000000</td>\n",
       "      <td>...</td>\n",
       "      <td>0.993056</td>\n",
       "      <td>0.531031</td>\n",
       "      <td>0.423787</td>\n",
       "      <td>0.0</td>\n",
       "      <td>0.278351</td>\n",
       "      <td>0.627907</td>\n",
       "      <td>1.0</td>\n",
       "      <td>0.010764</td>\n",
       "      <td>0.018932</td>\n",
       "      <td>0.586716</td>\n",
       "    </tr>\n",
       "    <tr>\n",
       "      <th>3</th>\n",
       "      <td>1</td>\n",
       "      <td>4</td>\n",
       "      <td>42.0000</td>\n",
       "      <td>0.8400</td>\n",
       "      <td>100.0</td>\n",
       "      <td>0.000000</td>\n",
       "      <td>0.121351</td>\n",
       "      <td>0.266168</td>\n",
       "      <td>0.224835</td>\n",
       "      <td>0.000000</td>\n",
       "      <td>...</td>\n",
       "      <td>0.993194</td>\n",
       "      <td>0.553707</td>\n",
       "      <td>0.401716</td>\n",
       "      <td>0.0</td>\n",
       "      <td>0.268041</td>\n",
       "      <td>0.627907</td>\n",
       "      <td>1.0</td>\n",
       "      <td>0.012782</td>\n",
       "      <td>0.018724</td>\n",
       "      <td>0.584871</td>\n",
       "    </tr>\n",
       "    <tr>\n",
       "      <th>4</th>\n",
       "      <td>1</td>\n",
       "      <td>5</td>\n",
       "      <td>25.0063</td>\n",
       "      <td>0.6207</td>\n",
       "      <td>60.0</td>\n",
       "      <td>0.238089</td>\n",
       "      <td>0.005691</td>\n",
       "      <td>0.033916</td>\n",
       "      <td>0.022025</td>\n",
       "      <td>0.293184</td>\n",
       "      <td>...</td>\n",
       "      <td>0.001405</td>\n",
       "      <td>0.048140</td>\n",
       "      <td>0.920536</td>\n",
       "      <td>0.0</td>\n",
       "      <td>0.030928</td>\n",
       "      <td>0.000000</td>\n",
       "      <td>0.0</td>\n",
       "      <td>0.130172</td>\n",
       "      <td>0.145560</td>\n",
       "      <td>0.583026</td>\n",
       "    </tr>\n",
       "  </tbody>\n",
       "</table>\n",
       "<p>5 rows × 27 columns</p>\n",
       "</div>"
      ],
      "text/plain": [
       "   ID Engine  Cycle  Setting 1  Setting 2  Setting 3  Sensor 1  Sensor 2  \\\n",
       "0          1      1    42.0049     0.8400      100.0  0.000000  0.130347   \n",
       "1          1      2    20.0020     0.7002      100.0  0.626985  0.647971   \n",
       "2          1      3    42.0038     0.8409      100.0  0.000000  0.123646   \n",
       "3          1      4    42.0000     0.8400      100.0  0.000000  0.121351   \n",
       "4          1      5    25.0063     0.6207       60.0  0.238089  0.005691   \n",
       "\n",
       "   Sensor 3  Sensor 4  Sensor 5  ...  Sensor 13  Sensor 14  Sensor 15  \\\n",
       "0  0.272082  0.212586  0.000000  ...   0.993111   0.550773   0.400540   \n",
       "1  0.634407  0.511781  0.507937  ...   0.992395   0.481761   0.351346   \n",
       "2  0.271245  0.222481  0.000000  ...   0.993056   0.531031   0.423787   \n",
       "3  0.266168  0.224835  0.000000  ...   0.993194   0.553707   0.401716   \n",
       "4  0.033916  0.022025  0.293184  ...   0.001405   0.048140   0.920536   \n",
       "\n",
       "   Sensor 16  Sensor 17  Sensor 18  Sensor 19  Sensor 20  Sensor 21  \\\n",
       "0        0.0   0.288660   0.627907        1.0   0.015473   0.015881   \n",
       "1        0.0   0.608247   0.864693        1.0   0.477968   0.481487   \n",
       "2        0.0   0.278351   0.627907        1.0   0.010764   0.018932   \n",
       "3        0.0   0.268041   0.627907        1.0   0.012782   0.018724   \n",
       "4        0.0   0.030928   0.000000        0.0   0.130172   0.145560   \n",
       "\n",
       "   Remaining RUL  \n",
       "0       0.590406  \n",
       "1       0.588561  \n",
       "2       0.586716  \n",
       "3       0.584871  \n",
       "4       0.583026  \n",
       "\n",
       "[5 rows x 27 columns]"
      ]
     },
     "execution_count": 20,
     "metadata": {},
     "output_type": "execute_result"
    }
   ],
   "source": [
    "train.head()"
   ]
  },
  {
   "cell_type": "code",
   "execution_count": 21,
   "metadata": {},
   "outputs": [],
   "source": [
    "# test.head()"
   ]
  },
  {
   "cell_type": "markdown",
   "metadata": {},
   "source": [
    "## Load data"
   ]
  },
  {
   "cell_type": "code",
   "execution_count": 22,
   "metadata": {},
   "outputs": [],
   "source": [
    "sequence_length = 30\n",
    "batch_size = 64\n",
    "epochs = 50\n",
    "input_dim = 21 # Frome sensor 1 to sensor 21"
   ]
  },
  {
   "cell_type": "code",
   "execution_count": 23,
   "metadata": {},
   "outputs": [],
   "source": [
    "data_train = CMAPSSLoaderDataset(train, sequence_length=sequence_length)\n",
    "# data_test = CMAPSSLoaderDataset(test, sequence_length=sequence_length)\n",
    "\n",
    "train_data, validation_data = train_test_split(data_train, test_size=0.2, random_state=42)\n",
    "\n",
    "train_loader = DataLoader(data_train, batch_size=batch_size, shuffle=True)\n",
    "validation_loader = DataLoader(validation_data, batch_size=batch_size, shuffle=True)\n",
    "# validation_loader = DataLoader(data_test, batch_size=batch_size, shuffle=True)"
   ]
  },
  {
   "cell_type": "code",
   "execution_count": 24,
   "metadata": {},
   "outputs": [
    {
     "data": {
      "text/plain": [
       "54028"
      ]
     },
     "execution_count": 24,
     "metadata": {},
     "output_type": "execute_result"
    }
   ],
   "source": [
    "data_train.__len__()"
   ]
  },
  {
   "cell_type": "code",
   "execution_count": 25,
   "metadata": {},
   "outputs": [
    {
     "data": {
      "text/plain": [
       "43222"
      ]
     },
     "execution_count": 25,
     "metadata": {},
     "output_type": "execute_result"
    }
   ],
   "source": [
    "train_data.__len__()"
   ]
  },
  {
   "cell_type": "code",
   "execution_count": 26,
   "metadata": {},
   "outputs": [
    {
     "data": {
      "text/plain": [
       "10806"
      ]
     },
     "execution_count": 26,
     "metadata": {},
     "output_type": "execute_result"
    }
   ],
   "source": [
    "validation_data.__len__()"
   ]
  },
  {
   "cell_type": "code",
   "execution_count": 27,
   "metadata": {},
   "outputs": [
    {
     "data": {
      "text/plain": [
       "845"
      ]
     },
     "execution_count": 27,
     "metadata": {},
     "output_type": "execute_result"
    }
   ],
   "source": [
    "train_loader.__len__()"
   ]
  },
  {
   "cell_type": "code",
   "execution_count": 28,
   "metadata": {},
   "outputs": [
    {
     "data": {
      "text/plain": [
       "169"
      ]
     },
     "execution_count": 28,
     "metadata": {},
     "output_type": "execute_result"
    }
   ],
   "source": [
    "validation_loader.__len__()"
   ]
  },
  {
   "cell_type": "code",
   "execution_count": 29,
   "metadata": {},
   "outputs": [],
   "source": [
    "batch = next(iter(train_loader))\n",
    "# print(batch)\n",
    "seq, target = batch\n",
    "\n",
    "# print(f'seq={seq}, shape={seq.shape}')\n",
    "# print(f'target={target}, shape={target.shape}')"
   ]
  },
  {
   "cell_type": "markdown",
   "metadata": {},
   "source": [
    "## Training model"
   ]
  },
  {
   "cell_type": "code",
   "execution_count": 30,
   "metadata": {},
   "outputs": [],
   "source": [
    "def train(model, train_loader, validation_loader, epochs=epochs, verbose=False):\n",
    "    device = torch.device(\"cuda\" if torch.cuda.is_available() else \"cpu\")\n",
    "\n",
    "    model = model.to(device)\n",
    "\n",
    "    criterion = nn.MSELoss()\n",
    "    optimizer = torch.optim.Adam(model.parameters(), lr=1e-4)\n",
    "\n",
    "    for epoch in range(epochs):\n",
    "        # Train\n",
    "        model.train()\n",
    "        train_loss = 0\n",
    "        for batch in train_loader:\n",
    "            seq, target = batch\n",
    "            seq, target = seq.to(device), target.to(device)\n",
    "\n",
    "            optimizer.zero_grad() # Reset gradient.\n",
    "            output = model(seq) # Tính dự đoán từ mô hình.\n",
    "            loss = criterion(output, target) # Tính giá trị mất mát giữa dự đoán và nhãn thật.\n",
    "            loss.backward() # Tính gradient của mất mát.\n",
    "            optimizer.step() # Cập nhật tham số mô hình dựa trên gradient.\n",
    "            train_loss += loss.item() # Ghi nhận giá trị mất mát\n",
    "        \n",
    "        # Evaluate\n",
    "        val_loss = 0\n",
    "        model.eval()\n",
    "        with torch.no_grad():\n",
    "            for batch in validation_loader:\n",
    "                seq, target = batch\n",
    "                seq, target = seq.to(device), target.to(device)\n",
    "                output = model(seq)\n",
    "                loss = criterion(output, target)\n",
    "                val_loss += loss.item()\n",
    "        \n",
    "        print(f\"Epoch {epoch + 1}: Train Loss = {train_loss / len(train_loader)}, Val Loss = {val_loss / len(validation_loader)}\")"
   ]
  },
  {
   "cell_type": "code",
   "execution_count": 31,
   "metadata": {},
   "outputs": [
    {
     "name": "stdout",
     "output_type": "stream",
     "text": [
      "Epoch 1: Train Loss = 0.034817508648882604, Val Loss = 0.015624588967119095\n",
      "Epoch 2: Train Loss = 0.017229622472408255, Val Loss = 0.012449193183751501\n",
      "Epoch 3: Train Loss = 0.014360070468846863, Val Loss = 0.011622143294882668\n",
      "Epoch 4: Train Loss = 0.01310029538326274, Val Loss = 0.01268911301351246\n",
      "Epoch 5: Train Loss = 0.012613708747980686, Val Loss = 0.011167352911658011\n",
      "Epoch 6: Train Loss = 0.012226242963885943, Val Loss = 0.011419284416461837\n",
      "Epoch 7: Train Loss = 0.012123726553024626, Val Loss = 0.011376392595007046\n",
      "Epoch 8: Train Loss = 0.011843020751102436, Val Loss = 0.011651722064032357\n",
      "Epoch 9: Train Loss = 0.011777598118773226, Val Loss = 0.01091064794330731\n",
      "Epoch 10: Train Loss = 0.011632148014414593, Val Loss = 0.011114668539179676\n",
      "Epoch 11: Train Loss = 0.011555283281886014, Val Loss = 0.01155404008087322\n",
      "Epoch 12: Train Loss = 0.011382562091254447, Val Loss = 0.0107044857050452\n",
      "Epoch 13: Train Loss = 0.011225972591882802, Val Loss = 0.011051372641466073\n",
      "Epoch 14: Train Loss = 0.01111547164618969, Val Loss = 0.010491901661473266\n",
      "Epoch 15: Train Loss = 0.010972735355745935, Val Loss = 0.010499036093876207\n",
      "Epoch 16: Train Loss = 0.010917110908115228, Val Loss = 0.010694241311026396\n",
      "Epoch 17: Train Loss = 0.01083391644997445, Val Loss = 0.011421756934617045\n",
      "Epoch 18: Train Loss = 0.010694309613893371, Val Loss = 0.012136606961080926\n",
      "Epoch 19: Train Loss = 0.010700676214368739, Val Loss = 0.01175382024107071\n",
      "Epoch 20: Train Loss = 0.010684594248570281, Val Loss = 0.010484061799061722\n",
      "Epoch 21: Train Loss = 0.010454601215848909, Val Loss = 0.010171260017923702\n",
      "Epoch 22: Train Loss = 0.010330803891831249, Val Loss = 0.010564394234596977\n",
      "Epoch 23: Train Loss = 0.01040021894670494, Val Loss = 0.010032725925474653\n",
      "Epoch 24: Train Loss = 0.010355667237567126, Val Loss = 0.01028538103072116\n",
      "Epoch 25: Train Loss = 0.010208897506983498, Val Loss = 0.0101338123583053\n",
      "Epoch 26: Train Loss = 0.010125489838244999, Val Loss = 0.010002620201337444\n",
      "Epoch 27: Train Loss = 0.01003958184393288, Val Loss = 0.010150585331838335\n",
      "Epoch 28: Train Loss = 0.010035762298692392, Val Loss = 0.009326192447033949\n",
      "Epoch 29: Train Loss = 0.009793649277699417, Val Loss = 0.010816471254419998\n",
      "Epoch 30: Train Loss = 0.009646509134502717, Val Loss = 0.008636875254427188\n",
      "Epoch 31: Train Loss = 0.009538872067998411, Val Loss = 0.008666137586066708\n",
      "Epoch 32: Train Loss = 0.009330712865828674, Val Loss = 0.008860722272353764\n",
      "Epoch 33: Train Loss = 0.009282477291785841, Val Loss = 0.00846966050328279\n",
      "Epoch 34: Train Loss = 0.009133691451451658, Val Loss = 0.00889090002795472\n",
      "Epoch 35: Train Loss = 0.009016422629797247, Val Loss = 0.008948045931536065\n",
      "Epoch 36: Train Loss = 0.00893856699705212, Val Loss = 0.008026093175667806\n",
      "Epoch 37: Train Loss = 0.008852590345529586, Val Loss = 0.00793975372054785\n",
      "Epoch 38: Train Loss = 0.00869529846251099, Val Loss = 0.008110395121558972\n",
      "Epoch 39: Train Loss = 0.008659465448963925, Val Loss = 0.00925314857089925\n",
      "Epoch 40: Train Loss = 0.00853717788921658, Val Loss = 0.007899479193822343\n",
      "Epoch 41: Train Loss = 0.008448672313353367, Val Loss = 0.007783926626634316\n",
      "Epoch 42: Train Loss = 0.008460795918490584, Val Loss = 0.008283927229359835\n",
      "Epoch 43: Train Loss = 0.008408308088691276, Val Loss = 0.007483168590549358\n",
      "Epoch 44: Train Loss = 0.008278188845087615, Val Loss = 0.007422874403356977\n",
      "Epoch 45: Train Loss = 0.008134854253734182, Val Loss = 0.007426383837605634\n",
      "Epoch 46: Train Loss = 0.008157766684504039, Val Loss = 0.007759953948211741\n",
      "Epoch 47: Train Loss = 0.008037481643810603, Val Loss = 0.00729829891165994\n",
      "Epoch 48: Train Loss = 0.007999279221365526, Val Loss = 0.006910250414735996\n",
      "Epoch 49: Train Loss = 0.007890276321535104, Val Loss = 0.008515526873979872\n",
      "Epoch 50: Train Loss = 0.007833444858906713, Val Loss = 0.00717169125343965\n"
     ]
    }
   ],
   "source": [
    "model = TransformerModel(input_dim=input_dim, d_model=64, nhead=4, num_layers=2, dim_feedforward=256, dropout=0.1)\n",
    "train(model=model, train_loader=train_loader, validation_loader=validation_loader, epochs=epochs)"
   ]
  },
  {
   "cell_type": "markdown",
   "metadata": {},
   "source": []
  },
  {
   "cell_type": "markdown",
   "metadata": {},
   "source": [
    "## Evaluate model"
   ]
  },
  {
   "cell_type": "code",
   "execution_count": null,
   "metadata": {},
   "outputs": [],
   "source": []
  },
  {
   "cell_type": "markdown",
   "metadata": {},
   "source": [
    "## Predict on a batch"
   ]
  },
  {
   "cell_type": "code",
   "execution_count": 32,
   "metadata": {},
   "outputs": [
    {
     "data": {
      "text/plain": [
       "169"
      ]
     },
     "execution_count": 32,
     "metadata": {},
     "output_type": "execute_result"
    }
   ],
   "source": [
    "len(validation_loader)"
   ]
  },
  {
   "cell_type": "code",
   "execution_count": 33,
   "metadata": {},
   "outputs": [
    {
     "name": "stdout",
     "output_type": "stream",
     "text": [
      "actual_predictions: [169.3487516    6.02469123  55.34622785  18.70090355 247.76870012\n",
      " 267.70946884   0.96074983 158.89875656 178.17010236 151.54413384\n",
      "  39.09588258 188.90561533 205.51241785 135.46850193 128.85596576\n",
      " 223.70606107 102.39656553 105.82699659 165.87335098 170.09344685\n",
      " 139.75509912  23.74438332   7.7090326  167.57292247 122.94694313\n",
      " 160.53046989 187.01224184 125.96378833 110.59673387  85.38800102\n",
      "  13.3114245    0.43165486 143.84816891 197.78673166 115.05202344\n",
      "  42.2199868  238.73403472 198.54115093 103.16775146 197.89862251\n",
      " 124.56129214 206.4720915  127.79456949  99.16743138 136.90904617\n",
      " 214.74077219  28.91705365  31.45204696 202.97496527  27.17370186\n",
      "  15.05195055   2.25861184  29.07932527 163.22127771 190.85319781\n",
      " 226.75084263 171.54911017  96.43783247 107.05492076  18.89623199\n",
      " 135.77975136  56.31654219 240.14789444  18.98533722]\n",
      "actual_targets: [148.99999398   6.00000007  54.9999994   13.00000041 300.9999938\n",
      " 172.00000107   2.00000002 131.99999857 164.00000703 223.00000346\n",
      "  48.00000058 139.00000143 238.00000036  65.99999928  55.99999866\n",
      " 260.00000012 139.99999261 129.0000008  232.00000483  96.00000116\n",
      " 170.00000256  18.99999998   9.00000036 137.00000292 123.99999645\n",
      " 232.99999601 166.00000554  77.99999842  87.99999905  54.9999994\n",
      "  32.00000039   1.00000001 108.99999955 134.99999633  84.00000203\n",
      "  18.00000072 312.99998486 155.99999684  90.99999681 110.99999806\n",
      " 146.99999547 166.00000554 144.99999696  66.99999854 127.00000229\n",
      " 166.00000554  32.00000039  29.0000006  225.99999315  18.99999998\n",
      "  16.99999945   6.00000007  29.99999986 199.99999636 100.99999744\n",
      " 181.99999362 137.00000292 105.00000253 123.99999645  27.99999933\n",
      " 119.00000018  59.00000046 181.00000244  18.99999998]\n"
     ]
    },
    {
     "data": {
      "image/png": "[encoded data removed]",
      "text/plain": [
       "<Figure size 1000x600 with 1 Axes>"
      ]
     },
     "metadata": {},
     "output_type": "display_data"
    }
   ],
   "source": [
    "samples, targets = next(iter(validation_loader))\n",
    "device = torch.device(\"cuda\" if torch.cuda.is_available() else \"cpu\")\n",
    "samples, targets = samples.to(device), targets.to(device)\n",
    "\n",
    "model.eval()\n",
    "with torch.no_grad():\n",
    "    predictions = model(samples)\n",
    "\n",
    "# Đưa kết quả về CPU để xử lý\n",
    "samples = samples.cpu()\n",
    "targets = targets.cpu()\n",
    "predictions = predictions.cpu()\n",
    "\n",
    "# Đảo chuẩn hóa dữ liệu\n",
    "rul_min = scaler.data_min_[-1]\n",
    "rul_max = scaler.data_max_[-1]\n",
    "\n",
    "# Đưa predictions và targets về dạng thực tế\n",
    "actual_predictions = predictions.numpy() * (rul_max - rul_min) + rul_min\n",
    "actual_targets = targets.numpy() * (rul_max - rul_min) + rul_min\n",
    "\n",
    "print(f'actual_predictions: {actual_predictions}')\n",
    "print(f'actual_targets: {actual_targets}')\n",
    "\n",
    "# Vẽ biểu đồ so sánh dự đoán và giá trị thực tế\n",
    "plt.figure(figsize=(10, 6))\n",
    "plt.plot(range(len(actual_predictions)), actual_predictions, label=\"Predicted RUL\", marker='o', linestyle='-')\n",
    "plt.plot(range(len(actual_targets)), actual_targets, label=\"Actual RUL\", marker='x', linestyle='--')\n",
    "plt.title(\"Comparison of Predicted and Actual RUL\")\n",
    "plt.xlabel(\"Sample Index\")\n",
    "plt.ylabel(\"Remaining Useful Life (RUL)\")\n",
    "plt.legend()\n",
    "plt.grid(True)\n",
    "plt.show()"
   ]
  },
  {
   "cell_type": "markdown",
   "metadata": {},
   "source": [
    "## Predict on a sample"
   ]
  },
  {
   "cell_type": "code",
   "execution_count": 34,
   "metadata": {},
   "outputs": [
    {
     "data": {
      "text/plain": [
       "torch.Size([64, 30, 21])"
      ]
     },
     "execution_count": 34,
     "metadata": {},
     "output_type": "execute_result"
    }
   ],
   "source": [
    "samples.shape"
   ]
  },
  {
   "cell_type": "code",
   "execution_count": 35,
   "metadata": {},
   "outputs": [
    {
     "data": {
      "text/plain": [
       "tensor([0.2749, 0.0111, 0.1015, 0.0240, 0.5554, 0.3173, 0.0037, 0.2435, 0.3026,\n",
       "        0.4114, 0.0886, 0.2565, 0.4391, 0.1218, 0.1033, 0.4797, 0.2583, 0.2380,\n",
       "        0.4280, 0.1771, 0.3137, 0.0351, 0.0166, 0.2528, 0.2288, 0.4299, 0.3063,\n",
       "        0.1439, 0.1624, 0.1015, 0.0590, 0.0018, 0.2011, 0.2491, 0.1550, 0.0332,\n",
       "        0.5775, 0.2878, 0.1679, 0.2048, 0.2712, 0.3063, 0.2675, 0.1236, 0.2343,\n",
       "        0.3063, 0.0590, 0.0535, 0.4170, 0.0351, 0.0314, 0.0111, 0.0554, 0.3690,\n",
       "        0.1863, 0.3358, 0.2528, 0.1937, 0.2288, 0.0517, 0.2196, 0.1089, 0.3339,\n",
       "        0.0351])"
      ]
     },
     "execution_count": 35,
     "metadata": {},
     "output_type": "execute_result"
    }
   ],
   "source": [
    "targets"
   ]
  },
  {
   "cell_type": "code",
   "execution_count": 36,
   "metadata": {},
   "outputs": [
    {
     "data": {
      "text/plain": [
       "torch.Size([64])"
      ]
     },
     "execution_count": 36,
     "metadata": {},
     "output_type": "execute_result"
    }
   ],
   "source": [
    "targets.shape"
   ]
  },
  {
   "cell_type": "code",
   "execution_count": 37,
   "metadata": {},
   "outputs": [
    {
     "name": "stdout",
     "output_type": "stream",
     "text": [
      "torch.Size([1, 30, 21])\n",
      "tensor([0.2749])\n"
     ]
    }
   ],
   "source": [
    "idx = 0\n",
    "sample = samples[idx].unsqueeze(0)\n",
    "target = targets[idx].unsqueeze(0)\n",
    "\n",
    "print(sample.shape)\n",
    "print(target)"
   ]
  },
  {
   "cell_type": "code",
   "execution_count": 38,
   "metadata": {},
   "outputs": [
    {
     "name": "stdout",
     "output_type": "stream",
     "text": [
      "Prediction: tensor([0.3125])\n",
      "Target: tensor([0.2749])\n",
      "Giá trị RUL thực tế 18.999999977648258\n",
      "Giá trị RUL dự đoán 121.48381644854089\n"
     ]
    }
   ],
   "source": [
    "model.eval()\n",
    "with torch.no_grad():\n",
    "    prediction = model(sample)\n",
    "\n",
    "sample = sample.cpu()\n",
    "target = target.cpu()\n",
    "prediction = prediction.cpu()\n",
    "\n",
    "print(f'Prediction: {prediction}')\n",
    "print(f'Target: {target}')\n",
    "\n",
    "rul_min = scaler.data_min_[-1]\n",
    "rul_max = scaler.data_max_[-1]\n",
    "\n",
    "prediction = predictions.numpy() * (rul_max - rul_min) + rul_min\n",
    "actual_prediction = sum(prediction)/len(prediction)\n",
    "actual_target = targets.numpy() * (rul_max - rul_min) + rul_min\n",
    "\n",
    "# print(f'Giá trị RUL thực tế {actual_target}')\n",
    "print(f'Giá trị RUL thực tế {actual_target[-1]}')\n",
    "print(f'Giá trị RUL dự đoán {actual_prediction}')"
   ]
  },
  {
   "cell_type": "code",
   "execution_count": 39,
   "metadata": {},
   "outputs": [
    {
     "data": {
      "text/plain": [
       "array([169.3487516 ,   6.02469123,  55.34622785,  18.70090355,\n",
       "       247.76870012, 267.70946884,   0.96074983, 158.89875656,\n",
       "       178.17010236, 151.54413384,  39.09588258, 188.90561533,\n",
       "       205.51241785, 135.46850193, 128.85596576, 223.70606107,\n",
       "       102.39656553, 105.82699659, 165.87335098, 170.09344685,\n",
       "       139.75509912,  23.74438332,   7.7090326 , 167.57292247,\n",
       "       122.94694313, 160.53046989, 187.01224184, 125.96378833,\n",
       "       110.59673387,  85.38800102,  13.3114245 ,   0.43165486,\n",
       "       143.84816891, 197.78673166, 115.05202344,  42.2199868 ,\n",
       "       238.73403472, 198.54115093, 103.16775146, 197.89862251,\n",
       "       124.56129214, 206.4720915 , 127.79456949,  99.16743138,\n",
       "       136.90904617, 214.74077219,  28.91705365,  31.45204696,\n",
       "       202.97496527,  27.17370186,  15.05195055,   2.25861184,\n",
       "        29.07932527, 163.22127771, 190.85319781, 226.75084263,\n",
       "       171.54911017,  96.43783247, 107.05492076,  18.89623199,\n",
       "       135.77975136,  56.31654219, 240.14789444,  18.98533722])"
      ]
     },
     "execution_count": 39,
     "metadata": {},
     "output_type": "execute_result"
    }
   ],
   "source": [
    "prediction"
   ]
  },
  {
   "cell_type": "code",
   "execution_count": 40,
   "metadata": {},
   "outputs": [
    {
     "data": {
      "text/plain": [
       "tensor([0.2749])"
      ]
     },
     "execution_count": 40,
     "metadata": {},
     "output_type": "execute_result"
    }
   ],
   "source": [
    "target"
   ]
  }
 ],
 "metadata": {
  "kernelspec": {
   "display_name": ".venv",
   "language": "python",
   "name": "python3"
  },
  "language_info": {
   "codemirror_mode": {
    "name": "ipython",
    "version": 3
   },
   "file_extension": ".py",
   "mimetype": "text/x-python",
   "name": "python",
   "nbconvert_exporter": "python",
   "pygments_lexer": "ipython3",
   "version": "3.12.7"
  }
 },
 "nbformat": 4,
 "nbformat_minor": 2
}
