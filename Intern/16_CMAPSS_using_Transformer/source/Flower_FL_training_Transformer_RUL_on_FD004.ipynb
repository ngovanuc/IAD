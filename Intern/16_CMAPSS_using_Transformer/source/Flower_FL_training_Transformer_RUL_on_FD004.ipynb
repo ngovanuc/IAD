{
 "cells": [
  {
   "cell_type": "markdown",
   "metadata": {
    "id": "myeLqXC4KTGJ"
   },
   "source": [
    "## Step 0: Preparation"
   ]
  },
  {
   "cell_type": "code",
   "execution_count": null,
   "metadata": {
    "colab": {
     "base_uri": "https://localhost:8080/"
    },
    "executionInfo": {
     "elapsed": 31165,
     "status": "ok",
     "timestamp": 1733067132346,
     "user": {
      "displayName": "ÚC NGÔ VĂN",
      "userId": "17995020128839883394"
     },
     "user_tz": -420
    },
    "id": "fhGO7YWrK4AJ",
    "outputId": "5bfbf286-ba72-4f10-b1c2-cffbca943fe1"
   },
   "outputs": [
    {
     "name": "stdout",
     "output_type": "stream",
     "text": [
      "\u001b[2K   \u001b[90m━━━━━━━━━━━━━━━━━━━━━━━━━━━━━━━━━━━━━━━━\u001b[0m \u001b[32m65.1/65.1 MB\u001b[0m \u001b[31m11.0 MB/s\u001b[0m eta \u001b[36m0:00:00\u001b[0m\n",
      "\u001b[2K   \u001b[90m━━━━━━━━━━━━━━━━━━━━━━━━━━━━━━━━━━━━━━━━\u001b[0m \u001b[32m40.8/40.8 MB\u001b[0m \u001b[31m18.6 MB/s\u001b[0m eta \u001b[36m0:00:00\u001b[0m\n",
      "\u001b[2K   \u001b[90m━━━━━━━━━━━━━━━━━━━━━━━━━━━━━━━━━━━━━━━━\u001b[0m \u001b[32m3.9/3.9 MB\u001b[0m \u001b[31m83.7 MB/s\u001b[0m eta \u001b[36m0:00:00\u001b[0m\n",
      "\u001b[2K   \u001b[90m━━━━━━━━━━━━━━━━━━━━━━━━━━━━━━━━━━━━━━━━\u001b[0m \u001b[32m480.6/480.6 kB\u001b[0m \u001b[31m34.5 MB/s\u001b[0m eta \u001b[36m0:00:00\u001b[0m\n",
      "\u001b[2K   \u001b[90m━━━━━━━━━━━━━━━━━━━━━━━━━━━━━━━━━━━━━━━━\u001b[0m \u001b[32m179.3/179.3 kB\u001b[0m \u001b[31m12.5 MB/s\u001b[0m eta \u001b[36m0:00:00\u001b[0m\n",
      "\u001b[2K   \u001b[90m━━━━━━━━━━━━━━━━━━━━━━━━━━━━━━━━━━━━━━━━\u001b[0m \u001b[32m5.6/5.6 MB\u001b[0m \u001b[31m89.0 MB/s\u001b[0m eta \u001b[36m0:00:00\u001b[0m\n",
      "\u001b[2K   \u001b[90m━━━━━━━━━━━━━━━━━━━━━━━━━━━━━━━━━━━━━━━━\u001b[0m \u001b[32m2.3/2.3 MB\u001b[0m \u001b[31m75.3 MB/s\u001b[0m eta \u001b[36m0:00:00\u001b[0m\n",
      "\u001b[2K   \u001b[90m━━━━━━━━━━━━━━━━━━━━━━━━━━━━━━━━━━━━━━━━\u001b[0m \u001b[32m47.3/47.3 kB\u001b[0m \u001b[31m3.7 MB/s\u001b[0m eta \u001b[36m0:00:00\u001b[0m\n",
      "\u001b[2K   \u001b[90m━━━━━━━━━━━━━━━━━━━━━━━━━━━━━━━━━━━━━━━━\u001b[0m \u001b[32m512.2/512.2 kB\u001b[0m \u001b[31m35.0 MB/s\u001b[0m eta \u001b[36m0:00:00\u001b[0m\n",
      "\u001b[2K   \u001b[90m━━━━━━━━━━━━━━━━━━━━━━━━━━━━━━━━━━━━━━━━\u001b[0m \u001b[32m78.7/78.7 kB\u001b[0m \u001b[31m6.4 MB/s\u001b[0m eta \u001b[36m0:00:00\u001b[0m\n",
      "\u001b[2K   \u001b[90m━━━━━━━━━━━━━━━━━━━━━━━━━━━━━━━━━━━━━━━━\u001b[0m \u001b[32m116.3/116.3 kB\u001b[0m \u001b[31m11.9 MB/s\u001b[0m eta \u001b[36m0:00:00\u001b[0m\n",
      "\u001b[2K   \u001b[90m━━━━━━━━━━━━━━━━━━━━━━━━━━━━━━━━━━━━━━━━\u001b[0m \u001b[32m134.8/134.8 kB\u001b[0m \u001b[31m11.7 MB/s\u001b[0m eta \u001b[36m0:00:00\u001b[0m\n",
      "\u001b[2K   \u001b[90m━━━━━━━━━━━━━━━━━━━━━━━━━━━━━━━━━━━━━━━━\u001b[0m \u001b[32m194.1/194.1 kB\u001b[0m \u001b[31m15.6 MB/s\u001b[0m eta \u001b[36m0:00:00\u001b[0m\n",
      "\u001b[?25h\u001b[31mERROR: pip's dependency resolver does not currently take into account all the packages that are installed. This behaviour is the source of the following dependency conflicts.\n",
      "gcsfs 2024.10.0 requires fsspec==2024.10.0, but you have fsspec 2024.9.0 which is incompatible.\u001b[0m\u001b[31m\n",
      "\u001b[0m"
     ]
    }
   ],
   "source": [
    "!pip install -qqq flwr[simulation] flwr-datasets[vision] torch torchvision matplotlib"
   ]
  },
  {
   "cell_type": "code",
   "execution_count": null,
   "metadata": {
    "id": "SJJgyLtkG1Lp"
   },
   "outputs": [],
   "source": [
    "import os\n",
    "os.environ[\"RAY_DEDUP_LOGS\"] = \"0\""
   ]
  },
  {
   "cell_type": "code",
   "execution_count": null,
   "metadata": {
    "colab": {
     "base_uri": "https://localhost:8080/"
    },
    "executionInfo": {
     "elapsed": 23172,
     "status": "ok",
     "timestamp": 1733067155514,
     "user": {
      "displayName": "ÚC NGÔ VĂN",
      "userId": "17995020128839883394"
     },
     "user_tz": -420
    },
    "id": "V5IRPs6zKTGK",
    "outputId": "5f523695-be02-4459-9094-f26d8a966af3"
   },
   "outputs": [
    {
     "name": "stdout",
     "output_type": "stream",
     "text": [
      "Training on cuda\n",
      "Flower 1.13.1 / PyTorch 2.5.1+cu121\n"
     ]
    }
   ],
   "source": [
    "from collections import OrderedDict\n",
    "from typing import List, Tuple\n",
    "\n",
    "import matplotlib.pyplot as plt\n",
    "import numpy as np\n",
    "import pandas as pd\n",
    "import torch\n",
    "import torch.nn as nn\n",
    "from torch.utils.data import random_split\n",
    "import torch.nn.functional as F\n",
    "import torchvision.transforms as transforms\n",
    "from datasets.utils.logging import disable_progress_bar\n",
    "from torch.utils.data import DataLoader\n",
    "\n",
    "from torch.utils.data import DataLoader, Dataset\n",
    "from sklearn.preprocessing import MinMaxScaler\n",
    "from sklearn.model_selection import train_test_split\n",
    "\n",
    "import warnings\n",
    "warnings.filterwarnings('ignore')\n",
    "\n",
    "import seaborn as sns\n",
    "\n",
    "import flwr\n",
    "from flwr.client import Client, ClientApp, NumPyClient\n",
    "from flwr.common import Metrics, Context\n",
    "from flwr.server import ServerApp, ServerConfig, ServerAppComponents\n",
    "from flwr.server.strategy import FedAvg\n",
    "from flwr.simulation import run_simulation\n",
    "# from flwr_datasets import FederatedDataset\n",
    "\n",
    "DEVICE = torch.device(\"cuda\" if torch.cuda.is_available() else \"cpu\")  # Try \"cuda\" to train on GPU\n",
    "print(f\"Training on {DEVICE}\")\n",
    "print(f\"Flower {flwr.__version__} / PyTorch {torch.__version__}\")\n",
    "disable_progress_bar()"
   ]
  },
  {
   "cell_type": "markdown",
   "metadata": {
    "id": "O8PgUpBjKTGN"
   },
   "source": [
    "#### Load dataset and preprocessing"
   ]
  },
  {
   "cell_type": "code",
   "execution_count": null,
   "metadata": {
    "colab": {
     "base_uri": "https://localhost:8080/"
    },
    "executionInfo": {
     "elapsed": 19654,
     "status": "ok",
     "timestamp": 1733067175162,
     "user": {
      "displayName": "ÚC NGÔ VĂN",
      "userId": "17995020128839883394"
     },
     "user_tz": -420
    },
    "id": "kKnxJxEeKglh",
    "outputId": "5ed64ae9-e0bb-4a70-8dc2-d9d14f3dddd3"
   },
   "outputs": [
    {
     "name": "stdout",
     "output_type": "stream",
     "text": [
      "Mounted at /content/drive\n"
     ]
    }
   ],
   "source": [
    "# Khi chạy bằng colab\n",
    "from google.colab import drive\n",
    "drive.mount('/content/drive')"
   ]
  },
  {
   "cell_type": "code",
   "execution_count": null,
   "metadata": {
    "id": "27dPGPo2KTGN"
   },
   "outputs": [],
   "source": [
    "# train_1 = \"E:/IAD/Intern/16_CMAPSS_using_Transformer/data/train_FD001.txt\"\n",
    "train_4 = \"/content/drive/MyDrive/Colab Notebooks/RUL_prediction_using_Transformer/train_FD004.txt\"\n",
    "index_names = ['ID Engine', 'Cycle']\n",
    "setting_names = ['Setting 1', 'Setting 2', 'Setting 3']\n",
    "sensor_names = ['Sensor {}'.format(i) for i in range(1, 22)]\n",
    "column_names = index_names + setting_names + sensor_names\n",
    "\n",
    "train_4 = pd.read_csv(train_4, sep=' ', header=None)\n",
    "train_4.drop([26, 27], axis=1, inplace=True)\n",
    "train_4.columns = column_names\n",
    "\n",
    "train_4['Remaining RUL'] = ''"
   ]
  },
  {
   "cell_type": "code",
   "execution_count": null,
   "metadata": {
    "colab": {
     "base_uri": "https://localhost:8080/"
    },
    "executionInfo": {
     "elapsed": 2713,
     "status": "ok",
     "timestamp": 1733067179102,
     "user": {
      "displayName": "ÚC NGÔ VĂN",
      "userId": "17995020128839883394"
     },
     "user_tz": -420
    },
    "id": "gzAGMyvDwk1_",
    "outputId": "80c7675d-5fc3-4005-fc51-f8628f4ce921"
   },
   "outputs": [
    {
     "name": "stderr",
     "output_type": "stream",
     "text": [
      "/usr/local/lib/python3.10/dist-packages/ipykernel/ipkernel.py:283: DeprecationWarning: `should_run_async` will not call `transform_cell` automatically in the future. Please pass the result to `transformed_cell` argument and any exception that happen during thetransform in `preprocessing_exc_tuple` in IPython 7.17 and above.\n",
      "  and should_run_async(code)\n"
     ]
    },
    {
     "name": "stdout",
     "output_type": "stream",
     "text": [
      "Drive already mounted at /content/drive; to attempt to forcibly remount, call drive.mount(\"/content/drive\", force_remount=True).\n"
     ]
    }
   ],
   "source": [
    "from google.colab import drive\n",
    "drive.mount('/content/drive')"
   ]
  },
  {
   "cell_type": "code",
   "execution_count": null,
   "metadata": {
    "id": "FBI0Hh09KTGN"
   },
   "outputs": [],
   "source": [
    "# remaining_rul = max_rul - cycle\n",
    "max_cycle = train_4.groupby('ID Engine').count()\n",
    "for idx in range(len(train_4)):\n",
    "    train_4.loc[idx, 'Remaining RUL'] = max_cycle.loc[train_4.loc[idx, 'ID Engine'], 'Cycle']\n",
    "train_4['Remaining RUL'] = train_4['Remaining RUL'] - train_4['Cycle']"
   ]
  },
  {
   "cell_type": "code",
   "execution_count": null,
   "metadata": {
    "colab": {
     "base_uri": "https://localhost:8080/",
     "height": 309
    },
    "executionInfo": {
     "elapsed": 17,
     "status": "ok",
     "timestamp": 1733067198239,
     "user": {
      "displayName": "ÚC NGÔ VĂN",
      "userId": "17995020128839883394"
     },
     "user_tz": -420
    },
    "id": "0681BloBKTGN",
    "outputId": "2f2ef04b-19c6-44e4-a4f1-3327c8eaeb0f"
   },
   "outputs": [
    {
     "name": "stderr",
     "output_type": "stream",
     "text": [
      "/usr/local/lib/python3.10/dist-packages/ipykernel/ipkernel.py:283: DeprecationWarning: `should_run_async` will not call `transform_cell` automatically in the future. Please pass the result to `transformed_cell` argument and any exception that happen during thetransform in `preprocessing_exc_tuple` in IPython 7.17 and above.\n",
      "  and should_run_async(code)\n"
     ]
    },
    {
     "data": {
      "application/vnd.google.colaboratory.intrinsic+json": {
       "type": "dataframe",
       "variable_name": "train_4"
      },
      "text/html": [
       "\n",
       "  <div id=\"df-8ed33fa2-07a0-4496-a026-b6c49608c7db\" class=\"colab-df-container\">\n",
       "    <div>\n",
       "<style scoped>\n",
       "    .dataframe tbody tr th:only-of-type {\n",
       "        vertical-align: middle;\n",
       "    }\n",
       "\n",
       "    .dataframe tbody tr th {\n",
       "        vertical-align: top;\n",
       "    }\n",
       "\n",
       "    .dataframe thead th {\n",
       "        text-align: right;\n",
       "    }\n",
       "</style>\n",
       "<table border=\"1\" class=\"dataframe\">\n",
       "  <thead>\n",
       "    <tr style=\"text-align: right;\">\n",
       "      <th></th>\n",
       "      <th>ID Engine</th>\n",
       "      <th>Cycle</th>\n",
       "      <th>Setting 1</th>\n",
       "      <th>Setting 2</th>\n",
       "      <th>Setting 3</th>\n",
       "      <th>Sensor 1</th>\n",
       "      <th>Sensor 2</th>\n",
       "      <th>Sensor 3</th>\n",
       "      <th>Sensor 4</th>\n",
       "      <th>Sensor 5</th>\n",
       "      <th>...</th>\n",
       "      <th>Sensor 13</th>\n",
       "      <th>Sensor 14</th>\n",
       "      <th>Sensor 15</th>\n",
       "      <th>Sensor 16</th>\n",
       "      <th>Sensor 17</th>\n",
       "      <th>Sensor 18</th>\n",
       "      <th>Sensor 19</th>\n",
       "      <th>Sensor 20</th>\n",
       "      <th>Sensor 21</th>\n",
       "      <th>Remaining RUL</th>\n",
       "    </tr>\n",
       "  </thead>\n",
       "  <tbody>\n",
       "    <tr>\n",
       "      <th>0</th>\n",
       "      <td>1</td>\n",
       "      <td>1</td>\n",
       "      <td>42.0049</td>\n",
       "      <td>0.8400</td>\n",
       "      <td>100.0</td>\n",
       "      <td>445.00</td>\n",
       "      <td>549.68</td>\n",
       "      <td>1343.43</td>\n",
       "      <td>1112.93</td>\n",
       "      <td>3.91</td>\n",
       "      <td>...</td>\n",
       "      <td>2387.99</td>\n",
       "      <td>8074.83</td>\n",
       "      <td>9.3335</td>\n",
       "      <td>0.02</td>\n",
       "      <td>330</td>\n",
       "      <td>2212</td>\n",
       "      <td>100.00</td>\n",
       "      <td>10.62</td>\n",
       "      <td>6.3670</td>\n",
       "      <td>320</td>\n",
       "    </tr>\n",
       "    <tr>\n",
       "      <th>1</th>\n",
       "      <td>1</td>\n",
       "      <td>2</td>\n",
       "      <td>20.0020</td>\n",
       "      <td>0.7002</td>\n",
       "      <td>100.0</td>\n",
       "      <td>491.19</td>\n",
       "      <td>606.07</td>\n",
       "      <td>1477.61</td>\n",
       "      <td>1237.50</td>\n",
       "      <td>9.35</td>\n",
       "      <td>...</td>\n",
       "      <td>2387.73</td>\n",
       "      <td>8046.13</td>\n",
       "      <td>9.1913</td>\n",
       "      <td>0.02</td>\n",
       "      <td>361</td>\n",
       "      <td>2324</td>\n",
       "      <td>100.00</td>\n",
       "      <td>24.37</td>\n",
       "      <td>14.6552</td>\n",
       "      <td>319</td>\n",
       "    </tr>\n",
       "    <tr>\n",
       "      <th>2</th>\n",
       "      <td>1</td>\n",
       "      <td>3</td>\n",
       "      <td>42.0038</td>\n",
       "      <td>0.8409</td>\n",
       "      <td>100.0</td>\n",
       "      <td>445.00</td>\n",
       "      <td>548.95</td>\n",
       "      <td>1343.12</td>\n",
       "      <td>1117.05</td>\n",
       "      <td>3.91</td>\n",
       "      <td>...</td>\n",
       "      <td>2387.97</td>\n",
       "      <td>8066.62</td>\n",
       "      <td>9.4007</td>\n",
       "      <td>0.02</td>\n",
       "      <td>329</td>\n",
       "      <td>2212</td>\n",
       "      <td>100.00</td>\n",
       "      <td>10.48</td>\n",
       "      <td>6.4213</td>\n",
       "      <td>318</td>\n",
       "    </tr>\n",
       "    <tr>\n",
       "      <th>3</th>\n",
       "      <td>1</td>\n",
       "      <td>4</td>\n",
       "      <td>42.0000</td>\n",
       "      <td>0.8400</td>\n",
       "      <td>100.0</td>\n",
       "      <td>445.00</td>\n",
       "      <td>548.70</td>\n",
       "      <td>1341.24</td>\n",
       "      <td>1118.03</td>\n",
       "      <td>3.91</td>\n",
       "      <td>...</td>\n",
       "      <td>2388.02</td>\n",
       "      <td>8076.05</td>\n",
       "      <td>9.3369</td>\n",
       "      <td>0.02</td>\n",
       "      <td>328</td>\n",
       "      <td>2212</td>\n",
       "      <td>100.00</td>\n",
       "      <td>10.54</td>\n",
       "      <td>6.4176</td>\n",
       "      <td>317</td>\n",
       "    </tr>\n",
       "    <tr>\n",
       "      <th>4</th>\n",
       "      <td>1</td>\n",
       "      <td>5</td>\n",
       "      <td>25.0063</td>\n",
       "      <td>0.6207</td>\n",
       "      <td>60.0</td>\n",
       "      <td>462.54</td>\n",
       "      <td>536.10</td>\n",
       "      <td>1255.23</td>\n",
       "      <td>1033.59</td>\n",
       "      <td>7.05</td>\n",
       "      <td>...</td>\n",
       "      <td>2028.08</td>\n",
       "      <td>7865.80</td>\n",
       "      <td>10.8366</td>\n",
       "      <td>0.02</td>\n",
       "      <td>305</td>\n",
       "      <td>1915</td>\n",
       "      <td>84.93</td>\n",
       "      <td>14.03</td>\n",
       "      <td>8.6754</td>\n",
       "      <td>316</td>\n",
       "    </tr>\n",
       "  </tbody>\n",
       "</table>\n",
       "<p>5 rows × 27 columns</p>\n",
       "</div>\n",
       "    <div class=\"colab-df-buttons\">\n",
       "\n",
       "  <div class=\"colab-df-container\">\n",
       "    <button class=\"colab-df-convert\" onclick=\"convertToInteractive('df-8ed33fa2-07a0-4496-a026-b6c49608c7db')\"\n",
       "            title=\"Convert this dataframe to an interactive table.\"\n",
       "            style=\"display:none;\">\n",
       "\n",
       "  <svg xmlns=\"http://www.w3.org/2000/svg\" height=\"24px\" viewBox=\"0 -960 960 960\">\n",
       "    <path d=\"M120-120v-720h720v720H120Zm60-500h600v-160H180v160Zm220 220h160v-160H400v160Zm0 220h160v-160H400v160ZM180-400h160v-160H180v160Zm440 0h160v-160H620v160ZM180-180h160v-160H180v160Zm440 0h160v-160H620v160Z\"/>\n",
       "  </svg>\n",
       "    </button>\n",
       "\n",
       "  <style>\n",
       "    .colab-df-container {\n",
       "      display:flex;\n",
       "      gap: 12px;\n",
       "    }\n",
       "\n",
       "    .colab-df-convert {\n",
       "      background-color: #E8F0FE;\n",
       "      border: none;\n",
       "      border-radius: 50%;\n",
       "      cursor: pointer;\n",
       "      display: none;\n",
       "      fill: #1967D2;\n",
       "      height: 32px;\n",
       "      padding: 0 0 0 0;\n",
       "      width: 32px;\n",
       "    }\n",
       "\n",
       "    .colab-df-convert:hover {\n",
       "      background-color: #E2EBFA;\n",
       "      box-shadow: 0px 1px 2px rgba(60, 64, 67, 0.3), 0px 1px 3px 1px rgba(60, 64, 67, 0.15);\n",
       "      fill: #174EA6;\n",
       "    }\n",
       "\n",
       "    .colab-df-buttons div {\n",
       "      margin-bottom: 4px;\n",
       "    }\n",
       "\n",
       "    [theme=dark] .colab-df-convert {\n",
       "      background-color: #3B4455;\n",
       "      fill: #D2E3FC;\n",
       "    }\n",
       "\n",
       "    [theme=dark] .colab-df-convert:hover {\n",
       "      background-color: #434B5C;\n",
       "      box-shadow: 0px 1px 3px 1px rgba(0, 0, 0, 0.15);\n",
       "      filter: drop-shadow(0px 1px 2px rgba(0, 0, 0, 0.3));\n",
       "      fill: #FFFFFF;\n",
       "    }\n",
       "  </style>\n",
       "\n",
       "    <script>\n",
       "      const buttonEl =\n",
       "        document.querySelector('#df-8ed33fa2-07a0-4496-a026-b6c49608c7db button.colab-df-convert');\n",
       "      buttonEl.style.display =\n",
       "        google.colab.kernel.accessAllowed ? 'block' : 'none';\n",
       "\n",
       "      async function convertToInteractive(key) {\n",
       "        const element = document.querySelector('#df-8ed33fa2-07a0-4496-a026-b6c49608c7db');\n",
       "        const dataTable =\n",
       "          await google.colab.kernel.invokeFunction('convertToInteractive',\n",
       "                                                    [key], {});\n",
       "        if (!dataTable) return;\n",
       "\n",
       "        const docLinkHtml = 'Like what you see? Visit the ' +\n",
       "          '<a target=\"_blank\" href=https://colab.research.google.com/notebooks/data_table.ipynb>data table notebook</a>'\n",
       "          + ' to learn more about interactive tables.';\n",
       "        element.innerHTML = '';\n",
       "        dataTable['output_type'] = 'display_data';\n",
       "        await google.colab.output.renderOutput(dataTable, element);\n",
       "        const docLink = document.createElement('div');\n",
       "        docLink.innerHTML = docLinkHtml;\n",
       "        element.appendChild(docLink);\n",
       "      }\n",
       "    </script>\n",
       "  </div>\n",
       "\n",
       "\n",
       "<div id=\"df-f65243d2-3b27-4923-89e8-bf8eb2d37c20\">\n",
       "  <button class=\"colab-df-quickchart\" onclick=\"quickchart('df-f65243d2-3b27-4923-89e8-bf8eb2d37c20')\"\n",
       "            title=\"Suggest charts\"\n",
       "            style=\"display:none;\">\n",
       "\n",
       "<svg xmlns=\"http://www.w3.org/2000/svg\" height=\"24px\"viewBox=\"0 0 24 24\"\n",
       "     width=\"24px\">\n",
       "    <g>\n",
       "        <path d=\"M19 3H5c-1.1 0-2 .9-2 2v14c0 1.1.9 2 2 2h14c1.1 0 2-.9 2-2V5c0-1.1-.9-2-2-2zM9 17H7v-7h2v7zm4 0h-2V7h2v10zm4 0h-2v-4h2v4z\"/>\n",
       "    </g>\n",
       "</svg>\n",
       "  </button>\n",
       "\n",
       "<style>\n",
       "  .colab-df-quickchart {\n",
       "      --bg-color: #E8F0FE;\n",
       "      --fill-color: #1967D2;\n",
       "      --hover-bg-color: #E2EBFA;\n",
       "      --hover-fill-color: #174EA6;\n",
       "      --disabled-fill-color: #AAA;\n",
       "      --disabled-bg-color: #DDD;\n",
       "  }\n",
       "\n",
       "  [theme=dark] .colab-df-quickchart {\n",
       "      --bg-color: #3B4455;\n",
       "      --fill-color: #D2E3FC;\n",
       "      --hover-bg-color: #434B5C;\n",
       "      --hover-fill-color: #FFFFFF;\n",
       "      --disabled-bg-color: #3B4455;\n",
       "      --disabled-fill-color: #666;\n",
       "  }\n",
       "\n",
       "  .colab-df-quickchart {\n",
       "    background-color: var(--bg-color);\n",
       "    border: none;\n",
       "    border-radius: 50%;\n",
       "    cursor: pointer;\n",
       "    display: none;\n",
       "    fill: var(--fill-color);\n",
       "    height: 32px;\n",
       "    padding: 0;\n",
       "    width: 32px;\n",
       "  }\n",
       "\n",
       "  .colab-df-quickchart:hover {\n",
       "    background-color: var(--hover-bg-color);\n",
       "    box-shadow: 0 1px 2px rgba(60, 64, 67, 0.3), 0 1px 3px 1px rgba(60, 64, 67, 0.15);\n",
       "    fill: var(--button-hover-fill-color);\n",
       "  }\n",
       "\n",
       "  .colab-df-quickchart-complete:disabled,\n",
       "  .colab-df-quickchart-complete:disabled:hover {\n",
       "    background-color: var(--disabled-bg-color);\n",
       "    fill: var(--disabled-fill-color);\n",
       "    box-shadow: none;\n",
       "  }\n",
       "\n",
       "  .colab-df-spinner {\n",
       "    border: 2px solid var(--fill-color);\n",
       "    border-color: transparent;\n",
       "    border-bottom-color: var(--fill-color);\n",
       "    animation:\n",
       "      spin 1s steps(1) infinite;\n",
       "  }\n",
       "\n",
       "  @keyframes spin {\n",
       "    0% {\n",
       "      border-color: transparent;\n",
       "      border-bottom-color: var(--fill-color);\n",
       "      border-left-color: var(--fill-color);\n",
       "    }\n",
       "    20% {\n",
       "      border-color: transparent;\n",
       "      border-left-color: var(--fill-color);\n",
       "      border-top-color: var(--fill-color);\n",
       "    }\n",
       "    30% {\n",
       "      border-color: transparent;\n",
       "      border-left-color: var(--fill-color);\n",
       "      border-top-color: var(--fill-color);\n",
       "      border-right-color: var(--fill-color);\n",
       "    }\n",
       "    40% {\n",
       "      border-color: transparent;\n",
       "      border-right-color: var(--fill-color);\n",
       "      border-top-color: var(--fill-color);\n",
       "    }\n",
       "    60% {\n",
       "      border-color: transparent;\n",
       "      border-right-color: var(--fill-color);\n",
       "    }\n",
       "    80% {\n",
       "      border-color: transparent;\n",
       "      border-right-color: var(--fill-color);\n",
       "      border-bottom-color: var(--fill-color);\n",
       "    }\n",
       "    90% {\n",
       "      border-color: transparent;\n",
       "      border-bottom-color: var(--fill-color);\n",
       "    }\n",
       "  }\n",
       "</style>\n",
       "\n",
       "  <script>\n",
       "    async function quickchart(key) {\n",
       "      const quickchartButtonEl =\n",
       "        document.querySelector('#' + key + ' button');\n",
       "      quickchartButtonEl.disabled = true;  // To prevent multiple clicks.\n",
       "      quickchartButtonEl.classList.add('colab-df-spinner');\n",
       "      try {\n",
       "        const charts = await google.colab.kernel.invokeFunction(\n",
       "            'suggestCharts', [key], {});\n",
       "      } catch (error) {\n",
       "        console.error('Error during call to suggestCharts:', error);\n",
       "      }\n",
       "      quickchartButtonEl.classList.remove('colab-df-spinner');\n",
       "      quickchartButtonEl.classList.add('colab-df-quickchart-complete');\n",
       "    }\n",
       "    (() => {\n",
       "      let quickchartButtonEl =\n",
       "        document.querySelector('#df-f65243d2-3b27-4923-89e8-bf8eb2d37c20 button');\n",
       "      quickchartButtonEl.style.display =\n",
       "        google.colab.kernel.accessAllowed ? 'block' : 'none';\n",
       "    })();\n",
       "  </script>\n",
       "</div>\n",
       "\n",
       "    </div>\n",
       "  </div>\n"
      ],
      "text/plain": [
       "   ID Engine  Cycle  Setting 1  Setting 2  Setting 3  Sensor 1  Sensor 2  \\\n",
       "0          1      1    42.0049     0.8400      100.0    445.00    549.68   \n",
       "1          1      2    20.0020     0.7002      100.0    491.19    606.07   \n",
       "2          1      3    42.0038     0.8409      100.0    445.00    548.95   \n",
       "3          1      4    42.0000     0.8400      100.0    445.00    548.70   \n",
       "4          1      5    25.0063     0.6207       60.0    462.54    536.10   \n",
       "\n",
       "   Sensor 3  Sensor 4  Sensor 5  ...  Sensor 13  Sensor 14  Sensor 15  \\\n",
       "0   1343.43   1112.93      3.91  ...    2387.99    8074.83     9.3335   \n",
       "1   1477.61   1237.50      9.35  ...    2387.73    8046.13     9.1913   \n",
       "2   1343.12   1117.05      3.91  ...    2387.97    8066.62     9.4007   \n",
       "3   1341.24   1118.03      3.91  ...    2388.02    8076.05     9.3369   \n",
       "4   1255.23   1033.59      7.05  ...    2028.08    7865.80    10.8366   \n",
       "\n",
       "   Sensor 16  Sensor 17  Sensor 18  Sensor 19  Sensor 20  Sensor 21  \\\n",
       "0       0.02        330       2212     100.00      10.62     6.3670   \n",
       "1       0.02        361       2324     100.00      24.37    14.6552   \n",
       "2       0.02        329       2212     100.00      10.48     6.4213   \n",
       "3       0.02        328       2212     100.00      10.54     6.4176   \n",
       "4       0.02        305       1915      84.93      14.03     8.6754   \n",
       "\n",
       "   Remaining RUL  \n",
       "0            320  \n",
       "1            319  \n",
       "2            318  \n",
       "3            317  \n",
       "4            316  \n",
       "\n",
       "[5 rows x 27 columns]"
      ]
     },
     "execution_count": 9,
     "metadata": {},
     "output_type": "execute_result"
    }
   ],
   "source": [
    "# train_1 = train_1.drop(['Setting 1','Setting 2', 'Sensor 1', 'Setting 3','Sensor 5','Sensor 6', 'Sensor 10', 'Sensor 16', 'Sensor 18','Sensor 19'], axis=1)\n",
    "train_4.head()"
   ]
  },
  {
   "cell_type": "code",
   "execution_count": null,
   "metadata": {
    "colab": {
     "base_uri": "https://localhost:8080/",
     "height": 309
    },
    "executionInfo": {
     "elapsed": 14,
     "status": "ok",
     "timestamp": 1733067198239,
     "user": {
      "displayName": "ÚC NGÔ VĂN",
      "userId": "17995020128839883394"
     },
     "user_tz": -420
    },
    "id": "XXS3R64RKTGO",
    "outputId": "b2f16626-2502-4fbd-b6d6-6e66c4e2c135"
   },
   "outputs": [
    {
     "name": "stderr",
     "output_type": "stream",
     "text": [
      "/usr/local/lib/python3.10/dist-packages/ipykernel/ipkernel.py:283: DeprecationWarning: `should_run_async` will not call `transform_cell` automatically in the future. Please pass the result to `transformed_cell` argument and any exception that happen during thetransform in `preprocessing_exc_tuple` in IPython 7.17 and above.\n",
      "  and should_run_async(code)\n"
     ]
    },
    {
     "data": {
      "application/vnd.google.colaboratory.intrinsic+json": {
       "type": "dataframe",
       "variable_name": "df"
      },
      "text/html": [
       "\n",
       "  <div id=\"df-879db62a-505c-43df-b89c-a53833f62035\" class=\"colab-df-container\">\n",
       "    <div>\n",
       "<style scoped>\n",
       "    .dataframe tbody tr th:only-of-type {\n",
       "        vertical-align: middle;\n",
       "    }\n",
       "\n",
       "    .dataframe tbody tr th {\n",
       "        vertical-align: top;\n",
       "    }\n",
       "\n",
       "    .dataframe thead th {\n",
       "        text-align: right;\n",
       "    }\n",
       "</style>\n",
       "<table border=\"1\" class=\"dataframe\">\n",
       "  <thead>\n",
       "    <tr style=\"text-align: right;\">\n",
       "      <th></th>\n",
       "      <th>ID Engine</th>\n",
       "      <th>Cycle</th>\n",
       "      <th>Setting 1</th>\n",
       "      <th>Setting 2</th>\n",
       "      <th>Setting 3</th>\n",
       "      <th>Sensor 1</th>\n",
       "      <th>Sensor 2</th>\n",
       "      <th>Sensor 3</th>\n",
       "      <th>Sensor 4</th>\n",
       "      <th>Sensor 5</th>\n",
       "      <th>...</th>\n",
       "      <th>Sensor 13</th>\n",
       "      <th>Sensor 14</th>\n",
       "      <th>Sensor 15</th>\n",
       "      <th>Sensor 16</th>\n",
       "      <th>Sensor 17</th>\n",
       "      <th>Sensor 18</th>\n",
       "      <th>Sensor 19</th>\n",
       "      <th>Sensor 20</th>\n",
       "      <th>Sensor 21</th>\n",
       "      <th>Remaining RUL</th>\n",
       "    </tr>\n",
       "  </thead>\n",
       "  <tbody>\n",
       "    <tr>\n",
       "      <th>0</th>\n",
       "      <td>1</td>\n",
       "      <td>1</td>\n",
       "      <td>0.999926</td>\n",
       "      <td>0.997625</td>\n",
       "      <td>1.0</td>\n",
       "      <td>0.000000</td>\n",
       "      <td>0.130347</td>\n",
       "      <td>0.272082</td>\n",
       "      <td>0.212586</td>\n",
       "      <td>0.000000</td>\n",
       "      <td>...</td>\n",
       "      <td>0.993111</td>\n",
       "      <td>0.550773</td>\n",
       "      <td>0.400540</td>\n",
       "      <td>0.0</td>\n",
       "      <td>0.288660</td>\n",
       "      <td>0.627907</td>\n",
       "      <td>1.0</td>\n",
       "      <td>0.015473</td>\n",
       "      <td>0.015881</td>\n",
       "      <td>0.590406</td>\n",
       "    </tr>\n",
       "    <tr>\n",
       "      <th>1</th>\n",
       "      <td>1</td>\n",
       "      <td>2</td>\n",
       "      <td>0.476147</td>\n",
       "      <td>0.831591</td>\n",
       "      <td>1.0</td>\n",
       "      <td>0.626985</td>\n",
       "      <td>0.647971</td>\n",
       "      <td>0.634407</td>\n",
       "      <td>0.511781</td>\n",
       "      <td>0.507937</td>\n",
       "      <td>...</td>\n",
       "      <td>0.992395</td>\n",
       "      <td>0.481761</td>\n",
       "      <td>0.351346</td>\n",
       "      <td>0.0</td>\n",
       "      <td>0.608247</td>\n",
       "      <td>0.864693</td>\n",
       "      <td>1.0</td>\n",
       "      <td>0.477968</td>\n",
       "      <td>0.481487</td>\n",
       "      <td>0.588561</td>\n",
       "    </tr>\n",
       "    <tr>\n",
       "      <th>2</th>\n",
       "      <td>1</td>\n",
       "      <td>3</td>\n",
       "      <td>0.999900</td>\n",
       "      <td>0.998694</td>\n",
       "      <td>1.0</td>\n",
       "      <td>0.000000</td>\n",
       "      <td>0.123646</td>\n",
       "      <td>0.271245</td>\n",
       "      <td>0.222481</td>\n",
       "      <td>0.000000</td>\n",
       "      <td>...</td>\n",
       "      <td>0.993056</td>\n",
       "      <td>0.531031</td>\n",
       "      <td>0.423787</td>\n",
       "      <td>0.0</td>\n",
       "      <td>0.278351</td>\n",
       "      <td>0.627907</td>\n",
       "      <td>1.0</td>\n",
       "      <td>0.010764</td>\n",
       "      <td>0.018932</td>\n",
       "      <td>0.586716</td>\n",
       "    </tr>\n",
       "    <tr>\n",
       "      <th>3</th>\n",
       "      <td>1</td>\n",
       "      <td>4</td>\n",
       "      <td>0.999810</td>\n",
       "      <td>0.997625</td>\n",
       "      <td>1.0</td>\n",
       "      <td>0.000000</td>\n",
       "      <td>0.121351</td>\n",
       "      <td>0.266168</td>\n",
       "      <td>0.224835</td>\n",
       "      <td>0.000000</td>\n",
       "      <td>...</td>\n",
       "      <td>0.993194</td>\n",
       "      <td>0.553707</td>\n",
       "      <td>0.401716</td>\n",
       "      <td>0.0</td>\n",
       "      <td>0.268041</td>\n",
       "      <td>0.627907</td>\n",
       "      <td>1.0</td>\n",
       "      <td>0.012782</td>\n",
       "      <td>0.018724</td>\n",
       "      <td>0.584871</td>\n",
       "    </tr>\n",
       "    <tr>\n",
       "      <th>4</th>\n",
       "      <td>1</td>\n",
       "      <td>5</td>\n",
       "      <td>0.595275</td>\n",
       "      <td>0.737173</td>\n",
       "      <td>0.0</td>\n",
       "      <td>0.238089</td>\n",
       "      <td>0.005691</td>\n",
       "      <td>0.033916</td>\n",
       "      <td>0.022025</td>\n",
       "      <td>0.293184</td>\n",
       "      <td>...</td>\n",
       "      <td>0.001405</td>\n",
       "      <td>0.048140</td>\n",
       "      <td>0.920536</td>\n",
       "      <td>0.0</td>\n",
       "      <td>0.030928</td>\n",
       "      <td>0.000000</td>\n",
       "      <td>0.0</td>\n",
       "      <td>0.130172</td>\n",
       "      <td>0.145560</td>\n",
       "      <td>0.583026</td>\n",
       "    </tr>\n",
       "  </tbody>\n",
       "</table>\n",
       "<p>5 rows × 27 columns</p>\n",
       "</div>\n",
       "    <div class=\"colab-df-buttons\">\n",
       "\n",
       "  <div class=\"colab-df-container\">\n",
       "    <button class=\"colab-df-convert\" onclick=\"convertToInteractive('df-879db62a-505c-43df-b89c-a53833f62035')\"\n",
       "            title=\"Convert this dataframe to an interactive table.\"\n",
       "            style=\"display:none;\">\n",
       "\n",
       "  <svg xmlns=\"http://www.w3.org/2000/svg\" height=\"24px\" viewBox=\"0 -960 960 960\">\n",
       "    <path d=\"M120-120v-720h720v720H120Zm60-500h600v-160H180v160Zm220 220h160v-160H400v160Zm0 220h160v-160H400v160ZM180-400h160v-160H180v160Zm440 0h160v-160H620v160ZM180-180h160v-160H180v160Zm440 0h160v-160H620v160Z\"/>\n",
       "  </svg>\n",
       "    </button>\n",
       "\n",
       "  <style>\n",
       "    .colab-df-container {\n",
       "      display:flex;\n",
       "      gap: 12px;\n",
       "    }\n",
       "\n",
       "    .colab-df-convert {\n",
       "      background-color: #E8F0FE;\n",
       "      border: none;\n",
       "      border-radius: 50%;\n",
       "      cursor: pointer;\n",
       "      display: none;\n",
       "      fill: #1967D2;\n",
       "      height: 32px;\n",
       "      padding: 0 0 0 0;\n",
       "      width: 32px;\n",
       "    }\n",
       "\n",
       "    .colab-df-convert:hover {\n",
       "      background-color: #E2EBFA;\n",
       "      box-shadow: 0px 1px 2px rgba(60, 64, 67, 0.3), 0px 1px 3px 1px rgba(60, 64, 67, 0.15);\n",
       "      fill: #174EA6;\n",
       "    }\n",
       "\n",
       "    .colab-df-buttons div {\n",
       "      margin-bottom: 4px;\n",
       "    }\n",
       "\n",
       "    [theme=dark] .colab-df-convert {\n",
       "      background-color: #3B4455;\n",
       "      fill: #D2E3FC;\n",
       "    }\n",
       "\n",
       "    [theme=dark] .colab-df-convert:hover {\n",
       "      background-color: #434B5C;\n",
       "      box-shadow: 0px 1px 3px 1px rgba(0, 0, 0, 0.15);\n",
       "      filter: drop-shadow(0px 1px 2px rgba(0, 0, 0, 0.3));\n",
       "      fill: #FFFFFF;\n",
       "    }\n",
       "  </style>\n",
       "\n",
       "    <script>\n",
       "      const buttonEl =\n",
       "        document.querySelector('#df-879db62a-505c-43df-b89c-a53833f62035 button.colab-df-convert');\n",
       "      buttonEl.style.display =\n",
       "        google.colab.kernel.accessAllowed ? 'block' : 'none';\n",
       "\n",
       "      async function convertToInteractive(key) {\n",
       "        const element = document.querySelector('#df-879db62a-505c-43df-b89c-a53833f62035');\n",
       "        const dataTable =\n",
       "          await google.colab.kernel.invokeFunction('convertToInteractive',\n",
       "                                                    [key], {});\n",
       "        if (!dataTable) return;\n",
       "\n",
       "        const docLinkHtml = 'Like what you see? Visit the ' +\n",
       "          '<a target=\"_blank\" href=https://colab.research.google.com/notebooks/data_table.ipynb>data table notebook</a>'\n",
       "          + ' to learn more about interactive tables.';\n",
       "        element.innerHTML = '';\n",
       "        dataTable['output_type'] = 'display_data';\n",
       "        await google.colab.output.renderOutput(dataTable, element);\n",
       "        const docLink = document.createElement('div');\n",
       "        docLink.innerHTML = docLinkHtml;\n",
       "        element.appendChild(docLink);\n",
       "      }\n",
       "    </script>\n",
       "  </div>\n",
       "\n",
       "\n",
       "<div id=\"df-1373505e-36b9-474d-bb8e-be744e143077\">\n",
       "  <button class=\"colab-df-quickchart\" onclick=\"quickchart('df-1373505e-36b9-474d-bb8e-be744e143077')\"\n",
       "            title=\"Suggest charts\"\n",
       "            style=\"display:none;\">\n",
       "\n",
       "<svg xmlns=\"http://www.w3.org/2000/svg\" height=\"24px\"viewBox=\"0 0 24 24\"\n",
       "     width=\"24px\">\n",
       "    <g>\n",
       "        <path d=\"M19 3H5c-1.1 0-2 .9-2 2v14c0 1.1.9 2 2 2h14c1.1 0 2-.9 2-2V5c0-1.1-.9-2-2-2zM9 17H7v-7h2v7zm4 0h-2V7h2v10zm4 0h-2v-4h2v4z\"/>\n",
       "    </g>\n",
       "</svg>\n",
       "  </button>\n",
       "\n",
       "<style>\n",
       "  .colab-df-quickchart {\n",
       "      --bg-color: #E8F0FE;\n",
       "      --fill-color: #1967D2;\n",
       "      --hover-bg-color: #E2EBFA;\n",
       "      --hover-fill-color: #174EA6;\n",
       "      --disabled-fill-color: #AAA;\n",
       "      --disabled-bg-color: #DDD;\n",
       "  }\n",
       "\n",
       "  [theme=dark] .colab-df-quickchart {\n",
       "      --bg-color: #3B4455;\n",
       "      --fill-color: #D2E3FC;\n",
       "      --hover-bg-color: #434B5C;\n",
       "      --hover-fill-color: #FFFFFF;\n",
       "      --disabled-bg-color: #3B4455;\n",
       "      --disabled-fill-color: #666;\n",
       "  }\n",
       "\n",
       "  .colab-df-quickchart {\n",
       "    background-color: var(--bg-color);\n",
       "    border: none;\n",
       "    border-radius: 50%;\n",
       "    cursor: pointer;\n",
       "    display: none;\n",
       "    fill: var(--fill-color);\n",
       "    height: 32px;\n",
       "    padding: 0;\n",
       "    width: 32px;\n",
       "  }\n",
       "\n",
       "  .colab-df-quickchart:hover {\n",
       "    background-color: var(--hover-bg-color);\n",
       "    box-shadow: 0 1px 2px rgba(60, 64, 67, 0.3), 0 1px 3px 1px rgba(60, 64, 67, 0.15);\n",
       "    fill: var(--button-hover-fill-color);\n",
       "  }\n",
       "\n",
       "  .colab-df-quickchart-complete:disabled,\n",
       "  .colab-df-quickchart-complete:disabled:hover {\n",
       "    background-color: var(--disabled-bg-color);\n",
       "    fill: var(--disabled-fill-color);\n",
       "    box-shadow: none;\n",
       "  }\n",
       "\n",
       "  .colab-df-spinner {\n",
       "    border: 2px solid var(--fill-color);\n",
       "    border-color: transparent;\n",
       "    border-bottom-color: var(--fill-color);\n",
       "    animation:\n",
       "      spin 1s steps(1) infinite;\n",
       "  }\n",
       "\n",
       "  @keyframes spin {\n",
       "    0% {\n",
       "      border-color: transparent;\n",
       "      border-bottom-color: var(--fill-color);\n",
       "      border-left-color: var(--fill-color);\n",
       "    }\n",
       "    20% {\n",
       "      border-color: transparent;\n",
       "      border-left-color: var(--fill-color);\n",
       "      border-top-color: var(--fill-color);\n",
       "    }\n",
       "    30% {\n",
       "      border-color: transparent;\n",
       "      border-left-color: var(--fill-color);\n",
       "      border-top-color: var(--fill-color);\n",
       "      border-right-color: var(--fill-color);\n",
       "    }\n",
       "    40% {\n",
       "      border-color: transparent;\n",
       "      border-right-color: var(--fill-color);\n",
       "      border-top-color: var(--fill-color);\n",
       "    }\n",
       "    60% {\n",
       "      border-color: transparent;\n",
       "      border-right-color: var(--fill-color);\n",
       "    }\n",
       "    80% {\n",
       "      border-color: transparent;\n",
       "      border-right-color: var(--fill-color);\n",
       "      border-bottom-color: var(--fill-color);\n",
       "    }\n",
       "    90% {\n",
       "      border-color: transparent;\n",
       "      border-bottom-color: var(--fill-color);\n",
       "    }\n",
       "  }\n",
       "</style>\n",
       "\n",
       "  <script>\n",
       "    async function quickchart(key) {\n",
       "      const quickchartButtonEl =\n",
       "        document.querySelector('#' + key + ' button');\n",
       "      quickchartButtonEl.disabled = true;  // To prevent multiple clicks.\n",
       "      quickchartButtonEl.classList.add('colab-df-spinner');\n",
       "      try {\n",
       "        const charts = await google.colab.kernel.invokeFunction(\n",
       "            'suggestCharts', [key], {});\n",
       "      } catch (error) {\n",
       "        console.error('Error during call to suggestCharts:', error);\n",
       "      }\n",
       "      quickchartButtonEl.classList.remove('colab-df-spinner');\n",
       "      quickchartButtonEl.classList.add('colab-df-quickchart-complete');\n",
       "    }\n",
       "    (() => {\n",
       "      let quickchartButtonEl =\n",
       "        document.querySelector('#df-1373505e-36b9-474d-bb8e-be744e143077 button');\n",
       "      quickchartButtonEl.style.display =\n",
       "        google.colab.kernel.accessAllowed ? 'block' : 'none';\n",
       "    })();\n",
       "  </script>\n",
       "</div>\n",
       "\n",
       "    </div>\n",
       "  </div>\n"
      ],
      "text/plain": [
       "   ID Engine  Cycle  Setting 1  Setting 2  Setting 3  Sensor 1  Sensor 2  \\\n",
       "0          1      1   0.999926   0.997625        1.0  0.000000  0.130347   \n",
       "1          1      2   0.476147   0.831591        1.0  0.626985  0.647971   \n",
       "2          1      3   0.999900   0.998694        1.0  0.000000  0.123646   \n",
       "3          1      4   0.999810   0.997625        1.0  0.000000  0.121351   \n",
       "4          1      5   0.595275   0.737173        0.0  0.238089  0.005691   \n",
       "\n",
       "   Sensor 3  Sensor 4  Sensor 5  ...  Sensor 13  Sensor 14  Sensor 15  \\\n",
       "0  0.272082  0.212586  0.000000  ...   0.993111   0.550773   0.400540   \n",
       "1  0.634407  0.511781  0.507937  ...   0.992395   0.481761   0.351346   \n",
       "2  0.271245  0.222481  0.000000  ...   0.993056   0.531031   0.423787   \n",
       "3  0.266168  0.224835  0.000000  ...   0.993194   0.553707   0.401716   \n",
       "4  0.033916  0.022025  0.293184  ...   0.001405   0.048140   0.920536   \n",
       "\n",
       "   Sensor 16  Sensor 17  Sensor 18  Sensor 19  Sensor 20  Sensor 21  \\\n",
       "0        0.0   0.288660   0.627907        1.0   0.015473   0.015881   \n",
       "1        0.0   0.608247   0.864693        1.0   0.477968   0.481487   \n",
       "2        0.0   0.278351   0.627907        1.0   0.010764   0.018932   \n",
       "3        0.0   0.268041   0.627907        1.0   0.012782   0.018724   \n",
       "4        0.0   0.030928   0.000000        0.0   0.130172   0.145560   \n",
       "\n",
       "   Remaining RUL  \n",
       "0       0.590406  \n",
       "1       0.588561  \n",
       "2       0.586716  \n",
       "3       0.584871  \n",
       "4       0.583026  \n",
       "\n",
       "[5 rows x 27 columns]"
      ]
     },
     "execution_count": 10,
     "metadata": {},
     "output_type": "execute_result"
    }
   ],
   "source": [
    "# Normalization\n",
    "df = train_4.copy()\n",
    "scaled_columns = df.columns[2:]\n",
    "scaler = MinMaxScaler()\n",
    "df[scaled_columns] = scaler.fit_transform(df[scaled_columns])\n",
    "df.head()"
   ]
  },
  {
   "cell_type": "code",
   "execution_count": null,
   "metadata": {
    "colab": {
     "base_uri": "https://localhost:8080/"
    },
    "executionInfo": {
     "elapsed": 398,
     "status": "ok",
     "timestamp": 1733067198625,
     "user": {
      "displayName": "ÚC NGÔ VĂN",
      "userId": "17995020128839883394"
     },
     "user_tz": -420
    },
    "id": "aEF20VcwKTGO",
    "outputId": "06320811-a2a1-447a-c3e8-d57601e86f6d"
   },
   "outputs": [
    {
     "name": "stderr",
     "output_type": "stream",
     "text": [
      "/usr/local/lib/python3.10/dist-packages/ipykernel/ipkernel.py:283: DeprecationWarning: `should_run_async` will not call `transform_cell` automatically in the future. Please pass the result to `transformed_cell` argument and any exception that happen during thetransform in `preprocessing_exc_tuple` in IPython 7.17 and above.\n",
      "  and should_run_async(code)\n"
     ]
    }
   ],
   "source": [
    "def split_dataset(dataset, num_clients):\n",
    "    \"\"\"\n",
    "    Chia dataset thành num_clients tập con đều nhau.\n",
    "    Args:\n",
    "        dataset: Dataset cần chia (torch.utils.data.Dataset).\n",
    "        num_clients: Số lượng tập con muốn tạo.\n",
    "    Returns:\n",
    "        List chứa các tập con của dataset.\n",
    "    \"\"\"\n",
    "    # Kích thước mỗi tập con\n",
    "    subset_size = len(dataset) // num_clients\n",
    "    sizes = [subset_size] * num_clients\n",
    "\n",
    "    # Chia phần dư (nếu tổng dataset không chia hết)\n",
    "    sizes[-1] += len(dataset) - sum(sizes)\n",
    "\n",
    "    # Tạo danh sách các tập con\n",
    "    subsets = random_split(dataset, sizes)\n",
    "    return subsets"
   ]
  },
  {
   "cell_type": "code",
   "execution_count": null,
   "metadata": {
    "id": "40i3tcFcKTGP"
   },
   "outputs": [],
   "source": [
    "class FD004DatasetLoader(Dataset):\n",
    "    def __init__(self, data, sequence_length=30):\n",
    "        self.data = data\n",
    "        self.sequence_length = sequence_length\n",
    "        self.sequences = []\n",
    "        self.targets = []\n",
    "\n",
    "        grouped = data.groupby('ID Engine')\n",
    "        for _, group in grouped:\n",
    "            values = group.drop(['ID Engine', 'Cycle', 'Remaining RUL'], axis=1).values\n",
    "            rul_values = group['Remaining RUL'].values\n",
    "\n",
    "            for i in range(len(values) - sequence_length + 1):\n",
    "                self.sequences.append(values[i:i + sequence_length])\n",
    "                self.targets.append(rul_values[i + sequence_length - 1])\n",
    "\n",
    "    def __len__(self):\n",
    "        return len(self.sequences)\n",
    "\n",
    "    def __getitem__(self, idx):\n",
    "        return (\n",
    "            torch.tensor(self.sequences[idx], dtype=torch.float32),\n",
    "            torch.tensor(self.targets[idx], dtype=torch.float32),\n",
    "        )\n"
   ]
  },
  {
   "cell_type": "code",
   "execution_count": null,
   "metadata": {
    "id": "QxlWHBZdKTGP"
   },
   "outputs": [],
   "source": [
    "dataset = FD004DatasetLoader(df)\n",
    "train_data, validation_data = train_test_split(dataset, test_size=0.2, random_state=42)\n",
    "\n",
    "num_clients = 10\n",
    "subsets_train = split_dataset(train_data, num_clients)\n",
    "subsets_validation = split_dataset(validation_data, num_clients)\n",
    "# Tạo DataLoader cho mỗi tập\n",
    "client_loader_trains = [DataLoader(subset, batch_size=128, shuffle=True) for subset in subsets_train]\n",
    "client_loader_validations = [DataLoader(subset, batch_size=128, shuffle=True) for subset in subsets_validation]\n",
    "\n",
    "# train_data, val_data = train_test_split(dataset, test_size=0.2, random_state=42)\n",
    "# train_loader = DataLoader(train_data, batch_size=32, shuffle=True)\n",
    "# val_loader = DataLoader(val_data, batch_size=32, shuffle=False)\n"
   ]
  },
  {
   "cell_type": "code",
   "execution_count": null,
   "metadata": {
    "colab": {
     "base_uri": "https://localhost:8080/"
    },
    "executionInfo": {
     "elapsed": 12,
     "status": "ok",
     "timestamp": 1733067200041,
     "user": {
      "displayName": "ÚC NGÔ VĂN",
      "userId": "17995020128839883394"
     },
     "user_tz": -420
    },
    "id": "_K9hW0s4KTGP",
    "outputId": "af3c9054-1c14-4865-d6be-365d07a4690c"
   },
   "outputs": [
    {
     "name": "stdout",
     "output_type": "stream",
     "text": [
      "Client 1 will use a subset with 4322 samples\n",
      "Client 2 will use a subset with 4322 samples\n",
      "Client 3 will use a subset with 4322 samples\n",
      "Client 4 will use a subset with 4322 samples\n",
      "Client 5 will use a subset with 4322 samples\n",
      "Client 6 will use a subset with 4322 samples\n",
      "Client 7 will use a subset with 4322 samples\n",
      "Client 8 will use a subset with 4322 samples\n",
      "Client 9 will use a subset with 4322 samples\n",
      "Client 10 will use a subset with 4324 samples\n"
     ]
    },
    {
     "name": "stderr",
     "output_type": "stream",
     "text": [
      "/usr/local/lib/python3.10/dist-packages/ipykernel/ipkernel.py:283: DeprecationWarning: `should_run_async` will not call `transform_cell` automatically in the future. Please pass the result to `transformed_cell` argument and any exception that happen during thetransform in `preprocessing_exc_tuple` in IPython 7.17 and above.\n",
      "  and should_run_async(code)\n"
     ]
    }
   ],
   "source": [
    "for i, loader in enumerate(client_loader_trains):\n",
    "    print(f\"Client {i+1} will use a subset with {len(loader.dataset)} samples\")\n",
    "    # start_client(train_loader=loader, test_loader=test_loader)"
   ]
  },
  {
   "cell_type": "code",
   "execution_count": null,
   "metadata": {
    "colab": {
     "base_uri": "https://localhost:8080/"
    },
    "executionInfo": {
     "elapsed": 9,
     "status": "ok",
     "timestamp": 1733067200041,
     "user": {
      "displayName": "ÚC NGÔ VĂN",
      "userId": "17995020128839883394"
     },
     "user_tz": -420
    },
    "id": "YDg6bRvtKTGP",
    "outputId": "9808cc7d-dddc-496f-9c83-be3a8c29d62c"
   },
   "outputs": [
    {
     "name": "stdout",
     "output_type": "stream",
     "text": [
      "Client 1 will use a subset with 1080 samples\n",
      "Client 2 will use a subset with 1080 samples\n",
      "Client 3 will use a subset with 1080 samples\n",
      "Client 4 will use a subset with 1080 samples\n",
      "Client 5 will use a subset with 1080 samples\n",
      "Client 6 will use a subset with 1080 samples\n",
      "Client 7 will use a subset with 1080 samples\n",
      "Client 8 will use a subset with 1080 samples\n",
      "Client 9 will use a subset with 1080 samples\n",
      "Client 10 will use a subset with 1086 samples\n"
     ]
    }
   ],
   "source": [
    "for i, loader in enumerate(client_loader_validations):\n",
    "    print(f\"Client {i+1} will use a subset with {len(loader.dataset)} samples\")\n",
    "    # start_client(train_loader=loader, test_loader=test_loader)"
   ]
  },
  {
   "cell_type": "markdown",
   "metadata": {
    "id": "ZvZLb7BXKTGP"
   },
   "source": [
    "## Step 1: Centralized Training with PyTorch"
   ]
  },
  {
   "cell_type": "markdown",
   "metadata": {
    "id": "Bsx50C1LKTGQ"
   },
   "source": [
    "#### Define the Transformer model"
   ]
  },
  {
   "cell_type": "code",
   "execution_count": null,
   "metadata": {
    "id": "440FOAEZKTGQ"
   },
   "outputs": [],
   "source": [
    "class TransformerModel(nn.Module):\n",
    "    def __init__(self, input_dim, d_model, nhead, num_layers, dim_feedforward, dropout):\n",
    "        super(TransformerModel, self).__init__()\n",
    "        self.input_embedding = nn.Linear(input_dim, d_model)\n",
    "        self.positional_encoding = nn.Parameter(torch.zeros(1, 5000, d_model))\n",
    "        self.transformer = nn.Transformer(\n",
    "            d_model=d_model,\n",
    "            nhead=nhead,\n",
    "            num_encoder_layers=num_layers,\n",
    "            num_decoder_layers=num_layers,\n",
    "            dim_feedforward=dim_feedforward,\n",
    "            dropout=dropout,\n",
    "            batch_first=True,\n",
    "        )\n",
    "        self.fc_out = nn.Linear(d_model, 1)\n",
    "\n",
    "    def forward(self, src):\n",
    "        src_emb = self.input_embedding(src) + self.positional_encoding[:, :src.size(1), :]\n",
    "        src_emb = src_emb.permute(1, 0, 2)  # [seq_len, batch_size, d_model]\n",
    "        transformer_out = self.transformer(src_emb, src_emb)\n",
    "        output = self.fc_out(transformer_out[-1, :, :])  # Lấy giá trị cuối\n",
    "        return output.squeeze(-1)"
   ]
  },
  {
   "cell_type": "markdown",
   "metadata": {
    "id": "t4ogUj-MKTGQ"
   },
   "source": [
    "#### Define train function the model"
   ]
  },
  {
   "cell_type": "code",
   "execution_count": null,
   "metadata": {
    "id": "SRvVuP4IKTGQ"
   },
   "outputs": [],
   "source": [
    "def train(model, client_loader_train, client_loader_validation: None, epochs: int, verbose=False):\n",
    "    input_dim = 24\n",
    "    model = model.to(DEVICE)\n",
    "\n",
    "    criterion = nn.MSELoss()\n",
    "    optimizer = torch.optim.Adam(model.parameters(), lr=1e-4)\n",
    "\n",
    "    # Training Loop\n",
    "    for epoch in range(epochs):\n",
    "        model.train()\n",
    "        train_loss = 0\n",
    "        for batch in client_loader_train:\n",
    "            seq, target = batch\n",
    "            seq, target = seq.to(DEVICE), target.to(DEVICE)\n",
    "\n",
    "            optimizer.zero_grad()\n",
    "            output = model(seq)\n",
    "            loss = criterion(output, target)\n",
    "            loss.backward()\n",
    "            optimizer.step()\n",
    "            train_loss += loss.item()\n",
    "\n",
    "        val_loss = 0\n",
    "        model.eval()\n",
    "        with torch.no_grad():\n",
    "            for batch in client_loader_validation:\n",
    "                seq, target = batch\n",
    "                seq, target = seq.to(DEVICE), target.to(DEVICE)\n",
    "                output = model(seq)\n",
    "                loss = criterion(output, target)\n",
    "                val_loss += loss.item()\n",
    "\n",
    "        print(f\"Epoch {epoch + 1}: Train Loss = {train_loss / len(client_loader_train)}, Val Loss = {val_loss / len(client_loader_validation)}\")"
   ]
  },
  {
   "cell_type": "code",
   "execution_count": null,
   "metadata": {
    "id": "VTxEDEKyD33X"
   },
   "outputs": [],
   "source": [
    "def predict_on_batch(model, client_loader_validation, return_actual_rul=False, show_fig=False):\n",
    "    criterion = nn.MSELoss()\n",
    "    # Lấy một vài mẫu dữ liệu từ tập val_loader\n",
    "    samples, targets = next(iter(client_loader_validation))  # Lấy một batch từ validation set\n",
    "    samples, targets = samples.to(DEVICE), targets.to(DEVICE)\n",
    "\n",
    "    # Dự đoán với model\n",
    "    model.eval()\n",
    "    val_loss = 0\n",
    "    with torch.no_grad():\n",
    "        predictions = model(samples)  # [batch_size]\n",
    "    val_loss = criterion(predictions, targets)\n",
    "\n",
    "    if return_actual_rul:\n",
    "        # Đưa kết quả về CPU để xử lý\n",
    "        samples = samples.cpu()\n",
    "        targets = targets.cpu()\n",
    "        predictions = predictions.cpu()\n",
    "\n",
    "        # Đảo chuẩn hóa dữ liệu\n",
    "        rul_min = scaler.data_min_[-1]\n",
    "        rul_max = scaler.data_max_[-1]\n",
    "\n",
    "        # Đưa predictions và targets về dạng thực tế\n",
    "        actual_predictions = predictions.numpy() * (rul_max - rul_min) + rul_min\n",
    "        actual_targets = targets.numpy() * (rul_max - rul_min) + rul_min\n",
    "\n",
    "        if show_fig:\n",
    "            # Vẽ biểu đồ so sánh dự đoán và giá trị thực tế\n",
    "            plt.figure(figsize=(10, 6))\n",
    "            plt.plot(range(len(actual_predictions)), actual_predictions, label=\"Predicted RUL\", marker='o', linestyle='-')\n",
    "            plt.plot(range(len(actual_targets)), actual_targets, label=\"Actual RUL\", marker='x', linestyle='--')\n",
    "            plt.title(\"Comparison of Predicted and Actual RUL\")\n",
    "            plt.xlabel(\"Sample Index\")\n",
    "            plt.ylabel(\"Remaining Useful Life (RUL)\")\n",
    "            plt.legend()\n",
    "            plt.grid(True)\n",
    "            plt.show()\n",
    "\n",
    "        return val_loss, actual_predictions, actual_targets\n",
    "\n",
    "    return val_loss\n"
   ]
  },
  {
   "cell_type": "code",
   "execution_count": null,
   "metadata": {
    "id": "79XXCrdPKTGQ"
   },
   "outputs": [],
   "source": [
    "def test(model, client_loader_validation, return_actual_rul=False, show_fig=False):\n",
    "    criterion = nn.MSELoss()\n",
    "\n",
    "    samples, targets = next(iter(client_loader_validation))\n",
    "    samples, targets = samples.to(DEVICE), targets.to(DEVICE)\n",
    "\n",
    "    # Dự đoán với model\n",
    "    model.eval()\n",
    "    val_loss = 0\n",
    "    accuracys = 0\n",
    "    with torch.no_grad():\n",
    "      for batch in client_loader_validation:\n",
    "        samples, targets = batch\n",
    "        samples, targets = samples.to(DEVICE), targets.to(DEVICE)\n",
    "        predictions = model(samples)\n",
    "        val_loss += criterion(predictions, targets).item()\n",
    "    return val_loss / len(client_loader_validation)\n"
   ]
  },
  {
   "cell_type": "markdown",
   "metadata": {
    "id": "Kok_qty4KTGQ"
   },
   "source": [
    "#### Train the model (Centralized Transformer model)"
   ]
  },
  {
   "cell_type": "code",
   "execution_count": null,
   "metadata": {
    "colab": {
     "base_uri": "https://localhost:8080/"
    },
    "executionInfo": {
     "elapsed": 32978,
     "status": "ok",
     "timestamp": 1733067233014,
     "user": {
      "displayName": "ÚC NGÔ VĂN",
      "userId": "17995020128839883394"
     },
     "user_tz": -420
    },
    "id": "AK5rXE3WKTGQ",
    "outputId": "703fec43-ffb2-4ddb-e99f-fe047b1ecf00"
   },
   "outputs": [
    {
     "name": "stdout",
     "output_type": "stream",
     "text": [
      "Epoch 1: Train Loss = 0.0770935120389742, Val Loss = 0.02762496843934059\n",
      "Epoch 2: Train Loss = 0.04592930930940544, Val Loss = 0.02401454353498088\n",
      "Epoch 3: Train Loss = 0.04089770301738206, Val Loss = 0.023957566254668765\n",
      "Epoch 4: Train Loss = 0.036765101694447154, Val Loss = 0.02367129921913147\n",
      "Epoch 5: Train Loss = 0.0336604312829235, Val Loss = 0.02379715566833814\n",
      "Epoch 6: Train Loss = 0.03164672090069336, Val Loss = 0.02442381117078993\n",
      "Epoch 7: Train Loss = 0.0300770676420892, Val Loss = 0.02284394142528375\n",
      "Epoch 8: Train Loss = 0.02890728068921496, Val Loss = 0.02294164699398809\n",
      "Epoch 9: Train Loss = 0.028721100541160387, Val Loss = 0.02318852125770516\n",
      "Epoch 10: Train Loss = 0.028352831819039935, Val Loss = 0.023127241267098322\n",
      "Epoch 11: Train Loss = 0.02749636730946162, Val Loss = 0.022857874838842288\n",
      "Epoch 12: Train Loss = 0.027179677313303247, Val Loss = 0.02268158385737075\n",
      "Epoch 13: Train Loss = 0.026571640525670612, Val Loss = 0.023279290439354047\n",
      "Epoch 14: Train Loss = 0.026091265820843333, Val Loss = 0.023418877687719133\n",
      "Epoch 15: Train Loss = 0.025626032887136236, Val Loss = 0.022859485612975225\n",
      "Epoch 16: Train Loss = 0.025947204681442064, Val Loss = 0.023523673622144595\n",
      "Epoch 17: Train Loss = 0.026047573424875736, Val Loss = 0.023811185732483864\n",
      "Epoch 18: Train Loss = 0.02547659763299367, Val Loss = 0.02346209457351102\n",
      "Epoch 19: Train Loss = 0.025368885630193877, Val Loss = 0.023250378254387114\n",
      "Epoch 20: Train Loss = 0.024841480778858942, Val Loss = 0.023587074544694688\n",
      "Epoch 21: Train Loss = 0.02508750059367979, Val Loss = 0.024473218454255\n",
      "Epoch 22: Train Loss = 0.024972155580625814, Val Loss = 0.0229333382513788\n",
      "Epoch 23: Train Loss = 0.024700780399143696, Val Loss = 0.024486574447817273\n",
      "Epoch 24: Train Loss = 0.02421642281115055, Val Loss = 0.0234536516169707\n",
      "Epoch 25: Train Loss = 0.024434296469039777, Val Loss = 0.02299987090130647\n",
      "Epoch 26: Train Loss = 0.02406057047055048, Val Loss = 0.023236636072397232\n",
      "Epoch 27: Train Loss = 0.024356676977785194, Val Loss = 0.023829423925942846\n",
      "Epoch 28: Train Loss = 0.024234680732821718, Val Loss = 0.022937077408035595\n",
      "Epoch 29: Train Loss = 0.024308841182466817, Val Loss = 0.02290731544295947\n",
      "Epoch 30: Train Loss = 0.024028443019179738, Val Loss = 0.02417160405053033\n",
      "Epoch 31: Train Loss = 0.02402846613789306, Val Loss = 0.0228881382693847\n",
      "Epoch 32: Train Loss = 0.024027289329644513, Val Loss = 0.024826300020019215\n",
      "Epoch 33: Train Loss = 0.024085597354261315, Val Loss = 0.024012554436922073\n",
      "Epoch 34: Train Loss = 0.023889678092125582, Val Loss = 0.024165001180436876\n",
      "Epoch 35: Train Loss = 0.023729381918468895, Val Loss = 0.02311960690551334\n",
      "Epoch 36: Train Loss = 0.023400626309654293, Val Loss = 0.022491081514292292\n",
      "Epoch 37: Train Loss = 0.02348651654799195, Val Loss = 0.02304480555984709\n",
      "Epoch 38: Train Loss = 0.02355646944659598, Val Loss = 0.022579567299948797\n",
      "Epoch 39: Train Loss = 0.02364271303967518, Val Loss = 0.02258755535715156\n",
      "Epoch 40: Train Loss = 0.023543644093853587, Val Loss = 0.02401727106836107\n",
      "Epoch 41: Train Loss = 0.023329978370491194, Val Loss = 0.023463388077086873\n",
      "Epoch 42: Train Loss = 0.02372357019168489, Val Loss = 0.022223352661563292\n",
      "Epoch 43: Train Loss = 0.023398422855226433, Val Loss = 0.022802195615238614\n",
      "Epoch 44: Train Loss = 0.02327668053262374, Val Loss = 0.023366190700067416\n",
      "Epoch 45: Train Loss = 0.023454647757770383, Val Loss = 0.02249750184516112\n",
      "Epoch 46: Train Loss = 0.023444756153313553, Val Loss = 0.022802228521969583\n",
      "Epoch 47: Train Loss = 0.023297329378478667, Val Loss = 0.022646785196330812\n",
      "Epoch 48: Train Loss = 0.0233171361443751, Val Loss = 0.02345711158381568\n",
      "Epoch 49: Train Loss = 0.023444358752492594, Val Loss = 0.02203042846586969\n",
      "Epoch 50: Train Loss = 0.023162452230120405, Val Loss = 0.023758560833003785\n"
     ]
    }
   ],
   "source": [
    "model = TransformerModel(input_dim=24, d_model=64, nhead=4, num_layers=2, dim_feedforward=256, dropout=0.1)\n",
    "model = model.to(DEVICE)\n",
    "train(model=model, client_loader_train=client_loader_trains[0], client_loader_validation=client_loader_validations[0], epochs=50)"
   ]
  },
  {
   "cell_type": "code",
   "execution_count": null,
   "metadata": {
    "colab": {
     "base_uri": "https://localhost:8080/"
    },
    "executionInfo": {
     "elapsed": 1110,
     "status": "ok",
     "timestamp": 1733067234119,
     "user": {
      "displayName": "ÚC NGÔ VĂN",
      "userId": "17995020128839883394"
     },
     "user_tz": -420
    },
    "id": "gnSCpN1TKTGR",
    "outputId": "673ce132-6caa-43a8-c529-09fea78d4c11"
   },
   "outputs": [
    {
     "data": {
      "image/png": "[encoded data removed]",
      "text/plain": [
       "<Figure size 1000x600 with 1 Axes>"
      ]
     },
     "metadata": {},
     "output_type": "display_data"
    },
    {
     "name": "stdout",
     "output_type": "stream",
     "text": [
      "loss=0.027119962498545647\n",
      "actual rul = [131.40971  132.46489  137.10876  127.21091  128.72997  142.25012\n",
      " 127.62434  139.08646  131.75386  132.86687  129.75493  142.28336\n",
      " 141.90547  140.41814  133.60922  135.80244  126.116165 133.11113\n",
      " 138.2487   140.95047  142.37447  133.71393  137.96834  132.12741\n",
      " 128.37454  137.14444  129.98822  140.9812   134.43758  144.02051\n",
      " 130.63652  142.29033  130.67201  142.1079   132.62009  133.8948\n",
      " 142.5203   135.64468  137.79005  133.23193  140.89995  128.6876\n",
      " 131.33551  131.4275   142.74268  139.58943  132.82576  143.31898\n",
      " 126.0155   140.25972  131.19386  133.7733   144.24516  133.90497\n",
      " 143.53545  141.03203  128.82677  138.31966  140.78687  129.93503\n",
      " 135.26166  138.0706   140.44655  137.09549  132.31511  130.36221\n",
      " 137.9782   129.11922  140.71112  138.7387   143.08382  133.31018\n",
      " 132.77496  142.61745  132.28598  125.93663  132.0443   132.78496\n",
      " 137.41527  128.83873  132.60512  143.00119  128.77092  131.97044\n",
      " 132.56113  130.19215  141.77884  131.74518  133.52075  131.75827\n",
      " 132.43459  139.96025  140.95113  131.77702  131.47842  132.33502\n",
      " 134.66595  133.84969  142.56296  138.26637  140.7629   141.1426\n",
      " 133.38179  132.71594  133.4866   140.28436  131.91069  141.5925\n",
      " 134.82057  133.07167  124.96591  141.8387   133.58429  130.32181\n",
      " 128.79485  142.36084  136.97833  142.29898  132.38931  130.90709\n",
      " 133.76375  143.36958  137.28554  132.91763  134.89835  141.16882\n",
      " 128.79926  138.73999 ]\n",
      "actual target=[ 37.        87.       126.        67.        79.        79.\n",
      "   8.       232.       119.       155.       194.        43.\n",
      "  88.        52.       232.         9.        22.       206.00002\n",
      " 113.       225.       285.       474.       221.       156.\n",
      "  61.        34.       106.       194.99998   89.       243.\n",
      "  14.       114.00001  226.       117.        51.       129.\n",
      " 179.        15.       290.       105.       116.        69.\n",
      "  26.        12.        35.        56.        93.       228.00002\n",
      "  36.        45.999996  53.       190.       257.       187.\n",
      " 109.        65.        89.       274.        19.       170.\n",
      "  10.       284.        22.        61.       183.       214.\n",
      " 211.       153.        62.       231.       460.       129.\n",
      " 262.       284.       223.        28.       129.       194.99998\n",
      " 103.00001  122.       122.       154.       213.        90.\n",
      "   6.        93.       125.       113.       245.        64.\n",
      "  57.000004  13.       158.        17.        54.        34.\n",
      " 216.       155.       154.       207.        62.        26.\n",
      " 226.       111.        97.        32.        83.       133.\n",
      "  30.       176.        34.       143.       247.       197.\n",
      "  30.       163.       154.       121.        94.        21.\n",
      "  78.       246.       101.       132.         9.        55.\n",
      "  85.       251.      ]\n"
     ]
    }
   ],
   "source": [
    "# Dùng tạm validation của client 1 test thử cho model client 0 ở trên!\n",
    "loss, return_actual_rul, actual_target = predict_on_batch(model=model, client_loader_validation=client_loader_validations[1], return_actual_rul=True, show_fig=True)\n",
    "print(f'loss={loss}')\n",
    "print(f'actual rul = {return_actual_rul}')\n",
    "print(f'actual target={actual_target}')"
   ]
  },
  {
   "cell_type": "code",
   "execution_count": null,
   "metadata": {
    "colab": {
     "base_uri": "https://localhost:8080/"
    },
    "executionInfo": {
     "elapsed": 12,
     "status": "ok",
     "timestamp": 1733067234119,
     "user": {
      "displayName": "ÚC NGÔ VĂN",
      "userId": "17995020128839883394"
     },
     "user_tz": -420
    },
    "id": "KVRHrJXPKTGR",
    "outputId": "a9435018-9d3f-4297-f38f-249af2a64866"
   },
   "outputs": [
    {
     "name": "stdout",
     "output_type": "stream",
     "text": [
      "loss=0.02467992715537548\n",
      "actual rul = [132.40944  140.70946  142.63951  131.58115  139.4857   131.93016\n",
      " 141.12302  136.8223   141.66687  127.76625  135.09563  143.17749\n",
      " 136.10446  133.47432  123.993225 134.08444  137.05312  132.38237\n",
      " 128.94107  131.67993  131.46362  132.40762  140.85144  129.25172\n",
      " 136.53658  140.91034  132.75262  141.15047  138.94351  140.46613\n",
      " 139.73128  131.36993  140.94691  132.75592  128.53229  128.55692\n",
      " 137.2182   131.18524  141.5065   132.60732  138.05574  137.99042\n",
      " 125.31618  143.47108  128.7099   133.7141   129.10724  142.30907\n",
      " 133.0764   138.4806   134.22586  133.16336  142.19427  132.06197\n",
      " 138.34488  141.45384  123.732956 133.09932  132.13478  130.58908\n",
      " 131.57173  132.71013  132.71132  132.29555  136.72096  132.06181\n",
      " 138.0072   140.63313  130.67253  133.84845  142.71056  135.00291\n",
      " 140.84526  129.69913  130.81946  141.75137  133.2453   132.51181\n",
      " 135.84398  127.85896  131.90813  132.05719  132.25258  133.63469\n",
      " 131.15533  137.14314  132.9339   128.37218  131.84924  141.74742\n",
      " 131.43192  140.33347  138.09258  141.9465   142.82912  132.57675\n",
      " 131.5167   131.23462  132.25693  130.06898  133.60027  129.94812\n",
      " 142.2648   133.22217  126.61732  133.21555  141.34444  143.07274\n",
      " 133.25934  141.22258  140.95424  134.93509  138.48668  126.97853\n",
      " 140.56087  136.77975  132.51495  130.32454  138.39594  129.73683\n",
      " 132.33853  139.6469   128.65465  140.69809  141.48346  140.2923\n",
      " 130.9358   125.03521 ]\n",
      "actual target=[ 86.       126.       148.       154.        60.        80.\n",
      "  53.        63.       160.        51.        25.       172.\n",
      " 222.         2.         4.         1.        86.       123.\n",
      " 147.       117.       120.       287.        80.       115.\n",
      "  45.999996  81.       231.       122.       308.       210.\n",
      "  73.        79.       108.       125.         9.        63.\n",
      " 126.        70.        97.       256.       169.       138.\n",
      "  37.       261.        25.       296.       165.       118.\n",
      " 161.       455.       233.       234.       228.00002  168.\n",
      " 211.       265.         3.       108.        81.       167.\n",
      " 102.       147.        98.       324.        64.       264.\n",
      " 166.        91.99999   37.       165.       171.        34.\n",
      "  43.       163.        38.       201.       262.       131.\n",
      "  76.        76.        67.        76.        57.000004  94.\n",
      "  77.       124.       170.        77.        95.       132.\n",
      " 125.        93.       190.       221.       144.       299.\n",
      "  47.       176.        68.         5.       249.       260.\n",
      " 208.       286.        18.       156.       116.       249.\n",
      "  94.       110.       264.        16.       274.        12.\n",
      "  87.        63.       118.        24.        16.       138.\n",
      "  31.        20.       166.        54.        41.       120.\n",
      "  76.        15.      ]\n"
     ]
    }
   ],
   "source": [
    "# Dùng tạm validation của client 1 test thử cho model client 0 ở trên!\n",
    "loss, return_actual_rul, actual_target = predict_on_batch(model=model, client_loader_validation=client_loader_validations[2], return_actual_rul=True, show_fig=False)\n",
    "print(f'loss={loss}')\n",
    "print(f'actual rul = {return_actual_rul}')\n",
    "print(f'actual target={actual_target}')"
   ]
  },
  {
   "cell_type": "markdown",
   "metadata": {
    "id": "f50ogKCvKTGR"
   },
   "source": [
    "## Step 2: Federated Learning with Flower"
   ]
  },
  {
   "cell_type": "markdown",
   "metadata": {
    "id": "fLwiqv8-KTGR"
   },
   "source": [
    "#### Update model parameters"
   ]
  },
  {
   "cell_type": "code",
   "execution_count": null,
   "metadata": {
    "id": "1R-Dp06vKTGR"
   },
   "outputs": [],
   "source": [
    "def set_parameters(model, parameters: List[np.ndarray]):\n",
    "    params_dict = zip(model.state_dict().keys(), parameters)\n",
    "    state_dict = OrderedDict({k: torch.Tensor(v) for k, v in params_dict})\n",
    "    model.load_state_dict(state_dict, strict=True)\n",
    "\n",
    "\n",
    "def get_parameters(model) -> List[np.ndarray]:\n",
    "    return [val.cpu().numpy() for _, val in model.state_dict().items()]"
   ]
  },
  {
   "cell_type": "markdown",
   "metadata": {
    "id": "1vUxlDjlKTGR"
   },
   "source": [
    "#### Define the Flower ClientApp"
   ]
  },
  {
   "cell_type": "code",
   "execution_count": null,
   "metadata": {
    "id": "iZbSE5-OKTGR"
   },
   "outputs": [],
   "source": [
    "class FlowerClient(NumPyClient):\n",
    "    def __init__(self, model, client_loader_train, client_loader_validation):\n",
    "        self.model = model\n",
    "        self.trainloader = client_loader_train\n",
    "        self.valloader = client_loader_validation\n",
    "\n",
    "    def get_parameters(self, config):\n",
    "        return get_parameters(self.model)\n",
    "\n",
    "    def fit(self, parameters, config):\n",
    "        set_parameters(self.model, parameters)\n",
    "        train(model=self.model, client_loader_train=self.trainloader, client_loader_validation=self.valloader, epochs=1)\n",
    "        return get_parameters(self.model), len(self.trainloader), {}\n",
    "\n",
    "    def evaluate(self, parameters, config):\n",
    "        set_parameters(self.model, parameters)\n",
    "        # loss, accuracy = test(self.model, self.valloader)\n",
    "        loss = test(\n",
    "            model=self.model,\n",
    "            client_loader_validation=self.valloader,\n",
    "            return_actual_rul=False,\n",
    "            show_fig=False\n",
    "        )\n",
    "        return float(loss), len(self.valloader), {\"accuracy\": float(0.0)}"
   ]
  },
  {
   "cell_type": "code",
   "execution_count": null,
   "metadata": {
    "id": "V5jLc-XNKTGS"
   },
   "outputs": [],
   "source": [
    "def client_fn(context: Context) -> Client:\n",
    "    \"\"\"Create a Flower client representing a single organization.\"\"\"\n",
    "\n",
    "    # Load model\n",
    "    device = torch.device(\"cuda\" if torch.cuda.is_available() else \"cpu\")\n",
    "    model = TransformerModel(input_dim=24, d_model=64, nhead=4, num_layers=2, dim_feedforward=256, dropout=0.1).to(device)\n",
    "\n",
    "    # Load data (CIFAR-10)\n",
    "    # Note: each client gets a different trainloader/valloader, so each client\n",
    "    # will train and evaluate on their own unique data partition\n",
    "    # Read the node_config to fetch data partition associated to this node\n",
    "    partition_id = context.node_config[\"partition-id\"]\n",
    "    trainloader = client_loader_trains[partition_id]\n",
    "    valloader = client_loader_validations[partition_id]\n",
    "\n",
    "    # Create a single Flower client representing a single organization\n",
    "    # FlowerClient is a subclass of NumPyClient, so we need to call .to_client()\n",
    "    # to convert it to a subclass of `flwr.client.Client`\n",
    "    return FlowerClient(model, trainloader, valloader).to_client()\n",
    "\n",
    "\n",
    "# Create the ClientApp\n",
    "client = ClientApp(client_fn=client_fn)"
   ]
  },
  {
   "cell_type": "markdown",
   "metadata": {
    "id": "fJ4YLNsFKTGS"
   },
   "source": [
    "#### Define the Flower ServerApp"
   ]
  },
  {
   "cell_type": "code",
   "execution_count": null,
   "metadata": {
    "id": "tN_jcj0cKTGS"
   },
   "outputs": [],
   "source": [
    "# Create FedAvg strategy\n",
    "strategy = FedAvg(\n",
    "    fraction_fit=1.0,  # Sample 100% of available clients for training\n",
    "    fraction_evaluate=0.5,  # Sample 50% of available clients for evaluation\n",
    "    min_fit_clients=10,  # Never sample less than 10 clients for training\n",
    "    min_evaluate_clients=5,  # Never sample less than 5 clients for evaluation\n",
    "    min_available_clients=10,  # Wait until all 10 clients are available\n",
    ")"
   ]
  },
  {
   "cell_type": "code",
   "execution_count": null,
   "metadata": {
    "id": "N5-4anggKTGS"
   },
   "outputs": [],
   "source": [
    "def server_fn(context: Context) -> ServerAppComponents:\n",
    "    \"\"\"Construct components that set the ServerApp behaviour.\n",
    "\n",
    "    You can use the settings in `context.run_config` to parameterize the\n",
    "    construction of all elements (e.g the strategy or the number of rounds)\n",
    "    wrapped in the returned ServerAppComponents object.\n",
    "    \"\"\"\n",
    "\n",
    "    # Configure the server for 5 rounds of training\n",
    "    config = ServerConfig(num_rounds=50)\n",
    "\n",
    "    return ServerAppComponents(strategy=strategy, config=config)\n",
    "\n",
    "\n",
    "# Create the ServerApp\n",
    "server = ServerApp(server_fn=server_fn)"
   ]
  },
  {
   "cell_type": "markdown",
   "metadata": {
    "id": "4dsyFffBKTGS"
   },
   "source": [
    "#### Run the training"
   ]
  },
  {
   "cell_type": "code",
   "execution_count": null,
   "metadata": {
    "id": "pf6krCAeKTGS"
   },
   "outputs": [],
   "source": [
    "# Specify the resources each of your clients need\n",
    "# By default, each client will be allocated 1x CPU and 0x GPUs\n",
    "backend_config = {\"client_resources\": {\"num_cpus\": 1, \"num_gpus\": 0.0}}\n",
    "\n",
    "# When running on GPU, assign an entire GPU for each client\n",
    "if DEVICE.type == \"cuda\":\n",
    "    backend_config = {\"client_resources\": {\"num_cpus\": 1, \"num_gpus\": 1.0}}\n",
    "    # Refer to our Flower framework documentation for more details about Flower simulations\n",
    "    # and how to set up the `backend_config`"
   ]
  },
  {
   "cell_type": "code",
   "execution_count": null,
   "metadata": {
    "colab": {
     "base_uri": "https://localhost:8080/"
    },
    "id": "RuHd_DlaKTGS",
    "outputId": "50ec0fe4-86ae-4eb3-9944-ef6d8d1dba84"
   },
   "outputs": [
    {
     "name": "stderr",
     "output_type": "stream",
     "text": [
      "DEBUG:flwr:Asyncio event loop already running.\n",
      "\u001b[92mINFO \u001b[0m:      Starting Flower ServerApp, config: num_rounds=50, no round_timeout\n",
      "\u001b[92mINFO \u001b[0m:      \n",
      "\u001b[92mINFO \u001b[0m:      [INIT]\n",
      "\u001b[92mINFO \u001b[0m:      Requesting initial parameters from one random client\n",
      "\u001b[36m(pid=1669)\u001b[0m 2024-12-01 15:34:09.579829: E external/local_xla/xla/stream_executor/cuda/cuda_fft.cc:485] Unable to register cuFFT factory: Attempting to register factory for plugin cuFFT when one has already been registered\n",
      "\u001b[36m(pid=1669)\u001b[0m 2024-12-01 15:34:09.705150: E external/local_xla/xla/stream_executor/cuda/cuda_dnn.cc:8454] Unable to register cuDNN factory: Attempting to register factory for plugin cuDNN when one has already been registered\n",
      "\u001b[36m(pid=1669)\u001b[0m 2024-12-01 15:34:09.721228: E external/local_xla/xla/stream_executor/cuda/cuda_blas.cc:1452] Unable to register cuBLAS factory: Attempting to register factory for plugin cuBLAS when one has already been registered\n",
      "\u001b[36m(pid=1669)\u001b[0m 2024-12-01 15:34:11.550436: W tensorflow/compiler/tf2tensorrt/utils/py_utils.cc:38] TF-TRT Warning: Could not find TensorRT\n",
      "\u001b[92mINFO \u001b[0m:      Received initial parameters from one random client\n",
      "\u001b[92mINFO \u001b[0m:      Starting evaluation of initial global parameters\n",
      "\u001b[92mINFO \u001b[0m:      Evaluation returned no results (`None`)\n",
      "\u001b[92mINFO \u001b[0m:      \n",
      "\u001b[92mINFO \u001b[0m:      [ROUND 1]\n",
      "\u001b[92mINFO \u001b[0m:      configure_fit: strategy sampled 10 clients (out of 10)\n"
     ]
    },
    {
     "name": "stdout",
     "output_type": "stream",
     "text": [
      "\u001b[36m(ClientAppActor pid=1669)\u001b[0m Epoch 1: Train Loss = 0.05580789562972153, Val Loss = 0.02322080669303735\n",
      "\u001b[36m(ClientAppActor pid=1669)\u001b[0m Epoch 1: Train Loss = 0.05916060835999601, Val Loss = 0.02309148468905025\n",
      "\u001b[36m(ClientAppActor pid=1669)\u001b[0m Epoch 1: Train Loss = 0.06093914423357038, Val Loss = 0.028408231627609994\n",
      "\u001b[36m(ClientAppActor pid=1669)\u001b[0m Epoch 1: Train Loss = 0.05988206736305181, Val Loss = 0.025631373955143824\n",
      "\u001b[36m(ClientAppActor pid=1669)\u001b[0m Epoch 1: Train Loss = 0.05991693914813154, Val Loss = 0.026737205270263884\n",
      "\u001b[36m(ClientAppActor pid=1669)\u001b[0m Epoch 1: Train Loss = 0.05780725717982825, Val Loss = 0.023053636981381312\n",
      "\u001b[36m(ClientAppActor pid=1669)\u001b[0m Epoch 1: Train Loss = 0.06235619820654392, Val Loss = 0.03081520853771104\n",
      "\u001b[36m(ClientAppActor pid=1669)\u001b[0m Epoch 1: Train Loss = 0.05750609320752761, Val Loss = 0.025726178454028234\n"
     ]
    }
   ],
   "source": [
    "# Run simulation\n",
    "NUM_CLIENTS = 10\n",
    "run_simulation(\n",
    "  server_app=server,\n",
    "  client_app=client,\n",
    "  num_supernodes=NUM_CLIENTS,\n",
    "  backend_config=backend_config,\n",
    ")"
   ]
  },
  {
   "cell_type": "markdown",
   "metadata": {
    "id": "Fpp6sn10KTGS"
   },
   "source": [
    "#### Where's the accuracy?"
   ]
  },
  {
   "cell_type": "code",
   "execution_count": null,
   "metadata": {
    "id": "pyZWXSHBKTGS"
   },
   "outputs": [],
   "source": [
    "# def weighted_average(metrics: List[Tuple[int, Metrics]]) -> Metrics:\n",
    "#     # Multiply accuracy of each client by number of examples used\n",
    "#     accuracies = [num_examples * m[\"accuracy\"] for num_examples, m in metrics]\n",
    "#     examples = [num_examples for num_examples, _ in metrics]\n",
    "\n",
    "#     # Aggregate and return custom metric (weighted average)\n",
    "#     return {\"accuracy\": sum(accuracies) / sum(examples)}"
   ]
  },
  {
   "cell_type": "code",
   "execution_count": null,
   "metadata": {
    "id": "Pb0QmZqxKTGS"
   },
   "outputs": [],
   "source": [
    "# def server_fn(context: Context) -> ServerAppComponents:\n",
    "#     \"\"\"Construct components that set the ServerApp behaviour.\n",
    "\n",
    "#     You can use settings in `context.run_config` to parameterize the\n",
    "#     construction of all elements (e.g the strategy or the number of rounds)\n",
    "#     wrapped in the returned ServerAppComponents object.\n",
    "#     \"\"\"\n",
    "\n",
    "#     # Create FedAvg strategy\n",
    "#     strategy = FedAvg(\n",
    "#         fraction_fit=1.0,\n",
    "#         fraction_evaluate=0.5,\n",
    "#         min_fit_clients=10,\n",
    "#         min_evaluate_clients=5,\n",
    "#         min_available_clients=10,\n",
    "#         evaluate_metrics_aggregation_fn=weighted_average,  # <-- pass the metric aggregation function\n",
    "#     )\n",
    "\n",
    "#     # Configure the server for 5 rounds of training\n",
    "#     config = ServerConfig(num_rounds=5)\n",
    "\n",
    "#     return ServerAppComponents(strategy=strategy, config=config)\n",
    "\n",
    "\n",
    "# # Create a new server instance with the updated FedAvg strategy\n",
    "# server = ServerApp(server_fn=server_fn)\n",
    "\n",
    "# # Run simulation\n",
    "# run_simulation(\n",
    "#     server_app=server,\n",
    "#     client_app=client,\n",
    "#     num_supernodes=NUM_CLIENTS,\n",
    "#     backend_config=backend_config,\n",
    "# )"
   ]
  }
 ],
 "metadata": {
  "accelerator": "GPU",
  "colab": {
   "collapsed_sections": [
    "ZvZLb7BXKTGP",
    "Bsx50C1LKTGQ",
    "t4ogUj-MKTGQ",
    "fLwiqv8-KTGR",
    "1vUxlDjlKTGR",
    "fJ4YLNsFKTGS",
    "Fpp6sn10KTGS"
   ],
   "gpuType": "T4",
   "provenance": []
  },
  "kernelspec": {
   "display_name": "Python 3",
   "name": "python3"
  },
  "language_info": {
   "codemirror_mode": {
    "name": "ipython",
    "version": 3
   },
   "file_extension": ".py",
   "mimetype": "text/x-python",
   "name": "python",
   "nbconvert_exporter": "python",
   "pygments_lexer": "ipython3",
   "version": "3.12.7"
  }
 },
 "nbformat": 4,
 "nbformat_minor": 0
}
