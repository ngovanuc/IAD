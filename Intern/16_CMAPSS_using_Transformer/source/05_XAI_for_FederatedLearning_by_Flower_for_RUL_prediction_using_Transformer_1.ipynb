{
  "cells": [
    {
      "cell_type": "markdown",
      "metadata": {
        "id": "bnYweYq7MAx_"
      },
      "source": [
        "# Part I. RUL prediction using Transformer model (Centralize model)"
      ]
    },
    {
      "cell_type": "markdown",
      "metadata": {
        "id": "bkndtwvEMAyB"
      },
      "source": [
        "# Preparation"
      ]
    },
    {
      "cell_type": "code",
      "execution_count": 1,
      "metadata": {
        "colab": {
          "base_uri": "https://localhost:8080/"
        },
        "id": "Z9u9NGr2MAyB",
        "outputId": "29244025-6832-4664-ba1b-7db0e3af4975"
      },
      "outputs": [
        {
          "name": "stdout",
          "output_type": "stream",
          "text": [
            "IN_COLAB: False\n"
          ]
        }
      ],
      "source": [
        "# When run code on Colab\n",
        "try:\n",
        "    import google.colab\n",
        "    IN_COLAB = True\n",
        "except:\n",
        "    IN_COLAB = False\n",
        "if IN_COLAB:\n",
        "    from google.colab import drive\n",
        "    drive.mount('/content/drive')\n",
        "print(f'IN_COLAB: {IN_COLAB}')"
      ]
    },
    {
      "cell_type": "code",
      "execution_count": 2,
      "metadata": {
        "colab": {
          "base_uri": "https://localhost:8080/"
        },
        "id": "g5Bwn09CMAyD",
        "outputId": "6c8b1ae9-10c9-4949-e2ef-5508f06bf4d6"
      },
      "outputs": [],
      "source": [
        "!pip install -q flwr[simulation] flwr-datasets[vision] torch torchvision matplotlib"
      ]
    },
    {
      "cell_type": "code",
      "execution_count": 3,
      "metadata": {
        "id": "3A85IsxNMAyD"
      },
      "outputs": [],
      "source": [
        "# Off log duplicate messages\n",
        "import os\n",
        "os.environ[\"RAY_DEDUP_LOGS\"] = \"0\"\n",
        "\n",
        "# Off warning messages\n",
        "import warnings\n",
        "warnings.filterwarnings('ignore')\n",
        "\n",
        "if not IN_COLAB:\n",
        "    try:\n",
        "        import pyinspect as pi\n",
        "    except:\n",
        "        pass"
      ]
    },
    {
      "cell_type": "code",
      "execution_count": 4,
      "metadata": {
        "id": "HPY8OhXWMAyD"
      },
      "outputs": [
        {
          "name": "stderr",
          "output_type": "stream",
          "text": [
            "2025-02-11 07:48:48,141\tINFO util.py:154 -- Missing packages: ['ipywidgets']. Run `pip install -U ipywidgets`, then restart the notebook server for rich notebook output.\n",
            "/home/os/anaconda3/envs/.venv/lib/python3.12/site-packages/shap/plots/colors/_colorconv.py:819: DeprecationWarning: Converting `np.inexact` or `np.floating` to a dtype is deprecated. The current result is `float64` which is not strictly correct.\n",
            "  if np.issubdtype(dtype_in, np.dtype(dtype).type):\n"
          ]
        }
      ],
      "source": [
        "from collections import OrderedDict\n",
        "from typing import List, Tuple\n",
        "\n",
        "import numpy as np\n",
        "import pandas as pd\n",
        "import matplotlib.pyplot as plt\n",
        "\n",
        "import torch\n",
        "import torch.nn as nn\n",
        "import torch.nn.functional as F\n",
        "import torchvision.transforms as transforms\n",
        "from torch.utils.data import random_split\n",
        "from torch.utils.data import DataLoader\n",
        "from torch.utils.data import Dataset\n",
        "\n",
        "from datasets.utils.logging import disable_progress_bar\n",
        "\n",
        "from sklearn.preprocessing import MinMaxScaler\n",
        "from sklearn.model_selection import train_test_split\n",
        "\n",
        "import flwr\n",
        "from flwr.client import Client, ClientApp, NumPyClient\n",
        "from flwr.common import Metrics, Context\n",
        "from flwr.server import ServerApp, ServerConfig, ServerAppComponents\n",
        "from flwr.server.strategy import FedAvg\n",
        "from flwr.simulation import run_simulation\n",
        "# from flwr_datasets import FederatedDataset\n",
        "\n",
        "import shap"
      ]
    },
    {
      "cell_type": "code",
      "execution_count": 5,
      "metadata": {
        "colab": {
          "base_uri": "https://localhost:8080/"
        },
        "id": "VVkgjO0FMAyE",
        "outputId": "83016b96-aa2a-4bf8-aa1c-42a6ad9ea3bb"
      },
      "outputs": [
        {
          "name": "stdout",
          "output_type": "stream",
          "text": [
            "Training on cuda\n",
            "Flower 1.14.0 / PyTorch 2.5.1+cu124\n"
          ]
        }
      ],
      "source": [
        "# Check GPU if available else CPU\n",
        "DEVICE = torch.device(\"cuda\" if torch.cuda.is_available() else \"cpu\")\n",
        "print(f\"Training on {DEVICE}\")\n",
        "print(f\"Flower {flwr.__version__} / PyTorch {torch.__version__}\")\n",
        "disable_progress_bar()"
      ]
    },
    {
      "cell_type": "markdown",
      "metadata": {
        "id": "xjJsJCeIMAyE"
      },
      "source": [
        "# Building Transformer model"
      ]
    },
    {
      "cell_type": "code",
      "execution_count": 6,
      "metadata": {
        "id": "hTrlkOGbMAyE"
      },
      "outputs": [],
      "source": [
        "class TransformerModel(nn.Module):\n",
        "    def __init__(self, input_dim, d_model, nhead, num_layers, dim_feedforward, dropout):\n",
        "        super(TransformerModel, self).__init__()\n",
        "        self.input_embedding = nn.Linear(input_dim, d_model)\n",
        "        self.positional_encoding = nn.Parameter(torch.zeros(1, 5000, d_model))\n",
        "        self.transformer = nn.Transformer(\n",
        "            d_model=d_model,\n",
        "            nhead=nhead,\n",
        "            num_encoder_layers=num_layers,\n",
        "            num_decoder_layers=num_layers,\n",
        "            dim_feedforward=dim_feedforward,\n",
        "            dropout=dropout,\n",
        "            batch_first=True\n",
        "        )\n",
        "        self.fc_out = nn.Linear(d_model, 1)\n",
        "\n",
        "    def forward(self, src):\n",
        "        src_emb = self.input_embedding(src) + self.positional_encoding[:, :src.size(1), :]\n",
        "        src_emb = src_emb.permute(1, 0, 2)\n",
        "        transformer_out = self.transformer(src_emb, src_emb)\n",
        "        output = self.fc_out(transformer_out[-1, :, :])\n",
        "        return output.squeeze(-1)"
      ]
    },
    {
      "cell_type": "markdown",
      "metadata": {
        "id": "MofOJ5kcMAyF"
      },
      "source": [
        "# Building Dataloader"
      ]
    },
    {
      "cell_type": "code",
      "execution_count": 7,
      "metadata": {
        "id": "vOZ_DGvDMAyF"
      },
      "outputs": [],
      "source": [
        "class CMAPSSLoaderDataset(Dataset):\n",
        "    def __init__(self, data, sequence_length):\n",
        "        self.data = data\n",
        "        self.sequence_length = sequence_length\n",
        "        self.sequences = []\n",
        "        self.targets = []\n",
        "\n",
        "        grouped = data.groupby('ID Engine')\n",
        "        for _, group in grouped:\n",
        "            values = group.drop(['ID Engine', 'Cycle', 'Setting 1', 'Setting 2', 'Setting 3','Remaining RUL'], axis=1).values\n",
        "            rul_values = group['Remaining RUL'].values\n",
        "\n",
        "            for i in range(len(values) - sequence_length + 1):\n",
        "                self.sequences.append(values[i:i + sequence_length])\n",
        "                self.targets.append(rul_values[i + sequence_length - 1])\n",
        "\n",
        "    def __len__(self):\n",
        "\n",
        "        return len(self.sequences)\n",
        "\n",
        "    def __getitem__(self, idx):\n",
        "        return (\n",
        "            torch.tensor(self.sequences[idx], dtype=torch.float32),\n",
        "            torch.tensor(self.targets[idx], dtype=torch.float32),\n",
        "        )"
      ]
    },
    {
      "cell_type": "markdown",
      "metadata": {
        "id": "uUlltooqMAyF"
      },
      "source": [
        "# Define parameters for training"
      ]
    },
    {
      "cell_type": "code",
      "execution_count": 8,
      "metadata": {
        "id": "0TC27RxyMAyF"
      },
      "outputs": [],
      "source": [
        "# Transformer parameters\n",
        "input_dim = 21\n",
        "d_model = 64\n",
        "nhead = 4\n",
        "num_layers = 2\n",
        "dim_feedforward = 256\n",
        "dropout = 0.1\n",
        "learning_rate = 1e-3\n",
        "verbose=False\n",
        "\n",
        "# Dataloader parameters\n",
        "sequence_length = 30\n",
        "\n",
        "# Training parameters\n",
        "batch_size = 128\n",
        "epochs = 50"
      ]
    },
    {
      "cell_type": "markdown",
      "metadata": {
        "id": "fLLW79nlMAyG"
      },
      "source": [
        "# Define training/test functions"
      ]
    },
    {
      "cell_type": "code",
      "execution_count": 9,
      "metadata": {
        "id": "M_DmheohMAyG"
      },
      "outputs": [],
      "source": [
        "def train_model(model, client_loader_train, client_loader_validation: None, epochs: int, learning_rate: int, verbose=False):\n",
        "    model = model.to(DEVICE)\n",
        "    criterion = nn.MSELoss()\n",
        "    optimizer = torch.optim.Adam(model.parameters(), lr=learning_rate)\n",
        "\n",
        "    for epoch in range(epochs):\n",
        "        model.train()\n",
        "        train_loss = 0\n",
        "        for batch in client_loader_train:\n",
        "            seq, target = batch\n",
        "            seq, target = seq.to(DEVICE), target.to(DEVICE)\n",
        "            optimizer.zero_grad()\n",
        "            output = model(seq)\n",
        "            loss = criterion(output, target)\n",
        "            loss.backward()\n",
        "            optimizer.step()\n",
        "            train_loss += loss.item()\n",
        "        val_loss = 0\n",
        "        model.eval()\n",
        "        with torch.no_grad():\n",
        "            for batch in client_loader_validation:\n",
        "                seq, target = batch\n",
        "                seq, target = seq.to(DEVICE), target.to(DEVICE)\n",
        "                output = model(seq)\n",
        "                loss = criterion(output, target)\n",
        "                val_loss += loss.item()\n",
        "        print(f\"Epoch {epoch+1}/{epochs}, Train Loss: {train_loss/len(client_loader_train)}, Validation Loss: {val_loss/len(client_loader_validation)}\")"
      ]
    },
    {
      "cell_type": "code",
      "execution_count": 10,
      "metadata": {
        "id": "wAImKs32MAyG"
      },
      "outputs": [],
      "source": [
        "def test_model(model, client_loader_validation, return_actual_rul=False, show_fig=False):\n",
        "    criterion = nn.MSELoss()\n",
        "\n",
        "    samples, targets = next(iter(client_loader_validation))\n",
        "    samples, targets = samples.to(DEVICE), targets.to(DEVICE)\n",
        "\n",
        "    model.eval()\n",
        "    val_loss = 0\n",
        "    accuracy = 0\n",
        "    with torch.no_grad():\n",
        "        for batch in client_loader_validation:\n",
        "            samples, targets = batch\n",
        "            samples, targets = samples.to(DEVICE), targets.to(DEVICE)\n",
        "            predictions = model(samples)\n",
        "            val_loss += criterion(predictions, targets).item()\n",
        "    return val_loss/len(client_loader_validation)"
      ]
    },
    {
      "cell_type": "markdown",
      "metadata": {
        "id": "HUo0_klUMAyG"
      },
      "source": [
        "# Define prediction functions"
      ]
    },
    {
      "cell_type": "markdown",
      "metadata": {
        "id": "poU0s6olMAyG"
      },
      "source": [
        "### Prediction on a batch"
      ]
    },
    {
      "cell_type": "code",
      "execution_count": 11,
      "metadata": {
        "id": "BpY8ZLQjMAyG"
      },
      "outputs": [],
      "source": [
        "def predict_on_batch(model, batch_loader, return_actual_rul=False, show_fig=False):\n",
        "    criterion = nn.MSELoss()\n",
        "    samples, targets = batch_loader\n",
        "    samples, targets = samples.to(DEVICE), targets.to(DEVICE)\n",
        "\n",
        "    model.eval()\n",
        "    loss = 0\n",
        "    with torch.no_grad():\n",
        "        predictions = model(samples)\n",
        "    loss = criterion(predictions, targets)\n",
        "\n",
        "    if return_actual_rul:\n",
        "        samples = samples.cpu()\n",
        "        targets = targets.cpu()\n",
        "\n",
        "        rul_min = scaler.data_min_[-1]\n",
        "        rul_max = scaler.data_max_[-1]\n",
        "\n",
        "        predictions = predictions.cpu()\n",
        "        actual_predictions = predictions.numpy() * (rul_max - rul_min) + rul_min\n",
        "        actual_targets = targets.numpy() * (rul_max - rul_min) + rul_min\n",
        "\n",
        "        if show_fig:\n",
        "            plt.figure(figsize=(10, 6))\n",
        "            plt.plot(range(len(actual_predictions)), actual_predictions, label=\"Predicted RUL\", marker='o', linestyle='-')\n",
        "            plt.plot(range(len(actual_targets)), actual_targets, label=\"Actual RUL\", marker='x', linestyle='--')\n",
        "            plt.title(\"Comparison of Predicted and Actual RUL\")\n",
        "            plt.xlabel(\"Sample Index\")\n",
        "            plt.ylabel(\"Remaining Useful Life (RUL)\")\n",
        "            plt.legend()\n",
        "            plt.grid(True)\n",
        "            plt.show()\n",
        "\n",
        "        return loss, actual_predictions, actual_targets\n",
        "\n",
        "    return loss"
      ]
    },
    {
      "cell_type": "markdown",
      "metadata": {
        "id": "EcUDCjUJMAyG"
      },
      "source": [
        "### Prediction on a sample"
      ]
    },
    {
      "cell_type": "code",
      "execution_count": 11,
      "metadata": {
        "id": "fGf0T_-RMAyH"
      },
      "outputs": [],
      "source": []
    },
    {
      "cell_type": "markdown",
      "metadata": {
        "id": "Fg8XtAIsMAyH"
      },
      "source": [
        "# File paths"
      ]
    },
    {
      "cell_type": "code",
      "execution_count": 12,
      "metadata": {
        "id": "NoA5alN6MAyH"
      },
      "outputs": [],
      "source": [
        "if not IN_COLAB:\n",
        "    train_1_path = \"../data/train_FD001.txt\"\n",
        "    test_1_path = \"../data/test_FD001.txt\"\n",
        "    rul_1_path = \"../data/RUL_FD001.txt\"\n",
        "\n",
        "    train_2_path = \"../data/train_FD002.txt\"\n",
        "    test_2_path = \"../data/test_FD002.txt\"\n",
        "    rul_2_path = \"../data/RUL_FD002.txt\"\n",
        "\n",
        "    train_3_path = \"../data/train_FD003.txt\"\n",
        "    test_3_path = \"../data/test_FD003.txt\"\n",
        "    rul_3_path = \"../data/RUL_FD003.txt\"\n",
        "\n",
        "    train_4_path = \"../data/train_FD004.txt\"\n",
        "    test_4_path = \"../data/test_FD004.txt\"\n",
        "    rul_4_path = \"../data/RUL_FD004.txt\"\n",
        "    \n",
        "elif IN_COLAB:\n",
        "    train_1_path = \"/content/drive/MyDrive/Colab Notebooks/RUL_prediction_using_Transformer/train_FD001.txt\"\n",
        "    test_1_path = \"/content/drive/MyDrive/Colab Notebooks/RUL_prediction_using_Transformer/test_FD001.txt\"\n",
        "    rul_1_path = \"/content/drive/MyDrive/Colab Notebooks/RUL_prediction_using_Transformer/RUL_FD001.txt\"\n",
        "\n",
        "    train_2_path = \"/content/drive/MyDrive/Colab Notebooks/RUL_prediction_using_Transformer/train_FD002.txt\"\n",
        "    test_2_path = \"/content/drive/MyDrive/Colab Notebooks/RUL_prediction_using_Transformer/test_FD002.txt\"\n",
        "    rul_2_path = \"/content/drive/MyDrive/Colab Notebooks/RUL_prediction_using_Transformer/RUL_FD002.txt\"\n",
        "\n",
        "    train_3_path = \"/content/drive/MyDrive/Colab Notebooks/RUL_prediction_using_Transformer/train_FD003.txt\"\n",
        "    test_3_path = \"/content/drive/MyDrive/Colab Notebooks/RUL_prediction_using_Transformer/test_FD003.txt\"\n",
        "    rul_3_path = \"/content/drive/MyDrive/Colab Notebooks/RUL_prediction_using_Transformer/RUL_FD003.txt\"\n",
        "\n",
        "    train_4_path = \"/content/drive/MyDrive/Colab Notebooks/RUL_prediction_using_Transformer/train_FD004.txt\"\n",
        "    test_4_path = \"/content/drive/MyDrive/Colab Notebooks/RUL_prediction_using_Transformer/test_FD004.txt\"\n",
        "    rul_4_path = \"/content/drive/MyDrive/Colab Notebooks/RUL_prediction_using_Transformer/RUL_FD004.txt\""
      ]
    },
    {
      "cell_type": "code",
      "execution_count": 13,
      "metadata": {},
      "outputs": [],
      "source": [
        "# Initialization columns\n",
        "index_names = ['ID Engine', 'Cycle']\n",
        "setting_names = ['Setting 1', 'Setting 2', 'Setting 3']\n",
        "sensor_names = ['Sensor {}'.format(i) for i in range(1, 22)]\n",
        "column_names = index_names + setting_names + sensor_names"
      ]
    },
    {
      "cell_type": "markdown",
      "metadata": {
        "id": "Wp3n8jv4MAyH"
      },
      "source": [
        "# Calculate RUL for FD001"
      ]
    },
    {
      "cell_type": "markdown",
      "metadata": {},
      "source": [
        "### Calculate RUL for train set"
      ]
    },
    {
      "cell_type": "code",
      "execution_count": 14,
      "metadata": {
        "id": "g4Z2gsHhMAyH"
      },
      "outputs": [],
      "source": [
        "# Load trainset\n",
        "train_1 = pd.read_csv(train_1_path, sep=' ', header=None)\n",
        "train_1.drop([26, 27], axis=1, inplace=True)\n",
        "train_1.columns = column_names\n",
        "\n",
        "train_1['Remaining RUL'] = ''\n",
        "# train_1.head()"
      ]
    },
    {
      "cell_type": "code",
      "execution_count": 15,
      "metadata": {
        "colab": {
          "base_uri": "https://localhost:8080/"
        },
        "id": "-7SrC16fMAyH",
        "outputId": "102369b0-610b-44bc-feff-26f024af4601"
      },
      "outputs": [
        {
          "name": "stdout",
          "output_type": "stream",
          "text": [
            "trainset shape: (20631, 27)\n"
          ]
        }
      ],
      "source": [
        "# Calculate the remaining RUL for each engine\n",
        "max_cycle_1 = train_1.groupby('ID Engine').count()\n",
        "for idx in range(len(train_1)):\n",
        "    train_1.loc[idx, 'Remaining RUL'] = max_cycle_1.loc[train_1.loc[idx, 'ID Engine'], 'Cycle']\n",
        "train_1['Remaining RUL'] = train_1['Remaining RUL'] - train_1['Cycle']\n",
        "\n",
        "print(f\"trainset shape: {train_1.shape}\")"
      ]
    },
    {
      "cell_type": "code",
      "execution_count": 16,
      "metadata": {
        "colab": {
          "base_uri": "https://localhost:8080/",
          "height": 0
        },
        "id": "3qppLFRiMAyI",
        "outputId": "c9b3bd07-438d-4f7b-bb69-3111085697c5"
      },
      "outputs": [
        {
          "data": {
            "text/html": [
              "<div>\n",
              "<style scoped>\n",
              "    .dataframe tbody tr th:only-of-type {\n",
              "        vertical-align: middle;\n",
              "    }\n",
              "\n",
              "    .dataframe tbody tr th {\n",
              "        vertical-align: top;\n",
              "    }\n",
              "\n",
              "    .dataframe thead th {\n",
              "        text-align: right;\n",
              "    }\n",
              "</style>\n",
              "<table border=\"1\" class=\"dataframe\">\n",
              "  <thead>\n",
              "    <tr style=\"text-align: right;\">\n",
              "      <th></th>\n",
              "      <th>ID Engine</th>\n",
              "      <th>Cycle</th>\n",
              "      <th>Setting 1</th>\n",
              "      <th>Setting 2</th>\n",
              "      <th>Setting 3</th>\n",
              "      <th>Sensor 1</th>\n",
              "      <th>Sensor 2</th>\n",
              "      <th>Sensor 3</th>\n",
              "      <th>Sensor 4</th>\n",
              "      <th>Sensor 5</th>\n",
              "      <th>...</th>\n",
              "      <th>Sensor 13</th>\n",
              "      <th>Sensor 14</th>\n",
              "      <th>Sensor 15</th>\n",
              "      <th>Sensor 16</th>\n",
              "      <th>Sensor 17</th>\n",
              "      <th>Sensor 18</th>\n",
              "      <th>Sensor 19</th>\n",
              "      <th>Sensor 20</th>\n",
              "      <th>Sensor 21</th>\n",
              "      <th>Remaining RUL</th>\n",
              "    </tr>\n",
              "  </thead>\n",
              "  <tbody>\n",
              "    <tr>\n",
              "      <th>0</th>\n",
              "      <td>1</td>\n",
              "      <td>1</td>\n",
              "      <td>-0.0007</td>\n",
              "      <td>-0.0004</td>\n",
              "      <td>100.0</td>\n",
              "      <td>518.67</td>\n",
              "      <td>641.82</td>\n",
              "      <td>1589.70</td>\n",
              "      <td>1400.60</td>\n",
              "      <td>14.62</td>\n",
              "      <td>...</td>\n",
              "      <td>2388.02</td>\n",
              "      <td>8138.62</td>\n",
              "      <td>8.4195</td>\n",
              "      <td>0.03</td>\n",
              "      <td>392</td>\n",
              "      <td>2388</td>\n",
              "      <td>100.0</td>\n",
              "      <td>39.06</td>\n",
              "      <td>23.4190</td>\n",
              "      <td>191</td>\n",
              "    </tr>\n",
              "    <tr>\n",
              "      <th>1</th>\n",
              "      <td>1</td>\n",
              "      <td>2</td>\n",
              "      <td>0.0019</td>\n",
              "      <td>-0.0003</td>\n",
              "      <td>100.0</td>\n",
              "      <td>518.67</td>\n",
              "      <td>642.15</td>\n",
              "      <td>1591.82</td>\n",
              "      <td>1403.14</td>\n",
              "      <td>14.62</td>\n",
              "      <td>...</td>\n",
              "      <td>2388.07</td>\n",
              "      <td>8131.49</td>\n",
              "      <td>8.4318</td>\n",
              "      <td>0.03</td>\n",
              "      <td>392</td>\n",
              "      <td>2388</td>\n",
              "      <td>100.0</td>\n",
              "      <td>39.00</td>\n",
              "      <td>23.4236</td>\n",
              "      <td>190</td>\n",
              "    </tr>\n",
              "    <tr>\n",
              "      <th>2</th>\n",
              "      <td>1</td>\n",
              "      <td>3</td>\n",
              "      <td>-0.0043</td>\n",
              "      <td>0.0003</td>\n",
              "      <td>100.0</td>\n",
              "      <td>518.67</td>\n",
              "      <td>642.35</td>\n",
              "      <td>1587.99</td>\n",
              "      <td>1404.20</td>\n",
              "      <td>14.62</td>\n",
              "      <td>...</td>\n",
              "      <td>2388.03</td>\n",
              "      <td>8133.23</td>\n",
              "      <td>8.4178</td>\n",
              "      <td>0.03</td>\n",
              "      <td>390</td>\n",
              "      <td>2388</td>\n",
              "      <td>100.0</td>\n",
              "      <td>38.95</td>\n",
              "      <td>23.3442</td>\n",
              "      <td>189</td>\n",
              "    </tr>\n",
              "    <tr>\n",
              "      <th>3</th>\n",
              "      <td>1</td>\n",
              "      <td>4</td>\n",
              "      <td>0.0007</td>\n",
              "      <td>0.0000</td>\n",
              "      <td>100.0</td>\n",
              "      <td>518.67</td>\n",
              "      <td>642.35</td>\n",
              "      <td>1582.79</td>\n",
              "      <td>1401.87</td>\n",
              "      <td>14.62</td>\n",
              "      <td>...</td>\n",
              "      <td>2388.08</td>\n",
              "      <td>8133.83</td>\n",
              "      <td>8.3682</td>\n",
              "      <td>0.03</td>\n",
              "      <td>392</td>\n",
              "      <td>2388</td>\n",
              "      <td>100.0</td>\n",
              "      <td>38.88</td>\n",
              "      <td>23.3739</td>\n",
              "      <td>188</td>\n",
              "    </tr>\n",
              "    <tr>\n",
              "      <th>4</th>\n",
              "      <td>1</td>\n",
              "      <td>5</td>\n",
              "      <td>-0.0019</td>\n",
              "      <td>-0.0002</td>\n",
              "      <td>100.0</td>\n",
              "      <td>518.67</td>\n",
              "      <td>642.37</td>\n",
              "      <td>1582.85</td>\n",
              "      <td>1406.22</td>\n",
              "      <td>14.62</td>\n",
              "      <td>...</td>\n",
              "      <td>2388.04</td>\n",
              "      <td>8133.80</td>\n",
              "      <td>8.4294</td>\n",
              "      <td>0.03</td>\n",
              "      <td>393</td>\n",
              "      <td>2388</td>\n",
              "      <td>100.0</td>\n",
              "      <td>38.90</td>\n",
              "      <td>23.4044</td>\n",
              "      <td>187</td>\n",
              "    </tr>\n",
              "  </tbody>\n",
              "</table>\n",
              "<p>5 rows × 27 columns</p>\n",
              "</div>"
            ],
            "text/plain": [
              "   ID Engine  Cycle  Setting 1  Setting 2  Setting 3  Sensor 1  Sensor 2  \\\n",
              "0          1      1    -0.0007    -0.0004      100.0    518.67    641.82   \n",
              "1          1      2     0.0019    -0.0003      100.0    518.67    642.15   \n",
              "2          1      3    -0.0043     0.0003      100.0    518.67    642.35   \n",
              "3          1      4     0.0007     0.0000      100.0    518.67    642.35   \n",
              "4          1      5    -0.0019    -0.0002      100.0    518.67    642.37   \n",
              "\n",
              "   Sensor 3  Sensor 4  Sensor 5  ...  Sensor 13  Sensor 14  Sensor 15  \\\n",
              "0   1589.70   1400.60     14.62  ...    2388.02    8138.62     8.4195   \n",
              "1   1591.82   1403.14     14.62  ...    2388.07    8131.49     8.4318   \n",
              "2   1587.99   1404.20     14.62  ...    2388.03    8133.23     8.4178   \n",
              "3   1582.79   1401.87     14.62  ...    2388.08    8133.83     8.3682   \n",
              "4   1582.85   1406.22     14.62  ...    2388.04    8133.80     8.4294   \n",
              "\n",
              "   Sensor 16  Sensor 17  Sensor 18  Sensor 19  Sensor 20  Sensor 21  \\\n",
              "0       0.03        392       2388      100.0      39.06    23.4190   \n",
              "1       0.03        392       2388      100.0      39.00    23.4236   \n",
              "2       0.03        390       2388      100.0      38.95    23.3442   \n",
              "3       0.03        392       2388      100.0      38.88    23.3739   \n",
              "4       0.03        393       2388      100.0      38.90    23.4044   \n",
              "\n",
              "   Remaining RUL  \n",
              "0            191  \n",
              "1            190  \n",
              "2            189  \n",
              "3            188  \n",
              "4            187  \n",
              "\n",
              "[5 rows x 27 columns]"
            ]
          },
          "execution_count": 16,
          "metadata": {},
          "output_type": "execute_result"
        }
      ],
      "source": [
        "train_1.head()"
      ]
    },
    {
      "cell_type": "markdown",
      "metadata": {
        "id": "mhXW7sjEMAyI"
      },
      "source": [
        "### Load RUL set"
      ]
    },
    {
      "cell_type": "code",
      "execution_count": 17,
      "metadata": {
        "colab": {
          "base_uri": "https://localhost:8080/"
        },
        "id": "UzSU4pRhMAyI",
        "outputId": "963152c3-afca-402d-a7fc-c3ef27793cd2"
      },
      "outputs": [
        {
          "name": "stdout",
          "output_type": "stream",
          "text": [
            "RUL shape: (100, 1)\n"
          ]
        }
      ],
      "source": [
        "rul_1 = pd.read_csv(rul_1_path, sep=' ', header=None)\n",
        "rul_1.drop(rul_1.columns[1], axis=1, inplace=True)\n",
        "rul_1.columns = ['RUL']\n",
        "print(f'RUL shape: {rul_1.shape}')"
      ]
    },
    {
      "cell_type": "markdown",
      "metadata": {
        "id": "Prm8__JfMAyI"
      },
      "source": [
        "Tập RUL này là vòng đời còn lại của động cơ sau khi trải qua số lượng chu kỳ nhất định trong tập test (tương ứng)"
      ]
    },
    {
      "cell_type": "code",
      "execution_count": 18,
      "metadata": {
        "colab": {
          "base_uri": "https://localhost:8080/",
          "height": 0
        },
        "id": "fEYsXc7dMAyJ",
        "outputId": "ed4a9387-1459-45d4-d267-93cc17aa376a"
      },
      "outputs": [
        {
          "data": {
            "text/html": [
              "<div>\n",
              "<style scoped>\n",
              "    .dataframe tbody tr th:only-of-type {\n",
              "        vertical-align: middle;\n",
              "    }\n",
              "\n",
              "    .dataframe tbody tr th {\n",
              "        vertical-align: top;\n",
              "    }\n",
              "\n",
              "    .dataframe thead th {\n",
              "        text-align: right;\n",
              "    }\n",
              "</style>\n",
              "<table border=\"1\" class=\"dataframe\">\n",
              "  <thead>\n",
              "    <tr style=\"text-align: right;\">\n",
              "      <th></th>\n",
              "      <th>RUL</th>\n",
              "    </tr>\n",
              "  </thead>\n",
              "  <tbody>\n",
              "    <tr>\n",
              "      <th>0</th>\n",
              "      <td>112</td>\n",
              "    </tr>\n",
              "    <tr>\n",
              "      <th>1</th>\n",
              "      <td>98</td>\n",
              "    </tr>\n",
              "    <tr>\n",
              "      <th>2</th>\n",
              "      <td>69</td>\n",
              "    </tr>\n",
              "    <tr>\n",
              "      <th>3</th>\n",
              "      <td>82</td>\n",
              "    </tr>\n",
              "    <tr>\n",
              "      <th>4</th>\n",
              "      <td>91</td>\n",
              "    </tr>\n",
              "  </tbody>\n",
              "</table>\n",
              "</div>"
            ],
            "text/plain": [
              "   RUL\n",
              "0  112\n",
              "1   98\n",
              "2   69\n",
              "3   82\n",
              "4   91"
            ]
          },
          "execution_count": 18,
          "metadata": {},
          "output_type": "execute_result"
        }
      ],
      "source": [
        "rul_1.head()"
      ]
    },
    {
      "cell_type": "markdown",
      "metadata": {
        "id": "9uqS8lkPMAyJ"
      },
      "source": [
        "### Calculate RUL for test"
      ]
    },
    {
      "cell_type": "code",
      "execution_count": 19,
      "metadata": {
        "colab": {
          "base_uri": "https://localhost:8080/"
        },
        "id": "l1CugO7TMAyJ",
        "outputId": "ca91699b-8d09-4012-8f19-40f4bc23fdba"
      },
      "outputs": [],
      "source": [
        "# Load test set\n",
        "test_1 = pd.read_csv(test_1_path, sep=' ', header=None)\n",
        "test_1.drop([26, 27], axis=1, inplace=True)\n",
        "test_1.columns = column_names\n",
        "\n",
        "test_1['Remaining RUL'] = ''\n",
        "# test_1.head()"
      ]
    },
    {
      "cell_type": "code",
      "execution_count": 20,
      "metadata": {
        "colab": {
          "base_uri": "https://localhost:8080/"
        },
        "id": "6dTygyMtMAyJ",
        "outputId": "50229fc5-16d6-44d3-944f-c9ee9460f192"
      },
      "outputs": [],
      "source": [
        "max_cycle_test_1 = test_1.groupby('ID Engine').count()\n",
        "\n",
        "for idx in range(len(test_1)):\n",
        "    test_1.loc[idx, 'Remaining RUL'] = rul_1.loc[test_1.loc[idx, 'ID Engine'] - 1, 'RUL'] + max_cycle_test_1.loc[test_1.loc[idx, 'ID Engine'], 'Cycle']\n",
        "test_1['Remaining RUL'] = test_1['Remaining RUL'] - test_1['Cycle']"
      ]
    },
    {
      "cell_type": "code",
      "execution_count": 21,
      "metadata": {
        "colab": {
          "base_uri": "https://localhost:8080/",
          "height": 0
        },
        "id": "rIVfgCQyMAyJ",
        "outputId": "32d9835b-970b-484d-b96b-d9b342a853ea"
      },
      "outputs": [
        {
          "data": {
            "text/html": [
              "<div>\n",
              "<style scoped>\n",
              "    .dataframe tbody tr th:only-of-type {\n",
              "        vertical-align: middle;\n",
              "    }\n",
              "\n",
              "    .dataframe tbody tr th {\n",
              "        vertical-align: top;\n",
              "    }\n",
              "\n",
              "    .dataframe thead th {\n",
              "        text-align: right;\n",
              "    }\n",
              "</style>\n",
              "<table border=\"1\" class=\"dataframe\">\n",
              "  <thead>\n",
              "    <tr style=\"text-align: right;\">\n",
              "      <th></th>\n",
              "      <th>ID Engine</th>\n",
              "      <th>Cycle</th>\n",
              "      <th>Setting 1</th>\n",
              "      <th>Setting 2</th>\n",
              "      <th>Setting 3</th>\n",
              "      <th>Sensor 1</th>\n",
              "      <th>Sensor 2</th>\n",
              "      <th>Sensor 3</th>\n",
              "      <th>Sensor 4</th>\n",
              "      <th>Sensor 5</th>\n",
              "      <th>...</th>\n",
              "      <th>Sensor 13</th>\n",
              "      <th>Sensor 14</th>\n",
              "      <th>Sensor 15</th>\n",
              "      <th>Sensor 16</th>\n",
              "      <th>Sensor 17</th>\n",
              "      <th>Sensor 18</th>\n",
              "      <th>Sensor 19</th>\n",
              "      <th>Sensor 20</th>\n",
              "      <th>Sensor 21</th>\n",
              "      <th>Remaining RUL</th>\n",
              "    </tr>\n",
              "  </thead>\n",
              "  <tbody>\n",
              "    <tr>\n",
              "      <th>0</th>\n",
              "      <td>1</td>\n",
              "      <td>1</td>\n",
              "      <td>0.0023</td>\n",
              "      <td>0.0003</td>\n",
              "      <td>100.0</td>\n",
              "      <td>518.67</td>\n",
              "      <td>643.02</td>\n",
              "      <td>1585.29</td>\n",
              "      <td>1398.21</td>\n",
              "      <td>14.62</td>\n",
              "      <td>...</td>\n",
              "      <td>2388.03</td>\n",
              "      <td>8125.55</td>\n",
              "      <td>8.4052</td>\n",
              "      <td>0.03</td>\n",
              "      <td>392</td>\n",
              "      <td>2388</td>\n",
              "      <td>100.0</td>\n",
              "      <td>38.86</td>\n",
              "      <td>23.3735</td>\n",
              "      <td>142</td>\n",
              "    </tr>\n",
              "    <tr>\n",
              "      <th>1</th>\n",
              "      <td>1</td>\n",
              "      <td>2</td>\n",
              "      <td>-0.0027</td>\n",
              "      <td>-0.0003</td>\n",
              "      <td>100.0</td>\n",
              "      <td>518.67</td>\n",
              "      <td>641.71</td>\n",
              "      <td>1588.45</td>\n",
              "      <td>1395.42</td>\n",
              "      <td>14.62</td>\n",
              "      <td>...</td>\n",
              "      <td>2388.06</td>\n",
              "      <td>8139.62</td>\n",
              "      <td>8.3803</td>\n",
              "      <td>0.03</td>\n",
              "      <td>393</td>\n",
              "      <td>2388</td>\n",
              "      <td>100.0</td>\n",
              "      <td>39.02</td>\n",
              "      <td>23.3916</td>\n",
              "      <td>141</td>\n",
              "    </tr>\n",
              "    <tr>\n",
              "      <th>2</th>\n",
              "      <td>1</td>\n",
              "      <td>3</td>\n",
              "      <td>0.0003</td>\n",
              "      <td>0.0001</td>\n",
              "      <td>100.0</td>\n",
              "      <td>518.67</td>\n",
              "      <td>642.46</td>\n",
              "      <td>1586.94</td>\n",
              "      <td>1401.34</td>\n",
              "      <td>14.62</td>\n",
              "      <td>...</td>\n",
              "      <td>2388.03</td>\n",
              "      <td>8130.10</td>\n",
              "      <td>8.4441</td>\n",
              "      <td>0.03</td>\n",
              "      <td>393</td>\n",
              "      <td>2388</td>\n",
              "      <td>100.0</td>\n",
              "      <td>39.08</td>\n",
              "      <td>23.4166</td>\n",
              "      <td>140</td>\n",
              "    </tr>\n",
              "    <tr>\n",
              "      <th>3</th>\n",
              "      <td>1</td>\n",
              "      <td>4</td>\n",
              "      <td>0.0042</td>\n",
              "      <td>0.0000</td>\n",
              "      <td>100.0</td>\n",
              "      <td>518.67</td>\n",
              "      <td>642.44</td>\n",
              "      <td>1584.12</td>\n",
              "      <td>1406.42</td>\n",
              "      <td>14.62</td>\n",
              "      <td>...</td>\n",
              "      <td>2388.05</td>\n",
              "      <td>8132.90</td>\n",
              "      <td>8.3917</td>\n",
              "      <td>0.03</td>\n",
              "      <td>391</td>\n",
              "      <td>2388</td>\n",
              "      <td>100.0</td>\n",
              "      <td>39.00</td>\n",
              "      <td>23.3737</td>\n",
              "      <td>139</td>\n",
              "    </tr>\n",
              "    <tr>\n",
              "      <th>4</th>\n",
              "      <td>1</td>\n",
              "      <td>5</td>\n",
              "      <td>0.0014</td>\n",
              "      <td>0.0000</td>\n",
              "      <td>100.0</td>\n",
              "      <td>518.67</td>\n",
              "      <td>642.51</td>\n",
              "      <td>1587.19</td>\n",
              "      <td>1401.92</td>\n",
              "      <td>14.62</td>\n",
              "      <td>...</td>\n",
              "      <td>2388.03</td>\n",
              "      <td>8129.54</td>\n",
              "      <td>8.4031</td>\n",
              "      <td>0.03</td>\n",
              "      <td>390</td>\n",
              "      <td>2388</td>\n",
              "      <td>100.0</td>\n",
              "      <td>38.99</td>\n",
              "      <td>23.4130</td>\n",
              "      <td>138</td>\n",
              "    </tr>\n",
              "  </tbody>\n",
              "</table>\n",
              "<p>5 rows × 27 columns</p>\n",
              "</div>"
            ],
            "text/plain": [
              "   ID Engine  Cycle  Setting 1  Setting 2  Setting 3  Sensor 1  Sensor 2  \\\n",
              "0          1      1     0.0023     0.0003      100.0    518.67    643.02   \n",
              "1          1      2    -0.0027    -0.0003      100.0    518.67    641.71   \n",
              "2          1      3     0.0003     0.0001      100.0    518.67    642.46   \n",
              "3          1      4     0.0042     0.0000      100.0    518.67    642.44   \n",
              "4          1      5     0.0014     0.0000      100.0    518.67    642.51   \n",
              "\n",
              "   Sensor 3  Sensor 4  Sensor 5  ...  Sensor 13  Sensor 14  Sensor 15  \\\n",
              "0   1585.29   1398.21     14.62  ...    2388.03    8125.55     8.4052   \n",
              "1   1588.45   1395.42     14.62  ...    2388.06    8139.62     8.3803   \n",
              "2   1586.94   1401.34     14.62  ...    2388.03    8130.10     8.4441   \n",
              "3   1584.12   1406.42     14.62  ...    2388.05    8132.90     8.3917   \n",
              "4   1587.19   1401.92     14.62  ...    2388.03    8129.54     8.4031   \n",
              "\n",
              "   Sensor 16  Sensor 17  Sensor 18  Sensor 19  Sensor 20  Sensor 21  \\\n",
              "0       0.03        392       2388      100.0      38.86    23.3735   \n",
              "1       0.03        393       2388      100.0      39.02    23.3916   \n",
              "2       0.03        393       2388      100.0      39.08    23.4166   \n",
              "3       0.03        391       2388      100.0      39.00    23.3737   \n",
              "4       0.03        390       2388      100.0      38.99    23.4130   \n",
              "\n",
              "   Remaining RUL  \n",
              "0            142  \n",
              "1            141  \n",
              "2            140  \n",
              "3            139  \n",
              "4            138  \n",
              "\n",
              "[5 rows x 27 columns]"
            ]
          },
          "execution_count": 21,
          "metadata": {},
          "output_type": "execute_result"
        }
      ],
      "source": [
        "test_1.head()"
      ]
    },
    {
      "cell_type": "markdown",
      "metadata": {},
      "source": [
        "# Calculate RUL for FD002"
      ]
    },
    {
      "cell_type": "markdown",
      "metadata": {},
      "source": [
        "### Calculate RUL for train set"
      ]
    },
    {
      "cell_type": "code",
      "execution_count": 22,
      "metadata": {},
      "outputs": [],
      "source": [
        "# Load trainset\n",
        "train_2 = pd.read_csv(train_2_path, sep=' ', header=None)\n",
        "train_2.drop([26, 27], axis=1, inplace=True)\n",
        "train_2.columns = column_names\n",
        "\n",
        "train_2['Remaining RUL'] = ''\n",
        "# train_2.head()"
      ]
    },
    {
      "cell_type": "code",
      "execution_count": 23,
      "metadata": {},
      "outputs": [
        {
          "name": "stdout",
          "output_type": "stream",
          "text": [
            "trainset shape: (53759, 27)\n"
          ]
        }
      ],
      "source": [
        "# Calculate the remaining RUL for each engine\n",
        "max_cycle_2 = train_2.groupby('ID Engine').count()\n",
        "for idx in range(len(train_2)):\n",
        "    train_2.loc[idx, 'Remaining RUL'] = max_cycle_2.loc[train_2.loc[idx, 'ID Engine'], 'Cycle']\n",
        "train_2['Remaining RUL'] = train_2['Remaining RUL'] - train_2['Cycle']\n",
        "\n",
        "print(f\"trainset shape: {train_2.shape}\")"
      ]
    },
    {
      "cell_type": "code",
      "execution_count": 24,
      "metadata": {},
      "outputs": [
        {
          "data": {
            "text/html": [
              "<div>\n",
              "<style scoped>\n",
              "    .dataframe tbody tr th:only-of-type {\n",
              "        vertical-align: middle;\n",
              "    }\n",
              "\n",
              "    .dataframe tbody tr th {\n",
              "        vertical-align: top;\n",
              "    }\n",
              "\n",
              "    .dataframe thead th {\n",
              "        text-align: right;\n",
              "    }\n",
              "</style>\n",
              "<table border=\"1\" class=\"dataframe\">\n",
              "  <thead>\n",
              "    <tr style=\"text-align: right;\">\n",
              "      <th></th>\n",
              "      <th>ID Engine</th>\n",
              "      <th>Cycle</th>\n",
              "      <th>Setting 1</th>\n",
              "      <th>Setting 2</th>\n",
              "      <th>Setting 3</th>\n",
              "      <th>Sensor 1</th>\n",
              "      <th>Sensor 2</th>\n",
              "      <th>Sensor 3</th>\n",
              "      <th>Sensor 4</th>\n",
              "      <th>Sensor 5</th>\n",
              "      <th>...</th>\n",
              "      <th>Sensor 13</th>\n",
              "      <th>Sensor 14</th>\n",
              "      <th>Sensor 15</th>\n",
              "      <th>Sensor 16</th>\n",
              "      <th>Sensor 17</th>\n",
              "      <th>Sensor 18</th>\n",
              "      <th>Sensor 19</th>\n",
              "      <th>Sensor 20</th>\n",
              "      <th>Sensor 21</th>\n",
              "      <th>Remaining RUL</th>\n",
              "    </tr>\n",
              "  </thead>\n",
              "  <tbody>\n",
              "    <tr>\n",
              "      <th>0</th>\n",
              "      <td>1</td>\n",
              "      <td>1</td>\n",
              "      <td>34.9983</td>\n",
              "      <td>0.8400</td>\n",
              "      <td>100.0</td>\n",
              "      <td>449.44</td>\n",
              "      <td>555.32</td>\n",
              "      <td>1358.61</td>\n",
              "      <td>1137.23</td>\n",
              "      <td>5.48</td>\n",
              "      <td>...</td>\n",
              "      <td>2387.72</td>\n",
              "      <td>8048.56</td>\n",
              "      <td>9.3461</td>\n",
              "      <td>0.02</td>\n",
              "      <td>334</td>\n",
              "      <td>2223</td>\n",
              "      <td>100.00</td>\n",
              "      <td>14.73</td>\n",
              "      <td>8.8071</td>\n",
              "      <td>148</td>\n",
              "    </tr>\n",
              "    <tr>\n",
              "      <th>1</th>\n",
              "      <td>1</td>\n",
              "      <td>2</td>\n",
              "      <td>41.9982</td>\n",
              "      <td>0.8408</td>\n",
              "      <td>100.0</td>\n",
              "      <td>445.00</td>\n",
              "      <td>549.90</td>\n",
              "      <td>1353.22</td>\n",
              "      <td>1125.78</td>\n",
              "      <td>3.91</td>\n",
              "      <td>...</td>\n",
              "      <td>2387.66</td>\n",
              "      <td>8072.30</td>\n",
              "      <td>9.3774</td>\n",
              "      <td>0.02</td>\n",
              "      <td>330</td>\n",
              "      <td>2212</td>\n",
              "      <td>100.00</td>\n",
              "      <td>10.41</td>\n",
              "      <td>6.2665</td>\n",
              "      <td>147</td>\n",
              "    </tr>\n",
              "    <tr>\n",
              "      <th>2</th>\n",
              "      <td>1</td>\n",
              "      <td>3</td>\n",
              "      <td>24.9988</td>\n",
              "      <td>0.6218</td>\n",
              "      <td>60.0</td>\n",
              "      <td>462.54</td>\n",
              "      <td>537.31</td>\n",
              "      <td>1256.76</td>\n",
              "      <td>1047.45</td>\n",
              "      <td>7.05</td>\n",
              "      <td>...</td>\n",
              "      <td>2028.03</td>\n",
              "      <td>7864.87</td>\n",
              "      <td>10.8941</td>\n",
              "      <td>0.02</td>\n",
              "      <td>309</td>\n",
              "      <td>1915</td>\n",
              "      <td>84.93</td>\n",
              "      <td>14.08</td>\n",
              "      <td>8.6723</td>\n",
              "      <td>146</td>\n",
              "    </tr>\n",
              "    <tr>\n",
              "      <th>3</th>\n",
              "      <td>1</td>\n",
              "      <td>4</td>\n",
              "      <td>42.0077</td>\n",
              "      <td>0.8416</td>\n",
              "      <td>100.0</td>\n",
              "      <td>445.00</td>\n",
              "      <td>549.51</td>\n",
              "      <td>1354.03</td>\n",
              "      <td>1126.38</td>\n",
              "      <td>3.91</td>\n",
              "      <td>...</td>\n",
              "      <td>2387.61</td>\n",
              "      <td>8068.66</td>\n",
              "      <td>9.3528</td>\n",
              "      <td>0.02</td>\n",
              "      <td>329</td>\n",
              "      <td>2212</td>\n",
              "      <td>100.00</td>\n",
              "      <td>10.59</td>\n",
              "      <td>6.4701</td>\n",
              "      <td>145</td>\n",
              "    </tr>\n",
              "    <tr>\n",
              "      <th>4</th>\n",
              "      <td>1</td>\n",
              "      <td>5</td>\n",
              "      <td>25.0005</td>\n",
              "      <td>0.6203</td>\n",
              "      <td>60.0</td>\n",
              "      <td>462.54</td>\n",
              "      <td>537.07</td>\n",
              "      <td>1257.71</td>\n",
              "      <td>1047.93</td>\n",
              "      <td>7.05</td>\n",
              "      <td>...</td>\n",
              "      <td>2028.00</td>\n",
              "      <td>7861.23</td>\n",
              "      <td>10.8963</td>\n",
              "      <td>0.02</td>\n",
              "      <td>309</td>\n",
              "      <td>1915</td>\n",
              "      <td>84.93</td>\n",
              "      <td>14.13</td>\n",
              "      <td>8.5286</td>\n",
              "      <td>144</td>\n",
              "    </tr>\n",
              "  </tbody>\n",
              "</table>\n",
              "<p>5 rows × 27 columns</p>\n",
              "</div>"
            ],
            "text/plain": [
              "   ID Engine  Cycle  Setting 1  Setting 2  Setting 3  Sensor 1  Sensor 2  \\\n",
              "0          1      1    34.9983     0.8400      100.0    449.44    555.32   \n",
              "1          1      2    41.9982     0.8408      100.0    445.00    549.90   \n",
              "2          1      3    24.9988     0.6218       60.0    462.54    537.31   \n",
              "3          1      4    42.0077     0.8416      100.0    445.00    549.51   \n",
              "4          1      5    25.0005     0.6203       60.0    462.54    537.07   \n",
              "\n",
              "   Sensor 3  Sensor 4  Sensor 5  ...  Sensor 13  Sensor 14  Sensor 15  \\\n",
              "0   1358.61   1137.23      5.48  ...    2387.72    8048.56     9.3461   \n",
              "1   1353.22   1125.78      3.91  ...    2387.66    8072.30     9.3774   \n",
              "2   1256.76   1047.45      7.05  ...    2028.03    7864.87    10.8941   \n",
              "3   1354.03   1126.38      3.91  ...    2387.61    8068.66     9.3528   \n",
              "4   1257.71   1047.93      7.05  ...    2028.00    7861.23    10.8963   \n",
              "\n",
              "   Sensor 16  Sensor 17  Sensor 18  Sensor 19  Sensor 20  Sensor 21  \\\n",
              "0       0.02        334       2223     100.00      14.73     8.8071   \n",
              "1       0.02        330       2212     100.00      10.41     6.2665   \n",
              "2       0.02        309       1915      84.93      14.08     8.6723   \n",
              "3       0.02        329       2212     100.00      10.59     6.4701   \n",
              "4       0.02        309       1915      84.93      14.13     8.5286   \n",
              "\n",
              "   Remaining RUL  \n",
              "0            148  \n",
              "1            147  \n",
              "2            146  \n",
              "3            145  \n",
              "4            144  \n",
              "\n",
              "[5 rows x 27 columns]"
            ]
          },
          "execution_count": 24,
          "metadata": {},
          "output_type": "execute_result"
        }
      ],
      "source": [
        "train_2.head()"
      ]
    },
    {
      "cell_type": "markdown",
      "metadata": {},
      "source": [
        "### Load RUL set"
      ]
    },
    {
      "cell_type": "code",
      "execution_count": 25,
      "metadata": {},
      "outputs": [
        {
          "name": "stdout",
          "output_type": "stream",
          "text": [
            "RUL shape: (259, 1)\n"
          ]
        }
      ],
      "source": [
        "rul_2 = pd.read_csv(rul_2_path, sep=' ', header=None)\n",
        "rul_2.drop(rul_2.columns[1], axis=1, inplace=True)\n",
        "rul_2.columns = ['RUL']\n",
        "print(f'RUL shape: {rul_2.shape}')"
      ]
    },
    {
      "cell_type": "markdown",
      "metadata": {},
      "source": [
        "Tập RUL này là vòng đời còn lại của động cơ sau khi trải qua số lượng chu kỳ nhất định trong tập test (tương ứng)"
      ]
    },
    {
      "cell_type": "code",
      "execution_count": 26,
      "metadata": {},
      "outputs": [
        {
          "data": {
            "text/html": [
              "<div>\n",
              "<style scoped>\n",
              "    .dataframe tbody tr th:only-of-type {\n",
              "        vertical-align: middle;\n",
              "    }\n",
              "\n",
              "    .dataframe tbody tr th {\n",
              "        vertical-align: top;\n",
              "    }\n",
              "\n",
              "    .dataframe thead th {\n",
              "        text-align: right;\n",
              "    }\n",
              "</style>\n",
              "<table border=\"1\" class=\"dataframe\">\n",
              "  <thead>\n",
              "    <tr style=\"text-align: right;\">\n",
              "      <th></th>\n",
              "      <th>RUL</th>\n",
              "    </tr>\n",
              "  </thead>\n",
              "  <tbody>\n",
              "    <tr>\n",
              "      <th>0</th>\n",
              "      <td>18</td>\n",
              "    </tr>\n",
              "    <tr>\n",
              "      <th>1</th>\n",
              "      <td>79</td>\n",
              "    </tr>\n",
              "    <tr>\n",
              "      <th>2</th>\n",
              "      <td>106</td>\n",
              "    </tr>\n",
              "    <tr>\n",
              "      <th>3</th>\n",
              "      <td>110</td>\n",
              "    </tr>\n",
              "    <tr>\n",
              "      <th>4</th>\n",
              "      <td>15</td>\n",
              "    </tr>\n",
              "  </tbody>\n",
              "</table>\n",
              "</div>"
            ],
            "text/plain": [
              "   RUL\n",
              "0   18\n",
              "1   79\n",
              "2  106\n",
              "3  110\n",
              "4   15"
            ]
          },
          "execution_count": 26,
          "metadata": {},
          "output_type": "execute_result"
        }
      ],
      "source": [
        "rul_2.head()"
      ]
    },
    {
      "cell_type": "markdown",
      "metadata": {},
      "source": [
        "### Calculate RUL for test"
      ]
    },
    {
      "cell_type": "code",
      "execution_count": 27,
      "metadata": {},
      "outputs": [],
      "source": [
        "# Load test set\n",
        "test_2 = pd.read_csv(test_2_path, sep=' ', header=None)\n",
        "test_2.drop([26, 27], axis=1, inplace=True)\n",
        "test_2.columns = column_names\n",
        "\n",
        "test_2['Remaining RUL'] = ''\n",
        "# test_2.head()"
      ]
    },
    {
      "cell_type": "code",
      "execution_count": 28,
      "metadata": {},
      "outputs": [],
      "source": [
        "max_cycle_test_2 = test_2.groupby('ID Engine').count()\n",
        "\n",
        "for idx in range(len(test_2)):\n",
        "    test_2.loc[idx, 'Remaining RUL'] = rul_2.loc[test_2.loc[idx, 'ID Engine'] - 1, 'RUL'] + max_cycle_test_2.loc[test_2.loc[idx, 'ID Engine'], 'Cycle']\n",
        "test_2['Remaining RUL'] = test_2['Remaining RUL'] - test_2['Cycle']"
      ]
    },
    {
      "cell_type": "code",
      "execution_count": 29,
      "metadata": {},
      "outputs": [
        {
          "data": {
            "text/html": [
              "<div>\n",
              "<style scoped>\n",
              "    .dataframe tbody tr th:only-of-type {\n",
              "        vertical-align: middle;\n",
              "    }\n",
              "\n",
              "    .dataframe tbody tr th {\n",
              "        vertical-align: top;\n",
              "    }\n",
              "\n",
              "    .dataframe thead th {\n",
              "        text-align: right;\n",
              "    }\n",
              "</style>\n",
              "<table border=\"1\" class=\"dataframe\">\n",
              "  <thead>\n",
              "    <tr style=\"text-align: right;\">\n",
              "      <th></th>\n",
              "      <th>ID Engine</th>\n",
              "      <th>Cycle</th>\n",
              "      <th>Setting 1</th>\n",
              "      <th>Setting 2</th>\n",
              "      <th>Setting 3</th>\n",
              "      <th>Sensor 1</th>\n",
              "      <th>Sensor 2</th>\n",
              "      <th>Sensor 3</th>\n",
              "      <th>Sensor 4</th>\n",
              "      <th>Sensor 5</th>\n",
              "      <th>...</th>\n",
              "      <th>Sensor 13</th>\n",
              "      <th>Sensor 14</th>\n",
              "      <th>Sensor 15</th>\n",
              "      <th>Sensor 16</th>\n",
              "      <th>Sensor 17</th>\n",
              "      <th>Sensor 18</th>\n",
              "      <th>Sensor 19</th>\n",
              "      <th>Sensor 20</th>\n",
              "      <th>Sensor 21</th>\n",
              "      <th>Remaining RUL</th>\n",
              "    </tr>\n",
              "  </thead>\n",
              "  <tbody>\n",
              "    <tr>\n",
              "      <th>0</th>\n",
              "      <td>1</td>\n",
              "      <td>1</td>\n",
              "      <td>9.9987</td>\n",
              "      <td>0.2502</td>\n",
              "      <td>100.0</td>\n",
              "      <td>489.05</td>\n",
              "      <td>605.03</td>\n",
              "      <td>1497.17</td>\n",
              "      <td>1304.99</td>\n",
              "      <td>10.52</td>\n",
              "      <td>...</td>\n",
              "      <td>2388.18</td>\n",
              "      <td>8114.10</td>\n",
              "      <td>8.6476</td>\n",
              "      <td>0.03</td>\n",
              "      <td>369</td>\n",
              "      <td>2319</td>\n",
              "      <td>100.00</td>\n",
              "      <td>28.42</td>\n",
              "      <td>17.1551</td>\n",
              "      <td>275</td>\n",
              "    </tr>\n",
              "    <tr>\n",
              "      <th>1</th>\n",
              "      <td>1</td>\n",
              "      <td>2</td>\n",
              "      <td>20.0026</td>\n",
              "      <td>0.7000</td>\n",
              "      <td>100.0</td>\n",
              "      <td>491.19</td>\n",
              "      <td>607.82</td>\n",
              "      <td>1481.20</td>\n",
              "      <td>1246.11</td>\n",
              "      <td>9.35</td>\n",
              "      <td>...</td>\n",
              "      <td>2388.12</td>\n",
              "      <td>8053.06</td>\n",
              "      <td>9.2405</td>\n",
              "      <td>0.02</td>\n",
              "      <td>364</td>\n",
              "      <td>2324</td>\n",
              "      <td>100.00</td>\n",
              "      <td>24.29</td>\n",
              "      <td>14.8039</td>\n",
              "      <td>274</td>\n",
              "    </tr>\n",
              "    <tr>\n",
              "      <th>2</th>\n",
              "      <td>1</td>\n",
              "      <td>3</td>\n",
              "      <td>35.0045</td>\n",
              "      <td>0.8400</td>\n",
              "      <td>100.0</td>\n",
              "      <td>449.44</td>\n",
              "      <td>556.00</td>\n",
              "      <td>1359.08</td>\n",
              "      <td>1128.36</td>\n",
              "      <td>5.48</td>\n",
              "      <td>...</td>\n",
              "      <td>2387.75</td>\n",
              "      <td>8053.04</td>\n",
              "      <td>9.3472</td>\n",
              "      <td>0.02</td>\n",
              "      <td>333</td>\n",
              "      <td>2223</td>\n",
              "      <td>100.00</td>\n",
              "      <td>14.98</td>\n",
              "      <td>8.9125</td>\n",
              "      <td>273</td>\n",
              "    </tr>\n",
              "    <tr>\n",
              "      <th>3</th>\n",
              "      <td>1</td>\n",
              "      <td>4</td>\n",
              "      <td>42.0066</td>\n",
              "      <td>0.8410</td>\n",
              "      <td>100.0</td>\n",
              "      <td>445.00</td>\n",
              "      <td>550.17</td>\n",
              "      <td>1349.69</td>\n",
              "      <td>1127.89</td>\n",
              "      <td>3.91</td>\n",
              "      <td>...</td>\n",
              "      <td>2387.72</td>\n",
              "      <td>8066.90</td>\n",
              "      <td>9.3961</td>\n",
              "      <td>0.02</td>\n",
              "      <td>332</td>\n",
              "      <td>2212</td>\n",
              "      <td>100.00</td>\n",
              "      <td>10.35</td>\n",
              "      <td>6.4181</td>\n",
              "      <td>272</td>\n",
              "    </tr>\n",
              "    <tr>\n",
              "      <th>4</th>\n",
              "      <td>1</td>\n",
              "      <td>5</td>\n",
              "      <td>24.9985</td>\n",
              "      <td>0.6213</td>\n",
              "      <td>60.0</td>\n",
              "      <td>462.54</td>\n",
              "      <td>536.72</td>\n",
              "      <td>1253.18</td>\n",
              "      <td>1050.69</td>\n",
              "      <td>7.05</td>\n",
              "      <td>...</td>\n",
              "      <td>2028.05</td>\n",
              "      <td>7865.66</td>\n",
              "      <td>10.8682</td>\n",
              "      <td>0.02</td>\n",
              "      <td>305</td>\n",
              "      <td>1915</td>\n",
              "      <td>84.93</td>\n",
              "      <td>14.31</td>\n",
              "      <td>8.5740</td>\n",
              "      <td>271</td>\n",
              "    </tr>\n",
              "  </tbody>\n",
              "</table>\n",
              "<p>5 rows × 27 columns</p>\n",
              "</div>"
            ],
            "text/plain": [
              "   ID Engine  Cycle  Setting 1  Setting 2  Setting 3  Sensor 1  Sensor 2  \\\n",
              "0          1      1     9.9987     0.2502      100.0    489.05    605.03   \n",
              "1          1      2    20.0026     0.7000      100.0    491.19    607.82   \n",
              "2          1      3    35.0045     0.8400      100.0    449.44    556.00   \n",
              "3          1      4    42.0066     0.8410      100.0    445.00    550.17   \n",
              "4          1      5    24.9985     0.6213       60.0    462.54    536.72   \n",
              "\n",
              "   Sensor 3  Sensor 4  Sensor 5  ...  Sensor 13  Sensor 14  Sensor 15  \\\n",
              "0   1497.17   1304.99     10.52  ...    2388.18    8114.10     8.6476   \n",
              "1   1481.20   1246.11      9.35  ...    2388.12    8053.06     9.2405   \n",
              "2   1359.08   1128.36      5.48  ...    2387.75    8053.04     9.3472   \n",
              "3   1349.69   1127.89      3.91  ...    2387.72    8066.90     9.3961   \n",
              "4   1253.18   1050.69      7.05  ...    2028.05    7865.66    10.8682   \n",
              "\n",
              "   Sensor 16  Sensor 17  Sensor 18  Sensor 19  Sensor 20  Sensor 21  \\\n",
              "0       0.03        369       2319     100.00      28.42    17.1551   \n",
              "1       0.02        364       2324     100.00      24.29    14.8039   \n",
              "2       0.02        333       2223     100.00      14.98     8.9125   \n",
              "3       0.02        332       2212     100.00      10.35     6.4181   \n",
              "4       0.02        305       1915      84.93      14.31     8.5740   \n",
              "\n",
              "   Remaining RUL  \n",
              "0            275  \n",
              "1            274  \n",
              "2            273  \n",
              "3            272  \n",
              "4            271  \n",
              "\n",
              "[5 rows x 27 columns]"
            ]
          },
          "execution_count": 29,
          "metadata": {},
          "output_type": "execute_result"
        }
      ],
      "source": [
        "test_2.head()"
      ]
    },
    {
      "cell_type": "markdown",
      "metadata": {},
      "source": [
        "# Calculate RUL for FD003"
      ]
    },
    {
      "cell_type": "markdown",
      "metadata": {},
      "source": [
        "### Calculate RUL for train set"
      ]
    },
    {
      "cell_type": "code",
      "execution_count": 30,
      "metadata": {},
      "outputs": [],
      "source": [
        "# Load trainset\n",
        "train_3 = pd.read_csv(train_3_path, sep=' ', header=None)\n",
        "train_3.drop([26, 27], axis=1, inplace=True)\n",
        "train_3.columns = column_names\n",
        "\n",
        "train_3['Remaining RUL'] = ''\n",
        "# train_3.head()"
      ]
    },
    {
      "cell_type": "code",
      "execution_count": 31,
      "metadata": {},
      "outputs": [
        {
          "name": "stdout",
          "output_type": "stream",
          "text": [
            "trainset shape: (24720, 27)\n"
          ]
        }
      ],
      "source": [
        "# Calculate the remaining RUL for each engine\n",
        "max_cycle_3 = train_3.groupby('ID Engine').count()\n",
        "for idx in range(len(train_3)):\n",
        "    train_3.loc[idx, 'Remaining RUL'] = max_cycle_3.loc[train_3.loc[idx, 'ID Engine'], 'Cycle']\n",
        "train_3['Remaining RUL'] = train_3['Remaining RUL'] - train_3['Cycle']\n",
        "\n",
        "print(f\"trainset shape: {train_3.shape}\")"
      ]
    },
    {
      "cell_type": "code",
      "execution_count": 32,
      "metadata": {},
      "outputs": [
        {
          "data": {
            "text/html": [
              "<div>\n",
              "<style scoped>\n",
              "    .dataframe tbody tr th:only-of-type {\n",
              "        vertical-align: middle;\n",
              "    }\n",
              "\n",
              "    .dataframe tbody tr th {\n",
              "        vertical-align: top;\n",
              "    }\n",
              "\n",
              "    .dataframe thead th {\n",
              "        text-align: right;\n",
              "    }\n",
              "</style>\n",
              "<table border=\"1\" class=\"dataframe\">\n",
              "  <thead>\n",
              "    <tr style=\"text-align: right;\">\n",
              "      <th></th>\n",
              "      <th>ID Engine</th>\n",
              "      <th>Cycle</th>\n",
              "      <th>Setting 1</th>\n",
              "      <th>Setting 2</th>\n",
              "      <th>Setting 3</th>\n",
              "      <th>Sensor 1</th>\n",
              "      <th>Sensor 2</th>\n",
              "      <th>Sensor 3</th>\n",
              "      <th>Sensor 4</th>\n",
              "      <th>Sensor 5</th>\n",
              "      <th>...</th>\n",
              "      <th>Sensor 13</th>\n",
              "      <th>Sensor 14</th>\n",
              "      <th>Sensor 15</th>\n",
              "      <th>Sensor 16</th>\n",
              "      <th>Sensor 17</th>\n",
              "      <th>Sensor 18</th>\n",
              "      <th>Sensor 19</th>\n",
              "      <th>Sensor 20</th>\n",
              "      <th>Sensor 21</th>\n",
              "      <th>Remaining RUL</th>\n",
              "    </tr>\n",
              "  </thead>\n",
              "  <tbody>\n",
              "    <tr>\n",
              "      <th>0</th>\n",
              "      <td>1</td>\n",
              "      <td>1</td>\n",
              "      <td>-0.0005</td>\n",
              "      <td>0.0004</td>\n",
              "      <td>100.0</td>\n",
              "      <td>518.67</td>\n",
              "      <td>642.36</td>\n",
              "      <td>1583.23</td>\n",
              "      <td>1396.84</td>\n",
              "      <td>14.62</td>\n",
              "      <td>...</td>\n",
              "      <td>2388.01</td>\n",
              "      <td>8145.32</td>\n",
              "      <td>8.4246</td>\n",
              "      <td>0.03</td>\n",
              "      <td>391</td>\n",
              "      <td>2388</td>\n",
              "      <td>100.0</td>\n",
              "      <td>39.11</td>\n",
              "      <td>23.3537</td>\n",
              "      <td>258</td>\n",
              "    </tr>\n",
              "    <tr>\n",
              "      <th>1</th>\n",
              "      <td>1</td>\n",
              "      <td>2</td>\n",
              "      <td>0.0008</td>\n",
              "      <td>-0.0003</td>\n",
              "      <td>100.0</td>\n",
              "      <td>518.67</td>\n",
              "      <td>642.50</td>\n",
              "      <td>1584.69</td>\n",
              "      <td>1396.89</td>\n",
              "      <td>14.62</td>\n",
              "      <td>...</td>\n",
              "      <td>2388.03</td>\n",
              "      <td>8152.85</td>\n",
              "      <td>8.4403</td>\n",
              "      <td>0.03</td>\n",
              "      <td>392</td>\n",
              "      <td>2388</td>\n",
              "      <td>100.0</td>\n",
              "      <td>38.99</td>\n",
              "      <td>23.4491</td>\n",
              "      <td>257</td>\n",
              "    </tr>\n",
              "    <tr>\n",
              "      <th>2</th>\n",
              "      <td>1</td>\n",
              "      <td>3</td>\n",
              "      <td>-0.0014</td>\n",
              "      <td>-0.0002</td>\n",
              "      <td>100.0</td>\n",
              "      <td>518.67</td>\n",
              "      <td>642.18</td>\n",
              "      <td>1582.35</td>\n",
              "      <td>1405.61</td>\n",
              "      <td>14.62</td>\n",
              "      <td>...</td>\n",
              "      <td>2388.00</td>\n",
              "      <td>8150.17</td>\n",
              "      <td>8.3901</td>\n",
              "      <td>0.03</td>\n",
              "      <td>391</td>\n",
              "      <td>2388</td>\n",
              "      <td>100.0</td>\n",
              "      <td>38.85</td>\n",
              "      <td>23.3669</td>\n",
              "      <td>256</td>\n",
              "    </tr>\n",
              "    <tr>\n",
              "      <th>3</th>\n",
              "      <td>1</td>\n",
              "      <td>4</td>\n",
              "      <td>-0.0020</td>\n",
              "      <td>0.0001</td>\n",
              "      <td>100.0</td>\n",
              "      <td>518.67</td>\n",
              "      <td>642.92</td>\n",
              "      <td>1585.61</td>\n",
              "      <td>1392.27</td>\n",
              "      <td>14.62</td>\n",
              "      <td>...</td>\n",
              "      <td>2388.08</td>\n",
              "      <td>8146.56</td>\n",
              "      <td>8.3878</td>\n",
              "      <td>0.03</td>\n",
              "      <td>392</td>\n",
              "      <td>2388</td>\n",
              "      <td>100.0</td>\n",
              "      <td>38.96</td>\n",
              "      <td>23.2951</td>\n",
              "      <td>255</td>\n",
              "    </tr>\n",
              "    <tr>\n",
              "      <th>4</th>\n",
              "      <td>1</td>\n",
              "      <td>5</td>\n",
              "      <td>0.0016</td>\n",
              "      <td>0.0000</td>\n",
              "      <td>100.0</td>\n",
              "      <td>518.67</td>\n",
              "      <td>641.68</td>\n",
              "      <td>1588.63</td>\n",
              "      <td>1397.65</td>\n",
              "      <td>14.62</td>\n",
              "      <td>...</td>\n",
              "      <td>2388.03</td>\n",
              "      <td>8147.80</td>\n",
              "      <td>8.3869</td>\n",
              "      <td>0.03</td>\n",
              "      <td>392</td>\n",
              "      <td>2388</td>\n",
              "      <td>100.0</td>\n",
              "      <td>39.14</td>\n",
              "      <td>23.4583</td>\n",
              "      <td>254</td>\n",
              "    </tr>\n",
              "  </tbody>\n",
              "</table>\n",
              "<p>5 rows × 27 columns</p>\n",
              "</div>"
            ],
            "text/plain": [
              "   ID Engine  Cycle  Setting 1  Setting 2  Setting 3  Sensor 1  Sensor 2  \\\n",
              "0          1      1    -0.0005     0.0004      100.0    518.67    642.36   \n",
              "1          1      2     0.0008    -0.0003      100.0    518.67    642.50   \n",
              "2          1      3    -0.0014    -0.0002      100.0    518.67    642.18   \n",
              "3          1      4    -0.0020     0.0001      100.0    518.67    642.92   \n",
              "4          1      5     0.0016     0.0000      100.0    518.67    641.68   \n",
              "\n",
              "   Sensor 3  Sensor 4  Sensor 5  ...  Sensor 13  Sensor 14  Sensor 15  \\\n",
              "0   1583.23   1396.84     14.62  ...    2388.01    8145.32     8.4246   \n",
              "1   1584.69   1396.89     14.62  ...    2388.03    8152.85     8.4403   \n",
              "2   1582.35   1405.61     14.62  ...    2388.00    8150.17     8.3901   \n",
              "3   1585.61   1392.27     14.62  ...    2388.08    8146.56     8.3878   \n",
              "4   1588.63   1397.65     14.62  ...    2388.03    8147.80     8.3869   \n",
              "\n",
              "   Sensor 16  Sensor 17  Sensor 18  Sensor 19  Sensor 20  Sensor 21  \\\n",
              "0       0.03        391       2388      100.0      39.11    23.3537   \n",
              "1       0.03        392       2388      100.0      38.99    23.4491   \n",
              "2       0.03        391       2388      100.0      38.85    23.3669   \n",
              "3       0.03        392       2388      100.0      38.96    23.2951   \n",
              "4       0.03        392       2388      100.0      39.14    23.4583   \n",
              "\n",
              "   Remaining RUL  \n",
              "0            258  \n",
              "1            257  \n",
              "2            256  \n",
              "3            255  \n",
              "4            254  \n",
              "\n",
              "[5 rows x 27 columns]"
            ]
          },
          "execution_count": 32,
          "metadata": {},
          "output_type": "execute_result"
        }
      ],
      "source": [
        "train_3.head()"
      ]
    },
    {
      "cell_type": "markdown",
      "metadata": {},
      "source": [
        "### Load RUL set"
      ]
    },
    {
      "cell_type": "code",
      "execution_count": 33,
      "metadata": {},
      "outputs": [
        {
          "name": "stdout",
          "output_type": "stream",
          "text": [
            "RUL shape: (100, 1)\n"
          ]
        }
      ],
      "source": [
        "rul_3 = pd.read_csv(rul_3_path, sep=' ', header=None)\n",
        "rul_3.drop(rul_3.columns[1], axis=1, inplace=True)\n",
        "rul_3.columns = ['RUL']\n",
        "print(f'RUL shape: {rul_3.shape}')"
      ]
    },
    {
      "cell_type": "markdown",
      "metadata": {},
      "source": [
        "Tập RUL này là vòng đời còn lại của động cơ sau khi trải qua số lượng chu kỳ nhất định trong tập test (tương ứng)"
      ]
    },
    {
      "cell_type": "code",
      "execution_count": 34,
      "metadata": {},
      "outputs": [
        {
          "data": {
            "text/html": [
              "<div>\n",
              "<style scoped>\n",
              "    .dataframe tbody tr th:only-of-type {\n",
              "        vertical-align: middle;\n",
              "    }\n",
              "\n",
              "    .dataframe tbody tr th {\n",
              "        vertical-align: top;\n",
              "    }\n",
              "\n",
              "    .dataframe thead th {\n",
              "        text-align: right;\n",
              "    }\n",
              "</style>\n",
              "<table border=\"1\" class=\"dataframe\">\n",
              "  <thead>\n",
              "    <tr style=\"text-align: right;\">\n",
              "      <th></th>\n",
              "      <th>RUL</th>\n",
              "    </tr>\n",
              "  </thead>\n",
              "  <tbody>\n",
              "    <tr>\n",
              "      <th>0</th>\n",
              "      <td>44</td>\n",
              "    </tr>\n",
              "    <tr>\n",
              "      <th>1</th>\n",
              "      <td>51</td>\n",
              "    </tr>\n",
              "    <tr>\n",
              "      <th>2</th>\n",
              "      <td>27</td>\n",
              "    </tr>\n",
              "    <tr>\n",
              "      <th>3</th>\n",
              "      <td>120</td>\n",
              "    </tr>\n",
              "    <tr>\n",
              "      <th>4</th>\n",
              "      <td>101</td>\n",
              "    </tr>\n",
              "  </tbody>\n",
              "</table>\n",
              "</div>"
            ],
            "text/plain": [
              "   RUL\n",
              "0   44\n",
              "1   51\n",
              "2   27\n",
              "3  120\n",
              "4  101"
            ]
          },
          "execution_count": 34,
          "metadata": {},
          "output_type": "execute_result"
        }
      ],
      "source": [
        "rul_3.head()"
      ]
    },
    {
      "cell_type": "markdown",
      "metadata": {},
      "source": [
        "### Calculate RUL for test"
      ]
    },
    {
      "cell_type": "code",
      "execution_count": 35,
      "metadata": {},
      "outputs": [],
      "source": [
        "# Load test set\n",
        "test_3 = pd.read_csv(test_3_path, sep=' ', header=None)\n",
        "test_3.drop([26, 27], axis=1, inplace=True)\n",
        "test_3.columns = column_names\n",
        "\n",
        "test_3['Remaining RUL'] = ''\n",
        "# test_3.head()"
      ]
    },
    {
      "cell_type": "code",
      "execution_count": 36,
      "metadata": {},
      "outputs": [],
      "source": [
        "max_cycle_test_3 = test_3.groupby('ID Engine').count()\n",
        "\n",
        "for idx in range(len(test_3)):\n",
        "    test_3.loc[idx, 'Remaining RUL'] = rul_3.loc[test_3.loc[idx, 'ID Engine'] - 1, 'RUL'] + max_cycle_test_3.loc[test_3.loc[idx, 'ID Engine'], 'Cycle']\n",
        "test_3['Remaining RUL'] = test_3['Remaining RUL'] - test_3['Cycle']"
      ]
    },
    {
      "cell_type": "code",
      "execution_count": 37,
      "metadata": {},
      "outputs": [
        {
          "data": {
            "text/html": [
              "<div>\n",
              "<style scoped>\n",
              "    .dataframe tbody tr th:only-of-type {\n",
              "        vertical-align: middle;\n",
              "    }\n",
              "\n",
              "    .dataframe tbody tr th {\n",
              "        vertical-align: top;\n",
              "    }\n",
              "\n",
              "    .dataframe thead th {\n",
              "        text-align: right;\n",
              "    }\n",
              "</style>\n",
              "<table border=\"1\" class=\"dataframe\">\n",
              "  <thead>\n",
              "    <tr style=\"text-align: right;\">\n",
              "      <th></th>\n",
              "      <th>ID Engine</th>\n",
              "      <th>Cycle</th>\n",
              "      <th>Setting 1</th>\n",
              "      <th>Setting 2</th>\n",
              "      <th>Setting 3</th>\n",
              "      <th>Sensor 1</th>\n",
              "      <th>Sensor 2</th>\n",
              "      <th>Sensor 3</th>\n",
              "      <th>Sensor 4</th>\n",
              "      <th>Sensor 5</th>\n",
              "      <th>...</th>\n",
              "      <th>Sensor 13</th>\n",
              "      <th>Sensor 14</th>\n",
              "      <th>Sensor 15</th>\n",
              "      <th>Sensor 16</th>\n",
              "      <th>Sensor 17</th>\n",
              "      <th>Sensor 18</th>\n",
              "      <th>Sensor 19</th>\n",
              "      <th>Sensor 20</th>\n",
              "      <th>Sensor 21</th>\n",
              "      <th>Remaining RUL</th>\n",
              "    </tr>\n",
              "  </thead>\n",
              "  <tbody>\n",
              "    <tr>\n",
              "      <th>0</th>\n",
              "      <td>1</td>\n",
              "      <td>1</td>\n",
              "      <td>-0.0017</td>\n",
              "      <td>-0.0004</td>\n",
              "      <td>100.0</td>\n",
              "      <td>518.67</td>\n",
              "      <td>641.94</td>\n",
              "      <td>1581.93</td>\n",
              "      <td>1396.93</td>\n",
              "      <td>14.62</td>\n",
              "      <td>...</td>\n",
              "      <td>2387.94</td>\n",
              "      <td>8133.48</td>\n",
              "      <td>8.3760</td>\n",
              "      <td>0.03</td>\n",
              "      <td>391</td>\n",
              "      <td>2388</td>\n",
              "      <td>100.0</td>\n",
              "      <td>39.07</td>\n",
              "      <td>23.4468</td>\n",
              "      <td>276</td>\n",
              "    </tr>\n",
              "    <tr>\n",
              "      <th>1</th>\n",
              "      <td>1</td>\n",
              "      <td>2</td>\n",
              "      <td>0.0006</td>\n",
              "      <td>-0.0002</td>\n",
              "      <td>100.0</td>\n",
              "      <td>518.67</td>\n",
              "      <td>642.02</td>\n",
              "      <td>1584.86</td>\n",
              "      <td>1398.90</td>\n",
              "      <td>14.62</td>\n",
              "      <td>...</td>\n",
              "      <td>2388.01</td>\n",
              "      <td>8137.44</td>\n",
              "      <td>8.4062</td>\n",
              "      <td>0.03</td>\n",
              "      <td>391</td>\n",
              "      <td>2388</td>\n",
              "      <td>100.0</td>\n",
              "      <td>39.04</td>\n",
              "      <td>23.4807</td>\n",
              "      <td>275</td>\n",
              "    </tr>\n",
              "    <tr>\n",
              "      <th>2</th>\n",
              "      <td>1</td>\n",
              "      <td>3</td>\n",
              "      <td>0.0014</td>\n",
              "      <td>-0.0003</td>\n",
              "      <td>100.0</td>\n",
              "      <td>518.67</td>\n",
              "      <td>641.68</td>\n",
              "      <td>1581.78</td>\n",
              "      <td>1391.92</td>\n",
              "      <td>14.62</td>\n",
              "      <td>...</td>\n",
              "      <td>2387.94</td>\n",
              "      <td>8138.25</td>\n",
              "      <td>8.3553</td>\n",
              "      <td>0.03</td>\n",
              "      <td>391</td>\n",
              "      <td>2388</td>\n",
              "      <td>100.0</td>\n",
              "      <td>39.10</td>\n",
              "      <td>23.4244</td>\n",
              "      <td>274</td>\n",
              "    </tr>\n",
              "    <tr>\n",
              "      <th>3</th>\n",
              "      <td>1</td>\n",
              "      <td>4</td>\n",
              "      <td>0.0027</td>\n",
              "      <td>0.0001</td>\n",
              "      <td>100.0</td>\n",
              "      <td>518.67</td>\n",
              "      <td>642.20</td>\n",
              "      <td>1584.53</td>\n",
              "      <td>1395.34</td>\n",
              "      <td>14.62</td>\n",
              "      <td>...</td>\n",
              "      <td>2387.96</td>\n",
              "      <td>8137.07</td>\n",
              "      <td>8.3709</td>\n",
              "      <td>0.03</td>\n",
              "      <td>392</td>\n",
              "      <td>2388</td>\n",
              "      <td>100.0</td>\n",
              "      <td>38.97</td>\n",
              "      <td>23.4782</td>\n",
              "      <td>273</td>\n",
              "    </tr>\n",
              "    <tr>\n",
              "      <th>4</th>\n",
              "      <td>1</td>\n",
              "      <td>5</td>\n",
              "      <td>-0.0001</td>\n",
              "      <td>0.0001</td>\n",
              "      <td>100.0</td>\n",
              "      <td>518.67</td>\n",
              "      <td>642.46</td>\n",
              "      <td>1589.03</td>\n",
              "      <td>1395.86</td>\n",
              "      <td>14.62</td>\n",
              "      <td>...</td>\n",
              "      <td>2387.97</td>\n",
              "      <td>8134.20</td>\n",
              "      <td>8.4146</td>\n",
              "      <td>0.03</td>\n",
              "      <td>391</td>\n",
              "      <td>2388</td>\n",
              "      <td>100.0</td>\n",
              "      <td>39.09</td>\n",
              "      <td>23.3950</td>\n",
              "      <td>272</td>\n",
              "    </tr>\n",
              "  </tbody>\n",
              "</table>\n",
              "<p>5 rows × 27 columns</p>\n",
              "</div>"
            ],
            "text/plain": [
              "   ID Engine  Cycle  Setting 1  Setting 2  Setting 3  Sensor 1  Sensor 2  \\\n",
              "0          1      1    -0.0017    -0.0004      100.0    518.67    641.94   \n",
              "1          1      2     0.0006    -0.0002      100.0    518.67    642.02   \n",
              "2          1      3     0.0014    -0.0003      100.0    518.67    641.68   \n",
              "3          1      4     0.0027     0.0001      100.0    518.67    642.20   \n",
              "4          1      5    -0.0001     0.0001      100.0    518.67    642.46   \n",
              "\n",
              "   Sensor 3  Sensor 4  Sensor 5  ...  Sensor 13  Sensor 14  Sensor 15  \\\n",
              "0   1581.93   1396.93     14.62  ...    2387.94    8133.48     8.3760   \n",
              "1   1584.86   1398.90     14.62  ...    2388.01    8137.44     8.4062   \n",
              "2   1581.78   1391.92     14.62  ...    2387.94    8138.25     8.3553   \n",
              "3   1584.53   1395.34     14.62  ...    2387.96    8137.07     8.3709   \n",
              "4   1589.03   1395.86     14.62  ...    2387.97    8134.20     8.4146   \n",
              "\n",
              "   Sensor 16  Sensor 17  Sensor 18  Sensor 19  Sensor 20  Sensor 21  \\\n",
              "0       0.03        391       2388      100.0      39.07    23.4468   \n",
              "1       0.03        391       2388      100.0      39.04    23.4807   \n",
              "2       0.03        391       2388      100.0      39.10    23.4244   \n",
              "3       0.03        392       2388      100.0      38.97    23.4782   \n",
              "4       0.03        391       2388      100.0      39.09    23.3950   \n",
              "\n",
              "   Remaining RUL  \n",
              "0            276  \n",
              "1            275  \n",
              "2            274  \n",
              "3            273  \n",
              "4            272  \n",
              "\n",
              "[5 rows x 27 columns]"
            ]
          },
          "execution_count": 37,
          "metadata": {},
          "output_type": "execute_result"
        }
      ],
      "source": [
        "test_3.head()"
      ]
    },
    {
      "cell_type": "markdown",
      "metadata": {},
      "source": [
        "# Calculate RUL for FD004"
      ]
    },
    {
      "cell_type": "markdown",
      "metadata": {},
      "source": [
        "### Calculate RUL for train set"
      ]
    },
    {
      "cell_type": "code",
      "execution_count": 38,
      "metadata": {},
      "outputs": [],
      "source": [
        "# Load trainset\n",
        "train_4 = pd.read_csv(train_4_path, sep=' ', header=None)\n",
        "train_4.drop([26, 27], axis=1, inplace=True)\n",
        "train_4.columns = column_names\n",
        "\n",
        "train_4['Remaining RUL'] = ''\n",
        "# train_4.head()"
      ]
    },
    {
      "cell_type": "code",
      "execution_count": 39,
      "metadata": {},
      "outputs": [
        {
          "name": "stdout",
          "output_type": "stream",
          "text": [
            "trainset shape: (61249, 27)\n"
          ]
        }
      ],
      "source": [
        "# Calculate the remaining RUL for each engine\n",
        "max_cycle_4 = train_4.groupby('ID Engine').count()\n",
        "for idx in range(len(train_4)):\n",
        "    train_4.loc[idx, 'Remaining RUL'] = max_cycle_4.loc[train_4.loc[idx, 'ID Engine'], 'Cycle']\n",
        "train_4['Remaining RUL'] = train_4['Remaining RUL'] - train_4['Cycle']\n",
        "\n",
        "print(f\"trainset shape: {train_4.shape}\")"
      ]
    },
    {
      "cell_type": "code",
      "execution_count": 40,
      "metadata": {},
      "outputs": [
        {
          "data": {
            "text/html": [
              "<div>\n",
              "<style scoped>\n",
              "    .dataframe tbody tr th:only-of-type {\n",
              "        vertical-align: middle;\n",
              "    }\n",
              "\n",
              "    .dataframe tbody tr th {\n",
              "        vertical-align: top;\n",
              "    }\n",
              "\n",
              "    .dataframe thead th {\n",
              "        text-align: right;\n",
              "    }\n",
              "</style>\n",
              "<table border=\"1\" class=\"dataframe\">\n",
              "  <thead>\n",
              "    <tr style=\"text-align: right;\">\n",
              "      <th></th>\n",
              "      <th>ID Engine</th>\n",
              "      <th>Cycle</th>\n",
              "      <th>Setting 1</th>\n",
              "      <th>Setting 2</th>\n",
              "      <th>Setting 3</th>\n",
              "      <th>Sensor 1</th>\n",
              "      <th>Sensor 2</th>\n",
              "      <th>Sensor 3</th>\n",
              "      <th>Sensor 4</th>\n",
              "      <th>Sensor 5</th>\n",
              "      <th>...</th>\n",
              "      <th>Sensor 13</th>\n",
              "      <th>Sensor 14</th>\n",
              "      <th>Sensor 15</th>\n",
              "      <th>Sensor 16</th>\n",
              "      <th>Sensor 17</th>\n",
              "      <th>Sensor 18</th>\n",
              "      <th>Sensor 19</th>\n",
              "      <th>Sensor 20</th>\n",
              "      <th>Sensor 21</th>\n",
              "      <th>Remaining RUL</th>\n",
              "    </tr>\n",
              "  </thead>\n",
              "  <tbody>\n",
              "    <tr>\n",
              "      <th>0</th>\n",
              "      <td>1</td>\n",
              "      <td>1</td>\n",
              "      <td>42.0049</td>\n",
              "      <td>0.8400</td>\n",
              "      <td>100.0</td>\n",
              "      <td>445.00</td>\n",
              "      <td>549.68</td>\n",
              "      <td>1343.43</td>\n",
              "      <td>1112.93</td>\n",
              "      <td>3.91</td>\n",
              "      <td>...</td>\n",
              "      <td>2387.99</td>\n",
              "      <td>8074.83</td>\n",
              "      <td>9.3335</td>\n",
              "      <td>0.02</td>\n",
              "      <td>330</td>\n",
              "      <td>2212</td>\n",
              "      <td>100.00</td>\n",
              "      <td>10.62</td>\n",
              "      <td>6.3670</td>\n",
              "      <td>320</td>\n",
              "    </tr>\n",
              "    <tr>\n",
              "      <th>1</th>\n",
              "      <td>1</td>\n",
              "      <td>2</td>\n",
              "      <td>20.0020</td>\n",
              "      <td>0.7002</td>\n",
              "      <td>100.0</td>\n",
              "      <td>491.19</td>\n",
              "      <td>606.07</td>\n",
              "      <td>1477.61</td>\n",
              "      <td>1237.50</td>\n",
              "      <td>9.35</td>\n",
              "      <td>...</td>\n",
              "      <td>2387.73</td>\n",
              "      <td>8046.13</td>\n",
              "      <td>9.1913</td>\n",
              "      <td>0.02</td>\n",
              "      <td>361</td>\n",
              "      <td>2324</td>\n",
              "      <td>100.00</td>\n",
              "      <td>24.37</td>\n",
              "      <td>14.6552</td>\n",
              "      <td>319</td>\n",
              "    </tr>\n",
              "    <tr>\n",
              "      <th>2</th>\n",
              "      <td>1</td>\n",
              "      <td>3</td>\n",
              "      <td>42.0038</td>\n",
              "      <td>0.8409</td>\n",
              "      <td>100.0</td>\n",
              "      <td>445.00</td>\n",
              "      <td>548.95</td>\n",
              "      <td>1343.12</td>\n",
              "      <td>1117.05</td>\n",
              "      <td>3.91</td>\n",
              "      <td>...</td>\n",
              "      <td>2387.97</td>\n",
              "      <td>8066.62</td>\n",
              "      <td>9.4007</td>\n",
              "      <td>0.02</td>\n",
              "      <td>329</td>\n",
              "      <td>2212</td>\n",
              "      <td>100.00</td>\n",
              "      <td>10.48</td>\n",
              "      <td>6.4213</td>\n",
              "      <td>318</td>\n",
              "    </tr>\n",
              "    <tr>\n",
              "      <th>3</th>\n",
              "      <td>1</td>\n",
              "      <td>4</td>\n",
              "      <td>42.0000</td>\n",
              "      <td>0.8400</td>\n",
              "      <td>100.0</td>\n",
              "      <td>445.00</td>\n",
              "      <td>548.70</td>\n",
              "      <td>1341.24</td>\n",
              "      <td>1118.03</td>\n",
              "      <td>3.91</td>\n",
              "      <td>...</td>\n",
              "      <td>2388.02</td>\n",
              "      <td>8076.05</td>\n",
              "      <td>9.3369</td>\n",
              "      <td>0.02</td>\n",
              "      <td>328</td>\n",
              "      <td>2212</td>\n",
              "      <td>100.00</td>\n",
              "      <td>10.54</td>\n",
              "      <td>6.4176</td>\n",
              "      <td>317</td>\n",
              "    </tr>\n",
              "    <tr>\n",
              "      <th>4</th>\n",
              "      <td>1</td>\n",
              "      <td>5</td>\n",
              "      <td>25.0063</td>\n",
              "      <td>0.6207</td>\n",
              "      <td>60.0</td>\n",
              "      <td>462.54</td>\n",
              "      <td>536.10</td>\n",
              "      <td>1255.23</td>\n",
              "      <td>1033.59</td>\n",
              "      <td>7.05</td>\n",
              "      <td>...</td>\n",
              "      <td>2028.08</td>\n",
              "      <td>7865.80</td>\n",
              "      <td>10.8366</td>\n",
              "      <td>0.02</td>\n",
              "      <td>305</td>\n",
              "      <td>1915</td>\n",
              "      <td>84.93</td>\n",
              "      <td>14.03</td>\n",
              "      <td>8.6754</td>\n",
              "      <td>316</td>\n",
              "    </tr>\n",
              "  </tbody>\n",
              "</table>\n",
              "<p>5 rows × 27 columns</p>\n",
              "</div>"
            ],
            "text/plain": [
              "   ID Engine  Cycle  Setting 1  Setting 2  Setting 3  Sensor 1  Sensor 2  \\\n",
              "0          1      1    42.0049     0.8400      100.0    445.00    549.68   \n",
              "1          1      2    20.0020     0.7002      100.0    491.19    606.07   \n",
              "2          1      3    42.0038     0.8409      100.0    445.00    548.95   \n",
              "3          1      4    42.0000     0.8400      100.0    445.00    548.70   \n",
              "4          1      5    25.0063     0.6207       60.0    462.54    536.10   \n",
              "\n",
              "   Sensor 3  Sensor 4  Sensor 5  ...  Sensor 13  Sensor 14  Sensor 15  \\\n",
              "0   1343.43   1112.93      3.91  ...    2387.99    8074.83     9.3335   \n",
              "1   1477.61   1237.50      9.35  ...    2387.73    8046.13     9.1913   \n",
              "2   1343.12   1117.05      3.91  ...    2387.97    8066.62     9.4007   \n",
              "3   1341.24   1118.03      3.91  ...    2388.02    8076.05     9.3369   \n",
              "4   1255.23   1033.59      7.05  ...    2028.08    7865.80    10.8366   \n",
              "\n",
              "   Sensor 16  Sensor 17  Sensor 18  Sensor 19  Sensor 20  Sensor 21  \\\n",
              "0       0.02        330       2212     100.00      10.62     6.3670   \n",
              "1       0.02        361       2324     100.00      24.37    14.6552   \n",
              "2       0.02        329       2212     100.00      10.48     6.4213   \n",
              "3       0.02        328       2212     100.00      10.54     6.4176   \n",
              "4       0.02        305       1915      84.93      14.03     8.6754   \n",
              "\n",
              "   Remaining RUL  \n",
              "0            320  \n",
              "1            319  \n",
              "2            318  \n",
              "3            317  \n",
              "4            316  \n",
              "\n",
              "[5 rows x 27 columns]"
            ]
          },
          "execution_count": 40,
          "metadata": {},
          "output_type": "execute_result"
        }
      ],
      "source": [
        "train_4.head()"
      ]
    },
    {
      "cell_type": "markdown",
      "metadata": {},
      "source": [
        "### Load RUL set"
      ]
    },
    {
      "cell_type": "code",
      "execution_count": 41,
      "metadata": {},
      "outputs": [
        {
          "name": "stdout",
          "output_type": "stream",
          "text": [
            "RUL shape: (248, 1)\n"
          ]
        }
      ],
      "source": [
        "rul_4 = pd.read_csv(rul_4_path, sep=' ', header=None)\n",
        "rul_4.drop(rul_4.columns[1], axis=1, inplace=True)\n",
        "rul_4.columns = ['RUL']\n",
        "print(f'RUL shape: {rul_4.shape}')"
      ]
    },
    {
      "cell_type": "markdown",
      "metadata": {},
      "source": [
        "Tập RUL này là vòng đời còn lại của động cơ sau khi trải qua số lượng chu kỳ nhất định trong tập test (tương ứng)"
      ]
    },
    {
      "cell_type": "code",
      "execution_count": 42,
      "metadata": {},
      "outputs": [
        {
          "data": {
            "text/html": [
              "<div>\n",
              "<style scoped>\n",
              "    .dataframe tbody tr th:only-of-type {\n",
              "        vertical-align: middle;\n",
              "    }\n",
              "\n",
              "    .dataframe tbody tr th {\n",
              "        vertical-align: top;\n",
              "    }\n",
              "\n",
              "    .dataframe thead th {\n",
              "        text-align: right;\n",
              "    }\n",
              "</style>\n",
              "<table border=\"1\" class=\"dataframe\">\n",
              "  <thead>\n",
              "    <tr style=\"text-align: right;\">\n",
              "      <th></th>\n",
              "      <th>RUL</th>\n",
              "    </tr>\n",
              "  </thead>\n",
              "  <tbody>\n",
              "    <tr>\n",
              "      <th>0</th>\n",
              "      <td>22</td>\n",
              "    </tr>\n",
              "    <tr>\n",
              "      <th>1</th>\n",
              "      <td>39</td>\n",
              "    </tr>\n",
              "    <tr>\n",
              "      <th>2</th>\n",
              "      <td>107</td>\n",
              "    </tr>\n",
              "    <tr>\n",
              "      <th>3</th>\n",
              "      <td>75</td>\n",
              "    </tr>\n",
              "    <tr>\n",
              "      <th>4</th>\n",
              "      <td>149</td>\n",
              "    </tr>\n",
              "  </tbody>\n",
              "</table>\n",
              "</div>"
            ],
            "text/plain": [
              "   RUL\n",
              "0   22\n",
              "1   39\n",
              "2  107\n",
              "3   75\n",
              "4  149"
            ]
          },
          "execution_count": 42,
          "metadata": {},
          "output_type": "execute_result"
        }
      ],
      "source": [
        "rul_4.head()"
      ]
    },
    {
      "cell_type": "markdown",
      "metadata": {},
      "source": [
        "### Calculate RUL for test"
      ]
    },
    {
      "cell_type": "code",
      "execution_count": 43,
      "metadata": {},
      "outputs": [],
      "source": [
        "# Load test set\n",
        "test_4 = pd.read_csv(test_4_path, sep=' ', header=None)\n",
        "test_4.drop([26, 27], axis=1, inplace=True)\n",
        "test_4.columns = column_names\n",
        "\n",
        "test_4['Remaining RUL'] = ''\n",
        "# test_4.head()"
      ]
    },
    {
      "cell_type": "code",
      "execution_count": 44,
      "metadata": {},
      "outputs": [],
      "source": [
        "max_cycle_test_4 = test_4.groupby('ID Engine').count()\n",
        "\n",
        "for idx in range(len(test_4)):\n",
        "    test_4.loc[idx, 'Remaining RUL'] = rul_4.loc[test_4.loc[idx, 'ID Engine'] - 1, 'RUL'] + max_cycle_test_4.loc[test_4.loc[idx, 'ID Engine'], 'Cycle']\n",
        "test_4['Remaining RUL'] = test_4['Remaining RUL'] - test_4['Cycle']"
      ]
    },
    {
      "cell_type": "code",
      "execution_count": 45,
      "metadata": {},
      "outputs": [
        {
          "data": {
            "text/html": [
              "<div>\n",
              "<style scoped>\n",
              "    .dataframe tbody tr th:only-of-type {\n",
              "        vertical-align: middle;\n",
              "    }\n",
              "\n",
              "    .dataframe tbody tr th {\n",
              "        vertical-align: top;\n",
              "    }\n",
              "\n",
              "    .dataframe thead th {\n",
              "        text-align: right;\n",
              "    }\n",
              "</style>\n",
              "<table border=\"1\" class=\"dataframe\">\n",
              "  <thead>\n",
              "    <tr style=\"text-align: right;\">\n",
              "      <th></th>\n",
              "      <th>ID Engine</th>\n",
              "      <th>Cycle</th>\n",
              "      <th>Setting 1</th>\n",
              "      <th>Setting 2</th>\n",
              "      <th>Setting 3</th>\n",
              "      <th>Sensor 1</th>\n",
              "      <th>Sensor 2</th>\n",
              "      <th>Sensor 3</th>\n",
              "      <th>Sensor 4</th>\n",
              "      <th>Sensor 5</th>\n",
              "      <th>...</th>\n",
              "      <th>Sensor 13</th>\n",
              "      <th>Sensor 14</th>\n",
              "      <th>Sensor 15</th>\n",
              "      <th>Sensor 16</th>\n",
              "      <th>Sensor 17</th>\n",
              "      <th>Sensor 18</th>\n",
              "      <th>Sensor 19</th>\n",
              "      <th>Sensor 20</th>\n",
              "      <th>Sensor 21</th>\n",
              "      <th>Remaining RUL</th>\n",
              "    </tr>\n",
              "  </thead>\n",
              "  <tbody>\n",
              "    <tr>\n",
              "      <th>0</th>\n",
              "      <td>1</td>\n",
              "      <td>1</td>\n",
              "      <td>20.0072</td>\n",
              "      <td>0.7000</td>\n",
              "      <td>100.0</td>\n",
              "      <td>491.19</td>\n",
              "      <td>606.67</td>\n",
              "      <td>1481.04</td>\n",
              "      <td>1227.81</td>\n",
              "      <td>9.35</td>\n",
              "      <td>...</td>\n",
              "      <td>2387.78</td>\n",
              "      <td>8048.98</td>\n",
              "      <td>9.2229</td>\n",
              "      <td>0.02</td>\n",
              "      <td>362</td>\n",
              "      <td>2324</td>\n",
              "      <td>100.00</td>\n",
              "      <td>24.31</td>\n",
              "      <td>14.7007</td>\n",
              "      <td>251</td>\n",
              "    </tr>\n",
              "    <tr>\n",
              "      <th>1</th>\n",
              "      <td>1</td>\n",
              "      <td>2</td>\n",
              "      <td>24.9984</td>\n",
              "      <td>0.6200</td>\n",
              "      <td>60.0</td>\n",
              "      <td>462.54</td>\n",
              "      <td>536.22</td>\n",
              "      <td>1256.17</td>\n",
              "      <td>1031.48</td>\n",
              "      <td>7.05</td>\n",
              "      <td>...</td>\n",
              "      <td>2028.09</td>\n",
              "      <td>7863.46</td>\n",
              "      <td>10.8632</td>\n",
              "      <td>0.02</td>\n",
              "      <td>306</td>\n",
              "      <td>1915</td>\n",
              "      <td>84.93</td>\n",
              "      <td>14.36</td>\n",
              "      <td>8.5748</td>\n",
              "      <td>250</td>\n",
              "    </tr>\n",
              "    <tr>\n",
              "      <th>2</th>\n",
              "      <td>1</td>\n",
              "      <td>3</td>\n",
              "      <td>42.0000</td>\n",
              "      <td>0.8420</td>\n",
              "      <td>100.0</td>\n",
              "      <td>445.00</td>\n",
              "      <td>549.23</td>\n",
              "      <td>1340.13</td>\n",
              "      <td>1105.88</td>\n",
              "      <td>3.91</td>\n",
              "      <td>...</td>\n",
              "      <td>2387.95</td>\n",
              "      <td>8071.13</td>\n",
              "      <td>9.3960</td>\n",
              "      <td>0.02</td>\n",
              "      <td>328</td>\n",
              "      <td>2212</td>\n",
              "      <td>100.00</td>\n",
              "      <td>10.39</td>\n",
              "      <td>6.4365</td>\n",
              "      <td>249</td>\n",
              "    </tr>\n",
              "    <tr>\n",
              "      <th>3</th>\n",
              "      <td>1</td>\n",
              "      <td>4</td>\n",
              "      <td>42.0035</td>\n",
              "      <td>0.8402</td>\n",
              "      <td>100.0</td>\n",
              "      <td>445.00</td>\n",
              "      <td>549.19</td>\n",
              "      <td>1339.70</td>\n",
              "      <td>1107.26</td>\n",
              "      <td>3.91</td>\n",
              "      <td>...</td>\n",
              "      <td>2387.90</td>\n",
              "      <td>8078.89</td>\n",
              "      <td>9.3594</td>\n",
              "      <td>0.02</td>\n",
              "      <td>328</td>\n",
              "      <td>2212</td>\n",
              "      <td>100.00</td>\n",
              "      <td>10.56</td>\n",
              "      <td>6.2367</td>\n",
              "      <td>248</td>\n",
              "    </tr>\n",
              "    <tr>\n",
              "      <th>4</th>\n",
              "      <td>1</td>\n",
              "      <td>5</td>\n",
              "      <td>35.0079</td>\n",
              "      <td>0.8400</td>\n",
              "      <td>100.0</td>\n",
              "      <td>449.44</td>\n",
              "      <td>555.10</td>\n",
              "      <td>1353.04</td>\n",
              "      <td>1117.80</td>\n",
              "      <td>5.48</td>\n",
              "      <td>...</td>\n",
              "      <td>2387.87</td>\n",
              "      <td>8057.83</td>\n",
              "      <td>9.3030</td>\n",
              "      <td>0.02</td>\n",
              "      <td>333</td>\n",
              "      <td>2223</td>\n",
              "      <td>100.00</td>\n",
              "      <td>14.85</td>\n",
              "      <td>8.9326</td>\n",
              "      <td>247</td>\n",
              "    </tr>\n",
              "  </tbody>\n",
              "</table>\n",
              "<p>5 rows × 27 columns</p>\n",
              "</div>"
            ],
            "text/plain": [
              "   ID Engine  Cycle  Setting 1  Setting 2  Setting 3  Sensor 1  Sensor 2  \\\n",
              "0          1      1    20.0072     0.7000      100.0    491.19    606.67   \n",
              "1          1      2    24.9984     0.6200       60.0    462.54    536.22   \n",
              "2          1      3    42.0000     0.8420      100.0    445.00    549.23   \n",
              "3          1      4    42.0035     0.8402      100.0    445.00    549.19   \n",
              "4          1      5    35.0079     0.8400      100.0    449.44    555.10   \n",
              "\n",
              "   Sensor 3  Sensor 4  Sensor 5  ...  Sensor 13  Sensor 14  Sensor 15  \\\n",
              "0   1481.04   1227.81      9.35  ...    2387.78    8048.98     9.2229   \n",
              "1   1256.17   1031.48      7.05  ...    2028.09    7863.46    10.8632   \n",
              "2   1340.13   1105.88      3.91  ...    2387.95    8071.13     9.3960   \n",
              "3   1339.70   1107.26      3.91  ...    2387.90    8078.89     9.3594   \n",
              "4   1353.04   1117.80      5.48  ...    2387.87    8057.83     9.3030   \n",
              "\n",
              "   Sensor 16  Sensor 17  Sensor 18  Sensor 19  Sensor 20  Sensor 21  \\\n",
              "0       0.02        362       2324     100.00      24.31    14.7007   \n",
              "1       0.02        306       1915      84.93      14.36     8.5748   \n",
              "2       0.02        328       2212     100.00      10.39     6.4365   \n",
              "3       0.02        328       2212     100.00      10.56     6.2367   \n",
              "4       0.02        333       2223     100.00      14.85     8.9326   \n",
              "\n",
              "   Remaining RUL  \n",
              "0            251  \n",
              "1            250  \n",
              "2            249  \n",
              "3            248  \n",
              "4            247  \n",
              "\n",
              "[5 rows x 27 columns]"
            ]
          },
          "execution_count": 45,
          "metadata": {},
          "output_type": "execute_result"
        }
      ],
      "source": [
        "test_4.head()"
      ]
    },
    {
      "cell_type": "markdown",
      "metadata": {},
      "source": [
        "# Plot number of sample for each dataset"
      ]
    },
    {
      "cell_type": "code",
      "execution_count": 46,
      "metadata": {},
      "outputs": [
        {
          "data": {
            "text/plain": [
              "20631"
            ]
          },
          "execution_count": 46,
          "metadata": {},
          "output_type": "execute_result"
        }
      ],
      "source": [
        "len(train_1)"
      ]
    },
    {
      "cell_type": "code",
      "execution_count": 47,
      "metadata": {},
      "outputs": [
        {
          "data": {
            "text/plain": [
              "53759"
            ]
          },
          "execution_count": 47,
          "metadata": {},
          "output_type": "execute_result"
        }
      ],
      "source": [
        "len(train_2)"
      ]
    },
    {
      "cell_type": "code",
      "execution_count": 48,
      "metadata": {},
      "outputs": [
        {
          "data": {
            "text/plain": [
              "24720"
            ]
          },
          "execution_count": 48,
          "metadata": {},
          "output_type": "execute_result"
        }
      ],
      "source": [
        "len(train_3)"
      ]
    },
    {
      "cell_type": "code",
      "execution_count": 49,
      "metadata": {},
      "outputs": [
        {
          "data": {
            "text/plain": [
              "61249"
            ]
          },
          "execution_count": 49,
          "metadata": {},
          "output_type": "execute_result"
        }
      ],
      "source": [
        "len(train_4)"
      ]
    },
    {
      "cell_type": "code",
      "execution_count": 50,
      "metadata": {},
      "outputs": [
        {
          "data": {
            "text/plain": [
              "160359"
            ]
          },
          "execution_count": 50,
          "metadata": {},
          "output_type": "execute_result"
        }
      ],
      "source": [
        "total = len(train_1) + len(train_2) + len(train_3) + len(train_4)\n",
        "total"
      ]
    },
    {
      "cell_type": "code",
      "execution_count": 51,
      "metadata": {},
      "outputs": [
        {
          "data": {
            "image/png": "[encoded data removed]",
            "text/plain": [
              "<Figure size 700x600 with 1 Axes>"
            ]
          },
          "metadata": {},
          "output_type": "display_data"
        }
      ],
      "source": [
        "sample_counts = [len(train_1), len(train_2), len(train_3), len(train_4), total]\n",
        "labels = ['Train_FD001', 'Train_FD002', 'Train_FD003', 'Train_FD004', 'Total']\n",
        "\n",
        "plt.figure(figsize=(7, 6))\n",
        "plt.bar(labels, sample_counts, color=['blue', 'green', 'red', 'purple', 'orange'], width=0.5)\n",
        "plt.xlabel('CMAPSS Dataset')\n",
        "plt.ylabel('Number of Samples')\n",
        "plt.title('Number of Samples in Each Dataset')\n",
        "plt.show()"
      ]
    },
    {
      "cell_type": "markdown",
      "metadata": {},
      "source": [
        "# Concatenate for train_FD001,2,3,4"
      ]
    },
    {
      "cell_type": "code",
      "execution_count": 52,
      "metadata": {},
      "outputs": [
        {
          "name": "stdout",
          "output_type": "stream",
          "text": [
            "train_1 shape: (20631, 27)\n",
            "test_1 shape: (13096, 27)\n",
            "rul_1 shape: (100, 1)\n",
            "max_cycle_1 shape: (100, 26)\n"
          ]
        }
      ],
      "source": [
        "print(f'train_1 shape: {train_1.shape}')\n",
        "print(f'test_1 shape: {test_1.shape}')\n",
        "print(f'rul_1 shape: {rul_1.shape}')\n",
        "print(f'max_cycle_1 shape: {max_cycle_1.shape}')"
      ]
    },
    {
      "cell_type": "code",
      "execution_count": 53,
      "metadata": {},
      "outputs": [
        {
          "name": "stdout",
          "output_type": "stream",
          "text": [
            "train_2 shape: (53759, 27)\n",
            "test_2 shape: (33991, 27)\n",
            "rul_2 shape: (259, 1)\n",
            "max_cycle_2 shape: (260, 26)\n"
          ]
        }
      ],
      "source": [
        "print(f'train_2 shape: {train_2.shape}')\n",
        "print(f'test_2 shape: {test_2.shape}')\n",
        "print(f'rul_2 shape: {rul_2.shape}')\n",
        "print(f'max_cycle_2 shape: {max_cycle_2.shape}')"
      ]
    },
    {
      "cell_type": "code",
      "execution_count": 54,
      "metadata": {},
      "outputs": [
        {
          "name": "stdout",
          "output_type": "stream",
          "text": [
            "train_3 shape: (24720, 27)\n",
            "test_3 shape: (16596, 27)\n",
            "rul_3 shape: (100, 1)\n",
            "max_cycle_3 shape: (100, 26)\n"
          ]
        }
      ],
      "source": [
        "print(f'train_3 shape: {train_3.shape}')\n",
        "print(f'test_3 shape: {test_3.shape}')\n",
        "print(f'rul_3 shape: {rul_3.shape}')\n",
        "print(f'max_cycle_3 shape: {max_cycle_3.shape}')"
      ]
    },
    {
      "cell_type": "code",
      "execution_count": 55,
      "metadata": {},
      "outputs": [
        {
          "name": "stdout",
          "output_type": "stream",
          "text": [
            "train_4 shape: (61249, 27)\n",
            "test_4 shape: (41214, 27)\n",
            "rul_4 shape: (248, 1)\n",
            "max_cycle_4 shape: (249, 26)\n"
          ]
        }
      ],
      "source": [
        "print(f'train_4 shape: {train_4.shape}')\n",
        "print(f'test_4 shape: {test_4.shape}')\n",
        "print(f'rul_4 shape: {rul_4.shape}')\n",
        "print(f'max_cycle_4 shape: {max_cycle_4.shape}')"
      ]
    },
    {
      "cell_type": "code",
      "execution_count": 56,
      "metadata": {},
      "outputs": [
        {
          "data": {
            "text/html": [
              "<div>\n",
              "<style scoped>\n",
              "    .dataframe tbody tr th:only-of-type {\n",
              "        vertical-align: middle;\n",
              "    }\n",
              "\n",
              "    .dataframe tbody tr th {\n",
              "        vertical-align: top;\n",
              "    }\n",
              "\n",
              "    .dataframe thead th {\n",
              "        text-align: right;\n",
              "    }\n",
              "</style>\n",
              "<table border=\"1\" class=\"dataframe\">\n",
              "  <thead>\n",
              "    <tr style=\"text-align: right;\">\n",
              "      <th></th>\n",
              "      <th>ID Engine</th>\n",
              "      <th>Cycle</th>\n",
              "      <th>Setting 1</th>\n",
              "      <th>Setting 2</th>\n",
              "      <th>Setting 3</th>\n",
              "      <th>Sensor 1</th>\n",
              "      <th>Sensor 2</th>\n",
              "      <th>Sensor 3</th>\n",
              "      <th>Sensor 4</th>\n",
              "      <th>Sensor 5</th>\n",
              "      <th>...</th>\n",
              "      <th>Sensor 13</th>\n",
              "      <th>Sensor 14</th>\n",
              "      <th>Sensor 15</th>\n",
              "      <th>Sensor 16</th>\n",
              "      <th>Sensor 17</th>\n",
              "      <th>Sensor 18</th>\n",
              "      <th>Sensor 19</th>\n",
              "      <th>Sensor 20</th>\n",
              "      <th>Sensor 21</th>\n",
              "      <th>Remaining RUL</th>\n",
              "    </tr>\n",
              "  </thead>\n",
              "  <tbody>\n",
              "    <tr>\n",
              "      <th>0</th>\n",
              "      <td>1</td>\n",
              "      <td>1</td>\n",
              "      <td>-0.0007</td>\n",
              "      <td>-0.0004</td>\n",
              "      <td>100.0</td>\n",
              "      <td>518.67</td>\n",
              "      <td>641.82</td>\n",
              "      <td>1589.70</td>\n",
              "      <td>1400.60</td>\n",
              "      <td>14.62</td>\n",
              "      <td>...</td>\n",
              "      <td>2388.02</td>\n",
              "      <td>8138.62</td>\n",
              "      <td>8.4195</td>\n",
              "      <td>0.03</td>\n",
              "      <td>392</td>\n",
              "      <td>2388</td>\n",
              "      <td>100.0</td>\n",
              "      <td>39.06</td>\n",
              "      <td>23.4190</td>\n",
              "      <td>191</td>\n",
              "    </tr>\n",
              "    <tr>\n",
              "      <th>1</th>\n",
              "      <td>1</td>\n",
              "      <td>2</td>\n",
              "      <td>0.0019</td>\n",
              "      <td>-0.0003</td>\n",
              "      <td>100.0</td>\n",
              "      <td>518.67</td>\n",
              "      <td>642.15</td>\n",
              "      <td>1591.82</td>\n",
              "      <td>1403.14</td>\n",
              "      <td>14.62</td>\n",
              "      <td>...</td>\n",
              "      <td>2388.07</td>\n",
              "      <td>8131.49</td>\n",
              "      <td>8.4318</td>\n",
              "      <td>0.03</td>\n",
              "      <td>392</td>\n",
              "      <td>2388</td>\n",
              "      <td>100.0</td>\n",
              "      <td>39.00</td>\n",
              "      <td>23.4236</td>\n",
              "      <td>190</td>\n",
              "    </tr>\n",
              "    <tr>\n",
              "      <th>2</th>\n",
              "      <td>1</td>\n",
              "      <td>3</td>\n",
              "      <td>-0.0043</td>\n",
              "      <td>0.0003</td>\n",
              "      <td>100.0</td>\n",
              "      <td>518.67</td>\n",
              "      <td>642.35</td>\n",
              "      <td>1587.99</td>\n",
              "      <td>1404.20</td>\n",
              "      <td>14.62</td>\n",
              "      <td>...</td>\n",
              "      <td>2388.03</td>\n",
              "      <td>8133.23</td>\n",
              "      <td>8.4178</td>\n",
              "      <td>0.03</td>\n",
              "      <td>390</td>\n",
              "      <td>2388</td>\n",
              "      <td>100.0</td>\n",
              "      <td>38.95</td>\n",
              "      <td>23.3442</td>\n",
              "      <td>189</td>\n",
              "    </tr>\n",
              "    <tr>\n",
              "      <th>3</th>\n",
              "      <td>1</td>\n",
              "      <td>4</td>\n",
              "      <td>0.0007</td>\n",
              "      <td>0.0000</td>\n",
              "      <td>100.0</td>\n",
              "      <td>518.67</td>\n",
              "      <td>642.35</td>\n",
              "      <td>1582.79</td>\n",
              "      <td>1401.87</td>\n",
              "      <td>14.62</td>\n",
              "      <td>...</td>\n",
              "      <td>2388.08</td>\n",
              "      <td>8133.83</td>\n",
              "      <td>8.3682</td>\n",
              "      <td>0.03</td>\n",
              "      <td>392</td>\n",
              "      <td>2388</td>\n",
              "      <td>100.0</td>\n",
              "      <td>38.88</td>\n",
              "      <td>23.3739</td>\n",
              "      <td>188</td>\n",
              "    </tr>\n",
              "    <tr>\n",
              "      <th>4</th>\n",
              "      <td>1</td>\n",
              "      <td>5</td>\n",
              "      <td>-0.0019</td>\n",
              "      <td>-0.0002</td>\n",
              "      <td>100.0</td>\n",
              "      <td>518.67</td>\n",
              "      <td>642.37</td>\n",
              "      <td>1582.85</td>\n",
              "      <td>1406.22</td>\n",
              "      <td>14.62</td>\n",
              "      <td>...</td>\n",
              "      <td>2388.04</td>\n",
              "      <td>8133.80</td>\n",
              "      <td>8.4294</td>\n",
              "      <td>0.03</td>\n",
              "      <td>393</td>\n",
              "      <td>2388</td>\n",
              "      <td>100.0</td>\n",
              "      <td>38.90</td>\n",
              "      <td>23.4044</td>\n",
              "      <td>187</td>\n",
              "    </tr>\n",
              "  </tbody>\n",
              "</table>\n",
              "<p>5 rows × 27 columns</p>\n",
              "</div>"
            ],
            "text/plain": [
              "   ID Engine  Cycle  Setting 1  Setting 2  Setting 3  Sensor 1  Sensor 2  \\\n",
              "0          1      1    -0.0007    -0.0004      100.0    518.67    641.82   \n",
              "1          1      2     0.0019    -0.0003      100.0    518.67    642.15   \n",
              "2          1      3    -0.0043     0.0003      100.0    518.67    642.35   \n",
              "3          1      4     0.0007     0.0000      100.0    518.67    642.35   \n",
              "4          1      5    -0.0019    -0.0002      100.0    518.67    642.37   \n",
              "\n",
              "   Sensor 3  Sensor 4  Sensor 5  ...  Sensor 13  Sensor 14  Sensor 15  \\\n",
              "0   1589.70   1400.60     14.62  ...    2388.02    8138.62     8.4195   \n",
              "1   1591.82   1403.14     14.62  ...    2388.07    8131.49     8.4318   \n",
              "2   1587.99   1404.20     14.62  ...    2388.03    8133.23     8.4178   \n",
              "3   1582.79   1401.87     14.62  ...    2388.08    8133.83     8.3682   \n",
              "4   1582.85   1406.22     14.62  ...    2388.04    8133.80     8.4294   \n",
              "\n",
              "   Sensor 16  Sensor 17  Sensor 18  Sensor 19  Sensor 20  Sensor 21  \\\n",
              "0       0.03        392       2388      100.0      39.06    23.4190   \n",
              "1       0.03        392       2388      100.0      39.00    23.4236   \n",
              "2       0.03        390       2388      100.0      38.95    23.3442   \n",
              "3       0.03        392       2388      100.0      38.88    23.3739   \n",
              "4       0.03        393       2388      100.0      38.90    23.4044   \n",
              "\n",
              "   Remaining RUL  \n",
              "0            191  \n",
              "1            190  \n",
              "2            189  \n",
              "3            188  \n",
              "4            187  \n",
              "\n",
              "[5 rows x 27 columns]"
            ]
          },
          "execution_count": 56,
          "metadata": {},
          "output_type": "execute_result"
        }
      ],
      "source": [
        "train_1.head()"
      ]
    },
    {
      "cell_type": "code",
      "execution_count": 57,
      "metadata": {},
      "outputs": [
        {
          "data": {
            "text/html": [
              "<div>\n",
              "<style scoped>\n",
              "    .dataframe tbody tr th:only-of-type {\n",
              "        vertical-align: middle;\n",
              "    }\n",
              "\n",
              "    .dataframe tbody tr th {\n",
              "        vertical-align: top;\n",
              "    }\n",
              "\n",
              "    .dataframe thead th {\n",
              "        text-align: right;\n",
              "    }\n",
              "</style>\n",
              "<table border=\"1\" class=\"dataframe\">\n",
              "  <thead>\n",
              "    <tr style=\"text-align: right;\">\n",
              "      <th></th>\n",
              "      <th>ID Engine</th>\n",
              "      <th>Cycle</th>\n",
              "      <th>Setting 1</th>\n",
              "      <th>Setting 2</th>\n",
              "      <th>Setting 3</th>\n",
              "      <th>Sensor 1</th>\n",
              "      <th>Sensor 2</th>\n",
              "      <th>Sensor 3</th>\n",
              "      <th>Sensor 4</th>\n",
              "      <th>Sensor 5</th>\n",
              "      <th>...</th>\n",
              "      <th>Sensor 13</th>\n",
              "      <th>Sensor 14</th>\n",
              "      <th>Sensor 15</th>\n",
              "      <th>Sensor 16</th>\n",
              "      <th>Sensor 17</th>\n",
              "      <th>Sensor 18</th>\n",
              "      <th>Sensor 19</th>\n",
              "      <th>Sensor 20</th>\n",
              "      <th>Sensor 21</th>\n",
              "      <th>Remaining RUL</th>\n",
              "    </tr>\n",
              "  </thead>\n",
              "  <tbody>\n",
              "    <tr>\n",
              "      <th>0</th>\n",
              "      <td>20632</td>\n",
              "      <td>1</td>\n",
              "      <td>34.9983</td>\n",
              "      <td>0.8400</td>\n",
              "      <td>100.0</td>\n",
              "      <td>449.44</td>\n",
              "      <td>555.32</td>\n",
              "      <td>1358.61</td>\n",
              "      <td>1137.23</td>\n",
              "      <td>5.48</td>\n",
              "      <td>...</td>\n",
              "      <td>2387.72</td>\n",
              "      <td>8048.56</td>\n",
              "      <td>9.3461</td>\n",
              "      <td>0.02</td>\n",
              "      <td>334</td>\n",
              "      <td>2223</td>\n",
              "      <td>100.00</td>\n",
              "      <td>14.73</td>\n",
              "      <td>8.8071</td>\n",
              "      <td>148</td>\n",
              "    </tr>\n",
              "    <tr>\n",
              "      <th>1</th>\n",
              "      <td>20632</td>\n",
              "      <td>2</td>\n",
              "      <td>41.9982</td>\n",
              "      <td>0.8408</td>\n",
              "      <td>100.0</td>\n",
              "      <td>445.00</td>\n",
              "      <td>549.90</td>\n",
              "      <td>1353.22</td>\n",
              "      <td>1125.78</td>\n",
              "      <td>3.91</td>\n",
              "      <td>...</td>\n",
              "      <td>2387.66</td>\n",
              "      <td>8072.30</td>\n",
              "      <td>9.3774</td>\n",
              "      <td>0.02</td>\n",
              "      <td>330</td>\n",
              "      <td>2212</td>\n",
              "      <td>100.00</td>\n",
              "      <td>10.41</td>\n",
              "      <td>6.2665</td>\n",
              "      <td>147</td>\n",
              "    </tr>\n",
              "    <tr>\n",
              "      <th>2</th>\n",
              "      <td>20632</td>\n",
              "      <td>3</td>\n",
              "      <td>24.9988</td>\n",
              "      <td>0.6218</td>\n",
              "      <td>60.0</td>\n",
              "      <td>462.54</td>\n",
              "      <td>537.31</td>\n",
              "      <td>1256.76</td>\n",
              "      <td>1047.45</td>\n",
              "      <td>7.05</td>\n",
              "      <td>...</td>\n",
              "      <td>2028.03</td>\n",
              "      <td>7864.87</td>\n",
              "      <td>10.8941</td>\n",
              "      <td>0.02</td>\n",
              "      <td>309</td>\n",
              "      <td>1915</td>\n",
              "      <td>84.93</td>\n",
              "      <td>14.08</td>\n",
              "      <td>8.6723</td>\n",
              "      <td>146</td>\n",
              "    </tr>\n",
              "    <tr>\n",
              "      <th>3</th>\n",
              "      <td>20632</td>\n",
              "      <td>4</td>\n",
              "      <td>42.0077</td>\n",
              "      <td>0.8416</td>\n",
              "      <td>100.0</td>\n",
              "      <td>445.00</td>\n",
              "      <td>549.51</td>\n",
              "      <td>1354.03</td>\n",
              "      <td>1126.38</td>\n",
              "      <td>3.91</td>\n",
              "      <td>...</td>\n",
              "      <td>2387.61</td>\n",
              "      <td>8068.66</td>\n",
              "      <td>9.3528</td>\n",
              "      <td>0.02</td>\n",
              "      <td>329</td>\n",
              "      <td>2212</td>\n",
              "      <td>100.00</td>\n",
              "      <td>10.59</td>\n",
              "      <td>6.4701</td>\n",
              "      <td>145</td>\n",
              "    </tr>\n",
              "    <tr>\n",
              "      <th>4</th>\n",
              "      <td>20632</td>\n",
              "      <td>5</td>\n",
              "      <td>25.0005</td>\n",
              "      <td>0.6203</td>\n",
              "      <td>60.0</td>\n",
              "      <td>462.54</td>\n",
              "      <td>537.07</td>\n",
              "      <td>1257.71</td>\n",
              "      <td>1047.93</td>\n",
              "      <td>7.05</td>\n",
              "      <td>...</td>\n",
              "      <td>2028.00</td>\n",
              "      <td>7861.23</td>\n",
              "      <td>10.8963</td>\n",
              "      <td>0.02</td>\n",
              "      <td>309</td>\n",
              "      <td>1915</td>\n",
              "      <td>84.93</td>\n",
              "      <td>14.13</td>\n",
              "      <td>8.5286</td>\n",
              "      <td>144</td>\n",
              "    </tr>\n",
              "  </tbody>\n",
              "</table>\n",
              "<p>5 rows × 27 columns</p>\n",
              "</div>"
            ],
            "text/plain": [
              "   ID Engine  Cycle  Setting 1  Setting 2  Setting 3  Sensor 1  Sensor 2  \\\n",
              "0      20632      1    34.9983     0.8400      100.0    449.44    555.32   \n",
              "1      20632      2    41.9982     0.8408      100.0    445.00    549.90   \n",
              "2      20632      3    24.9988     0.6218       60.0    462.54    537.31   \n",
              "3      20632      4    42.0077     0.8416      100.0    445.00    549.51   \n",
              "4      20632      5    25.0005     0.6203       60.0    462.54    537.07   \n",
              "\n",
              "   Sensor 3  Sensor 4  Sensor 5  ...  Sensor 13  Sensor 14  Sensor 15  \\\n",
              "0   1358.61   1137.23      5.48  ...    2387.72    8048.56     9.3461   \n",
              "1   1353.22   1125.78      3.91  ...    2387.66    8072.30     9.3774   \n",
              "2   1256.76   1047.45      7.05  ...    2028.03    7864.87    10.8941   \n",
              "3   1354.03   1126.38      3.91  ...    2387.61    8068.66     9.3528   \n",
              "4   1257.71   1047.93      7.05  ...    2028.00    7861.23    10.8963   \n",
              "\n",
              "   Sensor 16  Sensor 17  Sensor 18  Sensor 19  Sensor 20  Sensor 21  \\\n",
              "0       0.02        334       2223     100.00      14.73     8.8071   \n",
              "1       0.02        330       2212     100.00      10.41     6.2665   \n",
              "2       0.02        309       1915      84.93      14.08     8.6723   \n",
              "3       0.02        329       2212     100.00      10.59     6.4701   \n",
              "4       0.02        309       1915      84.93      14.13     8.5286   \n",
              "\n",
              "   Remaining RUL  \n",
              "0            148  \n",
              "1            147  \n",
              "2            146  \n",
              "3            145  \n",
              "4            144  \n",
              "\n",
              "[5 rows x 27 columns]"
            ]
          },
          "execution_count": 57,
          "metadata": {},
          "output_type": "execute_result"
        }
      ],
      "source": [
        "num = len(train_1)\n",
        "for idx in range(len(train_2)):\n",
        "    train_2.loc[idx, 'ID Engine'] += num\n",
        "train_2.head()"
      ]
    },
    {
      "cell_type": "code",
      "execution_count": 58,
      "metadata": {},
      "outputs": [
        {
          "data": {
            "text/html": [
              "<div>\n",
              "<style scoped>\n",
              "    .dataframe tbody tr th:only-of-type {\n",
              "        vertical-align: middle;\n",
              "    }\n",
              "\n",
              "    .dataframe tbody tr th {\n",
              "        vertical-align: top;\n",
              "    }\n",
              "\n",
              "    .dataframe thead th {\n",
              "        text-align: right;\n",
              "    }\n",
              "</style>\n",
              "<table border=\"1\" class=\"dataframe\">\n",
              "  <thead>\n",
              "    <tr style=\"text-align: right;\">\n",
              "      <th></th>\n",
              "      <th>ID Engine</th>\n",
              "      <th>Cycle</th>\n",
              "      <th>Setting 1</th>\n",
              "      <th>Setting 2</th>\n",
              "      <th>Setting 3</th>\n",
              "      <th>Sensor 1</th>\n",
              "      <th>Sensor 2</th>\n",
              "      <th>Sensor 3</th>\n",
              "      <th>Sensor 4</th>\n",
              "      <th>Sensor 5</th>\n",
              "      <th>...</th>\n",
              "      <th>Sensor 13</th>\n",
              "      <th>Sensor 14</th>\n",
              "      <th>Sensor 15</th>\n",
              "      <th>Sensor 16</th>\n",
              "      <th>Sensor 17</th>\n",
              "      <th>Sensor 18</th>\n",
              "      <th>Sensor 19</th>\n",
              "      <th>Sensor 20</th>\n",
              "      <th>Sensor 21</th>\n",
              "      <th>Remaining RUL</th>\n",
              "    </tr>\n",
              "  </thead>\n",
              "  <tbody>\n",
              "    <tr>\n",
              "      <th>0</th>\n",
              "      <td>74391</td>\n",
              "      <td>1</td>\n",
              "      <td>-0.0005</td>\n",
              "      <td>0.0004</td>\n",
              "      <td>100.0</td>\n",
              "      <td>518.67</td>\n",
              "      <td>642.36</td>\n",
              "      <td>1583.23</td>\n",
              "      <td>1396.84</td>\n",
              "      <td>14.62</td>\n",
              "      <td>...</td>\n",
              "      <td>2388.01</td>\n",
              "      <td>8145.32</td>\n",
              "      <td>8.4246</td>\n",
              "      <td>0.03</td>\n",
              "      <td>391</td>\n",
              "      <td>2388</td>\n",
              "      <td>100.0</td>\n",
              "      <td>39.11</td>\n",
              "      <td>23.3537</td>\n",
              "      <td>258</td>\n",
              "    </tr>\n",
              "    <tr>\n",
              "      <th>1</th>\n",
              "      <td>74391</td>\n",
              "      <td>2</td>\n",
              "      <td>0.0008</td>\n",
              "      <td>-0.0003</td>\n",
              "      <td>100.0</td>\n",
              "      <td>518.67</td>\n",
              "      <td>642.50</td>\n",
              "      <td>1584.69</td>\n",
              "      <td>1396.89</td>\n",
              "      <td>14.62</td>\n",
              "      <td>...</td>\n",
              "      <td>2388.03</td>\n",
              "      <td>8152.85</td>\n",
              "      <td>8.4403</td>\n",
              "      <td>0.03</td>\n",
              "      <td>392</td>\n",
              "      <td>2388</td>\n",
              "      <td>100.0</td>\n",
              "      <td>38.99</td>\n",
              "      <td>23.4491</td>\n",
              "      <td>257</td>\n",
              "    </tr>\n",
              "    <tr>\n",
              "      <th>2</th>\n",
              "      <td>74391</td>\n",
              "      <td>3</td>\n",
              "      <td>-0.0014</td>\n",
              "      <td>-0.0002</td>\n",
              "      <td>100.0</td>\n",
              "      <td>518.67</td>\n",
              "      <td>642.18</td>\n",
              "      <td>1582.35</td>\n",
              "      <td>1405.61</td>\n",
              "      <td>14.62</td>\n",
              "      <td>...</td>\n",
              "      <td>2388.00</td>\n",
              "      <td>8150.17</td>\n",
              "      <td>8.3901</td>\n",
              "      <td>0.03</td>\n",
              "      <td>391</td>\n",
              "      <td>2388</td>\n",
              "      <td>100.0</td>\n",
              "      <td>38.85</td>\n",
              "      <td>23.3669</td>\n",
              "      <td>256</td>\n",
              "    </tr>\n",
              "    <tr>\n",
              "      <th>3</th>\n",
              "      <td>74391</td>\n",
              "      <td>4</td>\n",
              "      <td>-0.0020</td>\n",
              "      <td>0.0001</td>\n",
              "      <td>100.0</td>\n",
              "      <td>518.67</td>\n",
              "      <td>642.92</td>\n",
              "      <td>1585.61</td>\n",
              "      <td>1392.27</td>\n",
              "      <td>14.62</td>\n",
              "      <td>...</td>\n",
              "      <td>2388.08</td>\n",
              "      <td>8146.56</td>\n",
              "      <td>8.3878</td>\n",
              "      <td>0.03</td>\n",
              "      <td>392</td>\n",
              "      <td>2388</td>\n",
              "      <td>100.0</td>\n",
              "      <td>38.96</td>\n",
              "      <td>23.2951</td>\n",
              "      <td>255</td>\n",
              "    </tr>\n",
              "    <tr>\n",
              "      <th>4</th>\n",
              "      <td>74391</td>\n",
              "      <td>5</td>\n",
              "      <td>0.0016</td>\n",
              "      <td>0.0000</td>\n",
              "      <td>100.0</td>\n",
              "      <td>518.67</td>\n",
              "      <td>641.68</td>\n",
              "      <td>1588.63</td>\n",
              "      <td>1397.65</td>\n",
              "      <td>14.62</td>\n",
              "      <td>...</td>\n",
              "      <td>2388.03</td>\n",
              "      <td>8147.80</td>\n",
              "      <td>8.3869</td>\n",
              "      <td>0.03</td>\n",
              "      <td>392</td>\n",
              "      <td>2388</td>\n",
              "      <td>100.0</td>\n",
              "      <td>39.14</td>\n",
              "      <td>23.4583</td>\n",
              "      <td>254</td>\n",
              "    </tr>\n",
              "  </tbody>\n",
              "</table>\n",
              "<p>5 rows × 27 columns</p>\n",
              "</div>"
            ],
            "text/plain": [
              "   ID Engine  Cycle  Setting 1  Setting 2  Setting 3  Sensor 1  Sensor 2  \\\n",
              "0      74391      1    -0.0005     0.0004      100.0    518.67    642.36   \n",
              "1      74391      2     0.0008    -0.0003      100.0    518.67    642.50   \n",
              "2      74391      3    -0.0014    -0.0002      100.0    518.67    642.18   \n",
              "3      74391      4    -0.0020     0.0001      100.0    518.67    642.92   \n",
              "4      74391      5     0.0016     0.0000      100.0    518.67    641.68   \n",
              "\n",
              "   Sensor 3  Sensor 4  Sensor 5  ...  Sensor 13  Sensor 14  Sensor 15  \\\n",
              "0   1583.23   1396.84     14.62  ...    2388.01    8145.32     8.4246   \n",
              "1   1584.69   1396.89     14.62  ...    2388.03    8152.85     8.4403   \n",
              "2   1582.35   1405.61     14.62  ...    2388.00    8150.17     8.3901   \n",
              "3   1585.61   1392.27     14.62  ...    2388.08    8146.56     8.3878   \n",
              "4   1588.63   1397.65     14.62  ...    2388.03    8147.80     8.3869   \n",
              "\n",
              "   Sensor 16  Sensor 17  Sensor 18  Sensor 19  Sensor 20  Sensor 21  \\\n",
              "0       0.03        391       2388      100.0      39.11    23.3537   \n",
              "1       0.03        392       2388      100.0      38.99    23.4491   \n",
              "2       0.03        391       2388      100.0      38.85    23.3669   \n",
              "3       0.03        392       2388      100.0      38.96    23.2951   \n",
              "4       0.03        392       2388      100.0      39.14    23.4583   \n",
              "\n",
              "   Remaining RUL  \n",
              "0            258  \n",
              "1            257  \n",
              "2            256  \n",
              "3            255  \n",
              "4            254  \n",
              "\n",
              "[5 rows x 27 columns]"
            ]
          },
          "execution_count": 58,
          "metadata": {},
          "output_type": "execute_result"
        }
      ],
      "source": [
        "num += len(train_2)\n",
        "for idx in range(len(train_3)):\n",
        "    train_3.loc[idx, 'ID Engine'] += num\n",
        "train_3.head()"
      ]
    },
    {
      "cell_type": "code",
      "execution_count": 59,
      "metadata": {},
      "outputs": [
        {
          "data": {
            "text/html": [
              "<div>\n",
              "<style scoped>\n",
              "    .dataframe tbody tr th:only-of-type {\n",
              "        vertical-align: middle;\n",
              "    }\n",
              "\n",
              "    .dataframe tbody tr th {\n",
              "        vertical-align: top;\n",
              "    }\n",
              "\n",
              "    .dataframe thead th {\n",
              "        text-align: right;\n",
              "    }\n",
              "</style>\n",
              "<table border=\"1\" class=\"dataframe\">\n",
              "  <thead>\n",
              "    <tr style=\"text-align: right;\">\n",
              "      <th></th>\n",
              "      <th>ID Engine</th>\n",
              "      <th>Cycle</th>\n",
              "      <th>Setting 1</th>\n",
              "      <th>Setting 2</th>\n",
              "      <th>Setting 3</th>\n",
              "      <th>Sensor 1</th>\n",
              "      <th>Sensor 2</th>\n",
              "      <th>Sensor 3</th>\n",
              "      <th>Sensor 4</th>\n",
              "      <th>Sensor 5</th>\n",
              "      <th>...</th>\n",
              "      <th>Sensor 13</th>\n",
              "      <th>Sensor 14</th>\n",
              "      <th>Sensor 15</th>\n",
              "      <th>Sensor 16</th>\n",
              "      <th>Sensor 17</th>\n",
              "      <th>Sensor 18</th>\n",
              "      <th>Sensor 19</th>\n",
              "      <th>Sensor 20</th>\n",
              "      <th>Sensor 21</th>\n",
              "      <th>Remaining RUL</th>\n",
              "    </tr>\n",
              "  </thead>\n",
              "  <tbody>\n",
              "    <tr>\n",
              "      <th>0</th>\n",
              "      <td>99111</td>\n",
              "      <td>1</td>\n",
              "      <td>42.0049</td>\n",
              "      <td>0.8400</td>\n",
              "      <td>100.0</td>\n",
              "      <td>445.00</td>\n",
              "      <td>549.68</td>\n",
              "      <td>1343.43</td>\n",
              "      <td>1112.93</td>\n",
              "      <td>3.91</td>\n",
              "      <td>...</td>\n",
              "      <td>2387.99</td>\n",
              "      <td>8074.83</td>\n",
              "      <td>9.3335</td>\n",
              "      <td>0.02</td>\n",
              "      <td>330</td>\n",
              "      <td>2212</td>\n",
              "      <td>100.00</td>\n",
              "      <td>10.62</td>\n",
              "      <td>6.3670</td>\n",
              "      <td>320</td>\n",
              "    </tr>\n",
              "    <tr>\n",
              "      <th>1</th>\n",
              "      <td>99111</td>\n",
              "      <td>2</td>\n",
              "      <td>20.0020</td>\n",
              "      <td>0.7002</td>\n",
              "      <td>100.0</td>\n",
              "      <td>491.19</td>\n",
              "      <td>606.07</td>\n",
              "      <td>1477.61</td>\n",
              "      <td>1237.50</td>\n",
              "      <td>9.35</td>\n",
              "      <td>...</td>\n",
              "      <td>2387.73</td>\n",
              "      <td>8046.13</td>\n",
              "      <td>9.1913</td>\n",
              "      <td>0.02</td>\n",
              "      <td>361</td>\n",
              "      <td>2324</td>\n",
              "      <td>100.00</td>\n",
              "      <td>24.37</td>\n",
              "      <td>14.6552</td>\n",
              "      <td>319</td>\n",
              "    </tr>\n",
              "    <tr>\n",
              "      <th>2</th>\n",
              "      <td>99111</td>\n",
              "      <td>3</td>\n",
              "      <td>42.0038</td>\n",
              "      <td>0.8409</td>\n",
              "      <td>100.0</td>\n",
              "      <td>445.00</td>\n",
              "      <td>548.95</td>\n",
              "      <td>1343.12</td>\n",
              "      <td>1117.05</td>\n",
              "      <td>3.91</td>\n",
              "      <td>...</td>\n",
              "      <td>2387.97</td>\n",
              "      <td>8066.62</td>\n",
              "      <td>9.4007</td>\n",
              "      <td>0.02</td>\n",
              "      <td>329</td>\n",
              "      <td>2212</td>\n",
              "      <td>100.00</td>\n",
              "      <td>10.48</td>\n",
              "      <td>6.4213</td>\n",
              "      <td>318</td>\n",
              "    </tr>\n",
              "    <tr>\n",
              "      <th>3</th>\n",
              "      <td>99111</td>\n",
              "      <td>4</td>\n",
              "      <td>42.0000</td>\n",
              "      <td>0.8400</td>\n",
              "      <td>100.0</td>\n",
              "      <td>445.00</td>\n",
              "      <td>548.70</td>\n",
              "      <td>1341.24</td>\n",
              "      <td>1118.03</td>\n",
              "      <td>3.91</td>\n",
              "      <td>...</td>\n",
              "      <td>2388.02</td>\n",
              "      <td>8076.05</td>\n",
              "      <td>9.3369</td>\n",
              "      <td>0.02</td>\n",
              "      <td>328</td>\n",
              "      <td>2212</td>\n",
              "      <td>100.00</td>\n",
              "      <td>10.54</td>\n",
              "      <td>6.4176</td>\n",
              "      <td>317</td>\n",
              "    </tr>\n",
              "    <tr>\n",
              "      <th>4</th>\n",
              "      <td>99111</td>\n",
              "      <td>5</td>\n",
              "      <td>25.0063</td>\n",
              "      <td>0.6207</td>\n",
              "      <td>60.0</td>\n",
              "      <td>462.54</td>\n",
              "      <td>536.10</td>\n",
              "      <td>1255.23</td>\n",
              "      <td>1033.59</td>\n",
              "      <td>7.05</td>\n",
              "      <td>...</td>\n",
              "      <td>2028.08</td>\n",
              "      <td>7865.80</td>\n",
              "      <td>10.8366</td>\n",
              "      <td>0.02</td>\n",
              "      <td>305</td>\n",
              "      <td>1915</td>\n",
              "      <td>84.93</td>\n",
              "      <td>14.03</td>\n",
              "      <td>8.6754</td>\n",
              "      <td>316</td>\n",
              "    </tr>\n",
              "  </tbody>\n",
              "</table>\n",
              "<p>5 rows × 27 columns</p>\n",
              "</div>"
            ],
            "text/plain": [
              "   ID Engine  Cycle  Setting 1  Setting 2  Setting 3  Sensor 1  Sensor 2  \\\n",
              "0      99111      1    42.0049     0.8400      100.0    445.00    549.68   \n",
              "1      99111      2    20.0020     0.7002      100.0    491.19    606.07   \n",
              "2      99111      3    42.0038     0.8409      100.0    445.00    548.95   \n",
              "3      99111      4    42.0000     0.8400      100.0    445.00    548.70   \n",
              "4      99111      5    25.0063     0.6207       60.0    462.54    536.10   \n",
              "\n",
              "   Sensor 3  Sensor 4  Sensor 5  ...  Sensor 13  Sensor 14  Sensor 15  \\\n",
              "0   1343.43   1112.93      3.91  ...    2387.99    8074.83     9.3335   \n",
              "1   1477.61   1237.50      9.35  ...    2387.73    8046.13     9.1913   \n",
              "2   1343.12   1117.05      3.91  ...    2387.97    8066.62     9.4007   \n",
              "3   1341.24   1118.03      3.91  ...    2388.02    8076.05     9.3369   \n",
              "4   1255.23   1033.59      7.05  ...    2028.08    7865.80    10.8366   \n",
              "\n",
              "   Sensor 16  Sensor 17  Sensor 18  Sensor 19  Sensor 20  Sensor 21  \\\n",
              "0       0.02        330       2212     100.00      10.62     6.3670   \n",
              "1       0.02        361       2324     100.00      24.37    14.6552   \n",
              "2       0.02        329       2212     100.00      10.48     6.4213   \n",
              "3       0.02        328       2212     100.00      10.54     6.4176   \n",
              "4       0.02        305       1915      84.93      14.03     8.6754   \n",
              "\n",
              "   Remaining RUL  \n",
              "0            320  \n",
              "1            319  \n",
              "2            318  \n",
              "3            317  \n",
              "4            316  \n",
              "\n",
              "[5 rows x 27 columns]"
            ]
          },
          "execution_count": 59,
          "metadata": {},
          "output_type": "execute_result"
        }
      ],
      "source": [
        "num += len(train_3)\n",
        "for idx in range(len(train_4)):\n",
        "    train_4.loc[idx, 'ID Engine'] += num\n",
        "train_4.head()"
      ]
    },
    {
      "cell_type": "code",
      "execution_count": null,
      "metadata": {},
      "outputs": [
        {
          "name": "stdout",
          "output_type": "stream",
          "text": [
            "Train shape: (160359, 27)\n"
          ]
        },
        {
          "data": {
            "text/html": [
              "<div>\n",
              "<style scoped>\n",
              "    .dataframe tbody tr th:only-of-type {\n",
              "        vertical-align: middle;\n",
              "    }\n",
              "\n",
              "    .dataframe tbody tr th {\n",
              "        vertical-align: top;\n",
              "    }\n",
              "\n",
              "    .dataframe thead th {\n",
              "        text-align: right;\n",
              "    }\n",
              "</style>\n",
              "<table border=\"1\" class=\"dataframe\">\n",
              "  <thead>\n",
              "    <tr style=\"text-align: right;\">\n",
              "      <th></th>\n",
              "      <th>ID Engine</th>\n",
              "      <th>Cycle</th>\n",
              "      <th>Setting 1</th>\n",
              "      <th>Setting 2</th>\n",
              "      <th>Setting 3</th>\n",
              "      <th>Sensor 1</th>\n",
              "      <th>Sensor 2</th>\n",
              "      <th>Sensor 3</th>\n",
              "      <th>Sensor 4</th>\n",
              "      <th>Sensor 5</th>\n",
              "      <th>...</th>\n",
              "      <th>Sensor 13</th>\n",
              "      <th>Sensor 14</th>\n",
              "      <th>Sensor 15</th>\n",
              "      <th>Sensor 16</th>\n",
              "      <th>Sensor 17</th>\n",
              "      <th>Sensor 18</th>\n",
              "      <th>Sensor 19</th>\n",
              "      <th>Sensor 20</th>\n",
              "      <th>Sensor 21</th>\n",
              "      <th>Remaining RUL</th>\n",
              "    </tr>\n",
              "  </thead>\n",
              "  <tbody>\n",
              "    <tr>\n",
              "      <th>0</th>\n",
              "      <td>1</td>\n",
              "      <td>1</td>\n",
              "      <td>-0.0007</td>\n",
              "      <td>-0.0004</td>\n",
              "      <td>100.0</td>\n",
              "      <td>518.67</td>\n",
              "      <td>641.82</td>\n",
              "      <td>1589.70</td>\n",
              "      <td>1400.60</td>\n",
              "      <td>14.62</td>\n",
              "      <td>...</td>\n",
              "      <td>2388.02</td>\n",
              "      <td>8138.62</td>\n",
              "      <td>8.4195</td>\n",
              "      <td>0.03</td>\n",
              "      <td>392</td>\n",
              "      <td>2388</td>\n",
              "      <td>100.0</td>\n",
              "      <td>39.06</td>\n",
              "      <td>23.4190</td>\n",
              "      <td>191</td>\n",
              "    </tr>\n",
              "    <tr>\n",
              "      <th>1</th>\n",
              "      <td>1</td>\n",
              "      <td>2</td>\n",
              "      <td>0.0019</td>\n",
              "      <td>-0.0003</td>\n",
              "      <td>100.0</td>\n",
              "      <td>518.67</td>\n",
              "      <td>642.15</td>\n",
              "      <td>1591.82</td>\n",
              "      <td>1403.14</td>\n",
              "      <td>14.62</td>\n",
              "      <td>...</td>\n",
              "      <td>2388.07</td>\n",
              "      <td>8131.49</td>\n",
              "      <td>8.4318</td>\n",
              "      <td>0.03</td>\n",
              "      <td>392</td>\n",
              "      <td>2388</td>\n",
              "      <td>100.0</td>\n",
              "      <td>39.00</td>\n",
              "      <td>23.4236</td>\n",
              "      <td>190</td>\n",
              "    </tr>\n",
              "    <tr>\n",
              "      <th>2</th>\n",
              "      <td>1</td>\n",
              "      <td>3</td>\n",
              "      <td>-0.0043</td>\n",
              "      <td>0.0003</td>\n",
              "      <td>100.0</td>\n",
              "      <td>518.67</td>\n",
              "      <td>642.35</td>\n",
              "      <td>1587.99</td>\n",
              "      <td>1404.20</td>\n",
              "      <td>14.62</td>\n",
              "      <td>...</td>\n",
              "      <td>2388.03</td>\n",
              "      <td>8133.23</td>\n",
              "      <td>8.4178</td>\n",
              "      <td>0.03</td>\n",
              "      <td>390</td>\n",
              "      <td>2388</td>\n",
              "      <td>100.0</td>\n",
              "      <td>38.95</td>\n",
              "      <td>23.3442</td>\n",
              "      <td>189</td>\n",
              "    </tr>\n",
              "    <tr>\n",
              "      <th>3</th>\n",
              "      <td>1</td>\n",
              "      <td>4</td>\n",
              "      <td>0.0007</td>\n",
              "      <td>0.0000</td>\n",
              "      <td>100.0</td>\n",
              "      <td>518.67</td>\n",
              "      <td>642.35</td>\n",
              "      <td>1582.79</td>\n",
              "      <td>1401.87</td>\n",
              "      <td>14.62</td>\n",
              "      <td>...</td>\n",
              "      <td>2388.08</td>\n",
              "      <td>8133.83</td>\n",
              "      <td>8.3682</td>\n",
              "      <td>0.03</td>\n",
              "      <td>392</td>\n",
              "      <td>2388</td>\n",
              "      <td>100.0</td>\n",
              "      <td>38.88</td>\n",
              "      <td>23.3739</td>\n",
              "      <td>188</td>\n",
              "    </tr>\n",
              "    <tr>\n",
              "      <th>4</th>\n",
              "      <td>1</td>\n",
              "      <td>5</td>\n",
              "      <td>-0.0019</td>\n",
              "      <td>-0.0002</td>\n",
              "      <td>100.0</td>\n",
              "      <td>518.67</td>\n",
              "      <td>642.37</td>\n",
              "      <td>1582.85</td>\n",
              "      <td>1406.22</td>\n",
              "      <td>14.62</td>\n",
              "      <td>...</td>\n",
              "      <td>2388.04</td>\n",
              "      <td>8133.80</td>\n",
              "      <td>8.4294</td>\n",
              "      <td>0.03</td>\n",
              "      <td>393</td>\n",
              "      <td>2388</td>\n",
              "      <td>100.0</td>\n",
              "      <td>38.90</td>\n",
              "      <td>23.4044</td>\n",
              "      <td>187</td>\n",
              "    </tr>\n",
              "  </tbody>\n",
              "</table>\n",
              "<p>5 rows × 27 columns</p>\n",
              "</div>"
            ],
            "text/plain": [
              "   ID Engine  Cycle  Setting 1  Setting 2  Setting 3  Sensor 1  Sensor 2  \\\n",
              "0          1      1    -0.0007    -0.0004      100.0    518.67    641.82   \n",
              "1          1      2     0.0019    -0.0003      100.0    518.67    642.15   \n",
              "2          1      3    -0.0043     0.0003      100.0    518.67    642.35   \n",
              "3          1      4     0.0007     0.0000      100.0    518.67    642.35   \n",
              "4          1      5    -0.0019    -0.0002      100.0    518.67    642.37   \n",
              "\n",
              "   Sensor 3  Sensor 4  Sensor 5  ...  Sensor 13  Sensor 14  Sensor 15  \\\n",
              "0   1589.70   1400.60     14.62  ...    2388.02    8138.62     8.4195   \n",
              "1   1591.82   1403.14     14.62  ...    2388.07    8131.49     8.4318   \n",
              "2   1587.99   1404.20     14.62  ...    2388.03    8133.23     8.4178   \n",
              "3   1582.79   1401.87     14.62  ...    2388.08    8133.83     8.3682   \n",
              "4   1582.85   1406.22     14.62  ...    2388.04    8133.80     8.4294   \n",
              "\n",
              "   Sensor 16  Sensor 17  Sensor 18  Sensor 19  Sensor 20  Sensor 21  \\\n",
              "0       0.03        392       2388      100.0      39.06    23.4190   \n",
              "1       0.03        392       2388      100.0      39.00    23.4236   \n",
              "2       0.03        390       2388      100.0      38.95    23.3442   \n",
              "3       0.03        392       2388      100.0      38.88    23.3739   \n",
              "4       0.03        393       2388      100.0      38.90    23.4044   \n",
              "\n",
              "   Remaining RUL  \n",
              "0            191  \n",
              "1            190  \n",
              "2            189  \n",
              "3            188  \n",
              "4            187  \n",
              "\n",
              "[5 rows x 27 columns]"
            ]
          },
          "execution_count": 60,
          "metadata": {},
          "output_type": "execute_result"
        }
      ],
      "source": [
        "train = pd.concat([train_1, train_2, train_3, train_4], ignore_index=True)\n",
        "print(f'Train shape: {train.shape}')\n",
        "train.head()"
      ]
    },
    {
      "cell_type": "markdown",
      "metadata": {
        "id": "lj7dyHsdMAyK"
      },
      "source": [
        "# Standard data (for train and test set)"
      ]
    },
    {
      "cell_type": "code",
      "execution_count": 61,
      "metadata": {
        "colab": {
          "base_uri": "https://localhost:8080/"
        },
        "id": "PU2HL_DdMAyK",
        "outputId": "94a078eb-069b-4c4e-f469-f90f3f75504e"
      },
      "outputs": [],
      "source": [
        "scaled_columns = train.columns[5:]\n",
        "scaler = MinMaxScaler()\n",
        "train[scaled_columns] = scaler.fit_transform(train[scaled_columns])\n",
        "# test[scaled_columns] = scaler.fit_transform(test[scaled_columns])"
      ]
    },
    {
      "cell_type": "code",
      "execution_count": 62,
      "metadata": {
        "colab": {
          "base_uri": "https://localhost:8080/",
          "height": 0
        },
        "id": "SuOOhTnTMAyK",
        "outputId": "3ff6a48e-9bf8-4577-a03c-1c9367ac68f1"
      },
      "outputs": [
        {
          "data": {
            "text/html": [
              "<div>\n",
              "<style scoped>\n",
              "    .dataframe tbody tr th:only-of-type {\n",
              "        vertical-align: middle;\n",
              "    }\n",
              "\n",
              "    .dataframe tbody tr th {\n",
              "        vertical-align: top;\n",
              "    }\n",
              "\n",
              "    .dataframe thead th {\n",
              "        text-align: right;\n",
              "    }\n",
              "</style>\n",
              "<table border=\"1\" class=\"dataframe\">\n",
              "  <thead>\n",
              "    <tr style=\"text-align: right;\">\n",
              "      <th></th>\n",
              "      <th>ID Engine</th>\n",
              "      <th>Cycle</th>\n",
              "      <th>Setting 1</th>\n",
              "      <th>Setting 2</th>\n",
              "      <th>Setting 3</th>\n",
              "      <th>Sensor 1</th>\n",
              "      <th>Sensor 2</th>\n",
              "      <th>Sensor 3</th>\n",
              "      <th>Sensor 4</th>\n",
              "      <th>Sensor 5</th>\n",
              "      <th>...</th>\n",
              "      <th>Sensor 13</th>\n",
              "      <th>Sensor 14</th>\n",
              "      <th>Sensor 15</th>\n",
              "      <th>Sensor 16</th>\n",
              "      <th>Sensor 17</th>\n",
              "      <th>Sensor 18</th>\n",
              "      <th>Sensor 19</th>\n",
              "      <th>Sensor 20</th>\n",
              "      <th>Sensor 21</th>\n",
              "      <th>Remaining RUL</th>\n",
              "    </tr>\n",
              "  </thead>\n",
              "  <tbody>\n",
              "    <tr>\n",
              "      <th>0</th>\n",
              "      <td>1</td>\n",
              "      <td>1</td>\n",
              "      <td>-0.0007</td>\n",
              "      <td>-0.0004</td>\n",
              "      <td>100.0</td>\n",
              "      <td>1.0</td>\n",
              "      <td>0.969990</td>\n",
              "      <td>0.927293</td>\n",
              "      <td>0.902111</td>\n",
              "      <td>1.0</td>\n",
              "      <td>...</td>\n",
              "      <td>0.993194</td>\n",
              "      <td>0.653748</td>\n",
              "      <td>0.090428</td>\n",
              "      <td>1.0</td>\n",
              "      <td>0.918367</td>\n",
              "      <td>1.0</td>\n",
              "      <td>1.0</td>\n",
              "      <td>0.972082</td>\n",
              "      <td>0.970373</td>\n",
              "      <td>0.352399</td>\n",
              "    </tr>\n",
              "    <tr>\n",
              "      <th>1</th>\n",
              "      <td>1</td>\n",
              "      <td>2</td>\n",
              "      <td>0.0019</td>\n",
              "      <td>-0.0003</td>\n",
              "      <td>100.0</td>\n",
              "      <td>1.0</td>\n",
              "      <td>0.973000</td>\n",
              "      <td>0.932957</td>\n",
              "      <td>0.908192</td>\n",
              "      <td>1.0</td>\n",
              "      <td>...</td>\n",
              "      <td>0.993332</td>\n",
              "      <td>0.637831</td>\n",
              "      <td>0.094654</td>\n",
              "      <td>1.0</td>\n",
              "      <td>0.918367</td>\n",
              "      <td>1.0</td>\n",
              "      <td>1.0</td>\n",
              "      <td>0.970064</td>\n",
              "      <td>0.970630</td>\n",
              "      <td>0.350554</td>\n",
              "    </tr>\n",
              "    <tr>\n",
              "      <th>2</th>\n",
              "      <td>1</td>\n",
              "      <td>3</td>\n",
              "      <td>-0.0043</td>\n",
              "      <td>0.0003</td>\n",
              "      <td>100.0</td>\n",
              "      <td>1.0</td>\n",
              "      <td>0.974824</td>\n",
              "      <td>0.922723</td>\n",
              "      <td>0.910730</td>\n",
              "      <td>1.0</td>\n",
              "      <td>...</td>\n",
              "      <td>0.993222</td>\n",
              "      <td>0.641715</td>\n",
              "      <td>0.089844</td>\n",
              "      <td>1.0</td>\n",
              "      <td>0.897959</td>\n",
              "      <td>1.0</td>\n",
              "      <td>1.0</td>\n",
              "      <td>0.968382</td>\n",
              "      <td>0.966204</td>\n",
              "      <td>0.348708</td>\n",
              "    </tr>\n",
              "    <tr>\n",
              "      <th>3</th>\n",
              "      <td>1</td>\n",
              "      <td>4</td>\n",
              "      <td>0.0007</td>\n",
              "      <td>0.0000</td>\n",
              "      <td>100.0</td>\n",
              "      <td>1.0</td>\n",
              "      <td>0.974824</td>\n",
              "      <td>0.908829</td>\n",
              "      <td>0.905152</td>\n",
              "      <td>1.0</td>\n",
              "      <td>...</td>\n",
              "      <td>0.993359</td>\n",
              "      <td>0.643055</td>\n",
              "      <td>0.072803</td>\n",
              "      <td>1.0</td>\n",
              "      <td>0.918367</td>\n",
              "      <td>1.0</td>\n",
              "      <td>1.0</td>\n",
              "      <td>0.966028</td>\n",
              "      <td>0.967860</td>\n",
              "      <td>0.346863</td>\n",
              "    </tr>\n",
              "    <tr>\n",
              "      <th>4</th>\n",
              "      <td>1</td>\n",
              "      <td>5</td>\n",
              "      <td>-0.0019</td>\n",
              "      <td>-0.0002</td>\n",
              "      <td>100.0</td>\n",
              "      <td>1.0</td>\n",
              "      <td>0.975007</td>\n",
              "      <td>0.908989</td>\n",
              "      <td>0.915565</td>\n",
              "      <td>1.0</td>\n",
              "      <td>...</td>\n",
              "      <td>0.993249</td>\n",
              "      <td>0.642988</td>\n",
              "      <td>0.093829</td>\n",
              "      <td>1.0</td>\n",
              "      <td>0.928571</td>\n",
              "      <td>1.0</td>\n",
              "      <td>1.0</td>\n",
              "      <td>0.966700</td>\n",
              "      <td>0.969560</td>\n",
              "      <td>0.345018</td>\n",
              "    </tr>\n",
              "  </tbody>\n",
              "</table>\n",
              "<p>5 rows × 27 columns</p>\n",
              "</div>"
            ],
            "text/plain": [
              "   ID Engine  Cycle  Setting 1  Setting 2  Setting 3  Sensor 1  Sensor 2  \\\n",
              "0          1      1    -0.0007    -0.0004      100.0       1.0  0.969990   \n",
              "1          1      2     0.0019    -0.0003      100.0       1.0  0.973000   \n",
              "2          1      3    -0.0043     0.0003      100.0       1.0  0.974824   \n",
              "3          1      4     0.0007     0.0000      100.0       1.0  0.974824   \n",
              "4          1      5    -0.0019    -0.0002      100.0       1.0  0.975007   \n",
              "\n",
              "   Sensor 3  Sensor 4  Sensor 5  ...  Sensor 13  Sensor 14  Sensor 15  \\\n",
              "0  0.927293  0.902111       1.0  ...   0.993194   0.653748   0.090428   \n",
              "1  0.932957  0.908192       1.0  ...   0.993332   0.637831   0.094654   \n",
              "2  0.922723  0.910730       1.0  ...   0.993222   0.641715   0.089844   \n",
              "3  0.908829  0.905152       1.0  ...   0.993359   0.643055   0.072803   \n",
              "4  0.908989  0.915565       1.0  ...   0.993249   0.642988   0.093829   \n",
              "\n",
              "   Sensor 16  Sensor 17  Sensor 18  Sensor 19  Sensor 20  Sensor 21  \\\n",
              "0        1.0   0.918367        1.0        1.0   0.972082   0.970373   \n",
              "1        1.0   0.918367        1.0        1.0   0.970064   0.970630   \n",
              "2        1.0   0.897959        1.0        1.0   0.968382   0.966204   \n",
              "3        1.0   0.918367        1.0        1.0   0.966028   0.967860   \n",
              "4        1.0   0.928571        1.0        1.0   0.966700   0.969560   \n",
              "\n",
              "   Remaining RUL  \n",
              "0       0.352399  \n",
              "1       0.350554  \n",
              "2       0.348708  \n",
              "3       0.346863  \n",
              "4       0.345018  \n",
              "\n",
              "[5 rows x 27 columns]"
            ]
          },
          "execution_count": 62,
          "metadata": {},
          "output_type": "execute_result"
        }
      ],
      "source": [
        "train.head()"
      ]
    },
    {
      "cell_type": "code",
      "execution_count": 63,
      "metadata": {
        "colab": {
          "base_uri": "https://localhost:8080/",
          "height": 0
        },
        "id": "grL9j-TBMAyP",
        "outputId": "42034762-a6e3-4866-e37f-d52c2dcf0d4f"
      },
      "outputs": [],
      "source": [
        "# test.head()"
      ]
    },
    {
      "cell_type": "markdown",
      "metadata": {},
      "source": [
        "# Training with sequence_length = 1"
      ]
    },
    {
      "cell_type": "markdown",
      "metadata": {},
      "source": [
        "### Load data into DataLoader"
      ]
    },
    {
      "cell_type": "code",
      "execution_count": 64,
      "metadata": {},
      "outputs": [],
      "source": [
        "data_train = CMAPSSLoaderDataset(data=train, sequence_length=1)\n",
        "# data_test = CMAPSSLoaderDataset(data=test, sequence_length=sequence_length)\n",
        "\n",
        "data_train, data_validation = train_test_split(data_train, test_size=0.2, random_state=42)\n",
        "train_loader = DataLoader(data_train, batch_size=batch_size, shuffle=True)\n",
        "validation_loader = DataLoader(data_validation, batch_size=batch_size, shuffle=True)"
      ]
    },
    {
      "cell_type": "code",
      "execution_count": 65,
      "metadata": {},
      "outputs": [
        {
          "data": {
            "text/plain": [
              "tensor([[0.0000, 0.1262, 0.2916, 0.2269, 0.0000, 0.0025, 0.0077, 0.6272, 0.2661,\n",
              "         0.2308, 0.4580, 0.0050, 0.9932, 0.5372, 0.4003, 0.0000, 0.2857, 0.6279,\n",
              "         1.0000, 0.0195, 0.0202]])"
            ]
          },
          "execution_count": 65,
          "metadata": {},
          "output_type": "execute_result"
        }
      ],
      "source": [
        "data_train[1][0]"
      ]
    },
    {
      "cell_type": "code",
      "execution_count": 66,
      "metadata": {},
      "outputs": [
        {
          "data": {
            "text/plain": [
              "tensor(0.4613)"
            ]
          },
          "execution_count": 66,
          "metadata": {},
          "output_type": "execute_result"
        }
      ],
      "source": [
        "data_train[1][1]"
      ]
    },
    {
      "cell_type": "markdown",
      "metadata": {},
      "source": [
        "### Training centralize model"
      ]
    },
    {
      "cell_type": "code",
      "execution_count": 67,
      "metadata": {},
      "outputs": [],
      "source": [
        "centralize_transformer_model = TransformerModel(\n",
        "    input_dim=input_dim,\n",
        "    d_model=d_model,\n",
        "    nhead=nhead,\n",
        "    num_layers=num_layers,\n",
        "    dim_feedforward=256,\n",
        "    dropout=dropout\n",
        ")"
      ]
    },
    {
      "cell_type": "code",
      "execution_count": 68,
      "metadata": {},
      "outputs": [
        {
          "name": "stdout",
          "output_type": "stream",
          "text": [
            "Epoch 1/50, Train Loss: 0.03140624475889168, Validation Loss: 0.02281499590977017\n",
            "Epoch 2/50, Train Loss: 0.014949339308245766, Validation Loss: 0.01203847369661488\n",
            "Epoch 3/50, Train Loss: 0.011954839690472348, Validation Loss: 0.011545018710388962\n",
            "Epoch 4/50, Train Loss: 0.011642226372248422, Validation Loss: 0.010993603754239491\n",
            "Epoch 5/50, Train Loss: 0.011399049030993865, Validation Loss: 0.01079275643089378\n",
            "Epoch 6/50, Train Loss: 0.011367044803906504, Validation Loss: 0.011119829722683862\n",
            "Epoch 7/50, Train Loss: 0.011218161371388915, Validation Loss: 0.010594739532283697\n",
            "Epoch 8/50, Train Loss: 0.011052873738644903, Validation Loss: 0.010190141387283802\n",
            "Epoch 9/50, Train Loss: 0.010963784228984344, Validation Loss: 0.010799391269387002\n",
            "Epoch 10/50, Train Loss: 0.010904499694541587, Validation Loss: 0.010430788727054201\n",
            "Epoch 11/50, Train Loss: 0.01078246711871233, Validation Loss: 0.010300682419799714\n",
            "Epoch 12/50, Train Loss: 0.010806734928098003, Validation Loss: 0.01025241335660991\n",
            "Epoch 13/50, Train Loss: 0.010661595502862723, Validation Loss: 0.010366056331496433\n",
            "Epoch 14/50, Train Loss: 0.01067331793382838, Validation Loss: 0.010661992583928474\n",
            "Epoch 15/50, Train Loss: 0.010616326517521117, Validation Loss: 0.010720181772374063\n",
            "Epoch 16/50, Train Loss: 0.010648568206794507, Validation Loss: 0.010288413866345152\n",
            "Epoch 17/50, Train Loss: 0.010570178264779887, Validation Loss: 0.010107117222688825\n",
            "Epoch 18/50, Train Loss: 0.010532228108532615, Validation Loss: 0.01010295740733168\n",
            "Epoch 19/50, Train Loss: 0.010522388693424367, Validation Loss: 0.010563177644716672\n",
            "Epoch 20/50, Train Loss: 0.01038158678979885, Validation Loss: 0.010008135413476433\n",
            "Epoch 21/50, Train Loss: 0.010339260109675192, Validation Loss: 0.009883580530856353\n",
            "Epoch 22/50, Train Loss: 0.010251925979645278, Validation Loss: 0.010520847096846279\n",
            "Epoch 23/50, Train Loss: 0.010212644747554038, Validation Loss: 0.009892828048269943\n",
            "Epoch 24/50, Train Loss: 0.010151951143876506, Validation Loss: 0.010066547052585985\n",
            "Epoch 25/50, Train Loss: 0.010168374505391714, Validation Loss: 0.009887455428293739\n",
            "Epoch 26/50, Train Loss: 0.010103448886509728, Validation Loss: 0.009876823041632593\n",
            "Epoch 27/50, Train Loss: 0.010100308797811553, Validation Loss: 0.009999855729450743\n",
            "Epoch 28/50, Train Loss: 0.01003632373766136, Validation Loss: 0.00975465002762844\n",
            "Epoch 29/50, Train Loss: 0.010026959206069544, Validation Loss: 0.009894678482333146\n",
            "Epoch 30/50, Train Loss: 0.010010521269309616, Validation Loss: 0.009758021393085856\n",
            "Epoch 31/50, Train Loss: 0.009974613231871415, Validation Loss: 0.009608396492245425\n",
            "Epoch 32/50, Train Loss: 0.009997711041505826, Validation Loss: 0.009634110533012693\n",
            "Epoch 33/50, Train Loss: 0.009964066030177198, Validation Loss: 0.009908436387554702\n",
            "Epoch 34/50, Train Loss: 0.009981256733246423, Validation Loss: 0.009686714179249874\n",
            "Epoch 35/50, Train Loss: 0.009892095679812809, Validation Loss: 0.010015370435567491\n",
            "Epoch 36/50, Train Loss: 0.00994410765230106, Validation Loss: 0.009629119712621923\n",
            "Epoch 37/50, Train Loss: 0.009891410425569071, Validation Loss: 0.009905628308995192\n",
            "Epoch 38/50, Train Loss: 0.009898820696055056, Validation Loss: 0.009751444767819221\n",
            "Epoch 39/50, Train Loss: 0.009878249373286963, Validation Loss: 0.009554825238957704\n",
            "Epoch 40/50, Train Loss: 0.009871435998860052, Validation Loss: 0.009672457517395575\n",
            "Epoch 41/50, Train Loss: 0.009856799869043224, Validation Loss: 0.009699843245079793\n",
            "Epoch 42/50, Train Loss: 0.009853842897119663, Validation Loss: 0.009695414455600113\n",
            "Epoch 43/50, Train Loss: 0.009843186337448812, Validation Loss: 0.009687279204492907\n",
            "Epoch 44/50, Train Loss: 0.009814051981803665, Validation Loss: 0.009494680822251803\n",
            "Epoch 45/50, Train Loss: 0.00983452657237649, Validation Loss: 0.009552848085657178\n",
            "Epoch 46/50, Train Loss: 0.009810985876609416, Validation Loss: 0.009536225211424419\n",
            "Epoch 47/50, Train Loss: 0.009825092727357404, Validation Loss: 0.00987297755135483\n",
            "Epoch 48/50, Train Loss: 0.009823824968448991, Validation Loss: 0.009594552690140992\n",
            "Epoch 49/50, Train Loss: 0.009795681906795336, Validation Loss: 0.00988089707327554\n",
            "Epoch 50/50, Train Loss: 0.009790639775588826, Validation Loss: 0.009592456613255449\n"
          ]
        }
      ],
      "source": [
        "try:\n",
        "    train_model(\n",
        "        model=centralize_transformer_model,\n",
        "        client_loader_train=train_loader,\n",
        "        client_loader_validation=validation_loader,\n",
        "        epochs=50,\n",
        "        # epochs=epochs,\n",
        "        learning_rate=learning_rate,\n",
        "        verbose=False\n",
        "    )\n",
        "except KeyboardInterrupt:\n",
        "    print(\"Training interrupted\")"
      ]
    },
    {
      "cell_type": "markdown",
      "metadata": {},
      "source": [
        "### Predict on batch"
      ]
    },
    {
      "cell_type": "code",
      "execution_count": 69,
      "metadata": {},
      "outputs": [
        {
          "data": {
            "image/png": "[encoded data removed]",
            "text/plain": [
              "<Figure size 1000x600 with 1 Axes>"
            ]
          },
          "metadata": {},
          "output_type": "display_data"
        },
        {
          "name": "stdout",
          "output_type": "stream",
          "text": [
            "Loss on random batch: 0.010570227168500423\n"
          ]
        }
      ],
      "source": [
        "batch_loader = next(iter(validation_loader))\n",
        "\n",
        "loss, _, _ = predict_on_batch(\n",
        "    model=centralize_transformer_model,\n",
        "    batch_loader=batch_loader,\n",
        "    return_actual_rul=True,\n",
        "    show_fig=True,\n",
        ")\n",
        "print(f'Loss on random batch: {loss}')"
      ]
    },
    {
      "cell_type": "markdown",
      "metadata": {},
      "source": [
        "# Part II. Explainable Artificial Intelligence for RUL forecasting using Transformer model"
      ]
    },
    {
      "cell_type": "markdown",
      "metadata": {},
      "source": [
        "### Prediction"
      ]
    },
    {
      "cell_type": "code",
      "execution_count": 70,
      "metadata": {},
      "outputs": [],
      "source": [
        "# Hàm dự đoán\n",
        "def predict_single_sample(data_numpy):\n",
        "    \"\"\"Dự đoán đầu ra của mô hình cho một mẫu đầu vào.\"\"\"\n",
        "    # Đảm bảo dữ liệu có kích thước (batch_size, sequence_length, feature_dim)\n",
        "    data_tensor = torch.tensor(data_numpy, dtype=torch.float32).to(DEVICE)\n",
        "    data_tensor = data_tensor.view(data_tensor.shape[0], sequence_length, input_dim)  # Trả về 3D\n",
        "    centralize_transformer_model.eval()\n",
        "    with torch.no_grad():\n",
        "        # Truyền qua mô hình\n",
        "        predictions = centralize_transformer_model(data_tensor)\n",
        "    return predictions.cpu().numpy()  # Đầu ra hồi quy (batch_size, 1)"
      ]
    },
    {
      "cell_type": "markdown",
      "metadata": {},
      "source": [
        "### XAI using SHAP"
      ]
    },
    {
      "cell_type": "code",
      "execution_count": 71,
      "metadata": {},
      "outputs": [],
      "source": [
        "# Dữ liệu nền và dữ liệu cần giải thích\n",
        "background_data, _ = next(iter(validation_loader))\n",
        "background_data_np = background_data.cpu().numpy()  # (batch_size, 1, feature_dim)\n",
        "\n",
        "# Chuyển đổi dữ liệu nền thành 2D\n",
        "sequence_length = 1  # Chiều dài chuỗi\n",
        "feature_dim = background_data_np.shape[-1]  # 21\n",
        "background_data_2d = background_data_np.reshape(background_data_np.shape[0], -1)  # (batch_size, sequence_length * feature_dim)\n",
        "\n",
        "# Tóm tắt dữ liệu nền bằng shap.sample\n",
        "background_sample = shap.sample(background_data_2d, 50)  # Giới hạn 50 mẫu nền để tăng tốc\n",
        "\n",
        "# Dữ liệu cần giải thích (chuyển đổi 2D tương tự)\n",
        "data_to_explain = background_data_np[:10]  # Lấy 10 mẫu đầu tiên\n",
        "data_to_explain_2d = data_to_explain.reshape(data_to_explain.shape[0], -1)  # (10, sequence_length * feature_dim)"
      ]
    },
    {
      "cell_type": "code",
      "execution_count": 72,
      "metadata": {},
      "outputs": [
        {
          "name": "stdout",
          "output_type": "stream",
          "text": [
            "Calculating SHAP values...\n"
          ]
        },
        {
          "name": "stderr",
          "output_type": "stream",
          "text": [
            "  0%|          | 0/10 [00:00<?, ?it/s]/home/os/anaconda3/envs/.venv/lib/python3.12/site-packages/shap/explainers/_kernel.py:640: DeprecationWarning: l1_reg='auto' is deprecated and in a future version the behavior will change from a conditional use of AIC to simply a fixed number of top features. Pass l1_reg='num_features(10)' to opt-in to the new default behaviour.\n",
            "  warnings.warn(\n",
            "/home/os/anaconda3/envs/.venv/lib/python3.12/site-packages/shap/explainers/_kernel.py:640: DeprecationWarning: l1_reg='auto' is deprecated and in a future version the behavior will change from a conditional use of AIC to simply a fixed number of top features. Pass l1_reg='num_features(10)' to opt-in to the new default behaviour.\n",
            "  warnings.warn(\n",
            "/home/os/anaconda3/envs/.venv/lib/python3.12/site-packages/shap/explainers/_kernel.py:640: DeprecationWarning: l1_reg='auto' is deprecated and in a future version the behavior will change from a conditional use of AIC to simply a fixed number of top features. Pass l1_reg='num_features(10)' to opt-in to the new default behaviour.\n",
            "  warnings.warn(\n",
            " 30%|███       | 3/10 [00:00<00:00, 20.91it/s]/home/os/anaconda3/envs/.venv/lib/python3.12/site-packages/shap/explainers/_kernel.py:640: DeprecationWarning: l1_reg='auto' is deprecated and in a future version the behavior will change from a conditional use of AIC to simply a fixed number of top features. Pass l1_reg='num_features(10)' to opt-in to the new default behaviour.\n",
            "  warnings.warn(\n",
            "/home/os/anaconda3/envs/.venv/lib/python3.12/site-packages/shap/explainers/_kernel.py:640: DeprecationWarning: l1_reg='auto' is deprecated and in a future version the behavior will change from a conditional use of AIC to simply a fixed number of top features. Pass l1_reg='num_features(10)' to opt-in to the new default behaviour.\n",
            "  warnings.warn(\n",
            "/home/os/anaconda3/envs/.venv/lib/python3.12/site-packages/shap/explainers/_kernel.py:640: DeprecationWarning: l1_reg='auto' is deprecated and in a future version the behavior will change from a conditional use of AIC to simply a fixed number of top features. Pass l1_reg='num_features(10)' to opt-in to the new default behaviour.\n",
            "  warnings.warn(\n",
            " 60%|██████    | 6/10 [00:00<00:00, 20.30it/s]/home/os/anaconda3/envs/.venv/lib/python3.12/site-packages/shap/explainers/_kernel.py:640: DeprecationWarning: l1_reg='auto' is deprecated and in a future version the behavior will change from a conditional use of AIC to simply a fixed number of top features. Pass l1_reg='num_features(10)' to opt-in to the new default behaviour.\n",
            "  warnings.warn(\n",
            "/home/os/anaconda3/envs/.venv/lib/python3.12/site-packages/shap/explainers/_kernel.py:640: DeprecationWarning: l1_reg='auto' is deprecated and in a future version the behavior will change from a conditional use of AIC to simply a fixed number of top features. Pass l1_reg='num_features(10)' to opt-in to the new default behaviour.\n",
            "  warnings.warn(\n",
            "/home/os/anaconda3/envs/.venv/lib/python3.12/site-packages/shap/explainers/_kernel.py:640: DeprecationWarning: l1_reg='auto' is deprecated and in a future version the behavior will change from a conditional use of AIC to simply a fixed number of top features. Pass l1_reg='num_features(10)' to opt-in to the new default behaviour.\n",
            "  warnings.warn(\n",
            " 90%|█████████ | 9/10 [00:00<00:00, 20.07it/s]/home/os/anaconda3/envs/.venv/lib/python3.12/site-packages/shap/explainers/_kernel.py:640: DeprecationWarning: l1_reg='auto' is deprecated and in a future version the behavior will change from a conditional use of AIC to simply a fixed number of top features. Pass l1_reg='num_features(10)' to opt-in to the new default behaviour.\n",
            "  warnings.warn(\n",
            "100%|██████████| 10/10 [00:00<00:00, 19.81it/s]"
          ]
        },
        {
          "name": "stdout",
          "output_type": "stream",
          "text": [
            "Shape of shap_values_array: (10, 1, 21)\n",
            "Shape of data_to_explain: (10, 1, 21)\n"
          ]
        },
        {
          "name": "stderr",
          "output_type": "stream",
          "text": [
            "\n"
          ]
        }
      ],
      "source": [
        "# Tạo KernelExplainer\n",
        "explainer = shap.KernelExplainer(predict_single_sample, background_sample)\n",
        "\n",
        "# Tính giá trị SHAP\n",
        "print(\"Calculating SHAP values...\")\n",
        "shap_values = explainer.shap_values(data_to_explain_2d, nsamples=100)\n",
        "\n",
        "# Chuyển SHAP values về dạng (num_samples, sequence_length, feature_dim)\n",
        "shap_values_array = np.array(shap_values).reshape(data_to_explain.shape[0], sequence_length, feature_dim)\n",
        "\n",
        "# Kiểm tra kích thước\n",
        "print(\"Shape of shap_values_array:\", shap_values_array.shape)  # (10, 1, 21)\n",
        "print(\"Shape of data_to_explain:\", data_to_explain.shape)  # (10, 1, 21)"
      ]
    },
    {
      "cell_type": "code",
      "execution_count": 73,
      "metadata": {},
      "outputs": [
        {
          "data": {
            "image/png": "[encoded data removed]",
            "text/plain": [
              "<Figure size 800x950 with 2 Axes>"
            ]
          },
          "metadata": {},
          "output_type": "display_data"
        }
      ],
      "source": [
        "# Vẽ biểu đồ summary (dùng 2D)\n",
        "data_to_explain_2d = data_to_explain.reshape(data_to_explain.shape[0], -1)\n",
        "shap_values_2d = shap_values_array.reshape(data_to_explain_2d.shape)\n",
        "shap.summary_plot(shap_values_2d, data_to_explain_2d)"
      ]
    },
    {
      "cell_type": "code",
      "execution_count": 74,
      "metadata": {},
      "outputs": [
        {
          "data": {
            "image/png": "[encoded data removed]",
            "text/plain": [
              "<Figure size 800x950 with 1 Axes>"
            ]
          },
          "metadata": {},
          "output_type": "display_data"
        }
      ],
      "source": [
        "# Vẽ biểu đồ Feature Importance dạng bar chart\n",
        "shap.summary_plot(shap_values, data_to_explain_2d, plot_type=\"bar\")"
      ]
    },
    {
      "cell_type": "code",
      "execution_count": 75,
      "metadata": {},
      "outputs": [
        {
          "data": {
            "image/png": "[encoded data removed]",
            "text/plain": [
              "<Figure size 600x600 with 2 Axes>"
            ]
          },
          "metadata": {},
          "output_type": "display_data"
        },
        {
          "data": {
            "image/png": "[encoded data removed]",
            "text/plain": [
              "<Figure size 600x600 with 2 Axes>"
            ]
          },
          "metadata": {},
          "output_type": "display_data"
        },
        {
          "data": {
            "image/png": "[encoded data removed]",
            "text/plain": [
              "<Figure size 600x600 with 2 Axes>"
            ]
          },
          "metadata": {},
          "output_type": "display_data"
        },
        {
          "data": {
            "image/png": "[encoded data removed]",
            "text/plain": [
              "<Figure size 600x600 with 2 Axes>"
            ]
          },
          "metadata": {},
          "output_type": "display_data"
        }
      ],
      "source": [
        "import matplotlib.pyplot as plt\n",
        "import seaborn as sns\n",
        "import numpy as np\n",
        "\n",
        "# Giả sử bạn có các trọng số attention từ mô hình Transformer\n",
        "# attention_weights: tensor có kích thước (num_heads, seq_len, seq_len)\n",
        "\n",
        "# Một ví dụ nhỏ với trọng số attention\n",
        "attention_weights = np.random.rand(4, 1, 1)  # num_heads=4, seq_len=1\n",
        "\n",
        "# Vẽ attention map\n",
        "def plot_attention_map(attention_weights, head=0):\n",
        "    \"\"\"\n",
        "    Plot attention map for a given head.\n",
        "    Args:\n",
        "        attention_weights: numpy array of shape (num_heads, seq_len, seq_len)\n",
        "        head: Which attention head to visualize (default=0)\n",
        "    \"\"\"\n",
        "    plt.figure(figsize=(6, 6))\n",
        "    sns.heatmap(\n",
        "        attention_weights[head],\n",
        "        annot=True,\n",
        "        fmt=\".2f\",\n",
        "        cmap=\"viridis\",\n",
        "        cbar=True,\n",
        "        square=True,\n",
        "    )\n",
        "    plt.title(f\"Attention Map - Head {head+1}\", fontsize=14)\n",
        "    plt.xlabel(\"Input Sequence\")\n",
        "    plt.ylabel(\"Output Sequence\")\n",
        "    plt.show()\n",
        "\n",
        "# Vẽ attention map cho từng head\n",
        "for h in range(attention_weights.shape[0]):\n",
        "    plot_attention_map(attention_weights, head=h)\n"
      ]
    },
    {
      "cell_type": "code",
      "execution_count": 76,
      "metadata": {},
      "outputs": [
        {
          "data": {
            "image/png": "[encoded data removed]",
            "text/plain": [
              "<Figure size 800x650 with 3 Axes>"
            ]
          },
          "metadata": {},
          "output_type": "display_data"
        }
      ],
      "source": [
        "import shap\n",
        "\n",
        "# Chọn mẫu cần vẽ\n",
        "sample_idx = 1  # Chỉ số mẫu (thay đổi tùy ý)\n",
        "\n",
        "# Lấy SHAP values và dữ liệu mẫu\n",
        "shap_value = shap_values_array[sample_idx]  # Giá trị SHAP cho mẫu (21,)\n",
        "sample_data = data_to_explain_2d[sample_idx]  # Dữ liệu mẫu (21,)\n",
        "\n",
        "# Đảm bảo shap_value là 1D\n",
        "shap_value = shap_value.flatten()\n",
        "\n",
        "# Vẽ biểu đồ waterfall\n",
        "shap.waterfall_plot(\n",
        "    shap.Explanation(\n",
        "        values=shap_value, \n",
        "        base_values=explainer.expected_value, \n",
        "        data=sample_data\n",
        "    )\n",
        ")\n"
      ]
    },
    {
      "cell_type": "code",
      "execution_count": 77,
      "metadata": {},
      "outputs": [
        {
          "data": {
            "image/png": "[encoded data removed]",
            "text/plain": [
              "<Figure size 1000x600 with 1 Axes>"
            ]
          },
          "metadata": {},
          "output_type": "display_data"
        }
      ],
      "source": [
        "import matplotlib.pyplot as plt\n",
        "import numpy as np\n",
        "\n",
        "# Chọn mẫu cần vẽ\n",
        "sample_idx = 0  # Chỉ số mẫu (thay đổi tùy ý)\n",
        "\n",
        "# Lấy dữ liệu và SHAP values của mẫu\n",
        "sample_data = data_to_explain[sample_idx]  # Dữ liệu mẫu (1, sequence_length, num_features)\n",
        "sequence_length = sequence_length\n",
        "num_features = feature_dim\n",
        "sample_shap_values = shap_values_array[sample_idx].reshape(sequence_length, num_features)  # (sequence_length, num_features)\n",
        "\n",
        "# Tính tổng ảnh hưởng của các đặc trưng tại mỗi time step\n",
        "time_step_importance = np.abs(sample_shap_values).sum(axis=1)  # Tổng ảnh hưởng mỗi bước thời gian (sequence_length,)\n",
        "\n",
        "# Vẽ biểu đồ\n",
        "plt.figure(figsize=(10, 6))\n",
        "plt.bar(range(sequence_length), time_step_importance, color=\"skyblue\")\n",
        "plt.xlabel(\"Time Step\")\n",
        "plt.ylabel(\"Attribution Magnitude\")\n",
        "plt.title(\"Time Step Attribution\")\n",
        "plt.xticks(range(sequence_length))\n",
        "plt.grid(axis=\"y\", linestyle=\"--\", alpha=0.7)\n",
        "plt.show()\n"
      ]
    },
    {
      "cell_type": "markdown",
      "metadata": {
        "id": "-V-hgj5JMAyS"
      },
      "source": [
        "# Part III. Setup Federated Learning with Flower for RUL prediction using Transformer model"
      ]
    },
    {
      "cell_type": "markdown",
      "metadata": {
        "id": "Mbc5HTBUMAyS"
      },
      "source": [
        "### Define parameters for training FL with Flower"
      ]
    },
    {
      "cell_type": "code",
      "execution_count": 78,
      "metadata": {
        "colab": {
          "base_uri": "https://localhost:8080/"
        },
        "id": "uyFG0CdWMAyS",
        "outputId": "7bab51ee-877d-4905-9172-64746410c0f6"
      },
      "outputs": [],
      "source": [
        "num_clients = 10\n",
        "num_rounds = 50"
      ]
    },
    {
      "cell_type": "markdown",
      "metadata": {
        "id": "YFsCsOyIMAyS"
      },
      "source": [
        "### Split dataframe to 10 subframe for 10 client"
      ]
    },
    {
      "cell_type": "code",
      "execution_count": 79,
      "metadata": {
        "id": "5Bidza4aMAyT"
      },
      "outputs": [],
      "source": [
        "def split_dataset(dataset, num_clients):\n",
        "    \"\"\"\n",
        "    Chia dataset thành num_clients tập con đều nhau.\n",
        "    Args:\n",
        "        dataset: Dataset cần chia (torch.utils.data.Dataset).\n",
        "        num_clients: Số lượng tập con muốn tạo.\n",
        "    Returns:\n",
        "        List chứa các tập con của dataset.\n",
        "    \"\"\"\n",
        "    # Kích thước mỗi tập con\n",
        "    subset_size = len(dataset) // num_clients\n",
        "    sizes = [subset_size] * num_clients\n",
        "\n",
        "    # Chia phần dư (nếu tổng dataset không chia hết)\n",
        "    sizes[-1] += len(dataset) - sum(sizes)\n",
        "\n",
        "    # Tạo danh sách các tập con\n",
        "    subsets = random_split(dataset, sizes)\n",
        "    return subsets"
      ]
    },
    {
      "cell_type": "code",
      "execution_count": 80,
      "metadata": {
        "colab": {
          "base_uri": "https://localhost:8080/"
        },
        "id": "1qBZf6hxMAyT",
        "outputId": "d66be3eb-48a0-4426-abde-353ac3acf820"
      },
      "outputs": [
        {
          "data": {
            "text/plain": [
              "(160359, 27)"
            ]
          },
          "execution_count": 80,
          "metadata": {},
          "output_type": "execute_result"
        }
      ],
      "source": [
        "# train.head()\n",
        "train.shape"
      ]
    },
    {
      "cell_type": "code",
      "execution_count": 81,
      "metadata": {
        "id": "Aj5LJJsLMAyT"
      },
      "outputs": [],
      "source": [
        "data = CMAPSSLoaderDataset(train, sequence_length=sequence_length)\n",
        "train_data, validation_data = train_test_split(data, test_size=0.2, random_state=42)\n",
        "\n",
        "subset_trains = split_dataset(train_data, num_clients=num_clients)\n",
        "subset_validations = split_dataset(validation_data, num_clients=num_clients)\n",
        "\n",
        "client_loader_trains = [DataLoader(subset, batch_size=batch_size, shuffle=True) for subset in subset_trains]\n",
        "client_loader_validations = [DataLoader(subset, batch_size=batch_size, shuffle=True) for subset in subset_validations]"
      ]
    },
    {
      "cell_type": "code",
      "execution_count": 82,
      "metadata": {
        "colab": {
          "base_uri": "https://localhost:8080/"
        },
        "id": "OIjOv3DbMAyT",
        "outputId": "cfd8f5a1-d79e-47ad-abe6-073367c4e356"
      },
      "outputs": [
        {
          "name": "stdout",
          "output_type": "stream",
          "text": [
            "Client 1 will use a subset with 12828 samples\n",
            "Client 2 will use a subset with 12828 samples\n",
            "Client 3 will use a subset with 12828 samples\n",
            "Client 4 will use a subset with 12828 samples\n",
            "Client 5 will use a subset with 12828 samples\n",
            "Client 6 will use a subset with 12828 samples\n",
            "Client 7 will use a subset with 12828 samples\n",
            "Client 8 will use a subset with 12828 samples\n",
            "Client 9 will use a subset with 12828 samples\n",
            "Client 10 will use a subset with 12835 samples\n"
          ]
        }
      ],
      "source": [
        "for i, loader in enumerate(client_loader_trains):\n",
        "    print(f\"Client {i+1} will use a subset with {len(loader.dataset)} samples\")"
      ]
    },
    {
      "cell_type": "code",
      "execution_count": 83,
      "metadata": {
        "colab": {
          "base_uri": "https://localhost:8080/"
        },
        "id": "5ot2zTq7MAyU",
        "outputId": "e008b100-7167-457e-a0ab-623a0717cfc8"
      },
      "outputs": [
        {
          "name": "stdout",
          "output_type": "stream",
          "text": [
            "Client 1 will use a subset with 12828 samples\n",
            "Client 2 will use a subset with 12828 samples\n",
            "Client 3 will use a subset with 12828 samples\n",
            "Client 4 will use a subset with 12828 samples\n",
            "Client 5 will use a subset with 12828 samples\n",
            "Client 6 will use a subset with 12828 samples\n",
            "Client 7 will use a subset with 12828 samples\n",
            "Client 8 will use a subset with 12828 samples\n",
            "Client 9 will use a subset with 12828 samples\n",
            "Client 10 will use a subset with 12835 samples\n"
          ]
        }
      ],
      "source": [
        "for i, loader in enumerate(client_loader_trains):\n",
        "    print(f\"Client {i+1} will use a subset with {len(loader.dataset)} samples\")"
      ]
    },
    {
      "cell_type": "markdown",
      "metadata": {
        "id": "kP_GaPfnMAyU"
      },
      "source": [
        "### Update model parameters"
      ]
    },
    {
      "cell_type": "code",
      "execution_count": 84,
      "metadata": {
        "id": "M6PNtLhnMAyU"
      },
      "outputs": [],
      "source": [
        "def set_parameters(model, parameters: List[np.ndarray]):\n",
        "    params_dict = zip(model.state_dict().keys(), parameters)\n",
        "    state_dict = OrderedDict({k: torch.Tensor(v) for k, v in params_dict})\n",
        "    model.load_state_dict(state_dict, strict=True)\n",
        "\n",
        "def get_parameters(model) -> List[np.ndarray]:\n",
        "    return [val.cpu().numpy() for _, val in model.state_dict().items()]"
      ]
    },
    {
      "cell_type": "markdown",
      "metadata": {
        "id": "ZYLbAQn_MAyU"
      },
      "source": [
        "### Define the Flower ClientApp"
      ]
    },
    {
      "cell_type": "code",
      "execution_count": 85,
      "metadata": {
        "id": "YvYWLdCKMAyU"
      },
      "outputs": [],
      "source": [
        "class FlowerClient(NumPyClient):\n",
        "    def __init__(self, model, client_loader_train, client_loader_validation):\n",
        "        self.model = model\n",
        "        self.trainloader = client_loader_train\n",
        "        self.valloader = client_loader_validation\n",
        "\n",
        "    def get_parameters(self, config):\n",
        "        return get_parameters(self.model)\n",
        "\n",
        "    def fit(self, parameters, config):\n",
        "        set_parameters(self.model, parameters)\n",
        "        train_model(\n",
        "            model=self.model,\n",
        "            client_loader_train=self.trainloader,\n",
        "            client_loader_validation=self.valloader,\n",
        "            epochs=1,\n",
        "            learning_rate=learning_rate,\n",
        "            verbose=False\n",
        "        )\n",
        "        return get_parameters(self.model), len(self.trainloader), {}\n",
        "\n",
        "    def evaluate(self, parameters, config):\n",
        "        set_parameters(self.model, parameters)\n",
        "        # loss, accuracy = test(self.model, self.valloader)\n",
        "        loss = test_model(\n",
        "            model=self.model,\n",
        "            client_loader_validation=self.valloader,\n",
        "            return_actual_rul=False,\n",
        "            show_fig=False\n",
        "        )\n",
        "        return float(loss), len(self.valloader), {\"accuracy\": float(0.0)}"
      ]
    },
    {
      "cell_type": "code",
      "execution_count": 86,
      "metadata": {
        "id": "uySkMzDwMAyU"
      },
      "outputs": [],
      "source": [
        "def client_fn(context: Context) -> Client:\n",
        "    \"\"\"Create a Flower client representing a single organization.\"\"\"\n",
        "\n",
        "    # Load model\n",
        "    model = TransformerModel(\n",
        "        input_dim=input_dim,\n",
        "        d_model=d_model,\n",
        "        nhead=nhead,\n",
        "        num_layers=num_layers,\n",
        "        dim_feedforward=dim_feedforward,\n",
        "        dropout=0.1\n",
        "    ).to(DEVICE)\n",
        "\n",
        "    # Note: each client gets a different trainloader/valloader, so each client\n",
        "    # will train and evaluate on their own unique data partition\n",
        "    # Read the node_config to fetch data partition associated to this node\n",
        "    partition_id = context.node_config[\"partition-id\"]\n",
        "    trainloader = client_loader_trains[partition_id]\n",
        "    valloader = client_loader_validations[partition_id]\n",
        "\n",
        "    # Create a single Flower client representing a single organization\n",
        "    # FlowerClient is a subclass of NumPyClient, so we need to call .to_client()\n",
        "    # to convert it to a subclass of `flwr.client.Client`\n",
        "    return FlowerClient(model, trainloader, valloader).to_client()\n",
        "\n",
        "\n",
        "# Create the ClientApp\n",
        "client = ClientApp(client_fn=client_fn)"
      ]
    },
    {
      "cell_type": "markdown",
      "metadata": {
        "id": "EuIAxKzIMAyV"
      },
      "source": [
        "### Define the Flower ServerApp"
      ]
    },
    {
      "cell_type": "code",
      "execution_count": 87,
      "metadata": {
        "id": "GYI9D2jeMAyV"
      },
      "outputs": [],
      "source": [
        "# Create FedAvg strategy\n",
        "strategy = FedAvg(\n",
        "    fraction_fit=1.0,  # Sample 100% of available clients for training\n",
        "    fraction_evaluate=0.5,  # Sample 50% of available clients for evaluation\n",
        "    min_fit_clients=10,  # Never sample less than 10 clients for training\n",
        "    min_evaluate_clients=5,  # Never sample less than 5 clients for evaluation\n",
        "    min_available_clients=10,  # Wait until all 10 clients are available\n",
        ")"
      ]
    },
    {
      "cell_type": "code",
      "execution_count": 88,
      "metadata": {
        "id": "0huq_J3CMAyV"
      },
      "outputs": [],
      "source": [
        "def server_fn(context: Context) -> ServerAppComponents:\n",
        "    \"\"\"Construct components that set the ServerApp behaviour.\n",
        "\n",
        "    You can use the settings in `context.run_config` to parameterize the\n",
        "    construction of all elements (e.g the strategy or the number of rounds)\n",
        "    wrapped in the returned ServerAppComponents object.\n",
        "    \"\"\"\n",
        "\n",
        "    # Configure the server for 5 rounds of training\n",
        "    config = ServerConfig(num_rounds=50)\n",
        "\n",
        "    return ServerAppComponents(strategy=strategy, config=config)\n",
        "\n",
        "\n",
        "# Create the ServerApp\n",
        "server = ServerApp(server_fn=server_fn)"
      ]
    },
    {
      "cell_type": "markdown",
      "metadata": {
        "id": "o7kLDqq5MAyV"
      },
      "source": [
        "### Run the training"
      ]
    },
    {
      "cell_type": "code",
      "execution_count": 89,
      "metadata": {
        "id": "uIXCYtEJMAyV"
      },
      "outputs": [],
      "source": [
        "# Specify the resources each of your clients need\n",
        "# By default, each client will be allocated 1x CPU and 0x GPUs\n",
        "backend_config = {\"client_resources\": {\"num_cpus\": 1, \"num_gpus\": 0.0}}\n",
        "\n",
        "# When running on GPU, assign an entire GPU for each client\n",
        "if DEVICE.type == \"cuda\":\n",
        "    backend_config = {\"client_resources\": {\"num_cpus\": 1, \"num_gpus\": 1.0}}\n",
        "    # Refer to our Flower framework documentation for more details about Flower simulations\n",
        "    # and how to set up the `backend_config`"
      ]
    },
    {
      "cell_type": "code",
      "execution_count": 90,
      "metadata": {},
      "outputs": [
        {
          "name": "stderr",
          "output_type": "stream",
          "text": [
            "/home/os/anaconda3/envs/.venv/lib/python3.12/pty.py:95: DeprecationWarning: This process (pid=434614) is multi-threaded, use of forkpty() may lead to deadlocks in the child.\n",
            "  pid, fd = os.forkpty()\n"
          ]
        },
        {
          "name": "stdout",
          "output_type": "stream",
          "text": [
            "\u001b[31mERROR: Could not find a version that satisfies the requirement ray==2.6.3 (from versions: 2.31.0, 2.32.0rc0, 2.32.0, 2.33.0, 2.34.0, 2.35.0, 2.36.0, 2.36.1, 2.37.0, 2.38.0, 2.39.0, 2.40.0, 2.41.0, 2.42.0)\u001b[0m\u001b[31m\n",
            "\u001b[0m\u001b[31mERROR: No matching distribution found for ray==2.6.3\u001b[0m\u001b[31m\n",
            "\u001b[0m"
          ]
        }
      ],
      "source": [
        "!pip install ray==2.6.3"
      ]
    },
    {
      "cell_type": "code",
      "execution_count": 91,
      "metadata": {},
      "outputs": [],
      "source": [
        "!pip install -q -U \"ray[data,train,tune,serve]\""
      ]
    },
    {
      "cell_type": "code",
      "execution_count": 92,
      "metadata": {
        "colab": {
          "base_uri": "https://localhost:8080/"
        },
        "id": "fa4Oj4OrMAyV",
        "outputId": "f1dd62fb-2894-477f-891e-2e8ce1ecbe4b"
      },
      "outputs": [
        {
          "name": "stderr",
          "output_type": "stream",
          "text": [
            "\u001b[92mINFO \u001b[0m:      Starting Flower ServerApp, config: num_rounds=50, no round_timeout\n",
            "\u001b[92mINFO \u001b[0m:      \n",
            "\u001b[92mINFO \u001b[0m:      [INIT]\n",
            "\u001b[92mINFO \u001b[0m:      Requesting initial parameters from one random client\n",
            "\u001b[92mINFO \u001b[0m:      Received initial parameters from one random client\n",
            "\u001b[92mINFO \u001b[0m:      Starting evaluation of initial global parameters\n",
            "\u001b[92mINFO \u001b[0m:      Evaluation returned no results (`None`)\n",
            "\u001b[92mINFO \u001b[0m:      \n",
            "\u001b[92mINFO \u001b[0m:      [ROUND 1]\n",
            "\u001b[92mINFO \u001b[0m:      configure_fit: strategy sampled 10 clients (out of 10)\n"
          ]
        },
        {
          "name": "stdout",
          "output_type": "stream",
          "text": [
            "\u001b[36m(ClientAppActor pid=438961)\u001b[0m Epoch 1/1, Train Loss: 0.07775741743643096, Validation Loss: 0.023176943166897848\n",
            "\u001b[36m(ClientAppActor pid=438961)\u001b[0m Epoch 1/1, Train Loss: 0.0773568732645547, Validation Loss: 0.02476817835122347\n",
            "\u001b[36m(ClientAppActor pid=438961)\u001b[0m Epoch 1/1, Train Loss: 0.08133419221359314, Validation Loss: 0.022912815141563233\n",
            "\u001b[36m(ClientAppActor pid=438961)\u001b[0m Epoch 1/1, Train Loss: 0.07694296055648586, Validation Loss: 0.024374930761181392\n",
            "\u001b[36m(ClientAppActor pid=438961)\u001b[0m Epoch 1/1, Train Loss: 0.07840904635884384, Validation Loss: 0.023343909818392534\n",
            "\u001b[36m(ClientAppActor pid=438961)\u001b[0m Epoch 1/1, Train Loss: 0.07989717188226704, Validation Loss: 0.024836863892582748\n",
            "\u001b[36m(ClientAppActor pid=438961)\u001b[0m Epoch 1/1, Train Loss: 0.07781014750056928, Validation Loss: 0.02351511216077667\n",
            "\u001b[36m(ClientAppActor pid=438961)\u001b[0m Epoch 1/1, Train Loss: 0.08075804279951176, Validation Loss: 0.022976869287399147\n",
            "\u001b[36m(ClientAppActor pid=438961)\u001b[0m Epoch 1/1, Train Loss: 0.07757567889103205, Validation Loss: 0.023898360713456687\n"
          ]
        },
        {
          "name": "stderr",
          "output_type": "stream",
          "text": [
            "\u001b[92mINFO \u001b[0m:      aggregate_fit: received 10 results and 0 failures\n",
            "\u001b[93mWARNING \u001b[0m:   No fit_metrics_aggregation_fn provided\n",
            "\u001b[92mINFO \u001b[0m:      configure_evaluate: strategy sampled 5 clients (out of 10)\n"
          ]
        },
        {
          "name": "stdout",
          "output_type": "stream",
          "text": [
            "\u001b[36m(ClientAppActor pid=438961)\u001b[0m Epoch 1/1, Train Loss: 0.07552590101293408, Validation Loss: 0.02482594005190409\n"
          ]
        },
        {
          "name": "stderr",
          "output_type": "stream",
          "text": [
            "\u001b[92mINFO \u001b[0m:      aggregate_evaluate: received 5 results and 0 failures\n",
            "\u001b[93mWARNING \u001b[0m:   No evaluate_metrics_aggregation_fn provided\n",
            "\u001b[92mINFO \u001b[0m:      \n",
            "\u001b[92mINFO \u001b[0m:      [ROUND 2]\n",
            "\u001b[92mINFO \u001b[0m:      configure_fit: strategy sampled 10 clients (out of 10)\n"
          ]
        },
        {
          "name": "stdout",
          "output_type": "stream",
          "text": [
            "\u001b[36m(ClientAppActor pid=438961)\u001b[0m Epoch 1/1, Train Loss: 0.03312946527753726, Validation Loss: 0.023806647039376773\n",
            "\u001b[36m(ClientAppActor pid=438961)\u001b[0m Epoch 1/1, Train Loss: 0.028789583058788044, Validation Loss: 0.023934945929795504\n",
            "\u001b[36m(ClientAppActor pid=438961)\u001b[0m Epoch 1/1, Train Loss: 0.033340310198393196, Validation Loss: 0.022887197538064077\n",
            "\u001b[36m(ClientAppActor pid=438961)\u001b[0m Epoch 1/1, Train Loss: 0.032191384085776785, Validation Loss: 0.023713938963527862\n",
            "\u001b[36m(ClientAppActor pid=438961)\u001b[0m Epoch 1/1, Train Loss: 0.02982975937204786, Validation Loss: 0.02374263508961751\n",
            "\u001b[36m(ClientAppActor pid=438961)\u001b[0m Epoch 1/1, Train Loss: 0.029624694866119045, Validation Loss: 0.025546808655445393\n",
            "\u001b[36m(ClientAppActor pid=438961)\u001b[0m Epoch 1/1, Train Loss: 0.02896006291012953, Validation Loss: 0.02335146202061039\n",
            "\u001b[36m(ClientAppActor pid=438961)\u001b[0m Epoch 1/1, Train Loss: 0.03127259624624016, Validation Loss: 0.026475332784824647\n",
            "\u001b[36m(ClientAppActor pid=438961)\u001b[0m Epoch 1/1, Train Loss: 0.03324959468612872, Validation Loss: 0.0254022259121904\n"
          ]
        },
        {
          "name": "stderr",
          "output_type": "stream",
          "text": [
            "\u001b[92mINFO \u001b[0m:      aggregate_fit: received 10 results and 0 failures\n",
            "\u001b[92mINFO \u001b[0m:      configure_evaluate: strategy sampled 5 clients (out of 10)\n"
          ]
        },
        {
          "name": "stdout",
          "output_type": "stream",
          "text": [
            "\u001b[36m(ClientAppActor pid=438961)\u001b[0m Epoch 1/1, Train Loss: 0.028927678445188124, Validation Loss: 0.027501152685055368\n"
          ]
        },
        {
          "name": "stderr",
          "output_type": "stream",
          "text": [
            "\u001b[92mINFO \u001b[0m:      aggregate_evaluate: received 5 results and 0 failures\n",
            "\u001b[92mINFO \u001b[0m:      \n",
            "\u001b[92mINFO \u001b[0m:      [ROUND 3]\n",
            "\u001b[92mINFO \u001b[0m:      configure_fit: strategy sampled 10 clients (out of 10)\n"
          ]
        },
        {
          "name": "stdout",
          "output_type": "stream",
          "text": [
            "\u001b[36m(ClientAppActor pid=438961)\u001b[0m Epoch 1/1, Train Loss: 0.02609508274362819, Validation Loss: 0.023453340579110842\n",
            "\u001b[36m(ClientAppActor pid=438961)\u001b[0m Epoch 1/1, Train Loss: 0.027286221522210847, Validation Loss: 0.024540394974442627\n",
            "\u001b[36m(ClientAppActor pid=438961)\u001b[0m Epoch 1/1, Train Loss: 0.026599216837399076, Validation Loss: 0.02353181030887824\n",
            "\u001b[36m(ClientAppActor pid=438961)\u001b[0m Epoch 1/1, Train Loss: 0.02593377085015325, Validation Loss: 0.024366634109845527\n",
            "\u001b[36m(ClientAppActor pid=438961)\u001b[0m Epoch 1/1, Train Loss: 0.026923479161935278, Validation Loss: 0.025533601498374574\n",
            "\u001b[36m(ClientAppActor pid=438961)\u001b[0m Epoch 1/1, Train Loss: 0.025859711968367644, Validation Loss: 0.0243584829597519\n",
            "\u001b[36m(ClientAppActor pid=438961)\u001b[0m Epoch 1/1, Train Loss: 0.02573082361849818, Validation Loss: 0.023811581472937878\n",
            "\u001b[36m(ClientAppActor pid=438961)\u001b[0m Epoch 1/1, Train Loss: 0.02504962369209469, Validation Loss: 0.023710659346901454\n",
            "\u001b[36m(ClientAppActor pid=438961)\u001b[0m Epoch 1/1, Train Loss: 0.02660280401532603, Validation Loss: 0.024333126699695222\n"
          ]
        },
        {
          "name": "stderr",
          "output_type": "stream",
          "text": [
            "\u001b[92mINFO \u001b[0m:      aggregate_fit: received 10 results and 0 failures\n",
            "\u001b[92mINFO \u001b[0m:      configure_evaluate: strategy sampled 5 clients (out of 10)\n"
          ]
        },
        {
          "name": "stdout",
          "output_type": "stream",
          "text": [
            "\u001b[36m(ClientAppActor pid=438961)\u001b[0m Epoch 1/1, Train Loss: 0.025751925949560533, Validation Loss: 0.025315110714962848\n"
          ]
        },
        {
          "name": "stderr",
          "output_type": "stream",
          "text": [
            "\u001b[92mINFO \u001b[0m:      aggregate_evaluate: received 5 results and 0 failures\n",
            "\u001b[92mINFO \u001b[0m:      \n",
            "\u001b[92mINFO \u001b[0m:      [ROUND 4]\n",
            "\u001b[92mINFO \u001b[0m:      configure_fit: strategy sampled 10 clients (out of 10)\n"
          ]
        },
        {
          "name": "stdout",
          "output_type": "stream",
          "text": [
            "\u001b[36m(ClientAppActor pid=438961)\u001b[0m Epoch 1/1, Train Loss: 0.025405843050615624, Validation Loss: 0.02406009702155223\n",
            "\u001b[36m(ClientAppActor pid=438961)\u001b[0m Epoch 1/1, Train Loss: 0.025252591320636248, Validation Loss: 0.02349676901044754\n",
            "\u001b[36m(ClientAppActor pid=438961)\u001b[0m Epoch 1/1, Train Loss: 0.02557364486084126, Validation Loss: 0.02317445553266085\n",
            "\u001b[36m(ClientAppActor pid=438961)\u001b[0m Epoch 1/1, Train Loss: 0.02508913074610847, Validation Loss: 0.02441251091659069\n",
            "\u001b[36m(ClientAppActor pid=438961)\u001b[0m Epoch 1/1, Train Loss: 0.026135145898650188, Validation Loss: 0.02347116838567532\n",
            "\u001b[36m(ClientAppActor pid=438961)\u001b[0m Epoch 1/1, Train Loss: 0.025217596386181245, Validation Loss: 0.02354290121449874\n",
            "\u001b[36m(ClientAppActor pid=438961)\u001b[0m Epoch 1/1, Train Loss: 0.025201732200561183, Validation Loss: 0.024934480110040076\n",
            "\u001b[36m(ClientAppActor pid=438961)\u001b[0m Epoch 1/1, Train Loss: 0.02454350269076848, Validation Loss: 0.024663862915566333\n",
            "\u001b[36m(ClientAppActor pid=438961)\u001b[0m Epoch 1/1, Train Loss: 0.024907051723929916, Validation Loss: 0.02363266537968929\n"
          ]
        },
        {
          "name": "stderr",
          "output_type": "stream",
          "text": [
            "\u001b[92mINFO \u001b[0m:      aggregate_fit: received 10 results and 0 failures\n",
            "\u001b[92mINFO \u001b[0m:      configure_evaluate: strategy sampled 5 clients (out of 10)\n"
          ]
        },
        {
          "name": "stdout",
          "output_type": "stream",
          "text": [
            "\u001b[36m(ClientAppActor pid=438961)\u001b[0m Epoch 1/1, Train Loss: 0.024548988568015618, Validation Loss: 0.0247050324598184\n"
          ]
        },
        {
          "name": "stderr",
          "output_type": "stream",
          "text": [
            "\u001b[92mINFO \u001b[0m:      aggregate_evaluate: received 5 results and 0 failures\n",
            "\u001b[92mINFO \u001b[0m:      \n",
            "\u001b[92mINFO \u001b[0m:      [ROUND 5]\n",
            "\u001b[92mINFO \u001b[0m:      configure_fit: strategy sampled 10 clients (out of 10)\n"
          ]
        },
        {
          "name": "stdout",
          "output_type": "stream",
          "text": [
            "\u001b[36m(ClientAppActor pid=438961)\u001b[0m Epoch 1/1, Train Loss: 0.023273896536614637, Validation Loss: 0.02318788656535057\n",
            "\u001b[36m(ClientAppActor pid=438961)\u001b[0m Epoch 1/1, Train Loss: 0.02377952974621612, Validation Loss: 0.020788594363973692\n",
            "\u001b[36m(ClientAppActor pid=438961)\u001b[0m Epoch 1/1, Train Loss: 0.02476958401206106, Validation Loss: 0.02302531568476787\n",
            "\u001b[36m(ClientAppActor pid=438961)\u001b[0m Epoch 1/1, Train Loss: 0.024658945960794935, Validation Loss: 0.02200783373644719\n",
            "\u001b[36m(ClientAppActor pid=438961)\u001b[0m Epoch 1/1, Train Loss: 0.02493707115512968, Validation Loss: 0.023337799625901077\n",
            "\u001b[36m(ClientAppActor pid=438961)\u001b[0m Epoch 1/1, Train Loss: 0.02405213956527486, Validation Loss: 0.02030438557267189\n",
            "\u001b[36m(ClientAppActor pid=438961)\u001b[0m Epoch 1/1, Train Loss: 0.02294587015663043, Validation Loss: 0.020738635212183\n",
            "\u001b[36m(ClientAppActor pid=438961)\u001b[0m Epoch 1/1, Train Loss: 0.022909348553950243, Validation Loss: 0.01886604239161198\n",
            "\u001b[36m(ClientAppActor pid=438961)\u001b[0m Epoch 1/1, Train Loss: 0.024292238084322744, Validation Loss: 0.020926542830868408\n"
          ]
        },
        {
          "name": "stderr",
          "output_type": "stream",
          "text": [
            "\u001b[92mINFO \u001b[0m:      aggregate_fit: received 10 results and 0 failures\n",
            "\u001b[92mINFO \u001b[0m:      configure_evaluate: strategy sampled 5 clients (out of 10)\n"
          ]
        },
        {
          "name": "stdout",
          "output_type": "stream",
          "text": [
            "\u001b[36m(ClientAppActor pid=438961)\u001b[0m Epoch 1/1, Train Loss: 0.022871123792806473, Validation Loss: 0.022959645909185592\n"
          ]
        },
        {
          "name": "stderr",
          "output_type": "stream",
          "text": [
            "\u001b[92mINFO \u001b[0m:      aggregate_evaluate: received 5 results and 0 failures\n",
            "\u001b[92mINFO \u001b[0m:      \n",
            "\u001b[92mINFO \u001b[0m:      [ROUND 6]\n",
            "\u001b[92mINFO \u001b[0m:      configure_fit: strategy sampled 10 clients (out of 10)\n"
          ]
        },
        {
          "name": "stdout",
          "output_type": "stream",
          "text": [
            "\u001b[36m(ClientAppActor pid=438961)\u001b[0m Epoch 1/1, Train Loss: 0.017747291068703232, Validation Loss: 0.013747921464248346\n",
            "\u001b[36m(ClientAppActor pid=438961)\u001b[0m Epoch 1/1, Train Loss: 0.020570184934035975, Validation Loss: 0.013949009876411695\n",
            "\u001b[36m(ClientAppActor pid=438961)\u001b[0m Epoch 1/1, Train Loss: 0.01833968695326902, Validation Loss: 0.01346250118401188\n",
            "\u001b[36m(ClientAppActor pid=438961)\u001b[0m Epoch 1/1, Train Loss: 0.017729928993647642, Validation Loss: 0.015078280658389513\n",
            "\u001b[36m(ClientAppActor pid=438961)\u001b[0m Epoch 1/1, Train Loss: 0.018260327610417758, Validation Loss: 0.014531083906499239\n",
            "\u001b[36m(ClientAppActor pid=438961)\u001b[0m Epoch 1/1, Train Loss: 0.017565832288917338, Validation Loss: 0.012946815373232732\n",
            "\u001b[36m(ClientAppActor pid=438961)\u001b[0m Epoch 1/1, Train Loss: 0.018504942573680735, Validation Loss: 0.013942094949575571\n",
            "\u001b[36m(ClientAppActor pid=438961)\u001b[0m Epoch 1/1, Train Loss: 0.017766485922038555, Validation Loss: 0.014547504233912779\n",
            "\u001b[36m(ClientAppActor pid=438961)\u001b[0m Epoch 1/1, Train Loss: 0.017127724410504988, Validation Loss: 0.014245730466567554\n"
          ]
        },
        {
          "name": "stderr",
          "output_type": "stream",
          "text": [
            "\u001b[92mINFO \u001b[0m:      aggregate_fit: received 10 results and 0 failures\n",
            "\u001b[92mINFO \u001b[0m:      configure_evaluate: strategy sampled 5 clients (out of 10)\n"
          ]
        },
        {
          "name": "stdout",
          "output_type": "stream",
          "text": [
            "\u001b[36m(ClientAppActor pid=438961)\u001b[0m Epoch 1/1, Train Loss: 0.01690701781633762, Validation Loss: 0.015825364738702774\n"
          ]
        },
        {
          "name": "stderr",
          "output_type": "stream",
          "text": [
            "\u001b[92mINFO \u001b[0m:      aggregate_evaluate: received 5 results and 0 failures\n",
            "\u001b[92mINFO \u001b[0m:      \n",
            "\u001b[92mINFO \u001b[0m:      [ROUND 7]\n",
            "\u001b[92mINFO \u001b[0m:      configure_fit: strategy sampled 10 clients (out of 10)\n"
          ]
        },
        {
          "name": "stdout",
          "output_type": "stream",
          "text": [
            "\u001b[36m(ClientAppActor pid=438961)\u001b[0m Epoch 1/1, Train Loss: 0.015155656493757622, Validation Loss: 0.012544742642113796\n",
            "\u001b[36m(ClientAppActor pid=438961)\u001b[0m Epoch 1/1, Train Loss: 0.015321603469034233, Validation Loss: 0.014203268819703506\n",
            "\u001b[36m(ClientAppActor pid=438961)\u001b[0m Epoch 1/1, Train Loss: 0.015159031256369434, Validation Loss: 0.013931259190520415\n",
            "\u001b[36m(ClientAppActor pid=438961)\u001b[0m Epoch 1/1, Train Loss: 0.01540026999087912, Validation Loss: 0.012810610521298189\n",
            "\u001b[36m(ClientAppActor pid=438961)\u001b[0m Epoch 1/1, Train Loss: 0.015068880955476573, Validation Loss: 0.013168323194034971\n",
            "\u001b[36m(ClientAppActor pid=438961)\u001b[0m Epoch 1/1, Train Loss: 0.014041676739286078, Validation Loss: 0.01308076735585928\n",
            "\u001b[36m(ClientAppActor pid=438961)\u001b[0m Epoch 1/1, Train Loss: 0.01462518670918918, Validation Loss: 0.011963803750964312\n",
            "\u001b[36m(ClientAppActor pid=438961)\u001b[0m Epoch 1/1, Train Loss: 0.01450639332432558, Validation Loss: 0.012430321604300004\n",
            "\u001b[36m(ClientAppActor pid=438961)\u001b[0m Epoch 1/1, Train Loss: 0.01608698556918909, Validation Loss: 0.012596767574835282\n"
          ]
        },
        {
          "name": "stderr",
          "output_type": "stream",
          "text": [
            "\u001b[92mINFO \u001b[0m:      aggregate_fit: received 10 results and 0 failures\n",
            "\u001b[92mINFO \u001b[0m:      configure_evaluate: strategy sampled 5 clients (out of 10)\n"
          ]
        },
        {
          "name": "stdout",
          "output_type": "stream",
          "text": [
            "\u001b[36m(ClientAppActor pid=438961)\u001b[0m Epoch 1/1, Train Loss: 0.014513163449298037, Validation Loss: 0.01294212333428172\n"
          ]
        },
        {
          "name": "stderr",
          "output_type": "stream",
          "text": [
            "\u001b[92mINFO \u001b[0m:      aggregate_evaluate: received 5 results and 0 failures\n",
            "\u001b[92mINFO \u001b[0m:      \n",
            "\u001b[92mINFO \u001b[0m:      [ROUND 8]\n",
            "\u001b[92mINFO \u001b[0m:      configure_fit: strategy sampled 10 clients (out of 10)\n"
          ]
        },
        {
          "name": "stdout",
          "output_type": "stream",
          "text": [
            "\u001b[36m(ClientAppActor pid=438961)\u001b[0m Epoch 1/1, Train Loss: 0.013266144864408686, Validation Loss: 0.011025001079990314\n",
            "\u001b[36m(ClientAppActor pid=438961)\u001b[0m Epoch 1/1, Train Loss: 0.015966751492849672, Validation Loss: 0.012284810493628565\n",
            "\u001b[36m(ClientAppActor pid=438961)\u001b[0m Epoch 1/1, Train Loss: 0.014266967210955548, Validation Loss: 0.012187615001144318\n",
            "\u001b[36m(ClientAppActor pid=438961)\u001b[0m Epoch 1/1, Train Loss: 0.013829193101034011, Validation Loss: 0.011853880177323636\n",
            "\u001b[36m(ClientAppActor pid=438961)\u001b[0m Epoch 1/1, Train Loss: 0.013555609505844883, Validation Loss: 0.014535134944778223\n",
            "\u001b[36m(ClientAppActor pid=438961)\u001b[0m Epoch 1/1, Train Loss: 0.013285036447762263, Validation Loss: 0.011648843029084114\n",
            "\u001b[36m(ClientAppActor pid=438961)\u001b[0m Epoch 1/1, Train Loss: 0.013149301161860475, Validation Loss: 0.011209456715732813\n",
            "\u001b[36m(ClientAppActor pid=438961)\u001b[0m Epoch 1/1, Train Loss: 0.012889712444958415, Validation Loss: 0.012675629319766393\n",
            "\u001b[36m(ClientAppActor pid=438961)\u001b[0m Epoch 1/1, Train Loss: 0.01372606061989128, Validation Loss: 0.010561951292821994\n"
          ]
        },
        {
          "name": "stderr",
          "output_type": "stream",
          "text": [
            "\u001b[92mINFO \u001b[0m:      aggregate_fit: received 10 results and 0 failures\n",
            "\u001b[92mINFO \u001b[0m:      configure_evaluate: strategy sampled 5 clients (out of 10)\n"
          ]
        },
        {
          "name": "stdout",
          "output_type": "stream",
          "text": [
            "\u001b[36m(ClientAppActor pid=438961)\u001b[0m Epoch 1/1, Train Loss: 0.013822305431165317, Validation Loss: 0.012020141889269535\n"
          ]
        },
        {
          "name": "stderr",
          "output_type": "stream",
          "text": [
            "\u001b[92mINFO \u001b[0m:      aggregate_evaluate: received 5 results and 0 failures\n",
            "\u001b[92mINFO \u001b[0m:      \n",
            "\u001b[92mINFO \u001b[0m:      [ROUND 9]\n",
            "\u001b[92mINFO \u001b[0m:      configure_fit: strategy sampled 10 clients (out of 10)\n"
          ]
        },
        {
          "name": "stdout",
          "output_type": "stream",
          "text": [
            "\u001b[36m(ClientAppActor pid=438961)\u001b[0m Epoch 1/1, Train Loss: 0.012957049635155956, Validation Loss: 0.010948595089408068\n",
            "\u001b[36m(ClientAppActor pid=438961)\u001b[0m Epoch 1/1, Train Loss: 0.013232654578393638, Validation Loss: 0.011321264390762035\n",
            "\u001b[36m(ClientAppActor pid=438961)\u001b[0m Epoch 1/1, Train Loss: 0.013384241449397684, Validation Loss: 0.01051574802169433\n",
            "\u001b[36m(ClientAppActor pid=438961)\u001b[0m Epoch 1/1, Train Loss: 0.012806649015534043, Validation Loss: 0.015629400893186148\n",
            "\u001b[36m(ClientAppActor pid=438961)\u001b[0m Epoch 1/1, Train Loss: 0.013039844931278488, Validation Loss: 0.013336433276820641\n",
            "\u001b[36m(ClientAppActor pid=438961)\u001b[0m Epoch 1/1, Train Loss: 0.012535269344502156, Validation Loss: 0.011892428012708059\n",
            "\u001b[36m(ClientAppActor pid=438961)\u001b[0m Epoch 1/1, Train Loss: 0.012983682611496142, Validation Loss: 0.01093240324049615\n",
            "\u001b[36m(ClientAppActor pid=438961)\u001b[0m Epoch 1/1, Train Loss: 0.012727242442640927, Validation Loss: 0.011049065129974714\n",
            "\u001b[36m(ClientAppActor pid=438961)\u001b[0m Epoch 1/1, Train Loss: 0.012395306333604425, Validation Loss: 0.011479302882575072\n"
          ]
        },
        {
          "name": "stderr",
          "output_type": "stream",
          "text": [
            "\u001b[92mINFO \u001b[0m:      aggregate_fit: received 10 results and 0 failures\n",
            "\u001b[92mINFO \u001b[0m:      configure_evaluate: strategy sampled 5 clients (out of 10)\n"
          ]
        },
        {
          "name": "stdout",
          "output_type": "stream",
          "text": [
            "\u001b[36m(ClientAppActor pid=438961)\u001b[0m Epoch 1/1, Train Loss: 0.012176743782319055, Validation Loss: 0.011571344668762041\n"
          ]
        },
        {
          "name": "stderr",
          "output_type": "stream",
          "text": [
            "\u001b[92mINFO \u001b[0m:      aggregate_evaluate: received 5 results and 0 failures\n",
            "\u001b[92mINFO \u001b[0m:      \n",
            "\u001b[92mINFO \u001b[0m:      [ROUND 10]\n",
            "\u001b[92mINFO \u001b[0m:      configure_fit: strategy sampled 10 clients (out of 10)\n"
          ]
        },
        {
          "name": "stdout",
          "output_type": "stream",
          "text": [
            "\u001b[36m(ClientAppActor pid=438961)\u001b[0m Epoch 1/1, Train Loss: 0.01285127227627995, Validation Loss: 0.011606761523020955\n",
            "\u001b[36m(ClientAppActor pid=438961)\u001b[0m Epoch 1/1, Train Loss: 0.012626251072097238, Validation Loss: 0.012495537610867849\n",
            "\u001b[36m(ClientAppActor pid=438961)\u001b[0m Epoch 1/1, Train Loss: 0.01326083581857752, Validation Loss: 0.0119592034472869\n",
            "\u001b[36m(ClientAppActor pid=438961)\u001b[0m Epoch 1/1, Train Loss: 0.01258891776646718, Validation Loss: 0.011094474985909004\n",
            "\u001b[36m(ClientAppActor pid=438961)\u001b[0m Epoch 1/1, Train Loss: 0.012696769549557478, Validation Loss: 0.010510257785566725\n",
            "\u001b[36m(ClientAppActor pid=438961)\u001b[0m Epoch 1/1, Train Loss: 0.012620480961655037, Validation Loss: 0.011394873798753206\n",
            "\u001b[36m(ClientAppActor pid=438961)\u001b[0m Epoch 1/1, Train Loss: 0.012332345737089025, Validation Loss: 0.010073339799419045\n",
            "\u001b[36m(ClientAppActor pid=438961)\u001b[0m Epoch 1/1, Train Loss: 0.012040427964328243, Validation Loss: 0.012172974789371857\n",
            "\u001b[36m(ClientAppActor pid=438961)\u001b[0m Epoch 1/1, Train Loss: 0.012532978807345475, Validation Loss: 0.013300012976217728\n"
          ]
        },
        {
          "name": "stderr",
          "output_type": "stream",
          "text": [
            "\u001b[92mINFO \u001b[0m:      aggregate_fit: received 10 results and 0 failures\n",
            "\u001b[92mINFO \u001b[0m:      configure_evaluate: strategy sampled 5 clients (out of 10)\n"
          ]
        },
        {
          "name": "stdout",
          "output_type": "stream",
          "text": [
            "\u001b[36m(ClientAppActor pid=438961)\u001b[0m Epoch 1/1, Train Loss: 0.01199381397391605, Validation Loss: 0.01159436977468431\n"
          ]
        },
        {
          "name": "stderr",
          "output_type": "stream",
          "text": [
            "\u001b[92mINFO \u001b[0m:      aggregate_evaluate: received 5 results and 0 failures\n",
            "\u001b[92mINFO \u001b[0m:      \n",
            "\u001b[92mINFO \u001b[0m:      [ROUND 11]\n",
            "\u001b[92mINFO \u001b[0m:      configure_fit: strategy sampled 10 clients (out of 10)\n"
          ]
        },
        {
          "name": "stdout",
          "output_type": "stream",
          "text": [
            "\u001b[36m(ClientAppActor pid=438961)\u001b[0m Epoch 1/1, Train Loss: 0.01280990928540578, Validation Loss: 0.010795560092307054\n",
            "\u001b[36m(ClientAppActor pid=438961)\u001b[0m Epoch 1/1, Train Loss: 0.012291264913902424, Validation Loss: 0.011780330409797339\n",
            "\u001b[36m(ClientAppActor pid=438961)\u001b[0m Epoch 1/1, Train Loss: 0.01275270020976515, Validation Loss: 0.0110732801258564\n",
            "\u001b[36m(ClientAppActor pid=438961)\u001b[0m Epoch 1/1, Train Loss: 0.012796555659595397, Validation Loss: 0.011272871436981054\n",
            "\u001b[36m(ClientAppActor pid=438961)\u001b[0m Epoch 1/1, Train Loss: 0.012113296712684159, Validation Loss: 0.012677554542628618\n",
            "\u001b[36m(ClientAppActor pid=438961)\u001b[0m Epoch 1/1, Train Loss: 0.013028904440637567, Validation Loss: 0.011389648147787038\n",
            "\u001b[36m(ClientAppActor pid=438961)\u001b[0m Epoch 1/1, Train Loss: 0.012682772361406006, Validation Loss: 0.011105321634274263\n",
            "\u001b[36m(ClientAppActor pid=438961)\u001b[0m Epoch 1/1, Train Loss: 0.012039145842047022, Validation Loss: 0.011270875093312217\n",
            "\u001b[36m(ClientAppActor pid=438961)\u001b[0m Epoch 1/1, Train Loss: 0.012160393114358481, Validation Loss: 0.0107613976400059\n"
          ]
        },
        {
          "name": "stderr",
          "output_type": "stream",
          "text": [
            "\u001b[92mINFO \u001b[0m:      aggregate_fit: received 10 results and 0 failures\n",
            "\u001b[92mINFO \u001b[0m:      configure_evaluate: strategy sampled 5 clients (out of 10)\n"
          ]
        },
        {
          "name": "stdout",
          "output_type": "stream",
          "text": [
            "\u001b[36m(ClientAppActor pid=438961)\u001b[0m Epoch 1/1, Train Loss: 0.011938751121927606, Validation Loss: 0.011066538030998064\n"
          ]
        },
        {
          "name": "stderr",
          "output_type": "stream",
          "text": [
            "\u001b[92mINFO \u001b[0m:      aggregate_evaluate: received 5 results and 0 failures\n",
            "\u001b[92mINFO \u001b[0m:      \n",
            "\u001b[92mINFO \u001b[0m:      [ROUND 12]\n",
            "\u001b[92mINFO \u001b[0m:      configure_fit: strategy sampled 10 clients (out of 10)\n"
          ]
        },
        {
          "name": "stdout",
          "output_type": "stream",
          "text": [
            "\u001b[36m(ClientAppActor pid=438961)\u001b[0m Epoch 1/1, Train Loss: 0.011885568688595943, Validation Loss: 0.011404349504468532\n",
            "\u001b[36m(ClientAppActor pid=438961)\u001b[0m Epoch 1/1, Train Loss: 0.012215031412347118, Validation Loss: 0.010823338328359218\n",
            "\u001b[36m(ClientAppActor pid=438961)\u001b[0m Epoch 1/1, Train Loss: 0.012888738203166735, Validation Loss: 0.011287009988266688\n",
            "\u001b[36m(ClientAppActor pid=438961)\u001b[0m Epoch 1/1, Train Loss: 0.012190442725942276, Validation Loss: 0.012133421662908334\n",
            "\u001b[36m(ClientAppActor pid=438961)\u001b[0m Epoch 1/1, Train Loss: 0.012446084447057531, Validation Loss: 0.011718603316694498\n",
            "\u001b[36m(ClientAppActor pid=438961)\u001b[0m Epoch 1/1, Train Loss: 0.01186069388790886, Validation Loss: 0.011589248306476153\n",
            "\u001b[36m(ClientAppActor pid=438961)\u001b[0m Epoch 1/1, Train Loss: 0.012036743301824472, Validation Loss: 0.012162987751742968\n",
            "\u001b[36m(ClientAppActor pid=438961)\u001b[0m Epoch 1/1, Train Loss: 0.011781689471168684, Validation Loss: 0.012028431054204702\n",
            "\u001b[36m(ClientAppActor pid=438961)\u001b[0m Epoch 1/1, Train Loss: 0.012344547510515936, Validation Loss: 0.013070014771074057\n"
          ]
        },
        {
          "name": "stderr",
          "output_type": "stream",
          "text": [
            "\u001b[92mINFO \u001b[0m:      aggregate_fit: received 10 results and 0 failures\n",
            "\u001b[92mINFO \u001b[0m:      configure_evaluate: strategy sampled 5 clients (out of 10)\n"
          ]
        },
        {
          "name": "stdout",
          "output_type": "stream",
          "text": [
            "\u001b[36m(ClientAppActor pid=438961)\u001b[0m Epoch 1/1, Train Loss: 0.011538146072906433, Validation Loss: 0.012510977076509824\n"
          ]
        },
        {
          "name": "stderr",
          "output_type": "stream",
          "text": [
            "\u001b[92mINFO \u001b[0m:      aggregate_evaluate: received 5 results and 0 failures\n",
            "\u001b[92mINFO \u001b[0m:      \n",
            "\u001b[92mINFO \u001b[0m:      [ROUND 13]\n",
            "\u001b[92mINFO \u001b[0m:      configure_fit: strategy sampled 10 clients (out of 10)\n"
          ]
        },
        {
          "name": "stdout",
          "output_type": "stream",
          "text": [
            "\u001b[36m(ClientAppActor pid=438961)\u001b[0m Epoch 1/1, Train Loss: 0.012247316898907176, Validation Loss: 0.012431360172251096\n",
            "\u001b[36m(ClientAppActor pid=438961)\u001b[0m Epoch 1/1, Train Loss: 0.012234979290699605, Validation Loss: 0.011707941285119606\n",
            "\u001b[36m(ClientAppActor pid=438961)\u001b[0m Epoch 1/1, Train Loss: 0.012574284600259939, Validation Loss: 0.010393875239130396\n",
            "\u001b[36m(ClientAppActor pid=438961)\u001b[0m Epoch 1/1, Train Loss: 0.01184697060080448, Validation Loss: 0.012558832442244658\n",
            "\u001b[36m(ClientAppActor pid=438961)\u001b[0m Epoch 1/1, Train Loss: 0.012599951993342084, Validation Loss: 0.011084235344941799\n",
            "\u001b[36m(ClientAppActor pid=438961)\u001b[0m Epoch 1/1, Train Loss: 0.011944146402696572, Validation Loss: 0.011518020290308274\n",
            "\u001b[36m(ClientAppActor pid=438961)\u001b[0m Epoch 1/1, Train Loss: 0.0119612757024346, Validation Loss: 0.012200755962672142\n",
            "\u001b[36m(ClientAppActor pid=438961)\u001b[0m Epoch 1/1, Train Loss: 0.011715750564996264, Validation Loss: 0.010822409011710148\n",
            "\u001b[36m(ClientAppActor pid=438961)\u001b[0m Epoch 1/1, Train Loss: 0.012037121866009023, Validation Loss: 0.012784659647597717\n"
          ]
        },
        {
          "name": "stderr",
          "output_type": "stream",
          "text": [
            "\u001b[92mINFO \u001b[0m:      aggregate_fit: received 10 results and 0 failures\n",
            "\u001b[92mINFO \u001b[0m:      configure_evaluate: strategy sampled 5 clients (out of 10)\n"
          ]
        },
        {
          "name": "stdout",
          "output_type": "stream",
          "text": [
            "\u001b[36m(ClientAppActor pid=438961)\u001b[0m Epoch 1/1, Train Loss: 0.012101630145444138, Validation Loss: 0.014408295508474112\n"
          ]
        },
        {
          "name": "stderr",
          "output_type": "stream",
          "text": [
            "\u001b[92mINFO \u001b[0m:      aggregate_evaluate: received 5 results and 0 failures\n",
            "\u001b[92mINFO \u001b[0m:      \n",
            "\u001b[92mINFO \u001b[0m:      [ROUND 14]\n",
            "\u001b[92mINFO \u001b[0m:      configure_fit: strategy sampled 10 clients (out of 10)\n"
          ]
        },
        {
          "name": "stdout",
          "output_type": "stream",
          "text": [
            "\u001b[36m(ClientAppActor pid=438961)\u001b[0m Epoch 1/1, Train Loss: 0.012324045596662725, Validation Loss: 0.010890126264152618\n",
            "\u001b[36m(ClientAppActor pid=438961)\u001b[0m Epoch 1/1, Train Loss: 0.012123215417977017, Validation Loss: 0.01305695243466359\n",
            "\u001b[36m(ClientAppActor pid=438961)\u001b[0m Epoch 1/1, Train Loss: 0.01228113699298684, Validation Loss: 0.011056181115026657\n",
            "\u001b[36m(ClientAppActor pid=438961)\u001b[0m Epoch 1/1, Train Loss: 0.012053928697610846, Validation Loss: 0.011002488577595124\n",
            "\u001b[36m(ClientAppActor pid=438961)\u001b[0m Epoch 1/1, Train Loss: 0.012161537456224756, Validation Loss: 0.013326302743875064\n",
            "\u001b[36m(ClientAppActor pid=438961)\u001b[0m Epoch 1/1, Train Loss: 0.011929154617361503, Validation Loss: 0.013834277382836891\n",
            "\u001b[36m(ClientAppActor pid=438961)\u001b[0m Epoch 1/1, Train Loss: 0.011988578106064608, Validation Loss: 0.010576429167905679\n",
            "\u001b[36m(ClientAppActor pid=438961)\u001b[0m Epoch 1/1, Train Loss: 0.011307819405257111, Validation Loss: 0.011164644840531625\n",
            "\u001b[36m(ClientAppActor pid=438961)\u001b[0m Epoch 1/1, Train Loss: 0.011820570067825293, Validation Loss: 0.011738577087481435\n"
          ]
        },
        {
          "name": "stderr",
          "output_type": "stream",
          "text": [
            "\u001b[92mINFO \u001b[0m:      aggregate_fit: received 10 results and 0 failures\n",
            "\u001b[92mINFO \u001b[0m:      configure_evaluate: strategy sampled 5 clients (out of 10)\n"
          ]
        },
        {
          "name": "stdout",
          "output_type": "stream",
          "text": [
            "\u001b[36m(ClientAppActor pid=438961)\u001b[0m Epoch 1/1, Train Loss: 0.011406301253355376, Validation Loss: 0.010879114610501207\n"
          ]
        },
        {
          "name": "stderr",
          "output_type": "stream",
          "text": [
            "\u001b[92mINFO \u001b[0m:      aggregate_evaluate: received 5 results and 0 failures\n",
            "\u001b[92mINFO \u001b[0m:      \n",
            "\u001b[92mINFO \u001b[0m:      [ROUND 15]\n",
            "\u001b[92mINFO \u001b[0m:      configure_fit: strategy sampled 10 clients (out of 10)\n"
          ]
        },
        {
          "name": "stdout",
          "output_type": "stream",
          "text": [
            "\u001b[36m(ClientAppActor pid=438961)\u001b[0m Epoch 1/1, Train Loss: 0.01173110573672422, Validation Loss: 0.010818452681772985\n",
            "\u001b[36m(ClientAppActor pid=438961)\u001b[0m Epoch 1/1, Train Loss: 0.011911007372828403, Validation Loss: 0.010880809671317156\n",
            "\u001b[36m(ClientAppActor pid=438961)\u001b[0m Epoch 1/1, Train Loss: 0.0123370512029027, Validation Loss: 0.010963545789798865\n",
            "\u001b[36m(ClientAppActor pid=438961)\u001b[0m Epoch 1/1, Train Loss: 0.011752414766072047, Validation Loss: 0.011802698127352275\n",
            "\u001b[36m(ClientAppActor pid=438961)\u001b[0m Epoch 1/1, Train Loss: 0.012323576532820664, Validation Loss: 0.010527284600986885\n",
            "\u001b[36m(ClientAppActor pid=438961)\u001b[0m Epoch 1/1, Train Loss: 0.011526693419396583, Validation Loss: 0.01088879809070092\n",
            "\u001b[36m(ClientAppActor pid=438961)\u001b[0m Epoch 1/1, Train Loss: 0.01191105940701938, Validation Loss: 0.010939774622854132\n",
            "\u001b[36m(ClientAppActor pid=438961)\u001b[0m Epoch 1/1, Train Loss: 0.011430756207371112, Validation Loss: 0.012736811410062589\n",
            "\u001b[36m(ClientAppActor pid=438961)\u001b[0m Epoch 1/1, Train Loss: 0.012145041640257776, Validation Loss: 0.011223081212777358\n"
          ]
        },
        {
          "name": "stderr",
          "output_type": "stream",
          "text": [
            "\u001b[92mINFO \u001b[0m:      aggregate_fit: received 10 results and 0 failures\n",
            "\u001b[92mINFO \u001b[0m:      configure_evaluate: strategy sampled 5 clients (out of 10)\n"
          ]
        },
        {
          "name": "stdout",
          "output_type": "stream",
          "text": [
            "\u001b[36m(ClientAppActor pid=438961)\u001b[0m Epoch 1/1, Train Loss: 0.011474486813871282, Validation Loss: 0.011366916247285329\n"
          ]
        },
        {
          "name": "stderr",
          "output_type": "stream",
          "text": [
            "\u001b[92mINFO \u001b[0m:      aggregate_evaluate: received 5 results and 0 failures\n",
            "\u001b[92mINFO \u001b[0m:      \n",
            "\u001b[92mINFO \u001b[0m:      [ROUND 16]\n",
            "\u001b[92mINFO \u001b[0m:      configure_fit: strategy sampled 10 clients (out of 10)\n"
          ]
        },
        {
          "name": "stdout",
          "output_type": "stream",
          "text": [
            "\u001b[36m(ClientAppActor pid=438961)\u001b[0m Epoch 1/1, Train Loss: 0.011708144748601879, Validation Loss: 0.010774183928823242\n",
            "\u001b[36m(ClientAppActor pid=438961)\u001b[0m Epoch 1/1, Train Loss: 0.012019558473130559, Validation Loss: 0.011602033717701068\n",
            "\u001b[36m(ClientAppActor pid=438961)\u001b[0m Epoch 1/1, Train Loss: 0.012181323639458359, Validation Loss: 0.010861184734564561\n",
            "\u001b[36m(ClientAppActor pid=438961)\u001b[0m Epoch 1/1, Train Loss: 0.011691611762721054, Validation Loss: 0.01147030433639884\n",
            "\u001b[36m(ClientAppActor pid=438961)\u001b[0m Epoch 1/1, Train Loss: 0.01201966545074293, Validation Loss: 0.011083776274552712\n",
            "\u001b[36m(ClientAppActor pid=438961)\u001b[0m Epoch 1/1, Train Loss: 0.011537809722531255, Validation Loss: 0.011659105899385534\n",
            "\u001b[36m(ClientAppActor pid=438961)\u001b[0m Epoch 1/1, Train Loss: 0.011765741466516905, Validation Loss: 0.011638736173223991\n",
            "\u001b[36m(ClientAppActor pid=438961)\u001b[0m Epoch 1/1, Train Loss: 0.011251130132096828, Validation Loss: 0.011356671806424856\n",
            "\u001b[36m(ClientAppActor pid=438961)\u001b[0m Epoch 1/1, Train Loss: 0.011777390347849024, Validation Loss: 0.010396164358378602\n"
          ]
        },
        {
          "name": "stderr",
          "output_type": "stream",
          "text": [
            "\u001b[92mINFO \u001b[0m:      aggregate_fit: received 10 results and 0 failures\n",
            "\u001b[92mINFO \u001b[0m:      configure_evaluate: strategy sampled 5 clients (out of 10)\n"
          ]
        },
        {
          "name": "stdout",
          "output_type": "stream",
          "text": [
            "\u001b[36m(ClientAppActor pid=438961)\u001b[0m Epoch 1/1, Train Loss: 0.011127529831806033, Validation Loss: 0.011058528477755876\n"
          ]
        },
        {
          "name": "stderr",
          "output_type": "stream",
          "text": [
            "\u001b[92mINFO \u001b[0m:      aggregate_evaluate: received 5 results and 0 failures\n",
            "\u001b[92mINFO \u001b[0m:      \n",
            "\u001b[92mINFO \u001b[0m:      [ROUND 17]\n",
            "\u001b[92mINFO \u001b[0m:      configure_fit: strategy sampled 10 clients (out of 10)\n"
          ]
        },
        {
          "name": "stdout",
          "output_type": "stream",
          "text": [
            "\u001b[36m(ClientAppActor pid=438961)\u001b[0m Epoch 1/1, Train Loss: 0.01168624312146613, Validation Loss: 0.014881926803634716\n",
            "\u001b[36m(ClientAppActor pid=438961)\u001b[0m Epoch 1/1, Train Loss: 0.011733130667137333, Validation Loss: 0.011628026500917397\n",
            "\u001b[36m(ClientAppActor pid=438961)\u001b[0m Epoch 1/1, Train Loss: 0.012289864758011138, Validation Loss: 0.010394011122676043\n",
            "\u001b[36m(ClientAppActor pid=438961)\u001b[0m Epoch 1/1, Train Loss: 0.011534654862699237, Validation Loss: 0.011691960040479898\n",
            "\u001b[36m(ClientAppActor pid=438961)\u001b[0m Epoch 1/1, Train Loss: 0.011958212162930481, Validation Loss: 0.012181528485738315\n",
            "\u001b[36m(ClientAppActor pid=438961)\u001b[0m Epoch 1/1, Train Loss: 0.011395483010328642, Validation Loss: 0.011252204045796623\n",
            "\u001b[36m(ClientAppActor pid=438961)\u001b[0m Epoch 1/1, Train Loss: 0.011653383045761597, Validation Loss: 0.010352801979304506\n",
            "\u001b[36m(ClientAppActor pid=438961)\u001b[0m Epoch 1/1, Train Loss: 0.011231600076402767, Validation Loss: 0.011180361732840538\n",
            "\u001b[36m(ClientAppActor pid=438961)\u001b[0m Epoch 1/1, Train Loss: 0.011692847383420656, Validation Loss: 0.011059942189604044\n"
          ]
        },
        {
          "name": "stderr",
          "output_type": "stream",
          "text": [
            "\u001b[92mINFO \u001b[0m:      aggregate_fit: received 10 results and 0 failures\n",
            "\u001b[92mINFO \u001b[0m:      configure_evaluate: strategy sampled 5 clients (out of 10)\n"
          ]
        },
        {
          "name": "stdout",
          "output_type": "stream",
          "text": [
            "\u001b[36m(ClientAppActor pid=438961)\u001b[0m Epoch 1/1, Train Loss: 0.011285958793198709, Validation Loss: 0.010601368822300663\n"
          ]
        },
        {
          "name": "stderr",
          "output_type": "stream",
          "text": [
            "\u001b[92mINFO \u001b[0m:      aggregate_evaluate: received 5 results and 0 failures\n",
            "\u001b[92mINFO \u001b[0m:      \n",
            "\u001b[92mINFO \u001b[0m:      [ROUND 18]\n",
            "\u001b[92mINFO \u001b[0m:      configure_fit: strategy sampled 10 clients (out of 10)\n"
          ]
        },
        {
          "name": "stdout",
          "output_type": "stream",
          "text": [
            "\u001b[36m(ClientAppActor pid=438961)\u001b[0m Epoch 1/1, Train Loss: 0.012092957715734397, Validation Loss: 0.011865387849796277\n",
            "\u001b[36m(ClientAppActor pid=438961)\u001b[0m Epoch 1/1, Train Loss: 0.012027458937857116, Validation Loss: 0.011833041530245772\n",
            "\u001b[36m(ClientAppActor pid=438961)\u001b[0m Epoch 1/1, Train Loss: 0.012037779264484006, Validation Loss: 0.011458222933400136\n",
            "\u001b[36m(ClientAppActor pid=438961)\u001b[0m Epoch 1/1, Train Loss: 0.01135336038757964, Validation Loss: 0.012049377466050478\n",
            "\u001b[36m(ClientAppActor pid=438961)\u001b[0m Epoch 1/1, Train Loss: 0.012004251596471756, Validation Loss: 0.012517745320040446\n",
            "\u001b[36m(ClientAppActor pid=438961)\u001b[0m Epoch 1/1, Train Loss: 0.011482056211864594, Validation Loss: 0.011466100668677917\n",
            "\u001b[36m(ClientAppActor pid=438961)\u001b[0m Epoch 1/1, Train Loss: 0.011900665510519602, Validation Loss: 0.01105906029876608\n",
            "\u001b[36m(ClientAppActor pid=438961)\u001b[0m Epoch 1/1, Train Loss: 0.011512008804532856, Validation Loss: 0.011931148071128588\n",
            "\u001b[36m(ClientAppActor pid=438961)\u001b[0m Epoch 1/1, Train Loss: 0.011599718049021051, Validation Loss: 0.010630258573935581\n"
          ]
        },
        {
          "name": "stderr",
          "output_type": "stream",
          "text": [
            "\u001b[92mINFO \u001b[0m:      aggregate_fit: received 10 results and 0 failures\n",
            "\u001b[92mINFO \u001b[0m:      configure_evaluate: strategy sampled 5 clients (out of 10)\n"
          ]
        },
        {
          "name": "stdout",
          "output_type": "stream",
          "text": [
            "\u001b[36m(ClientAppActor pid=438961)\u001b[0m Epoch 1/1, Train Loss: 0.011118256537667891, Validation Loss: 0.011234128990998635\n"
          ]
        },
        {
          "name": "stderr",
          "output_type": "stream",
          "text": [
            "\u001b[92mINFO \u001b[0m:      aggregate_evaluate: received 5 results and 0 failures\n",
            "\u001b[92mINFO \u001b[0m:      \n",
            "\u001b[92mINFO \u001b[0m:      [ROUND 19]\n",
            "\u001b[92mINFO \u001b[0m:      configure_fit: strategy sampled 10 clients (out of 10)\n"
          ]
        },
        {
          "name": "stdout",
          "output_type": "stream",
          "text": [
            "\u001b[36m(ClientAppActor pid=438961)\u001b[0m Epoch 1/1, Train Loss: 0.01175762185974434, Validation Loss: 0.011540091363713145\n",
            "\u001b[36m(ClientAppActor pid=438961)\u001b[0m Epoch 1/1, Train Loss: 0.01177432844968568, Validation Loss: 0.011210587663719287\n",
            "\u001b[36m(ClientAppActor pid=438961)\u001b[0m Epoch 1/1, Train Loss: 0.012035235504407694, Validation Loss: 0.010354775075729076\n",
            "\u001b[36m(ClientAppActor pid=438961)\u001b[0m Epoch 1/1, Train Loss: 0.011933264875839842, Validation Loss: 0.01216726300593179\n",
            "\u001b[36m(ClientAppActor pid=438961)\u001b[0m Epoch 1/1, Train Loss: 0.011969435374519907, Validation Loss: 0.011559213332545299\n",
            "\u001b[36m(ClientAppActor pid=438961)\u001b[0m Epoch 1/1, Train Loss: 0.011773580247259672, Validation Loss: 0.010907493460063752\n",
            "\u001b[36m(ClientAppActor pid=438961)\u001b[0m Epoch 1/1, Train Loss: 0.0114123021058812, Validation Loss: 0.010462867955748852\n",
            "\u001b[36m(ClientAppActor pid=438961)\u001b[0m Epoch 1/1, Train Loss: 0.011257903936254506, Validation Loss: 0.010075458970207434\n",
            "\u001b[36m(ClientAppActor pid=438961)\u001b[0m Epoch 1/1, Train Loss: 0.011640953812932614, Validation Loss: 0.011024248893730916\n"
          ]
        },
        {
          "name": "stderr",
          "output_type": "stream",
          "text": [
            "\u001b[92mINFO \u001b[0m:      aggregate_fit: received 10 results and 0 failures\n",
            "\u001b[92mINFO \u001b[0m:      configure_evaluate: strategy sampled 5 clients (out of 10)\n"
          ]
        },
        {
          "name": "stdout",
          "output_type": "stream",
          "text": [
            "\u001b[36m(ClientAppActor pid=438961)\u001b[0m Epoch 1/1, Train Loss: 0.01133332717794888, Validation Loss: 0.012026547490117641\n"
          ]
        },
        {
          "name": "stderr",
          "output_type": "stream",
          "text": [
            "\u001b[92mINFO \u001b[0m:      aggregate_evaluate: received 5 results and 0 failures\n",
            "\u001b[92mINFO \u001b[0m:      \n",
            "\u001b[92mINFO \u001b[0m:      [ROUND 20]\n",
            "\u001b[92mINFO \u001b[0m:      configure_fit: strategy sampled 10 clients (out of 10)\n"
          ]
        },
        {
          "name": "stdout",
          "output_type": "stream",
          "text": [
            "\u001b[36m(ClientAppActor pid=438961)\u001b[0m Epoch 1/1, Train Loss: 0.011867963828810371, Validation Loss: 0.011398209330554191\n",
            "\u001b[36m(ClientAppActor pid=438961)\u001b[0m Epoch 1/1, Train Loss: 0.011659184410836142, Validation Loss: 0.01027031416574923\n",
            "\u001b[36m(ClientAppActor pid=438961)\u001b[0m Epoch 1/1, Train Loss: 0.011889973304944464, Validation Loss: 0.011015425418288661\n",
            "\u001b[36m(ClientAppActor pid=438961)\u001b[0m Epoch 1/1, Train Loss: 0.011319457982104309, Validation Loss: 0.011546544694843201\n",
            "\u001b[36m(ClientAppActor pid=438961)\u001b[0m Epoch 1/1, Train Loss: 0.011536715994819556, Validation Loss: 0.01118852672740244\n",
            "\u001b[36m(ClientAppActor pid=438961)\u001b[0m Epoch 1/1, Train Loss: 0.011484212670844086, Validation Loss: 0.011047207822020236\n",
            "\u001b[36m(ClientAppActor pid=438961)\u001b[0m Epoch 1/1, Train Loss: 0.011612441870245602, Validation Loss: 0.011475135590164708\n",
            "\u001b[36m(ClientAppActor pid=438961)\u001b[0m Epoch 1/1, Train Loss: 0.011272649525083823, Validation Loss: 0.010439653719703738\n",
            "\u001b[36m(ClientAppActor pid=438961)\u001b[0m Epoch 1/1, Train Loss: 0.011598771175203642, Validation Loss: 0.011872196999879984\n"
          ]
        },
        {
          "name": "stderr",
          "output_type": "stream",
          "text": [
            "\u001b[92mINFO \u001b[0m:      aggregate_fit: received 10 results and 0 failures\n",
            "\u001b[92mINFO \u001b[0m:      configure_evaluate: strategy sampled 5 clients (out of 10)\n"
          ]
        },
        {
          "name": "stdout",
          "output_type": "stream",
          "text": [
            "\u001b[36m(ClientAppActor pid=438961)\u001b[0m Epoch 1/1, Train Loss: 0.010997695663925444, Validation Loss: 0.01189539054981791\n"
          ]
        },
        {
          "name": "stderr",
          "output_type": "stream",
          "text": [
            "\u001b[92mINFO \u001b[0m:      aggregate_evaluate: received 5 results and 0 failures\n",
            "\u001b[92mINFO \u001b[0m:      \n",
            "\u001b[92mINFO \u001b[0m:      [ROUND 21]\n",
            "\u001b[92mINFO \u001b[0m:      configure_fit: strategy sampled 10 clients (out of 10)\n"
          ]
        },
        {
          "name": "stdout",
          "output_type": "stream",
          "text": [
            "\u001b[36m(ClientAppActor pid=438961)\u001b[0m Epoch 1/1, Train Loss: 0.01162038797899933, Validation Loss: 0.01076532882423355\n",
            "\u001b[36m(ClientAppActor pid=438961)\u001b[0m Epoch 1/1, Train Loss: 0.011833437132916532, Validation Loss: 0.010788636156716026\n",
            "\u001b[36m(ClientAppActor pid=438961)\u001b[0m Epoch 1/1, Train Loss: 0.011570204704040937, Validation Loss: 0.010910899557459813\n",
            "\u001b[36m(ClientAppActor pid=438961)\u001b[0m Epoch 1/1, Train Loss: 0.011435294754360573, Validation Loss: 0.011271216154385071\n",
            "\u001b[36m(ClientAppActor pid=438961)\u001b[0m Epoch 1/1, Train Loss: 0.01209853316592698, Validation Loss: 0.010863906059127588\n",
            "\u001b[36m(ClientAppActor pid=438961)\u001b[0m Epoch 1/1, Train Loss: 0.01136419028135957, Validation Loss: 0.010427427818425573\n",
            "\u001b[36m(ClientAppActor pid=438961)\u001b[0m Epoch 1/1, Train Loss: 0.0113666285345755, Validation Loss: 0.011040124003417216\n",
            "\u001b[36m(ClientAppActor pid=438961)\u001b[0m Epoch 1/1, Train Loss: 0.011106213633118584, Validation Loss: 0.011537087794679862\n",
            "\u001b[36m(ClientAppActor pid=438961)\u001b[0m Epoch 1/1, Train Loss: 0.01147836992646208, Validation Loss: 0.01143823298983849\n"
          ]
        },
        {
          "name": "stderr",
          "output_type": "stream",
          "text": [
            "\u001b[92mINFO \u001b[0m:      aggregate_fit: received 10 results and 0 failures\n",
            "\u001b[92mINFO \u001b[0m:      configure_evaluate: strategy sampled 5 clients (out of 10)\n"
          ]
        },
        {
          "name": "stdout",
          "output_type": "stream",
          "text": [
            "\u001b[36m(ClientAppActor pid=438961)\u001b[0m Epoch 1/1, Train Loss: 0.011159417537585049, Validation Loss: 0.011272817223261181\n"
          ]
        },
        {
          "name": "stderr",
          "output_type": "stream",
          "text": [
            "\u001b[92mINFO \u001b[0m:      aggregate_evaluate: received 5 results and 0 failures\n",
            "\u001b[92mINFO \u001b[0m:      \n",
            "\u001b[92mINFO \u001b[0m:      [ROUND 22]\n",
            "\u001b[92mINFO \u001b[0m:      configure_fit: strategy sampled 10 clients (out of 10)\n"
          ]
        },
        {
          "name": "stdout",
          "output_type": "stream",
          "text": [
            "\u001b[36m(ClientAppActor pid=438961)\u001b[0m Epoch 1/1, Train Loss: 0.011416410068326657, Validation Loss: 0.010539623998248806\n",
            "\u001b[36m(ClientAppActor pid=438961)\u001b[0m Epoch 1/1, Train Loss: 0.011655531966560844, Validation Loss: 0.011236722330347849\n",
            "\u001b[36m(ClientAppActor pid=438961)\u001b[0m Epoch 1/1, Train Loss: 0.011758201363690124, Validation Loss: 0.010804541444835754\n",
            "\u001b[36m(ClientAppActor pid=438961)\u001b[0m Epoch 1/1, Train Loss: 0.011325530509584316, Validation Loss: 0.011231669869560462\n",
            "\u001b[36m(ClientAppActor pid=438961)\u001b[0m Epoch 1/1, Train Loss: 0.011695483750156542, Validation Loss: 0.010471444917269625\n",
            "\u001b[36m(ClientAppActor pid=438961)\u001b[0m Epoch 1/1, Train Loss: 0.011199146458454946, Validation Loss: 0.011187297220413502\n",
            "\u001b[36m(ClientAppActor pid=438961)\u001b[0m Epoch 1/1, Train Loss: 0.011366951869487172, Validation Loss: 0.010687419517825428\n",
            "\u001b[36m(ClientAppActor pid=438961)\u001b[0m Epoch 1/1, Train Loss: 0.01113795486306495, Validation Loss: 0.010321514394420844\n",
            "\u001b[36m(ClientAppActor pid=438961)\u001b[0m Epoch 1/1, Train Loss: 0.011366486987375682, Validation Loss: 0.010981308439603219\n"
          ]
        },
        {
          "name": "stderr",
          "output_type": "stream",
          "text": [
            "\u001b[92mINFO \u001b[0m:      aggregate_fit: received 10 results and 0 failures\n",
            "\u001b[92mINFO \u001b[0m:      configure_evaluate: strategy sampled 5 clients (out of 10)\n"
          ]
        },
        {
          "name": "stdout",
          "output_type": "stream",
          "text": [
            "\u001b[36m(ClientAppActor pid=438961)\u001b[0m Epoch 1/1, Train Loss: 0.011404931466878937, Validation Loss: 0.013691520246748742\n"
          ]
        },
        {
          "name": "stderr",
          "output_type": "stream",
          "text": [
            "\u001b[92mINFO \u001b[0m:      aggregate_evaluate: received 5 results and 0 failures\n",
            "\u001b[92mINFO \u001b[0m:      \n",
            "\u001b[92mINFO \u001b[0m:      [ROUND 23]\n",
            "\u001b[92mINFO \u001b[0m:      configure_fit: strategy sampled 10 clients (out of 10)\n"
          ]
        },
        {
          "name": "stdout",
          "output_type": "stream",
          "text": [
            "\u001b[36m(ClientAppActor pid=438961)\u001b[0m Epoch 1/1, Train Loss: 0.011327107861121693, Validation Loss: 0.011094891394560154\n",
            "\u001b[36m(ClientAppActor pid=438961)\u001b[0m Epoch 1/1, Train Loss: 0.011667316807157333, Validation Loss: 0.010984859017368693\n",
            "\u001b[36m(ClientAppActor pid=438961)\u001b[0m Epoch 1/1, Train Loss: 0.01164024779665293, Validation Loss: 0.011118658872034688\n",
            "\u001b[36m(ClientAppActor pid=438961)\u001b[0m Epoch 1/1, Train Loss: 0.011494614105524109, Validation Loss: 0.011688634574126739\n",
            "\u001b[36m(ClientAppActor pid=438961)\u001b[0m Epoch 1/1, Train Loss: 0.011780170050661752, Validation Loss: 0.010602929969676413\n",
            "\u001b[36m(ClientAppActor pid=438961)\u001b[0m Epoch 1/1, Train Loss: 0.01124401488295286, Validation Loss: 0.012237318934729466\n",
            "\u001b[36m(ClientAppActor pid=438961)\u001b[0m Epoch 1/1, Train Loss: 0.011499515241288607, Validation Loss: 0.01042095895928259\n",
            "\u001b[36m(ClientAppActor pid=438961)\u001b[0m Epoch 1/1, Train Loss: 0.011124369891194424, Validation Loss: 0.01047476141068798\n",
            "\u001b[36m(ClientAppActor pid=438961)\u001b[0m Epoch 1/1, Train Loss: 0.011288501331490456, Validation Loss: 0.010405239541656695\n"
          ]
        },
        {
          "name": "stderr",
          "output_type": "stream",
          "text": [
            "\u001b[92mINFO \u001b[0m:      aggregate_fit: received 10 results and 0 failures\n",
            "\u001b[92mINFO \u001b[0m:      configure_evaluate: strategy sampled 5 clients (out of 10)\n"
          ]
        },
        {
          "name": "stdout",
          "output_type": "stream",
          "text": [
            "\u001b[36m(ClientAppActor pid=438961)\u001b[0m Epoch 1/1, Train Loss: 0.010750946136984494, Validation Loss: 0.011104000087540884\n"
          ]
        },
        {
          "name": "stderr",
          "output_type": "stream",
          "text": [
            "\u001b[92mINFO \u001b[0m:      aggregate_evaluate: received 5 results and 0 failures\n",
            "\u001b[92mINFO \u001b[0m:      \n",
            "\u001b[92mINFO \u001b[0m:      [ROUND 24]\n",
            "\u001b[92mINFO \u001b[0m:      configure_fit: strategy sampled 10 clients (out of 10)\n"
          ]
        },
        {
          "name": "stdout",
          "output_type": "stream",
          "text": [
            "\u001b[36m(ClientAppActor pid=438961)\u001b[0m Epoch 1/1, Train Loss: 0.011569009369958451, Validation Loss: 0.01069864034294509\n",
            "\u001b[36m(ClientAppActor pid=438961)\u001b[0m Epoch 1/1, Train Loss: 0.011424580252369736, Validation Loss: 0.010588178787237177\n",
            "\u001b[36m(ClientAppActor pid=438961)\u001b[0m Epoch 1/1, Train Loss: 0.01144936212827221, Validation Loss: 0.01057614448766869\n",
            "\u001b[36m(ClientAppActor pid=438961)\u001b[0m Epoch 1/1, Train Loss: 0.011701272901995937, Validation Loss: 0.012183699004638653\n",
            "\u001b[36m(ClientAppActor pid=438961)\u001b[0m Epoch 1/1, Train Loss: 0.011684349147916431, Validation Loss: 0.010821950801003438\n",
            "\u001b[36m(ClientAppActor pid=438961)\u001b[0m Epoch 1/1, Train Loss: 0.011357865983269887, Validation Loss: 0.010845747436038576\n",
            "\u001b[36m(ClientAppActor pid=438961)\u001b[0m Epoch 1/1, Train Loss: 0.011275566869996267, Validation Loss: 0.01036566488731366\n",
            "\u001b[36m(ClientAppActor pid=438961)\u001b[0m Epoch 1/1, Train Loss: 0.010906302047395471, Validation Loss: 0.01030184247960838\n",
            "\u001b[36m(ClientAppActor pid=438961)\u001b[0m Epoch 1/1, Train Loss: 0.011435866793894236, Validation Loss: 0.011344801616640044\n"
          ]
        },
        {
          "name": "stderr",
          "output_type": "stream",
          "text": [
            "\u001b[92mINFO \u001b[0m:      aggregate_fit: received 10 results and 0 failures\n",
            "\u001b[92mINFO \u001b[0m:      configure_evaluate: strategy sampled 5 clients (out of 10)\n"
          ]
        },
        {
          "name": "stdout",
          "output_type": "stream",
          "text": [
            "\u001b[36m(ClientAppActor pid=438961)\u001b[0m Epoch 1/1, Train Loss: 0.010893715213578526, Validation Loss: 0.011414592297604451\n"
          ]
        },
        {
          "name": "stderr",
          "output_type": "stream",
          "text": [
            "\u001b[92mINFO \u001b[0m:      aggregate_evaluate: received 5 results and 0 failures\n",
            "\u001b[92mINFO \u001b[0m:      \n",
            "\u001b[92mINFO \u001b[0m:      [ROUND 25]\n",
            "\u001b[92mINFO \u001b[0m:      configure_fit: strategy sampled 10 clients (out of 10)\n"
          ]
        },
        {
          "name": "stdout",
          "output_type": "stream",
          "text": [
            "\u001b[36m(ClientAppActor pid=438961)\u001b[0m Epoch 1/1, Train Loss: 0.011374805537559608, Validation Loss: 0.011962861897280583\n",
            "\u001b[36m(ClientAppActor pid=438961)\u001b[0m Epoch 1/1, Train Loss: 0.011500866239945782, Validation Loss: 0.018495778374087352\n",
            "\u001b[36m(ClientAppActor pid=438961)\u001b[0m Epoch 1/1, Train Loss: 0.01137770613710774, Validation Loss: 0.010669562285049604\n",
            "\u001b[36m(ClientAppActor pid=438961)\u001b[0m Epoch 1/1, Train Loss: 0.011443322178640284, Validation Loss: 0.011851349451507513\n",
            "\u001b[36m(ClientAppActor pid=438961)\u001b[0m Epoch 1/1, Train Loss: 0.011676129608387403, Validation Loss: 0.013124816800252749\n",
            "\u001b[36m(ClientAppActor pid=438961)\u001b[0m Epoch 1/1, Train Loss: 0.011269755269594417, Validation Loss: 0.011234741389321594\n",
            "\u001b[36m(ClientAppActor pid=438961)\u001b[0m Epoch 1/1, Train Loss: 0.01143703760929627, Validation Loss: 0.009757425582322937\n",
            "\u001b[36m(ClientAppActor pid=438961)\u001b[0m Epoch 1/1, Train Loss: 0.01111421145793825, Validation Loss: 0.011559874249192385\n",
            "\u001b[36m(ClientAppActor pid=438961)\u001b[0m Epoch 1/1, Train Loss: 0.01132326971481342, Validation Loss: 0.010464122895008096\n"
          ]
        },
        {
          "name": "stderr",
          "output_type": "stream",
          "text": [
            "\u001b[92mINFO \u001b[0m:      aggregate_fit: received 10 results and 0 failures\n",
            "\u001b[92mINFO \u001b[0m:      configure_evaluate: strategy sampled 5 clients (out of 10)\n"
          ]
        },
        {
          "name": "stdout",
          "output_type": "stream",
          "text": [
            "\u001b[36m(ClientAppActor pid=438961)\u001b[0m Epoch 1/1, Train Loss: 0.010771925842371022, Validation Loss: 0.011073286895855116\n"
          ]
        },
        {
          "name": "stderr",
          "output_type": "stream",
          "text": [
            "\u001b[92mINFO \u001b[0m:      aggregate_evaluate: received 5 results and 0 failures\n",
            "\u001b[92mINFO \u001b[0m:      \n",
            "\u001b[92mINFO \u001b[0m:      [ROUND 26]\n",
            "\u001b[92mINFO \u001b[0m:      configure_fit: strategy sampled 10 clients (out of 10)\n"
          ]
        },
        {
          "name": "stdout",
          "output_type": "stream",
          "text": [
            "\u001b[36m(ClientAppActor pid=438961)\u001b[0m Epoch 1/1, Train Loss: 0.011436755787396785, Validation Loss: 0.011193590632711466\n",
            "\u001b[36m(ClientAppActor pid=438961)\u001b[0m Epoch 1/1, Train Loss: 0.011662686981334545, Validation Loss: 0.010485549761842076\n",
            "\u001b[36m(ClientAppActor pid=438961)\u001b[0m Epoch 1/1, Train Loss: 0.011760015746043755, Validation Loss: 0.011085463472856926\n",
            "\u001b[36m(ClientAppActor pid=438961)\u001b[0m Epoch 1/1, Train Loss: 0.011094004063322992, Validation Loss: 0.010493367502931505\n",
            "\u001b[36m(ClientAppActor pid=438961)\u001b[0m Epoch 1/1, Train Loss: 0.011663993211961028, Validation Loss: 0.01258743411073318\n",
            "\u001b[36m(ClientAppActor pid=438961)\u001b[0m Epoch 1/1, Train Loss: 0.011202509289072586, Validation Loss: 0.010779838238914426\n",
            "\u001b[36m(ClientAppActor pid=438961)\u001b[0m Epoch 1/1, Train Loss: 0.01152790322586304, Validation Loss: 0.010569380578370048\n",
            "\u001b[36m(ClientAppActor pid=438961)\u001b[0m Epoch 1/1, Train Loss: 0.011032386646043547, Validation Loss: 0.010856713239963237\n",
            "\u001b[36m(ClientAppActor pid=438961)\u001b[0m Epoch 1/1, Train Loss: 0.011329514564632779, Validation Loss: 0.010789892725789776\n"
          ]
        },
        {
          "name": "stderr",
          "output_type": "stream",
          "text": [
            "\u001b[92mINFO \u001b[0m:      aggregate_fit: received 10 results and 0 failures\n",
            "\u001b[92mINFO \u001b[0m:      configure_evaluate: strategy sampled 5 clients (out of 10)\n"
          ]
        },
        {
          "name": "stdout",
          "output_type": "stream",
          "text": [
            "\u001b[36m(ClientAppActor pid=438961)\u001b[0m Epoch 1/1, Train Loss: 0.010874699510744597, Validation Loss: 0.011027514862899598\n"
          ]
        },
        {
          "name": "stderr",
          "output_type": "stream",
          "text": [
            "\u001b[92mINFO \u001b[0m:      aggregate_evaluate: received 5 results and 0 failures\n",
            "\u001b[92mINFO \u001b[0m:      \n",
            "\u001b[92mINFO \u001b[0m:      [ROUND 27]\n",
            "\u001b[92mINFO \u001b[0m:      configure_fit: strategy sampled 10 clients (out of 10)\n"
          ]
        },
        {
          "name": "stdout",
          "output_type": "stream",
          "text": [
            "\u001b[36m(ClientAppActor pid=438961)\u001b[0m Epoch 1/1, Train Loss: 0.011206516857710805, Validation Loss: 0.010508101558885895\n",
            "\u001b[36m(ClientAppActor pid=438961)\u001b[0m Epoch 1/1, Train Loss: 0.011524755364781853, Validation Loss: 0.010957137789004125\n",
            "\u001b[36m(ClientAppActor pid=438961)\u001b[0m Epoch 1/1, Train Loss: 0.011705093805005055, Validation Loss: 0.01035512899621748\n",
            "\u001b[36m(ClientAppActor pid=438961)\u001b[0m Epoch 1/1, Train Loss: 0.011079735071905473, Validation Loss: 0.011065317819324823\n",
            "\u001b[36m(ClientAppActor pid=438961)\u001b[0m Epoch 1/1, Train Loss: 0.011642522980818654, Validation Loss: 0.011168215459642502\n",
            "\u001b[36m(ClientAppActor pid=438961)\u001b[0m Epoch 1/1, Train Loss: 0.011159671276881554, Validation Loss: 0.010991661415363733\n",
            "\u001b[36m(ClientAppActor pid=438961)\u001b[0m Epoch 1/1, Train Loss: 0.011369738903007295, Validation Loss: 0.010245678391164312\n",
            "\u001b[36m(ClientAppActor pid=438961)\u001b[0m Epoch 1/1, Train Loss: 0.01087732298189018, Validation Loss: 0.01274724741681264\n",
            "\u001b[36m(ClientAppActor pid=438961)\u001b[0m Epoch 1/1, Train Loss: 0.011332177824460634, Validation Loss: 0.012340891891374038\n"
          ]
        },
        {
          "name": "stderr",
          "output_type": "stream",
          "text": [
            "\u001b[92mINFO \u001b[0m:      aggregate_fit: received 10 results and 0 failures\n",
            "\u001b[92mINFO \u001b[0m:      configure_evaluate: strategy sampled 5 clients (out of 10)\n"
          ]
        },
        {
          "name": "stdout",
          "output_type": "stream",
          "text": [
            "\u001b[36m(ClientAppActor pid=438961)\u001b[0m Epoch 1/1, Train Loss: 0.010879730510682162, Validation Loss: 0.010963868188600127\n"
          ]
        },
        {
          "name": "stderr",
          "output_type": "stream",
          "text": [
            "\u001b[92mINFO \u001b[0m:      aggregate_evaluate: received 5 results and 0 failures\n",
            "\u001b[92mINFO \u001b[0m:      \n",
            "\u001b[92mINFO \u001b[0m:      [ROUND 28]\n",
            "\u001b[92mINFO \u001b[0m:      configure_fit: strategy sampled 10 clients (out of 10)\n"
          ]
        },
        {
          "name": "stdout",
          "output_type": "stream",
          "text": [
            "\u001b[36m(ClientAppActor pid=438961)\u001b[0m Epoch 1/1, Train Loss: 0.011367336892993143, Validation Loss: 0.010626041813968467\n",
            "\u001b[36m(ClientAppActor pid=438961)\u001b[0m Epoch 1/1, Train Loss: 0.011325873028818923, Validation Loss: 0.010670310280357417\n",
            "\u001b[36m(ClientAppActor pid=438961)\u001b[0m Epoch 1/1, Train Loss: 0.011719232780102751, Validation Loss: 0.010747304275775185\n",
            "\u001b[36m(ClientAppActor pid=438961)\u001b[0m Epoch 1/1, Train Loss: 0.011195053789063845, Validation Loss: 0.011652257150182357\n",
            "\u001b[36m(ClientAppActor pid=438961)\u001b[0m Epoch 1/1, Train Loss: 0.011519148618462358, Validation Loss: 0.010642514886477819\n",
            "\u001b[36m(ClientAppActor pid=438961)\u001b[0m Epoch 1/1, Train Loss: 0.010829144655404115, Validation Loss: 0.010700700195649495\n",
            "\u001b[36m(ClientAppActor pid=438961)\u001b[0m Epoch 1/1, Train Loss: 0.01124191078089989, Validation Loss: 0.010343510872469498\n",
            "\u001b[36m(ClientAppActor pid=438961)\u001b[0m Epoch 1/1, Train Loss: 0.010940174853410756, Validation Loss: 0.010420045743768033\n",
            "\u001b[36m(ClientAppActor pid=438961)\u001b[0m Epoch 1/1, Train Loss: 0.011169278570035896, Validation Loss: 0.010681969794229819\n"
          ]
        },
        {
          "name": "stderr",
          "output_type": "stream",
          "text": [
            "\u001b[92mINFO \u001b[0m:      aggregate_fit: received 10 results and 0 failures\n",
            "\u001b[92mINFO \u001b[0m:      configure_evaluate: strategy sampled 5 clients (out of 10)\n"
          ]
        },
        {
          "name": "stdout",
          "output_type": "stream",
          "text": [
            "\u001b[36m(ClientAppActor pid=438961)\u001b[0m Epoch 1/1, Train Loss: 0.01092299392059593, Validation Loss: 0.012128062814903947\n"
          ]
        },
        {
          "name": "stderr",
          "output_type": "stream",
          "text": [
            "\u001b[92mINFO \u001b[0m:      aggregate_evaluate: received 5 results and 0 failures\n",
            "\u001b[92mINFO \u001b[0m:      \n",
            "\u001b[92mINFO \u001b[0m:      [ROUND 29]\n",
            "\u001b[92mINFO \u001b[0m:      configure_fit: strategy sampled 10 clients (out of 10)\n"
          ]
        },
        {
          "name": "stdout",
          "output_type": "stream",
          "text": [
            "\u001b[36m(ClientAppActor pid=438961)\u001b[0m Epoch 1/1, Train Loss: 0.011538845293297626, Validation Loss: 0.011146286466660408\n",
            "\u001b[36m(ClientAppActor pid=438961)\u001b[0m Epoch 1/1, Train Loss: 0.011460056689816832, Validation Loss: 0.010700060233760338\n",
            "\u001b[36m(ClientAppActor pid=438961)\u001b[0m Epoch 1/1, Train Loss: 0.011582707437585191, Validation Loss: 0.012749824243096205\n",
            "\u001b[36m(ClientAppActor pid=438961)\u001b[0m Epoch 1/1, Train Loss: 0.011664866479021489, Validation Loss: 0.010290494976708522\n",
            "\u001b[36m(ClientAppActor pid=438961)\u001b[0m Epoch 1/1, Train Loss: 0.011289025772141643, Validation Loss: 0.011440507458666196\n",
            "\u001b[36m(ClientAppActor pid=438961)\u001b[0m Epoch 1/1, Train Loss: 0.011006634922163321, Validation Loss: 0.011332252779259132\n",
            "\u001b[36m(ClientAppActor pid=438961)\u001b[0m Epoch 1/1, Train Loss: 0.011313138193091248, Validation Loss: 0.010415797157642933\n",
            "\u001b[36m(ClientAppActor pid=438961)\u001b[0m Epoch 1/1, Train Loss: 0.010811527499394251, Validation Loss: 0.013198100281162905\n",
            "\u001b[36m(ClientAppActor pid=438961)\u001b[0m Epoch 1/1, Train Loss: 0.01138104124474201, Validation Loss: 0.010162007851669421\n"
          ]
        },
        {
          "name": "stderr",
          "output_type": "stream",
          "text": [
            "\u001b[92mINFO \u001b[0m:      aggregate_fit: received 10 results and 0 failures\n",
            "\u001b[92mINFO \u001b[0m:      configure_evaluate: strategy sampled 5 clients (out of 10)\n"
          ]
        },
        {
          "name": "stdout",
          "output_type": "stream",
          "text": [
            "\u001b[36m(ClientAppActor pid=438961)\u001b[0m Epoch 1/1, Train Loss: 0.010887633474303944, Validation Loss: 0.011635388140208446\n"
          ]
        },
        {
          "name": "stderr",
          "output_type": "stream",
          "text": [
            "\u001b[92mINFO \u001b[0m:      aggregate_evaluate: received 5 results and 0 failures\n",
            "\u001b[92mINFO \u001b[0m:      \n",
            "\u001b[92mINFO \u001b[0m:      [ROUND 30]\n",
            "\u001b[92mINFO \u001b[0m:      configure_fit: strategy sampled 10 clients (out of 10)\n"
          ]
        },
        {
          "name": "stdout",
          "output_type": "stream",
          "text": [
            "\u001b[36m(ClientAppActor pid=438961)\u001b[0m Epoch 1/1, Train Loss: 0.01129869189998596, Validation Loss: 0.011533725182884015\n",
            "\u001b[36m(ClientAppActor pid=438961)\u001b[0m Epoch 1/1, Train Loss: 0.011342272844792592, Validation Loss: 0.011004297761246562\n",
            "\u001b[36m(ClientAppActor pid=438961)\u001b[0m Epoch 1/1, Train Loss: 0.01157557305944438, Validation Loss: 0.010633394910165897\n",
            "\u001b[36m(ClientAppActor pid=438961)\u001b[0m Epoch 1/1, Train Loss: 0.011018269833656821, Validation Loss: 0.010988283293465009\n",
            "\u001b[36m(ClientAppActor pid=438961)\u001b[0m Epoch 1/1, Train Loss: 0.01146765541063972, Validation Loss: 0.010269116484918274\n",
            "\u001b[36m(ClientAppActor pid=438961)\u001b[0m Epoch 1/1, Train Loss: 0.01120725357075139, Validation Loss: 0.01080055651254952\n",
            "\u001b[36m(ClientAppActor pid=438961)\u001b[0m Epoch 1/1, Train Loss: 0.011360850291197547, Validation Loss: 0.010174398095561909\n",
            "\u001b[36m(ClientAppActor pid=438961)\u001b[0m Epoch 1/1, Train Loss: 0.010816970397487725, Validation Loss: 0.011636978534695048\n",
            "\u001b[36m(ClientAppActor pid=438961)\u001b[0m Epoch 1/1, Train Loss: 0.011365711200281535, Validation Loss: 0.011082797239606198\n"
          ]
        },
        {
          "name": "stderr",
          "output_type": "stream",
          "text": [
            "\u001b[92mINFO \u001b[0m:      aggregate_fit: received 10 results and 0 failures\n",
            "\u001b[92mINFO \u001b[0m:      configure_evaluate: strategy sampled 5 clients (out of 10)\n"
          ]
        },
        {
          "name": "stdout",
          "output_type": "stream",
          "text": [
            "\u001b[36m(ClientAppActor pid=438961)\u001b[0m Epoch 1/1, Train Loss: 0.010805187709998377, Validation Loss: 0.011067301249847962\n"
          ]
        },
        {
          "name": "stderr",
          "output_type": "stream",
          "text": [
            "\u001b[92mINFO \u001b[0m:      aggregate_evaluate: received 5 results and 0 failures\n",
            "\u001b[92mINFO \u001b[0m:      \n",
            "\u001b[92mINFO \u001b[0m:      [ROUND 31]\n",
            "\u001b[92mINFO \u001b[0m:      configure_fit: strategy sampled 10 clients (out of 10)\n"
          ]
        },
        {
          "name": "stdout",
          "output_type": "stream",
          "text": [
            "\u001b[36m(ClientAppActor pid=438961)\u001b[0m Epoch 1/1, Train Loss: 0.011115186949177543, Validation Loss: 0.012030400407428924\n",
            "\u001b[36m(ClientAppActor pid=438961)\u001b[0m Epoch 1/1, Train Loss: 0.011386202081189593, Validation Loss: 0.010524563992825838\n",
            "\u001b[36m(ClientAppActor pid=438961)\u001b[0m Epoch 1/1, Train Loss: 0.011801169807146681, Validation Loss: 0.010425027871790987\n",
            "\u001b[36m(ClientAppActor pid=438961)\u001b[0m Epoch 1/1, Train Loss: 0.011021778628340747, Validation Loss: 0.012397600355773019\n",
            "\u001b[36m(ClientAppActor pid=438961)\u001b[0m Epoch 1/1, Train Loss: 0.011550133679025245, Validation Loss: 0.01084388903557108\n",
            "\u001b[36m(ClientAppActor pid=438961)\u001b[0m Epoch 1/1, Train Loss: 0.011026822791278068, Validation Loss: 0.01210817128706437\n",
            "\u001b[36m(ClientAppActor pid=438961)\u001b[0m Epoch 1/1, Train Loss: 0.011219427810225746, Validation Loss: 0.010554031522658009\n",
            "\u001b[36m(ClientAppActor pid=438961)\u001b[0m Epoch 1/1, Train Loss: 0.010850377694362461, Validation Loss: 0.010789589419101294\n",
            "\u001b[36m(ClientAppActor pid=438961)\u001b[0m Epoch 1/1, Train Loss: 0.011272215150702413, Validation Loss: 0.01051892850619669\n"
          ]
        },
        {
          "name": "stderr",
          "output_type": "stream",
          "text": [
            "\u001b[92mINFO \u001b[0m:      aggregate_fit: received 10 results and 0 failures\n",
            "\u001b[92mINFO \u001b[0m:      configure_evaluate: strategy sampled 5 clients (out of 10)\n"
          ]
        },
        {
          "name": "stdout",
          "output_type": "stream",
          "text": [
            "\u001b[36m(ClientAppActor pid=438961)\u001b[0m Epoch 1/1, Train Loss: 0.010954626430157977, Validation Loss: 0.010817775341610495\n"
          ]
        },
        {
          "name": "stderr",
          "output_type": "stream",
          "text": [
            "\u001b[92mINFO \u001b[0m:      aggregate_evaluate: received 5 results and 0 failures\n",
            "\u001b[92mINFO \u001b[0m:      \n",
            "\u001b[92mINFO \u001b[0m:      [ROUND 32]\n",
            "\u001b[92mINFO \u001b[0m:      configure_fit: strategy sampled 10 clients (out of 10)\n"
          ]
        },
        {
          "name": "stdout",
          "output_type": "stream",
          "text": [
            "\u001b[36m(ClientAppActor pid=438961)\u001b[0m Epoch 1/1, Train Loss: 0.011203592924382721, Validation Loss: 0.011313251739081282\n",
            "\u001b[36m(ClientAppActor pid=438961)\u001b[0m Epoch 1/1, Train Loss: 0.011224408223671784, Validation Loss: 0.010682752141012596\n",
            "\u001b[36m(ClientAppActor pid=438961)\u001b[0m Epoch 1/1, Train Loss: 0.011610658267642012, Validation Loss: 0.011153438361361623\n",
            "\u001b[36m(ClientAppActor pid=438961)\u001b[0m Epoch 1/1, Train Loss: 0.011088034788165058, Validation Loss: 0.011011024077351276\n",
            "\u001b[36m(ClientAppActor pid=438961)\u001b[0m Epoch 1/1, Train Loss: 0.011449172461202533, Validation Loss: 0.01061958407696623\n",
            "\u001b[36m(ClientAppActor pid=438961)\u001b[0m Epoch 1/1, Train Loss: 0.011028559689437695, Validation Loss: 0.010706155811651396\n",
            "\u001b[36m(ClientAppActor pid=438961)\u001b[0m Epoch 1/1, Train Loss: 0.011047957926103384, Validation Loss: 0.010361209565487046\n",
            "\u001b[36m(ClientAppActor pid=438961)\u001b[0m Epoch 1/1, Train Loss: 0.01103636721093761, Validation Loss: 0.010399407617604503\n",
            "\u001b[36m(ClientAppActor pid=438961)\u001b[0m Epoch 1/1, Train Loss: 0.011170987763654182, Validation Loss: 0.010577582539274143\n"
          ]
        },
        {
          "name": "stderr",
          "output_type": "stream",
          "text": [
            "\u001b[92mINFO \u001b[0m:      aggregate_fit: received 10 results and 0 failures\n",
            "\u001b[92mINFO \u001b[0m:      configure_evaluate: strategy sampled 5 clients (out of 10)\n"
          ]
        },
        {
          "name": "stdout",
          "output_type": "stream",
          "text": [
            "\u001b[36m(ClientAppActor pid=438961)\u001b[0m Epoch 1/1, Train Loss: 0.010673152398096748, Validation Loss: 0.010778161195608286\n"
          ]
        },
        {
          "name": "stderr",
          "output_type": "stream",
          "text": [
            "\u001b[92mINFO \u001b[0m:      aggregate_evaluate: received 5 results and 0 failures\n",
            "\u001b[92mINFO \u001b[0m:      \n",
            "\u001b[92mINFO \u001b[0m:      [ROUND 33]\n",
            "\u001b[92mINFO \u001b[0m:      configure_fit: strategy sampled 10 clients (out of 10)\n"
          ]
        },
        {
          "name": "stdout",
          "output_type": "stream",
          "text": [
            "\u001b[36m(ClientAppActor pid=438961)\u001b[0m Epoch 1/1, Train Loss: 0.011397080744920981, Validation Loss: 0.012443316455643911\n",
            "\u001b[36m(ClientAppActor pid=438961)\u001b[0m Epoch 1/1, Train Loss: 0.011633014509288392, Validation Loss: 0.010693071589160424\n",
            "\u001b[36m(ClientAppActor pid=438961)\u001b[0m Epoch 1/1, Train Loss: 0.011467304435733816, Validation Loss: 0.010147144409039846\n",
            "\u001b[36m(ClientAppActor pid=438961)\u001b[0m Epoch 1/1, Train Loss: 0.01115586148980673, Validation Loss: 0.010997131986256976\n",
            "\u001b[36m(ClientAppActor pid=438961)\u001b[0m Epoch 1/1, Train Loss: 0.011373575371090728, Validation Loss: 0.010916445278920807\n",
            "\u001b[36m(ClientAppActor pid=438961)\u001b[0m Epoch 1/1, Train Loss: 0.011109299478259418, Validation Loss: 0.011650970062384238\n",
            "\u001b[36m(ClientAppActor pid=438961)\u001b[0m Epoch 1/1, Train Loss: 0.011210818032706432, Validation Loss: 0.010200564194327364\n",
            "\u001b[36m(ClientAppActor pid=438961)\u001b[0m Epoch 1/1, Train Loss: 0.010860459828325132, Validation Loss: 0.010216841492085503\n",
            "\u001b[36m(ClientAppActor pid=438961)\u001b[0m Epoch 1/1, Train Loss: 0.011057390158276746, Validation Loss: 0.010405789845837997\n"
          ]
        },
        {
          "name": "stderr",
          "output_type": "stream",
          "text": [
            "\u001b[92mINFO \u001b[0m:      aggregate_fit: received 10 results and 0 failures\n",
            "\u001b[92mINFO \u001b[0m:      configure_evaluate: strategy sampled 5 clients (out of 10)\n"
          ]
        },
        {
          "name": "stdout",
          "output_type": "stream",
          "text": [
            "\u001b[36m(ClientAppActor pid=438961)\u001b[0m Epoch 1/1, Train Loss: 0.010633604587194059, Validation Loss: 0.01189373154193163\n"
          ]
        },
        {
          "name": "stderr",
          "output_type": "stream",
          "text": [
            "\u001b[92mINFO \u001b[0m:      aggregate_evaluate: received 5 results and 0 failures\n",
            "\u001b[92mINFO \u001b[0m:      \n",
            "\u001b[92mINFO \u001b[0m:      [ROUND 34]\n",
            "\u001b[92mINFO \u001b[0m:      configure_fit: strategy sampled 10 clients (out of 10)\n"
          ]
        },
        {
          "name": "stdout",
          "output_type": "stream",
          "text": [
            "\u001b[36m(ClientAppActor pid=438961)\u001b[0m Epoch 1/1, Train Loss: 0.011238817973892288, Validation Loss: 0.011607605211723309\n",
            "\u001b[36m(ClientAppActor pid=438961)\u001b[0m Epoch 1/1, Train Loss: 0.011405338016845802, Validation Loss: 0.012108823284506798\n",
            "\u001b[36m(ClientAppActor pid=438961)\u001b[0m Epoch 1/1, Train Loss: 0.011648940844553531, Validation Loss: 0.010295867310980191\n",
            "\u001b[36m(ClientAppActor pid=438961)\u001b[0m Epoch 1/1, Train Loss: 0.01125873925883581, Validation Loss: 0.01060193066055385\n",
            "\u001b[36m(ClientAppActor pid=438961)\u001b[0m Epoch 1/1, Train Loss: 0.011596273630857468, Validation Loss: 0.01082175262630559\n",
            "\u001b[36m(ClientAppActor pid=438961)\u001b[0m Epoch 1/1, Train Loss: 0.011180584374261966, Validation Loss: 0.011387894933040325\n",
            "\u001b[36m(ClientAppActor pid=438961)\u001b[0m Epoch 1/1, Train Loss: 0.011103776799939057, Validation Loss: 0.01017698385896018\n",
            "\u001b[36m(ClientAppActor pid=438961)\u001b[0m Epoch 1/1, Train Loss: 0.010863729240833828, Validation Loss: 0.012043413061362047\n",
            "\u001b[36m(ClientAppActor pid=438961)\u001b[0m Epoch 1/1, Train Loss: 0.0113353362620467, Validation Loss: 0.010446259250434546\n"
          ]
        },
        {
          "name": "stderr",
          "output_type": "stream",
          "text": [
            "\u001b[92mINFO \u001b[0m:      aggregate_fit: received 10 results and 0 failures\n",
            "\u001b[92mINFO \u001b[0m:      configure_evaluate: strategy sampled 5 clients (out of 10)\n"
          ]
        },
        {
          "name": "stdout",
          "output_type": "stream",
          "text": [
            "\u001b[36m(ClientAppActor pid=438961)\u001b[0m Epoch 1/1, Train Loss: 0.010700611867895811, Validation Loss: 0.01076270815414878\n"
          ]
        },
        {
          "name": "stderr",
          "output_type": "stream",
          "text": [
            "\u001b[92mINFO \u001b[0m:      aggregate_evaluate: received 5 results and 0 failures\n",
            "\u001b[92mINFO \u001b[0m:      \n",
            "\u001b[92mINFO \u001b[0m:      [ROUND 35]\n",
            "\u001b[92mINFO \u001b[0m:      configure_fit: strategy sampled 10 clients (out of 10)\n"
          ]
        },
        {
          "name": "stdout",
          "output_type": "stream",
          "text": [
            "\u001b[36m(ClientAppActor pid=438961)\u001b[0m Epoch 1/1, Train Loss: 0.01118914979408578, Validation Loss: 0.010922851148419656\n",
            "\u001b[36m(ClientAppActor pid=438961)\u001b[0m Epoch 1/1, Train Loss: 0.01133001334319758, Validation Loss: 0.010363539645018486\n",
            "\u001b[36m(ClientAppActor pid=438961)\u001b[0m Epoch 1/1, Train Loss: 0.0114045634976413, Validation Loss: 0.010385490434530836\n",
            "\u001b[36m(ClientAppActor pid=438961)\u001b[0m Epoch 1/1, Train Loss: 0.010886222027279067, Validation Loss: 0.011569038087215561\n",
            "\u001b[36m(ClientAppActor pid=438961)\u001b[0m Epoch 1/1, Train Loss: 0.01140071767483755, Validation Loss: 0.012059277317558344\n",
            "\u001b[36m(ClientAppActor pid=438961)\u001b[0m Epoch 1/1, Train Loss: 0.011084427287119746, Validation Loss: 0.010862658409258494\n",
            "\u001b[36m(ClientAppActor pid=438961)\u001b[0m Epoch 1/1, Train Loss: 0.011156196682944451, Validation Loss: 0.011090458908046667\n",
            "\u001b[36m(ClientAppActor pid=438961)\u001b[0m Epoch 1/1, Train Loss: 0.01091848514826581, Validation Loss: 0.010746459167701406\n",
            "\u001b[36m(ClientAppActor pid=438961)\u001b[0m Epoch 1/1, Train Loss: 0.011037481584503213, Validation Loss: 0.010252627167994013\n"
          ]
        },
        {
          "name": "stderr",
          "output_type": "stream",
          "text": [
            "\u001b[92mINFO \u001b[0m:      aggregate_fit: received 10 results and 0 failures\n",
            "\u001b[92mINFO \u001b[0m:      configure_evaluate: strategy sampled 5 clients (out of 10)\n"
          ]
        },
        {
          "name": "stdout",
          "output_type": "stream",
          "text": [
            "\u001b[36m(ClientAppActor pid=438961)\u001b[0m Epoch 1/1, Train Loss: 0.010773417558336612, Validation Loss: 0.010374627828311462\n"
          ]
        },
        {
          "name": "stderr",
          "output_type": "stream",
          "text": [
            "\u001b[92mINFO \u001b[0m:      aggregate_evaluate: received 5 results and 0 failures\n",
            "\u001b[92mINFO \u001b[0m:      \n",
            "\u001b[92mINFO \u001b[0m:      [ROUND 36]\n",
            "\u001b[92mINFO \u001b[0m:      configure_fit: strategy sampled 10 clients (out of 10)\n"
          ]
        },
        {
          "name": "stdout",
          "output_type": "stream",
          "text": [
            "\u001b[36m(ClientAppActor pid=438961)\u001b[0m Epoch 1/1, Train Loss: 0.011103876903284304, Validation Loss: 0.010397554052850375\n",
            "\u001b[36m(ClientAppActor pid=438961)\u001b[0m Epoch 1/1, Train Loss: 0.011367924041160852, Validation Loss: 0.0116833675151261\n",
            "\u001b[36m(ClientAppActor pid=438961)\u001b[0m Epoch 1/1, Train Loss: 0.011355655604401733, Validation Loss: 0.010359426136486806\n",
            "\u001b[36m(ClientAppActor pid=438961)\u001b[0m Epoch 1/1, Train Loss: 0.011078943904157323, Validation Loss: 0.011937869999271173\n",
            "\u001b[36m(ClientAppActor pid=438961)\u001b[0m Epoch 1/1, Train Loss: 0.011592685355629661, Validation Loss: 0.01049574718882258\n",
            "\u001b[36m(ClientAppActor pid=438961)\u001b[0m Epoch 1/1, Train Loss: 0.01122012224029934, Validation Loss: 0.012336367096465368\n",
            "\u001b[36m(ClientAppActor pid=438961)\u001b[0m Epoch 1/1, Train Loss: 0.011137431547377664, Validation Loss: 0.010345103577352487\n",
            "\u001b[36m(ClientAppActor pid=438961)\u001b[0m Epoch 1/1, Train Loss: 0.010616910616212552, Validation Loss: 0.010053372709080577\n",
            "\u001b[36m(ClientAppActor pid=438961)\u001b[0m Epoch 1/1, Train Loss: 0.011011220768352252, Validation Loss: 0.010439572031967916\n"
          ]
        },
        {
          "name": "stderr",
          "output_type": "stream",
          "text": [
            "\u001b[92mINFO \u001b[0m:      aggregate_fit: received 10 results and 0 failures\n",
            "\u001b[92mINFO \u001b[0m:      configure_evaluate: strategy sampled 5 clients (out of 10)\n"
          ]
        },
        {
          "name": "stdout",
          "output_type": "stream",
          "text": [
            "\u001b[36m(ClientAppActor pid=438961)\u001b[0m Epoch 1/1, Train Loss: 0.010596470755183756, Validation Loss: 0.011713688046886371\n"
          ]
        },
        {
          "name": "stderr",
          "output_type": "stream",
          "text": [
            "\u001b[92mINFO \u001b[0m:      aggregate_evaluate: received 5 results and 0 failures\n",
            "\u001b[92mINFO \u001b[0m:      \n",
            "\u001b[92mINFO \u001b[0m:      [ROUND 37]\n",
            "\u001b[92mINFO \u001b[0m:      configure_fit: strategy sampled 10 clients (out of 10)\n"
          ]
        },
        {
          "name": "stdout",
          "output_type": "stream",
          "text": [
            "\u001b[36m(ClientAppActor pid=438961)\u001b[0m Epoch 1/1, Train Loss: 0.011190677587274867, Validation Loss: 0.011605312080624012\n",
            "\u001b[36m(ClientAppActor pid=438961)\u001b[0m Epoch 1/1, Train Loss: 0.011344813810901182, Validation Loss: 0.011144006803918343\n",
            "\u001b[36m(ClientAppActor pid=438961)\u001b[0m Epoch 1/1, Train Loss: 0.011364539186147476, Validation Loss: 0.010546485499407236\n",
            "\u001b[36m(ClientAppActor pid=438961)\u001b[0m Epoch 1/1, Train Loss: 0.011027316821019838, Validation Loss: 0.010913138009177951\n",
            "\u001b[36m(ClientAppActor pid=438961)\u001b[0m Epoch 1/1, Train Loss: 0.011699745426931888, Validation Loss: 0.012218993730269946\n",
            "\u001b[36m(ClientAppActor pid=438961)\u001b[0m Epoch 1/1, Train Loss: 0.011171571827392177, Validation Loss: 0.010416377174596373\n",
            "\u001b[36m(ClientAppActor pid=438961)\u001b[0m Epoch 1/1, Train Loss: 0.011013307853020949, Validation Loss: 0.010211435755571494\n",
            "\u001b[36m(ClientAppActor pid=438961)\u001b[0m Epoch 1/1, Train Loss: 0.010704892761267648, Validation Loss: 0.010138344574862948\n",
            "\u001b[36m(ClientAppActor pid=438961)\u001b[0m Epoch 1/1, Train Loss: 0.011117921312256614, Validation Loss: 0.010677272024062963\n"
          ]
        },
        {
          "name": "stderr",
          "output_type": "stream",
          "text": [
            "\u001b[92mINFO \u001b[0m:      aggregate_fit: received 10 results and 0 failures\n",
            "\u001b[92mINFO \u001b[0m:      configure_evaluate: strategy sampled 5 clients (out of 10)\n"
          ]
        },
        {
          "name": "stdout",
          "output_type": "stream",
          "text": [
            "\u001b[36m(ClientAppActor pid=438961)\u001b[0m Epoch 1/1, Train Loss: 0.010948180368557424, Validation Loss: 0.012718617414625792\n"
          ]
        },
        {
          "name": "stderr",
          "output_type": "stream",
          "text": [
            "\u001b[92mINFO \u001b[0m:      aggregate_evaluate: received 5 results and 0 failures\n",
            "\u001b[92mINFO \u001b[0m:      \n",
            "\u001b[92mINFO \u001b[0m:      [ROUND 38]\n",
            "\u001b[92mINFO \u001b[0m:      configure_fit: strategy sampled 10 clients (out of 10)\n"
          ]
        },
        {
          "name": "stdout",
          "output_type": "stream",
          "text": [
            "\u001b[36m(ClientAppActor pid=438961)\u001b[0m Epoch 1/1, Train Loss: 0.011015435745294141, Validation Loss: 0.010544769286822814\n",
            "\u001b[36m(ClientAppActor pid=438961)\u001b[0m Epoch 1/1, Train Loss: 0.011283414203230993, Validation Loss: 0.010614476274125852\n",
            "\u001b[36m(ClientAppActor pid=438961)\u001b[0m Epoch 1/1, Train Loss: 0.01141981490528082, Validation Loss: 0.010118506159275197\n",
            "\u001b[36m(ClientAppActor pid=438961)\u001b[0m Epoch 1/1, Train Loss: 0.01085260031873932, Validation Loss: 0.011432000829909857\n",
            "\u001b[36m(ClientAppActor pid=438961)\u001b[0m Epoch 1/1, Train Loss: 0.011345335937077455, Validation Loss: 0.012054665193248253\n",
            "\u001b[36m(ClientAppActor pid=438961)\u001b[0m Epoch 1/1, Train Loss: 0.01088442913450227, Validation Loss: 0.010785367662230363\n",
            "\u001b[36m(ClientAppActor pid=438961)\u001b[0m Epoch 1/1, Train Loss: 0.011183855686299872, Validation Loss: 0.018448602264890306\n",
            "\u001b[36m(ClientAppActor pid=438961)\u001b[0m Epoch 1/1, Train Loss: 0.010627218245500974, Validation Loss: 0.010331092259058585\n",
            "\u001b[36m(ClientAppActor pid=438961)\u001b[0m Epoch 1/1, Train Loss: 0.011577326998040817, Validation Loss: 0.01012076299565916\n"
          ]
        },
        {
          "name": "stderr",
          "output_type": "stream",
          "text": [
            "\u001b[92mINFO \u001b[0m:      aggregate_fit: received 10 results and 0 failures\n",
            "\u001b[92mINFO \u001b[0m:      configure_evaluate: strategy sampled 5 clients (out of 10)\n"
          ]
        },
        {
          "name": "stdout",
          "output_type": "stream",
          "text": [
            "\u001b[36m(ClientAppActor pid=438961)\u001b[0m Epoch 1/1, Train Loss: 0.010478618245866924, Validation Loss: 0.010908797275848113\n"
          ]
        },
        {
          "name": "stderr",
          "output_type": "stream",
          "text": [
            "\u001b[92mINFO \u001b[0m:      aggregate_evaluate: received 5 results and 0 failures\n",
            "\u001b[92mINFO \u001b[0m:      \n",
            "\u001b[92mINFO \u001b[0m:      [ROUND 39]\n",
            "\u001b[92mINFO \u001b[0m:      configure_fit: strategy sampled 10 clients (out of 10)\n"
          ]
        },
        {
          "name": "stdout",
          "output_type": "stream",
          "text": [
            "\u001b[36m(ClientAppActor pid=438961)\u001b[0m Epoch 1/1, Train Loss: 0.01119417800466613, Validation Loss: 0.012284898593162116\n",
            "\u001b[36m(ClientAppActor pid=438961)\u001b[0m Epoch 1/1, Train Loss: 0.011226099164289708, Validation Loss: 0.010736275768767182\n",
            "\u001b[36m(ClientAppActor pid=438961)\u001b[0m Epoch 1/1, Train Loss: 0.011380396409900767, Validation Loss: 0.010440013335587887\n",
            "\u001b[36m(ClientAppActor pid=438961)\u001b[0m Epoch 1/1, Train Loss: 0.01092198743291273, Validation Loss: 0.012004348521049205\n",
            "\u001b[36m(ClientAppActor pid=438961)\u001b[0m Epoch 1/1, Train Loss: 0.011232437994699963, Validation Loss: 0.011575754212502103\n",
            "\u001b[36m(ClientAppActor pid=438961)\u001b[0m Epoch 1/1, Train Loss: 0.011037848774565033, Validation Loss: 0.010716057991465697\n",
            "\u001b[36m(ClientAppActor pid=438961)\u001b[0m Epoch 1/1, Train Loss: 0.011060687326042368, Validation Loss: 0.009906245144800497\n",
            "\u001b[36m(ClientAppActor pid=438961)\u001b[0m Epoch 1/1, Train Loss: 0.010910552732720234, Validation Loss: 0.011299354489892721\n",
            "\u001b[36m(ClientAppActor pid=438961)\u001b[0m Epoch 1/1, Train Loss: 0.01114187060882992, Validation Loss: 0.014118156037651576\n"
          ]
        },
        {
          "name": "stderr",
          "output_type": "stream",
          "text": [
            "\u001b[92mINFO \u001b[0m:      aggregate_fit: received 10 results and 0 failures\n",
            "\u001b[92mINFO \u001b[0m:      configure_evaluate: strategy sampled 5 clients (out of 10)\n"
          ]
        },
        {
          "name": "stdout",
          "output_type": "stream",
          "text": [
            "\u001b[36m(ClientAppActor pid=438961)\u001b[0m Epoch 1/1, Train Loss: 0.010743160676764379, Validation Loss: 0.010578789210949954\n"
          ]
        },
        {
          "name": "stderr",
          "output_type": "stream",
          "text": [
            "\u001b[92mINFO \u001b[0m:      aggregate_evaluate: received 5 results and 0 failures\n",
            "\u001b[92mINFO \u001b[0m:      \n",
            "\u001b[92mINFO \u001b[0m:      [ROUND 40]\n",
            "\u001b[92mINFO \u001b[0m:      configure_fit: strategy sampled 10 clients (out of 10)\n"
          ]
        },
        {
          "name": "stdout",
          "output_type": "stream",
          "text": [
            "\u001b[36m(ClientAppActor pid=438961)\u001b[0m Epoch 1/1, Train Loss: 0.011121217373500365, Validation Loss: 0.010155274550645398\n",
            "\u001b[36m(ClientAppActor pid=438961)\u001b[0m Epoch 1/1, Train Loss: 0.011402174899594324, Validation Loss: 0.010550785899305573\n",
            "\u001b[36m(ClientAppActor pid=438961)\u001b[0m Epoch 1/1, Train Loss: 0.011393819529895145, Validation Loss: 0.009876005172442932\n",
            "\u001b[36m(ClientAppActor pid=438961)\u001b[0m Epoch 1/1, Train Loss: 0.011031578594615848, Validation Loss: 0.012525768055079075\n",
            "\u001b[36m(ClientAppActor pid=438961)\u001b[0m Epoch 1/1, Train Loss: 0.011343128117041128, Validation Loss: 0.011121535960298318\n",
            "\u001b[36m(ClientAppActor pid=438961)\u001b[0m Epoch 1/1, Train Loss: 0.011012207361694315, Validation Loss: 0.010647796595898958\n",
            "\u001b[36m(ClientAppActor pid=438961)\u001b[0m Epoch 1/1, Train Loss: 0.011210834999375119, Validation Loss: 0.011091614428621072\n",
            "\u001b[36m(ClientAppActor pid=438961)\u001b[0m Epoch 1/1, Train Loss: 0.010609800641489501, Validation Loss: 0.010015648467322955\n",
            "\u001b[36m(ClientAppActor pid=438961)\u001b[0m Epoch 1/1, Train Loss: 0.011220165519136013, Validation Loss: 0.010497907696005244\n"
          ]
        },
        {
          "name": "stderr",
          "output_type": "stream",
          "text": [
            "\u001b[92mINFO \u001b[0m:      aggregate_fit: received 10 results and 0 failures\n",
            "\u001b[92mINFO \u001b[0m:      configure_evaluate: strategy sampled 5 clients (out of 10)\n"
          ]
        },
        {
          "name": "stdout",
          "output_type": "stream",
          "text": [
            "\u001b[36m(ClientAppActor pid=438961)\u001b[0m Epoch 1/1, Train Loss: 0.010617465790508701, Validation Loss: 0.010707282461225986\n"
          ]
        },
        {
          "name": "stderr",
          "output_type": "stream",
          "text": [
            "\u001b[92mINFO \u001b[0m:      aggregate_evaluate: received 5 results and 0 failures\n",
            "\u001b[92mINFO \u001b[0m:      \n",
            "\u001b[92mINFO \u001b[0m:      [ROUND 41]\n",
            "\u001b[92mINFO \u001b[0m:      configure_fit: strategy sampled 10 clients (out of 10)\n"
          ]
        },
        {
          "name": "stdout",
          "output_type": "stream",
          "text": [
            "\u001b[36m(ClientAppActor pid=438961)\u001b[0m Epoch 1/1, Train Loss: 0.011153087923579877, Validation Loss: 0.010563518099773388\n",
            "\u001b[36m(ClientAppActor pid=438961)\u001b[0m Epoch 1/1, Train Loss: 0.011132333556761836, Validation Loss: 0.01047161234041246\n",
            "\u001b[36m(ClientAppActor pid=438961)\u001b[0m Epoch 1/1, Train Loss: 0.011468155890481897, Validation Loss: 0.009826706543278236\n",
            "\u001b[36m(ClientAppActor pid=438961)\u001b[0m Epoch 1/1, Train Loss: 0.011289207338549124, Validation Loss: 0.01258446928113699\n",
            "\u001b[36m(ClientAppActor pid=438961)\u001b[0m Epoch 1/1, Train Loss: 0.011177160016417798, Validation Loss: 0.010860106728684444\n",
            "\u001b[36m(ClientAppActor pid=438961)\u001b[0m Epoch 1/1, Train Loss: 0.010979831108067295, Validation Loss: 0.01068746903911233\n",
            "\u001b[36m(ClientAppActor pid=438961)\u001b[0m Epoch 1/1, Train Loss: 0.010889276562461464, Validation Loss: 0.01010397535104018\n",
            "\u001b[36m(ClientAppActor pid=438961)\u001b[0m Epoch 1/1, Train Loss: 0.010566050869108426, Validation Loss: 0.010886857393555917\n",
            "\u001b[36m(ClientAppActor pid=438961)\u001b[0m Epoch 1/1, Train Loss: 0.011066796682258644, Validation Loss: 0.011934588591639813\n"
          ]
        },
        {
          "name": "stderr",
          "output_type": "stream",
          "text": [
            "\u001b[92mINFO \u001b[0m:      aggregate_fit: received 10 results and 0 failures\n",
            "\u001b[92mINFO \u001b[0m:      configure_evaluate: strategy sampled 5 clients (out of 10)\n"
          ]
        },
        {
          "name": "stdout",
          "output_type": "stream",
          "text": [
            "\u001b[36m(ClientAppActor pid=438961)\u001b[0m Epoch 1/1, Train Loss: 0.010553285414998484, Validation Loss: 0.011084804812876077\n"
          ]
        },
        {
          "name": "stderr",
          "output_type": "stream",
          "text": [
            "\u001b[92mINFO \u001b[0m:      aggregate_evaluate: received 5 results and 0 failures\n",
            "\u001b[92mINFO \u001b[0m:      \n",
            "\u001b[92mINFO \u001b[0m:      [ROUND 42]\n",
            "\u001b[92mINFO \u001b[0m:      configure_fit: strategy sampled 10 clients (out of 10)\n"
          ]
        },
        {
          "name": "stdout",
          "output_type": "stream",
          "text": [
            "\u001b[36m(ClientAppActor pid=438961)\u001b[0m Epoch 1/1, Train Loss: 0.01105274368391031, Validation Loss: 0.01164993393019988\n",
            "\u001b[36m(ClientAppActor pid=438961)\u001b[0m Epoch 1/1, Train Loss: 0.011223156373984742, Validation Loss: 0.011133075226098299\n",
            "\u001b[36m(ClientAppActor pid=438961)\u001b[0m Epoch 1/1, Train Loss: 0.011191195047617253, Validation Loss: 0.010938057246116491\n",
            "\u001b[36m(ClientAppActor pid=438961)\u001b[0m Epoch 1/1, Train Loss: 0.011316774869429887, Validation Loss: 0.010586534053660356\n",
            "\u001b[36m(ClientAppActor pid=438961)\u001b[0m Epoch 1/1, Train Loss: 0.011308756043747216, Validation Loss: 0.011039159600981154\n",
            "\u001b[36m(ClientAppActor pid=438961)\u001b[0m Epoch 1/1, Train Loss: 0.010914089411755305, Validation Loss: 0.01028035948267923\n",
            "\u001b[36m(ClientAppActor pid=438961)\u001b[0m Epoch 1/1, Train Loss: 0.011034402258620403, Validation Loss: 0.010386506991031079\n",
            "\u001b[36m(ClientAppActor pid=438961)\u001b[0m Epoch 1/1, Train Loss: 0.010732063129175417, Validation Loss: 0.010650907213298174\n",
            "\u001b[36m(ClientAppActor pid=438961)\u001b[0m Epoch 1/1, Train Loss: 0.010878399014472961, Validation Loss: 0.010610843059391929\n"
          ]
        },
        {
          "name": "stderr",
          "output_type": "stream",
          "text": [
            "\u001b[92mINFO \u001b[0m:      aggregate_fit: received 10 results and 0 failures\n",
            "\u001b[92mINFO \u001b[0m:      configure_evaluate: strategy sampled 5 clients (out of 10)\n"
          ]
        },
        {
          "name": "stdout",
          "output_type": "stream",
          "text": [
            "\u001b[36m(ClientAppActor pid=438961)\u001b[0m Epoch 1/1, Train Loss: 0.01054763447696177, Validation Loss: 0.011518137242931586\n"
          ]
        },
        {
          "name": "stderr",
          "output_type": "stream",
          "text": [
            "\u001b[92mINFO \u001b[0m:      aggregate_evaluate: received 5 results and 0 failures\n",
            "\u001b[92mINFO \u001b[0m:      \n",
            "\u001b[92mINFO \u001b[0m:      [ROUND 43]\n",
            "\u001b[92mINFO \u001b[0m:      configure_fit: strategy sampled 10 clients (out of 10)\n"
          ]
        },
        {
          "name": "stdout",
          "output_type": "stream",
          "text": [
            "\u001b[36m(ClientAppActor pid=438961)\u001b[0m Epoch 1/1, Train Loss: 0.011254384053299333, Validation Loss: 0.01035729505551549\n",
            "\u001b[36m(ClientAppActor pid=438961)\u001b[0m Epoch 1/1, Train Loss: 0.01137642227205457, Validation Loss: 0.010382995224342896\n",
            "\u001b[36m(ClientAppActor pid=438961)\u001b[0m Epoch 1/1, Train Loss: 0.011293725350336863, Validation Loss: 0.01082702364342717\n",
            "\u001b[36m(ClientAppActor pid=438961)\u001b[0m Epoch 1/1, Train Loss: 0.011195337150872934, Validation Loss: 0.010810352682780761\n",
            "\u001b[36m(ClientAppActor pid=438961)\u001b[0m Epoch 1/1, Train Loss: 0.011194870595147115, Validation Loss: 0.01071716694591137\n",
            "\u001b[36m(ClientAppActor pid=438961)\u001b[0m Epoch 1/1, Train Loss: 0.010939983978388038, Validation Loss: 0.011181572667108132\n",
            "\u001b[36m(ClientAppActor pid=438961)\u001b[0m Epoch 1/1, Train Loss: 0.011196184525321616, Validation Loss: 0.010188297064115222\n",
            "\u001b[36m(ClientAppActor pid=438961)\u001b[0m Epoch 1/1, Train Loss: 0.010680009200615754, Validation Loss: 0.010606882681783576\n",
            "\u001b[36m(ClientAppActor pid=438961)\u001b[0m Epoch 1/1, Train Loss: 0.010873281673555918, Validation Loss: 0.01223852213185567\n"
          ]
        },
        {
          "name": "stderr",
          "output_type": "stream",
          "text": [
            "\u001b[92mINFO \u001b[0m:      aggregate_fit: received 10 results and 0 failures\n",
            "\u001b[92mINFO \u001b[0m:      configure_evaluate: strategy sampled 5 clients (out of 10)\n"
          ]
        },
        {
          "name": "stdout",
          "output_type": "stream",
          "text": [
            "\u001b[36m(ClientAppActor pid=438961)\u001b[0m Epoch 1/1, Train Loss: 0.01057326244559176, Validation Loss: 0.012530709384009242\n"
          ]
        },
        {
          "name": "stderr",
          "output_type": "stream",
          "text": [
            "\u001b[92mINFO \u001b[0m:      aggregate_evaluate: received 5 results and 0 failures\n",
            "\u001b[92mINFO \u001b[0m:      \n",
            "\u001b[92mINFO \u001b[0m:      [ROUND 44]\n",
            "\u001b[92mINFO \u001b[0m:      configure_fit: strategy sampled 10 clients (out of 10)\n"
          ]
        },
        {
          "name": "stdout",
          "output_type": "stream",
          "text": [
            "\u001b[36m(ClientAppActor pid=438961)\u001b[0m Epoch 1/1, Train Loss: 0.01119831251902598, Validation Loss: 0.010410667361261753\n",
            "\u001b[36m(ClientAppActor pid=438961)\u001b[0m Epoch 1/1, Train Loss: 0.011046277285359873, Validation Loss: 0.010543869539665488\n",
            "\u001b[36m(ClientAppActor pid=438961)\u001b[0m Epoch 1/1, Train Loss: 0.011414577686550593, Validation Loss: 0.010497909110899154\n",
            "\u001b[36m(ClientAppActor pid=438961)\u001b[0m Epoch 1/1, Train Loss: 0.01084705074732699, Validation Loss: 0.011319529874107013\n",
            "\u001b[36m(ClientAppActor pid=438961)\u001b[0m Epoch 1/1, Train Loss: 0.011298883554184496, Validation Loss: 0.010443657385901762\n",
            "\u001b[36m(ClientAppActor pid=438961)\u001b[0m Epoch 1/1, Train Loss: 0.010912114966402549, Validation Loss: 0.012163440517794628\n",
            "\u001b[36m(ClientAppActor pid=438961)\u001b[0m Epoch 1/1, Train Loss: 0.010884047190815505, Validation Loss: 0.01067722959515567\n",
            "\u001b[36m(ClientAppActor pid=438961)\u001b[0m Epoch 1/1, Train Loss: 0.010628764508384288, Validation Loss: 0.010443493294028135\n",
            "\u001b[36m(ClientAppActor pid=438961)\u001b[0m Epoch 1/1, Train Loss: 0.011001875462692857, Validation Loss: 0.009940160133947547\n"
          ]
        },
        {
          "name": "stderr",
          "output_type": "stream",
          "text": [
            "\u001b[92mINFO \u001b[0m:      aggregate_fit: received 10 results and 0 failures\n",
            "\u001b[92mINFO \u001b[0m:      configure_evaluate: strategy sampled 5 clients (out of 10)\n"
          ]
        },
        {
          "name": "stdout",
          "output_type": "stream",
          "text": [
            "\u001b[36m(ClientAppActor pid=438961)\u001b[0m Epoch 1/1, Train Loss: 0.010529081055912937, Validation Loss: 0.010629209886806516\n"
          ]
        },
        {
          "name": "stderr",
          "output_type": "stream",
          "text": [
            "\u001b[92mINFO \u001b[0m:      aggregate_evaluate: received 5 results and 0 failures\n",
            "\u001b[92mINFO \u001b[0m:      \n",
            "\u001b[92mINFO \u001b[0m:      [ROUND 45]\n",
            "\u001b[92mINFO \u001b[0m:      configure_fit: strategy sampled 10 clients (out of 10)\n"
          ]
        },
        {
          "name": "stdout",
          "output_type": "stream",
          "text": [
            "\u001b[36m(ClientAppActor pid=438961)\u001b[0m Epoch 1/1, Train Loss: 0.010920650883586985, Validation Loss: 0.011969140014396263\n",
            "\u001b[36m(ClientAppActor pid=438961)\u001b[0m Epoch 1/1, Train Loss: 0.011262132159185291, Validation Loss: 0.010627121055642\n",
            "\u001b[36m(ClientAppActor pid=438961)\u001b[0m Epoch 1/1, Train Loss: 0.011307562853550852, Validation Loss: 0.010735086559389647\n",
            "\u001b[36m(ClientAppActor pid=438961)\u001b[0m Epoch 1/1, Train Loss: 0.010875522882889697, Validation Loss: 0.01100620380244576\n",
            "\u001b[36m(ClientAppActor pid=438961)\u001b[0m Epoch 1/1, Train Loss: 0.01132487449426167, Validation Loss: 0.010929507418320729\n",
            "\u001b[36m(ClientAppActor pid=438961)\u001b[0m Epoch 1/1, Train Loss: 0.010841301716126428, Validation Loss: 0.010689115509963952\n",
            "\u001b[36m(ClientAppActor pid=438961)\u001b[0m Epoch 1/1, Train Loss: 0.010976452850690573, Validation Loss: 0.010023697154023327\n",
            "\u001b[36m(ClientAppActor pid=438961)\u001b[0m Epoch 1/1, Train Loss: 0.010561141641902746, Validation Loss: 0.01174830559354562\n",
            "\u001b[36m(ClientAppActor pid=438961)\u001b[0m Epoch 1/1, Train Loss: 0.010818474681697565, Validation Loss: 0.010950177693023132\n"
          ]
        },
        {
          "name": "stderr",
          "output_type": "stream",
          "text": [
            "\u001b[92mINFO \u001b[0m:      aggregate_fit: received 10 results and 0 failures\n",
            "\u001b[92mINFO \u001b[0m:      configure_evaluate: strategy sampled 5 clients (out of 10)\n"
          ]
        },
        {
          "name": "stdout",
          "output_type": "stream",
          "text": [
            "\u001b[36m(ClientAppActor pid=438961)\u001b[0m Epoch 1/1, Train Loss: 0.010666139658983095, Validation Loss: 0.010461410274729133\n"
          ]
        },
        {
          "name": "stderr",
          "output_type": "stream",
          "text": [
            "\u001b[92mINFO \u001b[0m:      aggregate_evaluate: received 5 results and 0 failures\n",
            "\u001b[92mINFO \u001b[0m:      \n",
            "\u001b[92mINFO \u001b[0m:      [ROUND 46]\n",
            "\u001b[92mINFO \u001b[0m:      configure_fit: strategy sampled 10 clients (out of 10)\n"
          ]
        },
        {
          "name": "stdout",
          "output_type": "stream",
          "text": [
            "\u001b[36m(ClientAppActor pid=438961)\u001b[0m Epoch 1/1, Train Loss: 0.011045977782162994, Validation Loss: 0.010610125349977842\n",
            "\u001b[36m(ClientAppActor pid=438961)\u001b[0m Epoch 1/1, Train Loss: 0.011201324623705136, Validation Loss: 0.011596360422957402\n",
            "\u001b[36m(ClientAppActor pid=438961)\u001b[0m Epoch 1/1, Train Loss: 0.011306676902983448, Validation Loss: 0.00991559037580513\n",
            "\u001b[36m(ClientAppActor pid=438961)\u001b[0m Epoch 1/1, Train Loss: 0.010782690677275457, Validation Loss: 0.010535663101249017\n",
            "\u001b[36m(ClientAppActor pid=438961)\u001b[0m Epoch 1/1, Train Loss: 0.011277482420722447, Validation Loss: 0.010739746163240992\n",
            "\u001b[36m(ClientAppActor pid=438961)\u001b[0m Epoch 1/1, Train Loss: 0.010940492236156864, Validation Loss: 0.011740957279331408\n",
            "\u001b[36m(ClientAppActor pid=438961)\u001b[0m Epoch 1/1, Train Loss: 0.010917874878401509, Validation Loss: 0.009895714841639766\n",
            "\u001b[36m(ClientAppActor pid=438961)\u001b[0m Epoch 1/1, Train Loss: 0.010441839533609033, Validation Loss: 0.009944056554769095\n",
            "\u001b[36m(ClientAppActor pid=438961)\u001b[0m Epoch 1/1, Train Loss: 0.010930489960799712, Validation Loss: 0.010135702520179061\n"
          ]
        },
        {
          "name": "stderr",
          "output_type": "stream",
          "text": [
            "\u001b[92mINFO \u001b[0m:      aggregate_fit: received 10 results and 0 failures\n",
            "\u001b[92mINFO \u001b[0m:      configure_evaluate: strategy sampled 5 clients (out of 10)\n"
          ]
        },
        {
          "name": "stdout",
          "output_type": "stream",
          "text": [
            "\u001b[36m(ClientAppActor pid=438961)\u001b[0m Epoch 1/1, Train Loss: 0.010585469184535564, Validation Loss: 0.010597340619334808\n"
          ]
        },
        {
          "name": "stderr",
          "output_type": "stream",
          "text": [
            "\u001b[92mINFO \u001b[0m:      aggregate_evaluate: received 5 results and 0 failures\n",
            "\u001b[92mINFO \u001b[0m:      \n",
            "\u001b[92mINFO \u001b[0m:      [ROUND 47]\n",
            "\u001b[92mINFO \u001b[0m:      configure_fit: strategy sampled 10 clients (out of 10)\n"
          ]
        },
        {
          "name": "stdout",
          "output_type": "stream",
          "text": [
            "\u001b[36m(ClientAppActor pid=438961)\u001b[0m Epoch 1/1, Train Loss: 0.011510678428677049, Validation Loss: 0.0112168848192176\n",
            "\u001b[36m(ClientAppActor pid=438961)\u001b[0m Epoch 1/1, Train Loss: 0.011087402272600643, Validation Loss: 0.010875224243276395\n",
            "\u001b[36m(ClientAppActor pid=438961)\u001b[0m Epoch 1/1, Train Loss: 0.011188053111038586, Validation Loss: 0.010130446126612905\n",
            "\u001b[36m(ClientAppActor pid=438961)\u001b[0m Epoch 1/1, Train Loss: 0.010689555999297317, Validation Loss: 0.010733074526517438\n",
            "\u001b[36m(ClientAppActor pid=438961)\u001b[0m Epoch 1/1, Train Loss: 0.011238524847027689, Validation Loss: 0.012285098684235262\n",
            "\u001b[36m(ClientAppActor pid=438961)\u001b[0m Epoch 1/1, Train Loss: 0.010700624154899085, Validation Loss: 0.010938615806830617\n",
            "\u001b[36m(ClientAppActor pid=438961)\u001b[0m Epoch 1/1, Train Loss: 0.011139136351792528, Validation Loss: 0.01022172887594654\n",
            "\u001b[36m(ClientAppActor pid=438961)\u001b[0m Epoch 1/1, Train Loss: 0.010685062515411046, Validation Loss: 0.01057062351789612\n",
            "\u001b[36m(ClientAppActor pid=438961)\u001b[0m Epoch 1/1, Train Loss: 0.011000529226690236, Validation Loss: 0.010704516110798487\n"
          ]
        },
        {
          "name": "stderr",
          "output_type": "stream",
          "text": [
            "\u001b[92mINFO \u001b[0m:      aggregate_fit: received 10 results and 0 failures\n",
            "\u001b[92mINFO \u001b[0m:      configure_evaluate: strategy sampled 5 clients (out of 10)\n"
          ]
        },
        {
          "name": "stdout",
          "output_type": "stream",
          "text": [
            "\u001b[36m(ClientAppActor pid=438961)\u001b[0m Epoch 1/1, Train Loss: 0.01054361480574059, Validation Loss: 0.011069552793812294\n"
          ]
        },
        {
          "name": "stderr",
          "output_type": "stream",
          "text": [
            "\u001b[92mINFO \u001b[0m:      aggregate_evaluate: received 5 results and 0 failures\n",
            "\u001b[92mINFO \u001b[0m:      \n",
            "\u001b[92mINFO \u001b[0m:      [ROUND 48]\n",
            "\u001b[92mINFO \u001b[0m:      configure_fit: strategy sampled 10 clients (out of 10)\n"
          ]
        },
        {
          "name": "stdout",
          "output_type": "stream",
          "text": [
            "\u001b[36m(ClientAppActor pid=438961)\u001b[0m Epoch 1/1, Train Loss: 0.011113922480530667, Validation Loss: 0.010226276595718585\n",
            "\u001b[36m(ClientAppActor pid=438961)\u001b[0m Epoch 1/1, Train Loss: 0.011329941257908203, Validation Loss: 0.011602855018841533\n",
            "\u001b[36m(ClientAppActor pid=438961)\u001b[0m Epoch 1/1, Train Loss: 0.011276442276332344, Validation Loss: 0.010165857688452188\n",
            "\u001b[36m(ClientAppActor pid=438961)\u001b[0m Epoch 1/1, Train Loss: 0.01088916469771083, Validation Loss: 0.010811497905076696\n",
            "\u001b[36m(ClientAppActor pid=438961)\u001b[0m Epoch 1/1, Train Loss: 0.011283527598670214, Validation Loss: 0.011247465243706336\n",
            "\u001b[36m(ClientAppActor pid=438961)\u001b[0m Epoch 1/1, Train Loss: 0.010740413164517076, Validation Loss: 0.011144202274198715\n",
            "\u001b[36m(ClientAppActor pid=438961)\u001b[0m Epoch 1/1, Train Loss: 0.010987129495801901, Validation Loss: 0.011104250810324\n",
            "\u001b[36m(ClientAppActor pid=438961)\u001b[0m Epoch 1/1, Train Loss: 0.010518061707146687, Validation Loss: 0.010429435051404513\n",
            "\u001b[36m(ClientAppActor pid=438961)\u001b[0m Epoch 1/1, Train Loss: 0.01083590558241352, Validation Loss: 0.010044404968189506\n"
          ]
        },
        {
          "name": "stderr",
          "output_type": "stream",
          "text": [
            "\u001b[92mINFO \u001b[0m:      aggregate_fit: received 10 results and 0 failures\n",
            "\u001b[92mINFO \u001b[0m:      configure_evaluate: strategy sampled 5 clients (out of 10)\n"
          ]
        },
        {
          "name": "stdout",
          "output_type": "stream",
          "text": [
            "\u001b[36m(ClientAppActor pid=438961)\u001b[0m Epoch 1/1, Train Loss: 0.010459347946182041, Validation Loss: 0.011449120795497527\n"
          ]
        },
        {
          "name": "stderr",
          "output_type": "stream",
          "text": [
            "\u001b[92mINFO \u001b[0m:      aggregate_evaluate: received 5 results and 0 failures\n",
            "\u001b[92mINFO \u001b[0m:      \n",
            "\u001b[92mINFO \u001b[0m:      [ROUND 49]\n",
            "\u001b[92mINFO \u001b[0m:      configure_fit: strategy sampled 10 clients (out of 10)\n"
          ]
        },
        {
          "name": "stdout",
          "output_type": "stream",
          "text": [
            "\u001b[36m(ClientAppActor pid=438961)\u001b[0m Epoch 1/1, Train Loss: 0.010818262003583483, Validation Loss: 0.0101852527497193\n",
            "\u001b[36m(ClientAppActor pid=438961)\u001b[0m Epoch 1/1, Train Loss: 0.011104043812887503, Validation Loss: 0.010742651477742653\n",
            "\u001b[36m(ClientAppActor pid=438961)\u001b[0m Epoch 1/1, Train Loss: 0.011174946797476841, Validation Loss: 0.010604981512117844\n",
            "\u001b[36m(ClientAppActor pid=438961)\u001b[0m Epoch 1/1, Train Loss: 0.010849877149973175, Validation Loss: 0.010519552107255619\n",
            "\u001b[36m(ClientAppActor pid=438961)\u001b[0m Epoch 1/1, Train Loss: 0.011254172753727082, Validation Loss: 0.01031469743555555\n",
            "\u001b[36m(ClientAppActor pid=438961)\u001b[0m Epoch 1/1, Train Loss: 0.010788465061658386, Validation Loss: 0.011062927651577271\n",
            "\u001b[36m(ClientAppActor pid=438961)\u001b[0m Epoch 1/1, Train Loss: 0.011029117630038521, Validation Loss: 0.009969824387763556\n",
            "\u001b[36m(ClientAppActor pid=438961)\u001b[0m Epoch 1/1, Train Loss: 0.010599231324389134, Validation Loss: 0.011096706363157583\n",
            "\u001b[36m(ClientAppActor pid=438961)\u001b[0m Epoch 1/1, Train Loss: 0.010951613486366401, Validation Loss: 0.010284826069926986\n"
          ]
        },
        {
          "name": "stderr",
          "output_type": "stream",
          "text": [
            "\u001b[92mINFO \u001b[0m:      aggregate_fit: received 10 results and 0 failures\n",
            "\u001b[92mINFO \u001b[0m:      configure_evaluate: strategy sampled 5 clients (out of 10)\n"
          ]
        },
        {
          "name": "stdout",
          "output_type": "stream",
          "text": [
            "\u001b[36m(ClientAppActor pid=438961)\u001b[0m Epoch 1/1, Train Loss: 0.01039144203140594, Validation Loss: 0.010881780037799707\n"
          ]
        },
        {
          "name": "stderr",
          "output_type": "stream",
          "text": [
            "\u001b[92mINFO \u001b[0m:      aggregate_evaluate: received 5 results and 0 failures\n",
            "\u001b[92mINFO \u001b[0m:      \n",
            "\u001b[92mINFO \u001b[0m:      [ROUND 50]\n",
            "\u001b[92mINFO \u001b[0m:      configure_fit: strategy sampled 10 clients (out of 10)\n"
          ]
        },
        {
          "name": "stdout",
          "output_type": "stream",
          "text": [
            "\u001b[36m(ClientAppActor pid=438961)\u001b[0m Epoch 1/1, Train Loss: 0.011078143999496899, Validation Loss: 0.01057083671912551\n",
            "\u001b[36m(ClientAppActor pid=438961)\u001b[0m Epoch 1/1, Train Loss: 0.010474242127067086, Validation Loss: 0.010359277930827094\n",
            "\u001b[36m(ClientAppActor pid=438961)\u001b[0m Epoch 1/1, Train Loss: 0.010996147229492959, Validation Loss: 0.010318160074977921\n",
            "\u001b[36m(ClientAppActor pid=438961)\u001b[0m Epoch 1/1, Train Loss: 0.01125341962266824, Validation Loss: 0.01137090023033894\n",
            "\u001b[36m(ClientAppActor pid=438961)\u001b[0m Epoch 1/1, Train Loss: 0.010890393485637879, Validation Loss: 0.011270981532736467\n",
            "\u001b[36m(ClientAppActor pid=438961)\u001b[0m Epoch 1/1, Train Loss: 0.011019129601150457, Validation Loss: 0.010971329174935818\n",
            "\u001b[36m(ClientAppActor pid=438961)\u001b[0m Epoch 1/1, Train Loss: 0.010719782760422123, Validation Loss: 0.011063184642877717\n",
            "\u001b[36m(ClientAppActor pid=438961)\u001b[0m Epoch 1/1, Train Loss: 0.010859584343610423, Validation Loss: 0.00986017557219244\n",
            "\u001b[36m(ClientAppActor pid=438961)\u001b[0m Epoch 1/1, Train Loss: 0.010934059065536107, Validation Loss: 0.009982289441932853\n"
          ]
        },
        {
          "name": "stderr",
          "output_type": "stream",
          "text": [
            "\u001b[92mINFO \u001b[0m:      aggregate_fit: received 10 results and 0 failures\n",
            "\u001b[92mINFO \u001b[0m:      configure_evaluate: strategy sampled 5 clients (out of 10)\n"
          ]
        },
        {
          "name": "stdout",
          "output_type": "stream",
          "text": [
            "\u001b[36m(ClientAppActor pid=438961)\u001b[0m Epoch 1/1, Train Loss: 0.010419564819571996, Validation Loss: 0.01234879821109084\n"
          ]
        },
        {
          "name": "stderr",
          "output_type": "stream",
          "text": [
            "\u001b[92mINFO \u001b[0m:      aggregate_evaluate: received 5 results and 0 failures\n",
            "\u001b[92mINFO \u001b[0m:      \n",
            "\u001b[92mINFO \u001b[0m:      [SUMMARY]\n",
            "\u001b[92mINFO \u001b[0m:      Run finished 50 round(s) in 14357.19s\n",
            "\u001b[92mINFO \u001b[0m:      \tHistory (loss, distributed):\n",
            "\u001b[92mINFO \u001b[0m:      \t\tround 1: 0.02452451682004791\n",
            "\u001b[92mINFO \u001b[0m:      \t\tround 2: 0.024086936907126353\n",
            "\u001b[92mINFO \u001b[0m:      \t\tround 3: 0.024038004237585342\n",
            "\u001b[92mINFO \u001b[0m:      \t\tround 4: 0.023526427327082135\n",
            "\u001b[92mINFO \u001b[0m:      \t\tround 5: 0.02104372481743877\n",
            "\u001b[92mINFO \u001b[0m:      \t\tround 6: 0.012823513583638348\n",
            "\u001b[92mINFO \u001b[0m:      \t\tround 7: 0.011351079816141954\n",
            "\u001b[92mINFO \u001b[0m:      \t\tround 8: 0.010912735072466043\n",
            "\u001b[92mINFO \u001b[0m:      \t\tround 9: 0.010653391168811\n",
            "\u001b[92mINFO \u001b[0m:      \t\tround 10: 0.010639809086345708\n",
            "\u001b[92mINFO \u001b[0m:      \t\tround 11: 0.010835784412204072\n",
            "\u001b[92mINFO \u001b[0m:      \t\tround 12: 0.011033066283338345\n",
            "\u001b[92mINFO \u001b[0m:      \t\tround 13: 0.010730237323934069\n",
            "\u001b[92mINFO \u001b[0m:      \t\tround 14: 0.010786869896289247\n",
            "\u001b[92mINFO \u001b[0m:      \t\tround 15: 0.01042399245600861\n",
            "\u001b[92mINFO \u001b[0m:      \t\tround 16: 0.010730053785328682\n",
            "\u001b[92mINFO \u001b[0m:      \t\tround 17: 0.01047377883671568\n",
            "\u001b[92mINFO \u001b[0m:      \t\tround 18: 0.01086709714637926\n",
            "\u001b[92mINFO \u001b[0m:      \t\tround 19: 0.01062660046781485\n",
            "\u001b[92mINFO \u001b[0m:      \t\tround 20: 0.010484075793423331\n",
            "\u001b[92mINFO \u001b[0m:      \t\tround 21: 0.010626175645022438\n",
            "\u001b[92mINFO \u001b[0m:      \t\tround 22: 0.010596673050895334\n",
            "\u001b[92mINFO \u001b[0m:      \t\tround 23: 0.01061261147618867\n",
            "\u001b[92mINFO \u001b[0m:      \t\tround 24: 0.010281206461457679\n",
            "\u001b[92mINFO \u001b[0m:      \t\tround 25: 0.010262490268975783\n",
            "\u001b[92mINFO \u001b[0m:      \t\tround 26: 0.010806261393456505\n",
            "\u001b[92mINFO \u001b[0m:      \t\tround 27: 0.010231784276234416\n",
            "\u001b[92mINFO \u001b[0m:      \t\tround 28: 0.010386624197977094\n",
            "\u001b[92mINFO \u001b[0m:      \t\tround 29: 0.011309723498729558\n",
            "\u001b[92mINFO \u001b[0m:      \t\tround 30: 0.010814745808378434\n",
            "\u001b[92mINFO \u001b[0m:      \t\tround 31: 0.01052821266393249\n",
            "\u001b[92mINFO \u001b[0m:      \t\tround 32: 0.010516592186804001\n",
            "\u001b[92mINFO \u001b[0m:      \t\tround 33: 0.01047839718655898\n",
            "\u001b[92mINFO \u001b[0m:      \t\tround 34: 0.010614113180110088\n",
            "\u001b[92mINFO \u001b[0m:      \t\tround 35: 0.010729921125591948\n",
            "\u001b[92mINFO \u001b[0m:      \t\tround 36: 0.010478027813279858\n",
            "\u001b[92mINFO \u001b[0m:      \t\tround 37: 0.010387682592352995\n",
            "\u001b[92mINFO \u001b[0m:      \t\tround 38: 0.010382332058193592\n",
            "\u001b[92mINFO \u001b[0m:      \t\tround 39: 0.010194846557883115\n",
            "\u001b[92mINFO \u001b[0m:      \t\tround 40: 0.010442764963954687\n",
            "\u001b[92mINFO \u001b[0m:      \t\tround 41: 0.010405810943876322\n",
            "\u001b[92mINFO \u001b[0m:      \t\tround 42: 0.010545915060748274\n",
            "\u001b[92mINFO \u001b[0m:      \t\tround 43: 0.010711809430414667\n",
            "\u001b[92mINFO \u001b[0m:      \t\tround 44: 0.010377499991311477\n",
            "\u001b[92mINFO \u001b[0m:      \t\tround 45: 0.010609958908305718\n",
            "\u001b[92mINFO \u001b[0m:      \t\tround 46: 0.010245338110969617\n",
            "\u001b[92mINFO \u001b[0m:      \t\tround 47: 0.010335116027496183\n",
            "\u001b[92mINFO \u001b[0m:      \t\tround 48: 0.01026258791367022\n",
            "\u001b[92mINFO \u001b[0m:      \t\tround 49: 0.010308788992607823\n",
            "\u001b[92mINFO \u001b[0m:      \t\tround 50: 0.010102357969690974\n",
            "\u001b[92mINFO \u001b[0m:      \n"
          ]
        }
      ],
      "source": [
        "try:\n",
        "    # Run simulation\n",
        "    run_simulation(\n",
        "        server_app=server,\n",
        "        client_app=client,\n",
        "        num_supernodes=num_clients,\n",
        "        backend_config=backend_config\n",
        "    )\n",
        "except KeyboardInterrupt:\n",
        "    print(\"Simulation interrupted by user.\")"
      ]
    }
  ],
  "metadata": {
    "accelerator": "GPU",
    "colab": {
      "collapsed_sections": [
        "bkndtwvEMAyB",
        "xjJsJCeIMAyE",
        "MofOJ5kcMAyF",
        "uUlltooqMAyF",
        "fLLW79nlMAyG",
        "HUo0_klUMAyG",
        "Fg8XtAIsMAyH",
        "Wp3n8jv4MAyH",
        "mhXW7sjEMAyI",
        "lj7dyHsdMAyK",
        "tBBvfsbBMAyQ",
        "eBpfPEUpMAyS"
      ],
      "gpuType": "T4",
      "provenance": []
    },
    "kernelspec": {
      "display_name": ".venv",
      "language": "python",
      "name": "python3"
    },
    "language_info": {
      "codemirror_mode": {
        "name": "ipython",
        "version": 3
      },
      "file_extension": ".py",
      "mimetype": "text/x-python",
      "name": "python",
      "nbconvert_exporter": "python",
      "pygments_lexer": "ipython3",
      "version": "3.12.7"
    }
  },
  "nbformat": 4,
  "nbformat_minor": 0
}
