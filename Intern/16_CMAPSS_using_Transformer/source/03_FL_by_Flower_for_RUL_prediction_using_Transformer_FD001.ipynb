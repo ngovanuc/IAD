{
  "cells": [
    {
      "cell_type": "markdown",
      "metadata": {
        "id": "bnYweYq7MAx_"
      },
      "source": [
        "# Part I. RUL prediction using Transformer model (Centralize model)"
      ]
    },
    {
      "cell_type": "markdown",
      "metadata": {
        "id": "bkndtwvEMAyB"
      },
      "source": [
        "# Preparation"
      ]
    },
    {
      "cell_type": "code",
      "execution_count": 1,
      "metadata": {
        "colab": {
          "base_uri": "https://localhost:8080/"
        },
        "id": "Z9u9NGr2MAyB",
        "outputId": "29244025-6832-4664-ba1b-7db0e3af4975"
      },
      "outputs": [
        {
          "name": "stdout",
          "output_type": "stream",
          "text": [
            "Mounted at /content/drive\n",
            "IN_COLAB: True\n"
          ]
        }
      ],
      "source": [
        "# When run code on Colab\n",
        "try:\n",
        "    import google.colab\n",
        "    IN_COLAB = True\n",
        "except:\n",
        "    IN_COLAB = False\n",
        "if IN_COLAB:\n",
        "    from google.colab import drive\n",
        "    drive.mount('/content/drive')\n",
        "print(f'IN_COLAB: {IN_COLAB}')"
      ]
    },
    {
      "cell_type": "code",
      "execution_count": 2,
      "metadata": {
        "colab": {
          "base_uri": "https://localhost:8080/"
        },
        "id": "g5Bwn09CMAyD",
        "outputId": "6c8b1ae9-10c9-4949-e2ef-5508f06bf4d6"
      },
      "outputs": [
        {
          "name": "stdout",
          "output_type": "stream",
          "text": [
            "\u001b[2K   \u001b[90m━━━━━━━━━━━━━━━━━━━━━━━━━━━━━━━━━━━━━━━━\u001b[0m \u001b[32m65.1/65.1 MB\u001b[0m \u001b[31m14.2 MB/s\u001b[0m eta \u001b[36m0:00:00\u001b[0m\n",
            "\u001b[2K   \u001b[90m━━━━━━━━━━━━━━━━━━━━━━━━━━━━━━━━━━━━━━━━\u001b[0m \u001b[32m3.9/3.9 MB\u001b[0m \u001b[31m102.1 MB/s\u001b[0m eta \u001b[36m0:00:00\u001b[0m\n",
            "\u001b[2K   \u001b[90m━━━━━━━━━━━━━━━━━━━━━━━━━━━━━━━━━━━━━━━━\u001b[0m \u001b[32m480.6/480.6 kB\u001b[0m \u001b[31m36.7 MB/s\u001b[0m eta \u001b[36m0:00:00\u001b[0m\n",
            "\u001b[2K   \u001b[90m━━━━━━━━━━━━━━━━━━━━━━━━━━━━━━━━━━━━━━━━\u001b[0m \u001b[32m179.3/179.3 kB\u001b[0m \u001b[31m18.0 MB/s\u001b[0m eta \u001b[36m0:00:00\u001b[0m\n",
            "\u001b[2K   \u001b[90m━━━━━━━━━━━━━━━━━━━━━━━━━━━━━━━━━━━━━━━━\u001b[0m \u001b[32m5.6/5.6 MB\u001b[0m \u001b[31m93.1 MB/s\u001b[0m eta \u001b[36m0:00:00\u001b[0m\n",
            "\u001b[2K   \u001b[90m━━━━━━━━━━━━━━━━━━━━━━━━━━━━━━━━━━━━━━━━\u001b[0m \u001b[32m2.3/2.3 MB\u001b[0m \u001b[31m78.9 MB/s\u001b[0m eta \u001b[36m0:00:00\u001b[0m\n",
            "\u001b[2K   \u001b[90m━━━━━━━━━━━━━━━━━━━━━━━━━━━━━━━━━━━━━━━━\u001b[0m \u001b[32m47.3/47.3 kB\u001b[0m \u001b[31m4.1 MB/s\u001b[0m eta \u001b[36m0:00:00\u001b[0m\n",
            "\u001b[2K   \u001b[90m━━━━━━━━━━━━━━━━━━━━━━━━━━━━━━━━━━━━━━━━\u001b[0m \u001b[32m523.6/523.6 kB\u001b[0m \u001b[31m40.3 MB/s\u001b[0m eta \u001b[36m0:00:00\u001b[0m\n",
            "\u001b[2K   \u001b[90m━━━━━━━━━━━━━━━━━━━━━━━━━━━━━━━━━━━━━━━━\u001b[0m \u001b[32m87.0/87.0 kB\u001b[0m \u001b[31m8.8 MB/s\u001b[0m eta \u001b[36m0:00:00\u001b[0m\n",
            "\u001b[2K   \u001b[90m━━━━━━━━━━━━━━━━━━━━━━━━━━━━━━━━━━━━━━━━\u001b[0m \u001b[32m116.3/116.3 kB\u001b[0m \u001b[31m11.3 MB/s\u001b[0m eta \u001b[36m0:00:00\u001b[0m\n",
            "\u001b[2K   \u001b[90m━━━━━━━━━━━━━━━━━━━━━━━━━━━━━━━━━━━━━━━━\u001b[0m \u001b[32m134.8/134.8 kB\u001b[0m \u001b[31m12.9 MB/s\u001b[0m eta \u001b[36m0:00:00\u001b[0m\n",
            "\u001b[2K   \u001b[90m━━━━━━━━━━━━━━━━━━━━━━━━━━━━━━━━━━━━━━━━\u001b[0m \u001b[32m194.1/194.1 kB\u001b[0m \u001b[31m17.4 MB/s\u001b[0m eta \u001b[36m0:00:00\u001b[0m\n",
            "\u001b[?25h\u001b[31mERROR: pip's dependency resolver does not currently take into account all the packages that are installed. This behaviour is the source of the following dependency conflicts.\n",
            "gcsfs 2024.10.0 requires fsspec==2024.10.0, but you have fsspec 2024.9.0 which is incompatible.\u001b[0m\u001b[31m\n",
            "\u001b[0m"
          ]
        }
      ],
      "source": [
        "!pip install -q flwr[simulation] flwr-datasets[vision] torch torchvision matplotlib"
      ]
    },
    {
      "cell_type": "code",
      "execution_count": 3,
      "metadata": {
        "id": "3A85IsxNMAyD"
      },
      "outputs": [],
      "source": [
        "# Off log duplicate messages\n",
        "import os\n",
        "os.environ[\"RAY_DEDUP_LOGS\"] = \"0\"\n",
        "\n",
        "# Off warning messages\n",
        "import warnings\n",
        "warnings.filterwarnings('ignore')\n",
        "\n",
        "# import pyinspect as pi"
      ]
    },
    {
      "cell_type": "code",
      "execution_count": 4,
      "metadata": {
        "id": "HPY8OhXWMAyD"
      },
      "outputs": [],
      "source": [
        "from collections import OrderedDict\n",
        "from typing import List, Tuple\n",
        "\n",
        "import numpy as np\n",
        "import pandas as pd\n",
        "import matplotlib.pyplot as plt\n",
        "\n",
        "import torch\n",
        "import torch.nn as nn\n",
        "import torch.nn.functional as F\n",
        "import torchvision.transforms as transforms\n",
        "from torch.utils.data import random_split\n",
        "from torch.utils.data import DataLoader\n",
        "from torch.utils.data import Dataset\n",
        "\n",
        "from datasets.utils.logging import disable_progress_bar\n",
        "\n",
        "from sklearn.preprocessing import MinMaxScaler\n",
        "from sklearn.model_selection import train_test_split\n",
        "\n",
        "import flwr\n",
        "from flwr.client import Client, ClientApp, NumPyClient\n",
        "from flwr.common import Metrics, Context\n",
        "from flwr.server import ServerApp, ServerConfig, ServerAppComponents\n",
        "from flwr.server.strategy import FedAvg\n",
        "from flwr.simulation import run_simulation\n",
        "# from flwr_datasets import FederatedDataset"
      ]
    },
    {
      "cell_type": "code",
      "execution_count": 5,
      "metadata": {
        "colab": {
          "base_uri": "https://localhost:8080/"
        },
        "id": "VVkgjO0FMAyE",
        "outputId": "83016b96-aa2a-4bf8-aa1c-42a6ad9ea3bb"
      },
      "outputs": [
        {
          "name": "stdout",
          "output_type": "stream",
          "text": [
            "Training on cuda\n",
            "Flower 1.14.0 / PyTorch 2.5.1+cu121\n"
          ]
        },
        {
          "name": "stderr",
          "output_type": "stream",
          "text": [
            "/usr/local/lib/python3.10/dist-packages/ipykernel/ipkernel.py:283: DeprecationWarning: `should_run_async` will not call `transform_cell` automatically in the future. Please pass the result to `transformed_cell` argument and any exception that happen during thetransform in `preprocessing_exc_tuple` in IPython 7.17 and above.\n",
            "  and should_run_async(code)\n"
          ]
        }
      ],
      "source": [
        "# Check GPU if available else CPU\n",
        "DEVICE = torch.device(\"cuda\" if torch.cuda.is_available() else \"cpu\")\n",
        "print(f\"Training on {DEVICE}\")\n",
        "print(f\"Flower {flwr.__version__} / PyTorch {torch.__version__}\")\n",
        "disable_progress_bar()"
      ]
    },
    {
      "cell_type": "markdown",
      "metadata": {
        "id": "xjJsJCeIMAyE"
      },
      "source": [
        "# Building Transformer model"
      ]
    },
    {
      "cell_type": "code",
      "execution_count": 6,
      "metadata": {
        "id": "hTrlkOGbMAyE"
      },
      "outputs": [],
      "source": [
        "class TransformerModel(nn.Module):\n",
        "    def __init__(self, input_dim, d_model, nhead, num_layers, dim_feedforward, dropout):\n",
        "        super(TransformerModel, self).__init__()\n",
        "        self.input_embedding = nn.Linear(input_dim, d_model)\n",
        "        self.positional_encoding = nn.Parameter(torch.zeros(1, 5000, d_model))\n",
        "        self.transformer = nn.Transformer(\n",
        "            d_model=d_model,\n",
        "            nhead=nhead,\n",
        "            num_encoder_layers=num_layers,\n",
        "            num_decoder_layers=num_layers,\n",
        "            dim_feedforward=dim_feedforward,\n",
        "            dropout=dropout,\n",
        "            batch_first=True\n",
        "        )\n",
        "        self.fc_out = nn.Linear(d_model, 1)\n",
        "\n",
        "    def forward(self, src):\n",
        "        src_emb = self.input_embedding(src) + self.positional_encoding[:, :src.size(1), :]\n",
        "        src_emb = src_emb.permute(1, 0, 2)\n",
        "        transformer_out = self.transformer(src_emb, src_emb)\n",
        "        output = self.fc_out(transformer_out[-1, :, :])\n",
        "        return output.squeeze(-1)"
      ]
    },
    {
      "cell_type": "markdown",
      "metadata": {
        "id": "MofOJ5kcMAyF"
      },
      "source": [
        "# Building Dataloader"
      ]
    },
    {
      "cell_type": "code",
      "execution_count": 7,
      "metadata": {
        "id": "vOZ_DGvDMAyF"
      },
      "outputs": [],
      "source": [
        "class CMAPSSLoaderDataset(Dataset):\n",
        "    def __init__(self, data, sequence_length):\n",
        "        self.data = data\n",
        "        self.sequence_length = sequence_length\n",
        "        self.sequences = []\n",
        "        self.targets = []\n",
        "\n",
        "        grouped = data.groupby('ID Engine')\n",
        "        for _, group in grouped:\n",
        "            values = group.drop(['ID Engine', 'Cycle', 'Setting 1', 'Setting 2', 'Setting 3','Remaining RUL'], axis=1).values\n",
        "            rul_values = group['Remaining RUL'].values\n",
        "\n",
        "            for i in range(len(values) - sequence_length + 1):\n",
        "                self.sequences.append(values[i:i + sequence_length])\n",
        "                self.targets.append(rul_values[i + sequence_length - 1])\n",
        "\n",
        "    def __len__(self):\n",
        "\n",
        "        return len(self.sequences)\n",
        "\n",
        "    def __getitem__(self, idx):\n",
        "        return (\n",
        "            torch.tensor(self.sequences[idx], dtype=torch.float32),\n",
        "            torch.tensor(self.targets[idx], dtype=torch.float32),\n",
        "        )"
      ]
    },
    {
      "cell_type": "markdown",
      "metadata": {
        "id": "uUlltooqMAyF"
      },
      "source": [
        "# Define parameters for training"
      ]
    },
    {
      "cell_type": "code",
      "execution_count": 8,
      "metadata": {
        "id": "0TC27RxyMAyF"
      },
      "outputs": [],
      "source": [
        "# Transformer parameters\n",
        "input_dim = 21\n",
        "d_model = 64\n",
        "nhead = 4\n",
        "num_layers = 2\n",
        "dim_feedforward = 256\n",
        "dropout = 0.1\n",
        "learning_rate = 1e-3\n",
        "verbose=False\n",
        "\n",
        "# Dataloader parameters\n",
        "sequence_length = 30\n",
        "\n",
        "# Training parameters\n",
        "batch_size = 128\n",
        "epochs = 50"
      ]
    },
    {
      "cell_type": "markdown",
      "metadata": {
        "id": "fLLW79nlMAyG"
      },
      "source": [
        "# Define training/test functions"
      ]
    },
    {
      "cell_type": "code",
      "execution_count": 9,
      "metadata": {
        "id": "M_DmheohMAyG"
      },
      "outputs": [],
      "source": [
        "def train_model(model, client_loader_train, client_loader_validation: None, epochs: int, learning_rate: int, verbose=False):\n",
        "    model = model.to(DEVICE)\n",
        "    criterion = nn.MSELoss()\n",
        "    optimizer = torch.optim.Adam(model.parameters(), lr=learning_rate)\n",
        "\n",
        "    for epoch in range(epochs):\n",
        "        model.train()\n",
        "        train_loss = 0\n",
        "        for batch in client_loader_train:\n",
        "            seq, target = batch\n",
        "            seq, target = seq.to(DEVICE), target.to(DEVICE)\n",
        "            optimizer.zero_grad()\n",
        "            output = model(seq)\n",
        "            loss = criterion(output, target)\n",
        "            loss.backward()\n",
        "            optimizer.step()\n",
        "            train_loss += loss.item()\n",
        "        val_loss = 0\n",
        "        model.eval()\n",
        "        with torch.no_grad():\n",
        "            for batch in client_loader_validation:\n",
        "                seq, target = batch\n",
        "                seq, target = seq.to(DEVICE), target.to(DEVICE)\n",
        "                output = model(seq)\n",
        "                loss = criterion(output, target)\n",
        "                val_loss += loss.item()\n",
        "        print(f\"Epoch {epoch+1}/{epochs}, Train Loss: {train_loss/len(client_loader_train)}, Validation Loss: {val_loss/len(client_loader_validation)}\")"
      ]
    },
    {
      "cell_type": "code",
      "execution_count": 10,
      "metadata": {
        "id": "wAImKs32MAyG"
      },
      "outputs": [],
      "source": [
        "def test_model(model, client_loader_validation, return_actual_rul=False, show_fig=False):\n",
        "    criterion = nn.MSELoss()\n",
        "\n",
        "    samples, targets = next(iter(client_loader_validation))\n",
        "    samples, targets = samples.to(DEVICE), targets.to(DEVICE)\n",
        "\n",
        "    model.eval()\n",
        "    val_loss = 0\n",
        "    accuracy = 0\n",
        "    with torch.no_grad():\n",
        "        for batch in client_loader_validation:\n",
        "            samples, targets = batch\n",
        "            samples, targets = samples.to(DEVICE), targets.to(DEVICE)\n",
        "            predictions = model(samples)\n",
        "            val_loss += criterion(predictions, targets).item()\n",
        "    return val_loss/len(client_loader_validation)"
      ]
    },
    {
      "cell_type": "markdown",
      "metadata": {
        "id": "HUo0_klUMAyG"
      },
      "source": [
        "# Define prediction functions"
      ]
    },
    {
      "cell_type": "markdown",
      "metadata": {
        "id": "poU0s6olMAyG"
      },
      "source": [
        "### Prediction on a batch"
      ]
    },
    {
      "cell_type": "code",
      "execution_count": 11,
      "metadata": {
        "id": "BpY8ZLQjMAyG"
      },
      "outputs": [],
      "source": [
        "def predict_on_batch(model, batch_loader, return_actual_rul=False, show_fig=False):\n",
        "    criterion = nn.MSELoss()\n",
        "    samples, targets = batch_loader\n",
        "    samples, targets = samples.to(DEVICE), targets.to(DEVICE)\n",
        "\n",
        "    model.eval()\n",
        "    loss = 0\n",
        "    with torch.no_grad():\n",
        "        predictions = model(samples)\n",
        "    loss = criterion(predictions, targets)\n",
        "\n",
        "    if return_actual_rul:\n",
        "        samples = samples.cpu()\n",
        "        targets = targets.cpu()\n",
        "\n",
        "        rul_min = scaler.data_min_[-1]\n",
        "        rul_max = scaler.data_max_[-1]\n",
        "\n",
        "        predictions = predictions.cpu()\n",
        "        actual_predictions = predictions.numpy() * (rul_max - rul_min) + rul_min\n",
        "        actual_targets = targets.numpy() * (rul_max - rul_min) + rul_min\n",
        "\n",
        "        if show_fig:\n",
        "            plt.figure(figsize=(10, 6))\n",
        "            plt.plot(range(len(actual_predictions)), actual_predictions, label=\"Predicted RUL\", marker='o', linestyle='-')\n",
        "            plt.plot(range(len(actual_targets)), actual_targets, label=\"Actual RUL\", marker='x', linestyle='--')\n",
        "            plt.title(\"Comparison of Predicted and Actual RUL\")\n",
        "            plt.xlabel(\"Sample Index\")\n",
        "            plt.ylabel(\"Remaining Useful Life (RUL)\")\n",
        "            plt.legend()\n",
        "            plt.grid(True)\n",
        "            plt.show()\n",
        "\n",
        "        return loss, actual_predictions, actual_targets\n",
        "\n",
        "    return loss"
      ]
    },
    {
      "cell_type": "markdown",
      "metadata": {
        "id": "EcUDCjUJMAyG"
      },
      "source": [
        "### Prediction on a sample"
      ]
    },
    {
      "cell_type": "code",
      "execution_count": 11,
      "metadata": {
        "id": "fGf0T_-RMAyH"
      },
      "outputs": [],
      "source": []
    },
    {
      "cell_type": "markdown",
      "metadata": {
        "id": "Fg8XtAIsMAyH"
      },
      "source": [
        "# File paths"
      ]
    },
    {
      "cell_type": "code",
      "execution_count": 12,
      "metadata": {
        "id": "NoA5alN6MAyH"
      },
      "outputs": [],
      "source": [
        "# train_path = \"../data/train_FD001.txt\"\n",
        "# test_path = \"../data/test_FD001.txt\"\n",
        "# rul_path = \"../data/RUL_FD001.txt\"\n",
        "\n",
        "train_path = \"/content/drive/MyDrive/Colab Notebooks/RUL_prediction_using_Transformer/train_FD001.txt\"\n",
        "test_path = \"/content/drive/MyDrive/Colab Notebooks/RUL_prediction_using_Transformer/test_FD001.txt\"\n",
        "rul_path = \"/content/drive/MyDrive/Colab Notebooks/RUL_prediction_using_Transformer/RUL_FD001.txt\""
      ]
    },
    {
      "cell_type": "markdown",
      "metadata": {
        "id": "Wp3n8jv4MAyH"
      },
      "source": [
        "# Calculate RUL for train set"
      ]
    },
    {
      "cell_type": "code",
      "execution_count": 13,
      "metadata": {
        "id": "Vov3xOdjMAyH"
      },
      "outputs": [],
      "source": [
        "# Initialization columns\n",
        "index_names = ['ID Engine', 'Cycle']\n",
        "setting_names = ['Setting 1', 'Setting 2', 'Setting 3']\n",
        "sensor_names = ['Sensor {}'.format(i) for i in range(1, 22)]\n",
        "column_names = index_names + setting_names + sensor_names"
      ]
    },
    {
      "cell_type": "code",
      "execution_count": 14,
      "metadata": {
        "id": "g4Z2gsHhMAyH"
      },
      "outputs": [],
      "source": [
        "# Load trainset\n",
        "train = pd.read_csv(train_path, sep=' ', header=None)\n",
        "train.drop([26, 27], axis=1, inplace=True)\n",
        "train.columns = column_names\n",
        "\n",
        "train['Remaining RUL'] = ''\n",
        "# train.head()"
      ]
    },
    {
      "cell_type": "code",
      "execution_count": 15,
      "metadata": {
        "colab": {
          "base_uri": "https://localhost:8080/"
        },
        "id": "-7SrC16fMAyH",
        "outputId": "102369b0-610b-44bc-feff-26f024af4601"
      },
      "outputs": [
        {
          "name": "stderr",
          "output_type": "stream",
          "text": [
            "/usr/local/lib/python3.10/dist-packages/ipykernel/ipkernel.py:283: DeprecationWarning: `should_run_async` will not call `transform_cell` automatically in the future. Please pass the result to `transformed_cell` argument and any exception that happen during thetransform in `preprocessing_exc_tuple` in IPython 7.17 and above.\n",
            "  and should_run_async(code)\n"
          ]
        },
        {
          "name": "stdout",
          "output_type": "stream",
          "text": [
            "trainset shape: (20631, 27)\n"
          ]
        }
      ],
      "source": [
        "# Calculate the remaining RUL for each engine\n",
        "max_cycle = train.groupby('ID Engine').count()\n",
        "for idx in range(len(train)):\n",
        "    train.loc[idx, 'Remaining RUL'] = max_cycle.loc[train.loc[idx, 'ID Engine'], 'Cycle']\n",
        "train['Remaining RUL'] = train['Remaining RUL'] - train['Cycle']\n",
        "\n",
        "print(f\"trainset shape: {train.shape}\")"
      ]
    },
    {
      "cell_type": "code",
      "execution_count": 16,
      "metadata": {
        "colab": {
          "base_uri": "https://localhost:8080/",
          "height": 0
        },
        "id": "3qppLFRiMAyI",
        "outputId": "c9b3bd07-438d-4f7b-bb69-3111085697c5"
      },
      "outputs": [
        {
          "name": "stderr",
          "output_type": "stream",
          "text": [
            "/usr/local/lib/python3.10/dist-packages/ipykernel/ipkernel.py:283: DeprecationWarning: `should_run_async` will not call `transform_cell` automatically in the future. Please pass the result to `transformed_cell` argument and any exception that happen during thetransform in `preprocessing_exc_tuple` in IPython 7.17 and above.\n",
            "  and should_run_async(code)\n"
          ]
        },
        {
          "data": {
            "application/vnd.google.colaboratory.intrinsic+json": {
              "type": "dataframe",
              "variable_name": "train"
            },
            "text/html": [
              "\n",
              "  <div id=\"df-991c056f-40fb-4893-9d1c-663eaedfef29\" class=\"colab-df-container\">\n",
              "    <div>\n",
              "<style scoped>\n",
              "    .dataframe tbody tr th:only-of-type {\n",
              "        vertical-align: middle;\n",
              "    }\n",
              "\n",
              "    .dataframe tbody tr th {\n",
              "        vertical-align: top;\n",
              "    }\n",
              "\n",
              "    .dataframe thead th {\n",
              "        text-align: right;\n",
              "    }\n",
              "</style>\n",
              "<table border=\"1\" class=\"dataframe\">\n",
              "  <thead>\n",
              "    <tr style=\"text-align: right;\">\n",
              "      <th></th>\n",
              "      <th>ID Engine</th>\n",
              "      <th>Cycle</th>\n",
              "      <th>Setting 1</th>\n",
              "      <th>Setting 2</th>\n",
              "      <th>Setting 3</th>\n",
              "      <th>Sensor 1</th>\n",
              "      <th>Sensor 2</th>\n",
              "      <th>Sensor 3</th>\n",
              "      <th>Sensor 4</th>\n",
              "      <th>Sensor 5</th>\n",
              "      <th>...</th>\n",
              "      <th>Sensor 13</th>\n",
              "      <th>Sensor 14</th>\n",
              "      <th>Sensor 15</th>\n",
              "      <th>Sensor 16</th>\n",
              "      <th>Sensor 17</th>\n",
              "      <th>Sensor 18</th>\n",
              "      <th>Sensor 19</th>\n",
              "      <th>Sensor 20</th>\n",
              "      <th>Sensor 21</th>\n",
              "      <th>Remaining RUL</th>\n",
              "    </tr>\n",
              "  </thead>\n",
              "  <tbody>\n",
              "    <tr>\n",
              "      <th>0</th>\n",
              "      <td>1</td>\n",
              "      <td>1</td>\n",
              "      <td>-0.0007</td>\n",
              "      <td>-0.0004</td>\n",
              "      <td>100.0</td>\n",
              "      <td>518.67</td>\n",
              "      <td>641.82</td>\n",
              "      <td>1589.70</td>\n",
              "      <td>1400.60</td>\n",
              "      <td>14.62</td>\n",
              "      <td>...</td>\n",
              "      <td>2388.02</td>\n",
              "      <td>8138.62</td>\n",
              "      <td>8.4195</td>\n",
              "      <td>0.03</td>\n",
              "      <td>392</td>\n",
              "      <td>2388</td>\n",
              "      <td>100.0</td>\n",
              "      <td>39.06</td>\n",
              "      <td>23.4190</td>\n",
              "      <td>191</td>\n",
              "    </tr>\n",
              "    <tr>\n",
              "      <th>1</th>\n",
              "      <td>1</td>\n",
              "      <td>2</td>\n",
              "      <td>0.0019</td>\n",
              "      <td>-0.0003</td>\n",
              "      <td>100.0</td>\n",
              "      <td>518.67</td>\n",
              "      <td>642.15</td>\n",
              "      <td>1591.82</td>\n",
              "      <td>1403.14</td>\n",
              "      <td>14.62</td>\n",
              "      <td>...</td>\n",
              "      <td>2388.07</td>\n",
              "      <td>8131.49</td>\n",
              "      <td>8.4318</td>\n",
              "      <td>0.03</td>\n",
              "      <td>392</td>\n",
              "      <td>2388</td>\n",
              "      <td>100.0</td>\n",
              "      <td>39.00</td>\n",
              "      <td>23.4236</td>\n",
              "      <td>190</td>\n",
              "    </tr>\n",
              "    <tr>\n",
              "      <th>2</th>\n",
              "      <td>1</td>\n",
              "      <td>3</td>\n",
              "      <td>-0.0043</td>\n",
              "      <td>0.0003</td>\n",
              "      <td>100.0</td>\n",
              "      <td>518.67</td>\n",
              "      <td>642.35</td>\n",
              "      <td>1587.99</td>\n",
              "      <td>1404.20</td>\n",
              "      <td>14.62</td>\n",
              "      <td>...</td>\n",
              "      <td>2388.03</td>\n",
              "      <td>8133.23</td>\n",
              "      <td>8.4178</td>\n",
              "      <td>0.03</td>\n",
              "      <td>390</td>\n",
              "      <td>2388</td>\n",
              "      <td>100.0</td>\n",
              "      <td>38.95</td>\n",
              "      <td>23.3442</td>\n",
              "      <td>189</td>\n",
              "    </tr>\n",
              "    <tr>\n",
              "      <th>3</th>\n",
              "      <td>1</td>\n",
              "      <td>4</td>\n",
              "      <td>0.0007</td>\n",
              "      <td>0.0000</td>\n",
              "      <td>100.0</td>\n",
              "      <td>518.67</td>\n",
              "      <td>642.35</td>\n",
              "      <td>1582.79</td>\n",
              "      <td>1401.87</td>\n",
              "      <td>14.62</td>\n",
              "      <td>...</td>\n",
              "      <td>2388.08</td>\n",
              "      <td>8133.83</td>\n",
              "      <td>8.3682</td>\n",
              "      <td>0.03</td>\n",
              "      <td>392</td>\n",
              "      <td>2388</td>\n",
              "      <td>100.0</td>\n",
              "      <td>38.88</td>\n",
              "      <td>23.3739</td>\n",
              "      <td>188</td>\n",
              "    </tr>\n",
              "    <tr>\n",
              "      <th>4</th>\n",
              "      <td>1</td>\n",
              "      <td>5</td>\n",
              "      <td>-0.0019</td>\n",
              "      <td>-0.0002</td>\n",
              "      <td>100.0</td>\n",
              "      <td>518.67</td>\n",
              "      <td>642.37</td>\n",
              "      <td>1582.85</td>\n",
              "      <td>1406.22</td>\n",
              "      <td>14.62</td>\n",
              "      <td>...</td>\n",
              "      <td>2388.04</td>\n",
              "      <td>8133.80</td>\n",
              "      <td>8.4294</td>\n",
              "      <td>0.03</td>\n",
              "      <td>393</td>\n",
              "      <td>2388</td>\n",
              "      <td>100.0</td>\n",
              "      <td>38.90</td>\n",
              "      <td>23.4044</td>\n",
              "      <td>187</td>\n",
              "    </tr>\n",
              "  </tbody>\n",
              "</table>\n",
              "<p>5 rows × 27 columns</p>\n",
              "</div>\n",
              "    <div class=\"colab-df-buttons\">\n",
              "\n",
              "  <div class=\"colab-df-container\">\n",
              "    <button class=\"colab-df-convert\" onclick=\"convertToInteractive('df-991c056f-40fb-4893-9d1c-663eaedfef29')\"\n",
              "            title=\"Convert this dataframe to an interactive table.\"\n",
              "            style=\"display:none;\">\n",
              "\n",
              "  <svg xmlns=\"http://www.w3.org/2000/svg\" height=\"24px\" viewBox=\"0 -960 960 960\">\n",
              "    <path d=\"M120-120v-720h720v720H120Zm60-500h600v-160H180v160Zm220 220h160v-160H400v160Zm0 220h160v-160H400v160ZM180-400h160v-160H180v160Zm440 0h160v-160H620v160ZM180-180h160v-160H180v160Zm440 0h160v-160H620v160Z\"/>\n",
              "  </svg>\n",
              "    </button>\n",
              "\n",
              "  <style>\n",
              "    .colab-df-container {\n",
              "      display:flex;\n",
              "      gap: 12px;\n",
              "    }\n",
              "\n",
              "    .colab-df-convert {\n",
              "      background-color: #E8F0FE;\n",
              "      border: none;\n",
              "      border-radius: 50%;\n",
              "      cursor: pointer;\n",
              "      display: none;\n",
              "      fill: #1967D2;\n",
              "      height: 32px;\n",
              "      padding: 0 0 0 0;\n",
              "      width: 32px;\n",
              "    }\n",
              "\n",
              "    .colab-df-convert:hover {\n",
              "      background-color: #E2EBFA;\n",
              "      box-shadow: 0px 1px 2px rgba(60, 64, 67, 0.3), 0px 1px 3px 1px rgba(60, 64, 67, 0.15);\n",
              "      fill: #174EA6;\n",
              "    }\n",
              "\n",
              "    .colab-df-buttons div {\n",
              "      margin-bottom: 4px;\n",
              "    }\n",
              "\n",
              "    [theme=dark] .colab-df-convert {\n",
              "      background-color: #3B4455;\n",
              "      fill: #D2E3FC;\n",
              "    }\n",
              "\n",
              "    [theme=dark] .colab-df-convert:hover {\n",
              "      background-color: #434B5C;\n",
              "      box-shadow: 0px 1px 3px 1px rgba(0, 0, 0, 0.15);\n",
              "      filter: drop-shadow(0px 1px 2px rgba(0, 0, 0, 0.3));\n",
              "      fill: #FFFFFF;\n",
              "    }\n",
              "  </style>\n",
              "\n",
              "    <script>\n",
              "      const buttonEl =\n",
              "        document.querySelector('#df-991c056f-40fb-4893-9d1c-663eaedfef29 button.colab-df-convert');\n",
              "      buttonEl.style.display =\n",
              "        google.colab.kernel.accessAllowed ? 'block' : 'none';\n",
              "\n",
              "      async function convertToInteractive(key) {\n",
              "        const element = document.querySelector('#df-991c056f-40fb-4893-9d1c-663eaedfef29');\n",
              "        const dataTable =\n",
              "          await google.colab.kernel.invokeFunction('convertToInteractive',\n",
              "                                                    [key], {});\n",
              "        if (!dataTable) return;\n",
              "\n",
              "        const docLinkHtml = 'Like what you see? Visit the ' +\n",
              "          '<a target=\"_blank\" href=https://colab.research.google.com/notebooks/data_table.ipynb>data table notebook</a>'\n",
              "          + ' to learn more about interactive tables.';\n",
              "        element.innerHTML = '';\n",
              "        dataTable['output_type'] = 'display_data';\n",
              "        await google.colab.output.renderOutput(dataTable, element);\n",
              "        const docLink = document.createElement('div');\n",
              "        docLink.innerHTML = docLinkHtml;\n",
              "        element.appendChild(docLink);\n",
              "      }\n",
              "    </script>\n",
              "  </div>\n",
              "\n",
              "\n",
              "<div id=\"df-bd5e3aa9-c81d-4793-9d18-8784f5c3fce5\">\n",
              "  <button class=\"colab-df-quickchart\" onclick=\"quickchart('df-bd5e3aa9-c81d-4793-9d18-8784f5c3fce5')\"\n",
              "            title=\"Suggest charts\"\n",
              "            style=\"display:none;\">\n",
              "\n",
              "<svg xmlns=\"http://www.w3.org/2000/svg\" height=\"24px\"viewBox=\"0 0 24 24\"\n",
              "     width=\"24px\">\n",
              "    <g>\n",
              "        <path d=\"M19 3H5c-1.1 0-2 .9-2 2v14c0 1.1.9 2 2 2h14c1.1 0 2-.9 2-2V5c0-1.1-.9-2-2-2zM9 17H7v-7h2v7zm4 0h-2V7h2v10zm4 0h-2v-4h2v4z\"/>\n",
              "    </g>\n",
              "</svg>\n",
              "  </button>\n",
              "\n",
              "<style>\n",
              "  .colab-df-quickchart {\n",
              "      --bg-color: #E8F0FE;\n",
              "      --fill-color: #1967D2;\n",
              "      --hover-bg-color: #E2EBFA;\n",
              "      --hover-fill-color: #174EA6;\n",
              "      --disabled-fill-color: #AAA;\n",
              "      --disabled-bg-color: #DDD;\n",
              "  }\n",
              "\n",
              "  [theme=dark] .colab-df-quickchart {\n",
              "      --bg-color: #3B4455;\n",
              "      --fill-color: #D2E3FC;\n",
              "      --hover-bg-color: #434B5C;\n",
              "      --hover-fill-color: #FFFFFF;\n",
              "      --disabled-bg-color: #3B4455;\n",
              "      --disabled-fill-color: #666;\n",
              "  }\n",
              "\n",
              "  .colab-df-quickchart {\n",
              "    background-color: var(--bg-color);\n",
              "    border: none;\n",
              "    border-radius: 50%;\n",
              "    cursor: pointer;\n",
              "    display: none;\n",
              "    fill: var(--fill-color);\n",
              "    height: 32px;\n",
              "    padding: 0;\n",
              "    width: 32px;\n",
              "  }\n",
              "\n",
              "  .colab-df-quickchart:hover {\n",
              "    background-color: var(--hover-bg-color);\n",
              "    box-shadow: 0 1px 2px rgba(60, 64, 67, 0.3), 0 1px 3px 1px rgba(60, 64, 67, 0.15);\n",
              "    fill: var(--button-hover-fill-color);\n",
              "  }\n",
              "\n",
              "  .colab-df-quickchart-complete:disabled,\n",
              "  .colab-df-quickchart-complete:disabled:hover {\n",
              "    background-color: var(--disabled-bg-color);\n",
              "    fill: var(--disabled-fill-color);\n",
              "    box-shadow: none;\n",
              "  }\n",
              "\n",
              "  .colab-df-spinner {\n",
              "    border: 2px solid var(--fill-color);\n",
              "    border-color: transparent;\n",
              "    border-bottom-color: var(--fill-color);\n",
              "    animation:\n",
              "      spin 1s steps(1) infinite;\n",
              "  }\n",
              "\n",
              "  @keyframes spin {\n",
              "    0% {\n",
              "      border-color: transparent;\n",
              "      border-bottom-color: var(--fill-color);\n",
              "      border-left-color: var(--fill-color);\n",
              "    }\n",
              "    20% {\n",
              "      border-color: transparent;\n",
              "      border-left-color: var(--fill-color);\n",
              "      border-top-color: var(--fill-color);\n",
              "    }\n",
              "    30% {\n",
              "      border-color: transparent;\n",
              "      border-left-color: var(--fill-color);\n",
              "      border-top-color: var(--fill-color);\n",
              "      border-right-color: var(--fill-color);\n",
              "    }\n",
              "    40% {\n",
              "      border-color: transparent;\n",
              "      border-right-color: var(--fill-color);\n",
              "      border-top-color: var(--fill-color);\n",
              "    }\n",
              "    60% {\n",
              "      border-color: transparent;\n",
              "      border-right-color: var(--fill-color);\n",
              "    }\n",
              "    80% {\n",
              "      border-color: transparent;\n",
              "      border-right-color: var(--fill-color);\n",
              "      border-bottom-color: var(--fill-color);\n",
              "    }\n",
              "    90% {\n",
              "      border-color: transparent;\n",
              "      border-bottom-color: var(--fill-color);\n",
              "    }\n",
              "  }\n",
              "</style>\n",
              "\n",
              "  <script>\n",
              "    async function quickchart(key) {\n",
              "      const quickchartButtonEl =\n",
              "        document.querySelector('#' + key + ' button');\n",
              "      quickchartButtonEl.disabled = true;  // To prevent multiple clicks.\n",
              "      quickchartButtonEl.classList.add('colab-df-spinner');\n",
              "      try {\n",
              "        const charts = await google.colab.kernel.invokeFunction(\n",
              "            'suggestCharts', [key], {});\n",
              "      } catch (error) {\n",
              "        console.error('Error during call to suggestCharts:', error);\n",
              "      }\n",
              "      quickchartButtonEl.classList.remove('colab-df-spinner');\n",
              "      quickchartButtonEl.classList.add('colab-df-quickchart-complete');\n",
              "    }\n",
              "    (() => {\n",
              "      let quickchartButtonEl =\n",
              "        document.querySelector('#df-bd5e3aa9-c81d-4793-9d18-8784f5c3fce5 button');\n",
              "      quickchartButtonEl.style.display =\n",
              "        google.colab.kernel.accessAllowed ? 'block' : 'none';\n",
              "    })();\n",
              "  </script>\n",
              "</div>\n",
              "\n",
              "    </div>\n",
              "  </div>\n"
            ],
            "text/plain": [
              "   ID Engine  Cycle  Setting 1  Setting 2  Setting 3  Sensor 1  Sensor 2  \\\n",
              "0          1      1    -0.0007    -0.0004      100.0    518.67    641.82   \n",
              "1          1      2     0.0019    -0.0003      100.0    518.67    642.15   \n",
              "2          1      3    -0.0043     0.0003      100.0    518.67    642.35   \n",
              "3          1      4     0.0007     0.0000      100.0    518.67    642.35   \n",
              "4          1      5    -0.0019    -0.0002      100.0    518.67    642.37   \n",
              "\n",
              "   Sensor 3  Sensor 4  Sensor 5  ...  Sensor 13  Sensor 14  Sensor 15  \\\n",
              "0   1589.70   1400.60     14.62  ...    2388.02    8138.62     8.4195   \n",
              "1   1591.82   1403.14     14.62  ...    2388.07    8131.49     8.4318   \n",
              "2   1587.99   1404.20     14.62  ...    2388.03    8133.23     8.4178   \n",
              "3   1582.79   1401.87     14.62  ...    2388.08    8133.83     8.3682   \n",
              "4   1582.85   1406.22     14.62  ...    2388.04    8133.80     8.4294   \n",
              "\n",
              "   Sensor 16  Sensor 17  Sensor 18  Sensor 19  Sensor 20  Sensor 21  \\\n",
              "0       0.03        392       2388      100.0      39.06    23.4190   \n",
              "1       0.03        392       2388      100.0      39.00    23.4236   \n",
              "2       0.03        390       2388      100.0      38.95    23.3442   \n",
              "3       0.03        392       2388      100.0      38.88    23.3739   \n",
              "4       0.03        393       2388      100.0      38.90    23.4044   \n",
              "\n",
              "   Remaining RUL  \n",
              "0            191  \n",
              "1            190  \n",
              "2            189  \n",
              "3            188  \n",
              "4            187  \n",
              "\n",
              "[5 rows x 27 columns]"
            ]
          },
          "execution_count": 16,
          "metadata": {},
          "output_type": "execute_result"
        }
      ],
      "source": [
        "train.head()"
      ]
    },
    {
      "cell_type": "markdown",
      "metadata": {
        "id": "mhXW7sjEMAyI"
      },
      "source": [
        "# Load RUL set"
      ]
    },
    {
      "cell_type": "code",
      "execution_count": 17,
      "metadata": {
        "colab": {
          "base_uri": "https://localhost:8080/"
        },
        "id": "UzSU4pRhMAyI",
        "outputId": "963152c3-afca-402d-a7fc-c3ef27793cd2"
      },
      "outputs": [
        {
          "name": "stderr",
          "output_type": "stream",
          "text": [
            "/usr/local/lib/python3.10/dist-packages/ipykernel/ipkernel.py:283: DeprecationWarning: `should_run_async` will not call `transform_cell` automatically in the future. Please pass the result to `transformed_cell` argument and any exception that happen during thetransform in `preprocessing_exc_tuple` in IPython 7.17 and above.\n",
            "  and should_run_async(code)\n"
          ]
        },
        {
          "name": "stdout",
          "output_type": "stream",
          "text": [
            "RUL shape: (100, 1)\n"
          ]
        }
      ],
      "source": [
        "rul = pd.read_csv(rul_path, sep=' ', header=None)\n",
        "rul.drop(rul.columns[1], axis=1, inplace=True)\n",
        "rul.columns = ['RUL']\n",
        "print(f'RUL shape: {rul.shape}')"
      ]
    },
    {
      "cell_type": "markdown",
      "metadata": {
        "id": "Prm8__JfMAyI"
      },
      "source": [
        "Tập RUL này là vòng đời còn lại của động cơ sau khi trải qua số lượng chu kỳ nhất định trong tập test (tương ứng)"
      ]
    },
    {
      "cell_type": "code",
      "execution_count": 18,
      "metadata": {
        "colab": {
          "base_uri": "https://localhost:8080/",
          "height": 0
        },
        "id": "fEYsXc7dMAyJ",
        "outputId": "ed4a9387-1459-45d4-d267-93cc17aa376a"
      },
      "outputs": [
        {
          "name": "stderr",
          "output_type": "stream",
          "text": [
            "/usr/local/lib/python3.10/dist-packages/ipykernel/ipkernel.py:283: DeprecationWarning: `should_run_async` will not call `transform_cell` automatically in the future. Please pass the result to `transformed_cell` argument and any exception that happen during thetransform in `preprocessing_exc_tuple` in IPython 7.17 and above.\n",
            "  and should_run_async(code)\n"
          ]
        },
        {
          "data": {
            "application/vnd.google.colaboratory.intrinsic+json": {
              "summary": "{\n  \"name\": \"rul\",\n  \"rows\": 100,\n  \"fields\": [\n    {\n      \"column\": \"RUL\",\n      \"properties\": {\n        \"dtype\": \"number\",\n        \"std\": 41,\n        \"min\": 7,\n        \"max\": 145,\n        \"num_unique_values\": 71,\n        \"samples\": [\n          119,\n          112,\n          100\n        ],\n        \"semantic_type\": \"\",\n        \"description\": \"\"\n      }\n    }\n  ]\n}",
              "type": "dataframe",
              "variable_name": "rul"
            },
            "text/html": [
              "\n",
              "  <div id=\"df-9097c237-99f7-47b2-9143-41ae97d26671\" class=\"colab-df-container\">\n",
              "    <div>\n",
              "<style scoped>\n",
              "    .dataframe tbody tr th:only-of-type {\n",
              "        vertical-align: middle;\n",
              "    }\n",
              "\n",
              "    .dataframe tbody tr th {\n",
              "        vertical-align: top;\n",
              "    }\n",
              "\n",
              "    .dataframe thead th {\n",
              "        text-align: right;\n",
              "    }\n",
              "</style>\n",
              "<table border=\"1\" class=\"dataframe\">\n",
              "  <thead>\n",
              "    <tr style=\"text-align: right;\">\n",
              "      <th></th>\n",
              "      <th>RUL</th>\n",
              "    </tr>\n",
              "  </thead>\n",
              "  <tbody>\n",
              "    <tr>\n",
              "      <th>0</th>\n",
              "      <td>112</td>\n",
              "    </tr>\n",
              "    <tr>\n",
              "      <th>1</th>\n",
              "      <td>98</td>\n",
              "    </tr>\n",
              "    <tr>\n",
              "      <th>2</th>\n",
              "      <td>69</td>\n",
              "    </tr>\n",
              "    <tr>\n",
              "      <th>3</th>\n",
              "      <td>82</td>\n",
              "    </tr>\n",
              "    <tr>\n",
              "      <th>4</th>\n",
              "      <td>91</td>\n",
              "    </tr>\n",
              "  </tbody>\n",
              "</table>\n",
              "</div>\n",
              "    <div class=\"colab-df-buttons\">\n",
              "\n",
              "  <div class=\"colab-df-container\">\n",
              "    <button class=\"colab-df-convert\" onclick=\"convertToInteractive('df-9097c237-99f7-47b2-9143-41ae97d26671')\"\n",
              "            title=\"Convert this dataframe to an interactive table.\"\n",
              "            style=\"display:none;\">\n",
              "\n",
              "  <svg xmlns=\"http://www.w3.org/2000/svg\" height=\"24px\" viewBox=\"0 -960 960 960\">\n",
              "    <path d=\"M120-120v-720h720v720H120Zm60-500h600v-160H180v160Zm220 220h160v-160H400v160Zm0 220h160v-160H400v160ZM180-400h160v-160H180v160Zm440 0h160v-160H620v160ZM180-180h160v-160H180v160Zm440 0h160v-160H620v160Z\"/>\n",
              "  </svg>\n",
              "    </button>\n",
              "\n",
              "  <style>\n",
              "    .colab-df-container {\n",
              "      display:flex;\n",
              "      gap: 12px;\n",
              "    }\n",
              "\n",
              "    .colab-df-convert {\n",
              "      background-color: #E8F0FE;\n",
              "      border: none;\n",
              "      border-radius: 50%;\n",
              "      cursor: pointer;\n",
              "      display: none;\n",
              "      fill: #1967D2;\n",
              "      height: 32px;\n",
              "      padding: 0 0 0 0;\n",
              "      width: 32px;\n",
              "    }\n",
              "\n",
              "    .colab-df-convert:hover {\n",
              "      background-color: #E2EBFA;\n",
              "      box-shadow: 0px 1px 2px rgba(60, 64, 67, 0.3), 0px 1px 3px 1px rgba(60, 64, 67, 0.15);\n",
              "      fill: #174EA6;\n",
              "    }\n",
              "\n",
              "    .colab-df-buttons div {\n",
              "      margin-bottom: 4px;\n",
              "    }\n",
              "\n",
              "    [theme=dark] .colab-df-convert {\n",
              "      background-color: #3B4455;\n",
              "      fill: #D2E3FC;\n",
              "    }\n",
              "\n",
              "    [theme=dark] .colab-df-convert:hover {\n",
              "      background-color: #434B5C;\n",
              "      box-shadow: 0px 1px 3px 1px rgba(0, 0, 0, 0.15);\n",
              "      filter: drop-shadow(0px 1px 2px rgba(0, 0, 0, 0.3));\n",
              "      fill: #FFFFFF;\n",
              "    }\n",
              "  </style>\n",
              "\n",
              "    <script>\n",
              "      const buttonEl =\n",
              "        document.querySelector('#df-9097c237-99f7-47b2-9143-41ae97d26671 button.colab-df-convert');\n",
              "      buttonEl.style.display =\n",
              "        google.colab.kernel.accessAllowed ? 'block' : 'none';\n",
              "\n",
              "      async function convertToInteractive(key) {\n",
              "        const element = document.querySelector('#df-9097c237-99f7-47b2-9143-41ae97d26671');\n",
              "        const dataTable =\n",
              "          await google.colab.kernel.invokeFunction('convertToInteractive',\n",
              "                                                    [key], {});\n",
              "        if (!dataTable) return;\n",
              "\n",
              "        const docLinkHtml = 'Like what you see? Visit the ' +\n",
              "          '<a target=\"_blank\" href=https://colab.research.google.com/notebooks/data_table.ipynb>data table notebook</a>'\n",
              "          + ' to learn more about interactive tables.';\n",
              "        element.innerHTML = '';\n",
              "        dataTable['output_type'] = 'display_data';\n",
              "        await google.colab.output.renderOutput(dataTable, element);\n",
              "        const docLink = document.createElement('div');\n",
              "        docLink.innerHTML = docLinkHtml;\n",
              "        element.appendChild(docLink);\n",
              "      }\n",
              "    </script>\n",
              "  </div>\n",
              "\n",
              "\n",
              "<div id=\"df-aff70ee7-e101-4cce-8e2c-f29bcce26f39\">\n",
              "  <button class=\"colab-df-quickchart\" onclick=\"quickchart('df-aff70ee7-e101-4cce-8e2c-f29bcce26f39')\"\n",
              "            title=\"Suggest charts\"\n",
              "            style=\"display:none;\">\n",
              "\n",
              "<svg xmlns=\"http://www.w3.org/2000/svg\" height=\"24px\"viewBox=\"0 0 24 24\"\n",
              "     width=\"24px\">\n",
              "    <g>\n",
              "        <path d=\"M19 3H5c-1.1 0-2 .9-2 2v14c0 1.1.9 2 2 2h14c1.1 0 2-.9 2-2V5c0-1.1-.9-2-2-2zM9 17H7v-7h2v7zm4 0h-2V7h2v10zm4 0h-2v-4h2v4z\"/>\n",
              "    </g>\n",
              "</svg>\n",
              "  </button>\n",
              "\n",
              "<style>\n",
              "  .colab-df-quickchart {\n",
              "      --bg-color: #E8F0FE;\n",
              "      --fill-color: #1967D2;\n",
              "      --hover-bg-color: #E2EBFA;\n",
              "      --hover-fill-color: #174EA6;\n",
              "      --disabled-fill-color: #AAA;\n",
              "      --disabled-bg-color: #DDD;\n",
              "  }\n",
              "\n",
              "  [theme=dark] .colab-df-quickchart {\n",
              "      --bg-color: #3B4455;\n",
              "      --fill-color: #D2E3FC;\n",
              "      --hover-bg-color: #434B5C;\n",
              "      --hover-fill-color: #FFFFFF;\n",
              "      --disabled-bg-color: #3B4455;\n",
              "      --disabled-fill-color: #666;\n",
              "  }\n",
              "\n",
              "  .colab-df-quickchart {\n",
              "    background-color: var(--bg-color);\n",
              "    border: none;\n",
              "    border-radius: 50%;\n",
              "    cursor: pointer;\n",
              "    display: none;\n",
              "    fill: var(--fill-color);\n",
              "    height: 32px;\n",
              "    padding: 0;\n",
              "    width: 32px;\n",
              "  }\n",
              "\n",
              "  .colab-df-quickchart:hover {\n",
              "    background-color: var(--hover-bg-color);\n",
              "    box-shadow: 0 1px 2px rgba(60, 64, 67, 0.3), 0 1px 3px 1px rgba(60, 64, 67, 0.15);\n",
              "    fill: var(--button-hover-fill-color);\n",
              "  }\n",
              "\n",
              "  .colab-df-quickchart-complete:disabled,\n",
              "  .colab-df-quickchart-complete:disabled:hover {\n",
              "    background-color: var(--disabled-bg-color);\n",
              "    fill: var(--disabled-fill-color);\n",
              "    box-shadow: none;\n",
              "  }\n",
              "\n",
              "  .colab-df-spinner {\n",
              "    border: 2px solid var(--fill-color);\n",
              "    border-color: transparent;\n",
              "    border-bottom-color: var(--fill-color);\n",
              "    animation:\n",
              "      spin 1s steps(1) infinite;\n",
              "  }\n",
              "\n",
              "  @keyframes spin {\n",
              "    0% {\n",
              "      border-color: transparent;\n",
              "      border-bottom-color: var(--fill-color);\n",
              "      border-left-color: var(--fill-color);\n",
              "    }\n",
              "    20% {\n",
              "      border-color: transparent;\n",
              "      border-left-color: var(--fill-color);\n",
              "      border-top-color: var(--fill-color);\n",
              "    }\n",
              "    30% {\n",
              "      border-color: transparent;\n",
              "      border-left-color: var(--fill-color);\n",
              "      border-top-color: var(--fill-color);\n",
              "      border-right-color: var(--fill-color);\n",
              "    }\n",
              "    40% {\n",
              "      border-color: transparent;\n",
              "      border-right-color: var(--fill-color);\n",
              "      border-top-color: var(--fill-color);\n",
              "    }\n",
              "    60% {\n",
              "      border-color: transparent;\n",
              "      border-right-color: var(--fill-color);\n",
              "    }\n",
              "    80% {\n",
              "      border-color: transparent;\n",
              "      border-right-color: var(--fill-color);\n",
              "      border-bottom-color: var(--fill-color);\n",
              "    }\n",
              "    90% {\n",
              "      border-color: transparent;\n",
              "      border-bottom-color: var(--fill-color);\n",
              "    }\n",
              "  }\n",
              "</style>\n",
              "\n",
              "  <script>\n",
              "    async function quickchart(key) {\n",
              "      const quickchartButtonEl =\n",
              "        document.querySelector('#' + key + ' button');\n",
              "      quickchartButtonEl.disabled = true;  // To prevent multiple clicks.\n",
              "      quickchartButtonEl.classList.add('colab-df-spinner');\n",
              "      try {\n",
              "        const charts = await google.colab.kernel.invokeFunction(\n",
              "            'suggestCharts', [key], {});\n",
              "      } catch (error) {\n",
              "        console.error('Error during call to suggestCharts:', error);\n",
              "      }\n",
              "      quickchartButtonEl.classList.remove('colab-df-spinner');\n",
              "      quickchartButtonEl.classList.add('colab-df-quickchart-complete');\n",
              "    }\n",
              "    (() => {\n",
              "      let quickchartButtonEl =\n",
              "        document.querySelector('#df-aff70ee7-e101-4cce-8e2c-f29bcce26f39 button');\n",
              "      quickchartButtonEl.style.display =\n",
              "        google.colab.kernel.accessAllowed ? 'block' : 'none';\n",
              "    })();\n",
              "  </script>\n",
              "</div>\n",
              "\n",
              "    </div>\n",
              "  </div>\n"
            ],
            "text/plain": [
              "   RUL\n",
              "0  112\n",
              "1   98\n",
              "2   69\n",
              "3   82\n",
              "4   91"
            ]
          },
          "execution_count": 18,
          "metadata": {},
          "output_type": "execute_result"
        }
      ],
      "source": [
        "rul.head()"
      ]
    },
    {
      "cell_type": "markdown",
      "metadata": {
        "id": "9uqS8lkPMAyJ"
      },
      "source": [
        "# Calculate RUL for test"
      ]
    },
    {
      "cell_type": "code",
      "execution_count": 19,
      "metadata": {
        "colab": {
          "base_uri": "https://localhost:8080/"
        },
        "id": "l1CugO7TMAyJ",
        "outputId": "ca91699b-8d09-4012-8f19-40f4bc23fdba"
      },
      "outputs": [
        {
          "name": "stderr",
          "output_type": "stream",
          "text": [
            "/usr/local/lib/python3.10/dist-packages/ipykernel/ipkernel.py:283: DeprecationWarning: `should_run_async` will not call `transform_cell` automatically in the future. Please pass the result to `transformed_cell` argument and any exception that happen during thetransform in `preprocessing_exc_tuple` in IPython 7.17 and above.\n",
            "  and should_run_async(code)\n"
          ]
        }
      ],
      "source": [
        "# Load test set\n",
        "test = pd.read_csv(test_path, sep=' ', header=None)\n",
        "test.drop([26, 27], axis=1, inplace=True)\n",
        "test.columns = column_names\n",
        "\n",
        "test['Remaining RUL'] = ''\n",
        "# test.head()"
      ]
    },
    {
      "cell_type": "code",
      "execution_count": 20,
      "metadata": {
        "colab": {
          "base_uri": "https://localhost:8080/"
        },
        "id": "6dTygyMtMAyJ",
        "outputId": "50229fc5-16d6-44d3-944f-c9ee9460f192"
      },
      "outputs": [
        {
          "name": "stderr",
          "output_type": "stream",
          "text": [
            "/usr/local/lib/python3.10/dist-packages/ipykernel/ipkernel.py:283: DeprecationWarning: `should_run_async` will not call `transform_cell` automatically in the future. Please pass the result to `transformed_cell` argument and any exception that happen during thetransform in `preprocessing_exc_tuple` in IPython 7.17 and above.\n",
            "  and should_run_async(code)\n"
          ]
        }
      ],
      "source": [
        "max_cycle_test = test.groupby('ID Engine').count()\n",
        "\n",
        "for idx in range(len(test)):\n",
        "    test.loc[idx, 'Remaining RUL'] = rul.loc[test.loc[idx, 'ID Engine'] - 1, 'RUL'] + max_cycle_test.loc[test.loc[idx, 'ID Engine'], 'Cycle']\n",
        "test['Remaining RUL'] = test['Remaining RUL'] - test['Cycle']"
      ]
    },
    {
      "cell_type": "code",
      "execution_count": 21,
      "metadata": {
        "colab": {
          "base_uri": "https://localhost:8080/",
          "height": 0
        },
        "id": "rIVfgCQyMAyJ",
        "outputId": "32d9835b-970b-484d-b96b-d9b342a853ea"
      },
      "outputs": [
        {
          "name": "stderr",
          "output_type": "stream",
          "text": [
            "/usr/local/lib/python3.10/dist-packages/ipykernel/ipkernel.py:283: DeprecationWarning: `should_run_async` will not call `transform_cell` automatically in the future. Please pass the result to `transformed_cell` argument and any exception that happen during thetransform in `preprocessing_exc_tuple` in IPython 7.17 and above.\n",
            "  and should_run_async(code)\n"
          ]
        },
        {
          "data": {
            "application/vnd.google.colaboratory.intrinsic+json": {
              "type": "dataframe",
              "variable_name": "test"
            },
            "text/html": [
              "\n",
              "  <div id=\"df-e8e13e1c-d9f8-4e8d-8098-b49c80413542\" class=\"colab-df-container\">\n",
              "    <div>\n",
              "<style scoped>\n",
              "    .dataframe tbody tr th:only-of-type {\n",
              "        vertical-align: middle;\n",
              "    }\n",
              "\n",
              "    .dataframe tbody tr th {\n",
              "        vertical-align: top;\n",
              "    }\n",
              "\n",
              "    .dataframe thead th {\n",
              "        text-align: right;\n",
              "    }\n",
              "</style>\n",
              "<table border=\"1\" class=\"dataframe\">\n",
              "  <thead>\n",
              "    <tr style=\"text-align: right;\">\n",
              "      <th></th>\n",
              "      <th>ID Engine</th>\n",
              "      <th>Cycle</th>\n",
              "      <th>Setting 1</th>\n",
              "      <th>Setting 2</th>\n",
              "      <th>Setting 3</th>\n",
              "      <th>Sensor 1</th>\n",
              "      <th>Sensor 2</th>\n",
              "      <th>Sensor 3</th>\n",
              "      <th>Sensor 4</th>\n",
              "      <th>Sensor 5</th>\n",
              "      <th>...</th>\n",
              "      <th>Sensor 13</th>\n",
              "      <th>Sensor 14</th>\n",
              "      <th>Sensor 15</th>\n",
              "      <th>Sensor 16</th>\n",
              "      <th>Sensor 17</th>\n",
              "      <th>Sensor 18</th>\n",
              "      <th>Sensor 19</th>\n",
              "      <th>Sensor 20</th>\n",
              "      <th>Sensor 21</th>\n",
              "      <th>Remaining RUL</th>\n",
              "    </tr>\n",
              "  </thead>\n",
              "  <tbody>\n",
              "    <tr>\n",
              "      <th>0</th>\n",
              "      <td>1</td>\n",
              "      <td>1</td>\n",
              "      <td>0.0023</td>\n",
              "      <td>0.0003</td>\n",
              "      <td>100.0</td>\n",
              "      <td>518.67</td>\n",
              "      <td>643.02</td>\n",
              "      <td>1585.29</td>\n",
              "      <td>1398.21</td>\n",
              "      <td>14.62</td>\n",
              "      <td>...</td>\n",
              "      <td>2388.03</td>\n",
              "      <td>8125.55</td>\n",
              "      <td>8.4052</td>\n",
              "      <td>0.03</td>\n",
              "      <td>392</td>\n",
              "      <td>2388</td>\n",
              "      <td>100.0</td>\n",
              "      <td>38.86</td>\n",
              "      <td>23.3735</td>\n",
              "      <td>142</td>\n",
              "    </tr>\n",
              "    <tr>\n",
              "      <th>1</th>\n",
              "      <td>1</td>\n",
              "      <td>2</td>\n",
              "      <td>-0.0027</td>\n",
              "      <td>-0.0003</td>\n",
              "      <td>100.0</td>\n",
              "      <td>518.67</td>\n",
              "      <td>641.71</td>\n",
              "      <td>1588.45</td>\n",
              "      <td>1395.42</td>\n",
              "      <td>14.62</td>\n",
              "      <td>...</td>\n",
              "      <td>2388.06</td>\n",
              "      <td>8139.62</td>\n",
              "      <td>8.3803</td>\n",
              "      <td>0.03</td>\n",
              "      <td>393</td>\n",
              "      <td>2388</td>\n",
              "      <td>100.0</td>\n",
              "      <td>39.02</td>\n",
              "      <td>23.3916</td>\n",
              "      <td>141</td>\n",
              "    </tr>\n",
              "    <tr>\n",
              "      <th>2</th>\n",
              "      <td>1</td>\n",
              "      <td>3</td>\n",
              "      <td>0.0003</td>\n",
              "      <td>0.0001</td>\n",
              "      <td>100.0</td>\n",
              "      <td>518.67</td>\n",
              "      <td>642.46</td>\n",
              "      <td>1586.94</td>\n",
              "      <td>1401.34</td>\n",
              "      <td>14.62</td>\n",
              "      <td>...</td>\n",
              "      <td>2388.03</td>\n",
              "      <td>8130.10</td>\n",
              "      <td>8.4441</td>\n",
              "      <td>0.03</td>\n",
              "      <td>393</td>\n",
              "      <td>2388</td>\n",
              "      <td>100.0</td>\n",
              "      <td>39.08</td>\n",
              "      <td>23.4166</td>\n",
              "      <td>140</td>\n",
              "    </tr>\n",
              "    <tr>\n",
              "      <th>3</th>\n",
              "      <td>1</td>\n",
              "      <td>4</td>\n",
              "      <td>0.0042</td>\n",
              "      <td>0.0000</td>\n",
              "      <td>100.0</td>\n",
              "      <td>518.67</td>\n",
              "      <td>642.44</td>\n",
              "      <td>1584.12</td>\n",
              "      <td>1406.42</td>\n",
              "      <td>14.62</td>\n",
              "      <td>...</td>\n",
              "      <td>2388.05</td>\n",
              "      <td>8132.90</td>\n",
              "      <td>8.3917</td>\n",
              "      <td>0.03</td>\n",
              "      <td>391</td>\n",
              "      <td>2388</td>\n",
              "      <td>100.0</td>\n",
              "      <td>39.00</td>\n",
              "      <td>23.3737</td>\n",
              "      <td>139</td>\n",
              "    </tr>\n",
              "    <tr>\n",
              "      <th>4</th>\n",
              "      <td>1</td>\n",
              "      <td>5</td>\n",
              "      <td>0.0014</td>\n",
              "      <td>0.0000</td>\n",
              "      <td>100.0</td>\n",
              "      <td>518.67</td>\n",
              "      <td>642.51</td>\n",
              "      <td>1587.19</td>\n",
              "      <td>1401.92</td>\n",
              "      <td>14.62</td>\n",
              "      <td>...</td>\n",
              "      <td>2388.03</td>\n",
              "      <td>8129.54</td>\n",
              "      <td>8.4031</td>\n",
              "      <td>0.03</td>\n",
              "      <td>390</td>\n",
              "      <td>2388</td>\n",
              "      <td>100.0</td>\n",
              "      <td>38.99</td>\n",
              "      <td>23.4130</td>\n",
              "      <td>138</td>\n",
              "    </tr>\n",
              "  </tbody>\n",
              "</table>\n",
              "<p>5 rows × 27 columns</p>\n",
              "</div>\n",
              "    <div class=\"colab-df-buttons\">\n",
              "\n",
              "  <div class=\"colab-df-container\">\n",
              "    <button class=\"colab-df-convert\" onclick=\"convertToInteractive('df-e8e13e1c-d9f8-4e8d-8098-b49c80413542')\"\n",
              "            title=\"Convert this dataframe to an interactive table.\"\n",
              "            style=\"display:none;\">\n",
              "\n",
              "  <svg xmlns=\"http://www.w3.org/2000/svg\" height=\"24px\" viewBox=\"0 -960 960 960\">\n",
              "    <path d=\"M120-120v-720h720v720H120Zm60-500h600v-160H180v160Zm220 220h160v-160H400v160Zm0 220h160v-160H400v160ZM180-400h160v-160H180v160Zm440 0h160v-160H620v160ZM180-180h160v-160H180v160Zm440 0h160v-160H620v160Z\"/>\n",
              "  </svg>\n",
              "    </button>\n",
              "\n",
              "  <style>\n",
              "    .colab-df-container {\n",
              "      display:flex;\n",
              "      gap: 12px;\n",
              "    }\n",
              "\n",
              "    .colab-df-convert {\n",
              "      background-color: #E8F0FE;\n",
              "      border: none;\n",
              "      border-radius: 50%;\n",
              "      cursor: pointer;\n",
              "      display: none;\n",
              "      fill: #1967D2;\n",
              "      height: 32px;\n",
              "      padding: 0 0 0 0;\n",
              "      width: 32px;\n",
              "    }\n",
              "\n",
              "    .colab-df-convert:hover {\n",
              "      background-color: #E2EBFA;\n",
              "      box-shadow: 0px 1px 2px rgba(60, 64, 67, 0.3), 0px 1px 3px 1px rgba(60, 64, 67, 0.15);\n",
              "      fill: #174EA6;\n",
              "    }\n",
              "\n",
              "    .colab-df-buttons div {\n",
              "      margin-bottom: 4px;\n",
              "    }\n",
              "\n",
              "    [theme=dark] .colab-df-convert {\n",
              "      background-color: #3B4455;\n",
              "      fill: #D2E3FC;\n",
              "    }\n",
              "\n",
              "    [theme=dark] .colab-df-convert:hover {\n",
              "      background-color: #434B5C;\n",
              "      box-shadow: 0px 1px 3px 1px rgba(0, 0, 0, 0.15);\n",
              "      filter: drop-shadow(0px 1px 2px rgba(0, 0, 0, 0.3));\n",
              "      fill: #FFFFFF;\n",
              "    }\n",
              "  </style>\n",
              "\n",
              "    <script>\n",
              "      const buttonEl =\n",
              "        document.querySelector('#df-e8e13e1c-d9f8-4e8d-8098-b49c80413542 button.colab-df-convert');\n",
              "      buttonEl.style.display =\n",
              "        google.colab.kernel.accessAllowed ? 'block' : 'none';\n",
              "\n",
              "      async function convertToInteractive(key) {\n",
              "        const element = document.querySelector('#df-e8e13e1c-d9f8-4e8d-8098-b49c80413542');\n",
              "        const dataTable =\n",
              "          await google.colab.kernel.invokeFunction('convertToInteractive',\n",
              "                                                    [key], {});\n",
              "        if (!dataTable) return;\n",
              "\n",
              "        const docLinkHtml = 'Like what you see? Visit the ' +\n",
              "          '<a target=\"_blank\" href=https://colab.research.google.com/notebooks/data_table.ipynb>data table notebook</a>'\n",
              "          + ' to learn more about interactive tables.';\n",
              "        element.innerHTML = '';\n",
              "        dataTable['output_type'] = 'display_data';\n",
              "        await google.colab.output.renderOutput(dataTable, element);\n",
              "        const docLink = document.createElement('div');\n",
              "        docLink.innerHTML = docLinkHtml;\n",
              "        element.appendChild(docLink);\n",
              "      }\n",
              "    </script>\n",
              "  </div>\n",
              "\n",
              "\n",
              "<div id=\"df-0bf41efd-ffe3-4dbe-be0f-2a0b076cd7ae\">\n",
              "  <button class=\"colab-df-quickchart\" onclick=\"quickchart('df-0bf41efd-ffe3-4dbe-be0f-2a0b076cd7ae')\"\n",
              "            title=\"Suggest charts\"\n",
              "            style=\"display:none;\">\n",
              "\n",
              "<svg xmlns=\"http://www.w3.org/2000/svg\" height=\"24px\"viewBox=\"0 0 24 24\"\n",
              "     width=\"24px\">\n",
              "    <g>\n",
              "        <path d=\"M19 3H5c-1.1 0-2 .9-2 2v14c0 1.1.9 2 2 2h14c1.1 0 2-.9 2-2V5c0-1.1-.9-2-2-2zM9 17H7v-7h2v7zm4 0h-2V7h2v10zm4 0h-2v-4h2v4z\"/>\n",
              "    </g>\n",
              "</svg>\n",
              "  </button>\n",
              "\n",
              "<style>\n",
              "  .colab-df-quickchart {\n",
              "      --bg-color: #E8F0FE;\n",
              "      --fill-color: #1967D2;\n",
              "      --hover-bg-color: #E2EBFA;\n",
              "      --hover-fill-color: #174EA6;\n",
              "      --disabled-fill-color: #AAA;\n",
              "      --disabled-bg-color: #DDD;\n",
              "  }\n",
              "\n",
              "  [theme=dark] .colab-df-quickchart {\n",
              "      --bg-color: #3B4455;\n",
              "      --fill-color: #D2E3FC;\n",
              "      --hover-bg-color: #434B5C;\n",
              "      --hover-fill-color: #FFFFFF;\n",
              "      --disabled-bg-color: #3B4455;\n",
              "      --disabled-fill-color: #666;\n",
              "  }\n",
              "\n",
              "  .colab-df-quickchart {\n",
              "    background-color: var(--bg-color);\n",
              "    border: none;\n",
              "    border-radius: 50%;\n",
              "    cursor: pointer;\n",
              "    display: none;\n",
              "    fill: var(--fill-color);\n",
              "    height: 32px;\n",
              "    padding: 0;\n",
              "    width: 32px;\n",
              "  }\n",
              "\n",
              "  .colab-df-quickchart:hover {\n",
              "    background-color: var(--hover-bg-color);\n",
              "    box-shadow: 0 1px 2px rgba(60, 64, 67, 0.3), 0 1px 3px 1px rgba(60, 64, 67, 0.15);\n",
              "    fill: var(--button-hover-fill-color);\n",
              "  }\n",
              "\n",
              "  .colab-df-quickchart-complete:disabled,\n",
              "  .colab-df-quickchart-complete:disabled:hover {\n",
              "    background-color: var(--disabled-bg-color);\n",
              "    fill: var(--disabled-fill-color);\n",
              "    box-shadow: none;\n",
              "  }\n",
              "\n",
              "  .colab-df-spinner {\n",
              "    border: 2px solid var(--fill-color);\n",
              "    border-color: transparent;\n",
              "    border-bottom-color: var(--fill-color);\n",
              "    animation:\n",
              "      spin 1s steps(1) infinite;\n",
              "  }\n",
              "\n",
              "  @keyframes spin {\n",
              "    0% {\n",
              "      border-color: transparent;\n",
              "      border-bottom-color: var(--fill-color);\n",
              "      border-left-color: var(--fill-color);\n",
              "    }\n",
              "    20% {\n",
              "      border-color: transparent;\n",
              "      border-left-color: var(--fill-color);\n",
              "      border-top-color: var(--fill-color);\n",
              "    }\n",
              "    30% {\n",
              "      border-color: transparent;\n",
              "      border-left-color: var(--fill-color);\n",
              "      border-top-color: var(--fill-color);\n",
              "      border-right-color: var(--fill-color);\n",
              "    }\n",
              "    40% {\n",
              "      border-color: transparent;\n",
              "      border-right-color: var(--fill-color);\n",
              "      border-top-color: var(--fill-color);\n",
              "    }\n",
              "    60% {\n",
              "      border-color: transparent;\n",
              "      border-right-color: var(--fill-color);\n",
              "    }\n",
              "    80% {\n",
              "      border-color: transparent;\n",
              "      border-right-color: var(--fill-color);\n",
              "      border-bottom-color: var(--fill-color);\n",
              "    }\n",
              "    90% {\n",
              "      border-color: transparent;\n",
              "      border-bottom-color: var(--fill-color);\n",
              "    }\n",
              "  }\n",
              "</style>\n",
              "\n",
              "  <script>\n",
              "    async function quickchart(key) {\n",
              "      const quickchartButtonEl =\n",
              "        document.querySelector('#' + key + ' button');\n",
              "      quickchartButtonEl.disabled = true;  // To prevent multiple clicks.\n",
              "      quickchartButtonEl.classList.add('colab-df-spinner');\n",
              "      try {\n",
              "        const charts = await google.colab.kernel.invokeFunction(\n",
              "            'suggestCharts', [key], {});\n",
              "      } catch (error) {\n",
              "        console.error('Error during call to suggestCharts:', error);\n",
              "      }\n",
              "      quickchartButtonEl.classList.remove('colab-df-spinner');\n",
              "      quickchartButtonEl.classList.add('colab-df-quickchart-complete');\n",
              "    }\n",
              "    (() => {\n",
              "      let quickchartButtonEl =\n",
              "        document.querySelector('#df-0bf41efd-ffe3-4dbe-be0f-2a0b076cd7ae button');\n",
              "      quickchartButtonEl.style.display =\n",
              "        google.colab.kernel.accessAllowed ? 'block' : 'none';\n",
              "    })();\n",
              "  </script>\n",
              "</div>\n",
              "\n",
              "    </div>\n",
              "  </div>\n"
            ],
            "text/plain": [
              "   ID Engine  Cycle  Setting 1  Setting 2  Setting 3  Sensor 1  Sensor 2  \\\n",
              "0          1      1     0.0023     0.0003      100.0    518.67    643.02   \n",
              "1          1      2    -0.0027    -0.0003      100.0    518.67    641.71   \n",
              "2          1      3     0.0003     0.0001      100.0    518.67    642.46   \n",
              "3          1      4     0.0042     0.0000      100.0    518.67    642.44   \n",
              "4          1      5     0.0014     0.0000      100.0    518.67    642.51   \n",
              "\n",
              "   Sensor 3  Sensor 4  Sensor 5  ...  Sensor 13  Sensor 14  Sensor 15  \\\n",
              "0   1585.29   1398.21     14.62  ...    2388.03    8125.55     8.4052   \n",
              "1   1588.45   1395.42     14.62  ...    2388.06    8139.62     8.3803   \n",
              "2   1586.94   1401.34     14.62  ...    2388.03    8130.10     8.4441   \n",
              "3   1584.12   1406.42     14.62  ...    2388.05    8132.90     8.3917   \n",
              "4   1587.19   1401.92     14.62  ...    2388.03    8129.54     8.4031   \n",
              "\n",
              "   Sensor 16  Sensor 17  Sensor 18  Sensor 19  Sensor 20  Sensor 21  \\\n",
              "0       0.03        392       2388      100.0      38.86    23.3735   \n",
              "1       0.03        393       2388      100.0      39.02    23.3916   \n",
              "2       0.03        393       2388      100.0      39.08    23.4166   \n",
              "3       0.03        391       2388      100.0      39.00    23.3737   \n",
              "4       0.03        390       2388      100.0      38.99    23.4130   \n",
              "\n",
              "   Remaining RUL  \n",
              "0            142  \n",
              "1            141  \n",
              "2            140  \n",
              "3            139  \n",
              "4            138  \n",
              "\n",
              "[5 rows x 27 columns]"
            ]
          },
          "execution_count": 21,
          "metadata": {},
          "output_type": "execute_result"
        }
      ],
      "source": [
        "test.head()"
      ]
    },
    {
      "cell_type": "markdown",
      "metadata": {
        "id": "lj7dyHsdMAyK"
      },
      "source": [
        "# Standard data (for train and test set)"
      ]
    },
    {
      "cell_type": "code",
      "execution_count": 22,
      "metadata": {
        "colab": {
          "base_uri": "https://localhost:8080/"
        },
        "id": "PU2HL_DdMAyK",
        "outputId": "94a078eb-069b-4c4e-f469-f90f3f75504e"
      },
      "outputs": [
        {
          "name": "stderr",
          "output_type": "stream",
          "text": [
            "/usr/local/lib/python3.10/dist-packages/ipykernel/ipkernel.py:283: DeprecationWarning: `should_run_async` will not call `transform_cell` automatically in the future. Please pass the result to `transformed_cell` argument and any exception that happen during thetransform in `preprocessing_exc_tuple` in IPython 7.17 and above.\n",
            "  and should_run_async(code)\n"
          ]
        }
      ],
      "source": [
        "scaled_columns = train.columns[5:]\n",
        "scaler = MinMaxScaler()\n",
        "train[scaled_columns] = scaler.fit_transform(train[scaled_columns])\n",
        "test[scaled_columns] = scaler.fit_transform(test[scaled_columns])"
      ]
    },
    {
      "cell_type": "code",
      "execution_count": 23,
      "metadata": {
        "colab": {
          "base_uri": "https://localhost:8080/",
          "height": 0
        },
        "id": "SuOOhTnTMAyK",
        "outputId": "3ff6a48e-9bf8-4577-a03c-1c9367ac68f1"
      },
      "outputs": [
        {
          "name": "stderr",
          "output_type": "stream",
          "text": [
            "/usr/local/lib/python3.10/dist-packages/ipykernel/ipkernel.py:283: DeprecationWarning: `should_run_async` will not call `transform_cell` automatically in the future. Please pass the result to `transformed_cell` argument and any exception that happen during thetransform in `preprocessing_exc_tuple` in IPython 7.17 and above.\n",
            "  and should_run_async(code)\n"
          ]
        },
        {
          "data": {
            "application/vnd.google.colaboratory.intrinsic+json": {
              "type": "dataframe",
              "variable_name": "train"
            },
            "text/html": [
              "\n",
              "  <div id=\"df-1bdae1b0-e622-4545-87ef-eadd11000ee0\" class=\"colab-df-container\">\n",
              "    <div>\n",
              "<style scoped>\n",
              "    .dataframe tbody tr th:only-of-type {\n",
              "        vertical-align: middle;\n",
              "    }\n",
              "\n",
              "    .dataframe tbody tr th {\n",
              "        vertical-align: top;\n",
              "    }\n",
              "\n",
              "    .dataframe thead th {\n",
              "        text-align: right;\n",
              "    }\n",
              "</style>\n",
              "<table border=\"1\" class=\"dataframe\">\n",
              "  <thead>\n",
              "    <tr style=\"text-align: right;\">\n",
              "      <th></th>\n",
              "      <th>ID Engine</th>\n",
              "      <th>Cycle</th>\n",
              "      <th>Setting 1</th>\n",
              "      <th>Setting 2</th>\n",
              "      <th>Setting 3</th>\n",
              "      <th>Sensor 1</th>\n",
              "      <th>Sensor 2</th>\n",
              "      <th>Sensor 3</th>\n",
              "      <th>Sensor 4</th>\n",
              "      <th>Sensor 5</th>\n",
              "      <th>...</th>\n",
              "      <th>Sensor 13</th>\n",
              "      <th>Sensor 14</th>\n",
              "      <th>Sensor 15</th>\n",
              "      <th>Sensor 16</th>\n",
              "      <th>Sensor 17</th>\n",
              "      <th>Sensor 18</th>\n",
              "      <th>Sensor 19</th>\n",
              "      <th>Sensor 20</th>\n",
              "      <th>Sensor 21</th>\n",
              "      <th>Remaining RUL</th>\n",
              "    </tr>\n",
              "  </thead>\n",
              "  <tbody>\n",
              "    <tr>\n",
              "      <th>0</th>\n",
              "      <td>1</td>\n",
              "      <td>1</td>\n",
              "      <td>-0.0007</td>\n",
              "      <td>-0.0004</td>\n",
              "      <td>100.0</td>\n",
              "      <td>0.0</td>\n",
              "      <td>0.183735</td>\n",
              "      <td>0.406802</td>\n",
              "      <td>0.309757</td>\n",
              "      <td>0.0</td>\n",
              "      <td>...</td>\n",
              "      <td>0.205882</td>\n",
              "      <td>0.199608</td>\n",
              "      <td>0.363986</td>\n",
              "      <td>0.0</td>\n",
              "      <td>0.333333</td>\n",
              "      <td>0.0</td>\n",
              "      <td>0.0</td>\n",
              "      <td>0.713178</td>\n",
              "      <td>0.724662</td>\n",
              "      <td>0.529086</td>\n",
              "    </tr>\n",
              "    <tr>\n",
              "      <th>1</th>\n",
              "      <td>1</td>\n",
              "      <td>2</td>\n",
              "      <td>0.0019</td>\n",
              "      <td>-0.0003</td>\n",
              "      <td>100.0</td>\n",
              "      <td>0.0</td>\n",
              "      <td>0.283133</td>\n",
              "      <td>0.453019</td>\n",
              "      <td>0.352633</td>\n",
              "      <td>0.0</td>\n",
              "      <td>...</td>\n",
              "      <td>0.279412</td>\n",
              "      <td>0.162813</td>\n",
              "      <td>0.411312</td>\n",
              "      <td>0.0</td>\n",
              "      <td>0.333333</td>\n",
              "      <td>0.0</td>\n",
              "      <td>0.0</td>\n",
              "      <td>0.666667</td>\n",
              "      <td>0.731014</td>\n",
              "      <td>0.526316</td>\n",
              "    </tr>\n",
              "    <tr>\n",
              "      <th>2</th>\n",
              "      <td>1</td>\n",
              "      <td>3</td>\n",
              "      <td>-0.0043</td>\n",
              "      <td>0.0003</td>\n",
              "      <td>100.0</td>\n",
              "      <td>0.0</td>\n",
              "      <td>0.343373</td>\n",
              "      <td>0.369523</td>\n",
              "      <td>0.370527</td>\n",
              "      <td>0.0</td>\n",
              "      <td>...</td>\n",
              "      <td>0.220588</td>\n",
              "      <td>0.171793</td>\n",
              "      <td>0.357445</td>\n",
              "      <td>0.0</td>\n",
              "      <td>0.166667</td>\n",
              "      <td>0.0</td>\n",
              "      <td>0.0</td>\n",
              "      <td>0.627907</td>\n",
              "      <td>0.621375</td>\n",
              "      <td>0.523546</td>\n",
              "    </tr>\n",
              "    <tr>\n",
              "      <th>3</th>\n",
              "      <td>1</td>\n",
              "      <td>4</td>\n",
              "      <td>0.0007</td>\n",
              "      <td>0.0000</td>\n",
              "      <td>100.0</td>\n",
              "      <td>0.0</td>\n",
              "      <td>0.343373</td>\n",
              "      <td>0.256159</td>\n",
              "      <td>0.331195</td>\n",
              "      <td>0.0</td>\n",
              "      <td>...</td>\n",
              "      <td>0.294118</td>\n",
              "      <td>0.174889</td>\n",
              "      <td>0.166603</td>\n",
              "      <td>0.0</td>\n",
              "      <td>0.333333</td>\n",
              "      <td>0.0</td>\n",
              "      <td>0.0</td>\n",
              "      <td>0.573643</td>\n",
              "      <td>0.662386</td>\n",
              "      <td>0.520776</td>\n",
              "    </tr>\n",
              "    <tr>\n",
              "      <th>4</th>\n",
              "      <td>1</td>\n",
              "      <td>5</td>\n",
              "      <td>-0.0019</td>\n",
              "      <td>-0.0002</td>\n",
              "      <td>100.0</td>\n",
              "      <td>0.0</td>\n",
              "      <td>0.349398</td>\n",
              "      <td>0.257467</td>\n",
              "      <td>0.404625</td>\n",
              "      <td>0.0</td>\n",
              "      <td>...</td>\n",
              "      <td>0.235294</td>\n",
              "      <td>0.174734</td>\n",
              "      <td>0.402078</td>\n",
              "      <td>0.0</td>\n",
              "      <td>0.416667</td>\n",
              "      <td>0.0</td>\n",
              "      <td>0.0</td>\n",
              "      <td>0.589147</td>\n",
              "      <td>0.704502</td>\n",
              "      <td>0.518006</td>\n",
              "    </tr>\n",
              "  </tbody>\n",
              "</table>\n",
              "<p>5 rows × 27 columns</p>\n",
              "</div>\n",
              "    <div class=\"colab-df-buttons\">\n",
              "\n",
              "  <div class=\"colab-df-container\">\n",
              "    <button class=\"colab-df-convert\" onclick=\"convertToInteractive('df-1bdae1b0-e622-4545-87ef-eadd11000ee0')\"\n",
              "            title=\"Convert this dataframe to an interactive table.\"\n",
              "            style=\"display:none;\">\n",
              "\n",
              "  <svg xmlns=\"http://www.w3.org/2000/svg\" height=\"24px\" viewBox=\"0 -960 960 960\">\n",
              "    <path d=\"M120-120v-720h720v720H120Zm60-500h600v-160H180v160Zm220 220h160v-160H400v160Zm0 220h160v-160H400v160ZM180-400h160v-160H180v160Zm440 0h160v-160H620v160ZM180-180h160v-160H180v160Zm440 0h160v-160H620v160Z\"/>\n",
              "  </svg>\n",
              "    </button>\n",
              "\n",
              "  <style>\n",
              "    .colab-df-container {\n",
              "      display:flex;\n",
              "      gap: 12px;\n",
              "    }\n",
              "\n",
              "    .colab-df-convert {\n",
              "      background-color: #E8F0FE;\n",
              "      border: none;\n",
              "      border-radius: 50%;\n",
              "      cursor: pointer;\n",
              "      display: none;\n",
              "      fill: #1967D2;\n",
              "      height: 32px;\n",
              "      padding: 0 0 0 0;\n",
              "      width: 32px;\n",
              "    }\n",
              "\n",
              "    .colab-df-convert:hover {\n",
              "      background-color: #E2EBFA;\n",
              "      box-shadow: 0px 1px 2px rgba(60, 64, 67, 0.3), 0px 1px 3px 1px rgba(60, 64, 67, 0.15);\n",
              "      fill: #174EA6;\n",
              "    }\n",
              "\n",
              "    .colab-df-buttons div {\n",
              "      margin-bottom: 4px;\n",
              "    }\n",
              "\n",
              "    [theme=dark] .colab-df-convert {\n",
              "      background-color: #3B4455;\n",
              "      fill: #D2E3FC;\n",
              "    }\n",
              "\n",
              "    [theme=dark] .colab-df-convert:hover {\n",
              "      background-color: #434B5C;\n",
              "      box-shadow: 0px 1px 3px 1px rgba(0, 0, 0, 0.15);\n",
              "      filter: drop-shadow(0px 1px 2px rgba(0, 0, 0, 0.3));\n",
              "      fill: #FFFFFF;\n",
              "    }\n",
              "  </style>\n",
              "\n",
              "    <script>\n",
              "      const buttonEl =\n",
              "        document.querySelector('#df-1bdae1b0-e622-4545-87ef-eadd11000ee0 button.colab-df-convert');\n",
              "      buttonEl.style.display =\n",
              "        google.colab.kernel.accessAllowed ? 'block' : 'none';\n",
              "\n",
              "      async function convertToInteractive(key) {\n",
              "        const element = document.querySelector('#df-1bdae1b0-e622-4545-87ef-eadd11000ee0');\n",
              "        const dataTable =\n",
              "          await google.colab.kernel.invokeFunction('convertToInteractive',\n",
              "                                                    [key], {});\n",
              "        if (!dataTable) return;\n",
              "\n",
              "        const docLinkHtml = 'Like what you see? Visit the ' +\n",
              "          '<a target=\"_blank\" href=https://colab.research.google.com/notebooks/data_table.ipynb>data table notebook</a>'\n",
              "          + ' to learn more about interactive tables.';\n",
              "        element.innerHTML = '';\n",
              "        dataTable['output_type'] = 'display_data';\n",
              "        await google.colab.output.renderOutput(dataTable, element);\n",
              "        const docLink = document.createElement('div');\n",
              "        docLink.innerHTML = docLinkHtml;\n",
              "        element.appendChild(docLink);\n",
              "      }\n",
              "    </script>\n",
              "  </div>\n",
              "\n",
              "\n",
              "<div id=\"df-db9bdf1a-54ae-44cc-9744-ba6f0457c566\">\n",
              "  <button class=\"colab-df-quickchart\" onclick=\"quickchart('df-db9bdf1a-54ae-44cc-9744-ba6f0457c566')\"\n",
              "            title=\"Suggest charts\"\n",
              "            style=\"display:none;\">\n",
              "\n",
              "<svg xmlns=\"http://www.w3.org/2000/svg\" height=\"24px\"viewBox=\"0 0 24 24\"\n",
              "     width=\"24px\">\n",
              "    <g>\n",
              "        <path d=\"M19 3H5c-1.1 0-2 .9-2 2v14c0 1.1.9 2 2 2h14c1.1 0 2-.9 2-2V5c0-1.1-.9-2-2-2zM9 17H7v-7h2v7zm4 0h-2V7h2v10zm4 0h-2v-4h2v4z\"/>\n",
              "    </g>\n",
              "</svg>\n",
              "  </button>\n",
              "\n",
              "<style>\n",
              "  .colab-df-quickchart {\n",
              "      --bg-color: #E8F0FE;\n",
              "      --fill-color: #1967D2;\n",
              "      --hover-bg-color: #E2EBFA;\n",
              "      --hover-fill-color: #174EA6;\n",
              "      --disabled-fill-color: #AAA;\n",
              "      --disabled-bg-color: #DDD;\n",
              "  }\n",
              "\n",
              "  [theme=dark] .colab-df-quickchart {\n",
              "      --bg-color: #3B4455;\n",
              "      --fill-color: #D2E3FC;\n",
              "      --hover-bg-color: #434B5C;\n",
              "      --hover-fill-color: #FFFFFF;\n",
              "      --disabled-bg-color: #3B4455;\n",
              "      --disabled-fill-color: #666;\n",
              "  }\n",
              "\n",
              "  .colab-df-quickchart {\n",
              "    background-color: var(--bg-color);\n",
              "    border: none;\n",
              "    border-radius: 50%;\n",
              "    cursor: pointer;\n",
              "    display: none;\n",
              "    fill: var(--fill-color);\n",
              "    height: 32px;\n",
              "    padding: 0;\n",
              "    width: 32px;\n",
              "  }\n",
              "\n",
              "  .colab-df-quickchart:hover {\n",
              "    background-color: var(--hover-bg-color);\n",
              "    box-shadow: 0 1px 2px rgba(60, 64, 67, 0.3), 0 1px 3px 1px rgba(60, 64, 67, 0.15);\n",
              "    fill: var(--button-hover-fill-color);\n",
              "  }\n",
              "\n",
              "  .colab-df-quickchart-complete:disabled,\n",
              "  .colab-df-quickchart-complete:disabled:hover {\n",
              "    background-color: var(--disabled-bg-color);\n",
              "    fill: var(--disabled-fill-color);\n",
              "    box-shadow: none;\n",
              "  }\n",
              "\n",
              "  .colab-df-spinner {\n",
              "    border: 2px solid var(--fill-color);\n",
              "    border-color: transparent;\n",
              "    border-bottom-color: var(--fill-color);\n",
              "    animation:\n",
              "      spin 1s steps(1) infinite;\n",
              "  }\n",
              "\n",
              "  @keyframes spin {\n",
              "    0% {\n",
              "      border-color: transparent;\n",
              "      border-bottom-color: var(--fill-color);\n",
              "      border-left-color: var(--fill-color);\n",
              "    }\n",
              "    20% {\n",
              "      border-color: transparent;\n",
              "      border-left-color: var(--fill-color);\n",
              "      border-top-color: var(--fill-color);\n",
              "    }\n",
              "    30% {\n",
              "      border-color: transparent;\n",
              "      border-left-color: var(--fill-color);\n",
              "      border-top-color: var(--fill-color);\n",
              "      border-right-color: var(--fill-color);\n",
              "    }\n",
              "    40% {\n",
              "      border-color: transparent;\n",
              "      border-right-color: var(--fill-color);\n",
              "      border-top-color: var(--fill-color);\n",
              "    }\n",
              "    60% {\n",
              "      border-color: transparent;\n",
              "      border-right-color: var(--fill-color);\n",
              "    }\n",
              "    80% {\n",
              "      border-color: transparent;\n",
              "      border-right-color: var(--fill-color);\n",
              "      border-bottom-color: var(--fill-color);\n",
              "    }\n",
              "    90% {\n",
              "      border-color: transparent;\n",
              "      border-bottom-color: var(--fill-color);\n",
              "    }\n",
              "  }\n",
              "</style>\n",
              "\n",
              "  <script>\n",
              "    async function quickchart(key) {\n",
              "      const quickchartButtonEl =\n",
              "        document.querySelector('#' + key + ' button');\n",
              "      quickchartButtonEl.disabled = true;  // To prevent multiple clicks.\n",
              "      quickchartButtonEl.classList.add('colab-df-spinner');\n",
              "      try {\n",
              "        const charts = await google.colab.kernel.invokeFunction(\n",
              "            'suggestCharts', [key], {});\n",
              "      } catch (error) {\n",
              "        console.error('Error during call to suggestCharts:', error);\n",
              "      }\n",
              "      quickchartButtonEl.classList.remove('colab-df-spinner');\n",
              "      quickchartButtonEl.classList.add('colab-df-quickchart-complete');\n",
              "    }\n",
              "    (() => {\n",
              "      let quickchartButtonEl =\n",
              "        document.querySelector('#df-db9bdf1a-54ae-44cc-9744-ba6f0457c566 button');\n",
              "      quickchartButtonEl.style.display =\n",
              "        google.colab.kernel.accessAllowed ? 'block' : 'none';\n",
              "    })();\n",
              "  </script>\n",
              "</div>\n",
              "\n",
              "    </div>\n",
              "  </div>\n"
            ],
            "text/plain": [
              "   ID Engine  Cycle  Setting 1  Setting 2  Setting 3  Sensor 1  Sensor 2  \\\n",
              "0          1      1    -0.0007    -0.0004      100.0       0.0  0.183735   \n",
              "1          1      2     0.0019    -0.0003      100.0       0.0  0.283133   \n",
              "2          1      3    -0.0043     0.0003      100.0       0.0  0.343373   \n",
              "3          1      4     0.0007     0.0000      100.0       0.0  0.343373   \n",
              "4          1      5    -0.0019    -0.0002      100.0       0.0  0.349398   \n",
              "\n",
              "   Sensor 3  Sensor 4  Sensor 5  ...  Sensor 13  Sensor 14  Sensor 15  \\\n",
              "0  0.406802  0.309757       0.0  ...   0.205882   0.199608   0.363986   \n",
              "1  0.453019  0.352633       0.0  ...   0.279412   0.162813   0.411312   \n",
              "2  0.369523  0.370527       0.0  ...   0.220588   0.171793   0.357445   \n",
              "3  0.256159  0.331195       0.0  ...   0.294118   0.174889   0.166603   \n",
              "4  0.257467  0.404625       0.0  ...   0.235294   0.174734   0.402078   \n",
              "\n",
              "   Sensor 16  Sensor 17  Sensor 18  Sensor 19  Sensor 20  Sensor 21  \\\n",
              "0        0.0   0.333333        0.0        0.0   0.713178   0.724662   \n",
              "1        0.0   0.333333        0.0        0.0   0.666667   0.731014   \n",
              "2        0.0   0.166667        0.0        0.0   0.627907   0.621375   \n",
              "3        0.0   0.333333        0.0        0.0   0.573643   0.662386   \n",
              "4        0.0   0.416667        0.0        0.0   0.589147   0.704502   \n",
              "\n",
              "   Remaining RUL  \n",
              "0       0.529086  \n",
              "1       0.526316  \n",
              "2       0.523546  \n",
              "3       0.520776  \n",
              "4       0.518006  \n",
              "\n",
              "[5 rows x 27 columns]"
            ]
          },
          "execution_count": 23,
          "metadata": {},
          "output_type": "execute_result"
        }
      ],
      "source": [
        "train.head()"
      ]
    },
    {
      "cell_type": "code",
      "execution_count": 24,
      "metadata": {
        "colab": {
          "base_uri": "https://localhost:8080/",
          "height": 0
        },
        "id": "grL9j-TBMAyP",
        "outputId": "42034762-a6e3-4866-e37f-d52c2dcf0d4f"
      },
      "outputs": [
        {
          "name": "stderr",
          "output_type": "stream",
          "text": [
            "/usr/local/lib/python3.10/dist-packages/ipykernel/ipkernel.py:283: DeprecationWarning: `should_run_async` will not call `transform_cell` automatically in the future. Please pass the result to `transformed_cell` argument and any exception that happen during thetransform in `preprocessing_exc_tuple` in IPython 7.17 and above.\n",
            "  and should_run_async(code)\n"
          ]
        },
        {
          "data": {
            "application/vnd.google.colaboratory.intrinsic+json": {
              "type": "dataframe",
              "variable_name": "test"
            },
            "text/html": [
              "\n",
              "  <div id=\"df-9f67c6d1-2da9-409e-92a4-505fb7b1afd0\" class=\"colab-df-container\">\n",
              "    <div>\n",
              "<style scoped>\n",
              "    .dataframe tbody tr th:only-of-type {\n",
              "        vertical-align: middle;\n",
              "    }\n",
              "\n",
              "    .dataframe tbody tr th {\n",
              "        vertical-align: top;\n",
              "    }\n",
              "\n",
              "    .dataframe thead th {\n",
              "        text-align: right;\n",
              "    }\n",
              "</style>\n",
              "<table border=\"1\" class=\"dataframe\">\n",
              "  <thead>\n",
              "    <tr style=\"text-align: right;\">\n",
              "      <th></th>\n",
              "      <th>ID Engine</th>\n",
              "      <th>Cycle</th>\n",
              "      <th>Setting 1</th>\n",
              "      <th>Setting 2</th>\n",
              "      <th>Setting 3</th>\n",
              "      <th>Sensor 1</th>\n",
              "      <th>Sensor 2</th>\n",
              "      <th>Sensor 3</th>\n",
              "      <th>Sensor 4</th>\n",
              "      <th>Sensor 5</th>\n",
              "      <th>...</th>\n",
              "      <th>Sensor 13</th>\n",
              "      <th>Sensor 14</th>\n",
              "      <th>Sensor 15</th>\n",
              "      <th>Sensor 16</th>\n",
              "      <th>Sensor 17</th>\n",
              "      <th>Sensor 18</th>\n",
              "      <th>Sensor 19</th>\n",
              "      <th>Sensor 20</th>\n",
              "      <th>Sensor 21</th>\n",
              "      <th>Remaining RUL</th>\n",
              "    </tr>\n",
              "  </thead>\n",
              "  <tbody>\n",
              "    <tr>\n",
              "      <th>0</th>\n",
              "      <td>1</td>\n",
              "      <td>1</td>\n",
              "      <td>0.0023</td>\n",
              "      <td>0.0003</td>\n",
              "      <td>100.0</td>\n",
              "      <td>0.0</td>\n",
              "      <td>0.596215</td>\n",
              "      <td>0.421968</td>\n",
              "      <td>0.282214</td>\n",
              "      <td>0.0</td>\n",
              "      <td>...</td>\n",
              "      <td>0.325581</td>\n",
              "      <td>0.152259</td>\n",
              "      <td>0.347076</td>\n",
              "      <td>0.0</td>\n",
              "      <td>0.375</td>\n",
              "      <td>0.0</td>\n",
              "      <td>0.0</td>\n",
              "      <td>0.500000</td>\n",
              "      <td>0.620099</td>\n",
              "      <td>0.405405</td>\n",
              "    </tr>\n",
              "    <tr>\n",
              "      <th>1</th>\n",
              "      <td>1</td>\n",
              "      <td>2</td>\n",
              "      <td>-0.0027</td>\n",
              "      <td>-0.0003</td>\n",
              "      <td>100.0</td>\n",
              "      <td>0.0</td>\n",
              "      <td>0.182965</td>\n",
              "      <td>0.504025</td>\n",
              "      <td>0.225240</td>\n",
              "      <td>0.0</td>\n",
              "      <td>...</td>\n",
              "      <td>0.395349</td>\n",
              "      <td>0.277907</td>\n",
              "      <td>0.227709</td>\n",
              "      <td>0.0</td>\n",
              "      <td>0.500</td>\n",
              "      <td>0.0</td>\n",
              "      <td>0.0</td>\n",
              "      <td>0.645455</td>\n",
              "      <td>0.645718</td>\n",
              "      <td>0.402402</td>\n",
              "    </tr>\n",
              "    <tr>\n",
              "      <th>2</th>\n",
              "      <td>1</td>\n",
              "      <td>3</td>\n",
              "      <td>0.0003</td>\n",
              "      <td>0.0001</td>\n",
              "      <td>100.0</td>\n",
              "      <td>0.0</td>\n",
              "      <td>0.419558</td>\n",
              "      <td>0.464814</td>\n",
              "      <td>0.346130</td>\n",
              "      <td>0.0</td>\n",
              "      <td>...</td>\n",
              "      <td>0.325581</td>\n",
              "      <td>0.192892</td>\n",
              "      <td>0.533557</td>\n",
              "      <td>0.0</td>\n",
              "      <td>0.500</td>\n",
              "      <td>0.0</td>\n",
              "      <td>0.0</td>\n",
              "      <td>0.700000</td>\n",
              "      <td>0.681104</td>\n",
              "      <td>0.399399</td>\n",
              "    </tr>\n",
              "    <tr>\n",
              "      <th>3</th>\n",
              "      <td>1</td>\n",
              "      <td>4</td>\n",
              "      <td>0.0042</td>\n",
              "      <td>0.0000</td>\n",
              "      <td>100.0</td>\n",
              "      <td>0.0</td>\n",
              "      <td>0.413249</td>\n",
              "      <td>0.391587</td>\n",
              "      <td>0.449867</td>\n",
              "      <td>0.0</td>\n",
              "      <td>...</td>\n",
              "      <td>0.372093</td>\n",
              "      <td>0.217896</td>\n",
              "      <td>0.282359</td>\n",
              "      <td>0.0</td>\n",
              "      <td>0.250</td>\n",
              "      <td>0.0</td>\n",
              "      <td>0.0</td>\n",
              "      <td>0.627273</td>\n",
              "      <td>0.620382</td>\n",
              "      <td>0.396396</td>\n",
              "    </tr>\n",
              "    <tr>\n",
              "      <th>4</th>\n",
              "      <td>1</td>\n",
              "      <td>5</td>\n",
              "      <td>0.0014</td>\n",
              "      <td>0.0000</td>\n",
              "      <td>100.0</td>\n",
              "      <td>0.0</td>\n",
              "      <td>0.435331</td>\n",
              "      <td>0.471306</td>\n",
              "      <td>0.357974</td>\n",
              "      <td>0.0</td>\n",
              "      <td>...</td>\n",
              "      <td>0.325581</td>\n",
              "      <td>0.187891</td>\n",
              "      <td>0.337009</td>\n",
              "      <td>0.0</td>\n",
              "      <td>0.125</td>\n",
              "      <td>0.0</td>\n",
              "      <td>0.0</td>\n",
              "      <td>0.618182</td>\n",
              "      <td>0.676008</td>\n",
              "      <td>0.393393</td>\n",
              "    </tr>\n",
              "  </tbody>\n",
              "</table>\n",
              "<p>5 rows × 27 columns</p>\n",
              "</div>\n",
              "    <div class=\"colab-df-buttons\">\n",
              "\n",
              "  <div class=\"colab-df-container\">\n",
              "    <button class=\"colab-df-convert\" onclick=\"convertToInteractive('df-9f67c6d1-2da9-409e-92a4-505fb7b1afd0')\"\n",
              "            title=\"Convert this dataframe to an interactive table.\"\n",
              "            style=\"display:none;\">\n",
              "\n",
              "  <svg xmlns=\"http://www.w3.org/2000/svg\" height=\"24px\" viewBox=\"0 -960 960 960\">\n",
              "    <path d=\"M120-120v-720h720v720H120Zm60-500h600v-160H180v160Zm220 220h160v-160H400v160Zm0 220h160v-160H400v160ZM180-400h160v-160H180v160Zm440 0h160v-160H620v160ZM180-180h160v-160H180v160Zm440 0h160v-160H620v160Z\"/>\n",
              "  </svg>\n",
              "    </button>\n",
              "\n",
              "  <style>\n",
              "    .colab-df-container {\n",
              "      display:flex;\n",
              "      gap: 12px;\n",
              "    }\n",
              "\n",
              "    .colab-df-convert {\n",
              "      background-color: #E8F0FE;\n",
              "      border: none;\n",
              "      border-radius: 50%;\n",
              "      cursor: pointer;\n",
              "      display: none;\n",
              "      fill: #1967D2;\n",
              "      height: 32px;\n",
              "      padding: 0 0 0 0;\n",
              "      width: 32px;\n",
              "    }\n",
              "\n",
              "    .colab-df-convert:hover {\n",
              "      background-color: #E2EBFA;\n",
              "      box-shadow: 0px 1px 2px rgba(60, 64, 67, 0.3), 0px 1px 3px 1px rgba(60, 64, 67, 0.15);\n",
              "      fill: #174EA6;\n",
              "    }\n",
              "\n",
              "    .colab-df-buttons div {\n",
              "      margin-bottom: 4px;\n",
              "    }\n",
              "\n",
              "    [theme=dark] .colab-df-convert {\n",
              "      background-color: #3B4455;\n",
              "      fill: #D2E3FC;\n",
              "    }\n",
              "\n",
              "    [theme=dark] .colab-df-convert:hover {\n",
              "      background-color: #434B5C;\n",
              "      box-shadow: 0px 1px 3px 1px rgba(0, 0, 0, 0.15);\n",
              "      filter: drop-shadow(0px 1px 2px rgba(0, 0, 0, 0.3));\n",
              "      fill: #FFFFFF;\n",
              "    }\n",
              "  </style>\n",
              "\n",
              "    <script>\n",
              "      const buttonEl =\n",
              "        document.querySelector('#df-9f67c6d1-2da9-409e-92a4-505fb7b1afd0 button.colab-df-convert');\n",
              "      buttonEl.style.display =\n",
              "        google.colab.kernel.accessAllowed ? 'block' : 'none';\n",
              "\n",
              "      async function convertToInteractive(key) {\n",
              "        const element = document.querySelector('#df-9f67c6d1-2da9-409e-92a4-505fb7b1afd0');\n",
              "        const dataTable =\n",
              "          await google.colab.kernel.invokeFunction('convertToInteractive',\n",
              "                                                    [key], {});\n",
              "        if (!dataTable) return;\n",
              "\n",
              "        const docLinkHtml = 'Like what you see? Visit the ' +\n",
              "          '<a target=\"_blank\" href=https://colab.research.google.com/notebooks/data_table.ipynb>data table notebook</a>'\n",
              "          + ' to learn more about interactive tables.';\n",
              "        element.innerHTML = '';\n",
              "        dataTable['output_type'] = 'display_data';\n",
              "        await google.colab.output.renderOutput(dataTable, element);\n",
              "        const docLink = document.createElement('div');\n",
              "        docLink.innerHTML = docLinkHtml;\n",
              "        element.appendChild(docLink);\n",
              "      }\n",
              "    </script>\n",
              "  </div>\n",
              "\n",
              "\n",
              "<div id=\"df-7b016b0a-48d6-463d-8886-ecd4031f0c10\">\n",
              "  <button class=\"colab-df-quickchart\" onclick=\"quickchart('df-7b016b0a-48d6-463d-8886-ecd4031f0c10')\"\n",
              "            title=\"Suggest charts\"\n",
              "            style=\"display:none;\">\n",
              "\n",
              "<svg xmlns=\"http://www.w3.org/2000/svg\" height=\"24px\"viewBox=\"0 0 24 24\"\n",
              "     width=\"24px\">\n",
              "    <g>\n",
              "        <path d=\"M19 3H5c-1.1 0-2 .9-2 2v14c0 1.1.9 2 2 2h14c1.1 0 2-.9 2-2V5c0-1.1-.9-2-2-2zM9 17H7v-7h2v7zm4 0h-2V7h2v10zm4 0h-2v-4h2v4z\"/>\n",
              "    </g>\n",
              "</svg>\n",
              "  </button>\n",
              "\n",
              "<style>\n",
              "  .colab-df-quickchart {\n",
              "      --bg-color: #E8F0FE;\n",
              "      --fill-color: #1967D2;\n",
              "      --hover-bg-color: #E2EBFA;\n",
              "      --hover-fill-color: #174EA6;\n",
              "      --disabled-fill-color: #AAA;\n",
              "      --disabled-bg-color: #DDD;\n",
              "  }\n",
              "\n",
              "  [theme=dark] .colab-df-quickchart {\n",
              "      --bg-color: #3B4455;\n",
              "      --fill-color: #D2E3FC;\n",
              "      --hover-bg-color: #434B5C;\n",
              "      --hover-fill-color: #FFFFFF;\n",
              "      --disabled-bg-color: #3B4455;\n",
              "      --disabled-fill-color: #666;\n",
              "  }\n",
              "\n",
              "  .colab-df-quickchart {\n",
              "    background-color: var(--bg-color);\n",
              "    border: none;\n",
              "    border-radius: 50%;\n",
              "    cursor: pointer;\n",
              "    display: none;\n",
              "    fill: var(--fill-color);\n",
              "    height: 32px;\n",
              "    padding: 0;\n",
              "    width: 32px;\n",
              "  }\n",
              "\n",
              "  .colab-df-quickchart:hover {\n",
              "    background-color: var(--hover-bg-color);\n",
              "    box-shadow: 0 1px 2px rgba(60, 64, 67, 0.3), 0 1px 3px 1px rgba(60, 64, 67, 0.15);\n",
              "    fill: var(--button-hover-fill-color);\n",
              "  }\n",
              "\n",
              "  .colab-df-quickchart-complete:disabled,\n",
              "  .colab-df-quickchart-complete:disabled:hover {\n",
              "    background-color: var(--disabled-bg-color);\n",
              "    fill: var(--disabled-fill-color);\n",
              "    box-shadow: none;\n",
              "  }\n",
              "\n",
              "  .colab-df-spinner {\n",
              "    border: 2px solid var(--fill-color);\n",
              "    border-color: transparent;\n",
              "    border-bottom-color: var(--fill-color);\n",
              "    animation:\n",
              "      spin 1s steps(1) infinite;\n",
              "  }\n",
              "\n",
              "  @keyframes spin {\n",
              "    0% {\n",
              "      border-color: transparent;\n",
              "      border-bottom-color: var(--fill-color);\n",
              "      border-left-color: var(--fill-color);\n",
              "    }\n",
              "    20% {\n",
              "      border-color: transparent;\n",
              "      border-left-color: var(--fill-color);\n",
              "      border-top-color: var(--fill-color);\n",
              "    }\n",
              "    30% {\n",
              "      border-color: transparent;\n",
              "      border-left-color: var(--fill-color);\n",
              "      border-top-color: var(--fill-color);\n",
              "      border-right-color: var(--fill-color);\n",
              "    }\n",
              "    40% {\n",
              "      border-color: transparent;\n",
              "      border-right-color: var(--fill-color);\n",
              "      border-top-color: var(--fill-color);\n",
              "    }\n",
              "    60% {\n",
              "      border-color: transparent;\n",
              "      border-right-color: var(--fill-color);\n",
              "    }\n",
              "    80% {\n",
              "      border-color: transparent;\n",
              "      border-right-color: var(--fill-color);\n",
              "      border-bottom-color: var(--fill-color);\n",
              "    }\n",
              "    90% {\n",
              "      border-color: transparent;\n",
              "      border-bottom-color: var(--fill-color);\n",
              "    }\n",
              "  }\n",
              "</style>\n",
              "\n",
              "  <script>\n",
              "    async function quickchart(key) {\n",
              "      const quickchartButtonEl =\n",
              "        document.querySelector('#' + key + ' button');\n",
              "      quickchartButtonEl.disabled = true;  // To prevent multiple clicks.\n",
              "      quickchartButtonEl.classList.add('colab-df-spinner');\n",
              "      try {\n",
              "        const charts = await google.colab.kernel.invokeFunction(\n",
              "            'suggestCharts', [key], {});\n",
              "      } catch (error) {\n",
              "        console.error('Error during call to suggestCharts:', error);\n",
              "      }\n",
              "      quickchartButtonEl.classList.remove('colab-df-spinner');\n",
              "      quickchartButtonEl.classList.add('colab-df-quickchart-complete');\n",
              "    }\n",
              "    (() => {\n",
              "      let quickchartButtonEl =\n",
              "        document.querySelector('#df-7b016b0a-48d6-463d-8886-ecd4031f0c10 button');\n",
              "      quickchartButtonEl.style.display =\n",
              "        google.colab.kernel.accessAllowed ? 'block' : 'none';\n",
              "    })();\n",
              "  </script>\n",
              "</div>\n",
              "\n",
              "    </div>\n",
              "  </div>\n"
            ],
            "text/plain": [
              "   ID Engine  Cycle  Setting 1  Setting 2  Setting 3  Sensor 1  Sensor 2  \\\n",
              "0          1      1     0.0023     0.0003      100.0       0.0  0.596215   \n",
              "1          1      2    -0.0027    -0.0003      100.0       0.0  0.182965   \n",
              "2          1      3     0.0003     0.0001      100.0       0.0  0.419558   \n",
              "3          1      4     0.0042     0.0000      100.0       0.0  0.413249   \n",
              "4          1      5     0.0014     0.0000      100.0       0.0  0.435331   \n",
              "\n",
              "   Sensor 3  Sensor 4  Sensor 5  ...  Sensor 13  Sensor 14  Sensor 15  \\\n",
              "0  0.421968  0.282214       0.0  ...   0.325581   0.152259   0.347076   \n",
              "1  0.504025  0.225240       0.0  ...   0.395349   0.277907   0.227709   \n",
              "2  0.464814  0.346130       0.0  ...   0.325581   0.192892   0.533557   \n",
              "3  0.391587  0.449867       0.0  ...   0.372093   0.217896   0.282359   \n",
              "4  0.471306  0.357974       0.0  ...   0.325581   0.187891   0.337009   \n",
              "\n",
              "   Sensor 16  Sensor 17  Sensor 18  Sensor 19  Sensor 20  Sensor 21  \\\n",
              "0        0.0      0.375        0.0        0.0   0.500000   0.620099   \n",
              "1        0.0      0.500        0.0        0.0   0.645455   0.645718   \n",
              "2        0.0      0.500        0.0        0.0   0.700000   0.681104   \n",
              "3        0.0      0.250        0.0        0.0   0.627273   0.620382   \n",
              "4        0.0      0.125        0.0        0.0   0.618182   0.676008   \n",
              "\n",
              "   Remaining RUL  \n",
              "0       0.405405  \n",
              "1       0.402402  \n",
              "2       0.399399  \n",
              "3       0.396396  \n",
              "4       0.393393  \n",
              "\n",
              "[5 rows x 27 columns]"
            ]
          },
          "execution_count": 24,
          "metadata": {},
          "output_type": "execute_result"
        }
      ],
      "source": [
        "test.head()"
      ]
    },
    {
      "cell_type": "markdown",
      "metadata": {
        "id": "tBBvfsbBMAyQ"
      },
      "source": [
        "# Load data into DataLoader"
      ]
    },
    {
      "cell_type": "code",
      "execution_count": 25,
      "metadata": {
        "colab": {
          "base_uri": "https://localhost:8080/"
        },
        "id": "q-fCRjrGMAyQ",
        "outputId": "cbbed570-193c-443a-f525-8619dc578c47"
      },
      "outputs": [
        {
          "name": "stderr",
          "output_type": "stream",
          "text": [
            "/usr/local/lib/python3.10/dist-packages/ipykernel/ipkernel.py:283: DeprecationWarning: `should_run_async` will not call `transform_cell` automatically in the future. Please pass the result to `transformed_cell` argument and any exception that happen during thetransform in `preprocessing_exc_tuple` in IPython 7.17 and above.\n",
            "  and should_run_async(code)\n"
          ]
        }
      ],
      "source": [
        "data_train = CMAPSSLoaderDataset(data=train, sequence_length=sequence_length)\n",
        "# data_test = CMAPSSLoaderDataset(data=test, sequence_length=sequence_length)\n",
        "\n",
        "data_train, data_validation = train_test_split(data_train, test_size=0.2, random_state=42)\n",
        "train_loader = DataLoader(data_train, batch_size=batch_size, shuffle=True)\n",
        "validation_loader = DataLoader(data_validation, batch_size=batch_size, shuffle=True)"
      ]
    },
    {
      "cell_type": "code",
      "execution_count": 26,
      "metadata": {
        "colab": {
          "base_uri": "https://localhost:8080/"
        },
        "id": "3mbFbgaGMAyQ",
        "outputId": "82e9bb6e-ed52-4329-ad5e-e808a8d0e97a"
      },
      "outputs": [
        {
          "name": "stderr",
          "output_type": "stream",
          "text": [
            "/usr/local/lib/python3.10/dist-packages/ipykernel/ipkernel.py:283: DeprecationWarning: `should_run_async` will not call `transform_cell` automatically in the future. Please pass the result to `transformed_cell` argument and any exception that happen during thetransform in `preprocessing_exc_tuple` in IPython 7.17 and above.\n",
            "  and should_run_async(code)\n"
          ]
        },
        {
          "data": {
            "text/plain": [
              "14184"
            ]
          },
          "execution_count": 26,
          "metadata": {},
          "output_type": "execute_result"
        }
      ],
      "source": [
        "data_train.__len__()"
      ]
    },
    {
      "cell_type": "code",
      "execution_count": 27,
      "metadata": {
        "colab": {
          "base_uri": "https://localhost:8080/"
        },
        "id": "ifKkIFWIMAyQ",
        "outputId": "06e024d8-87d2-461f-98d7-2b429886bacf"
      },
      "outputs": [
        {
          "data": {
            "text/plain": [
              "3547"
            ]
          },
          "execution_count": 27,
          "metadata": {},
          "output_type": "execute_result"
        }
      ],
      "source": [
        "data_validation.__len__()"
      ]
    },
    {
      "cell_type": "code",
      "execution_count": 28,
      "metadata": {
        "colab": {
          "base_uri": "https://localhost:8080/"
        },
        "id": "K8bBfTBdMAyR",
        "outputId": "870816a5-d39d-4c90-ba65-db01732dd6d8"
      },
      "outputs": [
        {
          "data": {
            "text/plain": [
              "111"
            ]
          },
          "execution_count": 28,
          "metadata": {},
          "output_type": "execute_result"
        }
      ],
      "source": [
        "train_loader.__len__()"
      ]
    },
    {
      "cell_type": "code",
      "execution_count": 29,
      "metadata": {
        "colab": {
          "base_uri": "https://localhost:8080/"
        },
        "id": "g8eckzDgMAyR",
        "outputId": "5222057c-b007-4690-8898-8fa4634d9e97"
      },
      "outputs": [
        {
          "data": {
            "text/plain": [
              "28"
            ]
          },
          "execution_count": 29,
          "metadata": {},
          "output_type": "execute_result"
        }
      ],
      "source": [
        "validation_loader.__len__()"
      ]
    },
    {
      "cell_type": "markdown",
      "metadata": {
        "id": "2Mg4QiLCMAyR"
      },
      "source": [
        "# Training centralize model"
      ]
    },
    {
      "cell_type": "code",
      "execution_count": 30,
      "metadata": {
        "id": "C68QobdXMAyR"
      },
      "outputs": [],
      "source": [
        "centralize_transformer_model = TransformerModel(\n",
        "    input_dim=input_dim,\n",
        "    d_model=d_model,\n",
        "    nhead=nhead,\n",
        "    num_layers=num_layers,\n",
        "    dim_feedforward=256,\n",
        "    dropout=dropout\n",
        ")"
      ]
    },
    {
      "cell_type": "code",
      "execution_count": 31,
      "metadata": {
        "colab": {
          "base_uri": "https://localhost:8080/"
        },
        "id": "0gSMS-WvMAyR",
        "outputId": "bf8f476c-e550-4689-9981-efd775147e08"
      },
      "outputs": [
        {
          "name": "stdout",
          "output_type": "stream",
          "text": [
            "Epoch 1/50, Train Loss: 0.06668148233412623, Validation Loss: 0.01195534915729825\n",
            "Epoch 2/50, Train Loss: 0.01783132178054468, Validation Loss: 0.011723125453240104\n",
            "Epoch 3/50, Train Loss: 0.014893807110015873, Validation Loss: 0.011295597501365202\n",
            "Epoch 4/50, Train Loss: 0.013354084781698278, Validation Loss: 0.010969806495787842\n",
            "Epoch 5/50, Train Loss: 0.012285017039257664, Validation Loss: 0.010813069463308369\n",
            "Epoch 6/50, Train Loss: 0.011858189092563079, Validation Loss: 0.011016153148375452\n",
            "Epoch 7/50, Train Loss: 0.011789561681415851, Validation Loss: 0.011410409551379936\n",
            "Epoch 8/50, Train Loss: 0.01158567816270767, Validation Loss: 0.010821113279754562\n",
            "Epoch 9/50, Train Loss: 0.011341883893217053, Validation Loss: 0.01231504843703338\n",
            "Epoch 10/50, Train Loss: 0.01154521469714808, Validation Loss: 0.011215955384873919\n",
            "Epoch 11/50, Train Loss: 0.011292817087860795, Validation Loss: 0.010514109511859715\n",
            "Epoch 12/50, Train Loss: 0.01114055221933905, Validation Loss: 0.010570188917751824\n",
            "Epoch 13/50, Train Loss: 0.010975905039624588, Validation Loss: 0.010498445331385093\n",
            "Epoch 14/50, Train Loss: 0.011068367458007357, Validation Loss: 0.010852833278477192\n",
            "Epoch 15/50, Train Loss: 0.010967183505763879, Validation Loss: 0.010685673499080752\n",
            "Epoch 16/50, Train Loss: 0.010891479461009169, Validation Loss: 0.010260010354353912\n",
            "Epoch 17/50, Train Loss: 0.01110031264037028, Validation Loss: 0.010558605543337762\n",
            "Epoch 18/50, Train Loss: 0.010909111155113121, Validation Loss: 0.010428781970404088\n",
            "Epoch 19/50, Train Loss: 0.01100867636384325, Validation Loss: 0.010754015862143465\n",
            "Epoch 20/50, Train Loss: 0.010800751190431215, Validation Loss: 0.010350275202654302\n",
            "Epoch 21/50, Train Loss: 0.01081709959334484, Validation Loss: 0.010498307994566858\n",
            "Epoch 22/50, Train Loss: 0.010890934289105841, Validation Loss: 0.01169672332304929\n",
            "Epoch 23/50, Train Loss: 0.010767047985683422, Validation Loss: 0.010723744053393602\n",
            "Epoch 24/50, Train Loss: 0.010712197025281351, Validation Loss: 0.011696220076243793\n",
            "Epoch 25/50, Train Loss: 0.01070714398782264, Validation Loss: 0.011127278441563249\n",
            "Epoch 26/50, Train Loss: 0.010704285918256722, Validation Loss: 0.010699816630221903\n",
            "Epoch 27/50, Train Loss: 0.010814740557458487, Validation Loss: 0.010881014534139208\n",
            "Epoch 28/50, Train Loss: 0.0106824619888521, Validation Loss: 0.01037312114411699\n",
            "Epoch 29/50, Train Loss: 0.010664700916422918, Validation Loss: 0.010648961312004499\n",
            "Epoch 30/50, Train Loss: 0.010737718410185865, Validation Loss: 0.011510919014524137\n",
            "Epoch 31/50, Train Loss: 0.010675462080283207, Validation Loss: 0.010470557858103089\n",
            "Epoch 32/50, Train Loss: 0.01056970341701631, Validation Loss: 0.010546254692599177\n",
            "Epoch 33/50, Train Loss: 0.010716331644436798, Validation Loss: 0.010443137559507574\n",
            "Epoch 34/50, Train Loss: 0.010712601655573995, Validation Loss: 0.010331744960110103\n",
            "Epoch 35/50, Train Loss: 0.01050329556990717, Validation Loss: 0.010665359308144875\n",
            "Epoch 36/50, Train Loss: 0.01062574726319662, Validation Loss: 0.01059609029575118\n",
            "Epoch 37/50, Train Loss: 0.010685461615254212, Validation Loss: 0.011322971899062395\n",
            "Epoch 38/50, Train Loss: 0.010737358772841928, Validation Loss: 0.010567313326256616\n",
            "Epoch 39/50, Train Loss: 0.010660376596927375, Validation Loss: 0.010720143493797098\n",
            "Epoch 40/50, Train Loss: 0.010628188658203627, Validation Loss: 0.010599451305876886\n",
            "Epoch 41/50, Train Loss: 0.010600451023426946, Validation Loss: 0.01100359161916588\n",
            "Epoch 42/50, Train Loss: 0.01051756869246428, Validation Loss: 0.010505219522331442\n",
            "Epoch 43/50, Train Loss: 0.01045063169891233, Validation Loss: 0.011562749610415526\n",
            "Epoch 44/50, Train Loss: 0.010618134980668893, Validation Loss: 0.01062691823712417\n",
            "Epoch 45/50, Train Loss: 0.01059140410979052, Validation Loss: 0.010537615045905113\n",
            "Epoch 46/50, Train Loss: 0.01056981922404186, Validation Loss: 0.010555950508985137\n",
            "Epoch 47/50, Train Loss: 0.010515183227153512, Validation Loss: 0.010524421148667378\n",
            "Epoch 48/50, Train Loss: 0.010486812817419434, Validation Loss: 0.010706212970295123\n",
            "Epoch 49/50, Train Loss: 0.010531691528084848, Validation Loss: 0.01058899488167039\n",
            "Epoch 50/50, Train Loss: 0.010484393614738642, Validation Loss: 0.01060080506639289\n"
          ]
        }
      ],
      "source": [
        "train_model(\n",
        "    model=centralize_transformer_model,\n",
        "    client_loader_train=train_loader,\n",
        "    client_loader_validation=validation_loader,\n",
        "    epochs=epochs,\n",
        "    learning_rate=learning_rate,\n",
        "    verbose=False\n",
        ")"
      ]
    },
    {
      "cell_type": "markdown",
      "metadata": {
        "id": "eBpfPEUpMAyS"
      },
      "source": [
        "# Predict on batch (Centralize model)"
      ]
    },
    {
      "cell_type": "code",
      "execution_count": 32,
      "metadata": {
        "colab": {
          "base_uri": "https://localhost:8080/",
          "height": 0
        },
        "id": "ovauxwPXMAyS",
        "outputId": "e9d0fcef-76a7-4cb9-face-55854d391db0"
      },
      "outputs": [
        {
          "data": {
            "image/png": "[encoded data removed]",
            "text/plain": [
              "<Figure size 1000x600 with 1 Axes>"
            ]
          },
          "metadata": {},
          "output_type": "display_data"
        }
      ],
      "source": [
        "batch_loader = next(iter(validation_loader))\n",
        "\n",
        "loss, _, _ = predict_on_batch(\n",
        "    model=centralize_transformer_model,\n",
        "    batch_loader=batch_loader,\n",
        "    return_actual_rul=True,\n",
        "    show_fig=True,\n",
        ")\n",
        "print(f'Loss on random batch: {loss}')"
      ]
    },
    {
      "cell_type": "markdown",
      "metadata": {
        "id": "-V-hgj5JMAyS"
      },
      "source": [
        "# Part II. Setup Federated Learning with Flower for RUL prediction using Transformer model"
      ]
    },
    {
      "cell_type": "markdown",
      "metadata": {
        "id": "Mbc5HTBUMAyS"
      },
      "source": [
        "### Define parameters for training FL with Flower"
      ]
    },
    {
      "cell_type": "code",
      "execution_count": 33,
      "metadata": {
        "colab": {
          "base_uri": "https://localhost:8080/"
        },
        "id": "uyFG0CdWMAyS",
        "outputId": "7bab51ee-877d-4905-9172-64746410c0f6"
      },
      "outputs": [
        {
          "name": "stdout",
          "output_type": "stream",
          "text": [
            "Loss on random batch: 0.009472313337028027\n"
          ]
        }
      ],
      "source": [
        "num_clients = 10\n",
        "num_rounds = 50"
      ]
    },
    {
      "cell_type": "markdown",
      "metadata": {
        "id": "YFsCsOyIMAyS"
      },
      "source": [
        "### Split dataframe to 10 subframe for 10 client"
      ]
    },
    {
      "cell_type": "code",
      "execution_count": 34,
      "metadata": {
        "id": "5Bidza4aMAyT"
      },
      "outputs": [],
      "source": [
        "def split_dataset(dataset, num_clients):\n",
        "    \"\"\"\n",
        "    Chia dataset thành num_clients tập con đều nhau.\n",
        "    Args:\n",
        "        dataset: Dataset cần chia (torch.utils.data.Dataset).\n",
        "        num_clients: Số lượng tập con muốn tạo.\n",
        "    Returns:\n",
        "        List chứa các tập con của dataset.\n",
        "    \"\"\"\n",
        "    # Kích thước mỗi tập con\n",
        "    subset_size = len(dataset) // num_clients\n",
        "    sizes = [subset_size] * num_clients\n",
        "\n",
        "    # Chia phần dư (nếu tổng dataset không chia hết)\n",
        "    sizes[-1] += len(dataset) - sum(sizes)\n",
        "\n",
        "    # Tạo danh sách các tập con\n",
        "    subsets = random_split(dataset, sizes)\n",
        "    return subsets"
      ]
    },
    {
      "cell_type": "code",
      "execution_count": 35,
      "metadata": {
        "colab": {
          "base_uri": "https://localhost:8080/"
        },
        "id": "1qBZf6hxMAyT",
        "outputId": "d66be3eb-48a0-4426-abde-353ac3acf820"
      },
      "outputs": [
        {
          "data": {
            "text/plain": [
              "(20631, 27)"
            ]
          },
          "execution_count": 35,
          "metadata": {},
          "output_type": "execute_result"
        }
      ],
      "source": [
        "# train.head()\n",
        "train.shape"
      ]
    },
    {
      "cell_type": "code",
      "execution_count": 36,
      "metadata": {
        "id": "Aj5LJJsLMAyT"
      },
      "outputs": [],
      "source": [
        "data = CMAPSSLoaderDataset(train, sequence_length=sequence_length)\n",
        "train_data, validation_data = train_test_split(data, test_size=0.2, random_state=42)\n",
        "\n",
        "subset_trains = split_dataset(train_data, num_clients=num_clients)\n",
        "subset_validations = split_dataset(validation_data, num_clients=num_clients)\n",
        "\n",
        "client_loader_trains = [DataLoader(subset, batch_size=batch_size, shuffle=True) for subset in subset_trains]\n",
        "client_loader_validations = [DataLoader(subset, batch_size=batch_size, shuffle=True) for subset in subset_validations]"
      ]
    },
    {
      "cell_type": "code",
      "execution_count": 37,
      "metadata": {
        "colab": {
          "base_uri": "https://localhost:8080/"
        },
        "id": "OIjOv3DbMAyT",
        "outputId": "cfd8f5a1-d79e-47ad-abe6-073367c4e356"
      },
      "outputs": [
        {
          "name": "stdout",
          "output_type": "stream",
          "text": [
            "Client 1 will use a subset with 1418 samples\n",
            "Client 2 will use a subset with 1418 samples\n",
            "Client 3 will use a subset with 1418 samples\n",
            "Client 4 will use a subset with 1418 samples\n",
            "Client 5 will use a subset with 1418 samples\n",
            "Client 6 will use a subset with 1418 samples\n",
            "Client 7 will use a subset with 1418 samples\n",
            "Client 8 will use a subset with 1418 samples\n",
            "Client 9 will use a subset with 1418 samples\n",
            "Client 10 will use a subset with 1422 samples\n"
          ]
        },
        {
          "name": "stderr",
          "output_type": "stream",
          "text": [
            "/usr/local/lib/python3.10/dist-packages/ipykernel/ipkernel.py:283: DeprecationWarning: `should_run_async` will not call `transform_cell` automatically in the future. Please pass the result to `transformed_cell` argument and any exception that happen during thetransform in `preprocessing_exc_tuple` in IPython 7.17 and above.\n",
            "  and should_run_async(code)\n"
          ]
        }
      ],
      "source": [
        "for i, loader in enumerate(client_loader_trains):\n",
        "    print(f\"Client {i+1} will use a subset with {len(loader.dataset)} samples\")"
      ]
    },
    {
      "cell_type": "code",
      "execution_count": 38,
      "metadata": {
        "colab": {
          "base_uri": "https://localhost:8080/"
        },
        "id": "5ot2zTq7MAyU",
        "outputId": "e008b100-7167-457e-a0ab-623a0717cfc8"
      },
      "outputs": [
        {
          "name": "stdout",
          "output_type": "stream",
          "text": [
            "Client 1 will use a subset with 1418 samples\n",
            "Client 2 will use a subset with 1418 samples\n",
            "Client 3 will use a subset with 1418 samples\n",
            "Client 4 will use a subset with 1418 samples\n",
            "Client 5 will use a subset with 1418 samples\n",
            "Client 6 will use a subset with 1418 samples\n",
            "Client 7 will use a subset with 1418 samples\n",
            "Client 8 will use a subset with 1418 samples\n",
            "Client 9 will use a subset with 1418 samples\n",
            "Client 10 will use a subset with 1422 samples\n"
          ]
        }
      ],
      "source": [
        "for i, loader in enumerate(client_loader_trains):\n",
        "    print(f\"Client {i+1} will use a subset with {len(loader.dataset)} samples\")"
      ]
    },
    {
      "cell_type": "markdown",
      "metadata": {
        "id": "kP_GaPfnMAyU"
      },
      "source": [
        "### Update model parameters"
      ]
    },
    {
      "cell_type": "code",
      "execution_count": 39,
      "metadata": {
        "id": "M6PNtLhnMAyU"
      },
      "outputs": [],
      "source": [
        "def set_parameters(model, parameters: List[np.ndarray]):\n",
        "    params_dict = zip(model.state_dict().keys(), parameters)\n",
        "    state_dict = OrderedDict({k: torch.Tensor(v) for k, v in params_dict})\n",
        "    model.load_state_dict(state_dict, strict=True)\n",
        "\n",
        "def get_parameters(model) -> List[np.ndarray]:\n",
        "    return [val.cpu().numpy() for _, val in model.state_dict().items()]"
      ]
    },
    {
      "cell_type": "markdown",
      "metadata": {
        "id": "ZYLbAQn_MAyU"
      },
      "source": [
        "### Define the Flower ClientApp"
      ]
    },
    {
      "cell_type": "code",
      "execution_count": 52,
      "metadata": {
        "id": "YvYWLdCKMAyU"
      },
      "outputs": [],
      "source": [
        "class FlowerClient(NumPyClient):\n",
        "    def __init__(self, model, client_loader_train, client_loader_validation):\n",
        "        self.model = model\n",
        "        self.trainloader = client_loader_train\n",
        "        self.valloader = client_loader_validation\n",
        "\n",
        "    def get_parameters(self, config):\n",
        "        return get_parameters(self.model)\n",
        "\n",
        "    def fit(self, parameters, config):\n",
        "        set_parameters(self.model, parameters)\n",
        "        train_model(\n",
        "            model=self.model,\n",
        "            client_loader_train=self.trainloader,\n",
        "            client_loader_validation=self.valloader,\n",
        "            epochs=1,\n",
        "            learning_rate=learning_rate,\n",
        "            verbose=False\n",
        "        )\n",
        "        return get_parameters(self.model), len(self.trainloader), {}\n",
        "\n",
        "    def evaluate(self, parameters, config):\n",
        "        set_parameters(self.model, parameters)\n",
        "        # loss, accuracy = test(self.model, self.valloader)\n",
        "        loss = test_model(\n",
        "            model=self.model,\n",
        "            client_loader_validation=self.valloader,\n",
        "            return_actual_rul=False,\n",
        "            show_fig=False\n",
        "        )\n",
        "        return float(loss), len(self.valloader), {\"accuracy\": float(0.0)}"
      ]
    },
    {
      "cell_type": "code",
      "execution_count": 53,
      "metadata": {
        "id": "uySkMzDwMAyU"
      },
      "outputs": [],
      "source": [
        "def client_fn(context: Context) -> Client:\n",
        "    \"\"\"Create a Flower client representing a single organization.\"\"\"\n",
        "\n",
        "    # Load model\n",
        "    model = TransformerModel(\n",
        "        input_dim=input_dim,\n",
        "        d_model=d_model,\n",
        "        nhead=nhead,\n",
        "        num_layers=num_layers,\n",
        "        dim_feedforward=dim_feedforward,\n",
        "        dropout=0.1\n",
        "    ).to(DEVICE)\n",
        "\n",
        "    # Note: each client gets a different trainloader/valloader, so each client\n",
        "    # will train and evaluate on their own unique data partition\n",
        "    # Read the node_config to fetch data partition associated to this node\n",
        "    partition_id = context.node_config[\"partition-id\"]\n",
        "    trainloader = client_loader_trains[partition_id]\n",
        "    valloader = client_loader_validations[partition_id]\n",
        "\n",
        "    # Create a single Flower client representing a single organization\n",
        "    # FlowerClient is a subclass of NumPyClient, so we need to call .to_client()\n",
        "    # to convert it to a subclass of `flwr.client.Client`\n",
        "    return FlowerClient(model, trainloader, valloader).to_client()\n",
        "\n",
        "\n",
        "# Create the ClientApp\n",
        "client = ClientApp(client_fn=client_fn)"
      ]
    },
    {
      "cell_type": "markdown",
      "metadata": {
        "id": "EuIAxKzIMAyV"
      },
      "source": [
        "### Define the Flower ServerApp"
      ]
    },
    {
      "cell_type": "code",
      "execution_count": 54,
      "metadata": {
        "id": "GYI9D2jeMAyV"
      },
      "outputs": [],
      "source": [
        "# Create FedAvg strategy\n",
        "strategy = FedAvg(\n",
        "    fraction_fit=1.0,  # Sample 100% of available clients for training\n",
        "    fraction_evaluate=0.5,  # Sample 50% of available clients for evaluation\n",
        "    min_fit_clients=10,  # Never sample less than 10 clients for training\n",
        "    min_evaluate_clients=5,  # Never sample less than 5 clients for evaluation\n",
        "    min_available_clients=10,  # Wait until all 10 clients are available\n",
        ")"
      ]
    },
    {
      "cell_type": "code",
      "execution_count": 55,
      "metadata": {
        "id": "0huq_J3CMAyV"
      },
      "outputs": [],
      "source": [
        "def server_fn(context: Context) -> ServerAppComponents:\n",
        "    \"\"\"Construct components that set the ServerApp behaviour.\n",
        "\n",
        "    You can use the settings in `context.run_config` to parameterize the\n",
        "    construction of all elements (e.g the strategy or the number of rounds)\n",
        "    wrapped in the returned ServerAppComponents object.\n",
        "    \"\"\"\n",
        "\n",
        "    # Configure the server for 5 rounds of training\n",
        "    config = ServerConfig(num_rounds=50)\n",
        "\n",
        "    return ServerAppComponents(strategy=strategy, config=config)\n",
        "\n",
        "\n",
        "# Create the ServerApp\n",
        "server = ServerApp(server_fn=server_fn)"
      ]
    },
    {
      "cell_type": "markdown",
      "metadata": {
        "id": "o7kLDqq5MAyV"
      },
      "source": [
        "### Run the training"
      ]
    },
    {
      "cell_type": "code",
      "execution_count": 56,
      "metadata": {
        "id": "uIXCYtEJMAyV"
      },
      "outputs": [],
      "source": [
        "# Specify the resources each of your clients need\n",
        "# By default, each client will be allocated 1x CPU and 0x GPUs\n",
        "backend_config = {\"client_resources\": {\"num_cpus\": 1, \"num_gpus\": 0.0}}\n",
        "\n",
        "# When running on GPU, assign an entire GPU for each client\n",
        "if DEVICE.type == \"cuda\":\n",
        "    backend_config = {\"client_resources\": {\"num_cpus\": 1, \"num_gpus\": 1.0}}\n",
        "    # Refer to our Flower framework documentation for more details about Flower simulations\n",
        "    # and how to set up the `backend_config`"
      ]
    },
    {
      "cell_type": "code",
      "execution_count": 57,
      "metadata": {
        "colab": {
          "base_uri": "https://localhost:8080/"
        },
        "id": "fa4Oj4OrMAyV",
        "outputId": "f1dd62fb-2894-477f-891e-2e8ce1ecbe4b"
      },
      "outputs": [
        {
          "name": "stderr",
          "output_type": "stream",
          "text": [
            "\u001b[92mINFO \u001b[0m:      Starting Flower ServerApp, config: num_rounds=50, no round_timeout\n",
            "\u001b[92mINFO \u001b[0m:      \n",
            "\u001b[92mINFO \u001b[0m:      [INIT]\n",
            "\u001b[92mINFO \u001b[0m:      Requesting initial parameters from one random client\n",
            "\u001b[36m(pid=5779)\u001b[0m 2024-12-23 11:23:12.312660: E external/local_xla/xla/stream_executor/cuda/cuda_fft.cc:485] Unable to register cuFFT factory: Attempting to register factory for plugin cuFFT when one has already been registered\n",
            "\u001b[36m(pid=5779)\u001b[0m 2024-12-23 11:23:12.346105: E external/local_xla/xla/stream_executor/cuda/cuda_dnn.cc:8454] Unable to register cuDNN factory: Attempting to register factory for plugin cuDNN when one has already been registered\n",
            "\u001b[36m(pid=5779)\u001b[0m 2024-12-23 11:23:12.356460: E external/local_xla/xla/stream_executor/cuda/cuda_blas.cc:1452] Unable to register cuBLAS factory: Attempting to register factory for plugin cuBLAS when one has already been registered\n",
            "\u001b[36m(pid=5779)\u001b[0m 2024-12-23 11:23:15.370650: W tensorflow/compiler/tf2tensorrt/utils/py_utils.cc:38] TF-TRT Warning: Could not find TensorRT\n",
            "\u001b[92mINFO \u001b[0m:      Received initial parameters from one random client\n",
            "\u001b[92mINFO \u001b[0m:      Starting evaluation of initial global parameters\n",
            "\u001b[92mINFO \u001b[0m:      Evaluation returned no results (`None`)\n",
            "\u001b[92mINFO \u001b[0m:      \n",
            "\u001b[92mINFO \u001b[0m:      [ROUND 1]\n",
            "\u001b[92mINFO \u001b[0m:      configure_fit: strategy sampled 10 clients (out of 10)\n"
          ]
        },
        {
          "name": "stdout",
          "output_type": "stream",
          "text": [
            "\u001b[36m(ClientAppActor pid=5779)\u001b[0m Epoch 1/1, Train Loss: 0.46163707319647074, Validation Loss: 0.12850052615006766\n",
            "\u001b[36m(ClientAppActor pid=5779)\u001b[0m Epoch 1/1, Train Loss: 0.4719871391231815, Validation Loss: 0.16971235970656076\n",
            "\u001b[36m(ClientAppActor pid=5779)\u001b[0m Epoch 1/1, Train Loss: 0.4633204735194643, Validation Loss: 0.13589181999365488\n",
            "\u001b[36m(ClientAppActor pid=5779)\u001b[0m Epoch 1/1, Train Loss: 0.45475500791023177, Validation Loss: 0.15276245772838593\n",
            "\u001b[36m(ClientAppActor pid=5779)\u001b[0m Epoch 1/1, Train Loss: 0.4644324869538347, Validation Loss: 0.12859898805618286\n",
            "\u001b[36m(ClientAppActor pid=5779)\u001b[0m Epoch 1/1, Train Loss: 0.476524926101168, Validation Loss: 0.16079536577065787\n",
            "\u001b[36m(ClientAppActor pid=5779)\u001b[0m Epoch 1/1, Train Loss: 0.4725697621082266, Validation Loss: 0.1443922221660614\n",
            "\u001b[36m(ClientAppActor pid=5779)\u001b[0m Epoch 1/1, Train Loss: 0.46608171953509253, Validation Loss: 0.13852026561896005\n",
            "\u001b[36m(ClientAppActor pid=5779)\u001b[0m Epoch 1/1, Train Loss: 0.47574300443132717, Validation Loss: 0.14250738422075906\n"
          ]
        },
        {
          "name": "stderr",
          "output_type": "stream",
          "text": [
            "\u001b[92mINFO \u001b[0m:      aggregate_fit: received 10 results and 0 failures\n",
            "\u001b[93mWARNING \u001b[0m:   No fit_metrics_aggregation_fn provided\n",
            "\u001b[92mINFO \u001b[0m:      configure_evaluate: strategy sampled 5 clients (out of 10)\n"
          ]
        },
        {
          "name": "stdout",
          "output_type": "stream",
          "text": [
            "\u001b[36m(ClientAppActor pid=5779)\u001b[0m Epoch 1/1, Train Loss: 0.4627751164759199, Validation Loss: 0.1393095925450325\n"
          ]
        },
        {
          "name": "stderr",
          "output_type": "stream",
          "text": [
            "\u001b[92mINFO \u001b[0m:      aggregate_evaluate: received 5 results and 0 failures\n",
            "\u001b[93mWARNING \u001b[0m:   No evaluate_metrics_aggregation_fn provided\n",
            "\u001b[92mINFO \u001b[0m:      \n",
            "\u001b[92mINFO \u001b[0m:      [ROUND 2]\n",
            "\u001b[92mINFO \u001b[0m:      configure_fit: strategy sampled 10 clients (out of 10)\n"
          ]
        },
        {
          "name": "stdout",
          "output_type": "stream",
          "text": [
            "\u001b[36m(ClientAppActor pid=5779)\u001b[0m Epoch 1/1, Train Loss: 0.08204200180868308, Validation Loss: 0.02918897693355878\n",
            "\u001b[36m(ClientAppActor pid=5779)\u001b[0m Epoch 1/1, Train Loss: 0.07942754651109378, Validation Loss: 0.02665859709183375\n",
            "\u001b[36m(ClientAppActor pid=5779)\u001b[0m Epoch 1/1, Train Loss: 0.0799832446500659, Validation Loss: 0.02544188064833482\n",
            "\u001b[36m(ClientAppActor pid=5779)\u001b[0m Epoch 1/1, Train Loss: 0.07269612265129884, Validation Loss: 0.02979238952199618\n",
            "\u001b[36m(ClientAppActor pid=5779)\u001b[0m Epoch 1/1, Train Loss: 0.0773561146731178, Validation Loss: 0.0287708876033624\n",
            "\u001b[36m(ClientAppActor pid=5779)\u001b[0m Epoch 1/1, Train Loss: 0.07031968259252608, Validation Loss: 0.029510069638490677\n",
            "\u001b[36m(ClientAppActor pid=5779)\u001b[0m Epoch 1/1, Train Loss: 0.07689448694388072, Validation Loss: 0.025815922146042187\n",
            "\u001b[36m(ClientAppActor pid=5779)\u001b[0m Epoch 1/1, Train Loss: 0.07707589212805033, Validation Loss: 0.02455790713429451\n",
            "\u001b[36m(ClientAppActor pid=5779)\u001b[0m Epoch 1/1, Train Loss: 0.07716541613141696, Validation Loss: 0.027113165706396103\n"
          ]
        },
        {
          "name": "stderr",
          "output_type": "stream",
          "text": [
            "\u001b[92mINFO \u001b[0m:      aggregate_fit: received 10 results and 0 failures\n",
            "\u001b[92mINFO \u001b[0m:      configure_evaluate: strategy sampled 5 clients (out of 10)\n"
          ]
        },
        {
          "name": "stdout",
          "output_type": "stream",
          "text": [
            "\u001b[36m(ClientAppActor pid=5779)\u001b[0m Epoch 1/1, Train Loss: 0.07542590346808235, Validation Loss: 0.028075003996491432\n"
          ]
        },
        {
          "name": "stderr",
          "output_type": "stream",
          "text": [
            "\u001b[92mINFO \u001b[0m:      aggregate_evaluate: received 5 results and 0 failures\n",
            "\u001b[92mINFO \u001b[0m:      \n",
            "\u001b[92mINFO \u001b[0m:      [ROUND 3]\n",
            "\u001b[92mINFO \u001b[0m:      configure_fit: strategy sampled 10 clients (out of 10)\n"
          ]
        },
        {
          "name": "stdout",
          "output_type": "stream",
          "text": [
            "\u001b[36m(ClientAppActor pid=5779)\u001b[0m Epoch 1/1, Train Loss: 0.055113067695250116, Validation Loss: 0.041973320146401726\n",
            "\u001b[36m(ClientAppActor pid=5779)\u001b[0m Epoch 1/1, Train Loss: 0.08244440456231435, Validation Loss: 0.025715758403142292\n",
            "\u001b[36m(ClientAppActor pid=5779)\u001b[0m Epoch 1/1, Train Loss: 0.08403792371973395, Validation Loss: 0.027400356406966846\n",
            "\u001b[36m(ClientAppActor pid=5779)\u001b[0m Epoch 1/1, Train Loss: 0.08152008429169655, Validation Loss: 0.026204310978452366\n",
            "\u001b[36m(ClientAppActor pid=5779)\u001b[0m Epoch 1/1, Train Loss: 0.07925270466754834, Validation Loss: 0.025434120868643124\n",
            "\u001b[36m(ClientAppActor pid=5779)\u001b[0m Epoch 1/1, Train Loss: 0.07541036636879046, Validation Loss: 0.022493864099184673\n",
            "\u001b[36m(ClientAppActor pid=5779)\u001b[0m Epoch 1/1, Train Loss: 0.07722401277472575, Validation Loss: 0.026957203323642414\n",
            "\u001b[36m(ClientAppActor pid=5779)\u001b[0m Epoch 1/1, Train Loss: 0.057010425720363855, Validation Loss: 0.05732369671265284\n",
            "\u001b[36m(ClientAppActor pid=5779)\u001b[0m Epoch 1/1, Train Loss: 0.07900165300816298, Validation Loss: 0.022113260502616566\n"
          ]
        },
        {
          "name": "stderr",
          "output_type": "stream",
          "text": [
            "\u001b[92mINFO \u001b[0m:      aggregate_fit: received 10 results and 0 failures\n",
            "\u001b[92mINFO \u001b[0m:      configure_evaluate: strategy sampled 5 clients (out of 10)\n"
          ]
        },
        {
          "name": "stdout",
          "output_type": "stream",
          "text": [
            "\u001b[36m(ClientAppActor pid=5779)\u001b[0m Epoch 1/1, Train Loss: 0.06387039165322979, Validation Loss: 0.024601483717560768\n"
          ]
        },
        {
          "name": "stderr",
          "output_type": "stream",
          "text": [
            "\u001b[92mINFO \u001b[0m:      aggregate_evaluate: received 5 results and 0 failures\n",
            "\u001b[92mINFO \u001b[0m:      \n",
            "\u001b[92mINFO \u001b[0m:      [ROUND 4]\n",
            "\u001b[92mINFO \u001b[0m:      configure_fit: strategy sampled 10 clients (out of 10)\n"
          ]
        },
        {
          "name": "stdout",
          "output_type": "stream",
          "text": [
            "\u001b[36m(ClientAppActor pid=5779)\u001b[0m Epoch 1/1, Train Loss: 0.0471012427782019, Validation Loss: 0.021865183487534523\n",
            "\u001b[36m(ClientAppActor pid=5779)\u001b[0m Epoch 1/1, Train Loss: 0.05011652441074451, Validation Loss: 0.034841044495503105\n",
            "\u001b[36m(ClientAppActor pid=5779)\u001b[0m Epoch 1/1, Train Loss: 0.05141694222887357, Validation Loss: 0.019738120958209038\n",
            "\u001b[36m(ClientAppActor pid=5779)\u001b[0m Epoch 1/1, Train Loss: 0.05812672805041075, Validation Loss: 0.01769111305475235\n",
            "\u001b[36m(ClientAppActor pid=5779)\u001b[0m Epoch 1/1, Train Loss: 0.03282775295277437, Validation Loss: 0.025128138562043507\n",
            "\u001b[36m(ClientAppActor pid=5779)\u001b[0m Epoch 1/1, Train Loss: 0.05344032340993484, Validation Loss: 0.018258328239123028\n",
            "\u001b[36m(ClientAppActor pid=5779)\u001b[0m Epoch 1/1, Train Loss: 0.030833931484570105, Validation Loss: 0.019566834593812626\n",
            "\u001b[36m(ClientAppActor pid=5779)\u001b[0m Epoch 1/1, Train Loss: 0.061884284329911075, Validation Loss: 0.022176298623283703\n",
            "\u001b[36m(ClientAppActor pid=5779)\u001b[0m Epoch 1/1, Train Loss: 0.05825070602198442, Validation Loss: 0.019690268362561863\n"
          ]
        },
        {
          "name": "stderr",
          "output_type": "stream",
          "text": [
            "\u001b[92mINFO \u001b[0m:      aggregate_fit: received 10 results and 0 failures\n",
            "\u001b[92mINFO \u001b[0m:      configure_evaluate: strategy sampled 5 clients (out of 10)\n"
          ]
        },
        {
          "name": "stdout",
          "output_type": "stream",
          "text": [
            "\u001b[36m(ClientAppActor pid=5779)\u001b[0m Epoch 1/1, Train Loss: 0.05406787836303314, Validation Loss: 0.022104687988758087\n"
          ]
        },
        {
          "name": "stderr",
          "output_type": "stream",
          "text": [
            "\u001b[92mINFO \u001b[0m:      aggregate_evaluate: received 5 results and 0 failures\n",
            "\u001b[92mINFO \u001b[0m:      \n",
            "\u001b[92mINFO \u001b[0m:      [ROUND 5]\n",
            "\u001b[92mINFO \u001b[0m:      configure_fit: strategy sampled 10 clients (out of 10)\n"
          ]
        },
        {
          "name": "stdout",
          "output_type": "stream",
          "text": [
            "\u001b[36m(ClientAppActor pid=5779)\u001b[0m Epoch 1/1, Train Loss: 0.04278419834251205, Validation Loss: 0.021270936354994774\n",
            "\u001b[36m(ClientAppActor pid=5779)\u001b[0m Epoch 1/1, Train Loss: 0.03942497416088978, Validation Loss: 0.019235916435718536\n",
            "\u001b[36m(ClientAppActor pid=5779)\u001b[0m Epoch 1/1, Train Loss: 0.03191121139874061, Validation Loss: 0.014022087367872397\n",
            "\u001b[36m(ClientAppActor pid=5779)\u001b[0m Epoch 1/1, Train Loss: 0.0410249928633372, Validation Loss: 0.02117270790040493\n",
            "\u001b[36m(ClientAppActor pid=5779)\u001b[0m Epoch 1/1, Train Loss: 0.04374378834230205, Validation Loss: 0.01578949484974146\n",
            "\u001b[36m(ClientAppActor pid=5779)\u001b[0m Epoch 1/1, Train Loss: 0.029138188809156418, Validation Loss: 0.019474420696496964\n",
            "\u001b[36m(ClientAppActor pid=5779)\u001b[0m Epoch 1/1, Train Loss: 0.04235722270095721, Validation Loss: 0.01750802497069041\n",
            "\u001b[36m(ClientAppActor pid=5779)\u001b[0m Epoch 1/1, Train Loss: 0.027756976429373026, Validation Loss: 0.012622584899266561\n",
            "\u001b[36m(ClientAppActor pid=5779)\u001b[0m Epoch 1/1, Train Loss: 0.037513427436351776, Validation Loss: 0.02688644267618656\n"
          ]
        },
        {
          "name": "stderr",
          "output_type": "stream",
          "text": [
            "\u001b[92mINFO \u001b[0m:      aggregate_fit: received 10 results and 0 failures\n",
            "\u001b[92mINFO \u001b[0m:      configure_evaluate: strategy sampled 5 clients (out of 10)\n"
          ]
        },
        {
          "name": "stdout",
          "output_type": "stream",
          "text": [
            "\u001b[36m(ClientAppActor pid=5779)\u001b[0m Epoch 1/1, Train Loss: 0.040347602761661015, Validation Loss: 0.01308133111645778\n"
          ]
        },
        {
          "name": "stderr",
          "output_type": "stream",
          "text": [
            "\u001b[92mINFO \u001b[0m:      aggregate_evaluate: received 5 results and 0 failures\n",
            "\u001b[92mINFO \u001b[0m:      \n",
            "\u001b[92mINFO \u001b[0m:      [ROUND 6]\n",
            "\u001b[92mINFO \u001b[0m:      configure_fit: strategy sampled 10 clients (out of 10)\n"
          ]
        },
        {
          "name": "stdout",
          "output_type": "stream",
          "text": [
            "\u001b[36m(ClientAppActor pid=5779)\u001b[0m Epoch 1/1, Train Loss: 0.031263142358511686, Validation Loss: 0.027752135569850605\n",
            "\u001b[36m(ClientAppActor pid=5779)\u001b[0m Epoch 1/1, Train Loss: 0.028179180497924488, Validation Loss: 0.014100152378280958\n",
            "\u001b[36m(ClientAppActor pid=5779)\u001b[0m Epoch 1/1, Train Loss: 0.03299468041708072, Validation Loss: 0.018368175874153774\n",
            "\u001b[36m(ClientAppActor pid=5779)\u001b[0m Epoch 1/1, Train Loss: 0.03653987916186452, Validation Loss: 0.017809519544243813\n",
            "\u001b[36m(ClientAppActor pid=5779)\u001b[0m Epoch 1/1, Train Loss: 0.035355466806019344, Validation Loss: 0.015858699567615986\n",
            "\u001b[36m(ClientAppActor pid=5779)\u001b[0m Epoch 1/1, Train Loss: 0.03596975980326533, Validation Loss: 0.017358475054303806\n",
            "\u001b[36m(ClientAppActor pid=5779)\u001b[0m Epoch 1/1, Train Loss: 0.03281722384660194, Validation Loss: 0.02490154467523098\n",
            "\u001b[36m(ClientAppActor pid=5779)\u001b[0m Epoch 1/1, Train Loss: 0.03140842720555762, Validation Loss: 0.02560207744439443\n",
            "\u001b[36m(ClientAppActor pid=5779)\u001b[0m Epoch 1/1, Train Loss: 0.029037702595815063, Validation Loss: 0.027792078753312428\n"
          ]
        },
        {
          "name": "stderr",
          "output_type": "stream",
          "text": [
            "\u001b[92mINFO \u001b[0m:      aggregate_fit: received 10 results and 0 failures\n",
            "\u001b[92mINFO \u001b[0m:      configure_evaluate: strategy sampled 5 clients (out of 10)\n"
          ]
        },
        {
          "name": "stdout",
          "output_type": "stream",
          "text": [
            "\u001b[36m(ClientAppActor pid=5779)\u001b[0m Epoch 1/1, Train Loss: 0.03363710315898061, Validation Loss: 0.018767501537998516\n"
          ]
        },
        {
          "name": "stderr",
          "output_type": "stream",
          "text": [
            "\u001b[92mINFO \u001b[0m:      aggregate_evaluate: received 5 results and 0 failures\n",
            "\u001b[92mINFO \u001b[0m:      \n",
            "\u001b[92mINFO \u001b[0m:      [ROUND 7]\n",
            "\u001b[92mINFO \u001b[0m:      configure_fit: strategy sampled 10 clients (out of 10)\n"
          ]
        },
        {
          "name": "stdout",
          "output_type": "stream",
          "text": [
            "\u001b[36m(ClientAppActor pid=5779)\u001b[0m Epoch 1/1, Train Loss: 0.026087708538398147, Validation Loss: 0.0170865294833978\n",
            "\u001b[36m(ClientAppActor pid=5779)\u001b[0m Epoch 1/1, Train Loss: 0.028990574646741152, Validation Loss: 0.02542695961892605\n",
            "\u001b[36m(ClientAppActor pid=5779)\u001b[0m Epoch 1/1, Train Loss: 0.030302223516628146, Validation Loss: 0.013455452087024847\n",
            "\u001b[36m(ClientAppActor pid=5779)\u001b[0m Epoch 1/1, Train Loss: 0.02567226781199376, Validation Loss: 0.020596986015637715\n",
            "\u001b[36m(ClientAppActor pid=5779)\u001b[0m Epoch 1/1, Train Loss: 0.02765182980025808, Validation Loss: 0.016939778501788776\n",
            "\u001b[36m(ClientAppActor pid=5779)\u001b[0m Epoch 1/1, Train Loss: 0.025780673138797283, Validation Loss: 0.014130789786577225\n",
            "\u001b[36m(ClientAppActor pid=5779)\u001b[0m Epoch 1/1, Train Loss: 0.026607278424004715, Validation Loss: 0.015112523299952349\n",
            "\u001b[36m(ClientAppActor pid=5779)\u001b[0m Epoch 1/1, Train Loss: 0.029388602823019028, Validation Loss: 0.015507146716117859\n",
            "\u001b[36m(ClientAppActor pid=5779)\u001b[0m Epoch 1/1, Train Loss: 0.03348932135850191, Validation Loss: 0.02097284359236558\n"
          ]
        },
        {
          "name": "stderr",
          "output_type": "stream",
          "text": [
            "\u001b[92mINFO \u001b[0m:      aggregate_fit: received 10 results and 0 failures\n",
            "\u001b[92mINFO \u001b[0m:      configure_evaluate: strategy sampled 5 clients (out of 10)\n"
          ]
        },
        {
          "name": "stdout",
          "output_type": "stream",
          "text": [
            "\u001b[36m(ClientAppActor pid=5779)\u001b[0m Epoch 1/1, Train Loss: 0.029345505094776552, Validation Loss: 0.019671254480878513\n"
          ]
        },
        {
          "name": "stderr",
          "output_type": "stream",
          "text": [
            "\u001b[92mINFO \u001b[0m:      aggregate_evaluate: received 5 results and 0 failures\n",
            "\u001b[92mINFO \u001b[0m:      \n",
            "\u001b[92mINFO \u001b[0m:      [ROUND 8]\n",
            "\u001b[92mINFO \u001b[0m:      configure_fit: strategy sampled 10 clients (out of 10)\n"
          ]
        },
        {
          "name": "stdout",
          "output_type": "stream",
          "text": [
            "\u001b[36m(ClientAppActor pid=5779)\u001b[0m Epoch 1/1, Train Loss: 0.023798234527930617, Validation Loss: 0.01513190691669782\n",
            "\u001b[36m(ClientAppActor pid=5779)\u001b[0m Epoch 1/1, Train Loss: 0.029070195897171896, Validation Loss: 0.02435954411824544\n",
            "\u001b[36m(ClientAppActor pid=5779)\u001b[0m Epoch 1/1, Train Loss: 0.025412178443123896, Validation Loss: 0.01925276902814706\n",
            "\u001b[36m(ClientAppActor pid=5779)\u001b[0m Epoch 1/1, Train Loss: 0.02620287115375201, Validation Loss: 0.01702580600976944\n",
            "\u001b[36m(ClientAppActor pid=5779)\u001b[0m Epoch 1/1, Train Loss: 0.028038614041482408, Validation Loss: 0.024936386694510777\n",
            "\u001b[36m(ClientAppActor pid=5779)\u001b[0m Epoch 1/1, Train Loss: 0.027079960874592263, Validation Loss: 0.01496988752235969\n",
            "\u001b[36m(ClientAppActor pid=5779)\u001b[0m Epoch 1/1, Train Loss: 0.026685945922508836, Validation Loss: 0.014981810003519058\n",
            "\u001b[36m(ClientAppActor pid=5779)\u001b[0m Epoch 1/1, Train Loss: 0.02428868319839239, Validation Loss: 0.01534720261891683\n",
            "\u001b[36m(ClientAppActor pid=5779)\u001b[0m Epoch 1/1, Train Loss: 0.02597068902105093, Validation Loss: 0.013383621349930763\n"
          ]
        },
        {
          "name": "stderr",
          "output_type": "stream",
          "text": [
            "\u001b[92mINFO \u001b[0m:      aggregate_fit: received 10 results and 0 failures\n",
            "\u001b[92mINFO \u001b[0m:      configure_evaluate: strategy sampled 5 clients (out of 10)\n"
          ]
        },
        {
          "name": "stdout",
          "output_type": "stream",
          "text": [
            "\u001b[36m(ClientAppActor pid=5779)\u001b[0m Epoch 1/1, Train Loss: 0.02436785469762981, Validation Loss: 0.013284343605240187\n"
          ]
        },
        {
          "name": "stderr",
          "output_type": "stream",
          "text": [
            "\u001b[92mINFO \u001b[0m:      aggregate_evaluate: received 5 results and 0 failures\n",
            "\u001b[92mINFO \u001b[0m:      \n",
            "\u001b[92mINFO \u001b[0m:      [ROUND 9]\n",
            "\u001b[92mINFO \u001b[0m:      configure_fit: strategy sampled 10 clients (out of 10)\n"
          ]
        },
        {
          "name": "stdout",
          "output_type": "stream",
          "text": [
            "\u001b[36m(ClientAppActor pid=5779)\u001b[0m Epoch 1/1, Train Loss: 0.023934913915582, Validation Loss: 0.014068054656187693\n",
            "\u001b[36m(ClientAppActor pid=5779)\u001b[0m Epoch 1/1, Train Loss: 0.02682965233301123, Validation Loss: 0.013041329570114613\n",
            "\u001b[36m(ClientAppActor pid=5779)\u001b[0m Epoch 1/1, Train Loss: 0.02267850050702691, Validation Loss: 0.014007551595568657\n",
            "\u001b[36m(ClientAppActor pid=5779)\u001b[0m Epoch 1/1, Train Loss: 0.02553048877355953, Validation Loss: 0.015994986208776634\n",
            "\u001b[36m(ClientAppActor pid=5779)\u001b[0m Epoch 1/1, Train Loss: 0.02228389874411126, Validation Loss: 0.012723138245443502\n",
            "\u001b[36m(ClientAppActor pid=5779)\u001b[0m Epoch 1/1, Train Loss: 0.022032161243259907, Validation Loss: 0.01538005874802669\n",
            "\u001b[36m(ClientAppActor pid=5779)\u001b[0m Epoch 1/1, Train Loss: 0.02293907416363557, Validation Loss: 0.013518120162189007\n",
            "\u001b[36m(ClientAppActor pid=5779)\u001b[0m Epoch 1/1, Train Loss: 0.01930473290849477, Validation Loss: 0.01802191510796547\n",
            "\u001b[36m(ClientAppActor pid=5779)\u001b[0m Epoch 1/1, Train Loss: 0.02315181295853108, Validation Loss: 0.012179116408030191\n"
          ]
        },
        {
          "name": "stderr",
          "output_type": "stream",
          "text": [
            "\u001b[92mINFO \u001b[0m:      aggregate_fit: received 10 results and 0 failures\n",
            "\u001b[92mINFO \u001b[0m:      configure_evaluate: strategy sampled 5 clients (out of 10)\n"
          ]
        },
        {
          "name": "stdout",
          "output_type": "stream",
          "text": [
            "\u001b[36m(ClientAppActor pid=5779)\u001b[0m Epoch 1/1, Train Loss: 0.023382167797535658, Validation Loss: 0.012670088559389114\n"
          ]
        },
        {
          "name": "stderr",
          "output_type": "stream",
          "text": [
            "\u001b[92mINFO \u001b[0m:      aggregate_evaluate: received 5 results and 0 failures\n",
            "\u001b[92mINFO \u001b[0m:      \n",
            "\u001b[92mINFO \u001b[0m:      [ROUND 10]\n",
            "\u001b[92mINFO \u001b[0m:      configure_fit: strategy sampled 10 clients (out of 10)\n"
          ]
        },
        {
          "name": "stdout",
          "output_type": "stream",
          "text": [
            "\u001b[36m(ClientAppActor pid=5779)\u001b[0m Epoch 1/1, Train Loss: 0.025271749046320718, Validation Loss: 0.012536576949059963\n",
            "\u001b[36m(ClientAppActor pid=5779)\u001b[0m Epoch 1/1, Train Loss: 0.02261471833723287, Validation Loss: 0.016559965908527374\n",
            "\u001b[36m(ClientAppActor pid=5779)\u001b[0m Epoch 1/1, Train Loss: 0.02237148443236947, Validation Loss: 0.015986808575689793\n",
            "\u001b[36m(ClientAppActor pid=5779)\u001b[0m Epoch 1/1, Train Loss: 0.022130175881708663, Validation Loss: 0.015795370563864708\n",
            "\u001b[36m(ClientAppActor pid=5779)\u001b[0m Epoch 1/1, Train Loss: 0.019571598231171567, Validation Loss: 0.015516492538154125\n",
            "\u001b[36m(ClientAppActor pid=5779)\u001b[0m Epoch 1/1, Train Loss: 0.02382354810833931, Validation Loss: 0.012740871869027615\n",
            "\u001b[36m(ClientAppActor pid=5779)\u001b[0m Epoch 1/1, Train Loss: 0.02100447976651291, Validation Loss: 0.010696999728679657\n",
            "\u001b[36m(ClientAppActor pid=5779)\u001b[0m Epoch 1/1, Train Loss: 0.022538977713945012, Validation Loss: 0.014288236697514852\n",
            "\u001b[36m(ClientAppActor pid=5779)\u001b[0m Epoch 1/1, Train Loss: 0.021660807232062023, Validation Loss: 0.015273480986555418\n"
          ]
        },
        {
          "name": "stderr",
          "output_type": "stream",
          "text": [
            "\u001b[92mINFO \u001b[0m:      aggregate_fit: received 10 results and 0 failures\n",
            "\u001b[92mINFO \u001b[0m:      configure_evaluate: strategy sampled 5 clients (out of 10)\n"
          ]
        },
        {
          "name": "stdout",
          "output_type": "stream",
          "text": [
            "\u001b[36m(ClientAppActor pid=5779)\u001b[0m Epoch 1/1, Train Loss: 0.0198952187007914, Validation Loss: 0.01335439613709847\n"
          ]
        },
        {
          "name": "stderr",
          "output_type": "stream",
          "text": [
            "\u001b[92mINFO \u001b[0m:      aggregate_evaluate: received 5 results and 0 failures\n",
            "\u001b[92mINFO \u001b[0m:      \n",
            "\u001b[92mINFO \u001b[0m:      [ROUND 11]\n",
            "\u001b[92mINFO \u001b[0m:      configure_fit: strategy sampled 10 clients (out of 10)\n"
          ]
        },
        {
          "name": "stdout",
          "output_type": "stream",
          "text": [
            "\u001b[36m(ClientAppActor pid=5779)\u001b[0m Epoch 1/1, Train Loss: 0.021955866599455476, Validation Loss: 0.01303007702032725\n",
            "\u001b[36m(ClientAppActor pid=5779)\u001b[0m Epoch 1/1, Train Loss: 0.01942261999162535, Validation Loss: 0.015044291503727436\n",
            "\u001b[36m(ClientAppActor pid=5779)\u001b[0m Epoch 1/1, Train Loss: 0.018945788964629173, Validation Loss: 0.016008912896116573\n",
            "\u001b[36m(ClientAppActor pid=5779)\u001b[0m Epoch 1/1, Train Loss: 0.017300903253878158, Validation Loss: 0.02176883506278197\n",
            "\u001b[36m(ClientAppActor pid=5779)\u001b[0m Epoch 1/1, Train Loss: 0.022210840523863833, Validation Loss: 0.011243555073936781\n",
            "\u001b[36m(ClientAppActor pid=5779)\u001b[0m Epoch 1/1, Train Loss: 0.021480535467465717, Validation Loss: 0.012021431388954321\n",
            "\u001b[36m(ClientAppActor pid=5779)\u001b[0m Epoch 1/1, Train Loss: 0.019529856586207945, Validation Loss: 0.012980065929392973\n",
            "\u001b[36m(ClientAppActor pid=5779)\u001b[0m Epoch 1/1, Train Loss: 0.018577672230700653, Validation Loss: 0.012211324336628119\n",
            "\u001b[36m(ClientAppActor pid=5779)\u001b[0m Epoch 1/1, Train Loss: 0.02099367502766351, Validation Loss: 0.013359213868776957\n"
          ]
        },
        {
          "name": "stderr",
          "output_type": "stream",
          "text": [
            "\u001b[92mINFO \u001b[0m:      aggregate_fit: received 10 results and 0 failures\n",
            "\u001b[92mINFO \u001b[0m:      configure_evaluate: strategy sampled 5 clients (out of 10)\n"
          ]
        },
        {
          "name": "stdout",
          "output_type": "stream",
          "text": [
            "\u001b[36m(ClientAppActor pid=5779)\u001b[0m Epoch 1/1, Train Loss: 0.019826506652558844, Validation Loss: 0.014462079852819443\n"
          ]
        },
        {
          "name": "stderr",
          "output_type": "stream",
          "text": [
            "\u001b[92mINFO \u001b[0m:      aggregate_evaluate: received 5 results and 0 failures\n",
            "\u001b[92mINFO \u001b[0m:      \n",
            "\u001b[92mINFO \u001b[0m:      [ROUND 12]\n",
            "\u001b[92mINFO \u001b[0m:      configure_fit: strategy sampled 10 clients (out of 10)\n"
          ]
        },
        {
          "name": "stdout",
          "output_type": "stream",
          "text": [
            "\u001b[36m(ClientAppActor pid=5779)\u001b[0m Epoch 1/1, Train Loss: 0.016881734210376937, Validation Loss: 0.015481321762005487\n",
            "\u001b[36m(ClientAppActor pid=5779)\u001b[0m Epoch 1/1, Train Loss: 0.01583365521704157, Validation Loss: 0.017480546919008095\n",
            "\u001b[36m(ClientAppActor pid=5779)\u001b[0m Epoch 1/1, Train Loss: 0.01770164833093683, Validation Loss: 0.018304613108436268\n",
            "\u001b[36m(ClientAppActor pid=5779)\u001b[0m Epoch 1/1, Train Loss: 0.01716182326587538, Validation Loss: 0.011963600292801857\n",
            "\u001b[36m(ClientAppActor pid=5779)\u001b[0m Epoch 1/1, Train Loss: 0.01865844684652984, Validation Loss: 0.01630203736325105\n",
            "\u001b[36m(ClientAppActor pid=5779)\u001b[0m Epoch 1/1, Train Loss: 0.020615374358991783, Validation Loss: 0.018444149444500606\n",
            "\u001b[36m(ClientAppActor pid=5779)\u001b[0m Epoch 1/1, Train Loss: 0.018932905280962586, Validation Loss: 0.0135557617371281\n",
            "\u001b[36m(ClientAppActor pid=5779)\u001b[0m Epoch 1/1, Train Loss: 0.017435823023940127, Validation Loss: 0.014331555925309658\n",
            "\u001b[36m(ClientAppActor pid=5779)\u001b[0m Epoch 1/1, Train Loss: 0.018356591928750277, Validation Loss: 0.015490912832319736\n"
          ]
        },
        {
          "name": "stderr",
          "output_type": "stream",
          "text": [
            "\u001b[92mINFO \u001b[0m:      aggregate_fit: received 10 results and 0 failures\n",
            "\u001b[92mINFO \u001b[0m:      configure_evaluate: strategy sampled 5 clients (out of 10)\n"
          ]
        },
        {
          "name": "stdout",
          "output_type": "stream",
          "text": [
            "\u001b[36m(ClientAppActor pid=5779)\u001b[0m Epoch 1/1, Train Loss: 0.019998056658854086, Validation Loss: 0.011702758415291706\n"
          ]
        },
        {
          "name": "stderr",
          "output_type": "stream",
          "text": [
            "\u001b[92mINFO \u001b[0m:      aggregate_evaluate: received 5 results and 0 failures\n",
            "\u001b[92mINFO \u001b[0m:      \n",
            "\u001b[92mINFO \u001b[0m:      [ROUND 13]\n",
            "\u001b[92mINFO \u001b[0m:      configure_fit: strategy sampled 10 clients (out of 10)\n"
          ]
        },
        {
          "name": "stdout",
          "output_type": "stream",
          "text": [
            "\u001b[36m(ClientAppActor pid=5779)\u001b[0m Epoch 1/1, Train Loss: 0.014919089308629433, Validation Loss: 0.01289935347934564\n",
            "\u001b[36m(ClientAppActor pid=5779)\u001b[0m Epoch 1/1, Train Loss: 0.017589952253426116, Validation Loss: 0.013666588502625624\n",
            "\u001b[36m(ClientAppActor pid=5779)\u001b[0m Epoch 1/1, Train Loss: 0.017022043156127136, Validation Loss: 0.012847021222114563\n",
            "\u001b[36m(ClientAppActor pid=5779)\u001b[0m Epoch 1/1, Train Loss: 0.016787810794388253, Validation Loss: 0.012170720224579176\n",
            "\u001b[36m(ClientAppActor pid=5779)\u001b[0m Epoch 1/1, Train Loss: 0.020957676849017542, Validation Loss: 0.012923003795246283\n",
            "\u001b[36m(ClientAppActor pid=5779)\u001b[0m Epoch 1/1, Train Loss: 0.01739016470188896, Validation Loss: 0.015477315212289492\n",
            "\u001b[36m(ClientAppActor pid=5779)\u001b[0m Epoch 1/1, Train Loss: 0.01889590620218466, Validation Loss: 0.011851982523997625\n",
            "\u001b[36m(ClientAppActor pid=5779)\u001b[0m Epoch 1/1, Train Loss: 0.01838556126070519, Validation Loss: 0.019113261873523395\n",
            "\u001b[36m(ClientAppActor pid=5779)\u001b[0m Epoch 1/1, Train Loss: 0.019215602815772097, Validation Loss: 0.015508722824354967\n"
          ]
        },
        {
          "name": "stderr",
          "output_type": "stream",
          "text": [
            "\u001b[92mINFO \u001b[0m:      aggregate_fit: received 10 results and 0 failures\n",
            "\u001b[92mINFO \u001b[0m:      configure_evaluate: strategy sampled 5 clients (out of 10)\n"
          ]
        },
        {
          "name": "stdout",
          "output_type": "stream",
          "text": [
            "\u001b[36m(ClientAppActor pid=5779)\u001b[0m Epoch 1/1, Train Loss: 0.019874604341263574, Validation Loss: 0.014726219388345877\n"
          ]
        },
        {
          "name": "stderr",
          "output_type": "stream",
          "text": [
            "\u001b[92mINFO \u001b[0m:      aggregate_evaluate: received 5 results and 0 failures\n",
            "\u001b[92mINFO \u001b[0m:      \n",
            "\u001b[92mINFO \u001b[0m:      [ROUND 14]\n",
            "\u001b[92mINFO \u001b[0m:      configure_fit: strategy sampled 10 clients (out of 10)\n"
          ]
        },
        {
          "name": "stdout",
          "output_type": "stream",
          "text": [
            "\u001b[36m(ClientAppActor pid=5779)\u001b[0m Epoch 1/1, Train Loss: 0.016834869825591642, Validation Loss: 0.012094296514987946\n",
            "\u001b[36m(ClientAppActor pid=5779)\u001b[0m Epoch 1/1, Train Loss: 0.018307097333793838, Validation Loss: 0.017316799610853195\n",
            "\u001b[36m(ClientAppActor pid=5779)\u001b[0m Epoch 1/1, Train Loss: 0.01973710465244949, Validation Loss: 0.013287362642586231\n",
            "\u001b[36m(ClientAppActor pid=5779)\u001b[0m Epoch 1/1, Train Loss: 0.016933424786354106, Validation Loss: 0.012279459896186987\n",
            "\u001b[36m(ClientAppActor pid=5779)\u001b[0m Epoch 1/1, Train Loss: 0.017014530564968783, Validation Loss: 0.01736147018770377\n",
            "\u001b[36m(ClientAppActor pid=5779)\u001b[0m Epoch 1/1, Train Loss: 0.016515886954342324, Validation Loss: 0.013836844203372797\n",
            "\u001b[36m(ClientAppActor pid=5779)\u001b[0m Epoch 1/1, Train Loss: 0.013790133642032743, Validation Loss: 0.01240968176474174\n",
            "\u001b[36m(ClientAppActor pid=5779)\u001b[0m Epoch 1/1, Train Loss: 0.014149157563224435, Validation Loss: 0.012140773236751556\n",
            "\u001b[36m(ClientAppActor pid=5779)\u001b[0m Epoch 1/1, Train Loss: 0.014684674562886357, Validation Loss: 0.013184071208039919\n"
          ]
        },
        {
          "name": "stderr",
          "output_type": "stream",
          "text": [
            "\u001b[92mINFO \u001b[0m:      aggregate_fit: received 10 results and 0 failures\n",
            "\u001b[92mINFO \u001b[0m:      configure_evaluate: strategy sampled 5 clients (out of 10)\n"
          ]
        },
        {
          "name": "stdout",
          "output_type": "stream",
          "text": [
            "\u001b[36m(ClientAppActor pid=5779)\u001b[0m Epoch 1/1, Train Loss: 0.01778497752578308, Validation Loss: 0.010361467488110065\n"
          ]
        },
        {
          "name": "stderr",
          "output_type": "stream",
          "text": [
            "\u001b[92mINFO \u001b[0m:      aggregate_evaluate: received 5 results and 0 failures\n",
            "\u001b[92mINFO \u001b[0m:      \n",
            "\u001b[92mINFO \u001b[0m:      [ROUND 15]\n",
            "\u001b[92mINFO \u001b[0m:      configure_fit: strategy sampled 10 clients (out of 10)\n"
          ]
        },
        {
          "name": "stdout",
          "output_type": "stream",
          "text": [
            "\u001b[36m(ClientAppActor pid=5779)\u001b[0m Epoch 1/1, Train Loss: 0.017293039010837674, Validation Loss: 0.01196209341287613\n",
            "\u001b[36m(ClientAppActor pid=5779)\u001b[0m Epoch 1/1, Train Loss: 0.01659867516718805, Validation Loss: 0.012908454984426498\n",
            "\u001b[36m(ClientAppActor pid=5779)\u001b[0m Epoch 1/1, Train Loss: 0.017668931822602946, Validation Loss: 0.0121353588377436\n",
            "\u001b[36m(ClientAppActor pid=5779)\u001b[0m Epoch 1/1, Train Loss: 0.01602212223224342, Validation Loss: 0.014508603140711784\n",
            "\u001b[36m(ClientAppActor pid=5779)\u001b[0m Epoch 1/1, Train Loss: 0.015272841167946657, Validation Loss: 0.011579501132170359\n",
            "\u001b[36m(ClientAppActor pid=5779)\u001b[0m Epoch 1/1, Train Loss: 0.01812678559993704, Validation Loss: 0.024488339200615883\n",
            "\u001b[36m(ClientAppActor pid=5779)\u001b[0m Epoch 1/1, Train Loss: 0.01601910082778583, Validation Loss: 0.012919244666894278\n",
            "\u001b[36m(ClientAppActor pid=5779)\u001b[0m Epoch 1/1, Train Loss: 0.018589404334003728, Validation Loss: 0.01222988311201334\n",
            "\u001b[36m(ClientAppActor pid=5779)\u001b[0m Epoch 1/1, Train Loss: 0.018685686479633052, Validation Loss: 0.012600222292045752\n"
          ]
        },
        {
          "name": "stderr",
          "output_type": "stream",
          "text": [
            "\u001b[92mINFO \u001b[0m:      aggregate_fit: received 10 results and 0 failures\n",
            "\u001b[92mINFO \u001b[0m:      configure_evaluate: strategy sampled 5 clients (out of 10)\n"
          ]
        },
        {
          "name": "stdout",
          "output_type": "stream",
          "text": [
            "\u001b[36m(ClientAppActor pid=5779)\u001b[0m Epoch 1/1, Train Loss: 0.014388919419919452, Validation Loss: 0.014078302619357904\n"
          ]
        },
        {
          "name": "stderr",
          "output_type": "stream",
          "text": [
            "\u001b[92mINFO \u001b[0m:      aggregate_evaluate: received 5 results and 0 failures\n",
            "\u001b[92mINFO \u001b[0m:      \n",
            "\u001b[92mINFO \u001b[0m:      [ROUND 16]\n",
            "\u001b[92mINFO \u001b[0m:      configure_fit: strategy sampled 10 clients (out of 10)\n"
          ]
        },
        {
          "name": "stdout",
          "output_type": "stream",
          "text": [
            "\u001b[36m(ClientAppActor pid=5779)\u001b[0m Epoch 1/1, Train Loss: 0.017794968948389094, Validation Loss: 0.013668809706966082\n",
            "\u001b[36m(ClientAppActor pid=5779)\u001b[0m Epoch 1/1, Train Loss: 0.014608484809286892, Validation Loss: 0.013522693576912085\n",
            "\u001b[36m(ClientAppActor pid=5779)\u001b[0m Epoch 1/1, Train Loss: 0.016148619276160996, Validation Loss: 0.012359177693724632\n",
            "\u001b[36m(ClientAppActor pid=5779)\u001b[0m Epoch 1/1, Train Loss: 0.017734453547745943, Validation Loss: 0.013424078623453775\n",
            "\u001b[36m(ClientAppActor pid=5779)\u001b[0m Epoch 1/1, Train Loss: 0.014815723368277153, Validation Loss: 0.013857629150152206\n",
            "\u001b[36m(ClientAppActor pid=5779)\u001b[0m Epoch 1/1, Train Loss: 0.016535817257439096, Validation Loss: 0.010810970949629942\n",
            "\u001b[36m(ClientAppActor pid=5779)\u001b[0m Epoch 1/1, Train Loss: 0.015706023977448542, Validation Loss: 0.01703820253411929\n",
            "\u001b[36m(ClientAppActor pid=5779)\u001b[0m Epoch 1/1, Train Loss: 0.01596172573044896, Validation Loss: 0.016619968538482983\n",
            "\u001b[36m(ClientAppActor pid=5779)\u001b[0m Epoch 1/1, Train Loss: 0.014823373096684614, Validation Loss: 0.012791702213386694\n"
          ]
        },
        {
          "name": "stderr",
          "output_type": "stream",
          "text": [
            "\u001b[92mINFO \u001b[0m:      aggregate_fit: received 10 results and 0 failures\n",
            "\u001b[92mINFO \u001b[0m:      configure_evaluate: strategy sampled 5 clients (out of 10)\n"
          ]
        },
        {
          "name": "stdout",
          "output_type": "stream",
          "text": [
            "\u001b[36m(ClientAppActor pid=5779)\u001b[0m Epoch 1/1, Train Loss: 0.017208107902357977, Validation Loss: 0.011945464337865511\n"
          ]
        },
        {
          "name": "stderr",
          "output_type": "stream",
          "text": [
            "\u001b[92mINFO \u001b[0m:      aggregate_evaluate: received 5 results and 0 failures\n",
            "\u001b[92mINFO \u001b[0m:      \n",
            "\u001b[92mINFO \u001b[0m:      [ROUND 17]\n",
            "\u001b[92mINFO \u001b[0m:      configure_fit: strategy sampled 10 clients (out of 10)\n"
          ]
        },
        {
          "name": "stdout",
          "output_type": "stream",
          "text": [
            "\u001b[36m(ClientAppActor pid=5779)\u001b[0m Epoch 1/1, Train Loss: 0.016188935454313953, Validation Loss: 0.012727987952530384\n",
            "\u001b[36m(ClientAppActor pid=5779)\u001b[0m Epoch 1/1, Train Loss: 0.014307878736872226, Validation Loss: 0.01718197266260783\n",
            "\u001b[36m(ClientAppActor pid=5779)\u001b[0m Epoch 1/1, Train Loss: 0.019286242856954534, Validation Loss: 0.011280744026104609\n",
            "\u001b[36m(ClientAppActor pid=5779)\u001b[0m Epoch 1/1, Train Loss: 0.020639750252788264, Validation Loss: 0.012712273436288038\n",
            "\u001b[36m(ClientAppActor pid=5779)\u001b[0m Epoch 1/1, Train Loss: 0.014453254407271743, Validation Loss: 0.012043727251390616\n",
            "\u001b[36m(ClientAppActor pid=5779)\u001b[0m Epoch 1/1, Train Loss: 0.015908600762486458, Validation Loss: 0.010947785650690397\n",
            "\u001b[36m(ClientAppActor pid=5779)\u001b[0m Epoch 1/1, Train Loss: 0.013172676088288426, Validation Loss: 0.012320353959997496\n",
            "\u001b[36m(ClientAppActor pid=5779)\u001b[0m Epoch 1/1, Train Loss: 0.016927435528486967, Validation Loss: 0.01281207116941611\n",
            "\u001b[36m(ClientAppActor pid=5779)\u001b[0m Epoch 1/1, Train Loss: 0.01593620531881849, Validation Loss: 0.013188378885388374\n"
          ]
        },
        {
          "name": "stderr",
          "output_type": "stream",
          "text": [
            "\u001b[92mINFO \u001b[0m:      aggregate_fit: received 10 results and 0 failures\n",
            "\u001b[92mINFO \u001b[0m:      configure_evaluate: strategy sampled 5 clients (out of 10)\n"
          ]
        },
        {
          "name": "stdout",
          "output_type": "stream",
          "text": [
            "\u001b[36m(ClientAppActor pid=5779)\u001b[0m Epoch 1/1, Train Loss: 0.013153138027215997, Validation Loss: 0.010975423113753399\n"
          ]
        },
        {
          "name": "stderr",
          "output_type": "stream",
          "text": [
            "\u001b[92mINFO \u001b[0m:      aggregate_evaluate: received 5 results and 0 failures\n",
            "\u001b[92mINFO \u001b[0m:      \n",
            "\u001b[92mINFO \u001b[0m:      [ROUND 18]\n",
            "\u001b[92mINFO \u001b[0m:      configure_fit: strategy sampled 10 clients (out of 10)\n"
          ]
        },
        {
          "name": "stdout",
          "output_type": "stream",
          "text": [
            "\u001b[36m(ClientAppActor pid=5779)\u001b[0m Epoch 1/1, Train Loss: 0.014679619732002417, Validation Loss: 0.013510383665561676\n",
            "\u001b[36m(ClientAppActor pid=5779)\u001b[0m Epoch 1/1, Train Loss: 0.015431560187910994, Validation Loss: 0.014762245118618011\n",
            "\u001b[36m(ClientAppActor pid=5779)\u001b[0m Epoch 1/1, Train Loss: 0.015387339750304818, Validation Loss: 0.01481684980293115\n",
            "\u001b[36m(ClientAppActor pid=5779)\u001b[0m Epoch 1/1, Train Loss: 0.013683272448057929, Validation Loss: 0.01249959816535314\n",
            "\u001b[36m(ClientAppActor pid=5779)\u001b[0m Epoch 1/1, Train Loss: 0.014109159354120493, Validation Loss: 0.011270850896835327\n",
            "\u001b[36m(ClientAppActor pid=5779)\u001b[0m Epoch 1/1, Train Loss: 0.01614597055595368, Validation Loss: 0.01221688495328029\n",
            "\u001b[36m(ClientAppActor pid=5779)\u001b[0m Epoch 1/1, Train Loss: 0.015715680085122585, Validation Loss: 0.010945291568835577\n",
            "\u001b[36m(ClientAppActor pid=5779)\u001b[0m Epoch 1/1, Train Loss: 0.014859019701058665, Validation Loss: 0.011820166682203611\n",
            "\u001b[36m(ClientAppActor pid=5779)\u001b[0m Epoch 1/1, Train Loss: 0.018885720055550337, Validation Loss: 0.016395282310744125\n"
          ]
        },
        {
          "name": "stderr",
          "output_type": "stream",
          "text": [
            "\u001b[92mINFO \u001b[0m:      aggregate_fit: received 10 results and 0 failures\n",
            "\u001b[92mINFO \u001b[0m:      configure_evaluate: strategy sampled 5 clients (out of 10)\n"
          ]
        },
        {
          "name": "stdout",
          "output_type": "stream",
          "text": [
            "\u001b[36m(ClientAppActor pid=5779)\u001b[0m Epoch 1/1, Train Loss: 0.015323770232498646, Validation Loss: 0.013211495553453764\n"
          ]
        },
        {
          "name": "stderr",
          "output_type": "stream",
          "text": [
            "\u001b[92mINFO \u001b[0m:      aggregate_evaluate: received 5 results and 0 failures\n",
            "\u001b[92mINFO \u001b[0m:      \n",
            "\u001b[92mINFO \u001b[0m:      [ROUND 19]\n",
            "\u001b[92mINFO \u001b[0m:      configure_fit: strategy sampled 10 clients (out of 10)\n"
          ]
        },
        {
          "name": "stdout",
          "output_type": "stream",
          "text": [
            "\u001b[36m(ClientAppActor pid=5779)\u001b[0m Epoch 1/1, Train Loss: 0.013413991352232793, Validation Loss: 0.01228891871869564\n",
            "\u001b[36m(ClientAppActor pid=5779)\u001b[0m Epoch 1/1, Train Loss: 0.012924701363469163, Validation Loss: 0.009836512617766857\n",
            "\u001b[36m(ClientAppActor pid=5779)\u001b[0m Epoch 1/1, Train Loss: 0.014183346026887497, Validation Loss: 0.012887146944801012\n",
            "\u001b[36m(ClientAppActor pid=5779)\u001b[0m Epoch 1/1, Train Loss: 0.012658007365340987, Validation Loss: 0.010289349282781282\n",
            "\u001b[36m(ClientAppActor pid=5779)\u001b[0m Epoch 1/1, Train Loss: 0.013428736167649427, Validation Loss: 0.01567775383591652\n",
            "\u001b[36m(ClientAppActor pid=5779)\u001b[0m Epoch 1/1, Train Loss: 0.01502903294749558, Validation Loss: 0.011767113581299782\n",
            "\u001b[36m(ClientAppActor pid=5779)\u001b[0m Epoch 1/1, Train Loss: 0.014757475815713406, Validation Loss: 0.01209483885516723\n",
            "\u001b[36m(ClientAppActor pid=5779)\u001b[0m Epoch 1/1, Train Loss: 0.014238012760567168, Validation Loss: 0.0112421956534187\n",
            "\u001b[36m(ClientAppActor pid=5779)\u001b[0m Epoch 1/1, Train Loss: 0.015301301454504332, Validation Loss: 0.01485542735705773\n"
          ]
        },
        {
          "name": "stderr",
          "output_type": "stream",
          "text": [
            "\u001b[92mINFO \u001b[0m:      aggregate_fit: received 10 results and 0 failures\n",
            "\u001b[92mINFO \u001b[0m:      configure_evaluate: strategy sampled 5 clients (out of 10)\n"
          ]
        },
        {
          "name": "stdout",
          "output_type": "stream",
          "text": [
            "\u001b[36m(ClientAppActor pid=5779)\u001b[0m Epoch 1/1, Train Loss: 0.013688724643240372, Validation Loss: 0.011886878870427608\n"
          ]
        },
        {
          "name": "stderr",
          "output_type": "stream",
          "text": [
            "\u001b[92mINFO \u001b[0m:      aggregate_evaluate: received 5 results and 0 failures\n",
            "\u001b[92mINFO \u001b[0m:      \n",
            "\u001b[92mINFO \u001b[0m:      [ROUND 20]\n",
            "\u001b[92mINFO \u001b[0m:      configure_fit: strategy sampled 10 clients (out of 10)\n"
          ]
        },
        {
          "name": "stdout",
          "output_type": "stream",
          "text": [
            "\u001b[36m(ClientAppActor pid=5779)\u001b[0m Epoch 1/1, Train Loss: 0.014625330222770572, Validation Loss: 0.013309220783412457\n",
            "\u001b[36m(ClientAppActor pid=5779)\u001b[0m Epoch 1/1, Train Loss: 0.014998831902630627, Validation Loss: 0.011373722615341345\n",
            "\u001b[36m(ClientAppActor pid=5779)\u001b[0m Epoch 1/1, Train Loss: 0.013729840245408317, Validation Loss: 0.01174341949323813\n",
            "\u001b[36m(ClientAppActor pid=5779)\u001b[0m Epoch 1/1, Train Loss: 0.013360570728157958, Validation Loss: 0.014043474259475866\n",
            "\u001b[36m(ClientAppActor pid=5779)\u001b[0m Epoch 1/1, Train Loss: 0.015062868672733506, Validation Loss: 0.014793774113059044\n",
            "\u001b[36m(ClientAppActor pid=5779)\u001b[0m Epoch 1/1, Train Loss: 0.01597549021244049, Validation Loss: 0.012075215888520082\n",
            "\u001b[36m(ClientAppActor pid=5779)\u001b[0m Epoch 1/1, Train Loss: 0.013571194605901837, Validation Loss: 0.011345495159427324\n",
            "\u001b[36m(ClientAppActor pid=5779)\u001b[0m Epoch 1/1, Train Loss: 0.0158606325276196, Validation Loss: 0.011945650912821293\n",
            "\u001b[36m(ClientAppActor pid=5779)\u001b[0m Epoch 1/1, Train Loss: 0.01346209249459207, Validation Loss: 0.012178644227484861\n"
          ]
        },
        {
          "name": "stderr",
          "output_type": "stream",
          "text": [
            "\u001b[92mINFO \u001b[0m:      aggregate_fit: received 10 results and 0 failures\n",
            "\u001b[92mINFO \u001b[0m:      configure_evaluate: strategy sampled 5 clients (out of 10)\n"
          ]
        },
        {
          "name": "stdout",
          "output_type": "stream",
          "text": [
            "\u001b[36m(ClientAppActor pid=5779)\u001b[0m Epoch 1/1, Train Loss: 0.017640345186615985, Validation Loss: 0.012409180402755737\n"
          ]
        },
        {
          "name": "stderr",
          "output_type": "stream",
          "text": [
            "\u001b[92mINFO \u001b[0m:      aggregate_evaluate: received 5 results and 0 failures\n",
            "\u001b[92mINFO \u001b[0m:      \n",
            "\u001b[92mINFO \u001b[0m:      [ROUND 21]\n",
            "\u001b[92mINFO \u001b[0m:      configure_fit: strategy sampled 10 clients (out of 10)\n"
          ]
        },
        {
          "name": "stdout",
          "output_type": "stream",
          "text": [
            "\u001b[36m(ClientAppActor pid=5779)\u001b[0m Epoch 1/1, Train Loss: 0.013095096956628064, Validation Loss: 0.012670268615086874\n",
            "\u001b[36m(ClientAppActor pid=5779)\u001b[0m Epoch 1/1, Train Loss: 0.012329388177022338, Validation Loss: 0.010472592587272326\n",
            "\u001b[36m(ClientAppActor pid=5779)\u001b[0m Epoch 1/1, Train Loss: 0.013409059339513382, Validation Loss: 0.011643307593961557\n",
            "\u001b[36m(ClientAppActor pid=5779)\u001b[0m Epoch 1/1, Train Loss: 0.014139552523071567, Validation Loss: 0.010558501506845156\n",
            "\u001b[36m(ClientAppActor pid=5779)\u001b[0m Epoch 1/1, Train Loss: 0.012573841648797194, Validation Loss: 0.013209373690187931\n",
            "\u001b[36m(ClientAppActor pid=5779)\u001b[0m Epoch 1/1, Train Loss: 0.013500426430255175, Validation Loss: 0.013805507061382135\n",
            "\u001b[36m(ClientAppActor pid=5779)\u001b[0m Epoch 1/1, Train Loss: 0.014230060779179135, Validation Loss: 0.01704445295035839\n",
            "\u001b[36m(ClientAppActor pid=5779)\u001b[0m Epoch 1/1, Train Loss: 0.013772245574121674, Validation Loss: 0.012501771872242292\n",
            "\u001b[36m(ClientAppActor pid=5779)\u001b[0m Epoch 1/1, Train Loss: 0.015193451273565492, Validation Loss: 0.012948431385060152\n"
          ]
        },
        {
          "name": "stderr",
          "output_type": "stream",
          "text": [
            "\u001b[92mINFO \u001b[0m:      aggregate_fit: received 10 results and 0 failures\n",
            "\u001b[92mINFO \u001b[0m:      configure_evaluate: strategy sampled 5 clients (out of 10)\n"
          ]
        },
        {
          "name": "stdout",
          "output_type": "stream",
          "text": [
            "\u001b[36m(ClientAppActor pid=5779)\u001b[0m Epoch 1/1, Train Loss: 0.015625124409173925, Validation Loss: 0.012393192077676455\n"
          ]
        },
        {
          "name": "stderr",
          "output_type": "stream",
          "text": [
            "\u001b[92mINFO \u001b[0m:      aggregate_evaluate: received 5 results and 0 failures\n",
            "\u001b[92mINFO \u001b[0m:      \n",
            "\u001b[92mINFO \u001b[0m:      [ROUND 22]\n",
            "\u001b[92mINFO \u001b[0m:      configure_fit: strategy sampled 10 clients (out of 10)\n"
          ]
        },
        {
          "name": "stdout",
          "output_type": "stream",
          "text": [
            "\u001b[36m(ClientAppActor pid=5779)\u001b[0m Epoch 1/1, Train Loss: 0.015627446041132014, Validation Loss: 0.013199740089476109\n",
            "\u001b[36m(ClientAppActor pid=5779)\u001b[0m Epoch 1/1, Train Loss: 0.010918257641606033, Validation Loss: 0.01170935109257698\n",
            "\u001b[36m(ClientAppActor pid=5779)\u001b[0m Epoch 1/1, Train Loss: 0.012476999079808593, Validation Loss: 0.014032493034998575\n",
            "\u001b[36m(ClientAppActor pid=5779)\u001b[0m Epoch 1/1, Train Loss: 0.014739313046447933, Validation Loss: 0.010524042726804813\n",
            "\u001b[36m(ClientAppActor pid=5779)\u001b[0m Epoch 1/1, Train Loss: 0.013684944249689579, Validation Loss: 0.011974674028654894\n",
            "\u001b[36m(ClientAppActor pid=5779)\u001b[0m Epoch 1/1, Train Loss: 0.01532445615157485, Validation Loss: 0.011903831424812475\n",
            "\u001b[36m(ClientAppActor pid=5779)\u001b[0m Epoch 1/1, Train Loss: 0.01657174644060433, Validation Loss: 0.01209260399142901\n",
            "\u001b[36m(ClientAppActor pid=5779)\u001b[0m Epoch 1/1, Train Loss: 0.01413246818507711, Validation Loss: 0.011957789150377115\n",
            "\u001b[36m(ClientAppActor pid=5779)\u001b[0m Epoch 1/1, Train Loss: 0.012751845856352398, Validation Loss: 0.011158672161400318\n"
          ]
        },
        {
          "name": "stderr",
          "output_type": "stream",
          "text": [
            "\u001b[92mINFO \u001b[0m:      aggregate_fit: received 10 results and 0 failures\n",
            "\u001b[92mINFO \u001b[0m:      configure_evaluate: strategy sampled 5 clients (out of 10)\n"
          ]
        },
        {
          "name": "stdout",
          "output_type": "stream",
          "text": [
            "\u001b[36m(ClientAppActor pid=5779)\u001b[0m Epoch 1/1, Train Loss: 0.013426821601266662, Validation Loss: 0.013560194211701551\n"
          ]
        },
        {
          "name": "stderr",
          "output_type": "stream",
          "text": [
            "\u001b[92mINFO \u001b[0m:      aggregate_evaluate: received 5 results and 0 failures\n",
            "\u001b[92mINFO \u001b[0m:      \n",
            "\u001b[92mINFO \u001b[0m:      [ROUND 23]\n",
            "\u001b[92mINFO \u001b[0m:      configure_fit: strategy sampled 10 clients (out of 10)\n"
          ]
        },
        {
          "name": "stdout",
          "output_type": "stream",
          "text": [
            "\u001b[36m(ClientAppActor pid=5779)\u001b[0m Epoch 1/1, Train Loss: 0.01283949442828695, Validation Loss: 0.011764995753765106\n",
            "\u001b[36m(ClientAppActor pid=5779)\u001b[0m Epoch 1/1, Train Loss: 0.013491046343309184, Validation Loss: 0.012497505793968836\n",
            "\u001b[36m(ClientAppActor pid=5779)\u001b[0m Epoch 1/1, Train Loss: 0.01424794077562789, Validation Loss: 0.01008872656772534\n",
            "\u001b[36m(ClientAppActor pid=5779)\u001b[0m Epoch 1/1, Train Loss: 0.012878185215716561, Validation Loss: 0.013477970225115618\n",
            "\u001b[36m(ClientAppActor pid=5779)\u001b[0m Epoch 1/1, Train Loss: 0.01176600030157715, Validation Loss: 0.01015871095781525\n",
            "\u001b[36m(ClientAppActor pid=5779)\u001b[0m Epoch 1/1, Train Loss: 0.011547563985611001, Validation Loss: 0.010800183440248171\n",
            "\u001b[36m(ClientAppActor pid=5779)\u001b[0m Epoch 1/1, Train Loss: 0.0140606005055209, Validation Loss: 0.011925532793005308\n",
            "\u001b[36m(ClientAppActor pid=5779)\u001b[0m Epoch 1/1, Train Loss: 0.01253983190205569, Validation Loss: 0.010323495604097843\n",
            "\u001b[36m(ClientAppActor pid=5779)\u001b[0m Epoch 1/1, Train Loss: 0.014367412426508963, Validation Loss: 0.014339392383893331\n"
          ]
        },
        {
          "name": "stderr",
          "output_type": "stream",
          "text": [
            "\u001b[92mINFO \u001b[0m:      aggregate_fit: received 10 results and 0 failures\n",
            "\u001b[92mINFO \u001b[0m:      configure_evaluate: strategy sampled 5 clients (out of 10)\n"
          ]
        },
        {
          "name": "stdout",
          "output_type": "stream",
          "text": [
            "\u001b[36m(ClientAppActor pid=5779)\u001b[0m Epoch 1/1, Train Loss: 0.013255232479423285, Validation Loss: 0.011964941086868445\n"
          ]
        },
        {
          "name": "stderr",
          "output_type": "stream",
          "text": [
            "\u001b[92mINFO \u001b[0m:      aggregate_evaluate: received 5 results and 0 failures\n",
            "\u001b[92mINFO \u001b[0m:      \n",
            "\u001b[92mINFO \u001b[0m:      [ROUND 24]\n",
            "\u001b[92mINFO \u001b[0m:      configure_fit: strategy sampled 10 clients (out of 10)\n"
          ]
        },
        {
          "name": "stdout",
          "output_type": "stream",
          "text": [
            "\u001b[36m(ClientAppActor pid=5779)\u001b[0m Epoch 1/1, Train Loss: 0.011636910067560772, Validation Loss: 0.014528268948197365\n",
            "\u001b[36m(ClientAppActor pid=5779)\u001b[0m Epoch 1/1, Train Loss: 0.01380328965994219, Validation Loss: 0.012484796345233917\n",
            "\u001b[36m(ClientAppActor pid=5779)\u001b[0m Epoch 1/1, Train Loss: 0.014666739540795485, Validation Loss: 0.013907653279602528\n",
            "\u001b[36m(ClientAppActor pid=5779)\u001b[0m Epoch 1/1, Train Loss: 0.014500381580243507, Validation Loss: 0.01253705316533645\n",
            "\u001b[36m(ClientAppActor pid=5779)\u001b[0m Epoch 1/1, Train Loss: 0.01521860295906663, Validation Loss: 0.012729888781905174\n",
            "\u001b[36m(ClientAppActor pid=5779)\u001b[0m Epoch 1/1, Train Loss: 0.012670931328708926, Validation Loss: 0.010911281531055769\n",
            "\u001b[36m(ClientAppActor pid=5779)\u001b[0m Epoch 1/1, Train Loss: 0.012464778032153845, Validation Loss: 0.010317549109458923\n",
            "\u001b[36m(ClientAppActor pid=5779)\u001b[0m Epoch 1/1, Train Loss: 0.014373753685504198, Validation Loss: 0.013278503902256489\n",
            "\u001b[36m(ClientAppActor pid=5779)\u001b[0m Epoch 1/1, Train Loss: 0.014026950113475323, Validation Loss: 0.010932395545144876\n"
          ]
        },
        {
          "name": "stderr",
          "output_type": "stream",
          "text": [
            "\u001b[92mINFO \u001b[0m:      aggregate_fit: received 10 results and 0 failures\n",
            "\u001b[92mINFO \u001b[0m:      configure_evaluate: strategy sampled 5 clients (out of 10)\n"
          ]
        },
        {
          "name": "stdout",
          "output_type": "stream",
          "text": [
            "\u001b[36m(ClientAppActor pid=5779)\u001b[0m Epoch 1/1, Train Loss: 0.012329424420992533, Validation Loss: 0.010006292878339687\n"
          ]
        },
        {
          "name": "stderr",
          "output_type": "stream",
          "text": [
            "\u001b[92mINFO \u001b[0m:      aggregate_evaluate: received 5 results and 0 failures\n",
            "\u001b[92mINFO \u001b[0m:      \n",
            "\u001b[92mINFO \u001b[0m:      [ROUND 25]\n",
            "\u001b[92mINFO \u001b[0m:      configure_fit: strategy sampled 10 clients (out of 10)\n"
          ]
        },
        {
          "name": "stdout",
          "output_type": "stream",
          "text": [
            "\u001b[36m(ClientAppActor pid=5779)\u001b[0m Epoch 1/1, Train Loss: 0.013153197554250559, Validation Loss: 0.013559016088644663\n",
            "\u001b[36m(ClientAppActor pid=5779)\u001b[0m Epoch 1/1, Train Loss: 0.013440065008277694, Validation Loss: 0.014322408164540926\n",
            "\u001b[36m(ClientAppActor pid=5779)\u001b[0m Epoch 1/1, Train Loss: 0.014233250869438052, Validation Loss: 0.010479819340010485\n",
            "\u001b[36m(ClientAppActor pid=5779)\u001b[0m Epoch 1/1, Train Loss: 0.012689612495402494, Validation Loss: 0.014774855536719164\n",
            "\u001b[36m(ClientAppActor pid=5779)\u001b[0m Epoch 1/1, Train Loss: 0.011730066461799046, Validation Loss: 0.012112914584577084\n",
            "\u001b[36m(ClientAppActor pid=5779)\u001b[0m Epoch 1/1, Train Loss: 0.013177861420748135, Validation Loss: 0.013641379463175932\n",
            "\u001b[36m(ClientAppActor pid=5779)\u001b[0m Epoch 1/1, Train Loss: 0.014707438259695968, Validation Loss: 0.010285558799902597\n",
            "\u001b[36m(ClientAppActor pid=5779)\u001b[0m Epoch 1/1, Train Loss: 0.012749447409684459, Validation Loss: 0.009803305690487226\n",
            "\u001b[36m(ClientAppActor pid=5779)\u001b[0m Epoch 1/1, Train Loss: 0.013651349969829122, Validation Loss: 0.011380891626079878\n"
          ]
        },
        {
          "name": "stderr",
          "output_type": "stream",
          "text": [
            "\u001b[92mINFO \u001b[0m:      aggregate_fit: received 10 results and 0 failures\n",
            "\u001b[92mINFO \u001b[0m:      configure_evaluate: strategy sampled 5 clients (out of 10)\n"
          ]
        },
        {
          "name": "stdout",
          "output_type": "stream",
          "text": [
            "\u001b[36m(ClientAppActor pid=5779)\u001b[0m Epoch 1/1, Train Loss: 0.013265428598970175, Validation Loss: 0.010878530330955982\n"
          ]
        },
        {
          "name": "stderr",
          "output_type": "stream",
          "text": [
            "\u001b[92mINFO \u001b[0m:      aggregate_evaluate: received 5 results and 0 failures\n",
            "\u001b[92mINFO \u001b[0m:      \n",
            "\u001b[92mINFO \u001b[0m:      [ROUND 26]\n",
            "\u001b[92mINFO \u001b[0m:      configure_fit: strategy sampled 10 clients (out of 10)\n"
          ]
        },
        {
          "name": "stdout",
          "output_type": "stream",
          "text": [
            "\u001b[36m(ClientAppActor pid=5779)\u001b[0m Epoch 1/1, Train Loss: 0.012669613546070954, Validation Loss: 0.011636092637976011\n",
            "\u001b[36m(ClientAppActor pid=5779)\u001b[0m Epoch 1/1, Train Loss: 0.014599870812768737, Validation Loss: 0.010740574138859907\n",
            "\u001b[36m(ClientAppActor pid=5779)\u001b[0m Epoch 1/1, Train Loss: 0.013116466735179225, Validation Loss: 0.01137127603093783\n",
            "\u001b[36m(ClientAppActor pid=5779)\u001b[0m Epoch 1/1, Train Loss: 0.014854697976261377, Validation Loss: 0.010652349330484867\n",
            "\u001b[36m(ClientAppActor pid=5779)\u001b[0m Epoch 1/1, Train Loss: 0.011691429380637905, Validation Loss: 0.013610545545816422\n",
            "\u001b[36m(ClientAppActor pid=5779)\u001b[0m Epoch 1/1, Train Loss: 0.012528032064437866, Validation Loss: 0.01256386780490478\n",
            "\u001b[36m(ClientAppActor pid=5779)\u001b[0m Epoch 1/1, Train Loss: 0.014218901206428805, Validation Loss: 0.01320333406329155\n",
            "\u001b[36m(ClientAppActor pid=5779)\u001b[0m Epoch 1/1, Train Loss: 0.011857191294742128, Validation Loss: 0.019152473658323288\n",
            "\u001b[36m(ClientAppActor pid=5779)\u001b[0m Epoch 1/1, Train Loss: 0.013356980945294103, Validation Loss: 0.014644521909455458\n"
          ]
        },
        {
          "name": "stderr",
          "output_type": "stream",
          "text": [
            "\u001b[92mINFO \u001b[0m:      aggregate_fit: received 10 results and 0 failures\n",
            "\u001b[92mINFO \u001b[0m:      configure_evaluate: strategy sampled 5 clients (out of 10)\n"
          ]
        },
        {
          "name": "stdout",
          "output_type": "stream",
          "text": [
            "\u001b[36m(ClientAppActor pid=5779)\u001b[0m Epoch 1/1, Train Loss: 0.013853199236715833, Validation Loss: 0.011841260828077793\n"
          ]
        },
        {
          "name": "stderr",
          "output_type": "stream",
          "text": [
            "\u001b[92mINFO \u001b[0m:      aggregate_evaluate: received 5 results and 0 failures\n",
            "\u001b[92mINFO \u001b[0m:      \n",
            "\u001b[92mINFO \u001b[0m:      [ROUND 27]\n",
            "\u001b[92mINFO \u001b[0m:      configure_fit: strategy sampled 10 clients (out of 10)\n"
          ]
        },
        {
          "name": "stdout",
          "output_type": "stream",
          "text": [
            "\u001b[36m(ClientAppActor pid=5779)\u001b[0m Epoch 1/1, Train Loss: 0.011604152775059143, Validation Loss: 0.011255681825180849\n",
            "\u001b[36m(ClientAppActor pid=5779)\u001b[0m Epoch 1/1, Train Loss: 0.014858193152273694, Validation Loss: 0.012358636284867922\n",
            "\u001b[36m(ClientAppActor pid=5779)\u001b[0m Epoch 1/1, Train Loss: 0.01235919282771647, Validation Loss: 0.01184358603010575\n",
            "\u001b[36m(ClientAppActor pid=5779)\u001b[0m Epoch 1/1, Train Loss: 0.014031447547798356, Validation Loss: 0.011229573128124079\n",
            "\u001b[36m(ClientAppActor pid=5779)\u001b[0m Epoch 1/1, Train Loss: 0.012891697697341442, Validation Loss: 0.011951756353179613\n",
            "\u001b[36m(ClientAppActor pid=5779)\u001b[0m Epoch 1/1, Train Loss: 0.011663459551831087, Validation Loss: 0.013533295753101507\n",
            "\u001b[36m(ClientAppActor pid=5779)\u001b[0m Epoch 1/1, Train Loss: 0.015590661748622855, Validation Loss: 0.01455942044655482\n",
            "\u001b[36m(ClientAppActor pid=5779)\u001b[0m Epoch 1/1, Train Loss: 0.013674634916242212, Validation Loss: 0.010082824466129145\n",
            "\u001b[36m(ClientAppActor pid=5779)\u001b[0m Epoch 1/1, Train Loss: 0.013238710855754713, Validation Loss: 0.010299618355929852\n"
          ]
        },
        {
          "name": "stderr",
          "output_type": "stream",
          "text": [
            "\u001b[92mINFO \u001b[0m:      aggregate_fit: received 10 results and 0 failures\n",
            "\u001b[92mINFO \u001b[0m:      configure_evaluate: strategy sampled 5 clients (out of 10)\n"
          ]
        },
        {
          "name": "stdout",
          "output_type": "stream",
          "text": [
            "\u001b[36m(ClientAppActor pid=5779)\u001b[0m Epoch 1/1, Train Loss: 0.012324196053668857, Validation Loss: 0.012596809615691503\n"
          ]
        },
        {
          "name": "stderr",
          "output_type": "stream",
          "text": [
            "\u001b[92mINFO \u001b[0m:      aggregate_evaluate: received 5 results and 0 failures\n",
            "\u001b[92mINFO \u001b[0m:      \n",
            "\u001b[92mINFO \u001b[0m:      [ROUND 28]\n",
            "\u001b[92mINFO \u001b[0m:      configure_fit: strategy sampled 10 clients (out of 10)\n"
          ]
        },
        {
          "name": "stdout",
          "output_type": "stream",
          "text": [
            "\u001b[36m(ClientAppActor pid=5779)\u001b[0m Epoch 1/1, Train Loss: 0.012248286666969458, Validation Loss: 0.013488341122865677\n",
            "\u001b[36m(ClientAppActor pid=5779)\u001b[0m Epoch 1/1, Train Loss: 0.012989381464043012, Validation Loss: 0.012526827864348888\n",
            "\u001b[36m(ClientAppActor pid=5779)\u001b[0m Epoch 1/1, Train Loss: 0.013151395910729965, Validation Loss: 0.009726698199907938\n",
            "\u001b[36m(ClientAppActor pid=5779)\u001b[0m Epoch 1/1, Train Loss: 0.015180572013681134, Validation Loss: 0.013999156964321932\n",
            "\u001b[36m(ClientAppActor pid=5779)\u001b[0m Epoch 1/1, Train Loss: 0.01141801200962315, Validation Loss: 0.009990335442125797\n",
            "\u001b[36m(ClientAppActor pid=5779)\u001b[0m Epoch 1/1, Train Loss: 0.013362237873176733, Validation Loss: 0.012413590836028257\n",
            "\u001b[36m(ClientAppActor pid=5779)\u001b[0m Epoch 1/1, Train Loss: 0.012743178056553006, Validation Loss: 0.016045227957268555\n",
            "\u001b[36m(ClientAppActor pid=5779)\u001b[0m Epoch 1/1, Train Loss: 0.012713631304601828, Validation Loss: 0.012729157693684101\n",
            "\u001b[36m(ClientAppActor pid=5779)\u001b[0m Epoch 1/1, Train Loss: 0.012155419137949744, Validation Loss: 0.011801189432541529\n"
          ]
        },
        {
          "name": "stderr",
          "output_type": "stream",
          "text": [
            "\u001b[92mINFO \u001b[0m:      aggregate_fit: received 10 results and 0 failures\n",
            "\u001b[92mINFO \u001b[0m:      configure_evaluate: strategy sampled 5 clients (out of 10)\n"
          ]
        },
        {
          "name": "stdout",
          "output_type": "stream",
          "text": [
            "\u001b[36m(ClientAppActor pid=5779)\u001b[0m Epoch 1/1, Train Loss: 0.011541448766365647, Validation Loss: 0.010294739777843157\n"
          ]
        },
        {
          "name": "stderr",
          "output_type": "stream",
          "text": [
            "\u001b[92mINFO \u001b[0m:      aggregate_evaluate: received 5 results and 0 failures\n",
            "\u001b[92mINFO \u001b[0m:      \n",
            "\u001b[92mINFO \u001b[0m:      [ROUND 29]\n",
            "\u001b[92mINFO \u001b[0m:      configure_fit: strategy sampled 10 clients (out of 10)\n"
          ]
        },
        {
          "name": "stdout",
          "output_type": "stream",
          "text": [
            "\u001b[36m(ClientAppActor pid=5779)\u001b[0m Epoch 1/1, Train Loss: 0.012175099613765875, Validation Loss: 0.014515588991343975\n",
            "\u001b[36m(ClientAppActor pid=5779)\u001b[0m Epoch 1/1, Train Loss: 0.014041208351651827, Validation Loss: 0.012047791543106237\n",
            "\u001b[36m(ClientAppActor pid=5779)\u001b[0m Epoch 1/1, Train Loss: 0.013065177947282791, Validation Loss: 0.01535387709736824\n",
            "\u001b[36m(ClientAppActor pid=5779)\u001b[0m Epoch 1/1, Train Loss: 0.013358604240541657, Validation Loss: 0.011271147057414055\n",
            "\u001b[36m(ClientAppActor pid=5779)\u001b[0m Epoch 1/1, Train Loss: 0.010632414099139472, Validation Loss: 0.010842725324134031\n",
            "\u001b[36m(ClientAppActor pid=5779)\u001b[0m Epoch 1/1, Train Loss: 0.012213392416015267, Validation Loss: 0.013667024361590544\n",
            "\u001b[36m(ClientAppActor pid=5779)\u001b[0m Epoch 1/1, Train Loss: 0.013066632207483053, Validation Loss: 0.009707723123331865\n",
            "\u001b[36m(ClientAppActor pid=5779)\u001b[0m Epoch 1/1, Train Loss: 0.01282184353719155, Validation Loss: 0.011139371742804846\n",
            "\u001b[36m(ClientAppActor pid=5779)\u001b[0m Epoch 1/1, Train Loss: 0.011350398495172461, Validation Loss: 0.009769887663424015\n"
          ]
        },
        {
          "name": "stderr",
          "output_type": "stream",
          "text": [
            "\u001b[92mINFO \u001b[0m:      aggregate_fit: received 10 results and 0 failures\n",
            "\u001b[92mINFO \u001b[0m:      configure_evaluate: strategy sampled 5 clients (out of 10)\n"
          ]
        },
        {
          "name": "stdout",
          "output_type": "stream",
          "text": [
            "\u001b[36m(ClientAppActor pid=5779)\u001b[0m Epoch 1/1, Train Loss: 0.013159659846375385, Validation Loss: 0.01282611240943273\n"
          ]
        },
        {
          "name": "stderr",
          "output_type": "stream",
          "text": [
            "\u001b[92mINFO \u001b[0m:      aggregate_evaluate: received 5 results and 0 failures\n",
            "\u001b[92mINFO \u001b[0m:      \n",
            "\u001b[92mINFO \u001b[0m:      [ROUND 30]\n",
            "\u001b[92mINFO \u001b[0m:      configure_fit: strategy sampled 10 clients (out of 10)\n"
          ]
        },
        {
          "name": "stdout",
          "output_type": "stream",
          "text": [
            "\u001b[36m(ClientAppActor pid=5779)\u001b[0m Epoch 1/1, Train Loss: 0.013573478441685438, Validation Loss: 0.01247373130172491\n",
            "\u001b[36m(ClientAppActor pid=5779)\u001b[0m Epoch 1/1, Train Loss: 0.014933056120450297, Validation Loss: 0.013427592193086943\n",
            "\u001b[36m(ClientAppActor pid=5779)\u001b[0m Epoch 1/1, Train Loss: 0.012924601168682178, Validation Loss: 0.01139498253663381\n",
            "\u001b[36m(ClientAppActor pid=5779)\u001b[0m Epoch 1/1, Train Loss: 0.010317100017952422, Validation Loss: 0.009807676076889038\n",
            "\u001b[36m(ClientAppActor pid=5779)\u001b[0m Epoch 1/1, Train Loss: 0.012964082260926565, Validation Loss: 0.010794396822651228\n",
            "\u001b[36m(ClientAppActor pid=5779)\u001b[0m Epoch 1/1, Train Loss: 0.01360568318826457, Validation Loss: 0.011908269176880518\n",
            "\u001b[36m(ClientAppActor pid=5779)\u001b[0m Epoch 1/1, Train Loss: 0.012471238849684596, Validation Loss: 0.014292054809629917\n",
            "\u001b[36m(ClientAppActor pid=5779)\u001b[0m Epoch 1/1, Train Loss: 0.013952956845362982, Validation Loss: 0.012885169126093388\n",
            "\u001b[36m(ClientAppActor pid=5779)\u001b[0m Epoch 1/1, Train Loss: 0.01375059993006289, Validation Loss: 0.009764385720094046\n"
          ]
        },
        {
          "name": "stderr",
          "output_type": "stream",
          "text": [
            "\u001b[92mINFO \u001b[0m:      aggregate_fit: received 10 results and 0 failures\n",
            "\u001b[92mINFO \u001b[0m:      configure_evaluate: strategy sampled 5 clients (out of 10)\n"
          ]
        },
        {
          "name": "stdout",
          "output_type": "stream",
          "text": [
            "\u001b[36m(ClientAppActor pid=5779)\u001b[0m Epoch 1/1, Train Loss: 0.010788624873384833, Validation Loss: 0.014227117411792278\n"
          ]
        },
        {
          "name": "stderr",
          "output_type": "stream",
          "text": [
            "\u001b[92mINFO \u001b[0m:      aggregate_evaluate: received 5 results and 0 failures\n",
            "\u001b[92mINFO \u001b[0m:      \n",
            "\u001b[92mINFO \u001b[0m:      [ROUND 31]\n",
            "\u001b[92mINFO \u001b[0m:      configure_fit: strategy sampled 10 clients (out of 10)\n"
          ]
        },
        {
          "name": "stdout",
          "output_type": "stream",
          "text": [
            "\u001b[36m(ClientAppActor pid=5779)\u001b[0m Epoch 1/1, Train Loss: 0.011791737323316434, Validation Loss: 0.012029494779805342\n",
            "\u001b[36m(ClientAppActor pid=5779)\u001b[0m Epoch 1/1, Train Loss: 0.013169730082154274, Validation Loss: 0.01258027988175551\n",
            "\u001b[36m(ClientAppActor pid=5779)\u001b[0m Epoch 1/1, Train Loss: 0.012371071536714831, Validation Loss: 0.011311322761078676\n",
            "\u001b[36m(ClientAppActor pid=5779)\u001b[0m Epoch 1/1, Train Loss: 0.013709201167027155, Validation Loss: 0.0104583241045475\n",
            "\u001b[36m(ClientAppActor pid=5779)\u001b[0m Epoch 1/1, Train Loss: 0.011573546643679341, Validation Loss: 0.01132606683919827\n",
            "\u001b[36m(ClientAppActor pid=5779)\u001b[0m Epoch 1/1, Train Loss: 0.01062879478558898, Validation Loss: 0.010421235114336014\n",
            "\u001b[36m(ClientAppActor pid=5779)\u001b[0m Epoch 1/1, Train Loss: 0.014533982068921128, Validation Loss: 0.011613486334681511\n",
            "\u001b[36m(ClientAppActor pid=5779)\u001b[0m Epoch 1/1, Train Loss: 0.012736490151534477, Validation Loss: 0.01152111403644085\n",
            "\u001b[36m(ClientAppActor pid=5779)\u001b[0m Epoch 1/1, Train Loss: 0.012225704810892543, Validation Loss: 0.012705092939237753\n"
          ]
        },
        {
          "name": "stderr",
          "output_type": "stream",
          "text": [
            "\u001b[92mINFO \u001b[0m:      aggregate_fit: received 10 results and 0 failures\n",
            "\u001b[92mINFO \u001b[0m:      configure_evaluate: strategy sampled 5 clients (out of 10)\n"
          ]
        },
        {
          "name": "stdout",
          "output_type": "stream",
          "text": [
            "\u001b[36m(ClientAppActor pid=5779)\u001b[0m Epoch 1/1, Train Loss: 0.01412522808338205, Validation Loss: 0.009515254758298397\n"
          ]
        },
        {
          "name": "stderr",
          "output_type": "stream",
          "text": [
            "\u001b[92mINFO \u001b[0m:      aggregate_evaluate: received 5 results and 0 failures\n",
            "\u001b[92mINFO \u001b[0m:      \n",
            "\u001b[92mINFO \u001b[0m:      [ROUND 32]\n",
            "\u001b[92mINFO \u001b[0m:      configure_fit: strategy sampled 10 clients (out of 10)\n"
          ]
        },
        {
          "name": "stdout",
          "output_type": "stream",
          "text": [
            "\u001b[36m(ClientAppActor pid=5779)\u001b[0m Epoch 1/1, Train Loss: 0.011720066967730721, Validation Loss: 0.011371285965045294\n",
            "\u001b[36m(ClientAppActor pid=5779)\u001b[0m Epoch 1/1, Train Loss: 0.011108955601230264, Validation Loss: 0.014143198728561401\n",
            "\u001b[36m(ClientAppActor pid=5779)\u001b[0m Epoch 1/1, Train Loss: 0.012958812604968747, Validation Loss: 0.013128187817831835\n",
            "\u001b[36m(ClientAppActor pid=5779)\u001b[0m Epoch 1/1, Train Loss: 0.013396968599408865, Validation Loss: 0.01025944265226523\n",
            "\u001b[36m(ClientAppActor pid=5779)\u001b[0m Epoch 1/1, Train Loss: 0.011263458562704423, Validation Loss: 0.011056376931567987\n",
            "\u001b[36m(ClientAppActor pid=5779)\u001b[0m Epoch 1/1, Train Loss: 0.01197188898610572, Validation Loss: 0.009838279647131761\n",
            "\u001b[36m(ClientAppActor pid=5779)\u001b[0m Epoch 1/1, Train Loss: 0.012169855724399289, Validation Loss: 0.01081253681331873\n",
            "\u001b[36m(ClientAppActor pid=5779)\u001b[0m Epoch 1/1, Train Loss: 0.01113265985623002, Validation Loss: 0.009835124636689821\n",
            "\u001b[36m(ClientAppActor pid=5779)\u001b[0m Epoch 1/1, Train Loss: 0.01222712624197205, Validation Loss: 0.01198260144641002\n"
          ]
        },
        {
          "name": "stderr",
          "output_type": "stream",
          "text": [
            "\u001b[92mINFO \u001b[0m:      aggregate_fit: received 10 results and 0 failures\n",
            "\u001b[92mINFO \u001b[0m:      configure_evaluate: strategy sampled 5 clients (out of 10)\n"
          ]
        },
        {
          "name": "stdout",
          "output_type": "stream",
          "text": [
            "\u001b[36m(ClientAppActor pid=5779)\u001b[0m Epoch 1/1, Train Loss: 0.012023321003653109, Validation Loss: 0.011664270733793577\n"
          ]
        },
        {
          "name": "stderr",
          "output_type": "stream",
          "text": [
            "\u001b[92mINFO \u001b[0m:      aggregate_evaluate: received 5 results and 0 failures\n",
            "\u001b[92mINFO \u001b[0m:      \n",
            "\u001b[92mINFO \u001b[0m:      [ROUND 33]\n",
            "\u001b[92mINFO \u001b[0m:      configure_fit: strategy sampled 10 clients (out of 10)\n"
          ]
        },
        {
          "name": "stdout",
          "output_type": "stream",
          "text": [
            "\u001b[36m(ClientAppActor pid=5779)\u001b[0m Epoch 1/1, Train Loss: 0.013418510168169936, Validation Loss: 0.011383303130666414\n",
            "\u001b[36m(ClientAppActor pid=5779)\u001b[0m Epoch 1/1, Train Loss: 0.01262456139860054, Validation Loss: 0.0123812568684419\n",
            "\u001b[36m(ClientAppActor pid=5779)\u001b[0m Epoch 1/1, Train Loss: 0.013487335992977023, Validation Loss: 0.013512571031848589\n",
            "\u001b[36m(ClientAppActor pid=5779)\u001b[0m Epoch 1/1, Train Loss: 0.011906648093524078, Validation Loss: 0.010384497232735157\n",
            "\u001b[36m(ClientAppActor pid=5779)\u001b[0m Epoch 1/1, Train Loss: 0.011497252232705554, Validation Loss: 0.0126689113676548\n",
            "\u001b[36m(ClientAppActor pid=5779)\u001b[0m Epoch 1/1, Train Loss: 0.011944864255686602, Validation Loss: 0.013142068559924761\n",
            "\u001b[36m(ClientAppActor pid=5779)\u001b[0m Epoch 1/1, Train Loss: 0.011705536453519017, Validation Loss: 0.009997434914112091\n",
            "\u001b[36m(ClientAppActor pid=5779)\u001b[0m Epoch 1/1, Train Loss: 0.011516247953598699, Validation Loss: 0.010970400956769785\n",
            "\u001b[36m(ClientAppActor pid=5779)\u001b[0m Epoch 1/1, Train Loss: 0.012503064237535, Validation Loss: 0.01143413254370292\n"
          ]
        },
        {
          "name": "stderr",
          "output_type": "stream",
          "text": [
            "\u001b[92mINFO \u001b[0m:      aggregate_fit: received 10 results and 0 failures\n",
            "\u001b[92mINFO \u001b[0m:      configure_evaluate: strategy sampled 5 clients (out of 10)\n"
          ]
        },
        {
          "name": "stdout",
          "output_type": "stream",
          "text": [
            "\u001b[36m(ClientAppActor pid=5779)\u001b[0m Epoch 1/1, Train Loss: 0.012246536207385361, Validation Loss: 0.012020444497466087\n"
          ]
        },
        {
          "name": "stderr",
          "output_type": "stream",
          "text": [
            "\u001b[92mINFO \u001b[0m:      aggregate_evaluate: received 5 results and 0 failures\n",
            "\u001b[92mINFO \u001b[0m:      \n",
            "\u001b[92mINFO \u001b[0m:      [ROUND 34]\n",
            "\u001b[92mINFO \u001b[0m:      configure_fit: strategy sampled 10 clients (out of 10)\n"
          ]
        },
        {
          "name": "stdout",
          "output_type": "stream",
          "text": [
            "\u001b[36m(ClientAppActor pid=5779)\u001b[0m Epoch 1/1, Train Loss: 0.012283394811674953, Validation Loss: 0.011996379432578882\n",
            "\u001b[36m(ClientAppActor pid=5779)\u001b[0m Epoch 1/1, Train Loss: 0.013273038086481392, Validation Loss: 0.009989424298206965\n",
            "\u001b[36m(ClientAppActor pid=5779)\u001b[0m Epoch 1/1, Train Loss: 0.011688825713160137, Validation Loss: 0.010857200560470423\n",
            "\u001b[36m(ClientAppActor pid=5779)\u001b[0m Epoch 1/1, Train Loss: 0.013398903150421878, Validation Loss: 0.01584659516811371\n",
            "\u001b[36m(ClientAppActor pid=5779)\u001b[0m Epoch 1/1, Train Loss: 0.010967489060324928, Validation Loss: 0.010947498182455698\n",
            "\u001b[36m(ClientAppActor pid=5779)\u001b[0m Epoch 1/1, Train Loss: 0.01156334881670773, Validation Loss: 0.011590208858251572\n",
            "\u001b[36m(ClientAppActor pid=5779)\u001b[0m Epoch 1/1, Train Loss: 0.013722130097448826, Validation Loss: 0.012245851568877697\n",
            "\u001b[36m(ClientAppActor pid=5779)\u001b[0m Epoch 1/1, Train Loss: 0.012475301433975497, Validation Loss: 0.012304142117500305\n",
            "\u001b[36m(ClientAppActor pid=5779)\u001b[0m Epoch 1/1, Train Loss: 0.011732888252784809, Validation Loss: 0.010079664178192616\n"
          ]
        },
        {
          "name": "stderr",
          "output_type": "stream",
          "text": [
            "\u001b[92mINFO \u001b[0m:      aggregate_fit: received 10 results and 0 failures\n",
            "\u001b[92mINFO \u001b[0m:      configure_evaluate: strategy sampled 5 clients (out of 10)\n"
          ]
        },
        {
          "name": "stdout",
          "output_type": "stream",
          "text": [
            "\u001b[36m(ClientAppActor pid=5779)\u001b[0m Epoch 1/1, Train Loss: 0.011273570669194063, Validation Loss: 0.011360909479359785\n"
          ]
        },
        {
          "name": "stderr",
          "output_type": "stream",
          "text": [
            "\u001b[92mINFO \u001b[0m:      aggregate_evaluate: received 5 results and 0 failures\n",
            "\u001b[92mINFO \u001b[0m:      \n",
            "\u001b[92mINFO \u001b[0m:      [ROUND 35]\n",
            "\u001b[92mINFO \u001b[0m:      configure_fit: strategy sampled 10 clients (out of 10)\n"
          ]
        },
        {
          "name": "stdout",
          "output_type": "stream",
          "text": [
            "\u001b[36m(ClientAppActor pid=5779)\u001b[0m Epoch 1/1, Train Loss: 0.012227598461322486, Validation Loss: 0.012261122465133667\n",
            "\u001b[36m(ClientAppActor pid=5779)\u001b[0m Epoch 1/1, Train Loss: 0.011208759931226572, Validation Loss: 0.010068290556470553\n",
            "\u001b[36m(ClientAppActor pid=5779)\u001b[0m Epoch 1/1, Train Loss: 0.01272006092282633, Validation Loss: 0.011852948305507502\n",
            "\u001b[36m(ClientAppActor pid=5779)\u001b[0m Epoch 1/1, Train Loss: 0.012916766417523226, Validation Loss: 0.012276922973493734\n",
            "\u001b[36m(ClientAppActor pid=5779)\u001b[0m Epoch 1/1, Train Loss: 0.01294056698679924, Validation Loss: 0.012422900026043257\n",
            "\u001b[36m(ClientAppActor pid=5779)\u001b[0m Epoch 1/1, Train Loss: 0.012269450429206094, Validation Loss: 0.012064383365213871\n",
            "\u001b[36m(ClientAppActor pid=5779)\u001b[0m Epoch 1/1, Train Loss: 0.01193598861573264, Validation Loss: 0.01042390801012516\n",
            "\u001b[36m(ClientAppActor pid=5779)\u001b[0m Epoch 1/1, Train Loss: 0.011527732674342891, Validation Loss: 0.011696471522251764\n",
            "\u001b[36m(ClientAppActor pid=5779)\u001b[0m Epoch 1/1, Train Loss: 0.011882396414875984, Validation Loss: 0.012324203581859669\n"
          ]
        },
        {
          "name": "stderr",
          "output_type": "stream",
          "text": [
            "\u001b[92mINFO \u001b[0m:      aggregate_fit: received 10 results and 0 failures\n",
            "\u001b[92mINFO \u001b[0m:      configure_evaluate: strategy sampled 5 clients (out of 10)\n"
          ]
        },
        {
          "name": "stdout",
          "output_type": "stream",
          "text": [
            "\u001b[36m(ClientAppActor pid=5779)\u001b[0m Epoch 1/1, Train Loss: 0.011761349276639521, Validation Loss: 0.011940421536564827\n"
          ]
        },
        {
          "name": "stderr",
          "output_type": "stream",
          "text": [
            "\u001b[92mINFO \u001b[0m:      aggregate_evaluate: received 5 results and 0 failures\n",
            "\u001b[92mINFO \u001b[0m:      \n",
            "\u001b[92mINFO \u001b[0m:      [ROUND 36]\n",
            "\u001b[92mINFO \u001b[0m:      configure_fit: strategy sampled 10 clients (out of 10)\n"
          ]
        },
        {
          "name": "stdout",
          "output_type": "stream",
          "text": [
            "\u001b[36m(ClientAppActor pid=5779)\u001b[0m Epoch 1/1, Train Loss: 0.010780081172318509, Validation Loss: 0.012573303033908209\n",
            "\u001b[36m(ClientAppActor pid=5779)\u001b[0m Epoch 1/1, Train Loss: 0.013076277216896415, Validation Loss: 0.012086585474510988\n",
            "\u001b[36m(ClientAppActor pid=5779)\u001b[0m Epoch 1/1, Train Loss: 0.012511613468329111, Validation Loss: 0.013465709052979946\n",
            "\u001b[36m(ClientAppActor pid=5779)\u001b[0m Epoch 1/1, Train Loss: 0.01442216228072842, Validation Loss: 0.015433194115757942\n",
            "\u001b[36m(ClientAppActor pid=5779)\u001b[0m Epoch 1/1, Train Loss: 0.012382075966646275, Validation Loss: 0.01134294643998146\n",
            "\u001b[36m(ClientAppActor pid=5779)\u001b[0m Epoch 1/1, Train Loss: 0.011847876012325287, Validation Loss: 0.010469927762945494\n",
            "\u001b[36m(ClientAppActor pid=5779)\u001b[0m Epoch 1/1, Train Loss: 0.011686291662044823, Validation Loss: 0.010476844695707163\n",
            "\u001b[36m(ClientAppActor pid=5779)\u001b[0m Epoch 1/1, Train Loss: 0.00991635243796433, Validation Loss: 0.009883391670882702\n",
            "\u001b[36m(ClientAppActor pid=5779)\u001b[0m Epoch 1/1, Train Loss: 0.012834392099951705, Validation Loss: 0.011881714997192224\n"
          ]
        },
        {
          "name": "stderr",
          "output_type": "stream",
          "text": [
            "\u001b[92mINFO \u001b[0m:      aggregate_fit: received 10 results and 0 failures\n",
            "\u001b[92mINFO \u001b[0m:      configure_evaluate: strategy sampled 5 clients (out of 10)\n"
          ]
        },
        {
          "name": "stdout",
          "output_type": "stream",
          "text": [
            "\u001b[36m(ClientAppActor pid=5779)\u001b[0m Epoch 1/1, Train Loss: 0.011499754075581828, Validation Loss: 0.012801425841947397\n"
          ]
        },
        {
          "name": "stderr",
          "output_type": "stream",
          "text": [
            "\u001b[92mINFO \u001b[0m:      aggregate_evaluate: received 5 results and 0 failures\n",
            "\u001b[92mINFO \u001b[0m:      \n",
            "\u001b[92mINFO \u001b[0m:      [ROUND 37]\n",
            "\u001b[92mINFO \u001b[0m:      configure_fit: strategy sampled 10 clients (out of 10)\n"
          ]
        },
        {
          "name": "stdout",
          "output_type": "stream",
          "text": [
            "\u001b[36m(ClientAppActor pid=5779)\u001b[0m Epoch 1/1, Train Loss: 0.013466871343553066, Validation Loss: 0.01292791310697794\n",
            "\u001b[36m(ClientAppActor pid=5779)\u001b[0m Epoch 1/1, Train Loss: 0.012020214926451445, Validation Loss: 0.01075570285320282\n",
            "\u001b[36m(ClientAppActor pid=5779)\u001b[0m Epoch 1/1, Train Loss: 0.010913907627885541, Validation Loss: 0.00934801654269298\n",
            "\u001b[36m(ClientAppActor pid=5779)\u001b[0m Epoch 1/1, Train Loss: 0.011324401091163358, Validation Loss: 0.009921983194847902\n",
            "\u001b[36m(ClientAppActor pid=5779)\u001b[0m Epoch 1/1, Train Loss: 0.010859468136914074, Validation Loss: 0.010996431733171145\n",
            "\u001b[36m(ClientAppActor pid=5779)\u001b[0m Epoch 1/1, Train Loss: 0.012223886093124747, Validation Loss: 0.012915861792862415\n",
            "\u001b[36m(ClientAppActor pid=5779)\u001b[0m Epoch 1/1, Train Loss: 0.012834779374922315, Validation Loss: 0.011538863802949587\n",
            "\u001b[36m(ClientAppActor pid=5779)\u001b[0m Epoch 1/1, Train Loss: 0.011668262673386684, Validation Loss: 0.011967357558508715\n",
            "\u001b[36m(ClientAppActor pid=5779)\u001b[0m Epoch 1/1, Train Loss: 0.011676063217843572, Validation Loss: 0.012193495718141397\n"
          ]
        },
        {
          "name": "stderr",
          "output_type": "stream",
          "text": [
            "\u001b[92mINFO \u001b[0m:      aggregate_fit: received 10 results and 0 failures\n",
            "\u001b[92mINFO \u001b[0m:      configure_evaluate: strategy sampled 5 clients (out of 10)\n"
          ]
        },
        {
          "name": "stdout",
          "output_type": "stream",
          "text": [
            "\u001b[36m(ClientAppActor pid=5779)\u001b[0m Epoch 1/1, Train Loss: 0.013242289268722137, Validation Loss: 0.01039469987154007\n"
          ]
        },
        {
          "name": "stderr",
          "output_type": "stream",
          "text": [
            "\u001b[92mINFO \u001b[0m:      aggregate_evaluate: received 5 results and 0 failures\n",
            "\u001b[92mINFO \u001b[0m:      \n",
            "\u001b[92mINFO \u001b[0m:      [ROUND 38]\n",
            "\u001b[92mINFO \u001b[0m:      configure_fit: strategy sampled 10 clients (out of 10)\n"
          ]
        },
        {
          "name": "stdout",
          "output_type": "stream",
          "text": [
            "\u001b[36m(ClientAppActor pid=5779)\u001b[0m Epoch 1/1, Train Loss: 0.012180536985397339, Validation Loss: 0.012758024036884308\n",
            "\u001b[36m(ClientAppActor pid=5779)\u001b[0m Epoch 1/1, Train Loss: 0.013674513281633457, Validation Loss: 0.012339973822236061\n",
            "\u001b[36m(ClientAppActor pid=5779)\u001b[0m Epoch 1/1, Train Loss: 0.012949832249432802, Validation Loss: 0.018246930092573166\n",
            "\u001b[36m(ClientAppActor pid=5779)\u001b[0m Epoch 1/1, Train Loss: 0.011586924587997297, Validation Loss: 0.010813630806903044\n",
            "\u001b[36m(ClientAppActor pid=5779)\u001b[0m Epoch 1/1, Train Loss: 0.010411148890852928, Validation Loss: 0.0120935815696915\n",
            "\u001b[36m(ClientAppActor pid=5779)\u001b[0m Epoch 1/1, Train Loss: 0.012030156756130358, Validation Loss: 0.011749807745218277\n",
            "\u001b[36m(ClientAppActor pid=5779)\u001b[0m Epoch 1/1, Train Loss: 0.011388852105786404, Validation Loss: 0.012479738021890322\n",
            "\u001b[36m(ClientAppActor pid=5779)\u001b[0m Epoch 1/1, Train Loss: 0.012875044563164314, Validation Loss: 0.010907558103402456\n",
            "\u001b[36m(ClientAppActor pid=5779)\u001b[0m Epoch 1/1, Train Loss: 0.010348638442034522, Validation Loss: 0.009971547250946363\n"
          ]
        },
        {
          "name": "stderr",
          "output_type": "stream",
          "text": [
            "\u001b[92mINFO \u001b[0m:      aggregate_fit: received 10 results and 0 failures\n",
            "\u001b[92mINFO \u001b[0m:      configure_evaluate: strategy sampled 5 clients (out of 10)\n"
          ]
        },
        {
          "name": "stdout",
          "output_type": "stream",
          "text": [
            "\u001b[36m(ClientAppActor pid=5779)\u001b[0m Epoch 1/1, Train Loss: 0.012016516954948505, Validation Loss: 0.012759301501015822\n"
          ]
        },
        {
          "name": "stderr",
          "output_type": "stream",
          "text": [
            "\u001b[92mINFO \u001b[0m:      aggregate_evaluate: received 5 results and 0 failures\n",
            "\u001b[92mINFO \u001b[0m:      \n",
            "\u001b[92mINFO \u001b[0m:      [ROUND 39]\n",
            "\u001b[92mINFO \u001b[0m:      configure_fit: strategy sampled 10 clients (out of 10)\n"
          ]
        },
        {
          "name": "stdout",
          "output_type": "stream",
          "text": [
            "\u001b[36m(ClientAppActor pid=5779)\u001b[0m Epoch 1/1, Train Loss: 0.011405141946549216, Validation Loss: 0.011172041607399782\n",
            "\u001b[36m(ClientAppActor pid=5779)\u001b[0m Epoch 1/1, Train Loss: 0.011967329463611046, Validation Loss: 0.011983718412617842\n",
            "\u001b[36m(ClientAppActor pid=5779)\u001b[0m Epoch 1/1, Train Loss: 0.012246898918723067, Validation Loss: 0.01627059591313203\n",
            "\u001b[36m(ClientAppActor pid=5779)\u001b[0m Epoch 1/1, Train Loss: 0.010489091820394, Validation Loss: 0.010550399621327719\n",
            "\u001b[36m(ClientAppActor pid=5779)\u001b[0m Epoch 1/1, Train Loss: 0.011161768576130271, Validation Loss: 0.01150146716584762\n",
            "\u001b[36m(ClientAppActor pid=5779)\u001b[0m Epoch 1/1, Train Loss: 0.010770683952917656, Validation Loss: 0.010453198105096817\n",
            "\u001b[36m(ClientAppActor pid=5779)\u001b[0m Epoch 1/1, Train Loss: 0.011644499065975348, Validation Loss: 0.010917111610372862\n",
            "\u001b[36m(ClientAppActor pid=5779)\u001b[0m Epoch 1/1, Train Loss: 0.01185928680934012, Validation Loss: 0.010691644002993902\n",
            "\u001b[36m(ClientAppActor pid=5779)\u001b[0m Epoch 1/1, Train Loss: 0.011739287370194992, Validation Loss: 0.010846457444131374\n"
          ]
        },
        {
          "name": "stderr",
          "output_type": "stream",
          "text": [
            "\u001b[92mINFO \u001b[0m:      aggregate_fit: received 10 results and 0 failures\n",
            "\u001b[92mINFO \u001b[0m:      configure_evaluate: strategy sampled 5 clients (out of 10)\n"
          ]
        },
        {
          "name": "stdout",
          "output_type": "stream",
          "text": [
            "\u001b[36m(ClientAppActor pid=5779)\u001b[0m Epoch 1/1, Train Loss: 0.013006777502596378, Validation Loss: 0.011153445889552435\n"
          ]
        },
        {
          "name": "stderr",
          "output_type": "stream",
          "text": [
            "\u001b[92mINFO \u001b[0m:      aggregate_evaluate: received 5 results and 0 failures\n",
            "\u001b[92mINFO \u001b[0m:      \n",
            "\u001b[92mINFO \u001b[0m:      [ROUND 40]\n",
            "\u001b[92mINFO \u001b[0m:      configure_fit: strategy sampled 10 clients (out of 10)\n"
          ]
        },
        {
          "name": "stdout",
          "output_type": "stream",
          "text": [
            "\u001b[36m(ClientAppActor pid=5779)\u001b[0m Epoch 1/1, Train Loss: 0.011543292862673601, Validation Loss: 0.012095403857529163\n",
            "\u001b[36m(ClientAppActor pid=5779)\u001b[0m Epoch 1/1, Train Loss: 0.011752277069414655, Validation Loss: 0.011109974545737108\n",
            "\u001b[36m(ClientAppActor pid=5779)\u001b[0m Epoch 1/1, Train Loss: 0.010746911905395487, Validation Loss: 0.00983690625677506\n",
            "\u001b[36m(ClientAppActor pid=5779)\u001b[0m Epoch 1/1, Train Loss: 0.013081987388432026, Validation Loss: 0.010950736701488495\n",
            "\u001b[36m(ClientAppActor pid=5779)\u001b[0m Epoch 1/1, Train Loss: 0.013022706611081958, Validation Loss: 0.012487549024323622\n",
            "\u001b[36m(ClientAppActor pid=5779)\u001b[0m Epoch 1/1, Train Loss: 0.01147038396447897, Validation Loss: 0.01174895434329907\n",
            "\u001b[36m(ClientAppActor pid=5779)\u001b[0m Epoch 1/1, Train Loss: 0.011593644468424221, Validation Loss: 0.010231530914704004\n",
            "\u001b[36m(ClientAppActor pid=5779)\u001b[0m Epoch 1/1, Train Loss: 0.011366826792558035, Validation Loss: 0.012493579958875975\n",
            "\u001b[36m(ClientAppActor pid=5779)\u001b[0m Epoch 1/1, Train Loss: 0.011958303628489375, Validation Loss: 0.010466934802631537\n"
          ]
        },
        {
          "name": "stderr",
          "output_type": "stream",
          "text": [
            "\u001b[92mINFO \u001b[0m:      aggregate_fit: received 10 results and 0 failures\n",
            "\u001b[92mINFO \u001b[0m:      configure_evaluate: strategy sampled 5 clients (out of 10)\n"
          ]
        },
        {
          "name": "stdout",
          "output_type": "stream",
          "text": [
            "\u001b[36m(ClientAppActor pid=5779)\u001b[0m Epoch 1/1, Train Loss: 0.01226975586420546, Validation Loss: 0.014772675621012846\n"
          ]
        },
        {
          "name": "stderr",
          "output_type": "stream",
          "text": [
            "\u001b[92mINFO \u001b[0m:      aggregate_evaluate: received 5 results and 0 failures\n",
            "\u001b[92mINFO \u001b[0m:      \n",
            "\u001b[92mINFO \u001b[0m:      [ROUND 41]\n",
            "\u001b[92mINFO \u001b[0m:      configure_fit: strategy sampled 10 clients (out of 10)\n"
          ]
        },
        {
          "name": "stdout",
          "output_type": "stream",
          "text": [
            "\u001b[36m(ClientAppActor pid=5779)\u001b[0m Epoch 1/1, Train Loss: 0.013182494168480238, Validation Loss: 0.013437913420299688\n",
            "\u001b[36m(ClientAppActor pid=5779)\u001b[0m Epoch 1/1, Train Loss: 0.01286645334524413, Validation Loss: 0.01824816440542539\n",
            "\u001b[36m(ClientAppActor pid=5779)\u001b[0m Epoch 1/1, Train Loss: 0.011863481796657046, Validation Loss: 0.012809936267634233\n",
            "\u001b[36m(ClientAppActor pid=5779)\u001b[0m Epoch 1/1, Train Loss: 0.01157160452567041, Validation Loss: 0.011035839716593424\n",
            "\u001b[36m(ClientAppActor pid=5779)\u001b[0m Epoch 1/1, Train Loss: 0.011769474290000895, Validation Loss: 0.011198641111453375\n",
            "\u001b[36m(ClientAppActor pid=5779)\u001b[0m Epoch 1/1, Train Loss: 0.011950396078949174, Validation Loss: 0.01176744264860948\n",
            "\u001b[36m(ClientAppActor pid=5779)\u001b[0m Epoch 1/1, Train Loss: 0.01164704755259057, Validation Loss: 0.010121254871288935\n",
            "\u001b[36m(ClientAppActor pid=5779)\u001b[0m Epoch 1/1, Train Loss: 0.011623529950156808, Validation Loss: 0.012316461031635603\n",
            "\u001b[36m(ClientAppActor pid=5779)\u001b[0m Epoch 1/1, Train Loss: 0.00963938624287645, Validation Loss: 0.010636196471750736\n"
          ]
        },
        {
          "name": "stderr",
          "output_type": "stream",
          "text": [
            "\u001b[92mINFO \u001b[0m:      aggregate_fit: received 10 results and 0 failures\n",
            "\u001b[92mINFO \u001b[0m:      configure_evaluate: strategy sampled 5 clients (out of 10)\n"
          ]
        },
        {
          "name": "stdout",
          "output_type": "stream",
          "text": [
            "\u001b[36m(ClientAppActor pid=5779)\u001b[0m Epoch 1/1, Train Loss: 0.010241595019275943, Validation Loss: 0.01036978450914224\n"
          ]
        },
        {
          "name": "stderr",
          "output_type": "stream",
          "text": [
            "\u001b[92mINFO \u001b[0m:      aggregate_evaluate: received 5 results and 0 failures\n",
            "\u001b[92mINFO \u001b[0m:      \n",
            "\u001b[92mINFO \u001b[0m:      [ROUND 42]\n",
            "\u001b[92mINFO \u001b[0m:      configure_fit: strategy sampled 10 clients (out of 10)\n"
          ]
        },
        {
          "name": "stdout",
          "output_type": "stream",
          "text": [
            "\u001b[36m(ClientAppActor pid=5779)\u001b[0m Epoch 1/1, Train Loss: 0.010294209389636913, Validation Loss: 0.011419363630314669\n",
            "\u001b[36m(ClientAppActor pid=5779)\u001b[0m Epoch 1/1, Train Loss: 0.012213785278921327, Validation Loss: 0.01387035163740317\n",
            "\u001b[36m(ClientAppActor pid=5779)\u001b[0m Epoch 1/1, Train Loss: 0.012681443166608611, Validation Loss: 0.014084390364587307\n",
            "\u001b[36m(ClientAppActor pid=5779)\u001b[0m Epoch 1/1, Train Loss: 0.012588867296775183, Validation Loss: 0.011840450577437878\n",
            "\u001b[36m(ClientAppActor pid=5779)\u001b[0m Epoch 1/1, Train Loss: 0.011129894449065128, Validation Loss: 0.009653791474799315\n",
            "\u001b[36m(ClientAppActor pid=5779)\u001b[0m Epoch 1/1, Train Loss: 0.010884359556560716, Validation Loss: 0.009966379031538963\n",
            "\u001b[36m(ClientAppActor pid=5779)\u001b[0m Epoch 1/1, Train Loss: 0.010920962551608682, Validation Loss: 0.011746884944538275\n",
            "\u001b[36m(ClientAppActor pid=5779)\u001b[0m Epoch 1/1, Train Loss: 0.011620735128720602, Validation Loss: 0.011331231333315372\n",
            "\u001b[36m(ClientAppActor pid=5779)\u001b[0m Epoch 1/1, Train Loss: 0.012475113073984781, Validation Loss: 0.01087759000559648\n"
          ]
        },
        {
          "name": "stderr",
          "output_type": "stream",
          "text": [
            "\u001b[92mINFO \u001b[0m:      aggregate_fit: received 10 results and 0 failures\n",
            "\u001b[92mINFO \u001b[0m:      configure_evaluate: strategy sampled 5 clients (out of 10)\n"
          ]
        },
        {
          "name": "stdout",
          "output_type": "stream",
          "text": [
            "\u001b[36m(ClientAppActor pid=5779)\u001b[0m Epoch 1/1, Train Loss: 0.012238002071777979, Validation Loss: 0.012007296085357666\n"
          ]
        },
        {
          "name": "stderr",
          "output_type": "stream",
          "text": [
            "\u001b[92mINFO \u001b[0m:      aggregate_evaluate: received 5 results and 0 failures\n",
            "\u001b[92mINFO \u001b[0m:      \n",
            "\u001b[92mINFO \u001b[0m:      [ROUND 43]\n",
            "\u001b[92mINFO \u001b[0m:      configure_fit: strategy sampled 10 clients (out of 10)\n"
          ]
        },
        {
          "name": "stdout",
          "output_type": "stream",
          "text": [
            "\u001b[36m(ClientAppActor pid=5779)\u001b[0m Epoch 1/1, Train Loss: 0.011023753167440494, Validation Loss: 0.011137062683701515\n",
            "\u001b[36m(ClientAppActor pid=5779)\u001b[0m Epoch 1/1, Train Loss: 0.012644650414586067, Validation Loss: 0.01395420078188181\n",
            "\u001b[36m(ClientAppActor pid=5779)\u001b[0m Epoch 1/1, Train Loss: 0.013393662249048552, Validation Loss: 0.015387607117493948\n",
            "\u001b[36m(ClientAppActor pid=5779)\u001b[0m Epoch 1/1, Train Loss: 0.01318789906023691, Validation Loss: 0.009905370262761911\n",
            "\u001b[36m(ClientAppActor pid=5779)\u001b[0m Epoch 1/1, Train Loss: 0.010393808168979982, Validation Loss: 0.010293958398203054\n",
            "\u001b[36m(ClientAppActor pid=5779)\u001b[0m Epoch 1/1, Train Loss: 0.010100090721001228, Validation Loss: 0.01164897003521522\n",
            "\u001b[36m(ClientAppActor pid=5779)\u001b[0m Epoch 1/1, Train Loss: 0.011531230295076966, Validation Loss: 0.01078801415860653\n",
            "\u001b[36m(ClientAppActor pid=5779)\u001b[0m Epoch 1/1, Train Loss: 0.01178197485084335, Validation Loss: 0.011771999609967073\n",
            "\u001b[36m(ClientAppActor pid=5779)\u001b[0m Epoch 1/1, Train Loss: 0.011539371606583396, Validation Loss: 0.01192119593421618\n"
          ]
        },
        {
          "name": "stderr",
          "output_type": "stream",
          "text": [
            "\u001b[92mINFO \u001b[0m:      aggregate_fit: received 10 results and 0 failures\n",
            "\u001b[92mINFO \u001b[0m:      configure_evaluate: strategy sampled 5 clients (out of 10)\n"
          ]
        },
        {
          "name": "stdout",
          "output_type": "stream",
          "text": [
            "\u001b[36m(ClientAppActor pid=5779)\u001b[0m Epoch 1/1, Train Loss: 0.01245963767481347, Validation Loss: 0.009982515747348467\n"
          ]
        },
        {
          "name": "stderr",
          "output_type": "stream",
          "text": [
            "\u001b[92mINFO \u001b[0m:      aggregate_evaluate: received 5 results and 0 failures\n",
            "\u001b[92mINFO \u001b[0m:      \n",
            "\u001b[92mINFO \u001b[0m:      [ROUND 44]\n",
            "\u001b[92mINFO \u001b[0m:      configure_fit: strategy sampled 10 clients (out of 10)\n"
          ]
        },
        {
          "name": "stdout",
          "output_type": "stream",
          "text": [
            "\u001b[36m(ClientAppActor pid=5779)\u001b[0m Epoch 1/1, Train Loss: 0.010404456678467492, Validation Loss: 0.01169582363218069\n",
            "\u001b[36m(ClientAppActor pid=5779)\u001b[0m Epoch 1/1, Train Loss: 0.012365443864837289, Validation Loss: 0.011641979527970156\n",
            "\u001b[36m(ClientAppActor pid=5779)\u001b[0m Epoch 1/1, Train Loss: 0.012520117995639643, Validation Loss: 0.012062782732148966\n",
            "\u001b[36m(ClientAppActor pid=5779)\u001b[0m Epoch 1/1, Train Loss: 0.011709985245640079, Validation Loss: 0.009407834770778814\n",
            "\u001b[36m(ClientAppActor pid=5779)\u001b[0m Epoch 1/1, Train Loss: 0.011082328079889217, Validation Loss: 0.012524268279472986\n",
            "\u001b[36m(ClientAppActor pid=5779)\u001b[0m Epoch 1/1, Train Loss: 0.012492127561320862, Validation Loss: 0.01197357289493084\n",
            "\u001b[36m(ClientAppActor pid=5779)\u001b[0m Epoch 1/1, Train Loss: 0.00979519080525885, Validation Loss: 0.010438099193076292\n",
            "\u001b[36m(ClientAppActor pid=5779)\u001b[0m Epoch 1/1, Train Loss: 0.010967715720956525, Validation Loss: 0.00991747590402762\n",
            "\u001b[36m(ClientAppActor pid=5779)\u001b[0m Epoch 1/1, Train Loss: 0.009988413269942006, Validation Loss: 0.010113346700867018\n"
          ]
        },
        {
          "name": "stderr",
          "output_type": "stream",
          "text": [
            "\u001b[92mINFO \u001b[0m:      aggregate_fit: received 10 results and 0 failures\n",
            "\u001b[92mINFO \u001b[0m:      configure_evaluate: strategy sampled 5 clients (out of 10)\n"
          ]
        },
        {
          "name": "stdout",
          "output_type": "stream",
          "text": [
            "\u001b[36m(ClientAppActor pid=5779)\u001b[0m Epoch 1/1, Train Loss: 0.013241887946302692, Validation Loss: 0.011404300418992838\n"
          ]
        },
        {
          "name": "stderr",
          "output_type": "stream",
          "text": [
            "\u001b[92mINFO \u001b[0m:      aggregate_evaluate: received 5 results and 0 failures\n",
            "\u001b[92mINFO \u001b[0m:      \n",
            "\u001b[92mINFO \u001b[0m:      [ROUND 45]\n",
            "\u001b[92mINFO \u001b[0m:      configure_fit: strategy sampled 10 clients (out of 10)\n"
          ]
        },
        {
          "name": "stdout",
          "output_type": "stream",
          "text": [
            "\u001b[36m(ClientAppActor pid=5779)\u001b[0m Epoch 1/1, Train Loss: 0.01123419163438181, Validation Loss: 0.012772280722856522\n",
            "\u001b[36m(ClientAppActor pid=5779)\u001b[0m Epoch 1/1, Train Loss: 0.013341013652582964, Validation Loss: 0.011887927539646626\n",
            "\u001b[36m(ClientAppActor pid=5779)\u001b[0m Epoch 1/1, Train Loss: 0.012104100353705386, Validation Loss: 0.009774401473502317\n",
            "\u001b[36m(ClientAppActor pid=5779)\u001b[0m Epoch 1/1, Train Loss: 0.010757342291375002, Validation Loss: 0.010074631310999393\n",
            "\u001b[36m(ClientAppActor pid=5779)\u001b[0m Epoch 1/1, Train Loss: 0.011966995506857833, Validation Loss: 0.01114971407999595\n",
            "\u001b[36m(ClientAppActor pid=5779)\u001b[0m Epoch 1/1, Train Loss: 0.011667533467213312, Validation Loss: 0.012319541846712431\n",
            "\u001b[36m(ClientAppActor pid=5779)\u001b[0m Epoch 1/1, Train Loss: 0.01117923459969461, Validation Loss: 0.010179828231533369\n",
            "\u001b[36m(ClientAppActor pid=5779)\u001b[0m Epoch 1/1, Train Loss: 0.014512275694869459, Validation Loss: 0.010718112190564474\n",
            "\u001b[36m(ClientAppActor pid=5779)\u001b[0m Epoch 1/1, Train Loss: 0.010309991581986347, Validation Loss: 0.010582030129929384\n"
          ]
        },
        {
          "name": "stderr",
          "output_type": "stream",
          "text": [
            "\u001b[92mINFO \u001b[0m:      aggregate_fit: received 10 results and 0 failures\n",
            "\u001b[92mINFO \u001b[0m:      configure_evaluate: strategy sampled 5 clients (out of 10)\n"
          ]
        },
        {
          "name": "stdout",
          "output_type": "stream",
          "text": [
            "\u001b[36m(ClientAppActor pid=5779)\u001b[0m Epoch 1/1, Train Loss: 0.012324246189867457, Validation Loss: 0.012135899315277735\n"
          ]
        },
        {
          "name": "stderr",
          "output_type": "stream",
          "text": [
            "\u001b[92mINFO \u001b[0m:      aggregate_evaluate: received 5 results and 0 failures\n",
            "\u001b[92mINFO \u001b[0m:      \n",
            "\u001b[92mINFO \u001b[0m:      [ROUND 46]\n",
            "\u001b[92mINFO \u001b[0m:      configure_fit: strategy sampled 10 clients (out of 10)\n"
          ]
        },
        {
          "name": "stdout",
          "output_type": "stream",
          "text": [
            "\u001b[36m(ClientAppActor pid=5779)\u001b[0m Epoch 1/1, Train Loss: 0.01083859906066209, Validation Loss: 0.01169470294068257\n",
            "\u001b[36m(ClientAppActor pid=5779)\u001b[0m Epoch 1/1, Train Loss: 0.011605097019734481, Validation Loss: 0.012865331334372362\n",
            "\u001b[36m(ClientAppActor pid=5779)\u001b[0m Epoch 1/1, Train Loss: 0.011104895267635584, Validation Loss: 0.011747528488437334\n",
            "\u001b[36m(ClientAppActor pid=5779)\u001b[0m Epoch 1/1, Train Loss: 0.013047274512549242, Validation Loss: 0.010870834502081076\n",
            "\u001b[36m(ClientAppActor pid=5779)\u001b[0m Epoch 1/1, Train Loss: 0.00994994347759833, Validation Loss: 0.010759637535860142\n",
            "\u001b[36m(ClientAppActor pid=5779)\u001b[0m Epoch 1/1, Train Loss: 0.011272155214101076, Validation Loss: 0.011184845119714737\n",
            "\u001b[36m(ClientAppActor pid=5779)\u001b[0m Epoch 1/1, Train Loss: 0.011609076367070278, Validation Loss: 0.010418589226901531\n",
            "\u001b[36m(ClientAppActor pid=5779)\u001b[0m Epoch 1/1, Train Loss: 0.012859091473122438, Validation Loss: 0.01169926580041647\n",
            "\u001b[36m(ClientAppActor pid=5779)\u001b[0m Epoch 1/1, Train Loss: 0.011087011157845458, Validation Loss: 0.009343737736344337\n"
          ]
        },
        {
          "name": "stderr",
          "output_type": "stream",
          "text": [
            "\u001b[92mINFO \u001b[0m:      aggregate_fit: received 10 results and 0 failures\n",
            "\u001b[92mINFO \u001b[0m:      configure_evaluate: strategy sampled 5 clients (out of 10)\n"
          ]
        },
        {
          "name": "stdout",
          "output_type": "stream",
          "text": [
            "\u001b[36m(ClientAppActor pid=5779)\u001b[0m Epoch 1/1, Train Loss: 0.012089072105785212, Validation Loss: 0.00997884664684534\n"
          ]
        },
        {
          "name": "stderr",
          "output_type": "stream",
          "text": [
            "\u001b[92mINFO \u001b[0m:      aggregate_evaluate: received 5 results and 0 failures\n",
            "\u001b[92mINFO \u001b[0m:      \n",
            "\u001b[92mINFO \u001b[0m:      [ROUND 47]\n",
            "\u001b[92mINFO \u001b[0m:      configure_fit: strategy sampled 10 clients (out of 10)\n"
          ]
        },
        {
          "name": "stdout",
          "output_type": "stream",
          "text": [
            "\u001b[36m(ClientAppActor pid=5779)\u001b[0m Epoch 1/1, Train Loss: 0.011854859301820397, Validation Loss: 0.01220842512945334\n",
            "\u001b[36m(ClientAppActor pid=5779)\u001b[0m Epoch 1/1, Train Loss: 0.011657905221606294, Validation Loss: 0.011193777124087015\n",
            "\u001b[36m(ClientAppActor pid=5779)\u001b[0m Epoch 1/1, Train Loss: 0.010639863166337213, Validation Loss: 0.010179420933127403\n",
            "\u001b[36m(ClientAppActor pid=5779)\u001b[0m Epoch 1/1, Train Loss: 0.011723090273638567, Validation Loss: 0.01433489037056764\n",
            "\u001b[36m(ClientAppActor pid=5779)\u001b[0m Epoch 1/1, Train Loss: 0.009879358112812042, Validation Loss: 0.011125503728787104\n",
            "\u001b[36m(ClientAppActor pid=5779)\u001b[0m Epoch 1/1, Train Loss: 0.011855346383526921, Validation Loss: 0.011513344322641691\n",
            "\u001b[36m(ClientAppActor pid=5779)\u001b[0m Epoch 1/1, Train Loss: 0.011676689803910753, Validation Loss: 0.012500513345003128\n",
            "\u001b[36m(ClientAppActor pid=5779)\u001b[0m Epoch 1/1, Train Loss: 0.0116857880493626, Validation Loss: 0.010576621939738592\n",
            "\u001b[36m(ClientAppActor pid=5779)\u001b[0m Epoch 1/1, Train Loss: 0.011773741183181604, Validation Loss: 0.009554862044751644\n"
          ]
        },
        {
          "name": "stderr",
          "output_type": "stream",
          "text": [
            "\u001b[92mINFO \u001b[0m:      aggregate_fit: received 10 results and 0 failures\n",
            "\u001b[92mINFO \u001b[0m:      configure_evaluate: strategy sampled 5 clients (out of 10)\n"
          ]
        },
        {
          "name": "stdout",
          "output_type": "stream",
          "text": [
            "\u001b[36m(ClientAppActor pid=5779)\u001b[0m Epoch 1/1, Train Loss: 0.011173997540026903, Validation Loss: 0.01100461557507515\n"
          ]
        },
        {
          "name": "stderr",
          "output_type": "stream",
          "text": [
            "\u001b[92mINFO \u001b[0m:      aggregate_evaluate: received 5 results and 0 failures\n",
            "\u001b[92mINFO \u001b[0m:      \n",
            "\u001b[92mINFO \u001b[0m:      [ROUND 48]\n",
            "\u001b[92mINFO \u001b[0m:      configure_fit: strategy sampled 10 clients (out of 10)\n"
          ]
        },
        {
          "name": "stdout",
          "output_type": "stream",
          "text": [
            "\u001b[36m(ClientAppActor pid=5779)\u001b[0m Epoch 1/1, Train Loss: 0.010876893065869808, Validation Loss: 0.01174014713615179\n",
            "\u001b[36m(ClientAppActor pid=5779)\u001b[0m Epoch 1/1, Train Loss: 0.01227717699172596, Validation Loss: 0.012729737907648087\n",
            "\u001b[36m(ClientAppActor pid=5779)\u001b[0m Epoch 1/1, Train Loss: 0.01168234902434051, Validation Loss: 0.010095545711616674\n",
            "\u001b[36m(ClientAppActor pid=5779)\u001b[0m Epoch 1/1, Train Loss: 0.011002561426721513, Validation Loss: 0.011037687460581461\n",
            "\u001b[36m(ClientAppActor pid=5779)\u001b[0m Epoch 1/1, Train Loss: 0.009806069079786539, Validation Loss: 0.009826830588281155\n",
            "\u001b[36m(ClientAppActor pid=5779)\u001b[0m Epoch 1/1, Train Loss: 0.01165233296342194, Validation Loss: 0.010156250248352686\n",
            "\u001b[36m(ClientAppActor pid=5779)\u001b[0m Epoch 1/1, Train Loss: 0.011125204929461082, Validation Loss: 0.014448337567349276\n",
            "\u001b[36m(ClientAppActor pid=5779)\u001b[0m Epoch 1/1, Train Loss: 0.011291093348215023, Validation Loss: 0.011246460179487864\n",
            "\u001b[36m(ClientAppActor pid=5779)\u001b[0m Epoch 1/1, Train Loss: 0.011969880821804205, Validation Loss: 0.011874140240252018\n"
          ]
        },
        {
          "name": "stderr",
          "output_type": "stream",
          "text": [
            "\u001b[92mINFO \u001b[0m:      aggregate_fit: received 10 results and 0 failures\n",
            "\u001b[92mINFO \u001b[0m:      configure_evaluate: strategy sampled 5 clients (out of 10)\n"
          ]
        },
        {
          "name": "stdout",
          "output_type": "stream",
          "text": [
            "\u001b[36m(ClientAppActor pid=5779)\u001b[0m Epoch 1/1, Train Loss: 0.01006001296142737, Validation Loss: 0.012181754844884077\n"
          ]
        },
        {
          "name": "stderr",
          "output_type": "stream",
          "text": [
            "\u001b[92mINFO \u001b[0m:      aggregate_evaluate: received 5 results and 0 failures\n",
            "\u001b[92mINFO \u001b[0m:      \n",
            "\u001b[92mINFO \u001b[0m:      [ROUND 49]\n",
            "\u001b[92mINFO \u001b[0m:      configure_fit: strategy sampled 10 clients (out of 10)\n"
          ]
        },
        {
          "name": "stdout",
          "output_type": "stream",
          "text": [
            "\u001b[36m(ClientAppActor pid=5779)\u001b[0m Epoch 1/1, Train Loss: 0.012494837981648743, Validation Loss: 0.011368322807053724\n",
            "\u001b[36m(ClientAppActor pid=5779)\u001b[0m Epoch 1/1, Train Loss: 0.012250272634749612, Validation Loss: 0.013409759538869062\n",
            "\u001b[36m(ClientAppActor pid=5779)\u001b[0m Epoch 1/1, Train Loss: 0.01111147040501237, Validation Loss: 0.011461963566641012\n",
            "\u001b[36m(ClientAppActor pid=5779)\u001b[0m Epoch 1/1, Train Loss: 0.009594146977178752, Validation Loss: 0.010080501126746336\n",
            "\u001b[36m(ClientAppActor pid=5779)\u001b[0m Epoch 1/1, Train Loss: 0.012901279842481017, Validation Loss: 0.010480815855165323\n",
            "\u001b[36m(ClientAppActor pid=5779)\u001b[0m Epoch 1/1, Train Loss: 0.011436611879616976, Validation Loss: 0.010460834950208664\n",
            "\u001b[36m(ClientAppActor pid=5779)\u001b[0m Epoch 1/1, Train Loss: 0.012607071897946298, Validation Loss: 0.009732439493139585\n",
            "\u001b[36m(ClientAppActor pid=5779)\u001b[0m Epoch 1/1, Train Loss: 0.011293465193981925, Validation Loss: 0.012174224791427454\n",
            "\u001b[36m(ClientAppActor pid=5779)\u001b[0m Epoch 1/1, Train Loss: 0.011529015804020068, Validation Loss: 0.012814805842936039\n"
          ]
        },
        {
          "name": "stderr",
          "output_type": "stream",
          "text": [
            "\u001b[92mINFO \u001b[0m:      aggregate_fit: received 10 results and 0 failures\n",
            "\u001b[92mINFO \u001b[0m:      configure_evaluate: strategy sampled 5 clients (out of 10)\n"
          ]
        },
        {
          "name": "stdout",
          "output_type": "stream",
          "text": [
            "\u001b[36m(ClientAppActor pid=5779)\u001b[0m Epoch 1/1, Train Loss: 0.011347286946450671, Validation Loss: 0.010544568610688051\n"
          ]
        },
        {
          "name": "stderr",
          "output_type": "stream",
          "text": [
            "\u001b[92mINFO \u001b[0m:      aggregate_evaluate: received 5 results and 0 failures\n",
            "\u001b[92mINFO \u001b[0m:      \n",
            "\u001b[92mINFO \u001b[0m:      [ROUND 50]\n",
            "\u001b[92mINFO \u001b[0m:      configure_fit: strategy sampled 10 clients (out of 10)\n"
          ]
        },
        {
          "name": "stdout",
          "output_type": "stream",
          "text": [
            "\u001b[36m(ClientAppActor pid=5779)\u001b[0m Epoch 1/1, Train Loss: 0.01086594199296087, Validation Loss: 0.01308303140103817\n",
            "\u001b[36m(ClientAppActor pid=5779)\u001b[0m Epoch 1/1, Train Loss: 0.011653943142543236, Validation Loss: 0.01288741392393907\n",
            "\u001b[36m(ClientAppActor pid=5779)\u001b[0m Epoch 1/1, Train Loss: 0.01291765714995563, Validation Loss: 0.009967253853877386\n",
            "\u001b[36m(ClientAppActor pid=5779)\u001b[0m Epoch 1/1, Train Loss: 0.009927080284493664, Validation Loss: 0.00993586735179027\n",
            "\u001b[36m(ClientAppActor pid=5779)\u001b[0m Epoch 1/1, Train Loss: 0.010085009271278977, Validation Loss: 0.010629631268481413\n",
            "\u001b[36m(ClientAppActor pid=5779)\u001b[0m Epoch 1/1, Train Loss: 0.010916655359324068, Validation Loss: 0.011273974552750587\n",
            "\u001b[36m(ClientAppActor pid=5779)\u001b[0m Epoch 1/1, Train Loss: 0.011780359704668323, Validation Loss: 0.012288927411039671\n",
            "\u001b[36m(ClientAppActor pid=5779)\u001b[0m Epoch 1/1, Train Loss: 0.010857769016486904, Validation Loss: 0.009694857522845268\n",
            "\u001b[36m(ClientAppActor pid=5779)\u001b[0m Epoch 1/1, Train Loss: 0.012149329374854764, Validation Loss: 0.011611023296912512\n"
          ]
        },
        {
          "name": "stderr",
          "output_type": "stream",
          "text": [
            "\u001b[92mINFO \u001b[0m:      aggregate_fit: received 10 results and 0 failures\n",
            "\u001b[92mINFO \u001b[0m:      configure_evaluate: strategy sampled 5 clients (out of 10)\n"
          ]
        },
        {
          "name": "stdout",
          "output_type": "stream",
          "text": [
            "\u001b[36m(ClientAppActor pid=5779)\u001b[0m Epoch 1/1, Train Loss: 0.011707609131311377, Validation Loss: 0.010717505278686682\n"
          ]
        },
        {
          "name": "stderr",
          "output_type": "stream",
          "text": [
            "\u001b[92mINFO \u001b[0m:      aggregate_evaluate: received 5 results and 0 failures\n",
            "\u001b[92mINFO \u001b[0m:      \n",
            "\u001b[92mINFO \u001b[0m:      [SUMMARY]\n",
            "\u001b[92mINFO \u001b[0m:      Run finished 50 round(s) in 5288.91s\n",
            "\u001b[92mINFO \u001b[0m:      \tHistory (loss, distributed):\n",
            "\u001b[92mINFO \u001b[0m:      \t\tround 1: 0.1300109828511874\n",
            "\u001b[92mINFO \u001b[0m:      \t\tround 2: 0.027004684756199517\n",
            "\u001b[92mINFO \u001b[0m:      \t\tround 3: 0.02320887930691242\n",
            "\u001b[92mINFO \u001b[0m:      \t\tround 4: 0.01781433696548144\n",
            "\u001b[92mINFO \u001b[0m:      \t\tround 5: 0.01465010189761718\n",
            "\u001b[92mINFO \u001b[0m:      \t\tround 6: 0.018251158110797406\n",
            "\u001b[92mINFO \u001b[0m:      \t\tround 7: 0.015152408803502718\n",
            "\u001b[92mINFO \u001b[0m:      \t\tround 8: 0.01444543960193793\n",
            "\u001b[92mINFO \u001b[0m:      \t\tround 9: 0.0135200676197807\n",
            "\u001b[92mINFO \u001b[0m:      \t\tround 10: 0.012787974812090397\n",
            "\u001b[92mINFO \u001b[0m:      \t\tround 11: 0.012452240474522114\n",
            "\u001b[92mINFO \u001b[0m:      \t\tround 12: 0.012808383256196976\n",
            "\u001b[92mINFO \u001b[0m:      \t\tround 13: 0.012204876293738683\n",
            "\u001b[92mINFO \u001b[0m:      \t\tround 14: 0.012422807204226652\n",
            "\u001b[92mINFO \u001b[0m:      \t\tround 15: 0.012123571336269378\n",
            "\u001b[92mINFO \u001b[0m:      \t\tround 16: 0.010867847378055255\n",
            "\u001b[92mINFO \u001b[0m:      \t\tround 17: 0.010951089269171158\n",
            "\u001b[92mINFO \u001b[0m:      \t\tround 18: 0.010915189298490684\n",
            "\u001b[92mINFO \u001b[0m:      \t\tround 19: 0.011171889988084634\n",
            "\u001b[92mINFO \u001b[0m:      \t\tround 20: 0.010860534571111202\n",
            "\u001b[92mINFO \u001b[0m:      \t\tround 21: 0.011183489300310611\n",
            "\u001b[92mINFO \u001b[0m:      \t\tround 22: 0.011561550324161847\n",
            "\u001b[92mINFO \u001b[0m:      \t\tround 23: 0.010920369563003381\n",
            "\u001b[92mINFO \u001b[0m:      \t\tround 24: 0.010938313168783983\n",
            "\u001b[92mINFO \u001b[0m:      \t\tround 25: 0.010839095277090868\n",
            "\u001b[92mINFO \u001b[0m:      \t\tround 26: 0.010973577635983627\n",
            "\u001b[92mINFO \u001b[0m:      \t\tround 27: 0.010677236008147399\n",
            "\u001b[92mINFO \u001b[0m:      \t\tround 28: 0.011041277833282948\n",
            "\u001b[92mINFO \u001b[0m:      \t\tround 29: 0.011548927736779053\n",
            "\u001b[92mINFO \u001b[0m:      \t\tround 30: 0.010642102919518948\n",
            "\u001b[92mINFO \u001b[0m:      \t\tround 31: 0.010797466399768989\n",
            "\u001b[92mINFO \u001b[0m:      \t\tround 32: 0.010666021083792051\n",
            "\u001b[92mINFO \u001b[0m:      \t\tround 33: 0.010561149319012959\n",
            "\u001b[92mINFO \u001b[0m:      \t\tround 34: 0.010845606898268063\n",
            "\u001b[92mINFO \u001b[0m:      \t\tround 35: 0.010345671760539214\n",
            "\u001b[92mINFO \u001b[0m:      \t\tround 36: 0.010416945815086365\n",
            "\u001b[92mINFO \u001b[0m:      \t\tround 37: 0.010857085790485143\n",
            "\u001b[92mINFO \u001b[0m:      \t\tround 38: 0.011060624631742637\n",
            "\u001b[92mINFO \u001b[0m:      \t\tround 39: 0.01083059310913086\n",
            "\u001b[92mINFO \u001b[0m:      \t\tround 40: 0.01135922217120727\n",
            "\u001b[92mINFO \u001b[0m:      \t\tround 41: 0.010622627288103103\n",
            "\u001b[92mINFO \u001b[0m:      \t\tround 42: 0.011154560993115107\n",
            "\u001b[92mINFO \u001b[0m:      \t\tround 43: 0.011017279885709285\n",
            "\u001b[92mINFO \u001b[0m:      \t\tround 44: 0.01031593568623066\n",
            "\u001b[92mINFO \u001b[0m:      \t\tround 45: 0.010515754980345567\n",
            "\u001b[92mINFO \u001b[0m:      \t\tround 46: 0.011002124349276225\n",
            "\u001b[92mINFO \u001b[0m:      \t\tround 47: 0.010542716675748428\n",
            "\u001b[92mINFO \u001b[0m:      \t\tround 48: 0.010878599714487791\n",
            "\u001b[92mINFO \u001b[0m:      \t\tround 49: 0.010218600369989872\n",
            "\u001b[92mINFO \u001b[0m:      \t\tround 50: 0.010279402323067188\n",
            "\u001b[92mINFO \u001b[0m:      \n"
          ]
        }
      ],
      "source": [
        "try:\n",
        "    # Run simulation\n",
        "    run_simulation(\n",
        "        server_app=server,\n",
        "        client_app=client,\n",
        "        num_supernodes=num_clients,\n",
        "        backend_config=backend_config\n",
        "    )\n",
        "except KeyboardInterrupt:\n",
        "    print(\"Simulation interrupted by user.\")"
      ]
    }
  ],
  "metadata": {
    "accelerator": "GPU",
    "colab": {
      "collapsed_sections": [
        "bkndtwvEMAyB",
        "xjJsJCeIMAyE",
        "MofOJ5kcMAyF",
        "uUlltooqMAyF",
        "fLLW79nlMAyG",
        "HUo0_klUMAyG",
        "Fg8XtAIsMAyH",
        "Wp3n8jv4MAyH",
        "mhXW7sjEMAyI",
        "lj7dyHsdMAyK",
        "tBBvfsbBMAyQ",
        "eBpfPEUpMAyS"
      ],
      "gpuType": "T4",
      "provenance": []
    },
    "kernelspec": {
      "display_name": ".venv",
      "language": "python",
      "name": "python3"
    },
    "language_info": {
      "codemirror_mode": {
        "name": "ipython",
        "version": 3
      },
      "file_extension": ".py",
      "mimetype": "text/x-python",
      "name": "python",
      "nbconvert_exporter": "python",
      "pygments_lexer": "ipython3",
      "version": "3.12.7"
    }
  },
  "nbformat": 4,
  "nbformat_minor": 0
}
