{
 "cells": [
  {
   "cell_type": "markdown",
   "metadata": {},
   "source": [
    "Không sử dụng tập test, dùng tập train để train và test"
   ]
  },
  {
   "cell_type": "markdown",
   "metadata": {},
   "source": [
    "## Import the libraries"
   ]
  },
  {
   "cell_type": "code",
   "execution_count": 1,
   "metadata": {},
   "outputs": [],
   "source": [
    "import numpy as np\n",
    "import pandas as pd\n",
    "\n",
    "import torch\n",
    "import torch.nn as nn\n",
    "from torch.utils.data import DataLoader, Dataset\n",
    "from torch.utils.data import random_split\n",
    "from sklearn.preprocessing import MinMaxScaler\n",
    "from sklearn.model_selection import train_test_split    \n",
    "\n",
    "import warnings\n",
    "warnings.filterwarnings('ignore')\n",
    "\n",
    "import matplotlib.pyplot as plt\n",
    "import seaborn as sns"
   ]
  },
  {
   "cell_type": "markdown",
   "metadata": {},
   "source": [
    "## Dataloader"
   ]
  },
  {
   "cell_type": "code",
   "execution_count": 2,
   "metadata": {},
   "outputs": [],
   "source": [
    "class CMAPSSLoaderDataset(Dataset):\n",
    "    def __init__(self, data, sequence_length):\n",
    "        self.data = data\n",
    "        self.sequence_length = sequence_length\n",
    "        self.sequences = []\n",
    "        self.targets = []\n",
    "        \n",
    "        grouped = data.groupby('ID Engine') \n",
    "        for _, group in grouped:        \n",
    "            values = group.drop(['ID Engine', 'Cycle', 'Setting 1', 'Setting 2', 'Setting 3','Remaining RUL'], axis=1).values\n",
    "            rul_values = group['Remaining RUL'].values\n",
    "            \n",
    "            for i in range(len(values) - sequence_length + 1):\n",
    "                self.sequences.append(values[i:i + sequence_length]) \n",
    "                self.targets.append(rul_values[i + sequence_length - 1])\n",
    "    \n",
    "    def __len__(self):\n",
    "        \n",
    "        return len(self.sequences)\n",
    "    \n",
    "    def __getitem__(self, idx):\n",
    "        return (\n",
    "            torch.tensor(self.sequences[idx], dtype=torch.float32),\n",
    "            torch.tensor(self.targets[idx], dtype=torch.float32),\n",
    "        )"
   ]
  },
  {
   "cell_type": "markdown",
   "metadata": {},
   "source": [
    "## Transformer"
   ]
  },
  {
   "cell_type": "code",
   "execution_count": 3,
   "metadata": {},
   "outputs": [],
   "source": [
    "class TransformerModel(nn.Module):\n",
    "    def __init__(self, input_dim, d_model, nhead, num_layers, dim_feedforward, dropout):\n",
    "        super(TransformerModel, self).__init__()\n",
    "        self.input_embedding = nn.Linear(input_dim, d_model)\n",
    "        self.positional_encoding = nn.Parameter(torch.zeros(1, 5000, d_model))\n",
    "        self.transformer = nn.Transformer(\n",
    "            d_model=d_model,\n",
    "            nhead=nhead,\n",
    "            num_encoder_layers=num_layers,\n",
    "            num_decoder_layers=num_layers,\n",
    "            dim_feedforward=dim_feedforward,\n",
    "            dropout=dropout,\n",
    "        )\n",
    "        self.fc_out = nn.Linear(d_model, 1)\n",
    "\n",
    "    def forward(self, src):\n",
    "        src_emb = self.input_embedding(src) + self.positional_encoding[:, :src.size(1), :]\n",
    "        src_emb = src_emb.permute(1, 0, 2)\n",
    "        transformer_out = self.transformer(src_emb, src_emb)\n",
    "        output = self.fc_out(transformer_out[-1, :, :])\n",
    "        return output.squeeze(-1)"
   ]
  },
  {
   "cell_type": "markdown",
   "metadata": {},
   "source": [
    "## File paths"
   ]
  },
  {
   "cell_type": "code",
   "execution_count": 4,
   "metadata": {},
   "outputs": [],
   "source": [
    "train_1 = \"../data/train_FD003.txt\"\n",
    "test_1 = \"../data/test_FD003.txt\"\n",
    "rul_1 = \"../data/RUL_FD003.txt\""
   ]
  },
  {
   "cell_type": "markdown",
   "metadata": {},
   "source": [
    "## Tính toán RUL cho train"
   ]
  },
  {
   "cell_type": "code",
   "execution_count": 5,
   "metadata": {},
   "outputs": [
    {
     "data": {
      "text/html": [
       "<div>\n",
       "<style scoped>\n",
       "    .dataframe tbody tr th:only-of-type {\n",
       "        vertical-align: middle;\n",
       "    }\n",
       "\n",
       "    .dataframe tbody tr th {\n",
       "        vertical-align: top;\n",
       "    }\n",
       "\n",
       "    .dataframe thead th {\n",
       "        text-align: right;\n",
       "    }\n",
       "</style>\n",
       "<table border=\"1\" class=\"dataframe\">\n",
       "  <thead>\n",
       "    <tr style=\"text-align: right;\">\n",
       "      <th></th>\n",
       "      <th>ID Engine</th>\n",
       "      <th>Cycle</th>\n",
       "      <th>Setting 1</th>\n",
       "      <th>Setting 2</th>\n",
       "      <th>Setting 3</th>\n",
       "      <th>Sensor 1</th>\n",
       "      <th>Sensor 2</th>\n",
       "      <th>Sensor 3</th>\n",
       "      <th>Sensor 4</th>\n",
       "      <th>Sensor 5</th>\n",
       "      <th>...</th>\n",
       "      <th>Sensor 13</th>\n",
       "      <th>Sensor 14</th>\n",
       "      <th>Sensor 15</th>\n",
       "      <th>Sensor 16</th>\n",
       "      <th>Sensor 17</th>\n",
       "      <th>Sensor 18</th>\n",
       "      <th>Sensor 19</th>\n",
       "      <th>Sensor 20</th>\n",
       "      <th>Sensor 21</th>\n",
       "      <th>Remaining RUL</th>\n",
       "    </tr>\n",
       "  </thead>\n",
       "  <tbody>\n",
       "    <tr>\n",
       "      <th>0</th>\n",
       "      <td>1</td>\n",
       "      <td>1</td>\n",
       "      <td>-0.0005</td>\n",
       "      <td>0.0004</td>\n",
       "      <td>100.0</td>\n",
       "      <td>518.67</td>\n",
       "      <td>642.36</td>\n",
       "      <td>1583.23</td>\n",
       "      <td>1396.84</td>\n",
       "      <td>14.62</td>\n",
       "      <td>...</td>\n",
       "      <td>2388.01</td>\n",
       "      <td>8145.32</td>\n",
       "      <td>8.4246</td>\n",
       "      <td>0.03</td>\n",
       "      <td>391</td>\n",
       "      <td>2388</td>\n",
       "      <td>100.0</td>\n",
       "      <td>39.11</td>\n",
       "      <td>23.3537</td>\n",
       "      <td></td>\n",
       "    </tr>\n",
       "    <tr>\n",
       "      <th>1</th>\n",
       "      <td>1</td>\n",
       "      <td>2</td>\n",
       "      <td>0.0008</td>\n",
       "      <td>-0.0003</td>\n",
       "      <td>100.0</td>\n",
       "      <td>518.67</td>\n",
       "      <td>642.50</td>\n",
       "      <td>1584.69</td>\n",
       "      <td>1396.89</td>\n",
       "      <td>14.62</td>\n",
       "      <td>...</td>\n",
       "      <td>2388.03</td>\n",
       "      <td>8152.85</td>\n",
       "      <td>8.4403</td>\n",
       "      <td>0.03</td>\n",
       "      <td>392</td>\n",
       "      <td>2388</td>\n",
       "      <td>100.0</td>\n",
       "      <td>38.99</td>\n",
       "      <td>23.4491</td>\n",
       "      <td></td>\n",
       "    </tr>\n",
       "    <tr>\n",
       "      <th>2</th>\n",
       "      <td>1</td>\n",
       "      <td>3</td>\n",
       "      <td>-0.0014</td>\n",
       "      <td>-0.0002</td>\n",
       "      <td>100.0</td>\n",
       "      <td>518.67</td>\n",
       "      <td>642.18</td>\n",
       "      <td>1582.35</td>\n",
       "      <td>1405.61</td>\n",
       "      <td>14.62</td>\n",
       "      <td>...</td>\n",
       "      <td>2388.00</td>\n",
       "      <td>8150.17</td>\n",
       "      <td>8.3901</td>\n",
       "      <td>0.03</td>\n",
       "      <td>391</td>\n",
       "      <td>2388</td>\n",
       "      <td>100.0</td>\n",
       "      <td>38.85</td>\n",
       "      <td>23.3669</td>\n",
       "      <td></td>\n",
       "    </tr>\n",
       "    <tr>\n",
       "      <th>3</th>\n",
       "      <td>1</td>\n",
       "      <td>4</td>\n",
       "      <td>-0.0020</td>\n",
       "      <td>0.0001</td>\n",
       "      <td>100.0</td>\n",
       "      <td>518.67</td>\n",
       "      <td>642.92</td>\n",
       "      <td>1585.61</td>\n",
       "      <td>1392.27</td>\n",
       "      <td>14.62</td>\n",
       "      <td>...</td>\n",
       "      <td>2388.08</td>\n",
       "      <td>8146.56</td>\n",
       "      <td>8.3878</td>\n",
       "      <td>0.03</td>\n",
       "      <td>392</td>\n",
       "      <td>2388</td>\n",
       "      <td>100.0</td>\n",
       "      <td>38.96</td>\n",
       "      <td>23.2951</td>\n",
       "      <td></td>\n",
       "    </tr>\n",
       "    <tr>\n",
       "      <th>4</th>\n",
       "      <td>1</td>\n",
       "      <td>5</td>\n",
       "      <td>0.0016</td>\n",
       "      <td>0.0000</td>\n",
       "      <td>100.0</td>\n",
       "      <td>518.67</td>\n",
       "      <td>641.68</td>\n",
       "      <td>1588.63</td>\n",
       "      <td>1397.65</td>\n",
       "      <td>14.62</td>\n",
       "      <td>...</td>\n",
       "      <td>2388.03</td>\n",
       "      <td>8147.80</td>\n",
       "      <td>8.3869</td>\n",
       "      <td>0.03</td>\n",
       "      <td>392</td>\n",
       "      <td>2388</td>\n",
       "      <td>100.0</td>\n",
       "      <td>39.14</td>\n",
       "      <td>23.4583</td>\n",
       "      <td></td>\n",
       "    </tr>\n",
       "  </tbody>\n",
       "</table>\n",
       "<p>5 rows × 27 columns</p>\n",
       "</div>"
      ],
      "text/plain": [
       "   ID Engine  Cycle  Setting 1  Setting 2  Setting 3  Sensor 1  Sensor 2  \\\n",
       "0          1      1    -0.0005     0.0004      100.0    518.67    642.36   \n",
       "1          1      2     0.0008    -0.0003      100.0    518.67    642.50   \n",
       "2          1      3    -0.0014    -0.0002      100.0    518.67    642.18   \n",
       "3          1      4    -0.0020     0.0001      100.0    518.67    642.92   \n",
       "4          1      5     0.0016     0.0000      100.0    518.67    641.68   \n",
       "\n",
       "   Sensor 3  Sensor 4  Sensor 5  ...  Sensor 13  Sensor 14  Sensor 15  \\\n",
       "0   1583.23   1396.84     14.62  ...    2388.01    8145.32     8.4246   \n",
       "1   1584.69   1396.89     14.62  ...    2388.03    8152.85     8.4403   \n",
       "2   1582.35   1405.61     14.62  ...    2388.00    8150.17     8.3901   \n",
       "3   1585.61   1392.27     14.62  ...    2388.08    8146.56     8.3878   \n",
       "4   1588.63   1397.65     14.62  ...    2388.03    8147.80     8.3869   \n",
       "\n",
       "   Sensor 16  Sensor 17  Sensor 18  Sensor 19  Sensor 20  Sensor 21  \\\n",
       "0       0.03        391       2388      100.0      39.11    23.3537   \n",
       "1       0.03        392       2388      100.0      38.99    23.4491   \n",
       "2       0.03        391       2388      100.0      38.85    23.3669   \n",
       "3       0.03        392       2388      100.0      38.96    23.2951   \n",
       "4       0.03        392       2388      100.0      39.14    23.4583   \n",
       "\n",
       "   Remaining RUL  \n",
       "0                 \n",
       "1                 \n",
       "2                 \n",
       "3                 \n",
       "4                 \n",
       "\n",
       "[5 rows x 27 columns]"
      ]
     },
     "execution_count": 5,
     "metadata": {},
     "output_type": "execute_result"
    }
   ],
   "source": [
    "index_names = ['ID Engine', 'Cycle']\n",
    "setting_names = ['Setting 1', 'Setting 2', 'Setting 3']\n",
    "sensor_names = ['Sensor {}'.format(i) for i in range(1, 22)]\n",
    "column_names = index_names + setting_names + sensor_names\n",
    "\n",
    "train = pd.read_csv(train_1, sep=' ', header=None)\n",
    "train.drop([26, 27], axis=1, inplace=True)\n",
    "train.columns = column_names\n",
    "\n",
    "train['Remaining RUL'] = ''\n",
    "train.head()"
   ]
  },
  {
   "cell_type": "code",
   "execution_count": 6,
   "metadata": {},
   "outputs": [],
   "source": [
    "max_cycle = train.groupby('ID Engine').count()\n",
    "\n",
    "for idx in range(len(train)):\n",
    "    train.loc[idx, 'Remaining RUL'] = max_cycle.loc[train.loc[idx, 'ID Engine'], 'Cycle']\n",
    "\n",
    "train['Remaining RUL'] = train['Remaining RUL'] - train['Cycle']"
   ]
  },
  {
   "cell_type": "code",
   "execution_count": 7,
   "metadata": {},
   "outputs": [
    {
     "data": {
      "text/html": [
       "<div>\n",
       "<style scoped>\n",
       "    .dataframe tbody tr th:only-of-type {\n",
       "        vertical-align: middle;\n",
       "    }\n",
       "\n",
       "    .dataframe tbody tr th {\n",
       "        vertical-align: top;\n",
       "    }\n",
       "\n",
       "    .dataframe thead th {\n",
       "        text-align: right;\n",
       "    }\n",
       "</style>\n",
       "<table border=\"1\" class=\"dataframe\">\n",
       "  <thead>\n",
       "    <tr style=\"text-align: right;\">\n",
       "      <th></th>\n",
       "      <th>ID Engine</th>\n",
       "      <th>Cycle</th>\n",
       "      <th>Setting 1</th>\n",
       "      <th>Setting 2</th>\n",
       "      <th>Setting 3</th>\n",
       "      <th>Sensor 1</th>\n",
       "      <th>Sensor 2</th>\n",
       "      <th>Sensor 3</th>\n",
       "      <th>Sensor 4</th>\n",
       "      <th>Sensor 5</th>\n",
       "      <th>...</th>\n",
       "      <th>Sensor 13</th>\n",
       "      <th>Sensor 14</th>\n",
       "      <th>Sensor 15</th>\n",
       "      <th>Sensor 16</th>\n",
       "      <th>Sensor 17</th>\n",
       "      <th>Sensor 18</th>\n",
       "      <th>Sensor 19</th>\n",
       "      <th>Sensor 20</th>\n",
       "      <th>Sensor 21</th>\n",
       "      <th>Remaining RUL</th>\n",
       "    </tr>\n",
       "  </thead>\n",
       "  <tbody>\n",
       "    <tr>\n",
       "      <th>0</th>\n",
       "      <td>1</td>\n",
       "      <td>1</td>\n",
       "      <td>-0.0005</td>\n",
       "      <td>0.0004</td>\n",
       "      <td>100.0</td>\n",
       "      <td>518.67</td>\n",
       "      <td>642.36</td>\n",
       "      <td>1583.23</td>\n",
       "      <td>1396.84</td>\n",
       "      <td>14.62</td>\n",
       "      <td>...</td>\n",
       "      <td>2388.01</td>\n",
       "      <td>8145.32</td>\n",
       "      <td>8.4246</td>\n",
       "      <td>0.03</td>\n",
       "      <td>391</td>\n",
       "      <td>2388</td>\n",
       "      <td>100.0</td>\n",
       "      <td>39.11</td>\n",
       "      <td>23.3537</td>\n",
       "      <td>258</td>\n",
       "    </tr>\n",
       "    <tr>\n",
       "      <th>1</th>\n",
       "      <td>1</td>\n",
       "      <td>2</td>\n",
       "      <td>0.0008</td>\n",
       "      <td>-0.0003</td>\n",
       "      <td>100.0</td>\n",
       "      <td>518.67</td>\n",
       "      <td>642.50</td>\n",
       "      <td>1584.69</td>\n",
       "      <td>1396.89</td>\n",
       "      <td>14.62</td>\n",
       "      <td>...</td>\n",
       "      <td>2388.03</td>\n",
       "      <td>8152.85</td>\n",
       "      <td>8.4403</td>\n",
       "      <td>0.03</td>\n",
       "      <td>392</td>\n",
       "      <td>2388</td>\n",
       "      <td>100.0</td>\n",
       "      <td>38.99</td>\n",
       "      <td>23.4491</td>\n",
       "      <td>257</td>\n",
       "    </tr>\n",
       "    <tr>\n",
       "      <th>2</th>\n",
       "      <td>1</td>\n",
       "      <td>3</td>\n",
       "      <td>-0.0014</td>\n",
       "      <td>-0.0002</td>\n",
       "      <td>100.0</td>\n",
       "      <td>518.67</td>\n",
       "      <td>642.18</td>\n",
       "      <td>1582.35</td>\n",
       "      <td>1405.61</td>\n",
       "      <td>14.62</td>\n",
       "      <td>...</td>\n",
       "      <td>2388.00</td>\n",
       "      <td>8150.17</td>\n",
       "      <td>8.3901</td>\n",
       "      <td>0.03</td>\n",
       "      <td>391</td>\n",
       "      <td>2388</td>\n",
       "      <td>100.0</td>\n",
       "      <td>38.85</td>\n",
       "      <td>23.3669</td>\n",
       "      <td>256</td>\n",
       "    </tr>\n",
       "    <tr>\n",
       "      <th>3</th>\n",
       "      <td>1</td>\n",
       "      <td>4</td>\n",
       "      <td>-0.0020</td>\n",
       "      <td>0.0001</td>\n",
       "      <td>100.0</td>\n",
       "      <td>518.67</td>\n",
       "      <td>642.92</td>\n",
       "      <td>1585.61</td>\n",
       "      <td>1392.27</td>\n",
       "      <td>14.62</td>\n",
       "      <td>...</td>\n",
       "      <td>2388.08</td>\n",
       "      <td>8146.56</td>\n",
       "      <td>8.3878</td>\n",
       "      <td>0.03</td>\n",
       "      <td>392</td>\n",
       "      <td>2388</td>\n",
       "      <td>100.0</td>\n",
       "      <td>38.96</td>\n",
       "      <td>23.2951</td>\n",
       "      <td>255</td>\n",
       "    </tr>\n",
       "    <tr>\n",
       "      <th>4</th>\n",
       "      <td>1</td>\n",
       "      <td>5</td>\n",
       "      <td>0.0016</td>\n",
       "      <td>0.0000</td>\n",
       "      <td>100.0</td>\n",
       "      <td>518.67</td>\n",
       "      <td>641.68</td>\n",
       "      <td>1588.63</td>\n",
       "      <td>1397.65</td>\n",
       "      <td>14.62</td>\n",
       "      <td>...</td>\n",
       "      <td>2388.03</td>\n",
       "      <td>8147.80</td>\n",
       "      <td>8.3869</td>\n",
       "      <td>0.03</td>\n",
       "      <td>392</td>\n",
       "      <td>2388</td>\n",
       "      <td>100.0</td>\n",
       "      <td>39.14</td>\n",
       "      <td>23.4583</td>\n",
       "      <td>254</td>\n",
       "    </tr>\n",
       "  </tbody>\n",
       "</table>\n",
       "<p>5 rows × 27 columns</p>\n",
       "</div>"
      ],
      "text/plain": [
       "   ID Engine  Cycle  Setting 1  Setting 2  Setting 3  Sensor 1  Sensor 2  \\\n",
       "0          1      1    -0.0005     0.0004      100.0    518.67    642.36   \n",
       "1          1      2     0.0008    -0.0003      100.0    518.67    642.50   \n",
       "2          1      3    -0.0014    -0.0002      100.0    518.67    642.18   \n",
       "3          1      4    -0.0020     0.0001      100.0    518.67    642.92   \n",
       "4          1      5     0.0016     0.0000      100.0    518.67    641.68   \n",
       "\n",
       "   Sensor 3  Sensor 4  Sensor 5  ...  Sensor 13  Sensor 14  Sensor 15  \\\n",
       "0   1583.23   1396.84     14.62  ...    2388.01    8145.32     8.4246   \n",
       "1   1584.69   1396.89     14.62  ...    2388.03    8152.85     8.4403   \n",
       "2   1582.35   1405.61     14.62  ...    2388.00    8150.17     8.3901   \n",
       "3   1585.61   1392.27     14.62  ...    2388.08    8146.56     8.3878   \n",
       "4   1588.63   1397.65     14.62  ...    2388.03    8147.80     8.3869   \n",
       "\n",
       "   Sensor 16  Sensor 17  Sensor 18  Sensor 19  Sensor 20  Sensor 21  \\\n",
       "0       0.03        391       2388      100.0      39.11    23.3537   \n",
       "1       0.03        392       2388      100.0      38.99    23.4491   \n",
       "2       0.03        391       2388      100.0      38.85    23.3669   \n",
       "3       0.03        392       2388      100.0      38.96    23.2951   \n",
       "4       0.03        392       2388      100.0      39.14    23.4583   \n",
       "\n",
       "   Remaining RUL  \n",
       "0            258  \n",
       "1            257  \n",
       "2            256  \n",
       "3            255  \n",
       "4            254  \n",
       "\n",
       "[5 rows x 27 columns]"
      ]
     },
     "execution_count": 7,
     "metadata": {},
     "output_type": "execute_result"
    }
   ],
   "source": [
    "train.head()"
   ]
  },
  {
   "cell_type": "code",
   "execution_count": 8,
   "metadata": {},
   "outputs": [
    {
     "data": {
      "text/plain": [
       "(24720, 27)"
      ]
     },
     "execution_count": 8,
     "metadata": {},
     "output_type": "execute_result"
    }
   ],
   "source": [
    "train.shape\n",
    "# Có đầy đủ 27 features ban đầu"
   ]
  },
  {
   "cell_type": "markdown",
   "metadata": {},
   "source": [
    "## Load RUL"
   ]
  },
  {
   "cell_type": "code",
   "execution_count": 9,
   "metadata": {},
   "outputs": [
    {
     "data": {
      "text/html": [
       "<div>\n",
       "<style scoped>\n",
       "    .dataframe tbody tr th:only-of-type {\n",
       "        vertical-align: middle;\n",
       "    }\n",
       "\n",
       "    .dataframe tbody tr th {\n",
       "        vertical-align: top;\n",
       "    }\n",
       "\n",
       "    .dataframe thead th {\n",
       "        text-align: right;\n",
       "    }\n",
       "</style>\n",
       "<table border=\"1\" class=\"dataframe\">\n",
       "  <thead>\n",
       "    <tr style=\"text-align: right;\">\n",
       "      <th></th>\n",
       "      <th>RUL</th>\n",
       "    </tr>\n",
       "  </thead>\n",
       "  <tbody>\n",
       "    <tr>\n",
       "      <th>0</th>\n",
       "      <td>44</td>\n",
       "    </tr>\n",
       "    <tr>\n",
       "      <th>1</th>\n",
       "      <td>51</td>\n",
       "    </tr>\n",
       "    <tr>\n",
       "      <th>2</th>\n",
       "      <td>27</td>\n",
       "    </tr>\n",
       "    <tr>\n",
       "      <th>3</th>\n",
       "      <td>120</td>\n",
       "    </tr>\n",
       "    <tr>\n",
       "      <th>4</th>\n",
       "      <td>101</td>\n",
       "    </tr>\n",
       "  </tbody>\n",
       "</table>\n",
       "</div>"
      ],
      "text/plain": [
       "   RUL\n",
       "0   44\n",
       "1   51\n",
       "2   27\n",
       "3  120\n",
       "4  101"
      ]
     },
     "execution_count": 9,
     "metadata": {},
     "output_type": "execute_result"
    }
   ],
   "source": [
    "rul = pd.read_csv(rul_1, sep=' ', header=None)\n",
    "rul.drop(rul.columns[1], axis=1, inplace=True)\n",
    "rul.columns = ['RUL']\n",
    "rul.head()"
   ]
  },
  {
   "cell_type": "markdown",
   "metadata": {},
   "source": [
    "## Tính toán RUL cho test"
   ]
  },
  {
   "cell_type": "code",
   "execution_count": 10,
   "metadata": {},
   "outputs": [
    {
     "data": {
      "text/html": [
       "<div>\n",
       "<style scoped>\n",
       "    .dataframe tbody tr th:only-of-type {\n",
       "        vertical-align: middle;\n",
       "    }\n",
       "\n",
       "    .dataframe tbody tr th {\n",
       "        vertical-align: top;\n",
       "    }\n",
       "\n",
       "    .dataframe thead th {\n",
       "        text-align: right;\n",
       "    }\n",
       "</style>\n",
       "<table border=\"1\" class=\"dataframe\">\n",
       "  <thead>\n",
       "    <tr style=\"text-align: right;\">\n",
       "      <th></th>\n",
       "      <th>ID Engine</th>\n",
       "      <th>Cycle</th>\n",
       "      <th>Setting 1</th>\n",
       "      <th>Setting 2</th>\n",
       "      <th>Setting 3</th>\n",
       "      <th>Sensor 1</th>\n",
       "      <th>Sensor 2</th>\n",
       "      <th>Sensor 3</th>\n",
       "      <th>Sensor 4</th>\n",
       "      <th>Sensor 5</th>\n",
       "      <th>...</th>\n",
       "      <th>Sensor 13</th>\n",
       "      <th>Sensor 14</th>\n",
       "      <th>Sensor 15</th>\n",
       "      <th>Sensor 16</th>\n",
       "      <th>Sensor 17</th>\n",
       "      <th>Sensor 18</th>\n",
       "      <th>Sensor 19</th>\n",
       "      <th>Sensor 20</th>\n",
       "      <th>Sensor 21</th>\n",
       "      <th>Remaining RUL</th>\n",
       "    </tr>\n",
       "  </thead>\n",
       "  <tbody>\n",
       "    <tr>\n",
       "      <th>0</th>\n",
       "      <td>1</td>\n",
       "      <td>1</td>\n",
       "      <td>-0.0017</td>\n",
       "      <td>-0.0004</td>\n",
       "      <td>100.0</td>\n",
       "      <td>518.67</td>\n",
       "      <td>641.94</td>\n",
       "      <td>1581.93</td>\n",
       "      <td>1396.93</td>\n",
       "      <td>14.62</td>\n",
       "      <td>...</td>\n",
       "      <td>2387.94</td>\n",
       "      <td>8133.48</td>\n",
       "      <td>8.3760</td>\n",
       "      <td>0.03</td>\n",
       "      <td>391</td>\n",
       "      <td>2388</td>\n",
       "      <td>100.0</td>\n",
       "      <td>39.07</td>\n",
       "      <td>23.4468</td>\n",
       "      <td></td>\n",
       "    </tr>\n",
       "    <tr>\n",
       "      <th>1</th>\n",
       "      <td>1</td>\n",
       "      <td>2</td>\n",
       "      <td>0.0006</td>\n",
       "      <td>-0.0002</td>\n",
       "      <td>100.0</td>\n",
       "      <td>518.67</td>\n",
       "      <td>642.02</td>\n",
       "      <td>1584.86</td>\n",
       "      <td>1398.90</td>\n",
       "      <td>14.62</td>\n",
       "      <td>...</td>\n",
       "      <td>2388.01</td>\n",
       "      <td>8137.44</td>\n",
       "      <td>8.4062</td>\n",
       "      <td>0.03</td>\n",
       "      <td>391</td>\n",
       "      <td>2388</td>\n",
       "      <td>100.0</td>\n",
       "      <td>39.04</td>\n",
       "      <td>23.4807</td>\n",
       "      <td></td>\n",
       "    </tr>\n",
       "    <tr>\n",
       "      <th>2</th>\n",
       "      <td>1</td>\n",
       "      <td>3</td>\n",
       "      <td>0.0014</td>\n",
       "      <td>-0.0003</td>\n",
       "      <td>100.0</td>\n",
       "      <td>518.67</td>\n",
       "      <td>641.68</td>\n",
       "      <td>1581.78</td>\n",
       "      <td>1391.92</td>\n",
       "      <td>14.62</td>\n",
       "      <td>...</td>\n",
       "      <td>2387.94</td>\n",
       "      <td>8138.25</td>\n",
       "      <td>8.3553</td>\n",
       "      <td>0.03</td>\n",
       "      <td>391</td>\n",
       "      <td>2388</td>\n",
       "      <td>100.0</td>\n",
       "      <td>39.10</td>\n",
       "      <td>23.4244</td>\n",
       "      <td></td>\n",
       "    </tr>\n",
       "    <tr>\n",
       "      <th>3</th>\n",
       "      <td>1</td>\n",
       "      <td>4</td>\n",
       "      <td>0.0027</td>\n",
       "      <td>0.0001</td>\n",
       "      <td>100.0</td>\n",
       "      <td>518.67</td>\n",
       "      <td>642.20</td>\n",
       "      <td>1584.53</td>\n",
       "      <td>1395.34</td>\n",
       "      <td>14.62</td>\n",
       "      <td>...</td>\n",
       "      <td>2387.96</td>\n",
       "      <td>8137.07</td>\n",
       "      <td>8.3709</td>\n",
       "      <td>0.03</td>\n",
       "      <td>392</td>\n",
       "      <td>2388</td>\n",
       "      <td>100.0</td>\n",
       "      <td>38.97</td>\n",
       "      <td>23.4782</td>\n",
       "      <td></td>\n",
       "    </tr>\n",
       "    <tr>\n",
       "      <th>4</th>\n",
       "      <td>1</td>\n",
       "      <td>5</td>\n",
       "      <td>-0.0001</td>\n",
       "      <td>0.0001</td>\n",
       "      <td>100.0</td>\n",
       "      <td>518.67</td>\n",
       "      <td>642.46</td>\n",
       "      <td>1589.03</td>\n",
       "      <td>1395.86</td>\n",
       "      <td>14.62</td>\n",
       "      <td>...</td>\n",
       "      <td>2387.97</td>\n",
       "      <td>8134.20</td>\n",
       "      <td>8.4146</td>\n",
       "      <td>0.03</td>\n",
       "      <td>391</td>\n",
       "      <td>2388</td>\n",
       "      <td>100.0</td>\n",
       "      <td>39.09</td>\n",
       "      <td>23.3950</td>\n",
       "      <td></td>\n",
       "    </tr>\n",
       "  </tbody>\n",
       "</table>\n",
       "<p>5 rows × 27 columns</p>\n",
       "</div>"
      ],
      "text/plain": [
       "   ID Engine  Cycle  Setting 1  Setting 2  Setting 3  Sensor 1  Sensor 2  \\\n",
       "0          1      1    -0.0017    -0.0004      100.0    518.67    641.94   \n",
       "1          1      2     0.0006    -0.0002      100.0    518.67    642.02   \n",
       "2          1      3     0.0014    -0.0003      100.0    518.67    641.68   \n",
       "3          1      4     0.0027     0.0001      100.0    518.67    642.20   \n",
       "4          1      5    -0.0001     0.0001      100.0    518.67    642.46   \n",
       "\n",
       "   Sensor 3  Sensor 4  Sensor 5  ...  Sensor 13  Sensor 14  Sensor 15  \\\n",
       "0   1581.93   1396.93     14.62  ...    2387.94    8133.48     8.3760   \n",
       "1   1584.86   1398.90     14.62  ...    2388.01    8137.44     8.4062   \n",
       "2   1581.78   1391.92     14.62  ...    2387.94    8138.25     8.3553   \n",
       "3   1584.53   1395.34     14.62  ...    2387.96    8137.07     8.3709   \n",
       "4   1589.03   1395.86     14.62  ...    2387.97    8134.20     8.4146   \n",
       "\n",
       "   Sensor 16  Sensor 17  Sensor 18  Sensor 19  Sensor 20  Sensor 21  \\\n",
       "0       0.03        391       2388      100.0      39.07    23.4468   \n",
       "1       0.03        391       2388      100.0      39.04    23.4807   \n",
       "2       0.03        391       2388      100.0      39.10    23.4244   \n",
       "3       0.03        392       2388      100.0      38.97    23.4782   \n",
       "4       0.03        391       2388      100.0      39.09    23.3950   \n",
       "\n",
       "   Remaining RUL  \n",
       "0                 \n",
       "1                 \n",
       "2                 \n",
       "3                 \n",
       "4                 \n",
       "\n",
       "[5 rows x 27 columns]"
      ]
     },
     "execution_count": 10,
     "metadata": {},
     "output_type": "execute_result"
    }
   ],
   "source": [
    "test = pd.read_csv(test_1, sep=' ', header=None)\n",
    "test.drop([26, 27], axis=1, inplace=True)\n",
    "test.columns = column_names\n",
    "\n",
    "test['Remaining RUL'] = ''\n",
    "test.head()"
   ]
  },
  {
   "cell_type": "code",
   "execution_count": 11,
   "metadata": {},
   "outputs": [
    {
     "data": {
      "text/plain": [
       "ID Engine\n",
       "1    233\n",
       "2    124\n",
       "3    234\n",
       "4     68\n",
       "5    138\n",
       "Name: Cycle, dtype: int64"
      ]
     },
     "execution_count": 11,
     "metadata": {},
     "output_type": "execute_result"
    }
   ],
   "source": [
    "max_cycle_test = test.groupby('ID Engine').count()\n",
    "max_cycle_test['Cycle'].head()"
   ]
  },
  {
   "cell_type": "code",
   "execution_count": 12,
   "metadata": {},
   "outputs": [
    {
     "data": {
      "text/html": [
       "<div>\n",
       "<style scoped>\n",
       "    .dataframe tbody tr th:only-of-type {\n",
       "        vertical-align: middle;\n",
       "    }\n",
       "\n",
       "    .dataframe tbody tr th {\n",
       "        vertical-align: top;\n",
       "    }\n",
       "\n",
       "    .dataframe thead th {\n",
       "        text-align: right;\n",
       "    }\n",
       "</style>\n",
       "<table border=\"1\" class=\"dataframe\">\n",
       "  <thead>\n",
       "    <tr style=\"text-align: right;\">\n",
       "      <th></th>\n",
       "      <th>RUL</th>\n",
       "    </tr>\n",
       "  </thead>\n",
       "  <tbody>\n",
       "    <tr>\n",
       "      <th>0</th>\n",
       "      <td>44</td>\n",
       "    </tr>\n",
       "    <tr>\n",
       "      <th>1</th>\n",
       "      <td>51</td>\n",
       "    </tr>\n",
       "    <tr>\n",
       "      <th>2</th>\n",
       "      <td>27</td>\n",
       "    </tr>\n",
       "    <tr>\n",
       "      <th>3</th>\n",
       "      <td>120</td>\n",
       "    </tr>\n",
       "    <tr>\n",
       "      <th>4</th>\n",
       "      <td>101</td>\n",
       "    </tr>\n",
       "  </tbody>\n",
       "</table>\n",
       "</div>"
      ],
      "text/plain": [
       "   RUL\n",
       "0   44\n",
       "1   51\n",
       "2   27\n",
       "3  120\n",
       "4  101"
      ]
     },
     "execution_count": 12,
     "metadata": {},
     "output_type": "execute_result"
    }
   ],
   "source": [
    "rul.head()"
   ]
  },
  {
   "cell_type": "code",
   "execution_count": 13,
   "metadata": {},
   "outputs": [],
   "source": [
    "# Công thức tính toán RUL cho test có thể là:\n",
    "# RUL cuối cùng (trong tập testtest) + Cycles đã trải qua - cột Cycle tương ứng\n",
    "for idx in range(len(test)):\n",
    "    test.loc[idx, 'Remaining RUL'] = rul.loc[test.loc[idx, 'ID Engine'] - 1, 'RUL'] + max_cycle_test.loc[test.loc[idx, 'ID Engine'], 'Cycle']\n",
    "\n",
    "test['Remaining RUL'] = test['Remaining RUL'] - test['Cycle']"
   ]
  },
  {
   "cell_type": "code",
   "execution_count": 14,
   "metadata": {},
   "outputs": [
    {
     "data": {
      "text/html": [
       "<div>\n",
       "<style scoped>\n",
       "    .dataframe tbody tr th:only-of-type {\n",
       "        vertical-align: middle;\n",
       "    }\n",
       "\n",
       "    .dataframe tbody tr th {\n",
       "        vertical-align: top;\n",
       "    }\n",
       "\n",
       "    .dataframe thead th {\n",
       "        text-align: right;\n",
       "    }\n",
       "</style>\n",
       "<table border=\"1\" class=\"dataframe\">\n",
       "  <thead>\n",
       "    <tr style=\"text-align: right;\">\n",
       "      <th></th>\n",
       "      <th>ID Engine</th>\n",
       "      <th>Cycle</th>\n",
       "      <th>Setting 1</th>\n",
       "      <th>Setting 2</th>\n",
       "      <th>Setting 3</th>\n",
       "      <th>Sensor 1</th>\n",
       "      <th>Sensor 2</th>\n",
       "      <th>Sensor 3</th>\n",
       "      <th>Sensor 4</th>\n",
       "      <th>Sensor 5</th>\n",
       "      <th>...</th>\n",
       "      <th>Sensor 13</th>\n",
       "      <th>Sensor 14</th>\n",
       "      <th>Sensor 15</th>\n",
       "      <th>Sensor 16</th>\n",
       "      <th>Sensor 17</th>\n",
       "      <th>Sensor 18</th>\n",
       "      <th>Sensor 19</th>\n",
       "      <th>Sensor 20</th>\n",
       "      <th>Sensor 21</th>\n",
       "      <th>Remaining RUL</th>\n",
       "    </tr>\n",
       "  </thead>\n",
       "  <tbody>\n",
       "    <tr>\n",
       "      <th>0</th>\n",
       "      <td>1</td>\n",
       "      <td>1</td>\n",
       "      <td>-0.0017</td>\n",
       "      <td>-0.0004</td>\n",
       "      <td>100.0</td>\n",
       "      <td>518.67</td>\n",
       "      <td>641.94</td>\n",
       "      <td>1581.93</td>\n",
       "      <td>1396.93</td>\n",
       "      <td>14.62</td>\n",
       "      <td>...</td>\n",
       "      <td>2387.94</td>\n",
       "      <td>8133.48</td>\n",
       "      <td>8.3760</td>\n",
       "      <td>0.03</td>\n",
       "      <td>391</td>\n",
       "      <td>2388</td>\n",
       "      <td>100.0</td>\n",
       "      <td>39.07</td>\n",
       "      <td>23.4468</td>\n",
       "      <td>276</td>\n",
       "    </tr>\n",
       "    <tr>\n",
       "      <th>1</th>\n",
       "      <td>1</td>\n",
       "      <td>2</td>\n",
       "      <td>0.0006</td>\n",
       "      <td>-0.0002</td>\n",
       "      <td>100.0</td>\n",
       "      <td>518.67</td>\n",
       "      <td>642.02</td>\n",
       "      <td>1584.86</td>\n",
       "      <td>1398.90</td>\n",
       "      <td>14.62</td>\n",
       "      <td>...</td>\n",
       "      <td>2388.01</td>\n",
       "      <td>8137.44</td>\n",
       "      <td>8.4062</td>\n",
       "      <td>0.03</td>\n",
       "      <td>391</td>\n",
       "      <td>2388</td>\n",
       "      <td>100.0</td>\n",
       "      <td>39.04</td>\n",
       "      <td>23.4807</td>\n",
       "      <td>275</td>\n",
       "    </tr>\n",
       "    <tr>\n",
       "      <th>2</th>\n",
       "      <td>1</td>\n",
       "      <td>3</td>\n",
       "      <td>0.0014</td>\n",
       "      <td>-0.0003</td>\n",
       "      <td>100.0</td>\n",
       "      <td>518.67</td>\n",
       "      <td>641.68</td>\n",
       "      <td>1581.78</td>\n",
       "      <td>1391.92</td>\n",
       "      <td>14.62</td>\n",
       "      <td>...</td>\n",
       "      <td>2387.94</td>\n",
       "      <td>8138.25</td>\n",
       "      <td>8.3553</td>\n",
       "      <td>0.03</td>\n",
       "      <td>391</td>\n",
       "      <td>2388</td>\n",
       "      <td>100.0</td>\n",
       "      <td>39.10</td>\n",
       "      <td>23.4244</td>\n",
       "      <td>274</td>\n",
       "    </tr>\n",
       "    <tr>\n",
       "      <th>3</th>\n",
       "      <td>1</td>\n",
       "      <td>4</td>\n",
       "      <td>0.0027</td>\n",
       "      <td>0.0001</td>\n",
       "      <td>100.0</td>\n",
       "      <td>518.67</td>\n",
       "      <td>642.20</td>\n",
       "      <td>1584.53</td>\n",
       "      <td>1395.34</td>\n",
       "      <td>14.62</td>\n",
       "      <td>...</td>\n",
       "      <td>2387.96</td>\n",
       "      <td>8137.07</td>\n",
       "      <td>8.3709</td>\n",
       "      <td>0.03</td>\n",
       "      <td>392</td>\n",
       "      <td>2388</td>\n",
       "      <td>100.0</td>\n",
       "      <td>38.97</td>\n",
       "      <td>23.4782</td>\n",
       "      <td>273</td>\n",
       "    </tr>\n",
       "    <tr>\n",
       "      <th>4</th>\n",
       "      <td>1</td>\n",
       "      <td>5</td>\n",
       "      <td>-0.0001</td>\n",
       "      <td>0.0001</td>\n",
       "      <td>100.0</td>\n",
       "      <td>518.67</td>\n",
       "      <td>642.46</td>\n",
       "      <td>1589.03</td>\n",
       "      <td>1395.86</td>\n",
       "      <td>14.62</td>\n",
       "      <td>...</td>\n",
       "      <td>2387.97</td>\n",
       "      <td>8134.20</td>\n",
       "      <td>8.4146</td>\n",
       "      <td>0.03</td>\n",
       "      <td>391</td>\n",
       "      <td>2388</td>\n",
       "      <td>100.0</td>\n",
       "      <td>39.09</td>\n",
       "      <td>23.3950</td>\n",
       "      <td>272</td>\n",
       "    </tr>\n",
       "  </tbody>\n",
       "</table>\n",
       "<p>5 rows × 27 columns</p>\n",
       "</div>"
      ],
      "text/plain": [
       "   ID Engine  Cycle  Setting 1  Setting 2  Setting 3  Sensor 1  Sensor 2  \\\n",
       "0          1      1    -0.0017    -0.0004      100.0    518.67    641.94   \n",
       "1          1      2     0.0006    -0.0002      100.0    518.67    642.02   \n",
       "2          1      3     0.0014    -0.0003      100.0    518.67    641.68   \n",
       "3          1      4     0.0027     0.0001      100.0    518.67    642.20   \n",
       "4          1      5    -0.0001     0.0001      100.0    518.67    642.46   \n",
       "\n",
       "   Sensor 3  Sensor 4  Sensor 5  ...  Sensor 13  Sensor 14  Sensor 15  \\\n",
       "0   1581.93   1396.93     14.62  ...    2387.94    8133.48     8.3760   \n",
       "1   1584.86   1398.90     14.62  ...    2388.01    8137.44     8.4062   \n",
       "2   1581.78   1391.92     14.62  ...    2387.94    8138.25     8.3553   \n",
       "3   1584.53   1395.34     14.62  ...    2387.96    8137.07     8.3709   \n",
       "4   1589.03   1395.86     14.62  ...    2387.97    8134.20     8.4146   \n",
       "\n",
       "   Sensor 16  Sensor 17  Sensor 18  Sensor 19  Sensor 20  Sensor 21  \\\n",
       "0       0.03        391       2388      100.0      39.07    23.4468   \n",
       "1       0.03        391       2388      100.0      39.04    23.4807   \n",
       "2       0.03        391       2388      100.0      39.10    23.4244   \n",
       "3       0.03        392       2388      100.0      38.97    23.4782   \n",
       "4       0.03        391       2388      100.0      39.09    23.3950   \n",
       "\n",
       "   Remaining RUL  \n",
       "0            276  \n",
       "1            275  \n",
       "2            274  \n",
       "3            273  \n",
       "4            272  \n",
       "\n",
       "[5 rows x 27 columns]"
      ]
     },
     "execution_count": 14,
     "metadata": {},
     "output_type": "execute_result"
    }
   ],
   "source": [
    "test.head()"
   ]
  },
  {
   "cell_type": "code",
   "execution_count": 15,
   "metadata": {},
   "outputs": [
    {
     "data": {
      "text/plain": [
       "np.int64(38)"
      ]
     },
     "execution_count": 15,
     "metadata": {},
     "output_type": "execute_result"
    }
   ],
   "source": [
    "# Trong tập test, động cơ có số lượng vòng đời được chạy ít nhất là ID Engine = 1 với số vòng đời trong tập test là 31 dòng\n",
    "test.groupby('ID Engine').count().min()[0]"
   ]
  },
  {
   "cell_type": "markdown",
   "metadata": {},
   "source": [
    "## Standard data (train and test)"
   ]
  },
  {
   "cell_type": "code",
   "execution_count": 16,
   "metadata": {},
   "outputs": [],
   "source": [
    "# Bỏ đi các cột setting sẽ không chuẩn hóa\n",
    "scaled_columns = train.columns[5:]\n",
    "scaler = MinMaxScaler()\n",
    "train[scaled_columns] = scaler.fit_transform(train[scaled_columns])\n",
    "# test[scaled_columns] = scaler.fit_transform(test[scaled_columns])"
   ]
  },
  {
   "cell_type": "code",
   "execution_count": 17,
   "metadata": {},
   "outputs": [
    {
     "data": {
      "text/html": [
       "<div>\n",
       "<style scoped>\n",
       "    .dataframe tbody tr th:only-of-type {\n",
       "        vertical-align: middle;\n",
       "    }\n",
       "\n",
       "    .dataframe tbody tr th {\n",
       "        vertical-align: top;\n",
       "    }\n",
       "\n",
       "    .dataframe thead th {\n",
       "        text-align: right;\n",
       "    }\n",
       "</style>\n",
       "<table border=\"1\" class=\"dataframe\">\n",
       "  <thead>\n",
       "    <tr style=\"text-align: right;\">\n",
       "      <th></th>\n",
       "      <th>ID Engine</th>\n",
       "      <th>Cycle</th>\n",
       "      <th>Setting 1</th>\n",
       "      <th>Setting 2</th>\n",
       "      <th>Setting 3</th>\n",
       "      <th>Sensor 1</th>\n",
       "      <th>Sensor 2</th>\n",
       "      <th>Sensor 3</th>\n",
       "      <th>Sensor 4</th>\n",
       "      <th>Sensor 5</th>\n",
       "      <th>...</th>\n",
       "      <th>Sensor 13</th>\n",
       "      <th>Sensor 14</th>\n",
       "      <th>Sensor 15</th>\n",
       "      <th>Sensor 16</th>\n",
       "      <th>Sensor 17</th>\n",
       "      <th>Sensor 18</th>\n",
       "      <th>Sensor 19</th>\n",
       "      <th>Sensor 20</th>\n",
       "      <th>Sensor 21</th>\n",
       "      <th>Remaining RUL</th>\n",
       "    </tr>\n",
       "  </thead>\n",
       "  <tbody>\n",
       "    <tr>\n",
       "      <th>0</th>\n",
       "      <td>1</td>\n",
       "      <td>1</td>\n",
       "      <td>-0.0005</td>\n",
       "      <td>0.0004</td>\n",
       "      <td>100.0</td>\n",
       "      <td>0.0</td>\n",
       "      <td>0.355972</td>\n",
       "      <td>0.370523</td>\n",
       "      <td>0.308580</td>\n",
       "      <td>0.0</td>\n",
       "      <td>...</td>\n",
       "      <td>0.642857</td>\n",
       "      <td>0.239116</td>\n",
       "      <td>0.647755</td>\n",
       "      <td>0.0</td>\n",
       "      <td>0.272727</td>\n",
       "      <td>0.0</td>\n",
       "      <td>0.0</td>\n",
       "      <td>0.559524</td>\n",
       "      <td>0.446331</td>\n",
       "      <td>0.492366</td>\n",
       "    </tr>\n",
       "    <tr>\n",
       "      <th>1</th>\n",
       "      <td>1</td>\n",
       "      <td>2</td>\n",
       "      <td>0.0008</td>\n",
       "      <td>-0.0003</td>\n",
       "      <td>100.0</td>\n",
       "      <td>0.0</td>\n",
       "      <td>0.388759</td>\n",
       "      <td>0.399100</td>\n",
       "      <td>0.309360</td>\n",
       "      <td>0.0</td>\n",
       "      <td>...</td>\n",
       "      <td>0.654762</td>\n",
       "      <td>0.278567</td>\n",
       "      <td>0.685659</td>\n",
       "      <td>0.0</td>\n",
       "      <td>0.363636</td>\n",
       "      <td>0.0</td>\n",
       "      <td>0.0</td>\n",
       "      <td>0.488095</td>\n",
       "      <td>0.534836</td>\n",
       "      <td>0.490458</td>\n",
       "    </tr>\n",
       "    <tr>\n",
       "      <th>2</th>\n",
       "      <td>1</td>\n",
       "      <td>3</td>\n",
       "      <td>-0.0014</td>\n",
       "      <td>-0.0002</td>\n",
       "      <td>100.0</td>\n",
       "      <td>0.0</td>\n",
       "      <td>0.313817</td>\n",
       "      <td>0.353298</td>\n",
       "      <td>0.445398</td>\n",
       "      <td>0.0</td>\n",
       "      <td>...</td>\n",
       "      <td>0.636905</td>\n",
       "      <td>0.264526</td>\n",
       "      <td>0.564462</td>\n",
       "      <td>0.0</td>\n",
       "      <td>0.272727</td>\n",
       "      <td>0.0</td>\n",
       "      <td>0.0</td>\n",
       "      <td>0.404762</td>\n",
       "      <td>0.458577</td>\n",
       "      <td>0.488550</td>\n",
       "    </tr>\n",
       "    <tr>\n",
       "      <th>3</th>\n",
       "      <td>1</td>\n",
       "      <td>4</td>\n",
       "      <td>-0.0020</td>\n",
       "      <td>0.0001</td>\n",
       "      <td>100.0</td>\n",
       "      <td>0.0</td>\n",
       "      <td>0.487119</td>\n",
       "      <td>0.417107</td>\n",
       "      <td>0.237285</td>\n",
       "      <td>0.0</td>\n",
       "      <td>...</td>\n",
       "      <td>0.684524</td>\n",
       "      <td>0.245612</td>\n",
       "      <td>0.558909</td>\n",
       "      <td>0.0</td>\n",
       "      <td>0.363636</td>\n",
       "      <td>0.0</td>\n",
       "      <td>0.0</td>\n",
       "      <td>0.470238</td>\n",
       "      <td>0.391966</td>\n",
       "      <td>0.486641</td>\n",
       "    </tr>\n",
       "    <tr>\n",
       "      <th>4</th>\n",
       "      <td>1</td>\n",
       "      <td>5</td>\n",
       "      <td>0.0016</td>\n",
       "      <td>0.0000</td>\n",
       "      <td>100.0</td>\n",
       "      <td>0.0</td>\n",
       "      <td>0.196721</td>\n",
       "      <td>0.476218</td>\n",
       "      <td>0.321217</td>\n",
       "      <td>0.0</td>\n",
       "      <td>...</td>\n",
       "      <td>0.654762</td>\n",
       "      <td>0.252109</td>\n",
       "      <td>0.556736</td>\n",
       "      <td>0.0</td>\n",
       "      <td>0.363636</td>\n",
       "      <td>0.0</td>\n",
       "      <td>0.0</td>\n",
       "      <td>0.577381</td>\n",
       "      <td>0.543371</td>\n",
       "      <td>0.484733</td>\n",
       "    </tr>\n",
       "  </tbody>\n",
       "</table>\n",
       "<p>5 rows × 27 columns</p>\n",
       "</div>"
      ],
      "text/plain": [
       "   ID Engine  Cycle  Setting 1  Setting 2  Setting 3  Sensor 1  Sensor 2  \\\n",
       "0          1      1    -0.0005     0.0004      100.0       0.0  0.355972   \n",
       "1          1      2     0.0008    -0.0003      100.0       0.0  0.388759   \n",
       "2          1      3    -0.0014    -0.0002      100.0       0.0  0.313817   \n",
       "3          1      4    -0.0020     0.0001      100.0       0.0  0.487119   \n",
       "4          1      5     0.0016     0.0000      100.0       0.0  0.196721   \n",
       "\n",
       "   Sensor 3  Sensor 4  Sensor 5  ...  Sensor 13  Sensor 14  Sensor 15  \\\n",
       "0  0.370523  0.308580       0.0  ...   0.642857   0.239116   0.647755   \n",
       "1  0.399100  0.309360       0.0  ...   0.654762   0.278567   0.685659   \n",
       "2  0.353298  0.445398       0.0  ...   0.636905   0.264526   0.564462   \n",
       "3  0.417107  0.237285       0.0  ...   0.684524   0.245612   0.558909   \n",
       "4  0.476218  0.321217       0.0  ...   0.654762   0.252109   0.556736   \n",
       "\n",
       "   Sensor 16  Sensor 17  Sensor 18  Sensor 19  Sensor 20  Sensor 21  \\\n",
       "0        0.0   0.272727        0.0        0.0   0.559524   0.446331   \n",
       "1        0.0   0.363636        0.0        0.0   0.488095   0.534836   \n",
       "2        0.0   0.272727        0.0        0.0   0.404762   0.458577   \n",
       "3        0.0   0.363636        0.0        0.0   0.470238   0.391966   \n",
       "4        0.0   0.363636        0.0        0.0   0.577381   0.543371   \n",
       "\n",
       "   Remaining RUL  \n",
       "0       0.492366  \n",
       "1       0.490458  \n",
       "2       0.488550  \n",
       "3       0.486641  \n",
       "4       0.484733  \n",
       "\n",
       "[5 rows x 27 columns]"
      ]
     },
     "execution_count": 17,
     "metadata": {},
     "output_type": "execute_result"
    }
   ],
   "source": [
    "train.head()"
   ]
  },
  {
   "cell_type": "code",
   "execution_count": 18,
   "metadata": {},
   "outputs": [],
   "source": [
    "# test.head()"
   ]
  },
  {
   "cell_type": "markdown",
   "metadata": {},
   "source": [
    "## Load data"
   ]
  },
  {
   "cell_type": "code",
   "execution_count": 19,
   "metadata": {},
   "outputs": [],
   "source": [
    "sequence_length = 30\n",
    "batch_size = 64\n",
    "epochs = 50\n",
    "input_dim = 21 # Frome sensor 1 to sensor 21"
   ]
  },
  {
   "cell_type": "code",
   "execution_count": 20,
   "metadata": {},
   "outputs": [],
   "source": [
    "data_train = CMAPSSLoaderDataset(train, sequence_length=sequence_length)\n",
    "# data_test = CMAPSSLoaderDataset(test, sequence_length=sequence_length)\n",
    "\n",
    "train_data, validation_data = train_test_split(data_train, test_size=0.2, random_state=42)\n",
    "\n",
    "train_loader = DataLoader(data_train, batch_size=batch_size, shuffle=True)\n",
    "validation_loader = DataLoader(validation_data, batch_size=batch_size, shuffle=True)\n",
    "# validation_loader = DataLoader(data_test, batch_size=batch_size, shuffle=True)"
   ]
  },
  {
   "cell_type": "code",
   "execution_count": 21,
   "metadata": {},
   "outputs": [
    {
     "data": {
      "text/plain": [
       "21820"
      ]
     },
     "execution_count": 21,
     "metadata": {},
     "output_type": "execute_result"
    }
   ],
   "source": [
    "data_train.__len__()"
   ]
  },
  {
   "cell_type": "code",
   "execution_count": 22,
   "metadata": {},
   "outputs": [
    {
     "data": {
      "text/plain": [
       "17456"
      ]
     },
     "execution_count": 22,
     "metadata": {},
     "output_type": "execute_result"
    }
   ],
   "source": [
    "train_data.__len__()"
   ]
  },
  {
   "cell_type": "code",
   "execution_count": 23,
   "metadata": {},
   "outputs": [
    {
     "data": {
      "text/plain": [
       "4364"
      ]
     },
     "execution_count": 23,
     "metadata": {},
     "output_type": "execute_result"
    }
   ],
   "source": [
    "validation_data.__len__()"
   ]
  },
  {
   "cell_type": "code",
   "execution_count": 24,
   "metadata": {},
   "outputs": [
    {
     "data": {
      "text/plain": [
       "341"
      ]
     },
     "execution_count": 24,
     "metadata": {},
     "output_type": "execute_result"
    }
   ],
   "source": [
    "train_loader.__len__()"
   ]
  },
  {
   "cell_type": "code",
   "execution_count": 25,
   "metadata": {},
   "outputs": [
    {
     "data": {
      "text/plain": [
       "69"
      ]
     },
     "execution_count": 25,
     "metadata": {},
     "output_type": "execute_result"
    }
   ],
   "source": [
    "validation_loader.__len__()"
   ]
  },
  {
   "cell_type": "code",
   "execution_count": 26,
   "metadata": {},
   "outputs": [],
   "source": [
    "batch = next(iter(train_loader))\n",
    "# print(batch)\n",
    "seq, target = batch\n",
    "\n",
    "# print(f'seq={seq}, shape={seq.shape}')\n",
    "# print(f'target={target}, shape={target.shape}')"
   ]
  },
  {
   "cell_type": "markdown",
   "metadata": {},
   "source": [
    "## Training model"
   ]
  },
  {
   "cell_type": "code",
   "execution_count": 27,
   "metadata": {},
   "outputs": [],
   "source": [
    "def train(model, train_loader, validation_loader, epochs=epochs, verbose=False):\n",
    "    device = torch.device(\"cuda\" if torch.cuda.is_available() else \"cpu\")\n",
    "\n",
    "    model = model.to(device)\n",
    "\n",
    "    criterion = nn.MSELoss()\n",
    "    optimizer = torch.optim.Adam(model.parameters(), lr=1e-4)\n",
    "\n",
    "    for epoch in range(epochs):\n",
    "        # Train\n",
    "        model.train()\n",
    "        train_loss = 0\n",
    "        for batch in train_loader:\n",
    "            seq, target = batch\n",
    "            seq, target = seq.to(device), target.to(device)\n",
    "\n",
    "            optimizer.zero_grad() # Reset gradient.\n",
    "            output = model(seq) # Tính dự đoán từ mô hình.\n",
    "            loss = criterion(output, target) # Tính giá trị mất mát giữa dự đoán và nhãn thật.\n",
    "            loss.backward() # Tính gradient của mất mát.\n",
    "            optimizer.step() # Cập nhật tham số mô hình dựa trên gradient.\n",
    "            train_loss += loss.item() # Ghi nhận giá trị mất mát\n",
    "        \n",
    "        # Evaluate\n",
    "        val_loss = 0\n",
    "        model.eval()\n",
    "        with torch.no_grad():\n",
    "            for batch in validation_loader:\n",
    "                seq, target = batch\n",
    "                seq, target = seq.to(device), target.to(device)\n",
    "                output = model(seq)\n",
    "                loss = criterion(output, target)\n",
    "                val_loss += loss.item()\n",
    "        \n",
    "        print(f\"Epoch {epoch + 1}: Train Loss = {train_loss / len(train_loader)}, Val Loss = {val_loss / len(validation_loader)}\")"
   ]
  },
  {
   "cell_type": "code",
   "execution_count": 28,
   "metadata": {},
   "outputs": [
    {
     "name": "stdout",
     "output_type": "stream",
     "text": [
      "Epoch 1: Train Loss = 0.03269418547765688, Val Loss = 0.012582935467092455\n",
      "Epoch 2: Train Loss = 0.016391627329382555, Val Loss = 0.011681790645841671\n",
      "Epoch 3: Train Loss = 0.014333315798603108, Val Loss = 0.01239561162673045\n",
      "Epoch 4: Train Loss = 0.013563763638384792, Val Loss = 0.011270769514089478\n",
      "Epoch 5: Train Loss = 0.012856104439861876, Val Loss = 0.011639626494244389\n",
      "Epoch 6: Train Loss = 0.012589806626630057, Val Loss = 0.010816130328221598\n",
      "Epoch 7: Train Loss = 0.012224510064911195, Val Loss = 0.010949257207845432\n",
      "Epoch 8: Train Loss = 0.01205389226221444, Val Loss = 0.010686915111390577\n",
      "Epoch 9: Train Loss = 0.011582518736572385, Val Loss = 0.01087919738062698\n",
      "Epoch 10: Train Loss = 0.011320568856037607, Val Loss = 0.010016963000584772\n",
      "Epoch 11: Train Loss = 0.010804787473452667, Val Loss = 0.010117388910789421\n",
      "Epoch 12: Train Loss = 0.010393949463155088, Val Loss = 0.009470618856341942\n",
      "Epoch 13: Train Loss = 0.009768816403487474, Val Loss = 0.009460820263062698\n",
      "Epoch 14: Train Loss = 0.009288446004079147, Val Loss = 0.008451825389098645\n",
      "Epoch 15: Train Loss = 0.00895540689560653, Val Loss = 0.008131084767966599\n",
      "Epoch 16: Train Loss = 0.008555651363804718, Val Loss = 0.007758882598600526\n",
      "Epoch 17: Train Loss = 0.00838896422851776, Val Loss = 0.008262366663826548\n",
      "Epoch 18: Train Loss = 0.008267141457324809, Val Loss = 0.007912966375495645\n",
      "Epoch 19: Train Loss = 0.008065485019957828, Val Loss = 0.008108418313381464\n",
      "Epoch 20: Train Loss = 0.007845918623364565, Val Loss = 0.007590642809678895\n",
      "Epoch 21: Train Loss = 0.007596115995460679, Val Loss = 0.008108068736728983\n",
      "Epoch 22: Train Loss = 0.007492603019256789, Val Loss = 0.00834907240409782\n",
      "Epoch 23: Train Loss = 0.00742235766994136, Val Loss = 0.007197015017837934\n",
      "Epoch 24: Train Loss = 0.007155608257437207, Val Loss = 0.006394194631391893\n",
      "Epoch 25: Train Loss = 0.006965764590656478, Val Loss = 0.0063866236064907\n",
      "Epoch 26: Train Loss = 0.006919074817246531, Val Loss = 0.0065679223803074465\n",
      "Epoch 27: Train Loss = 0.006663309565890045, Val Loss = 0.006286042469108234\n",
      "Epoch 28: Train Loss = 0.006412488806110607, Val Loss = 0.0058827568183018675\n",
      "Epoch 29: Train Loss = 0.006216705099425532, Val Loss = 0.0053576515798551445\n",
      "Epoch 30: Train Loss = 0.0060401108707205725, Val Loss = 0.004991648610735285\n",
      "Epoch 31: Train Loss = 0.005736612234144441, Val Loss = 0.004927199131444744\n",
      "Epoch 32: Train Loss = 0.005762989782998639, Val Loss = 0.004697096743283497\n",
      "Epoch 33: Train Loss = 0.00551111124902472, Val Loss = 0.005325804628175346\n",
      "Epoch 34: Train Loss = 0.005370513316861127, Val Loss = 0.006442443471050997\n",
      "Epoch 35: Train Loss = 0.005123321972022658, Val Loss = 0.005882342727314951\n",
      "Epoch 36: Train Loss = 0.005138973639240144, Val Loss = 0.005221987649312486\n",
      "Epoch 37: Train Loss = 0.005019384758243791, Val Loss = 0.003966268254916413\n",
      "Epoch 38: Train Loss = 0.004799805470616652, Val Loss = 0.0050369950342059565\n",
      "Epoch 39: Train Loss = 0.004711737619341512, Val Loss = 0.004190532439995719\n",
      "Epoch 40: Train Loss = 0.004464280794311828, Val Loss = 0.0035871149570532684\n",
      "Epoch 41: Train Loss = 0.004475916274263363, Val Loss = 0.005556096579285635\n",
      "Epoch 42: Train Loss = 0.0042517600216441225, Val Loss = 0.003833069648269726\n",
      "Epoch 43: Train Loss = 0.004148811573037042, Val Loss = 0.0030450964383645983\n",
      "Epoch 44: Train Loss = 0.003965370803579819, Val Loss = 0.0032559791579842567\n",
      "Epoch 45: Train Loss = 0.0039086297821510265, Val Loss = 0.0031611351532510657\n",
      "Epoch 46: Train Loss = 0.003765396292449748, Val Loss = 0.003136874490377048\n",
      "Epoch 47: Train Loss = 0.003639374369048019, Val Loss = 0.0026048715749377575\n",
      "Epoch 48: Train Loss = 0.0034273916543420416, Val Loss = 0.0030563761719731965\n",
      "Epoch 49: Train Loss = 0.0034518231224006483, Val Loss = 0.0028624363257077293\n",
      "Epoch 50: Train Loss = 0.0033479541802336394, Val Loss = 0.002642389940286892\n"
     ]
    }
   ],
   "source": [
    "model = TransformerModel(input_dim=input_dim, d_model=64, nhead=4, num_layers=2, dim_feedforward=256, dropout=0.1)\n",
    "train(model=model, train_loader=train_loader, validation_loader=validation_loader, epochs=epochs)"
   ]
  },
  {
   "cell_type": "markdown",
   "metadata": {},
   "source": [
    "## Evaluate model"
   ]
  },
  {
   "cell_type": "code",
   "execution_count": null,
   "metadata": {},
   "outputs": [],
   "source": []
  },
  {
   "cell_type": "markdown",
   "metadata": {},
   "source": [
    "## Predict on a batch"
   ]
  },
  {
   "cell_type": "code",
   "execution_count": 29,
   "metadata": {},
   "outputs": [
    {
     "data": {
      "text/plain": [
       "69"
      ]
     },
     "execution_count": 29,
     "metadata": {},
     "output_type": "execute_result"
    }
   ],
   "source": [
    "len(validation_loader)"
   ]
  },
  {
   "cell_type": "code",
   "execution_count": 30,
   "metadata": {},
   "outputs": [
    {
     "name": "stdout",
     "output_type": "stream",
     "text": [
      "actual_predictions: [ 29.02449292 253.98318744  54.89786229  13.41388139 174.12229919\n",
      " 133.67857468 126.60507178 219.06325507 131.93325269 246.61636138\n",
      "  42.60066792 136.42592406  27.53096223  -0.58632569  82.60091352\n",
      " 306.76474023  36.16572812   1.97767914 286.75639343 102.26858819\n",
      " 130.61680436 170.9888339  202.50855696  40.56844893 125.37730908\n",
      "  15.74668518  52.84384277  16.32773301  96.46406752   8.55396655\n",
      " 118.46116501 185.10009372 183.00401139 198.88140988 162.17652106\n",
      "  18.65915865 182.81294453 214.94501853 122.97966594 174.58257747\n",
      " 156.82433772 349.20150995 123.52039999 114.26162159 153.23591936\n",
      "  25.4212741   39.36440367 267.0590632   11.43108836 122.44182873\n",
      "  38.12505358  12.66930234 153.24903715 225.75585794 397.11402011\n",
      " 130.25572157  50.82557705 194.95928431 419.35563946 188.69022989\n",
      " 362.90182376 264.46976757 200.12541366  95.49136776]\n",
      "actual_targets: [ 19.99999982 268.99999642  52.00000188  11.0000001  158.00000405\n",
      " 113.0000025  111.99999744 157.00000679  76.00000244 265.99998903\n",
      "  37.00000006  96.00000226  34.00000048   2.00000001  79.00000203\n",
      " 319.99999714  29.00000052   2.00000001 232.00000417 105.99999827\n",
      " 116.99999934 131.99999726 188.99999714  35.9999989  110.00000292\n",
      "  19.00000061  48.00000113  17.00000024  74.99999738   6.99999984\n",
      "  96.00000226 148.00000024 160.99999583 177.99999607 132.99999452\n",
      "  17.00000024  96.99999952 177.99999607  96.99999952 193.99999905\n",
      " 159.99999857 336.99999738 105.00000101  96.00000226 183.99999523\n",
      "  19.00000061  49.99999955 244.0000025    8.99999972  96.99999952\n",
      "  31.00000089  16.00000005 138.99999368 231.00000691 391.00000548\n",
      "  82.99999887  48.00000113 148.9999975  365.99999595 211.99999654\n",
      " 299.99998951 265.00000739 172.99999416  65.99999863]\n"
     ]
    },
    {
     "data": {
      "image/png": "[encoded data removed]",
      "text/plain": [
       "<Figure size 1000x600 with 1 Axes>"
      ]
     },
     "metadata": {},
     "output_type": "display_data"
    }
   ],
   "source": [
    "samples, targets = next(iter(validation_loader))\n",
    "device = torch.device(\"cuda\" if torch.cuda.is_available() else \"cpu\")\n",
    "samples, targets = samples.to(device), targets.to(device)\n",
    "\n",
    "model.eval()\n",
    "with torch.no_grad():\n",
    "    predictions = model(samples)\n",
    "\n",
    "# Đưa kết quả về CPU để xử lý\n",
    "samples = samples.cpu()\n",
    "targets = targets.cpu()\n",
    "predictions = predictions.cpu()\n",
    "\n",
    "# Đảo chuẩn hóa dữ liệu\n",
    "rul_min = scaler.data_min_[-1]\n",
    "rul_max = scaler.data_max_[-1]\n",
    "\n",
    "# Đưa predictions và targets về dạng thực tế\n",
    "actual_predictions = predictions.numpy() * (rul_max - rul_min) + rul_min\n",
    "actual_targets = targets.numpy() * (rul_max - rul_min) + rul_min\n",
    "\n",
    "print(f'actual_predictions: {actual_predictions}')\n",
    "print(f'actual_targets: {actual_targets}')\n",
    "\n",
    "# Vẽ biểu đồ so sánh dự đoán và giá trị thực tế\n",
    "plt.figure(figsize=(10, 6))\n",
    "plt.plot(range(len(actual_predictions)), actual_predictions, label=\"Predicted RUL\", marker='o', linestyle='-')\n",
    "plt.plot(range(len(actual_targets)), actual_targets, label=\"Actual RUL\", marker='x', linestyle='--')\n",
    "plt.title(\"Comparison of Predicted and Actual RUL\")\n",
    "plt.xlabel(\"Sample Index\")\n",
    "plt.ylabel(\"Remaining Useful Life (RUL)\")\n",
    "plt.legend()\n",
    "plt.grid(True)\n",
    "plt.show()"
   ]
  },
  {
   "cell_type": "markdown",
   "metadata": {},
   "source": [
    "## Predict on a sample"
   ]
  },
  {
   "cell_type": "code",
   "execution_count": 31,
   "metadata": {},
   "outputs": [
    {
     "data": {
      "text/plain": [
       "torch.Size([64, 30, 21])"
      ]
     },
     "execution_count": 31,
     "metadata": {},
     "output_type": "execute_result"
    }
   ],
   "source": [
    "samples.shape"
   ]
  },
  {
   "cell_type": "code",
   "execution_count": 32,
   "metadata": {},
   "outputs": [
    {
     "data": {
      "text/plain": [
       "tensor([0.0382, 0.5134, 0.0992, 0.0210, 0.3015, 0.2156, 0.2137, 0.2996, 0.1450,\n",
       "        0.5076, 0.0706, 0.1832, 0.0649, 0.0038, 0.1508, 0.6107, 0.0553, 0.0038,\n",
       "        0.4427, 0.2023, 0.2233, 0.2519, 0.3607, 0.0687, 0.2099, 0.0363, 0.0916,\n",
       "        0.0324, 0.1431, 0.0134, 0.1832, 0.2824, 0.3073, 0.3397, 0.2538, 0.0324,\n",
       "        0.1851, 0.3397, 0.1851, 0.3702, 0.3053, 0.6431, 0.2004, 0.1832, 0.3511,\n",
       "        0.0363, 0.0954, 0.4656, 0.0172, 0.1851, 0.0592, 0.0305, 0.2653, 0.4408,\n",
       "        0.7462, 0.1584, 0.0916, 0.2844, 0.6985, 0.4046, 0.5725, 0.5057, 0.3302,\n",
       "        0.1260])"
      ]
     },
     "execution_count": 32,
     "metadata": {},
     "output_type": "execute_result"
    }
   ],
   "source": [
    "targets"
   ]
  },
  {
   "cell_type": "code",
   "execution_count": 33,
   "metadata": {},
   "outputs": [
    {
     "data": {
      "text/plain": [
       "torch.Size([64])"
      ]
     },
     "execution_count": 33,
     "metadata": {},
     "output_type": "execute_result"
    }
   ],
   "source": [
    "targets.shape"
   ]
  },
  {
   "cell_type": "code",
   "execution_count": 34,
   "metadata": {},
   "outputs": [
    {
     "name": "stdout",
     "output_type": "stream",
     "text": [
      "torch.Size([1, 30, 21])\n",
      "tensor([0.0382])\n"
     ]
    }
   ],
   "source": [
    "idx = 0\n",
    "sample = samples[idx].unsqueeze(0)\n",
    "target = targets[idx].unsqueeze(0)\n",
    "\n",
    "print(sample.shape)\n",
    "print(target)"
   ]
  },
  {
   "cell_type": "code",
   "execution_count": 35,
   "metadata": {},
   "outputs": [
    {
     "name": "stdout",
     "output_type": "stream",
     "text": [
      "Prediction: tensor([0.0554])\n",
      "Target: tensor([0.0382])\n",
      "Giá trị RUL thực tế 65.99999862909317\n",
      "Giá trị RUL dự đoán 139.4404979258543\n"
     ]
    }
   ],
   "source": [
    "model.eval()\n",
    "with torch.no_grad():\n",
    "    prediction = model(sample)\n",
    "\n",
    "sample = sample.cpu()\n",
    "target = target.cpu()\n",
    "prediction = prediction.cpu()\n",
    "\n",
    "print(f'Prediction: {prediction}')\n",
    "print(f'Target: {target}')\n",
    "\n",
    "rul_min = scaler.data_min_[-1]\n",
    "rul_max = scaler.data_max_[-1]\n",
    "\n",
    "prediction = predictions.numpy() * (rul_max - rul_min) + rul_min\n",
    "actual_prediction = sum(prediction)/len(prediction)\n",
    "actual_target = targets.numpy() * (rul_max - rul_min) + rul_min\n",
    "\n",
    "# print(f'Giá trị RUL thực tế {actual_target}')\n",
    "print(f'Giá trị RUL thực tế {actual_target[-1]}')\n",
    "print(f'Giá trị RUL dự đoán {actual_prediction}')"
   ]
  },
  {
   "cell_type": "code",
   "execution_count": 36,
   "metadata": {},
   "outputs": [
    {
     "data": {
      "text/plain": [
       "array([ 29.02449292, 253.98318744,  54.89786229,  13.41388139,\n",
       "       174.12229919, 133.67857468, 126.60507178, 219.06325507,\n",
       "       131.93325269, 246.61636138,  42.60066792, 136.42592406,\n",
       "        27.53096223,  -0.58632569,  82.60091352, 306.76474023,\n",
       "        36.16572812,   1.97767914, 286.75639343, 102.26858819,\n",
       "       130.61680436, 170.9888339 , 202.50855696,  40.56844893,\n",
       "       125.37730908,  15.74668518,  52.84384277,  16.32773301,\n",
       "        96.46406752,   8.55396655, 118.46116501, 185.10009372,\n",
       "       183.00401139, 198.88140988, 162.17652106,  18.65915865,\n",
       "       182.81294453, 214.94501853, 122.97966594, 174.58257747,\n",
       "       156.82433772, 349.20150995, 123.52039999, 114.26162159,\n",
       "       153.23591936,  25.4212741 ,  39.36440367, 267.0590632 ,\n",
       "        11.43108836, 122.44182873,  38.12505358,  12.66930234,\n",
       "       153.24903715, 225.75585794, 397.11402011, 130.25572157,\n",
       "        50.82557705, 194.95928431, 419.35563946, 188.69022989,\n",
       "       362.90182376, 264.46976757, 200.12541366,  95.49136776])"
      ]
     },
     "execution_count": 36,
     "metadata": {},
     "output_type": "execute_result"
    }
   ],
   "source": [
    "prediction"
   ]
  },
  {
   "cell_type": "code",
   "execution_count": 37,
   "metadata": {},
   "outputs": [
    {
     "data": {
      "text/plain": [
       "tensor([0.0382])"
      ]
     },
     "execution_count": 37,
     "metadata": {},
     "output_type": "execute_result"
    }
   ],
   "source": [
    "target"
   ]
  }
 ],
 "metadata": {
  "kernelspec": {
   "display_name": ".venv",
   "language": "python",
   "name": "python3"
  },
  "language_info": {
   "codemirror_mode": {
    "name": "ipython",
    "version": 3
   },
   "file_extension": ".py",
   "mimetype": "text/x-python",
   "name": "python",
   "nbconvert_exporter": "python",
   "pygments_lexer": "ipython3",
   "version": "3.12.7"
  }
 },
 "nbformat": 4,
 "nbformat_minor": 2
}
