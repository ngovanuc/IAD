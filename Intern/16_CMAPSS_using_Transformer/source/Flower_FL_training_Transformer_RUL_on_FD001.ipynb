{
 "cells": [
  {
   "cell_type": "markdown",
   "metadata": {
    "id": "myeLqXC4KTGJ"
   },
   "source": [
    "## Step 0: Preparation"
   ]
  },
  {
   "cell_type": "code",
   "execution_count": 26,
   "metadata": {
    "executionInfo": {
     "elapsed": 3586,
     "status": "ok",
     "timestamp": 1733061553732,
     "user": {
      "displayName": "ÚC NGÔ VĂN",
      "userId": "17995020128839883394"
     },
     "user_tz": -420
    },
    "id": "Pasc7Wqbc7u0"
   },
   "outputs": [
    {
     "name": "stdout",
     "output_type": "stream",
     "text": [
      "Note: you may need to restart the kernel to use updated packages.\n"
     ]
    }
   ],
   "source": [
    "%pip install -q fsspec==2024.9.0"
   ]
  },
  {
   "cell_type": "code",
   "execution_count": 27,
   "metadata": {
    "executionInfo": {
     "elapsed": 4705,
     "status": "ok",
     "timestamp": 1733061558434,
     "user": {
      "displayName": "ÚC NGÔ VĂN",
      "userId": "17995020128839883394"
     },
     "user_tz": -420
    },
    "id": "fhGO7YWrK4AJ"
   },
   "outputs": [],
   "source": [
    "!pip install -q flwr[simulation] flwr-datasets[vision] torch torchvision matplotlib"
   ]
  },
  {
   "cell_type": "code",
   "execution_count": 28,
   "metadata": {
    "executionInfo": {
     "elapsed": 3,
     "status": "ok",
     "timestamp": 1733061558435,
     "user": {
      "displayName": "ÚC NGÔ VĂN",
      "userId": "17995020128839883394"
     },
     "user_tz": -420
    },
    "id": "SJJgyLtkG1Lp"
   },
   "outputs": [],
   "source": [
    "import os\n",
    "os.environ[\"RAY_DEDUP_LOGS\"] = \"0\""
   ]
  },
  {
   "cell_type": "code",
   "execution_count": 29,
   "metadata": {
    "colab": {
     "base_uri": "https://localhost:8080/"
    },
    "executionInfo": {
     "elapsed": 24750,
     "status": "ok",
     "timestamp": 1733061583182,
     "user": {
      "displayName": "ÚC NGÔ VĂN",
      "userId": "17995020128839883394"
     },
     "user_tz": -420
    },
    "id": "V5IRPs6zKTGK",
    "outputId": "0607bc4c-9758-43d0-f739-8de24aa13a89"
   },
   "outputs": [
    {
     "name": "stdout",
     "output_type": "stream",
     "text": [
      "Training on cpu\n",
      "Flower 1.13.1 / PyTorch 2.5.1+cpu\n"
     ]
    }
   ],
   "source": [
    "from collections import OrderedDict\n",
    "from typing import List, Tuple\n",
    "\n",
    "import matplotlib.pyplot as plt\n",
    "import numpy as np\n",
    "import pandas as pd\n",
    "import torch\n",
    "import torch.nn as nn\n",
    "from torch.utils.data import random_split\n",
    "import torch.nn.functional as F\n",
    "import torchvision.transforms as transforms\n",
    "from datasets.utils.logging import disable_progress_bar\n",
    "from torch.utils.data import DataLoader\n",
    "\n",
    "from torch.utils.data import DataLoader, Dataset\n",
    "from sklearn.preprocessing import MinMaxScaler\n",
    "from sklearn.model_selection import train_test_split\n",
    "\n",
    "import warnings\n",
    "warnings.filterwarnings('ignore')\n",
    "\n",
    "import seaborn as sns\n",
    "\n",
    "import flwr\n",
    "from flwr.client import Client, ClientApp, NumPyClient\n",
    "from flwr.common import Metrics, Context\n",
    "from flwr.server import ServerApp, ServerConfig, ServerAppComponents\n",
    "from flwr.server.strategy import FedAvg\n",
    "from flwr.simulation import run_simulation\n",
    "# from flwr_datasets import FederatedDataset\n",
    "\n",
    "DEVICE = torch.device(\"cpu\")  # Try \"cuda\" to train on GPU\n",
    "print(f\"Training on {DEVICE}\")\n",
    "print(f\"Flower {flwr.__version__} / PyTorch {torch.__version__}\")\n",
    "disable_progress_bar()"
   ]
  },
  {
   "cell_type": "markdown",
   "metadata": {
    "id": "O8PgUpBjKTGN"
   },
   "source": [
    "#### Load dataset and preprocessing"
   ]
  },
  {
   "cell_type": "code",
   "execution_count": 30,
   "metadata": {
    "colab": {
     "base_uri": "https://localhost:8080/"
    },
    "executionInfo": {
     "elapsed": 2757,
     "status": "ok",
     "timestamp": 1733061585932,
     "user": {
      "displayName": "ÚC NGÔ VĂN",
      "userId": "17995020128839883394"
     },
     "user_tz": -420
    },
    "id": "kKnxJxEeKglh",
    "outputId": "7f5b9cad-5640-4839-82ae-690781980aa6"
   },
   "outputs": [],
   "source": [
    "# Khi chạy bằng colab\n",
    "try:\n",
    "    from google.colab import drive\n",
    "    drive.mount('/content/drive')\n",
    "except:\n",
    "    pass"
   ]
  },
  {
   "cell_type": "code",
   "execution_count": 31,
   "metadata": {
    "executionInfo": {
     "elapsed": 7,
     "status": "ok",
     "timestamp": 1733061585932,
     "user": {
      "displayName": "ÚC NGÔ VĂN",
      "userId": "17995020128839883394"
     },
     "user_tz": -420
    },
    "id": "27dPGPo2KTGN"
   },
   "outputs": [],
   "source": [
    "train_1 = \"E:/IAD/Intern/16_CMAPSS_using_Transformer/data/train_FD001.txt\"\n",
    "# train_1 = \"/content/drive/MyDrive/Colab Notebooks/RUL_prediction_using_Transformer/train_FD001.txt\"\n",
    "index_names = ['ID Engine', 'Cycle']\n",
    "setting_names = ['Setting 1', 'Setting 2', 'Setting 3']\n",
    "sensor_names = ['Sensor {}'.format(i) for i in range(1, 22)]\n",
    "column_names = index_names + setting_names + sensor_names\n",
    "\n",
    "train_1 = pd.read_csv(train_1, sep=' ', header=None)\n",
    "train_1.drop([26, 27], axis=1, inplace=True)\n",
    "train_1.columns = column_names\n",
    "\n",
    "train_1['Remaining RUL'] = ''"
   ]
  },
  {
   "cell_type": "code",
   "execution_count": 32,
   "metadata": {
    "colab": {
     "base_uri": "https://localhost:8080/"
    },
    "executionInfo": {
     "elapsed": 16005,
     "status": "ok",
     "timestamp": 1733061601931,
     "user": {
      "displayName": "ÚC NGÔ VĂN",
      "userId": "17995020128839883394"
     },
     "user_tz": -420
    },
    "id": "FBI0Hh09KTGN",
    "outputId": "0c0ac81a-58e4-4f21-f873-23becf931a6a"
   },
   "outputs": [],
   "source": [
    "# remaining_rul = max_rul - cycle\n",
    "max_cycle = train_1.groupby('ID Engine').count()\n",
    "for idx in range(len(train_1)):\n",
    "    train_1.loc[idx, 'Remaining RUL'] = max_cycle.loc[train_1.loc[idx, 'ID Engine'], 'Cycle']\n",
    "train_1['Remaining RUL'] = train_1['Remaining RUL'] - train_1['Cycle']"
   ]
  },
  {
   "cell_type": "code",
   "execution_count": 33,
   "metadata": {
    "colab": {
     "base_uri": "https://localhost:8080/",
     "height": 309
    },
    "executionInfo": {
     "elapsed": 19,
     "status": "ok",
     "timestamp": 1733061601933,
     "user": {
      "displayName": "ÚC NGÔ VĂN",
      "userId": "17995020128839883394"
     },
     "user_tz": -420
    },
    "id": "0681BloBKTGN",
    "outputId": "001c6b29-7b0b-4d62-81e2-6ef701c5d078"
   },
   "outputs": [
    {
     "data": {
      "text/html": [
       "<div>\n",
       "<style scoped>\n",
       "    .dataframe tbody tr th:only-of-type {\n",
       "        vertical-align: middle;\n",
       "    }\n",
       "\n",
       "    .dataframe tbody tr th {\n",
       "        vertical-align: top;\n",
       "    }\n",
       "\n",
       "    .dataframe thead th {\n",
       "        text-align: right;\n",
       "    }\n",
       "</style>\n",
       "<table border=\"1\" class=\"dataframe\">\n",
       "  <thead>\n",
       "    <tr style=\"text-align: right;\">\n",
       "      <th></th>\n",
       "      <th>ID Engine</th>\n",
       "      <th>Cycle</th>\n",
       "      <th>Setting 1</th>\n",
       "      <th>Setting 2</th>\n",
       "      <th>Setting 3</th>\n",
       "      <th>Sensor 1</th>\n",
       "      <th>Sensor 2</th>\n",
       "      <th>Sensor 3</th>\n",
       "      <th>Sensor 4</th>\n",
       "      <th>Sensor 5</th>\n",
       "      <th>...</th>\n",
       "      <th>Sensor 13</th>\n",
       "      <th>Sensor 14</th>\n",
       "      <th>Sensor 15</th>\n",
       "      <th>Sensor 16</th>\n",
       "      <th>Sensor 17</th>\n",
       "      <th>Sensor 18</th>\n",
       "      <th>Sensor 19</th>\n",
       "      <th>Sensor 20</th>\n",
       "      <th>Sensor 21</th>\n",
       "      <th>Remaining RUL</th>\n",
       "    </tr>\n",
       "  </thead>\n",
       "  <tbody>\n",
       "    <tr>\n",
       "      <th>0</th>\n",
       "      <td>1</td>\n",
       "      <td>1</td>\n",
       "      <td>-0.0007</td>\n",
       "      <td>-0.0004</td>\n",
       "      <td>100.0</td>\n",
       "      <td>518.67</td>\n",
       "      <td>641.82</td>\n",
       "      <td>1589.70</td>\n",
       "      <td>1400.60</td>\n",
       "      <td>14.62</td>\n",
       "      <td>...</td>\n",
       "      <td>2388.02</td>\n",
       "      <td>8138.62</td>\n",
       "      <td>8.4195</td>\n",
       "      <td>0.03</td>\n",
       "      <td>392</td>\n",
       "      <td>2388</td>\n",
       "      <td>100.0</td>\n",
       "      <td>39.06</td>\n",
       "      <td>23.4190</td>\n",
       "      <td>191</td>\n",
       "    </tr>\n",
       "    <tr>\n",
       "      <th>1</th>\n",
       "      <td>1</td>\n",
       "      <td>2</td>\n",
       "      <td>0.0019</td>\n",
       "      <td>-0.0003</td>\n",
       "      <td>100.0</td>\n",
       "      <td>518.67</td>\n",
       "      <td>642.15</td>\n",
       "      <td>1591.82</td>\n",
       "      <td>1403.14</td>\n",
       "      <td>14.62</td>\n",
       "      <td>...</td>\n",
       "      <td>2388.07</td>\n",
       "      <td>8131.49</td>\n",
       "      <td>8.4318</td>\n",
       "      <td>0.03</td>\n",
       "      <td>392</td>\n",
       "      <td>2388</td>\n",
       "      <td>100.0</td>\n",
       "      <td>39.00</td>\n",
       "      <td>23.4236</td>\n",
       "      <td>190</td>\n",
       "    </tr>\n",
       "    <tr>\n",
       "      <th>2</th>\n",
       "      <td>1</td>\n",
       "      <td>3</td>\n",
       "      <td>-0.0043</td>\n",
       "      <td>0.0003</td>\n",
       "      <td>100.0</td>\n",
       "      <td>518.67</td>\n",
       "      <td>642.35</td>\n",
       "      <td>1587.99</td>\n",
       "      <td>1404.20</td>\n",
       "      <td>14.62</td>\n",
       "      <td>...</td>\n",
       "      <td>2388.03</td>\n",
       "      <td>8133.23</td>\n",
       "      <td>8.4178</td>\n",
       "      <td>0.03</td>\n",
       "      <td>390</td>\n",
       "      <td>2388</td>\n",
       "      <td>100.0</td>\n",
       "      <td>38.95</td>\n",
       "      <td>23.3442</td>\n",
       "      <td>189</td>\n",
       "    </tr>\n",
       "    <tr>\n",
       "      <th>3</th>\n",
       "      <td>1</td>\n",
       "      <td>4</td>\n",
       "      <td>0.0007</td>\n",
       "      <td>0.0000</td>\n",
       "      <td>100.0</td>\n",
       "      <td>518.67</td>\n",
       "      <td>642.35</td>\n",
       "      <td>1582.79</td>\n",
       "      <td>1401.87</td>\n",
       "      <td>14.62</td>\n",
       "      <td>...</td>\n",
       "      <td>2388.08</td>\n",
       "      <td>8133.83</td>\n",
       "      <td>8.3682</td>\n",
       "      <td>0.03</td>\n",
       "      <td>392</td>\n",
       "      <td>2388</td>\n",
       "      <td>100.0</td>\n",
       "      <td>38.88</td>\n",
       "      <td>23.3739</td>\n",
       "      <td>188</td>\n",
       "    </tr>\n",
       "    <tr>\n",
       "      <th>4</th>\n",
       "      <td>1</td>\n",
       "      <td>5</td>\n",
       "      <td>-0.0019</td>\n",
       "      <td>-0.0002</td>\n",
       "      <td>100.0</td>\n",
       "      <td>518.67</td>\n",
       "      <td>642.37</td>\n",
       "      <td>1582.85</td>\n",
       "      <td>1406.22</td>\n",
       "      <td>14.62</td>\n",
       "      <td>...</td>\n",
       "      <td>2388.04</td>\n",
       "      <td>8133.80</td>\n",
       "      <td>8.4294</td>\n",
       "      <td>0.03</td>\n",
       "      <td>393</td>\n",
       "      <td>2388</td>\n",
       "      <td>100.0</td>\n",
       "      <td>38.90</td>\n",
       "      <td>23.4044</td>\n",
       "      <td>187</td>\n",
       "    </tr>\n",
       "  </tbody>\n",
       "</table>\n",
       "<p>5 rows × 27 columns</p>\n",
       "</div>"
      ],
      "text/plain": [
       "   ID Engine  Cycle  Setting 1  Setting 2  Setting 3  Sensor 1  Sensor 2  \\\n",
       "0          1      1    -0.0007    -0.0004      100.0    518.67    641.82   \n",
       "1          1      2     0.0019    -0.0003      100.0    518.67    642.15   \n",
       "2          1      3    -0.0043     0.0003      100.0    518.67    642.35   \n",
       "3          1      4     0.0007     0.0000      100.0    518.67    642.35   \n",
       "4          1      5    -0.0019    -0.0002      100.0    518.67    642.37   \n",
       "\n",
       "   Sensor 3  Sensor 4  Sensor 5  ...  Sensor 13  Sensor 14  Sensor 15  \\\n",
       "0   1589.70   1400.60     14.62  ...    2388.02    8138.62     8.4195   \n",
       "1   1591.82   1403.14     14.62  ...    2388.07    8131.49     8.4318   \n",
       "2   1587.99   1404.20     14.62  ...    2388.03    8133.23     8.4178   \n",
       "3   1582.79   1401.87     14.62  ...    2388.08    8133.83     8.3682   \n",
       "4   1582.85   1406.22     14.62  ...    2388.04    8133.80     8.4294   \n",
       "\n",
       "   Sensor 16  Sensor 17  Sensor 18  Sensor 19  Sensor 20  Sensor 21  \\\n",
       "0       0.03        392       2388      100.0      39.06    23.4190   \n",
       "1       0.03        392       2388      100.0      39.00    23.4236   \n",
       "2       0.03        390       2388      100.0      38.95    23.3442   \n",
       "3       0.03        392       2388      100.0      38.88    23.3739   \n",
       "4       0.03        393       2388      100.0      38.90    23.4044   \n",
       "\n",
       "   Remaining RUL  \n",
       "0            191  \n",
       "1            190  \n",
       "2            189  \n",
       "3            188  \n",
       "4            187  \n",
       "\n",
       "[5 rows x 27 columns]"
      ]
     },
     "execution_count": 33,
     "metadata": {},
     "output_type": "execute_result"
    }
   ],
   "source": [
    "# train_1 = train_1.drop(['Setting 1','Setting 2', 'Sensor 1', 'Setting 3','Sensor 5','Sensor 6', 'Sensor 10', 'Sensor 16', 'Sensor 18','Sensor 19'], axis=1)\n",
    "train_1.head()"
   ]
  },
  {
   "cell_type": "code",
   "execution_count": 34,
   "metadata": {
    "colab": {
     "base_uri": "https://localhost:8080/",
     "height": 309
    },
    "executionInfo": {
     "elapsed": 379,
     "status": "ok",
     "timestamp": 1733061602298,
     "user": {
      "displayName": "ÚC NGÔ VĂN",
      "userId": "17995020128839883394"
     },
     "user_tz": -420
    },
    "id": "XXS3R64RKTGO",
    "outputId": "cce32dd6-5152-4716-ccce-a4428ce5533d"
   },
   "outputs": [
    {
     "data": {
      "text/html": [
       "<div>\n",
       "<style scoped>\n",
       "    .dataframe tbody tr th:only-of-type {\n",
       "        vertical-align: middle;\n",
       "    }\n",
       "\n",
       "    .dataframe tbody tr th {\n",
       "        vertical-align: top;\n",
       "    }\n",
       "\n",
       "    .dataframe thead th {\n",
       "        text-align: right;\n",
       "    }\n",
       "</style>\n",
       "<table border=\"1\" class=\"dataframe\">\n",
       "  <thead>\n",
       "    <tr style=\"text-align: right;\">\n",
       "      <th></th>\n",
       "      <th>ID Engine</th>\n",
       "      <th>Cycle</th>\n",
       "      <th>Setting 1</th>\n",
       "      <th>Setting 2</th>\n",
       "      <th>Setting 3</th>\n",
       "      <th>Sensor 1</th>\n",
       "      <th>Sensor 2</th>\n",
       "      <th>Sensor 3</th>\n",
       "      <th>Sensor 4</th>\n",
       "      <th>Sensor 5</th>\n",
       "      <th>...</th>\n",
       "      <th>Sensor 13</th>\n",
       "      <th>Sensor 14</th>\n",
       "      <th>Sensor 15</th>\n",
       "      <th>Sensor 16</th>\n",
       "      <th>Sensor 17</th>\n",
       "      <th>Sensor 18</th>\n",
       "      <th>Sensor 19</th>\n",
       "      <th>Sensor 20</th>\n",
       "      <th>Sensor 21</th>\n",
       "      <th>Remaining RUL</th>\n",
       "    </tr>\n",
       "  </thead>\n",
       "  <tbody>\n",
       "    <tr>\n",
       "      <th>0</th>\n",
       "      <td>1</td>\n",
       "      <td>1</td>\n",
       "      <td>-0.0007</td>\n",
       "      <td>-0.0004</td>\n",
       "      <td>100.0</td>\n",
       "      <td>0.0</td>\n",
       "      <td>0.183735</td>\n",
       "      <td>0.406802</td>\n",
       "      <td>0.309757</td>\n",
       "      <td>0.0</td>\n",
       "      <td>...</td>\n",
       "      <td>0.205882</td>\n",
       "      <td>0.199608</td>\n",
       "      <td>0.363986</td>\n",
       "      <td>0.0</td>\n",
       "      <td>0.333333</td>\n",
       "      <td>0.0</td>\n",
       "      <td>0.0</td>\n",
       "      <td>0.713178</td>\n",
       "      <td>0.724662</td>\n",
       "      <td>0.529086</td>\n",
       "    </tr>\n",
       "    <tr>\n",
       "      <th>1</th>\n",
       "      <td>1</td>\n",
       "      <td>2</td>\n",
       "      <td>0.0019</td>\n",
       "      <td>-0.0003</td>\n",
       "      <td>100.0</td>\n",
       "      <td>0.0</td>\n",
       "      <td>0.283133</td>\n",
       "      <td>0.453019</td>\n",
       "      <td>0.352633</td>\n",
       "      <td>0.0</td>\n",
       "      <td>...</td>\n",
       "      <td>0.279412</td>\n",
       "      <td>0.162813</td>\n",
       "      <td>0.411312</td>\n",
       "      <td>0.0</td>\n",
       "      <td>0.333333</td>\n",
       "      <td>0.0</td>\n",
       "      <td>0.0</td>\n",
       "      <td>0.666667</td>\n",
       "      <td>0.731014</td>\n",
       "      <td>0.526316</td>\n",
       "    </tr>\n",
       "    <tr>\n",
       "      <th>2</th>\n",
       "      <td>1</td>\n",
       "      <td>3</td>\n",
       "      <td>-0.0043</td>\n",
       "      <td>0.0003</td>\n",
       "      <td>100.0</td>\n",
       "      <td>0.0</td>\n",
       "      <td>0.343373</td>\n",
       "      <td>0.369523</td>\n",
       "      <td>0.370527</td>\n",
       "      <td>0.0</td>\n",
       "      <td>...</td>\n",
       "      <td>0.220588</td>\n",
       "      <td>0.171793</td>\n",
       "      <td>0.357445</td>\n",
       "      <td>0.0</td>\n",
       "      <td>0.166667</td>\n",
       "      <td>0.0</td>\n",
       "      <td>0.0</td>\n",
       "      <td>0.627907</td>\n",
       "      <td>0.621375</td>\n",
       "      <td>0.523546</td>\n",
       "    </tr>\n",
       "    <tr>\n",
       "      <th>3</th>\n",
       "      <td>1</td>\n",
       "      <td>4</td>\n",
       "      <td>0.0007</td>\n",
       "      <td>0.0000</td>\n",
       "      <td>100.0</td>\n",
       "      <td>0.0</td>\n",
       "      <td>0.343373</td>\n",
       "      <td>0.256159</td>\n",
       "      <td>0.331195</td>\n",
       "      <td>0.0</td>\n",
       "      <td>...</td>\n",
       "      <td>0.294118</td>\n",
       "      <td>0.174889</td>\n",
       "      <td>0.166603</td>\n",
       "      <td>0.0</td>\n",
       "      <td>0.333333</td>\n",
       "      <td>0.0</td>\n",
       "      <td>0.0</td>\n",
       "      <td>0.573643</td>\n",
       "      <td>0.662386</td>\n",
       "      <td>0.520776</td>\n",
       "    </tr>\n",
       "    <tr>\n",
       "      <th>4</th>\n",
       "      <td>1</td>\n",
       "      <td>5</td>\n",
       "      <td>-0.0019</td>\n",
       "      <td>-0.0002</td>\n",
       "      <td>100.0</td>\n",
       "      <td>0.0</td>\n",
       "      <td>0.349398</td>\n",
       "      <td>0.257467</td>\n",
       "      <td>0.404625</td>\n",
       "      <td>0.0</td>\n",
       "      <td>...</td>\n",
       "      <td>0.235294</td>\n",
       "      <td>0.174734</td>\n",
       "      <td>0.402078</td>\n",
       "      <td>0.0</td>\n",
       "      <td>0.416667</td>\n",
       "      <td>0.0</td>\n",
       "      <td>0.0</td>\n",
       "      <td>0.589147</td>\n",
       "      <td>0.704502</td>\n",
       "      <td>0.518006</td>\n",
       "    </tr>\n",
       "  </tbody>\n",
       "</table>\n",
       "<p>5 rows × 27 columns</p>\n",
       "</div>"
      ],
      "text/plain": [
       "   ID Engine  Cycle  Setting 1  Setting 2  Setting 3  Sensor 1  Sensor 2  \\\n",
       "0          1      1    -0.0007    -0.0004      100.0       0.0  0.183735   \n",
       "1          1      2     0.0019    -0.0003      100.0       0.0  0.283133   \n",
       "2          1      3    -0.0043     0.0003      100.0       0.0  0.343373   \n",
       "3          1      4     0.0007     0.0000      100.0       0.0  0.343373   \n",
       "4          1      5    -0.0019    -0.0002      100.0       0.0  0.349398   \n",
       "\n",
       "   Sensor 3  Sensor 4  Sensor 5  ...  Sensor 13  Sensor 14  Sensor 15  \\\n",
       "0  0.406802  0.309757       0.0  ...   0.205882   0.199608   0.363986   \n",
       "1  0.453019  0.352633       0.0  ...   0.279412   0.162813   0.411312   \n",
       "2  0.369523  0.370527       0.0  ...   0.220588   0.171793   0.357445   \n",
       "3  0.256159  0.331195       0.0  ...   0.294118   0.174889   0.166603   \n",
       "4  0.257467  0.404625       0.0  ...   0.235294   0.174734   0.402078   \n",
       "\n",
       "   Sensor 16  Sensor 17  Sensor 18  Sensor 19  Sensor 20  Sensor 21  \\\n",
       "0        0.0   0.333333        0.0        0.0   0.713178   0.724662   \n",
       "1        0.0   0.333333        0.0        0.0   0.666667   0.731014   \n",
       "2        0.0   0.166667        0.0        0.0   0.627907   0.621375   \n",
       "3        0.0   0.333333        0.0        0.0   0.573643   0.662386   \n",
       "4        0.0   0.416667        0.0        0.0   0.589147   0.704502   \n",
       "\n",
       "   Remaining RUL  \n",
       "0       0.529086  \n",
       "1       0.526316  \n",
       "2       0.523546  \n",
       "3       0.520776  \n",
       "4       0.518006  \n",
       "\n",
       "[5 rows x 27 columns]"
      ]
     },
     "execution_count": 34,
     "metadata": {},
     "output_type": "execute_result"
    }
   ],
   "source": [
    "# Normalization\n",
    "df = train_1.copy()\n",
    "scaled_columns = df.columns[5:]\n",
    "scaler = MinMaxScaler()\n",
    "df[scaled_columns] = scaler.fit_transform(df[scaled_columns])\n",
    "df.head()"
   ]
  },
  {
   "cell_type": "code",
   "execution_count": 35,
   "metadata": {
    "colab": {
     "base_uri": "https://localhost:8080/"
    },
    "executionInfo": {
     "elapsed": 5,
     "status": "ok",
     "timestamp": 1733061602298,
     "user": {
      "displayName": "ÚC NGÔ VĂN",
      "userId": "17995020128839883394"
     },
     "user_tz": -420
    },
    "id": "aEF20VcwKTGO",
    "outputId": "39cc6d07-629d-4ce6-a435-ba9effcdc814"
   },
   "outputs": [],
   "source": [
    "def split_dataset(dataset, num_clients):\n",
    "    \"\"\"\n",
    "    Chia dataset thành num_clients tập con đều nhau.\n",
    "    Args:\n",
    "        dataset: Dataset cần chia (torch.utils.data.Dataset).\n",
    "        num_clients: Số lượng tập con muốn tạo.\n",
    "    Returns:\n",
    "        List chứa các tập con của dataset.\n",
    "    \"\"\"\n",
    "    # Kích thước mỗi tập con\n",
    "    subset_size = len(dataset) // num_clients\n",
    "    sizes = [subset_size] * num_clients\n",
    "\n",
    "    # Chia phần dư (nếu tổng dataset không chia hết)\n",
    "    sizes[-1] += len(dataset) - sum(sizes)\n",
    "\n",
    "    # Tạo danh sách các tập con\n",
    "    subsets = random_split(dataset, sizes)\n",
    "    return subsets"
   ]
  },
  {
   "cell_type": "code",
   "execution_count": 36,
   "metadata": {
    "executionInfo": {
     "elapsed": 3,
     "status": "ok",
     "timestamp": 1733061602298,
     "user": {
      "displayName": "ÚC NGÔ VĂN",
      "userId": "17995020128839883394"
     },
     "user_tz": -420
    },
    "id": "40i3tcFcKTGP"
   },
   "outputs": [],
   "source": [
    "class FD001DatasetLoader(Dataset):\n",
    "    def __init__(self, data, sequence_length=30):\n",
    "        self.data = data\n",
    "        self.sequence_length = sequence_length\n",
    "        self.sequences = []\n",
    "        self.targets = []\n",
    "\n",
    "        grouped = data.groupby('ID Engine')\n",
    "        for _, group in grouped:\n",
    "            values = group.drop(['ID Engine', 'Cycle', 'Remaining RUL'], axis=1).values\n",
    "            rul_values = group['Remaining RUL'].values\n",
    "\n",
    "            for i in range(len(values) - sequence_length + 1):\n",
    "                self.sequences.append(values[i:i + sequence_length])\n",
    "                self.targets.append(rul_values[i + sequence_length - 1])\n",
    "\n",
    "    def __len__(self):\n",
    "        return len(self.sequences)\n",
    "\n",
    "    def __getitem__(self, idx):\n",
    "        return (\n",
    "            torch.tensor(self.sequences[idx], dtype=torch.float32),\n",
    "            torch.tensor(self.targets[idx], dtype=torch.float32),\n",
    "        )\n"
   ]
  },
  {
   "cell_type": "code",
   "execution_count": 37,
   "metadata": {
    "executionInfo": {
     "elapsed": 3027,
     "status": "ok",
     "timestamp": 1733061605322,
     "user": {
      "displayName": "ÚC NGÔ VĂN",
      "userId": "17995020128839883394"
     },
     "user_tz": -420
    },
    "id": "QxlWHBZdKTGP"
   },
   "outputs": [],
   "source": [
    "dataset = FD001DatasetLoader(df)\n",
    "train_data, validation_data = train_test_split(dataset, test_size=0.2, random_state=42)\n",
    "\n",
    "num_clients = 10\n",
    "subsets_train = split_dataset(train_data, num_clients)\n",
    "subsets_validation = split_dataset(validation_data, num_clients)\n",
    "# Tạo DataLoader cho mỗi tập\n",
    "client_loader_trains = [DataLoader(subset, batch_size=32, shuffle=True) for subset in subsets_train]\n",
    "client_loader_validations = [DataLoader(subset, batch_size=32, shuffle=True) for subset in subsets_validation]\n",
    "\n",
    "# train_data, val_data = train_test_split(dataset, test_size=0.2, random_state=42)\n",
    "# train_loader = DataLoader(train_data, batch_size=32, shuffle=True)\n",
    "# val_loader = DataLoader(val_data, batch_size=32, shuffle=False)\n"
   ]
  },
  {
   "cell_type": "code",
   "execution_count": 40,
   "metadata": {},
   "outputs": [],
   "source": [
    "train_loader = DataLoader(dataset=train_data, batch_size=32, shuffle=True)\n",
    "validation_loader = DataLoader(dataset=validation_data, batch_size=32, shuffle=False)"
   ]
  },
  {
   "cell_type": "code",
   "execution_count": 19,
   "metadata": {
    "colab": {
     "base_uri": "https://localhost:8080/"
    },
    "executionInfo": {
     "elapsed": 12,
     "status": "ok",
     "timestamp": 1733061605323,
     "user": {
      "displayName": "ÚC NGÔ VĂN",
      "userId": "17995020128839883394"
     },
     "user_tz": -420
    },
    "id": "_K9hW0s4KTGP",
    "outputId": "71e8eb1d-7b40-4d76-861a-c6e0355274f0"
   },
   "outputs": [
    {
     "name": "stdout",
     "output_type": "stream",
     "text": [
      "Client 1 will use a subset with 1418 samples\n",
      "Client 2 will use a subset with 1418 samples\n",
      "Client 3 will use a subset with 1418 samples\n",
      "Client 4 will use a subset with 1418 samples\n",
      "Client 5 will use a subset with 1418 samples\n",
      "Client 6 will use a subset with 1418 samples\n",
      "Client 7 will use a subset with 1418 samples\n",
      "Client 8 will use a subset with 1418 samples\n",
      "Client 9 will use a subset with 1418 samples\n",
      "Client 10 will use a subset with 1422 samples\n"
     ]
    }
   ],
   "source": [
    "for i, loader in enumerate(client_loader_trains):\n",
    "    print(f\"Client {i+1} will use a subset with {len(loader.dataset)} samples\")\n",
    "    # start_client(train_loader=loader, test_loader=test_loader)"
   ]
  },
  {
   "cell_type": "code",
   "execution_count": 20,
   "metadata": {
    "colab": {
     "base_uri": "https://localhost:8080/"
    },
    "executionInfo": {
     "elapsed": 10,
     "status": "ok",
     "timestamp": 1733061605323,
     "user": {
      "displayName": "ÚC NGÔ VĂN",
      "userId": "17995020128839883394"
     },
     "user_tz": -420
    },
    "id": "YDg6bRvtKTGP",
    "outputId": "a0181748-54f3-420d-b239-aeef4efe6627"
   },
   "outputs": [
    {
     "name": "stdout",
     "output_type": "stream",
     "text": [
      "Client 1 will use a subset with 354 samples\n",
      "Client 2 will use a subset with 354 samples\n",
      "Client 3 will use a subset with 354 samples\n",
      "Client 4 will use a subset with 354 samples\n",
      "Client 5 will use a subset with 354 samples\n",
      "Client 6 will use a subset with 354 samples\n",
      "Client 7 will use a subset with 354 samples\n",
      "Client 8 will use a subset with 354 samples\n",
      "Client 9 will use a subset with 354 samples\n",
      "Client 10 will use a subset with 361 samples\n"
     ]
    }
   ],
   "source": [
    "for i, loader in enumerate(client_loader_validations):\n",
    "    print(f\"Client {i+1} will use a subset with {len(loader.dataset)} samples\")\n",
    "    # start_client(train_loader=loader, test_loader=test_loader)"
   ]
  },
  {
   "cell_type": "markdown",
   "metadata": {
    "id": "ZvZLb7BXKTGP"
   },
   "source": [
    "## Step 1: Centralized Training with PyTorch"
   ]
  },
  {
   "cell_type": "markdown",
   "metadata": {
    "id": "Bsx50C1LKTGQ"
   },
   "source": [
    "#### Define the Transformer model"
   ]
  },
  {
   "cell_type": "code",
   "execution_count": 42,
   "metadata": {
    "executionInfo": {
     "elapsed": 4,
     "status": "ok",
     "timestamp": 1733061606740,
     "user": {
      "displayName": "ÚC NGÔ VĂN",
      "userId": "17995020128839883394"
     },
     "user_tz": -420
    },
    "id": "440FOAEZKTGQ"
   },
   "outputs": [],
   "source": [
    "class TransformerModel(nn.Module):\n",
    "    def __init__(self, input_dim, d_model, nhead, num_layers, dim_feedforward, dropout):\n",
    "        super(TransformerModel, self).__init__()\n",
    "        self.input_embedding = nn.Linear(input_dim, d_model)\n",
    "        self.positional_encoding = nn.Parameter(torch.zeros(1, 5000, d_model))\n",
    "        self.transformer = nn.Transformer(\n",
    "            d_model=d_model,\n",
    "            nhead=nhead,\n",
    "            num_encoder_layers=num_layers,\n",
    "            num_decoder_layers=num_layers,\n",
    "            dim_feedforward=dim_feedforward,\n",
    "            dropout=dropout,\n",
    "            batch_first=True,\n",
    "        )\n",
    "        self.fc_out = nn.Linear(d_model, 1)\n",
    "\n",
    "    def forward(self, src):\n",
    "        src_emb = self.input_embedding(src) + self.positional_encoding[:, :src.size(1), :]\n",
    "        src_emb = src_emb.permute(1, 0, 2)  # [seq_len, batch_size, d_model]\n",
    "        transformer_out = self.transformer(src_emb, src_emb)\n",
    "        output = self.fc_out(transformer_out[-1, :, :])  # Lấy giá trị cuối\n",
    "        return output.squeeze(-1)"
   ]
  },
  {
   "cell_type": "markdown",
   "metadata": {
    "id": "t4ogUj-MKTGQ"
   },
   "source": [
    "#### Define train function the model"
   ]
  },
  {
   "cell_type": "code",
   "execution_count": 43,
   "metadata": {
    "executionInfo": {
     "elapsed": 3,
     "status": "ok",
     "timestamp": 1733061606740,
     "user": {
      "displayName": "ÚC NGÔ VĂN",
      "userId": "17995020128839883394"
     },
     "user_tz": -420
    },
    "id": "SRvVuP4IKTGQ"
   },
   "outputs": [],
   "source": [
    "def train(model, client_loader_train, client_loader_validation: None, epochs: int, verbose=False):\n",
    "    input_dim = 24\n",
    "    model = model.to(DEVICE)\n",
    "\n",
    "    criterion = nn.MSELoss()\n",
    "    optimizer = torch.optim.Adam(model.parameters(), lr=1e-4)\n",
    "\n",
    "    # Training Loop\n",
    "    for epoch in range(epochs):\n",
    "        model.train()\n",
    "        train_loss = 0\n",
    "        for batch in client_loader_train:\n",
    "            seq, target = batch\n",
    "            seq, target = seq.to(DEVICE), target.to(DEVICE)\n",
    "\n",
    "            optimizer.zero_grad()\n",
    "            output = model(seq)\n",
    "            loss = criterion(output, target)\n",
    "            loss.backward()\n",
    "            optimizer.step()\n",
    "            train_loss += loss.item()\n",
    "\n",
    "        val_loss = 0\n",
    "        model.eval()\n",
    "        with torch.no_grad():\n",
    "            for batch in client_loader_validation:\n",
    "                seq, target = batch\n",
    "                seq, target = seq.to(DEVICE), target.to(DEVICE)\n",
    "                output = model(seq)\n",
    "                loss = criterion(output, target)\n",
    "                val_loss += loss.item()\n",
    "\n",
    "        print(f\"Epoch {epoch + 1}: Train Loss = {train_loss / len(client_loader_train)}, Val Loss = {val_loss / len(client_loader_validation)}\")"
   ]
  },
  {
   "cell_type": "code",
   "execution_count": 44,
   "metadata": {
    "executionInfo": {
     "elapsed": 3,
     "status": "ok",
     "timestamp": 1733061606740,
     "user": {
      "displayName": "ÚC NGÔ VĂN",
      "userId": "17995020128839883394"
     },
     "user_tz": -420
    },
    "id": "VTxEDEKyD33X"
   },
   "outputs": [],
   "source": [
    "def predict_on_batch(model, client_loader_validation, return_actual_rul=False, show_fig=False):\n",
    "    criterion = nn.MSELoss()\n",
    "    # Lấy một vài mẫu dữ liệu từ tập val_loader\n",
    "    samples, targets = next(iter(client_loader_validation))  # Lấy một batch từ validation set\n",
    "    samples, targets = samples.to(DEVICE), targets.to(DEVICE)\n",
    "\n",
    "    # Dự đoán với model\n",
    "    model.eval()\n",
    "    val_loss = 0\n",
    "    with torch.no_grad():\n",
    "        predictions = model(samples)  # [batch_size]\n",
    "    val_loss = criterion(predictions, targets)\n",
    "\n",
    "    if return_actual_rul:\n",
    "        # Đưa kết quả về CPU để xử lý\n",
    "        samples = samples.cpu()\n",
    "        targets = targets.cpu()\n",
    "        predictions = predictions.cpu()\n",
    "\n",
    "        # Đảo chuẩn hóa dữ liệu\n",
    "        rul_min = scaler.data_min_[-1]\n",
    "        rul_max = scaler.data_max_[-1]\n",
    "\n",
    "        # Đưa predictions và targets về dạng thực tế\n",
    "        actual_predictions = predictions.numpy() * (rul_max - rul_min) + rul_min\n",
    "        actual_targets = targets.numpy() * (rul_max - rul_min) + rul_min\n",
    "\n",
    "        if show_fig:\n",
    "            # Vẽ biểu đồ so sánh dự đoán và giá trị thực tế\n",
    "            plt.figure(figsize=(10, 6))\n",
    "            plt.plot(range(len(actual_predictions)), actual_predictions, label=\"Predicted RUL\", marker='o', linestyle='-')\n",
    "            plt.plot(range(len(actual_targets)), actual_targets, label=\"Actual RUL\", marker='x', linestyle='--')\n",
    "            plt.title(\"Comparison of Predicted and Actual RUL\")\n",
    "            plt.xlabel(\"Sample Index\")\n",
    "            plt.ylabel(\"Remaining Useful Life (RUL)\")\n",
    "            plt.legend()\n",
    "            plt.grid(True)\n",
    "            plt.show()\n",
    "\n",
    "        return val_loss, actual_predictions, actual_targets\n",
    "\n",
    "    return val_loss\n"
   ]
  },
  {
   "cell_type": "code",
   "execution_count": 45,
   "metadata": {
    "executionInfo": {
     "elapsed": 604,
     "status": "ok",
     "timestamp": 1733061607341,
     "user": {
      "displayName": "ÚC NGÔ VĂN",
      "userId": "17995020128839883394"
     },
     "user_tz": -420
    },
    "id": "79XXCrdPKTGQ"
   },
   "outputs": [],
   "source": [
    "def test(model, client_loader_validation, return_actual_rul=False, show_fig=False):\n",
    "    criterion = nn.MSELoss()\n",
    "\n",
    "    samples, targets = next(iter(client_loader_validation))\n",
    "    samples, targets = samples.to(DEVICE), targets.to(DEVICE)\n",
    "\n",
    "    # Dự đoán với model\n",
    "    model.eval()\n",
    "    val_loss = 0\n",
    "    accuracys = 0\n",
    "    with torch.no_grad():\n",
    "      for batch in client_loader_validation:\n",
    "        samples, targets = batch\n",
    "        samples, targets = samples.to(DEVICE), targets.to(DEVICE)\n",
    "        predictions = model(samples)\n",
    "        val_loss += criterion(predictions, targets).item()\n",
    "    return val_loss / len(client_loader_validation)\n"
   ]
  },
  {
   "cell_type": "markdown",
   "metadata": {
    "id": "Kok_qty4KTGQ"
   },
   "source": [
    "#### Train the model (Centralized Transformer model)"
   ]
  },
  {
   "cell_type": "code",
   "execution_count": 48,
   "metadata": {
    "colab": {
     "base_uri": "https://localhost:8080/"
    },
    "executionInfo": {
     "elapsed": 254065,
     "status": "ok",
     "timestamp": 1733061902273,
     "user": {
      "displayName": "ÚC NGÔ VĂN",
      "userId": "17995020128839883394"
     },
     "user_tz": -420
    },
    "id": "AK5rXE3WKTGQ",
    "outputId": "b681c66a-212c-4448-885f-185fd7a46e04"
   },
   "outputs": [
    {
     "name": "stdout",
     "output_type": "stream",
     "text": [
      "Epoch 1: Train Loss = 0.04663250212104538, Val Loss = 0.033061708701220716\n",
      "Epoch 2: Train Loss = 0.033856506201413436, Val Loss = 0.029486277551801356\n",
      "Epoch 3: Train Loss = 0.03197377574260909, Val Loss = 0.03083986812480935\n",
      "Epoch 4: Train Loss = 0.031426167868597955, Val Loss = 0.02936184114298305\n",
      "Epoch 5: Train Loss = 0.03069599628498828, Val Loss = 0.029324218328740145\n",
      "Epoch 6: Train Loss = 0.03031469609479311, Val Loss = 0.028914225245783996\n",
      "Epoch 7: Train Loss = 0.03002043141404519, Val Loss = 0.03016120806202158\n",
      "Epoch 8: Train Loss = 0.02890767291322485, Val Loss = 0.02399046429609125\n",
      "Epoch 9: Train Loss = 0.0213985745805559, Val Loss = 0.013072135367405575\n",
      "Epoch 10: Train Loss = 0.015855103331567668, Val Loss = 0.012373625023944958\n",
      "Epoch 11: Train Loss = 0.01481090274824014, Val Loss = 0.013069895062562044\n",
      "Epoch 12: Train Loss = 0.014032523510642015, Val Loss = 0.012490534005468493\n",
      "Epoch 13: Train Loss = 0.013943331432528794, Val Loss = 0.012078992288291186\n",
      "Epoch 14: Train Loss = 0.013422241010745097, Val Loss = 0.012029142379089518\n",
      "Epoch 15: Train Loss = 0.013234813933613131, Val Loss = 0.011738026917383477\n",
      "Epoch 16: Train Loss = 0.01307397714904132, Val Loss = 0.011832057020148716\n",
      "Epoch 17: Train Loss = 0.012886468489939632, Val Loss = 0.011933184656742457\n",
      "Epoch 18: Train Loss = 0.012712986949990663, Val Loss = 0.012222407910100243\n",
      "Epoch 19: Train Loss = 0.01267198318781264, Val Loss = 0.013163001721238231\n",
      "Epoch 20: Train Loss = 0.012655938555998308, Val Loss = 0.011827135353709932\n",
      "Epoch 21: Train Loss = 0.01252333991657439, Val Loss = 0.011798849081838722\n",
      "Epoch 22: Train Loss = 0.012518661224119668, Val Loss = 0.012281818911097609\n",
      "Epoch 23: Train Loss = 0.01225559293556757, Val Loss = 0.01176231487041658\n",
      "Epoch 24: Train Loss = 0.012526366276024664, Val Loss = 0.01144767133938568\n",
      "Epoch 25: Train Loss = 0.012332324606685287, Val Loss = 0.011777853274399095\n",
      "Epoch 26: Train Loss = 0.01215249592562097, Val Loss = 0.011514252752300587\n",
      "Epoch 27: Train Loss = 0.012093826391113302, Val Loss = 0.011294770612473692\n",
      "Epoch 28: Train Loss = 0.012071941232493331, Val Loss = 0.011678063839271263\n",
      "Epoch 29: Train Loss = 0.012104402686393744, Val Loss = 0.011546429817204003\n",
      "Epoch 30: Train Loss = 0.012103247766693434, Val Loss = 0.011717689437539997\n",
      "Epoch 31: Train Loss = 0.011895914599802849, Val Loss = 0.01191568454341577\n",
      "Epoch 32: Train Loss = 0.011924061991865872, Val Loss = 0.01158356095605471\n",
      "Epoch 33: Train Loss = 0.011892282180613964, Val Loss = 0.011164675001055002\n",
      "Epoch 34: Train Loss = 0.011844194476358458, Val Loss = 0.011822400258031782\n",
      "Epoch 35: Train Loss = 0.011950573827840623, Val Loss = 0.011177062300277187\n",
      "Epoch 36: Train Loss = 0.011685105851381548, Val Loss = 0.011174789915146591\n",
      "Epoch 37: Train Loss = 0.011728972618191226, Val Loss = 0.011252151672132648\n",
      "Epoch 38: Train Loss = 0.011696477769874036, Val Loss = 0.011151235894644045\n",
      "Epoch 39: Train Loss = 0.011756320195041832, Val Loss = 0.011576118274919084\n",
      "Epoch 40: Train Loss = 0.01160718974036475, Val Loss = 0.011219520428058532\n",
      "Epoch 41: Train Loss = 0.011647312433630866, Val Loss = 0.01185609585697855\n",
      "Epoch 42: Train Loss = 0.011615106743668113, Val Loss = 0.013078892070732944\n",
      "Epoch 43: Train Loss = 0.011546740802382497, Val Loss = 0.011096123215817922\n",
      "Epoch 44: Train Loss = 0.011482470578132281, Val Loss = 0.011233062105807098\n",
      "Epoch 45: Train Loss = 0.011494192291105687, Val Loss = 0.011187717515706748\n",
      "Epoch 46: Train Loss = 0.011552687897976185, Val Loss = 0.011499918317673979\n",
      "Epoch 47: Train Loss = 0.011490342041544683, Val Loss = 0.011176125209375814\n",
      "Epoch 48: Train Loss = 0.011511354448131143, Val Loss = 0.011249154894235166\n",
      "Epoch 49: Train Loss = 0.011465980054659618, Val Loss = 0.011648543560793539\n",
      "Epoch 50: Train Loss = 0.011327957664196892, Val Loss = 0.01104349656836004\n"
     ]
    }
   ],
   "source": [
    "model = TransformerModel(input_dim=24, d_model=64, nhead=4, num_layers=2, dim_feedforward=256, dropout=0.1)\n",
    "model = model.to(DEVICE)\n",
    "train(model=model, client_loader_train=train_loader, client_loader_validation=validation_loader, epochs=50)"
   ]
  },
  {
   "cell_type": "code",
   "execution_count": 20,
   "metadata": {
    "colab": {
     "base_uri": "https://localhost:8080/",
     "height": 800
    },
    "executionInfo": {
     "elapsed": 1481,
     "status": "ok",
     "timestamp": 1733061903737,
     "user": {
      "displayName": "ÚC NGÔ VĂN",
      "userId": "17995020128839883394"
     },
     "user_tz": -420
    },
    "id": "gnSCpN1TKTGR",
    "outputId": "d16570c5-5244-4a8f-fead-1d8a6f8a2a08"
   },
   "outputs": [
    {
     "data": {
      "image/png": "[encoded data removed]",
      "text/plain": [
       "<Figure size 1000x600 with 1 Axes>"
      ]
     },
     "metadata": {},
     "output_type": "display_data"
    },
    {
     "name": "stdout",
     "output_type": "stream",
     "text": [
      "loss=0.0125861382111907\n",
      "actual rul = [127.309456 109.299225 152.43692  138.11697   83.21238  169.25517\n",
      " 129.85455  174.40875   28.14295   48.113987 178.50157  173.72084\n",
      " 121.469955 177.36899  149.42502  134.30954   30.247446  84.73877\n",
      "  72.816414 112.39686  122.155945  19.876867 147.83649   50.341328\n",
      "  96.675804  47.373737 174.88843   99.567085   9.366834 137.19455\n",
      " 155.48738  142.22398 ]\n",
      "actual target=[165.       143.       252.       123.00001   96.       132.\n",
      " 147.       154.        36.        43.       170.       199.\n",
      " 204.00002  120.        68.       166.        24.       132.\n",
      "  47.       176.        92.        32.       105.        48.999996\n",
      " 103.        30.       231.       133.         5.        99.\n",
      " 181.99998   94.      ]\n"
     ]
    }
   ],
   "source": [
    "# Dùng tạm validation của client 1 test thử cho model client 0 ở trên!\n",
    "loss, return_actual_rul, actual_target = predict_on_batch(model=model, client_loader_validation=client_loader_validations[1], return_actual_rul=True, show_fig=True)\n",
    "print(f'loss={loss}')\n",
    "print(f'actual rul = {return_actual_rul}')\n",
    "print(f'actual target={actual_target}')"
   ]
  },
  {
   "cell_type": "code",
   "execution_count": 21,
   "metadata": {
    "colab": {
     "base_uri": "https://localhost:8080/"
    },
    "executionInfo": {
     "elapsed": 31,
     "status": "ok",
     "timestamp": 1733061903739,
     "user": {
      "displayName": "ÚC NGÔ VĂN",
      "userId": "17995020128839883394"
     },
     "user_tz": -420
    },
    "id": "KVRHrJXPKTGR",
    "outputId": "b754a79d-a50b-465d-be77-49f9f7e2ea7b"
   },
   "outputs": [
    {
     "name": "stdout",
     "output_type": "stream",
     "text": [
      "loss=0.008745996281504631\n",
      "actual rul = [177.03487  149.16402   26.93405  116.190445  97.89714  160.66489\n",
      " 152.42049   62.020763 103.00481  179.74168  132.42075  108.39973\n",
      " 164.11163  168.95444  121.46576  159.71886   63.51032  147.42442\n",
      " 111.13244  136.97395  171.33585  132.72284    3.917282  43.17373\n",
      " 148.83878   47.593323 118.84436   41.254726  53.26817  180.65677\n",
      " 150.30733   84.47442 ]\n",
      "actual target=[198.       138.        46.       117.        77.       183.\n",
      " 254.        65.       148.       146.        96.       157.\n",
      " 151.       192.        73.       126.        44.       129.\n",
      "  92.       134.       116.00001  119.         1.        29.000002\n",
      " 110.        31.        60.        63.        17.       213.99998\n",
      " 163.        65.      ]\n"
     ]
    }
   ],
   "source": [
    "# Dùng tạm validation của client 1 test thử cho model client 0 ở trên!\n",
    "loss, return_actual_rul, actual_target = predict_on_batch(model=model, client_loader_validation=client_loader_validations[2], return_actual_rul=True, show_fig=False)\n",
    "print(f'loss={loss}')\n",
    "print(f'actual rul = {return_actual_rul}')\n",
    "print(f'actual target={actual_target}')"
   ]
  },
  {
   "cell_type": "markdown",
   "metadata": {
    "id": "f50ogKCvKTGR"
   },
   "source": [
    "## Step 2: Federated Learning with Flower"
   ]
  },
  {
   "cell_type": "markdown",
   "metadata": {
    "id": "fLwiqv8-KTGR"
   },
   "source": [
    "#### Update model parameters"
   ]
  },
  {
   "cell_type": "code",
   "execution_count": 22,
   "metadata": {
    "executionInfo": {
     "elapsed": 29,
     "status": "ok",
     "timestamp": 1733061903740,
     "user": {
      "displayName": "ÚC NGÔ VĂN",
      "userId": "17995020128839883394"
     },
     "user_tz": -420
    },
    "id": "1R-Dp06vKTGR"
   },
   "outputs": [],
   "source": [
    "def set_parameters(model, parameters: List[np.ndarray]):\n",
    "    params_dict = zip(model.state_dict().keys(), parameters)\n",
    "    state_dict = OrderedDict({k: torch.Tensor(v) for k, v in params_dict})\n",
    "    model.load_state_dict(state_dict, strict=True)\n",
    "\n",
    "def get_parameters(model) -> List[np.ndarray]:\n",
    "    return [val.cpu().numpy() for _, val in model.state_dict().items()]"
   ]
  },
  {
   "cell_type": "markdown",
   "metadata": {
    "id": "1vUxlDjlKTGR"
   },
   "source": [
    "#### Define the Flower ClientApp"
   ]
  },
  {
   "cell_type": "code",
   "execution_count": 23,
   "metadata": {
    "executionInfo": {
     "elapsed": 28,
     "status": "ok",
     "timestamp": 1733061903740,
     "user": {
      "displayName": "ÚC NGÔ VĂN",
      "userId": "17995020128839883394"
     },
     "user_tz": -420
    },
    "id": "iZbSE5-OKTGR"
   },
   "outputs": [],
   "source": [
    "class FlowerClient(NumPyClient):\n",
    "    def __init__(self, model, client_loader_train, client_loader_validation):\n",
    "        self.model = model\n",
    "        self.trainloader = client_loader_train\n",
    "        self.valloader = client_loader_validation\n",
    "\n",
    "    def get_parameters(self, config):\n",
    "        return get_parameters(self.model)\n",
    "\n",
    "    def fit(self, parameters, config):\n",
    "        set_parameters(self.model, parameters)\n",
    "        train(\n",
    "            model=self.model, \n",
    "            client_loader_train=self.trainloader, \n",
    "            client_loader_validation=self.valloader, \n",
    "            epochs=1\n",
    "        )\n",
    "        return get_parameters(self.model), len(self.trainloader), {}\n",
    "\n",
    "    def evaluate(self, parameters, config):\n",
    "        set_parameters(self.model, parameters)\n",
    "        # loss, accuracy = test(self.model, self.valloader)\n",
    "        loss = test(\n",
    "            model=self.model,\n",
    "            client_loader_validation=self.valloader,\n",
    "            return_actual_rul=False,\n",
    "            show_fig=False\n",
    "        )\n",
    "        return float(loss), len(self.valloader), {\"accuracy\": float(0.0)}"
   ]
  },
  {
   "cell_type": "code",
   "execution_count": 24,
   "metadata": {
    "executionInfo": {
     "elapsed": 29,
     "status": "ok",
     "timestamp": 1733061903741,
     "user": {
      "displayName": "ÚC NGÔ VĂN",
      "userId": "17995020128839883394"
     },
     "user_tz": -420
    },
    "id": "V5jLc-XNKTGS"
   },
   "outputs": [],
   "source": [
    "def client_fn(context: Context) -> Client:\n",
    "    \"\"\"Create a Flower client representing a single organization.\"\"\"\n",
    "\n",
    "    # Load model\n",
    "    model = TransformerModel(\n",
    "        input_dim=24, \n",
    "        d_model=64, \n",
    "        nhead=4, \n",
    "        num_layers=2, \n",
    "        dim_feedforward=256, \n",
    "        dropout=0.1\n",
    "    ).to(DEVICE)\n",
    "\n",
    "    # Load data (CIFAR-10)\n",
    "    # Note: each client gets a different trainloader/valloader, so each client\n",
    "    # will train and evaluate on their own unique data partition\n",
    "    # Read the node_config to fetch data partition associated to this node\n",
    "    partition_id = context.node_config[\"partition-id\"]\n",
    "    trainloader = client_loader_trains[partition_id]\n",
    "    valloader = client_loader_validations[partition_id]\n",
    "\n",
    "    # Create a single Flower client representing a single organization\n",
    "    # FlowerClient is a subclass of NumPyClient, so we need to call .to_client()\n",
    "    # to convert it to a subclass of `flwr.client.Client`\n",
    "    return FlowerClient(model, trainloader, valloader).to_client()\n",
    "\n",
    "\n",
    "# Create the ClientApp\n",
    "client = ClientApp(client_fn=client_fn)"
   ]
  },
  {
   "cell_type": "markdown",
   "metadata": {
    "id": "fJ4YLNsFKTGS"
   },
   "source": [
    "#### Define the Flower ServerApp"
   ]
  },
  {
   "cell_type": "code",
   "execution_count": 25,
   "metadata": {
    "executionInfo": {
     "elapsed": 29,
     "status": "ok",
     "timestamp": 1733061903741,
     "user": {
      "displayName": "ÚC NGÔ VĂN",
      "userId": "17995020128839883394"
     },
     "user_tz": -420
    },
    "id": "tN_jcj0cKTGS"
   },
   "outputs": [],
   "source": [
    "# Create FedAvg strategy\n",
    "strategy = FedAvg(\n",
    "    fraction_fit=1.0,  # Sample 100% of available clients for training\n",
    "    fraction_evaluate=0.5,  # Sample 50% of available clients for evaluation\n",
    "    min_fit_clients=10,  # Never sample less than 10 clients for training\n",
    "    min_evaluate_clients=5,  # Never sample less than 5 clients for evaluation\n",
    "    min_available_clients=10,  # Wait until all 10 clients are available\n",
    ")"
   ]
  },
  {
   "cell_type": "code",
   "execution_count": 26,
   "metadata": {
    "executionInfo": {
     "elapsed": 29,
     "status": "ok",
     "timestamp": 1733061903741,
     "user": {
      "displayName": "ÚC NGÔ VĂN",
      "userId": "17995020128839883394"
     },
     "user_tz": -420
    },
    "id": "N5-4anggKTGS"
   },
   "outputs": [],
   "source": [
    "def server_fn(context: Context) -> ServerAppComponents:\n",
    "    \"\"\"Construct components that set the ServerApp behaviour.\n",
    "\n",
    "    You can use the settings in `context.run_config` to parameterize the\n",
    "    construction of all elements (e.g the strategy or the number of rounds)\n",
    "    wrapped in the returned ServerAppComponents object.\n",
    "    \"\"\"\n",
    "\n",
    "    # Configure the server for 5 rounds of training\n",
    "    config = ServerConfig(num_rounds=50)\n",
    "\n",
    "    return ServerAppComponents(strategy=strategy, config=config)\n",
    "\n",
    "\n",
    "# Create the ServerApp\n",
    "server = ServerApp(server_fn=server_fn)"
   ]
  },
  {
   "cell_type": "markdown",
   "metadata": {
    "id": "4dsyFffBKTGS"
   },
   "source": [
    "#### Run the training"
   ]
  },
  {
   "cell_type": "code",
   "execution_count": 27,
   "metadata": {
    "executionInfo": {
     "elapsed": 28,
     "status": "ok",
     "timestamp": 1733061903741,
     "user": {
      "displayName": "ÚC NGÔ VĂN",
      "userId": "17995020128839883394"
     },
     "user_tz": -420
    },
    "id": "pf6krCAeKTGS"
   },
   "outputs": [],
   "source": [
    "# Specify the resources each of your clients need\n",
    "# By default, each client will be allocated 1x CPU and 0x GPUs\n",
    "backend_config = {\"client_resources\": {\"num_cpus\": 1, \"num_gpus\": 0.0}}\n",
    "\n",
    "# When running on GPU, assign an entire GPU for each client\n",
    "# if DEVICE.type == \"cuda\":\n",
    "#     backend_config = {\"client_resources\": {\"num_cpus\": 1, \"num_gpus\": 1.0}}\n",
    "    # Refer to our Flower framework documentation for more details about Flower simulations\n",
    "    # and how to set up the `backend_config`"
   ]
  },
  {
   "cell_type": "code",
   "execution_count": 28,
   "metadata": {
    "colab": {
     "base_uri": "https://localhost:8080/"
    },
    "executionInfo": {
     "elapsed": 2160573,
     "status": "ok",
     "timestamp": 1733070801208,
     "user": {
      "displayName": "ÚC NGÔ VĂN",
      "userId": "17995020128839883394"
     },
     "user_tz": -420
    },
    "id": "RuHd_DlaKTGS",
    "outputId": "872fc12c-949d-4ef1-9b25-77c39502fdb2"
   },
   "outputs": [
    {
     "name": "stderr",
     "output_type": "stream",
     "text": [
      "DEBUG:flwr:Asyncio event loop already running.\n",
      "\u001b[92mINFO \u001b[0m:      Starting Flower ServerApp, config: num_rounds=50, no round_timeout\n",
      "\u001b[92mINFO \u001b[0m:      \n",
      "\u001b[92mINFO \u001b[0m:      [INIT]\n",
      "\u001b[92mINFO \u001b[0m:      Requesting initial parameters from one random client\n",
      "\u001b[36m(pid=8182)\u001b[0m 2024-12-01 14:05:24.241367: E external/local_xla/xla/stream_executor/cuda/cuda_fft.cc:485] Unable to register cuFFT factory: Attempting to register factory for plugin cuFFT when one has already been registered\n",
      "\u001b[36m(pid=8182)\u001b[0m 2024-12-01 14:05:24.375513: E external/local_xla/xla/stream_executor/cuda/cuda_dnn.cc:8454] Unable to register cuDNN factory: Attempting to register factory for plugin cuDNN when one has already been registered\n",
      "\u001b[36m(pid=8182)\u001b[0m 2024-12-01 14:05:24.401652: E external/local_xla/xla/stream_executor/cuda/cuda_blas.cc:1452] Unable to register cuBLAS factory: Attempting to register factory for plugin cuBLAS when one has already been registered\n",
      "\u001b[36m(pid=8183)\u001b[0m 2024-12-01 14:05:24.617213: E external/local_xla/xla/stream_executor/cuda/cuda_fft.cc:485] Unable to register cuFFT factory: Attempting to register factory for plugin cuFFT when one has already been registered\n",
      "\u001b[36m(pid=8183)\u001b[0m 2024-12-01 14:05:24.704682: E external/local_xla/xla/stream_executor/cuda/cuda_dnn.cc:8454] Unable to register cuDNN factory: Attempting to register factory for plugin cuDNN when one has already been registered\n",
      "\u001b[36m(pid=8183)\u001b[0m 2024-12-01 14:05:24.728167: E external/local_xla/xla/stream_executor/cuda/cuda_blas.cc:1452] Unable to register cuBLAS factory: Attempting to register factory for plugin cuBLAS when one has already been registered\n",
      "\u001b[36m(pid=8182)\u001b[0m 2024-12-01 14:05:27.587808: W tensorflow/compiler/tf2tensorrt/utils/py_utils.cc:38] TF-TRT Warning: Could not find TensorRT\n",
      "\u001b[36m(pid=8183)\u001b[0m 2024-12-01 14:05:27.763557: W tensorflow/compiler/tf2tensorrt/utils/py_utils.cc:38] TF-TRT Warning: Could not find TensorRT\n",
      "\u001b[92mINFO \u001b[0m:      Received initial parameters from one random client\n",
      "\u001b[92mINFO \u001b[0m:      Starting evaluation of initial global parameters\n",
      "\u001b[92mINFO \u001b[0m:      Evaluation returned no results (`None`)\n",
      "\u001b[92mINFO \u001b[0m:      \n",
      "\u001b[92mINFO \u001b[0m:      [ROUND 1]\n",
      "\u001b[92mINFO \u001b[0m:      configure_fit: strategy sampled 10 clients (out of 10)\n"
     ]
    },
    {
     "name": "stdout",
     "output_type": "stream",
     "text": [
      "\u001b[36m(ClientAppActor pid=8183)\u001b[0m Epoch 1: Train Loss = 0.06702443286776542, Val Loss = 0.03136545326560736\n",
      "\u001b[36m(ClientAppActor pid=8182)\u001b[0m Epoch 1: Train Loss = 0.06522805678347747, Val Loss = 0.017509301309473813\n",
      "\u001b[36m(ClientAppActor pid=8183)\u001b[0m Epoch 1: Train Loss = 0.061926223213473956, Val Loss = 0.02812960014368097\n",
      "\u001b[36m(ClientAppActor pid=8182)\u001b[0m Epoch 1: Train Loss = 0.06723579226268663, Val Loss = 0.020762868458405137\n",
      "\u001b[36m(ClientAppActor pid=8183)\u001b[0m Epoch 1: Train Loss = 0.06335160202450223, Val Loss = 0.019560694345273077\n",
      "\u001b[36m(ClientAppActor pid=8182)\u001b[0m Epoch 1: Train Loss = 0.06532438525723086, Val Loss = 0.017892209580168128\n",
      "\u001b[36m(ClientAppActor pid=8183)\u001b[0m Epoch 1: Train Loss = 0.07379029939572017, Val Loss = 0.020107043363774817\n",
      "\u001b[36m(ClientAppActor pid=8182)\u001b[0m Epoch 1: Train Loss = 0.0694171348379718, Val Loss = 0.025018886585409444\n",
      "\u001b[36m(ClientAppActor pid=8183)\u001b[0m Epoch 1: Train Loss = 0.060400086061822046, Val Loss = 0.02996656686688463\n"
     ]
    },
    {
     "name": "stderr",
     "output_type": "stream",
     "text": [
      "\u001b[92mINFO \u001b[0m:      aggregate_fit: received 10 results and 0 failures\n"
     ]
    },
    {
     "name": "stdout",
     "output_type": "stream",
     "text": [
      "\u001b[36m(ClientAppActor pid=8182)\u001b[0m Epoch 1: Train Loss = 0.06101670877801047, Val Loss = 0.017941658617928624\n"
     ]
    },
    {
     "name": "stderr",
     "output_type": "stream",
     "text": [
      "\u001b[93mWARNING \u001b[0m:   No fit_metrics_aggregation_fn provided\n",
      "\u001b[92mINFO \u001b[0m:      configure_evaluate: strategy sampled 5 clients (out of 10)\n",
      "\u001b[92mINFO \u001b[0m:      aggregate_evaluate: received 5 results and 0 failures\n",
      "\u001b[93mWARNING \u001b[0m:   No evaluate_metrics_aggregation_fn provided\n",
      "\u001b[92mINFO \u001b[0m:      \n",
      "\u001b[92mINFO \u001b[0m:      [ROUND 2]\n",
      "\u001b[92mINFO \u001b[0m:      configure_fit: strategy sampled 10 clients (out of 10)\n"
     ]
    },
    {
     "name": "stdout",
     "output_type": "stream",
     "text": [
      "\u001b[36m(ClientAppActor pid=8183)\u001b[0m Epoch 1: Train Loss = 0.042574651539325714, Val Loss = 0.016486114744717877\n",
      "\u001b[36m(ClientAppActor pid=8182)\u001b[0m Epoch 1: Train Loss = 0.043679455667734145, Val Loss = 0.015125479840207845\n",
      "\u001b[36m(ClientAppActor pid=8183)\u001b[0m Epoch 1: Train Loss = 0.04315441793037785, Val Loss = 0.01701765980881949\n",
      "\u001b[36m(ClientAppActor pid=8182)\u001b[0m Epoch 1: Train Loss = 0.041907303325004044, Val Loss = 0.014171953623493513\n",
      "\u001b[36m(ClientAppActor pid=8183)\u001b[0m Epoch 1: Train Loss = 0.04068026232222716, Val Loss = 0.018708869193991024\n",
      "\u001b[36m(ClientAppActor pid=8182)\u001b[0m Epoch 1: Train Loss = 0.03696618986626466, Val Loss = 0.014002289584216973\n",
      "\u001b[36m(ClientAppActor pid=8183)\u001b[0m Epoch 1: Train Loss = 0.04441271958251794, Val Loss = 0.019649374453971784\n",
      "\u001b[36m(ClientAppActor pid=8182)\u001b[0m Epoch 1: Train Loss = 0.04130997562574016, Val Loss = 0.014388054143637419\n"
     ]
    },
    {
     "name": "stderr",
     "output_type": "stream",
     "text": [
      "\u001b[92mINFO \u001b[0m:      aggregate_fit: received 10 results and 0 failures\n"
     ]
    },
    {
     "name": "stdout",
     "output_type": "stream",
     "text": [
      "\u001b[36m(ClientAppActor pid=8183)\u001b[0m Epoch 1: Train Loss = 0.046685298987560804, Val Loss = 0.017190606178094942\n",
      "\u001b[36m(ClientAppActor pid=8182)\u001b[0m Epoch 1: Train Loss = 0.0410623949021101, Val Loss = 0.031554885751878224\n"
     ]
    },
    {
     "name": "stderr",
     "output_type": "stream",
     "text": [
      "\u001b[92mINFO \u001b[0m:      configure_evaluate: strategy sampled 5 clients (out of 10)\n",
      "\u001b[92mINFO \u001b[0m:      aggregate_evaluate: received 5 results and 0 failures\n",
      "\u001b[92mINFO \u001b[0m:      \n",
      "\u001b[92mINFO \u001b[0m:      [ROUND 3]\n",
      "\u001b[92mINFO \u001b[0m:      configure_fit: strategy sampled 10 clients (out of 10)\n"
     ]
    },
    {
     "name": "stdout",
     "output_type": "stream",
     "text": [
      "\u001b[36m(ClientAppActor pid=8182)\u001b[0m Epoch 1: Train Loss = 0.03064058700369464, Val Loss = 0.015617538942024112\n",
      "\u001b[36m(ClientAppActor pid=8183)\u001b[0m Epoch 1: Train Loss = 0.03303438288470109, Val Loss = 0.015201809098167965\n",
      "\u001b[36m(ClientAppActor pid=8182)\u001b[0m Epoch 1: Train Loss = 0.035301768531401954, Val Loss = 0.017458613806714613\n",
      "\u001b[36m(ClientAppActor pid=8183)\u001b[0m Epoch 1: Train Loss = 0.035300262893239655, Val Loss = 0.014862183015793562\n",
      "\u001b[36m(ClientAppActor pid=8182)\u001b[0m Epoch 1: Train Loss = 0.031631693202588296, Val Loss = 0.013536170745889345\n",
      "\u001b[36m(ClientAppActor pid=8183)\u001b[0m Epoch 1: Train Loss = 0.03113839460743798, Val Loss = 0.015296350698918104\n",
      "\u001b[36m(ClientAppActor pid=8183)\u001b[0m Epoch 1: Train Loss = 0.03240601163771417, Val Loss = 0.020236645980427664\n",
      "\u001b[36m(ClientAppActor pid=8182)\u001b[0m Epoch 1: Train Loss = 0.03453731261607673, Val Loss = 0.018301507690921426\n",
      "\u001b[36m(ClientAppActor pid=8183)\u001b[0m Epoch 1: Train Loss = 0.033900598684946694, Val Loss = 0.013241483053813377\n"
     ]
    },
    {
     "name": "stderr",
     "output_type": "stream",
     "text": [
      "\u001b[92mINFO \u001b[0m:      aggregate_fit: received 10 results and 0 failures\n"
     ]
    },
    {
     "name": "stdout",
     "output_type": "stream",
     "text": [
      "\u001b[36m(ClientAppActor pid=8182)\u001b[0m Epoch 1: Train Loss = 0.03124014147453838, Val Loss = 0.012425218049126366\n"
     ]
    },
    {
     "name": "stderr",
     "output_type": "stream",
     "text": [
      "\u001b[92mINFO \u001b[0m:      configure_evaluate: strategy sampled 5 clients (out of 10)\n",
      "\u001b[92mINFO \u001b[0m:      aggregate_evaluate: received 5 results and 0 failures\n",
      "\u001b[92mINFO \u001b[0m:      \n",
      "\u001b[92mINFO \u001b[0m:      [ROUND 4]\n",
      "\u001b[92mINFO \u001b[0m:      configure_fit: strategy sampled 10 clients (out of 10)\n"
     ]
    },
    {
     "name": "stdout",
     "output_type": "stream",
     "text": [
      "\u001b[36m(ClientAppActor pid=8183)\u001b[0m Epoch 1: Train Loss = 0.024887322779330943, Val Loss = 0.010863712416418517\n",
      "\u001b[36m(ClientAppActor pid=8182)\u001b[0m Epoch 1: Train Loss = 0.029428724406494036, Val Loss = 0.01593129169001865\n",
      "\u001b[36m(ClientAppActor pid=8183)\u001b[0m Epoch 1: Train Loss = 0.032374997188647586, Val Loss = 0.01288981867643694\n",
      "\u001b[36m(ClientAppActor pid=8182)\u001b[0m Epoch 1: Train Loss = 0.026810144219133587, Val Loss = 0.012742902166792192\n",
      "\u001b[36m(ClientAppActor pid=8182)\u001b[0m Epoch 1: Train Loss = 0.0262304006351365, Val Loss = 0.015032641512031356\n",
      "\u001b[36m(ClientAppActor pid=8183)\u001b[0m Epoch 1: Train Loss = 0.025895770515004794, Val Loss = 0.01547648455016315\n",
      "\u001b[36m(ClientAppActor pid=8183)\u001b[0m Epoch 1: Train Loss = 0.029126939529346096, Val Loss = 0.01231732494973888\n",
      "\u001b[36m(ClientAppActor pid=8182)\u001b[0m Epoch 1: Train Loss = 0.02709090809027354, Val Loss = 0.019948183558881283\n",
      "\u001b[36m(ClientAppActor pid=8183)\u001b[0m Epoch 1: Train Loss = 0.027314719371497632, Val Loss = 0.012740334301876525\n"
     ]
    },
    {
     "name": "stderr",
     "output_type": "stream",
     "text": [
      "\u001b[92mINFO \u001b[0m:      aggregate_fit: received 10 results and 0 failures\n",
      "\u001b[92mINFO \u001b[0m:      configure_evaluate: strategy sampled 5 clients (out of 10)\n"
     ]
    },
    {
     "name": "stdout",
     "output_type": "stream",
     "text": [
      "\u001b[36m(ClientAppActor pid=8182)\u001b[0m Epoch 1: Train Loss = 0.027886980668538147, Val Loss = 0.01537090155761689\n"
     ]
    },
    {
     "name": "stderr",
     "output_type": "stream",
     "text": [
      "\u001b[92mINFO \u001b[0m:      aggregate_evaluate: received 5 results and 0 failures\n",
      "\u001b[92mINFO \u001b[0m:      \n",
      "\u001b[92mINFO \u001b[0m:      [ROUND 5]\n",
      "\u001b[92mINFO \u001b[0m:      configure_fit: strategy sampled 10 clients (out of 10)\n"
     ]
    },
    {
     "name": "stdout",
     "output_type": "stream",
     "text": [
      "\u001b[36m(ClientAppActor pid=8182)\u001b[0m Epoch 1: Train Loss = 0.02748446690125598, Val Loss = 0.011795303939531246\n",
      "\u001b[36m(ClientAppActor pid=8183)\u001b[0m Epoch 1: Train Loss = 0.02492441317687432, Val Loss = 0.010995589623538157\n",
      "\u001b[36m(ClientAppActor pid=8183)\u001b[0m Epoch 1: Train Loss = 0.024142634351220396, Val Loss = 0.012467783720542988\n",
      "\u001b[36m(ClientAppActor pid=8182)\u001b[0m Epoch 1: Train Loss = 0.022314138462146124, Val Loss = 0.019758921504641574\n",
      "\u001b[36m(ClientAppActor pid=8183)\u001b[0m Epoch 1: Train Loss = 0.022058898251917626, Val Loss = 0.012700513781358799\n",
      "\u001b[36m(ClientAppActor pid=8182)\u001b[0m Epoch 1: Train Loss = 0.024153420308397875, Val Loss = 0.01830297987908125\n",
      "\u001b[36m(ClientAppActor pid=8183)\u001b[0m Epoch 1: Train Loss = 0.023712012709842786, Val Loss = 0.02201474504545331\n",
      "\u001b[36m(ClientAppActor pid=8182)\u001b[0m Epoch 1: Train Loss = 0.024329841550853517, Val Loss = 0.014157789565312365\n",
      "\u001b[36m(ClientAppActor pid=8183)\u001b[0m Epoch 1: Train Loss = 0.026364770241909558, Val Loss = 0.011200905855124196\n"
     ]
    },
    {
     "name": "stderr",
     "output_type": "stream",
     "text": [
      "\u001b[92mINFO \u001b[0m:      aggregate_fit: received 10 results and 0 failures\n",
      "\u001b[92mINFO \u001b[0m:      configure_evaluate: strategy sampled 5 clients (out of 10)\n"
     ]
    },
    {
     "name": "stdout",
     "output_type": "stream",
     "text": [
      "\u001b[36m(ClientAppActor pid=8182)\u001b[0m Epoch 1: Train Loss = 0.026223716822763286, Val Loss = 0.01553433551453054\n"
     ]
    },
    {
     "name": "stderr",
     "output_type": "stream",
     "text": [
      "\u001b[92mINFO \u001b[0m:      aggregate_evaluate: received 5 results and 0 failures\n",
      "\u001b[92mINFO \u001b[0m:      \n",
      "\u001b[92mINFO \u001b[0m:      [ROUND 6]\n",
      "\u001b[92mINFO \u001b[0m:      configure_fit: strategy sampled 10 clients (out of 10)\n"
     ]
    },
    {
     "name": "stdout",
     "output_type": "stream",
     "text": [
      "\u001b[36m(ClientAppActor pid=8183)\u001b[0m Epoch 1: Train Loss = 0.02117650428165992, Val Loss = 0.013695316078762213\n",
      "\u001b[36m(ClientAppActor pid=8182)\u001b[0m Epoch 1: Train Loss = 0.023095695032841628, Val Loss = 0.01817823275147627\n",
      "\u001b[36m(ClientAppActor pid=8183)\u001b[0m Epoch 1: Train Loss = 0.022366798172394436, Val Loss = 0.014071983440468708\n",
      "\u001b[36m(ClientAppActor pid=8182)\u001b[0m Epoch 1: Train Loss = 0.02121742359466023, Val Loss = 0.01132432093618263\n",
      "\u001b[36m(ClientAppActor pid=8182)\u001b[0m Epoch 1: Train Loss = 0.02248909564481841, Val Loss = 0.013966099824756384\n",
      "\u001b[36m(ClientAppActor pid=8183)\u001b[0m Epoch 1: Train Loss = 0.022618390205833647, Val Loss = 0.014670660719275475\n",
      "\u001b[36m(ClientAppActor pid=8182)\u001b[0m Epoch 1: Train Loss = 0.021922917974491914, Val Loss = 0.011602049188998839\n",
      "\u001b[36m(ClientAppActor pid=8183)\u001b[0m Epoch 1: Train Loss = 0.02167952592588133, Val Loss = 0.012293440250990292\n"
     ]
    },
    {
     "name": "stderr",
     "output_type": "stream",
     "text": [
      "\u001b[92mINFO \u001b[0m:      aggregate_fit: received 10 results and 0 failures\n"
     ]
    },
    {
     "name": "stdout",
     "output_type": "stream",
     "text": [
      "\u001b[36m(ClientAppActor pid=8182)\u001b[0m Epoch 1: Train Loss = 0.024110175151791837, Val Loss = 0.011687585191490749\n",
      "\u001b[36m(ClientAppActor pid=8183)\u001b[0m Epoch 1: Train Loss = 0.02254315774059958, Val Loss = 0.018784682188803952\n"
     ]
    },
    {
     "name": "stderr",
     "output_type": "stream",
     "text": [
      "\u001b[92mINFO \u001b[0m:      configure_evaluate: strategy sampled 5 clients (out of 10)\n",
      "\u001b[92mINFO \u001b[0m:      aggregate_evaluate: received 5 results and 0 failures\n",
      "\u001b[92mINFO \u001b[0m:      \n",
      "\u001b[92mINFO \u001b[0m:      [ROUND 7]\n",
      "\u001b[92mINFO \u001b[0m:      configure_fit: strategy sampled 10 clients (out of 10)\n"
     ]
    },
    {
     "name": "stdout",
     "output_type": "stream",
     "text": [
      "\u001b[36m(ClientAppActor pid=8183)\u001b[0m Epoch 1: Train Loss = 0.01975121773365471, Val Loss = 0.010292858583852649\n",
      "\u001b[36m(ClientAppActor pid=8182)\u001b[0m Epoch 1: Train Loss = 0.021636881969041295, Val Loss = 0.011826274334453046\n",
      "\u001b[36m(ClientAppActor pid=8182)\u001b[0m Epoch 1: Train Loss = 0.0204288378978769, Val Loss = 0.015815523142615955\n",
      "\u001b[36m(ClientAppActor pid=8183)\u001b[0m Epoch 1: Train Loss = 0.02055676088978847, Val Loss = 0.013257401956555745\n",
      "\u001b[36m(ClientAppActor pid=8183)\u001b[0m Epoch 1: Train Loss = 0.019719976662761634, Val Loss = 0.01384877844247967\n",
      "\u001b[36m(ClientAppActor pid=8182)\u001b[0m Epoch 1: Train Loss = 0.02193651625679599, Val Loss = 0.012008188175968826\n",
      "\u001b[36m(ClientAppActor pid=8183)\u001b[0m Epoch 1: Train Loss = 0.01933674623982774, Val Loss = 0.013801588395532841\n",
      "\u001b[36m(ClientAppActor pid=8182)\u001b[0m Epoch 1: Train Loss = 0.021554428566661146, Val Loss = 0.01220849393090854\n",
      "\u001b[36m(ClientAppActor pid=8183)\u001b[0m Epoch 1: Train Loss = 0.019792892763184175, Val Loss = 0.011292336188489571\n"
     ]
    },
    {
     "name": "stderr",
     "output_type": "stream",
     "text": [
      "\u001b[92mINFO \u001b[0m:      aggregate_fit: received 10 results and 0 failures\n",
      "\u001b[92mINFO \u001b[0m:      configure_evaluate: strategy sampled 5 clients (out of 10)\n"
     ]
    },
    {
     "name": "stdout",
     "output_type": "stream",
     "text": [
      "\u001b[36m(ClientAppActor pid=8182)\u001b[0m Epoch 1: Train Loss = 0.021041517704725267, Val Loss = 0.011778702572579883\n"
     ]
    },
    {
     "name": "stderr",
     "output_type": "stream",
     "text": [
      "\u001b[92mINFO \u001b[0m:      aggregate_evaluate: received 5 results and 0 failures\n",
      "\u001b[92mINFO \u001b[0m:      \n",
      "\u001b[92mINFO \u001b[0m:      [ROUND 8]\n",
      "\u001b[92mINFO \u001b[0m:      configure_fit: strategy sampled 10 clients (out of 10)\n"
     ]
    },
    {
     "name": "stdout",
     "output_type": "stream",
     "text": [
      "\u001b[36m(ClientAppActor pid=8182)\u001b[0m Epoch 1: Train Loss = 0.01862261849972937, Val Loss = 0.014567704522050917\n",
      "\u001b[36m(ClientAppActor pid=8183)\u001b[0m Epoch 1: Train Loss = 0.02139490268503626, Val Loss = 0.011005551677953918\n",
      "\u001b[36m(ClientAppActor pid=8183)\u001b[0m Epoch 1: Train Loss = 0.019688376639452245, Val Loss = 0.012793186974401275\n",
      "\u001b[36m(ClientAppActor pid=8182)\u001b[0m Epoch 1: Train Loss = 0.019044465157720777, Val Loss = 0.01249836067048212\n",
      "\u001b[36m(ClientAppActor pid=8182)\u001b[0m Epoch 1: Train Loss = 0.01820121251253618, Val Loss = 0.013059481706780693\n",
      "\u001b[36m(ClientAppActor pid=8183)\u001b[0m Epoch 1: Train Loss = 0.01923866371313731, Val Loss = 0.013588177350660166\n",
      "\u001b[36m(ClientAppActor pid=8182)\u001b[0m Epoch 1: Train Loss = 0.01966363965637154, Val Loss = 0.011599308423077067\n",
      "\u001b[36m(ClientAppActor pid=8183)\u001b[0m Epoch 1: Train Loss = 0.019783050090902383, Val Loss = 0.010994168502899507\n",
      "\u001b[36m(ClientAppActor pid=8182)\u001b[0m Epoch 1: Train Loss = 0.019960244682927928, Val Loss = 0.014757497701793909\n"
     ]
    },
    {
     "name": "stderr",
     "output_type": "stream",
     "text": [
      "\u001b[92mINFO \u001b[0m:      aggregate_fit: received 10 results and 0 failures\n",
      "\u001b[92mINFO \u001b[0m:      configure_evaluate: strategy sampled 5 clients (out of 10)\n"
     ]
    },
    {
     "name": "stdout",
     "output_type": "stream",
     "text": [
      "\u001b[36m(ClientAppActor pid=8183)\u001b[0m Epoch 1: Train Loss = 0.018484835274931458, Val Loss = 0.012296733174783489\n"
     ]
    },
    {
     "name": "stderr",
     "output_type": "stream",
     "text": [
      "\u001b[92mINFO \u001b[0m:      aggregate_evaluate: received 5 results and 0 failures\n",
      "\u001b[92mINFO \u001b[0m:      \n",
      "\u001b[92mINFO \u001b[0m:      [ROUND 9]\n",
      "\u001b[92mINFO \u001b[0m:      configure_fit: strategy sampled 10 clients (out of 10)\n"
     ]
    },
    {
     "name": "stdout",
     "output_type": "stream",
     "text": [
      "\u001b[36m(ClientAppActor pid=8182)\u001b[0m Epoch 1: Train Loss = 0.018211626613305675, Val Loss = 0.010625021648593247\n",
      "\u001b[36m(ClientAppActor pid=8183)\u001b[0m Epoch 1: Train Loss = 0.019427804090082646, Val Loss = 0.014771193304720024\n",
      "\u001b[36m(ClientAppActor pid=8182)\u001b[0m Epoch 1: Train Loss = 0.01795416564370195, Val Loss = 0.012014970047554622\n",
      "\u001b[36m(ClientAppActor pid=8183)\u001b[0m Epoch 1: Train Loss = 0.01855426107843717, Val Loss = 0.011121083865873516\n",
      "\u001b[36m(ClientAppActor pid=8182)\u001b[0m Epoch 1: Train Loss = 0.018130165421300463, Val Loss = 0.011601753338860968\n",
      "\u001b[36m(ClientAppActor pid=8183)\u001b[0m Epoch 1: Train Loss = 0.01697365544322464, Val Loss = 0.012852217730445167\n",
      "\u001b[36m(ClientAppActor pid=8182)\u001b[0m Epoch 1: Train Loss = 0.017921143025159837, Val Loss = 0.01370878548671802\n",
      "\u001b[36m(ClientAppActor pid=8183)\u001b[0m Epoch 1: Train Loss = 0.017348665268056923, Val Loss = 0.011401043254105995\n",
      "\u001b[36m(ClientAppActor pid=8182)\u001b[0m Epoch 1: Train Loss = 0.018741058247784773, Val Loss = 0.013445686698105419\n"
     ]
    },
    {
     "name": "stderr",
     "output_type": "stream",
     "text": [
      "\u001b[92mINFO \u001b[0m:      aggregate_fit: received 10 results and 0 failures\n",
      "\u001b[92mINFO \u001b[0m:      configure_evaluate: strategy sampled 5 clients (out of 10)\n"
     ]
    },
    {
     "name": "stdout",
     "output_type": "stream",
     "text": [
      "\u001b[36m(ClientAppActor pid=8183)\u001b[0m Epoch 1: Train Loss = 0.017436106420225566, Val Loss = 0.012956275915106138\n"
     ]
    },
    {
     "name": "stderr",
     "output_type": "stream",
     "text": [
      "\u001b[92mINFO \u001b[0m:      aggregate_evaluate: received 5 results and 0 failures\n",
      "\u001b[92mINFO \u001b[0m:      \n",
      "\u001b[92mINFO \u001b[0m:      [ROUND 10]\n",
      "\u001b[92mINFO \u001b[0m:      configure_fit: strategy sampled 10 clients (out of 10)\n"
     ]
    },
    {
     "name": "stdout",
     "output_type": "stream",
     "text": [
      "\u001b[36m(ClientAppActor pid=8183)\u001b[0m Epoch 1: Train Loss = 0.019213089222709336, Val Loss = 0.012237523643610379\n",
      "\u001b[36m(ClientAppActor pid=8182)\u001b[0m Epoch 1: Train Loss = 0.017384801101353434, Val Loss = 0.010342193262962004\n",
      "\u001b[36m(ClientAppActor pid=8182)\u001b[0m Epoch 1: Train Loss = 0.017522427274121177, Val Loss = 0.011187722756100507\n",
      "\u001b[36m(ClientAppActor pid=8183)\u001b[0m Epoch 1: Train Loss = 0.017767456587817934, Val Loss = 0.01397441967856139\n",
      "\u001b[36m(ClientAppActor pid=8183)\u001b[0m Epoch 1: Train Loss = 0.017679000759704244, Val Loss = 0.011729679342048863\n",
      "\u001b[36m(ClientAppActor pid=8182)\u001b[0m Epoch 1: Train Loss = 0.01681604257060422, Val Loss = 0.015105369267985225\n",
      "\u001b[36m(ClientAppActor pid=8182)\u001b[0m Epoch 1: Train Loss = 0.018670117110013963, Val Loss = 0.011701725656166673\n",
      "\u001b[36m(ClientAppActor pid=8183)\u001b[0m Epoch 1: Train Loss = 0.01846839346819454, Val Loss = 0.013843495359954735\n"
     ]
    },
    {
     "name": "stderr",
     "output_type": "stream",
     "text": [
      "\u001b[92mINFO \u001b[0m:      aggregate_fit: received 10 results and 0 failures\n",
      "\u001b[92mINFO \u001b[0m:      configure_evaluate: strategy sampled 5 clients (out of 10)\n"
     ]
    },
    {
     "name": "stdout",
     "output_type": "stream",
     "text": [
      "\u001b[36m(ClientAppActor pid=8182)\u001b[0m Epoch 1: Train Loss = 0.01604253767679135, Val Loss = 0.01235138310585171\n",
      "\u001b[36m(ClientAppActor pid=8183)\u001b[0m Epoch 1: Train Loss = 0.017648834300537906, Val Loss = 0.011563145710776249\n"
     ]
    },
    {
     "name": "stderr",
     "output_type": "stream",
     "text": [
      "\u001b[92mINFO \u001b[0m:      aggregate_evaluate: received 5 results and 0 failures\n",
      "\u001b[92mINFO \u001b[0m:      \n",
      "\u001b[92mINFO \u001b[0m:      [ROUND 11]\n",
      "\u001b[92mINFO \u001b[0m:      configure_fit: strategy sampled 10 clients (out of 10)\n"
     ]
    },
    {
     "name": "stdout",
     "output_type": "stream",
     "text": [
      "\u001b[36m(ClientAppActor pid=8183)\u001b[0m Epoch 1: Train Loss = 0.018740996004392704, Val Loss = 0.01096904039150104\n",
      "\u001b[36m(ClientAppActor pid=8182)\u001b[0m Epoch 1: Train Loss = 0.016588881384167406, Val Loss = 0.01042711571790278\n",
      "\u001b[36m(ClientAppActor pid=8183)\u001b[0m Epoch 1: Train Loss = 0.017386197567813927, Val Loss = 0.019634692308803398\n",
      "\u001b[36m(ClientAppActor pid=8182)\u001b[0m Epoch 1: Train Loss = 0.017142288552390205, Val Loss = 0.011142371726843217\n",
      "\u001b[36m(ClientAppActor pid=8183)\u001b[0m Epoch 1: Train Loss = 0.01631263035039107, Val Loss = 0.013014601698766151\n",
      "\u001b[36m(ClientAppActor pid=8182)\u001b[0m Epoch 1: Train Loss = 0.016510430537164212, Val Loss = 0.012823349252964059\n",
      "\u001b[36m(ClientAppActor pid=8183)\u001b[0m Epoch 1: Train Loss = 0.017472172818250125, Val Loss = 0.013092865759972483\n",
      "\u001b[36m(ClientAppActor pid=8182)\u001b[0m Epoch 1: Train Loss = 0.01792005238433679, Val Loss = 0.011173399048857391\n",
      "\u001b[36m(ClientAppActor pid=8183)\u001b[0m Epoch 1: Train Loss = 0.017218755475348898, Val Loss = 0.011850257559369007\n"
     ]
    },
    {
     "name": "stderr",
     "output_type": "stream",
     "text": [
      "\u001b[92mINFO \u001b[0m:      aggregate_fit: received 10 results and 0 failures\n",
      "\u001b[92mINFO \u001b[0m:      configure_evaluate: strategy sampled 5 clients (out of 10)\n"
     ]
    },
    {
     "name": "stdout",
     "output_type": "stream",
     "text": [
      "\u001b[36m(ClientAppActor pid=8182)\u001b[0m Epoch 1: Train Loss = 0.016344993458025984, Val Loss = 0.011449995489480594\n"
     ]
    },
    {
     "name": "stderr",
     "output_type": "stream",
     "text": [
      "\u001b[92mINFO \u001b[0m:      aggregate_evaluate: received 5 results and 0 failures\n",
      "\u001b[92mINFO \u001b[0m:      \n",
      "\u001b[92mINFO \u001b[0m:      [ROUND 12]\n",
      "\u001b[92mINFO \u001b[0m:      configure_fit: strategy sampled 10 clients (out of 10)\n"
     ]
    },
    {
     "name": "stdout",
     "output_type": "stream",
     "text": [
      "\u001b[36m(ClientAppActor pid=8182)\u001b[0m Epoch 1: Train Loss = 0.017149268670214546, Val Loss = 0.01109713587599496\n",
      "\u001b[36m(ClientAppActor pid=8183)\u001b[0m Epoch 1: Train Loss = 0.016131233899957603, Val Loss = 0.012294407468289137\n",
      "\u001b[36m(ClientAppActor pid=8183)\u001b[0m Epoch 1: Train Loss = 0.0162654685580896, Val Loss = 0.011738563975086436\n",
      "\u001b[36m(ClientAppActor pid=8182)\u001b[0m Epoch 1: Train Loss = 0.017853040775905053, Val Loss = 0.011000268976204097\n",
      "\u001b[36m(ClientAppActor pid=8183)\u001b[0m Epoch 1: Train Loss = 0.016414219265182814, Val Loss = 0.014798677565219501\n",
      "\u001b[36m(ClientAppActor pid=8182)\u001b[0m Epoch 1: Train Loss = 0.015057558897468779, Val Loss = 0.011055502497280637\n",
      "\u001b[36m(ClientAppActor pid=8183)\u001b[0m Epoch 1: Train Loss = 0.01791841789252228, Val Loss = 0.012049382940555612\n",
      "\u001b[36m(ClientAppActor pid=8182)\u001b[0m Epoch 1: Train Loss = 0.0174053356051445, Val Loss = 0.01141260847604523\n",
      "\u001b[36m(ClientAppActor pid=8183)\u001b[0m Epoch 1: Train Loss = 0.016620540846553115, Val Loss = 0.01263748660373191\n"
     ]
    },
    {
     "name": "stderr",
     "output_type": "stream",
     "text": [
      "\u001b[92mINFO \u001b[0m:      aggregate_fit: received 10 results and 0 failures\n",
      "\u001b[92mINFO \u001b[0m:      configure_evaluate: strategy sampled 5 clients (out of 10)\n"
     ]
    },
    {
     "name": "stdout",
     "output_type": "stream",
     "text": [
      "\u001b[36m(ClientAppActor pid=8182)\u001b[0m Epoch 1: Train Loss = 0.016023242846131325, Val Loss = 0.012013839712987343\n"
     ]
    },
    {
     "name": "stderr",
     "output_type": "stream",
     "text": [
      "\u001b[92mINFO \u001b[0m:      aggregate_evaluate: received 5 results and 0 failures\n",
      "\u001b[92mINFO \u001b[0m:      \n",
      "\u001b[92mINFO \u001b[0m:      [ROUND 13]\n",
      "\u001b[92mINFO \u001b[0m:      configure_fit: strategy sampled 10 clients (out of 10)\n"
     ]
    },
    {
     "name": "stdout",
     "output_type": "stream",
     "text": [
      "\u001b[36m(ClientAppActor pid=8182)\u001b[0m Epoch 1: Train Loss = 0.016181919703053105, Val Loss = 0.011070052608071515\n",
      "\u001b[36m(ClientAppActor pid=8183)\u001b[0m Epoch 1: Train Loss = 0.017511231990324127, Val Loss = 0.010757430990148956\n",
      "\u001b[36m(ClientAppActor pid=8183)\u001b[0m Epoch 1: Train Loss = 0.01629490252170298, Val Loss = 0.010882489538441101\n",
      "\u001b[36m(ClientAppActor pid=8182)\u001b[0m Epoch 1: Train Loss = 0.016503597361346087, Val Loss = 0.01102827788660458\n",
      "\u001b[36m(ClientAppActor pid=8183)\u001b[0m Epoch 1: Train Loss = 0.015677991230040787, Val Loss = 0.011749759937326113\n",
      "\u001b[36m(ClientAppActor pid=8182)\u001b[0m Epoch 1: Train Loss = 0.014684736759712299, Val Loss = 0.01463927006504188\n",
      "\u001b[36m(ClientAppActor pid=8182)\u001b[0m Epoch 1: Train Loss = 0.014744522888213396, Val Loss = 0.010796845201790953\n",
      "\u001b[36m(ClientAppActor pid=8183)\u001b[0m Epoch 1: Train Loss = 0.016136375731892055, Val Loss = 0.013205646925295392\n",
      "\u001b[36m(ClientAppActor pid=8182)\u001b[0m Epoch 1: Train Loss = 0.014969107405179077, Val Loss = 0.010743246725269273\n"
     ]
    },
    {
     "name": "stderr",
     "output_type": "stream",
     "text": [
      "\u001b[92mINFO \u001b[0m:      aggregate_fit: received 10 results and 0 failures\n",
      "\u001b[92mINFO \u001b[0m:      configure_evaluate: strategy sampled 5 clients (out of 10)\n"
     ]
    },
    {
     "name": "stdout",
     "output_type": "stream",
     "text": [
      "\u001b[36m(ClientAppActor pid=8183)\u001b[0m Epoch 1: Train Loss = 0.014861715181420246, Val Loss = 0.011797983975460133\n"
     ]
    },
    {
     "name": "stderr",
     "output_type": "stream",
     "text": [
      "\u001b[92mINFO \u001b[0m:      aggregate_evaluate: received 5 results and 0 failures\n",
      "\u001b[92mINFO \u001b[0m:      \n",
      "\u001b[92mINFO \u001b[0m:      [ROUND 14]\n",
      "\u001b[92mINFO \u001b[0m:      configure_fit: strategy sampled 10 clients (out of 10)\n"
     ]
    },
    {
     "name": "stdout",
     "output_type": "stream",
     "text": [
      "\u001b[36m(ClientAppActor pid=8183)\u001b[0m Epoch 1: Train Loss = 0.017737313670416675, Val Loss = 0.012228842630671958\n",
      "\u001b[36m(ClientAppActor pid=8182)\u001b[0m Epoch 1: Train Loss = 0.014773083188467555, Val Loss = 0.009886771246480444\n",
      "\u001b[36m(ClientAppActor pid=8183)\u001b[0m Epoch 1: Train Loss = 0.016551341147472462, Val Loss = 0.010748433414846659\n",
      "\u001b[36m(ClientAppActor pid=8182)\u001b[0m Epoch 1: Train Loss = 0.01633104590906037, Val Loss = 0.010848363861441612\n",
      "\u001b[36m(ClientAppActor pid=8183)\u001b[0m Epoch 1: Train Loss = 0.015281979056696097, Val Loss = 0.013431668591996035\n",
      "\u001b[36m(ClientAppActor pid=8182)\u001b[0m Epoch 1: Train Loss = 0.014566106763150956, Val Loss = 0.011016712329971293\n",
      "\u001b[36m(ClientAppActor pid=8183)\u001b[0m Epoch 1: Train Loss = 0.016764813734011518, Val Loss = 0.01239576211567813\n",
      "\u001b[36m(ClientAppActor pid=8182)\u001b[0m Epoch 1: Train Loss = 0.01531952280137274, Val Loss = 0.011451512497539321\n",
      "\u001b[36m(ClientAppActor pid=8183)\u001b[0m Epoch 1: Train Loss = 0.015210516874988873, Val Loss = 0.012937539645160237\n"
     ]
    },
    {
     "name": "stderr",
     "output_type": "stream",
     "text": [
      "\u001b[92mINFO \u001b[0m:      aggregate_fit: received 10 results and 0 failures\n",
      "\u001b[92mINFO \u001b[0m:      configure_evaluate: strategy sampled 5 clients (out of 10)\n"
     ]
    },
    {
     "name": "stdout",
     "output_type": "stream",
     "text": [
      "\u001b[36m(ClientAppActor pid=8182)\u001b[0m Epoch 1: Train Loss = 0.01714404412648744, Val Loss = 0.012803848134353757\n"
     ]
    },
    {
     "name": "stderr",
     "output_type": "stream",
     "text": [
      "\u001b[92mINFO \u001b[0m:      aggregate_evaluate: received 5 results and 0 failures\n",
      "\u001b[92mINFO \u001b[0m:      \n",
      "\u001b[92mINFO \u001b[0m:      [ROUND 15]\n",
      "\u001b[92mINFO \u001b[0m:      configure_fit: strategy sampled 10 clients (out of 10)\n"
     ]
    },
    {
     "name": "stdout",
     "output_type": "stream",
     "text": [
      "\u001b[36m(ClientAppActor pid=8183)\u001b[0m Epoch 1: Train Loss = 0.014997202954772446, Val Loss = 0.014941384006912509\n",
      "\u001b[36m(ClientAppActor pid=8182)\u001b[0m Epoch 1: Train Loss = 0.01688518195102612, Val Loss = 0.013393446757011892\n",
      "\u001b[36m(ClientAppActor pid=8182)\u001b[0m Epoch 1: Train Loss = 0.015087127809723218, Val Loss = 0.012528812202314535\n",
      "\u001b[36m(ClientAppActor pid=8183)\u001b[0m Epoch 1: Train Loss = 0.01447895270668798, Val Loss = 0.01360605121590197\n",
      "\u001b[36m(ClientAppActor pid=8183)\u001b[0m Epoch 1: Train Loss = 0.014464010018855333, Val Loss = 0.012401276268064976\n",
      "\u001b[36m(ClientAppActor pid=8182)\u001b[0m Epoch 1: Train Loss = 0.013884410872641537, Val Loss = 0.0114947649029394\n",
      "\u001b[36m(ClientAppActor pid=8182)\u001b[0m Epoch 1: Train Loss = 0.015406234531352918, Val Loss = 0.01279801995648692\n",
      "\u001b[36m(ClientAppActor pid=8183)\u001b[0m Epoch 1: Train Loss = 0.01601314427745011, Val Loss = 0.017273256788030267\n",
      "\u001b[36m(ClientAppActor pid=8182)\u001b[0m Epoch 1: Train Loss = 0.015235315677192477, Val Loss = 0.011448138005410632\n"
     ]
    },
    {
     "name": "stderr",
     "output_type": "stream",
     "text": [
      "\u001b[92mINFO \u001b[0m:      aggregate_fit: received 10 results and 0 failures\n",
      "\u001b[92mINFO \u001b[0m:      configure_evaluate: strategy sampled 5 clients (out of 10)\n"
     ]
    },
    {
     "name": "stdout",
     "output_type": "stream",
     "text": [
      "\u001b[36m(ClientAppActor pid=8183)\u001b[0m Epoch 1: Train Loss = 0.015500930117236243, Val Loss = 0.011260795989073813\n"
     ]
    },
    {
     "name": "stderr",
     "output_type": "stream",
     "text": [
      "\u001b[92mINFO \u001b[0m:      aggregate_evaluate: received 5 results and 0 failures\n",
      "\u001b[92mINFO \u001b[0m:      \n",
      "\u001b[92mINFO \u001b[0m:      [ROUND 16]\n",
      "\u001b[92mINFO \u001b[0m:      configure_fit: strategy sampled 10 clients (out of 10)\n"
     ]
    },
    {
     "name": "stdout",
     "output_type": "stream",
     "text": [
      "\u001b[36m(ClientAppActor pid=8182)\u001b[0m Epoch 1: Train Loss = 0.014639983967774444, Val Loss = 0.010256379066656033\n",
      "\u001b[36m(ClientAppActor pid=8183)\u001b[0m Epoch 1: Train Loss = 0.01519410243878762, Val Loss = 0.014008273215343555\n",
      "\u001b[36m(ClientAppActor pid=8182)\u001b[0m Epoch 1: Train Loss = 0.01499045720944802, Val Loss = 0.012168033242536088\n",
      "\u001b[36m(ClientAppActor pid=8183)\u001b[0m Epoch 1: Train Loss = 0.015832697838130926, Val Loss = 0.010588557071362933\n",
      "\u001b[36m(ClientAppActor pid=8182)\u001b[0m Epoch 1: Train Loss = 0.014370439594818487, Val Loss = 0.013900179338331023\n",
      "\u001b[36m(ClientAppActor pid=8183)\u001b[0m Epoch 1: Train Loss = 0.015854029595437975, Val Loss = 0.012165701249614358\n",
      "\u001b[36m(ClientAppActor pid=8182)\u001b[0m Epoch 1: Train Loss = 0.0149197770593067, Val Loss = 0.010249673088158792\n",
      "\u001b[36m(ClientAppActor pid=8183)\u001b[0m Epoch 1: Train Loss = 0.016460275443063842, Val Loss = 0.010653177392669022\n",
      "\u001b[36m(ClientAppActor pid=8182)\u001b[0m Epoch 1: Train Loss = 0.015624866106857855, Val Loss = 0.011263373075053096\n"
     ]
    },
    {
     "name": "stderr",
     "output_type": "stream",
     "text": [
      "\u001b[92mINFO \u001b[0m:      aggregate_fit: received 10 results and 0 failures\n",
      "\u001b[92mINFO \u001b[0m:      configure_evaluate: strategy sampled 5 clients (out of 10)\n"
     ]
    },
    {
     "name": "stdout",
     "output_type": "stream",
     "text": [
      "\u001b[36m(ClientAppActor pid=8183)\u001b[0m Epoch 1: Train Loss = 0.01530528108899792, Val Loss = 0.010917176608927548\n"
     ]
    },
    {
     "name": "stderr",
     "output_type": "stream",
     "text": [
      "\u001b[92mINFO \u001b[0m:      aggregate_evaluate: received 5 results and 0 failures\n",
      "\u001b[92mINFO \u001b[0m:      \n",
      "\u001b[92mINFO \u001b[0m:      [ROUND 17]\n",
      "\u001b[92mINFO \u001b[0m:      configure_fit: strategy sampled 10 clients (out of 10)\n"
     ]
    },
    {
     "name": "stdout",
     "output_type": "stream",
     "text": [
      "\u001b[36m(ClientAppActor pid=8182)\u001b[0m Epoch 1: Train Loss = 0.015220650140610007, Val Loss = 0.011396553095740577\n",
      "\u001b[36m(ClientAppActor pid=8183)\u001b[0m Epoch 1: Train Loss = 0.013929745979193183, Val Loss = 0.010241199983283877\n",
      "\u001b[36m(ClientAppActor pid=8182)\u001b[0m Epoch 1: Train Loss = 0.014252267208778195, Val Loss = 0.01889517856761813\n",
      "\u001b[36m(ClientAppActor pid=8183)\u001b[0m Epoch 1: Train Loss = 0.015300833878831731, Val Loss = 0.010134259394059578\n",
      "\u001b[36m(ClientAppActor pid=8182)\u001b[0m Epoch 1: Train Loss = 0.014460715423855517, Val Loss = 0.01367863353031377\n",
      "\u001b[36m(ClientAppActor pid=8183)\u001b[0m Epoch 1: Train Loss = 0.014486530133419566, Val Loss = 0.011834642520019164\n",
      "\u001b[36m(ClientAppActor pid=8182)\u001b[0m Epoch 1: Train Loss = 0.017042753597100575, Val Loss = 0.011443354577446977\n",
      "\u001b[36m(ClientAppActor pid=8183)\u001b[0m Epoch 1: Train Loss = 0.01490837950259447, Val Loss = 0.01300309676056107\n",
      "\u001b[36m(ClientAppActor pid=8182)\u001b[0m Epoch 1: Train Loss = 0.013973811382634772, Val Loss = 0.011257879125575224\n"
     ]
    },
    {
     "name": "stderr",
     "output_type": "stream",
     "text": [
      "\u001b[92mINFO \u001b[0m:      aggregate_fit: received 10 results and 0 failures\n",
      "\u001b[92mINFO \u001b[0m:      configure_evaluate: strategy sampled 5 clients (out of 10)\n"
     ]
    },
    {
     "name": "stdout",
     "output_type": "stream",
     "text": [
      "\u001b[36m(ClientAppActor pid=8183)\u001b[0m Epoch 1: Train Loss = 0.014421391021460294, Val Loss = 0.010957994605026519\n"
     ]
    },
    {
     "name": "stderr",
     "output_type": "stream",
     "text": [
      "\u001b[92mINFO \u001b[0m:      aggregate_evaluate: received 5 results and 0 failures\n",
      "\u001b[92mINFO \u001b[0m:      \n",
      "\u001b[92mINFO \u001b[0m:      [ROUND 18]\n",
      "\u001b[92mINFO \u001b[0m:      configure_fit: strategy sampled 10 clients (out of 10)\n"
     ]
    },
    {
     "name": "stdout",
     "output_type": "stream",
     "text": [
      "\u001b[36m(ClientAppActor pid=8183)\u001b[0m Epoch 1: Train Loss = 0.016590801760968235, Val Loss = 0.010784724300416807\n",
      "\u001b[36m(ClientAppActor pid=8182)\u001b[0m Epoch 1: Train Loss = 0.014865506657709677, Val Loss = 0.013383088711028298\n",
      "\u001b[36m(ClientAppActor pid=8183)\u001b[0m Epoch 1: Train Loss = 0.015163629067440827, Val Loss = 0.010234473544793824\n",
      "\u001b[36m(ClientAppActor pid=8182)\u001b[0m Epoch 1: Train Loss = 0.015033321206768353, Val Loss = 0.011813701984162131\n",
      "\u001b[36m(ClientAppActor pid=8183)\u001b[0m Epoch 1: Train Loss = 0.015004050359129906, Val Loss = 0.014543838701987019\n",
      "\u001b[36m(ClientAppActor pid=8182)\u001b[0m Epoch 1: Train Loss = 0.014407934269143476, Val Loss = 0.011516177017862598\n",
      "\u001b[36m(ClientAppActor pid=8183)\u001b[0m Epoch 1: Train Loss = 0.013844294670141406, Val Loss = 0.012548991711810231\n",
      "\u001b[36m(ClientAppActor pid=8182)\u001b[0m Epoch 1: Train Loss = 0.014684474695887831, Val Loss = 0.014034536861193677\n",
      "\u001b[36m(ClientAppActor pid=8183)\u001b[0m Epoch 1: Train Loss = 0.01411981913778517, Val Loss = 0.011655245810591927\n"
     ]
    },
    {
     "name": "stderr",
     "output_type": "stream",
     "text": [
      "\u001b[92mINFO \u001b[0m:      aggregate_fit: received 10 results and 0 failures\n",
      "\u001b[92mINFO \u001b[0m:      configure_evaluate: strategy sampled 5 clients (out of 10)\n"
     ]
    },
    {
     "name": "stdout",
     "output_type": "stream",
     "text": [
      "\u001b[36m(ClientAppActor pid=8182)\u001b[0m Epoch 1: Train Loss = 0.014239873085170985, Val Loss = 0.012301068985834718\n"
     ]
    },
    {
     "name": "stderr",
     "output_type": "stream",
     "text": [
      "\u001b[92mINFO \u001b[0m:      aggregate_evaluate: received 5 results and 0 failures\n",
      "\u001b[92mINFO \u001b[0m:      \n",
      "\u001b[92mINFO \u001b[0m:      [ROUND 19]\n",
      "\u001b[92mINFO \u001b[0m:      configure_fit: strategy sampled 10 clients (out of 10)\n"
     ]
    },
    {
     "name": "stdout",
     "output_type": "stream",
     "text": [
      "\u001b[36m(ClientAppActor pid=8183)\u001b[0m Epoch 1: Train Loss = 0.015104282150665919, Val Loss = 0.01302490197122097\n",
      "\u001b[36m(ClientAppActor pid=8182)\u001b[0m Epoch 1: Train Loss = 0.014801404242300325, Val Loss = 0.010760226286947727\n",
      "\u001b[36m(ClientAppActor pid=8183)\u001b[0m Epoch 1: Train Loss = 0.013949459087517527, Val Loss = 0.012685472417312363\n",
      "\u001b[36m(ClientAppActor pid=8182)\u001b[0m Epoch 1: Train Loss = 0.013829923917849858, Val Loss = 0.011823817117450139\n",
      "\u001b[36m(ClientAppActor pid=8182)\u001b[0m Epoch 1: Train Loss = 0.0134642805179788, Val Loss = 0.0133240787157168\n",
      "\u001b[36m(ClientAppActor pid=8183)\u001b[0m Epoch 1: Train Loss = 0.01380146596994665, Val Loss = 0.012617993828219673\n",
      "\u001b[36m(ClientAppActor pid=8182)\u001b[0m Epoch 1: Train Loss = 0.01393527700048354, Val Loss = 0.014041363455665609\n",
      "\u001b[36m(ClientAppActor pid=8183)\u001b[0m Epoch 1: Train Loss = 0.015784996665186353, Val Loss = 0.011593042960157618\n",
      "\u001b[36m(ClientAppActor pid=8182)\u001b[0m Epoch 1: Train Loss = 0.015179081757863363, Val Loss = 0.011303647266079983\n"
     ]
    },
    {
     "name": "stderr",
     "output_type": "stream",
     "text": [
      "\u001b[92mINFO \u001b[0m:      aggregate_fit: received 10 results and 0 failures\n",
      "\u001b[92mINFO \u001b[0m:      configure_evaluate: strategy sampled 5 clients (out of 10)\n"
     ]
    },
    {
     "name": "stdout",
     "output_type": "stream",
     "text": [
      "\u001b[36m(ClientAppActor pid=8183)\u001b[0m Epoch 1: Train Loss = 0.01421254492468304, Val Loss = 0.011318920839888355\n"
     ]
    },
    {
     "name": "stderr",
     "output_type": "stream",
     "text": [
      "\u001b[92mINFO \u001b[0m:      aggregate_evaluate: received 5 results and 0 failures\n",
      "\u001b[92mINFO \u001b[0m:      \n",
      "\u001b[92mINFO \u001b[0m:      [ROUND 20]\n",
      "\u001b[92mINFO \u001b[0m:      configure_fit: strategy sampled 10 clients (out of 10)\n"
     ]
    },
    {
     "name": "stdout",
     "output_type": "stream",
     "text": [
      "\u001b[36m(ClientAppActor pid=8182)\u001b[0m Epoch 1: Train Loss = 0.014425785549812846, Val Loss = 0.012710408074781299\n",
      "\u001b[36m(ClientAppActor pid=8183)\u001b[0m Epoch 1: Train Loss = 0.013490192178222869, Val Loss = 0.009214890907363346\n",
      "\u001b[36m(ClientAppActor pid=8183)\u001b[0m Epoch 1: Train Loss = 0.01351411001653307, Val Loss = 0.011116926015044251\n",
      "\u001b[36m(ClientAppActor pid=8182)\u001b[0m Epoch 1: Train Loss = 0.013885139032370514, Val Loss = 0.01057476499894013\n",
      "\u001b[36m(ClientAppActor pid=8183)\u001b[0m Epoch 1: Train Loss = 0.013582599390712049, Val Loss = 0.014208997444560131\n",
      "\u001b[36m(ClientAppActor pid=8182)\u001b[0m Epoch 1: Train Loss = 0.013795691790680091, Val Loss = 0.011748544367340704\n",
      "\u001b[36m(ClientAppActor pid=8182)\u001b[0m Epoch 1: Train Loss = 0.01346346837364965, Val Loss = 0.010526227692025714\n",
      "\u001b[36m(ClientAppActor pid=8183)\u001b[0m Epoch 1: Train Loss = 0.015613877845721113, Val Loss = 0.010530165978707373\n",
      "\u001b[36m(ClientAppActor pid=8182)\u001b[0m Epoch 1: Train Loss = 0.013500484596523974, Val Loss = 0.012462458844917515\n"
     ]
    },
    {
     "name": "stderr",
     "output_type": "stream",
     "text": [
      "\u001b[92mINFO \u001b[0m:      aggregate_fit: received 10 results and 0 failures\n",
      "\u001b[92mINFO \u001b[0m:      configure_evaluate: strategy sampled 5 clients (out of 10)\n"
     ]
    },
    {
     "name": "stdout",
     "output_type": "stream",
     "text": [
      "\u001b[36m(ClientAppActor pid=8183)\u001b[0m Epoch 1: Train Loss = 0.014419097256743245, Val Loss = 0.011379296464535097\n"
     ]
    },
    {
     "name": "stderr",
     "output_type": "stream",
     "text": [
      "\u001b[92mINFO \u001b[0m:      aggregate_evaluate: received 5 results and 0 failures\n",
      "\u001b[92mINFO \u001b[0m:      \n",
      "\u001b[92mINFO \u001b[0m:      [ROUND 21]\n",
      "\u001b[92mINFO \u001b[0m:      configure_fit: strategy sampled 10 clients (out of 10)\n"
     ]
    },
    {
     "name": "stdout",
     "output_type": "stream",
     "text": [
      "\u001b[36m(ClientAppActor pid=8182)\u001b[0m Epoch 1: Train Loss = 0.013415691028866503, Val Loss = 0.013762092023777464\n",
      "\u001b[36m(ClientAppActor pid=8183)\u001b[0m Epoch 1: Train Loss = 0.016113246221923165, Val Loss = 0.012735146408279737\n",
      "\u001b[36m(ClientAppActor pid=8182)\u001b[0m Epoch 1: Train Loss = 0.01432370747336083, Val Loss = 0.012112158758100122\n",
      "\u001b[36m(ClientAppActor pid=8183)\u001b[0m Epoch 1: Train Loss = 0.014010681253340509, Val Loss = 0.013919837462405363\n",
      "\u001b[36m(ClientAppActor pid=8182)\u001b[0m Epoch 1: Train Loss = 0.01358657323030962, Val Loss = 0.01118194703788807\n",
      "\u001b[36m(ClientAppActor pid=8183)\u001b[0m Epoch 1: Train Loss = 0.013784749091913302, Val Loss = 0.015480246782923738\n",
      "\u001b[36m(ClientAppActor pid=8182)\u001b[0m Epoch 1: Train Loss = 0.014737436423699062, Val Loss = 0.010078445416487133\n",
      "\u001b[36m(ClientAppActor pid=8183)\u001b[0m Epoch 1: Train Loss = 0.013949424421621694, Val Loss = 0.011169411761026518\n",
      "\u001b[36m(ClientAppActor pid=8182)\u001b[0m Epoch 1: Train Loss = 0.013278185700376829, Val Loss = 0.010900659137405455\n"
     ]
    },
    {
     "name": "stderr",
     "output_type": "stream",
     "text": [
      "\u001b[92mINFO \u001b[0m:      aggregate_fit: received 10 results and 0 failures\n",
      "\u001b[92mINFO \u001b[0m:      configure_evaluate: strategy sampled 5 clients (out of 10)\n"
     ]
    },
    {
     "name": "stdout",
     "output_type": "stream",
     "text": [
      "\u001b[36m(ClientAppActor pid=8183)\u001b[0m Epoch 1: Train Loss = 0.013688584396408663, Val Loss = 0.01120308010528485\n"
     ]
    },
    {
     "name": "stderr",
     "output_type": "stream",
     "text": [
      "\u001b[92mINFO \u001b[0m:      aggregate_evaluate: received 5 results and 0 failures\n",
      "\u001b[92mINFO \u001b[0m:      \n",
      "\u001b[92mINFO \u001b[0m:      [ROUND 22]\n",
      "\u001b[92mINFO \u001b[0m:      configure_fit: strategy sampled 10 clients (out of 10)\n"
     ]
    },
    {
     "name": "stdout",
     "output_type": "stream",
     "text": [
      "\u001b[36m(ClientAppActor pid=8182)\u001b[0m Epoch 1: Train Loss = 0.013768734348316988, Val Loss = 0.012140666813744852\n",
      "\u001b[36m(ClientAppActor pid=8183)\u001b[0m Epoch 1: Train Loss = 0.01379316287736098, Val Loss = 0.011022417379232744\n",
      "\u001b[36m(ClientAppActor pid=8183)\u001b[0m Epoch 1: Train Loss = 0.013419919285095401, Val Loss = 0.011291704528654615\n",
      "\u001b[36m(ClientAppActor pid=8182)\u001b[0m Epoch 1: Train Loss = 0.013412994477483961, Val Loss = 0.011275209680510065\n",
      "\u001b[36m(ClientAppActor pid=8183)\u001b[0m Epoch 1: Train Loss = 0.013509592600166797, Val Loss = 0.013289727231798073\n",
      "\u001b[36m(ClientAppActor pid=8182)\u001b[0m Epoch 1: Train Loss = 0.013334965985268354, Val Loss = 0.01036772588849999\n",
      "\u001b[36m(ClientAppActor pid=8183)\u001b[0m Epoch 1: Train Loss = 0.014842551946640015, Val Loss = 0.010549948667176068\n",
      "\u001b[36m(ClientAppActor pid=8182)\u001b[0m Epoch 1: Train Loss = 0.014705372456875112, Val Loss = 0.011292455485090613\n",
      "\u001b[36m(ClientAppActor pid=8183)\u001b[0m Epoch 1: Train Loss = 0.014146990339375205, Val Loss = 0.011896189030570289\n"
     ]
    },
    {
     "name": "stderr",
     "output_type": "stream",
     "text": [
      "\u001b[92mINFO \u001b[0m:      aggregate_fit: received 10 results and 0 failures\n",
      "\u001b[92mINFO \u001b[0m:      configure_evaluate: strategy sampled 5 clients (out of 10)\n"
     ]
    },
    {
     "name": "stdout",
     "output_type": "stream",
     "text": [
      "\u001b[36m(ClientAppActor pid=8182)\u001b[0m Epoch 1: Train Loss = 0.014761411947094731, Val Loss = 0.013666091448006531\n"
     ]
    },
    {
     "name": "stderr",
     "output_type": "stream",
     "text": [
      "\u001b[92mINFO \u001b[0m:      aggregate_evaluate: received 5 results and 0 failures\n",
      "\u001b[92mINFO \u001b[0m:      \n",
      "\u001b[92mINFO \u001b[0m:      [ROUND 23]\n",
      "\u001b[92mINFO \u001b[0m:      configure_fit: strategy sampled 10 clients (out of 10)\n"
     ]
    },
    {
     "name": "stdout",
     "output_type": "stream",
     "text": [
      "\u001b[36m(ClientAppActor pid=8182)\u001b[0m Epoch 1: Train Loss = 0.014058647273729245, Val Loss = 0.013223927778502306\n",
      "\u001b[36m(ClientAppActor pid=8183)\u001b[0m Epoch 1: Train Loss = 0.012991699700554213, Val Loss = 0.012430328022067746\n",
      "\u001b[36m(ClientAppActor pid=8182)\u001b[0m Epoch 1: Train Loss = 0.013197193687988652, Val Loss = 0.014964099662999312\n",
      "\u001b[36m(ClientAppActor pid=8183)\u001b[0m Epoch 1: Train Loss = 0.013641034025284979, Val Loss = 0.011800554736206928\n",
      "\u001b[36m(ClientAppActor pid=8182)\u001b[0m Epoch 1: Train Loss = 0.013080594036728144, Val Loss = 0.010315543935575988\n",
      "\u001b[36m(ClientAppActor pid=8183)\u001b[0m Epoch 1: Train Loss = 0.013452527744488584, Val Loss = 0.012268211382130781\n",
      "\u001b[36m(ClientAppActor pid=8182)\u001b[0m Epoch 1: Train Loss = 0.013129432975418038, Val Loss = 0.011226517846807837\n",
      "\u001b[36m(ClientAppActor pid=8183)\u001b[0m Epoch 1: Train Loss = 0.015268984695689545, Val Loss = 0.010676063302526018\n",
      "\u001b[36m(ClientAppActor pid=8182)\u001b[0m Epoch 1: Train Loss = 0.014433005203803381, Val Loss = 0.010760430479422212\n"
     ]
    },
    {
     "name": "stderr",
     "output_type": "stream",
     "text": [
      "\u001b[92mINFO \u001b[0m:      aggregate_fit: received 10 results and 0 failures\n",
      "\u001b[92mINFO \u001b[0m:      configure_evaluate: strategy sampled 5 clients (out of 10)\n"
     ]
    },
    {
     "name": "stdout",
     "output_type": "stream",
     "text": [
      "\u001b[36m(ClientAppActor pid=8183)\u001b[0m Epoch 1: Train Loss = 0.014069838728755713, Val Loss = 0.011856102850288153\n"
     ]
    },
    {
     "name": "stderr",
     "output_type": "stream",
     "text": [
      "\u001b[92mINFO \u001b[0m:      aggregate_evaluate: received 5 results and 0 failures\n",
      "\u001b[92mINFO \u001b[0m:      \n",
      "\u001b[92mINFO \u001b[0m:      [ROUND 24]\n",
      "\u001b[92mINFO \u001b[0m:      configure_fit: strategy sampled 10 clients (out of 10)\n"
     ]
    },
    {
     "name": "stdout",
     "output_type": "stream",
     "text": [
      "\u001b[36m(ClientAppActor pid=8182)\u001b[0m Epoch 1: Train Loss = 0.014126359443697665, Val Loss = 0.012919956430171927\n",
      "\u001b[36m(ClientAppActor pid=8183)\u001b[0m Epoch 1: Train Loss = 0.014342616498470306, Val Loss = 0.012964479741640389\n",
      "\u001b[36m(ClientAppActor pid=8183)\u001b[0m Epoch 1: Train Loss = 0.013219321674356858, Val Loss = 0.0113705158388863\n",
      "\u001b[36m(ClientAppActor pid=8182)\u001b[0m Epoch 1: Train Loss = 0.014373722806986835, Val Loss = 0.009936714069529748\n",
      "\u001b[36m(ClientAppActor pid=8183)\u001b[0m Epoch 1: Train Loss = 0.013453109024299515, Val Loss = 0.012759416558158895\n",
      "\u001b[36m(ClientAppActor pid=8182)\u001b[0m Epoch 1: Train Loss = 0.01342274531101187, Val Loss = 0.012122278877844414\n",
      "\u001b[36m(ClientAppActor pid=8183)\u001b[0m Epoch 1: Train Loss = 0.013089975042061674, Val Loss = 0.013434260074670116\n",
      "\u001b[36m(ClientAppActor pid=8182)\u001b[0m Epoch 1: Train Loss = 0.013078984142177634, Val Loss = 0.01318418288913866\n",
      "\u001b[36m(ClientAppActor pid=8182)\u001b[0m Epoch 1: Train Loss = 0.015101338943673505, Val Loss = 0.010504073715613535\n"
     ]
    },
    {
     "name": "stderr",
     "output_type": "stream",
     "text": [
      "\u001b[92mINFO \u001b[0m:      aggregate_fit: received 10 results and 0 failures\n",
      "\u001b[92mINFO \u001b[0m:      configure_evaluate: strategy sampled 5 clients (out of 10)\n"
     ]
    },
    {
     "name": "stdout",
     "output_type": "stream",
     "text": [
      "\u001b[36m(ClientAppActor pid=8183)\u001b[0m Epoch 1: Train Loss = 0.012932299574216207, Val Loss = 0.012088500273724398\n"
     ]
    },
    {
     "name": "stderr",
     "output_type": "stream",
     "text": [
      "\u001b[92mINFO \u001b[0m:      aggregate_evaluate: received 5 results and 0 failures\n",
      "\u001b[92mINFO \u001b[0m:      \n",
      "\u001b[92mINFO \u001b[0m:      [ROUND 25]\n",
      "\u001b[92mINFO \u001b[0m:      configure_fit: strategy sampled 10 clients (out of 10)\n"
     ]
    },
    {
     "name": "stdout",
     "output_type": "stream",
     "text": [
      "\u001b[36m(ClientAppActor pid=8182)\u001b[0m Epoch 1: Train Loss = 0.01332508818142944, Val Loss = 0.013293529317403832\n",
      "\u001b[36m(ClientAppActor pid=8183)\u001b[0m Epoch 1: Train Loss = 0.015522925400485594, Val Loss = 0.010485170661316564\n",
      "\u001b[36m(ClientAppActor pid=8182)\u001b[0m Epoch 1: Train Loss = 0.013838186456511418, Val Loss = 0.009794727006616691\n",
      "\u001b[36m(ClientAppActor pid=8183)\u001b[0m Epoch 1: Train Loss = 0.01309450086620119, Val Loss = 0.011727331904694438\n",
      "\u001b[36m(ClientAppActor pid=8183)\u001b[0m Epoch 1: Train Loss = 0.012736165927102168, Val Loss = 0.01354048257538428\n",
      "\u001b[36m(ClientAppActor pid=8182)\u001b[0m Epoch 1: Train Loss = 0.012798455667992432, Val Loss = 0.011801441277687749\n",
      "\u001b[36m(ClientAppActor pid=8183)\u001b[0m Epoch 1: Train Loss = 0.014210111202879084, Val Loss = 0.015465176043411097\n",
      "\u001b[36m(ClientAppActor pid=8182)\u001b[0m Epoch 1: Train Loss = 0.013150894000298447, Val Loss = 0.010899776165994505\n"
     ]
    },
    {
     "name": "stderr",
     "output_type": "stream",
     "text": [
      "\u001b[92mINFO \u001b[0m:      aggregate_fit: received 10 results and 0 failures\n"
     ]
    },
    {
     "name": "stdout",
     "output_type": "stream",
     "text": [
      "\u001b[36m(ClientAppActor pid=8183)\u001b[0m Epoch 1: Train Loss = 0.012633648825188477, Val Loss = 0.01181518550341328\n",
      "\u001b[36m(ClientAppActor pid=8182)\u001b[0m Epoch 1: Train Loss = 0.013737341275231706, Val Loss = 0.012682222644798458\n"
     ]
    },
    {
     "name": "stderr",
     "output_type": "stream",
     "text": [
      "\u001b[92mINFO \u001b[0m:      configure_evaluate: strategy sampled 5 clients (out of 10)\n",
      "\u001b[92mINFO \u001b[0m:      aggregate_evaluate: received 5 results and 0 failures\n",
      "\u001b[92mINFO \u001b[0m:      \n",
      "\u001b[92mINFO \u001b[0m:      [ROUND 26]\n",
      "\u001b[92mINFO \u001b[0m:      configure_fit: strategy sampled 10 clients (out of 10)\n"
     ]
    },
    {
     "name": "stdout",
     "output_type": "stream",
     "text": [
      "\u001b[36m(ClientAppActor pid=8183)\u001b[0m Epoch 1: Train Loss = 0.014857303485688237, Val Loss = 0.010635920198789487\n",
      "\u001b[36m(ClientAppActor pid=8182)\u001b[0m Epoch 1: Train Loss = 0.012956755525536007, Val Loss = 0.010127937770448625\n",
      "\u001b[36m(ClientAppActor pid=8183)\u001b[0m Epoch 1: Train Loss = 0.012931373477396037, Val Loss = 0.011765023387852125\n",
      "\u001b[36m(ClientAppActor pid=8182)\u001b[0m Epoch 1: Train Loss = 0.012905614491966035, Val Loss = 0.012221694176939005\n",
      "\u001b[36m(ClientAppActor pid=8183)\u001b[0m Epoch 1: Train Loss = 0.012501597963273525, Val Loss = 0.010463477704130733\n",
      "\u001b[36m(ClientAppActor pid=8182)\u001b[0m Epoch 1: Train Loss = 0.012487354646954272, Val Loss = 0.012888035271316767\n",
      "\u001b[36m(ClientAppActor pid=8183)\u001b[0m Epoch 1: Train Loss = 0.013067464540816016, Val Loss = 0.01359396668461462\n",
      "\u001b[36m(ClientAppActor pid=8182)\u001b[0m Epoch 1: Train Loss = 0.013636083238654666, Val Loss = 0.009987121195687601\n",
      "\u001b[36m(ClientAppActor pid=8182)\u001b[0m Epoch 1: Train Loss = 0.013965113026400407, Val Loss = 0.010190545814111829\n"
     ]
    },
    {
     "name": "stderr",
     "output_type": "stream",
     "text": [
      "\u001b[92mINFO \u001b[0m:      aggregate_fit: received 10 results and 0 failures\n",
      "\u001b[92mINFO \u001b[0m:      configure_evaluate: strategy sampled 5 clients (out of 10)\n"
     ]
    },
    {
     "name": "stdout",
     "output_type": "stream",
     "text": [
      "\u001b[36m(ClientAppActor pid=8183)\u001b[0m Epoch 1: Train Loss = 0.013755567765070333, Val Loss = 0.013197863629708687\n"
     ]
    },
    {
     "name": "stderr",
     "output_type": "stream",
     "text": [
      "\u001b[92mINFO \u001b[0m:      aggregate_evaluate: received 5 results and 0 failures\n",
      "\u001b[92mINFO \u001b[0m:      \n",
      "\u001b[92mINFO \u001b[0m:      [ROUND 27]\n",
      "\u001b[92mINFO \u001b[0m:      configure_fit: strategy sampled 10 clients (out of 10)\n"
     ]
    },
    {
     "name": "stdout",
     "output_type": "stream",
     "text": [
      "\u001b[36m(ClientAppActor pid=8182)\u001b[0m Epoch 1: Train Loss = 0.01327208867813978, Val Loss = 0.010032852141497036\n",
      "\u001b[36m(ClientAppActor pid=8183)\u001b[0m Epoch 1: Train Loss = 0.014754379023280409, Val Loss = 0.01057472782364736\n",
      "\u001b[36m(ClientAppActor pid=8182)\u001b[0m Epoch 1: Train Loss = 0.013205273759861786, Val Loss = 0.009927221700005854\n",
      "\u001b[36m(ClientAppActor pid=8183)\u001b[0m Epoch 1: Train Loss = 0.01350317301435603, Val Loss = 0.013026434501322607\n",
      "\u001b[36m(ClientAppActor pid=8182)\u001b[0m Epoch 1: Train Loss = 0.013504864244411389, Val Loss = 0.011027648618134359\n",
      "\u001b[36m(ClientAppActor pid=8183)\u001b[0m Epoch 1: Train Loss = 0.013202910114907556, Val Loss = 0.010381061681982828\n",
      "\u001b[36m(ClientAppActor pid=8182)\u001b[0m Epoch 1: Train Loss = 0.012679619300696585, Val Loss = 0.010684574042291691\n",
      "\u001b[36m(ClientAppActor pid=8183)\u001b[0m Epoch 1: Train Loss = 0.013015395113163524, Val Loss = 0.012408128435102602\n",
      "\u001b[36m(ClientAppActor pid=8182)\u001b[0m Epoch 1: Train Loss = 0.012259776704013348, Val Loss = 0.011448369671901068\n"
     ]
    },
    {
     "name": "stderr",
     "output_type": "stream",
     "text": [
      "\u001b[92mINFO \u001b[0m:      aggregate_fit: received 10 results and 0 failures\n",
      "\u001b[92mINFO \u001b[0m:      configure_evaluate: strategy sampled 5 clients (out of 10)\n"
     ]
    },
    {
     "name": "stdout",
     "output_type": "stream",
     "text": [
      "\u001b[36m(ClientAppActor pid=8183)\u001b[0m Epoch 1: Train Loss = 0.013187259766790601, Val Loss = 0.011055227078031749\n"
     ]
    },
    {
     "name": "stderr",
     "output_type": "stream",
     "text": [
      "\u001b[92mINFO \u001b[0m:      aggregate_evaluate: received 5 results and 0 failures\n",
      "\u001b[92mINFO \u001b[0m:      \n",
      "\u001b[92mINFO \u001b[0m:      [ROUND 28]\n",
      "\u001b[92mINFO \u001b[0m:      configure_fit: strategy sampled 10 clients (out of 10)\n"
     ]
    },
    {
     "name": "stdout",
     "output_type": "stream",
     "text": [
      "\u001b[36m(ClientAppActor pid=8183)\u001b[0m Epoch 1: Train Loss = 0.014366533824553092, Val Loss = 0.010266110727873942\n",
      "\u001b[36m(ClientAppActor pid=8182)\u001b[0m Epoch 1: Train Loss = 0.013455682413445578, Val Loss = 0.01057579837894688\n",
      "\u001b[36m(ClientAppActor pid=8183)\u001b[0m Epoch 1: Train Loss = 0.013024961596561803, Val Loss = 0.011395723752987882\n",
      "\u001b[36m(ClientAppActor pid=8182)\u001b[0m Epoch 1: Train Loss = 0.013343993864125676, Val Loss = 0.01082060435631623\n",
      "\u001b[36m(ClientAppActor pid=8183)\u001b[0m Epoch 1: Train Loss = 0.012587960726684994, Val Loss = 0.010507957112470953\n",
      "\u001b[36m(ClientAppActor pid=8182)\u001b[0m Epoch 1: Train Loss = 0.012796704440067213, Val Loss = 0.012077817460522056\n",
      "\u001b[36m(ClientAppActor pid=8183)\u001b[0m Epoch 1: Train Loss = 0.013135240133851766, Val Loss = 0.010071005827436844\n",
      "\u001b[36m(ClientAppActor pid=8182)\u001b[0m Epoch 1: Train Loss = 0.01297516023947133, Val Loss = 0.012725876023372015\n"
     ]
    },
    {
     "name": "stderr",
     "output_type": "stream",
     "text": [
      "\u001b[92mINFO \u001b[0m:      aggregate_fit: received 10 results and 0 failures\n",
      "\u001b[92mINFO \u001b[0m:      configure_evaluate: strategy sampled 5 clients (out of 10)\n"
     ]
    },
    {
     "name": "stdout",
     "output_type": "stream",
     "text": [
      "\u001b[36m(ClientAppActor pid=8182)\u001b[0m Epoch 1: Train Loss = 0.013442726267708673, Val Loss = 0.009326496937622627\n",
      "\u001b[36m(ClientAppActor pid=8183)\u001b[0m Epoch 1: Train Loss = 0.014001244689441389, Val Loss = 0.012851278375213345\n"
     ]
    },
    {
     "name": "stderr",
     "output_type": "stream",
     "text": [
      "\u001b[92mINFO \u001b[0m:      aggregate_evaluate: received 5 results and 0 failures\n",
      "\u001b[92mINFO \u001b[0m:      \n",
      "\u001b[92mINFO \u001b[0m:      [ROUND 29]\n",
      "\u001b[92mINFO \u001b[0m:      configure_fit: strategy sampled 10 clients (out of 10)\n"
     ]
    },
    {
     "name": "stdout",
     "output_type": "stream",
     "text": [
      "\u001b[36m(ClientAppActor pid=8183)\u001b[0m Epoch 1: Train Loss = 0.013032352086156607, Val Loss = 0.011329760037673017\n",
      "\u001b[36m(ClientAppActor pid=8182)\u001b[0m Epoch 1: Train Loss = 0.013676416801495684, Val Loss = 0.01213138240079085\n",
      "\u001b[36m(ClientAppActor pid=8183)\u001b[0m Epoch 1: Train Loss = 0.01343882649929987, Val Loss = 0.011137388491382202\n",
      "\u001b[36m(ClientAppActor pid=8182)\u001b[0m Epoch 1: Train Loss = 0.013955254190497928, Val Loss = 0.009596772220296165\n",
      "\u001b[36m(ClientAppActor pid=8183)\u001b[0m Epoch 1: Train Loss = 0.012622612590591113, Val Loss = 0.01182301986652116\n",
      "\u001b[36m(ClientAppActor pid=8182)\u001b[0m Epoch 1: Train Loss = 0.012718810223870808, Val Loss = 0.011082311626523733\n",
      "\u001b[36m(ClientAppActor pid=8183)\u001b[0m Epoch 1: Train Loss = 0.011963323907305796, Val Loss = 0.011330175950812796\n",
      "\u001b[36m(ClientAppActor pid=8182)\u001b[0m Epoch 1: Train Loss = 0.012838660315093066, Val Loss = 0.010322194504624349\n"
     ]
    },
    {
     "name": "stderr",
     "output_type": "stream",
     "text": [
      "\u001b[92mINFO \u001b[0m:      aggregate_fit: received 10 results and 0 failures\n",
      "\u001b[92mINFO \u001b[0m:      configure_evaluate: strategy sampled 5 clients (out of 10)\n"
     ]
    },
    {
     "name": "stdout",
     "output_type": "stream",
     "text": [
      "\u001b[36m(ClientAppActor pid=8183)\u001b[0m Epoch 1: Train Loss = 0.012746158407794105, Val Loss = 0.010708749774494208\n",
      "\u001b[36m(ClientAppActor pid=8182)\u001b[0m Epoch 1: Train Loss = 0.014877444505691529, Val Loss = 0.010705581206517914\n"
     ]
    },
    {
     "name": "stderr",
     "output_type": "stream",
     "text": [
      "\u001b[92mINFO \u001b[0m:      aggregate_evaluate: received 5 results and 0 failures\n",
      "\u001b[92mINFO \u001b[0m:      \n",
      "\u001b[92mINFO \u001b[0m:      [ROUND 30]\n",
      "\u001b[92mINFO \u001b[0m:      configure_fit: strategy sampled 10 clients (out of 10)\n"
     ]
    },
    {
     "name": "stdout",
     "output_type": "stream",
     "text": [
      "\u001b[36m(ClientAppActor pid=8182)\u001b[0m Epoch 1: Train Loss = 0.013430005487882429, Val Loss = 0.011631777587657174\n",
      "\u001b[36m(ClientAppActor pid=8183)\u001b[0m Epoch 1: Train Loss = 0.014278011355135177, Val Loss = 0.010897993265340725\n",
      "\u001b[36m(ClientAppActor pid=8183)\u001b[0m Epoch 1: Train Loss = 0.013566180722167094, Val Loss = 0.010897139785811305\n",
      "\u001b[36m(ClientAppActor pid=8182)\u001b[0m Epoch 1: Train Loss = 0.013030409988843732, Val Loss = 0.012076351403569182\n",
      "\u001b[36m(ClientAppActor pid=8183)\u001b[0m Epoch 1: Train Loss = 0.012810134711778826, Val Loss = 0.011065135826356709\n",
      "\u001b[36m(ClientAppActor pid=8182)\u001b[0m Epoch 1: Train Loss = 0.012856073356750939, Val Loss = 0.012749926963200172\n",
      "\u001b[36m(ClientAppActor pid=8182)\u001b[0m Epoch 1: Train Loss = 0.01303438956124915, Val Loss = 0.011778499950499585\n",
      "\u001b[36m(ClientAppActor pid=8183)\u001b[0m Epoch 1: Train Loss = 0.012711265352037218, Val Loss = 0.010607331389716515\n",
      "\u001b[36m(ClientAppActor pid=8182)\u001b[0m Epoch 1: Train Loss = 0.012497444067978196, Val Loss = 0.011850496133168539\n"
     ]
    },
    {
     "name": "stderr",
     "output_type": "stream",
     "text": [
      "\u001b[92mINFO \u001b[0m:      aggregate_fit: received 10 results and 0 failures\n",
      "\u001b[92mINFO \u001b[0m:      configure_evaluate: strategy sampled 5 clients (out of 10)\n"
     ]
    },
    {
     "name": "stdout",
     "output_type": "stream",
     "text": [
      "\u001b[36m(ClientAppActor pid=8183)\u001b[0m Epoch 1: Train Loss = 0.012710425195594628, Val Loss = 0.009115343370164434\n"
     ]
    },
    {
     "name": "stderr",
     "output_type": "stream",
     "text": [
      "\u001b[92mINFO \u001b[0m:      aggregate_evaluate: received 5 results and 0 failures\n",
      "\u001b[92mINFO \u001b[0m:      \n",
      "\u001b[92mINFO \u001b[0m:      [ROUND 31]\n",
      "\u001b[92mINFO \u001b[0m:      configure_fit: strategy sampled 10 clients (out of 10)\n"
     ]
    },
    {
     "name": "stdout",
     "output_type": "stream",
     "text": [
      "\u001b[36m(ClientAppActor pid=8182)\u001b[0m Epoch 1: Train Loss = 0.012717376038846042, Val Loss = 0.012894860003143549\n",
      "\u001b[36m(ClientAppActor pid=8183)\u001b[0m Epoch 1: Train Loss = 0.01282452687414156, Val Loss = 0.012903991620987654\n",
      "\u001b[36m(ClientAppActor pid=8182)\u001b[0m Epoch 1: Train Loss = 0.012300096180600425, Val Loss = 0.012094386387616396\n",
      "\u001b[36m(ClientAppActor pid=8183)\u001b[0m Epoch 1: Train Loss = 0.01230465853586793, Val Loss = 0.010746440617367625\n",
      "\u001b[36m(ClientAppActor pid=8182)\u001b[0m Epoch 1: Train Loss = 0.012504453429331382, Val Loss = 0.010814873618073761\n",
      "\u001b[36m(ClientAppActor pid=8183)\u001b[0m Epoch 1: Train Loss = 0.01238760029276212, Val Loss = 0.011821892267713944\n",
      "\u001b[36m(ClientAppActor pid=8182)\u001b[0m Epoch 1: Train Loss = 0.013987743626866075, Val Loss = 0.011749077355489135\n",
      "\u001b[36m(ClientAppActor pid=8183)\u001b[0m Epoch 1: Train Loss = 0.013097635770423544, Val Loss = 0.009708217131750038\n",
      "\u001b[36m(ClientAppActor pid=8182)\u001b[0m Epoch 1: Train Loss = 0.012895070461349354, Val Loss = 0.011881847717935065\n"
     ]
    },
    {
     "name": "stderr",
     "output_type": "stream",
     "text": [
      "\u001b[92mINFO \u001b[0m:      aggregate_fit: received 10 results and 0 failures\n",
      "\u001b[92mINFO \u001b[0m:      configure_evaluate: strategy sampled 5 clients (out of 10)\n"
     ]
    },
    {
     "name": "stdout",
     "output_type": "stream",
     "text": [
      "\u001b[36m(ClientAppActor pid=8183)\u001b[0m Epoch 1: Train Loss = 0.013099367471618785, Val Loss = 0.009074461258326968\n"
     ]
    },
    {
     "name": "stderr",
     "output_type": "stream",
     "text": [
      "\u001b[92mINFO \u001b[0m:      aggregate_evaluate: received 5 results and 0 failures\n",
      "\u001b[92mINFO \u001b[0m:      \n",
      "\u001b[92mINFO \u001b[0m:      [ROUND 32]\n",
      "\u001b[92mINFO \u001b[0m:      configure_fit: strategy sampled 10 clients (out of 10)\n"
     ]
    },
    {
     "name": "stdout",
     "output_type": "stream",
     "text": [
      "\u001b[36m(ClientAppActor pid=8182)\u001b[0m Epoch 1: Train Loss = 0.01371226322112812, Val Loss = 0.011701387663682302\n",
      "\u001b[36m(ClientAppActor pid=8183)\u001b[0m Epoch 1: Train Loss = 0.012476731464266777, Val Loss = 0.011891113865810135\n",
      "\u001b[36m(ClientAppActor pid=8182)\u001b[0m Epoch 1: Train Loss = 0.012705847155302763, Val Loss = 0.010917221351216236\n",
      "\u001b[36m(ClientAppActor pid=8183)\u001b[0m Epoch 1: Train Loss = 0.01270882510062721, Val Loss = 0.010886252265966808\n",
      "\u001b[36m(ClientAppActor pid=8182)\u001b[0m Epoch 1: Train Loss = 0.013266232288959954, Val Loss = 0.012559485233699283\n",
      "\u001b[36m(ClientAppActor pid=8183)\u001b[0m Epoch 1: Train Loss = 0.012507925099796719, Val Loss = 0.010395217357048145\n",
      "\u001b[36m(ClientAppActor pid=8182)\u001b[0m Epoch 1: Train Loss = 0.01224624261053072, Val Loss = 0.010382153210230172\n",
      "\u001b[36m(ClientAppActor pid=8183)\u001b[0m Epoch 1: Train Loss = 0.012082722410559655, Val Loss = 0.01069547930577149\n",
      "\u001b[36m(ClientAppActor pid=8182)\u001b[0m Epoch 1: Train Loss = 0.012389098728696505, Val Loss = 0.01286342297680676\n"
     ]
    },
    {
     "name": "stderr",
     "output_type": "stream",
     "text": [
      "\u001b[92mINFO \u001b[0m:      aggregate_fit: received 10 results and 0 failures\n",
      "\u001b[92mINFO \u001b[0m:      configure_evaluate: strategy sampled 5 clients (out of 10)\n"
     ]
    },
    {
     "name": "stdout",
     "output_type": "stream",
     "text": [
      "\u001b[36m(ClientAppActor pid=8183)\u001b[0m Epoch 1: Train Loss = 0.012860621687852673, Val Loss = 0.010183446342125535\n"
     ]
    },
    {
     "name": "stderr",
     "output_type": "stream",
     "text": [
      "\u001b[92mINFO \u001b[0m:      aggregate_evaluate: received 5 results and 0 failures\n",
      "\u001b[92mINFO \u001b[0m:      \n",
      "\u001b[92mINFO \u001b[0m:      [ROUND 33]\n",
      "\u001b[92mINFO \u001b[0m:      configure_fit: strategy sampled 10 clients (out of 10)\n"
     ]
    },
    {
     "name": "stdout",
     "output_type": "stream",
     "text": [
      "\u001b[36m(ClientAppActor pid=8183)\u001b[0m Epoch 1: Train Loss = 0.012336975636167659, Val Loss = 0.009897037564466396\n",
      "\u001b[36m(ClientAppActor pid=8182)\u001b[0m Epoch 1: Train Loss = 0.013912197285228306, Val Loss = 0.010717826274534067\n",
      "\u001b[36m(ClientAppActor pid=8183)\u001b[0m Epoch 1: Train Loss = 0.013062696717679501, Val Loss = 0.012068737880326807\n",
      "\u001b[36m(ClientAppActor pid=8182)\u001b[0m Epoch 1: Train Loss = 0.012766628484759067, Val Loss = 0.011163557607991\n",
      "\u001b[36m(ClientAppActor pid=8183)\u001b[0m Epoch 1: Train Loss = 0.01266744607128203, Val Loss = 0.01669402897823602\n",
      "\u001b[36m(ClientAppActor pid=8182)\u001b[0m Epoch 1: Train Loss = 0.012023759302165773, Val Loss = 0.011350500319773952\n",
      "\u001b[36m(ClientAppActor pid=8183)\u001b[0m Epoch 1: Train Loss = 0.013558948433233632, Val Loss = 0.011301954975351691\n",
      "\u001b[36m(ClientAppActor pid=8182)\u001b[0m Epoch 1: Train Loss = 0.012216183191372288, Val Loss = 0.010352692644422254\n",
      "\u001b[36m(ClientAppActor pid=8183)\u001b[0m Epoch 1: Train Loss = 0.013092965042839447, Val Loss = 0.01064134540501982\n"
     ]
    },
    {
     "name": "stderr",
     "output_type": "stream",
     "text": [
      "\u001b[92mINFO \u001b[0m:      aggregate_fit: received 10 results and 0 failures\n",
      "\u001b[92mINFO \u001b[0m:      configure_evaluate: strategy sampled 5 clients (out of 10)\n"
     ]
    },
    {
     "name": "stdout",
     "output_type": "stream",
     "text": [
      "\u001b[36m(ClientAppActor pid=8182)\u001b[0m Epoch 1: Train Loss = 0.012117217946797609, Val Loss = 0.011286319330489883\n"
     ]
    },
    {
     "name": "stderr",
     "output_type": "stream",
     "text": [
      "\u001b[92mINFO \u001b[0m:      aggregate_evaluate: received 5 results and 0 failures\n",
      "\u001b[92mINFO \u001b[0m:      \n",
      "\u001b[92mINFO \u001b[0m:      [ROUND 34]\n",
      "\u001b[92mINFO \u001b[0m:      configure_fit: strategy sampled 10 clients (out of 10)\n"
     ]
    },
    {
     "name": "stdout",
     "output_type": "stream",
     "text": [
      "\u001b[36m(ClientAppActor pid=8182)\u001b[0m Epoch 1: Train Loss = 0.014089105557650328, Val Loss = 0.011079038182894388\n",
      "\u001b[36m(ClientAppActor pid=8183)\u001b[0m Epoch 1: Train Loss = 0.01221336078726583, Val Loss = 0.008767938454790661\n",
      "\u001b[36m(ClientAppActor pid=8182)\u001b[0m Epoch 1: Train Loss = 0.012457032957010799, Val Loss = 0.01263890250508363\n",
      "\u001b[36m(ClientAppActor pid=8183)\u001b[0m Epoch 1: Train Loss = 0.013000290002673864, Val Loss = 0.010634932162550589\n",
      "\u001b[36m(ClientAppActor pid=8182)\u001b[0m Epoch 1: Train Loss = 0.012651139870285988, Val Loss = 0.014259017693499723\n",
      "\u001b[36m(ClientAppActor pid=8183)\u001b[0m Epoch 1: Train Loss = 0.01346247291399373, Val Loss = 0.010748132093188664\n",
      "\u001b[36m(ClientAppActor pid=8182)\u001b[0m Epoch 1: Train Loss = 0.012395188709100087, Val Loss = 0.01047632284462452\n",
      "\u001b[36m(ClientAppActor pid=8183)\u001b[0m Epoch 1: Train Loss = 0.01227930953933133, Val Loss = 0.016612658587594826\n",
      "\u001b[36m(ClientAppActor pid=8182)\u001b[0m Epoch 1: Train Loss = 0.012411664426326751, Val Loss = 0.013214159097212056\n"
     ]
    },
    {
     "name": "stderr",
     "output_type": "stream",
     "text": [
      "\u001b[92mINFO \u001b[0m:      aggregate_fit: received 10 results and 0 failures\n",
      "\u001b[92mINFO \u001b[0m:      configure_evaluate: strategy sampled 5 clients (out of 10)\n"
     ]
    },
    {
     "name": "stdout",
     "output_type": "stream",
     "text": [
      "\u001b[36m(ClientAppActor pid=8183)\u001b[0m Epoch 1: Train Loss = 0.012445992334849304, Val Loss = 0.010911769738110403\n"
     ]
    },
    {
     "name": "stderr",
     "output_type": "stream",
     "text": [
      "\u001b[92mINFO \u001b[0m:      aggregate_evaluate: received 5 results and 0 failures\n",
      "\u001b[92mINFO \u001b[0m:      \n",
      "\u001b[92mINFO \u001b[0m:      [ROUND 35]\n",
      "\u001b[92mINFO \u001b[0m:      configure_fit: strategy sampled 10 clients (out of 10)\n"
     ]
    },
    {
     "name": "stdout",
     "output_type": "stream",
     "text": [
      "\u001b[36m(ClientAppActor pid=8182)\u001b[0m Epoch 1: Train Loss = 0.012618505437341, Val Loss = 0.012108127664153775\n",
      "\u001b[36m(ClientAppActor pid=8183)\u001b[0m Epoch 1: Train Loss = 0.014413971557385392, Val Loss = 0.01075737519810597\n",
      "\u001b[36m(ClientAppActor pid=8182)\u001b[0m Epoch 1: Train Loss = 0.013186448791788683, Val Loss = 0.009748416838798827\n",
      "\u001b[36m(ClientAppActor pid=8183)\u001b[0m Epoch 1: Train Loss = 0.012785040597534842, Val Loss = 0.01055465506700178\n",
      "\u001b[36m(ClientAppActor pid=8182)\u001b[0m Epoch 1: Train Loss = 0.011841547147681316, Val Loss = 0.01016533401949952\n",
      "\u001b[36m(ClientAppActor pid=8183)\u001b[0m Epoch 1: Train Loss = 0.011630972309245004, Val Loss = 0.010985731574085852\n",
      "\u001b[36m(ClientAppActor pid=8182)\u001b[0m Epoch 1: Train Loss = 0.013006700285606914, Val Loss = 0.009430916650065532\n",
      "\u001b[36m(ClientAppActor pid=8183)\u001b[0m Epoch 1: Train Loss = 0.012748131207707855, Val Loss = 0.012462302033479014\n",
      "\u001b[36m(ClientAppActor pid=8182)\u001b[0m Epoch 1: Train Loss = 0.012721293429947562, Val Loss = 0.011061663079696396\n"
     ]
    },
    {
     "name": "stderr",
     "output_type": "stream",
     "text": [
      "\u001b[92mINFO \u001b[0m:      aggregate_fit: received 10 results and 0 failures\n",
      "\u001b[92mINFO \u001b[0m:      configure_evaluate: strategy sampled 5 clients (out of 10)\n"
     ]
    },
    {
     "name": "stdout",
     "output_type": "stream",
     "text": [
      "\u001b[36m(ClientAppActor pid=8183)\u001b[0m Epoch 1: Train Loss = 0.01226164431621631, Val Loss = 0.009533674300958713\n"
     ]
    },
    {
     "name": "stderr",
     "output_type": "stream",
     "text": [
      "\u001b[92mINFO \u001b[0m:      aggregate_evaluate: received 5 results and 0 failures\n",
      "\u001b[92mINFO \u001b[0m:      \n",
      "\u001b[92mINFO \u001b[0m:      [ROUND 36]\n",
      "\u001b[92mINFO \u001b[0m:      configure_fit: strategy sampled 10 clients (out of 10)\n"
     ]
    },
    {
     "name": "stdout",
     "output_type": "stream",
     "text": [
      "\u001b[36m(ClientAppActor pid=8183)\u001b[0m Epoch 1: Train Loss = 0.01410376764833927, Val Loss = 0.010833502048626542\n",
      "\u001b[36m(ClientAppActor pid=8182)\u001b[0m Epoch 1: Train Loss = 0.012322415809871421, Val Loss = 0.01265322626568377\n",
      "\u001b[36m(ClientAppActor pid=8183)\u001b[0m Epoch 1: Train Loss = 0.012766593684338861, Val Loss = 0.013029919937252998\n",
      "\u001b[36m(ClientAppActor pid=8182)\u001b[0m Epoch 1: Train Loss = 0.012201510721610652, Val Loss = 0.011451304919319227\n",
      "\u001b[36m(ClientAppActor pid=8183)\u001b[0m Epoch 1: Train Loss = 0.01207146929163072, Val Loss = 0.01334482904834052\n",
      "\u001b[36m(ClientAppActor pid=8182)\u001b[0m Epoch 1: Train Loss = 0.011880947939223714, Val Loss = 0.01088607287965715\n",
      "\u001b[36m(ClientAppActor pid=8183)\u001b[0m Epoch 1: Train Loss = 0.012127073936992222, Val Loss = 0.010497747512999922\n",
      "\u001b[36m(ClientAppActor pid=8182)\u001b[0m Epoch 1: Train Loss = 0.012718858311159743, Val Loss = 0.009482329400877157\n"
     ]
    },
    {
     "name": "stderr",
     "output_type": "stream",
     "text": [
      "\u001b[92mINFO \u001b[0m:      aggregate_fit: received 10 results and 0 failures\n",
      "\u001b[92mINFO \u001b[0m:      configure_evaluate: strategy sampled 5 clients (out of 10)\n"
     ]
    },
    {
     "name": "stdout",
     "output_type": "stream",
     "text": [
      "\u001b[36m(ClientAppActor pid=8182)\u001b[0m Epoch 1: Train Loss = 0.012367889140215185, Val Loss = 0.0117697439272888\n",
      "\u001b[36m(ClientAppActor pid=8183)\u001b[0m Epoch 1: Train Loss = 0.01164828734472394, Val Loss = 0.009029983872702966\n"
     ]
    },
    {
     "name": "stderr",
     "output_type": "stream",
     "text": [
      "\u001b[92mINFO \u001b[0m:      aggregate_evaluate: received 5 results and 0 failures\n",
      "\u001b[92mINFO \u001b[0m:      \n",
      "\u001b[92mINFO \u001b[0m:      [ROUND 37]\n",
      "\u001b[92mINFO \u001b[0m:      configure_fit: strategy sampled 10 clients (out of 10)\n"
     ]
    },
    {
     "name": "stdout",
     "output_type": "stream",
     "text": [
      "\u001b[36m(ClientAppActor pid=8183)\u001b[0m Epoch 1: Train Loss = 0.013055668574654393, Val Loss = 0.012837867136113346\n",
      "\u001b[36m(ClientAppActor pid=8182)\u001b[0m Epoch 1: Train Loss = 0.013530366267595026, Val Loss = 0.011783315528494617\n",
      "\u001b[36m(ClientAppActor pid=8182)\u001b[0m Epoch 1: Train Loss = 0.012385752735038598, Val Loss = 0.010241701088186042\n",
      "\u001b[36m(ClientAppActor pid=8183)\u001b[0m Epoch 1: Train Loss = 0.012407069192785355, Val Loss = 0.00981054303701967\n",
      "\u001b[36m(ClientAppActor pid=8183)\u001b[0m Epoch 1: Train Loss = 0.011937549079043997, Val Loss = 0.01004080219233098\n",
      "\u001b[36m(ClientAppActor pid=8182)\u001b[0m Epoch 1: Train Loss = 0.011919855326414108, Val Loss = 0.011962085535439352\n",
      "\u001b[36m(ClientAppActor pid=8183)\u001b[0m Epoch 1: Train Loss = 0.01226145112887025, Val Loss = 0.011985619164382419\n",
      "\u001b[36m(ClientAppActor pid=8182)\u001b[0m Epoch 1: Train Loss = 0.012260578676230378, Val Loss = 0.011785703948892964\n",
      "\u001b[36m(ClientAppActor pid=8183)\u001b[0m Epoch 1: Train Loss = 0.012517177437742551, Val Loss = 0.014490726442697147\n",
      "\u001b[36m(ClientAppActor pid=8182)\u001b[0m Epoch 1: Train Loss = 0.012819143519219424, Val Loss = 0.011189210485705795\n"
     ]
    },
    {
     "name": "stderr",
     "output_type": "stream",
     "text": [
      "\u001b[92mINFO \u001b[0m:      aggregate_fit: received 10 results and 0 failures\n",
      "\u001b[92mINFO \u001b[0m:      configure_evaluate: strategy sampled 5 clients (out of 10)\n",
      "\u001b[92mINFO \u001b[0m:      aggregate_evaluate: received 5 results and 0 failures\n",
      "\u001b[92mINFO \u001b[0m:      \n",
      "\u001b[92mINFO \u001b[0m:      [ROUND 38]\n",
      "\u001b[92mINFO \u001b[0m:      configure_fit: strategy sampled 10 clients (out of 10)\n"
     ]
    },
    {
     "name": "stdout",
     "output_type": "stream",
     "text": [
      "\u001b[36m(ClientAppActor pid=8183)\u001b[0m Epoch 1: Train Loss = 0.012256050534132455, Val Loss = 0.010470822531109055\n",
      "\u001b[36m(ClientAppActor pid=8182)\u001b[0m Epoch 1: Train Loss = 0.01407902543950412, Val Loss = 0.010371387586928904\n",
      "\u001b[36m(ClientAppActor pid=8183)\u001b[0m Epoch 1: Train Loss = 0.012062768462217516, Val Loss = 0.01073342030091832\n",
      "\u001b[36m(ClientAppActor pid=8182)\u001b[0m Epoch 1: Train Loss = 0.012312048435625103, Val Loss = 0.01261733410259088\n",
      "\u001b[36m(ClientAppActor pid=8183)\u001b[0m Epoch 1: Train Loss = 0.011699873933361636, Val Loss = 0.01185574607613186\n",
      "\u001b[36m(ClientAppActor pid=8182)\u001b[0m Epoch 1: Train Loss = 0.012458913162764576, Val Loss = 0.011821296143655976\n",
      "\u001b[36m(ClientAppActor pid=8183)\u001b[0m Epoch 1: Train Loss = 0.01256683457435833, Val Loss = 0.014506712555885315\n",
      "\u001b[36m(ClientAppActor pid=8182)\u001b[0m Epoch 1: Train Loss = 0.01279444440992342, Val Loss = 0.009703057818114758\n",
      "\u001b[36m(ClientAppActor pid=8183)\u001b[0m Epoch 1: Train Loss = 0.011606035671300358, Val Loss = 0.01124312321189791\n"
     ]
    },
    {
     "name": "stderr",
     "output_type": "stream",
     "text": [
      "\u001b[92mINFO \u001b[0m:      aggregate_fit: received 10 results and 0 failures\n",
      "\u001b[92mINFO \u001b[0m:      configure_evaluate: strategy sampled 5 clients (out of 10)\n"
     ]
    },
    {
     "name": "stdout",
     "output_type": "stream",
     "text": [
      "\u001b[36m(ClientAppActor pid=8182)\u001b[0m Epoch 1: Train Loss = 0.01284080616508921, Val Loss = 0.012350601454575857\n"
     ]
    },
    {
     "name": "stderr",
     "output_type": "stream",
     "text": [
      "\u001b[92mINFO \u001b[0m:      aggregate_evaluate: received 5 results and 0 failures\n",
      "\u001b[92mINFO \u001b[0m:      \n",
      "\u001b[92mINFO \u001b[0m:      [ROUND 39]\n",
      "\u001b[92mINFO \u001b[0m:      configure_fit: strategy sampled 10 clients (out of 10)\n"
     ]
    },
    {
     "name": "stdout",
     "output_type": "stream",
     "text": [
      "\u001b[36m(ClientAppActor pid=8183)\u001b[0m Epoch 1: Train Loss = 0.012726209271285269, Val Loss = 0.011757950647734106\n",
      "\u001b[36m(ClientAppActor pid=8182)\u001b[0m Epoch 1: Train Loss = 0.012280290387570858, Val Loss = 0.011856926954351366\n",
      "\u001b[36m(ClientAppActor pid=8183)\u001b[0m Epoch 1: Train Loss = 0.012162507139146328, Val Loss = 0.01239664563346802\n",
      "\u001b[36m(ClientAppActor pid=8182)\u001b[0m Epoch 1: Train Loss = 0.01226310914175378, Val Loss = 0.010641912037196258\n",
      "\u001b[36m(ClientAppActor pid=8183)\u001b[0m Epoch 1: Train Loss = 0.012198634238706695, Val Loss = 0.010549936133126417\n",
      "\u001b[36m(ClientAppActor pid=8182)\u001b[0m Epoch 1: Train Loss = 0.011858883086178038, Val Loss = 0.010608524394532045\n",
      "\u001b[36m(ClientAppActor pid=8182)\u001b[0m Epoch 1: Train Loss = 0.012696842145588663, Val Loss = 0.012047685915604234\n",
      "\u001b[36m(ClientAppActor pid=8183)\u001b[0m Epoch 1: Train Loss = 0.012500870424426264, Val Loss = 0.01186554524853515\n",
      "\u001b[36m(ClientAppActor pid=8182)\u001b[0m Epoch 1: Train Loss = 0.013735899903501074, Val Loss = 0.014138709520921111\n"
     ]
    },
    {
     "name": "stderr",
     "output_type": "stream",
     "text": [
      "\u001b[92mINFO \u001b[0m:      aggregate_fit: received 10 results and 0 failures\n",
      "\u001b[92mINFO \u001b[0m:      configure_evaluate: strategy sampled 5 clients (out of 10)\n"
     ]
    },
    {
     "name": "stdout",
     "output_type": "stream",
     "text": [
      "\u001b[36m(ClientAppActor pid=8183)\u001b[0m Epoch 1: Train Loss = 0.012854040776275926, Val Loss = 0.012126489581229785\n"
     ]
    },
    {
     "name": "stderr",
     "output_type": "stream",
     "text": [
      "\u001b[92mINFO \u001b[0m:      aggregate_evaluate: received 5 results and 0 failures\n",
      "\u001b[92mINFO \u001b[0m:      \n",
      "\u001b[92mINFO \u001b[0m:      [ROUND 40]\n",
      "\u001b[92mINFO \u001b[0m:      configure_fit: strategy sampled 10 clients (out of 10)\n"
     ]
    },
    {
     "name": "stdout",
     "output_type": "stream",
     "text": [
      "\u001b[36m(ClientAppActor pid=8182)\u001b[0m Epoch 1: Train Loss = 0.013689492849840059, Val Loss = 0.010539888210284213\n",
      "\u001b[36m(ClientAppActor pid=8183)\u001b[0m Epoch 1: Train Loss = 0.011660652928468254, Val Loss = 0.009628068966170153\n",
      "\u001b[36m(ClientAppActor pid=8182)\u001b[0m Epoch 1: Train Loss = 0.012700205182449685, Val Loss = 0.012422102154232562\n",
      "\u001b[36m(ClientAppActor pid=8183)\u001b[0m Epoch 1: Train Loss = 0.012542400571207205, Val Loss = 0.01244037866126746\n",
      "\u001b[36m(ClientAppActor pid=8182)\u001b[0m Epoch 1: Train Loss = 0.011755937068826623, Val Loss = 0.010175253647200103\n",
      "\u001b[36m(ClientAppActor pid=8183)\u001b[0m Epoch 1: Train Loss = 0.012307387973285384, Val Loss = 0.011428404933686428\n",
      "\u001b[36m(ClientAppActor pid=8182)\u001b[0m Epoch 1: Train Loss = 0.01190385152068403, Val Loss = 0.010724026011303067\n",
      "\u001b[36m(ClientAppActor pid=8183)\u001b[0m Epoch 1: Train Loss = 0.012579119909140799, Val Loss = 0.009246972942491993\n",
      "\u001b[36m(ClientAppActor pid=8182)\u001b[0m Epoch 1: Train Loss = 0.012484802460918824, Val Loss = 0.012865045146706203\n"
     ]
    },
    {
     "name": "stderr",
     "output_type": "stream",
     "text": [
      "\u001b[92mINFO \u001b[0m:      aggregate_fit: received 10 results and 0 failures\n",
      "\u001b[92mINFO \u001b[0m:      configure_evaluate: strategy sampled 5 clients (out of 10)\n"
     ]
    },
    {
     "name": "stdout",
     "output_type": "stream",
     "text": [
      "\u001b[36m(ClientAppActor pid=8183)\u001b[0m Epoch 1: Train Loss = 0.011334709947307904, Val Loss = 0.01045294622114549\n"
     ]
    },
    {
     "name": "stderr",
     "output_type": "stream",
     "text": [
      "\u001b[92mINFO \u001b[0m:      aggregate_evaluate: received 5 results and 0 failures\n",
      "\u001b[92mINFO \u001b[0m:      \n",
      "\u001b[92mINFO \u001b[0m:      [ROUND 41]\n",
      "\u001b[92mINFO \u001b[0m:      configure_fit: strategy sampled 10 clients (out of 10)\n"
     ]
    },
    {
     "name": "stdout",
     "output_type": "stream",
     "text": [
      "\u001b[36m(ClientAppActor pid=8182)\u001b[0m Epoch 1: Train Loss = 0.013719158661034372, Val Loss = 0.010088308103149757\n",
      "\u001b[36m(ClientAppActor pid=8183)\u001b[0m Epoch 1: Train Loss = 0.011588334447393815, Val Loss = 0.00915572487671549\n",
      "\u001b[36m(ClientAppActor pid=8182)\u001b[0m Epoch 1: Train Loss = 0.012629417930212286, Val Loss = 0.010560807758641507\n",
      "\u001b[36m(ClientAppActor pid=8183)\u001b[0m Epoch 1: Train Loss = 0.012019226648327377, Val Loss = 0.01121653278823942\n",
      "\u001b[36m(ClientAppActor pid=8182)\u001b[0m Epoch 1: Train Loss = 0.011804969298342865, Val Loss = 0.011644261171265194\n",
      "\u001b[36m(ClientAppActor pid=8183)\u001b[0m Epoch 1: Train Loss = 0.011766783893108368, Val Loss = 0.010489173543949923\n",
      "\u001b[36m(ClientAppActor pid=8182)\u001b[0m Epoch 1: Train Loss = 0.011620667525049713, Val Loss = 0.012845775578171015\n",
      "\u001b[36m(ClientAppActor pid=8183)\u001b[0m Epoch 1: Train Loss = 0.01247705418823494, Val Loss = 0.010924959710488716\n",
      "\u001b[36m(ClientAppActor pid=8182)\u001b[0m Epoch 1: Train Loss = 0.013068095030676987, Val Loss = 0.011437589855631813\n"
     ]
    },
    {
     "name": "stderr",
     "output_type": "stream",
     "text": [
      "\u001b[92mINFO \u001b[0m:      aggregate_fit: received 10 results and 0 failures\n",
      "\u001b[92mINFO \u001b[0m:      configure_evaluate: strategy sampled 5 clients (out of 10)\n"
     ]
    },
    {
     "name": "stdout",
     "output_type": "stream",
     "text": [
      "\u001b[36m(ClientAppActor pid=8183)\u001b[0m Epoch 1: Train Loss = 0.013292897471951113, Val Loss = 0.009775020771485288\n"
     ]
    },
    {
     "name": "stderr",
     "output_type": "stream",
     "text": [
      "\u001b[92mINFO \u001b[0m:      aggregate_evaluate: received 5 results and 0 failures\n",
      "\u001b[92mINFO \u001b[0m:      \n",
      "\u001b[92mINFO \u001b[0m:      [ROUND 42]\n",
      "\u001b[92mINFO \u001b[0m:      configure_fit: strategy sampled 10 clients (out of 10)\n"
     ]
    },
    {
     "name": "stdout",
     "output_type": "stream",
     "text": [
      "\u001b[36m(ClientAppActor pid=8182)\u001b[0m Epoch 1: Train Loss = 0.012284941112415657, Val Loss = 0.011601580209874859\n",
      "\u001b[36m(ClientAppActor pid=8183)\u001b[0m Epoch 1: Train Loss = 0.013206949416134093, Val Loss = 0.012085945811122656\n",
      "\u001b[36m(ClientAppActor pid=8182)\u001b[0m Epoch 1: Train Loss = 0.012458508213361105, Val Loss = 0.010797784527918944\n",
      "\u001b[36m(ClientAppActor pid=8183)\u001b[0m Epoch 1: Train Loss = 0.0122359419034587, Val Loss = 0.012394730389739076\n",
      "\u001b[36m(ClientAppActor pid=8182)\u001b[0m Epoch 1: Train Loss = 0.012687507323506805, Val Loss = 0.009561689337715507\n",
      "\u001b[36m(ClientAppActor pid=8183)\u001b[0m Epoch 1: Train Loss = 0.011415969197534853, Val Loss = 0.011588449163051942\n",
      "\u001b[36m(ClientAppActor pid=8182)\u001b[0m Epoch 1: Train Loss = 0.01159084059504999, Val Loss = 0.010234765126369894\n",
      "\u001b[36m(ClientAppActor pid=8183)\u001b[0m Epoch 1: Train Loss = 0.012489567634960015, Val Loss = 0.009168858116026968\n",
      "\u001b[36m(ClientAppActor pid=8182)\u001b[0m Epoch 1: Train Loss = 0.012028462532907725, Val Loss = 0.012822508967171112\n"
     ]
    },
    {
     "name": "stderr",
     "output_type": "stream",
     "text": [
      "\u001b[92mINFO \u001b[0m:      aggregate_fit: received 10 results and 0 failures\n",
      "\u001b[92mINFO \u001b[0m:      configure_evaluate: strategy sampled 5 clients (out of 10)\n"
     ]
    },
    {
     "name": "stdout",
     "output_type": "stream",
     "text": [
      "\u001b[36m(ClientAppActor pid=8183)\u001b[0m Epoch 1: Train Loss = 0.012043435680162575, Val Loss = 0.012182087419205345\n"
     ]
    },
    {
     "name": "stderr",
     "output_type": "stream",
     "text": [
      "\u001b[92mINFO \u001b[0m:      aggregate_evaluate: received 5 results and 0 failures\n",
      "\u001b[92mINFO \u001b[0m:      \n",
      "\u001b[92mINFO \u001b[0m:      [ROUND 43]\n",
      "\u001b[92mINFO \u001b[0m:      configure_fit: strategy sampled 10 clients (out of 10)\n"
     ]
    },
    {
     "name": "stdout",
     "output_type": "stream",
     "text": [
      "\u001b[36m(ClientAppActor pid=8183)\u001b[0m Epoch 1: Train Loss = 0.012516867752290434, Val Loss = 0.012208478680501381\n",
      "\u001b[36m(ClientAppActor pid=8182)\u001b[0m Epoch 1: Train Loss = 0.014214170610325204, Val Loss = 0.010474685036266843\n",
      "\u001b[36m(ClientAppActor pid=8183)\u001b[0m Epoch 1: Train Loss = 0.012819306045356724, Val Loss = 0.010304021299816668\n",
      "\u001b[36m(ClientAppActor pid=8182)\u001b[0m Epoch 1: Train Loss = 0.012149716365254588, Val Loss = 0.011404855370831987\n",
      "\u001b[36m(ClientAppActor pid=8183)\u001b[0m Epoch 1: Train Loss = 0.012589716942360003, Val Loss = 0.009424731533120697\n",
      "\u001b[36m(ClientAppActor pid=8182)\u001b[0m Epoch 1: Train Loss = 0.011624447991036707, Val Loss = 0.01105553563684225\n",
      "\u001b[36m(ClientAppActor pid=8183)\u001b[0m Epoch 1: Train Loss = 0.011875945950547855, Val Loss = 0.009139625122770667\n",
      "\u001b[36m(ClientAppActor pid=8182)\u001b[0m Epoch 1: Train Loss = 0.012123109731409286, Val Loss = 0.013535509041200081\n"
     ]
    },
    {
     "name": "stderr",
     "output_type": "stream",
     "text": [
      "\u001b[92mINFO \u001b[0m:      aggregate_fit: received 10 results and 0 failures\n",
      "\u001b[92mINFO \u001b[0m:      configure_evaluate: strategy sampled 5 clients (out of 10)\n"
     ]
    },
    {
     "name": "stdout",
     "output_type": "stream",
     "text": [
      "\u001b[36m(ClientAppActor pid=8182)\u001b[0m Epoch 1: Train Loss = 0.01160061036547025, Val Loss = 0.013130736459667483\n",
      "\u001b[36m(ClientAppActor pid=8183)\u001b[0m Epoch 1: Train Loss = 0.011931044732530911, Val Loss = 0.010112559170617411\n"
     ]
    },
    {
     "name": "stderr",
     "output_type": "stream",
     "text": [
      "\u001b[92mINFO \u001b[0m:      aggregate_evaluate: received 5 results and 0 failures\n",
      "\u001b[92mINFO \u001b[0m:      \n",
      "\u001b[92mINFO \u001b[0m:      [ROUND 44]\n",
      "\u001b[92mINFO \u001b[0m:      configure_fit: strategy sampled 10 clients (out of 10)\n"
     ]
    },
    {
     "name": "stdout",
     "output_type": "stream",
     "text": [
      "\u001b[36m(ClientAppActor pid=8182)\u001b[0m Epoch 1: Train Loss = 0.012107242447220617, Val Loss = 0.011131105828098953\n",
      "\u001b[36m(ClientAppActor pid=8183)\u001b[0m Epoch 1: Train Loss = 0.01176910979880227, Val Loss = 0.00869428494722039\n",
      "\u001b[36m(ClientAppActor pid=8182)\u001b[0m Epoch 1: Train Loss = 0.012805042850474516, Val Loss = 0.009781928228524825\n",
      "\u001b[36m(ClientAppActor pid=8183)\u001b[0m Epoch 1: Train Loss = 0.011812544065631099, Val Loss = 0.010679001939327767\n",
      "\u001b[36m(ClientAppActor pid=8182)\u001b[0m Epoch 1: Train Loss = 0.012234587781131267, Val Loss = 0.011313959847029764\n",
      "\u001b[36m(ClientAppActor pid=8183)\u001b[0m Epoch 1: Train Loss = 0.012082032869673437, Val Loss = 0.010603217252840599\n",
      "\u001b[36m(ClientAppActor pid=8182)\u001b[0m Epoch 1: Train Loss = 0.014047775955663786, Val Loss = 0.012442949965285758\n",
      "\u001b[36m(ClientAppActor pid=8183)\u001b[0m Epoch 1: Train Loss = 0.012339464740620719, Val Loss = 0.012561838297794262\n",
      "\u001b[36m(ClientAppActor pid=8182)\u001b[0m Epoch 1: Train Loss = 0.011550485477265384, Val Loss = 0.009985210335192582\n"
     ]
    },
    {
     "name": "stderr",
     "output_type": "stream",
     "text": [
      "\u001b[92mINFO \u001b[0m:      aggregate_fit: received 10 results and 0 failures\n",
      "\u001b[92mINFO \u001b[0m:      configure_evaluate: strategy sampled 5 clients (out of 10)\n"
     ]
    },
    {
     "name": "stdout",
     "output_type": "stream",
     "text": [
      "\u001b[36m(ClientAppActor pid=8183)\u001b[0m Epoch 1: Train Loss = 0.012658397066924306, Val Loss = 0.012476621583725015\n"
     ]
    },
    {
     "name": "stderr",
     "output_type": "stream",
     "text": [
      "\u001b[92mINFO \u001b[0m:      aggregate_evaluate: received 5 results and 0 failures\n",
      "\u001b[92mINFO \u001b[0m:      \n",
      "\u001b[92mINFO \u001b[0m:      [ROUND 45]\n",
      "\u001b[92mINFO \u001b[0m:      configure_fit: strategy sampled 10 clients (out of 10)\n"
     ]
    },
    {
     "name": "stdout",
     "output_type": "stream",
     "text": [
      "\u001b[36m(ClientAppActor pid=8182)\u001b[0m Epoch 1: Train Loss = 0.01201883548249801, Val Loss = 0.013123539121200642\n",
      "\u001b[36m(ClientAppActor pid=8183)\u001b[0m Epoch 1: Train Loss = 0.0131311457293729, Val Loss = 0.013273895407716433\n",
      "\u001b[36m(ClientAppActor pid=8182)\u001b[0m Epoch 1: Train Loss = 0.012652851413521501, Val Loss = 0.011210832201565305\n",
      "\u001b[36m(ClientAppActor pid=8183)\u001b[0m Epoch 1: Train Loss = 0.012372986770545442, Val Loss = 0.012321081516953806\n",
      "\u001b[36m(ClientAppActor pid=8182)\u001b[0m Epoch 1: Train Loss = 0.011356557191660007, Val Loss = 0.011446655456287166\n",
      "\u001b[36m(ClientAppActor pid=8183)\u001b[0m Epoch 1: Train Loss = 0.011980688427057531, Val Loss = 0.010302416136255488\n",
      "\u001b[36m(ClientAppActor pid=8182)\u001b[0m Epoch 1: Train Loss = 0.012805699836462736, Val Loss = 0.009558607785341641\n",
      "\u001b[36m(ClientAppActor pid=8183)\u001b[0m Epoch 1: Train Loss = 0.012030362151563168, Val Loss = 0.011003530739496151\n",
      "\u001b[36m(ClientAppActor pid=8182)\u001b[0m Epoch 1: Train Loss = 0.011478491789764829, Val Loss = 0.010155295943453288\n"
     ]
    },
    {
     "name": "stderr",
     "output_type": "stream",
     "text": [
      "\u001b[92mINFO \u001b[0m:      aggregate_fit: received 10 results and 0 failures\n",
      "\u001b[92mINFO \u001b[0m:      configure_evaluate: strategy sampled 5 clients (out of 10)\n"
     ]
    },
    {
     "name": "stdout",
     "output_type": "stream",
     "text": [
      "\u001b[36m(ClientAppActor pid=8183)\u001b[0m Epoch 1: Train Loss = 0.011620763492667012, Val Loss = 0.009470592524545888\n"
     ]
    },
    {
     "name": "stderr",
     "output_type": "stream",
     "text": [
      "\u001b[92mINFO \u001b[0m:      aggregate_evaluate: received 5 results and 0 failures\n",
      "\u001b[92mINFO \u001b[0m:      \n",
      "\u001b[92mINFO \u001b[0m:      [ROUND 46]\n",
      "\u001b[92mINFO \u001b[0m:      configure_fit: strategy sampled 10 clients (out of 10)\n"
     ]
    },
    {
     "name": "stdout",
     "output_type": "stream",
     "text": [
      "\u001b[36m(ClientAppActor pid=8182)\u001b[0m Epoch 1: Train Loss = 0.011736529868923956, Val Loss = 0.012162248177143434\n",
      "\u001b[36m(ClientAppActor pid=8183)\u001b[0m Epoch 1: Train Loss = 0.011593958233586617, Val Loss = 0.009389041616486793\n",
      "\u001b[36m(ClientAppActor pid=8182)\u001b[0m Epoch 1: Train Loss = 0.012066271269900931, Val Loss = 0.01156739219247053\n",
      "\u001b[36m(ClientAppActor pid=8183)\u001b[0m Epoch 1: Train Loss = 0.011941171923859252, Val Loss = 0.011050730128772557\n",
      "\u001b[36m(ClientAppActor pid=8182)\u001b[0m Epoch 1: Train Loss = 0.01150342933833599, Val Loss = 0.011174542092097303\n",
      "\u001b[36m(ClientAppActor pid=8183)\u001b[0m Epoch 1: Train Loss = 0.011182247868014706, Val Loss = 0.012127711903303862\n",
      "\u001b[36m(ClientAppActor pid=8182)\u001b[0m Epoch 1: Train Loss = 0.01314298047994574, Val Loss = 0.012453923001885414\n",
      "\u001b[36m(ClientAppActor pid=8183)\u001b[0m Epoch 1: Train Loss = 0.011764177897324165, Val Loss = 0.011836183005167792\n",
      "\u001b[36m(ClientAppActor pid=8182)\u001b[0m Epoch 1: Train Loss = 0.01291598327871826, Val Loss = 0.009738696157000959\n"
     ]
    },
    {
     "name": "stderr",
     "output_type": "stream",
     "text": [
      "\u001b[92mINFO \u001b[0m:      aggregate_fit: received 10 results and 0 failures\n"
     ]
    },
    {
     "name": "stdout",
     "output_type": "stream",
     "text": [
      "\u001b[36m(ClientAppActor pid=8183)\u001b[0m Epoch 1: Train Loss = 0.011957848444581032, Val Loss = 0.012430483009666204\n"
     ]
    },
    {
     "name": "stderr",
     "output_type": "stream",
     "text": [
      "\u001b[92mINFO \u001b[0m:      configure_evaluate: strategy sampled 5 clients (out of 10)\n",
      "\u001b[92mINFO \u001b[0m:      aggregate_evaluate: received 5 results and 0 failures\n",
      "\u001b[92mINFO \u001b[0m:      \n",
      "\u001b[92mINFO \u001b[0m:      [ROUND 47]\n",
      "\u001b[92mINFO \u001b[0m:      configure_fit: strategy sampled 10 clients (out of 10)\n"
     ]
    },
    {
     "name": "stdout",
     "output_type": "stream",
     "text": [
      "\u001b[36m(ClientAppActor pid=8183)\u001b[0m Epoch 1: Train Loss = 0.01330543069375886, Val Loss = 0.01170243474189192\n",
      "\u001b[36m(ClientAppActor pid=8182)\u001b[0m Epoch 1: Train Loss = 0.01210524778192242, Val Loss = 0.012266962808401635\n",
      "\u001b[36m(ClientAppActor pid=8182)\u001b[0m Epoch 1: Train Loss = 0.012359345528400607, Val Loss = 0.009232416244534155\n",
      "\u001b[36m(ClientAppActor pid=8183)\u001b[0m Epoch 1: Train Loss = 0.011863572243601083, Val Loss = 0.010599587170872837\n",
      "\u001b[36m(ClientAppActor pid=8182)\u001b[0m Epoch 1: Train Loss = 0.011711066081706021, Val Loss = 0.010434613523102598\n",
      "\u001b[36m(ClientAppActor pid=8183)\u001b[0m Epoch 1: Train Loss = 0.011114470857299037, Val Loss = 0.010259930607086668\n",
      "\u001b[36m(ClientAppActor pid=8182)\u001b[0m Epoch 1: Train Loss = 0.011944008246064185, Val Loss = 0.013546109898015857\n",
      "\u001b[36m(ClientAppActor pid=8183)\u001b[0m Epoch 1: Train Loss = 0.012284543820553356, Val Loss = 0.009880110543842116\n",
      "\u001b[36m(ClientAppActor pid=8182)\u001b[0m Epoch 1: Train Loss = 0.01298826194057862, Val Loss = 0.009895669373994073\n"
     ]
    },
    {
     "name": "stderr",
     "output_type": "stream",
     "text": [
      "\u001b[92mINFO \u001b[0m:      aggregate_fit: received 10 results and 0 failures\n",
      "\u001b[92mINFO \u001b[0m:      configure_evaluate: strategy sampled 5 clients (out of 10)\n"
     ]
    },
    {
     "name": "stdout",
     "output_type": "stream",
     "text": [
      "\u001b[36m(ClientAppActor pid=8183)\u001b[0m Epoch 1: Train Loss = 0.01156912197669347, Val Loss = 0.010500296601094306\n"
     ]
    },
    {
     "name": "stderr",
     "output_type": "stream",
     "text": [
      "\u001b[92mINFO \u001b[0m:      aggregate_evaluate: received 5 results and 0 failures\n",
      "\u001b[92mINFO \u001b[0m:      \n",
      "\u001b[92mINFO \u001b[0m:      [ROUND 48]\n",
      "\u001b[92mINFO \u001b[0m:      configure_fit: strategy sampled 10 clients (out of 10)\n"
     ]
    },
    {
     "name": "stdout",
     "output_type": "stream",
     "text": [
      "\u001b[36m(ClientAppActor pid=8182)\u001b[0m Epoch 1: Train Loss = 0.011832141565779846, Val Loss = 0.00896744845279803\n",
      "\u001b[36m(ClientAppActor pid=8183)\u001b[0m Epoch 1: Train Loss = 0.013212100074936946, Val Loss = 0.01047404925338924\n",
      "\u001b[36m(ClientAppActor pid=8182)\u001b[0m Epoch 1: Train Loss = 0.011813488902731074, Val Loss = 0.01173867533604304\n",
      "\u001b[36m(ClientAppActor pid=8183)\u001b[0m Epoch 1: Train Loss = 0.011757284144146575, Val Loss = 0.011775185198833546\n",
      "\u001b[36m(ClientAppActor pid=8182)\u001b[0m Epoch 1: Train Loss = 0.012343051760560936, Val Loss = 0.01245303611115863\n",
      "\u001b[36m(ClientAppActor pid=8183)\u001b[0m Epoch 1: Train Loss = 0.011485104107608397, Val Loss = 0.010696246599157652\n",
      "\u001b[36m(ClientAppActor pid=8182)\u001b[0m Epoch 1: Train Loss = 0.012518512705961863, Val Loss = 0.009906076709739864\n",
      "\u001b[36m(ClientAppActor pid=8183)\u001b[0m Epoch 1: Train Loss = 0.012520155755596028, Val Loss = 0.010355683936116597\n",
      "\u001b[36m(ClientAppActor pid=8182)\u001b[0m Epoch 1: Train Loss = 0.011850562929693196, Val Loss = 0.010159308709262405\n"
     ]
    },
    {
     "name": "stderr",
     "output_type": "stream",
     "text": [
      "\u001b[92mINFO \u001b[0m:      aggregate_fit: received 10 results and 0 failures\n",
      "\u001b[92mINFO \u001b[0m:      configure_evaluate: strategy sampled 5 clients (out of 10)\n"
     ]
    },
    {
     "name": "stdout",
     "output_type": "stream",
     "text": [
      "\u001b[36m(ClientAppActor pid=8183)\u001b[0m Epoch 1: Train Loss = 0.0115278502408829, Val Loss = 0.010152439858453969\n"
     ]
    },
    {
     "name": "stderr",
     "output_type": "stream",
     "text": [
      "\u001b[92mINFO \u001b[0m:      aggregate_evaluate: received 5 results and 0 failures\n",
      "\u001b[92mINFO \u001b[0m:      \n",
      "\u001b[92mINFO \u001b[0m:      [ROUND 49]\n",
      "\u001b[92mINFO \u001b[0m:      configure_fit: strategy sampled 10 clients (out of 10)\n"
     ]
    },
    {
     "name": "stdout",
     "output_type": "stream",
     "text": [
      "\u001b[36m(ClientAppActor pid=8183)\u001b[0m Epoch 1: Train Loss = 0.012279156890387336, Val Loss = 0.01161843064861993\n",
      "\u001b[36m(ClientAppActor pid=8182)\u001b[0m Epoch 1: Train Loss = 0.012703532425479756, Val Loss = 0.01038800117870172\n",
      "\u001b[36m(ClientAppActor pid=8183)\u001b[0m Epoch 1: Train Loss = 0.01230843731512626, Val Loss = 0.01052245416212827\n",
      "\u001b[36m(ClientAppActor pid=8182)\u001b[0m Epoch 1: Train Loss = 0.01134933555084798, Val Loss = 0.01216897217091173\n",
      "\u001b[36m(ClientAppActor pid=8183)\u001b[0m Epoch 1: Train Loss = 0.011991267144266102, Val Loss = 0.010392773692728952\n",
      "\u001b[36m(ClientAppActor pid=8182)\u001b[0m Epoch 1: Train Loss = 0.011465556919574738, Val Loss = 0.01056276902090758\n",
      "\u001b[36m(ClientAppActor pid=8182)\u001b[0m Epoch 1: Train Loss = 0.012388802712990178, Val Loss = 0.011328890577715356\n",
      "\u001b[36m(ClientAppActor pid=8183)\u001b[0m Epoch 1: Train Loss = 0.012823777821742826, Val Loss = 0.012959819209451476\n",
      "\u001b[36m(ClientAppActor pid=8182)\u001b[0m Epoch 1: Train Loss = 0.011247245211982065, Val Loss = 0.010494236756737033\n"
     ]
    },
    {
     "name": "stderr",
     "output_type": "stream",
     "text": [
      "\u001b[92mINFO \u001b[0m:      aggregate_fit: received 10 results and 0 failures\n",
      "\u001b[92mINFO \u001b[0m:      configure_evaluate: strategy sampled 5 clients (out of 10)\n"
     ]
    },
    {
     "name": "stdout",
     "output_type": "stream",
     "text": [
      "\u001b[36m(ClientAppActor pid=8183)\u001b[0m Epoch 1: Train Loss = 0.011618871169371738, Val Loss = 0.010557510812456409\n"
     ]
    },
    {
     "name": "stderr",
     "output_type": "stream",
     "text": [
      "\u001b[92mINFO \u001b[0m:      aggregate_evaluate: received 5 results and 0 failures\n",
      "\u001b[92mINFO \u001b[0m:      \n",
      "\u001b[92mINFO \u001b[0m:      [ROUND 50]\n",
      "\u001b[92mINFO \u001b[0m:      configure_fit: strategy sampled 10 clients (out of 10)\n"
     ]
    },
    {
     "name": "stdout",
     "output_type": "stream",
     "text": [
      "\u001b[36m(ClientAppActor pid=8183)\u001b[0m Epoch 1: Train Loss = 0.012264431837118334, Val Loss = 0.012139128909135858\n",
      "\u001b[36m(ClientAppActor pid=8182)\u001b[0m Epoch 1: Train Loss = 0.011905373788128297, Val Loss = 0.012953924985292057\n",
      "\u001b[36m(ClientAppActor pid=8183)\u001b[0m Epoch 1: Train Loss = 0.011728264712211159, Val Loss = 0.011827907641418278\n",
      "\u001b[36m(ClientAppActor pid=8182)\u001b[0m Epoch 1: Train Loss = 0.012645465477059284, Val Loss = 0.009812155292214205\n",
      "\u001b[36m(ClientAppActor pid=8182)\u001b[0m Epoch 1: Train Loss = 0.011143338628527191, Val Loss = 0.011857900652103126\n",
      "\u001b[36m(ClientAppActor pid=8183)\u001b[0m Epoch 1: Train Loss = 0.01243020769001709, Val Loss = 0.011252717211997757\n",
      "\u001b[36m(ClientAppActor pid=8182)\u001b[0m Epoch 1: Train Loss = 0.012867600905398529, Val Loss = 0.015556518492909769\n",
      "\u001b[36m(ClientAppActor pid=8183)\u001b[0m Epoch 1: Train Loss = 0.011465175770637062, Val Loss = 0.00956023131341984\n",
      "\u001b[36m(ClientAppActor pid=8182)\u001b[0m Epoch 1: Train Loss = 0.011503909041898118, Val Loss = 0.011988902231678367\n"
     ]
    },
    {
     "name": "stderr",
     "output_type": "stream",
     "text": [
      "\u001b[92mINFO \u001b[0m:      aggregate_fit: received 10 results and 0 failures\n",
      "\u001b[92mINFO \u001b[0m:      configure_evaluate: strategy sampled 5 clients (out of 10)\n"
     ]
    },
    {
     "name": "stdout",
     "output_type": "stream",
     "text": [
      "\u001b[36m(ClientAppActor pid=8183)\u001b[0m Epoch 1: Train Loss = 0.01211775525783499, Val Loss = 0.011358121021961173\n"
     ]
    },
    {
     "name": "stderr",
     "output_type": "stream",
     "text": [
      "\u001b[92mINFO \u001b[0m:      aggregate_evaluate: received 5 results and 0 failures\n",
      "\u001b[92mINFO \u001b[0m:      \n",
      "\u001b[92mINFO \u001b[0m:      [SUMMARY]\n",
      "\u001b[92mINFO \u001b[0m:      Run finished 50 round(s) in 8858.16s\n",
      "\u001b[92mINFO \u001b[0m:      \tHistory (loss, distributed):\n",
      "\u001b[92mINFO \u001b[0m:      \t\tround 1: 0.021013449613625803\n",
      "\u001b[92mINFO \u001b[0m:      \t\tround 2: 0.015056310354460341\n",
      "\u001b[92mINFO \u001b[0m:      \t\tround 3: 0.013122492221494515\n",
      "\u001b[92mINFO \u001b[0m:      \t\tround 4: 0.012978565231120835\n",
      "\u001b[92mINFO \u001b[0m:      \t\tround 5: 0.013330662646330893\n",
      "\u001b[92mINFO \u001b[0m:      \t\tround 6: 0.014490170202528437\n",
      "\u001b[92mINFO \u001b[0m:      \t\tround 7: 0.013264604057864442\n",
      "\u001b[92mINFO \u001b[0m:      \t\tround 8: 0.012315468019611824\n",
      "\u001b[92mINFO \u001b[0m:      \t\tround 9: 0.011212558582580337\n",
      "\u001b[92mINFO \u001b[0m:      \t\tround 10: 0.011994239297928288\n",
      "\u001b[92mINFO \u001b[0m:      \t\tround 11: 0.01197195379063487\n",
      "\u001b[92mINFO \u001b[0m:      \t\tround 12: 0.011878421809524298\n",
      "\u001b[92mINFO \u001b[0m:      \t\tround 13: 0.013450726494193077\n",
      "\u001b[92mINFO \u001b[0m:      \t\tround 14: 0.01191981603236248\n",
      "\u001b[92mINFO \u001b[0m:      \t\tround 15: 0.012841567940389117\n",
      "\u001b[92mINFO \u001b[0m:      \t\tround 16: 0.012411833368241787\n",
      "\u001b[92mINFO \u001b[0m:      \t\tround 17: 0.011976743511331734\n",
      "\u001b[92mINFO \u001b[0m:      \t\tround 18: 0.012195798956478635\n",
      "\u001b[92mINFO \u001b[0m:      \t\tround 19: 0.011715643232067426\n",
      "\u001b[92mINFO \u001b[0m:      \t\tround 20: 0.01101215744856745\n",
      "\u001b[92mINFO \u001b[0m:      \t\tround 21: 0.011378358248233173\n",
      "\u001b[92mINFO \u001b[0m:      \t\tround 22: 0.011513317843976741\n",
      "\u001b[92mINFO \u001b[0m:      \t\tround 23: 0.010385537766463433\n",
      "\u001b[92mINFO \u001b[0m:      \t\tround 24: 0.011937586350056033\n",
      "\u001b[92mINFO \u001b[0m:      \t\tround 25: 0.011130668234545737\n",
      "\u001b[92mINFO \u001b[0m:      \t\tround 26: 0.010599905396278093\n",
      "\u001b[92mINFO \u001b[0m:      \t\tround 27: 0.012332913015658658\n",
      "\u001b[92mINFO \u001b[0m:      \t\tround 28: 0.011132312659174203\n",
      "\u001b[92mINFO \u001b[0m:      \t\tround 29: 0.010804348150850273\n",
      "\u001b[92mINFO \u001b[0m:      \t\tround 30: 0.010867625082998227\n",
      "\u001b[92mINFO \u001b[0m:      \t\tround 31: 0.010705524724229084\n",
      "\u001b[92mINFO \u001b[0m:      \t\tround 32: 0.011475509769904116\n",
      "\u001b[92mINFO \u001b[0m:      \t\tround 33: 0.011988512288856631\n",
      "\u001b[92mINFO \u001b[0m:      \t\tround 34: 0.010407926682091784\n",
      "\u001b[92mINFO \u001b[0m:      \t\tround 35: 0.011127281216128418\n",
      "\u001b[92mINFO \u001b[0m:      \t\tround 36: 0.011159748205682263\n",
      "\u001b[92mINFO \u001b[0m:      \t\tround 37: 0.010792533599790962\n",
      "\u001b[92mINFO \u001b[0m:      \t\tround 38: 0.012214665169206758\n",
      "\u001b[92mINFO \u001b[0m:      \t\tround 39: 0.011313977527121703\n",
      "\u001b[92mINFO \u001b[0m:      \t\tround 40: 0.011166196240810677\n",
      "\u001b[92mINFO \u001b[0m:      \t\tround 41: 0.01028051729008439\n",
      "\u001b[92mINFO \u001b[0m:      \t\tround 42: 0.010841845116616847\n",
      "\u001b[92mINFO \u001b[0m:      \t\tround 43: 0.010956488611797491\n",
      "\u001b[92mINFO \u001b[0m:      \t\tround 44: 0.010491381191483622\n",
      "\u001b[92mINFO \u001b[0m:      \t\tround 45: 0.01131772590597393\n",
      "\u001b[92mINFO \u001b[0m:      \t\tround 46: 0.011176423612778309\n",
      "\u001b[92mINFO \u001b[0m:      \t\tround 47: 0.010333677087328397\n",
      "\u001b[92mINFO \u001b[0m:      \t\tround 48: 0.010703125863801687\n",
      "\u001b[92mINFO \u001b[0m:      \t\tround 49: 0.01057903811063928\n",
      "\u001b[92mINFO \u001b[0m:      \t\tround 50: 0.010754276996400828\n",
      "\u001b[92mINFO \u001b[0m:      \n"
     ]
    }
   ],
   "source": [
    "# Run simulation\n",
    "NUM_CLIENTS = 10\n",
    "run_simulation(\n",
    "    server_app=server,\n",
    "    client_app=client,\n",
    "    num_supernodes=NUM_CLIENTS,\n",
    "    backend_config=backend_config,\n",
    ")"
   ]
  },
  {
   "cell_type": "markdown",
   "metadata": {
    "id": "Fpp6sn10KTGS"
   },
   "source": [
    "#### Where's the accuracy?"
   ]
  },
  {
   "cell_type": "code",
   "execution_count": 29,
   "metadata": {
    "colab": {
     "base_uri": "https://localhost:8080/"
    },
    "executionInfo": {
     "elapsed": 21,
     "status": "ok",
     "timestamp": 1733070801232,
     "user": {
      "displayName": "ÚC NGÔ VĂN",
      "userId": "17995020128839883394"
     },
     "user_tz": -420
    },
    "id": "pyZWXSHBKTGS",
    "outputId": "618f3e05-a0e1-4fd1-c170-14ab7c7af4bd"
   },
   "outputs": [
    {
     "name": "stderr",
     "output_type": "stream",
     "text": [
      "/usr/local/lib/python3.10/dist-packages/ipykernel/ipkernel.py:283: DeprecationWarning: `should_run_async` will not call `transform_cell` automatically in the future. Please pass the result to `transformed_cell` argument and any exception that happen during thetransform in `preprocessing_exc_tuple` in IPython 7.17 and above.\n",
      "  and should_run_async(code)\n"
     ]
    }
   ],
   "source": [
    "# def weighted_average(metrics: List[Tuple[int, Metrics]]) -> Metrics:\n",
    "#     # Multiply accuracy of each client by number of examples used\n",
    "#     accuracies = [num_examples * m[\"accuracy\"] for num_examples, m in metrics]\n",
    "#     examples = [num_examples for num_examples, _ in metrics]\n",
    "\n",
    "#     # Aggregate and return custom metric (weighted average)\n",
    "#     return {\"accuracy\": sum(accuracies) / sum(examples)}"
   ]
  },
  {
   "cell_type": "code",
   "execution_count": 30,
   "metadata": {
    "executionInfo": {
     "elapsed": 1,
     "status": "ok",
     "timestamp": 1733070801232,
     "user": {
      "displayName": "ÚC NGÔ VĂN",
      "userId": "17995020128839883394"
     },
     "user_tz": -420
    },
    "id": "Pb0QmZqxKTGS"
   },
   "outputs": [],
   "source": [
    "# def server_fn(context: Context) -> ServerAppComponents:\n",
    "#     \"\"\"Construct components that set the ServerApp behaviour.\n",
    "\n",
    "#     You can use settings in `context.run_config` to parameterize the\n",
    "#     construction of all elements (e.g the strategy or the number of rounds)\n",
    "#     wrapped in the returned ServerAppComponents object.\n",
    "#     \"\"\"\n",
    "\n",
    "#     # Create FedAvg strategy\n",
    "#     strategy = FedAvg(\n",
    "#         fraction_fit=1.0,\n",
    "#         fraction_evaluate=0.5,\n",
    "#         min_fit_clients=10,\n",
    "#         min_evaluate_clients=5,\n",
    "#         min_available_clients=10,\n",
    "#         evaluate_metrics_aggregation_fn=weighted_average,  # <-- pass the metric aggregation function\n",
    "#     )\n",
    "\n",
    "#     # Configure the server for 5 rounds of training\n",
    "#     config = ServerConfig(num_rounds=5)\n",
    "\n",
    "#     return ServerAppComponents(strategy=strategy, config=config)\n",
    "\n",
    "\n",
    "# # Create a new server instance with the updated FedAvg strategy\n",
    "# server = ServerApp(server_fn=server_fn)\n",
    "\n",
    "# # Run simulation\n",
    "# run_simulation(\n",
    "#     server_app=server,\n",
    "#     client_app=client,\n",
    "#     num_supernodes=NUM_CLIENTS,\n",
    "#     backend_config=backend_config,\n",
    "# )"
   ]
  }
 ],
 "metadata": {
  "colab": {
   "provenance": []
  },
  "kernelspec": {
   "display_name": ".venv",
   "language": "python",
   "name": "python3"
  },
  "language_info": {
   "codemirror_mode": {
    "name": "ipython",
    "version": 3
   },
   "file_extension": ".py",
   "mimetype": "text/x-python",
   "name": "python",
   "nbconvert_exporter": "python",
   "pygments_lexer": "ipython3",
   "version": "3.12.7"
  }
 },
 "nbformat": 4,
 "nbformat_minor": 0
}
