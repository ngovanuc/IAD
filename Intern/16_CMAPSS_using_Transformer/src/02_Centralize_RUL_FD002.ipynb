{
 "cells": [
  {
   "cell_type": "markdown",
   "metadata": {},
   "source": [
    "Không sử dụng tập test, dùng tập train để train và test"
   ]
  },
  {
   "cell_type": "markdown",
   "metadata": {},
   "source": [
    "## Import the libraries"
   ]
  },
  {
   "cell_type": "code",
   "execution_count": 1,
   "metadata": {},
   "outputs": [],
   "source": [
    "import numpy as np\n",
    "import pandas as pd\n",
    "\n",
    "import torch\n",
    "import torch.nn as nn\n",
    "from torch.utils.data import DataLoader, Dataset\n",
    "from torch.utils.data import random_split\n",
    "from sklearn.preprocessing import MinMaxScaler\n",
    "from sklearn.model_selection import train_test_split    \n",
    "\n",
    "import warnings\n",
    "warnings.filterwarnings('ignore')\n",
    "\n",
    "import matplotlib.pyplot as plt\n",
    "import seaborn as sns"
   ]
  },
  {
   "cell_type": "markdown",
   "metadata": {},
   "source": [
    "## Dataloader"
   ]
  },
  {
   "cell_type": "code",
   "execution_count": 2,
   "metadata": {},
   "outputs": [],
   "source": [
    "class CMAPSSLoaderDataset(Dataset):\n",
    "    def __init__(self, data, sequence_length):\n",
    "        self.data = data\n",
    "        self.sequence_length = sequence_length\n",
    "        self.sequences = []\n",
    "        self.targets = []\n",
    "        \n",
    "        grouped = data.groupby('ID Engine') \n",
    "        for _, group in grouped:        \n",
    "            values = group.drop(['ID Engine', 'Cycle', 'Setting 1', 'Setting 2', 'Setting 3','Remaining RUL'], axis=1).values\n",
    "            rul_values = group['Remaining RUL'].values\n",
    "            \n",
    "            for i in range(len(values) - sequence_length + 1):\n",
    "                self.sequences.append(values[i:i + sequence_length]) \n",
    "                self.targets.append(rul_values[i + sequence_length - 1])\n",
    "    \n",
    "    def __len__(self):\n",
    "        \n",
    "        return len(self.sequences)\n",
    "    \n",
    "    def __getitem__(self, idx):\n",
    "        return (\n",
    "            torch.tensor(self.sequences[idx], dtype=torch.float32),\n",
    "            torch.tensor(self.targets[idx], dtype=torch.float32),\n",
    "        )"
   ]
  },
  {
   "cell_type": "markdown",
   "metadata": {},
   "source": [
    "## Transformer"
   ]
  },
  {
   "cell_type": "code",
   "execution_count": 3,
   "metadata": {},
   "outputs": [],
   "source": [
    "class TransformerModel(nn.Module):\n",
    "    def __init__(self, input_dim, d_model, nhead, num_layers, dim_feedforward, dropout):\n",
    "        super(TransformerModel, self).__init__()\n",
    "        self.input_embedding = nn.Linear(input_dim, d_model)\n",
    "        self.positional_encoding = nn.Parameter(torch.zeros(1, 5000, d_model))\n",
    "        self.transformer = nn.Transformer(\n",
    "            d_model=d_model,\n",
    "            nhead=nhead,\n",
    "            num_encoder_layers=num_layers,\n",
    "            num_decoder_layers=num_layers,\n",
    "            dim_feedforward=dim_feedforward,\n",
    "            dropout=dropout,\n",
    "        )\n",
    "        self.fc_out = nn.Linear(d_model, 1)\n",
    "\n",
    "    def forward(self, src):\n",
    "        src_emb = self.input_embedding(src) + self.positional_encoding[:, :src.size(1), :]\n",
    "        src_emb = src_emb.permute(1, 0, 2)\n",
    "        transformer_out = self.transformer(src_emb, src_emb)\n",
    "        output = self.fc_out(transformer_out[-1, :, :])\n",
    "        return output.squeeze(-1)"
   ]
  },
  {
   "cell_type": "markdown",
   "metadata": {},
   "source": [
    "## File paths"
   ]
  },
  {
   "cell_type": "code",
   "execution_count": 6,
   "metadata": {},
   "outputs": [],
   "source": [
    "train_1 = \"../data/train_FD002.txt\"\n",
    "test_1 = \"../data/test_FD002.txt\"\n",
    "rul_1 = \"../data/RUL_FD002.txt\""
   ]
  },
  {
   "cell_type": "markdown",
   "metadata": {},
   "source": [
    "## Tính toán RUL cho train"
   ]
  },
  {
   "cell_type": "code",
   "execution_count": 7,
   "metadata": {},
   "outputs": [
    {
     "data": {
      "text/html": [
       "<div>\n",
       "<style scoped>\n",
       "    .dataframe tbody tr th:only-of-type {\n",
       "        vertical-align: middle;\n",
       "    }\n",
       "\n",
       "    .dataframe tbody tr th {\n",
       "        vertical-align: top;\n",
       "    }\n",
       "\n",
       "    .dataframe thead th {\n",
       "        text-align: right;\n",
       "    }\n",
       "</style>\n",
       "<table border=\"1\" class=\"dataframe\">\n",
       "  <thead>\n",
       "    <tr style=\"text-align: right;\">\n",
       "      <th></th>\n",
       "      <th>ID Engine</th>\n",
       "      <th>Cycle</th>\n",
       "      <th>Setting 1</th>\n",
       "      <th>Setting 2</th>\n",
       "      <th>Setting 3</th>\n",
       "      <th>Sensor 1</th>\n",
       "      <th>Sensor 2</th>\n",
       "      <th>Sensor 3</th>\n",
       "      <th>Sensor 4</th>\n",
       "      <th>Sensor 5</th>\n",
       "      <th>...</th>\n",
       "      <th>Sensor 13</th>\n",
       "      <th>Sensor 14</th>\n",
       "      <th>Sensor 15</th>\n",
       "      <th>Sensor 16</th>\n",
       "      <th>Sensor 17</th>\n",
       "      <th>Sensor 18</th>\n",
       "      <th>Sensor 19</th>\n",
       "      <th>Sensor 20</th>\n",
       "      <th>Sensor 21</th>\n",
       "      <th>Remaining RUL</th>\n",
       "    </tr>\n",
       "  </thead>\n",
       "  <tbody>\n",
       "    <tr>\n",
       "      <th>0</th>\n",
       "      <td>1</td>\n",
       "      <td>1</td>\n",
       "      <td>34.9983</td>\n",
       "      <td>0.8400</td>\n",
       "      <td>100.0</td>\n",
       "      <td>449.44</td>\n",
       "      <td>555.32</td>\n",
       "      <td>1358.61</td>\n",
       "      <td>1137.23</td>\n",
       "      <td>5.48</td>\n",
       "      <td>...</td>\n",
       "      <td>2387.72</td>\n",
       "      <td>8048.56</td>\n",
       "      <td>9.3461</td>\n",
       "      <td>0.02</td>\n",
       "      <td>334</td>\n",
       "      <td>2223</td>\n",
       "      <td>100.00</td>\n",
       "      <td>14.73</td>\n",
       "      <td>8.8071</td>\n",
       "      <td></td>\n",
       "    </tr>\n",
       "    <tr>\n",
       "      <th>1</th>\n",
       "      <td>1</td>\n",
       "      <td>2</td>\n",
       "      <td>41.9982</td>\n",
       "      <td>0.8408</td>\n",
       "      <td>100.0</td>\n",
       "      <td>445.00</td>\n",
       "      <td>549.90</td>\n",
       "      <td>1353.22</td>\n",
       "      <td>1125.78</td>\n",
       "      <td>3.91</td>\n",
       "      <td>...</td>\n",
       "      <td>2387.66</td>\n",
       "      <td>8072.30</td>\n",
       "      <td>9.3774</td>\n",
       "      <td>0.02</td>\n",
       "      <td>330</td>\n",
       "      <td>2212</td>\n",
       "      <td>100.00</td>\n",
       "      <td>10.41</td>\n",
       "      <td>6.2665</td>\n",
       "      <td></td>\n",
       "    </tr>\n",
       "    <tr>\n",
       "      <th>2</th>\n",
       "      <td>1</td>\n",
       "      <td>3</td>\n",
       "      <td>24.9988</td>\n",
       "      <td>0.6218</td>\n",
       "      <td>60.0</td>\n",
       "      <td>462.54</td>\n",
       "      <td>537.31</td>\n",
       "      <td>1256.76</td>\n",
       "      <td>1047.45</td>\n",
       "      <td>7.05</td>\n",
       "      <td>...</td>\n",
       "      <td>2028.03</td>\n",
       "      <td>7864.87</td>\n",
       "      <td>10.8941</td>\n",
       "      <td>0.02</td>\n",
       "      <td>309</td>\n",
       "      <td>1915</td>\n",
       "      <td>84.93</td>\n",
       "      <td>14.08</td>\n",
       "      <td>8.6723</td>\n",
       "      <td></td>\n",
       "    </tr>\n",
       "    <tr>\n",
       "      <th>3</th>\n",
       "      <td>1</td>\n",
       "      <td>4</td>\n",
       "      <td>42.0077</td>\n",
       "      <td>0.8416</td>\n",
       "      <td>100.0</td>\n",
       "      <td>445.00</td>\n",
       "      <td>549.51</td>\n",
       "      <td>1354.03</td>\n",
       "      <td>1126.38</td>\n",
       "      <td>3.91</td>\n",
       "      <td>...</td>\n",
       "      <td>2387.61</td>\n",
       "      <td>8068.66</td>\n",
       "      <td>9.3528</td>\n",
       "      <td>0.02</td>\n",
       "      <td>329</td>\n",
       "      <td>2212</td>\n",
       "      <td>100.00</td>\n",
       "      <td>10.59</td>\n",
       "      <td>6.4701</td>\n",
       "      <td></td>\n",
       "    </tr>\n",
       "    <tr>\n",
       "      <th>4</th>\n",
       "      <td>1</td>\n",
       "      <td>5</td>\n",
       "      <td>25.0005</td>\n",
       "      <td>0.6203</td>\n",
       "      <td>60.0</td>\n",
       "      <td>462.54</td>\n",
       "      <td>537.07</td>\n",
       "      <td>1257.71</td>\n",
       "      <td>1047.93</td>\n",
       "      <td>7.05</td>\n",
       "      <td>...</td>\n",
       "      <td>2028.00</td>\n",
       "      <td>7861.23</td>\n",
       "      <td>10.8963</td>\n",
       "      <td>0.02</td>\n",
       "      <td>309</td>\n",
       "      <td>1915</td>\n",
       "      <td>84.93</td>\n",
       "      <td>14.13</td>\n",
       "      <td>8.5286</td>\n",
       "      <td></td>\n",
       "    </tr>\n",
       "  </tbody>\n",
       "</table>\n",
       "<p>5 rows × 27 columns</p>\n",
       "</div>"
      ],
      "text/plain": [
       "   ID Engine  Cycle  Setting 1  Setting 2  Setting 3  Sensor 1  Sensor 2  \\\n",
       "0          1      1    34.9983     0.8400      100.0    449.44    555.32   \n",
       "1          1      2    41.9982     0.8408      100.0    445.00    549.90   \n",
       "2          1      3    24.9988     0.6218       60.0    462.54    537.31   \n",
       "3          1      4    42.0077     0.8416      100.0    445.00    549.51   \n",
       "4          1      5    25.0005     0.6203       60.0    462.54    537.07   \n",
       "\n",
       "   Sensor 3  Sensor 4  Sensor 5  ...  Sensor 13  Sensor 14  Sensor 15  \\\n",
       "0   1358.61   1137.23      5.48  ...    2387.72    8048.56     9.3461   \n",
       "1   1353.22   1125.78      3.91  ...    2387.66    8072.30     9.3774   \n",
       "2   1256.76   1047.45      7.05  ...    2028.03    7864.87    10.8941   \n",
       "3   1354.03   1126.38      3.91  ...    2387.61    8068.66     9.3528   \n",
       "4   1257.71   1047.93      7.05  ...    2028.00    7861.23    10.8963   \n",
       "\n",
       "   Sensor 16  Sensor 17  Sensor 18  Sensor 19  Sensor 20  Sensor 21  \\\n",
       "0       0.02        334       2223     100.00      14.73     8.8071   \n",
       "1       0.02        330       2212     100.00      10.41     6.2665   \n",
       "2       0.02        309       1915      84.93      14.08     8.6723   \n",
       "3       0.02        329       2212     100.00      10.59     6.4701   \n",
       "4       0.02        309       1915      84.93      14.13     8.5286   \n",
       "\n",
       "   Remaining RUL  \n",
       "0                 \n",
       "1                 \n",
       "2                 \n",
       "3                 \n",
       "4                 \n",
       "\n",
       "[5 rows x 27 columns]"
      ]
     },
     "execution_count": 7,
     "metadata": {},
     "output_type": "execute_result"
    }
   ],
   "source": [
    "index_names = ['ID Engine', 'Cycle']\n",
    "setting_names = ['Setting 1', 'Setting 2', 'Setting 3']\n",
    "sensor_names = ['Sensor {}'.format(i) for i in range(1, 22)]\n",
    "column_names = index_names + setting_names + sensor_names\n",
    "\n",
    "train = pd.read_csv(train_1, sep=' ', header=None)\n",
    "train.drop([26, 27], axis=1, inplace=True)\n",
    "train.columns = column_names\n",
    "\n",
    "train['Remaining RUL'] = ''\n",
    "train.head()"
   ]
  },
  {
   "cell_type": "code",
   "execution_count": 8,
   "metadata": {},
   "outputs": [],
   "source": [
    "max_cycle = train.groupby('ID Engine').count()\n",
    "\n",
    "for idx in range(len(train)):\n",
    "    train.loc[idx, 'Remaining RUL'] = max_cycle.loc[train.loc[idx, 'ID Engine'], 'Cycle']\n",
    "\n",
    "train['Remaining RUL'] = train['Remaining RUL'] - train['Cycle']"
   ]
  },
  {
   "cell_type": "code",
   "execution_count": 9,
   "metadata": {},
   "outputs": [
    {
     "data": {
      "text/html": [
       "<div>\n",
       "<style scoped>\n",
       "    .dataframe tbody tr th:only-of-type {\n",
       "        vertical-align: middle;\n",
       "    }\n",
       "\n",
       "    .dataframe tbody tr th {\n",
       "        vertical-align: top;\n",
       "    }\n",
       "\n",
       "    .dataframe thead th {\n",
       "        text-align: right;\n",
       "    }\n",
       "</style>\n",
       "<table border=\"1\" class=\"dataframe\">\n",
       "  <thead>\n",
       "    <tr style=\"text-align: right;\">\n",
       "      <th></th>\n",
       "      <th>ID Engine</th>\n",
       "      <th>Cycle</th>\n",
       "      <th>Setting 1</th>\n",
       "      <th>Setting 2</th>\n",
       "      <th>Setting 3</th>\n",
       "      <th>Sensor 1</th>\n",
       "      <th>Sensor 2</th>\n",
       "      <th>Sensor 3</th>\n",
       "      <th>Sensor 4</th>\n",
       "      <th>Sensor 5</th>\n",
       "      <th>...</th>\n",
       "      <th>Sensor 13</th>\n",
       "      <th>Sensor 14</th>\n",
       "      <th>Sensor 15</th>\n",
       "      <th>Sensor 16</th>\n",
       "      <th>Sensor 17</th>\n",
       "      <th>Sensor 18</th>\n",
       "      <th>Sensor 19</th>\n",
       "      <th>Sensor 20</th>\n",
       "      <th>Sensor 21</th>\n",
       "      <th>Remaining RUL</th>\n",
       "    </tr>\n",
       "  </thead>\n",
       "  <tbody>\n",
       "    <tr>\n",
       "      <th>0</th>\n",
       "      <td>1</td>\n",
       "      <td>1</td>\n",
       "      <td>34.9983</td>\n",
       "      <td>0.8400</td>\n",
       "      <td>100.0</td>\n",
       "      <td>449.44</td>\n",
       "      <td>555.32</td>\n",
       "      <td>1358.61</td>\n",
       "      <td>1137.23</td>\n",
       "      <td>5.48</td>\n",
       "      <td>...</td>\n",
       "      <td>2387.72</td>\n",
       "      <td>8048.56</td>\n",
       "      <td>9.3461</td>\n",
       "      <td>0.02</td>\n",
       "      <td>334</td>\n",
       "      <td>2223</td>\n",
       "      <td>100.00</td>\n",
       "      <td>14.73</td>\n",
       "      <td>8.8071</td>\n",
       "      <td>148</td>\n",
       "    </tr>\n",
       "    <tr>\n",
       "      <th>1</th>\n",
       "      <td>1</td>\n",
       "      <td>2</td>\n",
       "      <td>41.9982</td>\n",
       "      <td>0.8408</td>\n",
       "      <td>100.0</td>\n",
       "      <td>445.00</td>\n",
       "      <td>549.90</td>\n",
       "      <td>1353.22</td>\n",
       "      <td>1125.78</td>\n",
       "      <td>3.91</td>\n",
       "      <td>...</td>\n",
       "      <td>2387.66</td>\n",
       "      <td>8072.30</td>\n",
       "      <td>9.3774</td>\n",
       "      <td>0.02</td>\n",
       "      <td>330</td>\n",
       "      <td>2212</td>\n",
       "      <td>100.00</td>\n",
       "      <td>10.41</td>\n",
       "      <td>6.2665</td>\n",
       "      <td>147</td>\n",
       "    </tr>\n",
       "    <tr>\n",
       "      <th>2</th>\n",
       "      <td>1</td>\n",
       "      <td>3</td>\n",
       "      <td>24.9988</td>\n",
       "      <td>0.6218</td>\n",
       "      <td>60.0</td>\n",
       "      <td>462.54</td>\n",
       "      <td>537.31</td>\n",
       "      <td>1256.76</td>\n",
       "      <td>1047.45</td>\n",
       "      <td>7.05</td>\n",
       "      <td>...</td>\n",
       "      <td>2028.03</td>\n",
       "      <td>7864.87</td>\n",
       "      <td>10.8941</td>\n",
       "      <td>0.02</td>\n",
       "      <td>309</td>\n",
       "      <td>1915</td>\n",
       "      <td>84.93</td>\n",
       "      <td>14.08</td>\n",
       "      <td>8.6723</td>\n",
       "      <td>146</td>\n",
       "    </tr>\n",
       "    <tr>\n",
       "      <th>3</th>\n",
       "      <td>1</td>\n",
       "      <td>4</td>\n",
       "      <td>42.0077</td>\n",
       "      <td>0.8416</td>\n",
       "      <td>100.0</td>\n",
       "      <td>445.00</td>\n",
       "      <td>549.51</td>\n",
       "      <td>1354.03</td>\n",
       "      <td>1126.38</td>\n",
       "      <td>3.91</td>\n",
       "      <td>...</td>\n",
       "      <td>2387.61</td>\n",
       "      <td>8068.66</td>\n",
       "      <td>9.3528</td>\n",
       "      <td>0.02</td>\n",
       "      <td>329</td>\n",
       "      <td>2212</td>\n",
       "      <td>100.00</td>\n",
       "      <td>10.59</td>\n",
       "      <td>6.4701</td>\n",
       "      <td>145</td>\n",
       "    </tr>\n",
       "    <tr>\n",
       "      <th>4</th>\n",
       "      <td>1</td>\n",
       "      <td>5</td>\n",
       "      <td>25.0005</td>\n",
       "      <td>0.6203</td>\n",
       "      <td>60.0</td>\n",
       "      <td>462.54</td>\n",
       "      <td>537.07</td>\n",
       "      <td>1257.71</td>\n",
       "      <td>1047.93</td>\n",
       "      <td>7.05</td>\n",
       "      <td>...</td>\n",
       "      <td>2028.00</td>\n",
       "      <td>7861.23</td>\n",
       "      <td>10.8963</td>\n",
       "      <td>0.02</td>\n",
       "      <td>309</td>\n",
       "      <td>1915</td>\n",
       "      <td>84.93</td>\n",
       "      <td>14.13</td>\n",
       "      <td>8.5286</td>\n",
       "      <td>144</td>\n",
       "    </tr>\n",
       "  </tbody>\n",
       "</table>\n",
       "<p>5 rows × 27 columns</p>\n",
       "</div>"
      ],
      "text/plain": [
       "   ID Engine  Cycle  Setting 1  Setting 2  Setting 3  Sensor 1  Sensor 2  \\\n",
       "0          1      1    34.9983     0.8400      100.0    449.44    555.32   \n",
       "1          1      2    41.9982     0.8408      100.0    445.00    549.90   \n",
       "2          1      3    24.9988     0.6218       60.0    462.54    537.31   \n",
       "3          1      4    42.0077     0.8416      100.0    445.00    549.51   \n",
       "4          1      5    25.0005     0.6203       60.0    462.54    537.07   \n",
       "\n",
       "   Sensor 3  Sensor 4  Sensor 5  ...  Sensor 13  Sensor 14  Sensor 15  \\\n",
       "0   1358.61   1137.23      5.48  ...    2387.72    8048.56     9.3461   \n",
       "1   1353.22   1125.78      3.91  ...    2387.66    8072.30     9.3774   \n",
       "2   1256.76   1047.45      7.05  ...    2028.03    7864.87    10.8941   \n",
       "3   1354.03   1126.38      3.91  ...    2387.61    8068.66     9.3528   \n",
       "4   1257.71   1047.93      7.05  ...    2028.00    7861.23    10.8963   \n",
       "\n",
       "   Sensor 16  Sensor 17  Sensor 18  Sensor 19  Sensor 20  Sensor 21  \\\n",
       "0       0.02        334       2223     100.00      14.73     8.8071   \n",
       "1       0.02        330       2212     100.00      10.41     6.2665   \n",
       "2       0.02        309       1915      84.93      14.08     8.6723   \n",
       "3       0.02        329       2212     100.00      10.59     6.4701   \n",
       "4       0.02        309       1915      84.93      14.13     8.5286   \n",
       "\n",
       "   Remaining RUL  \n",
       "0            148  \n",
       "1            147  \n",
       "2            146  \n",
       "3            145  \n",
       "4            144  \n",
       "\n",
       "[5 rows x 27 columns]"
      ]
     },
     "execution_count": 9,
     "metadata": {},
     "output_type": "execute_result"
    }
   ],
   "source": [
    "train.head()"
   ]
  },
  {
   "cell_type": "code",
   "execution_count": 10,
   "metadata": {},
   "outputs": [
    {
     "data": {
      "text/plain": [
       "(53759, 27)"
      ]
     },
     "execution_count": 10,
     "metadata": {},
     "output_type": "execute_result"
    }
   ],
   "source": [
    "train.shape\n",
    "# Có đầy đủ 27 features ban đầu"
   ]
  },
  {
   "cell_type": "markdown",
   "metadata": {},
   "source": [
    "## Load RUL"
   ]
  },
  {
   "cell_type": "code",
   "execution_count": 11,
   "metadata": {},
   "outputs": [
    {
     "data": {
      "text/html": [
       "<div>\n",
       "<style scoped>\n",
       "    .dataframe tbody tr th:only-of-type {\n",
       "        vertical-align: middle;\n",
       "    }\n",
       "\n",
       "    .dataframe tbody tr th {\n",
       "        vertical-align: top;\n",
       "    }\n",
       "\n",
       "    .dataframe thead th {\n",
       "        text-align: right;\n",
       "    }\n",
       "</style>\n",
       "<table border=\"1\" class=\"dataframe\">\n",
       "  <thead>\n",
       "    <tr style=\"text-align: right;\">\n",
       "      <th></th>\n",
       "      <th>RUL</th>\n",
       "    </tr>\n",
       "  </thead>\n",
       "  <tbody>\n",
       "    <tr>\n",
       "      <th>0</th>\n",
       "      <td>18</td>\n",
       "    </tr>\n",
       "    <tr>\n",
       "      <th>1</th>\n",
       "      <td>79</td>\n",
       "    </tr>\n",
       "    <tr>\n",
       "      <th>2</th>\n",
       "      <td>106</td>\n",
       "    </tr>\n",
       "    <tr>\n",
       "      <th>3</th>\n",
       "      <td>110</td>\n",
       "    </tr>\n",
       "    <tr>\n",
       "      <th>4</th>\n",
       "      <td>15</td>\n",
       "    </tr>\n",
       "  </tbody>\n",
       "</table>\n",
       "</div>"
      ],
      "text/plain": [
       "   RUL\n",
       "0   18\n",
       "1   79\n",
       "2  106\n",
       "3  110\n",
       "4   15"
      ]
     },
     "execution_count": 11,
     "metadata": {},
     "output_type": "execute_result"
    }
   ],
   "source": [
    "rul = pd.read_csv(rul_1, sep=' ', header=None)\n",
    "rul.drop(rul.columns[1], axis=1, inplace=True)\n",
    "rul.columns = ['RUL']\n",
    "rul.head()"
   ]
  },
  {
   "cell_type": "markdown",
   "metadata": {},
   "source": [
    "## Tính toán RUL cho test"
   ]
  },
  {
   "cell_type": "code",
   "execution_count": 12,
   "metadata": {},
   "outputs": [
    {
     "data": {
      "text/html": [
       "<div>\n",
       "<style scoped>\n",
       "    .dataframe tbody tr th:only-of-type {\n",
       "        vertical-align: middle;\n",
       "    }\n",
       "\n",
       "    .dataframe tbody tr th {\n",
       "        vertical-align: top;\n",
       "    }\n",
       "\n",
       "    .dataframe thead th {\n",
       "        text-align: right;\n",
       "    }\n",
       "</style>\n",
       "<table border=\"1\" class=\"dataframe\">\n",
       "  <thead>\n",
       "    <tr style=\"text-align: right;\">\n",
       "      <th></th>\n",
       "      <th>ID Engine</th>\n",
       "      <th>Cycle</th>\n",
       "      <th>Setting 1</th>\n",
       "      <th>Setting 2</th>\n",
       "      <th>Setting 3</th>\n",
       "      <th>Sensor 1</th>\n",
       "      <th>Sensor 2</th>\n",
       "      <th>Sensor 3</th>\n",
       "      <th>Sensor 4</th>\n",
       "      <th>Sensor 5</th>\n",
       "      <th>...</th>\n",
       "      <th>Sensor 13</th>\n",
       "      <th>Sensor 14</th>\n",
       "      <th>Sensor 15</th>\n",
       "      <th>Sensor 16</th>\n",
       "      <th>Sensor 17</th>\n",
       "      <th>Sensor 18</th>\n",
       "      <th>Sensor 19</th>\n",
       "      <th>Sensor 20</th>\n",
       "      <th>Sensor 21</th>\n",
       "      <th>Remaining RUL</th>\n",
       "    </tr>\n",
       "  </thead>\n",
       "  <tbody>\n",
       "    <tr>\n",
       "      <th>0</th>\n",
       "      <td>1</td>\n",
       "      <td>1</td>\n",
       "      <td>9.9987</td>\n",
       "      <td>0.2502</td>\n",
       "      <td>100.0</td>\n",
       "      <td>489.05</td>\n",
       "      <td>605.03</td>\n",
       "      <td>1497.17</td>\n",
       "      <td>1304.99</td>\n",
       "      <td>10.52</td>\n",
       "      <td>...</td>\n",
       "      <td>2388.18</td>\n",
       "      <td>8114.10</td>\n",
       "      <td>8.6476</td>\n",
       "      <td>0.03</td>\n",
       "      <td>369</td>\n",
       "      <td>2319</td>\n",
       "      <td>100.00</td>\n",
       "      <td>28.42</td>\n",
       "      <td>17.1551</td>\n",
       "      <td></td>\n",
       "    </tr>\n",
       "    <tr>\n",
       "      <th>1</th>\n",
       "      <td>1</td>\n",
       "      <td>2</td>\n",
       "      <td>20.0026</td>\n",
       "      <td>0.7000</td>\n",
       "      <td>100.0</td>\n",
       "      <td>491.19</td>\n",
       "      <td>607.82</td>\n",
       "      <td>1481.20</td>\n",
       "      <td>1246.11</td>\n",
       "      <td>9.35</td>\n",
       "      <td>...</td>\n",
       "      <td>2388.12</td>\n",
       "      <td>8053.06</td>\n",
       "      <td>9.2405</td>\n",
       "      <td>0.02</td>\n",
       "      <td>364</td>\n",
       "      <td>2324</td>\n",
       "      <td>100.00</td>\n",
       "      <td>24.29</td>\n",
       "      <td>14.8039</td>\n",
       "      <td></td>\n",
       "    </tr>\n",
       "    <tr>\n",
       "      <th>2</th>\n",
       "      <td>1</td>\n",
       "      <td>3</td>\n",
       "      <td>35.0045</td>\n",
       "      <td>0.8400</td>\n",
       "      <td>100.0</td>\n",
       "      <td>449.44</td>\n",
       "      <td>556.00</td>\n",
       "      <td>1359.08</td>\n",
       "      <td>1128.36</td>\n",
       "      <td>5.48</td>\n",
       "      <td>...</td>\n",
       "      <td>2387.75</td>\n",
       "      <td>8053.04</td>\n",
       "      <td>9.3472</td>\n",
       "      <td>0.02</td>\n",
       "      <td>333</td>\n",
       "      <td>2223</td>\n",
       "      <td>100.00</td>\n",
       "      <td>14.98</td>\n",
       "      <td>8.9125</td>\n",
       "      <td></td>\n",
       "    </tr>\n",
       "    <tr>\n",
       "      <th>3</th>\n",
       "      <td>1</td>\n",
       "      <td>4</td>\n",
       "      <td>42.0066</td>\n",
       "      <td>0.8410</td>\n",
       "      <td>100.0</td>\n",
       "      <td>445.00</td>\n",
       "      <td>550.17</td>\n",
       "      <td>1349.69</td>\n",
       "      <td>1127.89</td>\n",
       "      <td>3.91</td>\n",
       "      <td>...</td>\n",
       "      <td>2387.72</td>\n",
       "      <td>8066.90</td>\n",
       "      <td>9.3961</td>\n",
       "      <td>0.02</td>\n",
       "      <td>332</td>\n",
       "      <td>2212</td>\n",
       "      <td>100.00</td>\n",
       "      <td>10.35</td>\n",
       "      <td>6.4181</td>\n",
       "      <td></td>\n",
       "    </tr>\n",
       "    <tr>\n",
       "      <th>4</th>\n",
       "      <td>1</td>\n",
       "      <td>5</td>\n",
       "      <td>24.9985</td>\n",
       "      <td>0.6213</td>\n",
       "      <td>60.0</td>\n",
       "      <td>462.54</td>\n",
       "      <td>536.72</td>\n",
       "      <td>1253.18</td>\n",
       "      <td>1050.69</td>\n",
       "      <td>7.05</td>\n",
       "      <td>...</td>\n",
       "      <td>2028.05</td>\n",
       "      <td>7865.66</td>\n",
       "      <td>10.8682</td>\n",
       "      <td>0.02</td>\n",
       "      <td>305</td>\n",
       "      <td>1915</td>\n",
       "      <td>84.93</td>\n",
       "      <td>14.31</td>\n",
       "      <td>8.5740</td>\n",
       "      <td></td>\n",
       "    </tr>\n",
       "  </tbody>\n",
       "</table>\n",
       "<p>5 rows × 27 columns</p>\n",
       "</div>"
      ],
      "text/plain": [
       "   ID Engine  Cycle  Setting 1  Setting 2  Setting 3  Sensor 1  Sensor 2  \\\n",
       "0          1      1     9.9987     0.2502      100.0    489.05    605.03   \n",
       "1          1      2    20.0026     0.7000      100.0    491.19    607.82   \n",
       "2          1      3    35.0045     0.8400      100.0    449.44    556.00   \n",
       "3          1      4    42.0066     0.8410      100.0    445.00    550.17   \n",
       "4          1      5    24.9985     0.6213       60.0    462.54    536.72   \n",
       "\n",
       "   Sensor 3  Sensor 4  Sensor 5  ...  Sensor 13  Sensor 14  Sensor 15  \\\n",
       "0   1497.17   1304.99     10.52  ...    2388.18    8114.10     8.6476   \n",
       "1   1481.20   1246.11      9.35  ...    2388.12    8053.06     9.2405   \n",
       "2   1359.08   1128.36      5.48  ...    2387.75    8053.04     9.3472   \n",
       "3   1349.69   1127.89      3.91  ...    2387.72    8066.90     9.3961   \n",
       "4   1253.18   1050.69      7.05  ...    2028.05    7865.66    10.8682   \n",
       "\n",
       "   Sensor 16  Sensor 17  Sensor 18  Sensor 19  Sensor 20  Sensor 21  \\\n",
       "0       0.03        369       2319     100.00      28.42    17.1551   \n",
       "1       0.02        364       2324     100.00      24.29    14.8039   \n",
       "2       0.02        333       2223     100.00      14.98     8.9125   \n",
       "3       0.02        332       2212     100.00      10.35     6.4181   \n",
       "4       0.02        305       1915      84.93      14.31     8.5740   \n",
       "\n",
       "   Remaining RUL  \n",
       "0                 \n",
       "1                 \n",
       "2                 \n",
       "3                 \n",
       "4                 \n",
       "\n",
       "[5 rows x 27 columns]"
      ]
     },
     "execution_count": 12,
     "metadata": {},
     "output_type": "execute_result"
    }
   ],
   "source": [
    "test = pd.read_csv(test_1, sep=' ', header=None)\n",
    "test.drop([26, 27], axis=1, inplace=True)\n",
    "test.columns = column_names\n",
    "\n",
    "test['Remaining RUL'] = ''\n",
    "test.head()"
   ]
  },
  {
   "cell_type": "code",
   "execution_count": 13,
   "metadata": {},
   "outputs": [
    {
     "data": {
      "text/plain": [
       "ID Engine\n",
       "1    258\n",
       "2     55\n",
       "3    165\n",
       "4     86\n",
       "5    148\n",
       "Name: Cycle, dtype: int64"
      ]
     },
     "execution_count": 13,
     "metadata": {},
     "output_type": "execute_result"
    }
   ],
   "source": [
    "max_cycle_test = test.groupby('ID Engine').count()\n",
    "max_cycle_test['Cycle'].head()"
   ]
  },
  {
   "cell_type": "code",
   "execution_count": 14,
   "metadata": {},
   "outputs": [
    {
     "data": {
      "text/html": [
       "<div>\n",
       "<style scoped>\n",
       "    .dataframe tbody tr th:only-of-type {\n",
       "        vertical-align: middle;\n",
       "    }\n",
       "\n",
       "    .dataframe tbody tr th {\n",
       "        vertical-align: top;\n",
       "    }\n",
       "\n",
       "    .dataframe thead th {\n",
       "        text-align: right;\n",
       "    }\n",
       "</style>\n",
       "<table border=\"1\" class=\"dataframe\">\n",
       "  <thead>\n",
       "    <tr style=\"text-align: right;\">\n",
       "      <th></th>\n",
       "      <th>RUL</th>\n",
       "    </tr>\n",
       "  </thead>\n",
       "  <tbody>\n",
       "    <tr>\n",
       "      <th>0</th>\n",
       "      <td>18</td>\n",
       "    </tr>\n",
       "    <tr>\n",
       "      <th>1</th>\n",
       "      <td>79</td>\n",
       "    </tr>\n",
       "    <tr>\n",
       "      <th>2</th>\n",
       "      <td>106</td>\n",
       "    </tr>\n",
       "    <tr>\n",
       "      <th>3</th>\n",
       "      <td>110</td>\n",
       "    </tr>\n",
       "    <tr>\n",
       "      <th>4</th>\n",
       "      <td>15</td>\n",
       "    </tr>\n",
       "  </tbody>\n",
       "</table>\n",
       "</div>"
      ],
      "text/plain": [
       "   RUL\n",
       "0   18\n",
       "1   79\n",
       "2  106\n",
       "3  110\n",
       "4   15"
      ]
     },
     "execution_count": 14,
     "metadata": {},
     "output_type": "execute_result"
    }
   ],
   "source": [
    "rul.head()"
   ]
  },
  {
   "cell_type": "code",
   "execution_count": 15,
   "metadata": {},
   "outputs": [],
   "source": [
    "# Công thức tính toán RUL cho test có thể là:\n",
    "# RUL cuối cùng (trong tập testtest) + Cycles đã trải qua - cột Cycle tương ứng\n",
    "for idx in range(len(test)):\n",
    "    test.loc[idx, 'Remaining RUL'] = rul.loc[test.loc[idx, 'ID Engine'] - 1, 'RUL'] + max_cycle_test.loc[test.loc[idx, 'ID Engine'], 'Cycle']\n",
    "\n",
    "test['Remaining RUL'] = test['Remaining RUL'] - test['Cycle']"
   ]
  },
  {
   "cell_type": "code",
   "execution_count": 16,
   "metadata": {},
   "outputs": [
    {
     "data": {
      "text/html": [
       "<div>\n",
       "<style scoped>\n",
       "    .dataframe tbody tr th:only-of-type {\n",
       "        vertical-align: middle;\n",
       "    }\n",
       "\n",
       "    .dataframe tbody tr th {\n",
       "        vertical-align: top;\n",
       "    }\n",
       "\n",
       "    .dataframe thead th {\n",
       "        text-align: right;\n",
       "    }\n",
       "</style>\n",
       "<table border=\"1\" class=\"dataframe\">\n",
       "  <thead>\n",
       "    <tr style=\"text-align: right;\">\n",
       "      <th></th>\n",
       "      <th>ID Engine</th>\n",
       "      <th>Cycle</th>\n",
       "      <th>Setting 1</th>\n",
       "      <th>Setting 2</th>\n",
       "      <th>Setting 3</th>\n",
       "      <th>Sensor 1</th>\n",
       "      <th>Sensor 2</th>\n",
       "      <th>Sensor 3</th>\n",
       "      <th>Sensor 4</th>\n",
       "      <th>Sensor 5</th>\n",
       "      <th>...</th>\n",
       "      <th>Sensor 13</th>\n",
       "      <th>Sensor 14</th>\n",
       "      <th>Sensor 15</th>\n",
       "      <th>Sensor 16</th>\n",
       "      <th>Sensor 17</th>\n",
       "      <th>Sensor 18</th>\n",
       "      <th>Sensor 19</th>\n",
       "      <th>Sensor 20</th>\n",
       "      <th>Sensor 21</th>\n",
       "      <th>Remaining RUL</th>\n",
       "    </tr>\n",
       "  </thead>\n",
       "  <tbody>\n",
       "    <tr>\n",
       "      <th>0</th>\n",
       "      <td>1</td>\n",
       "      <td>1</td>\n",
       "      <td>9.9987</td>\n",
       "      <td>0.2502</td>\n",
       "      <td>100.0</td>\n",
       "      <td>489.05</td>\n",
       "      <td>605.03</td>\n",
       "      <td>1497.17</td>\n",
       "      <td>1304.99</td>\n",
       "      <td>10.52</td>\n",
       "      <td>...</td>\n",
       "      <td>2388.18</td>\n",
       "      <td>8114.10</td>\n",
       "      <td>8.6476</td>\n",
       "      <td>0.03</td>\n",
       "      <td>369</td>\n",
       "      <td>2319</td>\n",
       "      <td>100.00</td>\n",
       "      <td>28.42</td>\n",
       "      <td>17.1551</td>\n",
       "      <td>275</td>\n",
       "    </tr>\n",
       "    <tr>\n",
       "      <th>1</th>\n",
       "      <td>1</td>\n",
       "      <td>2</td>\n",
       "      <td>20.0026</td>\n",
       "      <td>0.7000</td>\n",
       "      <td>100.0</td>\n",
       "      <td>491.19</td>\n",
       "      <td>607.82</td>\n",
       "      <td>1481.20</td>\n",
       "      <td>1246.11</td>\n",
       "      <td>9.35</td>\n",
       "      <td>...</td>\n",
       "      <td>2388.12</td>\n",
       "      <td>8053.06</td>\n",
       "      <td>9.2405</td>\n",
       "      <td>0.02</td>\n",
       "      <td>364</td>\n",
       "      <td>2324</td>\n",
       "      <td>100.00</td>\n",
       "      <td>24.29</td>\n",
       "      <td>14.8039</td>\n",
       "      <td>274</td>\n",
       "    </tr>\n",
       "    <tr>\n",
       "      <th>2</th>\n",
       "      <td>1</td>\n",
       "      <td>3</td>\n",
       "      <td>35.0045</td>\n",
       "      <td>0.8400</td>\n",
       "      <td>100.0</td>\n",
       "      <td>449.44</td>\n",
       "      <td>556.00</td>\n",
       "      <td>1359.08</td>\n",
       "      <td>1128.36</td>\n",
       "      <td>5.48</td>\n",
       "      <td>...</td>\n",
       "      <td>2387.75</td>\n",
       "      <td>8053.04</td>\n",
       "      <td>9.3472</td>\n",
       "      <td>0.02</td>\n",
       "      <td>333</td>\n",
       "      <td>2223</td>\n",
       "      <td>100.00</td>\n",
       "      <td>14.98</td>\n",
       "      <td>8.9125</td>\n",
       "      <td>273</td>\n",
       "    </tr>\n",
       "    <tr>\n",
       "      <th>3</th>\n",
       "      <td>1</td>\n",
       "      <td>4</td>\n",
       "      <td>42.0066</td>\n",
       "      <td>0.8410</td>\n",
       "      <td>100.0</td>\n",
       "      <td>445.00</td>\n",
       "      <td>550.17</td>\n",
       "      <td>1349.69</td>\n",
       "      <td>1127.89</td>\n",
       "      <td>3.91</td>\n",
       "      <td>...</td>\n",
       "      <td>2387.72</td>\n",
       "      <td>8066.90</td>\n",
       "      <td>9.3961</td>\n",
       "      <td>0.02</td>\n",
       "      <td>332</td>\n",
       "      <td>2212</td>\n",
       "      <td>100.00</td>\n",
       "      <td>10.35</td>\n",
       "      <td>6.4181</td>\n",
       "      <td>272</td>\n",
       "    </tr>\n",
       "    <tr>\n",
       "      <th>4</th>\n",
       "      <td>1</td>\n",
       "      <td>5</td>\n",
       "      <td>24.9985</td>\n",
       "      <td>0.6213</td>\n",
       "      <td>60.0</td>\n",
       "      <td>462.54</td>\n",
       "      <td>536.72</td>\n",
       "      <td>1253.18</td>\n",
       "      <td>1050.69</td>\n",
       "      <td>7.05</td>\n",
       "      <td>...</td>\n",
       "      <td>2028.05</td>\n",
       "      <td>7865.66</td>\n",
       "      <td>10.8682</td>\n",
       "      <td>0.02</td>\n",
       "      <td>305</td>\n",
       "      <td>1915</td>\n",
       "      <td>84.93</td>\n",
       "      <td>14.31</td>\n",
       "      <td>8.5740</td>\n",
       "      <td>271</td>\n",
       "    </tr>\n",
       "  </tbody>\n",
       "</table>\n",
       "<p>5 rows × 27 columns</p>\n",
       "</div>"
      ],
      "text/plain": [
       "   ID Engine  Cycle  Setting 1  Setting 2  Setting 3  Sensor 1  Sensor 2  \\\n",
       "0          1      1     9.9987     0.2502      100.0    489.05    605.03   \n",
       "1          1      2    20.0026     0.7000      100.0    491.19    607.82   \n",
       "2          1      3    35.0045     0.8400      100.0    449.44    556.00   \n",
       "3          1      4    42.0066     0.8410      100.0    445.00    550.17   \n",
       "4          1      5    24.9985     0.6213       60.0    462.54    536.72   \n",
       "\n",
       "   Sensor 3  Sensor 4  Sensor 5  ...  Sensor 13  Sensor 14  Sensor 15  \\\n",
       "0   1497.17   1304.99     10.52  ...    2388.18    8114.10     8.6476   \n",
       "1   1481.20   1246.11      9.35  ...    2388.12    8053.06     9.2405   \n",
       "2   1359.08   1128.36      5.48  ...    2387.75    8053.04     9.3472   \n",
       "3   1349.69   1127.89      3.91  ...    2387.72    8066.90     9.3961   \n",
       "4   1253.18   1050.69      7.05  ...    2028.05    7865.66    10.8682   \n",
       "\n",
       "   Sensor 16  Sensor 17  Sensor 18  Sensor 19  Sensor 20  Sensor 21  \\\n",
       "0       0.03        369       2319     100.00      28.42    17.1551   \n",
       "1       0.02        364       2324     100.00      24.29    14.8039   \n",
       "2       0.02        333       2223     100.00      14.98     8.9125   \n",
       "3       0.02        332       2212     100.00      10.35     6.4181   \n",
       "4       0.02        305       1915      84.93      14.31     8.5740   \n",
       "\n",
       "   Remaining RUL  \n",
       "0            275  \n",
       "1            274  \n",
       "2            273  \n",
       "3            272  \n",
       "4            271  \n",
       "\n",
       "[5 rows x 27 columns]"
      ]
     },
     "execution_count": 16,
     "metadata": {},
     "output_type": "execute_result"
    }
   ],
   "source": [
    "test.head()"
   ]
  },
  {
   "cell_type": "code",
   "execution_count": 17,
   "metadata": {},
   "outputs": [
    {
     "data": {
      "text/plain": [
       "np.int64(21)"
      ]
     },
     "execution_count": 17,
     "metadata": {},
     "output_type": "execute_result"
    }
   ],
   "source": [
    "# Trong tập test, động cơ có số lượng vòng đời được chạy ít nhất là ID Engine = 1 với số vòng đời trong tập test là 31 dòng\n",
    "test.groupby('ID Engine').count().min()[0]"
   ]
  },
  {
   "cell_type": "markdown",
   "metadata": {},
   "source": [
    "## Standard data (train and test)"
   ]
  },
  {
   "cell_type": "code",
   "execution_count": 18,
   "metadata": {},
   "outputs": [],
   "source": [
    "# Bỏ đi các cột setting sẽ không chuẩn hóa\n",
    "scaled_columns = train.columns[5:]\n",
    "scaler = MinMaxScaler()\n",
    "train[scaled_columns] = scaler.fit_transform(train[scaled_columns])\n",
    "# test[scaled_columns] = scaler.fit_transform(test[scaled_columns])"
   ]
  },
  {
   "cell_type": "code",
   "execution_count": 19,
   "metadata": {},
   "outputs": [
    {
     "data": {
      "text/html": [
       "<div>\n",
       "<style scoped>\n",
       "    .dataframe tbody tr th:only-of-type {\n",
       "        vertical-align: middle;\n",
       "    }\n",
       "\n",
       "    .dataframe tbody tr th {\n",
       "        vertical-align: top;\n",
       "    }\n",
       "\n",
       "    .dataframe thead th {\n",
       "        text-align: right;\n",
       "    }\n",
       "</style>\n",
       "<table border=\"1\" class=\"dataframe\">\n",
       "  <thead>\n",
       "    <tr style=\"text-align: right;\">\n",
       "      <th></th>\n",
       "      <th>ID Engine</th>\n",
       "      <th>Cycle</th>\n",
       "      <th>Setting 1</th>\n",
       "      <th>Setting 2</th>\n",
       "      <th>Setting 3</th>\n",
       "      <th>Sensor 1</th>\n",
       "      <th>Sensor 2</th>\n",
       "      <th>Sensor 3</th>\n",
       "      <th>Sensor 4</th>\n",
       "      <th>Sensor 5</th>\n",
       "      <th>...</th>\n",
       "      <th>Sensor 13</th>\n",
       "      <th>Sensor 14</th>\n",
       "      <th>Sensor 15</th>\n",
       "      <th>Sensor 16</th>\n",
       "      <th>Sensor 17</th>\n",
       "      <th>Sensor 18</th>\n",
       "      <th>Sensor 19</th>\n",
       "      <th>Sensor 20</th>\n",
       "      <th>Sensor 21</th>\n",
       "      <th>Remaining RUL</th>\n",
       "    </tr>\n",
       "  </thead>\n",
       "  <tbody>\n",
       "    <tr>\n",
       "      <th>0</th>\n",
       "      <td>1</td>\n",
       "      <td>1</td>\n",
       "      <td>34.9983</td>\n",
       "      <td>0.8400</td>\n",
       "      <td>100.0</td>\n",
       "      <td>0.060269</td>\n",
       "      <td>0.181576</td>\n",
       "      <td>0.311201</td>\n",
       "      <td>0.273095</td>\n",
       "      <td>0.146592</td>\n",
       "      <td>...</td>\n",
       "      <td>0.992394</td>\n",
       "      <td>0.476508</td>\n",
       "      <td>0.369947</td>\n",
       "      <td>0.0</td>\n",
       "      <td>0.322917</td>\n",
       "      <td>0.651163</td>\n",
       "      <td>1.0</td>\n",
       "      <td>0.156036</td>\n",
       "      <td>0.159082</td>\n",
       "      <td>0.392573</td>\n",
       "    </tr>\n",
       "    <tr>\n",
       "      <th>1</th>\n",
       "      <td>1</td>\n",
       "      <td>2</td>\n",
       "      <td>41.9982</td>\n",
       "      <td>0.8408</td>\n",
       "      <td>100.0</td>\n",
       "      <td>0.000000</td>\n",
       "      <td>0.131847</td>\n",
       "      <td>0.296600</td>\n",
       "      <td>0.245535</td>\n",
       "      <td>0.000000</td>\n",
       "      <td>...</td>\n",
       "      <td>0.992229</td>\n",
       "      <td>0.533013</td>\n",
       "      <td>0.381407</td>\n",
       "      <td>0.0</td>\n",
       "      <td>0.281250</td>\n",
       "      <td>0.627907</td>\n",
       "      <td>1.0</td>\n",
       "      <td>0.007888</td>\n",
       "      <td>0.014562</td>\n",
       "      <td>0.389920</td>\n",
       "    </tr>\n",
       "    <tr>\n",
       "      <th>2</th>\n",
       "      <td>1</td>\n",
       "      <td>3</td>\n",
       "      <td>24.9988</td>\n",
       "      <td>0.6218</td>\n",
       "      <td>60.0</td>\n",
       "      <td>0.238089</td>\n",
       "      <td>0.016332</td>\n",
       "      <td>0.035297</td>\n",
       "      <td>0.056997</td>\n",
       "      <td>0.293184</td>\n",
       "      <td>...</td>\n",
       "      <td>0.001157</td>\n",
       "      <td>0.039296</td>\n",
       "      <td>0.936731</td>\n",
       "      <td>0.0</td>\n",
       "      <td>0.062500</td>\n",
       "      <td>0.000000</td>\n",
       "      <td>0.0</td>\n",
       "      <td>0.133745</td>\n",
       "      <td>0.151414</td>\n",
       "      <td>0.387268</td>\n",
       "    </tr>\n",
       "    <tr>\n",
       "      <th>3</th>\n",
       "      <td>1</td>\n",
       "      <td>4</td>\n",
       "      <td>42.0077</td>\n",
       "      <td>0.8416</td>\n",
       "      <td>100.0</td>\n",
       "      <td>0.000000</td>\n",
       "      <td>0.128269</td>\n",
       "      <td>0.298795</td>\n",
       "      <td>0.246979</td>\n",
       "      <td>0.000000</td>\n",
       "      <td>...</td>\n",
       "      <td>0.992091</td>\n",
       "      <td>0.524349</td>\n",
       "      <td>0.372400</td>\n",
       "      <td>0.0</td>\n",
       "      <td>0.270833</td>\n",
       "      <td>0.627907</td>\n",
       "      <td>1.0</td>\n",
       "      <td>0.014060</td>\n",
       "      <td>0.026144</td>\n",
       "      <td>0.384615</td>\n",
       "    </tr>\n",
       "    <tr>\n",
       "      <th>4</th>\n",
       "      <td>1</td>\n",
       "      <td>5</td>\n",
       "      <td>25.0005</td>\n",
       "      <td>0.6203</td>\n",
       "      <td>60.0</td>\n",
       "      <td>0.238089</td>\n",
       "      <td>0.014130</td>\n",
       "      <td>0.037871</td>\n",
       "      <td>0.058152</td>\n",
       "      <td>0.293184</td>\n",
       "      <td>...</td>\n",
       "      <td>0.001075</td>\n",
       "      <td>0.030633</td>\n",
       "      <td>0.937537</td>\n",
       "      <td>0.0</td>\n",
       "      <td>0.062500</td>\n",
       "      <td>0.000000</td>\n",
       "      <td>0.0</td>\n",
       "      <td>0.135460</td>\n",
       "      <td>0.143240</td>\n",
       "      <td>0.381963</td>\n",
       "    </tr>\n",
       "  </tbody>\n",
       "</table>\n",
       "<p>5 rows × 27 columns</p>\n",
       "</div>"
      ],
      "text/plain": [
       "   ID Engine  Cycle  Setting 1  Setting 2  Setting 3  Sensor 1  Sensor 2  \\\n",
       "0          1      1    34.9983     0.8400      100.0  0.060269  0.181576   \n",
       "1          1      2    41.9982     0.8408      100.0  0.000000  0.131847   \n",
       "2          1      3    24.9988     0.6218       60.0  0.238089  0.016332   \n",
       "3          1      4    42.0077     0.8416      100.0  0.000000  0.128269   \n",
       "4          1      5    25.0005     0.6203       60.0  0.238089  0.014130   \n",
       "\n",
       "   Sensor 3  Sensor 4  Sensor 5  ...  Sensor 13  Sensor 14  Sensor 15  \\\n",
       "0  0.311201  0.273095  0.146592  ...   0.992394   0.476508   0.369947   \n",
       "1  0.296600  0.245535  0.000000  ...   0.992229   0.533013   0.381407   \n",
       "2  0.035297  0.056997  0.293184  ...   0.001157   0.039296   0.936731   \n",
       "3  0.298795  0.246979  0.000000  ...   0.992091   0.524349   0.372400   \n",
       "4  0.037871  0.058152  0.293184  ...   0.001075   0.030633   0.937537   \n",
       "\n",
       "   Sensor 16  Sensor 17  Sensor 18  Sensor 19  Sensor 20  Sensor 21  \\\n",
       "0        0.0   0.322917   0.651163        1.0   0.156036   0.159082   \n",
       "1        0.0   0.281250   0.627907        1.0   0.007888   0.014562   \n",
       "2        0.0   0.062500   0.000000        0.0   0.133745   0.151414   \n",
       "3        0.0   0.270833   0.627907        1.0   0.014060   0.026144   \n",
       "4        0.0   0.062500   0.000000        0.0   0.135460   0.143240   \n",
       "\n",
       "   Remaining RUL  \n",
       "0       0.392573  \n",
       "1       0.389920  \n",
       "2       0.387268  \n",
       "3       0.384615  \n",
       "4       0.381963  \n",
       "\n",
       "[5 rows x 27 columns]"
      ]
     },
     "execution_count": 19,
     "metadata": {},
     "output_type": "execute_result"
    }
   ],
   "source": [
    "train.head()"
   ]
  },
  {
   "cell_type": "code",
   "execution_count": 20,
   "metadata": {},
   "outputs": [],
   "source": [
    "# test.head()"
   ]
  },
  {
   "cell_type": "markdown",
   "metadata": {},
   "source": [
    "## Load data"
   ]
  },
  {
   "cell_type": "code",
   "execution_count": 21,
   "metadata": {},
   "outputs": [],
   "source": [
    "sequence_length = 30\n",
    "batch_size = 64\n",
    "epochs = 50\n",
    "input_dim = 21 # Frome sensor 1 to sensor 21"
   ]
  },
  {
   "cell_type": "code",
   "execution_count": 22,
   "metadata": {},
   "outputs": [],
   "source": [
    "data_train = CMAPSSLoaderDataset(train, sequence_length=sequence_length)\n",
    "# data_test = CMAPSSLoaderDataset(test, sequence_length=sequence_length)\n",
    "\n",
    "train_data, validation_data = train_test_split(data_train, test_size=0.2, random_state=42)\n",
    "\n",
    "train_loader = DataLoader(data_train, batch_size=batch_size, shuffle=True)\n",
    "validation_loader = DataLoader(validation_data, batch_size=batch_size, shuffle=True)\n",
    "# validation_loader = DataLoader(data_test, batch_size=batch_size, shuffle=True)"
   ]
  },
  {
   "cell_type": "code",
   "execution_count": 23,
   "metadata": {},
   "outputs": [
    {
     "data": {
      "text/plain": [
       "46219"
      ]
     },
     "execution_count": 23,
     "metadata": {},
     "output_type": "execute_result"
    }
   ],
   "source": [
    "data_train.__len__()"
   ]
  },
  {
   "cell_type": "code",
   "execution_count": 24,
   "metadata": {},
   "outputs": [
    {
     "data": {
      "text/plain": [
       "36975"
      ]
     },
     "execution_count": 24,
     "metadata": {},
     "output_type": "execute_result"
    }
   ],
   "source": [
    "train_data.__len__()"
   ]
  },
  {
   "cell_type": "code",
   "execution_count": 25,
   "metadata": {},
   "outputs": [
    {
     "data": {
      "text/plain": [
       "9244"
      ]
     },
     "execution_count": 25,
     "metadata": {},
     "output_type": "execute_result"
    }
   ],
   "source": [
    "validation_data.__len__()"
   ]
  },
  {
   "cell_type": "code",
   "execution_count": 26,
   "metadata": {},
   "outputs": [
    {
     "data": {
      "text/plain": [
       "723"
      ]
     },
     "execution_count": 26,
     "metadata": {},
     "output_type": "execute_result"
    }
   ],
   "source": [
    "train_loader.__len__()"
   ]
  },
  {
   "cell_type": "code",
   "execution_count": 27,
   "metadata": {},
   "outputs": [
    {
     "data": {
      "text/plain": [
       "145"
      ]
     },
     "execution_count": 27,
     "metadata": {},
     "output_type": "execute_result"
    }
   ],
   "source": [
    "validation_loader.__len__()"
   ]
  },
  {
   "cell_type": "code",
   "execution_count": 28,
   "metadata": {},
   "outputs": [],
   "source": [
    "batch = next(iter(train_loader))\n",
    "# print(batch)\n",
    "seq, target = batch\n",
    "\n",
    "# print(f'seq={seq}, shape={seq.shape}')\n",
    "# print(f'target={target}, shape={target.shape}')"
   ]
  },
  {
   "cell_type": "markdown",
   "metadata": {},
   "source": [
    "## Training model"
   ]
  },
  {
   "cell_type": "code",
   "execution_count": 29,
   "metadata": {},
   "outputs": [],
   "source": [
    "def train(model, train_loader, validation_loader, epochs=epochs, verbose=False):\n",
    "    device = torch.device(\"cuda\" if torch.cuda.is_available() else \"cpu\")\n",
    "\n",
    "    model = model.to(device)\n",
    "\n",
    "    criterion = nn.MSELoss()\n",
    "    optimizer = torch.optim.Adam(model.parameters(), lr=1e-4)\n",
    "\n",
    "    for epoch in range(epochs):\n",
    "        # Train\n",
    "        model.train()\n",
    "        train_loss = 0\n",
    "        for batch in train_loader:\n",
    "            seq, target = batch\n",
    "            seq, target = seq.to(device), target.to(device)\n",
    "\n",
    "            optimizer.zero_grad() # Reset gradient.\n",
    "            output = model(seq) # Tính dự đoán từ mô hình.\n",
    "            loss = criterion(output, target) # Tính giá trị mất mát giữa dự đoán và nhãn thật.\n",
    "            loss.backward() # Tính gradient của mất mát.\n",
    "            optimizer.step() # Cập nhật tham số mô hình dựa trên gradient.\n",
    "            train_loss += loss.item() # Ghi nhận giá trị mất mát\n",
    "        \n",
    "        # Evaluate\n",
    "        val_loss = 0\n",
    "        model.eval()\n",
    "        with torch.no_grad():\n",
    "            for batch in validation_loader:\n",
    "                seq, target = batch\n",
    "                seq, target = seq.to(device), target.to(device)\n",
    "                output = model(seq)\n",
    "                loss = criterion(output, target)\n",
    "                val_loss += loss.item()\n",
    "        \n",
    "        print(f\"Epoch {epoch + 1}: Train Loss = {train_loss / len(train_loader)}, Val Loss = {val_loss / len(validation_loader)}\")"
   ]
  },
  {
   "cell_type": "code",
   "execution_count": 30,
   "metadata": {},
   "outputs": [
    {
     "name": "stdout",
     "output_type": "stream",
     "text": [
      "Epoch 1: Train Loss = 0.036567153759496505, Val Loss = 0.016917292998525603\n",
      "Epoch 2: Train Loss = 0.01886816245128876, Val Loss = 0.012825636469341558\n",
      "Epoch 3: Train Loss = 0.015304849251208216, Val Loss = 0.01154086846408659\n",
      "Epoch 4: Train Loss = 0.014074695125907494, Val Loss = 0.013657680417186227\n",
      "Epoch 5: Train Loss = 0.01343411398294123, Val Loss = 0.013256173407466248\n",
      "Epoch 6: Train Loss = 0.012808366991672279, Val Loss = 0.01183125141943837\n",
      "Epoch 7: Train Loss = 0.012500681464185483, Val Loss = 0.011315959431873314\n",
      "Epoch 8: Train Loss = 0.012454193627415419, Val Loss = 0.011067504509641179\n",
      "Epoch 9: Train Loss = 0.012285980079091189, Val Loss = 0.011571789940754916\n",
      "Epoch 10: Train Loss = 0.01232644975221462, Val Loss = 0.011836859824713962\n",
      "Epoch 11: Train Loss = 0.012023791035748039, Val Loss = 0.01265797509715475\n",
      "Epoch 12: Train Loss = 0.012090637016897174, Val Loss = 0.010926819962031882\n",
      "Epoch 13: Train Loss = 0.01188466465100646, Val Loss = 0.010824059807406416\n",
      "Epoch 14: Train Loss = 0.011912267090930484, Val Loss = 0.011103924045917288\n",
      "Epoch 15: Train Loss = 0.011844601084762877, Val Loss = 0.010680481290508961\n",
      "Epoch 16: Train Loss = 0.011691809139816016, Val Loss = 0.010752136112544042\n",
      "Epoch 17: Train Loss = 0.011640390068199872, Val Loss = 0.01093230463628625\n",
      "Epoch 18: Train Loss = 0.01146488054945323, Val Loss = 0.010526882246907414\n",
      "Epoch 19: Train Loss = 0.01138039931776015, Val Loss = 0.010458568740507651\n",
      "Epoch 20: Train Loss = 0.011300281823109088, Val Loss = 0.01045470730369461\n",
      "Epoch 21: Train Loss = 0.011424060593414562, Val Loss = 0.01165629166724353\n",
      "Epoch 22: Train Loss = 0.011259259860885341, Val Loss = 0.014210029010628832\n",
      "Epoch 23: Train Loss = 0.01117033189172917, Val Loss = 0.010616415700521962\n",
      "Epoch 24: Train Loss = 0.01117055032487294, Val Loss = 0.010355923835445067\n",
      "Epoch 25: Train Loss = 0.011088270516254595, Val Loss = 0.010164861808177727\n",
      "Epoch 26: Train Loss = 0.010967080823994689, Val Loss = 0.010772005426858007\n",
      "Epoch 27: Train Loss = 0.010909026985882394, Val Loss = 0.010131167636477742\n",
      "Epoch 28: Train Loss = 0.010783608780625079, Val Loss = 0.010808318731342925\n",
      "Epoch 29: Train Loss = 0.010757470895686955, Val Loss = 0.0101579618865046\n",
      "Epoch 30: Train Loss = 0.010529710037857912, Val Loss = 0.010811109355939874\n",
      "Epoch 31: Train Loss = 0.010394977700650527, Val Loss = 0.010780462963056976\n",
      "Epoch 32: Train Loss = 0.010220653747168485, Val Loss = 0.009126195237682811\n",
      "Epoch 33: Train Loss = 0.01012803827068494, Val Loss = 0.009002291793324823\n",
      "Epoch 34: Train Loss = 0.00996749148991366, Val Loss = 0.009124306091589146\n",
      "Epoch 35: Train Loss = 0.009864769182341845, Val Loss = 0.009054965872702927\n",
      "Epoch 36: Train Loss = 0.009723558868661544, Val Loss = 0.0084776662161638\n",
      "Epoch 37: Train Loss = 0.009591368129438262, Val Loss = 0.009194562507086787\n",
      "Epoch 38: Train Loss = 0.009406328679192527, Val Loss = 0.008198162688520447\n",
      "Epoch 39: Train Loss = 0.009406589966056093, Val Loss = 0.00858044533283803\n",
      "Epoch 40: Train Loss = 0.00937632780540142, Val Loss = 0.008248159562333905\n",
      "Epoch 41: Train Loss = 0.009241393600483611, Val Loss = 0.008296645464825218\n",
      "Epoch 42: Train Loss = 0.009059167956549515, Val Loss = 0.008197357595480721\n",
      "Epoch 43: Train Loss = 0.00910742506983833, Val Loss = 0.009735025882977864\n",
      "Epoch 44: Train Loss = 0.00901075270327058, Val Loss = 0.008551938366144896\n",
      "Epoch 45: Train Loss = 0.008936911407873591, Val Loss = 0.007831171922514151\n",
      "Epoch 46: Train Loss = 0.008723681152413083, Val Loss = 0.008119803565907581\n",
      "Epoch 47: Train Loss = 0.008726019252872258, Val Loss = 0.007828157481833778\n",
      "Epoch 48: Train Loss = 0.00864087509598073, Val Loss = 0.011998621464289467\n",
      "Epoch 49: Train Loss = 0.008653661795862194, Val Loss = 0.007879666942332325\n",
      "Epoch 50: Train Loss = 0.008604205958996056, Val Loss = 0.007565502334257652\n"
     ]
    }
   ],
   "source": [
    "model = TransformerModel(input_dim=input_dim, d_model=64, nhead=4, num_layers=2, dim_feedforward=256, dropout=0.1)\n",
    "train(model=model, train_loader=train_loader, validation_loader=validation_loader, epochs=epochs)"
   ]
  },
  {
   "cell_type": "markdown",
   "metadata": {},
   "source": [
    "## Evaluate model"
   ]
  },
  {
   "cell_type": "code",
   "execution_count": null,
   "metadata": {},
   "outputs": [],
   "source": []
  },
  {
   "cell_type": "markdown",
   "metadata": {},
   "source": [
    "## Predict on a batch"
   ]
  },
  {
   "cell_type": "code",
   "execution_count": 31,
   "metadata": {},
   "outputs": [
    {
     "data": {
      "text/plain": [
       "145"
      ]
     },
     "execution_count": 31,
     "metadata": {},
     "output_type": "execute_result"
    }
   ],
   "source": [
    "len(validation_loader)"
   ]
  },
  {
   "cell_type": "code",
   "execution_count": 32,
   "metadata": {},
   "outputs": [
    {
     "name": "stdout",
     "output_type": "stream",
     "text": [
      "actual_predictions: [135.4327817   70.72499278 160.80164281 164.53638229 168.2810427\n",
      " 115.51221615  67.75672059   2.77926622  28.27898129  57.87938933\n",
      " 110.55700067  34.50163426 176.70599774   7.87544198  97.78507385\n",
      "  27.65349956  67.68729097  87.66642705 147.03878075  18.62209287\n",
      "   9.49695985  39.95340158 126.69241315  76.16331686  48.24576116\n",
      "  15.10318407  47.60882205  91.2254774  136.65165102  15.14769059\n",
      "  13.71939762 188.39867848  44.54908185  31.66416828  20.59709004\n",
      " 131.14281872 120.49564391 148.83460298  32.04380095  49.84589511\n",
      " 193.4898994   77.39518002 101.43182832 118.45733765 160.17048997\n",
      "  96.03936183 175.94625488 135.68540013   1.70907594  19.28619936\n",
      "  20.27662338  24.62898257  53.09928997   4.07620525 156.06495732\n",
      "   6.72774096  97.25984907 124.38029835   6.41629077 172.45797679\n",
      "  19.0214101  151.99495125 136.40125722  77.57554872]\n",
      "actual_targets: [135.00000241  80.99999808 120.00000215 255.99999559 102.99999735\n",
      "  90.99999826 101.00000405   7.99999986  31.99999945  68.99999899\n",
      " 102.99999735  50.00000089 146.99999589   7.99999986 116.99999535\n",
      "  26.99999936  72.00000016 101.99999508 152.99999824  30.00000054\n",
      "  22.00000067  36.99999954 181.00000548  60.00000107  61.99999999\n",
      "  23.00000013  41.99999963  75.99999799  97.99999726  25.00000045\n",
      "  25.00000045 194.99999225  37.99999899  25.9999999   46.99999972\n",
      " 129.00000006  97.99999726 141.00000477  36.00000008  48.00000198\n",
      " 156.00000504  75.99999799  95.0000017   55.00000098 237.99999976\n",
      "  83.00000261 123.99999997 111.00000423   1.99999997  42.99999908\n",
      "  27.99999882  25.9999999   73.00000243  12.0000005   97.99999726\n",
      "   6.00000025  92.00000052  90.99999826  12.99999995 219.00000167\n",
      "  24.00000099 132.99999788  82.00000034 140.0000025 ]\n"
     ]
    },
    {
     "data": {
      "image/png": "[encoded data removed]",
      "text/plain": [
       "<Figure size 1000x600 with 1 Axes>"
      ]
     },
     "metadata": {},
     "output_type": "display_data"
    }
   ],
   "source": [
    "samples, targets = next(iter(validation_loader))\n",
    "device = torch.device(\"cuda\" if torch.cuda.is_available() else \"cpu\")\n",
    "samples, targets = samples.to(device), targets.to(device)\n",
    "\n",
    "model.eval()\n",
    "with torch.no_grad():\n",
    "    predictions = model(samples)\n",
    "\n",
    "# Đưa kết quả về CPU để xử lý\n",
    "samples = samples.cpu()\n",
    "targets = targets.cpu()\n",
    "predictions = predictions.cpu()\n",
    "\n",
    "# Đảo chuẩn hóa dữ liệu\n",
    "rul_min = scaler.data_min_[-1]\n",
    "rul_max = scaler.data_max_[-1]\n",
    "\n",
    "# Đưa predictions và targets về dạng thực tế\n",
    "actual_predictions = predictions.numpy() * (rul_max - rul_min) + rul_min\n",
    "actual_targets = targets.numpy() * (rul_max - rul_min) + rul_min\n",
    "\n",
    "print(f'actual_predictions: {actual_predictions}')\n",
    "print(f'actual_targets: {actual_targets}')\n",
    "\n",
    "# Vẽ biểu đồ so sánh dự đoán và giá trị thực tế\n",
    "plt.figure(figsize=(10, 6))\n",
    "plt.plot(range(len(actual_predictions)), actual_predictions, label=\"Predicted RUL\", marker='o', linestyle='-')\n",
    "plt.plot(range(len(actual_targets)), actual_targets, label=\"Actual RUL\", marker='x', linestyle='--')\n",
    "plt.title(\"Comparison of Predicted and Actual RUL\")\n",
    "plt.xlabel(\"Sample Index\")\n",
    "plt.ylabel(\"Remaining Useful Life (RUL)\")\n",
    "plt.legend()\n",
    "plt.grid(True)\n",
    "plt.show()"
   ]
  },
  {
   "cell_type": "markdown",
   "metadata": {},
   "source": [
    "## Predict on a sample"
   ]
  },
  {
   "cell_type": "code",
   "execution_count": 33,
   "metadata": {},
   "outputs": [
    {
     "data": {
      "text/plain": [
       "torch.Size([64, 30, 21])"
      ]
     },
     "execution_count": 33,
     "metadata": {},
     "output_type": "execute_result"
    }
   ],
   "source": [
    "samples.shape"
   ]
  },
  {
   "cell_type": "code",
   "execution_count": 34,
   "metadata": {},
   "outputs": [
    {
     "data": {
      "text/plain": [
       "tensor([0.3581, 0.2149, 0.3183, 0.6790, 0.2732, 0.2414, 0.2679, 0.0212, 0.0849,\n",
       "        0.1830, 0.2732, 0.1326, 0.3899, 0.0212, 0.3103, 0.0716, 0.1910, 0.2706,\n",
       "        0.4058, 0.0796, 0.0584, 0.0981, 0.4801, 0.1592, 0.1645, 0.0610, 0.1114,\n",
       "        0.2016, 0.2599, 0.0663, 0.0663, 0.5172, 0.1008, 0.0690, 0.1247, 0.3422,\n",
       "        0.2599, 0.3740, 0.0955, 0.1273, 0.4138, 0.2016, 0.2520, 0.1459, 0.6313,\n",
       "        0.2202, 0.3289, 0.2944, 0.0053, 0.1141, 0.0743, 0.0690, 0.1936, 0.0318,\n",
       "        0.2599, 0.0159, 0.2440, 0.2414, 0.0345, 0.5809, 0.0637, 0.3528, 0.2175,\n",
       "        0.3714])"
      ]
     },
     "execution_count": 34,
     "metadata": {},
     "output_type": "execute_result"
    }
   ],
   "source": [
    "targets"
   ]
  },
  {
   "cell_type": "code",
   "execution_count": 35,
   "metadata": {},
   "outputs": [
    {
     "data": {
      "text/plain": [
       "torch.Size([64])"
      ]
     },
     "execution_count": 35,
     "metadata": {},
     "output_type": "execute_result"
    }
   ],
   "source": [
    "targets.shape"
   ]
  },
  {
   "cell_type": "code",
   "execution_count": 36,
   "metadata": {},
   "outputs": [
    {
     "name": "stdout",
     "output_type": "stream",
     "text": [
      "torch.Size([1, 30, 21])\n",
      "tensor([0.3581])\n"
     ]
    }
   ],
   "source": [
    "idx = 0\n",
    "sample = samples[idx].unsqueeze(0)\n",
    "target = targets[idx].unsqueeze(0)\n",
    "\n",
    "print(sample.shape)\n",
    "print(target)"
   ]
  },
  {
   "cell_type": "code",
   "execution_count": 37,
   "metadata": {},
   "outputs": [
    {
     "name": "stdout",
     "output_type": "stream",
     "text": [
      "Prediction: tensor([0.3592])\n",
      "Target: tensor([0.3581])\n",
      "Giá trị RUL thực tế 140.00000250339508\n",
      "Giá trị RUL dự đoán 82.27576438104734\n"
     ]
    }
   ],
   "source": [
    "model.eval()\n",
    "with torch.no_grad():\n",
    "    prediction = model(sample)\n",
    "\n",
    "sample = sample.cpu()\n",
    "target = target.cpu()\n",
    "prediction = prediction.cpu()\n",
    "\n",
    "print(f'Prediction: {prediction}')\n",
    "print(f'Target: {target}')\n",
    "\n",
    "rul_min = scaler.data_min_[-1]\n",
    "rul_max = scaler.data_max_[-1]\n",
    "\n",
    "prediction = predictions.numpy() * (rul_max - rul_min) + rul_min\n",
    "actual_prediction = sum(prediction)/len(prediction)\n",
    "actual_target = targets.numpy() * (rul_max - rul_min) + rul_min\n",
    "\n",
    "# print(f'Giá trị RUL thực tế {actual_target}')\n",
    "print(f'Giá trị RUL thực tế {actual_target[-1]}')\n",
    "print(f'Giá trị RUL dự đoán {actual_prediction}')"
   ]
  },
  {
   "cell_type": "code",
   "execution_count": 38,
   "metadata": {},
   "outputs": [
    {
     "data": {
      "text/plain": [
       "array([135.4327817 ,  70.72499278, 160.80164281, 164.53638229,\n",
       "       168.2810427 , 115.51221615,  67.75672059,   2.77926622,\n",
       "        28.27898129,  57.87938933, 110.55700067,  34.50163426,\n",
       "       176.70599774,   7.87544198,  97.78507385,  27.65349956,\n",
       "        67.68729097,  87.66642705, 147.03878075,  18.62209287,\n",
       "         9.49695985,  39.95340158, 126.69241315,  76.16331686,\n",
       "        48.24576116,  15.10318407,  47.60882205,  91.2254774 ,\n",
       "       136.65165102,  15.14769059,  13.71939762, 188.39867848,\n",
       "        44.54908185,  31.66416828,  20.59709004, 131.14281872,\n",
       "       120.49564391, 148.83460298,  32.04380095,  49.84589511,\n",
       "       193.4898994 ,  77.39518002, 101.43182832, 118.45733765,\n",
       "       160.17048997,  96.03936183, 175.94625488, 135.68540013,\n",
       "         1.70907594,  19.28619936,  20.27662338,  24.62898257,\n",
       "        53.09928997,   4.07620525, 156.06495732,   6.72774096,\n",
       "        97.25984907, 124.38029835,   6.41629077, 172.45797679,\n",
       "        19.0214101 , 151.99495125, 136.40125722,  77.57554872])"
      ]
     },
     "execution_count": 38,
     "metadata": {},
     "output_type": "execute_result"
    }
   ],
   "source": [
    "prediction"
   ]
  },
  {
   "cell_type": "code",
   "execution_count": 39,
   "metadata": {},
   "outputs": [
    {
     "data": {
      "text/plain": [
       "tensor([0.3581])"
      ]
     },
     "execution_count": 39,
     "metadata": {},
     "output_type": "execute_result"
    }
   ],
   "source": [
    "target"
   ]
  }
 ],
 "metadata": {
  "kernelspec": {
   "display_name": ".venv",
   "language": "python",
   "name": "python3"
  },
  "language_info": {
   "codemirror_mode": {
    "name": "ipython",
    "version": 3
   },
   "file_extension": ".py",
   "mimetype": "text/x-python",
   "name": "python",
   "nbconvert_exporter": "python",
   "pygments_lexer": "ipython3",
   "version": "3.12.7"
  }
 },
 "nbformat": 4,
 "nbformat_minor": 2
}
