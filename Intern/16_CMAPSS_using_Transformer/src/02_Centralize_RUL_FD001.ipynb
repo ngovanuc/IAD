{
 "cells": [
  {
   "cell_type": "markdown",
   "metadata": {},
   "source": [
    "Không sử dụng tập test, dùng tập train để train và test"
   ]
  },
  {
   "cell_type": "markdown",
   "metadata": {},
   "source": [
    "## Import the libraries"
   ]
  },
  {
   "cell_type": "code",
   "execution_count": 1,
   "metadata": {},
   "outputs": [],
   "source": [
    "import numpy as np\n",
    "import pandas as pd\n",
    "\n",
    "import torch\n",
    "import torch.nn as nn\n",
    "from torch.utils.data import DataLoader, Dataset\n",
    "from torch.utils.data import random_split\n",
    "from sklearn.preprocessing import MinMaxScaler\n",
    "from sklearn.model_selection import train_test_split    \n",
    "\n",
    "import warnings\n",
    "warnings.filterwarnings('ignore')\n",
    "\n",
    "import matplotlib.pyplot as plt\n",
    "import seaborn as sns"
   ]
  },
  {
   "cell_type": "markdown",
   "metadata": {},
   "source": [
    "## Dataloader"
   ]
  },
  {
   "cell_type": "code",
   "execution_count": 3,
   "metadata": {},
   "outputs": [],
   "source": [
    "class CMAPSSLoaderDataset(Dataset):\n",
    "    def __init__(self, data, sequence_length):\n",
    "        self.data = data\n",
    "        self.sequence_length = sequence_length\n",
    "        self.sequences = []\n",
    "        self.targets = []\n",
    "        \n",
    "        grouped = data.groupby('ID Engine') \n",
    "        for _, group in grouped:        \n",
    "            values = group.drop(['ID Engine', 'Cycle', 'Setting 1', 'Setting 2', 'Setting 3','Remaining RUL'], axis=1).values\n",
    "            rul_values = group['Remaining RUL'].values\n",
    "            \n",
    "            for i in range(len(values) - sequence_length + 1):\n",
    "                self.sequences.append(values[i:i + sequence_length]) \n",
    "                self.targets.append(rul_values[i + sequence_length - 1])\n",
    "    \n",
    "    def __len__(self):\n",
    "        \n",
    "        return len(self.sequences)\n",
    "    \n",
    "    def __getitem__(self, idx):\n",
    "        return (\n",
    "            torch.tensor(self.sequences[idx], dtype=torch.float32),\n",
    "            torch.tensor(self.targets[idx], dtype=torch.float32),\n",
    "        )"
   ]
  },
  {
   "cell_type": "markdown",
   "metadata": {},
   "source": [
    "## Transformer"
   ]
  },
  {
   "cell_type": "code",
   "execution_count": 7,
   "metadata": {},
   "outputs": [],
   "source": [
    "class TransformerModel(nn.Module):\n",
    "    def __init__(self, input_dim, d_model, nhead, num_layers, dim_feedforward, dropout):\n",
    "        super(TransformerModel, self).__init__()\n",
    "        self.input_embedding = nn.Linear(input_dim, d_model)\n",
    "        self.positional_encoding = nn.Parameter(torch.zeros(1, 5000, d_model))\n",
    "        self.transformer = nn.Transformer(\n",
    "            d_model=d_model,\n",
    "            nhead=nhead,\n",
    "            num_encoder_layers=num_layers,\n",
    "            num_decoder_layers=num_layers,\n",
    "            dim_feedforward=dim_feedforward,\n",
    "            dropout=dropout,\n",
    "        )\n",
    "        self.fc_out = nn.Linear(d_model, 1)\n",
    "\n",
    "    def forward(self, src):\n",
    "        src_emb = self.input_embedding(src) + self.positional_encoding[:, :src.size(1), :]\n",
    "        src_emb = src_emb.permute(1, 0, 2)\n",
    "        transformer_out = self.transformer(src_emb, src_emb)\n",
    "        output = self.fc_out(transformer_out[-1, :, :])\n",
    "        return output.squeeze(-1)"
   ]
  },
  {
   "cell_type": "markdown",
   "metadata": {},
   "source": [
    "## File paths"
   ]
  },
  {
   "cell_type": "code",
   "execution_count": 8,
   "metadata": {},
   "outputs": [],
   "source": [
    "train_1 = \"../data/train_FD001.txt\"\n",
    "test_1 = \"../data/test_FD001.txt\"\n",
    "rul_1 = \"../data/RUL_FD001.txt\""
   ]
  },
  {
   "cell_type": "markdown",
   "metadata": {},
   "source": [
    "## Tính toán RUL cho train"
   ]
  },
  {
   "cell_type": "code",
   "execution_count": 10,
   "metadata": {},
   "outputs": [
    {
     "data": {
      "text/html": [
       "<div>\n",
       "<style scoped>\n",
       "    .dataframe tbody tr th:only-of-type {\n",
       "        vertical-align: middle;\n",
       "    }\n",
       "\n",
       "    .dataframe tbody tr th {\n",
       "        vertical-align: top;\n",
       "    }\n",
       "\n",
       "    .dataframe thead th {\n",
       "        text-align: right;\n",
       "    }\n",
       "</style>\n",
       "<table border=\"1\" class=\"dataframe\">\n",
       "  <thead>\n",
       "    <tr style=\"text-align: right;\">\n",
       "      <th></th>\n",
       "      <th>ID Engine</th>\n",
       "      <th>Cycle</th>\n",
       "      <th>Setting 1</th>\n",
       "      <th>Setting 2</th>\n",
       "      <th>Setting 3</th>\n",
       "      <th>Sensor 1</th>\n",
       "      <th>Sensor 2</th>\n",
       "      <th>Sensor 3</th>\n",
       "      <th>Sensor 4</th>\n",
       "      <th>Sensor 5</th>\n",
       "      <th>...</th>\n",
       "      <th>Sensor 13</th>\n",
       "      <th>Sensor 14</th>\n",
       "      <th>Sensor 15</th>\n",
       "      <th>Sensor 16</th>\n",
       "      <th>Sensor 17</th>\n",
       "      <th>Sensor 18</th>\n",
       "      <th>Sensor 19</th>\n",
       "      <th>Sensor 20</th>\n",
       "      <th>Sensor 21</th>\n",
       "      <th>Remaining RUL</th>\n",
       "    </tr>\n",
       "  </thead>\n",
       "  <tbody>\n",
       "    <tr>\n",
       "      <th>0</th>\n",
       "      <td>1</td>\n",
       "      <td>1</td>\n",
       "      <td>-0.0007</td>\n",
       "      <td>-0.0004</td>\n",
       "      <td>100.0</td>\n",
       "      <td>518.67</td>\n",
       "      <td>641.82</td>\n",
       "      <td>1589.70</td>\n",
       "      <td>1400.60</td>\n",
       "      <td>14.62</td>\n",
       "      <td>...</td>\n",
       "      <td>2388.02</td>\n",
       "      <td>8138.62</td>\n",
       "      <td>8.4195</td>\n",
       "      <td>0.03</td>\n",
       "      <td>392</td>\n",
       "      <td>2388</td>\n",
       "      <td>100.0</td>\n",
       "      <td>39.06</td>\n",
       "      <td>23.4190</td>\n",
       "      <td></td>\n",
       "    </tr>\n",
       "    <tr>\n",
       "      <th>1</th>\n",
       "      <td>1</td>\n",
       "      <td>2</td>\n",
       "      <td>0.0019</td>\n",
       "      <td>-0.0003</td>\n",
       "      <td>100.0</td>\n",
       "      <td>518.67</td>\n",
       "      <td>642.15</td>\n",
       "      <td>1591.82</td>\n",
       "      <td>1403.14</td>\n",
       "      <td>14.62</td>\n",
       "      <td>...</td>\n",
       "      <td>2388.07</td>\n",
       "      <td>8131.49</td>\n",
       "      <td>8.4318</td>\n",
       "      <td>0.03</td>\n",
       "      <td>392</td>\n",
       "      <td>2388</td>\n",
       "      <td>100.0</td>\n",
       "      <td>39.00</td>\n",
       "      <td>23.4236</td>\n",
       "      <td></td>\n",
       "    </tr>\n",
       "    <tr>\n",
       "      <th>2</th>\n",
       "      <td>1</td>\n",
       "      <td>3</td>\n",
       "      <td>-0.0043</td>\n",
       "      <td>0.0003</td>\n",
       "      <td>100.0</td>\n",
       "      <td>518.67</td>\n",
       "      <td>642.35</td>\n",
       "      <td>1587.99</td>\n",
       "      <td>1404.20</td>\n",
       "      <td>14.62</td>\n",
       "      <td>...</td>\n",
       "      <td>2388.03</td>\n",
       "      <td>8133.23</td>\n",
       "      <td>8.4178</td>\n",
       "      <td>0.03</td>\n",
       "      <td>390</td>\n",
       "      <td>2388</td>\n",
       "      <td>100.0</td>\n",
       "      <td>38.95</td>\n",
       "      <td>23.3442</td>\n",
       "      <td></td>\n",
       "    </tr>\n",
       "    <tr>\n",
       "      <th>3</th>\n",
       "      <td>1</td>\n",
       "      <td>4</td>\n",
       "      <td>0.0007</td>\n",
       "      <td>0.0000</td>\n",
       "      <td>100.0</td>\n",
       "      <td>518.67</td>\n",
       "      <td>642.35</td>\n",
       "      <td>1582.79</td>\n",
       "      <td>1401.87</td>\n",
       "      <td>14.62</td>\n",
       "      <td>...</td>\n",
       "      <td>2388.08</td>\n",
       "      <td>8133.83</td>\n",
       "      <td>8.3682</td>\n",
       "      <td>0.03</td>\n",
       "      <td>392</td>\n",
       "      <td>2388</td>\n",
       "      <td>100.0</td>\n",
       "      <td>38.88</td>\n",
       "      <td>23.3739</td>\n",
       "      <td></td>\n",
       "    </tr>\n",
       "    <tr>\n",
       "      <th>4</th>\n",
       "      <td>1</td>\n",
       "      <td>5</td>\n",
       "      <td>-0.0019</td>\n",
       "      <td>-0.0002</td>\n",
       "      <td>100.0</td>\n",
       "      <td>518.67</td>\n",
       "      <td>642.37</td>\n",
       "      <td>1582.85</td>\n",
       "      <td>1406.22</td>\n",
       "      <td>14.62</td>\n",
       "      <td>...</td>\n",
       "      <td>2388.04</td>\n",
       "      <td>8133.80</td>\n",
       "      <td>8.4294</td>\n",
       "      <td>0.03</td>\n",
       "      <td>393</td>\n",
       "      <td>2388</td>\n",
       "      <td>100.0</td>\n",
       "      <td>38.90</td>\n",
       "      <td>23.4044</td>\n",
       "      <td></td>\n",
       "    </tr>\n",
       "  </tbody>\n",
       "</table>\n",
       "<p>5 rows × 27 columns</p>\n",
       "</div>"
      ],
      "text/plain": [
       "   ID Engine  Cycle  Setting 1  Setting 2  Setting 3  Sensor 1  Sensor 2  \\\n",
       "0          1      1    -0.0007    -0.0004      100.0    518.67    641.82   \n",
       "1          1      2     0.0019    -0.0003      100.0    518.67    642.15   \n",
       "2          1      3    -0.0043     0.0003      100.0    518.67    642.35   \n",
       "3          1      4     0.0007     0.0000      100.0    518.67    642.35   \n",
       "4          1      5    -0.0019    -0.0002      100.0    518.67    642.37   \n",
       "\n",
       "   Sensor 3  Sensor 4  Sensor 5  ...  Sensor 13  Sensor 14  Sensor 15  \\\n",
       "0   1589.70   1400.60     14.62  ...    2388.02    8138.62     8.4195   \n",
       "1   1591.82   1403.14     14.62  ...    2388.07    8131.49     8.4318   \n",
       "2   1587.99   1404.20     14.62  ...    2388.03    8133.23     8.4178   \n",
       "3   1582.79   1401.87     14.62  ...    2388.08    8133.83     8.3682   \n",
       "4   1582.85   1406.22     14.62  ...    2388.04    8133.80     8.4294   \n",
       "\n",
       "   Sensor 16  Sensor 17  Sensor 18  Sensor 19  Sensor 20  Sensor 21  \\\n",
       "0       0.03        392       2388      100.0      39.06    23.4190   \n",
       "1       0.03        392       2388      100.0      39.00    23.4236   \n",
       "2       0.03        390       2388      100.0      38.95    23.3442   \n",
       "3       0.03        392       2388      100.0      38.88    23.3739   \n",
       "4       0.03        393       2388      100.0      38.90    23.4044   \n",
       "\n",
       "   Remaining RUL  \n",
       "0                 \n",
       "1                 \n",
       "2                 \n",
       "3                 \n",
       "4                 \n",
       "\n",
       "[5 rows x 27 columns]"
      ]
     },
     "execution_count": 10,
     "metadata": {},
     "output_type": "execute_result"
    }
   ],
   "source": [
    "index_names = ['ID Engine', 'Cycle']\n",
    "setting_names = ['Setting 1', 'Setting 2', 'Setting 3']\n",
    "sensor_names = ['Sensor {}'.format(i) for i in range(1, 22)]\n",
    "column_names = index_names + setting_names + sensor_names\n",
    "\n",
    "train = pd.read_csv(train_1, sep=' ', header=None)\n",
    "train.drop([26, 27], axis=1, inplace=True)\n",
    "train.columns = column_names\n",
    "\n",
    "train['Remaining RUL'] = ''\n",
    "train.head()"
   ]
  },
  {
   "cell_type": "code",
   "execution_count": 11,
   "metadata": {},
   "outputs": [],
   "source": [
    "max_cycle = train.groupby('ID Engine').count()\n",
    "\n",
    "for idx in range(len(train)):\n",
    "    train.loc[idx, 'Remaining RUL'] = max_cycle.loc[train.loc[idx, 'ID Engine'], 'Cycle']\n",
    "\n",
    "train['Remaining RUL'] = train['Remaining RUL'] - train['Cycle']"
   ]
  },
  {
   "cell_type": "code",
   "execution_count": 12,
   "metadata": {},
   "outputs": [
    {
     "data": {
      "text/html": [
       "<div>\n",
       "<style scoped>\n",
       "    .dataframe tbody tr th:only-of-type {\n",
       "        vertical-align: middle;\n",
       "    }\n",
       "\n",
       "    .dataframe tbody tr th {\n",
       "        vertical-align: top;\n",
       "    }\n",
       "\n",
       "    .dataframe thead th {\n",
       "        text-align: right;\n",
       "    }\n",
       "</style>\n",
       "<table border=\"1\" class=\"dataframe\">\n",
       "  <thead>\n",
       "    <tr style=\"text-align: right;\">\n",
       "      <th></th>\n",
       "      <th>ID Engine</th>\n",
       "      <th>Cycle</th>\n",
       "      <th>Setting 1</th>\n",
       "      <th>Setting 2</th>\n",
       "      <th>Setting 3</th>\n",
       "      <th>Sensor 1</th>\n",
       "      <th>Sensor 2</th>\n",
       "      <th>Sensor 3</th>\n",
       "      <th>Sensor 4</th>\n",
       "      <th>Sensor 5</th>\n",
       "      <th>...</th>\n",
       "      <th>Sensor 13</th>\n",
       "      <th>Sensor 14</th>\n",
       "      <th>Sensor 15</th>\n",
       "      <th>Sensor 16</th>\n",
       "      <th>Sensor 17</th>\n",
       "      <th>Sensor 18</th>\n",
       "      <th>Sensor 19</th>\n",
       "      <th>Sensor 20</th>\n",
       "      <th>Sensor 21</th>\n",
       "      <th>Remaining RUL</th>\n",
       "    </tr>\n",
       "  </thead>\n",
       "  <tbody>\n",
       "    <tr>\n",
       "      <th>0</th>\n",
       "      <td>1</td>\n",
       "      <td>1</td>\n",
       "      <td>-0.0007</td>\n",
       "      <td>-0.0004</td>\n",
       "      <td>100.0</td>\n",
       "      <td>518.67</td>\n",
       "      <td>641.82</td>\n",
       "      <td>1589.70</td>\n",
       "      <td>1400.60</td>\n",
       "      <td>14.62</td>\n",
       "      <td>...</td>\n",
       "      <td>2388.02</td>\n",
       "      <td>8138.62</td>\n",
       "      <td>8.4195</td>\n",
       "      <td>0.03</td>\n",
       "      <td>392</td>\n",
       "      <td>2388</td>\n",
       "      <td>100.0</td>\n",
       "      <td>39.06</td>\n",
       "      <td>23.4190</td>\n",
       "      <td>191</td>\n",
       "    </tr>\n",
       "    <tr>\n",
       "      <th>1</th>\n",
       "      <td>1</td>\n",
       "      <td>2</td>\n",
       "      <td>0.0019</td>\n",
       "      <td>-0.0003</td>\n",
       "      <td>100.0</td>\n",
       "      <td>518.67</td>\n",
       "      <td>642.15</td>\n",
       "      <td>1591.82</td>\n",
       "      <td>1403.14</td>\n",
       "      <td>14.62</td>\n",
       "      <td>...</td>\n",
       "      <td>2388.07</td>\n",
       "      <td>8131.49</td>\n",
       "      <td>8.4318</td>\n",
       "      <td>0.03</td>\n",
       "      <td>392</td>\n",
       "      <td>2388</td>\n",
       "      <td>100.0</td>\n",
       "      <td>39.00</td>\n",
       "      <td>23.4236</td>\n",
       "      <td>190</td>\n",
       "    </tr>\n",
       "    <tr>\n",
       "      <th>2</th>\n",
       "      <td>1</td>\n",
       "      <td>3</td>\n",
       "      <td>-0.0043</td>\n",
       "      <td>0.0003</td>\n",
       "      <td>100.0</td>\n",
       "      <td>518.67</td>\n",
       "      <td>642.35</td>\n",
       "      <td>1587.99</td>\n",
       "      <td>1404.20</td>\n",
       "      <td>14.62</td>\n",
       "      <td>...</td>\n",
       "      <td>2388.03</td>\n",
       "      <td>8133.23</td>\n",
       "      <td>8.4178</td>\n",
       "      <td>0.03</td>\n",
       "      <td>390</td>\n",
       "      <td>2388</td>\n",
       "      <td>100.0</td>\n",
       "      <td>38.95</td>\n",
       "      <td>23.3442</td>\n",
       "      <td>189</td>\n",
       "    </tr>\n",
       "    <tr>\n",
       "      <th>3</th>\n",
       "      <td>1</td>\n",
       "      <td>4</td>\n",
       "      <td>0.0007</td>\n",
       "      <td>0.0000</td>\n",
       "      <td>100.0</td>\n",
       "      <td>518.67</td>\n",
       "      <td>642.35</td>\n",
       "      <td>1582.79</td>\n",
       "      <td>1401.87</td>\n",
       "      <td>14.62</td>\n",
       "      <td>...</td>\n",
       "      <td>2388.08</td>\n",
       "      <td>8133.83</td>\n",
       "      <td>8.3682</td>\n",
       "      <td>0.03</td>\n",
       "      <td>392</td>\n",
       "      <td>2388</td>\n",
       "      <td>100.0</td>\n",
       "      <td>38.88</td>\n",
       "      <td>23.3739</td>\n",
       "      <td>188</td>\n",
       "    </tr>\n",
       "    <tr>\n",
       "      <th>4</th>\n",
       "      <td>1</td>\n",
       "      <td>5</td>\n",
       "      <td>-0.0019</td>\n",
       "      <td>-0.0002</td>\n",
       "      <td>100.0</td>\n",
       "      <td>518.67</td>\n",
       "      <td>642.37</td>\n",
       "      <td>1582.85</td>\n",
       "      <td>1406.22</td>\n",
       "      <td>14.62</td>\n",
       "      <td>...</td>\n",
       "      <td>2388.04</td>\n",
       "      <td>8133.80</td>\n",
       "      <td>8.4294</td>\n",
       "      <td>0.03</td>\n",
       "      <td>393</td>\n",
       "      <td>2388</td>\n",
       "      <td>100.0</td>\n",
       "      <td>38.90</td>\n",
       "      <td>23.4044</td>\n",
       "      <td>187</td>\n",
       "    </tr>\n",
       "  </tbody>\n",
       "</table>\n",
       "<p>5 rows × 27 columns</p>\n",
       "</div>"
      ],
      "text/plain": [
       "   ID Engine  Cycle  Setting 1  Setting 2  Setting 3  Sensor 1  Sensor 2  \\\n",
       "0          1      1    -0.0007    -0.0004      100.0    518.67    641.82   \n",
       "1          1      2     0.0019    -0.0003      100.0    518.67    642.15   \n",
       "2          1      3    -0.0043     0.0003      100.0    518.67    642.35   \n",
       "3          1      4     0.0007     0.0000      100.0    518.67    642.35   \n",
       "4          1      5    -0.0019    -0.0002      100.0    518.67    642.37   \n",
       "\n",
       "   Sensor 3  Sensor 4  Sensor 5  ...  Sensor 13  Sensor 14  Sensor 15  \\\n",
       "0   1589.70   1400.60     14.62  ...    2388.02    8138.62     8.4195   \n",
       "1   1591.82   1403.14     14.62  ...    2388.07    8131.49     8.4318   \n",
       "2   1587.99   1404.20     14.62  ...    2388.03    8133.23     8.4178   \n",
       "3   1582.79   1401.87     14.62  ...    2388.08    8133.83     8.3682   \n",
       "4   1582.85   1406.22     14.62  ...    2388.04    8133.80     8.4294   \n",
       "\n",
       "   Sensor 16  Sensor 17  Sensor 18  Sensor 19  Sensor 20  Sensor 21  \\\n",
       "0       0.03        392       2388      100.0      39.06    23.4190   \n",
       "1       0.03        392       2388      100.0      39.00    23.4236   \n",
       "2       0.03        390       2388      100.0      38.95    23.3442   \n",
       "3       0.03        392       2388      100.0      38.88    23.3739   \n",
       "4       0.03        393       2388      100.0      38.90    23.4044   \n",
       "\n",
       "   Remaining RUL  \n",
       "0            191  \n",
       "1            190  \n",
       "2            189  \n",
       "3            188  \n",
       "4            187  \n",
       "\n",
       "[5 rows x 27 columns]"
      ]
     },
     "execution_count": 12,
     "metadata": {},
     "output_type": "execute_result"
    }
   ],
   "source": [
    "train.head()"
   ]
  },
  {
   "cell_type": "code",
   "execution_count": 13,
   "metadata": {},
   "outputs": [
    {
     "data": {
      "text/plain": [
       "(20631, 27)"
      ]
     },
     "execution_count": 13,
     "metadata": {},
     "output_type": "execute_result"
    }
   ],
   "source": [
    "train.shape\n",
    "# Có đầy đủ 27 features ban đầu"
   ]
  },
  {
   "cell_type": "markdown",
   "metadata": {},
   "source": [
    "## Load RUL"
   ]
  },
  {
   "cell_type": "code",
   "execution_count": 9,
   "metadata": {},
   "outputs": [
    {
     "data": {
      "text/html": [
       "<div>\n",
       "<style scoped>\n",
       "    .dataframe tbody tr th:only-of-type {\n",
       "        vertical-align: middle;\n",
       "    }\n",
       "\n",
       "    .dataframe tbody tr th {\n",
       "        vertical-align: top;\n",
       "    }\n",
       "\n",
       "    .dataframe thead th {\n",
       "        text-align: right;\n",
       "    }\n",
       "</style>\n",
       "<table border=\"1\" class=\"dataframe\">\n",
       "  <thead>\n",
       "    <tr style=\"text-align: right;\">\n",
       "      <th></th>\n",
       "      <th>RUL</th>\n",
       "    </tr>\n",
       "  </thead>\n",
       "  <tbody>\n",
       "    <tr>\n",
       "      <th>0</th>\n",
       "      <td>112</td>\n",
       "    </tr>\n",
       "    <tr>\n",
       "      <th>1</th>\n",
       "      <td>98</td>\n",
       "    </tr>\n",
       "    <tr>\n",
       "      <th>2</th>\n",
       "      <td>69</td>\n",
       "    </tr>\n",
       "    <tr>\n",
       "      <th>3</th>\n",
       "      <td>82</td>\n",
       "    </tr>\n",
       "    <tr>\n",
       "      <th>4</th>\n",
       "      <td>91</td>\n",
       "    </tr>\n",
       "  </tbody>\n",
       "</table>\n",
       "</div>"
      ],
      "text/plain": [
       "   RUL\n",
       "0  112\n",
       "1   98\n",
       "2   69\n",
       "3   82\n",
       "4   91"
      ]
     },
     "execution_count": 9,
     "metadata": {},
     "output_type": "execute_result"
    }
   ],
   "source": [
    "rul = pd.read_csv(rul_1, sep=' ', header=None)\n",
    "rul.drop(rul.columns[1], axis=1, inplace=True)\n",
    "rul.columns = ['RUL']\n",
    "rul.head()"
   ]
  },
  {
   "cell_type": "markdown",
   "metadata": {},
   "source": [
    "## Tính toán RUL cho test"
   ]
  },
  {
   "cell_type": "code",
   "execution_count": 10,
   "metadata": {},
   "outputs": [
    {
     "data": {
      "text/html": [
       "<div>\n",
       "<style scoped>\n",
       "    .dataframe tbody tr th:only-of-type {\n",
       "        vertical-align: middle;\n",
       "    }\n",
       "\n",
       "    .dataframe tbody tr th {\n",
       "        vertical-align: top;\n",
       "    }\n",
       "\n",
       "    .dataframe thead th {\n",
       "        text-align: right;\n",
       "    }\n",
       "</style>\n",
       "<table border=\"1\" class=\"dataframe\">\n",
       "  <thead>\n",
       "    <tr style=\"text-align: right;\">\n",
       "      <th></th>\n",
       "      <th>ID Engine</th>\n",
       "      <th>Cycle</th>\n",
       "      <th>Setting 1</th>\n",
       "      <th>Setting 2</th>\n",
       "      <th>Setting 3</th>\n",
       "      <th>Sensor 1</th>\n",
       "      <th>Sensor 2</th>\n",
       "      <th>Sensor 3</th>\n",
       "      <th>Sensor 4</th>\n",
       "      <th>Sensor 5</th>\n",
       "      <th>...</th>\n",
       "      <th>Sensor 13</th>\n",
       "      <th>Sensor 14</th>\n",
       "      <th>Sensor 15</th>\n",
       "      <th>Sensor 16</th>\n",
       "      <th>Sensor 17</th>\n",
       "      <th>Sensor 18</th>\n",
       "      <th>Sensor 19</th>\n",
       "      <th>Sensor 20</th>\n",
       "      <th>Sensor 21</th>\n",
       "      <th>Remaining RUL</th>\n",
       "    </tr>\n",
       "  </thead>\n",
       "  <tbody>\n",
       "    <tr>\n",
       "      <th>0</th>\n",
       "      <td>1</td>\n",
       "      <td>1</td>\n",
       "      <td>0.0023</td>\n",
       "      <td>0.0003</td>\n",
       "      <td>100.0</td>\n",
       "      <td>518.67</td>\n",
       "      <td>643.02</td>\n",
       "      <td>1585.29</td>\n",
       "      <td>1398.21</td>\n",
       "      <td>14.62</td>\n",
       "      <td>...</td>\n",
       "      <td>2388.03</td>\n",
       "      <td>8125.55</td>\n",
       "      <td>8.4052</td>\n",
       "      <td>0.03</td>\n",
       "      <td>392</td>\n",
       "      <td>2388</td>\n",
       "      <td>100.0</td>\n",
       "      <td>38.86</td>\n",
       "      <td>23.3735</td>\n",
       "      <td></td>\n",
       "    </tr>\n",
       "    <tr>\n",
       "      <th>1</th>\n",
       "      <td>1</td>\n",
       "      <td>2</td>\n",
       "      <td>-0.0027</td>\n",
       "      <td>-0.0003</td>\n",
       "      <td>100.0</td>\n",
       "      <td>518.67</td>\n",
       "      <td>641.71</td>\n",
       "      <td>1588.45</td>\n",
       "      <td>1395.42</td>\n",
       "      <td>14.62</td>\n",
       "      <td>...</td>\n",
       "      <td>2388.06</td>\n",
       "      <td>8139.62</td>\n",
       "      <td>8.3803</td>\n",
       "      <td>0.03</td>\n",
       "      <td>393</td>\n",
       "      <td>2388</td>\n",
       "      <td>100.0</td>\n",
       "      <td>39.02</td>\n",
       "      <td>23.3916</td>\n",
       "      <td></td>\n",
       "    </tr>\n",
       "    <tr>\n",
       "      <th>2</th>\n",
       "      <td>1</td>\n",
       "      <td>3</td>\n",
       "      <td>0.0003</td>\n",
       "      <td>0.0001</td>\n",
       "      <td>100.0</td>\n",
       "      <td>518.67</td>\n",
       "      <td>642.46</td>\n",
       "      <td>1586.94</td>\n",
       "      <td>1401.34</td>\n",
       "      <td>14.62</td>\n",
       "      <td>...</td>\n",
       "      <td>2388.03</td>\n",
       "      <td>8130.10</td>\n",
       "      <td>8.4441</td>\n",
       "      <td>0.03</td>\n",
       "      <td>393</td>\n",
       "      <td>2388</td>\n",
       "      <td>100.0</td>\n",
       "      <td>39.08</td>\n",
       "      <td>23.4166</td>\n",
       "      <td></td>\n",
       "    </tr>\n",
       "    <tr>\n",
       "      <th>3</th>\n",
       "      <td>1</td>\n",
       "      <td>4</td>\n",
       "      <td>0.0042</td>\n",
       "      <td>0.0000</td>\n",
       "      <td>100.0</td>\n",
       "      <td>518.67</td>\n",
       "      <td>642.44</td>\n",
       "      <td>1584.12</td>\n",
       "      <td>1406.42</td>\n",
       "      <td>14.62</td>\n",
       "      <td>...</td>\n",
       "      <td>2388.05</td>\n",
       "      <td>8132.90</td>\n",
       "      <td>8.3917</td>\n",
       "      <td>0.03</td>\n",
       "      <td>391</td>\n",
       "      <td>2388</td>\n",
       "      <td>100.0</td>\n",
       "      <td>39.00</td>\n",
       "      <td>23.3737</td>\n",
       "      <td></td>\n",
       "    </tr>\n",
       "    <tr>\n",
       "      <th>4</th>\n",
       "      <td>1</td>\n",
       "      <td>5</td>\n",
       "      <td>0.0014</td>\n",
       "      <td>0.0000</td>\n",
       "      <td>100.0</td>\n",
       "      <td>518.67</td>\n",
       "      <td>642.51</td>\n",
       "      <td>1587.19</td>\n",
       "      <td>1401.92</td>\n",
       "      <td>14.62</td>\n",
       "      <td>...</td>\n",
       "      <td>2388.03</td>\n",
       "      <td>8129.54</td>\n",
       "      <td>8.4031</td>\n",
       "      <td>0.03</td>\n",
       "      <td>390</td>\n",
       "      <td>2388</td>\n",
       "      <td>100.0</td>\n",
       "      <td>38.99</td>\n",
       "      <td>23.4130</td>\n",
       "      <td></td>\n",
       "    </tr>\n",
       "  </tbody>\n",
       "</table>\n",
       "<p>5 rows × 27 columns</p>\n",
       "</div>"
      ],
      "text/plain": [
       "   ID Engine  Cycle  Setting 1  Setting 2  Setting 3  Sensor 1  Sensor 2  \\\n",
       "0          1      1     0.0023     0.0003      100.0    518.67    643.02   \n",
       "1          1      2    -0.0027    -0.0003      100.0    518.67    641.71   \n",
       "2          1      3     0.0003     0.0001      100.0    518.67    642.46   \n",
       "3          1      4     0.0042     0.0000      100.0    518.67    642.44   \n",
       "4          1      5     0.0014     0.0000      100.0    518.67    642.51   \n",
       "\n",
       "   Sensor 3  Sensor 4  Sensor 5  ...  Sensor 13  Sensor 14  Sensor 15  \\\n",
       "0   1585.29   1398.21     14.62  ...    2388.03    8125.55     8.4052   \n",
       "1   1588.45   1395.42     14.62  ...    2388.06    8139.62     8.3803   \n",
       "2   1586.94   1401.34     14.62  ...    2388.03    8130.10     8.4441   \n",
       "3   1584.12   1406.42     14.62  ...    2388.05    8132.90     8.3917   \n",
       "4   1587.19   1401.92     14.62  ...    2388.03    8129.54     8.4031   \n",
       "\n",
       "   Sensor 16  Sensor 17  Sensor 18  Sensor 19  Sensor 20  Sensor 21  \\\n",
       "0       0.03        392       2388      100.0      38.86    23.3735   \n",
       "1       0.03        393       2388      100.0      39.02    23.3916   \n",
       "2       0.03        393       2388      100.0      39.08    23.4166   \n",
       "3       0.03        391       2388      100.0      39.00    23.3737   \n",
       "4       0.03        390       2388      100.0      38.99    23.4130   \n",
       "\n",
       "   Remaining RUL  \n",
       "0                 \n",
       "1                 \n",
       "2                 \n",
       "3                 \n",
       "4                 \n",
       "\n",
       "[5 rows x 27 columns]"
      ]
     },
     "execution_count": 10,
     "metadata": {},
     "output_type": "execute_result"
    }
   ],
   "source": [
    "test = pd.read_csv(test_1, sep=' ', header=None)\n",
    "test.drop([26, 27], axis=1, inplace=True)\n",
    "test.columns = column_names\n",
    "\n",
    "test['Remaining RUL'] = ''\n",
    "test.head()"
   ]
  },
  {
   "cell_type": "code",
   "execution_count": 11,
   "metadata": {},
   "outputs": [
    {
     "data": {
      "text/plain": [
       "ID Engine\n",
       "1     31\n",
       "2     49\n",
       "3    126\n",
       "4    106\n",
       "5     98\n",
       "Name: Cycle, dtype: int64"
      ]
     },
     "execution_count": 11,
     "metadata": {},
     "output_type": "execute_result"
    }
   ],
   "source": [
    "max_cycle_test = test.groupby('ID Engine').count()\n",
    "max_cycle_test['Cycle'].head()"
   ]
  },
  {
   "cell_type": "code",
   "execution_count": 12,
   "metadata": {},
   "outputs": [
    {
     "data": {
      "text/html": [
       "<div>\n",
       "<style scoped>\n",
       "    .dataframe tbody tr th:only-of-type {\n",
       "        vertical-align: middle;\n",
       "    }\n",
       "\n",
       "    .dataframe tbody tr th {\n",
       "        vertical-align: top;\n",
       "    }\n",
       "\n",
       "    .dataframe thead th {\n",
       "        text-align: right;\n",
       "    }\n",
       "</style>\n",
       "<table border=\"1\" class=\"dataframe\">\n",
       "  <thead>\n",
       "    <tr style=\"text-align: right;\">\n",
       "      <th></th>\n",
       "      <th>RUL</th>\n",
       "    </tr>\n",
       "  </thead>\n",
       "  <tbody>\n",
       "    <tr>\n",
       "      <th>0</th>\n",
       "      <td>112</td>\n",
       "    </tr>\n",
       "    <tr>\n",
       "      <th>1</th>\n",
       "      <td>98</td>\n",
       "    </tr>\n",
       "    <tr>\n",
       "      <th>2</th>\n",
       "      <td>69</td>\n",
       "    </tr>\n",
       "    <tr>\n",
       "      <th>3</th>\n",
       "      <td>82</td>\n",
       "    </tr>\n",
       "    <tr>\n",
       "      <th>4</th>\n",
       "      <td>91</td>\n",
       "    </tr>\n",
       "  </tbody>\n",
       "</table>\n",
       "</div>"
      ],
      "text/plain": [
       "   RUL\n",
       "0  112\n",
       "1   98\n",
       "2   69\n",
       "3   82\n",
       "4   91"
      ]
     },
     "execution_count": 12,
     "metadata": {},
     "output_type": "execute_result"
    }
   ],
   "source": [
    "rul.head()"
   ]
  },
  {
   "cell_type": "code",
   "execution_count": 13,
   "metadata": {},
   "outputs": [],
   "source": [
    "# Công thức tính toán RUL cho test có thể là:\n",
    "# RUL cuối cùng (trong tập testtest) + Cycles đã trải qua - cột Cycle tương ứng\n",
    "for idx in range(len(test)):\n",
    "    test.loc[idx, 'Remaining RUL'] = rul.loc[test.loc[idx, 'ID Engine'] - 1, 'RUL'] + max_cycle_test.loc[test.loc[idx, 'ID Engine'], 'Cycle']\n",
    "\n",
    "test['Remaining RUL'] = test['Remaining RUL'] - test['Cycle']"
   ]
  },
  {
   "cell_type": "code",
   "execution_count": 14,
   "metadata": {},
   "outputs": [
    {
     "data": {
      "text/html": [
       "<div>\n",
       "<style scoped>\n",
       "    .dataframe tbody tr th:only-of-type {\n",
       "        vertical-align: middle;\n",
       "    }\n",
       "\n",
       "    .dataframe tbody tr th {\n",
       "        vertical-align: top;\n",
       "    }\n",
       "\n",
       "    .dataframe thead th {\n",
       "        text-align: right;\n",
       "    }\n",
       "</style>\n",
       "<table border=\"1\" class=\"dataframe\">\n",
       "  <thead>\n",
       "    <tr style=\"text-align: right;\">\n",
       "      <th></th>\n",
       "      <th>ID Engine</th>\n",
       "      <th>Cycle</th>\n",
       "      <th>Setting 1</th>\n",
       "      <th>Setting 2</th>\n",
       "      <th>Setting 3</th>\n",
       "      <th>Sensor 1</th>\n",
       "      <th>Sensor 2</th>\n",
       "      <th>Sensor 3</th>\n",
       "      <th>Sensor 4</th>\n",
       "      <th>Sensor 5</th>\n",
       "      <th>...</th>\n",
       "      <th>Sensor 13</th>\n",
       "      <th>Sensor 14</th>\n",
       "      <th>Sensor 15</th>\n",
       "      <th>Sensor 16</th>\n",
       "      <th>Sensor 17</th>\n",
       "      <th>Sensor 18</th>\n",
       "      <th>Sensor 19</th>\n",
       "      <th>Sensor 20</th>\n",
       "      <th>Sensor 21</th>\n",
       "      <th>Remaining RUL</th>\n",
       "    </tr>\n",
       "  </thead>\n",
       "  <tbody>\n",
       "    <tr>\n",
       "      <th>0</th>\n",
       "      <td>1</td>\n",
       "      <td>1</td>\n",
       "      <td>0.0023</td>\n",
       "      <td>0.0003</td>\n",
       "      <td>100.0</td>\n",
       "      <td>518.67</td>\n",
       "      <td>643.02</td>\n",
       "      <td>1585.29</td>\n",
       "      <td>1398.21</td>\n",
       "      <td>14.62</td>\n",
       "      <td>...</td>\n",
       "      <td>2388.03</td>\n",
       "      <td>8125.55</td>\n",
       "      <td>8.4052</td>\n",
       "      <td>0.03</td>\n",
       "      <td>392</td>\n",
       "      <td>2388</td>\n",
       "      <td>100.0</td>\n",
       "      <td>38.86</td>\n",
       "      <td>23.3735</td>\n",
       "      <td>142</td>\n",
       "    </tr>\n",
       "    <tr>\n",
       "      <th>1</th>\n",
       "      <td>1</td>\n",
       "      <td>2</td>\n",
       "      <td>-0.0027</td>\n",
       "      <td>-0.0003</td>\n",
       "      <td>100.0</td>\n",
       "      <td>518.67</td>\n",
       "      <td>641.71</td>\n",
       "      <td>1588.45</td>\n",
       "      <td>1395.42</td>\n",
       "      <td>14.62</td>\n",
       "      <td>...</td>\n",
       "      <td>2388.06</td>\n",
       "      <td>8139.62</td>\n",
       "      <td>8.3803</td>\n",
       "      <td>0.03</td>\n",
       "      <td>393</td>\n",
       "      <td>2388</td>\n",
       "      <td>100.0</td>\n",
       "      <td>39.02</td>\n",
       "      <td>23.3916</td>\n",
       "      <td>141</td>\n",
       "    </tr>\n",
       "    <tr>\n",
       "      <th>2</th>\n",
       "      <td>1</td>\n",
       "      <td>3</td>\n",
       "      <td>0.0003</td>\n",
       "      <td>0.0001</td>\n",
       "      <td>100.0</td>\n",
       "      <td>518.67</td>\n",
       "      <td>642.46</td>\n",
       "      <td>1586.94</td>\n",
       "      <td>1401.34</td>\n",
       "      <td>14.62</td>\n",
       "      <td>...</td>\n",
       "      <td>2388.03</td>\n",
       "      <td>8130.10</td>\n",
       "      <td>8.4441</td>\n",
       "      <td>0.03</td>\n",
       "      <td>393</td>\n",
       "      <td>2388</td>\n",
       "      <td>100.0</td>\n",
       "      <td>39.08</td>\n",
       "      <td>23.4166</td>\n",
       "      <td>140</td>\n",
       "    </tr>\n",
       "    <tr>\n",
       "      <th>3</th>\n",
       "      <td>1</td>\n",
       "      <td>4</td>\n",
       "      <td>0.0042</td>\n",
       "      <td>0.0000</td>\n",
       "      <td>100.0</td>\n",
       "      <td>518.67</td>\n",
       "      <td>642.44</td>\n",
       "      <td>1584.12</td>\n",
       "      <td>1406.42</td>\n",
       "      <td>14.62</td>\n",
       "      <td>...</td>\n",
       "      <td>2388.05</td>\n",
       "      <td>8132.90</td>\n",
       "      <td>8.3917</td>\n",
       "      <td>0.03</td>\n",
       "      <td>391</td>\n",
       "      <td>2388</td>\n",
       "      <td>100.0</td>\n",
       "      <td>39.00</td>\n",
       "      <td>23.3737</td>\n",
       "      <td>139</td>\n",
       "    </tr>\n",
       "    <tr>\n",
       "      <th>4</th>\n",
       "      <td>1</td>\n",
       "      <td>5</td>\n",
       "      <td>0.0014</td>\n",
       "      <td>0.0000</td>\n",
       "      <td>100.0</td>\n",
       "      <td>518.67</td>\n",
       "      <td>642.51</td>\n",
       "      <td>1587.19</td>\n",
       "      <td>1401.92</td>\n",
       "      <td>14.62</td>\n",
       "      <td>...</td>\n",
       "      <td>2388.03</td>\n",
       "      <td>8129.54</td>\n",
       "      <td>8.4031</td>\n",
       "      <td>0.03</td>\n",
       "      <td>390</td>\n",
       "      <td>2388</td>\n",
       "      <td>100.0</td>\n",
       "      <td>38.99</td>\n",
       "      <td>23.4130</td>\n",
       "      <td>138</td>\n",
       "    </tr>\n",
       "  </tbody>\n",
       "</table>\n",
       "<p>5 rows × 27 columns</p>\n",
       "</div>"
      ],
      "text/plain": [
       "   ID Engine  Cycle  Setting 1  Setting 2  Setting 3  Sensor 1  Sensor 2  \\\n",
       "0          1      1     0.0023     0.0003      100.0    518.67    643.02   \n",
       "1          1      2    -0.0027    -0.0003      100.0    518.67    641.71   \n",
       "2          1      3     0.0003     0.0001      100.0    518.67    642.46   \n",
       "3          1      4     0.0042     0.0000      100.0    518.67    642.44   \n",
       "4          1      5     0.0014     0.0000      100.0    518.67    642.51   \n",
       "\n",
       "   Sensor 3  Sensor 4  Sensor 5  ...  Sensor 13  Sensor 14  Sensor 15  \\\n",
       "0   1585.29   1398.21     14.62  ...    2388.03    8125.55     8.4052   \n",
       "1   1588.45   1395.42     14.62  ...    2388.06    8139.62     8.3803   \n",
       "2   1586.94   1401.34     14.62  ...    2388.03    8130.10     8.4441   \n",
       "3   1584.12   1406.42     14.62  ...    2388.05    8132.90     8.3917   \n",
       "4   1587.19   1401.92     14.62  ...    2388.03    8129.54     8.4031   \n",
       "\n",
       "   Sensor 16  Sensor 17  Sensor 18  Sensor 19  Sensor 20  Sensor 21  \\\n",
       "0       0.03        392       2388      100.0      38.86    23.3735   \n",
       "1       0.03        393       2388      100.0      39.02    23.3916   \n",
       "2       0.03        393       2388      100.0      39.08    23.4166   \n",
       "3       0.03        391       2388      100.0      39.00    23.3737   \n",
       "4       0.03        390       2388      100.0      38.99    23.4130   \n",
       "\n",
       "   Remaining RUL  \n",
       "0            142  \n",
       "1            141  \n",
       "2            140  \n",
       "3            139  \n",
       "4            138  \n",
       "\n",
       "[5 rows x 27 columns]"
      ]
     },
     "execution_count": 14,
     "metadata": {},
     "output_type": "execute_result"
    }
   ],
   "source": [
    "test.head()"
   ]
  },
  {
   "cell_type": "code",
   "execution_count": 26,
   "metadata": {},
   "outputs": [
    {
     "data": {
      "text/plain": [
       "np.int64(31)"
      ]
     },
     "execution_count": 26,
     "metadata": {},
     "output_type": "execute_result"
    }
   ],
   "source": [
    "# Trong tập test, động cơ có số lượng vòng đời được chạy ít nhất là ID Engine = 1 với số vòng đời trong tập test là 31 dòng\n",
    "test.groupby('ID Engine').count().min()[0]"
   ]
  },
  {
   "cell_type": "markdown",
   "metadata": {},
   "source": [
    "## Standard data (train and test)"
   ]
  },
  {
   "cell_type": "code",
   "execution_count": 14,
   "metadata": {},
   "outputs": [],
   "source": [
    "# Bỏ đi các cột setting sẽ không chuẩn hóa\n",
    "scaled_columns = train.columns[5:]\n",
    "scaler = MinMaxScaler()\n",
    "train[scaled_columns] = scaler.fit_transform(train[scaled_columns])\n",
    "# test[scaled_columns] = scaler.fit_transform(test[scaled_columns])"
   ]
  },
  {
   "cell_type": "code",
   "execution_count": 15,
   "metadata": {},
   "outputs": [
    {
     "data": {
      "text/html": [
       "<div>\n",
       "<style scoped>\n",
       "    .dataframe tbody tr th:only-of-type {\n",
       "        vertical-align: middle;\n",
       "    }\n",
       "\n",
       "    .dataframe tbody tr th {\n",
       "        vertical-align: top;\n",
       "    }\n",
       "\n",
       "    .dataframe thead th {\n",
       "        text-align: right;\n",
       "    }\n",
       "</style>\n",
       "<table border=\"1\" class=\"dataframe\">\n",
       "  <thead>\n",
       "    <tr style=\"text-align: right;\">\n",
       "      <th></th>\n",
       "      <th>ID Engine</th>\n",
       "      <th>Cycle</th>\n",
       "      <th>Setting 1</th>\n",
       "      <th>Setting 2</th>\n",
       "      <th>Setting 3</th>\n",
       "      <th>Sensor 1</th>\n",
       "      <th>Sensor 2</th>\n",
       "      <th>Sensor 3</th>\n",
       "      <th>Sensor 4</th>\n",
       "      <th>Sensor 5</th>\n",
       "      <th>...</th>\n",
       "      <th>Sensor 13</th>\n",
       "      <th>Sensor 14</th>\n",
       "      <th>Sensor 15</th>\n",
       "      <th>Sensor 16</th>\n",
       "      <th>Sensor 17</th>\n",
       "      <th>Sensor 18</th>\n",
       "      <th>Sensor 19</th>\n",
       "      <th>Sensor 20</th>\n",
       "      <th>Sensor 21</th>\n",
       "      <th>Remaining RUL</th>\n",
       "    </tr>\n",
       "  </thead>\n",
       "  <tbody>\n",
       "    <tr>\n",
       "      <th>0</th>\n",
       "      <td>1</td>\n",
       "      <td>1</td>\n",
       "      <td>-0.0007</td>\n",
       "      <td>-0.0004</td>\n",
       "      <td>100.0</td>\n",
       "      <td>0.0</td>\n",
       "      <td>0.183735</td>\n",
       "      <td>0.406802</td>\n",
       "      <td>0.309757</td>\n",
       "      <td>0.0</td>\n",
       "      <td>...</td>\n",
       "      <td>0.205882</td>\n",
       "      <td>0.199608</td>\n",
       "      <td>0.363986</td>\n",
       "      <td>0.0</td>\n",
       "      <td>0.333333</td>\n",
       "      <td>0.0</td>\n",
       "      <td>0.0</td>\n",
       "      <td>0.713178</td>\n",
       "      <td>0.724662</td>\n",
       "      <td>0.529086</td>\n",
       "    </tr>\n",
       "    <tr>\n",
       "      <th>1</th>\n",
       "      <td>1</td>\n",
       "      <td>2</td>\n",
       "      <td>0.0019</td>\n",
       "      <td>-0.0003</td>\n",
       "      <td>100.0</td>\n",
       "      <td>0.0</td>\n",
       "      <td>0.283133</td>\n",
       "      <td>0.453019</td>\n",
       "      <td>0.352633</td>\n",
       "      <td>0.0</td>\n",
       "      <td>...</td>\n",
       "      <td>0.279412</td>\n",
       "      <td>0.162813</td>\n",
       "      <td>0.411312</td>\n",
       "      <td>0.0</td>\n",
       "      <td>0.333333</td>\n",
       "      <td>0.0</td>\n",
       "      <td>0.0</td>\n",
       "      <td>0.666667</td>\n",
       "      <td>0.731014</td>\n",
       "      <td>0.526316</td>\n",
       "    </tr>\n",
       "    <tr>\n",
       "      <th>2</th>\n",
       "      <td>1</td>\n",
       "      <td>3</td>\n",
       "      <td>-0.0043</td>\n",
       "      <td>0.0003</td>\n",
       "      <td>100.0</td>\n",
       "      <td>0.0</td>\n",
       "      <td>0.343373</td>\n",
       "      <td>0.369523</td>\n",
       "      <td>0.370527</td>\n",
       "      <td>0.0</td>\n",
       "      <td>...</td>\n",
       "      <td>0.220588</td>\n",
       "      <td>0.171793</td>\n",
       "      <td>0.357445</td>\n",
       "      <td>0.0</td>\n",
       "      <td>0.166667</td>\n",
       "      <td>0.0</td>\n",
       "      <td>0.0</td>\n",
       "      <td>0.627907</td>\n",
       "      <td>0.621375</td>\n",
       "      <td>0.523546</td>\n",
       "    </tr>\n",
       "    <tr>\n",
       "      <th>3</th>\n",
       "      <td>1</td>\n",
       "      <td>4</td>\n",
       "      <td>0.0007</td>\n",
       "      <td>0.0000</td>\n",
       "      <td>100.0</td>\n",
       "      <td>0.0</td>\n",
       "      <td>0.343373</td>\n",
       "      <td>0.256159</td>\n",
       "      <td>0.331195</td>\n",
       "      <td>0.0</td>\n",
       "      <td>...</td>\n",
       "      <td>0.294118</td>\n",
       "      <td>0.174889</td>\n",
       "      <td>0.166603</td>\n",
       "      <td>0.0</td>\n",
       "      <td>0.333333</td>\n",
       "      <td>0.0</td>\n",
       "      <td>0.0</td>\n",
       "      <td>0.573643</td>\n",
       "      <td>0.662386</td>\n",
       "      <td>0.520776</td>\n",
       "    </tr>\n",
       "    <tr>\n",
       "      <th>4</th>\n",
       "      <td>1</td>\n",
       "      <td>5</td>\n",
       "      <td>-0.0019</td>\n",
       "      <td>-0.0002</td>\n",
       "      <td>100.0</td>\n",
       "      <td>0.0</td>\n",
       "      <td>0.349398</td>\n",
       "      <td>0.257467</td>\n",
       "      <td>0.404625</td>\n",
       "      <td>0.0</td>\n",
       "      <td>...</td>\n",
       "      <td>0.235294</td>\n",
       "      <td>0.174734</td>\n",
       "      <td>0.402078</td>\n",
       "      <td>0.0</td>\n",
       "      <td>0.416667</td>\n",
       "      <td>0.0</td>\n",
       "      <td>0.0</td>\n",
       "      <td>0.589147</td>\n",
       "      <td>0.704502</td>\n",
       "      <td>0.518006</td>\n",
       "    </tr>\n",
       "  </tbody>\n",
       "</table>\n",
       "<p>5 rows × 27 columns</p>\n",
       "</div>"
      ],
      "text/plain": [
       "   ID Engine  Cycle  Setting 1  Setting 2  Setting 3  Sensor 1  Sensor 2  \\\n",
       "0          1      1    -0.0007    -0.0004      100.0       0.0  0.183735   \n",
       "1          1      2     0.0019    -0.0003      100.0       0.0  0.283133   \n",
       "2          1      3    -0.0043     0.0003      100.0       0.0  0.343373   \n",
       "3          1      4     0.0007     0.0000      100.0       0.0  0.343373   \n",
       "4          1      5    -0.0019    -0.0002      100.0       0.0  0.349398   \n",
       "\n",
       "   Sensor 3  Sensor 4  Sensor 5  ...  Sensor 13  Sensor 14  Sensor 15  \\\n",
       "0  0.406802  0.309757       0.0  ...   0.205882   0.199608   0.363986   \n",
       "1  0.453019  0.352633       0.0  ...   0.279412   0.162813   0.411312   \n",
       "2  0.369523  0.370527       0.0  ...   0.220588   0.171793   0.357445   \n",
       "3  0.256159  0.331195       0.0  ...   0.294118   0.174889   0.166603   \n",
       "4  0.257467  0.404625       0.0  ...   0.235294   0.174734   0.402078   \n",
       "\n",
       "   Sensor 16  Sensor 17  Sensor 18  Sensor 19  Sensor 20  Sensor 21  \\\n",
       "0        0.0   0.333333        0.0        0.0   0.713178   0.724662   \n",
       "1        0.0   0.333333        0.0        0.0   0.666667   0.731014   \n",
       "2        0.0   0.166667        0.0        0.0   0.627907   0.621375   \n",
       "3        0.0   0.333333        0.0        0.0   0.573643   0.662386   \n",
       "4        0.0   0.416667        0.0        0.0   0.589147   0.704502   \n",
       "\n",
       "   Remaining RUL  \n",
       "0       0.529086  \n",
       "1       0.526316  \n",
       "2       0.523546  \n",
       "3       0.520776  \n",
       "4       0.518006  \n",
       "\n",
       "[5 rows x 27 columns]"
      ]
     },
     "execution_count": 15,
     "metadata": {},
     "output_type": "execute_result"
    }
   ],
   "source": [
    "train.head()"
   ]
  },
  {
   "cell_type": "code",
   "execution_count": 16,
   "metadata": {},
   "outputs": [],
   "source": [
    "# test.head()"
   ]
  },
  {
   "cell_type": "markdown",
   "metadata": {},
   "source": [
    "## Load data"
   ]
  },
  {
   "cell_type": "code",
   "execution_count": 17,
   "metadata": {},
   "outputs": [],
   "source": [
    "sequence_length = 30\n",
    "batch_size = 64\n",
    "epochs = 50\n",
    "input_dim = 21 # Frome sensor 1 to sensor 21"
   ]
  },
  {
   "cell_type": "code",
   "execution_count": 18,
   "metadata": {},
   "outputs": [],
   "source": [
    "data_train = CMAPSSLoaderDataset(train, sequence_length=sequence_length)\n",
    "# data_test = CMAPSSLoaderDataset(test, sequence_length=sequence_length)\n",
    "\n",
    "train_data, validation_data = train_test_split(data_train, test_size=0.2, random_state=42)\n",
    "\n",
    "train_loader = DataLoader(data_train, batch_size=batch_size, shuffle=True)\n",
    "validation_loader = DataLoader(validation_data, batch_size=batch_size, shuffle=True)\n",
    "# validation_loader = DataLoader(data_test, batch_size=batch_size, shuffle=True)"
   ]
  },
  {
   "cell_type": "code",
   "execution_count": 19,
   "metadata": {},
   "outputs": [
    {
     "data": {
      "text/plain": [
       "17731"
      ]
     },
     "execution_count": 19,
     "metadata": {},
     "output_type": "execute_result"
    }
   ],
   "source": [
    "data_train.__len__()"
   ]
  },
  {
   "cell_type": "code",
   "execution_count": 22,
   "metadata": {},
   "outputs": [
    {
     "data": {
      "text/plain": [
       "14184"
      ]
     },
     "execution_count": 22,
     "metadata": {},
     "output_type": "execute_result"
    }
   ],
   "source": [
    "train_data.__len__()"
   ]
  },
  {
   "cell_type": "code",
   "execution_count": 25,
   "metadata": {},
   "outputs": [
    {
     "data": {
      "text/plain": [
       "3547"
      ]
     },
     "execution_count": 25,
     "metadata": {},
     "output_type": "execute_result"
    }
   ],
   "source": [
    "validation_data.__len__()"
   ]
  },
  {
   "cell_type": "code",
   "execution_count": 23,
   "metadata": {},
   "outputs": [
    {
     "data": {
      "text/plain": [
       "278"
      ]
     },
     "execution_count": 23,
     "metadata": {},
     "output_type": "execute_result"
    }
   ],
   "source": [
    "train_loader.__len__()"
   ]
  },
  {
   "cell_type": "code",
   "execution_count": 21,
   "metadata": {},
   "outputs": [
    {
     "data": {
      "text/plain": [
       "56"
      ]
     },
     "execution_count": 21,
     "metadata": {},
     "output_type": "execute_result"
    }
   ],
   "source": [
    "validation_loader.__len__()"
   ]
  },
  {
   "cell_type": "code",
   "execution_count": 35,
   "metadata": {},
   "outputs": [],
   "source": [
    "batch = next(iter(train_loader))\n",
    "# print(batch)\n",
    "seq, target = batch\n",
    "\n",
    "# print(f'seq={seq}, shape={seq.shape}')\n",
    "# print(f'target={target}, shape={target.shape}')"
   ]
  },
  {
   "cell_type": "markdown",
   "metadata": {},
   "source": [
    "## Training model"
   ]
  },
  {
   "cell_type": "code",
   "execution_count": 26,
   "metadata": {},
   "outputs": [],
   "source": [
    "def train(model, train_loader, validation_loader, epochs=epochs, verbose=False):\n",
    "    device = torch.device(\"cuda\" if torch.cuda.is_available() else \"cpu\")\n",
    "\n",
    "    model = model.to(device)\n",
    "\n",
    "    criterion = nn.MSELoss()\n",
    "    optimizer = torch.optim.Adam(model.parameters(), lr=1e-4)\n",
    "\n",
    "    for epoch in range(epochs):\n",
    "        # Train\n",
    "        model.train()\n",
    "        train_loss = 0\n",
    "        for batch in train_loader:\n",
    "            seq, target = batch\n",
    "            seq, target = seq.to(device), target.to(device)\n",
    "\n",
    "            optimizer.zero_grad() # Reset gradient.\n",
    "            output = model(seq) # Tính dự đoán từ mô hình.\n",
    "            loss = criterion(output, target) # Tính giá trị mất mát giữa dự đoán và nhãn thật.\n",
    "            loss.backward() # Tính gradient của mất mát.\n",
    "            optimizer.step() # Cập nhật tham số mô hình dựa trên gradient.\n",
    "            train_loss += loss.item() # Ghi nhận giá trị mất mát\n",
    "        \n",
    "        # Evaluate\n",
    "        val_loss = 0\n",
    "        model.eval()\n",
    "        with torch.no_grad():\n",
    "            for batch in validation_loader:\n",
    "                seq, target = batch\n",
    "                seq, target = seq.to(device), target.to(device)\n",
    "                output = model(seq)\n",
    "                loss = criterion(output, target)\n",
    "                val_loss += loss.item()\n",
    "        \n",
    "        print(f\"Epoch {epoch + 1}: Train Loss = {train_loss / len(train_loader)}, Val Loss = {val_loss / len(validation_loader)}\")"
   ]
  },
  {
   "cell_type": "code",
   "execution_count": 27,
   "metadata": {},
   "outputs": [
    {
     "name": "stdout",
     "output_type": "stream",
     "text": [
      "Epoch 1: Train Loss = 0.024452768485631337, Val Loss = 0.012161996115797333\n",
      "Epoch 2: Train Loss = 0.015212042602248114, Val Loss = 0.011324519823704447\n",
      "Epoch 3: Train Loss = 0.013415368245378565, Val Loss = 0.012975051741315318\n",
      "Epoch 4: Train Loss = 0.01257423634252263, Val Loss = 0.010454304981976748\n",
      "Epoch 5: Train Loss = 0.011898554109452333, Val Loss = 0.010393797286919184\n",
      "Epoch 6: Train Loss = 0.011249845530904776, Val Loss = 0.01420451802135046\n",
      "Epoch 7: Train Loss = 0.01029303877467035, Val Loss = 0.009148802408682448\n",
      "Epoch 8: Train Loss = 0.009642400946334112, Val Loss = 0.010157805642977889\n",
      "Epoch 9: Train Loss = 0.008915365779966706, Val Loss = 0.00824016340110185\n",
      "Epoch 10: Train Loss = 0.008469456707951512, Val Loss = 0.0077546948034848484\n",
      "Epoch 11: Train Loss = 0.008229036049709216, Val Loss = 0.010017866909038275\n",
      "Epoch 12: Train Loss = 0.008152029570652735, Val Loss = 0.008869239515791248\n",
      "Epoch 13: Train Loss = 0.007953458160359627, Val Loss = 0.006942701929282131\n",
      "Epoch 14: Train Loss = 0.007904180655550722, Val Loss = 0.007423917579996798\n",
      "Epoch 15: Train Loss = 0.007602954438297923, Val Loss = 0.006774566215296675\n",
      "Epoch 16: Train Loss = 0.00760588275851588, Val Loss = 0.006945063010789454\n",
      "Epoch 17: Train Loss = 0.007451029488542151, Val Loss = 0.006932382380390274\n",
      "Epoch 18: Train Loss = 0.007381932645794943, Val Loss = 0.009079623875939953\n",
      "Epoch 19: Train Loss = 0.00731982879270297, Val Loss = 0.006290619872743264\n",
      "Epoch 20: Train Loss = 0.006977985950568758, Val Loss = 0.006141700594785756\n",
      "Epoch 21: Train Loss = 0.006847803257724015, Val Loss = 0.006096257965379793\n",
      "Epoch 22: Train Loss = 0.00680476977957225, Val Loss = 0.006019283015380746\n",
      "Epoch 23: Train Loss = 0.0066610175560114625, Val Loss = 0.005716874380595982\n",
      "Epoch 24: Train Loss = 0.006518006941183008, Val Loss = 0.0067517939023673534\n",
      "Epoch 25: Train Loss = 0.00653913076556616, Val Loss = 0.005569972580165735\n",
      "Epoch 26: Train Loss = 0.006240007112459313, Val Loss = 0.005516096521335255\n",
      "Epoch 27: Train Loss = 0.0061760595237514634, Val Loss = 0.006138785808746304\n",
      "Epoch 28: Train Loss = 0.006196614369086707, Val Loss = 0.007741758009485368\n",
      "Epoch 29: Train Loss = 0.006176335114831601, Val Loss = 0.005040138411069555\n",
      "Epoch 30: Train Loss = 0.005581476399842516, Val Loss = 0.005343006653544892\n",
      "Epoch 31: Train Loss = 0.005491613694332647, Val Loss = 0.004460173787915015\n",
      "Epoch 32: Train Loss = 0.005134651436145491, Val Loss = 0.004417649399588949\n",
      "Epoch 33: Train Loss = 0.004957698130219666, Val Loss = 0.00412192168213161\n",
      "Epoch 34: Train Loss = 0.004948136770240159, Val Loss = 0.004217113210220954\n",
      "Epoch 35: Train Loss = 0.004754320762736602, Val Loss = 0.00375781675601112\n",
      "Epoch 36: Train Loss = 0.004646290716775458, Val Loss = 0.0035929580792851213\n",
      "Epoch 37: Train Loss = 0.004331840795176707, Val Loss = 0.0040053017312727335\n",
      "Epoch 38: Train Loss = 0.004195713122348509, Val Loss = 0.0038372102613461073\n",
      "Epoch 39: Train Loss = 0.004223528149660857, Val Loss = 0.0033283123463791397\n",
      "Epoch 40: Train Loss = 0.004129552587250368, Val Loss = 0.0030182680119261412\n",
      "Epoch 41: Train Loss = 0.003778957419278328, Val Loss = 0.003641926230297291\n",
      "Epoch 42: Train Loss = 0.0036954903822700434, Val Loss = 0.0030853614152874798\n",
      "Epoch 43: Train Loss = 0.003610988723351989, Val Loss = 0.0028392929795830113\n",
      "Epoch 44: Train Loss = 0.0034865297878784187, Val Loss = 0.0030834731379789965\n",
      "Epoch 45: Train Loss = 0.0033590048342179374, Val Loss = 0.0029205748973514085\n",
      "Epoch 46: Train Loss = 0.003249535954761714, Val Loss = 0.003637169620820454\n",
      "Epoch 47: Train Loss = 0.0031959442497170765, Val Loss = 0.0029331109711035553\n",
      "Epoch 48: Train Loss = 0.003062464484422327, Val Loss = 0.0022883860198947203\n",
      "Epoch 49: Train Loss = 0.0030317287163460532, Val Loss = 0.002525368275070962\n",
      "Epoch 50: Train Loss = 0.0028608765016752127, Val Loss = 0.0025887856318149716\n"
     ]
    }
   ],
   "source": [
    "model = TransformerModel(input_dim=input_dim, d_model=64, nhead=4, num_layers=2, dim_feedforward=256, dropout=0.1)\n",
    "train(model=model, train_loader=train_loader, validation_loader=validation_loader, epochs=epochs)"
   ]
  },
  {
   "cell_type": "markdown",
   "metadata": {},
   "source": [
    "## Evaluate model"
   ]
  },
  {
   "cell_type": "code",
   "execution_count": null,
   "metadata": {},
   "outputs": [],
   "source": []
  },
  {
   "cell_type": "markdown",
   "metadata": {},
   "source": [
    "## Predict on a batch"
   ]
  },
  {
   "cell_type": "code",
   "execution_count": 77,
   "metadata": {},
   "outputs": [
    {
     "data": {
      "text/plain": [
       "56"
      ]
     },
     "execution_count": 77,
     "metadata": {},
     "output_type": "execute_result"
    }
   ],
   "source": [
    "len(validation_loader)"
   ]
  },
  {
   "cell_type": "code",
   "execution_count": 98,
   "metadata": {},
   "outputs": [
    {
     "name": "stdout",
     "output_type": "stream",
     "text": [
      "actual_predictions: [ 2.19701321e+01  5.69930853e+01  1.12010626e+02  4.15128921e+00\n",
      "  9.40525479e+00  1.62539497e+02  1.44279667e+02  1.16807161e+02\n",
      "  1.20546864e+02  2.15180858e+02  4.24635200e+01  6.67217293e+01\n",
      "  1.44482263e+02  1.13415909e+02  1.05540553e+02  1.18195410e+00\n",
      "  9.99032098e+01  1.23967594e+02  7.33640051e+01  1.10157505e+02\n",
      "  1.44298903e+02  4.02916118e+01  6.85478522e+01  1.33664269e+02\n",
      "  6.57260496e+01  7.61005777e+01  1.21705031e+02  6.03982643e+01\n",
      "  9.35858920e+00  4.60551058e+01  1.45663787e+01  2.29716273e+02\n",
      "  8.34304219e+01  4.17689988e+01  9.65078373e+01 -1.10223192e+00\n",
      "  3.24881831e+01  2.24503326e+02  4.09686905e+01  1.66278371e+02\n",
      "  1.10656221e+02  4.17120210e+01  3.63440724e+00  2.19785157e+01\n",
      "  2.92004427e+01  1.51142140e+02  8.31679918e+01  8.97246557e+01\n",
      "  5.31403954e+01  8.63488209e+01  1.60377107e+02  1.03834857e+02\n",
      "  3.13221403e+01  2.09002904e+02  6.21063756e+01  3.86222369e+01\n",
      "  9.78789828e+01  2.06649586e+01  9.73594696e+01  3.95941239e+01\n",
      "  9.89055182e+01  1.75106200e+02  1.06295347e-01  1.30568320e+02]\n",
      "actual_targets: [ 23.99999933  52.00000124 120.99999595   4.99999986  11.99999966\n",
      " 157.00000301 148.99999785 120.99999595  95.99999732 188.99999136\n",
      "  41.00000087  53.99999984 175.00000116  84.99999964 113.00000155\n",
      "   4.99999986  71.99999799 136.9999955   75.00000127 100.9999992\n",
      " 161.00000021  37.00000098  95.99999732  99.0000006   56.99999774\n",
      "  78.99999847  76.00000057  53.00000054  15.00000025  30.00000051\n",
      "  15.99999955 229.00000638  76.99999987  43.99999877 107.99999967\n",
      "   0.99999997  46.99999936 215.00000542  46.00000006 157.99999693\n",
      "  92.00000012  37.00000098   6.9999998   23.99999933  30.99999981\n",
      " 120.00000203 113.99999547  68.00000079  53.00000054  75.00000127\n",
      " 171.99999788 130.9999997   26.99999992 202.99999231  64.99999751\n",
      "  43.99999877  83.00000104  34.00000039  90.00000152  37.00000098\n",
      " 145.00000066 193.00001007   0.99999997 120.00000203]\n"
     ]
    },
    {
     "data": {
      "image/png": "[encoded data removed]",
      "text/plain": [
       "<Figure size 1000x600 with 1 Axes>"
      ]
     },
     "metadata": {},
     "output_type": "display_data"
    }
   ],
   "source": [
    "samples, targets = next(iter(validation_loader))\n",
    "device = torch.device(\"cuda\" if torch.cuda.is_available() else \"cpu\")\n",
    "samples, targets = samples.to(device), targets.to(device)\n",
    "\n",
    "model.eval()\n",
    "with torch.no_grad():\n",
    "    predictions = model(samples)\n",
    "\n",
    "# Đưa kết quả về CPU để xử lý\n",
    "samples = samples.cpu()\n",
    "targets = targets.cpu()\n",
    "predictions = predictions.cpu()\n",
    "\n",
    "# Đảo chuẩn hóa dữ liệu\n",
    "rul_min = scaler.data_min_[-1]\n",
    "rul_max = scaler.data_max_[-1]\n",
    "\n",
    "# Đưa predictions và targets về dạng thực tế\n",
    "actual_predictions = predictions.numpy() * (rul_max - rul_min) + rul_min\n",
    "actual_targets = targets.numpy() * (rul_max - rul_min) + rul_min\n",
    "\n",
    "print(f'actual_predictions: {actual_predictions}')\n",
    "print(f'actual_targets: {actual_targets}')\n",
    "\n",
    "# Vẽ biểu đồ so sánh dự đoán và giá trị thực tế\n",
    "plt.figure(figsize=(10, 6))\n",
    "plt.plot(range(len(actual_predictions)), actual_predictions, label=\"Predicted RUL\", marker='o', linestyle='-')\n",
    "plt.plot(range(len(actual_targets)), actual_targets, label=\"Actual RUL\", marker='x', linestyle='--')\n",
    "plt.title(\"Comparison of Predicted and Actual RUL\")\n",
    "plt.xlabel(\"Sample Index\")\n",
    "plt.ylabel(\"Remaining Useful Life (RUL)\")\n",
    "plt.legend()\n",
    "plt.grid(True)\n",
    "plt.show()"
   ]
  },
  {
   "cell_type": "markdown",
   "metadata": {},
   "source": [
    "## Predict on a sample"
   ]
  },
  {
   "cell_type": "code",
   "execution_count": 99,
   "metadata": {},
   "outputs": [
    {
     "data": {
      "text/plain": [
       "torch.Size([64, 30, 21])"
      ]
     },
     "execution_count": 99,
     "metadata": {},
     "output_type": "execute_result"
    }
   ],
   "source": [
    "samples.shape"
   ]
  },
  {
   "cell_type": "code",
   "execution_count": 117,
   "metadata": {},
   "outputs": [
    {
     "data": {
      "text/plain": [
       "tensor([0.0665, 0.1440, 0.3352, 0.0139, 0.0332, 0.4349, 0.4127, 0.3352, 0.2659,\n",
       "        0.5235, 0.1136, 0.1496, 0.4848, 0.2355, 0.3130, 0.0139, 0.1994, 0.3795,\n",
       "        0.2078, 0.2798, 0.4460, 0.1025, 0.2659, 0.2742, 0.1579, 0.2188, 0.2105,\n",
       "        0.1468, 0.0416, 0.0831, 0.0443, 0.6343, 0.2133, 0.1219, 0.2992, 0.0028,\n",
       "        0.1302, 0.5956, 0.1274, 0.4377, 0.2548, 0.1025, 0.0194, 0.0665, 0.0859,\n",
       "        0.3324, 0.3158, 0.1884, 0.1468, 0.2078, 0.4765, 0.3629, 0.0748, 0.5623,\n",
       "        0.1801, 0.1219, 0.2299, 0.0942, 0.2493, 0.1025, 0.4017, 0.5346, 0.0028,\n",
       "        0.3324])"
      ]
     },
     "execution_count": 117,
     "metadata": {},
     "output_type": "execute_result"
    }
   ],
   "source": [
    "targets"
   ]
  },
  {
   "cell_type": "code",
   "execution_count": 101,
   "metadata": {},
   "outputs": [
    {
     "data": {
      "text/plain": [
       "torch.Size([64])"
      ]
     },
     "execution_count": 101,
     "metadata": {},
     "output_type": "execute_result"
    }
   ],
   "source": [
    "targets.shape"
   ]
  },
  {
   "cell_type": "code",
   "execution_count": 118,
   "metadata": {},
   "outputs": [
    {
     "name": "stdout",
     "output_type": "stream",
     "text": [
      "torch.Size([1, 30, 21])\n",
      "tensor([0.0665])\n"
     ]
    }
   ],
   "source": [
    "idx = 0\n",
    "sample = samples[idx].unsqueeze(0)\n",
    "target = targets[idx].unsqueeze(0)\n",
    "\n",
    "print(sample.shape)\n",
    "print(target)"
   ]
  },
  {
   "cell_type": "code",
   "execution_count": null,
   "metadata": {},
   "outputs": [],
   "source": [
    "model.eval()\n",
    "with torch.no_grad():\n",
    "    prediction = model(sample)\n",
    "\n",
    "sample = sample.cpu()\n",
    "target = target.cpu()\n",
    "prediction = prediction.cpu()\n",
    "\n",
    "print(f'Prediction: {prediction}')\n",
    "print(f'Target: {target}')\n",
    "\n",
    "rul_min = scaler.data_min_[-1]\n",
    "rul_max = scaler.data_max_[-1]\n",
    "\n",
    "prediction = predictions.numpy() * (rul_max - rul_min) + rul_min\n",
    "actual_prediction = sum(prediction)/len(prediction)\n",
    "actual_target = targets.numpy() * (rul_max - rul_min) + rul_min\n",
    "\n",
    "# print(f'Giá trị RUL thực tế {actual_target}')\n",
    "print(f'Giá trị RUL thực tế {actual_target[-1]}')\n",
    "print(f'Giá trị RUL dự đoán {actual_prediction}')"
   ]
  },
  {
   "cell_type": "code",
   "execution_count": 122,
   "metadata": {},
   "outputs": [
    {
     "data": {
      "text/plain": [
       "tensor([0.0609])"
      ]
     },
     "execution_count": 122,
     "metadata": {},
     "output_type": "execute_result"
    }
   ],
   "source": [
    "prediction"
   ]
  },
  {
   "cell_type": "code",
   "execution_count": 123,
   "metadata": {},
   "outputs": [
    {
     "data": {
      "text/plain": [
       "tensor([0.0665])"
      ]
     },
     "execution_count": 123,
     "metadata": {},
     "output_type": "execute_result"
    }
   ],
   "source": [
    "target"
   ]
  }
 ],
 "metadata": {
  "kernelspec": {
   "display_name": ".venv",
   "language": "python",
   "name": "python3"
  },
  "language_info": {
   "codemirror_mode": {
    "name": "ipython",
    "version": 3
   },
   "file_extension": ".py",
   "mimetype": "text/x-python",
   "name": "python",
   "nbconvert_exporter": "python",
   "pygments_lexer": "ipython3",
   "version": "3.12.7"
  }
 },
 "nbformat": 4,
 "nbformat_minor": 2
}
