{
 "cells": [
  {
   "cell_type": "markdown",
   "metadata": {
    "id": "myeLqXC4KTGJ"
   },
   "source": [
    "## Step 0: Preparation"
   ]
  },
  {
   "cell_type": "code",
   "execution_count": null,
   "metadata": {
    "id": "fhGO7YWrK4AJ"
   },
   "outputs": [],
   "source": [
    "# !pip install -q flwr[simulation] flwr-datasets[vision] torch torchvision matplotlib"
   ]
  },
  {
   "cell_type": "code",
   "execution_count": null,
   "metadata": {
    "id": "SJJgyLtkG1Lp"
   },
   "outputs": [],
   "source": [
    "import os\n",
    "os.environ[\"RAY_DEDUP_LOGS\"] = \"0\""
   ]
  },
  {
   "cell_type": "code",
   "execution_count": null,
   "metadata": {
    "colab": {
     "base_uri": "https://localhost:8080/"
    },
    "id": "V5IRPs6zKTGK",
    "outputId": "0f8f5b23-41ec-4caa-b7a6-ba93c41626c2"
   },
   "outputs": [
    {
     "name": "stdout",
     "output_type": "stream",
     "text": [
      "Training on cpu\n",
      "Flower 1.13.1 / PyTorch 2.5.1+cu121\n"
     ]
    }
   ],
   "source": [
    "from collections import OrderedDict\n",
    "from typing import List, Tuple\n",
    "\n",
    "import matplotlib.pyplot as plt\n",
    "import numpy as np\n",
    "import pandas as pd\n",
    "import torch\n",
    "import torch.nn as nn\n",
    "from torch.utils.data import random_split\n",
    "import torch.nn.functional as F\n",
    "import torchvision.transforms as transforms\n",
    "from datasets.utils.logging import disable_progress_bar\n",
    "from torch.utils.data import DataLoader\n",
    "\n",
    "from torch.utils.data import DataLoader, Dataset\n",
    "from sklearn.preprocessing import MinMaxScaler\n",
    "from sklearn.model_selection import train_test_split\n",
    "\n",
    "import warnings\n",
    "warnings.filterwarnings('ignore')\n",
    "\n",
    "import seaborn as sns\n",
    "\n",
    "import flwr\n",
    "from flwr.client import Client, ClientApp, NumPyClient\n",
    "from flwr.common import Metrics, Context\n",
    "from flwr.server import ServerApp, ServerConfig, ServerAppComponents\n",
    "from flwr.server.strategy import FedAvg\n",
    "from flwr.simulation import run_simulation\n",
    "# from flwr_datasets import FederatedDataset\n",
    "\n",
    "DEVICE = torch.device(\"cpu\")\n",
    "print(f\"Training on {DEVICE}\")\n",
    "print(f\"Flower {flwr.__version__} / PyTorch {torch.__version__}\")\n",
    "disable_progress_bar()"
   ]
  },
  {
   "cell_type": "markdown",
   "metadata": {
    "id": "O8PgUpBjKTGN"
   },
   "source": [
    "#### Load dataset and preprocessing"
   ]
  },
  {
   "cell_type": "code",
   "execution_count": null,
   "metadata": {
    "colab": {
     "base_uri": "https://localhost:8080/"
    },
    "id": "kKnxJxEeKglh",
    "outputId": "e237a7ac-44a7-4af9-b5e7-18bafe1f7e9d"
   },
   "outputs": [
    {
     "name": "stdout",
     "output_type": "stream",
     "text": [
      "Drive already mounted at /content/drive; to attempt to forcibly remount, call drive.mount(\"/content/drive\", force_remount=True).\n"
     ]
    }
   ],
   "source": [
    "# Khi chạy bằng colab\n",
    "from google.colab import drive\n",
    "drive.mount('/content/drive')"
   ]
  },
  {
   "cell_type": "code",
   "execution_count": null,
   "metadata": {
    "id": "27dPGPo2KTGN"
   },
   "outputs": [],
   "source": [
    "# train_1 = \"E:/IAD/Intern/16_CMAPSS_using_Transformer/data/train_FD001.txt\"\n",
    "train_1 = \"/content/drive/MyDrive/Colab Notebooks/RUL_prediction_using_Transformer/train_FD001.txt\"\n",
    "index_names = ['ID Engine', 'Cycle']\n",
    "setting_names = ['Setting 1', 'Setting 2', 'Setting 3']\n",
    "sensor_names = ['Sensor {}'.format(i) for i in range(1, 22)]\n",
    "column_names = index_names + setting_names + sensor_names\n",
    "\n",
    "train_1 = pd.read_csv(train_1, sep=' ', header=None)\n",
    "train_1.drop([26, 27], axis=1, inplace=True)\n",
    "train_1.columns = column_names\n",
    "\n",
    "train_1['Remaining RUL'] = ''"
   ]
  },
  {
   "cell_type": "code",
   "execution_count": null,
   "metadata": {
    "colab": {
     "base_uri": "https://localhost:8080/"
    },
    "id": "FBI0Hh09KTGN",
    "outputId": "a50faecc-5307-4cbd-9df9-5850158371c0"
   },
   "outputs": [
    {
     "name": "stderr",
     "output_type": "stream",
     "text": [
      "/usr/local/lib/python3.10/dist-packages/ipykernel/ipkernel.py:283: DeprecationWarning: `should_run_async` will not call `transform_cell` automatically in the future. Please pass the result to `transformed_cell` argument and any exception that happen during thetransform in `preprocessing_exc_tuple` in IPython 7.17 and above.\n",
      "  and should_run_async(code)\n"
     ]
    }
   ],
   "source": [
    "# remaining_rul = max_rul - cycle\n",
    "max_cycle = train_1.groupby('ID Engine').count()\n",
    "for idx in range(len(train_1)):\n",
    "    train_1.loc[idx, 'Remaining RUL'] = max_cycle.loc[train_1.loc[idx, 'ID Engine'], 'Cycle']\n",
    "train_1['Remaining RUL'] = train_1['Remaining RUL'] - train_1['Cycle']"
   ]
  },
  {
   "cell_type": "code",
   "execution_count": null,
   "metadata": {
    "colab": {
     "base_uri": "https://localhost:8080/",
     "height": 280
    },
    "id": "0681BloBKTGN",
    "outputId": "fb0603e8-88dd-4e1e-8b30-1d0c0397da56"
   },
   "outputs": [
    {
     "name": "stderr",
     "output_type": "stream",
     "text": [
      "/usr/local/lib/python3.10/dist-packages/ipykernel/ipkernel.py:283: DeprecationWarning: `should_run_async` will not call `transform_cell` automatically in the future. Please pass the result to `transformed_cell` argument and any exception that happen during thetransform in `preprocessing_exc_tuple` in IPython 7.17 and above.\n",
      "  and should_run_async(code)\n"
     ]
    },
    {
     "data": {
      "application/vnd.google.colaboratory.intrinsic+json": {
       "summary": "{\n  \"name\": \"train_1\",\n  \"rows\": 20631,\n  \"fields\": [\n    {\n      \"column\": \"ID Engine\",\n      \"properties\": {\n        \"dtype\": \"number\",\n        \"std\": 29,\n        \"min\": 1,\n        \"max\": 100,\n        \"num_unique_values\": 100,\n        \"samples\": [\n          84,\n          54,\n          71\n        ],\n        \"semantic_type\": \"\",\n        \"description\": \"\"\n      }\n    },\n    {\n      \"column\": \"Cycle\",\n      \"properties\": {\n        \"dtype\": \"number\",\n        \"std\": 68,\n        \"min\": 1,\n        \"max\": 362,\n        \"num_unique_values\": 362,\n        \"samples\": [\n          164,\n          34,\n          16\n        ],\n        \"semantic_type\": \"\",\n        \"description\": \"\"\n      }\n    },\n    {\n      \"column\": \"Sensor 2\",\n      \"properties\": {\n        \"dtype\": \"number\",\n        \"std\": 0.5000532700606122,\n        \"min\": 641.21,\n        \"max\": 644.53,\n        \"num_unique_values\": 310,\n        \"samples\": [\n          641.59,\n          642.28,\n          642.04\n        ],\n        \"semantic_type\": \"\",\n        \"description\": \"\"\n      }\n    },\n    {\n      \"column\": \"Sensor 3\",\n      \"properties\": {\n        \"dtype\": \"number\",\n        \"std\": 6.131149519690787,\n        \"min\": 1571.04,\n        \"max\": 1616.91,\n        \"num_unique_values\": 3012,\n        \"samples\": [\n          1594.0,\n          1591.25,\n          1598.83\n        ],\n        \"semantic_type\": \"\",\n        \"description\": \"\"\n      }\n    },\n    {\n      \"column\": \"Sensor 4\",\n      \"properties\": {\n        \"dtype\": \"number\",\n        \"std\": 9.000604780543735,\n        \"min\": 1382.25,\n        \"max\": 1441.49,\n        \"num_unique_values\": 4051,\n        \"samples\": [\n          1415.36,\n          1420.37,\n          1433.72\n        ],\n        \"semantic_type\": \"\",\n        \"description\": \"\"\n      }\n    },\n    {\n      \"column\": \"Sensor 7\",\n      \"properties\": {\n        \"dtype\": \"number\",\n        \"std\": 0.885092257663408,\n        \"min\": 549.85,\n        \"max\": 556.06,\n        \"num_unique_values\": 513,\n        \"samples\": [\n          555.11,\n          550.61,\n          554.87\n        ],\n        \"semantic_type\": \"\",\n        \"description\": \"\"\n      }\n    },\n    {\n      \"column\": \"Sensor 8\",\n      \"properties\": {\n        \"dtype\": \"number\",\n        \"std\": 0.0709854788909189,\n        \"min\": 2387.9,\n        \"max\": 2388.56,\n        \"num_unique_values\": 53,\n        \"samples\": [\n          2388.26,\n          2388.33,\n          2388.36\n        ],\n        \"semantic_type\": \"\",\n        \"description\": \"\"\n      }\n    },\n    {\n      \"column\": \"Sensor 9\",\n      \"properties\": {\n        \"dtype\": \"number\",\n        \"std\": 22.08287952506627,\n        \"min\": 9021.73,\n        \"max\": 9244.59,\n        \"num_unique_values\": 6403,\n        \"samples\": [\n          9069.73,\n          9069.31,\n          9099.19\n        ],\n        \"semantic_type\": \"\",\n        \"description\": \"\"\n      }\n    },\n    {\n      \"column\": \"Sensor 11\",\n      \"properties\": {\n        \"dtype\": \"number\",\n        \"std\": 0.2670873986396874,\n        \"min\": 46.85,\n        \"max\": 48.53,\n        \"num_unique_values\": 159,\n        \"samples\": [\n          48.33,\n          46.91,\n          47.87\n        ],\n        \"semantic_type\": \"\",\n        \"description\": \"\"\n      }\n    },\n    {\n      \"column\": \"Sensor 12\",\n      \"properties\": {\n        \"dtype\": \"number\",\n        \"std\": 0.7375533922097044,\n        \"min\": 518.69,\n        \"max\": 523.38,\n        \"num_unique_values\": 427,\n        \"samples\": [\n          523.35,\n          521.36,\n          521.71\n        ],\n        \"semantic_type\": \"\",\n        \"description\": \"\"\n      }\n    },\n    {\n      \"column\": \"Sensor 13\",\n      \"properties\": {\n        \"dtype\": \"number\",\n        \"std\": 0.07191891569858286,\n        \"min\": 2387.88,\n        \"max\": 2388.56,\n        \"num_unique_values\": 56,\n        \"samples\": [\n          2388.02,\n          2388.05,\n          2388.32\n        ],\n        \"semantic_type\": \"\",\n        \"description\": \"\"\n      }\n    },\n    {\n      \"column\": \"Sensor 14\",\n      \"properties\": {\n        \"dtype\": \"number\",\n        \"std\": 19.076175975953127,\n        \"min\": 8099.94,\n        \"max\": 8293.72,\n        \"num_unique_values\": 6078,\n        \"samples\": [\n          8209.96,\n          8142.84,\n          8139.36\n        ],\n        \"semantic_type\": \"\",\n        \"description\": \"\"\n      }\n    },\n    {\n      \"column\": \"Sensor 15\",\n      \"properties\": {\n        \"dtype\": \"number\",\n        \"std\": 0.03750503795196683,\n        \"min\": 8.3249,\n        \"max\": 8.5848,\n        \"num_unique_values\": 1918,\n        \"samples\": [\n          8.4466,\n          8.5191,\n          8.5034\n        ],\n        \"semantic_type\": \"\",\n        \"description\": \"\"\n      }\n    },\n    {\n      \"column\": \"Sensor 17\",\n      \"properties\": {\n        \"dtype\": \"number\",\n        \"std\": 1,\n        \"min\": 388,\n        \"max\": 400,\n        \"num_unique_values\": 13,\n        \"samples\": [\n          388,\n          389,\n          392\n        ],\n        \"semantic_type\": \"\",\n        \"description\": \"\"\n      }\n    },\n    {\n      \"column\": \"Sensor 20\",\n      \"properties\": {\n        \"dtype\": \"number\",\n        \"std\": 0.18074642787366235,\n        \"min\": 38.14,\n        \"max\": 39.43,\n        \"num_unique_values\": 120,\n        \"samples\": [\n          38.56,\n          38.66,\n          38.9\n        ],\n        \"semantic_type\": \"\",\n        \"description\": \"\"\n      }\n    },\n    {\n      \"column\": \"Sensor 21\",\n      \"properties\": {\n        \"dtype\": \"number\",\n        \"std\": 0.10825087474491232,\n        \"min\": 22.8942,\n        \"max\": 23.6184,\n        \"num_unique_values\": 4745,\n        \"samples\": [\n          23.3195,\n          23.2508,\n          23.1979\n        ],\n        \"semantic_type\": \"\",\n        \"description\": \"\"\n      }\n    },\n    {\n      \"column\": \"Remaining RUL\",\n      \"properties\": {\n        \"dtype\": \"date\",\n        \"min\": \"0\",\n        \"max\": \"361\",\n        \"num_unique_values\": 362,\n        \"samples\": [\n          \"28\",\n          \"158\",\n          \"176\"\n        ],\n        \"semantic_type\": \"\",\n        \"description\": \"\"\n      }\n    }\n  ]\n}",
       "type": "dataframe",
       "variable_name": "train_1"
      },
      "text/html": [
       "\n",
       "  <div id=\"df-b49a9d20-d80b-421f-ac21-a3823ef3c312\" class=\"colab-df-container\">\n",
       "    <div>\n",
       "<style scoped>\n",
       "    .dataframe tbody tr th:only-of-type {\n",
       "        vertical-align: middle;\n",
       "    }\n",
       "\n",
       "    .dataframe tbody tr th {\n",
       "        vertical-align: top;\n",
       "    }\n",
       "\n",
       "    .dataframe thead th {\n",
       "        text-align: right;\n",
       "    }\n",
       "</style>\n",
       "<table border=\"1\" class=\"dataframe\">\n",
       "  <thead>\n",
       "    <tr style=\"text-align: right;\">\n",
       "      <th></th>\n",
       "      <th>ID Engine</th>\n",
       "      <th>Cycle</th>\n",
       "      <th>Sensor 2</th>\n",
       "      <th>Sensor 3</th>\n",
       "      <th>Sensor 4</th>\n",
       "      <th>Sensor 7</th>\n",
       "      <th>Sensor 8</th>\n",
       "      <th>Sensor 9</th>\n",
       "      <th>Sensor 11</th>\n",
       "      <th>Sensor 12</th>\n",
       "      <th>Sensor 13</th>\n",
       "      <th>Sensor 14</th>\n",
       "      <th>Sensor 15</th>\n",
       "      <th>Sensor 17</th>\n",
       "      <th>Sensor 20</th>\n",
       "      <th>Sensor 21</th>\n",
       "      <th>Remaining RUL</th>\n",
       "    </tr>\n",
       "  </thead>\n",
       "  <tbody>\n",
       "    <tr>\n",
       "      <th>0</th>\n",
       "      <td>1</td>\n",
       "      <td>1</td>\n",
       "      <td>641.82</td>\n",
       "      <td>1589.70</td>\n",
       "      <td>1400.60</td>\n",
       "      <td>554.36</td>\n",
       "      <td>2388.06</td>\n",
       "      <td>9046.19</td>\n",
       "      <td>47.47</td>\n",
       "      <td>521.66</td>\n",
       "      <td>2388.02</td>\n",
       "      <td>8138.62</td>\n",
       "      <td>8.4195</td>\n",
       "      <td>392</td>\n",
       "      <td>39.06</td>\n",
       "      <td>23.4190</td>\n",
       "      <td>191</td>\n",
       "    </tr>\n",
       "    <tr>\n",
       "      <th>1</th>\n",
       "      <td>1</td>\n",
       "      <td>2</td>\n",
       "      <td>642.15</td>\n",
       "      <td>1591.82</td>\n",
       "      <td>1403.14</td>\n",
       "      <td>553.75</td>\n",
       "      <td>2388.04</td>\n",
       "      <td>9044.07</td>\n",
       "      <td>47.49</td>\n",
       "      <td>522.28</td>\n",
       "      <td>2388.07</td>\n",
       "      <td>8131.49</td>\n",
       "      <td>8.4318</td>\n",
       "      <td>392</td>\n",
       "      <td>39.00</td>\n",
       "      <td>23.4236</td>\n",
       "      <td>190</td>\n",
       "    </tr>\n",
       "    <tr>\n",
       "      <th>2</th>\n",
       "      <td>1</td>\n",
       "      <td>3</td>\n",
       "      <td>642.35</td>\n",
       "      <td>1587.99</td>\n",
       "      <td>1404.20</td>\n",
       "      <td>554.26</td>\n",
       "      <td>2388.08</td>\n",
       "      <td>9052.94</td>\n",
       "      <td>47.27</td>\n",
       "      <td>522.42</td>\n",
       "      <td>2388.03</td>\n",
       "      <td>8133.23</td>\n",
       "      <td>8.4178</td>\n",
       "      <td>390</td>\n",
       "      <td>38.95</td>\n",
       "      <td>23.3442</td>\n",
       "      <td>189</td>\n",
       "    </tr>\n",
       "    <tr>\n",
       "      <th>3</th>\n",
       "      <td>1</td>\n",
       "      <td>4</td>\n",
       "      <td>642.35</td>\n",
       "      <td>1582.79</td>\n",
       "      <td>1401.87</td>\n",
       "      <td>554.45</td>\n",
       "      <td>2388.11</td>\n",
       "      <td>9049.48</td>\n",
       "      <td>47.13</td>\n",
       "      <td>522.86</td>\n",
       "      <td>2388.08</td>\n",
       "      <td>8133.83</td>\n",
       "      <td>8.3682</td>\n",
       "      <td>392</td>\n",
       "      <td>38.88</td>\n",
       "      <td>23.3739</td>\n",
       "      <td>188</td>\n",
       "    </tr>\n",
       "    <tr>\n",
       "      <th>4</th>\n",
       "      <td>1</td>\n",
       "      <td>5</td>\n",
       "      <td>642.37</td>\n",
       "      <td>1582.85</td>\n",
       "      <td>1406.22</td>\n",
       "      <td>554.00</td>\n",
       "      <td>2388.06</td>\n",
       "      <td>9055.15</td>\n",
       "      <td>47.28</td>\n",
       "      <td>522.19</td>\n",
       "      <td>2388.04</td>\n",
       "      <td>8133.80</td>\n",
       "      <td>8.4294</td>\n",
       "      <td>393</td>\n",
       "      <td>38.90</td>\n",
       "      <td>23.4044</td>\n",
       "      <td>187</td>\n",
       "    </tr>\n",
       "  </tbody>\n",
       "</table>\n",
       "</div>\n",
       "    <div class=\"colab-df-buttons\">\n",
       "\n",
       "  <div class=\"colab-df-container\">\n",
       "    <button class=\"colab-df-convert\" onclick=\"convertToInteractive('df-b49a9d20-d80b-421f-ac21-a3823ef3c312')\"\n",
       "            title=\"Convert this dataframe to an interactive table.\"\n",
       "            style=\"display:none;\">\n",
       "\n",
       "  <svg xmlns=\"http://www.w3.org/2000/svg\" height=\"24px\" viewBox=\"0 -960 960 960\">\n",
       "    <path d=\"M120-120v-720h720v720H120Zm60-500h600v-160H180v160Zm220 220h160v-160H400v160Zm0 220h160v-160H400v160ZM180-400h160v-160H180v160Zm440 0h160v-160H620v160ZM180-180h160v-160H180v160Zm440 0h160v-160H620v160Z\"/>\n",
       "  </svg>\n",
       "    </button>\n",
       "\n",
       "  <style>\n",
       "    .colab-df-container {\n",
       "      display:flex;\n",
       "      gap: 12px;\n",
       "    }\n",
       "\n",
       "    .colab-df-convert {\n",
       "      background-color: #E8F0FE;\n",
       "      border: none;\n",
       "      border-radius: 50%;\n",
       "      cursor: pointer;\n",
       "      display: none;\n",
       "      fill: #1967D2;\n",
       "      height: 32px;\n",
       "      padding: 0 0 0 0;\n",
       "      width: 32px;\n",
       "    }\n",
       "\n",
       "    .colab-df-convert:hover {\n",
       "      background-color: #E2EBFA;\n",
       "      box-shadow: 0px 1px 2px rgba(60, 64, 67, 0.3), 0px 1px 3px 1px rgba(60, 64, 67, 0.15);\n",
       "      fill: #174EA6;\n",
       "    }\n",
       "\n",
       "    .colab-df-buttons div {\n",
       "      margin-bottom: 4px;\n",
       "    }\n",
       "\n",
       "    [theme=dark] .colab-df-convert {\n",
       "      background-color: #3B4455;\n",
       "      fill: #D2E3FC;\n",
       "    }\n",
       "\n",
       "    [theme=dark] .colab-df-convert:hover {\n",
       "      background-color: #434B5C;\n",
       "      box-shadow: 0px 1px 3px 1px rgba(0, 0, 0, 0.15);\n",
       "      filter: drop-shadow(0px 1px 2px rgba(0, 0, 0, 0.3));\n",
       "      fill: #FFFFFF;\n",
       "    }\n",
       "  </style>\n",
       "\n",
       "    <script>\n",
       "      const buttonEl =\n",
       "        document.querySelector('#df-b49a9d20-d80b-421f-ac21-a3823ef3c312 button.colab-df-convert');\n",
       "      buttonEl.style.display =\n",
       "        google.colab.kernel.accessAllowed ? 'block' : 'none';\n",
       "\n",
       "      async function convertToInteractive(key) {\n",
       "        const element = document.querySelector('#df-b49a9d20-d80b-421f-ac21-a3823ef3c312');\n",
       "        const dataTable =\n",
       "          await google.colab.kernel.invokeFunction('convertToInteractive',\n",
       "                                                    [key], {});\n",
       "        if (!dataTable) return;\n",
       "\n",
       "        const docLinkHtml = 'Like what you see? Visit the ' +\n",
       "          '<a target=\"_blank\" href=https://colab.research.google.com/notebooks/data_table.ipynb>data table notebook</a>'\n",
       "          + ' to learn more about interactive tables.';\n",
       "        element.innerHTML = '';\n",
       "        dataTable['output_type'] = 'display_data';\n",
       "        await google.colab.output.renderOutput(dataTable, element);\n",
       "        const docLink = document.createElement('div');\n",
       "        docLink.innerHTML = docLinkHtml;\n",
       "        element.appendChild(docLink);\n",
       "      }\n",
       "    </script>\n",
       "  </div>\n",
       "\n",
       "\n",
       "<div id=\"df-d4249590-1f72-43db-977e-11dd4a17d574\">\n",
       "  <button class=\"colab-df-quickchart\" onclick=\"quickchart('df-d4249590-1f72-43db-977e-11dd4a17d574')\"\n",
       "            title=\"Suggest charts\"\n",
       "            style=\"display:none;\">\n",
       "\n",
       "<svg xmlns=\"http://www.w3.org/2000/svg\" height=\"24px\"viewBox=\"0 0 24 24\"\n",
       "     width=\"24px\">\n",
       "    <g>\n",
       "        <path d=\"M19 3H5c-1.1 0-2 .9-2 2v14c0 1.1.9 2 2 2h14c1.1 0 2-.9 2-2V5c0-1.1-.9-2-2-2zM9 17H7v-7h2v7zm4 0h-2V7h2v10zm4 0h-2v-4h2v4z\"/>\n",
       "    </g>\n",
       "</svg>\n",
       "  </button>\n",
       "\n",
       "<style>\n",
       "  .colab-df-quickchart {\n",
       "      --bg-color: #E8F0FE;\n",
       "      --fill-color: #1967D2;\n",
       "      --hover-bg-color: #E2EBFA;\n",
       "      --hover-fill-color: #174EA6;\n",
       "      --disabled-fill-color: #AAA;\n",
       "      --disabled-bg-color: #DDD;\n",
       "  }\n",
       "\n",
       "  [theme=dark] .colab-df-quickchart {\n",
       "      --bg-color: #3B4455;\n",
       "      --fill-color: #D2E3FC;\n",
       "      --hover-bg-color: #434B5C;\n",
       "      --hover-fill-color: #FFFFFF;\n",
       "      --disabled-bg-color: #3B4455;\n",
       "      --disabled-fill-color: #666;\n",
       "  }\n",
       "\n",
       "  .colab-df-quickchart {\n",
       "    background-color: var(--bg-color);\n",
       "    border: none;\n",
       "    border-radius: 50%;\n",
       "    cursor: pointer;\n",
       "    display: none;\n",
       "    fill: var(--fill-color);\n",
       "    height: 32px;\n",
       "    padding: 0;\n",
       "    width: 32px;\n",
       "  }\n",
       "\n",
       "  .colab-df-quickchart:hover {\n",
       "    background-color: var(--hover-bg-color);\n",
       "    box-shadow: 0 1px 2px rgba(60, 64, 67, 0.3), 0 1px 3px 1px rgba(60, 64, 67, 0.15);\n",
       "    fill: var(--button-hover-fill-color);\n",
       "  }\n",
       "\n",
       "  .colab-df-quickchart-complete:disabled,\n",
       "  .colab-df-quickchart-complete:disabled:hover {\n",
       "    background-color: var(--disabled-bg-color);\n",
       "    fill: var(--disabled-fill-color);\n",
       "    box-shadow: none;\n",
       "  }\n",
       "\n",
       "  .colab-df-spinner {\n",
       "    border: 2px solid var(--fill-color);\n",
       "    border-color: transparent;\n",
       "    border-bottom-color: var(--fill-color);\n",
       "    animation:\n",
       "      spin 1s steps(1) infinite;\n",
       "  }\n",
       "\n",
       "  @keyframes spin {\n",
       "    0% {\n",
       "      border-color: transparent;\n",
       "      border-bottom-color: var(--fill-color);\n",
       "      border-left-color: var(--fill-color);\n",
       "    }\n",
       "    20% {\n",
       "      border-color: transparent;\n",
       "      border-left-color: var(--fill-color);\n",
       "      border-top-color: var(--fill-color);\n",
       "    }\n",
       "    30% {\n",
       "      border-color: transparent;\n",
       "      border-left-color: var(--fill-color);\n",
       "      border-top-color: var(--fill-color);\n",
       "      border-right-color: var(--fill-color);\n",
       "    }\n",
       "    40% {\n",
       "      border-color: transparent;\n",
       "      border-right-color: var(--fill-color);\n",
       "      border-top-color: var(--fill-color);\n",
       "    }\n",
       "    60% {\n",
       "      border-color: transparent;\n",
       "      border-right-color: var(--fill-color);\n",
       "    }\n",
       "    80% {\n",
       "      border-color: transparent;\n",
       "      border-right-color: var(--fill-color);\n",
       "      border-bottom-color: var(--fill-color);\n",
       "    }\n",
       "    90% {\n",
       "      border-color: transparent;\n",
       "      border-bottom-color: var(--fill-color);\n",
       "    }\n",
       "  }\n",
       "</style>\n",
       "\n",
       "  <script>\n",
       "    async function quickchart(key) {\n",
       "      const quickchartButtonEl =\n",
       "        document.querySelector('#' + key + ' button');\n",
       "      quickchartButtonEl.disabled = true;  // To prevent multiple clicks.\n",
       "      quickchartButtonEl.classList.add('colab-df-spinner');\n",
       "      try {\n",
       "        const charts = await google.colab.kernel.invokeFunction(\n",
       "            'suggestCharts', [key], {});\n",
       "      } catch (error) {\n",
       "        console.error('Error during call to suggestCharts:', error);\n",
       "      }\n",
       "      quickchartButtonEl.classList.remove('colab-df-spinner');\n",
       "      quickchartButtonEl.classList.add('colab-df-quickchart-complete');\n",
       "    }\n",
       "    (() => {\n",
       "      let quickchartButtonEl =\n",
       "        document.querySelector('#df-d4249590-1f72-43db-977e-11dd4a17d574 button');\n",
       "      quickchartButtonEl.style.display =\n",
       "        google.colab.kernel.accessAllowed ? 'block' : 'none';\n",
       "    })();\n",
       "  </script>\n",
       "</div>\n",
       "\n",
       "    </div>\n",
       "  </div>\n"
      ],
      "text/plain": [
       "   ID Engine  Cycle  Sensor 2  Sensor 3  Sensor 4  Sensor 7  Sensor 8  \\\n",
       "0          1      1    641.82   1589.70   1400.60    554.36   2388.06   \n",
       "1          1      2    642.15   1591.82   1403.14    553.75   2388.04   \n",
       "2          1      3    642.35   1587.99   1404.20    554.26   2388.08   \n",
       "3          1      4    642.35   1582.79   1401.87    554.45   2388.11   \n",
       "4          1      5    642.37   1582.85   1406.22    554.00   2388.06   \n",
       "\n",
       "   Sensor 9  Sensor 11  Sensor 12  Sensor 13  Sensor 14  Sensor 15  Sensor 17  \\\n",
       "0   9046.19      47.47     521.66    2388.02    8138.62     8.4195        392   \n",
       "1   9044.07      47.49     522.28    2388.07    8131.49     8.4318        392   \n",
       "2   9052.94      47.27     522.42    2388.03    8133.23     8.4178        390   \n",
       "3   9049.48      47.13     522.86    2388.08    8133.83     8.3682        392   \n",
       "4   9055.15      47.28     522.19    2388.04    8133.80     8.4294        393   \n",
       "\n",
       "   Sensor 20  Sensor 21 Remaining RUL  \n",
       "0      39.06    23.4190           191  \n",
       "1      39.00    23.4236           190  \n",
       "2      38.95    23.3442           189  \n",
       "3      38.88    23.3739           188  \n",
       "4      38.90    23.4044           187  "
      ]
     },
     "execution_count": 8,
     "metadata": {},
     "output_type": "execute_result"
    }
   ],
   "source": [
    "train_1 = train_1.drop(['Setting 1','Setting 2', 'Sensor 1', 'Setting 3','Sensor 5','Sensor 6', 'Sensor 10', 'Sensor 16', 'Sensor 18','Sensor 19'], axis=1)\n",
    "train_1.head()"
   ]
  },
  {
   "cell_type": "code",
   "execution_count": null,
   "metadata": {
    "colab": {
     "base_uri": "https://localhost:8080/",
     "height": 280
    },
    "id": "XXS3R64RKTGO",
    "outputId": "b82eb207-a372-45bb-f40e-cac514510044"
   },
   "outputs": [
    {
     "name": "stderr",
     "output_type": "stream",
     "text": [
      "/usr/local/lib/python3.10/dist-packages/ipykernel/ipkernel.py:283: DeprecationWarning: `should_run_async` will not call `transform_cell` automatically in the future. Please pass the result to `transformed_cell` argument and any exception that happen during thetransform in `preprocessing_exc_tuple` in IPython 7.17 and above.\n",
      "  and should_run_async(code)\n"
     ]
    },
    {
     "data": {
      "application/vnd.google.colaboratory.intrinsic+json": {
       "summary": "{\n  \"name\": \"df\",\n  \"rows\": 20631,\n  \"fields\": [\n    {\n      \"column\": \"ID Engine\",\n      \"properties\": {\n        \"dtype\": \"number\",\n        \"std\": 29,\n        \"min\": 1,\n        \"max\": 100,\n        \"num_unique_values\": 100,\n        \"samples\": [\n          84,\n          54,\n          71\n        ],\n        \"semantic_type\": \"\",\n        \"description\": \"\"\n      }\n    },\n    {\n      \"column\": \"Cycle\",\n      \"properties\": {\n        \"dtype\": \"number\",\n        \"std\": 68,\n        \"min\": 1,\n        \"max\": 362,\n        \"num_unique_values\": 362,\n        \"samples\": [\n          164,\n          34,\n          16\n        ],\n        \"semantic_type\": \"\",\n        \"description\": \"\"\n      }\n    },\n    {\n      \"column\": \"Sensor 2\",\n      \"properties\": {\n        \"dtype\": \"number\",\n        \"std\": 0.15061845483753925,\n        \"min\": 0.0,\n        \"max\": 1.0,\n        \"num_unique_values\": 310,\n        \"samples\": [\n          0.11445783132529641,\n          0.32228915662648205,\n          0.24999999999997158\n        ],\n        \"semantic_type\": \"\",\n        \"description\": \"\"\n      }\n    },\n    {\n      \"column\": \"Sensor 3\",\n      \"properties\": {\n        \"dtype\": \"number\",\n        \"std\": 0.13366360409179906,\n        \"min\": 0.0,\n        \"max\": 1.0,\n        \"num_unique_values\": 3012,\n        \"samples\": [\n          0.5005450185306302,\n          0.44059298016132686,\n          0.6058425986483584\n        ],\n        \"semantic_type\": \"\",\n        \"description\": \"\"\n      }\n    },\n    {\n      \"column\": \"Sensor 4\",\n      \"properties\": {\n        \"dtype\": \"number\",\n        \"std\": 0.15193458441160862,\n        \"min\": 0.0,\n        \"max\": 1.0,\n        \"num_unique_values\": 4051,\n        \"samples\": [\n          0.5589128966914245,\n          0.6434841323430085,\n          0.8688386225523281\n        ],\n        \"semantic_type\": \"\",\n        \"description\": \"\"\n      }\n    },\n    {\n      \"column\": \"Sensor 7\",\n      \"properties\": {\n        \"dtype\": \"number\",\n        \"std\": 0.14252693360119403,\n        \"min\": 0.0,\n        \"max\": 1.0,\n        \"num_unique_values\": 513,\n        \"samples\": [\n          0.8470209339774613,\n          0.12238325281802531,\n          0.8083735909822849\n        ],\n        \"semantic_type\": \"\",\n        \"description\": \"\"\n      }\n    },\n    {\n      \"column\": \"Sensor 8\",\n      \"properties\": {\n        \"dtype\": \"number\",\n        \"std\": 0.1075537558953646,\n        \"min\": 0.0,\n        \"max\": 1.0,\n        \"num_unique_values\": 53,\n        \"samples\": [\n          0.5454545454549589,\n          0.6515151515150137,\n          0.6969696969699726\n        ],\n        \"semantic_type\": \"\",\n        \"description\": \"\"\n      }\n    },\n    {\n      \"column\": \"Sensor 9\",\n      \"properties\": {\n        \"dtype\": \"number\",\n        \"std\": 0.09908857365640435,\n        \"min\": 0.0,\n        \"max\": 1.0,\n        \"num_unique_values\": 6403,\n        \"samples\": [\n          0.2153818540787924,\n          0.21349726285560422,\n          0.3475724670196527\n        ],\n        \"semantic_type\": \"\",\n        \"description\": \"\"\n      }\n    },\n    {\n      \"column\": \"Sensor 11\",\n      \"properties\": {\n        \"dtype\": \"number\",\n        \"std\": 0.1589805944283841,\n        \"min\": 0.0,\n        \"max\": 1.0,\n        \"num_unique_values\": 159,\n        \"samples\": [\n          0.8809523809523796,\n          0.0357142857142847,\n          0.6071428571428577\n        ],\n        \"semantic_type\": \"\",\n        \"description\": \"\"\n      }\n    },\n    {\n      \"column\": \"Sensor 12\",\n      \"properties\": {\n        \"dtype\": \"number\",\n        \"std\": 0.1572608512174252,\n        \"min\": 0.0,\n        \"max\": 1.0,\n        \"num_unique_values\": 427,\n        \"samples\": [\n          0.9936034115138739,\n          0.5692963752665321,\n          0.6439232409381788\n        ],\n        \"semantic_type\": \"\",\n        \"description\": \"\"\n      }\n    },\n    {\n      \"column\": \"Sensor 13\",\n      \"properties\": {\n        \"dtype\": \"number\",\n        \"std\": 0.10576311132144779,\n        \"min\": 0.0,\n        \"max\": 1.0,\n        \"num_unique_values\": 56,\n        \"samples\": [\n          0.20588235294098922,\n          0.25,\n          0.647058823529278\n        ],\n        \"semantic_type\": \"\",\n        \"description\": \"\"\n      }\n    },\n    {\n      \"column\": \"Sensor 14\",\n      \"properties\": {\n        \"dtype\": \"number\",\n        \"std\": 0.09844243975618262,\n        \"min\": 0.0,\n        \"max\": 1.0,\n        \"num_unique_values\": 6078,\n        \"samples\": [\n          0.5677572504902457,\n          0.2213850758592244,\n          0.20342656620910304\n        ],\n        \"semantic_type\": \"\",\n        \"description\": \"\"\n      }\n    },\n    {\n      \"column\": \"Sensor 15\",\n      \"properties\": {\n        \"dtype\": \"number\",\n        \"std\": 0.14430564814146393,\n        \"min\": 0.0,\n        \"max\": 1.0,\n        \"num_unique_values\": 1918,\n        \"samples\": [\n          0.46825702193151386,\n          0.7472104655636826,\n          0.6868026163909207\n        ],\n        \"semantic_type\": \"\",\n        \"description\": \"\"\n      }\n    },\n    {\n      \"column\": \"Sensor 17\",\n      \"properties\": {\n        \"dtype\": \"number\",\n        \"std\": 0.12906358538452264,\n        \"min\": 0.0,\n        \"max\": 1.0,\n        \"num_unique_values\": 13,\n        \"samples\": [\n          0.0,\n          0.0833333333333357,\n          0.3333333333333357\n        ],\n        \"semantic_type\": \"\",\n        \"description\": \"\"\n      }\n    },\n    {\n      \"column\": \"Sensor 20\",\n      \"properties\": {\n        \"dtype\": \"number\",\n        \"std\": 0.14011350997957905,\n        \"min\": 0.0,\n        \"max\": 1.0,\n        \"num_unique_values\": 120,\n        \"samples\": [\n          0.3255813953488378,\n          0.4031007751937956,\n          0.5891472868217029\n        ],\n        \"semantic_type\": \"\",\n        \"description\": \"\"\n      }\n    },\n    {\n      \"column\": \"Sensor 21\",\n      \"properties\": {\n        \"dtype\": \"number\",\n        \"std\": 0.14947649094851193,\n        \"min\": 0.0,\n        \"max\": 1.0,\n        \"num_unique_values\": 4745,\n        \"samples\": [\n          0.587268710301025,\n          0.492405412869374,\n          0.419359293012981\n        ],\n        \"semantic_type\": \"\",\n        \"description\": \"\"\n      }\n    },\n    {\n      \"column\": \"Remaining RUL\",\n      \"properties\": {\n        \"dtype\": \"number\",\n        \"std\": 0.19080606697290392,\n        \"min\": 0.0,\n        \"max\": 1.0,\n        \"num_unique_values\": 362,\n        \"samples\": [\n          0.07756232686980609,\n          0.4376731301939058,\n          0.48753462603878117\n        ],\n        \"semantic_type\": \"\",\n        \"description\": \"\"\n      }\n    }\n  ]\n}",
       "type": "dataframe",
       "variable_name": "df"
      },
      "text/html": [
       "\n",
       "  <div id=\"df-28fdeb9f-c17e-47a9-a84c-b6edd95c01bd\" class=\"colab-df-container\">\n",
       "    <div>\n",
       "<style scoped>\n",
       "    .dataframe tbody tr th:only-of-type {\n",
       "        vertical-align: middle;\n",
       "    }\n",
       "\n",
       "    .dataframe tbody tr th {\n",
       "        vertical-align: top;\n",
       "    }\n",
       "\n",
       "    .dataframe thead th {\n",
       "        text-align: right;\n",
       "    }\n",
       "</style>\n",
       "<table border=\"1\" class=\"dataframe\">\n",
       "  <thead>\n",
       "    <tr style=\"text-align: right;\">\n",
       "      <th></th>\n",
       "      <th>ID Engine</th>\n",
       "      <th>Cycle</th>\n",
       "      <th>Sensor 2</th>\n",
       "      <th>Sensor 3</th>\n",
       "      <th>Sensor 4</th>\n",
       "      <th>Sensor 7</th>\n",
       "      <th>Sensor 8</th>\n",
       "      <th>Sensor 9</th>\n",
       "      <th>Sensor 11</th>\n",
       "      <th>Sensor 12</th>\n",
       "      <th>Sensor 13</th>\n",
       "      <th>Sensor 14</th>\n",
       "      <th>Sensor 15</th>\n",
       "      <th>Sensor 17</th>\n",
       "      <th>Sensor 20</th>\n",
       "      <th>Sensor 21</th>\n",
       "      <th>Remaining RUL</th>\n",
       "    </tr>\n",
       "  </thead>\n",
       "  <tbody>\n",
       "    <tr>\n",
       "      <th>0</th>\n",
       "      <td>1</td>\n",
       "      <td>1</td>\n",
       "      <td>0.183735</td>\n",
       "      <td>0.406802</td>\n",
       "      <td>0.309757</td>\n",
       "      <td>0.726248</td>\n",
       "      <td>0.242424</td>\n",
       "      <td>0.109755</td>\n",
       "      <td>0.369048</td>\n",
       "      <td>0.633262</td>\n",
       "      <td>0.205882</td>\n",
       "      <td>0.199608</td>\n",
       "      <td>0.363986</td>\n",
       "      <td>0.333333</td>\n",
       "      <td>0.713178</td>\n",
       "      <td>0.724662</td>\n",
       "      <td>0.529086</td>\n",
       "    </tr>\n",
       "    <tr>\n",
       "      <th>1</th>\n",
       "      <td>1</td>\n",
       "      <td>2</td>\n",
       "      <td>0.283133</td>\n",
       "      <td>0.453019</td>\n",
       "      <td>0.352633</td>\n",
       "      <td>0.628019</td>\n",
       "      <td>0.212121</td>\n",
       "      <td>0.100242</td>\n",
       "      <td>0.380952</td>\n",
       "      <td>0.765458</td>\n",
       "      <td>0.279412</td>\n",
       "      <td>0.162813</td>\n",
       "      <td>0.411312</td>\n",
       "      <td>0.333333</td>\n",
       "      <td>0.666667</td>\n",
       "      <td>0.731014</td>\n",
       "      <td>0.526316</td>\n",
       "    </tr>\n",
       "    <tr>\n",
       "      <th>2</th>\n",
       "      <td>1</td>\n",
       "      <td>3</td>\n",
       "      <td>0.343373</td>\n",
       "      <td>0.369523</td>\n",
       "      <td>0.370527</td>\n",
       "      <td>0.710145</td>\n",
       "      <td>0.272727</td>\n",
       "      <td>0.140043</td>\n",
       "      <td>0.250000</td>\n",
       "      <td>0.795309</td>\n",
       "      <td>0.220588</td>\n",
       "      <td>0.171793</td>\n",
       "      <td>0.357445</td>\n",
       "      <td>0.166667</td>\n",
       "      <td>0.627907</td>\n",
       "      <td>0.621375</td>\n",
       "      <td>0.523546</td>\n",
       "    </tr>\n",
       "    <tr>\n",
       "      <th>3</th>\n",
       "      <td>1</td>\n",
       "      <td>4</td>\n",
       "      <td>0.343373</td>\n",
       "      <td>0.256159</td>\n",
       "      <td>0.331195</td>\n",
       "      <td>0.740741</td>\n",
       "      <td>0.318182</td>\n",
       "      <td>0.124518</td>\n",
       "      <td>0.166667</td>\n",
       "      <td>0.889126</td>\n",
       "      <td>0.294118</td>\n",
       "      <td>0.174889</td>\n",
       "      <td>0.166603</td>\n",
       "      <td>0.333333</td>\n",
       "      <td>0.573643</td>\n",
       "      <td>0.662386</td>\n",
       "      <td>0.520776</td>\n",
       "    </tr>\n",
       "    <tr>\n",
       "      <th>4</th>\n",
       "      <td>1</td>\n",
       "      <td>5</td>\n",
       "      <td>0.349398</td>\n",
       "      <td>0.257467</td>\n",
       "      <td>0.404625</td>\n",
       "      <td>0.668277</td>\n",
       "      <td>0.242424</td>\n",
       "      <td>0.149960</td>\n",
       "      <td>0.255952</td>\n",
       "      <td>0.746269</td>\n",
       "      <td>0.235294</td>\n",
       "      <td>0.174734</td>\n",
       "      <td>0.402078</td>\n",
       "      <td>0.416667</td>\n",
       "      <td>0.589147</td>\n",
       "      <td>0.704502</td>\n",
       "      <td>0.518006</td>\n",
       "    </tr>\n",
       "  </tbody>\n",
       "</table>\n",
       "</div>\n",
       "    <div class=\"colab-df-buttons\">\n",
       "\n",
       "  <div class=\"colab-df-container\">\n",
       "    <button class=\"colab-df-convert\" onclick=\"convertToInteractive('df-28fdeb9f-c17e-47a9-a84c-b6edd95c01bd')\"\n",
       "            title=\"Convert this dataframe to an interactive table.\"\n",
       "            style=\"display:none;\">\n",
       "\n",
       "  <svg xmlns=\"http://www.w3.org/2000/svg\" height=\"24px\" viewBox=\"0 -960 960 960\">\n",
       "    <path d=\"M120-120v-720h720v720H120Zm60-500h600v-160H180v160Zm220 220h160v-160H400v160Zm0 220h160v-160H400v160ZM180-400h160v-160H180v160Zm440 0h160v-160H620v160ZM180-180h160v-160H180v160Zm440 0h160v-160H620v160Z\"/>\n",
       "  </svg>\n",
       "    </button>\n",
       "\n",
       "  <style>\n",
       "    .colab-df-container {\n",
       "      display:flex;\n",
       "      gap: 12px;\n",
       "    }\n",
       "\n",
       "    .colab-df-convert {\n",
       "      background-color: #E8F0FE;\n",
       "      border: none;\n",
       "      border-radius: 50%;\n",
       "      cursor: pointer;\n",
       "      display: none;\n",
       "      fill: #1967D2;\n",
       "      height: 32px;\n",
       "      padding: 0 0 0 0;\n",
       "      width: 32px;\n",
       "    }\n",
       "\n",
       "    .colab-df-convert:hover {\n",
       "      background-color: #E2EBFA;\n",
       "      box-shadow: 0px 1px 2px rgba(60, 64, 67, 0.3), 0px 1px 3px 1px rgba(60, 64, 67, 0.15);\n",
       "      fill: #174EA6;\n",
       "    }\n",
       "\n",
       "    .colab-df-buttons div {\n",
       "      margin-bottom: 4px;\n",
       "    }\n",
       "\n",
       "    [theme=dark] .colab-df-convert {\n",
       "      background-color: #3B4455;\n",
       "      fill: #D2E3FC;\n",
       "    }\n",
       "\n",
       "    [theme=dark] .colab-df-convert:hover {\n",
       "      background-color: #434B5C;\n",
       "      box-shadow: 0px 1px 3px 1px rgba(0, 0, 0, 0.15);\n",
       "      filter: drop-shadow(0px 1px 2px rgba(0, 0, 0, 0.3));\n",
       "      fill: #FFFFFF;\n",
       "    }\n",
       "  </style>\n",
       "\n",
       "    <script>\n",
       "      const buttonEl =\n",
       "        document.querySelector('#df-28fdeb9f-c17e-47a9-a84c-b6edd95c01bd button.colab-df-convert');\n",
       "      buttonEl.style.display =\n",
       "        google.colab.kernel.accessAllowed ? 'block' : 'none';\n",
       "\n",
       "      async function convertToInteractive(key) {\n",
       "        const element = document.querySelector('#df-28fdeb9f-c17e-47a9-a84c-b6edd95c01bd');\n",
       "        const dataTable =\n",
       "          await google.colab.kernel.invokeFunction('convertToInteractive',\n",
       "                                                    [key], {});\n",
       "        if (!dataTable) return;\n",
       "\n",
       "        const docLinkHtml = 'Like what you see? Visit the ' +\n",
       "          '<a target=\"_blank\" href=https://colab.research.google.com/notebooks/data_table.ipynb>data table notebook</a>'\n",
       "          + ' to learn more about interactive tables.';\n",
       "        element.innerHTML = '';\n",
       "        dataTable['output_type'] = 'display_data';\n",
       "        await google.colab.output.renderOutput(dataTable, element);\n",
       "        const docLink = document.createElement('div');\n",
       "        docLink.innerHTML = docLinkHtml;\n",
       "        element.appendChild(docLink);\n",
       "      }\n",
       "    </script>\n",
       "  </div>\n",
       "\n",
       "\n",
       "<div id=\"df-2cbca857-81b9-4ebf-a373-2fc8e1a006da\">\n",
       "  <button class=\"colab-df-quickchart\" onclick=\"quickchart('df-2cbca857-81b9-4ebf-a373-2fc8e1a006da')\"\n",
       "            title=\"Suggest charts\"\n",
       "            style=\"display:none;\">\n",
       "\n",
       "<svg xmlns=\"http://www.w3.org/2000/svg\" height=\"24px\"viewBox=\"0 0 24 24\"\n",
       "     width=\"24px\">\n",
       "    <g>\n",
       "        <path d=\"M19 3H5c-1.1 0-2 .9-2 2v14c0 1.1.9 2 2 2h14c1.1 0 2-.9 2-2V5c0-1.1-.9-2-2-2zM9 17H7v-7h2v7zm4 0h-2V7h2v10zm4 0h-2v-4h2v4z\"/>\n",
       "    </g>\n",
       "</svg>\n",
       "  </button>\n",
       "\n",
       "<style>\n",
       "  .colab-df-quickchart {\n",
       "      --bg-color: #E8F0FE;\n",
       "      --fill-color: #1967D2;\n",
       "      --hover-bg-color: #E2EBFA;\n",
       "      --hover-fill-color: #174EA6;\n",
       "      --disabled-fill-color: #AAA;\n",
       "      --disabled-bg-color: #DDD;\n",
       "  }\n",
       "\n",
       "  [theme=dark] .colab-df-quickchart {\n",
       "      --bg-color: #3B4455;\n",
       "      --fill-color: #D2E3FC;\n",
       "      --hover-bg-color: #434B5C;\n",
       "      --hover-fill-color: #FFFFFF;\n",
       "      --disabled-bg-color: #3B4455;\n",
       "      --disabled-fill-color: #666;\n",
       "  }\n",
       "\n",
       "  .colab-df-quickchart {\n",
       "    background-color: var(--bg-color);\n",
       "    border: none;\n",
       "    border-radius: 50%;\n",
       "    cursor: pointer;\n",
       "    display: none;\n",
       "    fill: var(--fill-color);\n",
       "    height: 32px;\n",
       "    padding: 0;\n",
       "    width: 32px;\n",
       "  }\n",
       "\n",
       "  .colab-df-quickchart:hover {\n",
       "    background-color: var(--hover-bg-color);\n",
       "    box-shadow: 0 1px 2px rgba(60, 64, 67, 0.3), 0 1px 3px 1px rgba(60, 64, 67, 0.15);\n",
       "    fill: var(--button-hover-fill-color);\n",
       "  }\n",
       "\n",
       "  .colab-df-quickchart-complete:disabled,\n",
       "  .colab-df-quickchart-complete:disabled:hover {\n",
       "    background-color: var(--disabled-bg-color);\n",
       "    fill: var(--disabled-fill-color);\n",
       "    box-shadow: none;\n",
       "  }\n",
       "\n",
       "  .colab-df-spinner {\n",
       "    border: 2px solid var(--fill-color);\n",
       "    border-color: transparent;\n",
       "    border-bottom-color: var(--fill-color);\n",
       "    animation:\n",
       "      spin 1s steps(1) infinite;\n",
       "  }\n",
       "\n",
       "  @keyframes spin {\n",
       "    0% {\n",
       "      border-color: transparent;\n",
       "      border-bottom-color: var(--fill-color);\n",
       "      border-left-color: var(--fill-color);\n",
       "    }\n",
       "    20% {\n",
       "      border-color: transparent;\n",
       "      border-left-color: var(--fill-color);\n",
       "      border-top-color: var(--fill-color);\n",
       "    }\n",
       "    30% {\n",
       "      border-color: transparent;\n",
       "      border-left-color: var(--fill-color);\n",
       "      border-top-color: var(--fill-color);\n",
       "      border-right-color: var(--fill-color);\n",
       "    }\n",
       "    40% {\n",
       "      border-color: transparent;\n",
       "      border-right-color: var(--fill-color);\n",
       "      border-top-color: var(--fill-color);\n",
       "    }\n",
       "    60% {\n",
       "      border-color: transparent;\n",
       "      border-right-color: var(--fill-color);\n",
       "    }\n",
       "    80% {\n",
       "      border-color: transparent;\n",
       "      border-right-color: var(--fill-color);\n",
       "      border-bottom-color: var(--fill-color);\n",
       "    }\n",
       "    90% {\n",
       "      border-color: transparent;\n",
       "      border-bottom-color: var(--fill-color);\n",
       "    }\n",
       "  }\n",
       "</style>\n",
       "\n",
       "  <script>\n",
       "    async function quickchart(key) {\n",
       "      const quickchartButtonEl =\n",
       "        document.querySelector('#' + key + ' button');\n",
       "      quickchartButtonEl.disabled = true;  // To prevent multiple clicks.\n",
       "      quickchartButtonEl.classList.add('colab-df-spinner');\n",
       "      try {\n",
       "        const charts = await google.colab.kernel.invokeFunction(\n",
       "            'suggestCharts', [key], {});\n",
       "      } catch (error) {\n",
       "        console.error('Error during call to suggestCharts:', error);\n",
       "      }\n",
       "      quickchartButtonEl.classList.remove('colab-df-spinner');\n",
       "      quickchartButtonEl.classList.add('colab-df-quickchart-complete');\n",
       "    }\n",
       "    (() => {\n",
       "      let quickchartButtonEl =\n",
       "        document.querySelector('#df-2cbca857-81b9-4ebf-a373-2fc8e1a006da button');\n",
       "      quickchartButtonEl.style.display =\n",
       "        google.colab.kernel.accessAllowed ? 'block' : 'none';\n",
       "    })();\n",
       "  </script>\n",
       "</div>\n",
       "\n",
       "    </div>\n",
       "  </div>\n"
      ],
      "text/plain": [
       "   ID Engine  Cycle  Sensor 2  Sensor 3  Sensor 4  Sensor 7  Sensor 8  \\\n",
       "0          1      1  0.183735  0.406802  0.309757  0.726248  0.242424   \n",
       "1          1      2  0.283133  0.453019  0.352633  0.628019  0.212121   \n",
       "2          1      3  0.343373  0.369523  0.370527  0.710145  0.272727   \n",
       "3          1      4  0.343373  0.256159  0.331195  0.740741  0.318182   \n",
       "4          1      5  0.349398  0.257467  0.404625  0.668277  0.242424   \n",
       "\n",
       "   Sensor 9  Sensor 11  Sensor 12  Sensor 13  Sensor 14  Sensor 15  Sensor 17  \\\n",
       "0  0.109755   0.369048   0.633262   0.205882   0.199608   0.363986   0.333333   \n",
       "1  0.100242   0.380952   0.765458   0.279412   0.162813   0.411312   0.333333   \n",
       "2  0.140043   0.250000   0.795309   0.220588   0.171793   0.357445   0.166667   \n",
       "3  0.124518   0.166667   0.889126   0.294118   0.174889   0.166603   0.333333   \n",
       "4  0.149960   0.255952   0.746269   0.235294   0.174734   0.402078   0.416667   \n",
       "\n",
       "   Sensor 20  Sensor 21  Remaining RUL  \n",
       "0   0.713178   0.724662       0.529086  \n",
       "1   0.666667   0.731014       0.526316  \n",
       "2   0.627907   0.621375       0.523546  \n",
       "3   0.573643   0.662386       0.520776  \n",
       "4   0.589147   0.704502       0.518006  "
      ]
     },
     "execution_count": 9,
     "metadata": {},
     "output_type": "execute_result"
    }
   ],
   "source": [
    "# Normalization\n",
    "df = train_1.copy()\n",
    "scaled_columns = df.columns[2:]\n",
    "scaler = MinMaxScaler()\n",
    "df[scaled_columns] = scaler.fit_transform(df[scaled_columns])\n",
    "df.head()"
   ]
  },
  {
   "cell_type": "code",
   "execution_count": null,
   "metadata": {
    "colab": {
     "base_uri": "https://localhost:8080/"
    },
    "id": "aEF20VcwKTGO",
    "outputId": "cf776561-c63c-402e-fbe5-5066cccb8486"
   },
   "outputs": [
    {
     "name": "stderr",
     "output_type": "stream",
     "text": [
      "/usr/local/lib/python3.10/dist-packages/ipykernel/ipkernel.py:283: DeprecationWarning: `should_run_async` will not call `transform_cell` automatically in the future. Please pass the result to `transformed_cell` argument and any exception that happen during thetransform in `preprocessing_exc_tuple` in IPython 7.17 and above.\n",
      "  and should_run_async(code)\n"
     ]
    }
   ],
   "source": [
    "def split_dataset(dataset, num_clients):\n",
    "    \"\"\"\n",
    "    Chia dataset thành num_clients tập con đều nhau.\n",
    "    Args:\n",
    "        dataset: Dataset cần chia (torch.utils.data.Dataset).\n",
    "        num_clients: Số lượng tập con muốn tạo.\n",
    "    Returns:\n",
    "        List chứa các tập con của dataset.\n",
    "    \"\"\"\n",
    "    # Kích thước mỗi tập con\n",
    "    subset_size = len(dataset) // num_clients\n",
    "    sizes = [subset_size] * num_clients\n",
    "\n",
    "    # Chia phần dư (nếu tổng dataset không chia hết)\n",
    "    sizes[-1] += len(dataset) - sum(sizes)\n",
    "\n",
    "    # Tạo danh sách các tập con\n",
    "    subsets = random_split(dataset, sizes)\n",
    "    return subsets"
   ]
  },
  {
   "cell_type": "code",
   "execution_count": null,
   "metadata": {
    "id": "40i3tcFcKTGP"
   },
   "outputs": [],
   "source": [
    "class FD001DatasetLoader(Dataset):\n",
    "    def __init__(self, data, sequence_length=30):\n",
    "        self.data = data\n",
    "        self.sequence_length = sequence_length\n",
    "        self.sequences = []\n",
    "        self.targets = []\n",
    "\n",
    "        grouped = data.groupby('ID Engine')\n",
    "        for _, group in grouped:\n",
    "            values = group.drop(['ID Engine', 'Cycle', 'Remaining RUL'], axis=1).values\n",
    "            rul_values = group['Remaining RUL'].values\n",
    "\n",
    "            for i in range(len(values) - sequence_length + 1):\n",
    "                self.sequences.append(values[i:i + sequence_length])\n",
    "                self.targets.append(rul_values[i + sequence_length - 1])\n",
    "\n",
    "    def __len__(self):\n",
    "        return len(self.sequences)\n",
    "\n",
    "    def __getitem__(self, idx):\n",
    "        return (\n",
    "            torch.tensor(self.sequences[idx], dtype=torch.float32),\n",
    "            torch.tensor(self.targets[idx], dtype=torch.float32),\n",
    "        )\n"
   ]
  },
  {
   "cell_type": "code",
   "execution_count": null,
   "metadata": {
    "id": "QxlWHBZdKTGP"
   },
   "outputs": [],
   "source": [
    "dataset = FD001DatasetLoader(df)\n",
    "train_data, validation_data = train_test_split(dataset, test_size=0.2, random_state=42)\n",
    "\n",
    "num_clients = 10\n",
    "subsets_train = split_dataset(train_data, num_clients)\n",
    "subsets_validation = split_dataset(validation_data, num_clients)\n",
    "# Tạo DataLoader cho mỗi tập\n",
    "client_loader_trains = [DataLoader(subset, batch_size=32, shuffle=True) for subset in subsets_train]\n",
    "client_loader_validations = [DataLoader(subset, batch_size=32, shuffle=True) for subset in subsets_validation]\n",
    "\n",
    "# train_data, val_data = train_test_split(dataset, test_size=0.2, random_state=42)\n",
    "# train_loader = DataLoader(train_data, batch_size=32, shuffle=True)\n",
    "# val_loader = DataLoader(val_data, batch_size=32, shuffle=False)\n"
   ]
  },
  {
   "cell_type": "code",
   "execution_count": null,
   "metadata": {
    "colab": {
     "base_uri": "https://localhost:8080/"
    },
    "id": "_K9hW0s4KTGP",
    "outputId": "79d54ace-4e73-4efc-d632-aac544d98a9d"
   },
   "outputs": [
    {
     "name": "stdout",
     "output_type": "stream",
     "text": [
      "Client 1 will use a subset with 1418 samples\n",
      "Client 2 will use a subset with 1418 samples\n",
      "Client 3 will use a subset with 1418 samples\n",
      "Client 4 will use a subset with 1418 samples\n",
      "Client 5 will use a subset with 1418 samples\n",
      "Client 6 will use a subset with 1418 samples\n",
      "Client 7 will use a subset with 1418 samples\n",
      "Client 8 will use a subset with 1418 samples\n",
      "Client 9 will use a subset with 1418 samples\n",
      "Client 10 will use a subset with 1422 samples\n"
     ]
    },
    {
     "name": "stderr",
     "output_type": "stream",
     "text": [
      "/usr/local/lib/python3.10/dist-packages/ipykernel/ipkernel.py:283: DeprecationWarning: `should_run_async` will not call `transform_cell` automatically in the future. Please pass the result to `transformed_cell` argument and any exception that happen during thetransform in `preprocessing_exc_tuple` in IPython 7.17 and above.\n",
      "  and should_run_async(code)\n"
     ]
    }
   ],
   "source": [
    "for i, loader in enumerate(client_loader_trains):\n",
    "    print(f\"Client {i+1} will use a subset with {len(loader.dataset)} samples\")\n",
    "    # start_client(train_loader=loader, test_loader=test_loader)"
   ]
  },
  {
   "cell_type": "code",
   "execution_count": null,
   "metadata": {
    "colab": {
     "base_uri": "https://localhost:8080/"
    },
    "id": "YDg6bRvtKTGP",
    "outputId": "b151d253-0dee-4bac-c336-ce9cac72b303"
   },
   "outputs": [
    {
     "name": "stdout",
     "output_type": "stream",
     "text": [
      "Client 1 will use a subset with 354 samples\n",
      "Client 2 will use a subset with 354 samples\n",
      "Client 3 will use a subset with 354 samples\n",
      "Client 4 will use a subset with 354 samples\n",
      "Client 5 will use a subset with 354 samples\n",
      "Client 6 will use a subset with 354 samples\n",
      "Client 7 will use a subset with 354 samples\n",
      "Client 8 will use a subset with 354 samples\n",
      "Client 9 will use a subset with 354 samples\n",
      "Client 10 will use a subset with 361 samples\n"
     ]
    }
   ],
   "source": [
    "for i, loader in enumerate(client_loader_validations):\n",
    "    print(f\"Client {i+1} will use a subset with {len(loader.dataset)} samples\")\n",
    "    # start_client(train_loader=loader, test_loader=test_loader)"
   ]
  },
  {
   "cell_type": "markdown",
   "metadata": {
    "id": "ZvZLb7BXKTGP"
   },
   "source": [
    "## Step 1: Centralized Training with PyTorch"
   ]
  },
  {
   "cell_type": "markdown",
   "metadata": {
    "id": "Bsx50C1LKTGQ"
   },
   "source": [
    "#### Define the Transformer model"
   ]
  },
  {
   "cell_type": "code",
   "execution_count": null,
   "metadata": {
    "id": "440FOAEZKTGQ"
   },
   "outputs": [],
   "source": [
    "class TransformerModel(nn.Module):\n",
    "    def __init__(self, input_dim, d_model, nhead, num_layers, dim_feedforward, dropout):\n",
    "        super(TransformerModel, self).__init__()\n",
    "        self.input_embedding = nn.Linear(input_dim, d_model)\n",
    "        self.positional_encoding = nn.Parameter(torch.zeros(1, 5000, d_model))\n",
    "        self.transformer = nn.Transformer(\n",
    "            d_model=d_model,\n",
    "            nhead=nhead,\n",
    "            num_encoder_layers=num_layers,\n",
    "            num_decoder_layers=num_layers,\n",
    "            dim_feedforward=dim_feedforward,\n",
    "            dropout=dropout,\n",
    "            batch_first=True,\n",
    "        )\n",
    "        self.fc_out = nn.Linear(d_model, 1)\n",
    "\n",
    "    def forward(self, src):\n",
    "        src_emb = self.input_embedding(src) + self.positional_encoding[:, :src.size(1), :]\n",
    "        src_emb = src_emb.permute(1, 0, 2)  # [seq_len, batch_size, d_model]\n",
    "        transformer_out = self.transformer(src_emb, src_emb)\n",
    "        output = self.fc_out(transformer_out[-1, :, :])  # Lấy giá trị cuối\n",
    "        return output.squeeze(-1)"
   ]
  },
  {
   "cell_type": "markdown",
   "metadata": {
    "id": "t4ogUj-MKTGQ"
   },
   "source": [
    "#### Define train function the model"
   ]
  },
  {
   "cell_type": "code",
   "execution_count": null,
   "metadata": {
    "id": "SRvVuP4IKTGQ"
   },
   "outputs": [],
   "source": [
    "def train(model, client_loader_train, client_loader_validation: None, epochs: int, verbose=False):\n",
    "    input_dim = 14\n",
    "    model = model.to(DEVICE)\n",
    "\n",
    "    criterion = nn.MSELoss()\n",
    "    optimizer = torch.optim.Adam(model.parameters(), lr=1e-4)\n",
    "\n",
    "    # Training Loop\n",
    "    for epoch in range(epochs):\n",
    "        model.train()\n",
    "        train_loss = 0\n",
    "        for batch in client_loader_train:\n",
    "            seq, target = batch\n",
    "            seq, target = seq.to(DEVICE), target.to(DEVICE)\n",
    "\n",
    "            optimizer.zero_grad()\n",
    "            output = model(seq)\n",
    "            loss = criterion(output, target)\n",
    "            loss.backward()\n",
    "            optimizer.step()\n",
    "            train_loss += loss.item()\n",
    "\n",
    "        val_loss = 0\n",
    "        model.eval()\n",
    "        with torch.no_grad():\n",
    "            for batch in client_loader_validation:\n",
    "                seq, target = batch\n",
    "                seq, target = seq.to(DEVICE), target.to(DEVICE)\n",
    "                output = model(seq)\n",
    "                loss = criterion(output, target)\n",
    "                val_loss += loss.item()\n",
    "\n",
    "        print(f\"Epoch {epoch + 1}: Train Loss = {train_loss / len(client_loader_train)}, Val Loss = {val_loss / len(client_loader_validation)}\")"
   ]
  },
  {
   "cell_type": "code",
   "execution_count": null,
   "metadata": {
    "id": "VTxEDEKyD33X"
   },
   "outputs": [],
   "source": [
    "def predict_on_batch(model, client_loader_validation, return_actual_rul=False, show_fig=False):\n",
    "    criterion = nn.MSELoss()\n",
    "    # Lấy một vài mẫu dữ liệu từ tập val_loader\n",
    "    samples, targets = next(iter(client_loader_validation))  # Lấy một batch từ validation set\n",
    "    samples, targets = samples.to(DEVICE), targets.to(DEVICE)\n",
    "\n",
    "    # Dự đoán với model\n",
    "    model.eval()\n",
    "    val_loss = 0\n",
    "    with torch.no_grad():\n",
    "        predictions = model(samples)  # [batch_size]\n",
    "    val_loss = criterion(predictions, targets)\n",
    "\n",
    "    if return_actual_rul:\n",
    "        # Đưa kết quả về CPU để xử lý\n",
    "        samples = samples.cpu()\n",
    "        targets = targets.cpu()\n",
    "        predictions = predictions.cpu()\n",
    "\n",
    "        # Đảo chuẩn hóa dữ liệu\n",
    "        rul_min = scaler.data_min_[-1]\n",
    "        rul_max = scaler.data_max_[-1]\n",
    "\n",
    "        # Đưa predictions và targets về dạng thực tế\n",
    "        actual_predictions = predictions.numpy() * (rul_max - rul_min) + rul_min\n",
    "        actual_targets = targets.numpy() * (rul_max - rul_min) + rul_min\n",
    "\n",
    "        if show_fig:\n",
    "            # Vẽ biểu đồ so sánh dự đoán và giá trị thực tế\n",
    "            plt.figure(figsize=(10, 6))\n",
    "            plt.plot(range(len(actual_predictions)), actual_predictions, label=\"Predicted RUL\", marker='o', linestyle='-')\n",
    "            plt.plot(range(len(actual_targets)), actual_targets, label=\"Actual RUL\", marker='x', linestyle='--')\n",
    "            plt.title(\"Comparison of Predicted and Actual RUL\")\n",
    "            plt.xlabel(\"Sample Index\")\n",
    "            plt.ylabel(\"Remaining Useful Life (RUL)\")\n",
    "            plt.legend()\n",
    "            plt.grid(True)\n",
    "            plt.show()\n",
    "\n",
    "        return val_loss, actual_predictions, actual_targets\n",
    "\n",
    "    return val_loss\n"
   ]
  },
  {
   "cell_type": "code",
   "execution_count": null,
   "metadata": {
    "id": "79XXCrdPKTGQ"
   },
   "outputs": [],
   "source": [
    "def test(model, client_loader_validation, return_actual_rul=False, show_fig=False):\n",
    "    criterion = nn.MSELoss()\n",
    "\n",
    "    samples, targets = next(iter(client_loader_validation))\n",
    "    samples, targets = samples.to(DEVICE), targets.to(DEVICE)\n",
    "\n",
    "    # Dự đoán với model\n",
    "    model.eval()\n",
    "    val_loss = 0\n",
    "    accuracys = 0\n",
    "    with torch.no_grad():\n",
    "      for batch in client_loader_validation:\n",
    "        samples, targets = batch\n",
    "        samples, targets = samples.to(DEVICE), targets.to(DEVICE)\n",
    "        predictions = model(samples)\n",
    "        val_loss += criterion(predictions, targets).item()\n",
    "    return val_loss / len(client_loader_validation)\n"
   ]
  },
  {
   "cell_type": "markdown",
   "metadata": {
    "id": "Kok_qty4KTGQ"
   },
   "source": [
    "#### Train the model (Centralized Transformer model)"
   ]
  },
  {
   "cell_type": "code",
   "execution_count": null,
   "metadata": {
    "colab": {
     "base_uri": "https://localhost:8080/"
    },
    "id": "AK5rXE3WKTGQ",
    "outputId": "764520c8-3869-4bd4-cc9c-be17a957bf1a"
   },
   "outputs": [
    {
     "name": "stdout",
     "output_type": "stream",
     "text": [
      "Epoch 1: Train Loss = 0.07664164370960659, Val Loss = 0.02200596189747254\n",
      "Epoch 2: Train Loss = 0.03975809916026062, Val Loss = 0.02226012883086999\n",
      "Epoch 3: Train Loss = 0.032495418708357544, Val Loss = 0.018946356528128188\n",
      "Epoch 4: Train Loss = 0.027713514616092047, Val Loss = 0.016423588696246345\n",
      "Epoch 5: Train Loss = 0.02586087394091818, Val Loss = 0.020142849534749985\n"
     ]
    }
   ],
   "source": [
    "model = TransformerModel(input_dim=14, d_model=64, nhead=4, num_layers=2, dim_feedforward=256, dropout=0.1)\n",
    "model = model.to(DEVICE)\n",
    "train(model=model, client_loader_train=client_loader_trains[0], client_loader_validation=client_loader_validations[0], epochs=5)"
   ]
  },
  {
   "cell_type": "code",
   "execution_count": null,
   "metadata": {
    "colab": {
     "base_uri": "https://localhost:8080/",
     "height": 564
    },
    "id": "gnSCpN1TKTGR",
    "outputId": "877ebfde-68de-4a9f-9a05-b5bfde5087ca"
   },
   "outputs": [
    {
     "data": {
      "image/png": "[encoded data removed]",
      "text/plain": [
       "<Figure size 1000x600 with 1 Axes>"
      ]
     },
     "metadata": {},
     "output_type": "display_data"
    }
   ],
   "source": [
    "# Dùng tạm validation của client 1 test thử cho model client 0 ở trên!\n",
    "loss, return_actual_rul, actual_target = predict_on_batch(model=model, client_loader_validation=client_loader_validations[1], return_actual_rul=True, show_fig=True)\n",
    "print(f'loss={loss}')\n",
    "print(f'actual rul = {return_actual_rul}')\n",
    "print(f'actual target={actual_target}')"
   ]
  },
  {
   "cell_type": "code",
   "execution_count": null,
   "metadata": {
    "colab": {
     "base_uri": "https://localhost:8080/"
    },
    "id": "KVRHrJXPKTGR",
    "outputId": "6dc84b58-f635-47e4-9691-314c41476ed7"
   },
   "outputs": [
    {
     "name": "stdout",
     "output_type": "stream",
     "text": [
      "loss=0.018354449421167374\n",
      "actual rul = [ 61.24124   164.34935   129.50685    94.42528   117.19862    98.6165\n",
      " 132.25215    95.201256  160.39957   108.02502   143.30772    93.37031\n",
      "  36.64953    -1.1875869  49.89301   132.05595   203.25703    23.541069\n",
      " 167.42552   141.35745    68.45329   178.59053   103.79575   188.68091\n",
      " 157.7042    133.8417    160.15533   124.67853   121.44043    26.141249\n",
      "  94.9806    180.63242  ]\n",
      "actual target=[ 46.       115.       120.99999   43.       157.        74.\n",
      "  62.        48.        83.       206.        78.        34.\n",
      "  25.000002   1.        28.        58.000004 249.         3.\n",
      " 112.        85.        62.       142.        58.000004 156.\n",
      " 101.        56.999996 215.       152.       162.         6.\n",
      "  40.       148.      ]\n",
      "loss=0.02156597562134266\n",
      "actual rul = [104.18022   93.31729  169.99892  128.83382  173.5235   100.97742\n",
      " 164.09377  187.09375   11.104717  58.2817   136.24316  166.2455\n",
      " 103.27708   86.80374  131.3366   129.10936  165.32066   46.40543\n",
      " 117.679535 187.90092   83.35839  132.78908  128.9422   155.20811\n",
      " 138.6765   174.98387   21.076103 114.11516  122.01204  115.8309\n",
      " 187.88432   92.509575]\n",
      "actual target=[ 42.        63.       143.       171.       146.        34.\n",
      " 110.       159.         4.        48.999996 102.00001  146.\n",
      " 102.00001   75.        61.       101.       116.00001   46.\n",
      "  92.       212.        64.        47.        52.       301.\n",
      " 185.       124.         5.        55.        93.00001  237.\n",
      " 163.        39.      ]\n"
     ]
    }
   ],
   "source": [
    "# Dùng tạm validation của client 1 test thử cho model client 0 ở trên!\n",
    "loss, return_actual_rul, actual_target = predict_on_batch(model=model, client_loader_validation=client_loader_validations[2], return_actual_rul=True, show_fig=False)\n",
    "print(f'loss={loss}')\n",
    "print(f'actual rul = {return_actual_rul}')\n",
    "print(f'actual target={actual_target}')"
   ]
  },
  {
   "cell_type": "markdown",
   "metadata": {
    "id": "f50ogKCvKTGR"
   },
   "source": [
    "## Step 2: Federated Learning with Flower"
   ]
  },
  {
   "cell_type": "markdown",
   "metadata": {
    "id": "fLwiqv8-KTGR"
   },
   "source": [
    "#### Update model parameters"
   ]
  },
  {
   "cell_type": "code",
   "execution_count": null,
   "metadata": {
    "id": "1R-Dp06vKTGR"
   },
   "outputs": [],
   "source": [
    "def set_parameters(model, parameters: List[np.ndarray]):\n",
    "    params_dict = zip(model.state_dict().keys(), parameters)\n",
    "    state_dict = OrderedDict({k: torch.Tensor(v) for k, v in params_dict})\n",
    "    model.load_state_dict(state_dict, strict=True)\n",
    "\n",
    "def get_parameters(model) -> List[np.ndarray]:\n",
    "    return [val.cpu().numpy() for _, val in model.state_dict().items()]"
   ]
  },
  {
   "cell_type": "markdown",
   "metadata": {
    "id": "1vUxlDjlKTGR"
   },
   "source": [
    "#### Define the Flower ClientApp"
   ]
  },
  {
   "cell_type": "code",
   "execution_count": null,
   "metadata": {
    "id": "iZbSE5-OKTGR"
   },
   "outputs": [],
   "source": [
    "class FlowerClient(NumPyClient):\n",
    "    def __init__(self, model, client_loader_train, client_loader_validation):\n",
    "        self.model = model\n",
    "        self.trainloader = client_loader_train\n",
    "        self.valloader = client_loader_validation\n",
    "\n",
    "    def get_parameters(self, config):\n",
    "        return get_parameters(self.model)\n",
    "\n",
    "    def fit(self, parameters, config):\n",
    "        set_parameters(self.model, parameters)\n",
    "        train(model=self.model, client_loader_train=self.trainloader, client_loader_validation=self.valloader, epochs=1)\n",
    "        return get_parameters(self.model), len(self.trainloader), {}\n",
    "\n",
    "    def evaluate(self, parameters, config):\n",
    "        set_parameters(self.model, parameters)\n",
    "        # loss, accuracy = test(self.model, self.valloader)\n",
    "        loss = test(\n",
    "            model=self.model,\n",
    "            client_loader_validation=self.valloader,\n",
    "            return_actual_rul=False,\n",
    "            show_fig=False\n",
    "        )\n",
    "        return float(loss), len(self.valloader), {\"accuracy\": float(0.0)}"
   ]
  },
  {
   "cell_type": "code",
   "execution_count": null,
   "metadata": {
    "id": "V5jLc-XNKTGS"
   },
   "outputs": [],
   "source": [
    "def client_fn(context: Context) -> Client:\n",
    "    \"\"\"Create a Flower client representing a single organization.\"\"\"\n",
    "\n",
    "    # Load model\n",
    "    model = TransformerModel(input_dim=14, d_model=64, nhead=4, num_layers=2, dim_feedforward=256, dropout=0.1).to(DEVICE)\n",
    "\n",
    "    # Load data (CIFAR-10)\n",
    "    # Note: each client gets a different trainloader/valloader, so each client\n",
    "    # will train and evaluate on their own unique data partition\n",
    "    # Read the node_config to fetch data partition associated to this node\n",
    "    partition_id = context.node_config[\"partition-id\"]\n",
    "    trainloader = client_loader_trains[partition_id]\n",
    "    valloader = client_loader_validations[partition_id]\n",
    "\n",
    "    # Create a single Flower client representing a single organization\n",
    "    # FlowerClient is a subclass of NumPyClient, so we need to call .to_client()\n",
    "    # to convert it to a subclass of `flwr.client.Client`\n",
    "    return FlowerClient(model, trainloader, valloader).to_client()\n",
    "\n",
    "\n",
    "# Create the ClientApp\n",
    "client = ClientApp(client_fn=client_fn)"
   ]
  },
  {
   "cell_type": "markdown",
   "metadata": {
    "id": "fJ4YLNsFKTGS"
   },
   "source": [
    "#### Define the Flower ServerApp"
   ]
  },
  {
   "cell_type": "code",
   "execution_count": null,
   "metadata": {
    "id": "tN_jcj0cKTGS"
   },
   "outputs": [],
   "source": [
    "# Create FedAvg strategy\n",
    "strategy = FedAvg(\n",
    "    fraction_fit=1.0,  # Sample 100% of available clients for training\n",
    "    fraction_evaluate=0.5,  # Sample 50% of available clients for evaluation\n",
    "    min_fit_clients=10,  # Never sample less than 10 clients for training\n",
    "    min_evaluate_clients=5,  # Never sample less than 5 clients for evaluation\n",
    "    min_available_clients=10,  # Wait until all 10 clients are available\n",
    ")"
   ]
  },
  {
   "cell_type": "code",
   "execution_count": null,
   "metadata": {
    "id": "N5-4anggKTGS"
   },
   "outputs": [],
   "source": [
    "def server_fn(context: Context) -> ServerAppComponents:\n",
    "    \"\"\"Construct components that set the ServerApp behaviour.\n",
    "\n",
    "    You can use the settings in `context.run_config` to parameterize the\n",
    "    construction of all elements (e.g the strategy or the number of rounds)\n",
    "    wrapped in the returned ServerAppComponents object.\n",
    "    \"\"\"\n",
    "\n",
    "    # Configure the server for 5 rounds of training\n",
    "    config = ServerConfig(num_rounds=5)\n",
    "\n",
    "    return ServerAppComponents(strategy=strategy, config=config)\n",
    "\n",
    "\n",
    "# Create the ServerApp\n",
    "server = ServerApp(server_fn=server_fn)"
   ]
  },
  {
   "cell_type": "markdown",
   "metadata": {
    "id": "4dsyFffBKTGS"
   },
   "source": [
    "#### Run the training"
   ]
  },
  {
   "cell_type": "code",
   "execution_count": null,
   "metadata": {
    "id": "pf6krCAeKTGS"
   },
   "outputs": [],
   "source": [
    "# Specify the resources each of your clients need\n",
    "# By default, each client will be allocated 1x CPU and 0x GPUs\n",
    "backend_config = {\"client_resources\": {\"num_cpus\": 1, \"num_gpus\": 0.0}}\n",
    "\n",
    "# When running on GPU, assign an entire GPU for each client\n",
    "# if DEVICE.type == \"cuda\":\n",
    "#     backend_config = {\"client_resources\": {\"num_cpus\": 1, \"num_gpus\": 1.0}}\n",
    "    # Refer to our Flower framework documentation for more details about Flower simulations\n",
    "    # and how to set up the `backend_config`"
   ]
  },
  {
   "cell_type": "code",
   "execution_count": null,
   "metadata": {
    "colab": {
     "base_uri": "https://localhost:8080/"
    },
    "id": "RuHd_DlaKTGS",
    "outputId": "32bb011a-8e9f-4f3a-bf19-4c9c366ad21f"
   },
   "outputs": [
    {
     "name": "stderr",
     "output_type": "stream",
     "text": [
      "DEBUG:flwr:Asyncio event loop already running.\n",
      "\u001b[92mINFO \u001b[0m:      Starting Flower ServerApp, config: num_rounds=5, no round_timeout\n",
      "\u001b[92mINFO \u001b[0m:      \n",
      "\u001b[92mINFO \u001b[0m:      [INIT]\n",
      "\u001b[92mINFO \u001b[0m:      Requesting initial parameters from one random client\n",
      "\u001b[36m(pid=58532)\u001b[0m 2024-11-27 14:59:03.340064: E external/local_xla/xla/stream_executor/cuda/cuda_fft.cc:485] Unable to register cuFFT factory: Attempting to register factory for plugin cuFFT when one has already been registered\n",
      "\u001b[36m(pid=58532)\u001b[0m 2024-11-27 14:59:03.444439: E external/local_xla/xla/stream_executor/cuda/cuda_dnn.cc:8454] Unable to register cuDNN factory: Attempting to register factory for plugin cuDNN when one has already been registered\n",
      "\u001b[36m(pid=58532)\u001b[0m 2024-11-27 14:59:03.577365: E external/local_xla/xla/stream_executor/cuda/cuda_blas.cc:1452] Unable to register cuBLAS factory: Attempting to register factory for plugin cuBLAS when one has already been registered\n",
      "\u001b[36m(pid=58531)\u001b[0m 2024-11-27 14:59:04.151011: E external/local_xla/xla/stream_executor/cuda/cuda_fft.cc:485] Unable to register cuFFT factory: Attempting to register factory for plugin cuFFT when one has already been registered\n",
      "\u001b[36m(pid=58531)\u001b[0m 2024-11-27 14:59:04.240157: E external/local_xla/xla/stream_executor/cuda/cuda_dnn.cc:8454] Unable to register cuDNN factory: Attempting to register factory for plugin cuDNN when one has already been registered\n",
      "\u001b[36m(pid=58531)\u001b[0m 2024-11-27 14:59:04.270811: E external/local_xla/xla/stream_executor/cuda/cuda_blas.cc:1452] Unable to register cuBLAS factory: Attempting to register factory for plugin cuBLAS when one has already been registered\n",
      "\u001b[36m(pid=58532)\u001b[0m 2024-11-27 14:59:07.850689: W tensorflow/compiler/tf2tensorrt/utils/py_utils.cc:38] TF-TRT Warning: Could not find TensorRT\n",
      "\u001b[36m(pid=58531)\u001b[0m 2024-11-27 14:59:08.743503: W tensorflow/compiler/tf2tensorrt/utils/py_utils.cc:38] TF-TRT Warning: Could not find TensorRT\n",
      "\u001b[92mINFO \u001b[0m:      Received initial parameters from one random client\n",
      "\u001b[92mINFO \u001b[0m:      Starting evaluation of initial global parameters\n",
      "\u001b[92mINFO \u001b[0m:      Evaluation returned no results (`None`)\n",
      "\u001b[92mINFO \u001b[0m:      \n",
      "\u001b[92mINFO \u001b[0m:      [ROUND 1]\n",
      "\u001b[92mINFO \u001b[0m:      configure_fit: strategy sampled 10 clients (out of 10)\n"
     ]
    },
    {
     "name": "stdout",
     "output_type": "stream",
     "text": [
      "\u001b[36m(ClientAppActor pid=58532)\u001b[0m Epoch 1: Train Loss = 0.09795108056730695, Val Loss = 0.03170444207110753\n",
      "\u001b[36m(ClientAppActor pid=58531)\u001b[0m Epoch 1: Train Loss = 0.10635785319738918, Val Loss = 0.02938928548246622\n",
      "\u001b[36m(ClientAppActor pid=58532)\u001b[0m Epoch 1: Train Loss = 0.10395277854469087, Val Loss = 0.03340352140367031\n",
      "\u001b[36m(ClientAppActor pid=58531)\u001b[0m Epoch 1: Train Loss = 0.10997434241904153, Val Loss = 0.04048606792154411\n",
      "\u001b[36m(ClientAppActor pid=58532)\u001b[0m Epoch 1: Train Loss = 0.10574049618509081, Val Loss = 0.03525097326685985\n",
      "\u001b[36m(ClientAppActor pid=58531)\u001b[0m Epoch 1: Train Loss = 0.11058750222954485, Val Loss = 0.02979716643070181\n",
      "\u001b[36m(ClientAppActor pid=58531)\u001b[0m Epoch 1: Train Loss = 0.10059587731957435, Val Loss = 0.02803891741981109\n",
      "\u001b[36m(ClientAppActor pid=58532)\u001b[0m Epoch 1: Train Loss = 0.10858549831642045, Val Loss = 0.03569062473252416\n"
     ]
    },
    {
     "name": "stderr",
     "output_type": "stream",
     "text": [
      "\u001b[92mINFO \u001b[0m:      aggregate_fit: received 10 results and 0 failures\n",
      "\u001b[93mWARNING \u001b[0m:   No fit_metrics_aggregation_fn provided\n",
      "\u001b[92mINFO \u001b[0m:      configure_evaluate: strategy sampled 5 clients (out of 10)\n"
     ]
    },
    {
     "name": "stdout",
     "output_type": "stream",
     "text": [
      "\u001b[36m(ClientAppActor pid=58532)\u001b[0m Epoch 1: Train Loss = 0.10783408656716346, Val Loss = 0.027129874952758353\n",
      "\u001b[36m(ClientAppActor pid=58531)\u001b[0m Epoch 1: Train Loss = 0.10648806202742789, Val Loss = 0.02683653822168708\n"
     ]
    },
    {
     "name": "stderr",
     "output_type": "stream",
     "text": [
      "\u001b[92mINFO \u001b[0m:      aggregate_evaluate: received 5 results and 0 failures\n",
      "\u001b[93mWARNING \u001b[0m:   No evaluate_metrics_aggregation_fn provided\n",
      "\u001b[92mINFO \u001b[0m:      \n",
      "\u001b[92mINFO \u001b[0m:      [ROUND 2]\n",
      "\u001b[92mINFO \u001b[0m:      configure_fit: strategy sampled 10 clients (out of 10)\n"
     ]
    },
    {
     "name": "stdout",
     "output_type": "stream",
     "text": [
      "\u001b[36m(ClientAppActor pid=58531)\u001b[0m Epoch 1: Train Loss = 0.04984673195415073, Val Loss = 0.021501801442354918\n",
      "\u001b[36m(ClientAppActor pid=58532)\u001b[0m Epoch 1: Train Loss = 0.044769924092623925, Val Loss = 0.017051366933931906\n",
      "\u001b[36m(ClientAppActor pid=58531)\u001b[0m Epoch 1: Train Loss = 0.04894128267963727, Val Loss = 0.01458819714995722\n",
      "\u001b[36m(ClientAppActor pid=58532)\u001b[0m Epoch 1: Train Loss = 0.04577922547856967, Val Loss = 0.015548386028967798\n",
      "\u001b[36m(ClientAppActor pid=58532)\u001b[0m Epoch 1: Train Loss = 0.05049187950789928, Val Loss = 0.017090242123231292\n",
      "\u001b[36m(ClientAppActor pid=58531)\u001b[0m Epoch 1: Train Loss = 0.0529716939975818, Val Loss = 0.013171990790093938\n",
      "\u001b[36m(ClientAppActor pid=58532)\u001b[0m Epoch 1: Train Loss = 0.05017315699822373, Val Loss = 0.0153311663113224\n",
      "\u001b[36m(ClientAppActor pid=58531)\u001b[0m Epoch 1: Train Loss = 0.053391016398866974, Val Loss = 0.015771552299459774\n",
      "\u001b[36m(ClientAppActor pid=58532)\u001b[0m Epoch 1: Train Loss = 0.05175882445441352, Val Loss = 0.022823166490222018\n"
     ]
    },
    {
     "name": "stderr",
     "output_type": "stream",
     "text": [
      "\u001b[92mINFO \u001b[0m:      aggregate_fit: received 10 results and 0 failures\n",
      "\u001b[92mINFO \u001b[0m:      configure_evaluate: strategy sampled 5 clients (out of 10)\n"
     ]
    },
    {
     "name": "stdout",
     "output_type": "stream",
     "text": [
      "\u001b[36m(ClientAppActor pid=58531)\u001b[0m Epoch 1: Train Loss = 0.05234931107196543, Val Loss = 0.016018732528512675\n"
     ]
    },
    {
     "name": "stderr",
     "output_type": "stream",
     "text": [
      "\u001b[92mINFO \u001b[0m:      aggregate_evaluate: received 5 results and 0 failures\n",
      "\u001b[92mINFO \u001b[0m:      \n",
      "\u001b[92mINFO \u001b[0m:      [ROUND 3]\n",
      "\u001b[92mINFO \u001b[0m:      configure_fit: strategy sampled 10 clients (out of 10)\n"
     ]
    },
    {
     "name": "stdout",
     "output_type": "stream",
     "text": [
      "\u001b[36m(ClientAppActor pid=58531)\u001b[0m Epoch 1: Train Loss = 0.03657064777281549, Val Loss = 0.023842618296233315\n",
      "\u001b[36m(ClientAppActor pid=58532)\u001b[0m Epoch 1: Train Loss = 0.03529206737875938, Val Loss = 0.015715619587960344\n",
      "\u001b[36m(ClientAppActor pid=58531)\u001b[0m Epoch 1: Train Loss = 0.03575469797684087, Val Loss = 0.01867815355459849\n",
      "\u001b[36m(ClientAppActor pid=58532)\u001b[0m Epoch 1: Train Loss = 0.036345464549958705, Val Loss = 0.020488942643472303\n",
      "\u001b[36m(ClientAppActor pid=58531)\u001b[0m Epoch 1: Train Loss = 0.0362115011860927, Val Loss = 0.021657965301225584\n",
      "\u001b[36m(ClientAppActor pid=58532)\u001b[0m Epoch 1: Train Loss = 0.03187300624946753, Val Loss = 0.013897194294258952\n",
      "\u001b[36m(ClientAppActor pid=58531)\u001b[0m Epoch 1: Train Loss = 0.03412766754627228, Val Loss = 0.013228419702500105\n",
      "\u001b[36m(ClientAppActor pid=58532)\u001b[0m Epoch 1: Train Loss = 0.03633979991492298, Val Loss = 0.0158623605966568\n",
      "\u001b[36m(ClientAppActor pid=58531)\u001b[0m Epoch 1: Train Loss = 0.0367779495815436, Val Loss = 0.020577907795086503\n"
     ]
    },
    {
     "name": "stderr",
     "output_type": "stream",
     "text": [
      "\u001b[92mINFO \u001b[0m:      aggregate_fit: received 10 results and 0 failures\n",
      "\u001b[92mINFO \u001b[0m:      configure_evaluate: strategy sampled 5 clients (out of 10)\n"
     ]
    },
    {
     "name": "stdout",
     "output_type": "stream",
     "text": [
      "\u001b[36m(ClientAppActor pid=58532)\u001b[0m Epoch 1: Train Loss = 0.03631984583205647, Val Loss = 0.01847066458625098\n"
     ]
    },
    {
     "name": "stderr",
     "output_type": "stream",
     "text": [
      "\u001b[92mINFO \u001b[0m:      aggregate_evaluate: received 5 results and 0 failures\n",
      "\u001b[92mINFO \u001b[0m:      \n",
      "\u001b[92mINFO \u001b[0m:      [ROUND 4]\n",
      "\u001b[92mINFO \u001b[0m:      configure_fit: strategy sampled 10 clients (out of 10)\n"
     ]
    },
    {
     "name": "stdout",
     "output_type": "stream",
     "text": [
      "\u001b[36m(ClientAppActor pid=58532)\u001b[0m Epoch 1: Train Loss = 0.028943592278907696, Val Loss = 0.014950489237283668\n",
      "\u001b[36m(ClientAppActor pid=58531)\u001b[0m Epoch 1: Train Loss = 0.029235802011357413, Val Loss = 0.020860686898231506\n",
      "\u001b[36m(ClientAppActor pid=58532)\u001b[0m Epoch 1: Train Loss = 0.030072501053412755, Val Loss = 0.014113907076534815\n",
      "\u001b[36m(ClientAppActor pid=58531)\u001b[0m Epoch 1: Train Loss = 0.03034919887367222, Val Loss = 0.011027322449384277\n",
      "\u001b[36m(ClientAppActor pid=58532)\u001b[0m Epoch 1: Train Loss = 0.030172157742910915, Val Loss = 0.02039874290737013\n",
      "\u001b[36m(ClientAppActor pid=58531)\u001b[0m Epoch 1: Train Loss = 0.027170518330401846, Val Loss = 0.01521228754427284\n",
      "\u001b[36m(ClientAppActor pid=58532)\u001b[0m Epoch 1: Train Loss = 0.03118438459932804, Val Loss = 0.01226028895083194\n",
      "\u001b[36m(ClientAppActor pid=58531)\u001b[0m Epoch 1: Train Loss = 0.027611368294391366, Val Loss = 0.012225257271590332\n",
      "\u001b[36m(ClientAppActor pid=58532)\u001b[0m Epoch 1: Train Loss = 0.02622234279082881, Val Loss = 0.02454090164974332\n"
     ]
    },
    {
     "name": "stderr",
     "output_type": "stream",
     "text": [
      "\u001b[92mINFO \u001b[0m:      aggregate_fit: received 10 results and 0 failures\n",
      "\u001b[92mINFO \u001b[0m:      configure_evaluate: strategy sampled 5 clients (out of 10)\n"
     ]
    },
    {
     "name": "stdout",
     "output_type": "stream",
     "text": [
      "\u001b[36m(ClientAppActor pid=58531)\u001b[0m Epoch 1: Train Loss = 0.03038713393939866, Val Loss = 0.013663850724697113\n"
     ]
    },
    {
     "name": "stderr",
     "output_type": "stream",
     "text": [
      "\u001b[92mINFO \u001b[0m:      aggregate_evaluate: received 5 results and 0 failures\n",
      "\u001b[92mINFO \u001b[0m:      \n",
      "\u001b[92mINFO \u001b[0m:      [ROUND 5]\n",
      "\u001b[92mINFO \u001b[0m:      configure_fit: strategy sampled 10 clients (out of 10)\n"
     ]
    },
    {
     "name": "stdout",
     "output_type": "stream",
     "text": [
      "\u001b[36m(ClientAppActor pid=58531)\u001b[0m Epoch 1: Train Loss = 0.025667661531931823, Val Loss = 0.016204018456240494\n",
      "\u001b[36m(ClientAppActor pid=58532)\u001b[0m Epoch 1: Train Loss = 0.026456471925808325, Val Loss = 0.015870836252967518\n",
      "\u001b[36m(ClientAppActor pid=58531)\u001b[0m Epoch 1: Train Loss = 0.024237127312355573, Val Loss = 0.012454430339857936\n",
      "\u001b[36m(ClientAppActor pid=58532)\u001b[0m Epoch 1: Train Loss = 0.023922017816868094, Val Loss = 0.010684230209638676\n",
      "\u001b[36m(ClientAppActor pid=58532)\u001b[0m Epoch 1: Train Loss = 0.02375730029824707, Val Loss = 0.018868665288512904\n",
      "\u001b[36m(ClientAppActor pid=58531)\u001b[0m Epoch 1: Train Loss = 0.026761047686967583, Val Loss = 0.015352458925917745\n",
      "\u001b[36m(ClientAppActor pid=58532)\u001b[0m Epoch 1: Train Loss = 0.025131272172762287, Val Loss = 0.013494610320776701\n",
      "\u001b[36m(ClientAppActor pid=58531)\u001b[0m Epoch 1: Train Loss = 0.025160811758703657, Val Loss = 0.016975463988880318\n",
      "\u001b[36m(ClientAppActor pid=58532)\u001b[0m Epoch 1: Train Loss = 0.023364160292678408, Val Loss = 0.013007798076917728\n"
     ]
    },
    {
     "name": "stderr",
     "output_type": "stream",
     "text": [
      "\u001b[92mINFO \u001b[0m:      aggregate_fit: received 10 results and 0 failures\n",
      "\u001b[92mINFO \u001b[0m:      configure_evaluate: strategy sampled 5 clients (out of 10)\n"
     ]
    },
    {
     "name": "stdout",
     "output_type": "stream",
     "text": [
      "\u001b[36m(ClientAppActor pid=58531)\u001b[0m Epoch 1: Train Loss = 0.02896947796559996, Val Loss = 0.01387082509851704\n"
     ]
    },
    {
     "name": "stderr",
     "output_type": "stream",
     "text": [
      "\u001b[92mINFO \u001b[0m:      aggregate_evaluate: received 5 results and 0 failures\n",
      "\u001b[92mINFO \u001b[0m:      \n",
      "\u001b[92mINFO \u001b[0m:      [SUMMARY]\n",
      "\u001b[92mINFO \u001b[0m:      Run finished 5 round(s) in 879.27s\n",
      "\u001b[92mINFO \u001b[0m:      \tHistory (loss, distributed):\n",
      "\u001b[92mINFO \u001b[0m:      \t\tround 1: 0.03347433324282368\n",
      "\u001b[92mINFO \u001b[0m:      \t\tround 2: 0.01675256421828332\n",
      "\u001b[92mINFO \u001b[0m:      \t\tround 3: 0.01778992675244808\n",
      "\u001b[92mINFO \u001b[0m:      \t\tround 4: 0.013557928311638535\n",
      "\u001b[92mINFO \u001b[0m:      \t\tround 5: 0.014129420419825086\n",
      "\u001b[92mINFO \u001b[0m:      \n"
     ]
    }
   ],
   "source": [
    "# Run simulation\n",
    "NUM_CLIENTS = 10\n",
    "run_simulation(\n",
    "    server_app=server,\n",
    "    client_app=client,\n",
    "    num_supernodes=NUM_CLIENTS,\n",
    "    backend_config=backend_config,\n",
    ")"
   ]
  },
  {
   "cell_type": "markdown",
   "metadata": {
    "id": "Fpp6sn10KTGS"
   },
   "source": [
    "#### Where's the accuracy?"
   ]
  },
  {
   "cell_type": "code",
   "execution_count": null,
   "metadata": {
    "colab": {
     "base_uri": "https://localhost:8080/"
    },
    "id": "pyZWXSHBKTGS",
    "outputId": "9078e5fe-abed-4803-fa68-47fb360f2e0f"
   },
   "outputs": [
    {
     "name": "stderr",
     "output_type": "stream",
     "text": [
      "/usr/local/lib/python3.10/dist-packages/ipykernel/ipkernel.py:283: DeprecationWarning: `should_run_async` will not call `transform_cell` automatically in the future. Please pass the result to `transformed_cell` argument and any exception that happen during thetransform in `preprocessing_exc_tuple` in IPython 7.17 and above.\n",
      "  and should_run_async(code)\n"
     ]
    }
   ],
   "source": [
    "# def weighted_average(metrics: List[Tuple[int, Metrics]]) -> Metrics:\n",
    "#     # Multiply accuracy of each client by number of examples used\n",
    "#     accuracies = [num_examples * m[\"accuracy\"] for num_examples, m in metrics]\n",
    "#     examples = [num_examples for num_examples, _ in metrics]\n",
    "\n",
    "#     # Aggregate and return custom metric (weighted average)\n",
    "#     return {\"accuracy\": sum(accuracies) / sum(examples)}"
   ]
  },
  {
   "cell_type": "code",
   "execution_count": null,
   "metadata": {
    "id": "Pb0QmZqxKTGS"
   },
   "outputs": [],
   "source": [
    "# def server_fn(context: Context) -> ServerAppComponents:\n",
    "#     \"\"\"Construct components that set the ServerApp behaviour.\n",
    "\n",
    "#     You can use settings in `context.run_config` to parameterize the\n",
    "#     construction of all elements (e.g the strategy or the number of rounds)\n",
    "#     wrapped in the returned ServerAppComponents object.\n",
    "#     \"\"\"\n",
    "\n",
    "#     # Create FedAvg strategy\n",
    "#     strategy = FedAvg(\n",
    "#         fraction_fit=1.0,\n",
    "#         fraction_evaluate=0.5,\n",
    "#         min_fit_clients=10,\n",
    "#         min_evaluate_clients=5,\n",
    "#         min_available_clients=10,\n",
    "#         evaluate_metrics_aggregation_fn=weighted_average,  # <-- pass the metric aggregation function\n",
    "#     )\n",
    "\n",
    "#     # Configure the server for 5 rounds of training\n",
    "#     config = ServerConfig(num_rounds=5)\n",
    "\n",
    "#     return ServerAppComponents(strategy=strategy, config=config)\n",
    "\n",
    "\n",
    "# # Create a new server instance with the updated FedAvg strategy\n",
    "# server = ServerApp(server_fn=server_fn)\n",
    "\n",
    "# # Run simulation\n",
    "# run_simulation(\n",
    "#     server_app=server,\n",
    "#     client_app=client,\n",
    "#     num_supernodes=NUM_CLIENTS,\n",
    "#     backend_config=backend_config,\n",
    "# )"
   ]
  }
 ],
 "metadata": {
  "colab": {
   "provenance": []
  },
  "kernelspec": {
   "display_name": "Python 3",
   "name": "python3"
  },
  "language_info": {
   "codemirror_mode": {
    "name": "ipython",
    "version": 3
   },
   "file_extension": ".py",
   "mimetype": "text/x-python",
   "name": "python",
   "nbconvert_exporter": "python",
   "pygments_lexer": "ipython3",
   "version": "3.12.7"
  }
 },
 "nbformat": 4,
 "nbformat_minor": 0
}
