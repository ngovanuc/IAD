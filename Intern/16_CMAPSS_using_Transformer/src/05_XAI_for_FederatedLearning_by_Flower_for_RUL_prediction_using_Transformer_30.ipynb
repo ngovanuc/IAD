{
  "cells": [
    {
      "cell_type": "markdown",
      "metadata": {
        "id": "bnYweYq7MAx_"
      },
      "source": [
        "# Part I. RUL prediction using Transformer model (Centralize model)"
      ]
    },
    {
      "cell_type": "markdown",
      "metadata": {
        "id": "bkndtwvEMAyB"
      },
      "source": [
        "# Preparation"
      ]
    },
    {
      "cell_type": "code",
      "execution_count": 1,
      "metadata": {
        "colab": {
          "base_uri": "https://localhost:8080/"
        },
        "id": "Z9u9NGr2MAyB",
        "outputId": "29244025-6832-4664-ba1b-7db0e3af4975"
      },
      "outputs": [
        {
          "name": "stdout",
          "output_type": "stream",
          "text": [
            "IN_COLAB: False\n"
          ]
        }
      ],
      "source": [
        "# When run code on Colab\n",
        "try:\n",
        "    import google.colab\n",
        "    IN_COLAB = True\n",
        "except:\n",
        "    IN_COLAB = False\n",
        "if IN_COLAB:\n",
        "    from google.colab import drive\n",
        "    drive.mount('/content/drive')\n",
        "print(f'IN_COLAB: {IN_COLAB}')"
      ]
    },
    {
      "cell_type": "code",
      "execution_count": 2,
      "metadata": {
        "colab": {
          "base_uri": "https://localhost:8080/"
        },
        "id": "g5Bwn09CMAyD",
        "outputId": "6c8b1ae9-10c9-4949-e2ef-5508f06bf4d6"
      },
      "outputs": [],
      "source": [
        "!pip install -q flwr[simulation] flwr-datasets[vision] torch torchvision matplotlib"
      ]
    },
    {
      "cell_type": "code",
      "execution_count": 3,
      "metadata": {
        "id": "3A85IsxNMAyD"
      },
      "outputs": [],
      "source": [
        "# Off log duplicate messages\n",
        "import os\n",
        "os.environ[\"RAY_DEDUP_LOGS\"] = \"0\"\n",
        "\n",
        "# Off warning messages\n",
        "import warnings\n",
        "warnings.filterwarnings('ignore')\n",
        "\n",
        "if not IN_COLAB:\n",
        "    try:\n",
        "        import pyinspect as pi\n",
        "    except:\n",
        "        pass"
      ]
    },
    {
      "cell_type": "code",
      "execution_count": 4,
      "metadata": {
        "id": "HPY8OhXWMAyD"
      },
      "outputs": [
        {
          "name": "stderr",
          "output_type": "stream",
          "text": [
            "2025-02-11 07:51:20,062\tINFO util.py:154 -- Missing packages: ['ipywidgets']. Run `pip install -U ipywidgets`, then restart the notebook server for rich notebook output.\n",
            "/home/os/anaconda3/envs/.venv/lib/python3.12/site-packages/shap/plots/colors/_colorconv.py:819: DeprecationWarning: Converting `np.inexact` or `np.floating` to a dtype is deprecated. The current result is `float64` which is not strictly correct.\n",
            "  if np.issubdtype(dtype_in, np.dtype(dtype).type):\n"
          ]
        }
      ],
      "source": [
        "from collections import OrderedDict\n",
        "from typing import List, Tuple\n",
        "\n",
        "import numpy as np\n",
        "import pandas as pd\n",
        "import matplotlib.pyplot as plt\n",
        "\n",
        "import torch\n",
        "import torch.nn as nn\n",
        "import torch.nn.functional as F\n",
        "import torchvision.transforms as transforms\n",
        "from torch.utils.data import random_split\n",
        "from torch.utils.data import DataLoader\n",
        "from torch.utils.data import Dataset\n",
        "\n",
        "from datasets.utils.logging import disable_progress_bar\n",
        "\n",
        "from sklearn.preprocessing import MinMaxScaler\n",
        "from sklearn.model_selection import train_test_split\n",
        "\n",
        "import flwr\n",
        "from flwr.client import Client, ClientApp, NumPyClient\n",
        "from flwr.common import Metrics, Context\n",
        "from flwr.server import ServerApp, ServerConfig, ServerAppComponents\n",
        "from flwr.server.strategy import FedAvg\n",
        "from flwr.simulation import run_simulation\n",
        "# from flwr_datasets import FederatedDataset\n",
        "\n",
        "import shap"
      ]
    },
    {
      "cell_type": "code",
      "execution_count": 5,
      "metadata": {
        "colab": {
          "base_uri": "https://localhost:8080/"
        },
        "id": "VVkgjO0FMAyE",
        "outputId": "83016b96-aa2a-4bf8-aa1c-42a6ad9ea3bb"
      },
      "outputs": [
        {
          "name": "stdout",
          "output_type": "stream",
          "text": [
            "Training on cuda\n",
            "Flower 1.14.0 / PyTorch 2.5.1+cu124\n"
          ]
        }
      ],
      "source": [
        "# Check GPU if available else CPU\n",
        "DEVICE = torch.device(\"cuda\" if torch.cuda.is_available() else \"cpu\")\n",
        "print(f\"Training on {DEVICE}\")\n",
        "print(f\"Flower {flwr.__version__} / PyTorch {torch.__version__}\")\n",
        "disable_progress_bar()"
      ]
    },
    {
      "cell_type": "markdown",
      "metadata": {
        "id": "xjJsJCeIMAyE"
      },
      "source": [
        "# Building Transformer model"
      ]
    },
    {
      "cell_type": "code",
      "execution_count": 6,
      "metadata": {
        "id": "hTrlkOGbMAyE"
      },
      "outputs": [],
      "source": [
        "class TransformerModel(nn.Module):\n",
        "    def __init__(self, input_dim, d_model, nhead, num_layers, dim_feedforward, dropout):\n",
        "        super(TransformerModel, self).__init__()\n",
        "        self.input_embedding = nn.Linear(input_dim, d_model)\n",
        "        self.positional_encoding = nn.Parameter(torch.zeros(1, 5000, d_model))\n",
        "        self.transformer = nn.Transformer(\n",
        "            d_model=d_model,\n",
        "            nhead=nhead,\n",
        "            num_encoder_layers=num_layers,\n",
        "            num_decoder_layers=num_layers,\n",
        "            dim_feedforward=dim_feedforward,\n",
        "            dropout=dropout,\n",
        "            batch_first=True\n",
        "        )\n",
        "        self.fc_out = nn.Linear(d_model, 1)\n",
        "\n",
        "    def forward(self, src):\n",
        "        src_emb = self.input_embedding(src) + self.positional_encoding[:, :src.size(1), :]\n",
        "        src_emb = src_emb.permute(1, 0, 2)\n",
        "        transformer_out = self.transformer(src_emb, src_emb)\n",
        "        output = self.fc_out(transformer_out[-1, :, :])\n",
        "        return output.squeeze(-1)"
      ]
    },
    {
      "cell_type": "markdown",
      "metadata": {
        "id": "MofOJ5kcMAyF"
      },
      "source": [
        "# Building Dataloader"
      ]
    },
    {
      "cell_type": "code",
      "execution_count": 7,
      "metadata": {
        "id": "vOZ_DGvDMAyF"
      },
      "outputs": [],
      "source": [
        "class CMAPSSLoaderDataset(Dataset):\n",
        "    def __init__(self, data, sequence_length):\n",
        "        self.data = data\n",
        "        self.sequence_length = sequence_length\n",
        "        self.sequences = []\n",
        "        self.targets = []\n",
        "\n",
        "        grouped = data.groupby('ID Engine')\n",
        "        for _, group in grouped:\n",
        "            values = group.drop(['ID Engine', 'Cycle', 'Setting 1', 'Setting 2', 'Setting 3','Remaining RUL'], axis=1).values\n",
        "            rul_values = group['Remaining RUL'].values\n",
        "\n",
        "            for i in range(len(values) - sequence_length + 1):\n",
        "                self.sequences.append(values[i:i + sequence_length])\n",
        "                self.targets.append(rul_values[i + sequence_length - 1])\n",
        "\n",
        "    def __len__(self):\n",
        "\n",
        "        return len(self.sequences)\n",
        "\n",
        "    def __getitem__(self, idx):\n",
        "        return (\n",
        "            torch.tensor(self.sequences[idx], dtype=torch.float32),\n",
        "            torch.tensor(self.targets[idx], dtype=torch.float32),\n",
        "        )"
      ]
    },
    {
      "cell_type": "markdown",
      "metadata": {
        "id": "uUlltooqMAyF"
      },
      "source": [
        "# Define parameters for training"
      ]
    },
    {
      "cell_type": "code",
      "execution_count": 8,
      "metadata": {
        "id": "0TC27RxyMAyF"
      },
      "outputs": [],
      "source": [
        "# Transformer parameters\n",
        "input_dim = 21\n",
        "d_model = 64\n",
        "nhead = 4\n",
        "num_layers = 2\n",
        "dim_feedforward = 256\n",
        "dropout = 0.1\n",
        "learning_rate = 1e-3\n",
        "verbose=False\n",
        "\n",
        "# Dataloader parameters\n",
        "sequence_length = 30\n",
        "\n",
        "# Training parameters\n",
        "batch_size = 128\n",
        "epochs = 50"
      ]
    },
    {
      "cell_type": "markdown",
      "metadata": {
        "id": "fLLW79nlMAyG"
      },
      "source": [
        "# Define training/test functions"
      ]
    },
    {
      "cell_type": "code",
      "execution_count": 9,
      "metadata": {
        "id": "M_DmheohMAyG"
      },
      "outputs": [],
      "source": [
        "def train_model(model, client_loader_train, client_loader_validation: None, epochs: int, learning_rate: int, verbose=False):\n",
        "    model = model.to(DEVICE)\n",
        "    criterion = nn.MSELoss()\n",
        "    optimizer = torch.optim.Adam(model.parameters(), lr=learning_rate)\n",
        "\n",
        "    for epoch in range(epochs):\n",
        "        model.train()\n",
        "        train_loss = 0\n",
        "        for batch in client_loader_train:\n",
        "            seq, target = batch\n",
        "            seq, target = seq.to(DEVICE), target.to(DEVICE)\n",
        "            optimizer.zero_grad()\n",
        "            output = model(seq)\n",
        "            loss = criterion(output, target)\n",
        "            loss.backward()\n",
        "            optimizer.step()\n",
        "            train_loss += loss.item()\n",
        "        val_loss = 0\n",
        "        model.eval()\n",
        "        with torch.no_grad():\n",
        "            for batch in client_loader_validation:\n",
        "                seq, target = batch\n",
        "                seq, target = seq.to(DEVICE), target.to(DEVICE)\n",
        "                output = model(seq)\n",
        "                loss = criterion(output, target)\n",
        "                val_loss += loss.item()\n",
        "        print(f\"Epoch {epoch+1}/{epochs}, Train Loss: {train_loss/len(client_loader_train)}, Validation Loss: {val_loss/len(client_loader_validation)}\")"
      ]
    },
    {
      "cell_type": "code",
      "execution_count": 10,
      "metadata": {
        "id": "wAImKs32MAyG"
      },
      "outputs": [],
      "source": [
        "def test_model(model, client_loader_validation, return_actual_rul=False, show_fig=False):\n",
        "    criterion = nn.MSELoss()\n",
        "\n",
        "    samples, targets = next(iter(client_loader_validation))\n",
        "    samples, targets = samples.to(DEVICE), targets.to(DEVICE)\n",
        "\n",
        "    model.eval()\n",
        "    val_loss = 0\n",
        "    accuracy = 0\n",
        "    with torch.no_grad():\n",
        "        for batch in client_loader_validation:\n",
        "            samples, targets = batch\n",
        "            samples, targets = samples.to(DEVICE), targets.to(DEVICE)\n",
        "            predictions = model(samples)\n",
        "            val_loss += criterion(predictions, targets).item()\n",
        "    return val_loss/len(client_loader_validation)"
      ]
    },
    {
      "cell_type": "markdown",
      "metadata": {
        "id": "HUo0_klUMAyG"
      },
      "source": [
        "# Define prediction functions"
      ]
    },
    {
      "cell_type": "markdown",
      "metadata": {
        "id": "poU0s6olMAyG"
      },
      "source": [
        "### Prediction on a batch"
      ]
    },
    {
      "cell_type": "code",
      "execution_count": 11,
      "metadata": {
        "id": "BpY8ZLQjMAyG"
      },
      "outputs": [],
      "source": [
        "def predict_on_batch(model, batch_loader, return_actual_rul=False, show_fig=False):\n",
        "    criterion = nn.MSELoss()\n",
        "    samples, targets = batch_loader\n",
        "    samples, targets = samples.to(DEVICE), targets.to(DEVICE)\n",
        "\n",
        "    model.eval()\n",
        "    loss = 0\n",
        "    with torch.no_grad():\n",
        "        predictions = model(samples)\n",
        "    loss = criterion(predictions, targets)\n",
        "\n",
        "    if return_actual_rul:\n",
        "        samples = samples.cpu()\n",
        "        targets = targets.cpu()\n",
        "\n",
        "        rul_min = scaler.data_min_[-1]\n",
        "        rul_max = scaler.data_max_[-1]\n",
        "\n",
        "        predictions = predictions.cpu()\n",
        "        actual_predictions = predictions.numpy() * (rul_max - rul_min) + rul_min\n",
        "        actual_targets = targets.numpy() * (rul_max - rul_min) + rul_min\n",
        "\n",
        "        if show_fig:\n",
        "            plt.figure(figsize=(10, 6))\n",
        "            plt.plot(range(len(actual_predictions)), actual_predictions, label=\"Predicted RUL\", marker='o', linestyle='-')\n",
        "            plt.plot(range(len(actual_targets)), actual_targets, label=\"Actual RUL\", marker='x', linestyle='--')\n",
        "            plt.title(\"Comparison of Predicted and Actual RUL\")\n",
        "            plt.xlabel(\"Sample Index\")\n",
        "            plt.ylabel(\"Remaining Useful Life (RUL)\")\n",
        "            plt.legend()\n",
        "            plt.grid(True)\n",
        "            plt.show()\n",
        "\n",
        "        return loss, actual_predictions, actual_targets\n",
        "\n",
        "    return loss"
      ]
    },
    {
      "cell_type": "markdown",
      "metadata": {
        "id": "EcUDCjUJMAyG"
      },
      "source": [
        "### Prediction on a sample"
      ]
    },
    {
      "cell_type": "code",
      "execution_count": 11,
      "metadata": {
        "id": "fGf0T_-RMAyH"
      },
      "outputs": [],
      "source": []
    },
    {
      "cell_type": "markdown",
      "metadata": {
        "id": "Fg8XtAIsMAyH"
      },
      "source": [
        "# File paths"
      ]
    },
    {
      "cell_type": "code",
      "execution_count": 12,
      "metadata": {
        "id": "NoA5alN6MAyH"
      },
      "outputs": [],
      "source": [
        "if not IN_COLAB:\n",
        "    train_1_path = \"../data/train_FD001.txt\"\n",
        "    test_1_path = \"../data/test_FD001.txt\"\n",
        "    rul_1_path = \"../data/RUL_FD001.txt\"\n",
        "\n",
        "    train_2_path = \"../data/train_FD002.txt\"\n",
        "    test_2_path = \"../data/test_FD002.txt\"\n",
        "    rul_2_path = \"../data/RUL_FD002.txt\"\n",
        "\n",
        "    train_3_path = \"../data/train_FD003.txt\"\n",
        "    test_3_path = \"../data/test_FD003.txt\"\n",
        "    rul_3_path = \"../data/RUL_FD003.txt\"\n",
        "\n",
        "    train_4_path = \"../data/train_FD004.txt\"\n",
        "    test_4_path = \"../data/test_FD004.txt\"\n",
        "    rul_4_path = \"../data/RUL_FD004.txt\"\n",
        "    \n",
        "elif IN_COLAB:\n",
        "    train_1_path = \"/content/drive/MyDrive/Colab Notebooks/RUL_prediction_using_Transformer/train_FD001.txt\"\n",
        "    test_1_path = \"/content/drive/MyDrive/Colab Notebooks/RUL_prediction_using_Transformer/test_FD001.txt\"\n",
        "    rul_1_path = \"/content/drive/MyDrive/Colab Notebooks/RUL_prediction_using_Transformer/RUL_FD001.txt\"\n",
        "\n",
        "    train_2_path = \"/content/drive/MyDrive/Colab Notebooks/RUL_prediction_using_Transformer/train_FD002.txt\"\n",
        "    test_2_path = \"/content/drive/MyDrive/Colab Notebooks/RUL_prediction_using_Transformer/test_FD002.txt\"\n",
        "    rul_2_path = \"/content/drive/MyDrive/Colab Notebooks/RUL_prediction_using_Transformer/RUL_FD002.txt\"\n",
        "\n",
        "    train_3_path = \"/content/drive/MyDrive/Colab Notebooks/RUL_prediction_using_Transformer/train_FD003.txt\"\n",
        "    test_3_path = \"/content/drive/MyDrive/Colab Notebooks/RUL_prediction_using_Transformer/test_FD003.txt\"\n",
        "    rul_3_path = \"/content/drive/MyDrive/Colab Notebooks/RUL_prediction_using_Transformer/RUL_FD003.txt\"\n",
        "\n",
        "    train_4_path = \"/content/drive/MyDrive/Colab Notebooks/RUL_prediction_using_Transformer/train_FD004.txt\"\n",
        "    test_4_path = \"/content/drive/MyDrive/Colab Notebooks/RUL_prediction_using_Transformer/test_FD004.txt\"\n",
        "    rul_4_path = \"/content/drive/MyDrive/Colab Notebooks/RUL_prediction_using_Transformer/RUL_FD004.txt\""
      ]
    },
    {
      "cell_type": "code",
      "execution_count": 13,
      "metadata": {},
      "outputs": [],
      "source": [
        "# Initialization columns\n",
        "index_names = ['ID Engine', 'Cycle']\n",
        "setting_names = ['Setting 1', 'Setting 2', 'Setting 3']\n",
        "sensor_names = ['Sensor {}'.format(i) for i in range(1, 22)]\n",
        "column_names = index_names + setting_names + sensor_names"
      ]
    },
    {
      "cell_type": "markdown",
      "metadata": {
        "id": "Wp3n8jv4MAyH"
      },
      "source": [
        "# Calculate RUL for FD001"
      ]
    },
    {
      "cell_type": "markdown",
      "metadata": {},
      "source": [
        "### Calculate RUL for train set"
      ]
    },
    {
      "cell_type": "code",
      "execution_count": 14,
      "metadata": {
        "id": "g4Z2gsHhMAyH"
      },
      "outputs": [],
      "source": [
        "# Load trainset\n",
        "train_1 = pd.read_csv(train_1_path, sep=' ', header=None)\n",
        "train_1.drop([26, 27], axis=1, inplace=True)\n",
        "train_1.columns = column_names\n",
        "\n",
        "train_1['Remaining RUL'] = ''\n",
        "# train_1.head()"
      ]
    },
    {
      "cell_type": "code",
      "execution_count": 15,
      "metadata": {
        "colab": {
          "base_uri": "https://localhost:8080/"
        },
        "id": "-7SrC16fMAyH",
        "outputId": "102369b0-610b-44bc-feff-26f024af4601"
      },
      "outputs": [
        {
          "name": "stdout",
          "output_type": "stream",
          "text": [
            "trainset shape: (20631, 27)\n"
          ]
        }
      ],
      "source": [
        "# Calculate the remaining RUL for each engine\n",
        "max_cycle_1 = train_1.groupby('ID Engine').count()\n",
        "for idx in range(len(train_1)):\n",
        "    train_1.loc[idx, 'Remaining RUL'] = max_cycle_1.loc[train_1.loc[idx, 'ID Engine'], 'Cycle']\n",
        "train_1['Remaining RUL'] = train_1['Remaining RUL'] - train_1['Cycle']\n",
        "\n",
        "print(f\"trainset shape: {train_1.shape}\")"
      ]
    },
    {
      "cell_type": "code",
      "execution_count": 16,
      "metadata": {
        "colab": {
          "base_uri": "https://localhost:8080/",
          "height": 0
        },
        "id": "3qppLFRiMAyI",
        "outputId": "c9b3bd07-438d-4f7b-bb69-3111085697c5"
      },
      "outputs": [
        {
          "data": {
            "text/html": [
              "<div>\n",
              "<style scoped>\n",
              "    .dataframe tbody tr th:only-of-type {\n",
              "        vertical-align: middle;\n",
              "    }\n",
              "\n",
              "    .dataframe tbody tr th {\n",
              "        vertical-align: top;\n",
              "    }\n",
              "\n",
              "    .dataframe thead th {\n",
              "        text-align: right;\n",
              "    }\n",
              "</style>\n",
              "<table border=\"1\" class=\"dataframe\">\n",
              "  <thead>\n",
              "    <tr style=\"text-align: right;\">\n",
              "      <th></th>\n",
              "      <th>ID Engine</th>\n",
              "      <th>Cycle</th>\n",
              "      <th>Setting 1</th>\n",
              "      <th>Setting 2</th>\n",
              "      <th>Setting 3</th>\n",
              "      <th>Sensor 1</th>\n",
              "      <th>Sensor 2</th>\n",
              "      <th>Sensor 3</th>\n",
              "      <th>Sensor 4</th>\n",
              "      <th>Sensor 5</th>\n",
              "      <th>...</th>\n",
              "      <th>Sensor 13</th>\n",
              "      <th>Sensor 14</th>\n",
              "      <th>Sensor 15</th>\n",
              "      <th>Sensor 16</th>\n",
              "      <th>Sensor 17</th>\n",
              "      <th>Sensor 18</th>\n",
              "      <th>Sensor 19</th>\n",
              "      <th>Sensor 20</th>\n",
              "      <th>Sensor 21</th>\n",
              "      <th>Remaining RUL</th>\n",
              "    </tr>\n",
              "  </thead>\n",
              "  <tbody>\n",
              "    <tr>\n",
              "      <th>0</th>\n",
              "      <td>1</td>\n",
              "      <td>1</td>\n",
              "      <td>-0.0007</td>\n",
              "      <td>-0.0004</td>\n",
              "      <td>100.0</td>\n",
              "      <td>518.67</td>\n",
              "      <td>641.82</td>\n",
              "      <td>1589.70</td>\n",
              "      <td>1400.60</td>\n",
              "      <td>14.62</td>\n",
              "      <td>...</td>\n",
              "      <td>2388.02</td>\n",
              "      <td>8138.62</td>\n",
              "      <td>8.4195</td>\n",
              "      <td>0.03</td>\n",
              "      <td>392</td>\n",
              "      <td>2388</td>\n",
              "      <td>100.0</td>\n",
              "      <td>39.06</td>\n",
              "      <td>23.4190</td>\n",
              "      <td>191</td>\n",
              "    </tr>\n",
              "    <tr>\n",
              "      <th>1</th>\n",
              "      <td>1</td>\n",
              "      <td>2</td>\n",
              "      <td>0.0019</td>\n",
              "      <td>-0.0003</td>\n",
              "      <td>100.0</td>\n",
              "      <td>518.67</td>\n",
              "      <td>642.15</td>\n",
              "      <td>1591.82</td>\n",
              "      <td>1403.14</td>\n",
              "      <td>14.62</td>\n",
              "      <td>...</td>\n",
              "      <td>2388.07</td>\n",
              "      <td>8131.49</td>\n",
              "      <td>8.4318</td>\n",
              "      <td>0.03</td>\n",
              "      <td>392</td>\n",
              "      <td>2388</td>\n",
              "      <td>100.0</td>\n",
              "      <td>39.00</td>\n",
              "      <td>23.4236</td>\n",
              "      <td>190</td>\n",
              "    </tr>\n",
              "    <tr>\n",
              "      <th>2</th>\n",
              "      <td>1</td>\n",
              "      <td>3</td>\n",
              "      <td>-0.0043</td>\n",
              "      <td>0.0003</td>\n",
              "      <td>100.0</td>\n",
              "      <td>518.67</td>\n",
              "      <td>642.35</td>\n",
              "      <td>1587.99</td>\n",
              "      <td>1404.20</td>\n",
              "      <td>14.62</td>\n",
              "      <td>...</td>\n",
              "      <td>2388.03</td>\n",
              "      <td>8133.23</td>\n",
              "      <td>8.4178</td>\n",
              "      <td>0.03</td>\n",
              "      <td>390</td>\n",
              "      <td>2388</td>\n",
              "      <td>100.0</td>\n",
              "      <td>38.95</td>\n",
              "      <td>23.3442</td>\n",
              "      <td>189</td>\n",
              "    </tr>\n",
              "    <tr>\n",
              "      <th>3</th>\n",
              "      <td>1</td>\n",
              "      <td>4</td>\n",
              "      <td>0.0007</td>\n",
              "      <td>0.0000</td>\n",
              "      <td>100.0</td>\n",
              "      <td>518.67</td>\n",
              "      <td>642.35</td>\n",
              "      <td>1582.79</td>\n",
              "      <td>1401.87</td>\n",
              "      <td>14.62</td>\n",
              "      <td>...</td>\n",
              "      <td>2388.08</td>\n",
              "      <td>8133.83</td>\n",
              "      <td>8.3682</td>\n",
              "      <td>0.03</td>\n",
              "      <td>392</td>\n",
              "      <td>2388</td>\n",
              "      <td>100.0</td>\n",
              "      <td>38.88</td>\n",
              "      <td>23.3739</td>\n",
              "      <td>188</td>\n",
              "    </tr>\n",
              "    <tr>\n",
              "      <th>4</th>\n",
              "      <td>1</td>\n",
              "      <td>5</td>\n",
              "      <td>-0.0019</td>\n",
              "      <td>-0.0002</td>\n",
              "      <td>100.0</td>\n",
              "      <td>518.67</td>\n",
              "      <td>642.37</td>\n",
              "      <td>1582.85</td>\n",
              "      <td>1406.22</td>\n",
              "      <td>14.62</td>\n",
              "      <td>...</td>\n",
              "      <td>2388.04</td>\n",
              "      <td>8133.80</td>\n",
              "      <td>8.4294</td>\n",
              "      <td>0.03</td>\n",
              "      <td>393</td>\n",
              "      <td>2388</td>\n",
              "      <td>100.0</td>\n",
              "      <td>38.90</td>\n",
              "      <td>23.4044</td>\n",
              "      <td>187</td>\n",
              "    </tr>\n",
              "  </tbody>\n",
              "</table>\n",
              "<p>5 rows × 27 columns</p>\n",
              "</div>"
            ],
            "text/plain": [
              "   ID Engine  Cycle  Setting 1  Setting 2  Setting 3  Sensor 1  Sensor 2  \\\n",
              "0          1      1    -0.0007    -0.0004      100.0    518.67    641.82   \n",
              "1          1      2     0.0019    -0.0003      100.0    518.67    642.15   \n",
              "2          1      3    -0.0043     0.0003      100.0    518.67    642.35   \n",
              "3          1      4     0.0007     0.0000      100.0    518.67    642.35   \n",
              "4          1      5    -0.0019    -0.0002      100.0    518.67    642.37   \n",
              "\n",
              "   Sensor 3  Sensor 4  Sensor 5  ...  Sensor 13  Sensor 14  Sensor 15  \\\n",
              "0   1589.70   1400.60     14.62  ...    2388.02    8138.62     8.4195   \n",
              "1   1591.82   1403.14     14.62  ...    2388.07    8131.49     8.4318   \n",
              "2   1587.99   1404.20     14.62  ...    2388.03    8133.23     8.4178   \n",
              "3   1582.79   1401.87     14.62  ...    2388.08    8133.83     8.3682   \n",
              "4   1582.85   1406.22     14.62  ...    2388.04    8133.80     8.4294   \n",
              "\n",
              "   Sensor 16  Sensor 17  Sensor 18  Sensor 19  Sensor 20  Sensor 21  \\\n",
              "0       0.03        392       2388      100.0      39.06    23.4190   \n",
              "1       0.03        392       2388      100.0      39.00    23.4236   \n",
              "2       0.03        390       2388      100.0      38.95    23.3442   \n",
              "3       0.03        392       2388      100.0      38.88    23.3739   \n",
              "4       0.03        393       2388      100.0      38.90    23.4044   \n",
              "\n",
              "   Remaining RUL  \n",
              "0            191  \n",
              "1            190  \n",
              "2            189  \n",
              "3            188  \n",
              "4            187  \n",
              "\n",
              "[5 rows x 27 columns]"
            ]
          },
          "execution_count": 16,
          "metadata": {},
          "output_type": "execute_result"
        }
      ],
      "source": [
        "train_1.head()"
      ]
    },
    {
      "cell_type": "markdown",
      "metadata": {
        "id": "mhXW7sjEMAyI"
      },
      "source": [
        "### Load RUL set"
      ]
    },
    {
      "cell_type": "code",
      "execution_count": 17,
      "metadata": {
        "colab": {
          "base_uri": "https://localhost:8080/"
        },
        "id": "UzSU4pRhMAyI",
        "outputId": "963152c3-afca-402d-a7fc-c3ef27793cd2"
      },
      "outputs": [
        {
          "name": "stdout",
          "output_type": "stream",
          "text": [
            "RUL shape: (100, 1)\n"
          ]
        }
      ],
      "source": [
        "rul_1 = pd.read_csv(rul_1_path, sep=' ', header=None)\n",
        "rul_1.drop(rul_1.columns[1], axis=1, inplace=True)\n",
        "rul_1.columns = ['RUL']\n",
        "print(f'RUL shape: {rul_1.shape}')"
      ]
    },
    {
      "cell_type": "markdown",
      "metadata": {
        "id": "Prm8__JfMAyI"
      },
      "source": [
        "Tập RUL này là vòng đời còn lại của động cơ sau khi trải qua số lượng chu kỳ nhất định trong tập test (tương ứng)"
      ]
    },
    {
      "cell_type": "code",
      "execution_count": 18,
      "metadata": {
        "colab": {
          "base_uri": "https://localhost:8080/",
          "height": 0
        },
        "id": "fEYsXc7dMAyJ",
        "outputId": "ed4a9387-1459-45d4-d267-93cc17aa376a"
      },
      "outputs": [
        {
          "data": {
            "text/html": [
              "<div>\n",
              "<style scoped>\n",
              "    .dataframe tbody tr th:only-of-type {\n",
              "        vertical-align: middle;\n",
              "    }\n",
              "\n",
              "    .dataframe tbody tr th {\n",
              "        vertical-align: top;\n",
              "    }\n",
              "\n",
              "    .dataframe thead th {\n",
              "        text-align: right;\n",
              "    }\n",
              "</style>\n",
              "<table border=\"1\" class=\"dataframe\">\n",
              "  <thead>\n",
              "    <tr style=\"text-align: right;\">\n",
              "      <th></th>\n",
              "      <th>RUL</th>\n",
              "    </tr>\n",
              "  </thead>\n",
              "  <tbody>\n",
              "    <tr>\n",
              "      <th>0</th>\n",
              "      <td>112</td>\n",
              "    </tr>\n",
              "    <tr>\n",
              "      <th>1</th>\n",
              "      <td>98</td>\n",
              "    </tr>\n",
              "    <tr>\n",
              "      <th>2</th>\n",
              "      <td>69</td>\n",
              "    </tr>\n",
              "    <tr>\n",
              "      <th>3</th>\n",
              "      <td>82</td>\n",
              "    </tr>\n",
              "    <tr>\n",
              "      <th>4</th>\n",
              "      <td>91</td>\n",
              "    </tr>\n",
              "  </tbody>\n",
              "</table>\n",
              "</div>"
            ],
            "text/plain": [
              "   RUL\n",
              "0  112\n",
              "1   98\n",
              "2   69\n",
              "3   82\n",
              "4   91"
            ]
          },
          "execution_count": 18,
          "metadata": {},
          "output_type": "execute_result"
        }
      ],
      "source": [
        "rul_1.head()"
      ]
    },
    {
      "cell_type": "markdown",
      "metadata": {
        "id": "9uqS8lkPMAyJ"
      },
      "source": [
        "### Calculate RUL for test"
      ]
    },
    {
      "cell_type": "code",
      "execution_count": 19,
      "metadata": {
        "colab": {
          "base_uri": "https://localhost:8080/"
        },
        "id": "l1CugO7TMAyJ",
        "outputId": "ca91699b-8d09-4012-8f19-40f4bc23fdba"
      },
      "outputs": [],
      "source": [
        "# Load test set\n",
        "test_1 = pd.read_csv(test_1_path, sep=' ', header=None)\n",
        "test_1.drop([26, 27], axis=1, inplace=True)\n",
        "test_1.columns = column_names\n",
        "\n",
        "test_1['Remaining RUL'] = ''\n",
        "# test_1.head()"
      ]
    },
    {
      "cell_type": "code",
      "execution_count": 20,
      "metadata": {
        "colab": {
          "base_uri": "https://localhost:8080/"
        },
        "id": "6dTygyMtMAyJ",
        "outputId": "50229fc5-16d6-44d3-944f-c9ee9460f192"
      },
      "outputs": [],
      "source": [
        "max_cycle_test_1 = test_1.groupby('ID Engine').count()\n",
        "\n",
        "for idx in range(len(test_1)):\n",
        "    test_1.loc[idx, 'Remaining RUL'] = rul_1.loc[test_1.loc[idx, 'ID Engine'] - 1, 'RUL'] + max_cycle_test_1.loc[test_1.loc[idx, 'ID Engine'], 'Cycle']\n",
        "test_1['Remaining RUL'] = test_1['Remaining RUL'] - test_1['Cycle']"
      ]
    },
    {
      "cell_type": "code",
      "execution_count": 21,
      "metadata": {
        "colab": {
          "base_uri": "https://localhost:8080/",
          "height": 0
        },
        "id": "rIVfgCQyMAyJ",
        "outputId": "32d9835b-970b-484d-b96b-d9b342a853ea"
      },
      "outputs": [
        {
          "data": {
            "text/html": [
              "<div>\n",
              "<style scoped>\n",
              "    .dataframe tbody tr th:only-of-type {\n",
              "        vertical-align: middle;\n",
              "    }\n",
              "\n",
              "    .dataframe tbody tr th {\n",
              "        vertical-align: top;\n",
              "    }\n",
              "\n",
              "    .dataframe thead th {\n",
              "        text-align: right;\n",
              "    }\n",
              "</style>\n",
              "<table border=\"1\" class=\"dataframe\">\n",
              "  <thead>\n",
              "    <tr style=\"text-align: right;\">\n",
              "      <th></th>\n",
              "      <th>ID Engine</th>\n",
              "      <th>Cycle</th>\n",
              "      <th>Setting 1</th>\n",
              "      <th>Setting 2</th>\n",
              "      <th>Setting 3</th>\n",
              "      <th>Sensor 1</th>\n",
              "      <th>Sensor 2</th>\n",
              "      <th>Sensor 3</th>\n",
              "      <th>Sensor 4</th>\n",
              "      <th>Sensor 5</th>\n",
              "      <th>...</th>\n",
              "      <th>Sensor 13</th>\n",
              "      <th>Sensor 14</th>\n",
              "      <th>Sensor 15</th>\n",
              "      <th>Sensor 16</th>\n",
              "      <th>Sensor 17</th>\n",
              "      <th>Sensor 18</th>\n",
              "      <th>Sensor 19</th>\n",
              "      <th>Sensor 20</th>\n",
              "      <th>Sensor 21</th>\n",
              "      <th>Remaining RUL</th>\n",
              "    </tr>\n",
              "  </thead>\n",
              "  <tbody>\n",
              "    <tr>\n",
              "      <th>0</th>\n",
              "      <td>1</td>\n",
              "      <td>1</td>\n",
              "      <td>0.0023</td>\n",
              "      <td>0.0003</td>\n",
              "      <td>100.0</td>\n",
              "      <td>518.67</td>\n",
              "      <td>643.02</td>\n",
              "      <td>1585.29</td>\n",
              "      <td>1398.21</td>\n",
              "      <td>14.62</td>\n",
              "      <td>...</td>\n",
              "      <td>2388.03</td>\n",
              "      <td>8125.55</td>\n",
              "      <td>8.4052</td>\n",
              "      <td>0.03</td>\n",
              "      <td>392</td>\n",
              "      <td>2388</td>\n",
              "      <td>100.0</td>\n",
              "      <td>38.86</td>\n",
              "      <td>23.3735</td>\n",
              "      <td>142</td>\n",
              "    </tr>\n",
              "    <tr>\n",
              "      <th>1</th>\n",
              "      <td>1</td>\n",
              "      <td>2</td>\n",
              "      <td>-0.0027</td>\n",
              "      <td>-0.0003</td>\n",
              "      <td>100.0</td>\n",
              "      <td>518.67</td>\n",
              "      <td>641.71</td>\n",
              "      <td>1588.45</td>\n",
              "      <td>1395.42</td>\n",
              "      <td>14.62</td>\n",
              "      <td>...</td>\n",
              "      <td>2388.06</td>\n",
              "      <td>8139.62</td>\n",
              "      <td>8.3803</td>\n",
              "      <td>0.03</td>\n",
              "      <td>393</td>\n",
              "      <td>2388</td>\n",
              "      <td>100.0</td>\n",
              "      <td>39.02</td>\n",
              "      <td>23.3916</td>\n",
              "      <td>141</td>\n",
              "    </tr>\n",
              "    <tr>\n",
              "      <th>2</th>\n",
              "      <td>1</td>\n",
              "      <td>3</td>\n",
              "      <td>0.0003</td>\n",
              "      <td>0.0001</td>\n",
              "      <td>100.0</td>\n",
              "      <td>518.67</td>\n",
              "      <td>642.46</td>\n",
              "      <td>1586.94</td>\n",
              "      <td>1401.34</td>\n",
              "      <td>14.62</td>\n",
              "      <td>...</td>\n",
              "      <td>2388.03</td>\n",
              "      <td>8130.10</td>\n",
              "      <td>8.4441</td>\n",
              "      <td>0.03</td>\n",
              "      <td>393</td>\n",
              "      <td>2388</td>\n",
              "      <td>100.0</td>\n",
              "      <td>39.08</td>\n",
              "      <td>23.4166</td>\n",
              "      <td>140</td>\n",
              "    </tr>\n",
              "    <tr>\n",
              "      <th>3</th>\n",
              "      <td>1</td>\n",
              "      <td>4</td>\n",
              "      <td>0.0042</td>\n",
              "      <td>0.0000</td>\n",
              "      <td>100.0</td>\n",
              "      <td>518.67</td>\n",
              "      <td>642.44</td>\n",
              "      <td>1584.12</td>\n",
              "      <td>1406.42</td>\n",
              "      <td>14.62</td>\n",
              "      <td>...</td>\n",
              "      <td>2388.05</td>\n",
              "      <td>8132.90</td>\n",
              "      <td>8.3917</td>\n",
              "      <td>0.03</td>\n",
              "      <td>391</td>\n",
              "      <td>2388</td>\n",
              "      <td>100.0</td>\n",
              "      <td>39.00</td>\n",
              "      <td>23.3737</td>\n",
              "      <td>139</td>\n",
              "    </tr>\n",
              "    <tr>\n",
              "      <th>4</th>\n",
              "      <td>1</td>\n",
              "      <td>5</td>\n",
              "      <td>0.0014</td>\n",
              "      <td>0.0000</td>\n",
              "      <td>100.0</td>\n",
              "      <td>518.67</td>\n",
              "      <td>642.51</td>\n",
              "      <td>1587.19</td>\n",
              "      <td>1401.92</td>\n",
              "      <td>14.62</td>\n",
              "      <td>...</td>\n",
              "      <td>2388.03</td>\n",
              "      <td>8129.54</td>\n",
              "      <td>8.4031</td>\n",
              "      <td>0.03</td>\n",
              "      <td>390</td>\n",
              "      <td>2388</td>\n",
              "      <td>100.0</td>\n",
              "      <td>38.99</td>\n",
              "      <td>23.4130</td>\n",
              "      <td>138</td>\n",
              "    </tr>\n",
              "  </tbody>\n",
              "</table>\n",
              "<p>5 rows × 27 columns</p>\n",
              "</div>"
            ],
            "text/plain": [
              "   ID Engine  Cycle  Setting 1  Setting 2  Setting 3  Sensor 1  Sensor 2  \\\n",
              "0          1      1     0.0023     0.0003      100.0    518.67    643.02   \n",
              "1          1      2    -0.0027    -0.0003      100.0    518.67    641.71   \n",
              "2          1      3     0.0003     0.0001      100.0    518.67    642.46   \n",
              "3          1      4     0.0042     0.0000      100.0    518.67    642.44   \n",
              "4          1      5     0.0014     0.0000      100.0    518.67    642.51   \n",
              "\n",
              "   Sensor 3  Sensor 4  Sensor 5  ...  Sensor 13  Sensor 14  Sensor 15  \\\n",
              "0   1585.29   1398.21     14.62  ...    2388.03    8125.55     8.4052   \n",
              "1   1588.45   1395.42     14.62  ...    2388.06    8139.62     8.3803   \n",
              "2   1586.94   1401.34     14.62  ...    2388.03    8130.10     8.4441   \n",
              "3   1584.12   1406.42     14.62  ...    2388.05    8132.90     8.3917   \n",
              "4   1587.19   1401.92     14.62  ...    2388.03    8129.54     8.4031   \n",
              "\n",
              "   Sensor 16  Sensor 17  Sensor 18  Sensor 19  Sensor 20  Sensor 21  \\\n",
              "0       0.03        392       2388      100.0      38.86    23.3735   \n",
              "1       0.03        393       2388      100.0      39.02    23.3916   \n",
              "2       0.03        393       2388      100.0      39.08    23.4166   \n",
              "3       0.03        391       2388      100.0      39.00    23.3737   \n",
              "4       0.03        390       2388      100.0      38.99    23.4130   \n",
              "\n",
              "   Remaining RUL  \n",
              "0            142  \n",
              "1            141  \n",
              "2            140  \n",
              "3            139  \n",
              "4            138  \n",
              "\n",
              "[5 rows x 27 columns]"
            ]
          },
          "execution_count": 21,
          "metadata": {},
          "output_type": "execute_result"
        }
      ],
      "source": [
        "test_1.head()"
      ]
    },
    {
      "cell_type": "markdown",
      "metadata": {},
      "source": [
        "# Calculate RUL for FD002"
      ]
    },
    {
      "cell_type": "markdown",
      "metadata": {},
      "source": [
        "### Calculate RUL for train set"
      ]
    },
    {
      "cell_type": "code",
      "execution_count": 22,
      "metadata": {},
      "outputs": [],
      "source": [
        "# Load trainset\n",
        "train_2 = pd.read_csv(train_2_path, sep=' ', header=None)\n",
        "train_2.drop([26, 27], axis=1, inplace=True)\n",
        "train_2.columns = column_names\n",
        "\n",
        "train_2['Remaining RUL'] = ''\n",
        "# train_2.head()"
      ]
    },
    {
      "cell_type": "code",
      "execution_count": 23,
      "metadata": {},
      "outputs": [
        {
          "name": "stdout",
          "output_type": "stream",
          "text": [
            "trainset shape: (53759, 27)\n"
          ]
        }
      ],
      "source": [
        "# Calculate the remaining RUL for each engine\n",
        "max_cycle_2 = train_2.groupby('ID Engine').count()\n",
        "for idx in range(len(train_2)):\n",
        "    train_2.loc[idx, 'Remaining RUL'] = max_cycle_2.loc[train_2.loc[idx, 'ID Engine'], 'Cycle']\n",
        "train_2['Remaining RUL'] = train_2['Remaining RUL'] - train_2['Cycle']\n",
        "\n",
        "print(f\"trainset shape: {train_2.shape}\")"
      ]
    },
    {
      "cell_type": "code",
      "execution_count": 24,
      "metadata": {},
      "outputs": [
        {
          "data": {
            "text/html": [
              "<div>\n",
              "<style scoped>\n",
              "    .dataframe tbody tr th:only-of-type {\n",
              "        vertical-align: middle;\n",
              "    }\n",
              "\n",
              "    .dataframe tbody tr th {\n",
              "        vertical-align: top;\n",
              "    }\n",
              "\n",
              "    .dataframe thead th {\n",
              "        text-align: right;\n",
              "    }\n",
              "</style>\n",
              "<table border=\"1\" class=\"dataframe\">\n",
              "  <thead>\n",
              "    <tr style=\"text-align: right;\">\n",
              "      <th></th>\n",
              "      <th>ID Engine</th>\n",
              "      <th>Cycle</th>\n",
              "      <th>Setting 1</th>\n",
              "      <th>Setting 2</th>\n",
              "      <th>Setting 3</th>\n",
              "      <th>Sensor 1</th>\n",
              "      <th>Sensor 2</th>\n",
              "      <th>Sensor 3</th>\n",
              "      <th>Sensor 4</th>\n",
              "      <th>Sensor 5</th>\n",
              "      <th>...</th>\n",
              "      <th>Sensor 13</th>\n",
              "      <th>Sensor 14</th>\n",
              "      <th>Sensor 15</th>\n",
              "      <th>Sensor 16</th>\n",
              "      <th>Sensor 17</th>\n",
              "      <th>Sensor 18</th>\n",
              "      <th>Sensor 19</th>\n",
              "      <th>Sensor 20</th>\n",
              "      <th>Sensor 21</th>\n",
              "      <th>Remaining RUL</th>\n",
              "    </tr>\n",
              "  </thead>\n",
              "  <tbody>\n",
              "    <tr>\n",
              "      <th>0</th>\n",
              "      <td>1</td>\n",
              "      <td>1</td>\n",
              "      <td>34.9983</td>\n",
              "      <td>0.8400</td>\n",
              "      <td>100.0</td>\n",
              "      <td>449.44</td>\n",
              "      <td>555.32</td>\n",
              "      <td>1358.61</td>\n",
              "      <td>1137.23</td>\n",
              "      <td>5.48</td>\n",
              "      <td>...</td>\n",
              "      <td>2387.72</td>\n",
              "      <td>8048.56</td>\n",
              "      <td>9.3461</td>\n",
              "      <td>0.02</td>\n",
              "      <td>334</td>\n",
              "      <td>2223</td>\n",
              "      <td>100.00</td>\n",
              "      <td>14.73</td>\n",
              "      <td>8.8071</td>\n",
              "      <td>148</td>\n",
              "    </tr>\n",
              "    <tr>\n",
              "      <th>1</th>\n",
              "      <td>1</td>\n",
              "      <td>2</td>\n",
              "      <td>41.9982</td>\n",
              "      <td>0.8408</td>\n",
              "      <td>100.0</td>\n",
              "      <td>445.00</td>\n",
              "      <td>549.90</td>\n",
              "      <td>1353.22</td>\n",
              "      <td>1125.78</td>\n",
              "      <td>3.91</td>\n",
              "      <td>...</td>\n",
              "      <td>2387.66</td>\n",
              "      <td>8072.30</td>\n",
              "      <td>9.3774</td>\n",
              "      <td>0.02</td>\n",
              "      <td>330</td>\n",
              "      <td>2212</td>\n",
              "      <td>100.00</td>\n",
              "      <td>10.41</td>\n",
              "      <td>6.2665</td>\n",
              "      <td>147</td>\n",
              "    </tr>\n",
              "    <tr>\n",
              "      <th>2</th>\n",
              "      <td>1</td>\n",
              "      <td>3</td>\n",
              "      <td>24.9988</td>\n",
              "      <td>0.6218</td>\n",
              "      <td>60.0</td>\n",
              "      <td>462.54</td>\n",
              "      <td>537.31</td>\n",
              "      <td>1256.76</td>\n",
              "      <td>1047.45</td>\n",
              "      <td>7.05</td>\n",
              "      <td>...</td>\n",
              "      <td>2028.03</td>\n",
              "      <td>7864.87</td>\n",
              "      <td>10.8941</td>\n",
              "      <td>0.02</td>\n",
              "      <td>309</td>\n",
              "      <td>1915</td>\n",
              "      <td>84.93</td>\n",
              "      <td>14.08</td>\n",
              "      <td>8.6723</td>\n",
              "      <td>146</td>\n",
              "    </tr>\n",
              "    <tr>\n",
              "      <th>3</th>\n",
              "      <td>1</td>\n",
              "      <td>4</td>\n",
              "      <td>42.0077</td>\n",
              "      <td>0.8416</td>\n",
              "      <td>100.0</td>\n",
              "      <td>445.00</td>\n",
              "      <td>549.51</td>\n",
              "      <td>1354.03</td>\n",
              "      <td>1126.38</td>\n",
              "      <td>3.91</td>\n",
              "      <td>...</td>\n",
              "      <td>2387.61</td>\n",
              "      <td>8068.66</td>\n",
              "      <td>9.3528</td>\n",
              "      <td>0.02</td>\n",
              "      <td>329</td>\n",
              "      <td>2212</td>\n",
              "      <td>100.00</td>\n",
              "      <td>10.59</td>\n",
              "      <td>6.4701</td>\n",
              "      <td>145</td>\n",
              "    </tr>\n",
              "    <tr>\n",
              "      <th>4</th>\n",
              "      <td>1</td>\n",
              "      <td>5</td>\n",
              "      <td>25.0005</td>\n",
              "      <td>0.6203</td>\n",
              "      <td>60.0</td>\n",
              "      <td>462.54</td>\n",
              "      <td>537.07</td>\n",
              "      <td>1257.71</td>\n",
              "      <td>1047.93</td>\n",
              "      <td>7.05</td>\n",
              "      <td>...</td>\n",
              "      <td>2028.00</td>\n",
              "      <td>7861.23</td>\n",
              "      <td>10.8963</td>\n",
              "      <td>0.02</td>\n",
              "      <td>309</td>\n",
              "      <td>1915</td>\n",
              "      <td>84.93</td>\n",
              "      <td>14.13</td>\n",
              "      <td>8.5286</td>\n",
              "      <td>144</td>\n",
              "    </tr>\n",
              "  </tbody>\n",
              "</table>\n",
              "<p>5 rows × 27 columns</p>\n",
              "</div>"
            ],
            "text/plain": [
              "   ID Engine  Cycle  Setting 1  Setting 2  Setting 3  Sensor 1  Sensor 2  \\\n",
              "0          1      1    34.9983     0.8400      100.0    449.44    555.32   \n",
              "1          1      2    41.9982     0.8408      100.0    445.00    549.90   \n",
              "2          1      3    24.9988     0.6218       60.0    462.54    537.31   \n",
              "3          1      4    42.0077     0.8416      100.0    445.00    549.51   \n",
              "4          1      5    25.0005     0.6203       60.0    462.54    537.07   \n",
              "\n",
              "   Sensor 3  Sensor 4  Sensor 5  ...  Sensor 13  Sensor 14  Sensor 15  \\\n",
              "0   1358.61   1137.23      5.48  ...    2387.72    8048.56     9.3461   \n",
              "1   1353.22   1125.78      3.91  ...    2387.66    8072.30     9.3774   \n",
              "2   1256.76   1047.45      7.05  ...    2028.03    7864.87    10.8941   \n",
              "3   1354.03   1126.38      3.91  ...    2387.61    8068.66     9.3528   \n",
              "4   1257.71   1047.93      7.05  ...    2028.00    7861.23    10.8963   \n",
              "\n",
              "   Sensor 16  Sensor 17  Sensor 18  Sensor 19  Sensor 20  Sensor 21  \\\n",
              "0       0.02        334       2223     100.00      14.73     8.8071   \n",
              "1       0.02        330       2212     100.00      10.41     6.2665   \n",
              "2       0.02        309       1915      84.93      14.08     8.6723   \n",
              "3       0.02        329       2212     100.00      10.59     6.4701   \n",
              "4       0.02        309       1915      84.93      14.13     8.5286   \n",
              "\n",
              "   Remaining RUL  \n",
              "0            148  \n",
              "1            147  \n",
              "2            146  \n",
              "3            145  \n",
              "4            144  \n",
              "\n",
              "[5 rows x 27 columns]"
            ]
          },
          "execution_count": 24,
          "metadata": {},
          "output_type": "execute_result"
        }
      ],
      "source": [
        "train_2.head()"
      ]
    },
    {
      "cell_type": "markdown",
      "metadata": {},
      "source": [
        "### Load RUL set"
      ]
    },
    {
      "cell_type": "code",
      "execution_count": 25,
      "metadata": {},
      "outputs": [
        {
          "name": "stdout",
          "output_type": "stream",
          "text": [
            "RUL shape: (259, 1)\n"
          ]
        }
      ],
      "source": [
        "rul_2 = pd.read_csv(rul_2_path, sep=' ', header=None)\n",
        "rul_2.drop(rul_2.columns[1], axis=1, inplace=True)\n",
        "rul_2.columns = ['RUL']\n",
        "print(f'RUL shape: {rul_2.shape}')"
      ]
    },
    {
      "cell_type": "markdown",
      "metadata": {},
      "source": [
        "Tập RUL này là vòng đời còn lại của động cơ sau khi trải qua số lượng chu kỳ nhất định trong tập test (tương ứng)"
      ]
    },
    {
      "cell_type": "code",
      "execution_count": 26,
      "metadata": {},
      "outputs": [
        {
          "data": {
            "text/html": [
              "<div>\n",
              "<style scoped>\n",
              "    .dataframe tbody tr th:only-of-type {\n",
              "        vertical-align: middle;\n",
              "    }\n",
              "\n",
              "    .dataframe tbody tr th {\n",
              "        vertical-align: top;\n",
              "    }\n",
              "\n",
              "    .dataframe thead th {\n",
              "        text-align: right;\n",
              "    }\n",
              "</style>\n",
              "<table border=\"1\" class=\"dataframe\">\n",
              "  <thead>\n",
              "    <tr style=\"text-align: right;\">\n",
              "      <th></th>\n",
              "      <th>RUL</th>\n",
              "    </tr>\n",
              "  </thead>\n",
              "  <tbody>\n",
              "    <tr>\n",
              "      <th>0</th>\n",
              "      <td>18</td>\n",
              "    </tr>\n",
              "    <tr>\n",
              "      <th>1</th>\n",
              "      <td>79</td>\n",
              "    </tr>\n",
              "    <tr>\n",
              "      <th>2</th>\n",
              "      <td>106</td>\n",
              "    </tr>\n",
              "    <tr>\n",
              "      <th>3</th>\n",
              "      <td>110</td>\n",
              "    </tr>\n",
              "    <tr>\n",
              "      <th>4</th>\n",
              "      <td>15</td>\n",
              "    </tr>\n",
              "  </tbody>\n",
              "</table>\n",
              "</div>"
            ],
            "text/plain": [
              "   RUL\n",
              "0   18\n",
              "1   79\n",
              "2  106\n",
              "3  110\n",
              "4   15"
            ]
          },
          "execution_count": 26,
          "metadata": {},
          "output_type": "execute_result"
        }
      ],
      "source": [
        "rul_2.head()"
      ]
    },
    {
      "cell_type": "markdown",
      "metadata": {},
      "source": [
        "### Calculate RUL for test"
      ]
    },
    {
      "cell_type": "code",
      "execution_count": 27,
      "metadata": {},
      "outputs": [],
      "source": [
        "# Load test set\n",
        "test_2 = pd.read_csv(test_2_path, sep=' ', header=None)\n",
        "test_2.drop([26, 27], axis=1, inplace=True)\n",
        "test_2.columns = column_names\n",
        "\n",
        "test_2['Remaining RUL'] = ''\n",
        "# test_2.head()"
      ]
    },
    {
      "cell_type": "code",
      "execution_count": 28,
      "metadata": {},
      "outputs": [],
      "source": [
        "max_cycle_test_2 = test_2.groupby('ID Engine').count()\n",
        "\n",
        "for idx in range(len(test_2)):\n",
        "    test_2.loc[idx, 'Remaining RUL'] = rul_2.loc[test_2.loc[idx, 'ID Engine'] - 1, 'RUL'] + max_cycle_test_2.loc[test_2.loc[idx, 'ID Engine'], 'Cycle']\n",
        "test_2['Remaining RUL'] = test_2['Remaining RUL'] - test_2['Cycle']"
      ]
    },
    {
      "cell_type": "code",
      "execution_count": 29,
      "metadata": {},
      "outputs": [
        {
          "data": {
            "text/html": [
              "<div>\n",
              "<style scoped>\n",
              "    .dataframe tbody tr th:only-of-type {\n",
              "        vertical-align: middle;\n",
              "    }\n",
              "\n",
              "    .dataframe tbody tr th {\n",
              "        vertical-align: top;\n",
              "    }\n",
              "\n",
              "    .dataframe thead th {\n",
              "        text-align: right;\n",
              "    }\n",
              "</style>\n",
              "<table border=\"1\" class=\"dataframe\">\n",
              "  <thead>\n",
              "    <tr style=\"text-align: right;\">\n",
              "      <th></th>\n",
              "      <th>ID Engine</th>\n",
              "      <th>Cycle</th>\n",
              "      <th>Setting 1</th>\n",
              "      <th>Setting 2</th>\n",
              "      <th>Setting 3</th>\n",
              "      <th>Sensor 1</th>\n",
              "      <th>Sensor 2</th>\n",
              "      <th>Sensor 3</th>\n",
              "      <th>Sensor 4</th>\n",
              "      <th>Sensor 5</th>\n",
              "      <th>...</th>\n",
              "      <th>Sensor 13</th>\n",
              "      <th>Sensor 14</th>\n",
              "      <th>Sensor 15</th>\n",
              "      <th>Sensor 16</th>\n",
              "      <th>Sensor 17</th>\n",
              "      <th>Sensor 18</th>\n",
              "      <th>Sensor 19</th>\n",
              "      <th>Sensor 20</th>\n",
              "      <th>Sensor 21</th>\n",
              "      <th>Remaining RUL</th>\n",
              "    </tr>\n",
              "  </thead>\n",
              "  <tbody>\n",
              "    <tr>\n",
              "      <th>0</th>\n",
              "      <td>1</td>\n",
              "      <td>1</td>\n",
              "      <td>9.9987</td>\n",
              "      <td>0.2502</td>\n",
              "      <td>100.0</td>\n",
              "      <td>489.05</td>\n",
              "      <td>605.03</td>\n",
              "      <td>1497.17</td>\n",
              "      <td>1304.99</td>\n",
              "      <td>10.52</td>\n",
              "      <td>...</td>\n",
              "      <td>2388.18</td>\n",
              "      <td>8114.10</td>\n",
              "      <td>8.6476</td>\n",
              "      <td>0.03</td>\n",
              "      <td>369</td>\n",
              "      <td>2319</td>\n",
              "      <td>100.00</td>\n",
              "      <td>28.42</td>\n",
              "      <td>17.1551</td>\n",
              "      <td>275</td>\n",
              "    </tr>\n",
              "    <tr>\n",
              "      <th>1</th>\n",
              "      <td>1</td>\n",
              "      <td>2</td>\n",
              "      <td>20.0026</td>\n",
              "      <td>0.7000</td>\n",
              "      <td>100.0</td>\n",
              "      <td>491.19</td>\n",
              "      <td>607.82</td>\n",
              "      <td>1481.20</td>\n",
              "      <td>1246.11</td>\n",
              "      <td>9.35</td>\n",
              "      <td>...</td>\n",
              "      <td>2388.12</td>\n",
              "      <td>8053.06</td>\n",
              "      <td>9.2405</td>\n",
              "      <td>0.02</td>\n",
              "      <td>364</td>\n",
              "      <td>2324</td>\n",
              "      <td>100.00</td>\n",
              "      <td>24.29</td>\n",
              "      <td>14.8039</td>\n",
              "      <td>274</td>\n",
              "    </tr>\n",
              "    <tr>\n",
              "      <th>2</th>\n",
              "      <td>1</td>\n",
              "      <td>3</td>\n",
              "      <td>35.0045</td>\n",
              "      <td>0.8400</td>\n",
              "      <td>100.0</td>\n",
              "      <td>449.44</td>\n",
              "      <td>556.00</td>\n",
              "      <td>1359.08</td>\n",
              "      <td>1128.36</td>\n",
              "      <td>5.48</td>\n",
              "      <td>...</td>\n",
              "      <td>2387.75</td>\n",
              "      <td>8053.04</td>\n",
              "      <td>9.3472</td>\n",
              "      <td>0.02</td>\n",
              "      <td>333</td>\n",
              "      <td>2223</td>\n",
              "      <td>100.00</td>\n",
              "      <td>14.98</td>\n",
              "      <td>8.9125</td>\n",
              "      <td>273</td>\n",
              "    </tr>\n",
              "    <tr>\n",
              "      <th>3</th>\n",
              "      <td>1</td>\n",
              "      <td>4</td>\n",
              "      <td>42.0066</td>\n",
              "      <td>0.8410</td>\n",
              "      <td>100.0</td>\n",
              "      <td>445.00</td>\n",
              "      <td>550.17</td>\n",
              "      <td>1349.69</td>\n",
              "      <td>1127.89</td>\n",
              "      <td>3.91</td>\n",
              "      <td>...</td>\n",
              "      <td>2387.72</td>\n",
              "      <td>8066.90</td>\n",
              "      <td>9.3961</td>\n",
              "      <td>0.02</td>\n",
              "      <td>332</td>\n",
              "      <td>2212</td>\n",
              "      <td>100.00</td>\n",
              "      <td>10.35</td>\n",
              "      <td>6.4181</td>\n",
              "      <td>272</td>\n",
              "    </tr>\n",
              "    <tr>\n",
              "      <th>4</th>\n",
              "      <td>1</td>\n",
              "      <td>5</td>\n",
              "      <td>24.9985</td>\n",
              "      <td>0.6213</td>\n",
              "      <td>60.0</td>\n",
              "      <td>462.54</td>\n",
              "      <td>536.72</td>\n",
              "      <td>1253.18</td>\n",
              "      <td>1050.69</td>\n",
              "      <td>7.05</td>\n",
              "      <td>...</td>\n",
              "      <td>2028.05</td>\n",
              "      <td>7865.66</td>\n",
              "      <td>10.8682</td>\n",
              "      <td>0.02</td>\n",
              "      <td>305</td>\n",
              "      <td>1915</td>\n",
              "      <td>84.93</td>\n",
              "      <td>14.31</td>\n",
              "      <td>8.5740</td>\n",
              "      <td>271</td>\n",
              "    </tr>\n",
              "  </tbody>\n",
              "</table>\n",
              "<p>5 rows × 27 columns</p>\n",
              "</div>"
            ],
            "text/plain": [
              "   ID Engine  Cycle  Setting 1  Setting 2  Setting 3  Sensor 1  Sensor 2  \\\n",
              "0          1      1     9.9987     0.2502      100.0    489.05    605.03   \n",
              "1          1      2    20.0026     0.7000      100.0    491.19    607.82   \n",
              "2          1      3    35.0045     0.8400      100.0    449.44    556.00   \n",
              "3          1      4    42.0066     0.8410      100.0    445.00    550.17   \n",
              "4          1      5    24.9985     0.6213       60.0    462.54    536.72   \n",
              "\n",
              "   Sensor 3  Sensor 4  Sensor 5  ...  Sensor 13  Sensor 14  Sensor 15  \\\n",
              "0   1497.17   1304.99     10.52  ...    2388.18    8114.10     8.6476   \n",
              "1   1481.20   1246.11      9.35  ...    2388.12    8053.06     9.2405   \n",
              "2   1359.08   1128.36      5.48  ...    2387.75    8053.04     9.3472   \n",
              "3   1349.69   1127.89      3.91  ...    2387.72    8066.90     9.3961   \n",
              "4   1253.18   1050.69      7.05  ...    2028.05    7865.66    10.8682   \n",
              "\n",
              "   Sensor 16  Sensor 17  Sensor 18  Sensor 19  Sensor 20  Sensor 21  \\\n",
              "0       0.03        369       2319     100.00      28.42    17.1551   \n",
              "1       0.02        364       2324     100.00      24.29    14.8039   \n",
              "2       0.02        333       2223     100.00      14.98     8.9125   \n",
              "3       0.02        332       2212     100.00      10.35     6.4181   \n",
              "4       0.02        305       1915      84.93      14.31     8.5740   \n",
              "\n",
              "   Remaining RUL  \n",
              "0            275  \n",
              "1            274  \n",
              "2            273  \n",
              "3            272  \n",
              "4            271  \n",
              "\n",
              "[5 rows x 27 columns]"
            ]
          },
          "execution_count": 29,
          "metadata": {},
          "output_type": "execute_result"
        }
      ],
      "source": [
        "test_2.head()"
      ]
    },
    {
      "cell_type": "markdown",
      "metadata": {},
      "source": [
        "# Calculate RUL for FD003"
      ]
    },
    {
      "cell_type": "markdown",
      "metadata": {},
      "source": [
        "### Calculate RUL for train set"
      ]
    },
    {
      "cell_type": "code",
      "execution_count": 30,
      "metadata": {},
      "outputs": [],
      "source": [
        "# Load trainset\n",
        "train_3 = pd.read_csv(train_3_path, sep=' ', header=None)\n",
        "train_3.drop([26, 27], axis=1, inplace=True)\n",
        "train_3.columns = column_names\n",
        "\n",
        "train_3['Remaining RUL'] = ''\n",
        "# train_3.head()"
      ]
    },
    {
      "cell_type": "code",
      "execution_count": 31,
      "metadata": {},
      "outputs": [
        {
          "name": "stdout",
          "output_type": "stream",
          "text": [
            "trainset shape: (24720, 27)\n"
          ]
        }
      ],
      "source": [
        "# Calculate the remaining RUL for each engine\n",
        "max_cycle_3 = train_3.groupby('ID Engine').count()\n",
        "for idx in range(len(train_3)):\n",
        "    train_3.loc[idx, 'Remaining RUL'] = max_cycle_3.loc[train_3.loc[idx, 'ID Engine'], 'Cycle']\n",
        "train_3['Remaining RUL'] = train_3['Remaining RUL'] - train_3['Cycle']\n",
        "\n",
        "print(f\"trainset shape: {train_3.shape}\")"
      ]
    },
    {
      "cell_type": "code",
      "execution_count": 32,
      "metadata": {},
      "outputs": [
        {
          "data": {
            "text/html": [
              "<div>\n",
              "<style scoped>\n",
              "    .dataframe tbody tr th:only-of-type {\n",
              "        vertical-align: middle;\n",
              "    }\n",
              "\n",
              "    .dataframe tbody tr th {\n",
              "        vertical-align: top;\n",
              "    }\n",
              "\n",
              "    .dataframe thead th {\n",
              "        text-align: right;\n",
              "    }\n",
              "</style>\n",
              "<table border=\"1\" class=\"dataframe\">\n",
              "  <thead>\n",
              "    <tr style=\"text-align: right;\">\n",
              "      <th></th>\n",
              "      <th>ID Engine</th>\n",
              "      <th>Cycle</th>\n",
              "      <th>Setting 1</th>\n",
              "      <th>Setting 2</th>\n",
              "      <th>Setting 3</th>\n",
              "      <th>Sensor 1</th>\n",
              "      <th>Sensor 2</th>\n",
              "      <th>Sensor 3</th>\n",
              "      <th>Sensor 4</th>\n",
              "      <th>Sensor 5</th>\n",
              "      <th>...</th>\n",
              "      <th>Sensor 13</th>\n",
              "      <th>Sensor 14</th>\n",
              "      <th>Sensor 15</th>\n",
              "      <th>Sensor 16</th>\n",
              "      <th>Sensor 17</th>\n",
              "      <th>Sensor 18</th>\n",
              "      <th>Sensor 19</th>\n",
              "      <th>Sensor 20</th>\n",
              "      <th>Sensor 21</th>\n",
              "      <th>Remaining RUL</th>\n",
              "    </tr>\n",
              "  </thead>\n",
              "  <tbody>\n",
              "    <tr>\n",
              "      <th>0</th>\n",
              "      <td>1</td>\n",
              "      <td>1</td>\n",
              "      <td>-0.0005</td>\n",
              "      <td>0.0004</td>\n",
              "      <td>100.0</td>\n",
              "      <td>518.67</td>\n",
              "      <td>642.36</td>\n",
              "      <td>1583.23</td>\n",
              "      <td>1396.84</td>\n",
              "      <td>14.62</td>\n",
              "      <td>...</td>\n",
              "      <td>2388.01</td>\n",
              "      <td>8145.32</td>\n",
              "      <td>8.4246</td>\n",
              "      <td>0.03</td>\n",
              "      <td>391</td>\n",
              "      <td>2388</td>\n",
              "      <td>100.0</td>\n",
              "      <td>39.11</td>\n",
              "      <td>23.3537</td>\n",
              "      <td>258</td>\n",
              "    </tr>\n",
              "    <tr>\n",
              "      <th>1</th>\n",
              "      <td>1</td>\n",
              "      <td>2</td>\n",
              "      <td>0.0008</td>\n",
              "      <td>-0.0003</td>\n",
              "      <td>100.0</td>\n",
              "      <td>518.67</td>\n",
              "      <td>642.50</td>\n",
              "      <td>1584.69</td>\n",
              "      <td>1396.89</td>\n",
              "      <td>14.62</td>\n",
              "      <td>...</td>\n",
              "      <td>2388.03</td>\n",
              "      <td>8152.85</td>\n",
              "      <td>8.4403</td>\n",
              "      <td>0.03</td>\n",
              "      <td>392</td>\n",
              "      <td>2388</td>\n",
              "      <td>100.0</td>\n",
              "      <td>38.99</td>\n",
              "      <td>23.4491</td>\n",
              "      <td>257</td>\n",
              "    </tr>\n",
              "    <tr>\n",
              "      <th>2</th>\n",
              "      <td>1</td>\n",
              "      <td>3</td>\n",
              "      <td>-0.0014</td>\n",
              "      <td>-0.0002</td>\n",
              "      <td>100.0</td>\n",
              "      <td>518.67</td>\n",
              "      <td>642.18</td>\n",
              "      <td>1582.35</td>\n",
              "      <td>1405.61</td>\n",
              "      <td>14.62</td>\n",
              "      <td>...</td>\n",
              "      <td>2388.00</td>\n",
              "      <td>8150.17</td>\n",
              "      <td>8.3901</td>\n",
              "      <td>0.03</td>\n",
              "      <td>391</td>\n",
              "      <td>2388</td>\n",
              "      <td>100.0</td>\n",
              "      <td>38.85</td>\n",
              "      <td>23.3669</td>\n",
              "      <td>256</td>\n",
              "    </tr>\n",
              "    <tr>\n",
              "      <th>3</th>\n",
              "      <td>1</td>\n",
              "      <td>4</td>\n",
              "      <td>-0.0020</td>\n",
              "      <td>0.0001</td>\n",
              "      <td>100.0</td>\n",
              "      <td>518.67</td>\n",
              "      <td>642.92</td>\n",
              "      <td>1585.61</td>\n",
              "      <td>1392.27</td>\n",
              "      <td>14.62</td>\n",
              "      <td>...</td>\n",
              "      <td>2388.08</td>\n",
              "      <td>8146.56</td>\n",
              "      <td>8.3878</td>\n",
              "      <td>0.03</td>\n",
              "      <td>392</td>\n",
              "      <td>2388</td>\n",
              "      <td>100.0</td>\n",
              "      <td>38.96</td>\n",
              "      <td>23.2951</td>\n",
              "      <td>255</td>\n",
              "    </tr>\n",
              "    <tr>\n",
              "      <th>4</th>\n",
              "      <td>1</td>\n",
              "      <td>5</td>\n",
              "      <td>0.0016</td>\n",
              "      <td>0.0000</td>\n",
              "      <td>100.0</td>\n",
              "      <td>518.67</td>\n",
              "      <td>641.68</td>\n",
              "      <td>1588.63</td>\n",
              "      <td>1397.65</td>\n",
              "      <td>14.62</td>\n",
              "      <td>...</td>\n",
              "      <td>2388.03</td>\n",
              "      <td>8147.80</td>\n",
              "      <td>8.3869</td>\n",
              "      <td>0.03</td>\n",
              "      <td>392</td>\n",
              "      <td>2388</td>\n",
              "      <td>100.0</td>\n",
              "      <td>39.14</td>\n",
              "      <td>23.4583</td>\n",
              "      <td>254</td>\n",
              "    </tr>\n",
              "  </tbody>\n",
              "</table>\n",
              "<p>5 rows × 27 columns</p>\n",
              "</div>"
            ],
            "text/plain": [
              "   ID Engine  Cycle  Setting 1  Setting 2  Setting 3  Sensor 1  Sensor 2  \\\n",
              "0          1      1    -0.0005     0.0004      100.0    518.67    642.36   \n",
              "1          1      2     0.0008    -0.0003      100.0    518.67    642.50   \n",
              "2          1      3    -0.0014    -0.0002      100.0    518.67    642.18   \n",
              "3          1      4    -0.0020     0.0001      100.0    518.67    642.92   \n",
              "4          1      5     0.0016     0.0000      100.0    518.67    641.68   \n",
              "\n",
              "   Sensor 3  Sensor 4  Sensor 5  ...  Sensor 13  Sensor 14  Sensor 15  \\\n",
              "0   1583.23   1396.84     14.62  ...    2388.01    8145.32     8.4246   \n",
              "1   1584.69   1396.89     14.62  ...    2388.03    8152.85     8.4403   \n",
              "2   1582.35   1405.61     14.62  ...    2388.00    8150.17     8.3901   \n",
              "3   1585.61   1392.27     14.62  ...    2388.08    8146.56     8.3878   \n",
              "4   1588.63   1397.65     14.62  ...    2388.03    8147.80     8.3869   \n",
              "\n",
              "   Sensor 16  Sensor 17  Sensor 18  Sensor 19  Sensor 20  Sensor 21  \\\n",
              "0       0.03        391       2388      100.0      39.11    23.3537   \n",
              "1       0.03        392       2388      100.0      38.99    23.4491   \n",
              "2       0.03        391       2388      100.0      38.85    23.3669   \n",
              "3       0.03        392       2388      100.0      38.96    23.2951   \n",
              "4       0.03        392       2388      100.0      39.14    23.4583   \n",
              "\n",
              "   Remaining RUL  \n",
              "0            258  \n",
              "1            257  \n",
              "2            256  \n",
              "3            255  \n",
              "4            254  \n",
              "\n",
              "[5 rows x 27 columns]"
            ]
          },
          "execution_count": 32,
          "metadata": {},
          "output_type": "execute_result"
        }
      ],
      "source": [
        "train_3.head()"
      ]
    },
    {
      "cell_type": "markdown",
      "metadata": {},
      "source": [
        "### Load RUL set"
      ]
    },
    {
      "cell_type": "code",
      "execution_count": 33,
      "metadata": {},
      "outputs": [
        {
          "name": "stdout",
          "output_type": "stream",
          "text": [
            "RUL shape: (100, 1)\n"
          ]
        }
      ],
      "source": [
        "rul_3 = pd.read_csv(rul_3_path, sep=' ', header=None)\n",
        "rul_3.drop(rul_3.columns[1], axis=1, inplace=True)\n",
        "rul_3.columns = ['RUL']\n",
        "print(f'RUL shape: {rul_3.shape}')"
      ]
    },
    {
      "cell_type": "markdown",
      "metadata": {},
      "source": [
        "Tập RUL này là vòng đời còn lại của động cơ sau khi trải qua số lượng chu kỳ nhất định trong tập test (tương ứng)"
      ]
    },
    {
      "cell_type": "code",
      "execution_count": 34,
      "metadata": {},
      "outputs": [
        {
          "data": {
            "text/html": [
              "<div>\n",
              "<style scoped>\n",
              "    .dataframe tbody tr th:only-of-type {\n",
              "        vertical-align: middle;\n",
              "    }\n",
              "\n",
              "    .dataframe tbody tr th {\n",
              "        vertical-align: top;\n",
              "    }\n",
              "\n",
              "    .dataframe thead th {\n",
              "        text-align: right;\n",
              "    }\n",
              "</style>\n",
              "<table border=\"1\" class=\"dataframe\">\n",
              "  <thead>\n",
              "    <tr style=\"text-align: right;\">\n",
              "      <th></th>\n",
              "      <th>RUL</th>\n",
              "    </tr>\n",
              "  </thead>\n",
              "  <tbody>\n",
              "    <tr>\n",
              "      <th>0</th>\n",
              "      <td>44</td>\n",
              "    </tr>\n",
              "    <tr>\n",
              "      <th>1</th>\n",
              "      <td>51</td>\n",
              "    </tr>\n",
              "    <tr>\n",
              "      <th>2</th>\n",
              "      <td>27</td>\n",
              "    </tr>\n",
              "    <tr>\n",
              "      <th>3</th>\n",
              "      <td>120</td>\n",
              "    </tr>\n",
              "    <tr>\n",
              "      <th>4</th>\n",
              "      <td>101</td>\n",
              "    </tr>\n",
              "  </tbody>\n",
              "</table>\n",
              "</div>"
            ],
            "text/plain": [
              "   RUL\n",
              "0   44\n",
              "1   51\n",
              "2   27\n",
              "3  120\n",
              "4  101"
            ]
          },
          "execution_count": 34,
          "metadata": {},
          "output_type": "execute_result"
        }
      ],
      "source": [
        "rul_3.head()"
      ]
    },
    {
      "cell_type": "markdown",
      "metadata": {},
      "source": [
        "### Calculate RUL for test"
      ]
    },
    {
      "cell_type": "code",
      "execution_count": 35,
      "metadata": {},
      "outputs": [],
      "source": [
        "# Load test set\n",
        "test_3 = pd.read_csv(test_3_path, sep=' ', header=None)\n",
        "test_3.drop([26, 27], axis=1, inplace=True)\n",
        "test_3.columns = column_names\n",
        "\n",
        "test_3['Remaining RUL'] = ''\n",
        "# test_3.head()"
      ]
    },
    {
      "cell_type": "code",
      "execution_count": 36,
      "metadata": {},
      "outputs": [],
      "source": [
        "max_cycle_test_3 = test_3.groupby('ID Engine').count()\n",
        "\n",
        "for idx in range(len(test_3)):\n",
        "    test_3.loc[idx, 'Remaining RUL'] = rul_3.loc[test_3.loc[idx, 'ID Engine'] - 1, 'RUL'] + max_cycle_test_3.loc[test_3.loc[idx, 'ID Engine'], 'Cycle']\n",
        "test_3['Remaining RUL'] = test_3['Remaining RUL'] - test_3['Cycle']"
      ]
    },
    {
      "cell_type": "code",
      "execution_count": 37,
      "metadata": {},
      "outputs": [
        {
          "data": {
            "text/html": [
              "<div>\n",
              "<style scoped>\n",
              "    .dataframe tbody tr th:only-of-type {\n",
              "        vertical-align: middle;\n",
              "    }\n",
              "\n",
              "    .dataframe tbody tr th {\n",
              "        vertical-align: top;\n",
              "    }\n",
              "\n",
              "    .dataframe thead th {\n",
              "        text-align: right;\n",
              "    }\n",
              "</style>\n",
              "<table border=\"1\" class=\"dataframe\">\n",
              "  <thead>\n",
              "    <tr style=\"text-align: right;\">\n",
              "      <th></th>\n",
              "      <th>ID Engine</th>\n",
              "      <th>Cycle</th>\n",
              "      <th>Setting 1</th>\n",
              "      <th>Setting 2</th>\n",
              "      <th>Setting 3</th>\n",
              "      <th>Sensor 1</th>\n",
              "      <th>Sensor 2</th>\n",
              "      <th>Sensor 3</th>\n",
              "      <th>Sensor 4</th>\n",
              "      <th>Sensor 5</th>\n",
              "      <th>...</th>\n",
              "      <th>Sensor 13</th>\n",
              "      <th>Sensor 14</th>\n",
              "      <th>Sensor 15</th>\n",
              "      <th>Sensor 16</th>\n",
              "      <th>Sensor 17</th>\n",
              "      <th>Sensor 18</th>\n",
              "      <th>Sensor 19</th>\n",
              "      <th>Sensor 20</th>\n",
              "      <th>Sensor 21</th>\n",
              "      <th>Remaining RUL</th>\n",
              "    </tr>\n",
              "  </thead>\n",
              "  <tbody>\n",
              "    <tr>\n",
              "      <th>0</th>\n",
              "      <td>1</td>\n",
              "      <td>1</td>\n",
              "      <td>-0.0017</td>\n",
              "      <td>-0.0004</td>\n",
              "      <td>100.0</td>\n",
              "      <td>518.67</td>\n",
              "      <td>641.94</td>\n",
              "      <td>1581.93</td>\n",
              "      <td>1396.93</td>\n",
              "      <td>14.62</td>\n",
              "      <td>...</td>\n",
              "      <td>2387.94</td>\n",
              "      <td>8133.48</td>\n",
              "      <td>8.3760</td>\n",
              "      <td>0.03</td>\n",
              "      <td>391</td>\n",
              "      <td>2388</td>\n",
              "      <td>100.0</td>\n",
              "      <td>39.07</td>\n",
              "      <td>23.4468</td>\n",
              "      <td>276</td>\n",
              "    </tr>\n",
              "    <tr>\n",
              "      <th>1</th>\n",
              "      <td>1</td>\n",
              "      <td>2</td>\n",
              "      <td>0.0006</td>\n",
              "      <td>-0.0002</td>\n",
              "      <td>100.0</td>\n",
              "      <td>518.67</td>\n",
              "      <td>642.02</td>\n",
              "      <td>1584.86</td>\n",
              "      <td>1398.90</td>\n",
              "      <td>14.62</td>\n",
              "      <td>...</td>\n",
              "      <td>2388.01</td>\n",
              "      <td>8137.44</td>\n",
              "      <td>8.4062</td>\n",
              "      <td>0.03</td>\n",
              "      <td>391</td>\n",
              "      <td>2388</td>\n",
              "      <td>100.0</td>\n",
              "      <td>39.04</td>\n",
              "      <td>23.4807</td>\n",
              "      <td>275</td>\n",
              "    </tr>\n",
              "    <tr>\n",
              "      <th>2</th>\n",
              "      <td>1</td>\n",
              "      <td>3</td>\n",
              "      <td>0.0014</td>\n",
              "      <td>-0.0003</td>\n",
              "      <td>100.0</td>\n",
              "      <td>518.67</td>\n",
              "      <td>641.68</td>\n",
              "      <td>1581.78</td>\n",
              "      <td>1391.92</td>\n",
              "      <td>14.62</td>\n",
              "      <td>...</td>\n",
              "      <td>2387.94</td>\n",
              "      <td>8138.25</td>\n",
              "      <td>8.3553</td>\n",
              "      <td>0.03</td>\n",
              "      <td>391</td>\n",
              "      <td>2388</td>\n",
              "      <td>100.0</td>\n",
              "      <td>39.10</td>\n",
              "      <td>23.4244</td>\n",
              "      <td>274</td>\n",
              "    </tr>\n",
              "    <tr>\n",
              "      <th>3</th>\n",
              "      <td>1</td>\n",
              "      <td>4</td>\n",
              "      <td>0.0027</td>\n",
              "      <td>0.0001</td>\n",
              "      <td>100.0</td>\n",
              "      <td>518.67</td>\n",
              "      <td>642.20</td>\n",
              "      <td>1584.53</td>\n",
              "      <td>1395.34</td>\n",
              "      <td>14.62</td>\n",
              "      <td>...</td>\n",
              "      <td>2387.96</td>\n",
              "      <td>8137.07</td>\n",
              "      <td>8.3709</td>\n",
              "      <td>0.03</td>\n",
              "      <td>392</td>\n",
              "      <td>2388</td>\n",
              "      <td>100.0</td>\n",
              "      <td>38.97</td>\n",
              "      <td>23.4782</td>\n",
              "      <td>273</td>\n",
              "    </tr>\n",
              "    <tr>\n",
              "      <th>4</th>\n",
              "      <td>1</td>\n",
              "      <td>5</td>\n",
              "      <td>-0.0001</td>\n",
              "      <td>0.0001</td>\n",
              "      <td>100.0</td>\n",
              "      <td>518.67</td>\n",
              "      <td>642.46</td>\n",
              "      <td>1589.03</td>\n",
              "      <td>1395.86</td>\n",
              "      <td>14.62</td>\n",
              "      <td>...</td>\n",
              "      <td>2387.97</td>\n",
              "      <td>8134.20</td>\n",
              "      <td>8.4146</td>\n",
              "      <td>0.03</td>\n",
              "      <td>391</td>\n",
              "      <td>2388</td>\n",
              "      <td>100.0</td>\n",
              "      <td>39.09</td>\n",
              "      <td>23.3950</td>\n",
              "      <td>272</td>\n",
              "    </tr>\n",
              "  </tbody>\n",
              "</table>\n",
              "<p>5 rows × 27 columns</p>\n",
              "</div>"
            ],
            "text/plain": [
              "   ID Engine  Cycle  Setting 1  Setting 2  Setting 3  Sensor 1  Sensor 2  \\\n",
              "0          1      1    -0.0017    -0.0004      100.0    518.67    641.94   \n",
              "1          1      2     0.0006    -0.0002      100.0    518.67    642.02   \n",
              "2          1      3     0.0014    -0.0003      100.0    518.67    641.68   \n",
              "3          1      4     0.0027     0.0001      100.0    518.67    642.20   \n",
              "4          1      5    -0.0001     0.0001      100.0    518.67    642.46   \n",
              "\n",
              "   Sensor 3  Sensor 4  Sensor 5  ...  Sensor 13  Sensor 14  Sensor 15  \\\n",
              "0   1581.93   1396.93     14.62  ...    2387.94    8133.48     8.3760   \n",
              "1   1584.86   1398.90     14.62  ...    2388.01    8137.44     8.4062   \n",
              "2   1581.78   1391.92     14.62  ...    2387.94    8138.25     8.3553   \n",
              "3   1584.53   1395.34     14.62  ...    2387.96    8137.07     8.3709   \n",
              "4   1589.03   1395.86     14.62  ...    2387.97    8134.20     8.4146   \n",
              "\n",
              "   Sensor 16  Sensor 17  Sensor 18  Sensor 19  Sensor 20  Sensor 21  \\\n",
              "0       0.03        391       2388      100.0      39.07    23.4468   \n",
              "1       0.03        391       2388      100.0      39.04    23.4807   \n",
              "2       0.03        391       2388      100.0      39.10    23.4244   \n",
              "3       0.03        392       2388      100.0      38.97    23.4782   \n",
              "4       0.03        391       2388      100.0      39.09    23.3950   \n",
              "\n",
              "   Remaining RUL  \n",
              "0            276  \n",
              "1            275  \n",
              "2            274  \n",
              "3            273  \n",
              "4            272  \n",
              "\n",
              "[5 rows x 27 columns]"
            ]
          },
          "execution_count": 37,
          "metadata": {},
          "output_type": "execute_result"
        }
      ],
      "source": [
        "test_3.head()"
      ]
    },
    {
      "cell_type": "markdown",
      "metadata": {},
      "source": [
        "# Calculate RUL for FD004"
      ]
    },
    {
      "cell_type": "markdown",
      "metadata": {},
      "source": [
        "### Calculate RUL for train set"
      ]
    },
    {
      "cell_type": "code",
      "execution_count": 38,
      "metadata": {},
      "outputs": [],
      "source": [
        "# Load trainset\n",
        "train_4 = pd.read_csv(train_4_path, sep=' ', header=None)\n",
        "train_4.drop([26, 27], axis=1, inplace=True)\n",
        "train_4.columns = column_names\n",
        "\n",
        "train_4['Remaining RUL'] = ''\n",
        "# train_4.head()"
      ]
    },
    {
      "cell_type": "code",
      "execution_count": 39,
      "metadata": {},
      "outputs": [
        {
          "name": "stdout",
          "output_type": "stream",
          "text": [
            "trainset shape: (61249, 27)\n"
          ]
        }
      ],
      "source": [
        "# Calculate the remaining RUL for each engine\n",
        "max_cycle_4 = train_4.groupby('ID Engine').count()\n",
        "for idx in range(len(train_4)):\n",
        "    train_4.loc[idx, 'Remaining RUL'] = max_cycle_4.loc[train_4.loc[idx, 'ID Engine'], 'Cycle']\n",
        "train_4['Remaining RUL'] = train_4['Remaining RUL'] - train_4['Cycle']\n",
        "\n",
        "print(f\"trainset shape: {train_4.shape}\")"
      ]
    },
    {
      "cell_type": "code",
      "execution_count": 40,
      "metadata": {},
      "outputs": [
        {
          "data": {
            "text/html": [
              "<div>\n",
              "<style scoped>\n",
              "    .dataframe tbody tr th:only-of-type {\n",
              "        vertical-align: middle;\n",
              "    }\n",
              "\n",
              "    .dataframe tbody tr th {\n",
              "        vertical-align: top;\n",
              "    }\n",
              "\n",
              "    .dataframe thead th {\n",
              "        text-align: right;\n",
              "    }\n",
              "</style>\n",
              "<table border=\"1\" class=\"dataframe\">\n",
              "  <thead>\n",
              "    <tr style=\"text-align: right;\">\n",
              "      <th></th>\n",
              "      <th>ID Engine</th>\n",
              "      <th>Cycle</th>\n",
              "      <th>Setting 1</th>\n",
              "      <th>Setting 2</th>\n",
              "      <th>Setting 3</th>\n",
              "      <th>Sensor 1</th>\n",
              "      <th>Sensor 2</th>\n",
              "      <th>Sensor 3</th>\n",
              "      <th>Sensor 4</th>\n",
              "      <th>Sensor 5</th>\n",
              "      <th>...</th>\n",
              "      <th>Sensor 13</th>\n",
              "      <th>Sensor 14</th>\n",
              "      <th>Sensor 15</th>\n",
              "      <th>Sensor 16</th>\n",
              "      <th>Sensor 17</th>\n",
              "      <th>Sensor 18</th>\n",
              "      <th>Sensor 19</th>\n",
              "      <th>Sensor 20</th>\n",
              "      <th>Sensor 21</th>\n",
              "      <th>Remaining RUL</th>\n",
              "    </tr>\n",
              "  </thead>\n",
              "  <tbody>\n",
              "    <tr>\n",
              "      <th>0</th>\n",
              "      <td>1</td>\n",
              "      <td>1</td>\n",
              "      <td>42.0049</td>\n",
              "      <td>0.8400</td>\n",
              "      <td>100.0</td>\n",
              "      <td>445.00</td>\n",
              "      <td>549.68</td>\n",
              "      <td>1343.43</td>\n",
              "      <td>1112.93</td>\n",
              "      <td>3.91</td>\n",
              "      <td>...</td>\n",
              "      <td>2387.99</td>\n",
              "      <td>8074.83</td>\n",
              "      <td>9.3335</td>\n",
              "      <td>0.02</td>\n",
              "      <td>330</td>\n",
              "      <td>2212</td>\n",
              "      <td>100.00</td>\n",
              "      <td>10.62</td>\n",
              "      <td>6.3670</td>\n",
              "      <td>320</td>\n",
              "    </tr>\n",
              "    <tr>\n",
              "      <th>1</th>\n",
              "      <td>1</td>\n",
              "      <td>2</td>\n",
              "      <td>20.0020</td>\n",
              "      <td>0.7002</td>\n",
              "      <td>100.0</td>\n",
              "      <td>491.19</td>\n",
              "      <td>606.07</td>\n",
              "      <td>1477.61</td>\n",
              "      <td>1237.50</td>\n",
              "      <td>9.35</td>\n",
              "      <td>...</td>\n",
              "      <td>2387.73</td>\n",
              "      <td>8046.13</td>\n",
              "      <td>9.1913</td>\n",
              "      <td>0.02</td>\n",
              "      <td>361</td>\n",
              "      <td>2324</td>\n",
              "      <td>100.00</td>\n",
              "      <td>24.37</td>\n",
              "      <td>14.6552</td>\n",
              "      <td>319</td>\n",
              "    </tr>\n",
              "    <tr>\n",
              "      <th>2</th>\n",
              "      <td>1</td>\n",
              "      <td>3</td>\n",
              "      <td>42.0038</td>\n",
              "      <td>0.8409</td>\n",
              "      <td>100.0</td>\n",
              "      <td>445.00</td>\n",
              "      <td>548.95</td>\n",
              "      <td>1343.12</td>\n",
              "      <td>1117.05</td>\n",
              "      <td>3.91</td>\n",
              "      <td>...</td>\n",
              "      <td>2387.97</td>\n",
              "      <td>8066.62</td>\n",
              "      <td>9.4007</td>\n",
              "      <td>0.02</td>\n",
              "      <td>329</td>\n",
              "      <td>2212</td>\n",
              "      <td>100.00</td>\n",
              "      <td>10.48</td>\n",
              "      <td>6.4213</td>\n",
              "      <td>318</td>\n",
              "    </tr>\n",
              "    <tr>\n",
              "      <th>3</th>\n",
              "      <td>1</td>\n",
              "      <td>4</td>\n",
              "      <td>42.0000</td>\n",
              "      <td>0.8400</td>\n",
              "      <td>100.0</td>\n",
              "      <td>445.00</td>\n",
              "      <td>548.70</td>\n",
              "      <td>1341.24</td>\n",
              "      <td>1118.03</td>\n",
              "      <td>3.91</td>\n",
              "      <td>...</td>\n",
              "      <td>2388.02</td>\n",
              "      <td>8076.05</td>\n",
              "      <td>9.3369</td>\n",
              "      <td>0.02</td>\n",
              "      <td>328</td>\n",
              "      <td>2212</td>\n",
              "      <td>100.00</td>\n",
              "      <td>10.54</td>\n",
              "      <td>6.4176</td>\n",
              "      <td>317</td>\n",
              "    </tr>\n",
              "    <tr>\n",
              "      <th>4</th>\n",
              "      <td>1</td>\n",
              "      <td>5</td>\n",
              "      <td>25.0063</td>\n",
              "      <td>0.6207</td>\n",
              "      <td>60.0</td>\n",
              "      <td>462.54</td>\n",
              "      <td>536.10</td>\n",
              "      <td>1255.23</td>\n",
              "      <td>1033.59</td>\n",
              "      <td>7.05</td>\n",
              "      <td>...</td>\n",
              "      <td>2028.08</td>\n",
              "      <td>7865.80</td>\n",
              "      <td>10.8366</td>\n",
              "      <td>0.02</td>\n",
              "      <td>305</td>\n",
              "      <td>1915</td>\n",
              "      <td>84.93</td>\n",
              "      <td>14.03</td>\n",
              "      <td>8.6754</td>\n",
              "      <td>316</td>\n",
              "    </tr>\n",
              "  </tbody>\n",
              "</table>\n",
              "<p>5 rows × 27 columns</p>\n",
              "</div>"
            ],
            "text/plain": [
              "   ID Engine  Cycle  Setting 1  Setting 2  Setting 3  Sensor 1  Sensor 2  \\\n",
              "0          1      1    42.0049     0.8400      100.0    445.00    549.68   \n",
              "1          1      2    20.0020     0.7002      100.0    491.19    606.07   \n",
              "2          1      3    42.0038     0.8409      100.0    445.00    548.95   \n",
              "3          1      4    42.0000     0.8400      100.0    445.00    548.70   \n",
              "4          1      5    25.0063     0.6207       60.0    462.54    536.10   \n",
              "\n",
              "   Sensor 3  Sensor 4  Sensor 5  ...  Sensor 13  Sensor 14  Sensor 15  \\\n",
              "0   1343.43   1112.93      3.91  ...    2387.99    8074.83     9.3335   \n",
              "1   1477.61   1237.50      9.35  ...    2387.73    8046.13     9.1913   \n",
              "2   1343.12   1117.05      3.91  ...    2387.97    8066.62     9.4007   \n",
              "3   1341.24   1118.03      3.91  ...    2388.02    8076.05     9.3369   \n",
              "4   1255.23   1033.59      7.05  ...    2028.08    7865.80    10.8366   \n",
              "\n",
              "   Sensor 16  Sensor 17  Sensor 18  Sensor 19  Sensor 20  Sensor 21  \\\n",
              "0       0.02        330       2212     100.00      10.62     6.3670   \n",
              "1       0.02        361       2324     100.00      24.37    14.6552   \n",
              "2       0.02        329       2212     100.00      10.48     6.4213   \n",
              "3       0.02        328       2212     100.00      10.54     6.4176   \n",
              "4       0.02        305       1915      84.93      14.03     8.6754   \n",
              "\n",
              "   Remaining RUL  \n",
              "0            320  \n",
              "1            319  \n",
              "2            318  \n",
              "3            317  \n",
              "4            316  \n",
              "\n",
              "[5 rows x 27 columns]"
            ]
          },
          "execution_count": 40,
          "metadata": {},
          "output_type": "execute_result"
        }
      ],
      "source": [
        "train_4.head()"
      ]
    },
    {
      "cell_type": "markdown",
      "metadata": {},
      "source": [
        "### Load RUL set"
      ]
    },
    {
      "cell_type": "code",
      "execution_count": 41,
      "metadata": {},
      "outputs": [
        {
          "name": "stdout",
          "output_type": "stream",
          "text": [
            "RUL shape: (248, 1)\n"
          ]
        }
      ],
      "source": [
        "rul_4 = pd.read_csv(rul_4_path, sep=' ', header=None)\n",
        "rul_4.drop(rul_4.columns[1], axis=1, inplace=True)\n",
        "rul_4.columns = ['RUL']\n",
        "print(f'RUL shape: {rul_4.shape}')"
      ]
    },
    {
      "cell_type": "markdown",
      "metadata": {},
      "source": [
        "Tập RUL này là vòng đời còn lại của động cơ sau khi trải qua số lượng chu kỳ nhất định trong tập test (tương ứng)"
      ]
    },
    {
      "cell_type": "code",
      "execution_count": 42,
      "metadata": {},
      "outputs": [
        {
          "data": {
            "text/html": [
              "<div>\n",
              "<style scoped>\n",
              "    .dataframe tbody tr th:only-of-type {\n",
              "        vertical-align: middle;\n",
              "    }\n",
              "\n",
              "    .dataframe tbody tr th {\n",
              "        vertical-align: top;\n",
              "    }\n",
              "\n",
              "    .dataframe thead th {\n",
              "        text-align: right;\n",
              "    }\n",
              "</style>\n",
              "<table border=\"1\" class=\"dataframe\">\n",
              "  <thead>\n",
              "    <tr style=\"text-align: right;\">\n",
              "      <th></th>\n",
              "      <th>RUL</th>\n",
              "    </tr>\n",
              "  </thead>\n",
              "  <tbody>\n",
              "    <tr>\n",
              "      <th>0</th>\n",
              "      <td>22</td>\n",
              "    </tr>\n",
              "    <tr>\n",
              "      <th>1</th>\n",
              "      <td>39</td>\n",
              "    </tr>\n",
              "    <tr>\n",
              "      <th>2</th>\n",
              "      <td>107</td>\n",
              "    </tr>\n",
              "    <tr>\n",
              "      <th>3</th>\n",
              "      <td>75</td>\n",
              "    </tr>\n",
              "    <tr>\n",
              "      <th>4</th>\n",
              "      <td>149</td>\n",
              "    </tr>\n",
              "  </tbody>\n",
              "</table>\n",
              "</div>"
            ],
            "text/plain": [
              "   RUL\n",
              "0   22\n",
              "1   39\n",
              "2  107\n",
              "3   75\n",
              "4  149"
            ]
          },
          "execution_count": 42,
          "metadata": {},
          "output_type": "execute_result"
        }
      ],
      "source": [
        "rul_4.head()"
      ]
    },
    {
      "cell_type": "markdown",
      "metadata": {},
      "source": [
        "### Calculate RUL for test"
      ]
    },
    {
      "cell_type": "code",
      "execution_count": 43,
      "metadata": {},
      "outputs": [],
      "source": [
        "# Load test set\n",
        "test_4 = pd.read_csv(test_4_path, sep=' ', header=None)\n",
        "test_4.drop([26, 27], axis=1, inplace=True)\n",
        "test_4.columns = column_names\n",
        "\n",
        "test_4['Remaining RUL'] = ''\n",
        "# test_4.head()"
      ]
    },
    {
      "cell_type": "code",
      "execution_count": 44,
      "metadata": {},
      "outputs": [],
      "source": [
        "max_cycle_test_4 = test_4.groupby('ID Engine').count()\n",
        "\n",
        "for idx in range(len(test_4)):\n",
        "    test_4.loc[idx, 'Remaining RUL'] = rul_4.loc[test_4.loc[idx, 'ID Engine'] - 1, 'RUL'] + max_cycle_test_4.loc[test_4.loc[idx, 'ID Engine'], 'Cycle']\n",
        "test_4['Remaining RUL'] = test_4['Remaining RUL'] - test_4['Cycle']"
      ]
    },
    {
      "cell_type": "code",
      "execution_count": 45,
      "metadata": {},
      "outputs": [
        {
          "data": {
            "text/html": [
              "<div>\n",
              "<style scoped>\n",
              "    .dataframe tbody tr th:only-of-type {\n",
              "        vertical-align: middle;\n",
              "    }\n",
              "\n",
              "    .dataframe tbody tr th {\n",
              "        vertical-align: top;\n",
              "    }\n",
              "\n",
              "    .dataframe thead th {\n",
              "        text-align: right;\n",
              "    }\n",
              "</style>\n",
              "<table border=\"1\" class=\"dataframe\">\n",
              "  <thead>\n",
              "    <tr style=\"text-align: right;\">\n",
              "      <th></th>\n",
              "      <th>ID Engine</th>\n",
              "      <th>Cycle</th>\n",
              "      <th>Setting 1</th>\n",
              "      <th>Setting 2</th>\n",
              "      <th>Setting 3</th>\n",
              "      <th>Sensor 1</th>\n",
              "      <th>Sensor 2</th>\n",
              "      <th>Sensor 3</th>\n",
              "      <th>Sensor 4</th>\n",
              "      <th>Sensor 5</th>\n",
              "      <th>...</th>\n",
              "      <th>Sensor 13</th>\n",
              "      <th>Sensor 14</th>\n",
              "      <th>Sensor 15</th>\n",
              "      <th>Sensor 16</th>\n",
              "      <th>Sensor 17</th>\n",
              "      <th>Sensor 18</th>\n",
              "      <th>Sensor 19</th>\n",
              "      <th>Sensor 20</th>\n",
              "      <th>Sensor 21</th>\n",
              "      <th>Remaining RUL</th>\n",
              "    </tr>\n",
              "  </thead>\n",
              "  <tbody>\n",
              "    <tr>\n",
              "      <th>0</th>\n",
              "      <td>1</td>\n",
              "      <td>1</td>\n",
              "      <td>20.0072</td>\n",
              "      <td>0.7000</td>\n",
              "      <td>100.0</td>\n",
              "      <td>491.19</td>\n",
              "      <td>606.67</td>\n",
              "      <td>1481.04</td>\n",
              "      <td>1227.81</td>\n",
              "      <td>9.35</td>\n",
              "      <td>...</td>\n",
              "      <td>2387.78</td>\n",
              "      <td>8048.98</td>\n",
              "      <td>9.2229</td>\n",
              "      <td>0.02</td>\n",
              "      <td>362</td>\n",
              "      <td>2324</td>\n",
              "      <td>100.00</td>\n",
              "      <td>24.31</td>\n",
              "      <td>14.7007</td>\n",
              "      <td>251</td>\n",
              "    </tr>\n",
              "    <tr>\n",
              "      <th>1</th>\n",
              "      <td>1</td>\n",
              "      <td>2</td>\n",
              "      <td>24.9984</td>\n",
              "      <td>0.6200</td>\n",
              "      <td>60.0</td>\n",
              "      <td>462.54</td>\n",
              "      <td>536.22</td>\n",
              "      <td>1256.17</td>\n",
              "      <td>1031.48</td>\n",
              "      <td>7.05</td>\n",
              "      <td>...</td>\n",
              "      <td>2028.09</td>\n",
              "      <td>7863.46</td>\n",
              "      <td>10.8632</td>\n",
              "      <td>0.02</td>\n",
              "      <td>306</td>\n",
              "      <td>1915</td>\n",
              "      <td>84.93</td>\n",
              "      <td>14.36</td>\n",
              "      <td>8.5748</td>\n",
              "      <td>250</td>\n",
              "    </tr>\n",
              "    <tr>\n",
              "      <th>2</th>\n",
              "      <td>1</td>\n",
              "      <td>3</td>\n",
              "      <td>42.0000</td>\n",
              "      <td>0.8420</td>\n",
              "      <td>100.0</td>\n",
              "      <td>445.00</td>\n",
              "      <td>549.23</td>\n",
              "      <td>1340.13</td>\n",
              "      <td>1105.88</td>\n",
              "      <td>3.91</td>\n",
              "      <td>...</td>\n",
              "      <td>2387.95</td>\n",
              "      <td>8071.13</td>\n",
              "      <td>9.3960</td>\n",
              "      <td>0.02</td>\n",
              "      <td>328</td>\n",
              "      <td>2212</td>\n",
              "      <td>100.00</td>\n",
              "      <td>10.39</td>\n",
              "      <td>6.4365</td>\n",
              "      <td>249</td>\n",
              "    </tr>\n",
              "    <tr>\n",
              "      <th>3</th>\n",
              "      <td>1</td>\n",
              "      <td>4</td>\n",
              "      <td>42.0035</td>\n",
              "      <td>0.8402</td>\n",
              "      <td>100.0</td>\n",
              "      <td>445.00</td>\n",
              "      <td>549.19</td>\n",
              "      <td>1339.70</td>\n",
              "      <td>1107.26</td>\n",
              "      <td>3.91</td>\n",
              "      <td>...</td>\n",
              "      <td>2387.90</td>\n",
              "      <td>8078.89</td>\n",
              "      <td>9.3594</td>\n",
              "      <td>0.02</td>\n",
              "      <td>328</td>\n",
              "      <td>2212</td>\n",
              "      <td>100.00</td>\n",
              "      <td>10.56</td>\n",
              "      <td>6.2367</td>\n",
              "      <td>248</td>\n",
              "    </tr>\n",
              "    <tr>\n",
              "      <th>4</th>\n",
              "      <td>1</td>\n",
              "      <td>5</td>\n",
              "      <td>35.0079</td>\n",
              "      <td>0.8400</td>\n",
              "      <td>100.0</td>\n",
              "      <td>449.44</td>\n",
              "      <td>555.10</td>\n",
              "      <td>1353.04</td>\n",
              "      <td>1117.80</td>\n",
              "      <td>5.48</td>\n",
              "      <td>...</td>\n",
              "      <td>2387.87</td>\n",
              "      <td>8057.83</td>\n",
              "      <td>9.3030</td>\n",
              "      <td>0.02</td>\n",
              "      <td>333</td>\n",
              "      <td>2223</td>\n",
              "      <td>100.00</td>\n",
              "      <td>14.85</td>\n",
              "      <td>8.9326</td>\n",
              "      <td>247</td>\n",
              "    </tr>\n",
              "  </tbody>\n",
              "</table>\n",
              "<p>5 rows × 27 columns</p>\n",
              "</div>"
            ],
            "text/plain": [
              "   ID Engine  Cycle  Setting 1  Setting 2  Setting 3  Sensor 1  Sensor 2  \\\n",
              "0          1      1    20.0072     0.7000      100.0    491.19    606.67   \n",
              "1          1      2    24.9984     0.6200       60.0    462.54    536.22   \n",
              "2          1      3    42.0000     0.8420      100.0    445.00    549.23   \n",
              "3          1      4    42.0035     0.8402      100.0    445.00    549.19   \n",
              "4          1      5    35.0079     0.8400      100.0    449.44    555.10   \n",
              "\n",
              "   Sensor 3  Sensor 4  Sensor 5  ...  Sensor 13  Sensor 14  Sensor 15  \\\n",
              "0   1481.04   1227.81      9.35  ...    2387.78    8048.98     9.2229   \n",
              "1   1256.17   1031.48      7.05  ...    2028.09    7863.46    10.8632   \n",
              "2   1340.13   1105.88      3.91  ...    2387.95    8071.13     9.3960   \n",
              "3   1339.70   1107.26      3.91  ...    2387.90    8078.89     9.3594   \n",
              "4   1353.04   1117.80      5.48  ...    2387.87    8057.83     9.3030   \n",
              "\n",
              "   Sensor 16  Sensor 17  Sensor 18  Sensor 19  Sensor 20  Sensor 21  \\\n",
              "0       0.02        362       2324     100.00      24.31    14.7007   \n",
              "1       0.02        306       1915      84.93      14.36     8.5748   \n",
              "2       0.02        328       2212     100.00      10.39     6.4365   \n",
              "3       0.02        328       2212     100.00      10.56     6.2367   \n",
              "4       0.02        333       2223     100.00      14.85     8.9326   \n",
              "\n",
              "   Remaining RUL  \n",
              "0            251  \n",
              "1            250  \n",
              "2            249  \n",
              "3            248  \n",
              "4            247  \n",
              "\n",
              "[5 rows x 27 columns]"
            ]
          },
          "execution_count": 45,
          "metadata": {},
          "output_type": "execute_result"
        }
      ],
      "source": [
        "test_4.head()"
      ]
    },
    {
      "cell_type": "markdown",
      "metadata": {},
      "source": [
        "# Plot number of sample for each dataset"
      ]
    },
    {
      "cell_type": "code",
      "execution_count": 46,
      "metadata": {},
      "outputs": [
        {
          "data": {
            "text/plain": [
              "20631"
            ]
          },
          "execution_count": 46,
          "metadata": {},
          "output_type": "execute_result"
        }
      ],
      "source": [
        "len(train_1)"
      ]
    },
    {
      "cell_type": "code",
      "execution_count": 47,
      "metadata": {},
      "outputs": [
        {
          "data": {
            "text/plain": [
              "53759"
            ]
          },
          "execution_count": 47,
          "metadata": {},
          "output_type": "execute_result"
        }
      ],
      "source": [
        "len(train_2)"
      ]
    },
    {
      "cell_type": "code",
      "execution_count": 48,
      "metadata": {},
      "outputs": [
        {
          "data": {
            "text/plain": [
              "24720"
            ]
          },
          "execution_count": 48,
          "metadata": {},
          "output_type": "execute_result"
        }
      ],
      "source": [
        "len(train_3)"
      ]
    },
    {
      "cell_type": "code",
      "execution_count": 49,
      "metadata": {},
      "outputs": [
        {
          "data": {
            "text/plain": [
              "61249"
            ]
          },
          "execution_count": 49,
          "metadata": {},
          "output_type": "execute_result"
        }
      ],
      "source": [
        "len(train_4)"
      ]
    },
    {
      "cell_type": "code",
      "execution_count": 50,
      "metadata": {},
      "outputs": [
        {
          "data": {
            "text/plain": [
              "160359"
            ]
          },
          "execution_count": 50,
          "metadata": {},
          "output_type": "execute_result"
        }
      ],
      "source": [
        "total = len(train_1) + len(train_2) + len(train_3) + len(train_4)\n",
        "total"
      ]
    },
    {
      "cell_type": "code",
      "execution_count": 51,
      "metadata": {},
      "outputs": [
        {
          "data": {
            "image/png": "[encoded data removed]",
            "text/plain": [
              "<Figure size 700x600 with 1 Axes>"
            ]
          },
          "metadata": {},
          "output_type": "display_data"
        }
      ],
      "source": [
        "sample_counts = [len(train_1), len(train_2), len(train_3), len(train_4), total]\n",
        "labels = ['Train_FD001', 'Train_FD002', 'Train_FD003', 'Train_FD004', 'Total']\n",
        "\n",
        "plt.figure(figsize=(7, 6))\n",
        "plt.bar(labels, sample_counts, color=['blue', 'green', 'red', 'purple', 'orange'], width=0.5)\n",
        "plt.xlabel('CMAPSS Dataset')\n",
        "plt.ylabel('Number of Samples')\n",
        "plt.title('Number of Samples in Each Dataset')\n",
        "plt.show()"
      ]
    },
    {
      "cell_type": "markdown",
      "metadata": {},
      "source": [
        "# Concatenate for train_FD001,2,3,4"
      ]
    },
    {
      "cell_type": "code",
      "execution_count": 52,
      "metadata": {},
      "outputs": [
        {
          "name": "stdout",
          "output_type": "stream",
          "text": [
            "train_1 shape: (20631, 27)\n",
            "test_1 shape: (13096, 27)\n",
            "rul_1 shape: (100, 1)\n",
            "max_cycle_1 shape: (100, 26)\n"
          ]
        }
      ],
      "source": [
        "print(f'train_1 shape: {train_1.shape}')\n",
        "print(f'test_1 shape: {test_1.shape}')\n",
        "print(f'rul_1 shape: {rul_1.shape}')\n",
        "print(f'max_cycle_1 shape: {max_cycle_1.shape}')"
      ]
    },
    {
      "cell_type": "code",
      "execution_count": 53,
      "metadata": {},
      "outputs": [
        {
          "name": "stdout",
          "output_type": "stream",
          "text": [
            "train_2 shape: (53759, 27)\n",
            "test_2 shape: (33991, 27)\n",
            "rul_2 shape: (259, 1)\n",
            "max_cycle_2 shape: (260, 26)\n"
          ]
        }
      ],
      "source": [
        "print(f'train_2 shape: {train_2.shape}')\n",
        "print(f'test_2 shape: {test_2.shape}')\n",
        "print(f'rul_2 shape: {rul_2.shape}')\n",
        "print(f'max_cycle_2 shape: {max_cycle_2.shape}')"
      ]
    },
    {
      "cell_type": "code",
      "execution_count": 54,
      "metadata": {},
      "outputs": [
        {
          "name": "stdout",
          "output_type": "stream",
          "text": [
            "train_3 shape: (24720, 27)\n",
            "test_3 shape: (16596, 27)\n",
            "rul_3 shape: (100, 1)\n",
            "max_cycle_3 shape: (100, 26)\n"
          ]
        }
      ],
      "source": [
        "print(f'train_3 shape: {train_3.shape}')\n",
        "print(f'test_3 shape: {test_3.shape}')\n",
        "print(f'rul_3 shape: {rul_3.shape}')\n",
        "print(f'max_cycle_3 shape: {max_cycle_3.shape}')"
      ]
    },
    {
      "cell_type": "code",
      "execution_count": 55,
      "metadata": {},
      "outputs": [
        {
          "name": "stdout",
          "output_type": "stream",
          "text": [
            "train_4 shape: (61249, 27)\n",
            "test_4 shape: (41214, 27)\n",
            "rul_4 shape: (248, 1)\n",
            "max_cycle_4 shape: (249, 26)\n"
          ]
        }
      ],
      "source": [
        "print(f'train_4 shape: {train_4.shape}')\n",
        "print(f'test_4 shape: {test_4.shape}')\n",
        "print(f'rul_4 shape: {rul_4.shape}')\n",
        "print(f'max_cycle_4 shape: {max_cycle_4.shape}')"
      ]
    },
    {
      "cell_type": "code",
      "execution_count": 56,
      "metadata": {},
      "outputs": [
        {
          "data": {
            "text/html": [
              "<div>\n",
              "<style scoped>\n",
              "    .dataframe tbody tr th:only-of-type {\n",
              "        vertical-align: middle;\n",
              "    }\n",
              "\n",
              "    .dataframe tbody tr th {\n",
              "        vertical-align: top;\n",
              "    }\n",
              "\n",
              "    .dataframe thead th {\n",
              "        text-align: right;\n",
              "    }\n",
              "</style>\n",
              "<table border=\"1\" class=\"dataframe\">\n",
              "  <thead>\n",
              "    <tr style=\"text-align: right;\">\n",
              "      <th></th>\n",
              "      <th>ID Engine</th>\n",
              "      <th>Cycle</th>\n",
              "      <th>Setting 1</th>\n",
              "      <th>Setting 2</th>\n",
              "      <th>Setting 3</th>\n",
              "      <th>Sensor 1</th>\n",
              "      <th>Sensor 2</th>\n",
              "      <th>Sensor 3</th>\n",
              "      <th>Sensor 4</th>\n",
              "      <th>Sensor 5</th>\n",
              "      <th>...</th>\n",
              "      <th>Sensor 13</th>\n",
              "      <th>Sensor 14</th>\n",
              "      <th>Sensor 15</th>\n",
              "      <th>Sensor 16</th>\n",
              "      <th>Sensor 17</th>\n",
              "      <th>Sensor 18</th>\n",
              "      <th>Sensor 19</th>\n",
              "      <th>Sensor 20</th>\n",
              "      <th>Sensor 21</th>\n",
              "      <th>Remaining RUL</th>\n",
              "    </tr>\n",
              "  </thead>\n",
              "  <tbody>\n",
              "    <tr>\n",
              "      <th>0</th>\n",
              "      <td>1</td>\n",
              "      <td>1</td>\n",
              "      <td>-0.0007</td>\n",
              "      <td>-0.0004</td>\n",
              "      <td>100.0</td>\n",
              "      <td>518.67</td>\n",
              "      <td>641.82</td>\n",
              "      <td>1589.70</td>\n",
              "      <td>1400.60</td>\n",
              "      <td>14.62</td>\n",
              "      <td>...</td>\n",
              "      <td>2388.02</td>\n",
              "      <td>8138.62</td>\n",
              "      <td>8.4195</td>\n",
              "      <td>0.03</td>\n",
              "      <td>392</td>\n",
              "      <td>2388</td>\n",
              "      <td>100.0</td>\n",
              "      <td>39.06</td>\n",
              "      <td>23.4190</td>\n",
              "      <td>191</td>\n",
              "    </tr>\n",
              "    <tr>\n",
              "      <th>1</th>\n",
              "      <td>1</td>\n",
              "      <td>2</td>\n",
              "      <td>0.0019</td>\n",
              "      <td>-0.0003</td>\n",
              "      <td>100.0</td>\n",
              "      <td>518.67</td>\n",
              "      <td>642.15</td>\n",
              "      <td>1591.82</td>\n",
              "      <td>1403.14</td>\n",
              "      <td>14.62</td>\n",
              "      <td>...</td>\n",
              "      <td>2388.07</td>\n",
              "      <td>8131.49</td>\n",
              "      <td>8.4318</td>\n",
              "      <td>0.03</td>\n",
              "      <td>392</td>\n",
              "      <td>2388</td>\n",
              "      <td>100.0</td>\n",
              "      <td>39.00</td>\n",
              "      <td>23.4236</td>\n",
              "      <td>190</td>\n",
              "    </tr>\n",
              "    <tr>\n",
              "      <th>2</th>\n",
              "      <td>1</td>\n",
              "      <td>3</td>\n",
              "      <td>-0.0043</td>\n",
              "      <td>0.0003</td>\n",
              "      <td>100.0</td>\n",
              "      <td>518.67</td>\n",
              "      <td>642.35</td>\n",
              "      <td>1587.99</td>\n",
              "      <td>1404.20</td>\n",
              "      <td>14.62</td>\n",
              "      <td>...</td>\n",
              "      <td>2388.03</td>\n",
              "      <td>8133.23</td>\n",
              "      <td>8.4178</td>\n",
              "      <td>0.03</td>\n",
              "      <td>390</td>\n",
              "      <td>2388</td>\n",
              "      <td>100.0</td>\n",
              "      <td>38.95</td>\n",
              "      <td>23.3442</td>\n",
              "      <td>189</td>\n",
              "    </tr>\n",
              "    <tr>\n",
              "      <th>3</th>\n",
              "      <td>1</td>\n",
              "      <td>4</td>\n",
              "      <td>0.0007</td>\n",
              "      <td>0.0000</td>\n",
              "      <td>100.0</td>\n",
              "      <td>518.67</td>\n",
              "      <td>642.35</td>\n",
              "      <td>1582.79</td>\n",
              "      <td>1401.87</td>\n",
              "      <td>14.62</td>\n",
              "      <td>...</td>\n",
              "      <td>2388.08</td>\n",
              "      <td>8133.83</td>\n",
              "      <td>8.3682</td>\n",
              "      <td>0.03</td>\n",
              "      <td>392</td>\n",
              "      <td>2388</td>\n",
              "      <td>100.0</td>\n",
              "      <td>38.88</td>\n",
              "      <td>23.3739</td>\n",
              "      <td>188</td>\n",
              "    </tr>\n",
              "    <tr>\n",
              "      <th>4</th>\n",
              "      <td>1</td>\n",
              "      <td>5</td>\n",
              "      <td>-0.0019</td>\n",
              "      <td>-0.0002</td>\n",
              "      <td>100.0</td>\n",
              "      <td>518.67</td>\n",
              "      <td>642.37</td>\n",
              "      <td>1582.85</td>\n",
              "      <td>1406.22</td>\n",
              "      <td>14.62</td>\n",
              "      <td>...</td>\n",
              "      <td>2388.04</td>\n",
              "      <td>8133.80</td>\n",
              "      <td>8.4294</td>\n",
              "      <td>0.03</td>\n",
              "      <td>393</td>\n",
              "      <td>2388</td>\n",
              "      <td>100.0</td>\n",
              "      <td>38.90</td>\n",
              "      <td>23.4044</td>\n",
              "      <td>187</td>\n",
              "    </tr>\n",
              "  </tbody>\n",
              "</table>\n",
              "<p>5 rows × 27 columns</p>\n",
              "</div>"
            ],
            "text/plain": [
              "   ID Engine  Cycle  Setting 1  Setting 2  Setting 3  Sensor 1  Sensor 2  \\\n",
              "0          1      1    -0.0007    -0.0004      100.0    518.67    641.82   \n",
              "1          1      2     0.0019    -0.0003      100.0    518.67    642.15   \n",
              "2          1      3    -0.0043     0.0003      100.0    518.67    642.35   \n",
              "3          1      4     0.0007     0.0000      100.0    518.67    642.35   \n",
              "4          1      5    -0.0019    -0.0002      100.0    518.67    642.37   \n",
              "\n",
              "   Sensor 3  Sensor 4  Sensor 5  ...  Sensor 13  Sensor 14  Sensor 15  \\\n",
              "0   1589.70   1400.60     14.62  ...    2388.02    8138.62     8.4195   \n",
              "1   1591.82   1403.14     14.62  ...    2388.07    8131.49     8.4318   \n",
              "2   1587.99   1404.20     14.62  ...    2388.03    8133.23     8.4178   \n",
              "3   1582.79   1401.87     14.62  ...    2388.08    8133.83     8.3682   \n",
              "4   1582.85   1406.22     14.62  ...    2388.04    8133.80     8.4294   \n",
              "\n",
              "   Sensor 16  Sensor 17  Sensor 18  Sensor 19  Sensor 20  Sensor 21  \\\n",
              "0       0.03        392       2388      100.0      39.06    23.4190   \n",
              "1       0.03        392       2388      100.0      39.00    23.4236   \n",
              "2       0.03        390       2388      100.0      38.95    23.3442   \n",
              "3       0.03        392       2388      100.0      38.88    23.3739   \n",
              "4       0.03        393       2388      100.0      38.90    23.4044   \n",
              "\n",
              "   Remaining RUL  \n",
              "0            191  \n",
              "1            190  \n",
              "2            189  \n",
              "3            188  \n",
              "4            187  \n",
              "\n",
              "[5 rows x 27 columns]"
            ]
          },
          "execution_count": 56,
          "metadata": {},
          "output_type": "execute_result"
        }
      ],
      "source": [
        "train_1.head()"
      ]
    },
    {
      "cell_type": "code",
      "execution_count": 57,
      "metadata": {},
      "outputs": [
        {
          "data": {
            "text/html": [
              "<div>\n",
              "<style scoped>\n",
              "    .dataframe tbody tr th:only-of-type {\n",
              "        vertical-align: middle;\n",
              "    }\n",
              "\n",
              "    .dataframe tbody tr th {\n",
              "        vertical-align: top;\n",
              "    }\n",
              "\n",
              "    .dataframe thead th {\n",
              "        text-align: right;\n",
              "    }\n",
              "</style>\n",
              "<table border=\"1\" class=\"dataframe\">\n",
              "  <thead>\n",
              "    <tr style=\"text-align: right;\">\n",
              "      <th></th>\n",
              "      <th>ID Engine</th>\n",
              "      <th>Cycle</th>\n",
              "      <th>Setting 1</th>\n",
              "      <th>Setting 2</th>\n",
              "      <th>Setting 3</th>\n",
              "      <th>Sensor 1</th>\n",
              "      <th>Sensor 2</th>\n",
              "      <th>Sensor 3</th>\n",
              "      <th>Sensor 4</th>\n",
              "      <th>Sensor 5</th>\n",
              "      <th>...</th>\n",
              "      <th>Sensor 13</th>\n",
              "      <th>Sensor 14</th>\n",
              "      <th>Sensor 15</th>\n",
              "      <th>Sensor 16</th>\n",
              "      <th>Sensor 17</th>\n",
              "      <th>Sensor 18</th>\n",
              "      <th>Sensor 19</th>\n",
              "      <th>Sensor 20</th>\n",
              "      <th>Sensor 21</th>\n",
              "      <th>Remaining RUL</th>\n",
              "    </tr>\n",
              "  </thead>\n",
              "  <tbody>\n",
              "    <tr>\n",
              "      <th>0</th>\n",
              "      <td>20632</td>\n",
              "      <td>1</td>\n",
              "      <td>34.9983</td>\n",
              "      <td>0.8400</td>\n",
              "      <td>100.0</td>\n",
              "      <td>449.44</td>\n",
              "      <td>555.32</td>\n",
              "      <td>1358.61</td>\n",
              "      <td>1137.23</td>\n",
              "      <td>5.48</td>\n",
              "      <td>...</td>\n",
              "      <td>2387.72</td>\n",
              "      <td>8048.56</td>\n",
              "      <td>9.3461</td>\n",
              "      <td>0.02</td>\n",
              "      <td>334</td>\n",
              "      <td>2223</td>\n",
              "      <td>100.00</td>\n",
              "      <td>14.73</td>\n",
              "      <td>8.8071</td>\n",
              "      <td>148</td>\n",
              "    </tr>\n",
              "    <tr>\n",
              "      <th>1</th>\n",
              "      <td>20632</td>\n",
              "      <td>2</td>\n",
              "      <td>41.9982</td>\n",
              "      <td>0.8408</td>\n",
              "      <td>100.0</td>\n",
              "      <td>445.00</td>\n",
              "      <td>549.90</td>\n",
              "      <td>1353.22</td>\n",
              "      <td>1125.78</td>\n",
              "      <td>3.91</td>\n",
              "      <td>...</td>\n",
              "      <td>2387.66</td>\n",
              "      <td>8072.30</td>\n",
              "      <td>9.3774</td>\n",
              "      <td>0.02</td>\n",
              "      <td>330</td>\n",
              "      <td>2212</td>\n",
              "      <td>100.00</td>\n",
              "      <td>10.41</td>\n",
              "      <td>6.2665</td>\n",
              "      <td>147</td>\n",
              "    </tr>\n",
              "    <tr>\n",
              "      <th>2</th>\n",
              "      <td>20632</td>\n",
              "      <td>3</td>\n",
              "      <td>24.9988</td>\n",
              "      <td>0.6218</td>\n",
              "      <td>60.0</td>\n",
              "      <td>462.54</td>\n",
              "      <td>537.31</td>\n",
              "      <td>1256.76</td>\n",
              "      <td>1047.45</td>\n",
              "      <td>7.05</td>\n",
              "      <td>...</td>\n",
              "      <td>2028.03</td>\n",
              "      <td>7864.87</td>\n",
              "      <td>10.8941</td>\n",
              "      <td>0.02</td>\n",
              "      <td>309</td>\n",
              "      <td>1915</td>\n",
              "      <td>84.93</td>\n",
              "      <td>14.08</td>\n",
              "      <td>8.6723</td>\n",
              "      <td>146</td>\n",
              "    </tr>\n",
              "    <tr>\n",
              "      <th>3</th>\n",
              "      <td>20632</td>\n",
              "      <td>4</td>\n",
              "      <td>42.0077</td>\n",
              "      <td>0.8416</td>\n",
              "      <td>100.0</td>\n",
              "      <td>445.00</td>\n",
              "      <td>549.51</td>\n",
              "      <td>1354.03</td>\n",
              "      <td>1126.38</td>\n",
              "      <td>3.91</td>\n",
              "      <td>...</td>\n",
              "      <td>2387.61</td>\n",
              "      <td>8068.66</td>\n",
              "      <td>9.3528</td>\n",
              "      <td>0.02</td>\n",
              "      <td>329</td>\n",
              "      <td>2212</td>\n",
              "      <td>100.00</td>\n",
              "      <td>10.59</td>\n",
              "      <td>6.4701</td>\n",
              "      <td>145</td>\n",
              "    </tr>\n",
              "    <tr>\n",
              "      <th>4</th>\n",
              "      <td>20632</td>\n",
              "      <td>5</td>\n",
              "      <td>25.0005</td>\n",
              "      <td>0.6203</td>\n",
              "      <td>60.0</td>\n",
              "      <td>462.54</td>\n",
              "      <td>537.07</td>\n",
              "      <td>1257.71</td>\n",
              "      <td>1047.93</td>\n",
              "      <td>7.05</td>\n",
              "      <td>...</td>\n",
              "      <td>2028.00</td>\n",
              "      <td>7861.23</td>\n",
              "      <td>10.8963</td>\n",
              "      <td>0.02</td>\n",
              "      <td>309</td>\n",
              "      <td>1915</td>\n",
              "      <td>84.93</td>\n",
              "      <td>14.13</td>\n",
              "      <td>8.5286</td>\n",
              "      <td>144</td>\n",
              "    </tr>\n",
              "  </tbody>\n",
              "</table>\n",
              "<p>5 rows × 27 columns</p>\n",
              "</div>"
            ],
            "text/plain": [
              "   ID Engine  Cycle  Setting 1  Setting 2  Setting 3  Sensor 1  Sensor 2  \\\n",
              "0      20632      1    34.9983     0.8400      100.0    449.44    555.32   \n",
              "1      20632      2    41.9982     0.8408      100.0    445.00    549.90   \n",
              "2      20632      3    24.9988     0.6218       60.0    462.54    537.31   \n",
              "3      20632      4    42.0077     0.8416      100.0    445.00    549.51   \n",
              "4      20632      5    25.0005     0.6203       60.0    462.54    537.07   \n",
              "\n",
              "   Sensor 3  Sensor 4  Sensor 5  ...  Sensor 13  Sensor 14  Sensor 15  \\\n",
              "0   1358.61   1137.23      5.48  ...    2387.72    8048.56     9.3461   \n",
              "1   1353.22   1125.78      3.91  ...    2387.66    8072.30     9.3774   \n",
              "2   1256.76   1047.45      7.05  ...    2028.03    7864.87    10.8941   \n",
              "3   1354.03   1126.38      3.91  ...    2387.61    8068.66     9.3528   \n",
              "4   1257.71   1047.93      7.05  ...    2028.00    7861.23    10.8963   \n",
              "\n",
              "   Sensor 16  Sensor 17  Sensor 18  Sensor 19  Sensor 20  Sensor 21  \\\n",
              "0       0.02        334       2223     100.00      14.73     8.8071   \n",
              "1       0.02        330       2212     100.00      10.41     6.2665   \n",
              "2       0.02        309       1915      84.93      14.08     8.6723   \n",
              "3       0.02        329       2212     100.00      10.59     6.4701   \n",
              "4       0.02        309       1915      84.93      14.13     8.5286   \n",
              "\n",
              "   Remaining RUL  \n",
              "0            148  \n",
              "1            147  \n",
              "2            146  \n",
              "3            145  \n",
              "4            144  \n",
              "\n",
              "[5 rows x 27 columns]"
            ]
          },
          "execution_count": 57,
          "metadata": {},
          "output_type": "execute_result"
        }
      ],
      "source": [
        "num = len(train_1)\n",
        "for idx in range(len(train_2)):\n",
        "    train_2.loc[idx, 'ID Engine'] += num\n",
        "train_2.head()"
      ]
    },
    {
      "cell_type": "code",
      "execution_count": 58,
      "metadata": {},
      "outputs": [
        {
          "data": {
            "text/html": [
              "<div>\n",
              "<style scoped>\n",
              "    .dataframe tbody tr th:only-of-type {\n",
              "        vertical-align: middle;\n",
              "    }\n",
              "\n",
              "    .dataframe tbody tr th {\n",
              "        vertical-align: top;\n",
              "    }\n",
              "\n",
              "    .dataframe thead th {\n",
              "        text-align: right;\n",
              "    }\n",
              "</style>\n",
              "<table border=\"1\" class=\"dataframe\">\n",
              "  <thead>\n",
              "    <tr style=\"text-align: right;\">\n",
              "      <th></th>\n",
              "      <th>ID Engine</th>\n",
              "      <th>Cycle</th>\n",
              "      <th>Setting 1</th>\n",
              "      <th>Setting 2</th>\n",
              "      <th>Setting 3</th>\n",
              "      <th>Sensor 1</th>\n",
              "      <th>Sensor 2</th>\n",
              "      <th>Sensor 3</th>\n",
              "      <th>Sensor 4</th>\n",
              "      <th>Sensor 5</th>\n",
              "      <th>...</th>\n",
              "      <th>Sensor 13</th>\n",
              "      <th>Sensor 14</th>\n",
              "      <th>Sensor 15</th>\n",
              "      <th>Sensor 16</th>\n",
              "      <th>Sensor 17</th>\n",
              "      <th>Sensor 18</th>\n",
              "      <th>Sensor 19</th>\n",
              "      <th>Sensor 20</th>\n",
              "      <th>Sensor 21</th>\n",
              "      <th>Remaining RUL</th>\n",
              "    </tr>\n",
              "  </thead>\n",
              "  <tbody>\n",
              "    <tr>\n",
              "      <th>0</th>\n",
              "      <td>74391</td>\n",
              "      <td>1</td>\n",
              "      <td>-0.0005</td>\n",
              "      <td>0.0004</td>\n",
              "      <td>100.0</td>\n",
              "      <td>518.67</td>\n",
              "      <td>642.36</td>\n",
              "      <td>1583.23</td>\n",
              "      <td>1396.84</td>\n",
              "      <td>14.62</td>\n",
              "      <td>...</td>\n",
              "      <td>2388.01</td>\n",
              "      <td>8145.32</td>\n",
              "      <td>8.4246</td>\n",
              "      <td>0.03</td>\n",
              "      <td>391</td>\n",
              "      <td>2388</td>\n",
              "      <td>100.0</td>\n",
              "      <td>39.11</td>\n",
              "      <td>23.3537</td>\n",
              "      <td>258</td>\n",
              "    </tr>\n",
              "    <tr>\n",
              "      <th>1</th>\n",
              "      <td>74391</td>\n",
              "      <td>2</td>\n",
              "      <td>0.0008</td>\n",
              "      <td>-0.0003</td>\n",
              "      <td>100.0</td>\n",
              "      <td>518.67</td>\n",
              "      <td>642.50</td>\n",
              "      <td>1584.69</td>\n",
              "      <td>1396.89</td>\n",
              "      <td>14.62</td>\n",
              "      <td>...</td>\n",
              "      <td>2388.03</td>\n",
              "      <td>8152.85</td>\n",
              "      <td>8.4403</td>\n",
              "      <td>0.03</td>\n",
              "      <td>392</td>\n",
              "      <td>2388</td>\n",
              "      <td>100.0</td>\n",
              "      <td>38.99</td>\n",
              "      <td>23.4491</td>\n",
              "      <td>257</td>\n",
              "    </tr>\n",
              "    <tr>\n",
              "      <th>2</th>\n",
              "      <td>74391</td>\n",
              "      <td>3</td>\n",
              "      <td>-0.0014</td>\n",
              "      <td>-0.0002</td>\n",
              "      <td>100.0</td>\n",
              "      <td>518.67</td>\n",
              "      <td>642.18</td>\n",
              "      <td>1582.35</td>\n",
              "      <td>1405.61</td>\n",
              "      <td>14.62</td>\n",
              "      <td>...</td>\n",
              "      <td>2388.00</td>\n",
              "      <td>8150.17</td>\n",
              "      <td>8.3901</td>\n",
              "      <td>0.03</td>\n",
              "      <td>391</td>\n",
              "      <td>2388</td>\n",
              "      <td>100.0</td>\n",
              "      <td>38.85</td>\n",
              "      <td>23.3669</td>\n",
              "      <td>256</td>\n",
              "    </tr>\n",
              "    <tr>\n",
              "      <th>3</th>\n",
              "      <td>74391</td>\n",
              "      <td>4</td>\n",
              "      <td>-0.0020</td>\n",
              "      <td>0.0001</td>\n",
              "      <td>100.0</td>\n",
              "      <td>518.67</td>\n",
              "      <td>642.92</td>\n",
              "      <td>1585.61</td>\n",
              "      <td>1392.27</td>\n",
              "      <td>14.62</td>\n",
              "      <td>...</td>\n",
              "      <td>2388.08</td>\n",
              "      <td>8146.56</td>\n",
              "      <td>8.3878</td>\n",
              "      <td>0.03</td>\n",
              "      <td>392</td>\n",
              "      <td>2388</td>\n",
              "      <td>100.0</td>\n",
              "      <td>38.96</td>\n",
              "      <td>23.2951</td>\n",
              "      <td>255</td>\n",
              "    </tr>\n",
              "    <tr>\n",
              "      <th>4</th>\n",
              "      <td>74391</td>\n",
              "      <td>5</td>\n",
              "      <td>0.0016</td>\n",
              "      <td>0.0000</td>\n",
              "      <td>100.0</td>\n",
              "      <td>518.67</td>\n",
              "      <td>641.68</td>\n",
              "      <td>1588.63</td>\n",
              "      <td>1397.65</td>\n",
              "      <td>14.62</td>\n",
              "      <td>...</td>\n",
              "      <td>2388.03</td>\n",
              "      <td>8147.80</td>\n",
              "      <td>8.3869</td>\n",
              "      <td>0.03</td>\n",
              "      <td>392</td>\n",
              "      <td>2388</td>\n",
              "      <td>100.0</td>\n",
              "      <td>39.14</td>\n",
              "      <td>23.4583</td>\n",
              "      <td>254</td>\n",
              "    </tr>\n",
              "  </tbody>\n",
              "</table>\n",
              "<p>5 rows × 27 columns</p>\n",
              "</div>"
            ],
            "text/plain": [
              "   ID Engine  Cycle  Setting 1  Setting 2  Setting 3  Sensor 1  Sensor 2  \\\n",
              "0      74391      1    -0.0005     0.0004      100.0    518.67    642.36   \n",
              "1      74391      2     0.0008    -0.0003      100.0    518.67    642.50   \n",
              "2      74391      3    -0.0014    -0.0002      100.0    518.67    642.18   \n",
              "3      74391      4    -0.0020     0.0001      100.0    518.67    642.92   \n",
              "4      74391      5     0.0016     0.0000      100.0    518.67    641.68   \n",
              "\n",
              "   Sensor 3  Sensor 4  Sensor 5  ...  Sensor 13  Sensor 14  Sensor 15  \\\n",
              "0   1583.23   1396.84     14.62  ...    2388.01    8145.32     8.4246   \n",
              "1   1584.69   1396.89     14.62  ...    2388.03    8152.85     8.4403   \n",
              "2   1582.35   1405.61     14.62  ...    2388.00    8150.17     8.3901   \n",
              "3   1585.61   1392.27     14.62  ...    2388.08    8146.56     8.3878   \n",
              "4   1588.63   1397.65     14.62  ...    2388.03    8147.80     8.3869   \n",
              "\n",
              "   Sensor 16  Sensor 17  Sensor 18  Sensor 19  Sensor 20  Sensor 21  \\\n",
              "0       0.03        391       2388      100.0      39.11    23.3537   \n",
              "1       0.03        392       2388      100.0      38.99    23.4491   \n",
              "2       0.03        391       2388      100.0      38.85    23.3669   \n",
              "3       0.03        392       2388      100.0      38.96    23.2951   \n",
              "4       0.03        392       2388      100.0      39.14    23.4583   \n",
              "\n",
              "   Remaining RUL  \n",
              "0            258  \n",
              "1            257  \n",
              "2            256  \n",
              "3            255  \n",
              "4            254  \n",
              "\n",
              "[5 rows x 27 columns]"
            ]
          },
          "execution_count": 58,
          "metadata": {},
          "output_type": "execute_result"
        }
      ],
      "source": [
        "num += len(train_2)\n",
        "for idx in range(len(train_3)):\n",
        "    train_3.loc[idx, 'ID Engine'] += num\n",
        "train_3.head()"
      ]
    },
    {
      "cell_type": "code",
      "execution_count": 59,
      "metadata": {},
      "outputs": [
        {
          "data": {
            "text/html": [
              "<div>\n",
              "<style scoped>\n",
              "    .dataframe tbody tr th:only-of-type {\n",
              "        vertical-align: middle;\n",
              "    }\n",
              "\n",
              "    .dataframe tbody tr th {\n",
              "        vertical-align: top;\n",
              "    }\n",
              "\n",
              "    .dataframe thead th {\n",
              "        text-align: right;\n",
              "    }\n",
              "</style>\n",
              "<table border=\"1\" class=\"dataframe\">\n",
              "  <thead>\n",
              "    <tr style=\"text-align: right;\">\n",
              "      <th></th>\n",
              "      <th>ID Engine</th>\n",
              "      <th>Cycle</th>\n",
              "      <th>Setting 1</th>\n",
              "      <th>Setting 2</th>\n",
              "      <th>Setting 3</th>\n",
              "      <th>Sensor 1</th>\n",
              "      <th>Sensor 2</th>\n",
              "      <th>Sensor 3</th>\n",
              "      <th>Sensor 4</th>\n",
              "      <th>Sensor 5</th>\n",
              "      <th>...</th>\n",
              "      <th>Sensor 13</th>\n",
              "      <th>Sensor 14</th>\n",
              "      <th>Sensor 15</th>\n",
              "      <th>Sensor 16</th>\n",
              "      <th>Sensor 17</th>\n",
              "      <th>Sensor 18</th>\n",
              "      <th>Sensor 19</th>\n",
              "      <th>Sensor 20</th>\n",
              "      <th>Sensor 21</th>\n",
              "      <th>Remaining RUL</th>\n",
              "    </tr>\n",
              "  </thead>\n",
              "  <tbody>\n",
              "    <tr>\n",
              "      <th>0</th>\n",
              "      <td>99111</td>\n",
              "      <td>1</td>\n",
              "      <td>42.0049</td>\n",
              "      <td>0.8400</td>\n",
              "      <td>100.0</td>\n",
              "      <td>445.00</td>\n",
              "      <td>549.68</td>\n",
              "      <td>1343.43</td>\n",
              "      <td>1112.93</td>\n",
              "      <td>3.91</td>\n",
              "      <td>...</td>\n",
              "      <td>2387.99</td>\n",
              "      <td>8074.83</td>\n",
              "      <td>9.3335</td>\n",
              "      <td>0.02</td>\n",
              "      <td>330</td>\n",
              "      <td>2212</td>\n",
              "      <td>100.00</td>\n",
              "      <td>10.62</td>\n",
              "      <td>6.3670</td>\n",
              "      <td>320</td>\n",
              "    </tr>\n",
              "    <tr>\n",
              "      <th>1</th>\n",
              "      <td>99111</td>\n",
              "      <td>2</td>\n",
              "      <td>20.0020</td>\n",
              "      <td>0.7002</td>\n",
              "      <td>100.0</td>\n",
              "      <td>491.19</td>\n",
              "      <td>606.07</td>\n",
              "      <td>1477.61</td>\n",
              "      <td>1237.50</td>\n",
              "      <td>9.35</td>\n",
              "      <td>...</td>\n",
              "      <td>2387.73</td>\n",
              "      <td>8046.13</td>\n",
              "      <td>9.1913</td>\n",
              "      <td>0.02</td>\n",
              "      <td>361</td>\n",
              "      <td>2324</td>\n",
              "      <td>100.00</td>\n",
              "      <td>24.37</td>\n",
              "      <td>14.6552</td>\n",
              "      <td>319</td>\n",
              "    </tr>\n",
              "    <tr>\n",
              "      <th>2</th>\n",
              "      <td>99111</td>\n",
              "      <td>3</td>\n",
              "      <td>42.0038</td>\n",
              "      <td>0.8409</td>\n",
              "      <td>100.0</td>\n",
              "      <td>445.00</td>\n",
              "      <td>548.95</td>\n",
              "      <td>1343.12</td>\n",
              "      <td>1117.05</td>\n",
              "      <td>3.91</td>\n",
              "      <td>...</td>\n",
              "      <td>2387.97</td>\n",
              "      <td>8066.62</td>\n",
              "      <td>9.4007</td>\n",
              "      <td>0.02</td>\n",
              "      <td>329</td>\n",
              "      <td>2212</td>\n",
              "      <td>100.00</td>\n",
              "      <td>10.48</td>\n",
              "      <td>6.4213</td>\n",
              "      <td>318</td>\n",
              "    </tr>\n",
              "    <tr>\n",
              "      <th>3</th>\n",
              "      <td>99111</td>\n",
              "      <td>4</td>\n",
              "      <td>42.0000</td>\n",
              "      <td>0.8400</td>\n",
              "      <td>100.0</td>\n",
              "      <td>445.00</td>\n",
              "      <td>548.70</td>\n",
              "      <td>1341.24</td>\n",
              "      <td>1118.03</td>\n",
              "      <td>3.91</td>\n",
              "      <td>...</td>\n",
              "      <td>2388.02</td>\n",
              "      <td>8076.05</td>\n",
              "      <td>9.3369</td>\n",
              "      <td>0.02</td>\n",
              "      <td>328</td>\n",
              "      <td>2212</td>\n",
              "      <td>100.00</td>\n",
              "      <td>10.54</td>\n",
              "      <td>6.4176</td>\n",
              "      <td>317</td>\n",
              "    </tr>\n",
              "    <tr>\n",
              "      <th>4</th>\n",
              "      <td>99111</td>\n",
              "      <td>5</td>\n",
              "      <td>25.0063</td>\n",
              "      <td>0.6207</td>\n",
              "      <td>60.0</td>\n",
              "      <td>462.54</td>\n",
              "      <td>536.10</td>\n",
              "      <td>1255.23</td>\n",
              "      <td>1033.59</td>\n",
              "      <td>7.05</td>\n",
              "      <td>...</td>\n",
              "      <td>2028.08</td>\n",
              "      <td>7865.80</td>\n",
              "      <td>10.8366</td>\n",
              "      <td>0.02</td>\n",
              "      <td>305</td>\n",
              "      <td>1915</td>\n",
              "      <td>84.93</td>\n",
              "      <td>14.03</td>\n",
              "      <td>8.6754</td>\n",
              "      <td>316</td>\n",
              "    </tr>\n",
              "  </tbody>\n",
              "</table>\n",
              "<p>5 rows × 27 columns</p>\n",
              "</div>"
            ],
            "text/plain": [
              "   ID Engine  Cycle  Setting 1  Setting 2  Setting 3  Sensor 1  Sensor 2  \\\n",
              "0      99111      1    42.0049     0.8400      100.0    445.00    549.68   \n",
              "1      99111      2    20.0020     0.7002      100.0    491.19    606.07   \n",
              "2      99111      3    42.0038     0.8409      100.0    445.00    548.95   \n",
              "3      99111      4    42.0000     0.8400      100.0    445.00    548.70   \n",
              "4      99111      5    25.0063     0.6207       60.0    462.54    536.10   \n",
              "\n",
              "   Sensor 3  Sensor 4  Sensor 5  ...  Sensor 13  Sensor 14  Sensor 15  \\\n",
              "0   1343.43   1112.93      3.91  ...    2387.99    8074.83     9.3335   \n",
              "1   1477.61   1237.50      9.35  ...    2387.73    8046.13     9.1913   \n",
              "2   1343.12   1117.05      3.91  ...    2387.97    8066.62     9.4007   \n",
              "3   1341.24   1118.03      3.91  ...    2388.02    8076.05     9.3369   \n",
              "4   1255.23   1033.59      7.05  ...    2028.08    7865.80    10.8366   \n",
              "\n",
              "   Sensor 16  Sensor 17  Sensor 18  Sensor 19  Sensor 20  Sensor 21  \\\n",
              "0       0.02        330       2212     100.00      10.62     6.3670   \n",
              "1       0.02        361       2324     100.00      24.37    14.6552   \n",
              "2       0.02        329       2212     100.00      10.48     6.4213   \n",
              "3       0.02        328       2212     100.00      10.54     6.4176   \n",
              "4       0.02        305       1915      84.93      14.03     8.6754   \n",
              "\n",
              "   Remaining RUL  \n",
              "0            320  \n",
              "1            319  \n",
              "2            318  \n",
              "3            317  \n",
              "4            316  \n",
              "\n",
              "[5 rows x 27 columns]"
            ]
          },
          "execution_count": 59,
          "metadata": {},
          "output_type": "execute_result"
        }
      ],
      "source": [
        "num += len(train_3)\n",
        "for idx in range(len(train_4)):\n",
        "    train_4.loc[idx, 'ID Engine'] += num\n",
        "train_4.head()"
      ]
    },
    {
      "cell_type": "code",
      "execution_count": 60,
      "metadata": {},
      "outputs": [
        {
          "name": "stdout",
          "output_type": "stream",
          "text": [
            "Train shape: (160359, 27)\n"
          ]
        },
        {
          "data": {
            "text/html": [
              "<div>\n",
              "<style scoped>\n",
              "    .dataframe tbody tr th:only-of-type {\n",
              "        vertical-align: middle;\n",
              "    }\n",
              "\n",
              "    .dataframe tbody tr th {\n",
              "        vertical-align: top;\n",
              "    }\n",
              "\n",
              "    .dataframe thead th {\n",
              "        text-align: right;\n",
              "    }\n",
              "</style>\n",
              "<table border=\"1\" class=\"dataframe\">\n",
              "  <thead>\n",
              "    <tr style=\"text-align: right;\">\n",
              "      <th></th>\n",
              "      <th>ID Engine</th>\n",
              "      <th>Cycle</th>\n",
              "      <th>Setting 1</th>\n",
              "      <th>Setting 2</th>\n",
              "      <th>Setting 3</th>\n",
              "      <th>Sensor 1</th>\n",
              "      <th>Sensor 2</th>\n",
              "      <th>Sensor 3</th>\n",
              "      <th>Sensor 4</th>\n",
              "      <th>Sensor 5</th>\n",
              "      <th>...</th>\n",
              "      <th>Sensor 13</th>\n",
              "      <th>Sensor 14</th>\n",
              "      <th>Sensor 15</th>\n",
              "      <th>Sensor 16</th>\n",
              "      <th>Sensor 17</th>\n",
              "      <th>Sensor 18</th>\n",
              "      <th>Sensor 19</th>\n",
              "      <th>Sensor 20</th>\n",
              "      <th>Sensor 21</th>\n",
              "      <th>Remaining RUL</th>\n",
              "    </tr>\n",
              "  </thead>\n",
              "  <tbody>\n",
              "    <tr>\n",
              "      <th>0</th>\n",
              "      <td>1</td>\n",
              "      <td>1</td>\n",
              "      <td>-0.0007</td>\n",
              "      <td>-0.0004</td>\n",
              "      <td>100.0</td>\n",
              "      <td>518.67</td>\n",
              "      <td>641.82</td>\n",
              "      <td>1589.70</td>\n",
              "      <td>1400.60</td>\n",
              "      <td>14.62</td>\n",
              "      <td>...</td>\n",
              "      <td>2388.02</td>\n",
              "      <td>8138.62</td>\n",
              "      <td>8.4195</td>\n",
              "      <td>0.03</td>\n",
              "      <td>392</td>\n",
              "      <td>2388</td>\n",
              "      <td>100.0</td>\n",
              "      <td>39.06</td>\n",
              "      <td>23.4190</td>\n",
              "      <td>191</td>\n",
              "    </tr>\n",
              "    <tr>\n",
              "      <th>1</th>\n",
              "      <td>1</td>\n",
              "      <td>2</td>\n",
              "      <td>0.0019</td>\n",
              "      <td>-0.0003</td>\n",
              "      <td>100.0</td>\n",
              "      <td>518.67</td>\n",
              "      <td>642.15</td>\n",
              "      <td>1591.82</td>\n",
              "      <td>1403.14</td>\n",
              "      <td>14.62</td>\n",
              "      <td>...</td>\n",
              "      <td>2388.07</td>\n",
              "      <td>8131.49</td>\n",
              "      <td>8.4318</td>\n",
              "      <td>0.03</td>\n",
              "      <td>392</td>\n",
              "      <td>2388</td>\n",
              "      <td>100.0</td>\n",
              "      <td>39.00</td>\n",
              "      <td>23.4236</td>\n",
              "      <td>190</td>\n",
              "    </tr>\n",
              "    <tr>\n",
              "      <th>2</th>\n",
              "      <td>1</td>\n",
              "      <td>3</td>\n",
              "      <td>-0.0043</td>\n",
              "      <td>0.0003</td>\n",
              "      <td>100.0</td>\n",
              "      <td>518.67</td>\n",
              "      <td>642.35</td>\n",
              "      <td>1587.99</td>\n",
              "      <td>1404.20</td>\n",
              "      <td>14.62</td>\n",
              "      <td>...</td>\n",
              "      <td>2388.03</td>\n",
              "      <td>8133.23</td>\n",
              "      <td>8.4178</td>\n",
              "      <td>0.03</td>\n",
              "      <td>390</td>\n",
              "      <td>2388</td>\n",
              "      <td>100.0</td>\n",
              "      <td>38.95</td>\n",
              "      <td>23.3442</td>\n",
              "      <td>189</td>\n",
              "    </tr>\n",
              "    <tr>\n",
              "      <th>3</th>\n",
              "      <td>1</td>\n",
              "      <td>4</td>\n",
              "      <td>0.0007</td>\n",
              "      <td>0.0000</td>\n",
              "      <td>100.0</td>\n",
              "      <td>518.67</td>\n",
              "      <td>642.35</td>\n",
              "      <td>1582.79</td>\n",
              "      <td>1401.87</td>\n",
              "      <td>14.62</td>\n",
              "      <td>...</td>\n",
              "      <td>2388.08</td>\n",
              "      <td>8133.83</td>\n",
              "      <td>8.3682</td>\n",
              "      <td>0.03</td>\n",
              "      <td>392</td>\n",
              "      <td>2388</td>\n",
              "      <td>100.0</td>\n",
              "      <td>38.88</td>\n",
              "      <td>23.3739</td>\n",
              "      <td>188</td>\n",
              "    </tr>\n",
              "    <tr>\n",
              "      <th>4</th>\n",
              "      <td>1</td>\n",
              "      <td>5</td>\n",
              "      <td>-0.0019</td>\n",
              "      <td>-0.0002</td>\n",
              "      <td>100.0</td>\n",
              "      <td>518.67</td>\n",
              "      <td>642.37</td>\n",
              "      <td>1582.85</td>\n",
              "      <td>1406.22</td>\n",
              "      <td>14.62</td>\n",
              "      <td>...</td>\n",
              "      <td>2388.04</td>\n",
              "      <td>8133.80</td>\n",
              "      <td>8.4294</td>\n",
              "      <td>0.03</td>\n",
              "      <td>393</td>\n",
              "      <td>2388</td>\n",
              "      <td>100.0</td>\n",
              "      <td>38.90</td>\n",
              "      <td>23.4044</td>\n",
              "      <td>187</td>\n",
              "    </tr>\n",
              "  </tbody>\n",
              "</table>\n",
              "<p>5 rows × 27 columns</p>\n",
              "</div>"
            ],
            "text/plain": [
              "   ID Engine  Cycle  Setting 1  Setting 2  Setting 3  Sensor 1  Sensor 2  \\\n",
              "0          1      1    -0.0007    -0.0004      100.0    518.67    641.82   \n",
              "1          1      2     0.0019    -0.0003      100.0    518.67    642.15   \n",
              "2          1      3    -0.0043     0.0003      100.0    518.67    642.35   \n",
              "3          1      4     0.0007     0.0000      100.0    518.67    642.35   \n",
              "4          1      5    -0.0019    -0.0002      100.0    518.67    642.37   \n",
              "\n",
              "   Sensor 3  Sensor 4  Sensor 5  ...  Sensor 13  Sensor 14  Sensor 15  \\\n",
              "0   1589.70   1400.60     14.62  ...    2388.02    8138.62     8.4195   \n",
              "1   1591.82   1403.14     14.62  ...    2388.07    8131.49     8.4318   \n",
              "2   1587.99   1404.20     14.62  ...    2388.03    8133.23     8.4178   \n",
              "3   1582.79   1401.87     14.62  ...    2388.08    8133.83     8.3682   \n",
              "4   1582.85   1406.22     14.62  ...    2388.04    8133.80     8.4294   \n",
              "\n",
              "   Sensor 16  Sensor 17  Sensor 18  Sensor 19  Sensor 20  Sensor 21  \\\n",
              "0       0.03        392       2388      100.0      39.06    23.4190   \n",
              "1       0.03        392       2388      100.0      39.00    23.4236   \n",
              "2       0.03        390       2388      100.0      38.95    23.3442   \n",
              "3       0.03        392       2388      100.0      38.88    23.3739   \n",
              "4       0.03        393       2388      100.0      38.90    23.4044   \n",
              "\n",
              "   Remaining RUL  \n",
              "0            191  \n",
              "1            190  \n",
              "2            189  \n",
              "3            188  \n",
              "4            187  \n",
              "\n",
              "[5 rows x 27 columns]"
            ]
          },
          "execution_count": 60,
          "metadata": {},
          "output_type": "execute_result"
        }
      ],
      "source": [
        "train = pd.concat([train_1, train_2, train_3, train_4], ignore_index=True)\n",
        "print(f'Train shape: {train.shape}')\n",
        "train.head()"
      ]
    },
    {
      "cell_type": "markdown",
      "metadata": {
        "id": "lj7dyHsdMAyK"
      },
      "source": [
        "# Standard data (for train and test set)"
      ]
    },
    {
      "cell_type": "code",
      "execution_count": 61,
      "metadata": {
        "colab": {
          "base_uri": "https://localhost:8080/"
        },
        "id": "PU2HL_DdMAyK",
        "outputId": "94a078eb-069b-4c4e-f469-f90f3f75504e"
      },
      "outputs": [],
      "source": [
        "scaled_columns = train.columns[5:]\n",
        "scaler = MinMaxScaler()\n",
        "train[scaled_columns] = scaler.fit_transform(train[scaled_columns])\n",
        "# test[scaled_columns] = scaler.fit_transform(test[scaled_columns])"
      ]
    },
    {
      "cell_type": "code",
      "execution_count": 62,
      "metadata": {
        "colab": {
          "base_uri": "https://localhost:8080/",
          "height": 0
        },
        "id": "SuOOhTnTMAyK",
        "outputId": "3ff6a48e-9bf8-4577-a03c-1c9367ac68f1"
      },
      "outputs": [
        {
          "data": {
            "text/html": [
              "<div>\n",
              "<style scoped>\n",
              "    .dataframe tbody tr th:only-of-type {\n",
              "        vertical-align: middle;\n",
              "    }\n",
              "\n",
              "    .dataframe tbody tr th {\n",
              "        vertical-align: top;\n",
              "    }\n",
              "\n",
              "    .dataframe thead th {\n",
              "        text-align: right;\n",
              "    }\n",
              "</style>\n",
              "<table border=\"1\" class=\"dataframe\">\n",
              "  <thead>\n",
              "    <tr style=\"text-align: right;\">\n",
              "      <th></th>\n",
              "      <th>ID Engine</th>\n",
              "      <th>Cycle</th>\n",
              "      <th>Setting 1</th>\n",
              "      <th>Setting 2</th>\n",
              "      <th>Setting 3</th>\n",
              "      <th>Sensor 1</th>\n",
              "      <th>Sensor 2</th>\n",
              "      <th>Sensor 3</th>\n",
              "      <th>Sensor 4</th>\n",
              "      <th>Sensor 5</th>\n",
              "      <th>...</th>\n",
              "      <th>Sensor 13</th>\n",
              "      <th>Sensor 14</th>\n",
              "      <th>Sensor 15</th>\n",
              "      <th>Sensor 16</th>\n",
              "      <th>Sensor 17</th>\n",
              "      <th>Sensor 18</th>\n",
              "      <th>Sensor 19</th>\n",
              "      <th>Sensor 20</th>\n",
              "      <th>Sensor 21</th>\n",
              "      <th>Remaining RUL</th>\n",
              "    </tr>\n",
              "  </thead>\n",
              "  <tbody>\n",
              "    <tr>\n",
              "      <th>0</th>\n",
              "      <td>1</td>\n",
              "      <td>1</td>\n",
              "      <td>-0.0007</td>\n",
              "      <td>-0.0004</td>\n",
              "      <td>100.0</td>\n",
              "      <td>1.0</td>\n",
              "      <td>0.969990</td>\n",
              "      <td>0.927293</td>\n",
              "      <td>0.902111</td>\n",
              "      <td>1.0</td>\n",
              "      <td>...</td>\n",
              "      <td>0.993194</td>\n",
              "      <td>0.653748</td>\n",
              "      <td>0.090428</td>\n",
              "      <td>1.0</td>\n",
              "      <td>0.918367</td>\n",
              "      <td>1.0</td>\n",
              "      <td>1.0</td>\n",
              "      <td>0.972082</td>\n",
              "      <td>0.970373</td>\n",
              "      <td>0.352399</td>\n",
              "    </tr>\n",
              "    <tr>\n",
              "      <th>1</th>\n",
              "      <td>1</td>\n",
              "      <td>2</td>\n",
              "      <td>0.0019</td>\n",
              "      <td>-0.0003</td>\n",
              "      <td>100.0</td>\n",
              "      <td>1.0</td>\n",
              "      <td>0.973000</td>\n",
              "      <td>0.932957</td>\n",
              "      <td>0.908192</td>\n",
              "      <td>1.0</td>\n",
              "      <td>...</td>\n",
              "      <td>0.993332</td>\n",
              "      <td>0.637831</td>\n",
              "      <td>0.094654</td>\n",
              "      <td>1.0</td>\n",
              "      <td>0.918367</td>\n",
              "      <td>1.0</td>\n",
              "      <td>1.0</td>\n",
              "      <td>0.970064</td>\n",
              "      <td>0.970630</td>\n",
              "      <td>0.350554</td>\n",
              "    </tr>\n",
              "    <tr>\n",
              "      <th>2</th>\n",
              "      <td>1</td>\n",
              "      <td>3</td>\n",
              "      <td>-0.0043</td>\n",
              "      <td>0.0003</td>\n",
              "      <td>100.0</td>\n",
              "      <td>1.0</td>\n",
              "      <td>0.974824</td>\n",
              "      <td>0.922723</td>\n",
              "      <td>0.910730</td>\n",
              "      <td>1.0</td>\n",
              "      <td>...</td>\n",
              "      <td>0.993222</td>\n",
              "      <td>0.641715</td>\n",
              "      <td>0.089844</td>\n",
              "      <td>1.0</td>\n",
              "      <td>0.897959</td>\n",
              "      <td>1.0</td>\n",
              "      <td>1.0</td>\n",
              "      <td>0.968382</td>\n",
              "      <td>0.966204</td>\n",
              "      <td>0.348708</td>\n",
              "    </tr>\n",
              "    <tr>\n",
              "      <th>3</th>\n",
              "      <td>1</td>\n",
              "      <td>4</td>\n",
              "      <td>0.0007</td>\n",
              "      <td>0.0000</td>\n",
              "      <td>100.0</td>\n",
              "      <td>1.0</td>\n",
              "      <td>0.974824</td>\n",
              "      <td>0.908829</td>\n",
              "      <td>0.905152</td>\n",
              "      <td>1.0</td>\n",
              "      <td>...</td>\n",
              "      <td>0.993359</td>\n",
              "      <td>0.643055</td>\n",
              "      <td>0.072803</td>\n",
              "      <td>1.0</td>\n",
              "      <td>0.918367</td>\n",
              "      <td>1.0</td>\n",
              "      <td>1.0</td>\n",
              "      <td>0.966028</td>\n",
              "      <td>0.967860</td>\n",
              "      <td>0.346863</td>\n",
              "    </tr>\n",
              "    <tr>\n",
              "      <th>4</th>\n",
              "      <td>1</td>\n",
              "      <td>5</td>\n",
              "      <td>-0.0019</td>\n",
              "      <td>-0.0002</td>\n",
              "      <td>100.0</td>\n",
              "      <td>1.0</td>\n",
              "      <td>0.975007</td>\n",
              "      <td>0.908989</td>\n",
              "      <td>0.915565</td>\n",
              "      <td>1.0</td>\n",
              "      <td>...</td>\n",
              "      <td>0.993249</td>\n",
              "      <td>0.642988</td>\n",
              "      <td>0.093829</td>\n",
              "      <td>1.0</td>\n",
              "      <td>0.928571</td>\n",
              "      <td>1.0</td>\n",
              "      <td>1.0</td>\n",
              "      <td>0.966700</td>\n",
              "      <td>0.969560</td>\n",
              "      <td>0.345018</td>\n",
              "    </tr>\n",
              "  </tbody>\n",
              "</table>\n",
              "<p>5 rows × 27 columns</p>\n",
              "</div>"
            ],
            "text/plain": [
              "   ID Engine  Cycle  Setting 1  Setting 2  Setting 3  Sensor 1  Sensor 2  \\\n",
              "0          1      1    -0.0007    -0.0004      100.0       1.0  0.969990   \n",
              "1          1      2     0.0019    -0.0003      100.0       1.0  0.973000   \n",
              "2          1      3    -0.0043     0.0003      100.0       1.0  0.974824   \n",
              "3          1      4     0.0007     0.0000      100.0       1.0  0.974824   \n",
              "4          1      5    -0.0019    -0.0002      100.0       1.0  0.975007   \n",
              "\n",
              "   Sensor 3  Sensor 4  Sensor 5  ...  Sensor 13  Sensor 14  Sensor 15  \\\n",
              "0  0.927293  0.902111       1.0  ...   0.993194   0.653748   0.090428   \n",
              "1  0.932957  0.908192       1.0  ...   0.993332   0.637831   0.094654   \n",
              "2  0.922723  0.910730       1.0  ...   0.993222   0.641715   0.089844   \n",
              "3  0.908829  0.905152       1.0  ...   0.993359   0.643055   0.072803   \n",
              "4  0.908989  0.915565       1.0  ...   0.993249   0.642988   0.093829   \n",
              "\n",
              "   Sensor 16  Sensor 17  Sensor 18  Sensor 19  Sensor 20  Sensor 21  \\\n",
              "0        1.0   0.918367        1.0        1.0   0.972082   0.970373   \n",
              "1        1.0   0.918367        1.0        1.0   0.970064   0.970630   \n",
              "2        1.0   0.897959        1.0        1.0   0.968382   0.966204   \n",
              "3        1.0   0.918367        1.0        1.0   0.966028   0.967860   \n",
              "4        1.0   0.928571        1.0        1.0   0.966700   0.969560   \n",
              "\n",
              "   Remaining RUL  \n",
              "0       0.352399  \n",
              "1       0.350554  \n",
              "2       0.348708  \n",
              "3       0.346863  \n",
              "4       0.345018  \n",
              "\n",
              "[5 rows x 27 columns]"
            ]
          },
          "execution_count": 62,
          "metadata": {},
          "output_type": "execute_result"
        }
      ],
      "source": [
        "train.head()"
      ]
    },
    {
      "cell_type": "code",
      "execution_count": 63,
      "metadata": {
        "colab": {
          "base_uri": "https://localhost:8080/",
          "height": 0
        },
        "id": "grL9j-TBMAyP",
        "outputId": "42034762-a6e3-4866-e37f-d52c2dcf0d4f"
      },
      "outputs": [],
      "source": [
        "# test.head()"
      ]
    },
    {
      "cell_type": "markdown",
      "metadata": {},
      "source": [
        "### Load data into DataLoader"
      ]
    },
    {
      "cell_type": "code",
      "execution_count": 64,
      "metadata": {},
      "outputs": [],
      "source": [
        "data_train = CMAPSSLoaderDataset(data=train, sequence_length=1)\n",
        "# data_test = CMAPSSLoaderDataset(data=test, sequence_length=sequence_length)\n",
        "\n",
        "data_train, data_validation = train_test_split(data_train, test_size=0.2, random_state=42)\n",
        "train_loader = DataLoader(data_train, batch_size=batch_size, shuffle=True)\n",
        "validation_loader = DataLoader(data_validation, batch_size=batch_size, shuffle=True)"
      ]
    },
    {
      "cell_type": "code",
      "execution_count": 65,
      "metadata": {},
      "outputs": [
        {
          "data": {
            "text/plain": [
              "tensor([[0.0000, 0.1262, 0.2916, 0.2269, 0.0000, 0.0025, 0.0077, 0.6272, 0.2661,\n",
              "         0.2308, 0.4580, 0.0050, 0.9932, 0.5372, 0.4003, 0.0000, 0.2857, 0.6279,\n",
              "         1.0000, 0.0195, 0.0202]])"
            ]
          },
          "execution_count": 65,
          "metadata": {},
          "output_type": "execute_result"
        }
      ],
      "source": [
        "data_train[1][0]"
      ]
    },
    {
      "cell_type": "code",
      "execution_count": null,
      "metadata": {},
      "outputs": [
        {
          "data": {
            "text/plain": [
              "tensor(0.4613)"
            ]
          },
          "execution_count": 66,
          "metadata": {},
          "output_type": "execute_result"
        }
      ],
      "source": [
        "data_train[1][1]"
      ]
    },
    {
      "cell_type": "markdown",
      "metadata": {},
      "source": [
        "# Training with sequence_length = 30"
      ]
    },
    {
      "cell_type": "markdown",
      "metadata": {
        "id": "tBBvfsbBMAyQ"
      },
      "source": [
        "### Load data into DataLoader"
      ]
    },
    {
      "cell_type": "code",
      "execution_count": 67,
      "metadata": {
        "colab": {
          "base_uri": "https://localhost:8080/"
        },
        "id": "q-fCRjrGMAyQ",
        "outputId": "cbbed570-193c-443a-f525-8619dc578c47"
      },
      "outputs": [],
      "source": [
        "data_train = CMAPSSLoaderDataset(data=train, sequence_length=sequence_length)\n",
        "# data_test = CMAPSSLoaderDataset(data=test, sequence_length=sequence_length)\n",
        "\n",
        "data_train, data_validation = train_test_split(data_train, test_size=0.2, random_state=42)\n",
        "train_loader = DataLoader(data_train, batch_size=batch_size, shuffle=True)\n",
        "validation_loader = DataLoader(data_validation, batch_size=batch_size, shuffle=True)"
      ]
    },
    {
      "cell_type": "code",
      "execution_count": 68,
      "metadata": {
        "colab": {
          "base_uri": "https://localhost:8080/"
        },
        "id": "3mbFbgaGMAyQ",
        "outputId": "82e9bb6e-ed52-4329-ad5e-e808a8d0e97a"
      },
      "outputs": [
        {
          "data": {
            "text/plain": [
              "111838"
            ]
          },
          "execution_count": 68,
          "metadata": {},
          "output_type": "execute_result"
        }
      ],
      "source": [
        "data_train.__len__()"
      ]
    },
    {
      "cell_type": "code",
      "execution_count": 69,
      "metadata": {
        "colab": {
          "base_uri": "https://localhost:8080/"
        },
        "id": "ifKkIFWIMAyQ",
        "outputId": "06e024d8-87d2-461f-98d7-2b429886bacf"
      },
      "outputs": [
        {
          "data": {
            "text/plain": [
              "27960"
            ]
          },
          "execution_count": 69,
          "metadata": {},
          "output_type": "execute_result"
        }
      ],
      "source": [
        "data_validation.__len__()"
      ]
    },
    {
      "cell_type": "code",
      "execution_count": 70,
      "metadata": {
        "colab": {
          "base_uri": "https://localhost:8080/"
        },
        "id": "K8bBfTBdMAyR",
        "outputId": "870816a5-d39d-4c90-ba65-db01732dd6d8"
      },
      "outputs": [
        {
          "data": {
            "text/plain": [
              "874"
            ]
          },
          "execution_count": 70,
          "metadata": {},
          "output_type": "execute_result"
        }
      ],
      "source": [
        "train_loader.__len__()"
      ]
    },
    {
      "cell_type": "code",
      "execution_count": 71,
      "metadata": {
        "colab": {
          "base_uri": "https://localhost:8080/"
        },
        "id": "g8eckzDgMAyR",
        "outputId": "5222057c-b007-4690-8898-8fa4634d9e97"
      },
      "outputs": [
        {
          "data": {
            "text/plain": [
              "219"
            ]
          },
          "execution_count": 71,
          "metadata": {},
          "output_type": "execute_result"
        }
      ],
      "source": [
        "validation_loader.__len__()"
      ]
    },
    {
      "cell_type": "markdown",
      "metadata": {
        "id": "2Mg4QiLCMAyR"
      },
      "source": [
        "### Training centralize model"
      ]
    },
    {
      "cell_type": "code",
      "execution_count": 72,
      "metadata": {
        "id": "C68QobdXMAyR"
      },
      "outputs": [],
      "source": [
        "centralize_transformer_model = TransformerModel(\n",
        "    input_dim=input_dim,\n",
        "    d_model=d_model,\n",
        "    nhead=nhead,\n",
        "    num_layers=num_layers,\n",
        "    dim_feedforward=256,\n",
        "    dropout=dropout\n",
        ")"
      ]
    },
    {
      "cell_type": "code",
      "execution_count": 73,
      "metadata": {
        "colab": {
          "base_uri": "https://localhost:8080/"
        },
        "id": "0gSMS-WvMAyR",
        "outputId": "bf8f476c-e550-4689-9981-efd775147e08"
      },
      "outputs": [
        {
          "name": "stdout",
          "output_type": "stream",
          "text": [
            "Epoch 1/50, Train Loss: 0.02972416396229368, Validation Loss: 0.021792468193867435\n",
            "Epoch 2/50, Train Loss: 0.019630404848827037, Validation Loss: 0.01027991227193238\n",
            "Epoch 3/50, Train Loss: 0.010602225263941887, Validation Loss: 0.00980975339827064\n",
            "Epoch 4/50, Train Loss: 0.009889126015780174, Validation Loss: 0.00871522781400852\n",
            "Epoch 5/50, Train Loss: 0.009577082956499618, Validation Loss: 0.008658670239813933\n",
            "Epoch 6/50, Train Loss: 0.009378468358859386, Validation Loss: 0.008983324084124744\n",
            "Epoch 7/50, Train Loss: 0.009417596349846444, Validation Loss: 0.008899918357633292\n",
            "Epoch 8/50, Train Loss: 0.00928932538488347, Validation Loss: 0.009043507116366195\n",
            "Epoch 9/50, Train Loss: 0.009151406255838391, Validation Loss: 0.009603619892320269\n",
            "Epoch 10/50, Train Loss: 0.009219406224846908, Validation Loss: 0.009449454396537858\n",
            "Epoch 11/50, Train Loss: 0.009145454043795267, Validation Loss: 0.008505226342543347\n",
            "Epoch 12/50, Train Loss: 0.008984394804670452, Validation Loss: 0.008496411593384259\n",
            "Epoch 13/50, Train Loss: 0.00903866585723425, Validation Loss: 0.009147896665280267\n",
            "Epoch 14/50, Train Loss: 0.008979890614351603, Validation Loss: 0.008474944924859151\n",
            "Epoch 15/50, Train Loss: 0.008968338153476335, Validation Loss: 0.008511984263670091\n",
            "Epoch 16/50, Train Loss: 0.008931384168275434, Validation Loss: 0.00987153253241625\n",
            "Epoch 17/50, Train Loss: 0.00891882468662832, Validation Loss: 0.00884513053022427\n",
            "Epoch 18/50, Train Loss: 0.00892530795766437, Validation Loss: 0.008655374276464524\n",
            "Epoch 19/50, Train Loss: 0.008852756613635328, Validation Loss: 0.008613593684994194\n",
            "Epoch 20/50, Train Loss: 0.00888012102176382, Validation Loss: 0.00862842888813721\n",
            "Epoch 21/50, Train Loss: 0.008844149721470965, Validation Loss: 0.008365130575042064\n",
            "Epoch 22/50, Train Loss: 0.008814102324851079, Validation Loss: 0.008313530505332909\n",
            "Epoch 23/50, Train Loss: 0.008768670240127284, Validation Loss: 0.008525874333872915\n",
            "Epoch 24/50, Train Loss: 0.008714212901736833, Validation Loss: 0.008375247753306067\n",
            "Epoch 25/50, Train Loss: 0.008613608075301557, Validation Loss: 0.008052766486815258\n",
            "Epoch 26/50, Train Loss: 0.008556159896226238, Validation Loss: 0.00808837049168675\n",
            "Epoch 27/50, Train Loss: 0.008518828383862155, Validation Loss: 0.008175005426111558\n",
            "Epoch 28/50, Train Loss: 0.008411712803317392, Validation Loss: 0.00844076968576402\n",
            "Epoch 29/50, Train Loss: 0.008489165454570128, Validation Loss: 0.00822132408244697\n",
            "Epoch 30/50, Train Loss: 0.008435589846892782, Validation Loss: 0.007893397000758615\n",
            "Epoch 31/50, Train Loss: 0.008387368054127053, Validation Loss: 0.007901052423416887\n",
            "Epoch 32/50, Train Loss: 0.00833921423139268, Validation Loss: 0.007965418761043244\n",
            "Epoch 33/50, Train Loss: 0.008381271560077536, Validation Loss: 0.008028824628675229\n",
            "Epoch 34/50, Train Loss: 0.008352112814089287, Validation Loss: 0.008315092554426492\n",
            "Epoch 35/50, Train Loss: 0.008285815406641849, Validation Loss: 0.007983658082153835\n",
            "Epoch 36/50, Train Loss: 0.008317194434705466, Validation Loss: 0.008533488674148848\n",
            "Epoch 37/50, Train Loss: 0.00826823453203662, Validation Loss: 0.007941465963052424\n",
            "Epoch 38/50, Train Loss: 0.008287055121129485, Validation Loss: 0.007988816845872902\n",
            "Epoch 39/50, Train Loss: 0.008250311555690398, Validation Loss: 0.008073969912124142\n",
            "Epoch 40/50, Train Loss: 0.008218082590284384, Validation Loss: 0.008080221176759838\n",
            "Epoch 41/50, Train Loss: 0.008211787274316191, Validation Loss: 0.008032289678103302\n",
            "Epoch 42/50, Train Loss: 0.008256602960956247, Validation Loss: 0.007780833733289345\n",
            "Epoch 43/50, Train Loss: 0.008201923930497512, Validation Loss: 0.007988891126290304\n",
            "Epoch 44/50, Train Loss: 0.00818274108143161, Validation Loss: 0.007886070917577368\n",
            "Epoch 45/50, Train Loss: 0.008195024685938449, Validation Loss: 0.007819439150546103\n",
            "Epoch 46/50, Train Loss: 0.008159096935631823, Validation Loss: 0.007829223623388707\n",
            "Epoch 47/50, Train Loss: 0.008169319685250179, Validation Loss: 0.008032234138957987\n",
            "Epoch 48/50, Train Loss: 0.008154620860811979, Validation Loss: 0.007780484980627146\n",
            "Epoch 49/50, Train Loss: 0.008115460128082256, Validation Loss: 0.007840334069936379\n",
            "Epoch 50/50, Train Loss: 0.008140776324505732, Validation Loss: 0.007940087478063558\n"
          ]
        }
      ],
      "source": [
        "try:\n",
        "    train_model(\n",
        "        model=centralize_transformer_model,\n",
        "        client_loader_train=train_loader,\n",
        "        client_loader_validation=validation_loader,\n",
        "        # epochs=1,\n",
        "        epochs=epochs,\n",
        "        learning_rate=learning_rate,\n",
        "        verbose=False\n",
        "    )\n",
        "except KeyboardInterrupt:\n",
        "    print(\"Training interrupted\")"
      ]
    },
    {
      "cell_type": "markdown",
      "metadata": {
        "id": "eBpfPEUpMAyS"
      },
      "source": [
        "### Predict on batch (Centralize model)"
      ]
    },
    {
      "cell_type": "code",
      "execution_count": 74,
      "metadata": {
        "colab": {
          "base_uri": "https://localhost:8080/",
          "height": 0
        },
        "id": "ovauxwPXMAyS",
        "outputId": "e9d0fcef-76a7-4cb9-face-55854d391db0"
      },
      "outputs": [
        {
          "data": {
            "image/png": "[encoded data removed]",
            "text/plain": [
              "<Figure size 1000x600 with 1 Axes>"
            ]
          },
          "metadata": {},
          "output_type": "display_data"
        },
        {
          "name": "stdout",
          "output_type": "stream",
          "text": [
            "Loss on random batch: 0.007057718932628632\n"
          ]
        }
      ],
      "source": [
        "batch_loader = next(iter(validation_loader))\n",
        "\n",
        "loss, _, _ = predict_on_batch(\n",
        "    model=centralize_transformer_model,\n",
        "    batch_loader=batch_loader,\n",
        "    return_actual_rul=True,\n",
        "    show_fig=True,\n",
        ")\n",
        "print(f'Loss on random batch: {loss}')"
      ]
    },
    {
      "cell_type": "markdown",
      "metadata": {},
      "source": [
        "# Part II. Explainable Artificial Intelligence for RUL forecasting using Transformer model"
      ]
    },
    {
      "cell_type": "code",
      "execution_count": null,
      "metadata": {},
      "outputs": [],
      "source": [
        "# import shap\n",
        "# sequence_length = 30\n",
        "# feature_dim = 21\n",
        "# DEVICE = torch.device(\"cuda\" if torch.cuda.is_available() else \"cpu\")\n",
        "\n",
        "# # Dữ liệu nền và dữ liệu cần giải thích\n",
        "# background_data, _ = next(iter(validation_loader))\n",
        "# background_data_np = background_data.cpu().numpy()  # (batch_size, seq_len, feature_dim)\n",
        "# data_to_explain = background_data_np[:10]           # Chọn 10 mẫu để giải thích\n",
        "\n",
        "# # Chuyển đổi dữ liệu nền và dữ liệu cần giải thích thành dạng 2D\n",
        "# background_data_2d = background_data_np.reshape(background_data_np.shape[0], -1)  # (batch_size, seq_len * feature_dim)\n",
        "# data_to_explain_2d = data_to_explain.reshape(data_to_explain.shape[0], -1)        #\n",
        "# # Sử dụng DeepExplainer thay vì KernelExplainer\n",
        "# explainer = shap.DeepExplainer(centralize_transformer_model, background_data)\n",
        "\n",
        "# # Tính SHAP values\n",
        "# shap_values = explainer.shap_values(data_to_explain)\n",
        "\n",
        "# # Chuyển SHAP values về dạng 3D (num_samples, seq_len, feature_dim)\n",
        "# shap_values_array = np.array(shap_values).reshape(data_to_explain.shape[0], sequence_length, feature_dim)  # (10, seq_len, feature_dim)\n",
        "\n",
        "# # Các biểu đồ XAI sẽ được tính như bình thường sau đó\n"
      ]
    },
    {
      "cell_type": "markdown",
      "metadata": {
        "id": "-V-hgj5JMAyS"
      },
      "source": [
        "# Part III. Setup Federated Learning with Flower for RUL prediction using Transformer model"
      ]
    },
    {
      "cell_type": "markdown",
      "metadata": {
        "id": "Mbc5HTBUMAyS"
      },
      "source": [
        "### Define parameters for training FL with Flower"
      ]
    },
    {
      "cell_type": "code",
      "execution_count": 76,
      "metadata": {
        "colab": {
          "base_uri": "https://localhost:8080/"
        },
        "id": "uyFG0CdWMAyS",
        "outputId": "7bab51ee-877d-4905-9172-64746410c0f6"
      },
      "outputs": [],
      "source": [
        "num_clients = 10\n",
        "num_rounds = 50"
      ]
    },
    {
      "cell_type": "markdown",
      "metadata": {
        "id": "YFsCsOyIMAyS"
      },
      "source": [
        "### Split dataframe to 10 subframe for 10 client"
      ]
    },
    {
      "cell_type": "code",
      "execution_count": 77,
      "metadata": {
        "id": "5Bidza4aMAyT"
      },
      "outputs": [],
      "source": [
        "def split_dataset(dataset, num_clients):\n",
        "    \"\"\"\n",
        "    Chia dataset thành num_clients tập con đều nhau.\n",
        "    Args:\n",
        "        dataset: Dataset cần chia (torch.utils.data.Dataset).\n",
        "        num_clients: Số lượng tập con muốn tạo.\n",
        "    Returns:\n",
        "        List chứa các tập con của dataset.\n",
        "    \"\"\"\n",
        "    # Kích thước mỗi tập con\n",
        "    subset_size = len(dataset) // num_clients\n",
        "    sizes = [subset_size] * num_clients\n",
        "\n",
        "    # Chia phần dư (nếu tổng dataset không chia hết)\n",
        "    sizes[-1] += len(dataset) - sum(sizes)\n",
        "\n",
        "    # Tạo danh sách các tập con\n",
        "    subsets = random_split(dataset, sizes)\n",
        "    return subsets"
      ]
    },
    {
      "cell_type": "code",
      "execution_count": 78,
      "metadata": {
        "colab": {
          "base_uri": "https://localhost:8080/"
        },
        "id": "1qBZf6hxMAyT",
        "outputId": "d66be3eb-48a0-4426-abde-353ac3acf820"
      },
      "outputs": [
        {
          "data": {
            "text/plain": [
              "(160359, 27)"
            ]
          },
          "execution_count": 78,
          "metadata": {},
          "output_type": "execute_result"
        }
      ],
      "source": [
        "# train.head()\n",
        "train.shape"
      ]
    },
    {
      "cell_type": "code",
      "execution_count": 79,
      "metadata": {
        "id": "Aj5LJJsLMAyT"
      },
      "outputs": [],
      "source": [
        "data = CMAPSSLoaderDataset(train, sequence_length=sequence_length)\n",
        "train_data, validation_data = train_test_split(data, test_size=0.2, random_state=42)\n",
        "\n",
        "subset_trains = split_dataset(train_data, num_clients=num_clients)\n",
        "subset_validations = split_dataset(validation_data, num_clients=num_clients)\n",
        "\n",
        "client_loader_trains = [DataLoader(subset, batch_size=batch_size, shuffle=True) for subset in subset_trains]\n",
        "client_loader_validations = [DataLoader(subset, batch_size=batch_size, shuffle=True) for subset in subset_validations]"
      ]
    },
    {
      "cell_type": "code",
      "execution_count": 80,
      "metadata": {
        "colab": {
          "base_uri": "https://localhost:8080/"
        },
        "id": "OIjOv3DbMAyT",
        "outputId": "cfd8f5a1-d79e-47ad-abe6-073367c4e356"
      },
      "outputs": [
        {
          "name": "stdout",
          "output_type": "stream",
          "text": [
            "Client 1 will use a subset with 11183 samples\n",
            "Client 2 will use a subset with 11183 samples\n",
            "Client 3 will use a subset with 11183 samples\n",
            "Client 4 will use a subset with 11183 samples\n",
            "Client 5 will use a subset with 11183 samples\n",
            "Client 6 will use a subset with 11183 samples\n",
            "Client 7 will use a subset with 11183 samples\n",
            "Client 8 will use a subset with 11183 samples\n",
            "Client 9 will use a subset with 11183 samples\n",
            "Client 10 will use a subset with 11191 samples\n"
          ]
        }
      ],
      "source": [
        "for i, loader in enumerate(client_loader_trains):\n",
        "    print(f\"Client {i+1} will use a subset with {len(loader.dataset)} samples\")"
      ]
    },
    {
      "cell_type": "code",
      "execution_count": 81,
      "metadata": {
        "colab": {
          "base_uri": "https://localhost:8080/"
        },
        "id": "5ot2zTq7MAyU",
        "outputId": "e008b100-7167-457e-a0ab-623a0717cfc8"
      },
      "outputs": [
        {
          "name": "stdout",
          "output_type": "stream",
          "text": [
            "Client 1 will use a subset with 11183 samples\n",
            "Client 2 will use a subset with 11183 samples\n",
            "Client 3 will use a subset with 11183 samples\n",
            "Client 4 will use a subset with 11183 samples\n",
            "Client 5 will use a subset with 11183 samples\n",
            "Client 6 will use a subset with 11183 samples\n",
            "Client 7 will use a subset with 11183 samples\n",
            "Client 8 will use a subset with 11183 samples\n",
            "Client 9 will use a subset with 11183 samples\n",
            "Client 10 will use a subset with 11191 samples\n"
          ]
        }
      ],
      "source": [
        "for i, loader in enumerate(client_loader_trains):\n",
        "    print(f\"Client {i+1} will use a subset with {len(loader.dataset)} samples\")"
      ]
    },
    {
      "cell_type": "markdown",
      "metadata": {
        "id": "kP_GaPfnMAyU"
      },
      "source": [
        "### Update model parameters"
      ]
    },
    {
      "cell_type": "code",
      "execution_count": 82,
      "metadata": {
        "id": "M6PNtLhnMAyU"
      },
      "outputs": [],
      "source": [
        "def set_parameters(model, parameters: List[np.ndarray]):\n",
        "    params_dict = zip(model.state_dict().keys(), parameters)\n",
        "    state_dict = OrderedDict({k: torch.Tensor(v) for k, v in params_dict})\n",
        "    model.load_state_dict(state_dict, strict=True)\n",
        "\n",
        "def get_parameters(model) -> List[np.ndarray]:\n",
        "    return [val.cpu().numpy() for _, val in model.state_dict().items()]"
      ]
    },
    {
      "cell_type": "markdown",
      "metadata": {
        "id": "ZYLbAQn_MAyU"
      },
      "source": [
        "### Define the Flower ClientApp"
      ]
    },
    {
      "cell_type": "code",
      "execution_count": 83,
      "metadata": {
        "id": "YvYWLdCKMAyU"
      },
      "outputs": [],
      "source": [
        "class FlowerClient(NumPyClient):\n",
        "    def __init__(self, model, client_loader_train, client_loader_validation):\n",
        "        self.model = model\n",
        "        self.trainloader = client_loader_train\n",
        "        self.valloader = client_loader_validation\n",
        "\n",
        "    def get_parameters(self, config):\n",
        "        return get_parameters(self.model)\n",
        "\n",
        "    def fit(self, parameters, config):\n",
        "        set_parameters(self.model, parameters)\n",
        "        train_model(\n",
        "            model=self.model,\n",
        "            client_loader_train=self.trainloader,\n",
        "            client_loader_validation=self.valloader,\n",
        "            epochs=1,\n",
        "            learning_rate=learning_rate,\n",
        "            verbose=False\n",
        "        )\n",
        "        return get_parameters(self.model), len(self.trainloader), {}\n",
        "\n",
        "    def evaluate(self, parameters, config):\n",
        "        set_parameters(self.model, parameters)\n",
        "        # loss, accuracy = test(self.model, self.valloader)\n",
        "        loss = test_model(\n",
        "            model=self.model,\n",
        "            client_loader_validation=self.valloader,\n",
        "            return_actual_rul=False,\n",
        "            show_fig=False\n",
        "        )\n",
        "        return float(loss), len(self.valloader), {\"accuracy\": float(0.0)}"
      ]
    },
    {
      "cell_type": "code",
      "execution_count": 84,
      "metadata": {
        "id": "uySkMzDwMAyU"
      },
      "outputs": [],
      "source": [
        "def client_fn(context: Context) -> Client:\n",
        "    \"\"\"Create a Flower client representing a single organization.\"\"\"\n",
        "\n",
        "    # Load model\n",
        "    model = TransformerModel(\n",
        "        input_dim=input_dim,\n",
        "        d_model=d_model,\n",
        "        nhead=nhead,\n",
        "        num_layers=num_layers,\n",
        "        dim_feedforward=dim_feedforward,\n",
        "        dropout=0.1\n",
        "    ).to(DEVICE)\n",
        "\n",
        "    # Note: each client gets a different trainloader/valloader, so each client\n",
        "    # will train and evaluate on their own unique data partition\n",
        "    # Read the node_config to fetch data partition associated to this node\n",
        "    partition_id = context.node_config[\"partition-id\"]\n",
        "    trainloader = client_loader_trains[partition_id]\n",
        "    valloader = client_loader_validations[partition_id]\n",
        "\n",
        "    # Create a single Flower client representing a single organization\n",
        "    # FlowerClient is a subclass of NumPyClient, so we need to call .to_client()\n",
        "    # to convert it to a subclass of `flwr.client.Client`\n",
        "    return FlowerClient(model, trainloader, valloader).to_client()\n",
        "\n",
        "\n",
        "# Create the ClientApp\n",
        "client = ClientApp(client_fn=client_fn)"
      ]
    },
    {
      "cell_type": "markdown",
      "metadata": {
        "id": "EuIAxKzIMAyV"
      },
      "source": [
        "### Define the Flower ServerApp"
      ]
    },
    {
      "cell_type": "code",
      "execution_count": 85,
      "metadata": {
        "id": "GYI9D2jeMAyV"
      },
      "outputs": [],
      "source": [
        "# Create FedAvg strategy\n",
        "strategy = FedAvg(\n",
        "    fraction_fit=1.0,  # Sample 100% of available clients for training\n",
        "    fraction_evaluate=0.5,  # Sample 50% of available clients for evaluation\n",
        "    min_fit_clients=10,  # Never sample less than 10 clients for training\n",
        "    min_evaluate_clients=5,  # Never sample less than 5 clients for evaluation\n",
        "    min_available_clients=10,  # Wait until all 10 clients are available\n",
        ")"
      ]
    },
    {
      "cell_type": "code",
      "execution_count": 86,
      "metadata": {
        "id": "0huq_J3CMAyV"
      },
      "outputs": [],
      "source": [
        "def server_fn(context: Context) -> ServerAppComponents:\n",
        "    \"\"\"Construct components that set the ServerApp behaviour.\n",
        "\n",
        "    You can use the settings in `context.run_config` to parameterize the\n",
        "    construction of all elements (e.g the strategy or the number of rounds)\n",
        "    wrapped in the returned ServerAppComponents object.\n",
        "    \"\"\"\n",
        "\n",
        "    # Configure the server for 5 rounds of training\n",
        "    config = ServerConfig(num_rounds=50)\n",
        "\n",
        "    return ServerAppComponents(strategy=strategy, config=config)\n",
        "\n",
        "\n",
        "# Create the ServerApp\n",
        "server = ServerApp(server_fn=server_fn)"
      ]
    },
    {
      "cell_type": "markdown",
      "metadata": {
        "id": "o7kLDqq5MAyV"
      },
      "source": [
        "### Run the training"
      ]
    },
    {
      "cell_type": "code",
      "execution_count": 87,
      "metadata": {
        "id": "uIXCYtEJMAyV"
      },
      "outputs": [],
      "source": [
        "# Specify the resources each of your clients need\n",
        "# By default, each client will be allocated 1x CPU and 0x GPUs\n",
        "backend_config = {\"client_resources\": {\"num_cpus\": 1, \"num_gpus\": 0.0}}\n",
        "\n",
        "# When running on GPU, assign an entire GPU for each client\n",
        "if DEVICE.type == \"cuda\":\n",
        "    backend_config = {\"client_resources\": {\"num_cpus\": 1, \"num_gpus\": 1.0}}\n",
        "    # Refer to our Flower framework documentation for more details about Flower simulations\n",
        "    # and how to set up the `backend_config`"
      ]
    },
    {
      "cell_type": "code",
      "execution_count": 88,
      "metadata": {
        "colab": {
          "base_uri": "https://localhost:8080/"
        },
        "id": "fa4Oj4OrMAyV",
        "outputId": "f1dd62fb-2894-477f-891e-2e8ce1ecbe4b"
      },
      "outputs": [
        {
          "name": "stderr",
          "output_type": "stream",
          "text": [
            "\u001b[92mINFO \u001b[0m:      Starting Flower ServerApp, config: num_rounds=50, no round_timeout\n"
          ]
        },
        {
          "name": "stderr",
          "output_type": "stream",
          "text": [
            "\u001b[92mINFO \u001b[0m:      \n",
            "\u001b[92mINFO \u001b[0m:      [INIT]\n",
            "\u001b[92mINFO \u001b[0m:      Requesting initial parameters from one random client\n",
            "\u001b[92mINFO \u001b[0m:      Received initial parameters from one random client\n",
            "\u001b[92mINFO \u001b[0m:      Starting evaluation of initial global parameters\n",
            "\u001b[92mINFO \u001b[0m:      Evaluation returned no results (`None`)\n",
            "\u001b[92mINFO \u001b[0m:      \n",
            "\u001b[92mINFO \u001b[0m:      [ROUND 1]\n",
            "\u001b[92mINFO \u001b[0m:      configure_fit: strategy sampled 10 clients (out of 10)\n"
          ]
        },
        {
          "name": "stdout",
          "output_type": "stream",
          "text": [
            "\u001b[36m(ClientAppActor pid=443697)\u001b[0m Epoch 1/1, Train Loss: 0.14230453796600076, Validation Loss: 0.01969371507452293\n",
            "\u001b[36m(ClientAppActor pid=443697)\u001b[0m Epoch 1/1, Train Loss: 0.13725887177596716, Validation Loss: 0.02065573933280327\n",
            "\u001b[36m(ClientAppActor pid=443697)\u001b[0m Epoch 1/1, Train Loss: 0.13487812006761404, Validation Loss: 0.020625975998965176\n",
            "\u001b[36m(ClientAppActor pid=443697)\u001b[0m Epoch 1/1, Train Loss: 0.1331858519803394, Validation Loss: 0.020816914991221645\n",
            "\u001b[36m(ClientAppActor pid=443697)\u001b[0m Epoch 1/1, Train Loss: 0.14138958855024117, Validation Loss: 0.020497645759447056\n",
            "\u001b[36m(ClientAppActor pid=443697)\u001b[0m Epoch 1/1, Train Loss: 0.1366643693975427, Validation Loss: 0.020275124814361334\n",
            "\u001b[36m(ClientAppActor pid=443697)\u001b[0m Epoch 1/1, Train Loss: 0.13471100009469825, Validation Loss: 0.021388838956640524\n",
            "\u001b[36m(ClientAppActor pid=443697)\u001b[0m Epoch 1/1, Train Loss: 0.13529237429611385, Validation Loss: 0.021371785762973806\n",
            "\u001b[36m(ClientAppActor pid=443697)\u001b[0m Epoch 1/1, Train Loss: 0.13496110967191105, Validation Loss: 0.02132272618738088\n"
          ]
        },
        {
          "name": "stderr",
          "output_type": "stream",
          "text": [
            "\u001b[92mINFO \u001b[0m:      aggregate_fit: received 10 results and 0 failures\n",
            "\u001b[93mWARNING \u001b[0m:   No fit_metrics_aggregation_fn provided\n",
            "\u001b[92mINFO \u001b[0m:      configure_evaluate: strategy sampled 5 clients (out of 10)\n"
          ]
        },
        {
          "name": "stdout",
          "output_type": "stream",
          "text": [
            "\u001b[36m(ClientAppActor pid=443697)\u001b[0m Epoch 1/1, Train Loss: 0.14018663865598766, Validation Loss: 0.019162043929100037\n"
          ]
        },
        {
          "name": "stderr",
          "output_type": "stream",
          "text": [
            "\u001b[92mINFO \u001b[0m:      aggregate_evaluate: received 5 results and 0 failures\n",
            "\u001b[93mWARNING \u001b[0m:   No evaluate_metrics_aggregation_fn provided\n",
            "\u001b[92mINFO \u001b[0m:      \n",
            "\u001b[92mINFO \u001b[0m:      [ROUND 2]\n",
            "\u001b[92mINFO \u001b[0m:      configure_fit: strategy sampled 10 clients (out of 10)\n"
          ]
        },
        {
          "name": "stdout",
          "output_type": "stream",
          "text": [
            "\u001b[36m(ClientAppActor pid=443697)\u001b[0m Epoch 1/1, Train Loss: 0.031177376481619747, Validation Loss: 0.02034576347267086\n",
            "\u001b[36m(ClientAppActor pid=443697)\u001b[0m Epoch 1/1, Train Loss: 0.03290078189985996, Validation Loss: 0.020418942694298246\n",
            "\u001b[36m(ClientAppActor pid=443697)\u001b[0m Epoch 1/1, Train Loss: 0.032670758008448916, Validation Loss: 0.020143419165502895\n",
            "\u001b[36m(ClientAppActor pid=443697)\u001b[0m Epoch 1/1, Train Loss: 0.03446332024495033, Validation Loss: 0.020757740109481594\n",
            "\u001b[36m(ClientAppActor pid=443697)\u001b[0m Epoch 1/1, Train Loss: 0.02870921246622774, Validation Loss: 0.023419508879834957\n",
            "\u001b[36m(ClientAppActor pid=443697)\u001b[0m Epoch 1/1, Train Loss: 0.02861490494317629, Validation Loss: 0.021023908122019333\n",
            "\u001b[36m(ClientAppActor pid=443697)\u001b[0m Epoch 1/1, Train Loss: 0.03321689839305526, Validation Loss: 0.021721186285669155\n",
            "\u001b[36m(ClientAppActor pid=443697)\u001b[0m Epoch 1/1, Train Loss: 0.03299590056254105, Validation Loss: 0.021262461150234394\n",
            "\u001b[36m(ClientAppActor pid=443697)\u001b[0m Epoch 1/1, Train Loss: 0.030518322336402805, Validation Loss: 0.021925893527540295\n"
          ]
        },
        {
          "name": "stderr",
          "output_type": "stream",
          "text": [
            "\u001b[92mINFO \u001b[0m:      aggregate_fit: received 10 results and 0 failures\n",
            "\u001b[92mINFO \u001b[0m:      configure_evaluate: strategy sampled 5 clients (out of 10)\n"
          ]
        },
        {
          "name": "stdout",
          "output_type": "stream",
          "text": [
            "\u001b[36m(ClientAppActor pid=443697)\u001b[0m Epoch 1/1, Train Loss: 0.03116800801151178, Validation Loss: 0.020302928349172526\n"
          ]
        },
        {
          "name": "stderr",
          "output_type": "stream",
          "text": [
            "\u001b[92mINFO \u001b[0m:      aggregate_evaluate: received 5 results and 0 failures\n",
            "\u001b[92mINFO \u001b[0m:      \n",
            "\u001b[92mINFO \u001b[0m:      [ROUND 3]\n",
            "\u001b[92mINFO \u001b[0m:      configure_fit: strategy sampled 10 clients (out of 10)\n"
          ]
        },
        {
          "name": "stdout",
          "output_type": "stream",
          "text": [
            "\u001b[36m(ClientAppActor pid=443697)\u001b[0m Epoch 1/1, Train Loss: 0.02443666502156041, Validation Loss: 0.019375993065874685\n",
            "\u001b[36m(ClientAppActor pid=443697)\u001b[0m Epoch 1/1, Train Loss: 0.02284708198964257, Validation Loss: 0.020366812717508186\n",
            "\u001b[36m(ClientAppActor pid=443697)\u001b[0m Epoch 1/1, Train Loss: 0.023125139488415283, Validation Loss: 0.021038286218589\n",
            "\u001b[36m(ClientAppActor pid=443697)\u001b[0m Epoch 1/1, Train Loss: 0.023803675737739963, Validation Loss: 0.020805491981181232\n",
            "\u001b[36m(ClientAppActor pid=443697)\u001b[0m Epoch 1/1, Train Loss: 0.023141839530911635, Validation Loss: 0.02030854697593234\n",
            "\u001b[36m(ClientAppActor pid=443697)\u001b[0m Epoch 1/1, Train Loss: 0.02379041931337931, Validation Loss: 0.020421023776924067\n",
            "\u001b[36m(ClientAppActor pid=443697)\u001b[0m Epoch 1/1, Train Loss: 0.023815001477487385, Validation Loss: 0.021529444324021988\n",
            "\u001b[36m(ClientAppActor pid=443697)\u001b[0m Epoch 1/1, Train Loss: 0.023509386567060243, Validation Loss: 0.023143621415577152\n",
            "\u001b[36m(ClientAppActor pid=443697)\u001b[0m Epoch 1/1, Train Loss: 0.024573852816088634, Validation Loss: 0.021933475593951614\n"
          ]
        },
        {
          "name": "stderr",
          "output_type": "stream",
          "text": [
            "\u001b[92mINFO \u001b[0m:      aggregate_fit: received 10 results and 0 failures\n",
            "\u001b[92mINFO \u001b[0m:      configure_evaluate: strategy sampled 5 clients (out of 10)\n"
          ]
        },
        {
          "name": "stdout",
          "output_type": "stream",
          "text": [
            "\u001b[36m(ClientAppActor pid=443697)\u001b[0m Epoch 1/1, Train Loss: 0.025193902748552235, Validation Loss: 0.02005832523784854\n"
          ]
        },
        {
          "name": "stderr",
          "output_type": "stream",
          "text": [
            "\u001b[92mINFO \u001b[0m:      aggregate_evaluate: received 5 results and 0 failures\n",
            "\u001b[92mINFO \u001b[0m:      \n",
            "\u001b[92mINFO \u001b[0m:      [ROUND 4]\n",
            "\u001b[92mINFO \u001b[0m:      configure_fit: strategy sampled 10 clients (out of 10)\n"
          ]
        },
        {
          "name": "stdout",
          "output_type": "stream",
          "text": [
            "\u001b[36m(ClientAppActor pid=443697)\u001b[0m Epoch 1/1, Train Loss: 0.022414514202285896, Validation Loss: 0.01938384949144992\n",
            "\u001b[36m(ClientAppActor pid=443697)\u001b[0m Epoch 1/1, Train Loss: 0.021804047155786644, Validation Loss: 0.022260203449563545\n",
            "\u001b[36m(ClientAppActor pid=443697)\u001b[0m Epoch 1/1, Train Loss: 0.02261615265160799, Validation Loss: 0.02013222509148446\n",
            "\u001b[36m(ClientAppActor pid=443697)\u001b[0m Epoch 1/1, Train Loss: 0.021793507357043298, Validation Loss: 0.02073723975230347\n",
            "\u001b[36m(ClientAppActor pid=443697)\u001b[0m Epoch 1/1, Train Loss: 0.022470728113231333, Validation Loss: 0.02038918782702901\n",
            "\u001b[36m(ClientAppActor pid=443697)\u001b[0m Epoch 1/1, Train Loss: 0.022250673500820994, Validation Loss: 0.02024601357565685\n",
            "\u001b[36m(ClientAppActor pid=443697)\u001b[0m Epoch 1/1, Train Loss: 0.022188478699800642, Validation Loss: 0.02237671503627842\n",
            "\u001b[36m(ClientAppActor pid=443697)\u001b[0m Epoch 1/1, Train Loss: 0.022321742535992103, Validation Loss: 0.021214594895189457\n",
            "\u001b[36m(ClientAppActor pid=443697)\u001b[0m Epoch 1/1, Train Loss: 0.021934503922238946, Validation Loss: 0.021503237076103687\n"
          ]
        },
        {
          "name": "stderr",
          "output_type": "stream",
          "text": [
            "\u001b[92mINFO \u001b[0m:      aggregate_fit: received 10 results and 0 failures\n",
            "\u001b[92mINFO \u001b[0m:      configure_evaluate: strategy sampled 5 clients (out of 10)\n"
          ]
        },
        {
          "name": "stdout",
          "output_type": "stream",
          "text": [
            "\u001b[36m(ClientAppActor pid=443697)\u001b[0m Epoch 1/1, Train Loss: 0.02307930951726369, Validation Loss: 0.020459314977580852\n"
          ]
        },
        {
          "name": "stderr",
          "output_type": "stream",
          "text": [
            "\u001b[92mINFO \u001b[0m:      aggregate_evaluate: received 5 results and 0 failures\n",
            "\u001b[92mINFO \u001b[0m:      \n",
            "\u001b[92mINFO \u001b[0m:      [ROUND 5]\n",
            "\u001b[92mINFO \u001b[0m:      configure_fit: strategy sampled 10 clients (out of 10)\n"
          ]
        },
        {
          "name": "stdout",
          "output_type": "stream",
          "text": [
            "\u001b[36m(ClientAppActor pid=443697)\u001b[0m Epoch 1/1, Train Loss: 0.021948332464407114, Validation Loss: 0.020405791615220634\n",
            "\u001b[36m(ClientAppActor pid=443697)\u001b[0m Epoch 1/1, Train Loss: 0.021478830540383406, Validation Loss: 0.020405402322384445\n",
            "\u001b[36m(ClientAppActor pid=443697)\u001b[0m Epoch 1/1, Train Loss: 0.021699825280599973, Validation Loss: 0.020185541149906137\n",
            "\u001b[36m(ClientAppActor pid=443697)\u001b[0m Epoch 1/1, Train Loss: 0.02148810241752389, Validation Loss: 0.02131867806681178\n",
            "\u001b[36m(ClientAppActor pid=443697)\u001b[0m Epoch 1/1, Train Loss: 0.02128207195677202, Validation Loss: 0.020258472301065922\n",
            "\u001b[36m(ClientAppActor pid=443697)\u001b[0m Epoch 1/1, Train Loss: 0.021130804501643233, Validation Loss: 0.02025988469408317\n",
            "\u001b[36m(ClientAppActor pid=443697)\u001b[0m Epoch 1/1, Train Loss: 0.02132508240174502, Validation Loss: 0.023385086012157528\n",
            "\u001b[36m(ClientAppActor pid=443697)\u001b[0m Epoch 1/1, Train Loss: 0.021479460749436508, Validation Loss: 0.021949227052656086\n",
            "\u001b[36m(ClientAppActor pid=443697)\u001b[0m Epoch 1/1, Train Loss: 0.021938981488347054, Validation Loss: 0.0214195383543318\n"
          ]
        },
        {
          "name": "stderr",
          "output_type": "stream",
          "text": [
            "\u001b[92mINFO \u001b[0m:      aggregate_fit: received 10 results and 0 failures\n",
            "\u001b[92mINFO \u001b[0m:      configure_evaluate: strategy sampled 5 clients (out of 10)\n"
          ]
        },
        {
          "name": "stdout",
          "output_type": "stream",
          "text": [
            "\u001b[36m(ClientAppActor pid=443697)\u001b[0m Epoch 1/1, Train Loss: 0.022393869479525496, Validation Loss: 0.020634648051451553\n"
          ]
        },
        {
          "name": "stderr",
          "output_type": "stream",
          "text": [
            "\u001b[92mINFO \u001b[0m:      aggregate_evaluate: received 5 results and 0 failures\n",
            "\u001b[92mINFO \u001b[0m:      \n",
            "\u001b[92mINFO \u001b[0m:      [ROUND 6]\n",
            "\u001b[92mINFO \u001b[0m:      configure_fit: strategy sampled 10 clients (out of 10)\n"
          ]
        },
        {
          "name": "stdout",
          "output_type": "stream",
          "text": [
            "\u001b[36m(ClientAppActor pid=443697)\u001b[0m Epoch 1/1, Train Loss: 0.020203473744913936, Validation Loss: 0.019230252809145233\n",
            "\u001b[36m(ClientAppActor pid=443697)\u001b[0m Epoch 1/1, Train Loss: 0.020122389287941835, Validation Loss: 0.015303000723096457\n",
            "\u001b[36m(ClientAppActor pid=443697)\u001b[0m Epoch 1/1, Train Loss: 0.021074237503026696, Validation Loss: 0.02045318420807069\n",
            "\u001b[36m(ClientAppActor pid=443697)\u001b[0m Epoch 1/1, Train Loss: 0.019914833606559445, Validation Loss: 0.019353377251801165\n",
            "\u001b[36m(ClientAppActor pid=443697)\u001b[0m Epoch 1/1, Train Loss: 0.020810019510628826, Validation Loss: 0.021046623672274025\n",
            "\u001b[36m(ClientAppActor pid=443697)\u001b[0m Epoch 1/1, Train Loss: 0.021378301179290495, Validation Loss: 0.020744748836891216\n",
            "\u001b[36m(ClientAppActor pid=443697)\u001b[0m Epoch 1/1, Train Loss: 0.02056715153792704, Validation Loss: 0.019433325706896456\n",
            "\u001b[36m(ClientAppActor pid=443697)\u001b[0m Epoch 1/1, Train Loss: 0.020905962203290652, Validation Loss: 0.019981492564759472\n",
            "\u001b[36m(ClientAppActor pid=443697)\u001b[0m Epoch 1/1, Train Loss: 0.020668001856062223, Validation Loss: 0.019466054456477814\n"
          ]
        },
        {
          "name": "stderr",
          "output_type": "stream",
          "text": [
            "\u001b[92mINFO \u001b[0m:      aggregate_fit: received 10 results and 0 failures\n",
            "\u001b[92mINFO \u001b[0m:      configure_evaluate: strategy sampled 5 clients (out of 10)\n"
          ]
        },
        {
          "name": "stdout",
          "output_type": "stream",
          "text": [
            "\u001b[36m(ClientAppActor pid=443697)\u001b[0m Epoch 1/1, Train Loss: 0.02109482811382887, Validation Loss: 0.017633500635962595\n"
          ]
        },
        {
          "name": "stderr",
          "output_type": "stream",
          "text": [
            "\u001b[92mINFO \u001b[0m:      aggregate_evaluate: received 5 results and 0 failures\n",
            "\u001b[92mINFO \u001b[0m:      \n",
            "\u001b[92mINFO \u001b[0m:      [ROUND 7]\n",
            "\u001b[92mINFO \u001b[0m:      configure_fit: strategy sampled 10 clients (out of 10)\n"
          ]
        },
        {
          "name": "stdout",
          "output_type": "stream",
          "text": [
            "\u001b[36m(ClientAppActor pid=443697)\u001b[0m Epoch 1/1, Train Loss: 0.01896141292738982, Validation Loss: 0.016124553555114704\n",
            "\u001b[36m(ClientAppActor pid=443697)\u001b[0m Epoch 1/1, Train Loss: 0.017194923690774223, Validation Loss: 0.01533070346340537\n",
            "\u001b[36m(ClientAppActor pid=443697)\u001b[0m Epoch 1/1, Train Loss: 0.016393336837857285, Validation Loss: 0.01259635981510986\n",
            "\u001b[36m(ClientAppActor pid=443697)\u001b[0m Epoch 1/1, Train Loss: 0.01711273951117288, Validation Loss: 0.01733356091955846\n",
            "\u001b[36m(ClientAppActor pid=443697)\u001b[0m Epoch 1/1, Train Loss: 0.01770433536942371, Validation Loss: 0.012915222439914942\n",
            "\u001b[36m(ClientAppActor pid=443697)\u001b[0m Epoch 1/1, Train Loss: 0.01779921069233255, Validation Loss: 0.014657521281730045\n",
            "\u001b[36m(ClientAppActor pid=443697)\u001b[0m Epoch 1/1, Train Loss: 0.016345324121754278, Validation Loss: 0.01624040381813591\n",
            "\u001b[36m(ClientAppActor pid=443697)\u001b[0m Epoch 1/1, Train Loss: 0.01888613289603117, Validation Loss: 0.015601208052513275\n",
            "\u001b[36m(ClientAppActor pid=443697)\u001b[0m Epoch 1/1, Train Loss: 0.017571384087204933, Validation Loss: 0.019484720573845236\n"
          ]
        },
        {
          "name": "stderr",
          "output_type": "stream",
          "text": [
            "\u001b[92mINFO \u001b[0m:      aggregate_fit: received 10 results and 0 failures\n",
            "\u001b[92mINFO \u001b[0m:      configure_evaluate: strategy sampled 5 clients (out of 10)\n"
          ]
        },
        {
          "name": "stdout",
          "output_type": "stream",
          "text": [
            "\u001b[36m(ClientAppActor pid=443697)\u001b[0m Epoch 1/1, Train Loss: 0.01711756250270727, Validation Loss: 0.01138631838627837\n"
          ]
        },
        {
          "name": "stderr",
          "output_type": "stream",
          "text": [
            "\u001b[92mINFO \u001b[0m:      aggregate_evaluate: received 5 results and 0 failures\n",
            "\u001b[92mINFO \u001b[0m:      \n",
            "\u001b[92mINFO \u001b[0m:      [ROUND 8]\n",
            "\u001b[92mINFO \u001b[0m:      configure_fit: strategy sampled 10 clients (out of 10)\n"
          ]
        },
        {
          "name": "stdout",
          "output_type": "stream",
          "text": [
            "\u001b[36m(ClientAppActor pid=443697)\u001b[0m Epoch 1/1, Train Loss: 0.015605896224521777, Validation Loss: 0.015026230788366362\n",
            "\u001b[36m(ClientAppActor pid=443697)\u001b[0m Epoch 1/1, Train Loss: 0.01453976650637659, Validation Loss: 0.01239938610656695\n",
            "\u001b[36m(ClientAppActor pid=443697)\u001b[0m Epoch 1/1, Train Loss: 0.013957732600498606, Validation Loss: 0.011086605954915285\n",
            "\u001b[36m(ClientAppActor pid=443697)\u001b[0m Epoch 1/1, Train Loss: 0.013841991111720827, Validation Loss: 0.012382590592923489\n",
            "\u001b[36m(ClientAppActor pid=443697)\u001b[0m Epoch 1/1, Train Loss: 0.014695546293461864, Validation Loss: 0.011242086067795753\n",
            "\u001b[36m(ClientAppActor pid=443697)\u001b[0m Epoch 1/1, Train Loss: 0.013384257337417115, Validation Loss: 0.011004052209583197\n",
            "\u001b[36m(ClientAppActor pid=443697)\u001b[0m Epoch 1/1, Train Loss: 0.014079037778587504, Validation Loss: 0.013381893788887695\n",
            "\u001b[36m(ClientAppActor pid=443697)\u001b[0m Epoch 1/1, Train Loss: 0.016018678233112125, Validation Loss: 0.011867786757647991\n",
            "\u001b[36m(ClientAppActor pid=443697)\u001b[0m Epoch 1/1, Train Loss: 0.015048955239101568, Validation Loss: 0.016031529077074745\n"
          ]
        },
        {
          "name": "stderr",
          "output_type": "stream",
          "text": [
            "\u001b[92mINFO \u001b[0m:      aggregate_fit: received 10 results and 0 failures\n",
            "\u001b[92mINFO \u001b[0m:      configure_evaluate: strategy sampled 5 clients (out of 10)\n"
          ]
        },
        {
          "name": "stdout",
          "output_type": "stream",
          "text": [
            "\u001b[36m(ClientAppActor pid=443697)\u001b[0m Epoch 1/1, Train Loss: 0.015397441658106718, Validation Loss: 0.010741420682858337\n"
          ]
        },
        {
          "name": "stderr",
          "output_type": "stream",
          "text": [
            "\u001b[92mINFO \u001b[0m:      aggregate_evaluate: received 5 results and 0 failures\n",
            "\u001b[92mINFO \u001b[0m:      \n",
            "\u001b[92mINFO \u001b[0m:      [ROUND 9]\n",
            "\u001b[92mINFO \u001b[0m:      configure_fit: strategy sampled 10 clients (out of 10)\n"
          ]
        },
        {
          "name": "stdout",
          "output_type": "stream",
          "text": [
            "\u001b[36m(ClientAppActor pid=443697)\u001b[0m Epoch 1/1, Train Loss: 0.013334322911263867, Validation Loss: 0.011774995025585999\n",
            "\u001b[36m(ClientAppActor pid=443697)\u001b[0m Epoch 1/1, Train Loss: 0.013206994690170342, Validation Loss: 0.011997298506850546\n",
            "\u001b[36m(ClientAppActor pid=443697)\u001b[0m Epoch 1/1, Train Loss: 0.012643643400885841, Validation Loss: 0.009966266743669456\n",
            "\u001b[36m(ClientAppActor pid=443697)\u001b[0m Epoch 1/1, Train Loss: 0.012698578108525411, Validation Loss: 0.010745873420753262\n",
            "\u001b[36m(ClientAppActor pid=443697)\u001b[0m Epoch 1/1, Train Loss: 0.012450641074048524, Validation Loss: 0.011344868986105377\n",
            "\u001b[36m(ClientAppActor pid=443697)\u001b[0m Epoch 1/1, Train Loss: 0.012515995344570414, Validation Loss: 0.010433485900813883\n",
            "\u001b[36m(ClientAppActor pid=443697)\u001b[0m Epoch 1/1, Train Loss: 0.012690235516691411, Validation Loss: 0.012519434560090303\n",
            "\u001b[36m(ClientAppActor pid=443697)\u001b[0m Epoch 1/1, Train Loss: 0.013076724860266868, Validation Loss: 0.011177025841210376\n",
            "\u001b[36m(ClientAppActor pid=443697)\u001b[0m Epoch 1/1, Train Loss: 0.0128387935269116, Validation Loss: 0.011110761329870333\n"
          ]
        },
        {
          "name": "stderr",
          "output_type": "stream",
          "text": [
            "\u001b[92mINFO \u001b[0m:      aggregate_fit: received 10 results and 0 failures\n",
            "\u001b[92mINFO \u001b[0m:      configure_evaluate: strategy sampled 5 clients (out of 10)\n"
          ]
        },
        {
          "name": "stdout",
          "output_type": "stream",
          "text": [
            "\u001b[36m(ClientAppActor pid=443697)\u001b[0m Epoch 1/1, Train Loss: 0.013121671773577955, Validation Loss: 0.009859296323900873\n"
          ]
        },
        {
          "name": "stderr",
          "output_type": "stream",
          "text": [
            "\u001b[92mINFO \u001b[0m:      aggregate_evaluate: received 5 results and 0 failures\n",
            "\u001b[92mINFO \u001b[0m:      \n",
            "\u001b[92mINFO \u001b[0m:      [ROUND 10]\n",
            "\u001b[92mINFO \u001b[0m:      configure_fit: strategy sampled 10 clients (out of 10)\n"
          ]
        },
        {
          "name": "stdout",
          "output_type": "stream",
          "text": [
            "\u001b[36m(ClientAppActor pid=443697)\u001b[0m Epoch 1/1, Train Loss: 0.012074007282287559, Validation Loss: 0.009326999943534081\n",
            "\u001b[36m(ClientAppActor pid=443697)\u001b[0m Epoch 1/1, Train Loss: 0.011847906872968782, Validation Loss: 0.010454426329074935\n",
            "\u001b[36m(ClientAppActor pid=443697)\u001b[0m Epoch 1/1, Train Loss: 0.011652913357300515, Validation Loss: 0.010313814209604805\n",
            "\u001b[36m(ClientAppActor pid=443697)\u001b[0m Epoch 1/1, Train Loss: 0.011508551696103743, Validation Loss: 0.010304766389625993\n",
            "\u001b[36m(ClientAppActor pid=443697)\u001b[0m Epoch 1/1, Train Loss: 0.012085169326217676, Validation Loss: 0.009728819512846794\n",
            "\u001b[36m(ClientAppActor pid=443697)\u001b[0m Epoch 1/1, Train Loss: 0.012155685753730888, Validation Loss: 0.010763444514437155\n",
            "\u001b[36m(ClientAppActor pid=443697)\u001b[0m Epoch 1/1, Train Loss: 0.011383451473772187, Validation Loss: 0.010406402998011221\n",
            "\u001b[36m(ClientAppActor pid=443697)\u001b[0m Epoch 1/1, Train Loss: 0.01158309145301411, Validation Loss: 0.011057476470754906\n",
            "\u001b[36m(ClientAppActor pid=443697)\u001b[0m Epoch 1/1, Train Loss: 0.012247182291255078, Validation Loss: 0.0099624903364615\n"
          ]
        },
        {
          "name": "stderr",
          "output_type": "stream",
          "text": [
            "\u001b[92mINFO \u001b[0m:      aggregate_fit: received 10 results and 0 failures\n",
            "\u001b[92mINFO \u001b[0m:      configure_evaluate: strategy sampled 5 clients (out of 10)\n"
          ]
        },
        {
          "name": "stdout",
          "output_type": "stream",
          "text": [
            "\u001b[36m(ClientAppActor pid=443697)\u001b[0m Epoch 1/1, Train Loss: 0.012080338804728606, Validation Loss: 0.009987311670556664\n"
          ]
        },
        {
          "name": "stderr",
          "output_type": "stream",
          "text": [
            "\u001b[92mINFO \u001b[0m:      aggregate_evaluate: received 5 results and 0 failures\n",
            "\u001b[92mINFO \u001b[0m:      \n",
            "\u001b[92mINFO \u001b[0m:      [ROUND 11]\n",
            "\u001b[92mINFO \u001b[0m:      configure_fit: strategy sampled 10 clients (out of 10)\n"
          ]
        },
        {
          "name": "stdout",
          "output_type": "stream",
          "text": [
            "\u001b[36m(ClientAppActor pid=443697)\u001b[0m Epoch 1/1, Train Loss: 0.011952115614390508, Validation Loss: 0.008845456706529314\n",
            "\u001b[36m(ClientAppActor pid=443697)\u001b[0m Epoch 1/1, Train Loss: 0.01129335729108954, Validation Loss: 0.008946982360529628\n",
            "\u001b[36m(ClientAppActor pid=443697)\u001b[0m Epoch 1/1, Train Loss: 0.010949664082462814, Validation Loss: 0.009817768523300236\n",
            "\u001b[36m(ClientAppActor pid=443697)\u001b[0m Epoch 1/1, Train Loss: 0.011416656187396835, Validation Loss: 0.009178670356050134\n",
            "\u001b[36m(ClientAppActor pid=443697)\u001b[0m Epoch 1/1, Train Loss: 0.011204858733849092, Validation Loss: 0.00977986511266367\n",
            "\u001b[36m(ClientAppActor pid=443697)\u001b[0m Epoch 1/1, Train Loss: 0.010814894551665268, Validation Loss: 0.010120696938512001\n",
            "\u001b[36m(ClientAppActor pid=443697)\u001b[0m Epoch 1/1, Train Loss: 0.011626904306467623, Validation Loss: 0.00946414633654058\n",
            "\u001b[36m(ClientAppActor pid=443697)\u001b[0m Epoch 1/1, Train Loss: 0.01121539535233751, Validation Loss: 0.01051290337504311\n",
            "\u001b[36m(ClientAppActor pid=443697)\u001b[0m Epoch 1/1, Train Loss: 0.01102353092706339, Validation Loss: 0.010468461296775124\n"
          ]
        },
        {
          "name": "stderr",
          "output_type": "stream",
          "text": [
            "\u001b[92mINFO \u001b[0m:      aggregate_fit: received 10 results and 0 failures\n",
            "\u001b[92mINFO \u001b[0m:      configure_evaluate: strategy sampled 5 clients (out of 10)\n"
          ]
        },
        {
          "name": "stdout",
          "output_type": "stream",
          "text": [
            "\u001b[36m(ClientAppActor pid=443697)\u001b[0m Epoch 1/1, Train Loss: 0.011336909474762664, Validation Loss: 0.009398922408846292\n"
          ]
        },
        {
          "name": "stderr",
          "output_type": "stream",
          "text": [
            "\u001b[92mINFO \u001b[0m:      aggregate_evaluate: received 5 results and 0 failures\n",
            "\u001b[92mINFO \u001b[0m:      \n",
            "\u001b[92mINFO \u001b[0m:      [ROUND 12]\n",
            "\u001b[92mINFO \u001b[0m:      configure_fit: strategy sampled 10 clients (out of 10)\n"
          ]
        },
        {
          "name": "stdout",
          "output_type": "stream",
          "text": [
            "\u001b[36m(ClientAppActor pid=443697)\u001b[0m Epoch 1/1, Train Loss: 0.011079869264821436, Validation Loss: 0.010281594935804605\n",
            "\u001b[36m(ClientAppActor pid=443697)\u001b[0m Epoch 1/1, Train Loss: 0.010671460286671803, Validation Loss: 0.009677845709533854\n",
            "\u001b[36m(ClientAppActor pid=443697)\u001b[0m Epoch 1/1, Train Loss: 0.011038040509447455, Validation Loss: 0.009162113430317153\n",
            "\u001b[36m(ClientAppActor pid=443697)\u001b[0m Epoch 1/1, Train Loss: 0.010921406009319153, Validation Loss: 0.012109449260275473\n",
            "\u001b[36m(ClientAppActor pid=443697)\u001b[0m Epoch 1/1, Train Loss: 0.01082472613779828, Validation Loss: 0.010008295257152482\n",
            "\u001b[36m(ClientAppActor pid=443697)\u001b[0m Epoch 1/1, Train Loss: 0.010904289411634883, Validation Loss: 0.010610231939195231\n",
            "\u001b[36m(ClientAppActor pid=443697)\u001b[0m Epoch 1/1, Train Loss: 0.010980204557364976, Validation Loss: 0.009885963475839659\n",
            "\u001b[36m(ClientAppActor pid=443697)\u001b[0m Epoch 1/1, Train Loss: 0.010607125084127554, Validation Loss: 0.01114936617457054\n",
            "\u001b[36m(ClientAppActor pid=443697)\u001b[0m Epoch 1/1, Train Loss: 0.010733846702020277, Validation Loss: 0.010369265706024387\n"
          ]
        },
        {
          "name": "stderr",
          "output_type": "stream",
          "text": [
            "\u001b[92mINFO \u001b[0m:      aggregate_fit: received 10 results and 0 failures\n",
            "\u001b[92mINFO \u001b[0m:      configure_evaluate: strategy sampled 5 clients (out of 10)\n"
          ]
        },
        {
          "name": "stdout",
          "output_type": "stream",
          "text": [
            "\u001b[36m(ClientAppActor pid=443697)\u001b[0m Epoch 1/1, Train Loss: 0.011530741927510297, Validation Loss: 0.008827416776594791\n"
          ]
        },
        {
          "name": "stderr",
          "output_type": "stream",
          "text": [
            "\u001b[92mINFO \u001b[0m:      aggregate_evaluate: received 5 results and 0 failures\n",
            "\u001b[92mINFO \u001b[0m:      \n",
            "\u001b[92mINFO \u001b[0m:      [ROUND 13]\n",
            "\u001b[92mINFO \u001b[0m:      configure_fit: strategy sampled 10 clients (out of 10)\n"
          ]
        },
        {
          "name": "stdout",
          "output_type": "stream",
          "text": [
            "\u001b[36m(ClientAppActor pid=443697)\u001b[0m Epoch 1/1, Train Loss: 0.010537113660988822, Validation Loss: 0.010620132257992571\n",
            "\u001b[36m(ClientAppActor pid=443697)\u001b[0m Epoch 1/1, Train Loss: 0.010477161045524885, Validation Loss: 0.00918722891418094\n",
            "\u001b[36m(ClientAppActor pid=443697)\u001b[0m Epoch 1/1, Train Loss: 0.01053812130968171, Validation Loss: 0.010749255180020224\n",
            "\u001b[36m(ClientAppActor pid=443697)\u001b[0m Epoch 1/1, Train Loss: 0.010643071928908203, Validation Loss: 0.009923068467866291\n",
            "\u001b[36m(ClientAppActor pid=443697)\u001b[0m Epoch 1/1, Train Loss: 0.010950213790320877, Validation Loss: 0.01091491464864124\n",
            "\u001b[36m(ClientAppActor pid=443697)\u001b[0m Epoch 1/1, Train Loss: 0.010775179602205753, Validation Loss: 0.01083905745128339\n",
            "\u001b[36m(ClientAppActor pid=443697)\u001b[0m Epoch 1/1, Train Loss: 0.010540418956555764, Validation Loss: 0.010715042071586306\n",
            "\u001b[36m(ClientAppActor pid=443697)\u001b[0m Epoch 1/1, Train Loss: 0.010493826084050605, Validation Loss: 0.009762618690729141\n",
            "\u001b[36m(ClientAppActor pid=443697)\u001b[0m Epoch 1/1, Train Loss: 0.010705312724563886, Validation Loss: 0.009642863836647435\n"
          ]
        },
        {
          "name": "stderr",
          "output_type": "stream",
          "text": [
            "\u001b[92mINFO \u001b[0m:      aggregate_fit: received 10 results and 0 failures\n",
            "\u001b[92mINFO \u001b[0m:      configure_evaluate: strategy sampled 5 clients (out of 10)\n"
          ]
        },
        {
          "name": "stdout",
          "output_type": "stream",
          "text": [
            "\u001b[36m(ClientAppActor pid=443697)\u001b[0m Epoch 1/1, Train Loss: 0.010857144783420319, Validation Loss: 0.008787848648022522\n"
          ]
        },
        {
          "name": "stderr",
          "output_type": "stream",
          "text": [
            "\u001b[92mINFO \u001b[0m:      aggregate_evaluate: received 5 results and 0 failures\n",
            "\u001b[92mINFO \u001b[0m:      \n",
            "\u001b[92mINFO \u001b[0m:      [ROUND 14]\n",
            "\u001b[92mINFO \u001b[0m:      configure_fit: strategy sampled 10 clients (out of 10)\n"
          ]
        },
        {
          "name": "stdout",
          "output_type": "stream",
          "text": [
            "\u001b[36m(ClientAppActor pid=443697)\u001b[0m Epoch 1/1, Train Loss: 0.010581851603505625, Validation Loss: 0.008949295956302773\n",
            "\u001b[36m(ClientAppActor pid=443697)\u001b[0m Epoch 1/1, Train Loss: 0.010599107751411131, Validation Loss: 0.009732100964439187\n",
            "\u001b[36m(ClientAppActor pid=443697)\u001b[0m Epoch 1/1, Train Loss: 0.010374430932146921, Validation Loss: 0.009131030602888628\n",
            "\u001b[36m(ClientAppActor pid=443697)\u001b[0m Epoch 1/1, Train Loss: 0.010394483963450924, Validation Loss: 0.010148809397254478\n",
            "\u001b[36m(ClientAppActor pid=443697)\u001b[0m Epoch 1/1, Train Loss: 0.010496771142987365, Validation Loss: 0.009843677557496862\n",
            "\u001b[36m(ClientAppActor pid=443697)\u001b[0m Epoch 1/1, Train Loss: 0.010619310545735061, Validation Loss: 0.00968877619809725\n",
            "\u001b[36m(ClientAppActor pid=443697)\u001b[0m Epoch 1/1, Train Loss: 0.010341339384798299, Validation Loss: 0.010115022982724688\n",
            "\u001b[36m(ClientAppActor pid=443697)\u001b[0m Epoch 1/1, Train Loss: 0.010302825846751644, Validation Loss: 0.010051988467404788\n",
            "\u001b[36m(ClientAppActor pid=443697)\u001b[0m Epoch 1/1, Train Loss: 0.010275093732740392, Validation Loss: 0.009483861080794171\n"
          ]
        },
        {
          "name": "stderr",
          "output_type": "stream",
          "text": [
            "\u001b[92mINFO \u001b[0m:      aggregate_fit: received 10 results and 0 failures\n",
            "\u001b[92mINFO \u001b[0m:      configure_evaluate: strategy sampled 5 clients (out of 10)\n"
          ]
        },
        {
          "name": "stdout",
          "output_type": "stream",
          "text": [
            "\u001b[36m(ClientAppActor pid=443697)\u001b[0m Epoch 1/1, Train Loss: 0.010675909611481156, Validation Loss: 0.008561804763634096\n"
          ]
        },
        {
          "name": "stderr",
          "output_type": "stream",
          "text": [
            "\u001b[92mINFO \u001b[0m:      aggregate_evaluate: received 5 results and 0 failures\n",
            "\u001b[92mINFO \u001b[0m:      \n",
            "\u001b[92mINFO \u001b[0m:      [ROUND 15]\n",
            "\u001b[92mINFO \u001b[0m:      configure_fit: strategy sampled 10 clients (out of 10)\n"
          ]
        },
        {
          "name": "stdout",
          "output_type": "stream",
          "text": [
            "\u001b[36m(ClientAppActor pid=443697)\u001b[0m Epoch 1/1, Train Loss: 0.010400555498728698, Validation Loss: 0.008758995406837626\n",
            "\u001b[36m(ClientAppActor pid=443697)\u001b[0m Epoch 1/1, Train Loss: 0.01062884921504354, Validation Loss: 0.010434552815488794\n",
            "\u001b[36m(ClientAppActor pid=443697)\u001b[0m Epoch 1/1, Train Loss: 0.010312099210833285, Validation Loss: 0.008888287109915505\n",
            "\u001b[36m(ClientAppActor pid=443697)\u001b[0m Epoch 1/1, Train Loss: 0.010442989391528747, Validation Loss: 0.009346396810459819\n",
            "\u001b[36m(ClientAppActor pid=443697)\u001b[0m Epoch 1/1, Train Loss: 0.010219161197627809, Validation Loss: 0.009169114033945581\n",
            "\u001b[36m(ClientAppActor pid=443697)\u001b[0m Epoch 1/1, Train Loss: 0.010114683589728718, Validation Loss: 0.009098289534449577\n",
            "\u001b[36m(ClientAppActor pid=443697)\u001b[0m Epoch 1/1, Train Loss: 0.01020345607751303, Validation Loss: 0.009750400839204138\n",
            "\u001b[36m(ClientAppActor pid=443697)\u001b[0m Epoch 1/1, Train Loss: 0.010063970895399425, Validation Loss: 0.011712591460143978\n",
            "\u001b[36m(ClientAppActor pid=443697)\u001b[0m Epoch 1/1, Train Loss: 0.01033016933996061, Validation Loss: 0.011043683138929984\n"
          ]
        },
        {
          "name": "stderr",
          "output_type": "stream",
          "text": [
            "\u001b[92mINFO \u001b[0m:      aggregate_fit: received 10 results and 0 failures\n",
            "\u001b[92mINFO \u001b[0m:      configure_evaluate: strategy sampled 5 clients (out of 10)\n"
          ]
        },
        {
          "name": "stdout",
          "output_type": "stream",
          "text": [
            "\u001b[36m(ClientAppActor pid=443697)\u001b[0m Epoch 1/1, Train Loss: 0.010764808547471395, Validation Loss: 0.010123637250878594\n"
          ]
        },
        {
          "name": "stderr",
          "output_type": "stream",
          "text": [
            "\u001b[92mINFO \u001b[0m:      aggregate_evaluate: received 5 results and 0 failures\n",
            "\u001b[92mINFO \u001b[0m:      \n",
            "\u001b[92mINFO \u001b[0m:      [ROUND 16]\n",
            "\u001b[92mINFO \u001b[0m:      configure_fit: strategy sampled 10 clients (out of 10)\n"
          ]
        },
        {
          "name": "stdout",
          "output_type": "stream",
          "text": [
            "\u001b[36m(ClientAppActor pid=443697)\u001b[0m Epoch 1/1, Train Loss: 0.01032304095464166, Validation Loss: 0.01010028924793005\n",
            "\u001b[36m(ClientAppActor pid=443697)\u001b[0m Epoch 1/1, Train Loss: 0.010303957731759345, Validation Loss: 0.00940432416444475\n",
            "\u001b[36m(ClientAppActor pid=443697)\u001b[0m Epoch 1/1, Train Loss: 0.010341695726806805, Validation Loss: 0.00939712059599432\n",
            "\u001b[36m(ClientAppActor pid=443697)\u001b[0m Epoch 1/1, Train Loss: 0.009967105812393129, Validation Loss: 0.008765329733829607\n",
            "\u001b[36m(ClientAppActor pid=443697)\u001b[0m Epoch 1/1, Train Loss: 0.010320897060658106, Validation Loss: 0.00962799607606774\n",
            "\u001b[36m(ClientAppActor pid=443697)\u001b[0m Epoch 1/1, Train Loss: 0.010011257968885317, Validation Loss: 0.010794183578003536\n",
            "\u001b[36m(ClientAppActor pid=443697)\u001b[0m Epoch 1/1, Train Loss: 0.010134020740885964, Validation Loss: 0.00922425288114358\n",
            "\u001b[36m(ClientAppActor pid=443697)\u001b[0m Epoch 1/1, Train Loss: 0.010156584321521223, Validation Loss: 0.009094886735758999\n",
            "\u001b[36m(ClientAppActor pid=443697)\u001b[0m Epoch 1/1, Train Loss: 0.010557937875009056, Validation Loss: 0.00993420037610287\n"
          ]
        },
        {
          "name": "stderr",
          "output_type": "stream",
          "text": [
            "\u001b[92mINFO \u001b[0m:      aggregate_fit: received 10 results and 0 failures\n",
            "\u001b[92mINFO \u001b[0m:      configure_evaluate: strategy sampled 5 clients (out of 10)\n"
          ]
        },
        {
          "name": "stdout",
          "output_type": "stream",
          "text": [
            "\u001b[36m(ClientAppActor pid=443697)\u001b[0m Epoch 1/1, Train Loss: 0.010624358187090944, Validation Loss: 0.008742130911824379\n"
          ]
        },
        {
          "name": "stderr",
          "output_type": "stream",
          "text": [
            "\u001b[92mINFO \u001b[0m:      aggregate_evaluate: received 5 results and 0 failures\n",
            "\u001b[92mINFO \u001b[0m:      \n",
            "\u001b[92mINFO \u001b[0m:      [ROUND 17]\n",
            "\u001b[92mINFO \u001b[0m:      configure_fit: strategy sampled 10 clients (out of 10)\n"
          ]
        },
        {
          "name": "stdout",
          "output_type": "stream",
          "text": [
            "\u001b[36m(ClientAppActor pid=443697)\u001b[0m Epoch 1/1, Train Loss: 0.010352372816255824, Validation Loss: 0.00963398361239921\n",
            "\u001b[36m(ClientAppActor pid=443697)\u001b[0m Epoch 1/1, Train Loss: 0.010184990427329798, Validation Loss: 0.009248194496401331\n",
            "\u001b[36m(ClientAppActor pid=443697)\u001b[0m Epoch 1/1, Train Loss: 0.010061897305687044, Validation Loss: 0.009790622967888008\n",
            "\u001b[36m(ClientAppActor pid=443697)\u001b[0m Epoch 1/1, Train Loss: 0.010220327134117146, Validation Loss: 0.009276157181540673\n",
            "\u001b[36m(ClientAppActor pid=443697)\u001b[0m Epoch 1/1, Train Loss: 0.009839355485217477, Validation Loss: 0.009656666778028011\n",
            "\u001b[36m(ClientAppActor pid=443697)\u001b[0m Epoch 1/1, Train Loss: 0.010234672713770786, Validation Loss: 0.008757396452975545\n",
            "\u001b[36m(ClientAppActor pid=443697)\u001b[0m Epoch 1/1, Train Loss: 0.010247069125233049, Validation Loss: 0.009632849790663882\n",
            "\u001b[36m(ClientAppActor pid=443697)\u001b[0m Epoch 1/1, Train Loss: 0.010077108300968328, Validation Loss: 0.009690028869292953\n",
            "\u001b[36m(ClientAppActor pid=443697)\u001b[0m Epoch 1/1, Train Loss: 0.010483598897487602, Validation Loss: 0.009335010164332662\n"
          ]
        },
        {
          "name": "stderr",
          "output_type": "stream",
          "text": [
            "\u001b[92mINFO \u001b[0m:      aggregate_fit: received 10 results and 0 failures\n",
            "\u001b[92mINFO \u001b[0m:      configure_evaluate: strategy sampled 5 clients (out of 10)\n"
          ]
        },
        {
          "name": "stdout",
          "output_type": "stream",
          "text": [
            "\u001b[36m(ClientAppActor pid=443697)\u001b[0m Epoch 1/1, Train Loss: 0.010717010617637161, Validation Loss: 0.008690813323482871\n"
          ]
        },
        {
          "name": "stderr",
          "output_type": "stream",
          "text": [
            "\u001b[92mINFO \u001b[0m:      aggregate_evaluate: received 5 results and 0 failures\n",
            "\u001b[92mINFO \u001b[0m:      \n",
            "\u001b[92mINFO \u001b[0m:      [ROUND 18]\n",
            "\u001b[92mINFO \u001b[0m:      configure_fit: strategy sampled 10 clients (out of 10)\n"
          ]
        },
        {
          "name": "stdout",
          "output_type": "stream",
          "text": [
            "\u001b[36m(ClientAppActor pid=443697)\u001b[0m Epoch 1/1, Train Loss: 0.010104130260350013, Validation Loss: 0.008807263167744333\n",
            "\u001b[36m(ClientAppActor pid=443697)\u001b[0m Epoch 1/1, Train Loss: 0.010152009982531044, Validation Loss: 0.009096468396654183\n",
            "\u001b[36m(ClientAppActor pid=443697)\u001b[0m Epoch 1/1, Train Loss: 0.010044954965864732, Validation Loss: 0.009435699617659504\n",
            "\u001b[36m(ClientAppActor pid=443697)\u001b[0m Epoch 1/1, Train Loss: 0.01027676003286615, Validation Loss: 0.00961281683041968\n",
            "\u001b[36m(ClientAppActor pid=443697)\u001b[0m Epoch 1/1, Train Loss: 0.01004215450534089, Validation Loss: 0.009232050188901749\n",
            "\u001b[36m(ClientAppActor pid=443697)\u001b[0m Epoch 1/1, Train Loss: 0.010203551030082797, Validation Loss: 0.008533097676594149\n",
            "\u001b[36m(ClientAppActor pid=443697)\u001b[0m Epoch 1/1, Train Loss: 0.010015583650039678, Validation Loss: 0.009628927504474466\n",
            "\u001b[36m(ClientAppActor pid=443697)\u001b[0m Epoch 1/1, Train Loss: 0.010024095774331892, Validation Loss: 0.009273687758567658\n",
            "\u001b[36m(ClientAppActor pid=443697)\u001b[0m Epoch 1/1, Train Loss: 0.010115312470588833, Validation Loss: 0.015165987932546572\n"
          ]
        },
        {
          "name": "stderr",
          "output_type": "stream",
          "text": [
            "\u001b[92mINFO \u001b[0m:      aggregate_fit: received 10 results and 0 failures\n",
            "\u001b[92mINFO \u001b[0m:      configure_evaluate: strategy sampled 5 clients (out of 10)\n"
          ]
        },
        {
          "name": "stdout",
          "output_type": "stream",
          "text": [
            "\u001b[36m(ClientAppActor pid=443697)\u001b[0m Epoch 1/1, Train Loss: 0.010181143398354338, Validation Loss: 0.009387283776463433\n"
          ]
        },
        {
          "name": "stderr",
          "output_type": "stream",
          "text": [
            "\u001b[92mINFO \u001b[0m:      aggregate_evaluate: received 5 results and 0 failures\n",
            "\u001b[92mINFO \u001b[0m:      \n",
            "\u001b[92mINFO \u001b[0m:      [ROUND 19]\n",
            "\u001b[92mINFO \u001b[0m:      configure_fit: strategy sampled 10 clients (out of 10)\n"
          ]
        },
        {
          "name": "stdout",
          "output_type": "stream",
          "text": [
            "\u001b[36m(ClientAppActor pid=443697)\u001b[0m Epoch 1/1, Train Loss: 0.010295824285342613, Validation Loss: 0.009514104532585903\n",
            "\u001b[36m(ClientAppActor pid=443697)\u001b[0m Epoch 1/1, Train Loss: 0.010090499089776793, Validation Loss: 0.009110406930135055\n",
            "\u001b[36m(ClientAppActor pid=443697)\u001b[0m Epoch 1/1, Train Loss: 0.009866666128139266, Validation Loss: 0.008782405998896469\n",
            "\u001b[36m(ClientAppActor pid=443697)\u001b[0m Epoch 1/1, Train Loss: 0.010006632417736744, Validation Loss: 0.011217831210656599\n",
            "\u001b[36m(ClientAppActor pid=443697)\u001b[0m Epoch 1/1, Train Loss: 0.01018640454541045, Validation Loss: 0.009418318534947255\n",
            "\u001b[36m(ClientAppActor pid=443697)\u001b[0m Epoch 1/1, Train Loss: 0.010017387727698819, Validation Loss: 0.008707552576776256\n",
            "\u001b[36m(ClientAppActor pid=443697)\u001b[0m Epoch 1/1, Train Loss: 0.010055347578600049, Validation Loss: 0.009389521342448214\n",
            "\u001b[36m(ClientAppActor pid=443697)\u001b[0m Epoch 1/1, Train Loss: 0.01007106438787146, Validation Loss: 0.009245230329476974\n",
            "\u001b[36m(ClientAppActor pid=443697)\u001b[0m Epoch 1/1, Train Loss: 0.010096444457303733, Validation Loss: 0.009551194581118498\n"
          ]
        },
        {
          "name": "stderr",
          "output_type": "stream",
          "text": [
            "\u001b[92mINFO \u001b[0m:      aggregate_fit: received 10 results and 0 failures\n",
            "\u001b[92mINFO \u001b[0m:      configure_evaluate: strategy sampled 5 clients (out of 10)\n"
          ]
        },
        {
          "name": "stdout",
          "output_type": "stream",
          "text": [
            "\u001b[36m(ClientAppActor pid=443697)\u001b[0m Epoch 1/1, Train Loss: 0.010468436711975797, Validation Loss: 0.008510728070343082\n"
          ]
        },
        {
          "name": "stderr",
          "output_type": "stream",
          "text": [
            "\u001b[92mINFO \u001b[0m:      aggregate_evaluate: received 5 results and 0 failures\n",
            "\u001b[92mINFO \u001b[0m:      \n",
            "\u001b[92mINFO \u001b[0m:      [ROUND 20]\n",
            "\u001b[92mINFO \u001b[0m:      configure_fit: strategy sampled 10 clients (out of 10)\n"
          ]
        },
        {
          "name": "stdout",
          "output_type": "stream",
          "text": [
            "\u001b[36m(ClientAppActor pid=443697)\u001b[0m Epoch 1/1, Train Loss: 0.01019891837230799, Validation Loss: 0.009172022596678951\n",
            "\u001b[36m(ClientAppActor pid=443697)\u001b[0m Epoch 1/1, Train Loss: 0.010248828647573564, Validation Loss: 0.010314610744403168\n",
            "\u001b[36m(ClientAppActor pid=443697)\u001b[0m Epoch 1/1, Train Loss: 0.00980626841456714, Validation Loss: 0.009157018863003363\n",
            "\u001b[36m(ClientAppActor pid=443697)\u001b[0m Epoch 1/1, Train Loss: 0.009718109070408073, Validation Loss: 0.010028087089515546\n",
            "\u001b[36m(ClientAppActor pid=443697)\u001b[0m Epoch 1/1, Train Loss: 0.009980301071085374, Validation Loss: 0.00940530042333359\n",
            "\u001b[36m(ClientAppActor pid=443697)\u001b[0m Epoch 1/1, Train Loss: 0.009977570978331973, Validation Loss: 0.008721884594044903\n",
            "\u001b[36m(ClientAppActor pid=443697)\u001b[0m Epoch 1/1, Train Loss: 0.009917872349350628, Validation Loss: 0.009485339576547796\n",
            "\u001b[36m(ClientAppActor pid=443697)\u001b[0m Epoch 1/1, Train Loss: 0.01008029156681997, Validation Loss: 0.00966072247617624\n",
            "\u001b[36m(ClientAppActor pid=443697)\u001b[0m Epoch 1/1, Train Loss: 0.009742118682796981, Validation Loss: 0.010618213161995465\n"
          ]
        },
        {
          "name": "stderr",
          "output_type": "stream",
          "text": [
            "\u001b[92mINFO \u001b[0m:      aggregate_fit: received 10 results and 0 failures\n",
            "\u001b[92mINFO \u001b[0m:      configure_evaluate: strategy sampled 5 clients (out of 10)\n"
          ]
        },
        {
          "name": "stdout",
          "output_type": "stream",
          "text": [
            "\u001b[36m(ClientAppActor pid=443697)\u001b[0m Epoch 1/1, Train Loss: 0.010247194134122268, Validation Loss: 0.008500366323542867\n"
          ]
        },
        {
          "name": "stderr",
          "output_type": "stream",
          "text": [
            "\u001b[92mINFO \u001b[0m:      aggregate_evaluate: received 5 results and 0 failures\n",
            "\u001b[92mINFO \u001b[0m:      \n",
            "\u001b[92mINFO \u001b[0m:      [ROUND 21]\n",
            "\u001b[92mINFO \u001b[0m:      configure_fit: strategy sampled 10 clients (out of 10)\n"
          ]
        },
        {
          "name": "stdout",
          "output_type": "stream",
          "text": [
            "\u001b[36m(ClientAppActor pid=443697)\u001b[0m Epoch 1/1, Train Loss: 0.009895338211208582, Validation Loss: 0.008678643392737617\n",
            "\u001b[36m(ClientAppActor pid=443697)\u001b[0m Epoch 1/1, Train Loss: 0.009924660569099202, Validation Loss: 0.009254604959013786\n",
            "\u001b[36m(ClientAppActor pid=443697)\u001b[0m Epoch 1/1, Train Loss: 0.009636563227765939, Validation Loss: 0.009957063773816282\n",
            "\u001b[36m(ClientAppActor pid=443697)\u001b[0m Epoch 1/1, Train Loss: 0.009814359750387004, Validation Loss: 0.009226085850968957\n",
            "\u001b[36m(ClientAppActor pid=443697)\u001b[0m Epoch 1/1, Train Loss: 0.010040242193182084, Validation Loss: 0.010003310014409099\n",
            "\u001b[36m(ClientAppActor pid=443697)\u001b[0m Epoch 1/1, Train Loss: 0.009944199552674863, Validation Loss: 0.00909570039419288\n",
            "\u001b[36m(ClientAppActor pid=443697)\u001b[0m Epoch 1/1, Train Loss: 0.009912678072313693, Validation Loss: 0.00948093319311738\n",
            "\u001b[36m(ClientAppActor pid=443697)\u001b[0m Epoch 1/1, Train Loss: 0.00987372855359519, Validation Loss: 0.008918721123005856\n",
            "\u001b[36m(ClientAppActor pid=443697)\u001b[0m Epoch 1/1, Train Loss: 0.009871448522475972, Validation Loss: 0.010405605616555973\n"
          ]
        },
        {
          "name": "stderr",
          "output_type": "stream",
          "text": [
            "\u001b[92mINFO \u001b[0m:      aggregate_fit: received 10 results and 0 failures\n",
            "\u001b[92mINFO \u001b[0m:      configure_evaluate: strategy sampled 5 clients (out of 10)\n"
          ]
        },
        {
          "name": "stdout",
          "output_type": "stream",
          "text": [
            "\u001b[36m(ClientAppActor pid=443697)\u001b[0m Epoch 1/1, Train Loss: 0.010716244080950591, Validation Loss: 0.010290570641783152\n"
          ]
        },
        {
          "name": "stderr",
          "output_type": "stream",
          "text": [
            "\u001b[92mINFO \u001b[0m:      aggregate_evaluate: received 5 results and 0 failures\n",
            "\u001b[92mINFO \u001b[0m:      \n",
            "\u001b[92mINFO \u001b[0m:      [ROUND 22]\n",
            "\u001b[92mINFO \u001b[0m:      configure_fit: strategy sampled 10 clients (out of 10)\n"
          ]
        },
        {
          "name": "stdout",
          "output_type": "stream",
          "text": [
            "\u001b[36m(ClientAppActor pid=443697)\u001b[0m Epoch 1/1, Train Loss: 0.009885973302351142, Validation Loss: 0.008553918853232806\n",
            "\u001b[36m(ClientAppActor pid=443697)\u001b[0m Epoch 1/1, Train Loss: 0.009920860899993304, Validation Loss: 0.00905503592961891\n",
            "\u001b[36m(ClientAppActor pid=443697)\u001b[0m Epoch 1/1, Train Loss: 0.009917651848147878, Validation Loss: 0.009475981689650904\n",
            "\u001b[36m(ClientAppActor pid=443697)\u001b[0m Epoch 1/1, Train Loss: 0.009933228625661948, Validation Loss: 0.008974495576694608\n",
            "\u001b[36m(ClientAppActor pid=443697)\u001b[0m Epoch 1/1, Train Loss: 0.00966043573465537, Validation Loss: 0.00913685979321599\n",
            "\u001b[36m(ClientAppActor pid=443697)\u001b[0m Epoch 1/1, Train Loss: 0.009786547590258786, Validation Loss: 0.008600998183035037\n",
            "\u001b[36m(ClientAppActor pid=443697)\u001b[0m Epoch 1/1, Train Loss: 0.010100035764149983, Validation Loss: 0.00950618503107266\n",
            "\u001b[36m(ClientAppActor pid=443697)\u001b[0m Epoch 1/1, Train Loss: 0.010146173585036939, Validation Loss: 0.009986558696255088\n",
            "\u001b[36m(ClientAppActor pid=443697)\u001b[0m Epoch 1/1, Train Loss: 0.00964680541603064, Validation Loss: 0.009511191524903883\n"
          ]
        },
        {
          "name": "stderr",
          "output_type": "stream",
          "text": [
            "\u001b[92mINFO \u001b[0m:      aggregate_fit: received 10 results and 0 failures\n",
            "\u001b[92mINFO \u001b[0m:      configure_evaluate: strategy sampled 5 clients (out of 10)\n"
          ]
        },
        {
          "name": "stdout",
          "output_type": "stream",
          "text": [
            "\u001b[36m(ClientAppActor pid=443697)\u001b[0m Epoch 1/1, Train Loss: 0.010361415693875064, Validation Loss: 0.008743353145705028\n"
          ]
        },
        {
          "name": "stderr",
          "output_type": "stream",
          "text": [
            "\u001b[92mINFO \u001b[0m:      aggregate_evaluate: received 5 results and 0 failures\n",
            "\u001b[92mINFO \u001b[0m:      \n",
            "\u001b[92mINFO \u001b[0m:      [ROUND 23]\n",
            "\u001b[92mINFO \u001b[0m:      configure_fit: strategy sampled 10 clients (out of 10)\n"
          ]
        },
        {
          "name": "stdout",
          "output_type": "stream",
          "text": [
            "\u001b[36m(ClientAppActor pid=443697)\u001b[0m Epoch 1/1, Train Loss: 0.009915649181824516, Validation Loss: 0.011044231920757076\n",
            "\u001b[36m(ClientAppActor pid=443697)\u001b[0m Epoch 1/1, Train Loss: 0.0097374633081596, Validation Loss: 0.009428811682896181\n",
            "\u001b[36m(ClientAppActor pid=443697)\u001b[0m Epoch 1/1, Train Loss: 0.009911820678760043, Validation Loss: 0.009185319533571601\n",
            "\u001b[36m(ClientAppActor pid=443697)\u001b[0m Epoch 1/1, Train Loss: 0.009823888614350422, Validation Loss: 0.00892935471016575\n",
            "\u001b[36m(ClientAppActor pid=443697)\u001b[0m Epoch 1/1, Train Loss: 0.009612745711241256, Validation Loss: 0.009251476731151342\n",
            "\u001b[36m(ClientAppActor pid=443697)\u001b[0m Epoch 1/1, Train Loss: 0.009722173917742277, Validation Loss: 0.008719110438092188\n",
            "\u001b[36m(ClientAppActor pid=443697)\u001b[0m Epoch 1/1, Train Loss: 0.009622166134332392, Validation Loss: 0.010344297921454365\n",
            "\u001b[36m(ClientAppActor pid=443697)\u001b[0m Epoch 1/1, Train Loss: 0.00952909801112996, Validation Loss: 0.00894040502184494\n",
            "\u001b[36m(ClientAppActor pid=443697)\u001b[0m Epoch 1/1, Train Loss: 0.010028068182608959, Validation Loss: 0.009463290514593775\n"
          ]
        },
        {
          "name": "stderr",
          "output_type": "stream",
          "text": [
            "\u001b[92mINFO \u001b[0m:      aggregate_fit: received 10 results and 0 failures\n",
            "\u001b[92mINFO \u001b[0m:      configure_evaluate: strategy sampled 5 clients (out of 10)\n"
          ]
        },
        {
          "name": "stdout",
          "output_type": "stream",
          "text": [
            "\u001b[36m(ClientAppActor pid=443697)\u001b[0m Epoch 1/1, Train Loss: 0.010120311154010282, Validation Loss: 0.00839139711619778\n"
          ]
        },
        {
          "name": "stderr",
          "output_type": "stream",
          "text": [
            "\u001b[92mINFO \u001b[0m:      aggregate_evaluate: received 5 results and 0 failures\n",
            "\u001b[92mINFO \u001b[0m:      \n",
            "\u001b[92mINFO \u001b[0m:      [ROUND 24]\n",
            "\u001b[92mINFO \u001b[0m:      configure_fit: strategy sampled 10 clients (out of 10)\n"
          ]
        },
        {
          "name": "stdout",
          "output_type": "stream",
          "text": [
            "\u001b[36m(ClientAppActor pid=443697)\u001b[0m Epoch 1/1, Train Loss: 0.009762863734398376, Validation Loss: 0.008552957559004426\n",
            "\u001b[36m(ClientAppActor pid=443697)\u001b[0m Epoch 1/1, Train Loss: 0.009809235809370875, Validation Loss: 0.009463042994453148\n",
            "\u001b[36m(ClientAppActor pid=443697)\u001b[0m Epoch 1/1, Train Loss: 0.009732672018633986, Validation Loss: 0.00836998304690827\n",
            "\u001b[36m(ClientAppActor pid=443697)\u001b[0m Epoch 1/1, Train Loss: 0.009727500860621645, Validation Loss: 0.008760600117966533\n",
            "\u001b[36m(ClientAppActor pid=443697)\u001b[0m Epoch 1/1, Train Loss: 0.009506426635198295, Validation Loss: 0.008954961043359204\n",
            "\u001b[36m(ClientAppActor pid=443697)\u001b[0m Epoch 1/1, Train Loss: 0.00973617733689025, Validation Loss: 0.009681286734782836\n",
            "\u001b[36m(ClientAppActor pid=443697)\u001b[0m Epoch 1/1, Train Loss: 0.009828980456487361, Validation Loss: 0.008951619161631574\n",
            "\u001b[36m(ClientAppActor pid=443697)\u001b[0m Epoch 1/1, Train Loss: 0.009472496627660637, Validation Loss: 0.008953537008809772\n",
            "\u001b[36m(ClientAppActor pid=443697)\u001b[0m Epoch 1/1, Train Loss: 0.009702848810279234, Validation Loss: 0.009566048964519392\n"
          ]
        },
        {
          "name": "stderr",
          "output_type": "stream",
          "text": [
            "\u001b[92mINFO \u001b[0m:      aggregate_fit: received 10 results and 0 failures\n",
            "\u001b[92mINFO \u001b[0m:      configure_evaluate: strategy sampled 5 clients (out of 10)\n"
          ]
        },
        {
          "name": "stdout",
          "output_type": "stream",
          "text": [
            "\u001b[36m(ClientAppActor pid=443697)\u001b[0m Epoch 1/1, Train Loss: 0.010122400830203498, Validation Loss: 0.008212942439554767\n"
          ]
        },
        {
          "name": "stderr",
          "output_type": "stream",
          "text": [
            "\u001b[92mINFO \u001b[0m:      aggregate_evaluate: received 5 results and 0 failures\n",
            "\u001b[92mINFO \u001b[0m:      \n",
            "\u001b[92mINFO \u001b[0m:      [ROUND 25]\n",
            "\u001b[92mINFO \u001b[0m:      configure_fit: strategy sampled 10 clients (out of 10)\n"
          ]
        },
        {
          "name": "stdout",
          "output_type": "stream",
          "text": [
            "\u001b[36m(ClientAppActor pid=443697)\u001b[0m Epoch 1/1, Train Loss: 0.009966538382948122, Validation Loss: 0.009252562187612057\n",
            "\u001b[36m(ClientAppActor pid=443697)\u001b[0m Epoch 1/1, Train Loss: 0.009697470332453535, Validation Loss: 0.009000675181265582\n",
            "\u001b[36m(ClientAppActor pid=443697)\u001b[0m Epoch 1/1, Train Loss: 0.009868177553554151, Validation Loss: 0.008469523227011616\n",
            "\u001b[36m(ClientAppActor pid=443697)\u001b[0m Epoch 1/1, Train Loss: 0.009796302178239619, Validation Loss: 0.008565749359232459\n",
            "\u001b[36m(ClientAppActor pid=443697)\u001b[0m Epoch 1/1, Train Loss: 0.009558872875376519, Validation Loss: 0.009424558967690577\n",
            "\u001b[36m(ClientAppActor pid=443697)\u001b[0m Epoch 1/1, Train Loss: 0.009699773614887486, Validation Loss: 0.008423366075889631\n",
            "\u001b[36m(ClientAppActor pid=443697)\u001b[0m Epoch 1/1, Train Loss: 0.009550929598679597, Validation Loss: 0.010053130734542554\n",
            "\u001b[36m(ClientAppActor pid=443697)\u001b[0m Epoch 1/1, Train Loss: 0.009469470379620114, Validation Loss: 0.009329891721294685\n",
            "\u001b[36m(ClientAppActor pid=443697)\u001b[0m Epoch 1/1, Train Loss: 0.009689328414176336, Validation Loss: 0.009363179031590169\n"
          ]
        },
        {
          "name": "stderr",
          "output_type": "stream",
          "text": [
            "\u001b[92mINFO \u001b[0m:      aggregate_fit: received 10 results and 0 failures\n",
            "\u001b[92mINFO \u001b[0m:      configure_evaluate: strategy sampled 5 clients (out of 10)\n"
          ]
        },
        {
          "name": "stdout",
          "output_type": "stream",
          "text": [
            "\u001b[36m(ClientAppActor pid=443697)\u001b[0m Epoch 1/1, Train Loss: 0.01003735718867657, Validation Loss: 0.008200671333311633\n"
          ]
        },
        {
          "name": "stderr",
          "output_type": "stream",
          "text": [
            "\u001b[92mINFO \u001b[0m:      aggregate_evaluate: received 5 results and 0 failures\n",
            "\u001b[92mINFO \u001b[0m:      \n",
            "\u001b[92mINFO \u001b[0m:      [ROUND 26]\n",
            "\u001b[92mINFO \u001b[0m:      configure_fit: strategy sampled 10 clients (out of 10)\n"
          ]
        },
        {
          "name": "stdout",
          "output_type": "stream",
          "text": [
            "\u001b[36m(ClientAppActor pid=443697)\u001b[0m Epoch 1/1, Train Loss: 0.0099401894046671, Validation Loss: 0.009691415608606556\n",
            "\u001b[36m(ClientAppActor pid=443697)\u001b[0m Epoch 1/1, Train Loss: 0.009971134840849449, Validation Loss: 0.008517593378201127\n",
            "\u001b[36m(ClientAppActor pid=443697)\u001b[0m Epoch 1/1, Train Loss: 0.009749015660914169, Validation Loss: 0.009480613431977954\n",
            "\u001b[36m(ClientAppActor pid=443697)\u001b[0m Epoch 1/1, Train Loss: 0.009679306055080484, Validation Loss: 0.009484902638095346\n",
            "\u001b[36m(ClientAppActor pid=443697)\u001b[0m Epoch 1/1, Train Loss: 0.009958477992437442, Validation Loss: 0.008981432638723742\n",
            "\u001b[36m(ClientAppActor pid=443697)\u001b[0m Epoch 1/1, Train Loss: 0.009706259101883254, Validation Loss: 0.009186377516016364\n",
            "\u001b[36m(ClientAppActor pid=443697)\u001b[0m Epoch 1/1, Train Loss: 0.009457560314331204, Validation Loss: 0.008744402238252487\n",
            "\u001b[36m(ClientAppActor pid=443697)\u001b[0m Epoch 1/1, Train Loss: 0.009369832542936572, Validation Loss: 0.009161444211548025\n",
            "\u001b[36m(ClientAppActor pid=443697)\u001b[0m Epoch 1/1, Train Loss: 0.009962772114456377, Validation Loss: 0.008960658409209414\n"
          ]
        },
        {
          "name": "stderr",
          "output_type": "stream",
          "text": [
            "\u001b[92mINFO \u001b[0m:      aggregate_fit: received 10 results and 0 failures\n",
            "\u001b[92mINFO \u001b[0m:      configure_evaluate: strategy sampled 5 clients (out of 10)\n"
          ]
        },
        {
          "name": "stdout",
          "output_type": "stream",
          "text": [
            "\u001b[36m(ClientAppActor pid=443697)\u001b[0m Epoch 1/1, Train Loss: 0.010055195582522587, Validation Loss: 0.008532072036442432\n"
          ]
        },
        {
          "name": "stderr",
          "output_type": "stream",
          "text": [
            "\u001b[92mINFO \u001b[0m:      aggregate_evaluate: received 5 results and 0 failures\n",
            "\u001b[92mINFO \u001b[0m:      \n",
            "\u001b[92mINFO \u001b[0m:      [ROUND 27]\n",
            "\u001b[92mINFO \u001b[0m:      configure_fit: strategy sampled 10 clients (out of 10)\n"
          ]
        },
        {
          "name": "stdout",
          "output_type": "stream",
          "text": [
            "\u001b[36m(ClientAppActor pid=443697)\u001b[0m Epoch 1/1, Train Loss: 0.00980149184628813, Validation Loss: 0.008728654801168224\n",
            "\u001b[36m(ClientAppActor pid=443697)\u001b[0m Epoch 1/1, Train Loss: 0.009650632299863819, Validation Loss: 0.008870535508983514\n",
            "\u001b[36m(ClientAppActor pid=443697)\u001b[0m Epoch 1/1, Train Loss: 0.009812567425383762, Validation Loss: 0.008710702584887093\n",
            "\u001b[36m(ClientAppActor pid=443697)\u001b[0m Epoch 1/1, Train Loss: 0.009799305577127432, Validation Loss: 0.008634802525524388\n",
            "\u001b[36m(ClientAppActor pid=443697)\u001b[0m Epoch 1/1, Train Loss: 0.0095470886497589, Validation Loss: 0.009775983000343496\n",
            "\u001b[36m(ClientAppActor pid=443697)\u001b[0m Epoch 1/1, Train Loss: 0.009751851516987452, Validation Loss: 0.009616786444729025\n",
            "\u001b[36m(ClientAppActor pid=443697)\u001b[0m Epoch 1/1, Train Loss: 0.009977999153885652, Validation Loss: 0.009518775877288797\n",
            "\u001b[36m(ClientAppActor pid=443697)\u001b[0m Epoch 1/1, Train Loss: 0.009604863859501413, Validation Loss: 0.009658402445810762\n",
            "\u001b[36m(ClientAppActor pid=443697)\u001b[0m Epoch 1/1, Train Loss: 0.009662324393337423, Validation Loss: 0.009627948747947812\n"
          ]
        },
        {
          "name": "stderr",
          "output_type": "stream",
          "text": [
            "\u001b[92mINFO \u001b[0m:      aggregate_fit: received 10 results and 0 failures\n",
            "\u001b[92mINFO \u001b[0m:      configure_evaluate: strategy sampled 5 clients (out of 10)\n"
          ]
        },
        {
          "name": "stdout",
          "output_type": "stream",
          "text": [
            "\u001b[36m(ClientAppActor pid=443697)\u001b[0m Epoch 1/1, Train Loss: 0.009937345854599367, Validation Loss: 0.00838399085808884\n"
          ]
        },
        {
          "name": "stderr",
          "output_type": "stream",
          "text": [
            "\u001b[92mINFO \u001b[0m:      aggregate_evaluate: received 5 results and 0 failures\n",
            "\u001b[92mINFO \u001b[0m:      \n",
            "\u001b[92mINFO \u001b[0m:      [ROUND 28]\n",
            "\u001b[92mINFO \u001b[0m:      configure_fit: strategy sampled 10 clients (out of 10)\n"
          ]
        },
        {
          "name": "stdout",
          "output_type": "stream",
          "text": [
            "\u001b[36m(ClientAppActor pid=443697)\u001b[0m Epoch 1/1, Train Loss: 0.009854623079511592, Validation Loss: 0.008924352026290515\n",
            "\u001b[36m(ClientAppActor pid=443697)\u001b[0m Epoch 1/1, Train Loss: 0.00963892133123326, Validation Loss: 0.01013897769999775\n",
            "\u001b[36m(ClientAppActor pid=443697)\u001b[0m Epoch 1/1, Train Loss: 0.009477534151466733, Validation Loss: 0.00897227653132921\n",
            "\u001b[36m(ClientAppActor pid=443697)\u001b[0m Epoch 1/1, Train Loss: 0.00943500726928257, Validation Loss: 0.00898722969842228\n",
            "\u001b[36m(ClientAppActor pid=443697)\u001b[0m Epoch 1/1, Train Loss: 0.009628187065986409, Validation Loss: 0.009160292271355336\n",
            "\u001b[36m(ClientAppActor pid=443697)\u001b[0m Epoch 1/1, Train Loss: 0.009558878743767062, Validation Loss: 0.009034295989708467\n",
            "\u001b[36m(ClientAppActor pid=443697)\u001b[0m Epoch 1/1, Train Loss: 0.00964294597294859, Validation Loss: 0.009388114050538703\n",
            "\u001b[36m(ClientAppActor pid=443697)\u001b[0m Epoch 1/1, Train Loss: 0.009633055507120762, Validation Loss: 0.009006317916580221\n",
            "\u001b[36m(ClientAppActor pid=443697)\u001b[0m Epoch 1/1, Train Loss: 0.009568091317884286, Validation Loss: 0.009430494159460068\n"
          ]
        },
        {
          "name": "stderr",
          "output_type": "stream",
          "text": [
            "\u001b[92mINFO \u001b[0m:      aggregate_fit: received 10 results and 0 failures\n",
            "\u001b[92mINFO \u001b[0m:      configure_evaluate: strategy sampled 5 clients (out of 10)\n"
          ]
        },
        {
          "name": "stdout",
          "output_type": "stream",
          "text": [
            "\u001b[36m(ClientAppActor pid=443697)\u001b[0m Epoch 1/1, Train Loss: 0.00996693002525717, Validation Loss: 0.008529443272643468\n"
          ]
        },
        {
          "name": "stderr",
          "output_type": "stream",
          "text": [
            "\u001b[92mINFO \u001b[0m:      aggregate_evaluate: received 5 results and 0 failures\n",
            "\u001b[92mINFO \u001b[0m:      \n",
            "\u001b[92mINFO \u001b[0m:      [ROUND 29]\n",
            "\u001b[92mINFO \u001b[0m:      configure_fit: strategy sampled 10 clients (out of 10)\n"
          ]
        },
        {
          "name": "stdout",
          "output_type": "stream",
          "text": [
            "\u001b[36m(ClientAppActor pid=443697)\u001b[0m Epoch 1/1, Train Loss: 0.009641259321307933, Validation Loss: 0.009157823504541408\n",
            "\u001b[36m(ClientAppActor pid=443697)\u001b[0m Epoch 1/1, Train Loss: 0.009669443359598517, Validation Loss: 0.00893886336548762\n",
            "\u001b[36m(ClientAppActor pid=443697)\u001b[0m Epoch 1/1, Train Loss: 0.009708081641954115, Validation Loss: 0.008792271139100194\n",
            "\u001b[36m(ClientAppActor pid=443697)\u001b[0m Epoch 1/1, Train Loss: 0.009565021234183487, Validation Loss: 0.009066919944333758\n",
            "\u001b[36m(ClientAppActor pid=443697)\u001b[0m Epoch 1/1, Train Loss: 0.009641984578179703, Validation Loss: 0.01163381359285929\n",
            "\u001b[36m(ClientAppActor pid=443697)\u001b[0m Epoch 1/1, Train Loss: 0.009739379303275862, Validation Loss: 0.009421713671393016\n",
            "\u001b[36m(ClientAppActor pid=443697)\u001b[0m Epoch 1/1, Train Loss: 0.009323658903171732, Validation Loss: 0.009118305730887434\n",
            "\u001b[36m(ClientAppActor pid=443697)\u001b[0m Epoch 1/1, Train Loss: 0.009368841102431443, Validation Loss: 0.00893839296292175\n",
            "\u001b[36m(ClientAppActor pid=443697)\u001b[0m Epoch 1/1, Train Loss: 0.009584599820134992, Validation Loss: 0.00955938478000462\n"
          ]
        },
        {
          "name": "stderr",
          "output_type": "stream",
          "text": [
            "\u001b[92mINFO \u001b[0m:      aggregate_fit: received 10 results and 0 failures\n",
            "\u001b[92mINFO \u001b[0m:      configure_evaluate: strategy sampled 5 clients (out of 10)\n"
          ]
        },
        {
          "name": "stdout",
          "output_type": "stream",
          "text": [
            "\u001b[36m(ClientAppActor pid=443697)\u001b[0m Epoch 1/1, Train Loss: 0.0099859969235364, Validation Loss: 0.00840871609662744\n"
          ]
        },
        {
          "name": "stderr",
          "output_type": "stream",
          "text": [
            "\u001b[92mINFO \u001b[0m:      aggregate_evaluate: received 5 results and 0 failures\n",
            "\u001b[92mINFO \u001b[0m:      \n",
            "\u001b[92mINFO \u001b[0m:      [ROUND 30]\n",
            "\u001b[92mINFO \u001b[0m:      configure_fit: strategy sampled 10 clients (out of 10)\n"
          ]
        },
        {
          "name": "stdout",
          "output_type": "stream",
          "text": [
            "\u001b[36m(ClientAppActor pid=443697)\u001b[0m Epoch 1/1, Train Loss: 0.009889103414025158, Validation Loss: 0.008941320363770832\n",
            "\u001b[36m(ClientAppActor pid=443697)\u001b[0m Epoch 1/1, Train Loss: 0.009808774264952675, Validation Loss: 0.009399588262154297\n",
            "\u001b[36m(ClientAppActor pid=443697)\u001b[0m Epoch 1/1, Train Loss: 0.00959191288777881, Validation Loss: 0.009407667739486153\n",
            "\u001b[36m(ClientAppActor pid=443697)\u001b[0m Epoch 1/1, Train Loss: 0.009516805071722378, Validation Loss: 0.008765129859305242\n",
            "\u001b[36m(ClientAppActor pid=443697)\u001b[0m Epoch 1/1, Train Loss: 0.009483383513394405, Validation Loss: 0.009454202817075631\n",
            "\u001b[36m(ClientAppActor pid=443697)\u001b[0m Epoch 1/1, Train Loss: 0.00945278172465888, Validation Loss: 0.008412862810390916\n",
            "\u001b[36m(ClientAppActor pid=443697)\u001b[0m Epoch 1/1, Train Loss: 0.009435660925439814, Validation Loss: 0.009942612758922305\n",
            "\u001b[36m(ClientAppActor pid=443697)\u001b[0m Epoch 1/1, Train Loss: 0.009608537551354279, Validation Loss: 0.008734100963920355\n",
            "\u001b[36m(ClientAppActor pid=443697)\u001b[0m Epoch 1/1, Train Loss: 0.009970524099613116, Validation Loss: 0.009521858301013708\n"
          ]
        },
        {
          "name": "stderr",
          "output_type": "stream",
          "text": [
            "\u001b[92mINFO \u001b[0m:      aggregate_fit: received 10 results and 0 failures\n",
            "\u001b[92mINFO \u001b[0m:      configure_evaluate: strategy sampled 5 clients (out of 10)\n"
          ]
        },
        {
          "name": "stdout",
          "output_type": "stream",
          "text": [
            "\u001b[36m(ClientAppActor pid=443697)\u001b[0m Epoch 1/1, Train Loss: 0.00999910529406572, Validation Loss: 0.008234786589375952\n"
          ]
        },
        {
          "name": "stderr",
          "output_type": "stream",
          "text": [
            "\u001b[92mINFO \u001b[0m:      aggregate_evaluate: received 5 results and 0 failures\n",
            "\u001b[92mINFO \u001b[0m:      \n",
            "\u001b[92mINFO \u001b[0m:      [ROUND 31]\n",
            "\u001b[92mINFO \u001b[0m:      configure_fit: strategy sampled 10 clients (out of 10)\n"
          ]
        },
        {
          "name": "stdout",
          "output_type": "stream",
          "text": [
            "\u001b[36m(ClientAppActor pid=443697)\u001b[0m Epoch 1/1, Train Loss: 0.009729592129588127, Validation Loss: 0.009093609426847914\n",
            "\u001b[36m(ClientAppActor pid=443697)\u001b[0m Epoch 1/1, Train Loss: 0.009561210479163989, Validation Loss: 0.009365680119530722\n",
            "\u001b[36m(ClientAppActor pid=443697)\u001b[0m Epoch 1/1, Train Loss: 0.009686459162780508, Validation Loss: 0.009006204189394008\n",
            "\u001b[36m(ClientAppActor pid=443697)\u001b[0m Epoch 1/1, Train Loss: 0.00971961804051799, Validation Loss: 0.008779936131428589\n",
            "\u001b[36m(ClientAppActor pid=443697)\u001b[0m Epoch 1/1, Train Loss: 0.009717153443489224, Validation Loss: 0.008868285348977555\n",
            "\u001b[36m(ClientAppActor pid=443697)\u001b[0m Epoch 1/1, Train Loss: 0.00952808037717742, Validation Loss: 0.009123324882239103\n",
            "\u001b[36m(ClientAppActor pid=443697)\u001b[0m Epoch 1/1, Train Loss: 0.00928812371884388, Validation Loss: 0.009628858628936789\n",
            "\u001b[36m(ClientAppActor pid=443697)\u001b[0m Epoch 1/1, Train Loss: 0.009273309329397638, Validation Loss: 0.009295256004076113\n",
            "\u001b[36m(ClientAppActor pid=443697)\u001b[0m Epoch 1/1, Train Loss: 0.009624103428160941, Validation Loss: 0.009455791124227371\n"
          ]
        },
        {
          "name": "stderr",
          "output_type": "stream",
          "text": [
            "\u001b[92mINFO \u001b[0m:      aggregate_fit: received 10 results and 0 failures\n",
            "\u001b[92mINFO \u001b[0m:      configure_evaluate: strategy sampled 5 clients (out of 10)\n"
          ]
        },
        {
          "name": "stdout",
          "output_type": "stream",
          "text": [
            "\u001b[36m(ClientAppActor pid=443697)\u001b[0m Epoch 1/1, Train Loss: 0.009966473973525519, Validation Loss: 0.007923962273211642\n"
          ]
        },
        {
          "name": "stderr",
          "output_type": "stream",
          "text": [
            "\u001b[92mINFO \u001b[0m:      aggregate_evaluate: received 5 results and 0 failures\n",
            "\u001b[92mINFO \u001b[0m:      \n",
            "\u001b[92mINFO \u001b[0m:      [ROUND 32]\n",
            "\u001b[92mINFO \u001b[0m:      configure_fit: strategy sampled 10 clients (out of 10)\n"
          ]
        },
        {
          "name": "stdout",
          "output_type": "stream",
          "text": [
            "\u001b[36m(ClientAppActor pid=443697)\u001b[0m Epoch 1/1, Train Loss: 0.00975574455647306, Validation Loss: 0.008676573358984157\n",
            "\u001b[36m(ClientAppActor pid=443697)\u001b[0m Epoch 1/1, Train Loss: 0.009679405309725553, Validation Loss: 0.008880040100352331\n",
            "\u001b[36m(ClientAppActor pid=443697)\u001b[0m Epoch 1/1, Train Loss: 0.00957053165290166, Validation Loss: 0.008846570674160665\n",
            "\u001b[36m(ClientAppActor pid=443697)\u001b[0m Epoch 1/1, Train Loss: 0.009725595342884348, Validation Loss: 0.009705554016611793\n",
            "\u001b[36m(ClientAppActor pid=443697)\u001b[0m Epoch 1/1, Train Loss: 0.009534070199482481, Validation Loss: 0.008882296716117045\n",
            "\u001b[36m(ClientAppActor pid=443697)\u001b[0m Epoch 1/1, Train Loss: 0.00937997736565938, Validation Loss: 0.008652369682253762\n",
            "\u001b[36m(ClientAppActor pid=443697)\u001b[0m Epoch 1/1, Train Loss: 0.009434696440373293, Validation Loss: 0.008924340384758332\n",
            "\u001b[36m(ClientAppActor pid=443697)\u001b[0m Epoch 1/1, Train Loss: 0.00935307495423, Validation Loss: 0.008875643601641059\n",
            "\u001b[36m(ClientAppActor pid=443697)\u001b[0m Epoch 1/1, Train Loss: 0.00951144259042022, Validation Loss: 0.009085426678542386\n"
          ]
        },
        {
          "name": "stderr",
          "output_type": "stream",
          "text": [
            "\u001b[92mINFO \u001b[0m:      aggregate_fit: received 10 results and 0 failures\n",
            "\u001b[92mINFO \u001b[0m:      configure_evaluate: strategy sampled 5 clients (out of 10)\n"
          ]
        },
        {
          "name": "stdout",
          "output_type": "stream",
          "text": [
            "\u001b[36m(ClientAppActor pid=443697)\u001b[0m Epoch 1/1, Train Loss: 0.010086901755791834, Validation Loss: 0.008721164872192523\n"
          ]
        },
        {
          "name": "stderr",
          "output_type": "stream",
          "text": [
            "\u001b[92mINFO \u001b[0m:      aggregate_evaluate: received 5 results and 0 failures\n",
            "\u001b[92mINFO \u001b[0m:      \n",
            "\u001b[92mINFO \u001b[0m:      [ROUND 33]\n",
            "\u001b[92mINFO \u001b[0m:      configure_fit: strategy sampled 10 clients (out of 10)\n"
          ]
        },
        {
          "name": "stdout",
          "output_type": "stream",
          "text": [
            "\u001b[36m(ClientAppActor pid=443697)\u001b[0m Epoch 1/1, Train Loss: 0.009860656573437154, Validation Loss: 0.00847743004983799\n",
            "\u001b[36m(ClientAppActor pid=443697)\u001b[0m Epoch 1/1, Train Loss: 0.00956092711368745, Validation Loss: 0.008784596236761321\n",
            "\u001b[36m(ClientAppActor pid=443697)\u001b[0m Epoch 1/1, Train Loss: 0.00973845752146603, Validation Loss: 0.011174562090838497\n",
            "\u001b[36m(ClientAppActor pid=443697)\u001b[0m Epoch 1/1, Train Loss: 0.009456938587721776, Validation Loss: 0.00890315713530237\n",
            "\u001b[36m(ClientAppActor pid=443697)\u001b[0m Epoch 1/1, Train Loss: 0.009406710816123947, Validation Loss: 0.008928042053329673\n",
            "\u001b[36m(ClientAppActor pid=443697)\u001b[0m Epoch 1/1, Train Loss: 0.009349685908422212, Validation Loss: 0.008784553078426556\n",
            "\u001b[36m(ClientAppActor pid=443697)\u001b[0m Epoch 1/1, Train Loss: 0.0093413373794068, Validation Loss: 0.00899559526111592\n",
            "\u001b[36m(ClientAppActor pid=443697)\u001b[0m Epoch 1/1, Train Loss: 0.009503798241811719, Validation Loss: 0.009432329309426925\n",
            "\u001b[36m(ClientAppActor pid=443697)\u001b[0m Epoch 1/1, Train Loss: 0.009512301576747135, Validation Loss: 0.00901541363617236\n"
          ]
        },
        {
          "name": "stderr",
          "output_type": "stream",
          "text": [
            "\u001b[92mINFO \u001b[0m:      aggregate_fit: received 10 results and 0 failures\n",
            "\u001b[92mINFO \u001b[0m:      configure_evaluate: strategy sampled 5 clients (out of 10)\n"
          ]
        },
        {
          "name": "stdout",
          "output_type": "stream",
          "text": [
            "\u001b[36m(ClientAppActor pid=443697)\u001b[0m Epoch 1/1, Train Loss: 0.009909331851469522, Validation Loss: 0.008487891490486536\n"
          ]
        },
        {
          "name": "stderr",
          "output_type": "stream",
          "text": [
            "\u001b[92mINFO \u001b[0m:      aggregate_evaluate: received 5 results and 0 failures\n",
            "\u001b[92mINFO \u001b[0m:      \n",
            "\u001b[92mINFO \u001b[0m:      [ROUND 34]\n",
            "\u001b[92mINFO \u001b[0m:      configure_fit: strategy sampled 10 clients (out of 10)\n"
          ]
        },
        {
          "name": "stdout",
          "output_type": "stream",
          "text": [
            "\u001b[36m(ClientAppActor pid=443697)\u001b[0m Epoch 1/1, Train Loss: 0.009659487500109455, Validation Loss: 0.008518450343134728\n",
            "\u001b[36m(ClientAppActor pid=443697)\u001b[0m Epoch 1/1, Train Loss: 0.00956958862000399, Validation Loss: 0.00876806775869971\n",
            "\u001b[36m(ClientAppActor pid=443697)\u001b[0m Epoch 1/1, Train Loss: 0.009384384960867465, Validation Loss: 0.008473371536555615\n",
            "\u001b[36m(ClientAppActor pid=443697)\u001b[0m Epoch 1/1, Train Loss: 0.00958050773161548, Validation Loss: 0.008864789502695203\n",
            "\u001b[36m(ClientAppActor pid=443697)\u001b[0m Epoch 1/1, Train Loss: 0.00947692635236308, Validation Loss: 0.009187316564335064\n",
            "\u001b[36m(ClientAppActor pid=443697)\u001b[0m Epoch 1/1, Train Loss: 0.00949440665267916, Validation Loss: 0.009057739537886599\n",
            "\u001b[36m(ClientAppActor pid=443697)\u001b[0m Epoch 1/1, Train Loss: 0.009576869101940909, Validation Loss: 0.009253439493477345\n",
            "\u001b[36m(ClientAppActor pid=443697)\u001b[0m Epoch 1/1, Train Loss: 0.009447823850099336, Validation Loss: 0.008903504285792058\n",
            "\u001b[36m(ClientAppActor pid=443697)\u001b[0m Epoch 1/1, Train Loss: 0.009397442373235455, Validation Loss: 0.009810350771824067\n"
          ]
        },
        {
          "name": "stderr",
          "output_type": "stream",
          "text": [
            "\u001b[92mINFO \u001b[0m:      aggregate_fit: received 10 results and 0 failures\n",
            "\u001b[92mINFO \u001b[0m:      configure_evaluate: strategy sampled 5 clients (out of 10)\n"
          ]
        },
        {
          "name": "stdout",
          "output_type": "stream",
          "text": [
            "\u001b[36m(ClientAppActor pid=443697)\u001b[0m Epoch 1/1, Train Loss: 0.009835249125237831, Validation Loss: 0.00875667844560336\n"
          ]
        },
        {
          "name": "stderr",
          "output_type": "stream",
          "text": [
            "\u001b[92mINFO \u001b[0m:      aggregate_evaluate: received 5 results and 0 failures\n",
            "\u001b[92mINFO \u001b[0m:      \n",
            "\u001b[92mINFO \u001b[0m:      [ROUND 35]\n",
            "\u001b[92mINFO \u001b[0m:      configure_fit: strategy sampled 10 clients (out of 10)\n"
          ]
        },
        {
          "name": "stdout",
          "output_type": "stream",
          "text": [
            "\u001b[36m(ClientAppActor pid=443697)\u001b[0m Epoch 1/1, Train Loss: 0.009447201562579721, Validation Loss: 0.008487865117124536\n",
            "\u001b[36m(ClientAppActor pid=443697)\u001b[0m Epoch 1/1, Train Loss: 0.009597007677340034, Validation Loss: 0.008894181238826026\n",
            "\u001b[36m(ClientAppActor pid=443697)\u001b[0m Epoch 1/1, Train Loss: 0.009327558509539813, Validation Loss: 0.008900576482780954\n",
            "\u001b[36m(ClientAppActor pid=443697)\u001b[0m Epoch 1/1, Train Loss: 0.009632833249104971, Validation Loss: 0.008514449656517669\n",
            "\u001b[36m(ClientAppActor pid=443697)\u001b[0m Epoch 1/1, Train Loss: 0.00941982357868586, Validation Loss: 0.009258907055482268\n",
            "\u001b[36m(ClientAppActor pid=443697)\u001b[0m Epoch 1/1, Train Loss: 0.009466288441961462, Validation Loss: 0.009044167733835902\n",
            "\u001b[36m(ClientAppActor pid=443697)\u001b[0m Epoch 1/1, Train Loss: 0.009467444721270691, Validation Loss: 0.009034202942116694\n",
            "\u001b[36m(ClientAppActor pid=443697)\u001b[0m Epoch 1/1, Train Loss: 0.00938225031661039, Validation Loss: 0.009873726532201876\n",
            "\u001b[36m(ClientAppActor pid=443697)\u001b[0m Epoch 1/1, Train Loss: 0.009498532035980712, Validation Loss: 0.009158083555203948\n"
          ]
        },
        {
          "name": "stderr",
          "output_type": "stream",
          "text": [
            "\u001b[92mINFO \u001b[0m:      aggregate_fit: received 10 results and 0 failures\n",
            "\u001b[92mINFO \u001b[0m:      configure_evaluate: strategy sampled 5 clients (out of 10)\n"
          ]
        },
        {
          "name": "stdout",
          "output_type": "stream",
          "text": [
            "\u001b[36m(ClientAppActor pid=443697)\u001b[0m Epoch 1/1, Train Loss: 0.00978462461551482, Validation Loss: 0.008116246497427876\n"
          ]
        },
        {
          "name": "stderr",
          "output_type": "stream",
          "text": [
            "\u001b[92mINFO \u001b[0m:      aggregate_evaluate: received 5 results and 0 failures\n",
            "\u001b[92mINFO \u001b[0m:      \n",
            "\u001b[92mINFO \u001b[0m:      [ROUND 36]\n",
            "\u001b[92mINFO \u001b[0m:      configure_fit: strategy sampled 10 clients (out of 10)\n"
          ]
        },
        {
          "name": "stdout",
          "output_type": "stream",
          "text": [
            "\u001b[36m(ClientAppActor pid=443697)\u001b[0m Epoch 1/1, Train Loss: 0.00965395383007655, Validation Loss: 0.01028361539779739\n",
            "\u001b[36m(ClientAppActor pid=443697)\u001b[0m Epoch 1/1, Train Loss: 0.009313401173461567, Validation Loss: 0.008609723257408901\n",
            "\u001b[36m(ClientAppActor pid=443697)\u001b[0m Epoch 1/1, Train Loss: 0.009454412491653453, Validation Loss: 0.008388488108969548\n",
            "\u001b[36m(ClientAppActor pid=443697)\u001b[0m Epoch 1/1, Train Loss: 0.009430695494467562, Validation Loss: 0.008765485730360855\n",
            "\u001b[36m(ClientAppActor pid=443697)\u001b[0m Epoch 1/1, Train Loss: 0.009226659556258131, Validation Loss: 0.00998282576487823\n",
            "\u001b[36m(ClientAppActor pid=443697)\u001b[0m Epoch 1/1, Train Loss: 0.00947004318004474, Validation Loss: 0.00864358733154156\n",
            "\u001b[36m(ClientAppActor pid=443697)\u001b[0m Epoch 1/1, Train Loss: 0.00917871297993274, Validation Loss: 0.009363667764277621\n",
            "\u001b[36m(ClientAppActor pid=443697)\u001b[0m Epoch 1/1, Train Loss: 0.00943681452719664, Validation Loss: 0.008958409752019426\n",
            "\u001b[36m(ClientAppActor pid=443697)\u001b[0m Epoch 1/1, Train Loss: 0.009422038692388345, Validation Loss: 0.010261358883739873\n"
          ]
        },
        {
          "name": "stderr",
          "output_type": "stream",
          "text": [
            "\u001b[92mINFO \u001b[0m:      aggregate_fit: received 10 results and 0 failures\n",
            "\u001b[92mINFO \u001b[0m:      configure_evaluate: strategy sampled 5 clients (out of 10)\n"
          ]
        },
        {
          "name": "stdout",
          "output_type": "stream",
          "text": [
            "\u001b[36m(ClientAppActor pid=443697)\u001b[0m Epoch 1/1, Train Loss: 0.009726846707053483, Validation Loss: 0.008440804053944621\n"
          ]
        },
        {
          "name": "stderr",
          "output_type": "stream",
          "text": [
            "\u001b[92mINFO \u001b[0m:      aggregate_evaluate: received 5 results and 0 failures\n",
            "\u001b[92mINFO \u001b[0m:      \n",
            "\u001b[92mINFO \u001b[0m:      [ROUND 37]\n",
            "\u001b[92mINFO \u001b[0m:      configure_fit: strategy sampled 10 clients (out of 10)\n"
          ]
        },
        {
          "name": "stdout",
          "output_type": "stream",
          "text": [
            "\u001b[36m(ClientAppActor pid=443697)\u001b[0m Epoch 1/1, Train Loss: 0.00954946998337453, Validation Loss: 0.008743876210329208\n",
            "\u001b[36m(ClientAppActor pid=443697)\u001b[0m Epoch 1/1, Train Loss: 0.009467065196738324, Validation Loss: 0.008968159810385921\n",
            "\u001b[36m(ClientAppActor pid=443697)\u001b[0m Epoch 1/1, Train Loss: 0.009487665581135925, Validation Loss: 0.008420777782289819\n",
            "\u001b[36m(ClientAppActor pid=443697)\u001b[0m Epoch 1/1, Train Loss: 0.00948882549577816, Validation Loss: 0.009350422685119238\n",
            "\u001b[36m(ClientAppActor pid=443697)\u001b[0m Epoch 1/1, Train Loss: 0.009479011128529568, Validation Loss: 0.009357979626987468\n",
            "\u001b[36m(ClientAppActor pid=443697)\u001b[0m Epoch 1/1, Train Loss: 0.009399303774857386, Validation Loss: 0.008997122693637555\n",
            "\u001b[36m(ClientAppActor pid=443697)\u001b[0m Epoch 1/1, Train Loss: 0.009423576565247706, Validation Loss: 0.009428942893547091\n",
            "\u001b[36m(ClientAppActor pid=443697)\u001b[0m Epoch 1/1, Train Loss: 0.009668209272521463, Validation Loss: 0.00960383644666184\n",
            "\u001b[36m(ClientAppActor pid=443697)\u001b[0m Epoch 1/1, Train Loss: 0.009492411606267771, Validation Loss: 0.00970829661342908\n"
          ]
        },
        {
          "name": "stderr",
          "output_type": "stream",
          "text": [
            "\u001b[92mINFO \u001b[0m:      aggregate_fit: received 10 results and 0 failures\n",
            "\u001b[92mINFO \u001b[0m:      configure_evaluate: strategy sampled 5 clients (out of 10)\n"
          ]
        },
        {
          "name": "stdout",
          "output_type": "stream",
          "text": [
            "\u001b[36m(ClientAppActor pid=443697)\u001b[0m Epoch 1/1, Train Loss: 0.009596380278129469, Validation Loss: 0.008844866375015541\n"
          ]
        },
        {
          "name": "stderr",
          "output_type": "stream",
          "text": [
            "\u001b[92mINFO \u001b[0m:      aggregate_evaluate: received 5 results and 0 failures\n",
            "\u001b[92mINFO \u001b[0m:      \n",
            "\u001b[92mINFO \u001b[0m:      [ROUND 38]\n",
            "\u001b[92mINFO \u001b[0m:      configure_fit: strategy sampled 10 clients (out of 10)\n"
          ]
        },
        {
          "name": "stdout",
          "output_type": "stream",
          "text": [
            "\u001b[36m(ClientAppActor pid=443697)\u001b[0m Epoch 1/1, Train Loss: 0.009656039923852817, Validation Loss: 0.008739324752241373\n",
            "\u001b[36m(ClientAppActor pid=443697)\u001b[0m Epoch 1/1, Train Loss: 0.009584596671629697, Validation Loss: 0.009644787483425303\n",
            "\u001b[36m(ClientAppActor pid=443697)\u001b[0m Epoch 1/1, Train Loss: 0.009430352646053176, Validation Loss: 0.009834773076528852\n",
            "\u001b[36m(ClientAppActor pid=443697)\u001b[0m Epoch 1/1, Train Loss: 0.009393550878898664, Validation Loss: 0.008561305511234836\n",
            "\u001b[36m(ClientAppActor pid=443697)\u001b[0m Epoch 1/1, Train Loss: 0.009563011953353205, Validation Loss: 0.00904626126231795\n",
            "\u001b[36m(ClientAppActor pid=443697)\u001b[0m Epoch 1/1, Train Loss: 0.00929118392311714, Validation Loss: 0.00852864125574177\n",
            "\u001b[36m(ClientAppActor pid=443697)\u001b[0m Epoch 1/1, Train Loss: 0.009341187378264625, Validation Loss: 0.008794661780649965\n",
            "\u001b[36m(ClientAppActor pid=443697)\u001b[0m Epoch 1/1, Train Loss: 0.009126935678068548, Validation Loss: 0.009026547576385465\n",
            "\u001b[36m(ClientAppActor pid=443697)\u001b[0m Epoch 1/1, Train Loss: 0.0093556138348173, Validation Loss: 0.0092568229672245\n"
          ]
        },
        {
          "name": "stderr",
          "output_type": "stream",
          "text": [
            "\u001b[92mINFO \u001b[0m:      aggregate_fit: received 10 results and 0 failures\n",
            "\u001b[92mINFO \u001b[0m:      configure_evaluate: strategy sampled 5 clients (out of 10)\n"
          ]
        },
        {
          "name": "stdout",
          "output_type": "stream",
          "text": [
            "\u001b[36m(ClientAppActor pid=443697)\u001b[0m Epoch 1/1, Train Loss: 0.009624295619274066, Validation Loss: 0.00832675685259429\n"
          ]
        },
        {
          "name": "stderr",
          "output_type": "stream",
          "text": [
            "\u001b[92mINFO \u001b[0m:      aggregate_evaluate: received 5 results and 0 failures\n",
            "\u001b[92mINFO \u001b[0m:      \n",
            "\u001b[92mINFO \u001b[0m:      [ROUND 39]\n",
            "\u001b[92mINFO \u001b[0m:      configure_fit: strategy sampled 10 clients (out of 10)\n"
          ]
        },
        {
          "name": "stdout",
          "output_type": "stream",
          "text": [
            "\u001b[36m(ClientAppActor pid=443697)\u001b[0m Epoch 1/1, Train Loss: 0.009644839986735447, Validation Loss: 0.008752999615601519\n",
            "\u001b[36m(ClientAppActor pid=443697)\u001b[0m Epoch 1/1, Train Loss: 0.009462835452392359, Validation Loss: 0.008637164147909392\n",
            "\u001b[36m(ClientAppActor pid=443697)\u001b[0m Epoch 1/1, Train Loss: 0.009502042280721733, Validation Loss: 0.008796733190220866\n",
            "\u001b[36m(ClientAppActor pid=443697)\u001b[0m Epoch 1/1, Train Loss: 0.009239661496725272, Validation Loss: 0.008702671599828384\n",
            "\u001b[36m(ClientAppActor pid=443697)\u001b[0m Epoch 1/1, Train Loss: 0.009443425700407137, Validation Loss: 0.010165951659225604\n",
            "\u001b[36m(ClientAppActor pid=443697)\u001b[0m Epoch 1/1, Train Loss: 0.009417976258026267, Validation Loss: 0.009108711626719345\n",
            "\u001b[36m(ClientAppActor pid=443697)\u001b[0m Epoch 1/1, Train Loss: 0.00931476557161659, Validation Loss: 0.009004602378064936\n",
            "\u001b[36m(ClientAppActor pid=443697)\u001b[0m Epoch 1/1, Train Loss: 0.009233360750262033, Validation Loss: 0.008788277776065197\n",
            "\u001b[36m(ClientAppActor pid=443697)\u001b[0m Epoch 1/1, Train Loss: 0.0093964344705455, Validation Loss: 0.009201171977276152\n"
          ]
        },
        {
          "name": "stderr",
          "output_type": "stream",
          "text": [
            "\u001b[92mINFO \u001b[0m:      aggregate_fit: received 10 results and 0 failures\n",
            "\u001b[92mINFO \u001b[0m:      configure_evaluate: strategy sampled 5 clients (out of 10)\n"
          ]
        },
        {
          "name": "stdout",
          "output_type": "stream",
          "text": [
            "\u001b[36m(ClientAppActor pid=443697)\u001b[0m Epoch 1/1, Train Loss: 0.00974141953999854, Validation Loss: 0.008054487597705289\n"
          ]
        },
        {
          "name": "stderr",
          "output_type": "stream",
          "text": [
            "\u001b[92mINFO \u001b[0m:      aggregate_evaluate: received 5 results and 0 failures\n",
            "\u001b[92mINFO \u001b[0m:      \n",
            "\u001b[92mINFO \u001b[0m:      [ROUND 40]\n",
            "\u001b[92mINFO \u001b[0m:      configure_fit: strategy sampled 10 clients (out of 10)\n"
          ]
        },
        {
          "name": "stdout",
          "output_type": "stream",
          "text": [
            "\u001b[36m(ClientAppActor pid=443697)\u001b[0m Epoch 1/1, Train Loss: 0.009445822739508003, Validation Loss: 0.009125693172047084\n",
            "\u001b[36m(ClientAppActor pid=443697)\u001b[0m Epoch 1/1, Train Loss: 0.009358489758927713, Validation Loss: 0.00874907256696712\n",
            "\u001b[36m(ClientAppActor pid=443697)\u001b[0m Epoch 1/1, Train Loss: 0.009241686308417808, Validation Loss: 0.00854233379306441\n",
            "\u001b[36m(ClientAppActor pid=443697)\u001b[0m Epoch 1/1, Train Loss: 0.009408107355491004, Validation Loss: 0.008889491627500816\n",
            "\u001b[36m(ClientAppActor pid=443697)\u001b[0m Epoch 1/1, Train Loss: 0.009462899131573398, Validation Loss: 0.008995464600791985\n",
            "\u001b[36m(ClientAppActor pid=443697)\u001b[0m Epoch 1/1, Train Loss: 0.00920885232996873, Validation Loss: 0.008574148470705206\n",
            "\u001b[36m(ClientAppActor pid=443697)\u001b[0m Epoch 1/1, Train Loss: 0.009060218559832058, Validation Loss: 0.009227588709274476\n",
            "\u001b[36m(ClientAppActor pid=443697)\u001b[0m Epoch 1/1, Train Loss: 0.009335267373403027, Validation Loss: 0.009621475653892214\n",
            "\u001b[36m(ClientAppActor pid=443697)\u001b[0m Epoch 1/1, Train Loss: 0.009348747939591041, Validation Loss: 0.00974474011243067\n"
          ]
        },
        {
          "name": "stderr",
          "output_type": "stream",
          "text": [
            "\u001b[92mINFO \u001b[0m:      aggregate_fit: received 10 results and 0 failures\n",
            "\u001b[92mINFO \u001b[0m:      configure_evaluate: strategy sampled 5 clients (out of 10)\n"
          ]
        },
        {
          "name": "stdout",
          "output_type": "stream",
          "text": [
            "\u001b[36m(ClientAppActor pid=443697)\u001b[0m Epoch 1/1, Train Loss: 0.009559476345946843, Validation Loss: 0.008296822536398064\n"
          ]
        },
        {
          "name": "stderr",
          "output_type": "stream",
          "text": [
            "\u001b[92mINFO \u001b[0m:      aggregate_evaluate: received 5 results and 0 failures\n",
            "\u001b[92mINFO \u001b[0m:      \n",
            "\u001b[92mINFO \u001b[0m:      [ROUND 41]\n",
            "\u001b[92mINFO \u001b[0m:      configure_fit: strategy sampled 10 clients (out of 10)\n"
          ]
        },
        {
          "name": "stdout",
          "output_type": "stream",
          "text": [
            "\u001b[36m(ClientAppActor pid=443697)\u001b[0m Epoch 1/1, Train Loss: 0.009438521916639398, Validation Loss: 0.009230897275053641\n",
            "\u001b[36m(ClientAppActor pid=443697)\u001b[0m Epoch 1/1, Train Loss: 0.009419039590284228, Validation Loss: 0.00900913768617267\n",
            "\u001b[36m(ClientAppActor pid=443697)\u001b[0m Epoch 1/1, Train Loss: 0.009391672364224425, Validation Loss: 0.008335165065628562\n",
            "\u001b[36m(ClientAppActor pid=443697)\u001b[0m Epoch 1/1, Train Loss: 0.009321829118892889, Validation Loss: 0.008684527086602016\n",
            "\u001b[36m(ClientAppActor pid=443697)\u001b[0m Epoch 1/1, Train Loss: 0.009269255319271575, Validation Loss: 0.008727916474030777\n",
            "\u001b[36m(ClientAppActor pid=443697)\u001b[0m Epoch 1/1, Train Loss: 0.009313231757418676, Validation Loss: 0.008617747194049034\n",
            "\u001b[36m(ClientAppActor pid=443697)\u001b[0m Epoch 1/1, Train Loss: 0.009309135186909274, Validation Loss: 0.009278236232189969\n",
            "\u001b[36m(ClientAppActor pid=443697)\u001b[0m Epoch 1/1, Train Loss: 0.009273074921855534, Validation Loss: 0.009828027718785133\n",
            "\u001b[36m(ClientAppActor pid=443697)\u001b[0m Epoch 1/1, Train Loss: 0.009595218670173463, Validation Loss: 0.008952738039872864\n"
          ]
        },
        {
          "name": "stderr",
          "output_type": "stream",
          "text": [
            "\u001b[92mINFO \u001b[0m:      aggregate_fit: received 10 results and 0 failures\n",
            "\u001b[92mINFO \u001b[0m:      configure_evaluate: strategy sampled 5 clients (out of 10)\n"
          ]
        },
        {
          "name": "stdout",
          "output_type": "stream",
          "text": [
            "\u001b[36m(ClientAppActor pid=443697)\u001b[0m Epoch 1/1, Train Loss: 0.009759397812145338, Validation Loss: 0.008205476788465272\n"
          ]
        },
        {
          "name": "stderr",
          "output_type": "stream",
          "text": [
            "\u001b[92mINFO \u001b[0m:      aggregate_evaluate: received 5 results and 0 failures\n",
            "\u001b[92mINFO \u001b[0m:      \n",
            "\u001b[92mINFO \u001b[0m:      [ROUND 42]\n",
            "\u001b[92mINFO \u001b[0m:      configure_fit: strategy sampled 10 clients (out of 10)\n"
          ]
        },
        {
          "name": "stdout",
          "output_type": "stream",
          "text": [
            "\u001b[36m(ClientAppActor pid=443697)\u001b[0m Epoch 1/1, Train Loss: 0.00933500971454619, Validation Loss: 0.008834882999177684\n",
            "\u001b[36m(ClientAppActor pid=443697)\u001b[0m Epoch 1/1, Train Loss: 0.009351145767141134, Validation Loss: 0.008977458092638037\n",
            "\u001b[36m(ClientAppActor pid=443697)\u001b[0m Epoch 1/1, Train Loss: 0.00936848808884282, Validation Loss: 0.008343057833950628\n",
            "\u001b[36m(ClientAppActor pid=443697)\u001b[0m Epoch 1/1, Train Loss: 0.00948999993058599, Validation Loss: 0.008928640322251753\n",
            "\u001b[36m(ClientAppActor pid=443697)\u001b[0m Epoch 1/1, Train Loss: 0.009183557518884878, Validation Loss: 0.009226082379675725\n",
            "\u001b[36m(ClientAppActor pid=443697)\u001b[0m Epoch 1/1, Train Loss: 0.00936909254894338, Validation Loss: 0.008785553361204538\n",
            "\u001b[36m(ClientAppActor pid=443697)\u001b[0m Epoch 1/1, Train Loss: 0.009365326370408928, Validation Loss: 0.00941358134150505\n",
            "\u001b[36m(ClientAppActor pid=443697)\u001b[0m Epoch 1/1, Train Loss: 0.009284581417556514, Validation Loss: 0.008826966651461342\n",
            "\u001b[36m(ClientAppActor pid=443697)\u001b[0m Epoch 1/1, Train Loss: 0.009253037421413783, Validation Loss: 0.009379340801388025\n"
          ]
        },
        {
          "name": "stderr",
          "output_type": "stream",
          "text": [
            "\u001b[92mINFO \u001b[0m:      aggregate_fit: received 10 results and 0 failures\n",
            "\u001b[92mINFO \u001b[0m:      configure_evaluate: strategy sampled 5 clients (out of 10)\n"
          ]
        },
        {
          "name": "stdout",
          "output_type": "stream",
          "text": [
            "\u001b[36m(ClientAppActor pid=443697)\u001b[0m Epoch 1/1, Train Loss: 0.009759761996313253, Validation Loss: 0.008137373147871007\n"
          ]
        },
        {
          "name": "stderr",
          "output_type": "stream",
          "text": [
            "\u001b[92mINFO \u001b[0m:      aggregate_evaluate: received 5 results and 0 failures\n",
            "\u001b[92mINFO \u001b[0m:      \n",
            "\u001b[92mINFO \u001b[0m:      [ROUND 43]\n",
            "\u001b[92mINFO \u001b[0m:      configure_fit: strategy sampled 10 clients (out of 10)\n"
          ]
        },
        {
          "name": "stdout",
          "output_type": "stream",
          "text": [
            "\u001b[36m(ClientAppActor pid=443697)\u001b[0m Epoch 1/1, Train Loss: 0.009305149274454876, Validation Loss: 0.008400743213397536\n",
            "\u001b[36m(ClientAppActor pid=443697)\u001b[0m Epoch 1/1, Train Loss: 0.00930423768427731, Validation Loss: 0.008804424623535438\n",
            "\u001b[36m(ClientAppActor pid=443697)\u001b[0m Epoch 1/1, Train Loss: 0.009313843059565195, Validation Loss: 0.008404032644731078\n",
            "\u001b[36m(ClientAppActor pid=443697)\u001b[0m Epoch 1/1, Train Loss: 0.009422302563590083, Validation Loss: 0.008960461074655706\n",
            "\u001b[36m(ClientAppActor pid=443697)\u001b[0m Epoch 1/1, Train Loss: 0.009210325740489432, Validation Loss: 0.009020339697599411\n",
            "\u001b[36m(ClientAppActor pid=443697)\u001b[0m Epoch 1/1, Train Loss: 0.009209197702478956, Validation Loss: 0.008247160246934403\n",
            "\u001b[36m(ClientAppActor pid=443697)\u001b[0m Epoch 1/1, Train Loss: 0.009042294404935092, Validation Loss: 0.008681801782751625\n",
            "\u001b[36m(ClientAppActor pid=443697)\u001b[0m Epoch 1/1, Train Loss: 0.009354493739506737, Validation Loss: 0.009047315815802325\n",
            "\u001b[36m(ClientAppActor pid=443697)\u001b[0m Epoch 1/1, Train Loss: 0.009419002951207485, Validation Loss: 0.009139526910571889\n"
          ]
        },
        {
          "name": "stderr",
          "output_type": "stream",
          "text": [
            "\u001b[92mINFO \u001b[0m:      aggregate_fit: received 10 results and 0 failures\n",
            "\u001b[92mINFO \u001b[0m:      configure_evaluate: strategy sampled 5 clients (out of 10)\n"
          ]
        },
        {
          "name": "stdout",
          "output_type": "stream",
          "text": [
            "\u001b[36m(ClientAppActor pid=443697)\u001b[0m Epoch 1/1, Train Loss: 0.009587671152654697, Validation Loss: 0.008279574230651964\n"
          ]
        },
        {
          "name": "stderr",
          "output_type": "stream",
          "text": [
            "\u001b[92mINFO \u001b[0m:      aggregate_evaluate: received 5 results and 0 failures\n",
            "\u001b[92mINFO \u001b[0m:      \n",
            "\u001b[92mINFO \u001b[0m:      [ROUND 44]\n",
            "\u001b[92mINFO \u001b[0m:      configure_fit: strategy sampled 10 clients (out of 10)\n"
          ]
        },
        {
          "name": "stdout",
          "output_type": "stream",
          "text": [
            "\u001b[36m(ClientAppActor pid=443697)\u001b[0m Epoch 1/1, Train Loss: 0.009376481836873361, Validation Loss: 0.008491683963008902\n",
            "\u001b[36m(ClientAppActor pid=443697)\u001b[0m Epoch 1/1, Train Loss: 0.00942684937035665, Validation Loss: 0.009403723292052746\n",
            "\u001b[36m(ClientAppActor pid=443697)\u001b[0m Epoch 1/1, Train Loss: 0.009340645565482026, Validation Loss: 0.008719517912885005\n",
            "\u001b[36m(ClientAppActor pid=443697)\u001b[0m Epoch 1/1, Train Loss: 0.009395551703743298, Validation Loss: 0.008891065626151183\n",
            "\u001b[36m(ClientAppActor pid=443697)\u001b[0m Epoch 1/1, Train Loss: 0.009439715851013634, Validation Loss: 0.00948047026229853\n",
            "\u001b[36m(ClientAppActor pid=443697)\u001b[0m Epoch 1/1, Train Loss: 0.009192169389941475, Validation Loss: 0.008293035651811144\n",
            "\u001b[36m(ClientAppActor pid=443697)\u001b[0m Epoch 1/1, Train Loss: 0.009178514179604297, Validation Loss: 0.010168285363099792\n",
            "\u001b[36m(ClientAppActor pid=443697)\u001b[0m Epoch 1/1, Train Loss: 0.00936316393463957, Validation Loss: 0.008651178224350919\n",
            "\u001b[36m(ClientAppActor pid=443697)\u001b[0m Epoch 1/1, Train Loss: 0.00928883485242047, Validation Loss: 0.00995711444623091\n"
          ]
        },
        {
          "name": "stderr",
          "output_type": "stream",
          "text": [
            "\u001b[92mINFO \u001b[0m:      aggregate_fit: received 10 results and 0 failures\n",
            "\u001b[92mINFO \u001b[0m:      configure_evaluate: strategy sampled 5 clients (out of 10)\n"
          ]
        },
        {
          "name": "stdout",
          "output_type": "stream",
          "text": [
            "\u001b[36m(ClientAppActor pid=443697)\u001b[0m Epoch 1/1, Train Loss: 0.009494023773268882, Validation Loss: 0.00832724981856617\n"
          ]
        },
        {
          "name": "stderr",
          "output_type": "stream",
          "text": [
            "\u001b[92mINFO \u001b[0m:      aggregate_evaluate: received 5 results and 0 failures\n",
            "\u001b[92mINFO \u001b[0m:      \n",
            "\u001b[92mINFO \u001b[0m:      [ROUND 45]\n",
            "\u001b[92mINFO \u001b[0m:      configure_fit: strategy sampled 10 clients (out of 10)\n"
          ]
        },
        {
          "name": "stdout",
          "output_type": "stream",
          "text": [
            "\u001b[36m(ClientAppActor pid=443697)\u001b[0m Epoch 1/1, Train Loss: 0.009406360458921303, Validation Loss: 0.008554734035649082\n",
            "\u001b[36m(ClientAppActor pid=443697)\u001b[0m Epoch 1/1, Train Loss: 0.009481328206179156, Validation Loss: 0.009468523298644206\n",
            "\u001b[36m(ClientAppActor pid=443697)\u001b[0m Epoch 1/1, Train Loss: 0.009362858143338764, Validation Loss: 0.010489096230065281\n",
            "\u001b[36m(ClientAppActor pid=443697)\u001b[0m Epoch 1/1, Train Loss: 0.009213468483225866, Validation Loss: 0.009738448393446479\n",
            "\u001b[36m(ClientAppActor pid=443697)\u001b[0m Epoch 1/1, Train Loss: 0.009109579751649026, Validation Loss: 0.008988873228769411\n",
            "\u001b[36m(ClientAppActor pid=443697)\u001b[0m Epoch 1/1, Train Loss: 0.009273022598459978, Validation Loss: 0.008687283187596635\n",
            "\u001b[36m(ClientAppActor pid=443697)\u001b[0m Epoch 1/1, Train Loss: 0.009151718007739295, Validation Loss: 0.008966528239067306\n",
            "\u001b[36m(ClientAppActor pid=443697)\u001b[0m Epoch 1/1, Train Loss: 0.009174312591891397, Validation Loss: 0.010121212383224205\n",
            "\u001b[36m(ClientAppActor pid=443697)\u001b[0m Epoch 1/1, Train Loss: 0.009227102299601856, Validation Loss: 0.009199361676688899\n"
          ]
        },
        {
          "name": "stderr",
          "output_type": "stream",
          "text": [
            "\u001b[92mINFO \u001b[0m:      aggregate_fit: received 10 results and 0 failures\n",
            "\u001b[92mINFO \u001b[0m:      configure_evaluate: strategy sampled 5 clients (out of 10)\n"
          ]
        },
        {
          "name": "stdout",
          "output_type": "stream",
          "text": [
            "\u001b[36m(ClientAppActor pid=443697)\u001b[0m Epoch 1/1, Train Loss: 0.009682961226313968, Validation Loss: 0.008137903578410094\n"
          ]
        },
        {
          "name": "stderr",
          "output_type": "stream",
          "text": [
            "\u001b[92mINFO \u001b[0m:      aggregate_evaluate: received 5 results and 0 failures\n",
            "\u001b[92mINFO \u001b[0m:      \n",
            "\u001b[92mINFO \u001b[0m:      [ROUND 46]\n",
            "\u001b[92mINFO \u001b[0m:      configure_fit: strategy sampled 10 clients (out of 10)\n"
          ]
        },
        {
          "name": "stdout",
          "output_type": "stream",
          "text": [
            "\u001b[36m(ClientAppActor pid=443697)\u001b[0m Epoch 1/1, Train Loss: 0.009366711940277706, Validation Loss: 0.008521601917560805\n",
            "\u001b[36m(ClientAppActor pid=443697)\u001b[0m Epoch 1/1, Train Loss: 0.009308278079102323, Validation Loss: 0.008856038711118426\n",
            "\u001b[36m(ClientAppActor pid=443697)\u001b[0m Epoch 1/1, Train Loss: 0.009312913843049582, Validation Loss: 0.00851055471734567\n",
            "\u001b[36m(ClientAppActor pid=443697)\u001b[0m Epoch 1/1, Train Loss: 0.00926542876351794, Validation Loss: 0.00858424718237736\n",
            "\u001b[36m(ClientAppActor pid=443697)\u001b[0m Epoch 1/1, Train Loss: 0.00923977493287318, Validation Loss: 0.009215451374819333\n",
            "\u001b[36m(ClientAppActor pid=443697)\u001b[0m Epoch 1/1, Train Loss: 0.009263901643201032, Validation Loss: 0.008635429877110502\n",
            "\u001b[36m(ClientAppActor pid=443697)\u001b[0m Epoch 1/1, Train Loss: 0.009102533460298384, Validation Loss: 0.008778935785151341\n",
            "\u001b[36m(ClientAppActor pid=443697)\u001b[0m Epoch 1/1, Train Loss: 0.009103993673554876, Validation Loss: 0.008687121137468652\n",
            "\u001b[36m(ClientAppActor pid=443697)\u001b[0m Epoch 1/1, Train Loss: 0.009420300616925075, Validation Loss: 0.00912846578285098\n"
          ]
        },
        {
          "name": "stderr",
          "output_type": "stream",
          "text": [
            "\u001b[92mINFO \u001b[0m:      aggregate_fit: received 10 results and 0 failures\n",
            "\u001b[92mINFO \u001b[0m:      configure_evaluate: strategy sampled 5 clients (out of 10)\n"
          ]
        },
        {
          "name": "stdout",
          "output_type": "stream",
          "text": [
            "\u001b[36m(ClientAppActor pid=443697)\u001b[0m Epoch 1/1, Train Loss: 0.009558100465007803, Validation Loss: 0.008675950283015316\n"
          ]
        },
        {
          "name": "stderr",
          "output_type": "stream",
          "text": [
            "\u001b[92mINFO \u001b[0m:      aggregate_evaluate: received 5 results and 0 failures\n",
            "\u001b[92mINFO \u001b[0m:      \n",
            "\u001b[92mINFO \u001b[0m:      [ROUND 47]\n",
            "\u001b[92mINFO \u001b[0m:      configure_fit: strategy sampled 10 clients (out of 10)\n"
          ]
        },
        {
          "name": "stdout",
          "output_type": "stream",
          "text": [
            "\u001b[36m(ClientAppActor pid=443697)\u001b[0m Epoch 1/1, Train Loss: 0.009214437497906725, Validation Loss: 0.008432024518366565\n",
            "\u001b[36m(ClientAppActor pid=443697)\u001b[0m Epoch 1/1, Train Loss: 0.00932989237745377, Validation Loss: 0.008726224874738942\n",
            "\u001b[36m(ClientAppActor pid=443697)\u001b[0m Epoch 1/1, Train Loss: 0.009241203676951542, Validation Loss: 0.008678713961589065\n",
            "\u001b[36m(ClientAppActor pid=443697)\u001b[0m Epoch 1/1, Train Loss: 0.009357322700618004, Validation Loss: 0.008974883260882714\n",
            "\u001b[36m(ClientAppActor pid=443697)\u001b[0m Epoch 1/1, Train Loss: 0.009208938265642659, Validation Loss: 0.009480820016258142\n",
            "\u001b[36m(ClientAppActor pid=443697)\u001b[0m Epoch 1/1, Train Loss: 0.009316831102213737, Validation Loss: 0.00892499957064336\n",
            "\u001b[36m(ClientAppActor pid=443697)\u001b[0m Epoch 1/1, Train Loss: 0.009146021022884683, Validation Loss: 0.00899516333910552\n",
            "\u001b[36m(ClientAppActor pid=443697)\u001b[0m Epoch 1/1, Train Loss: 0.009264115302357823, Validation Loss: 0.009854978881776333\n",
            "\u001b[36m(ClientAppActor pid=443697)\u001b[0m Epoch 1/1, Train Loss: 0.009187700729605487, Validation Loss: 0.009019017748704011\n"
          ]
        },
        {
          "name": "stderr",
          "output_type": "stream",
          "text": [
            "\u001b[92mINFO \u001b[0m:      aggregate_fit: received 10 results and 0 failures\n",
            "\u001b[92mINFO \u001b[0m:      configure_evaluate: strategy sampled 5 clients (out of 10)\n"
          ]
        },
        {
          "name": "stdout",
          "output_type": "stream",
          "text": [
            "\u001b[36m(ClientAppActor pid=443697)\u001b[0m Epoch 1/1, Train Loss: 0.009623873597857628, Validation Loss: 0.007853445850990036\n"
          ]
        },
        {
          "name": "stderr",
          "output_type": "stream",
          "text": [
            "\u001b[92mINFO \u001b[0m:      aggregate_evaluate: received 5 results and 0 failures\n",
            "\u001b[92mINFO \u001b[0m:      \n",
            "\u001b[92mINFO \u001b[0m:      [ROUND 48]\n",
            "\u001b[92mINFO \u001b[0m:      configure_fit: strategy sampled 10 clients (out of 10)\n"
          ]
        },
        {
          "name": "stdout",
          "output_type": "stream",
          "text": [
            "\u001b[36m(ClientAppActor pid=443697)\u001b[0m Epoch 1/1, Train Loss: 0.009427404803731903, Validation Loss: 0.00865943101234734\n",
            "\u001b[36m(ClientAppActor pid=443697)\u001b[0m Epoch 1/1, Train Loss: 0.009253120748326182, Validation Loss: 0.009224206526679072\n",
            "\u001b[36m(ClientAppActor pid=443697)\u001b[0m Epoch 1/1, Train Loss: 0.009513379164590415, Validation Loss: 0.008809961928901348\n",
            "\u001b[36m(ClientAppActor pid=443697)\u001b[0m Epoch 1/1, Train Loss: 0.009299880057700317, Validation Loss: 0.009199518392878499\n",
            "\u001b[36m(ClientAppActor pid=443697)\u001b[0m Epoch 1/1, Train Loss: 0.00916608907705681, Validation Loss: 0.008744972144168887\n",
            "\u001b[36m(ClientAppActor pid=443697)\u001b[0m Epoch 1/1, Train Loss: 0.009391298036048696, Validation Loss: 0.00875343401408331\n",
            "\u001b[36m(ClientAppActor pid=443697)\u001b[0m Epoch 1/1, Train Loss: 0.009211590640585531, Validation Loss: 0.009335014672780579\n",
            "\u001b[36m(ClientAppActor pid=443697)\u001b[0m Epoch 1/1, Train Loss: 0.00921691951490092, Validation Loss: 0.009065967561169104\n",
            "\u001b[36m(ClientAppActor pid=443697)\u001b[0m Epoch 1/1, Train Loss: 0.009252882594327357, Validation Loss: 0.009045610416003248\n"
          ]
        },
        {
          "name": "stderr",
          "output_type": "stream",
          "text": [
            "\u001b[92mINFO \u001b[0m:      aggregate_fit: received 10 results and 0 failures\n",
            "\u001b[92mINFO \u001b[0m:      configure_evaluate: strategy sampled 5 clients (out of 10)\n"
          ]
        },
        {
          "name": "stdout",
          "output_type": "stream",
          "text": [
            "\u001b[36m(ClientAppActor pid=443697)\u001b[0m Epoch 1/1, Train Loss: 0.00946734593228691, Validation Loss: 0.008169754048470746\n"
          ]
        },
        {
          "name": "stderr",
          "output_type": "stream",
          "text": [
            "\u001b[92mINFO \u001b[0m:      aggregate_evaluate: received 5 results and 0 failures\n",
            "\u001b[92mINFO \u001b[0m:      \n",
            "\u001b[92mINFO \u001b[0m:      [ROUND 49]\n",
            "\u001b[92mINFO \u001b[0m:      configure_fit: strategy sampled 10 clients (out of 10)\n"
          ]
        },
        {
          "name": "stdout",
          "output_type": "stream",
          "text": [
            "\u001b[36m(ClientAppActor pid=443697)\u001b[0m Epoch 1/1, Train Loss: 0.009432389136319134, Validation Loss: 0.008465627885677597\n",
            "\u001b[36m(ClientAppActor pid=443697)\u001b[0m Epoch 1/1, Train Loss: 0.009158575992015276, Validation Loss: 0.009108873380517418\n",
            "\u001b[36m(ClientAppActor pid=443697)\u001b[0m Epoch 1/1, Train Loss: 0.009098909403705462, Validation Loss: 0.008414736673743888\n",
            "\u001b[36m(ClientAppActor pid=443697)\u001b[0m Epoch 1/1, Train Loss: 0.009294371792665597, Validation Loss: 0.008781277532265945\n",
            "\u001b[36m(ClientAppActor pid=443697)\u001b[0m Epoch 1/1, Train Loss: 0.009218104469420558, Validation Loss: 0.008865008321167394\n",
            "\u001b[36m(ClientAppActor pid=443697)\u001b[0m Epoch 1/1, Train Loss: 0.009205327014735138, Validation Loss: 0.008337482598356226\n",
            "\u001b[36m(ClientAppActor pid=443697)\u001b[0m Epoch 1/1, Train Loss: 0.009189865043894812, Validation Loss: 0.009937218665568666\n",
            "\u001b[36m(ClientAppActor pid=443697)\u001b[0m Epoch 1/1, Train Loss: 0.00914410150885074, Validation Loss: 0.009148567470467904\n",
            "\u001b[36m(ClientAppActor pid=443697)\u001b[0m Epoch 1/1, Train Loss: 0.00940227023304694, Validation Loss: 0.00907854824750261\n"
          ]
        },
        {
          "name": "stderr",
          "output_type": "stream",
          "text": [
            "\u001b[92mINFO \u001b[0m:      aggregate_fit: received 10 results and 0 failures\n",
            "\u001b[92mINFO \u001b[0m:      configure_evaluate: strategy sampled 5 clients (out of 10)\n"
          ]
        },
        {
          "name": "stdout",
          "output_type": "stream",
          "text": [
            "\u001b[36m(ClientAppActor pid=443697)\u001b[0m Epoch 1/1, Train Loss: 0.009524206011767754, Validation Loss: 0.008710599716075441\n"
          ]
        },
        {
          "name": "stderr",
          "output_type": "stream",
          "text": [
            "\u001b[92mINFO \u001b[0m:      aggregate_evaluate: received 5 results and 0 failures\n",
            "\u001b[92mINFO \u001b[0m:      \n",
            "\u001b[92mINFO \u001b[0m:      [ROUND 50]\n",
            "\u001b[92mINFO \u001b[0m:      configure_fit: strategy sampled 10 clients (out of 10)\n"
          ]
        },
        {
          "name": "stdout",
          "output_type": "stream",
          "text": [
            "\u001b[36m(ClientAppActor pid=443697)\u001b[0m Epoch 1/1, Train Loss: 0.00934188822496005, Validation Loss: 0.00897624464282258\n",
            "\u001b[36m(ClientAppActor pid=443697)\u001b[0m Epoch 1/1, Train Loss: 0.009250277055385099, Validation Loss: 0.008919638179411942\n",
            "\u001b[36m(ClientAppActor pid=443697)\u001b[0m Epoch 1/1, Train Loss: 0.00919918668329377, Validation Loss: 0.008180897640572353\n",
            "\u001b[36m(ClientAppActor pid=443697)\u001b[0m Epoch 1/1, Train Loss: 0.00936602270336483, Validation Loss: 0.0090331472244791\n",
            "\u001b[36m(ClientAppActor pid=443697)\u001b[0m Epoch 1/1, Train Loss: 0.009318368609952317, Validation Loss: 0.008894943208857016\n",
            "\u001b[36m(ClientAppActor pid=443697)\u001b[0m Epoch 1/1, Train Loss: 0.009179024692540142, Validation Loss: 0.008628267689015378\n",
            "\u001b[36m(ClientAppActor pid=443697)\u001b[0m Epoch 1/1, Train Loss: 0.009095417817165568, Validation Loss: 0.00919241815890101\n",
            "\u001b[36m(ClientAppActor pid=443697)\u001b[0m Epoch 1/1, Train Loss: 0.009154134990901432, Validation Loss: 0.009365173564715818\n",
            "\u001b[36m(ClientAppActor pid=443697)\u001b[0m Epoch 1/1, Train Loss: 0.009300395973365416, Validation Loss: 0.009463712001558055\n"
          ]
        },
        {
          "name": "stderr",
          "output_type": "stream",
          "text": [
            "\u001b[92mINFO \u001b[0m:      aggregate_fit: received 10 results and 0 failures\n",
            "\u001b[92mINFO \u001b[0m:      configure_evaluate: strategy sampled 5 clients (out of 10)\n"
          ]
        },
        {
          "name": "stdout",
          "output_type": "stream",
          "text": [
            "\u001b[36m(ClientAppActor pid=443697)\u001b[0m Epoch 1/1, Train Loss: 0.009480652113614435, Validation Loss: 0.008193140553141182\n"
          ]
        },
        {
          "name": "stderr",
          "output_type": "stream",
          "text": [
            "\u001b[92mINFO \u001b[0m:      aggregate_evaluate: received 5 results and 0 failures\n",
            "\u001b[92mINFO \u001b[0m:      \n",
            "\u001b[92mINFO \u001b[0m:      [SUMMARY]\n",
            "\u001b[92mINFO \u001b[0m:      Run finished 50 round(s) in 13351.33s\n",
            "\u001b[92mINFO \u001b[0m:      \tHistory (loss, distributed):\n",
            "\u001b[92mINFO \u001b[0m:      \t\tround 1: 0.020544752292335034\n",
            "\u001b[92mINFO \u001b[0m:      \t\tround 2: 0.020493767833845183\n",
            "\u001b[92mINFO \u001b[0m:      \t\tround 3: 0.02048562639816241\n",
            "\u001b[92mINFO \u001b[0m:      \t\tround 4: 0.020544639830900865\n",
            "\u001b[92mINFO \u001b[0m:      \t\tround 5: 0.02062222964384339\n",
            "\u001b[92mINFO \u001b[0m:      \t\tround 6: 0.018117920563302258\n",
            "\u001b[92mINFO \u001b[0m:      \t\tround 7: 0.014337034396488557\n",
            "\u001b[92mINFO \u001b[0m:      \t\tround 8: 0.011423284992236982\n",
            "\u001b[92mINFO \u001b[0m:      \t\tround 9: 0.010131535298106346\n",
            "\u001b[92mINFO \u001b[0m:      \t\tround 10: 0.009548731055110693\n",
            "\u001b[92mINFO \u001b[0m:      \t\tround 11: 0.008938986765728756\n",
            "\u001b[92mINFO \u001b[0m:      \t\tround 12: 0.009162861248478293\n",
            "\u001b[92mINFO \u001b[0m:      \t\tround 13: 0.009037343933331695\n",
            "\u001b[92mINFO \u001b[0m:      \t\tround 14: 0.008850838387893006\n",
            "\u001b[92mINFO \u001b[0m:      \t\tround 15: 0.00902236070991917\n",
            "\u001b[92mINFO \u001b[0m:      \t\tround 16: 0.00886493287557228\n",
            "\u001b[92mINFO \u001b[0m:      \t\tround 17: 0.009016008230603554\n",
            "\u001b[92mINFO \u001b[0m:      \t\tround 18: 0.008820636379955844\n",
            "\u001b[92mINFO \u001b[0m:      \t\tround 19: 0.00857386563227258\n",
            "\u001b[92mINFO \u001b[0m:      \t\tround 20: 0.008871408331800591\n",
            "\u001b[92mINFO \u001b[0m:      \t\tround 21: 0.008667473588138819\n",
            "\u001b[92mINFO \u001b[0m:      \t\tround 22: 0.00874303660186177\n",
            "\u001b[92mINFO \u001b[0m:      \t\tround 23: 0.0087062941017476\n",
            "\u001b[92mINFO \u001b[0m:      \t\tround 24: 0.008670380148528651\n",
            "\u001b[92mINFO \u001b[0m:      \t\tround 25: 0.008694512469016693\n",
            "\u001b[92mINFO \u001b[0m:      \t\tround 26: 0.00864917023784735\n",
            "\u001b[92mINFO \u001b[0m:      \t\tround 27: 0.008821182850409637\n",
            "\u001b[92mINFO \u001b[0m:      \t\tround 28: 0.008543908574872396\n",
            "\u001b[92mINFO \u001b[0m:      \t\tround 29: 0.00859930589371784\n",
            "\u001b[92mINFO \u001b[0m:      \t\tround 30: 0.00882789338092235\n",
            "\u001b[92mINFO \u001b[0m:      \t\tround 31: 0.008820245211774652\n",
            "\u001b[92mINFO \u001b[0m:      \t\tround 32: 0.008672955035316673\n",
            "\u001b[92mINFO \u001b[0m:      \t\tround 33: 0.00866627036170526\n",
            "\u001b[92mINFO \u001b[0m:      \t\tround 34: 0.008596266560595143\n",
            "\u001b[92mINFO \u001b[0m:      \t\tround 35: 0.0085632918021557\n",
            "\u001b[92mINFO \u001b[0m:      \t\tround 36: 0.00862060043622147\n",
            "\u001b[92mINFO \u001b[0m:      \t\tround 37: 0.008728352531960065\n",
            "\u001b[92mINFO \u001b[0m:      \t\tround 38: 0.008615946854380043\n",
            "\u001b[92mINFO \u001b[0m:      \t\tround 39: 0.008492446318268777\n",
            "\u001b[92mINFO \u001b[0m:      \t\tround 40: 0.008565891009162772\n",
            "\u001b[92mINFO \u001b[0m:      \t\tround 41: 0.008527947864918546\n",
            "\u001b[92mINFO \u001b[0m:      \t\tround 42: 0.008451110378585078\n",
            "\u001b[92mINFO \u001b[0m:      \t\tround 43: 0.008545194392685185\n",
            "\u001b[92mINFO \u001b[0m:      \t\tround 44: 0.008342208150266246\n",
            "\u001b[92mINFO \u001b[0m:      \t\tround 45: 0.008532560163770209\n",
            "\u001b[92mINFO \u001b[0m:      \t\tround 46: 0.0085351007736542\n",
            "\u001b[92mINFO \u001b[0m:      \t\tround 47: 0.00862014575184069\n",
            "\u001b[92mINFO \u001b[0m:      \t\tround 48: 0.008592592763968489\n",
            "\u001b[92mINFO \u001b[0m:      \t\tround 49: 0.008514548643407496\n",
            "\u001b[92mINFO \u001b[0m:      \t\tround 50: 0.008473518647422846\n",
            "\u001b[92mINFO \u001b[0m:      \n"
          ]
        }
      ],
      "source": [
        "try:\n",
        "    # Run simulation\n",
        "    run_simulation(\n",
        "        server_app=server,\n",
        "        client_app=client,\n",
        "        num_supernodes=num_clients,\n",
        "        backend_config=backend_config\n",
        "    )\n",
        "except KeyboardInterrupt:\n",
        "    print(\"Simulation interrupted by user.\")"
      ]
    }
  ],
  "metadata": {
    "accelerator": "GPU",
    "colab": {
      "collapsed_sections": [
        "bkndtwvEMAyB",
        "xjJsJCeIMAyE",
        "MofOJ5kcMAyF",
        "uUlltooqMAyF",
        "fLLW79nlMAyG",
        "HUo0_klUMAyG",
        "Fg8XtAIsMAyH",
        "Wp3n8jv4MAyH",
        "mhXW7sjEMAyI",
        "lj7dyHsdMAyK",
        "tBBvfsbBMAyQ",
        "eBpfPEUpMAyS"
      ],
      "gpuType": "T4",
      "provenance": []
    },
    "kernelspec": {
      "display_name": ".venv",
      "language": "python",
      "name": "python3"
    },
    "language_info": {
      "codemirror_mode": {
        "name": "ipython",
        "version": 3
      },
      "file_extension": ".py",
      "mimetype": "text/x-python",
      "name": "python",
      "nbconvert_exporter": "python",
      "pygments_lexer": "ipython3",
      "version": "3.12.7"
    }
  },
  "nbformat": 4,
  "nbformat_minor": 0
}
