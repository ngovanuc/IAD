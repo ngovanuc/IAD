{
  "cells": [
    {
      "cell_type": "markdown",
      "metadata": {
        "id": "bnYweYq7MAx_"
      },
      "source": [
        "# Part I. RUL prediction using Transformer model (Centralize model)"
      ]
    },
    {
      "cell_type": "markdown",
      "metadata": {
        "id": "bkndtwvEMAyB"
      },
      "source": [
        "# Preparation"
      ]
    },
    {
      "cell_type": "code",
      "execution_count": 1,
      "metadata": {
        "colab": {
          "base_uri": "https://localhost:8080/"
        },
        "id": "Z9u9NGr2MAyB",
        "outputId": "29244025-6832-4664-ba1b-7db0e3af4975"
      },
      "outputs": [
        {
          "name": "stdout",
          "output_type": "stream",
          "text": [
            "IN_COLAB: False\n"
          ]
        }
      ],
      "source": [
        "# When run code on Colab\n",
        "try:\n",
        "    import google.colab\n",
        "    IN_COLAB = True\n",
        "except:\n",
        "    IN_COLAB = False\n",
        "if IN_COLAB:\n",
        "    from google.colab import drive\n",
        "    drive.mount('/content/drive')\n",
        "print(f'IN_COLAB: {IN_COLAB}')"
      ]
    },
    {
      "cell_type": "code",
      "execution_count": 2,
      "metadata": {
        "colab": {
          "base_uri": "https://localhost:8080/"
        },
        "id": "g5Bwn09CMAyD",
        "outputId": "6c8b1ae9-10c9-4949-e2ef-5508f06bf4d6"
      },
      "outputs": [],
      "source": [
        "!pip install -q flwr[simulation] flwr-datasets[vision] torch torchvision matplotlib"
      ]
    },
    {
      "cell_type": "code",
      "execution_count": 3,
      "metadata": {
        "id": "3A85IsxNMAyD"
      },
      "outputs": [],
      "source": [
        "# Off log duplicate messages\n",
        "import os\n",
        "os.environ[\"RAY_DEDUP_LOGS\"] = \"0\"\n",
        "\n",
        "# Off warning messages\n",
        "import warnings\n",
        "warnings.filterwarnings('ignore')\n",
        "\n",
        "if not IN_COLAB:\n",
        "    try:\n",
        "        import pyinspect as pi\n",
        "    except:\n",
        "        pass"
      ]
    },
    {
      "cell_type": "code",
      "execution_count": 4,
      "metadata": {
        "id": "HPY8OhXWMAyD"
      },
      "outputs": [
        {
          "name": "stderr",
          "output_type": "stream",
          "text": [
            "2025-02-11 07:50:40,434\tINFO util.py:154 -- Missing packages: ['ipywidgets']. Run `pip install -U ipywidgets`, then restart the notebook server for rich notebook output.\n",
            "/home/os/anaconda3/envs/.venv/lib/python3.12/site-packages/shap/plots/colors/_colorconv.py:819: DeprecationWarning: Converting `np.inexact` or `np.floating` to a dtype is deprecated. The current result is `float64` which is not strictly correct.\n",
            "  if np.issubdtype(dtype_in, np.dtype(dtype).type):\n"
          ]
        }
      ],
      "source": [
        "from collections import OrderedDict\n",
        "from typing import List, Tuple\n",
        "\n",
        "import numpy as np\n",
        "import pandas as pd\n",
        "import matplotlib.pyplot as plt\n",
        "\n",
        "import torch\n",
        "import torch.nn as nn\n",
        "import torch.nn.functional as F\n",
        "import torchvision.transforms as transforms\n",
        "from torch.utils.data import random_split\n",
        "from torch.utils.data import DataLoader\n",
        "from torch.utils.data import Dataset\n",
        "\n",
        "from datasets.utils.logging import disable_progress_bar\n",
        "\n",
        "from sklearn.preprocessing import MinMaxScaler\n",
        "from sklearn.model_selection import train_test_split\n",
        "\n",
        "import flwr\n",
        "from flwr.client import Client, ClientApp, NumPyClient\n",
        "from flwr.common import Metrics, Context\n",
        "from flwr.server import ServerApp, ServerConfig, ServerAppComponents\n",
        "from flwr.server.strategy import FedAvg\n",
        "from flwr.simulation import run_simulation\n",
        "# from flwr_datasets import FederatedDataset\n",
        "\n",
        "import shap"
      ]
    },
    {
      "cell_type": "code",
      "execution_count": 5,
      "metadata": {
        "colab": {
          "base_uri": "https://localhost:8080/"
        },
        "id": "VVkgjO0FMAyE",
        "outputId": "83016b96-aa2a-4bf8-aa1c-42a6ad9ea3bb"
      },
      "outputs": [
        {
          "name": "stdout",
          "output_type": "stream",
          "text": [
            "Training on cuda\n",
            "Flower 1.14.0 / PyTorch 2.5.1+cu124\n"
          ]
        }
      ],
      "source": [
        "# Check GPU if available else CPU\n",
        "DEVICE = torch.device(\"cuda\" if torch.cuda.is_available() else \"cpu\")\n",
        "print(f\"Training on {DEVICE}\")\n",
        "print(f\"Flower {flwr.__version__} / PyTorch {torch.__version__}\")\n",
        "disable_progress_bar()"
      ]
    },
    {
      "cell_type": "markdown",
      "metadata": {
        "id": "xjJsJCeIMAyE"
      },
      "source": [
        "# Building Transformer model"
      ]
    },
    {
      "cell_type": "code",
      "execution_count": 6,
      "metadata": {
        "id": "hTrlkOGbMAyE"
      },
      "outputs": [],
      "source": [
        "class TransformerModel(nn.Module):\n",
        "    def __init__(self, input_dim, d_model, nhead, num_layers, dim_feedforward, dropout):\n",
        "        super(TransformerModel, self).__init__()\n",
        "        self.input_embedding = nn.Linear(input_dim, d_model)\n",
        "        self.positional_encoding = nn.Parameter(torch.zeros(1, 5000, d_model))\n",
        "        self.transformer = nn.Transformer(\n",
        "            d_model=d_model,\n",
        "            nhead=nhead,\n",
        "            num_encoder_layers=num_layers,\n",
        "            num_decoder_layers=num_layers,\n",
        "            dim_feedforward=dim_feedforward,\n",
        "            dropout=dropout,\n",
        "            batch_first=True\n",
        "        )\n",
        "        self.fc_out = nn.Linear(d_model, 1)\n",
        "\n",
        "    def forward(self, src):\n",
        "        src_emb = self.input_embedding(src) + self.positional_encoding[:, :src.size(1), :]\n",
        "        src_emb = src_emb.permute(1, 0, 2)\n",
        "        transformer_out = self.transformer(src_emb, src_emb)\n",
        "        output = self.fc_out(transformer_out[-1, :, :])\n",
        "        return output.squeeze(-1)"
      ]
    },
    {
      "cell_type": "markdown",
      "metadata": {
        "id": "MofOJ5kcMAyF"
      },
      "source": [
        "# Building Dataloader"
      ]
    },
    {
      "cell_type": "code",
      "execution_count": 7,
      "metadata": {
        "id": "vOZ_DGvDMAyF"
      },
      "outputs": [],
      "source": [
        "class CMAPSSLoaderDataset(Dataset):\n",
        "    def __init__(self, data, sequence_length):\n",
        "        self.data = data\n",
        "        self.sequence_length = sequence_length\n",
        "        self.sequences = []\n",
        "        self.targets = []\n",
        "\n",
        "        grouped = data.groupby('ID Engine')\n",
        "        for _, group in grouped:\n",
        "            values = group.drop(['ID Engine', 'Cycle', 'Setting 1', 'Setting 2', 'Setting 3','Remaining RUL'], axis=1).values\n",
        "            rul_values = group['Remaining RUL'].values\n",
        "\n",
        "            for i in range(len(values) - sequence_length + 1):\n",
        "                self.sequences.append(values[i:i + sequence_length])\n",
        "                self.targets.append(rul_values[i + sequence_length - 1])\n",
        "\n",
        "    def __len__(self):\n",
        "\n",
        "        return len(self.sequences)\n",
        "\n",
        "    def __getitem__(self, idx):\n",
        "        return (\n",
        "            torch.tensor(self.sequences[idx], dtype=torch.float32),\n",
        "            torch.tensor(self.targets[idx], dtype=torch.float32),\n",
        "        )"
      ]
    },
    {
      "cell_type": "markdown",
      "metadata": {
        "id": "uUlltooqMAyF"
      },
      "source": [
        "# Define parameters for training"
      ]
    },
    {
      "cell_type": "code",
      "execution_count": 8,
      "metadata": {
        "id": "0TC27RxyMAyF"
      },
      "outputs": [],
      "source": [
        "# Transformer parameters\n",
        "input_dim = 21\n",
        "d_model = 64\n",
        "nhead = 4\n",
        "num_layers = 2\n",
        "dim_feedforward = 256\n",
        "dropout = 0.1\n",
        "learning_rate = 1e-3\n",
        "verbose=False\n",
        "\n",
        "# Dataloader parameters\n",
        "sequence_length = 30\n",
        "\n",
        "# Training parameters\n",
        "batch_size = 128\n",
        "epochs = 50"
      ]
    },
    {
      "cell_type": "markdown",
      "metadata": {
        "id": "fLLW79nlMAyG"
      },
      "source": [
        "# Define training/test functions"
      ]
    },
    {
      "cell_type": "code",
      "execution_count": 9,
      "metadata": {
        "id": "M_DmheohMAyG"
      },
      "outputs": [],
      "source": [
        "def train_model(model, client_loader_train, client_loader_validation: None, epochs: int, learning_rate: int, verbose=False):\n",
        "    model = model.to(DEVICE)\n",
        "    criterion = nn.MSELoss()\n",
        "    optimizer = torch.optim.Adam(model.parameters(), lr=learning_rate)\n",
        "\n",
        "    for epoch in range(epochs):\n",
        "        model.train()\n",
        "        train_loss = 0\n",
        "        for batch in client_loader_train:\n",
        "            seq, target = batch\n",
        "            seq, target = seq.to(DEVICE), target.to(DEVICE)\n",
        "            optimizer.zero_grad()\n",
        "            output = model(seq)\n",
        "            loss = criterion(output, target)\n",
        "            loss.backward()\n",
        "            optimizer.step()\n",
        "            train_loss += loss.item()\n",
        "        val_loss = 0\n",
        "        model.eval()\n",
        "        with torch.no_grad():\n",
        "            for batch in client_loader_validation:\n",
        "                seq, target = batch\n",
        "                seq, target = seq.to(DEVICE), target.to(DEVICE)\n",
        "                output = model(seq)\n",
        "                loss = criterion(output, target)\n",
        "                val_loss += loss.item()\n",
        "        print(f\"Epoch {epoch+1}/{epochs}, Train Loss: {train_loss/len(client_loader_train)}, Validation Loss: {val_loss/len(client_loader_validation)}\")"
      ]
    },
    {
      "cell_type": "code",
      "execution_count": 10,
      "metadata": {
        "id": "wAImKs32MAyG"
      },
      "outputs": [],
      "source": [
        "def test_model(model, client_loader_validation, return_actual_rul=False, show_fig=False):\n",
        "    criterion = nn.MSELoss()\n",
        "\n",
        "    samples, targets = next(iter(client_loader_validation))\n",
        "    samples, targets = samples.to(DEVICE), targets.to(DEVICE)\n",
        "\n",
        "    model.eval()\n",
        "    val_loss = 0\n",
        "    accuracy = 0\n",
        "    with torch.no_grad():\n",
        "        for batch in client_loader_validation:\n",
        "            samples, targets = batch\n",
        "            samples, targets = samples.to(DEVICE), targets.to(DEVICE)\n",
        "            predictions = model(samples)\n",
        "            val_loss += criterion(predictions, targets).item()\n",
        "    return val_loss/len(client_loader_validation)"
      ]
    },
    {
      "cell_type": "markdown",
      "metadata": {
        "id": "HUo0_klUMAyG"
      },
      "source": [
        "# Define prediction functions"
      ]
    },
    {
      "cell_type": "markdown",
      "metadata": {
        "id": "poU0s6olMAyG"
      },
      "source": [
        "### Prediction on a batch"
      ]
    },
    {
      "cell_type": "code",
      "execution_count": 11,
      "metadata": {
        "id": "BpY8ZLQjMAyG"
      },
      "outputs": [],
      "source": [
        "def predict_on_batch(model, batch_loader, return_actual_rul=False, show_fig=False):\n",
        "    criterion = nn.MSELoss()\n",
        "    samples, targets = batch_loader\n",
        "    samples, targets = samples.to(DEVICE), targets.to(DEVICE)\n",
        "\n",
        "    model.eval()\n",
        "    loss = 0\n",
        "    with torch.no_grad():\n",
        "        predictions = model(samples)\n",
        "    loss = criterion(predictions, targets)\n",
        "\n",
        "    if return_actual_rul:\n",
        "        samples = samples.cpu()\n",
        "        targets = targets.cpu()\n",
        "\n",
        "        rul_min = scaler.data_min_[-1]\n",
        "        rul_max = scaler.data_max_[-1]\n",
        "\n",
        "        predictions = predictions.cpu()\n",
        "        actual_predictions = predictions.numpy() * (rul_max - rul_min) + rul_min\n",
        "        actual_targets = targets.numpy() * (rul_max - rul_min) + rul_min\n",
        "\n",
        "        if show_fig:\n",
        "            plt.figure(figsize=(10, 6))\n",
        "            plt.plot(range(len(actual_predictions)), actual_predictions, label=\"Predicted RUL\", marker='o', linestyle='-')\n",
        "            plt.plot(range(len(actual_targets)), actual_targets, label=\"Actual RUL\", marker='x', linestyle='--')\n",
        "            plt.title(\"Comparison of Predicted and Actual RUL\")\n",
        "            plt.xlabel(\"Sample Index\")\n",
        "            plt.ylabel(\"Remaining Useful Life (RUL)\")\n",
        "            plt.legend()\n",
        "            plt.grid(True)\n",
        "            plt.show()\n",
        "\n",
        "        return loss, actual_predictions, actual_targets\n",
        "\n",
        "    return loss"
      ]
    },
    {
      "cell_type": "markdown",
      "metadata": {
        "id": "EcUDCjUJMAyG"
      },
      "source": [
        "### Prediction on a sample"
      ]
    },
    {
      "cell_type": "code",
      "execution_count": 11,
      "metadata": {
        "id": "fGf0T_-RMAyH"
      },
      "outputs": [],
      "source": []
    },
    {
      "cell_type": "markdown",
      "metadata": {
        "id": "Fg8XtAIsMAyH"
      },
      "source": [
        "# File paths"
      ]
    },
    {
      "cell_type": "code",
      "execution_count": 12,
      "metadata": {
        "id": "NoA5alN6MAyH"
      },
      "outputs": [],
      "source": [
        "if not IN_COLAB:\n",
        "    train_1_path = \"../data/train_FD001.txt\"\n",
        "    test_1_path = \"../data/test_FD001.txt\"\n",
        "    rul_1_path = \"../data/RUL_FD001.txt\"\n",
        "\n",
        "    train_2_path = \"../data/train_FD002.txt\"\n",
        "    test_2_path = \"../data/test_FD002.txt\"\n",
        "    rul_2_path = \"../data/RUL_FD002.txt\"\n",
        "\n",
        "    train_3_path = \"../data/train_FD003.txt\"\n",
        "    test_3_path = \"../data/test_FD003.txt\"\n",
        "    rul_3_path = \"../data/RUL_FD003.txt\"\n",
        "\n",
        "    train_4_path = \"../data/train_FD004.txt\"\n",
        "    test_4_path = \"../data/test_FD004.txt\"\n",
        "    rul_4_path = \"../data/RUL_FD004.txt\"\n",
        "    \n",
        "elif IN_COLAB:\n",
        "    train_1_path = \"/content/drive/MyDrive/Colab Notebooks/RUL_prediction_using_Transformer/train_FD001.txt\"\n",
        "    test_1_path = \"/content/drive/MyDrive/Colab Notebooks/RUL_prediction_using_Transformer/test_FD001.txt\"\n",
        "    rul_1_path = \"/content/drive/MyDrive/Colab Notebooks/RUL_prediction_using_Transformer/RUL_FD001.txt\"\n",
        "\n",
        "    train_2_path = \"/content/drive/MyDrive/Colab Notebooks/RUL_prediction_using_Transformer/train_FD002.txt\"\n",
        "    test_2_path = \"/content/drive/MyDrive/Colab Notebooks/RUL_prediction_using_Transformer/test_FD002.txt\"\n",
        "    rul_2_path = \"/content/drive/MyDrive/Colab Notebooks/RUL_prediction_using_Transformer/RUL_FD002.txt\"\n",
        "\n",
        "    train_3_path = \"/content/drive/MyDrive/Colab Notebooks/RUL_prediction_using_Transformer/train_FD003.txt\"\n",
        "    test_3_path = \"/content/drive/MyDrive/Colab Notebooks/RUL_prediction_using_Transformer/test_FD003.txt\"\n",
        "    rul_3_path = \"/content/drive/MyDrive/Colab Notebooks/RUL_prediction_using_Transformer/RUL_FD003.txt\"\n",
        "\n",
        "    train_4_path = \"/content/drive/MyDrive/Colab Notebooks/RUL_prediction_using_Transformer/train_FD004.txt\"\n",
        "    test_4_path = \"/content/drive/MyDrive/Colab Notebooks/RUL_prediction_using_Transformer/test_FD004.txt\"\n",
        "    rul_4_path = \"/content/drive/MyDrive/Colab Notebooks/RUL_prediction_using_Transformer/RUL_FD004.txt\""
      ]
    },
    {
      "cell_type": "code",
      "execution_count": 13,
      "metadata": {},
      "outputs": [],
      "source": [
        "# Initialization columns\n",
        "index_names = ['ID Engine', 'Cycle']\n",
        "setting_names = ['Setting 1', 'Setting 2', 'Setting 3']\n",
        "sensor_names = ['Sensor {}'.format(i) for i in range(1, 22)]\n",
        "column_names = index_names + setting_names + sensor_names"
      ]
    },
    {
      "cell_type": "markdown",
      "metadata": {
        "id": "Wp3n8jv4MAyH"
      },
      "source": [
        "# Calculate RUL for FD001"
      ]
    },
    {
      "cell_type": "markdown",
      "metadata": {},
      "source": [
        "### Calculate RUL for train set"
      ]
    },
    {
      "cell_type": "code",
      "execution_count": 14,
      "metadata": {
        "id": "g4Z2gsHhMAyH"
      },
      "outputs": [],
      "source": [
        "# Load trainset\n",
        "train_1 = pd.read_csv(train_1_path, sep=' ', header=None)\n",
        "train_1.drop([26, 27], axis=1, inplace=True)\n",
        "train_1.columns = column_names\n",
        "\n",
        "train_1['Remaining RUL'] = ''\n",
        "# train_1.head()"
      ]
    },
    {
      "cell_type": "code",
      "execution_count": 15,
      "metadata": {
        "colab": {
          "base_uri": "https://localhost:8080/"
        },
        "id": "-7SrC16fMAyH",
        "outputId": "102369b0-610b-44bc-feff-26f024af4601"
      },
      "outputs": [
        {
          "name": "stdout",
          "output_type": "stream",
          "text": [
            "trainset shape: (20631, 27)\n"
          ]
        }
      ],
      "source": [
        "# Calculate the remaining RUL for each engine\n",
        "max_cycle_1 = train_1.groupby('ID Engine').count()\n",
        "for idx in range(len(train_1)):\n",
        "    train_1.loc[idx, 'Remaining RUL'] = max_cycle_1.loc[train_1.loc[idx, 'ID Engine'], 'Cycle']\n",
        "train_1['Remaining RUL'] = train_1['Remaining RUL'] - train_1['Cycle']\n",
        "\n",
        "print(f\"trainset shape: {train_1.shape}\")"
      ]
    },
    {
      "cell_type": "code",
      "execution_count": 16,
      "metadata": {
        "colab": {
          "base_uri": "https://localhost:8080/",
          "height": 0
        },
        "id": "3qppLFRiMAyI",
        "outputId": "c9b3bd07-438d-4f7b-bb69-3111085697c5"
      },
      "outputs": [
        {
          "data": {
            "text/html": [
              "<div>\n",
              "<style scoped>\n",
              "    .dataframe tbody tr th:only-of-type {\n",
              "        vertical-align: middle;\n",
              "    }\n",
              "\n",
              "    .dataframe tbody tr th {\n",
              "        vertical-align: top;\n",
              "    }\n",
              "\n",
              "    .dataframe thead th {\n",
              "        text-align: right;\n",
              "    }\n",
              "</style>\n",
              "<table border=\"1\" class=\"dataframe\">\n",
              "  <thead>\n",
              "    <tr style=\"text-align: right;\">\n",
              "      <th></th>\n",
              "      <th>ID Engine</th>\n",
              "      <th>Cycle</th>\n",
              "      <th>Setting 1</th>\n",
              "      <th>Setting 2</th>\n",
              "      <th>Setting 3</th>\n",
              "      <th>Sensor 1</th>\n",
              "      <th>Sensor 2</th>\n",
              "      <th>Sensor 3</th>\n",
              "      <th>Sensor 4</th>\n",
              "      <th>Sensor 5</th>\n",
              "      <th>...</th>\n",
              "      <th>Sensor 13</th>\n",
              "      <th>Sensor 14</th>\n",
              "      <th>Sensor 15</th>\n",
              "      <th>Sensor 16</th>\n",
              "      <th>Sensor 17</th>\n",
              "      <th>Sensor 18</th>\n",
              "      <th>Sensor 19</th>\n",
              "      <th>Sensor 20</th>\n",
              "      <th>Sensor 21</th>\n",
              "      <th>Remaining RUL</th>\n",
              "    </tr>\n",
              "  </thead>\n",
              "  <tbody>\n",
              "    <tr>\n",
              "      <th>0</th>\n",
              "      <td>1</td>\n",
              "      <td>1</td>\n",
              "      <td>-0.0007</td>\n",
              "      <td>-0.0004</td>\n",
              "      <td>100.0</td>\n",
              "      <td>518.67</td>\n",
              "      <td>641.82</td>\n",
              "      <td>1589.70</td>\n",
              "      <td>1400.60</td>\n",
              "      <td>14.62</td>\n",
              "      <td>...</td>\n",
              "      <td>2388.02</td>\n",
              "      <td>8138.62</td>\n",
              "      <td>8.4195</td>\n",
              "      <td>0.03</td>\n",
              "      <td>392</td>\n",
              "      <td>2388</td>\n",
              "      <td>100.0</td>\n",
              "      <td>39.06</td>\n",
              "      <td>23.4190</td>\n",
              "      <td>191</td>\n",
              "    </tr>\n",
              "    <tr>\n",
              "      <th>1</th>\n",
              "      <td>1</td>\n",
              "      <td>2</td>\n",
              "      <td>0.0019</td>\n",
              "      <td>-0.0003</td>\n",
              "      <td>100.0</td>\n",
              "      <td>518.67</td>\n",
              "      <td>642.15</td>\n",
              "      <td>1591.82</td>\n",
              "      <td>1403.14</td>\n",
              "      <td>14.62</td>\n",
              "      <td>...</td>\n",
              "      <td>2388.07</td>\n",
              "      <td>8131.49</td>\n",
              "      <td>8.4318</td>\n",
              "      <td>0.03</td>\n",
              "      <td>392</td>\n",
              "      <td>2388</td>\n",
              "      <td>100.0</td>\n",
              "      <td>39.00</td>\n",
              "      <td>23.4236</td>\n",
              "      <td>190</td>\n",
              "    </tr>\n",
              "    <tr>\n",
              "      <th>2</th>\n",
              "      <td>1</td>\n",
              "      <td>3</td>\n",
              "      <td>-0.0043</td>\n",
              "      <td>0.0003</td>\n",
              "      <td>100.0</td>\n",
              "      <td>518.67</td>\n",
              "      <td>642.35</td>\n",
              "      <td>1587.99</td>\n",
              "      <td>1404.20</td>\n",
              "      <td>14.62</td>\n",
              "      <td>...</td>\n",
              "      <td>2388.03</td>\n",
              "      <td>8133.23</td>\n",
              "      <td>8.4178</td>\n",
              "      <td>0.03</td>\n",
              "      <td>390</td>\n",
              "      <td>2388</td>\n",
              "      <td>100.0</td>\n",
              "      <td>38.95</td>\n",
              "      <td>23.3442</td>\n",
              "      <td>189</td>\n",
              "    </tr>\n",
              "    <tr>\n",
              "      <th>3</th>\n",
              "      <td>1</td>\n",
              "      <td>4</td>\n",
              "      <td>0.0007</td>\n",
              "      <td>0.0000</td>\n",
              "      <td>100.0</td>\n",
              "      <td>518.67</td>\n",
              "      <td>642.35</td>\n",
              "      <td>1582.79</td>\n",
              "      <td>1401.87</td>\n",
              "      <td>14.62</td>\n",
              "      <td>...</td>\n",
              "      <td>2388.08</td>\n",
              "      <td>8133.83</td>\n",
              "      <td>8.3682</td>\n",
              "      <td>0.03</td>\n",
              "      <td>392</td>\n",
              "      <td>2388</td>\n",
              "      <td>100.0</td>\n",
              "      <td>38.88</td>\n",
              "      <td>23.3739</td>\n",
              "      <td>188</td>\n",
              "    </tr>\n",
              "    <tr>\n",
              "      <th>4</th>\n",
              "      <td>1</td>\n",
              "      <td>5</td>\n",
              "      <td>-0.0019</td>\n",
              "      <td>-0.0002</td>\n",
              "      <td>100.0</td>\n",
              "      <td>518.67</td>\n",
              "      <td>642.37</td>\n",
              "      <td>1582.85</td>\n",
              "      <td>1406.22</td>\n",
              "      <td>14.62</td>\n",
              "      <td>...</td>\n",
              "      <td>2388.04</td>\n",
              "      <td>8133.80</td>\n",
              "      <td>8.4294</td>\n",
              "      <td>0.03</td>\n",
              "      <td>393</td>\n",
              "      <td>2388</td>\n",
              "      <td>100.0</td>\n",
              "      <td>38.90</td>\n",
              "      <td>23.4044</td>\n",
              "      <td>187</td>\n",
              "    </tr>\n",
              "  </tbody>\n",
              "</table>\n",
              "<p>5 rows × 27 columns</p>\n",
              "</div>"
            ],
            "text/plain": [
              "   ID Engine  Cycle  Setting 1  Setting 2  Setting 3  Sensor 1  Sensor 2  \\\n",
              "0          1      1    -0.0007    -0.0004      100.0    518.67    641.82   \n",
              "1          1      2     0.0019    -0.0003      100.0    518.67    642.15   \n",
              "2          1      3    -0.0043     0.0003      100.0    518.67    642.35   \n",
              "3          1      4     0.0007     0.0000      100.0    518.67    642.35   \n",
              "4          1      5    -0.0019    -0.0002      100.0    518.67    642.37   \n",
              "\n",
              "   Sensor 3  Sensor 4  Sensor 5  ...  Sensor 13  Sensor 14  Sensor 15  \\\n",
              "0   1589.70   1400.60     14.62  ...    2388.02    8138.62     8.4195   \n",
              "1   1591.82   1403.14     14.62  ...    2388.07    8131.49     8.4318   \n",
              "2   1587.99   1404.20     14.62  ...    2388.03    8133.23     8.4178   \n",
              "3   1582.79   1401.87     14.62  ...    2388.08    8133.83     8.3682   \n",
              "4   1582.85   1406.22     14.62  ...    2388.04    8133.80     8.4294   \n",
              "\n",
              "   Sensor 16  Sensor 17  Sensor 18  Sensor 19  Sensor 20  Sensor 21  \\\n",
              "0       0.03        392       2388      100.0      39.06    23.4190   \n",
              "1       0.03        392       2388      100.0      39.00    23.4236   \n",
              "2       0.03        390       2388      100.0      38.95    23.3442   \n",
              "3       0.03        392       2388      100.0      38.88    23.3739   \n",
              "4       0.03        393       2388      100.0      38.90    23.4044   \n",
              "\n",
              "   Remaining RUL  \n",
              "0            191  \n",
              "1            190  \n",
              "2            189  \n",
              "3            188  \n",
              "4            187  \n",
              "\n",
              "[5 rows x 27 columns]"
            ]
          },
          "execution_count": 16,
          "metadata": {},
          "output_type": "execute_result"
        }
      ],
      "source": [
        "train_1.head()"
      ]
    },
    {
      "cell_type": "markdown",
      "metadata": {
        "id": "mhXW7sjEMAyI"
      },
      "source": [
        "### Load RUL set"
      ]
    },
    {
      "cell_type": "code",
      "execution_count": 17,
      "metadata": {
        "colab": {
          "base_uri": "https://localhost:8080/"
        },
        "id": "UzSU4pRhMAyI",
        "outputId": "963152c3-afca-402d-a7fc-c3ef27793cd2"
      },
      "outputs": [
        {
          "name": "stdout",
          "output_type": "stream",
          "text": [
            "RUL shape: (100, 1)\n"
          ]
        }
      ],
      "source": [
        "rul_1 = pd.read_csv(rul_1_path, sep=' ', header=None)\n",
        "rul_1.drop(rul_1.columns[1], axis=1, inplace=True)\n",
        "rul_1.columns = ['RUL']\n",
        "print(f'RUL shape: {rul_1.shape}')"
      ]
    },
    {
      "cell_type": "markdown",
      "metadata": {
        "id": "Prm8__JfMAyI"
      },
      "source": [
        "Tập RUL này là vòng đời còn lại của động cơ sau khi trải qua số lượng chu kỳ nhất định trong tập test (tương ứng)"
      ]
    },
    {
      "cell_type": "code",
      "execution_count": 18,
      "metadata": {
        "colab": {
          "base_uri": "https://localhost:8080/",
          "height": 0
        },
        "id": "fEYsXc7dMAyJ",
        "outputId": "ed4a9387-1459-45d4-d267-93cc17aa376a"
      },
      "outputs": [
        {
          "data": {
            "text/html": [
              "<div>\n",
              "<style scoped>\n",
              "    .dataframe tbody tr th:only-of-type {\n",
              "        vertical-align: middle;\n",
              "    }\n",
              "\n",
              "    .dataframe tbody tr th {\n",
              "        vertical-align: top;\n",
              "    }\n",
              "\n",
              "    .dataframe thead th {\n",
              "        text-align: right;\n",
              "    }\n",
              "</style>\n",
              "<table border=\"1\" class=\"dataframe\">\n",
              "  <thead>\n",
              "    <tr style=\"text-align: right;\">\n",
              "      <th></th>\n",
              "      <th>RUL</th>\n",
              "    </tr>\n",
              "  </thead>\n",
              "  <tbody>\n",
              "    <tr>\n",
              "      <th>0</th>\n",
              "      <td>112</td>\n",
              "    </tr>\n",
              "    <tr>\n",
              "      <th>1</th>\n",
              "      <td>98</td>\n",
              "    </tr>\n",
              "    <tr>\n",
              "      <th>2</th>\n",
              "      <td>69</td>\n",
              "    </tr>\n",
              "    <tr>\n",
              "      <th>3</th>\n",
              "      <td>82</td>\n",
              "    </tr>\n",
              "    <tr>\n",
              "      <th>4</th>\n",
              "      <td>91</td>\n",
              "    </tr>\n",
              "  </tbody>\n",
              "</table>\n",
              "</div>"
            ],
            "text/plain": [
              "   RUL\n",
              "0  112\n",
              "1   98\n",
              "2   69\n",
              "3   82\n",
              "4   91"
            ]
          },
          "execution_count": 18,
          "metadata": {},
          "output_type": "execute_result"
        }
      ],
      "source": [
        "rul_1.head()"
      ]
    },
    {
      "cell_type": "markdown",
      "metadata": {
        "id": "9uqS8lkPMAyJ"
      },
      "source": [
        "### Calculate RUL for test"
      ]
    },
    {
      "cell_type": "code",
      "execution_count": 19,
      "metadata": {
        "colab": {
          "base_uri": "https://localhost:8080/"
        },
        "id": "l1CugO7TMAyJ",
        "outputId": "ca91699b-8d09-4012-8f19-40f4bc23fdba"
      },
      "outputs": [],
      "source": [
        "# Load test set\n",
        "test_1 = pd.read_csv(test_1_path, sep=' ', header=None)\n",
        "test_1.drop([26, 27], axis=1, inplace=True)\n",
        "test_1.columns = column_names\n",
        "\n",
        "test_1['Remaining RUL'] = ''\n",
        "# test_1.head()"
      ]
    },
    {
      "cell_type": "code",
      "execution_count": 20,
      "metadata": {
        "colab": {
          "base_uri": "https://localhost:8080/"
        },
        "id": "6dTygyMtMAyJ",
        "outputId": "50229fc5-16d6-44d3-944f-c9ee9460f192"
      },
      "outputs": [],
      "source": [
        "max_cycle_test_1 = test_1.groupby('ID Engine').count()\n",
        "\n",
        "for idx in range(len(test_1)):\n",
        "    test_1.loc[idx, 'Remaining RUL'] = rul_1.loc[test_1.loc[idx, 'ID Engine'] - 1, 'RUL'] + max_cycle_test_1.loc[test_1.loc[idx, 'ID Engine'], 'Cycle']\n",
        "test_1['Remaining RUL'] = test_1['Remaining RUL'] - test_1['Cycle']"
      ]
    },
    {
      "cell_type": "code",
      "execution_count": 21,
      "metadata": {
        "colab": {
          "base_uri": "https://localhost:8080/",
          "height": 0
        },
        "id": "rIVfgCQyMAyJ",
        "outputId": "32d9835b-970b-484d-b96b-d9b342a853ea"
      },
      "outputs": [
        {
          "data": {
            "text/html": [
              "<div>\n",
              "<style scoped>\n",
              "    .dataframe tbody tr th:only-of-type {\n",
              "        vertical-align: middle;\n",
              "    }\n",
              "\n",
              "    .dataframe tbody tr th {\n",
              "        vertical-align: top;\n",
              "    }\n",
              "\n",
              "    .dataframe thead th {\n",
              "        text-align: right;\n",
              "    }\n",
              "</style>\n",
              "<table border=\"1\" class=\"dataframe\">\n",
              "  <thead>\n",
              "    <tr style=\"text-align: right;\">\n",
              "      <th></th>\n",
              "      <th>ID Engine</th>\n",
              "      <th>Cycle</th>\n",
              "      <th>Setting 1</th>\n",
              "      <th>Setting 2</th>\n",
              "      <th>Setting 3</th>\n",
              "      <th>Sensor 1</th>\n",
              "      <th>Sensor 2</th>\n",
              "      <th>Sensor 3</th>\n",
              "      <th>Sensor 4</th>\n",
              "      <th>Sensor 5</th>\n",
              "      <th>...</th>\n",
              "      <th>Sensor 13</th>\n",
              "      <th>Sensor 14</th>\n",
              "      <th>Sensor 15</th>\n",
              "      <th>Sensor 16</th>\n",
              "      <th>Sensor 17</th>\n",
              "      <th>Sensor 18</th>\n",
              "      <th>Sensor 19</th>\n",
              "      <th>Sensor 20</th>\n",
              "      <th>Sensor 21</th>\n",
              "      <th>Remaining RUL</th>\n",
              "    </tr>\n",
              "  </thead>\n",
              "  <tbody>\n",
              "    <tr>\n",
              "      <th>0</th>\n",
              "      <td>1</td>\n",
              "      <td>1</td>\n",
              "      <td>0.0023</td>\n",
              "      <td>0.0003</td>\n",
              "      <td>100.0</td>\n",
              "      <td>518.67</td>\n",
              "      <td>643.02</td>\n",
              "      <td>1585.29</td>\n",
              "      <td>1398.21</td>\n",
              "      <td>14.62</td>\n",
              "      <td>...</td>\n",
              "      <td>2388.03</td>\n",
              "      <td>8125.55</td>\n",
              "      <td>8.4052</td>\n",
              "      <td>0.03</td>\n",
              "      <td>392</td>\n",
              "      <td>2388</td>\n",
              "      <td>100.0</td>\n",
              "      <td>38.86</td>\n",
              "      <td>23.3735</td>\n",
              "      <td>142</td>\n",
              "    </tr>\n",
              "    <tr>\n",
              "      <th>1</th>\n",
              "      <td>1</td>\n",
              "      <td>2</td>\n",
              "      <td>-0.0027</td>\n",
              "      <td>-0.0003</td>\n",
              "      <td>100.0</td>\n",
              "      <td>518.67</td>\n",
              "      <td>641.71</td>\n",
              "      <td>1588.45</td>\n",
              "      <td>1395.42</td>\n",
              "      <td>14.62</td>\n",
              "      <td>...</td>\n",
              "      <td>2388.06</td>\n",
              "      <td>8139.62</td>\n",
              "      <td>8.3803</td>\n",
              "      <td>0.03</td>\n",
              "      <td>393</td>\n",
              "      <td>2388</td>\n",
              "      <td>100.0</td>\n",
              "      <td>39.02</td>\n",
              "      <td>23.3916</td>\n",
              "      <td>141</td>\n",
              "    </tr>\n",
              "    <tr>\n",
              "      <th>2</th>\n",
              "      <td>1</td>\n",
              "      <td>3</td>\n",
              "      <td>0.0003</td>\n",
              "      <td>0.0001</td>\n",
              "      <td>100.0</td>\n",
              "      <td>518.67</td>\n",
              "      <td>642.46</td>\n",
              "      <td>1586.94</td>\n",
              "      <td>1401.34</td>\n",
              "      <td>14.62</td>\n",
              "      <td>...</td>\n",
              "      <td>2388.03</td>\n",
              "      <td>8130.10</td>\n",
              "      <td>8.4441</td>\n",
              "      <td>0.03</td>\n",
              "      <td>393</td>\n",
              "      <td>2388</td>\n",
              "      <td>100.0</td>\n",
              "      <td>39.08</td>\n",
              "      <td>23.4166</td>\n",
              "      <td>140</td>\n",
              "    </tr>\n",
              "    <tr>\n",
              "      <th>3</th>\n",
              "      <td>1</td>\n",
              "      <td>4</td>\n",
              "      <td>0.0042</td>\n",
              "      <td>0.0000</td>\n",
              "      <td>100.0</td>\n",
              "      <td>518.67</td>\n",
              "      <td>642.44</td>\n",
              "      <td>1584.12</td>\n",
              "      <td>1406.42</td>\n",
              "      <td>14.62</td>\n",
              "      <td>...</td>\n",
              "      <td>2388.05</td>\n",
              "      <td>8132.90</td>\n",
              "      <td>8.3917</td>\n",
              "      <td>0.03</td>\n",
              "      <td>391</td>\n",
              "      <td>2388</td>\n",
              "      <td>100.0</td>\n",
              "      <td>39.00</td>\n",
              "      <td>23.3737</td>\n",
              "      <td>139</td>\n",
              "    </tr>\n",
              "    <tr>\n",
              "      <th>4</th>\n",
              "      <td>1</td>\n",
              "      <td>5</td>\n",
              "      <td>0.0014</td>\n",
              "      <td>0.0000</td>\n",
              "      <td>100.0</td>\n",
              "      <td>518.67</td>\n",
              "      <td>642.51</td>\n",
              "      <td>1587.19</td>\n",
              "      <td>1401.92</td>\n",
              "      <td>14.62</td>\n",
              "      <td>...</td>\n",
              "      <td>2388.03</td>\n",
              "      <td>8129.54</td>\n",
              "      <td>8.4031</td>\n",
              "      <td>0.03</td>\n",
              "      <td>390</td>\n",
              "      <td>2388</td>\n",
              "      <td>100.0</td>\n",
              "      <td>38.99</td>\n",
              "      <td>23.4130</td>\n",
              "      <td>138</td>\n",
              "    </tr>\n",
              "  </tbody>\n",
              "</table>\n",
              "<p>5 rows × 27 columns</p>\n",
              "</div>"
            ],
            "text/plain": [
              "   ID Engine  Cycle  Setting 1  Setting 2  Setting 3  Sensor 1  Sensor 2  \\\n",
              "0          1      1     0.0023     0.0003      100.0    518.67    643.02   \n",
              "1          1      2    -0.0027    -0.0003      100.0    518.67    641.71   \n",
              "2          1      3     0.0003     0.0001      100.0    518.67    642.46   \n",
              "3          1      4     0.0042     0.0000      100.0    518.67    642.44   \n",
              "4          1      5     0.0014     0.0000      100.0    518.67    642.51   \n",
              "\n",
              "   Sensor 3  Sensor 4  Sensor 5  ...  Sensor 13  Sensor 14  Sensor 15  \\\n",
              "0   1585.29   1398.21     14.62  ...    2388.03    8125.55     8.4052   \n",
              "1   1588.45   1395.42     14.62  ...    2388.06    8139.62     8.3803   \n",
              "2   1586.94   1401.34     14.62  ...    2388.03    8130.10     8.4441   \n",
              "3   1584.12   1406.42     14.62  ...    2388.05    8132.90     8.3917   \n",
              "4   1587.19   1401.92     14.62  ...    2388.03    8129.54     8.4031   \n",
              "\n",
              "   Sensor 16  Sensor 17  Sensor 18  Sensor 19  Sensor 20  Sensor 21  \\\n",
              "0       0.03        392       2388      100.0      38.86    23.3735   \n",
              "1       0.03        393       2388      100.0      39.02    23.3916   \n",
              "2       0.03        393       2388      100.0      39.08    23.4166   \n",
              "3       0.03        391       2388      100.0      39.00    23.3737   \n",
              "4       0.03        390       2388      100.0      38.99    23.4130   \n",
              "\n",
              "   Remaining RUL  \n",
              "0            142  \n",
              "1            141  \n",
              "2            140  \n",
              "3            139  \n",
              "4            138  \n",
              "\n",
              "[5 rows x 27 columns]"
            ]
          },
          "execution_count": 21,
          "metadata": {},
          "output_type": "execute_result"
        }
      ],
      "source": [
        "test_1.head()"
      ]
    },
    {
      "cell_type": "markdown",
      "metadata": {},
      "source": [
        "# Calculate RUL for FD002"
      ]
    },
    {
      "cell_type": "markdown",
      "metadata": {},
      "source": [
        "### Calculate RUL for train set"
      ]
    },
    {
      "cell_type": "code",
      "execution_count": 22,
      "metadata": {},
      "outputs": [],
      "source": [
        "# Load trainset\n",
        "train_2 = pd.read_csv(train_2_path, sep=' ', header=None)\n",
        "train_2.drop([26, 27], axis=1, inplace=True)\n",
        "train_2.columns = column_names\n",
        "\n",
        "train_2['Remaining RUL'] = ''\n",
        "# train_2.head()"
      ]
    },
    {
      "cell_type": "code",
      "execution_count": 23,
      "metadata": {},
      "outputs": [
        {
          "name": "stdout",
          "output_type": "stream",
          "text": [
            "trainset shape: (53759, 27)\n"
          ]
        }
      ],
      "source": [
        "# Calculate the remaining RUL for each engine\n",
        "max_cycle_2 = train_2.groupby('ID Engine').count()\n",
        "for idx in range(len(train_2)):\n",
        "    train_2.loc[idx, 'Remaining RUL'] = max_cycle_2.loc[train_2.loc[idx, 'ID Engine'], 'Cycle']\n",
        "train_2['Remaining RUL'] = train_2['Remaining RUL'] - train_2['Cycle']\n",
        "\n",
        "print(f\"trainset shape: {train_2.shape}\")"
      ]
    },
    {
      "cell_type": "code",
      "execution_count": 24,
      "metadata": {},
      "outputs": [
        {
          "data": {
            "text/html": [
              "<div>\n",
              "<style scoped>\n",
              "    .dataframe tbody tr th:only-of-type {\n",
              "        vertical-align: middle;\n",
              "    }\n",
              "\n",
              "    .dataframe tbody tr th {\n",
              "        vertical-align: top;\n",
              "    }\n",
              "\n",
              "    .dataframe thead th {\n",
              "        text-align: right;\n",
              "    }\n",
              "</style>\n",
              "<table border=\"1\" class=\"dataframe\">\n",
              "  <thead>\n",
              "    <tr style=\"text-align: right;\">\n",
              "      <th></th>\n",
              "      <th>ID Engine</th>\n",
              "      <th>Cycle</th>\n",
              "      <th>Setting 1</th>\n",
              "      <th>Setting 2</th>\n",
              "      <th>Setting 3</th>\n",
              "      <th>Sensor 1</th>\n",
              "      <th>Sensor 2</th>\n",
              "      <th>Sensor 3</th>\n",
              "      <th>Sensor 4</th>\n",
              "      <th>Sensor 5</th>\n",
              "      <th>...</th>\n",
              "      <th>Sensor 13</th>\n",
              "      <th>Sensor 14</th>\n",
              "      <th>Sensor 15</th>\n",
              "      <th>Sensor 16</th>\n",
              "      <th>Sensor 17</th>\n",
              "      <th>Sensor 18</th>\n",
              "      <th>Sensor 19</th>\n",
              "      <th>Sensor 20</th>\n",
              "      <th>Sensor 21</th>\n",
              "      <th>Remaining RUL</th>\n",
              "    </tr>\n",
              "  </thead>\n",
              "  <tbody>\n",
              "    <tr>\n",
              "      <th>0</th>\n",
              "      <td>1</td>\n",
              "      <td>1</td>\n",
              "      <td>34.9983</td>\n",
              "      <td>0.8400</td>\n",
              "      <td>100.0</td>\n",
              "      <td>449.44</td>\n",
              "      <td>555.32</td>\n",
              "      <td>1358.61</td>\n",
              "      <td>1137.23</td>\n",
              "      <td>5.48</td>\n",
              "      <td>...</td>\n",
              "      <td>2387.72</td>\n",
              "      <td>8048.56</td>\n",
              "      <td>9.3461</td>\n",
              "      <td>0.02</td>\n",
              "      <td>334</td>\n",
              "      <td>2223</td>\n",
              "      <td>100.00</td>\n",
              "      <td>14.73</td>\n",
              "      <td>8.8071</td>\n",
              "      <td>148</td>\n",
              "    </tr>\n",
              "    <tr>\n",
              "      <th>1</th>\n",
              "      <td>1</td>\n",
              "      <td>2</td>\n",
              "      <td>41.9982</td>\n",
              "      <td>0.8408</td>\n",
              "      <td>100.0</td>\n",
              "      <td>445.00</td>\n",
              "      <td>549.90</td>\n",
              "      <td>1353.22</td>\n",
              "      <td>1125.78</td>\n",
              "      <td>3.91</td>\n",
              "      <td>...</td>\n",
              "      <td>2387.66</td>\n",
              "      <td>8072.30</td>\n",
              "      <td>9.3774</td>\n",
              "      <td>0.02</td>\n",
              "      <td>330</td>\n",
              "      <td>2212</td>\n",
              "      <td>100.00</td>\n",
              "      <td>10.41</td>\n",
              "      <td>6.2665</td>\n",
              "      <td>147</td>\n",
              "    </tr>\n",
              "    <tr>\n",
              "      <th>2</th>\n",
              "      <td>1</td>\n",
              "      <td>3</td>\n",
              "      <td>24.9988</td>\n",
              "      <td>0.6218</td>\n",
              "      <td>60.0</td>\n",
              "      <td>462.54</td>\n",
              "      <td>537.31</td>\n",
              "      <td>1256.76</td>\n",
              "      <td>1047.45</td>\n",
              "      <td>7.05</td>\n",
              "      <td>...</td>\n",
              "      <td>2028.03</td>\n",
              "      <td>7864.87</td>\n",
              "      <td>10.8941</td>\n",
              "      <td>0.02</td>\n",
              "      <td>309</td>\n",
              "      <td>1915</td>\n",
              "      <td>84.93</td>\n",
              "      <td>14.08</td>\n",
              "      <td>8.6723</td>\n",
              "      <td>146</td>\n",
              "    </tr>\n",
              "    <tr>\n",
              "      <th>3</th>\n",
              "      <td>1</td>\n",
              "      <td>4</td>\n",
              "      <td>42.0077</td>\n",
              "      <td>0.8416</td>\n",
              "      <td>100.0</td>\n",
              "      <td>445.00</td>\n",
              "      <td>549.51</td>\n",
              "      <td>1354.03</td>\n",
              "      <td>1126.38</td>\n",
              "      <td>3.91</td>\n",
              "      <td>...</td>\n",
              "      <td>2387.61</td>\n",
              "      <td>8068.66</td>\n",
              "      <td>9.3528</td>\n",
              "      <td>0.02</td>\n",
              "      <td>329</td>\n",
              "      <td>2212</td>\n",
              "      <td>100.00</td>\n",
              "      <td>10.59</td>\n",
              "      <td>6.4701</td>\n",
              "      <td>145</td>\n",
              "    </tr>\n",
              "    <tr>\n",
              "      <th>4</th>\n",
              "      <td>1</td>\n",
              "      <td>5</td>\n",
              "      <td>25.0005</td>\n",
              "      <td>0.6203</td>\n",
              "      <td>60.0</td>\n",
              "      <td>462.54</td>\n",
              "      <td>537.07</td>\n",
              "      <td>1257.71</td>\n",
              "      <td>1047.93</td>\n",
              "      <td>7.05</td>\n",
              "      <td>...</td>\n",
              "      <td>2028.00</td>\n",
              "      <td>7861.23</td>\n",
              "      <td>10.8963</td>\n",
              "      <td>0.02</td>\n",
              "      <td>309</td>\n",
              "      <td>1915</td>\n",
              "      <td>84.93</td>\n",
              "      <td>14.13</td>\n",
              "      <td>8.5286</td>\n",
              "      <td>144</td>\n",
              "    </tr>\n",
              "  </tbody>\n",
              "</table>\n",
              "<p>5 rows × 27 columns</p>\n",
              "</div>"
            ],
            "text/plain": [
              "   ID Engine  Cycle  Setting 1  Setting 2  Setting 3  Sensor 1  Sensor 2  \\\n",
              "0          1      1    34.9983     0.8400      100.0    449.44    555.32   \n",
              "1          1      2    41.9982     0.8408      100.0    445.00    549.90   \n",
              "2          1      3    24.9988     0.6218       60.0    462.54    537.31   \n",
              "3          1      4    42.0077     0.8416      100.0    445.00    549.51   \n",
              "4          1      5    25.0005     0.6203       60.0    462.54    537.07   \n",
              "\n",
              "   Sensor 3  Sensor 4  Sensor 5  ...  Sensor 13  Sensor 14  Sensor 15  \\\n",
              "0   1358.61   1137.23      5.48  ...    2387.72    8048.56     9.3461   \n",
              "1   1353.22   1125.78      3.91  ...    2387.66    8072.30     9.3774   \n",
              "2   1256.76   1047.45      7.05  ...    2028.03    7864.87    10.8941   \n",
              "3   1354.03   1126.38      3.91  ...    2387.61    8068.66     9.3528   \n",
              "4   1257.71   1047.93      7.05  ...    2028.00    7861.23    10.8963   \n",
              "\n",
              "   Sensor 16  Sensor 17  Sensor 18  Sensor 19  Sensor 20  Sensor 21  \\\n",
              "0       0.02        334       2223     100.00      14.73     8.8071   \n",
              "1       0.02        330       2212     100.00      10.41     6.2665   \n",
              "2       0.02        309       1915      84.93      14.08     8.6723   \n",
              "3       0.02        329       2212     100.00      10.59     6.4701   \n",
              "4       0.02        309       1915      84.93      14.13     8.5286   \n",
              "\n",
              "   Remaining RUL  \n",
              "0            148  \n",
              "1            147  \n",
              "2            146  \n",
              "3            145  \n",
              "4            144  \n",
              "\n",
              "[5 rows x 27 columns]"
            ]
          },
          "execution_count": 24,
          "metadata": {},
          "output_type": "execute_result"
        }
      ],
      "source": [
        "train_2.head()"
      ]
    },
    {
      "cell_type": "markdown",
      "metadata": {},
      "source": [
        "### Load RUL set"
      ]
    },
    {
      "cell_type": "code",
      "execution_count": null,
      "metadata": {},
      "outputs": [
        {
          "name": "stdout",
          "output_type": "stream",
          "text": [
            "RUL shape: (259, 1)\n"
          ]
        }
      ],
      "source": [
        "rul_2 = pd.read_csv(rul_2_path, sep=' ', header=None)\n",
        "rul_2.drop(rul_2.columns[1], axis=1, inplace=True)\n",
        "rul_2.columns = ['RUL']\n",
        "print(f'RUL shape: {rul_2.shape}')"
      ]
    },
    {
      "cell_type": "markdown",
      "metadata": {},
      "source": [
        "Tập RUL này là vòng đời còn lại của động cơ sau khi trải qua số lượng chu kỳ nhất định trong tập test (tương ứng)"
      ]
    },
    {
      "cell_type": "code",
      "execution_count": 26,
      "metadata": {},
      "outputs": [
        {
          "data": {
            "text/html": [
              "<div>\n",
              "<style scoped>\n",
              "    .dataframe tbody tr th:only-of-type {\n",
              "        vertical-align: middle;\n",
              "    }\n",
              "\n",
              "    .dataframe tbody tr th {\n",
              "        vertical-align: top;\n",
              "    }\n",
              "\n",
              "    .dataframe thead th {\n",
              "        text-align: right;\n",
              "    }\n",
              "</style>\n",
              "<table border=\"1\" class=\"dataframe\">\n",
              "  <thead>\n",
              "    <tr style=\"text-align: right;\">\n",
              "      <th></th>\n",
              "      <th>RUL</th>\n",
              "    </tr>\n",
              "  </thead>\n",
              "  <tbody>\n",
              "    <tr>\n",
              "      <th>0</th>\n",
              "      <td>18</td>\n",
              "    </tr>\n",
              "    <tr>\n",
              "      <th>1</th>\n",
              "      <td>79</td>\n",
              "    </tr>\n",
              "    <tr>\n",
              "      <th>2</th>\n",
              "      <td>106</td>\n",
              "    </tr>\n",
              "    <tr>\n",
              "      <th>3</th>\n",
              "      <td>110</td>\n",
              "    </tr>\n",
              "    <tr>\n",
              "      <th>4</th>\n",
              "      <td>15</td>\n",
              "    </tr>\n",
              "  </tbody>\n",
              "</table>\n",
              "</div>"
            ],
            "text/plain": [
              "   RUL\n",
              "0   18\n",
              "1   79\n",
              "2  106\n",
              "3  110\n",
              "4   15"
            ]
          },
          "execution_count": 26,
          "metadata": {},
          "output_type": "execute_result"
        }
      ],
      "source": [
        "rul_2.head()"
      ]
    },
    {
      "cell_type": "markdown",
      "metadata": {},
      "source": [
        "### Calculate RUL for test"
      ]
    },
    {
      "cell_type": "code",
      "execution_count": 27,
      "metadata": {},
      "outputs": [],
      "source": [
        "# Load test set\n",
        "test_2 = pd.read_csv(test_2_path, sep=' ', header=None)\n",
        "test_2.drop([26, 27], axis=1, inplace=True)\n",
        "test_2.columns = column_names\n",
        "\n",
        "test_2['Remaining RUL'] = ''\n",
        "# test_2.head()"
      ]
    },
    {
      "cell_type": "code",
      "execution_count": 28,
      "metadata": {},
      "outputs": [],
      "source": [
        "max_cycle_test_2 = test_2.groupby('ID Engine').count()\n",
        "\n",
        "for idx in range(len(test_2)):\n",
        "    test_2.loc[idx, 'Remaining RUL'] = rul_2.loc[test_2.loc[idx, 'ID Engine'] - 1, 'RUL'] + max_cycle_test_2.loc[test_2.loc[idx, 'ID Engine'], 'Cycle']\n",
        "test_2['Remaining RUL'] = test_2['Remaining RUL'] - test_2['Cycle']"
      ]
    },
    {
      "cell_type": "code",
      "execution_count": 29,
      "metadata": {},
      "outputs": [
        {
          "data": {
            "text/html": [
              "<div>\n",
              "<style scoped>\n",
              "    .dataframe tbody tr th:only-of-type {\n",
              "        vertical-align: middle;\n",
              "    }\n",
              "\n",
              "    .dataframe tbody tr th {\n",
              "        vertical-align: top;\n",
              "    }\n",
              "\n",
              "    .dataframe thead th {\n",
              "        text-align: right;\n",
              "    }\n",
              "</style>\n",
              "<table border=\"1\" class=\"dataframe\">\n",
              "  <thead>\n",
              "    <tr style=\"text-align: right;\">\n",
              "      <th></th>\n",
              "      <th>ID Engine</th>\n",
              "      <th>Cycle</th>\n",
              "      <th>Setting 1</th>\n",
              "      <th>Setting 2</th>\n",
              "      <th>Setting 3</th>\n",
              "      <th>Sensor 1</th>\n",
              "      <th>Sensor 2</th>\n",
              "      <th>Sensor 3</th>\n",
              "      <th>Sensor 4</th>\n",
              "      <th>Sensor 5</th>\n",
              "      <th>...</th>\n",
              "      <th>Sensor 13</th>\n",
              "      <th>Sensor 14</th>\n",
              "      <th>Sensor 15</th>\n",
              "      <th>Sensor 16</th>\n",
              "      <th>Sensor 17</th>\n",
              "      <th>Sensor 18</th>\n",
              "      <th>Sensor 19</th>\n",
              "      <th>Sensor 20</th>\n",
              "      <th>Sensor 21</th>\n",
              "      <th>Remaining RUL</th>\n",
              "    </tr>\n",
              "  </thead>\n",
              "  <tbody>\n",
              "    <tr>\n",
              "      <th>0</th>\n",
              "      <td>1</td>\n",
              "      <td>1</td>\n",
              "      <td>9.9987</td>\n",
              "      <td>0.2502</td>\n",
              "      <td>100.0</td>\n",
              "      <td>489.05</td>\n",
              "      <td>605.03</td>\n",
              "      <td>1497.17</td>\n",
              "      <td>1304.99</td>\n",
              "      <td>10.52</td>\n",
              "      <td>...</td>\n",
              "      <td>2388.18</td>\n",
              "      <td>8114.10</td>\n",
              "      <td>8.6476</td>\n",
              "      <td>0.03</td>\n",
              "      <td>369</td>\n",
              "      <td>2319</td>\n",
              "      <td>100.00</td>\n",
              "      <td>28.42</td>\n",
              "      <td>17.1551</td>\n",
              "      <td>275</td>\n",
              "    </tr>\n",
              "    <tr>\n",
              "      <th>1</th>\n",
              "      <td>1</td>\n",
              "      <td>2</td>\n",
              "      <td>20.0026</td>\n",
              "      <td>0.7000</td>\n",
              "      <td>100.0</td>\n",
              "      <td>491.19</td>\n",
              "      <td>607.82</td>\n",
              "      <td>1481.20</td>\n",
              "      <td>1246.11</td>\n",
              "      <td>9.35</td>\n",
              "      <td>...</td>\n",
              "      <td>2388.12</td>\n",
              "      <td>8053.06</td>\n",
              "      <td>9.2405</td>\n",
              "      <td>0.02</td>\n",
              "      <td>364</td>\n",
              "      <td>2324</td>\n",
              "      <td>100.00</td>\n",
              "      <td>24.29</td>\n",
              "      <td>14.8039</td>\n",
              "      <td>274</td>\n",
              "    </tr>\n",
              "    <tr>\n",
              "      <th>2</th>\n",
              "      <td>1</td>\n",
              "      <td>3</td>\n",
              "      <td>35.0045</td>\n",
              "      <td>0.8400</td>\n",
              "      <td>100.0</td>\n",
              "      <td>449.44</td>\n",
              "      <td>556.00</td>\n",
              "      <td>1359.08</td>\n",
              "      <td>1128.36</td>\n",
              "      <td>5.48</td>\n",
              "      <td>...</td>\n",
              "      <td>2387.75</td>\n",
              "      <td>8053.04</td>\n",
              "      <td>9.3472</td>\n",
              "      <td>0.02</td>\n",
              "      <td>333</td>\n",
              "      <td>2223</td>\n",
              "      <td>100.00</td>\n",
              "      <td>14.98</td>\n",
              "      <td>8.9125</td>\n",
              "      <td>273</td>\n",
              "    </tr>\n",
              "    <tr>\n",
              "      <th>3</th>\n",
              "      <td>1</td>\n",
              "      <td>4</td>\n",
              "      <td>42.0066</td>\n",
              "      <td>0.8410</td>\n",
              "      <td>100.0</td>\n",
              "      <td>445.00</td>\n",
              "      <td>550.17</td>\n",
              "      <td>1349.69</td>\n",
              "      <td>1127.89</td>\n",
              "      <td>3.91</td>\n",
              "      <td>...</td>\n",
              "      <td>2387.72</td>\n",
              "      <td>8066.90</td>\n",
              "      <td>9.3961</td>\n",
              "      <td>0.02</td>\n",
              "      <td>332</td>\n",
              "      <td>2212</td>\n",
              "      <td>100.00</td>\n",
              "      <td>10.35</td>\n",
              "      <td>6.4181</td>\n",
              "      <td>272</td>\n",
              "    </tr>\n",
              "    <tr>\n",
              "      <th>4</th>\n",
              "      <td>1</td>\n",
              "      <td>5</td>\n",
              "      <td>24.9985</td>\n",
              "      <td>0.6213</td>\n",
              "      <td>60.0</td>\n",
              "      <td>462.54</td>\n",
              "      <td>536.72</td>\n",
              "      <td>1253.18</td>\n",
              "      <td>1050.69</td>\n",
              "      <td>7.05</td>\n",
              "      <td>...</td>\n",
              "      <td>2028.05</td>\n",
              "      <td>7865.66</td>\n",
              "      <td>10.8682</td>\n",
              "      <td>0.02</td>\n",
              "      <td>305</td>\n",
              "      <td>1915</td>\n",
              "      <td>84.93</td>\n",
              "      <td>14.31</td>\n",
              "      <td>8.5740</td>\n",
              "      <td>271</td>\n",
              "    </tr>\n",
              "  </tbody>\n",
              "</table>\n",
              "<p>5 rows × 27 columns</p>\n",
              "</div>"
            ],
            "text/plain": [
              "   ID Engine  Cycle  Setting 1  Setting 2  Setting 3  Sensor 1  Sensor 2  \\\n",
              "0          1      1     9.9987     0.2502      100.0    489.05    605.03   \n",
              "1          1      2    20.0026     0.7000      100.0    491.19    607.82   \n",
              "2          1      3    35.0045     0.8400      100.0    449.44    556.00   \n",
              "3          1      4    42.0066     0.8410      100.0    445.00    550.17   \n",
              "4          1      5    24.9985     0.6213       60.0    462.54    536.72   \n",
              "\n",
              "   Sensor 3  Sensor 4  Sensor 5  ...  Sensor 13  Sensor 14  Sensor 15  \\\n",
              "0   1497.17   1304.99     10.52  ...    2388.18    8114.10     8.6476   \n",
              "1   1481.20   1246.11      9.35  ...    2388.12    8053.06     9.2405   \n",
              "2   1359.08   1128.36      5.48  ...    2387.75    8053.04     9.3472   \n",
              "3   1349.69   1127.89      3.91  ...    2387.72    8066.90     9.3961   \n",
              "4   1253.18   1050.69      7.05  ...    2028.05    7865.66    10.8682   \n",
              "\n",
              "   Sensor 16  Sensor 17  Sensor 18  Sensor 19  Sensor 20  Sensor 21  \\\n",
              "0       0.03        369       2319     100.00      28.42    17.1551   \n",
              "1       0.02        364       2324     100.00      24.29    14.8039   \n",
              "2       0.02        333       2223     100.00      14.98     8.9125   \n",
              "3       0.02        332       2212     100.00      10.35     6.4181   \n",
              "4       0.02        305       1915      84.93      14.31     8.5740   \n",
              "\n",
              "   Remaining RUL  \n",
              "0            275  \n",
              "1            274  \n",
              "2            273  \n",
              "3            272  \n",
              "4            271  \n",
              "\n",
              "[5 rows x 27 columns]"
            ]
          },
          "execution_count": 29,
          "metadata": {},
          "output_type": "execute_result"
        }
      ],
      "source": [
        "test_2.head()"
      ]
    },
    {
      "cell_type": "markdown",
      "metadata": {},
      "source": [
        "# Calculate RUL for FD003"
      ]
    },
    {
      "cell_type": "markdown",
      "metadata": {},
      "source": [
        "### Calculate RUL for train set"
      ]
    },
    {
      "cell_type": "code",
      "execution_count": 30,
      "metadata": {},
      "outputs": [],
      "source": [
        "# Load trainset\n",
        "train_3 = pd.read_csv(train_3_path, sep=' ', header=None)\n",
        "train_3.drop([26, 27], axis=1, inplace=True)\n",
        "train_3.columns = column_names\n",
        "\n",
        "train_3['Remaining RUL'] = ''\n",
        "# train_3.head()"
      ]
    },
    {
      "cell_type": "code",
      "execution_count": 31,
      "metadata": {},
      "outputs": [
        {
          "name": "stdout",
          "output_type": "stream",
          "text": [
            "trainset shape: (24720, 27)\n"
          ]
        }
      ],
      "source": [
        "# Calculate the remaining RUL for each engine\n",
        "max_cycle_3 = train_3.groupby('ID Engine').count()\n",
        "for idx in range(len(train_3)):\n",
        "    train_3.loc[idx, 'Remaining RUL'] = max_cycle_3.loc[train_3.loc[idx, 'ID Engine'], 'Cycle']\n",
        "train_3['Remaining RUL'] = train_3['Remaining RUL'] - train_3['Cycle']\n",
        "\n",
        "print(f\"trainset shape: {train_3.shape}\")"
      ]
    },
    {
      "cell_type": "code",
      "execution_count": 32,
      "metadata": {},
      "outputs": [
        {
          "data": {
            "text/html": [
              "<div>\n",
              "<style scoped>\n",
              "    .dataframe tbody tr th:only-of-type {\n",
              "        vertical-align: middle;\n",
              "    }\n",
              "\n",
              "    .dataframe tbody tr th {\n",
              "        vertical-align: top;\n",
              "    }\n",
              "\n",
              "    .dataframe thead th {\n",
              "        text-align: right;\n",
              "    }\n",
              "</style>\n",
              "<table border=\"1\" class=\"dataframe\">\n",
              "  <thead>\n",
              "    <tr style=\"text-align: right;\">\n",
              "      <th></th>\n",
              "      <th>ID Engine</th>\n",
              "      <th>Cycle</th>\n",
              "      <th>Setting 1</th>\n",
              "      <th>Setting 2</th>\n",
              "      <th>Setting 3</th>\n",
              "      <th>Sensor 1</th>\n",
              "      <th>Sensor 2</th>\n",
              "      <th>Sensor 3</th>\n",
              "      <th>Sensor 4</th>\n",
              "      <th>Sensor 5</th>\n",
              "      <th>...</th>\n",
              "      <th>Sensor 13</th>\n",
              "      <th>Sensor 14</th>\n",
              "      <th>Sensor 15</th>\n",
              "      <th>Sensor 16</th>\n",
              "      <th>Sensor 17</th>\n",
              "      <th>Sensor 18</th>\n",
              "      <th>Sensor 19</th>\n",
              "      <th>Sensor 20</th>\n",
              "      <th>Sensor 21</th>\n",
              "      <th>Remaining RUL</th>\n",
              "    </tr>\n",
              "  </thead>\n",
              "  <tbody>\n",
              "    <tr>\n",
              "      <th>0</th>\n",
              "      <td>1</td>\n",
              "      <td>1</td>\n",
              "      <td>-0.0005</td>\n",
              "      <td>0.0004</td>\n",
              "      <td>100.0</td>\n",
              "      <td>518.67</td>\n",
              "      <td>642.36</td>\n",
              "      <td>1583.23</td>\n",
              "      <td>1396.84</td>\n",
              "      <td>14.62</td>\n",
              "      <td>...</td>\n",
              "      <td>2388.01</td>\n",
              "      <td>8145.32</td>\n",
              "      <td>8.4246</td>\n",
              "      <td>0.03</td>\n",
              "      <td>391</td>\n",
              "      <td>2388</td>\n",
              "      <td>100.0</td>\n",
              "      <td>39.11</td>\n",
              "      <td>23.3537</td>\n",
              "      <td>258</td>\n",
              "    </tr>\n",
              "    <tr>\n",
              "      <th>1</th>\n",
              "      <td>1</td>\n",
              "      <td>2</td>\n",
              "      <td>0.0008</td>\n",
              "      <td>-0.0003</td>\n",
              "      <td>100.0</td>\n",
              "      <td>518.67</td>\n",
              "      <td>642.50</td>\n",
              "      <td>1584.69</td>\n",
              "      <td>1396.89</td>\n",
              "      <td>14.62</td>\n",
              "      <td>...</td>\n",
              "      <td>2388.03</td>\n",
              "      <td>8152.85</td>\n",
              "      <td>8.4403</td>\n",
              "      <td>0.03</td>\n",
              "      <td>392</td>\n",
              "      <td>2388</td>\n",
              "      <td>100.0</td>\n",
              "      <td>38.99</td>\n",
              "      <td>23.4491</td>\n",
              "      <td>257</td>\n",
              "    </tr>\n",
              "    <tr>\n",
              "      <th>2</th>\n",
              "      <td>1</td>\n",
              "      <td>3</td>\n",
              "      <td>-0.0014</td>\n",
              "      <td>-0.0002</td>\n",
              "      <td>100.0</td>\n",
              "      <td>518.67</td>\n",
              "      <td>642.18</td>\n",
              "      <td>1582.35</td>\n",
              "      <td>1405.61</td>\n",
              "      <td>14.62</td>\n",
              "      <td>...</td>\n",
              "      <td>2388.00</td>\n",
              "      <td>8150.17</td>\n",
              "      <td>8.3901</td>\n",
              "      <td>0.03</td>\n",
              "      <td>391</td>\n",
              "      <td>2388</td>\n",
              "      <td>100.0</td>\n",
              "      <td>38.85</td>\n",
              "      <td>23.3669</td>\n",
              "      <td>256</td>\n",
              "    </tr>\n",
              "    <tr>\n",
              "      <th>3</th>\n",
              "      <td>1</td>\n",
              "      <td>4</td>\n",
              "      <td>-0.0020</td>\n",
              "      <td>0.0001</td>\n",
              "      <td>100.0</td>\n",
              "      <td>518.67</td>\n",
              "      <td>642.92</td>\n",
              "      <td>1585.61</td>\n",
              "      <td>1392.27</td>\n",
              "      <td>14.62</td>\n",
              "      <td>...</td>\n",
              "      <td>2388.08</td>\n",
              "      <td>8146.56</td>\n",
              "      <td>8.3878</td>\n",
              "      <td>0.03</td>\n",
              "      <td>392</td>\n",
              "      <td>2388</td>\n",
              "      <td>100.0</td>\n",
              "      <td>38.96</td>\n",
              "      <td>23.2951</td>\n",
              "      <td>255</td>\n",
              "    </tr>\n",
              "    <tr>\n",
              "      <th>4</th>\n",
              "      <td>1</td>\n",
              "      <td>5</td>\n",
              "      <td>0.0016</td>\n",
              "      <td>0.0000</td>\n",
              "      <td>100.0</td>\n",
              "      <td>518.67</td>\n",
              "      <td>641.68</td>\n",
              "      <td>1588.63</td>\n",
              "      <td>1397.65</td>\n",
              "      <td>14.62</td>\n",
              "      <td>...</td>\n",
              "      <td>2388.03</td>\n",
              "      <td>8147.80</td>\n",
              "      <td>8.3869</td>\n",
              "      <td>0.03</td>\n",
              "      <td>392</td>\n",
              "      <td>2388</td>\n",
              "      <td>100.0</td>\n",
              "      <td>39.14</td>\n",
              "      <td>23.4583</td>\n",
              "      <td>254</td>\n",
              "    </tr>\n",
              "  </tbody>\n",
              "</table>\n",
              "<p>5 rows × 27 columns</p>\n",
              "</div>"
            ],
            "text/plain": [
              "   ID Engine  Cycle  Setting 1  Setting 2  Setting 3  Sensor 1  Sensor 2  \\\n",
              "0          1      1    -0.0005     0.0004      100.0    518.67    642.36   \n",
              "1          1      2     0.0008    -0.0003      100.0    518.67    642.50   \n",
              "2          1      3    -0.0014    -0.0002      100.0    518.67    642.18   \n",
              "3          1      4    -0.0020     0.0001      100.0    518.67    642.92   \n",
              "4          1      5     0.0016     0.0000      100.0    518.67    641.68   \n",
              "\n",
              "   Sensor 3  Sensor 4  Sensor 5  ...  Sensor 13  Sensor 14  Sensor 15  \\\n",
              "0   1583.23   1396.84     14.62  ...    2388.01    8145.32     8.4246   \n",
              "1   1584.69   1396.89     14.62  ...    2388.03    8152.85     8.4403   \n",
              "2   1582.35   1405.61     14.62  ...    2388.00    8150.17     8.3901   \n",
              "3   1585.61   1392.27     14.62  ...    2388.08    8146.56     8.3878   \n",
              "4   1588.63   1397.65     14.62  ...    2388.03    8147.80     8.3869   \n",
              "\n",
              "   Sensor 16  Sensor 17  Sensor 18  Sensor 19  Sensor 20  Sensor 21  \\\n",
              "0       0.03        391       2388      100.0      39.11    23.3537   \n",
              "1       0.03        392       2388      100.0      38.99    23.4491   \n",
              "2       0.03        391       2388      100.0      38.85    23.3669   \n",
              "3       0.03        392       2388      100.0      38.96    23.2951   \n",
              "4       0.03        392       2388      100.0      39.14    23.4583   \n",
              "\n",
              "   Remaining RUL  \n",
              "0            258  \n",
              "1            257  \n",
              "2            256  \n",
              "3            255  \n",
              "4            254  \n",
              "\n",
              "[5 rows x 27 columns]"
            ]
          },
          "execution_count": 32,
          "metadata": {},
          "output_type": "execute_result"
        }
      ],
      "source": [
        "train_3.head()"
      ]
    },
    {
      "cell_type": "markdown",
      "metadata": {},
      "source": [
        "### Load RUL set"
      ]
    },
    {
      "cell_type": "code",
      "execution_count": 33,
      "metadata": {},
      "outputs": [
        {
          "name": "stdout",
          "output_type": "stream",
          "text": [
            "RUL shape: (100, 1)\n"
          ]
        }
      ],
      "source": [
        "rul_3 = pd.read_csv(rul_3_path, sep=' ', header=None)\n",
        "rul_3.drop(rul_3.columns[1], axis=1, inplace=True)\n",
        "rul_3.columns = ['RUL']\n",
        "print(f'RUL shape: {rul_3.shape}')"
      ]
    },
    {
      "cell_type": "markdown",
      "metadata": {},
      "source": [
        "Tập RUL này là vòng đời còn lại của động cơ sau khi trải qua số lượng chu kỳ nhất định trong tập test (tương ứng)"
      ]
    },
    {
      "cell_type": "code",
      "execution_count": 34,
      "metadata": {},
      "outputs": [
        {
          "data": {
            "text/html": [
              "<div>\n",
              "<style scoped>\n",
              "    .dataframe tbody tr th:only-of-type {\n",
              "        vertical-align: middle;\n",
              "    }\n",
              "\n",
              "    .dataframe tbody tr th {\n",
              "        vertical-align: top;\n",
              "    }\n",
              "\n",
              "    .dataframe thead th {\n",
              "        text-align: right;\n",
              "    }\n",
              "</style>\n",
              "<table border=\"1\" class=\"dataframe\">\n",
              "  <thead>\n",
              "    <tr style=\"text-align: right;\">\n",
              "      <th></th>\n",
              "      <th>RUL</th>\n",
              "    </tr>\n",
              "  </thead>\n",
              "  <tbody>\n",
              "    <tr>\n",
              "      <th>0</th>\n",
              "      <td>44</td>\n",
              "    </tr>\n",
              "    <tr>\n",
              "      <th>1</th>\n",
              "      <td>51</td>\n",
              "    </tr>\n",
              "    <tr>\n",
              "      <th>2</th>\n",
              "      <td>27</td>\n",
              "    </tr>\n",
              "    <tr>\n",
              "      <th>3</th>\n",
              "      <td>120</td>\n",
              "    </tr>\n",
              "    <tr>\n",
              "      <th>4</th>\n",
              "      <td>101</td>\n",
              "    </tr>\n",
              "  </tbody>\n",
              "</table>\n",
              "</div>"
            ],
            "text/plain": [
              "   RUL\n",
              "0   44\n",
              "1   51\n",
              "2   27\n",
              "3  120\n",
              "4  101"
            ]
          },
          "execution_count": 34,
          "metadata": {},
          "output_type": "execute_result"
        }
      ],
      "source": [
        "rul_3.head()"
      ]
    },
    {
      "cell_type": "markdown",
      "metadata": {},
      "source": [
        "### Calculate RUL for test"
      ]
    },
    {
      "cell_type": "code",
      "execution_count": 35,
      "metadata": {},
      "outputs": [],
      "source": [
        "# Load test set\n",
        "test_3 = pd.read_csv(test_3_path, sep=' ', header=None)\n",
        "test_3.drop([26, 27], axis=1, inplace=True)\n",
        "test_3.columns = column_names\n",
        "\n",
        "test_3['Remaining RUL'] = ''\n",
        "# test_3.head()"
      ]
    },
    {
      "cell_type": "code",
      "execution_count": 36,
      "metadata": {},
      "outputs": [],
      "source": [
        "max_cycle_test_3 = test_3.groupby('ID Engine').count()\n",
        "\n",
        "for idx in range(len(test_3)):\n",
        "    test_3.loc[idx, 'Remaining RUL'] = rul_3.loc[test_3.loc[idx, 'ID Engine'] - 1, 'RUL'] + max_cycle_test_3.loc[test_3.loc[idx, 'ID Engine'], 'Cycle']\n",
        "test_3['Remaining RUL'] = test_3['Remaining RUL'] - test_3['Cycle']"
      ]
    },
    {
      "cell_type": "code",
      "execution_count": 37,
      "metadata": {},
      "outputs": [
        {
          "data": {
            "text/html": [
              "<div>\n",
              "<style scoped>\n",
              "    .dataframe tbody tr th:only-of-type {\n",
              "        vertical-align: middle;\n",
              "    }\n",
              "\n",
              "    .dataframe tbody tr th {\n",
              "        vertical-align: top;\n",
              "    }\n",
              "\n",
              "    .dataframe thead th {\n",
              "        text-align: right;\n",
              "    }\n",
              "</style>\n",
              "<table border=\"1\" class=\"dataframe\">\n",
              "  <thead>\n",
              "    <tr style=\"text-align: right;\">\n",
              "      <th></th>\n",
              "      <th>ID Engine</th>\n",
              "      <th>Cycle</th>\n",
              "      <th>Setting 1</th>\n",
              "      <th>Setting 2</th>\n",
              "      <th>Setting 3</th>\n",
              "      <th>Sensor 1</th>\n",
              "      <th>Sensor 2</th>\n",
              "      <th>Sensor 3</th>\n",
              "      <th>Sensor 4</th>\n",
              "      <th>Sensor 5</th>\n",
              "      <th>...</th>\n",
              "      <th>Sensor 13</th>\n",
              "      <th>Sensor 14</th>\n",
              "      <th>Sensor 15</th>\n",
              "      <th>Sensor 16</th>\n",
              "      <th>Sensor 17</th>\n",
              "      <th>Sensor 18</th>\n",
              "      <th>Sensor 19</th>\n",
              "      <th>Sensor 20</th>\n",
              "      <th>Sensor 21</th>\n",
              "      <th>Remaining RUL</th>\n",
              "    </tr>\n",
              "  </thead>\n",
              "  <tbody>\n",
              "    <tr>\n",
              "      <th>0</th>\n",
              "      <td>1</td>\n",
              "      <td>1</td>\n",
              "      <td>-0.0017</td>\n",
              "      <td>-0.0004</td>\n",
              "      <td>100.0</td>\n",
              "      <td>518.67</td>\n",
              "      <td>641.94</td>\n",
              "      <td>1581.93</td>\n",
              "      <td>1396.93</td>\n",
              "      <td>14.62</td>\n",
              "      <td>...</td>\n",
              "      <td>2387.94</td>\n",
              "      <td>8133.48</td>\n",
              "      <td>8.3760</td>\n",
              "      <td>0.03</td>\n",
              "      <td>391</td>\n",
              "      <td>2388</td>\n",
              "      <td>100.0</td>\n",
              "      <td>39.07</td>\n",
              "      <td>23.4468</td>\n",
              "      <td>276</td>\n",
              "    </tr>\n",
              "    <tr>\n",
              "      <th>1</th>\n",
              "      <td>1</td>\n",
              "      <td>2</td>\n",
              "      <td>0.0006</td>\n",
              "      <td>-0.0002</td>\n",
              "      <td>100.0</td>\n",
              "      <td>518.67</td>\n",
              "      <td>642.02</td>\n",
              "      <td>1584.86</td>\n",
              "      <td>1398.90</td>\n",
              "      <td>14.62</td>\n",
              "      <td>...</td>\n",
              "      <td>2388.01</td>\n",
              "      <td>8137.44</td>\n",
              "      <td>8.4062</td>\n",
              "      <td>0.03</td>\n",
              "      <td>391</td>\n",
              "      <td>2388</td>\n",
              "      <td>100.0</td>\n",
              "      <td>39.04</td>\n",
              "      <td>23.4807</td>\n",
              "      <td>275</td>\n",
              "    </tr>\n",
              "    <tr>\n",
              "      <th>2</th>\n",
              "      <td>1</td>\n",
              "      <td>3</td>\n",
              "      <td>0.0014</td>\n",
              "      <td>-0.0003</td>\n",
              "      <td>100.0</td>\n",
              "      <td>518.67</td>\n",
              "      <td>641.68</td>\n",
              "      <td>1581.78</td>\n",
              "      <td>1391.92</td>\n",
              "      <td>14.62</td>\n",
              "      <td>...</td>\n",
              "      <td>2387.94</td>\n",
              "      <td>8138.25</td>\n",
              "      <td>8.3553</td>\n",
              "      <td>0.03</td>\n",
              "      <td>391</td>\n",
              "      <td>2388</td>\n",
              "      <td>100.0</td>\n",
              "      <td>39.10</td>\n",
              "      <td>23.4244</td>\n",
              "      <td>274</td>\n",
              "    </tr>\n",
              "    <tr>\n",
              "      <th>3</th>\n",
              "      <td>1</td>\n",
              "      <td>4</td>\n",
              "      <td>0.0027</td>\n",
              "      <td>0.0001</td>\n",
              "      <td>100.0</td>\n",
              "      <td>518.67</td>\n",
              "      <td>642.20</td>\n",
              "      <td>1584.53</td>\n",
              "      <td>1395.34</td>\n",
              "      <td>14.62</td>\n",
              "      <td>...</td>\n",
              "      <td>2387.96</td>\n",
              "      <td>8137.07</td>\n",
              "      <td>8.3709</td>\n",
              "      <td>0.03</td>\n",
              "      <td>392</td>\n",
              "      <td>2388</td>\n",
              "      <td>100.0</td>\n",
              "      <td>38.97</td>\n",
              "      <td>23.4782</td>\n",
              "      <td>273</td>\n",
              "    </tr>\n",
              "    <tr>\n",
              "      <th>4</th>\n",
              "      <td>1</td>\n",
              "      <td>5</td>\n",
              "      <td>-0.0001</td>\n",
              "      <td>0.0001</td>\n",
              "      <td>100.0</td>\n",
              "      <td>518.67</td>\n",
              "      <td>642.46</td>\n",
              "      <td>1589.03</td>\n",
              "      <td>1395.86</td>\n",
              "      <td>14.62</td>\n",
              "      <td>...</td>\n",
              "      <td>2387.97</td>\n",
              "      <td>8134.20</td>\n",
              "      <td>8.4146</td>\n",
              "      <td>0.03</td>\n",
              "      <td>391</td>\n",
              "      <td>2388</td>\n",
              "      <td>100.0</td>\n",
              "      <td>39.09</td>\n",
              "      <td>23.3950</td>\n",
              "      <td>272</td>\n",
              "    </tr>\n",
              "  </tbody>\n",
              "</table>\n",
              "<p>5 rows × 27 columns</p>\n",
              "</div>"
            ],
            "text/plain": [
              "   ID Engine  Cycle  Setting 1  Setting 2  Setting 3  Sensor 1  Sensor 2  \\\n",
              "0          1      1    -0.0017    -0.0004      100.0    518.67    641.94   \n",
              "1          1      2     0.0006    -0.0002      100.0    518.67    642.02   \n",
              "2          1      3     0.0014    -0.0003      100.0    518.67    641.68   \n",
              "3          1      4     0.0027     0.0001      100.0    518.67    642.20   \n",
              "4          1      5    -0.0001     0.0001      100.0    518.67    642.46   \n",
              "\n",
              "   Sensor 3  Sensor 4  Sensor 5  ...  Sensor 13  Sensor 14  Sensor 15  \\\n",
              "0   1581.93   1396.93     14.62  ...    2387.94    8133.48     8.3760   \n",
              "1   1584.86   1398.90     14.62  ...    2388.01    8137.44     8.4062   \n",
              "2   1581.78   1391.92     14.62  ...    2387.94    8138.25     8.3553   \n",
              "3   1584.53   1395.34     14.62  ...    2387.96    8137.07     8.3709   \n",
              "4   1589.03   1395.86     14.62  ...    2387.97    8134.20     8.4146   \n",
              "\n",
              "   Sensor 16  Sensor 17  Sensor 18  Sensor 19  Sensor 20  Sensor 21  \\\n",
              "0       0.03        391       2388      100.0      39.07    23.4468   \n",
              "1       0.03        391       2388      100.0      39.04    23.4807   \n",
              "2       0.03        391       2388      100.0      39.10    23.4244   \n",
              "3       0.03        392       2388      100.0      38.97    23.4782   \n",
              "4       0.03        391       2388      100.0      39.09    23.3950   \n",
              "\n",
              "   Remaining RUL  \n",
              "0            276  \n",
              "1            275  \n",
              "2            274  \n",
              "3            273  \n",
              "4            272  \n",
              "\n",
              "[5 rows x 27 columns]"
            ]
          },
          "execution_count": 37,
          "metadata": {},
          "output_type": "execute_result"
        }
      ],
      "source": [
        "test_3.head()"
      ]
    },
    {
      "cell_type": "markdown",
      "metadata": {},
      "source": [
        "# Calculate RUL for FD004"
      ]
    },
    {
      "cell_type": "markdown",
      "metadata": {},
      "source": [
        "### Calculate RUL for train set"
      ]
    },
    {
      "cell_type": "code",
      "execution_count": 38,
      "metadata": {},
      "outputs": [],
      "source": [
        "# Load trainset\n",
        "train_4 = pd.read_csv(train_4_path, sep=' ', header=None)\n",
        "train_4.drop([26, 27], axis=1, inplace=True)\n",
        "train_4.columns = column_names\n",
        "\n",
        "train_4['Remaining RUL'] = ''\n",
        "# train_4.head()"
      ]
    },
    {
      "cell_type": "code",
      "execution_count": 39,
      "metadata": {},
      "outputs": [
        {
          "name": "stdout",
          "output_type": "stream",
          "text": [
            "trainset shape: (61249, 27)\n"
          ]
        }
      ],
      "source": [
        "# Calculate the remaining RUL for each engine\n",
        "max_cycle_4 = train_4.groupby('ID Engine').count()\n",
        "for idx in range(len(train_4)):\n",
        "    train_4.loc[idx, 'Remaining RUL'] = max_cycle_4.loc[train_4.loc[idx, 'ID Engine'], 'Cycle']\n",
        "train_4['Remaining RUL'] = train_4['Remaining RUL'] - train_4['Cycle']\n",
        "\n",
        "print(f\"trainset shape: {train_4.shape}\")"
      ]
    },
    {
      "cell_type": "code",
      "execution_count": 40,
      "metadata": {},
      "outputs": [
        {
          "data": {
            "text/html": [
              "<div>\n",
              "<style scoped>\n",
              "    .dataframe tbody tr th:only-of-type {\n",
              "        vertical-align: middle;\n",
              "    }\n",
              "\n",
              "    .dataframe tbody tr th {\n",
              "        vertical-align: top;\n",
              "    }\n",
              "\n",
              "    .dataframe thead th {\n",
              "        text-align: right;\n",
              "    }\n",
              "</style>\n",
              "<table border=\"1\" class=\"dataframe\">\n",
              "  <thead>\n",
              "    <tr style=\"text-align: right;\">\n",
              "      <th></th>\n",
              "      <th>ID Engine</th>\n",
              "      <th>Cycle</th>\n",
              "      <th>Setting 1</th>\n",
              "      <th>Setting 2</th>\n",
              "      <th>Setting 3</th>\n",
              "      <th>Sensor 1</th>\n",
              "      <th>Sensor 2</th>\n",
              "      <th>Sensor 3</th>\n",
              "      <th>Sensor 4</th>\n",
              "      <th>Sensor 5</th>\n",
              "      <th>...</th>\n",
              "      <th>Sensor 13</th>\n",
              "      <th>Sensor 14</th>\n",
              "      <th>Sensor 15</th>\n",
              "      <th>Sensor 16</th>\n",
              "      <th>Sensor 17</th>\n",
              "      <th>Sensor 18</th>\n",
              "      <th>Sensor 19</th>\n",
              "      <th>Sensor 20</th>\n",
              "      <th>Sensor 21</th>\n",
              "      <th>Remaining RUL</th>\n",
              "    </tr>\n",
              "  </thead>\n",
              "  <tbody>\n",
              "    <tr>\n",
              "      <th>0</th>\n",
              "      <td>1</td>\n",
              "      <td>1</td>\n",
              "      <td>42.0049</td>\n",
              "      <td>0.8400</td>\n",
              "      <td>100.0</td>\n",
              "      <td>445.00</td>\n",
              "      <td>549.68</td>\n",
              "      <td>1343.43</td>\n",
              "      <td>1112.93</td>\n",
              "      <td>3.91</td>\n",
              "      <td>...</td>\n",
              "      <td>2387.99</td>\n",
              "      <td>8074.83</td>\n",
              "      <td>9.3335</td>\n",
              "      <td>0.02</td>\n",
              "      <td>330</td>\n",
              "      <td>2212</td>\n",
              "      <td>100.00</td>\n",
              "      <td>10.62</td>\n",
              "      <td>6.3670</td>\n",
              "      <td>320</td>\n",
              "    </tr>\n",
              "    <tr>\n",
              "      <th>1</th>\n",
              "      <td>1</td>\n",
              "      <td>2</td>\n",
              "      <td>20.0020</td>\n",
              "      <td>0.7002</td>\n",
              "      <td>100.0</td>\n",
              "      <td>491.19</td>\n",
              "      <td>606.07</td>\n",
              "      <td>1477.61</td>\n",
              "      <td>1237.50</td>\n",
              "      <td>9.35</td>\n",
              "      <td>...</td>\n",
              "      <td>2387.73</td>\n",
              "      <td>8046.13</td>\n",
              "      <td>9.1913</td>\n",
              "      <td>0.02</td>\n",
              "      <td>361</td>\n",
              "      <td>2324</td>\n",
              "      <td>100.00</td>\n",
              "      <td>24.37</td>\n",
              "      <td>14.6552</td>\n",
              "      <td>319</td>\n",
              "    </tr>\n",
              "    <tr>\n",
              "      <th>2</th>\n",
              "      <td>1</td>\n",
              "      <td>3</td>\n",
              "      <td>42.0038</td>\n",
              "      <td>0.8409</td>\n",
              "      <td>100.0</td>\n",
              "      <td>445.00</td>\n",
              "      <td>548.95</td>\n",
              "      <td>1343.12</td>\n",
              "      <td>1117.05</td>\n",
              "      <td>3.91</td>\n",
              "      <td>...</td>\n",
              "      <td>2387.97</td>\n",
              "      <td>8066.62</td>\n",
              "      <td>9.4007</td>\n",
              "      <td>0.02</td>\n",
              "      <td>329</td>\n",
              "      <td>2212</td>\n",
              "      <td>100.00</td>\n",
              "      <td>10.48</td>\n",
              "      <td>6.4213</td>\n",
              "      <td>318</td>\n",
              "    </tr>\n",
              "    <tr>\n",
              "      <th>3</th>\n",
              "      <td>1</td>\n",
              "      <td>4</td>\n",
              "      <td>42.0000</td>\n",
              "      <td>0.8400</td>\n",
              "      <td>100.0</td>\n",
              "      <td>445.00</td>\n",
              "      <td>548.70</td>\n",
              "      <td>1341.24</td>\n",
              "      <td>1118.03</td>\n",
              "      <td>3.91</td>\n",
              "      <td>...</td>\n",
              "      <td>2388.02</td>\n",
              "      <td>8076.05</td>\n",
              "      <td>9.3369</td>\n",
              "      <td>0.02</td>\n",
              "      <td>328</td>\n",
              "      <td>2212</td>\n",
              "      <td>100.00</td>\n",
              "      <td>10.54</td>\n",
              "      <td>6.4176</td>\n",
              "      <td>317</td>\n",
              "    </tr>\n",
              "    <tr>\n",
              "      <th>4</th>\n",
              "      <td>1</td>\n",
              "      <td>5</td>\n",
              "      <td>25.0063</td>\n",
              "      <td>0.6207</td>\n",
              "      <td>60.0</td>\n",
              "      <td>462.54</td>\n",
              "      <td>536.10</td>\n",
              "      <td>1255.23</td>\n",
              "      <td>1033.59</td>\n",
              "      <td>7.05</td>\n",
              "      <td>...</td>\n",
              "      <td>2028.08</td>\n",
              "      <td>7865.80</td>\n",
              "      <td>10.8366</td>\n",
              "      <td>0.02</td>\n",
              "      <td>305</td>\n",
              "      <td>1915</td>\n",
              "      <td>84.93</td>\n",
              "      <td>14.03</td>\n",
              "      <td>8.6754</td>\n",
              "      <td>316</td>\n",
              "    </tr>\n",
              "  </tbody>\n",
              "</table>\n",
              "<p>5 rows × 27 columns</p>\n",
              "</div>"
            ],
            "text/plain": [
              "   ID Engine  Cycle  Setting 1  Setting 2  Setting 3  Sensor 1  Sensor 2  \\\n",
              "0          1      1    42.0049     0.8400      100.0    445.00    549.68   \n",
              "1          1      2    20.0020     0.7002      100.0    491.19    606.07   \n",
              "2          1      3    42.0038     0.8409      100.0    445.00    548.95   \n",
              "3          1      4    42.0000     0.8400      100.0    445.00    548.70   \n",
              "4          1      5    25.0063     0.6207       60.0    462.54    536.10   \n",
              "\n",
              "   Sensor 3  Sensor 4  Sensor 5  ...  Sensor 13  Sensor 14  Sensor 15  \\\n",
              "0   1343.43   1112.93      3.91  ...    2387.99    8074.83     9.3335   \n",
              "1   1477.61   1237.50      9.35  ...    2387.73    8046.13     9.1913   \n",
              "2   1343.12   1117.05      3.91  ...    2387.97    8066.62     9.4007   \n",
              "3   1341.24   1118.03      3.91  ...    2388.02    8076.05     9.3369   \n",
              "4   1255.23   1033.59      7.05  ...    2028.08    7865.80    10.8366   \n",
              "\n",
              "   Sensor 16  Sensor 17  Sensor 18  Sensor 19  Sensor 20  Sensor 21  \\\n",
              "0       0.02        330       2212     100.00      10.62     6.3670   \n",
              "1       0.02        361       2324     100.00      24.37    14.6552   \n",
              "2       0.02        329       2212     100.00      10.48     6.4213   \n",
              "3       0.02        328       2212     100.00      10.54     6.4176   \n",
              "4       0.02        305       1915      84.93      14.03     8.6754   \n",
              "\n",
              "   Remaining RUL  \n",
              "0            320  \n",
              "1            319  \n",
              "2            318  \n",
              "3            317  \n",
              "4            316  \n",
              "\n",
              "[5 rows x 27 columns]"
            ]
          },
          "execution_count": 40,
          "metadata": {},
          "output_type": "execute_result"
        }
      ],
      "source": [
        "train_4.head()"
      ]
    },
    {
      "cell_type": "markdown",
      "metadata": {},
      "source": [
        "### Load RUL set"
      ]
    },
    {
      "cell_type": "code",
      "execution_count": 41,
      "metadata": {},
      "outputs": [
        {
          "name": "stdout",
          "output_type": "stream",
          "text": [
            "RUL shape: (248, 1)\n"
          ]
        }
      ],
      "source": [
        "rul_4 = pd.read_csv(rul_4_path, sep=' ', header=None)\n",
        "rul_4.drop(rul_4.columns[1], axis=1, inplace=True)\n",
        "rul_4.columns = ['RUL']\n",
        "print(f'RUL shape: {rul_4.shape}')"
      ]
    },
    {
      "cell_type": "markdown",
      "metadata": {},
      "source": [
        "Tập RUL này là vòng đời còn lại của động cơ sau khi trải qua số lượng chu kỳ nhất định trong tập test (tương ứng)"
      ]
    },
    {
      "cell_type": "code",
      "execution_count": 42,
      "metadata": {},
      "outputs": [
        {
          "data": {
            "text/html": [
              "<div>\n",
              "<style scoped>\n",
              "    .dataframe tbody tr th:only-of-type {\n",
              "        vertical-align: middle;\n",
              "    }\n",
              "\n",
              "    .dataframe tbody tr th {\n",
              "        vertical-align: top;\n",
              "    }\n",
              "\n",
              "    .dataframe thead th {\n",
              "        text-align: right;\n",
              "    }\n",
              "</style>\n",
              "<table border=\"1\" class=\"dataframe\">\n",
              "  <thead>\n",
              "    <tr style=\"text-align: right;\">\n",
              "      <th></th>\n",
              "      <th>RUL</th>\n",
              "    </tr>\n",
              "  </thead>\n",
              "  <tbody>\n",
              "    <tr>\n",
              "      <th>0</th>\n",
              "      <td>22</td>\n",
              "    </tr>\n",
              "    <tr>\n",
              "      <th>1</th>\n",
              "      <td>39</td>\n",
              "    </tr>\n",
              "    <tr>\n",
              "      <th>2</th>\n",
              "      <td>107</td>\n",
              "    </tr>\n",
              "    <tr>\n",
              "      <th>3</th>\n",
              "      <td>75</td>\n",
              "    </tr>\n",
              "    <tr>\n",
              "      <th>4</th>\n",
              "      <td>149</td>\n",
              "    </tr>\n",
              "  </tbody>\n",
              "</table>\n",
              "</div>"
            ],
            "text/plain": [
              "   RUL\n",
              "0   22\n",
              "1   39\n",
              "2  107\n",
              "3   75\n",
              "4  149"
            ]
          },
          "execution_count": 42,
          "metadata": {},
          "output_type": "execute_result"
        }
      ],
      "source": [
        "rul_4.head()"
      ]
    },
    {
      "cell_type": "markdown",
      "metadata": {},
      "source": [
        "### Calculate RUL for test"
      ]
    },
    {
      "cell_type": "code",
      "execution_count": 43,
      "metadata": {},
      "outputs": [],
      "source": [
        "# Load test set\n",
        "test_4 = pd.read_csv(test_4_path, sep=' ', header=None)\n",
        "test_4.drop([26, 27], axis=1, inplace=True)\n",
        "test_4.columns = column_names\n",
        "\n",
        "test_4['Remaining RUL'] = ''\n",
        "# test_4.head()"
      ]
    },
    {
      "cell_type": "code",
      "execution_count": 44,
      "metadata": {},
      "outputs": [],
      "source": [
        "max_cycle_test_4 = test_4.groupby('ID Engine').count()\n",
        "\n",
        "for idx in range(len(test_4)):\n",
        "    test_4.loc[idx, 'Remaining RUL'] = rul_4.loc[test_4.loc[idx, 'ID Engine'] - 1, 'RUL'] + max_cycle_test_4.loc[test_4.loc[idx, 'ID Engine'], 'Cycle']\n",
        "test_4['Remaining RUL'] = test_4['Remaining RUL'] - test_4['Cycle']"
      ]
    },
    {
      "cell_type": "code",
      "execution_count": 45,
      "metadata": {},
      "outputs": [
        {
          "data": {
            "text/html": [
              "<div>\n",
              "<style scoped>\n",
              "    .dataframe tbody tr th:only-of-type {\n",
              "        vertical-align: middle;\n",
              "    }\n",
              "\n",
              "    .dataframe tbody tr th {\n",
              "        vertical-align: top;\n",
              "    }\n",
              "\n",
              "    .dataframe thead th {\n",
              "        text-align: right;\n",
              "    }\n",
              "</style>\n",
              "<table border=\"1\" class=\"dataframe\">\n",
              "  <thead>\n",
              "    <tr style=\"text-align: right;\">\n",
              "      <th></th>\n",
              "      <th>ID Engine</th>\n",
              "      <th>Cycle</th>\n",
              "      <th>Setting 1</th>\n",
              "      <th>Setting 2</th>\n",
              "      <th>Setting 3</th>\n",
              "      <th>Sensor 1</th>\n",
              "      <th>Sensor 2</th>\n",
              "      <th>Sensor 3</th>\n",
              "      <th>Sensor 4</th>\n",
              "      <th>Sensor 5</th>\n",
              "      <th>...</th>\n",
              "      <th>Sensor 13</th>\n",
              "      <th>Sensor 14</th>\n",
              "      <th>Sensor 15</th>\n",
              "      <th>Sensor 16</th>\n",
              "      <th>Sensor 17</th>\n",
              "      <th>Sensor 18</th>\n",
              "      <th>Sensor 19</th>\n",
              "      <th>Sensor 20</th>\n",
              "      <th>Sensor 21</th>\n",
              "      <th>Remaining RUL</th>\n",
              "    </tr>\n",
              "  </thead>\n",
              "  <tbody>\n",
              "    <tr>\n",
              "      <th>0</th>\n",
              "      <td>1</td>\n",
              "      <td>1</td>\n",
              "      <td>20.0072</td>\n",
              "      <td>0.7000</td>\n",
              "      <td>100.0</td>\n",
              "      <td>491.19</td>\n",
              "      <td>606.67</td>\n",
              "      <td>1481.04</td>\n",
              "      <td>1227.81</td>\n",
              "      <td>9.35</td>\n",
              "      <td>...</td>\n",
              "      <td>2387.78</td>\n",
              "      <td>8048.98</td>\n",
              "      <td>9.2229</td>\n",
              "      <td>0.02</td>\n",
              "      <td>362</td>\n",
              "      <td>2324</td>\n",
              "      <td>100.00</td>\n",
              "      <td>24.31</td>\n",
              "      <td>14.7007</td>\n",
              "      <td>251</td>\n",
              "    </tr>\n",
              "    <tr>\n",
              "      <th>1</th>\n",
              "      <td>1</td>\n",
              "      <td>2</td>\n",
              "      <td>24.9984</td>\n",
              "      <td>0.6200</td>\n",
              "      <td>60.0</td>\n",
              "      <td>462.54</td>\n",
              "      <td>536.22</td>\n",
              "      <td>1256.17</td>\n",
              "      <td>1031.48</td>\n",
              "      <td>7.05</td>\n",
              "      <td>...</td>\n",
              "      <td>2028.09</td>\n",
              "      <td>7863.46</td>\n",
              "      <td>10.8632</td>\n",
              "      <td>0.02</td>\n",
              "      <td>306</td>\n",
              "      <td>1915</td>\n",
              "      <td>84.93</td>\n",
              "      <td>14.36</td>\n",
              "      <td>8.5748</td>\n",
              "      <td>250</td>\n",
              "    </tr>\n",
              "    <tr>\n",
              "      <th>2</th>\n",
              "      <td>1</td>\n",
              "      <td>3</td>\n",
              "      <td>42.0000</td>\n",
              "      <td>0.8420</td>\n",
              "      <td>100.0</td>\n",
              "      <td>445.00</td>\n",
              "      <td>549.23</td>\n",
              "      <td>1340.13</td>\n",
              "      <td>1105.88</td>\n",
              "      <td>3.91</td>\n",
              "      <td>...</td>\n",
              "      <td>2387.95</td>\n",
              "      <td>8071.13</td>\n",
              "      <td>9.3960</td>\n",
              "      <td>0.02</td>\n",
              "      <td>328</td>\n",
              "      <td>2212</td>\n",
              "      <td>100.00</td>\n",
              "      <td>10.39</td>\n",
              "      <td>6.4365</td>\n",
              "      <td>249</td>\n",
              "    </tr>\n",
              "    <tr>\n",
              "      <th>3</th>\n",
              "      <td>1</td>\n",
              "      <td>4</td>\n",
              "      <td>42.0035</td>\n",
              "      <td>0.8402</td>\n",
              "      <td>100.0</td>\n",
              "      <td>445.00</td>\n",
              "      <td>549.19</td>\n",
              "      <td>1339.70</td>\n",
              "      <td>1107.26</td>\n",
              "      <td>3.91</td>\n",
              "      <td>...</td>\n",
              "      <td>2387.90</td>\n",
              "      <td>8078.89</td>\n",
              "      <td>9.3594</td>\n",
              "      <td>0.02</td>\n",
              "      <td>328</td>\n",
              "      <td>2212</td>\n",
              "      <td>100.00</td>\n",
              "      <td>10.56</td>\n",
              "      <td>6.2367</td>\n",
              "      <td>248</td>\n",
              "    </tr>\n",
              "    <tr>\n",
              "      <th>4</th>\n",
              "      <td>1</td>\n",
              "      <td>5</td>\n",
              "      <td>35.0079</td>\n",
              "      <td>0.8400</td>\n",
              "      <td>100.0</td>\n",
              "      <td>449.44</td>\n",
              "      <td>555.10</td>\n",
              "      <td>1353.04</td>\n",
              "      <td>1117.80</td>\n",
              "      <td>5.48</td>\n",
              "      <td>...</td>\n",
              "      <td>2387.87</td>\n",
              "      <td>8057.83</td>\n",
              "      <td>9.3030</td>\n",
              "      <td>0.02</td>\n",
              "      <td>333</td>\n",
              "      <td>2223</td>\n",
              "      <td>100.00</td>\n",
              "      <td>14.85</td>\n",
              "      <td>8.9326</td>\n",
              "      <td>247</td>\n",
              "    </tr>\n",
              "  </tbody>\n",
              "</table>\n",
              "<p>5 rows × 27 columns</p>\n",
              "</div>"
            ],
            "text/plain": [
              "   ID Engine  Cycle  Setting 1  Setting 2  Setting 3  Sensor 1  Sensor 2  \\\n",
              "0          1      1    20.0072     0.7000      100.0    491.19    606.67   \n",
              "1          1      2    24.9984     0.6200       60.0    462.54    536.22   \n",
              "2          1      3    42.0000     0.8420      100.0    445.00    549.23   \n",
              "3          1      4    42.0035     0.8402      100.0    445.00    549.19   \n",
              "4          1      5    35.0079     0.8400      100.0    449.44    555.10   \n",
              "\n",
              "   Sensor 3  Sensor 4  Sensor 5  ...  Sensor 13  Sensor 14  Sensor 15  \\\n",
              "0   1481.04   1227.81      9.35  ...    2387.78    8048.98     9.2229   \n",
              "1   1256.17   1031.48      7.05  ...    2028.09    7863.46    10.8632   \n",
              "2   1340.13   1105.88      3.91  ...    2387.95    8071.13     9.3960   \n",
              "3   1339.70   1107.26      3.91  ...    2387.90    8078.89     9.3594   \n",
              "4   1353.04   1117.80      5.48  ...    2387.87    8057.83     9.3030   \n",
              "\n",
              "   Sensor 16  Sensor 17  Sensor 18  Sensor 19  Sensor 20  Sensor 21  \\\n",
              "0       0.02        362       2324     100.00      24.31    14.7007   \n",
              "1       0.02        306       1915      84.93      14.36     8.5748   \n",
              "2       0.02        328       2212     100.00      10.39     6.4365   \n",
              "3       0.02        328       2212     100.00      10.56     6.2367   \n",
              "4       0.02        333       2223     100.00      14.85     8.9326   \n",
              "\n",
              "   Remaining RUL  \n",
              "0            251  \n",
              "1            250  \n",
              "2            249  \n",
              "3            248  \n",
              "4            247  \n",
              "\n",
              "[5 rows x 27 columns]"
            ]
          },
          "execution_count": 45,
          "metadata": {},
          "output_type": "execute_result"
        }
      ],
      "source": [
        "test_4.head()"
      ]
    },
    {
      "cell_type": "markdown",
      "metadata": {},
      "source": [
        "# Plot number of sample for each dataset"
      ]
    },
    {
      "cell_type": "code",
      "execution_count": 46,
      "metadata": {},
      "outputs": [
        {
          "data": {
            "text/plain": [
              "20631"
            ]
          },
          "execution_count": 46,
          "metadata": {},
          "output_type": "execute_result"
        }
      ],
      "source": [
        "len(train_1)"
      ]
    },
    {
      "cell_type": "code",
      "execution_count": 47,
      "metadata": {},
      "outputs": [
        {
          "data": {
            "text/plain": [
              "53759"
            ]
          },
          "execution_count": 47,
          "metadata": {},
          "output_type": "execute_result"
        }
      ],
      "source": [
        "len(train_2)"
      ]
    },
    {
      "cell_type": "code",
      "execution_count": 48,
      "metadata": {},
      "outputs": [
        {
          "data": {
            "text/plain": [
              "24720"
            ]
          },
          "execution_count": 48,
          "metadata": {},
          "output_type": "execute_result"
        }
      ],
      "source": [
        "len(train_3)"
      ]
    },
    {
      "cell_type": "code",
      "execution_count": 49,
      "metadata": {},
      "outputs": [
        {
          "data": {
            "text/plain": [
              "61249"
            ]
          },
          "execution_count": 49,
          "metadata": {},
          "output_type": "execute_result"
        }
      ],
      "source": [
        "len(train_4)"
      ]
    },
    {
      "cell_type": "code",
      "execution_count": 50,
      "metadata": {},
      "outputs": [
        {
          "data": {
            "text/plain": [
              "160359"
            ]
          },
          "execution_count": 50,
          "metadata": {},
          "output_type": "execute_result"
        }
      ],
      "source": [
        "total = len(train_1) + len(train_2) + len(train_3) + len(train_4)\n",
        "total"
      ]
    },
    {
      "cell_type": "code",
      "execution_count": 51,
      "metadata": {},
      "outputs": [
        {
          "data": {
            "image/png": "[encoded data removed]",
            "text/plain": [
              "<Figure size 700x600 with 1 Axes>"
            ]
          },
          "metadata": {},
          "output_type": "display_data"
        }
      ],
      "source": [
        "sample_counts = [len(train_1), len(train_2), len(train_3), len(train_4), total]\n",
        "labels = ['Train_FD001', 'Train_FD002', 'Train_FD003', 'Train_FD004', 'Total']\n",
        "\n",
        "plt.figure(figsize=(7, 6))\n",
        "plt.bar(labels, sample_counts, color=['blue', 'green', 'red', 'purple', 'orange'], width=0.5)\n",
        "plt.xlabel('CMAPSS Dataset')\n",
        "plt.ylabel('Number of Samples')\n",
        "plt.title('Number of Samples in Each Dataset')\n",
        "plt.show()"
      ]
    },
    {
      "cell_type": "markdown",
      "metadata": {},
      "source": [
        "# Concatenate for train_FD001,2,3,4"
      ]
    },
    {
      "cell_type": "code",
      "execution_count": 52,
      "metadata": {},
      "outputs": [
        {
          "name": "stdout",
          "output_type": "stream",
          "text": [
            "train_1 shape: (20631, 27)\n",
            "test_1 shape: (13096, 27)\n",
            "rul_1 shape: (100, 1)\n",
            "max_cycle_1 shape: (100, 26)\n"
          ]
        }
      ],
      "source": [
        "print(f'train_1 shape: {train_1.shape}')\n",
        "print(f'test_1 shape: {test_1.shape}')\n",
        "print(f'rul_1 shape: {rul_1.shape}')\n",
        "print(f'max_cycle_1 shape: {max_cycle_1.shape}')"
      ]
    },
    {
      "cell_type": "code",
      "execution_count": 53,
      "metadata": {},
      "outputs": [
        {
          "name": "stdout",
          "output_type": "stream",
          "text": [
            "train_2 shape: (53759, 27)\n",
            "test_2 shape: (33991, 27)\n",
            "rul_2 shape: (259, 1)\n",
            "max_cycle_2 shape: (260, 26)\n"
          ]
        }
      ],
      "source": [
        "print(f'train_2 shape: {train_2.shape}')\n",
        "print(f'test_2 shape: {test_2.shape}')\n",
        "print(f'rul_2 shape: {rul_2.shape}')\n",
        "print(f'max_cycle_2 shape: {max_cycle_2.shape}')"
      ]
    },
    {
      "cell_type": "code",
      "execution_count": 54,
      "metadata": {},
      "outputs": [
        {
          "name": "stdout",
          "output_type": "stream",
          "text": [
            "train_3 shape: (24720, 27)\n",
            "test_3 shape: (16596, 27)\n",
            "rul_3 shape: (100, 1)\n",
            "max_cycle_3 shape: (100, 26)\n"
          ]
        }
      ],
      "source": [
        "print(f'train_3 shape: {train_3.shape}')\n",
        "print(f'test_3 shape: {test_3.shape}')\n",
        "print(f'rul_3 shape: {rul_3.shape}')\n",
        "print(f'max_cycle_3 shape: {max_cycle_3.shape}')"
      ]
    },
    {
      "cell_type": "code",
      "execution_count": 55,
      "metadata": {},
      "outputs": [
        {
          "name": "stdout",
          "output_type": "stream",
          "text": [
            "train_4 shape: (61249, 27)\n",
            "test_4 shape: (41214, 27)\n",
            "rul_4 shape: (248, 1)\n",
            "max_cycle_4 shape: (249, 26)\n"
          ]
        }
      ],
      "source": [
        "print(f'train_4 shape: {train_4.shape}')\n",
        "print(f'test_4 shape: {test_4.shape}')\n",
        "print(f'rul_4 shape: {rul_4.shape}')\n",
        "print(f'max_cycle_4 shape: {max_cycle_4.shape}')"
      ]
    },
    {
      "cell_type": "code",
      "execution_count": 56,
      "metadata": {},
      "outputs": [
        {
          "data": {
            "text/html": [
              "<div>\n",
              "<style scoped>\n",
              "    .dataframe tbody tr th:only-of-type {\n",
              "        vertical-align: middle;\n",
              "    }\n",
              "\n",
              "    .dataframe tbody tr th {\n",
              "        vertical-align: top;\n",
              "    }\n",
              "\n",
              "    .dataframe thead th {\n",
              "        text-align: right;\n",
              "    }\n",
              "</style>\n",
              "<table border=\"1\" class=\"dataframe\">\n",
              "  <thead>\n",
              "    <tr style=\"text-align: right;\">\n",
              "      <th></th>\n",
              "      <th>ID Engine</th>\n",
              "      <th>Cycle</th>\n",
              "      <th>Setting 1</th>\n",
              "      <th>Setting 2</th>\n",
              "      <th>Setting 3</th>\n",
              "      <th>Sensor 1</th>\n",
              "      <th>Sensor 2</th>\n",
              "      <th>Sensor 3</th>\n",
              "      <th>Sensor 4</th>\n",
              "      <th>Sensor 5</th>\n",
              "      <th>...</th>\n",
              "      <th>Sensor 13</th>\n",
              "      <th>Sensor 14</th>\n",
              "      <th>Sensor 15</th>\n",
              "      <th>Sensor 16</th>\n",
              "      <th>Sensor 17</th>\n",
              "      <th>Sensor 18</th>\n",
              "      <th>Sensor 19</th>\n",
              "      <th>Sensor 20</th>\n",
              "      <th>Sensor 21</th>\n",
              "      <th>Remaining RUL</th>\n",
              "    </tr>\n",
              "  </thead>\n",
              "  <tbody>\n",
              "    <tr>\n",
              "      <th>0</th>\n",
              "      <td>1</td>\n",
              "      <td>1</td>\n",
              "      <td>-0.0007</td>\n",
              "      <td>-0.0004</td>\n",
              "      <td>100.0</td>\n",
              "      <td>518.67</td>\n",
              "      <td>641.82</td>\n",
              "      <td>1589.70</td>\n",
              "      <td>1400.60</td>\n",
              "      <td>14.62</td>\n",
              "      <td>...</td>\n",
              "      <td>2388.02</td>\n",
              "      <td>8138.62</td>\n",
              "      <td>8.4195</td>\n",
              "      <td>0.03</td>\n",
              "      <td>392</td>\n",
              "      <td>2388</td>\n",
              "      <td>100.0</td>\n",
              "      <td>39.06</td>\n",
              "      <td>23.4190</td>\n",
              "      <td>191</td>\n",
              "    </tr>\n",
              "    <tr>\n",
              "      <th>1</th>\n",
              "      <td>1</td>\n",
              "      <td>2</td>\n",
              "      <td>0.0019</td>\n",
              "      <td>-0.0003</td>\n",
              "      <td>100.0</td>\n",
              "      <td>518.67</td>\n",
              "      <td>642.15</td>\n",
              "      <td>1591.82</td>\n",
              "      <td>1403.14</td>\n",
              "      <td>14.62</td>\n",
              "      <td>...</td>\n",
              "      <td>2388.07</td>\n",
              "      <td>8131.49</td>\n",
              "      <td>8.4318</td>\n",
              "      <td>0.03</td>\n",
              "      <td>392</td>\n",
              "      <td>2388</td>\n",
              "      <td>100.0</td>\n",
              "      <td>39.00</td>\n",
              "      <td>23.4236</td>\n",
              "      <td>190</td>\n",
              "    </tr>\n",
              "    <tr>\n",
              "      <th>2</th>\n",
              "      <td>1</td>\n",
              "      <td>3</td>\n",
              "      <td>-0.0043</td>\n",
              "      <td>0.0003</td>\n",
              "      <td>100.0</td>\n",
              "      <td>518.67</td>\n",
              "      <td>642.35</td>\n",
              "      <td>1587.99</td>\n",
              "      <td>1404.20</td>\n",
              "      <td>14.62</td>\n",
              "      <td>...</td>\n",
              "      <td>2388.03</td>\n",
              "      <td>8133.23</td>\n",
              "      <td>8.4178</td>\n",
              "      <td>0.03</td>\n",
              "      <td>390</td>\n",
              "      <td>2388</td>\n",
              "      <td>100.0</td>\n",
              "      <td>38.95</td>\n",
              "      <td>23.3442</td>\n",
              "      <td>189</td>\n",
              "    </tr>\n",
              "    <tr>\n",
              "      <th>3</th>\n",
              "      <td>1</td>\n",
              "      <td>4</td>\n",
              "      <td>0.0007</td>\n",
              "      <td>0.0000</td>\n",
              "      <td>100.0</td>\n",
              "      <td>518.67</td>\n",
              "      <td>642.35</td>\n",
              "      <td>1582.79</td>\n",
              "      <td>1401.87</td>\n",
              "      <td>14.62</td>\n",
              "      <td>...</td>\n",
              "      <td>2388.08</td>\n",
              "      <td>8133.83</td>\n",
              "      <td>8.3682</td>\n",
              "      <td>0.03</td>\n",
              "      <td>392</td>\n",
              "      <td>2388</td>\n",
              "      <td>100.0</td>\n",
              "      <td>38.88</td>\n",
              "      <td>23.3739</td>\n",
              "      <td>188</td>\n",
              "    </tr>\n",
              "    <tr>\n",
              "      <th>4</th>\n",
              "      <td>1</td>\n",
              "      <td>5</td>\n",
              "      <td>-0.0019</td>\n",
              "      <td>-0.0002</td>\n",
              "      <td>100.0</td>\n",
              "      <td>518.67</td>\n",
              "      <td>642.37</td>\n",
              "      <td>1582.85</td>\n",
              "      <td>1406.22</td>\n",
              "      <td>14.62</td>\n",
              "      <td>...</td>\n",
              "      <td>2388.04</td>\n",
              "      <td>8133.80</td>\n",
              "      <td>8.4294</td>\n",
              "      <td>0.03</td>\n",
              "      <td>393</td>\n",
              "      <td>2388</td>\n",
              "      <td>100.0</td>\n",
              "      <td>38.90</td>\n",
              "      <td>23.4044</td>\n",
              "      <td>187</td>\n",
              "    </tr>\n",
              "  </tbody>\n",
              "</table>\n",
              "<p>5 rows × 27 columns</p>\n",
              "</div>"
            ],
            "text/plain": [
              "   ID Engine  Cycle  Setting 1  Setting 2  Setting 3  Sensor 1  Sensor 2  \\\n",
              "0          1      1    -0.0007    -0.0004      100.0    518.67    641.82   \n",
              "1          1      2     0.0019    -0.0003      100.0    518.67    642.15   \n",
              "2          1      3    -0.0043     0.0003      100.0    518.67    642.35   \n",
              "3          1      4     0.0007     0.0000      100.0    518.67    642.35   \n",
              "4          1      5    -0.0019    -0.0002      100.0    518.67    642.37   \n",
              "\n",
              "   Sensor 3  Sensor 4  Sensor 5  ...  Sensor 13  Sensor 14  Sensor 15  \\\n",
              "0   1589.70   1400.60     14.62  ...    2388.02    8138.62     8.4195   \n",
              "1   1591.82   1403.14     14.62  ...    2388.07    8131.49     8.4318   \n",
              "2   1587.99   1404.20     14.62  ...    2388.03    8133.23     8.4178   \n",
              "3   1582.79   1401.87     14.62  ...    2388.08    8133.83     8.3682   \n",
              "4   1582.85   1406.22     14.62  ...    2388.04    8133.80     8.4294   \n",
              "\n",
              "   Sensor 16  Sensor 17  Sensor 18  Sensor 19  Sensor 20  Sensor 21  \\\n",
              "0       0.03        392       2388      100.0      39.06    23.4190   \n",
              "1       0.03        392       2388      100.0      39.00    23.4236   \n",
              "2       0.03        390       2388      100.0      38.95    23.3442   \n",
              "3       0.03        392       2388      100.0      38.88    23.3739   \n",
              "4       0.03        393       2388      100.0      38.90    23.4044   \n",
              "\n",
              "   Remaining RUL  \n",
              "0            191  \n",
              "1            190  \n",
              "2            189  \n",
              "3            188  \n",
              "4            187  \n",
              "\n",
              "[5 rows x 27 columns]"
            ]
          },
          "execution_count": 56,
          "metadata": {},
          "output_type": "execute_result"
        }
      ],
      "source": [
        "train_1.head()"
      ]
    },
    {
      "cell_type": "code",
      "execution_count": 57,
      "metadata": {},
      "outputs": [
        {
          "data": {
            "text/html": [
              "<div>\n",
              "<style scoped>\n",
              "    .dataframe tbody tr th:only-of-type {\n",
              "        vertical-align: middle;\n",
              "    }\n",
              "\n",
              "    .dataframe tbody tr th {\n",
              "        vertical-align: top;\n",
              "    }\n",
              "\n",
              "    .dataframe thead th {\n",
              "        text-align: right;\n",
              "    }\n",
              "</style>\n",
              "<table border=\"1\" class=\"dataframe\">\n",
              "  <thead>\n",
              "    <tr style=\"text-align: right;\">\n",
              "      <th></th>\n",
              "      <th>ID Engine</th>\n",
              "      <th>Cycle</th>\n",
              "      <th>Setting 1</th>\n",
              "      <th>Setting 2</th>\n",
              "      <th>Setting 3</th>\n",
              "      <th>Sensor 1</th>\n",
              "      <th>Sensor 2</th>\n",
              "      <th>Sensor 3</th>\n",
              "      <th>Sensor 4</th>\n",
              "      <th>Sensor 5</th>\n",
              "      <th>...</th>\n",
              "      <th>Sensor 13</th>\n",
              "      <th>Sensor 14</th>\n",
              "      <th>Sensor 15</th>\n",
              "      <th>Sensor 16</th>\n",
              "      <th>Sensor 17</th>\n",
              "      <th>Sensor 18</th>\n",
              "      <th>Sensor 19</th>\n",
              "      <th>Sensor 20</th>\n",
              "      <th>Sensor 21</th>\n",
              "      <th>Remaining RUL</th>\n",
              "    </tr>\n",
              "  </thead>\n",
              "  <tbody>\n",
              "    <tr>\n",
              "      <th>0</th>\n",
              "      <td>20632</td>\n",
              "      <td>1</td>\n",
              "      <td>34.9983</td>\n",
              "      <td>0.8400</td>\n",
              "      <td>100.0</td>\n",
              "      <td>449.44</td>\n",
              "      <td>555.32</td>\n",
              "      <td>1358.61</td>\n",
              "      <td>1137.23</td>\n",
              "      <td>5.48</td>\n",
              "      <td>...</td>\n",
              "      <td>2387.72</td>\n",
              "      <td>8048.56</td>\n",
              "      <td>9.3461</td>\n",
              "      <td>0.02</td>\n",
              "      <td>334</td>\n",
              "      <td>2223</td>\n",
              "      <td>100.00</td>\n",
              "      <td>14.73</td>\n",
              "      <td>8.8071</td>\n",
              "      <td>148</td>\n",
              "    </tr>\n",
              "    <tr>\n",
              "      <th>1</th>\n",
              "      <td>20632</td>\n",
              "      <td>2</td>\n",
              "      <td>41.9982</td>\n",
              "      <td>0.8408</td>\n",
              "      <td>100.0</td>\n",
              "      <td>445.00</td>\n",
              "      <td>549.90</td>\n",
              "      <td>1353.22</td>\n",
              "      <td>1125.78</td>\n",
              "      <td>3.91</td>\n",
              "      <td>...</td>\n",
              "      <td>2387.66</td>\n",
              "      <td>8072.30</td>\n",
              "      <td>9.3774</td>\n",
              "      <td>0.02</td>\n",
              "      <td>330</td>\n",
              "      <td>2212</td>\n",
              "      <td>100.00</td>\n",
              "      <td>10.41</td>\n",
              "      <td>6.2665</td>\n",
              "      <td>147</td>\n",
              "    </tr>\n",
              "    <tr>\n",
              "      <th>2</th>\n",
              "      <td>20632</td>\n",
              "      <td>3</td>\n",
              "      <td>24.9988</td>\n",
              "      <td>0.6218</td>\n",
              "      <td>60.0</td>\n",
              "      <td>462.54</td>\n",
              "      <td>537.31</td>\n",
              "      <td>1256.76</td>\n",
              "      <td>1047.45</td>\n",
              "      <td>7.05</td>\n",
              "      <td>...</td>\n",
              "      <td>2028.03</td>\n",
              "      <td>7864.87</td>\n",
              "      <td>10.8941</td>\n",
              "      <td>0.02</td>\n",
              "      <td>309</td>\n",
              "      <td>1915</td>\n",
              "      <td>84.93</td>\n",
              "      <td>14.08</td>\n",
              "      <td>8.6723</td>\n",
              "      <td>146</td>\n",
              "    </tr>\n",
              "    <tr>\n",
              "      <th>3</th>\n",
              "      <td>20632</td>\n",
              "      <td>4</td>\n",
              "      <td>42.0077</td>\n",
              "      <td>0.8416</td>\n",
              "      <td>100.0</td>\n",
              "      <td>445.00</td>\n",
              "      <td>549.51</td>\n",
              "      <td>1354.03</td>\n",
              "      <td>1126.38</td>\n",
              "      <td>3.91</td>\n",
              "      <td>...</td>\n",
              "      <td>2387.61</td>\n",
              "      <td>8068.66</td>\n",
              "      <td>9.3528</td>\n",
              "      <td>0.02</td>\n",
              "      <td>329</td>\n",
              "      <td>2212</td>\n",
              "      <td>100.00</td>\n",
              "      <td>10.59</td>\n",
              "      <td>6.4701</td>\n",
              "      <td>145</td>\n",
              "    </tr>\n",
              "    <tr>\n",
              "      <th>4</th>\n",
              "      <td>20632</td>\n",
              "      <td>5</td>\n",
              "      <td>25.0005</td>\n",
              "      <td>0.6203</td>\n",
              "      <td>60.0</td>\n",
              "      <td>462.54</td>\n",
              "      <td>537.07</td>\n",
              "      <td>1257.71</td>\n",
              "      <td>1047.93</td>\n",
              "      <td>7.05</td>\n",
              "      <td>...</td>\n",
              "      <td>2028.00</td>\n",
              "      <td>7861.23</td>\n",
              "      <td>10.8963</td>\n",
              "      <td>0.02</td>\n",
              "      <td>309</td>\n",
              "      <td>1915</td>\n",
              "      <td>84.93</td>\n",
              "      <td>14.13</td>\n",
              "      <td>8.5286</td>\n",
              "      <td>144</td>\n",
              "    </tr>\n",
              "  </tbody>\n",
              "</table>\n",
              "<p>5 rows × 27 columns</p>\n",
              "</div>"
            ],
            "text/plain": [
              "   ID Engine  Cycle  Setting 1  Setting 2  Setting 3  Sensor 1  Sensor 2  \\\n",
              "0      20632      1    34.9983     0.8400      100.0    449.44    555.32   \n",
              "1      20632      2    41.9982     0.8408      100.0    445.00    549.90   \n",
              "2      20632      3    24.9988     0.6218       60.0    462.54    537.31   \n",
              "3      20632      4    42.0077     0.8416      100.0    445.00    549.51   \n",
              "4      20632      5    25.0005     0.6203       60.0    462.54    537.07   \n",
              "\n",
              "   Sensor 3  Sensor 4  Sensor 5  ...  Sensor 13  Sensor 14  Sensor 15  \\\n",
              "0   1358.61   1137.23      5.48  ...    2387.72    8048.56     9.3461   \n",
              "1   1353.22   1125.78      3.91  ...    2387.66    8072.30     9.3774   \n",
              "2   1256.76   1047.45      7.05  ...    2028.03    7864.87    10.8941   \n",
              "3   1354.03   1126.38      3.91  ...    2387.61    8068.66     9.3528   \n",
              "4   1257.71   1047.93      7.05  ...    2028.00    7861.23    10.8963   \n",
              "\n",
              "   Sensor 16  Sensor 17  Sensor 18  Sensor 19  Sensor 20  Sensor 21  \\\n",
              "0       0.02        334       2223     100.00      14.73     8.8071   \n",
              "1       0.02        330       2212     100.00      10.41     6.2665   \n",
              "2       0.02        309       1915      84.93      14.08     8.6723   \n",
              "3       0.02        329       2212     100.00      10.59     6.4701   \n",
              "4       0.02        309       1915      84.93      14.13     8.5286   \n",
              "\n",
              "   Remaining RUL  \n",
              "0            148  \n",
              "1            147  \n",
              "2            146  \n",
              "3            145  \n",
              "4            144  \n",
              "\n",
              "[5 rows x 27 columns]"
            ]
          },
          "execution_count": 57,
          "metadata": {},
          "output_type": "execute_result"
        }
      ],
      "source": [
        "num = len(train_1)\n",
        "for idx in range(len(train_2)):\n",
        "    train_2.loc[idx, 'ID Engine'] += num\n",
        "train_2.head()"
      ]
    },
    {
      "cell_type": "code",
      "execution_count": 58,
      "metadata": {},
      "outputs": [
        {
          "data": {
            "text/html": [
              "<div>\n",
              "<style scoped>\n",
              "    .dataframe tbody tr th:only-of-type {\n",
              "        vertical-align: middle;\n",
              "    }\n",
              "\n",
              "    .dataframe tbody tr th {\n",
              "        vertical-align: top;\n",
              "    }\n",
              "\n",
              "    .dataframe thead th {\n",
              "        text-align: right;\n",
              "    }\n",
              "</style>\n",
              "<table border=\"1\" class=\"dataframe\">\n",
              "  <thead>\n",
              "    <tr style=\"text-align: right;\">\n",
              "      <th></th>\n",
              "      <th>ID Engine</th>\n",
              "      <th>Cycle</th>\n",
              "      <th>Setting 1</th>\n",
              "      <th>Setting 2</th>\n",
              "      <th>Setting 3</th>\n",
              "      <th>Sensor 1</th>\n",
              "      <th>Sensor 2</th>\n",
              "      <th>Sensor 3</th>\n",
              "      <th>Sensor 4</th>\n",
              "      <th>Sensor 5</th>\n",
              "      <th>...</th>\n",
              "      <th>Sensor 13</th>\n",
              "      <th>Sensor 14</th>\n",
              "      <th>Sensor 15</th>\n",
              "      <th>Sensor 16</th>\n",
              "      <th>Sensor 17</th>\n",
              "      <th>Sensor 18</th>\n",
              "      <th>Sensor 19</th>\n",
              "      <th>Sensor 20</th>\n",
              "      <th>Sensor 21</th>\n",
              "      <th>Remaining RUL</th>\n",
              "    </tr>\n",
              "  </thead>\n",
              "  <tbody>\n",
              "    <tr>\n",
              "      <th>0</th>\n",
              "      <td>74391</td>\n",
              "      <td>1</td>\n",
              "      <td>-0.0005</td>\n",
              "      <td>0.0004</td>\n",
              "      <td>100.0</td>\n",
              "      <td>518.67</td>\n",
              "      <td>642.36</td>\n",
              "      <td>1583.23</td>\n",
              "      <td>1396.84</td>\n",
              "      <td>14.62</td>\n",
              "      <td>...</td>\n",
              "      <td>2388.01</td>\n",
              "      <td>8145.32</td>\n",
              "      <td>8.4246</td>\n",
              "      <td>0.03</td>\n",
              "      <td>391</td>\n",
              "      <td>2388</td>\n",
              "      <td>100.0</td>\n",
              "      <td>39.11</td>\n",
              "      <td>23.3537</td>\n",
              "      <td>258</td>\n",
              "    </tr>\n",
              "    <tr>\n",
              "      <th>1</th>\n",
              "      <td>74391</td>\n",
              "      <td>2</td>\n",
              "      <td>0.0008</td>\n",
              "      <td>-0.0003</td>\n",
              "      <td>100.0</td>\n",
              "      <td>518.67</td>\n",
              "      <td>642.50</td>\n",
              "      <td>1584.69</td>\n",
              "      <td>1396.89</td>\n",
              "      <td>14.62</td>\n",
              "      <td>...</td>\n",
              "      <td>2388.03</td>\n",
              "      <td>8152.85</td>\n",
              "      <td>8.4403</td>\n",
              "      <td>0.03</td>\n",
              "      <td>392</td>\n",
              "      <td>2388</td>\n",
              "      <td>100.0</td>\n",
              "      <td>38.99</td>\n",
              "      <td>23.4491</td>\n",
              "      <td>257</td>\n",
              "    </tr>\n",
              "    <tr>\n",
              "      <th>2</th>\n",
              "      <td>74391</td>\n",
              "      <td>3</td>\n",
              "      <td>-0.0014</td>\n",
              "      <td>-0.0002</td>\n",
              "      <td>100.0</td>\n",
              "      <td>518.67</td>\n",
              "      <td>642.18</td>\n",
              "      <td>1582.35</td>\n",
              "      <td>1405.61</td>\n",
              "      <td>14.62</td>\n",
              "      <td>...</td>\n",
              "      <td>2388.00</td>\n",
              "      <td>8150.17</td>\n",
              "      <td>8.3901</td>\n",
              "      <td>0.03</td>\n",
              "      <td>391</td>\n",
              "      <td>2388</td>\n",
              "      <td>100.0</td>\n",
              "      <td>38.85</td>\n",
              "      <td>23.3669</td>\n",
              "      <td>256</td>\n",
              "    </tr>\n",
              "    <tr>\n",
              "      <th>3</th>\n",
              "      <td>74391</td>\n",
              "      <td>4</td>\n",
              "      <td>-0.0020</td>\n",
              "      <td>0.0001</td>\n",
              "      <td>100.0</td>\n",
              "      <td>518.67</td>\n",
              "      <td>642.92</td>\n",
              "      <td>1585.61</td>\n",
              "      <td>1392.27</td>\n",
              "      <td>14.62</td>\n",
              "      <td>...</td>\n",
              "      <td>2388.08</td>\n",
              "      <td>8146.56</td>\n",
              "      <td>8.3878</td>\n",
              "      <td>0.03</td>\n",
              "      <td>392</td>\n",
              "      <td>2388</td>\n",
              "      <td>100.0</td>\n",
              "      <td>38.96</td>\n",
              "      <td>23.2951</td>\n",
              "      <td>255</td>\n",
              "    </tr>\n",
              "    <tr>\n",
              "      <th>4</th>\n",
              "      <td>74391</td>\n",
              "      <td>5</td>\n",
              "      <td>0.0016</td>\n",
              "      <td>0.0000</td>\n",
              "      <td>100.0</td>\n",
              "      <td>518.67</td>\n",
              "      <td>641.68</td>\n",
              "      <td>1588.63</td>\n",
              "      <td>1397.65</td>\n",
              "      <td>14.62</td>\n",
              "      <td>...</td>\n",
              "      <td>2388.03</td>\n",
              "      <td>8147.80</td>\n",
              "      <td>8.3869</td>\n",
              "      <td>0.03</td>\n",
              "      <td>392</td>\n",
              "      <td>2388</td>\n",
              "      <td>100.0</td>\n",
              "      <td>39.14</td>\n",
              "      <td>23.4583</td>\n",
              "      <td>254</td>\n",
              "    </tr>\n",
              "  </tbody>\n",
              "</table>\n",
              "<p>5 rows × 27 columns</p>\n",
              "</div>"
            ],
            "text/plain": [
              "   ID Engine  Cycle  Setting 1  Setting 2  Setting 3  Sensor 1  Sensor 2  \\\n",
              "0      74391      1    -0.0005     0.0004      100.0    518.67    642.36   \n",
              "1      74391      2     0.0008    -0.0003      100.0    518.67    642.50   \n",
              "2      74391      3    -0.0014    -0.0002      100.0    518.67    642.18   \n",
              "3      74391      4    -0.0020     0.0001      100.0    518.67    642.92   \n",
              "4      74391      5     0.0016     0.0000      100.0    518.67    641.68   \n",
              "\n",
              "   Sensor 3  Sensor 4  Sensor 5  ...  Sensor 13  Sensor 14  Sensor 15  \\\n",
              "0   1583.23   1396.84     14.62  ...    2388.01    8145.32     8.4246   \n",
              "1   1584.69   1396.89     14.62  ...    2388.03    8152.85     8.4403   \n",
              "2   1582.35   1405.61     14.62  ...    2388.00    8150.17     8.3901   \n",
              "3   1585.61   1392.27     14.62  ...    2388.08    8146.56     8.3878   \n",
              "4   1588.63   1397.65     14.62  ...    2388.03    8147.80     8.3869   \n",
              "\n",
              "   Sensor 16  Sensor 17  Sensor 18  Sensor 19  Sensor 20  Sensor 21  \\\n",
              "0       0.03        391       2388      100.0      39.11    23.3537   \n",
              "1       0.03        392       2388      100.0      38.99    23.4491   \n",
              "2       0.03        391       2388      100.0      38.85    23.3669   \n",
              "3       0.03        392       2388      100.0      38.96    23.2951   \n",
              "4       0.03        392       2388      100.0      39.14    23.4583   \n",
              "\n",
              "   Remaining RUL  \n",
              "0            258  \n",
              "1            257  \n",
              "2            256  \n",
              "3            255  \n",
              "4            254  \n",
              "\n",
              "[5 rows x 27 columns]"
            ]
          },
          "execution_count": 58,
          "metadata": {},
          "output_type": "execute_result"
        }
      ],
      "source": [
        "num += len(train_2)\n",
        "for idx in range(len(train_3)):\n",
        "    train_3.loc[idx, 'ID Engine'] += num\n",
        "train_3.head()"
      ]
    },
    {
      "cell_type": "code",
      "execution_count": 59,
      "metadata": {},
      "outputs": [
        {
          "data": {
            "text/html": [
              "<div>\n",
              "<style scoped>\n",
              "    .dataframe tbody tr th:only-of-type {\n",
              "        vertical-align: middle;\n",
              "    }\n",
              "\n",
              "    .dataframe tbody tr th {\n",
              "        vertical-align: top;\n",
              "    }\n",
              "\n",
              "    .dataframe thead th {\n",
              "        text-align: right;\n",
              "    }\n",
              "</style>\n",
              "<table border=\"1\" class=\"dataframe\">\n",
              "  <thead>\n",
              "    <tr style=\"text-align: right;\">\n",
              "      <th></th>\n",
              "      <th>ID Engine</th>\n",
              "      <th>Cycle</th>\n",
              "      <th>Setting 1</th>\n",
              "      <th>Setting 2</th>\n",
              "      <th>Setting 3</th>\n",
              "      <th>Sensor 1</th>\n",
              "      <th>Sensor 2</th>\n",
              "      <th>Sensor 3</th>\n",
              "      <th>Sensor 4</th>\n",
              "      <th>Sensor 5</th>\n",
              "      <th>...</th>\n",
              "      <th>Sensor 13</th>\n",
              "      <th>Sensor 14</th>\n",
              "      <th>Sensor 15</th>\n",
              "      <th>Sensor 16</th>\n",
              "      <th>Sensor 17</th>\n",
              "      <th>Sensor 18</th>\n",
              "      <th>Sensor 19</th>\n",
              "      <th>Sensor 20</th>\n",
              "      <th>Sensor 21</th>\n",
              "      <th>Remaining RUL</th>\n",
              "    </tr>\n",
              "  </thead>\n",
              "  <tbody>\n",
              "    <tr>\n",
              "      <th>0</th>\n",
              "      <td>99111</td>\n",
              "      <td>1</td>\n",
              "      <td>42.0049</td>\n",
              "      <td>0.8400</td>\n",
              "      <td>100.0</td>\n",
              "      <td>445.00</td>\n",
              "      <td>549.68</td>\n",
              "      <td>1343.43</td>\n",
              "      <td>1112.93</td>\n",
              "      <td>3.91</td>\n",
              "      <td>...</td>\n",
              "      <td>2387.99</td>\n",
              "      <td>8074.83</td>\n",
              "      <td>9.3335</td>\n",
              "      <td>0.02</td>\n",
              "      <td>330</td>\n",
              "      <td>2212</td>\n",
              "      <td>100.00</td>\n",
              "      <td>10.62</td>\n",
              "      <td>6.3670</td>\n",
              "      <td>320</td>\n",
              "    </tr>\n",
              "    <tr>\n",
              "      <th>1</th>\n",
              "      <td>99111</td>\n",
              "      <td>2</td>\n",
              "      <td>20.0020</td>\n",
              "      <td>0.7002</td>\n",
              "      <td>100.0</td>\n",
              "      <td>491.19</td>\n",
              "      <td>606.07</td>\n",
              "      <td>1477.61</td>\n",
              "      <td>1237.50</td>\n",
              "      <td>9.35</td>\n",
              "      <td>...</td>\n",
              "      <td>2387.73</td>\n",
              "      <td>8046.13</td>\n",
              "      <td>9.1913</td>\n",
              "      <td>0.02</td>\n",
              "      <td>361</td>\n",
              "      <td>2324</td>\n",
              "      <td>100.00</td>\n",
              "      <td>24.37</td>\n",
              "      <td>14.6552</td>\n",
              "      <td>319</td>\n",
              "    </tr>\n",
              "    <tr>\n",
              "      <th>2</th>\n",
              "      <td>99111</td>\n",
              "      <td>3</td>\n",
              "      <td>42.0038</td>\n",
              "      <td>0.8409</td>\n",
              "      <td>100.0</td>\n",
              "      <td>445.00</td>\n",
              "      <td>548.95</td>\n",
              "      <td>1343.12</td>\n",
              "      <td>1117.05</td>\n",
              "      <td>3.91</td>\n",
              "      <td>...</td>\n",
              "      <td>2387.97</td>\n",
              "      <td>8066.62</td>\n",
              "      <td>9.4007</td>\n",
              "      <td>0.02</td>\n",
              "      <td>329</td>\n",
              "      <td>2212</td>\n",
              "      <td>100.00</td>\n",
              "      <td>10.48</td>\n",
              "      <td>6.4213</td>\n",
              "      <td>318</td>\n",
              "    </tr>\n",
              "    <tr>\n",
              "      <th>3</th>\n",
              "      <td>99111</td>\n",
              "      <td>4</td>\n",
              "      <td>42.0000</td>\n",
              "      <td>0.8400</td>\n",
              "      <td>100.0</td>\n",
              "      <td>445.00</td>\n",
              "      <td>548.70</td>\n",
              "      <td>1341.24</td>\n",
              "      <td>1118.03</td>\n",
              "      <td>3.91</td>\n",
              "      <td>...</td>\n",
              "      <td>2388.02</td>\n",
              "      <td>8076.05</td>\n",
              "      <td>9.3369</td>\n",
              "      <td>0.02</td>\n",
              "      <td>328</td>\n",
              "      <td>2212</td>\n",
              "      <td>100.00</td>\n",
              "      <td>10.54</td>\n",
              "      <td>6.4176</td>\n",
              "      <td>317</td>\n",
              "    </tr>\n",
              "    <tr>\n",
              "      <th>4</th>\n",
              "      <td>99111</td>\n",
              "      <td>5</td>\n",
              "      <td>25.0063</td>\n",
              "      <td>0.6207</td>\n",
              "      <td>60.0</td>\n",
              "      <td>462.54</td>\n",
              "      <td>536.10</td>\n",
              "      <td>1255.23</td>\n",
              "      <td>1033.59</td>\n",
              "      <td>7.05</td>\n",
              "      <td>...</td>\n",
              "      <td>2028.08</td>\n",
              "      <td>7865.80</td>\n",
              "      <td>10.8366</td>\n",
              "      <td>0.02</td>\n",
              "      <td>305</td>\n",
              "      <td>1915</td>\n",
              "      <td>84.93</td>\n",
              "      <td>14.03</td>\n",
              "      <td>8.6754</td>\n",
              "      <td>316</td>\n",
              "    </tr>\n",
              "  </tbody>\n",
              "</table>\n",
              "<p>5 rows × 27 columns</p>\n",
              "</div>"
            ],
            "text/plain": [
              "   ID Engine  Cycle  Setting 1  Setting 2  Setting 3  Sensor 1  Sensor 2  \\\n",
              "0      99111      1    42.0049     0.8400      100.0    445.00    549.68   \n",
              "1      99111      2    20.0020     0.7002      100.0    491.19    606.07   \n",
              "2      99111      3    42.0038     0.8409      100.0    445.00    548.95   \n",
              "3      99111      4    42.0000     0.8400      100.0    445.00    548.70   \n",
              "4      99111      5    25.0063     0.6207       60.0    462.54    536.10   \n",
              "\n",
              "   Sensor 3  Sensor 4  Sensor 5  ...  Sensor 13  Sensor 14  Sensor 15  \\\n",
              "0   1343.43   1112.93      3.91  ...    2387.99    8074.83     9.3335   \n",
              "1   1477.61   1237.50      9.35  ...    2387.73    8046.13     9.1913   \n",
              "2   1343.12   1117.05      3.91  ...    2387.97    8066.62     9.4007   \n",
              "3   1341.24   1118.03      3.91  ...    2388.02    8076.05     9.3369   \n",
              "4   1255.23   1033.59      7.05  ...    2028.08    7865.80    10.8366   \n",
              "\n",
              "   Sensor 16  Sensor 17  Sensor 18  Sensor 19  Sensor 20  Sensor 21  \\\n",
              "0       0.02        330       2212     100.00      10.62     6.3670   \n",
              "1       0.02        361       2324     100.00      24.37    14.6552   \n",
              "2       0.02        329       2212     100.00      10.48     6.4213   \n",
              "3       0.02        328       2212     100.00      10.54     6.4176   \n",
              "4       0.02        305       1915      84.93      14.03     8.6754   \n",
              "\n",
              "   Remaining RUL  \n",
              "0            320  \n",
              "1            319  \n",
              "2            318  \n",
              "3            317  \n",
              "4            316  \n",
              "\n",
              "[5 rows x 27 columns]"
            ]
          },
          "execution_count": 59,
          "metadata": {},
          "output_type": "execute_result"
        }
      ],
      "source": [
        "num += len(train_3)\n",
        "for idx in range(len(train_4)):\n",
        "    train_4.loc[idx, 'ID Engine'] += num\n",
        "train_4.head()"
      ]
    },
    {
      "cell_type": "code",
      "execution_count": 60,
      "metadata": {},
      "outputs": [
        {
          "name": "stdout",
          "output_type": "stream",
          "text": [
            "Train shape: (160359, 27)\n"
          ]
        },
        {
          "data": {
            "text/html": [
              "<div>\n",
              "<style scoped>\n",
              "    .dataframe tbody tr th:only-of-type {\n",
              "        vertical-align: middle;\n",
              "    }\n",
              "\n",
              "    .dataframe tbody tr th {\n",
              "        vertical-align: top;\n",
              "    }\n",
              "\n",
              "    .dataframe thead th {\n",
              "        text-align: right;\n",
              "    }\n",
              "</style>\n",
              "<table border=\"1\" class=\"dataframe\">\n",
              "  <thead>\n",
              "    <tr style=\"text-align: right;\">\n",
              "      <th></th>\n",
              "      <th>ID Engine</th>\n",
              "      <th>Cycle</th>\n",
              "      <th>Setting 1</th>\n",
              "      <th>Setting 2</th>\n",
              "      <th>Setting 3</th>\n",
              "      <th>Sensor 1</th>\n",
              "      <th>Sensor 2</th>\n",
              "      <th>Sensor 3</th>\n",
              "      <th>Sensor 4</th>\n",
              "      <th>Sensor 5</th>\n",
              "      <th>...</th>\n",
              "      <th>Sensor 13</th>\n",
              "      <th>Sensor 14</th>\n",
              "      <th>Sensor 15</th>\n",
              "      <th>Sensor 16</th>\n",
              "      <th>Sensor 17</th>\n",
              "      <th>Sensor 18</th>\n",
              "      <th>Sensor 19</th>\n",
              "      <th>Sensor 20</th>\n",
              "      <th>Sensor 21</th>\n",
              "      <th>Remaining RUL</th>\n",
              "    </tr>\n",
              "  </thead>\n",
              "  <tbody>\n",
              "    <tr>\n",
              "      <th>0</th>\n",
              "      <td>1</td>\n",
              "      <td>1</td>\n",
              "      <td>-0.0007</td>\n",
              "      <td>-0.0004</td>\n",
              "      <td>100.0</td>\n",
              "      <td>518.67</td>\n",
              "      <td>641.82</td>\n",
              "      <td>1589.70</td>\n",
              "      <td>1400.60</td>\n",
              "      <td>14.62</td>\n",
              "      <td>...</td>\n",
              "      <td>2388.02</td>\n",
              "      <td>8138.62</td>\n",
              "      <td>8.4195</td>\n",
              "      <td>0.03</td>\n",
              "      <td>392</td>\n",
              "      <td>2388</td>\n",
              "      <td>100.0</td>\n",
              "      <td>39.06</td>\n",
              "      <td>23.4190</td>\n",
              "      <td>191</td>\n",
              "    </tr>\n",
              "    <tr>\n",
              "      <th>1</th>\n",
              "      <td>1</td>\n",
              "      <td>2</td>\n",
              "      <td>0.0019</td>\n",
              "      <td>-0.0003</td>\n",
              "      <td>100.0</td>\n",
              "      <td>518.67</td>\n",
              "      <td>642.15</td>\n",
              "      <td>1591.82</td>\n",
              "      <td>1403.14</td>\n",
              "      <td>14.62</td>\n",
              "      <td>...</td>\n",
              "      <td>2388.07</td>\n",
              "      <td>8131.49</td>\n",
              "      <td>8.4318</td>\n",
              "      <td>0.03</td>\n",
              "      <td>392</td>\n",
              "      <td>2388</td>\n",
              "      <td>100.0</td>\n",
              "      <td>39.00</td>\n",
              "      <td>23.4236</td>\n",
              "      <td>190</td>\n",
              "    </tr>\n",
              "    <tr>\n",
              "      <th>2</th>\n",
              "      <td>1</td>\n",
              "      <td>3</td>\n",
              "      <td>-0.0043</td>\n",
              "      <td>0.0003</td>\n",
              "      <td>100.0</td>\n",
              "      <td>518.67</td>\n",
              "      <td>642.35</td>\n",
              "      <td>1587.99</td>\n",
              "      <td>1404.20</td>\n",
              "      <td>14.62</td>\n",
              "      <td>...</td>\n",
              "      <td>2388.03</td>\n",
              "      <td>8133.23</td>\n",
              "      <td>8.4178</td>\n",
              "      <td>0.03</td>\n",
              "      <td>390</td>\n",
              "      <td>2388</td>\n",
              "      <td>100.0</td>\n",
              "      <td>38.95</td>\n",
              "      <td>23.3442</td>\n",
              "      <td>189</td>\n",
              "    </tr>\n",
              "    <tr>\n",
              "      <th>3</th>\n",
              "      <td>1</td>\n",
              "      <td>4</td>\n",
              "      <td>0.0007</td>\n",
              "      <td>0.0000</td>\n",
              "      <td>100.0</td>\n",
              "      <td>518.67</td>\n",
              "      <td>642.35</td>\n",
              "      <td>1582.79</td>\n",
              "      <td>1401.87</td>\n",
              "      <td>14.62</td>\n",
              "      <td>...</td>\n",
              "      <td>2388.08</td>\n",
              "      <td>8133.83</td>\n",
              "      <td>8.3682</td>\n",
              "      <td>0.03</td>\n",
              "      <td>392</td>\n",
              "      <td>2388</td>\n",
              "      <td>100.0</td>\n",
              "      <td>38.88</td>\n",
              "      <td>23.3739</td>\n",
              "      <td>188</td>\n",
              "    </tr>\n",
              "    <tr>\n",
              "      <th>4</th>\n",
              "      <td>1</td>\n",
              "      <td>5</td>\n",
              "      <td>-0.0019</td>\n",
              "      <td>-0.0002</td>\n",
              "      <td>100.0</td>\n",
              "      <td>518.67</td>\n",
              "      <td>642.37</td>\n",
              "      <td>1582.85</td>\n",
              "      <td>1406.22</td>\n",
              "      <td>14.62</td>\n",
              "      <td>...</td>\n",
              "      <td>2388.04</td>\n",
              "      <td>8133.80</td>\n",
              "      <td>8.4294</td>\n",
              "      <td>0.03</td>\n",
              "      <td>393</td>\n",
              "      <td>2388</td>\n",
              "      <td>100.0</td>\n",
              "      <td>38.90</td>\n",
              "      <td>23.4044</td>\n",
              "      <td>187</td>\n",
              "    </tr>\n",
              "  </tbody>\n",
              "</table>\n",
              "<p>5 rows × 27 columns</p>\n",
              "</div>"
            ],
            "text/plain": [
              "   ID Engine  Cycle  Setting 1  Setting 2  Setting 3  Sensor 1  Sensor 2  \\\n",
              "0          1      1    -0.0007    -0.0004      100.0    518.67    641.82   \n",
              "1          1      2     0.0019    -0.0003      100.0    518.67    642.15   \n",
              "2          1      3    -0.0043     0.0003      100.0    518.67    642.35   \n",
              "3          1      4     0.0007     0.0000      100.0    518.67    642.35   \n",
              "4          1      5    -0.0019    -0.0002      100.0    518.67    642.37   \n",
              "\n",
              "   Sensor 3  Sensor 4  Sensor 5  ...  Sensor 13  Sensor 14  Sensor 15  \\\n",
              "0   1589.70   1400.60     14.62  ...    2388.02    8138.62     8.4195   \n",
              "1   1591.82   1403.14     14.62  ...    2388.07    8131.49     8.4318   \n",
              "2   1587.99   1404.20     14.62  ...    2388.03    8133.23     8.4178   \n",
              "3   1582.79   1401.87     14.62  ...    2388.08    8133.83     8.3682   \n",
              "4   1582.85   1406.22     14.62  ...    2388.04    8133.80     8.4294   \n",
              "\n",
              "   Sensor 16  Sensor 17  Sensor 18  Sensor 19  Sensor 20  Sensor 21  \\\n",
              "0       0.03        392       2388      100.0      39.06    23.4190   \n",
              "1       0.03        392       2388      100.0      39.00    23.4236   \n",
              "2       0.03        390       2388      100.0      38.95    23.3442   \n",
              "3       0.03        392       2388      100.0      38.88    23.3739   \n",
              "4       0.03        393       2388      100.0      38.90    23.4044   \n",
              "\n",
              "   Remaining RUL  \n",
              "0            191  \n",
              "1            190  \n",
              "2            189  \n",
              "3            188  \n",
              "4            187  \n",
              "\n",
              "[5 rows x 27 columns]"
            ]
          },
          "execution_count": 60,
          "metadata": {},
          "output_type": "execute_result"
        }
      ],
      "source": [
        "train = pd.concat([train_1, train_2, train_3, train_4], ignore_index=True)\n",
        "print(f'Train shape: {train.shape}')\n",
        "train.head()"
      ]
    },
    {
      "cell_type": "markdown",
      "metadata": {
        "id": "lj7dyHsdMAyK"
      },
      "source": [
        "# Standard data (for train and test set)"
      ]
    },
    {
      "cell_type": "code",
      "execution_count": 61,
      "metadata": {
        "colab": {
          "base_uri": "https://localhost:8080/"
        },
        "id": "PU2HL_DdMAyK",
        "outputId": "94a078eb-069b-4c4e-f469-f90f3f75504e"
      },
      "outputs": [],
      "source": [
        "scaled_columns = train.columns[5:]\n",
        "scaler = MinMaxScaler()\n",
        "train[scaled_columns] = scaler.fit_transform(train[scaled_columns])\n",
        "# test[scaled_columns] = scaler.fit_transform(test[scaled_columns])"
      ]
    },
    {
      "cell_type": "code",
      "execution_count": 62,
      "metadata": {
        "colab": {
          "base_uri": "https://localhost:8080/",
          "height": 0
        },
        "id": "SuOOhTnTMAyK",
        "outputId": "3ff6a48e-9bf8-4577-a03c-1c9367ac68f1"
      },
      "outputs": [
        {
          "data": {
            "text/html": [
              "<div>\n",
              "<style scoped>\n",
              "    .dataframe tbody tr th:only-of-type {\n",
              "        vertical-align: middle;\n",
              "    }\n",
              "\n",
              "    .dataframe tbody tr th {\n",
              "        vertical-align: top;\n",
              "    }\n",
              "\n",
              "    .dataframe thead th {\n",
              "        text-align: right;\n",
              "    }\n",
              "</style>\n",
              "<table border=\"1\" class=\"dataframe\">\n",
              "  <thead>\n",
              "    <tr style=\"text-align: right;\">\n",
              "      <th></th>\n",
              "      <th>ID Engine</th>\n",
              "      <th>Cycle</th>\n",
              "      <th>Setting 1</th>\n",
              "      <th>Setting 2</th>\n",
              "      <th>Setting 3</th>\n",
              "      <th>Sensor 1</th>\n",
              "      <th>Sensor 2</th>\n",
              "      <th>Sensor 3</th>\n",
              "      <th>Sensor 4</th>\n",
              "      <th>Sensor 5</th>\n",
              "      <th>...</th>\n",
              "      <th>Sensor 13</th>\n",
              "      <th>Sensor 14</th>\n",
              "      <th>Sensor 15</th>\n",
              "      <th>Sensor 16</th>\n",
              "      <th>Sensor 17</th>\n",
              "      <th>Sensor 18</th>\n",
              "      <th>Sensor 19</th>\n",
              "      <th>Sensor 20</th>\n",
              "      <th>Sensor 21</th>\n",
              "      <th>Remaining RUL</th>\n",
              "    </tr>\n",
              "  </thead>\n",
              "  <tbody>\n",
              "    <tr>\n",
              "      <th>0</th>\n",
              "      <td>1</td>\n",
              "      <td>1</td>\n",
              "      <td>-0.0007</td>\n",
              "      <td>-0.0004</td>\n",
              "      <td>100.0</td>\n",
              "      <td>1.0</td>\n",
              "      <td>0.969990</td>\n",
              "      <td>0.927293</td>\n",
              "      <td>0.902111</td>\n",
              "      <td>1.0</td>\n",
              "      <td>...</td>\n",
              "      <td>0.993194</td>\n",
              "      <td>0.653748</td>\n",
              "      <td>0.090428</td>\n",
              "      <td>1.0</td>\n",
              "      <td>0.918367</td>\n",
              "      <td>1.0</td>\n",
              "      <td>1.0</td>\n",
              "      <td>0.972082</td>\n",
              "      <td>0.970373</td>\n",
              "      <td>0.352399</td>\n",
              "    </tr>\n",
              "    <tr>\n",
              "      <th>1</th>\n",
              "      <td>1</td>\n",
              "      <td>2</td>\n",
              "      <td>0.0019</td>\n",
              "      <td>-0.0003</td>\n",
              "      <td>100.0</td>\n",
              "      <td>1.0</td>\n",
              "      <td>0.973000</td>\n",
              "      <td>0.932957</td>\n",
              "      <td>0.908192</td>\n",
              "      <td>1.0</td>\n",
              "      <td>...</td>\n",
              "      <td>0.993332</td>\n",
              "      <td>0.637831</td>\n",
              "      <td>0.094654</td>\n",
              "      <td>1.0</td>\n",
              "      <td>0.918367</td>\n",
              "      <td>1.0</td>\n",
              "      <td>1.0</td>\n",
              "      <td>0.970064</td>\n",
              "      <td>0.970630</td>\n",
              "      <td>0.350554</td>\n",
              "    </tr>\n",
              "    <tr>\n",
              "      <th>2</th>\n",
              "      <td>1</td>\n",
              "      <td>3</td>\n",
              "      <td>-0.0043</td>\n",
              "      <td>0.0003</td>\n",
              "      <td>100.0</td>\n",
              "      <td>1.0</td>\n",
              "      <td>0.974824</td>\n",
              "      <td>0.922723</td>\n",
              "      <td>0.910730</td>\n",
              "      <td>1.0</td>\n",
              "      <td>...</td>\n",
              "      <td>0.993222</td>\n",
              "      <td>0.641715</td>\n",
              "      <td>0.089844</td>\n",
              "      <td>1.0</td>\n",
              "      <td>0.897959</td>\n",
              "      <td>1.0</td>\n",
              "      <td>1.0</td>\n",
              "      <td>0.968382</td>\n",
              "      <td>0.966204</td>\n",
              "      <td>0.348708</td>\n",
              "    </tr>\n",
              "    <tr>\n",
              "      <th>3</th>\n",
              "      <td>1</td>\n",
              "      <td>4</td>\n",
              "      <td>0.0007</td>\n",
              "      <td>0.0000</td>\n",
              "      <td>100.0</td>\n",
              "      <td>1.0</td>\n",
              "      <td>0.974824</td>\n",
              "      <td>0.908829</td>\n",
              "      <td>0.905152</td>\n",
              "      <td>1.0</td>\n",
              "      <td>...</td>\n",
              "      <td>0.993359</td>\n",
              "      <td>0.643055</td>\n",
              "      <td>0.072803</td>\n",
              "      <td>1.0</td>\n",
              "      <td>0.918367</td>\n",
              "      <td>1.0</td>\n",
              "      <td>1.0</td>\n",
              "      <td>0.966028</td>\n",
              "      <td>0.967860</td>\n",
              "      <td>0.346863</td>\n",
              "    </tr>\n",
              "    <tr>\n",
              "      <th>4</th>\n",
              "      <td>1</td>\n",
              "      <td>5</td>\n",
              "      <td>-0.0019</td>\n",
              "      <td>-0.0002</td>\n",
              "      <td>100.0</td>\n",
              "      <td>1.0</td>\n",
              "      <td>0.975007</td>\n",
              "      <td>0.908989</td>\n",
              "      <td>0.915565</td>\n",
              "      <td>1.0</td>\n",
              "      <td>...</td>\n",
              "      <td>0.993249</td>\n",
              "      <td>0.642988</td>\n",
              "      <td>0.093829</td>\n",
              "      <td>1.0</td>\n",
              "      <td>0.928571</td>\n",
              "      <td>1.0</td>\n",
              "      <td>1.0</td>\n",
              "      <td>0.966700</td>\n",
              "      <td>0.969560</td>\n",
              "      <td>0.345018</td>\n",
              "    </tr>\n",
              "  </tbody>\n",
              "</table>\n",
              "<p>5 rows × 27 columns</p>\n",
              "</div>"
            ],
            "text/plain": [
              "   ID Engine  Cycle  Setting 1  Setting 2  Setting 3  Sensor 1  Sensor 2  \\\n",
              "0          1      1    -0.0007    -0.0004      100.0       1.0  0.969990   \n",
              "1          1      2     0.0019    -0.0003      100.0       1.0  0.973000   \n",
              "2          1      3    -0.0043     0.0003      100.0       1.0  0.974824   \n",
              "3          1      4     0.0007     0.0000      100.0       1.0  0.974824   \n",
              "4          1      5    -0.0019    -0.0002      100.0       1.0  0.975007   \n",
              "\n",
              "   Sensor 3  Sensor 4  Sensor 5  ...  Sensor 13  Sensor 14  Sensor 15  \\\n",
              "0  0.927293  0.902111       1.0  ...   0.993194   0.653748   0.090428   \n",
              "1  0.932957  0.908192       1.0  ...   0.993332   0.637831   0.094654   \n",
              "2  0.922723  0.910730       1.0  ...   0.993222   0.641715   0.089844   \n",
              "3  0.908829  0.905152       1.0  ...   0.993359   0.643055   0.072803   \n",
              "4  0.908989  0.915565       1.0  ...   0.993249   0.642988   0.093829   \n",
              "\n",
              "   Sensor 16  Sensor 17  Sensor 18  Sensor 19  Sensor 20  Sensor 21  \\\n",
              "0        1.0   0.918367        1.0        1.0   0.972082   0.970373   \n",
              "1        1.0   0.918367        1.0        1.0   0.970064   0.970630   \n",
              "2        1.0   0.897959        1.0        1.0   0.968382   0.966204   \n",
              "3        1.0   0.918367        1.0        1.0   0.966028   0.967860   \n",
              "4        1.0   0.928571        1.0        1.0   0.966700   0.969560   \n",
              "\n",
              "   Remaining RUL  \n",
              "0       0.352399  \n",
              "1       0.350554  \n",
              "2       0.348708  \n",
              "3       0.346863  \n",
              "4       0.345018  \n",
              "\n",
              "[5 rows x 27 columns]"
            ]
          },
          "execution_count": 62,
          "metadata": {},
          "output_type": "execute_result"
        }
      ],
      "source": [
        "train.head()"
      ]
    },
    {
      "cell_type": "code",
      "execution_count": 63,
      "metadata": {
        "colab": {
          "base_uri": "https://localhost:8080/",
          "height": 0
        },
        "id": "grL9j-TBMAyP",
        "outputId": "42034762-a6e3-4866-e37f-d52c2dcf0d4f"
      },
      "outputs": [],
      "source": [
        "# test.head()"
      ]
    },
    {
      "cell_type": "markdown",
      "metadata": {},
      "source": [
        "# Training with sequence_length = 10"
      ]
    },
    {
      "cell_type": "markdown",
      "metadata": {},
      "source": [
        "### Load data into DataLoader"
      ]
    },
    {
      "cell_type": "code",
      "execution_count": 64,
      "metadata": {},
      "outputs": [],
      "source": [
        "data_train = CMAPSSLoaderDataset(data=train, sequence_length=10)\n",
        "# data_test = CMAPSSLoaderDataset(data=test, sequence_length=sequence_length)\n",
        "\n",
        "data_train, data_validation = train_test_split(data_train, test_size=0.2, random_state=42)\n",
        "train_loader = DataLoader(data_train, batch_size=batch_size, shuffle=True)\n",
        "validation_loader = DataLoader(data_validation, batch_size=batch_size, shuffle=True)"
      ]
    },
    {
      "cell_type": "markdown",
      "metadata": {},
      "source": [
        "### Training centralize model"
      ]
    },
    {
      "cell_type": "code",
      "execution_count": 65,
      "metadata": {},
      "outputs": [],
      "source": [
        "centralize_transformer_model = TransformerModel(\n",
        "    input_dim=input_dim,\n",
        "    d_model=d_model,\n",
        "    nhead=nhead,\n",
        "    num_layers=num_layers,\n",
        "    dim_feedforward=256,\n",
        "    dropout=dropout\n",
        ")"
      ]
    },
    {
      "cell_type": "code",
      "execution_count": 66,
      "metadata": {},
      "outputs": [
        {
          "name": "stdout",
          "output_type": "stream",
          "text": [
            "Epoch 1/50, Train Loss: 0.027627216976983154, Validation Loss: 0.019120500229793714\n",
            "Epoch 2/50, Train Loss: 0.013043094427844168, Validation Loss: 0.010503882735472992\n",
            "Epoch 3/50, Train Loss: 0.011096733565193717, Validation Loss: 0.010765963249464995\n",
            "Epoch 4/50, Train Loss: 0.010708940506023997, Validation Loss: 0.010371129747279205\n",
            "Epoch 5/50, Train Loss: 0.010540974971491104, Validation Loss: 0.01002859132928596\n",
            "Epoch 6/50, Train Loss: 0.01041533552914827, Validation Loss: 0.009850634756610107\n",
            "Epoch 7/50, Train Loss: 0.010391288174863669, Validation Loss: 0.009941335296049653\n",
            "Epoch 8/50, Train Loss: 0.01039560930609997, Validation Loss: 0.010256370859939403\n",
            "Epoch 9/50, Train Loss: 0.010284886391289912, Validation Loss: 0.009939460404588226\n",
            "Epoch 10/50, Train Loss: 0.010190310094482338, Validation Loss: 0.010253515096450866\n",
            "Epoch 11/50, Train Loss: 0.01017465612581261, Validation Loss: 0.009874671430972355\n",
            "Epoch 12/50, Train Loss: 0.010137688746697125, Validation Loss: 0.00981879516609044\n",
            "Epoch 13/50, Train Loss: 0.01013239178234017, Validation Loss: 0.009948447646179016\n",
            "Epoch 14/50, Train Loss: 0.010055934335274365, Validation Loss: 0.010802354037576196\n",
            "Epoch 15/50, Train Loss: 0.01005142428917058, Validation Loss: 0.009745307353661392\n",
            "Epoch 16/50, Train Loss: 0.009985859124792638, Validation Loss: 0.010217283321042155\n",
            "Epoch 17/50, Train Loss: 0.009966454286368125, Validation Loss: 0.00979068980617951\n",
            "Epoch 18/50, Train Loss: 0.009968333565248013, Validation Loss: 0.010196204171651256\n",
            "Epoch 19/50, Train Loss: 0.00999206185209355, Validation Loss: 0.009735985073604896\n",
            "Epoch 20/50, Train Loss: 0.00987460475119057, Validation Loss: 0.009814945706533447\n",
            "Epoch 21/50, Train Loss: 0.009940676143545723, Validation Loss: 0.009788261606701924\n",
            "Epoch 22/50, Train Loss: 0.009840168631882218, Validation Loss: 0.009757680990404732\n",
            "Epoch 23/50, Train Loss: 0.009848220888447879, Validation Loss: 0.010174624631529156\n",
            "Epoch 24/50, Train Loss: 0.009833100031353417, Validation Loss: 0.009614184096888388\n",
            "Epoch 25/50, Train Loss: 0.009714844201421626, Validation Loss: 0.009714313404039476\n",
            "Epoch 26/50, Train Loss: 0.009734191992711798, Validation Loss: 0.009854499712447284\n",
            "Epoch 27/50, Train Loss: 0.00970975796257843, Validation Loss: 0.009550666844248153\n",
            "Epoch 28/50, Train Loss: 0.009653534406074638, Validation Loss: 0.009877841494575575\n",
            "Epoch 29/50, Train Loss: 0.00964000012710118, Validation Loss: 0.009532678538075498\n",
            "Epoch 30/50, Train Loss: 0.009557354002842836, Validation Loss: 0.009615882280518405\n",
            "Epoch 31/50, Train Loss: 0.00948726747819413, Validation Loss: 0.00982152945961015\n",
            "Epoch 32/50, Train Loss: 0.009517785261829044, Validation Loss: 0.009483669888367297\n",
            "Epoch 33/50, Train Loss: 0.009477048948395569, Validation Loss: 0.009568788650294929\n",
            "Epoch 34/50, Train Loss: 0.00945864360671208, Validation Loss: 0.009533137009629817\n",
            "Epoch 35/50, Train Loss: 0.00943160635493657, Validation Loss: 0.009416359123151703\n",
            "Epoch 36/50, Train Loss: 0.009368678164181927, Validation Loss: 0.009428629632343642\n",
            "Epoch 37/50, Train Loss: 0.009374976552721124, Validation Loss: 0.009293759338310397\n",
            "Epoch 38/50, Train Loss: 0.009377955279660219, Validation Loss: 0.010077406043627326\n",
            "Epoch 39/50, Train Loss: 0.009412953194892295, Validation Loss: 0.00959747851366386\n",
            "Epoch 40/50, Train Loss: 0.009352676215004234, Validation Loss: 0.009209859173327561\n",
            "Epoch 41/50, Train Loss: 0.009344157299581966, Validation Loss: 0.009437999518054897\n",
            "Epoch 42/50, Train Loss: 0.009323875083242807, Validation Loss: 0.009320143142645537\n",
            "Epoch 43/50, Train Loss: 0.009323491800967159, Validation Loss: 0.009240107761533676\n",
            "Epoch 44/50, Train Loss: 0.009280842430077239, Validation Loss: 0.009186318553829589\n",
            "Epoch 45/50, Train Loss: 0.009313836821421655, Validation Loss: 0.009218314167931367\n",
            "Epoch 46/50, Train Loss: 0.009282063278403455, Validation Loss: 0.009346854032492613\n",
            "Epoch 47/50, Train Loss: 0.009247499632698447, Validation Loss: 0.009259868761006727\n",
            "Epoch 48/50, Train Loss: 0.00923432223450466, Validation Loss: 0.00934619576326297\n",
            "Epoch 49/50, Train Loss: 0.009226603559697065, Validation Loss: 0.009239388446234693\n",
            "Epoch 50/50, Train Loss: 0.009228315112506923, Validation Loss: 0.009379898949576488\n"
          ]
        }
      ],
      "source": [
        "try:\n",
        "    train_model(\n",
        "        model=centralize_transformer_model,\n",
        "        client_loader_train=train_loader,\n",
        "        client_loader_validation=validation_loader,\n",
        "        epochs=epochs,\n",
        "        learning_rate=learning_rate,\n",
        "        verbose=False\n",
        "    )\n",
        "except KeyboardInterrupt:\n",
        "    print(\"Training interrupted\")"
      ]
    },
    {
      "cell_type": "markdown",
      "metadata": {},
      "source": [
        "### Predic on batch"
      ]
    },
    {
      "cell_type": "code",
      "execution_count": 67,
      "metadata": {},
      "outputs": [
        {
          "data": {
            "image/png": "[encoded data removed]",
            "text/plain": [
              "<Figure size 1000x600 with 1 Axes>"
            ]
          },
          "metadata": {},
          "output_type": "display_data"
        },
        {
          "name": "stdout",
          "output_type": "stream",
          "text": [
            "Loss on random batch: 0.008260447531938553\n"
          ]
        }
      ],
      "source": [
        "batch_loader = next(iter(validation_loader))\n",
        "\n",
        "loss, _, _ = predict_on_batch(\n",
        "    model=centralize_transformer_model,\n",
        "    batch_loader=batch_loader,\n",
        "    return_actual_rul=True,\n",
        "    show_fig=True,\n",
        ")\n",
        "print(f'Loss on random batch: {loss}')"
      ]
    },
    {
      "cell_type": "markdown",
      "metadata": {},
      "source": [
        "# Part II. Explainable Artificial Intelligence for RUL forecasting using Transformer model"
      ]
    },
    {
      "cell_type": "markdown",
      "metadata": {
        "id": "-V-hgj5JMAyS"
      },
      "source": [
        "# Part III. Setup Federated Learning with Flower for RUL prediction using Transformer model"
      ]
    },
    {
      "cell_type": "markdown",
      "metadata": {
        "id": "Mbc5HTBUMAyS"
      },
      "source": [
        "### Define parameters for training FL with Flower"
      ]
    },
    {
      "cell_type": "code",
      "execution_count": 68,
      "metadata": {
        "colab": {
          "base_uri": "https://localhost:8080/"
        },
        "id": "uyFG0CdWMAyS",
        "outputId": "7bab51ee-877d-4905-9172-64746410c0f6"
      },
      "outputs": [],
      "source": [
        "num_clients = 10\n",
        "num_rounds = 50"
      ]
    },
    {
      "cell_type": "markdown",
      "metadata": {
        "id": "YFsCsOyIMAyS"
      },
      "source": [
        "### Split dataframe to 10 subframe for 10 client"
      ]
    },
    {
      "cell_type": "code",
      "execution_count": 69,
      "metadata": {
        "id": "5Bidza4aMAyT"
      },
      "outputs": [],
      "source": [
        "def split_dataset(dataset, num_clients):\n",
        "    \"\"\"\n",
        "    Chia dataset thành num_clients tập con đều nhau.\n",
        "    Args:\n",
        "        dataset: Dataset cần chia (torch.utils.data.Dataset).\n",
        "        num_clients: Số lượng tập con muốn tạo.\n",
        "    Returns:\n",
        "        List chứa các tập con của dataset.\n",
        "    \"\"\"\n",
        "    # Kích thước mỗi tập con\n",
        "    subset_size = len(dataset) // num_clients\n",
        "    sizes = [subset_size] * num_clients\n",
        "\n",
        "    # Chia phần dư (nếu tổng dataset không chia hết)\n",
        "    sizes[-1] += len(dataset) - sum(sizes)\n",
        "\n",
        "    # Tạo danh sách các tập con\n",
        "    subsets = random_split(dataset, sizes)\n",
        "    return subsets"
      ]
    },
    {
      "cell_type": "code",
      "execution_count": 70,
      "metadata": {
        "colab": {
          "base_uri": "https://localhost:8080/"
        },
        "id": "1qBZf6hxMAyT",
        "outputId": "d66be3eb-48a0-4426-abde-353ac3acf820"
      },
      "outputs": [
        {
          "data": {
            "text/plain": [
              "(160359, 27)"
            ]
          },
          "execution_count": 70,
          "metadata": {},
          "output_type": "execute_result"
        }
      ],
      "source": [
        "# train.head()\n",
        "train.shape"
      ]
    },
    {
      "cell_type": "code",
      "execution_count": 71,
      "metadata": {
        "id": "Aj5LJJsLMAyT"
      },
      "outputs": [],
      "source": [
        "data = CMAPSSLoaderDataset(train, sequence_length=sequence_length)\n",
        "train_data, validation_data = train_test_split(data, test_size=0.2, random_state=42)\n",
        "\n",
        "subset_trains = split_dataset(train_data, num_clients=num_clients)\n",
        "subset_validations = split_dataset(validation_data, num_clients=num_clients)\n",
        "\n",
        "client_loader_trains = [DataLoader(subset, batch_size=batch_size, shuffle=True) for subset in subset_trains]\n",
        "client_loader_validations = [DataLoader(subset, batch_size=batch_size, shuffle=True) for subset in subset_validations]"
      ]
    },
    {
      "cell_type": "code",
      "execution_count": 72,
      "metadata": {
        "colab": {
          "base_uri": "https://localhost:8080/"
        },
        "id": "OIjOv3DbMAyT",
        "outputId": "cfd8f5a1-d79e-47ad-abe6-073367c4e356"
      },
      "outputs": [
        {
          "name": "stdout",
          "output_type": "stream",
          "text": [
            "Client 1 will use a subset with 11183 samples\n",
            "Client 2 will use a subset with 11183 samples\n",
            "Client 3 will use a subset with 11183 samples\n",
            "Client 4 will use a subset with 11183 samples\n",
            "Client 5 will use a subset with 11183 samples\n",
            "Client 6 will use a subset with 11183 samples\n",
            "Client 7 will use a subset with 11183 samples\n",
            "Client 8 will use a subset with 11183 samples\n",
            "Client 9 will use a subset with 11183 samples\n",
            "Client 10 will use a subset with 11191 samples\n"
          ]
        }
      ],
      "source": [
        "for i, loader in enumerate(client_loader_trains):\n",
        "    print(f\"Client {i+1} will use a subset with {len(loader.dataset)} samples\")"
      ]
    },
    {
      "cell_type": "code",
      "execution_count": 73,
      "metadata": {
        "colab": {
          "base_uri": "https://localhost:8080/"
        },
        "id": "5ot2zTq7MAyU",
        "outputId": "e008b100-7167-457e-a0ab-623a0717cfc8"
      },
      "outputs": [
        {
          "name": "stdout",
          "output_type": "stream",
          "text": [
            "Client 1 will use a subset with 11183 samples\n",
            "Client 2 will use a subset with 11183 samples\n",
            "Client 3 will use a subset with 11183 samples\n",
            "Client 4 will use a subset with 11183 samples\n",
            "Client 5 will use a subset with 11183 samples\n",
            "Client 6 will use a subset with 11183 samples\n",
            "Client 7 will use a subset with 11183 samples\n",
            "Client 8 will use a subset with 11183 samples\n",
            "Client 9 will use a subset with 11183 samples\n",
            "Client 10 will use a subset with 11191 samples\n"
          ]
        }
      ],
      "source": [
        "for i, loader in enumerate(client_loader_trains):\n",
        "    print(f\"Client {i+1} will use a subset with {len(loader.dataset)} samples\")"
      ]
    },
    {
      "cell_type": "markdown",
      "metadata": {
        "id": "kP_GaPfnMAyU"
      },
      "source": [
        "### Update model parameters"
      ]
    },
    {
      "cell_type": "code",
      "execution_count": 74,
      "metadata": {
        "id": "M6PNtLhnMAyU"
      },
      "outputs": [],
      "source": [
        "def set_parameters(model, parameters: List[np.ndarray]):\n",
        "    params_dict = zip(model.state_dict().keys(), parameters)\n",
        "    state_dict = OrderedDict({k: torch.Tensor(v) for k, v in params_dict})\n",
        "    model.load_state_dict(state_dict, strict=True)\n",
        "\n",
        "def get_parameters(model) -> List[np.ndarray]:\n",
        "    return [val.cpu().numpy() for _, val in model.state_dict().items()]"
      ]
    },
    {
      "cell_type": "markdown",
      "metadata": {
        "id": "ZYLbAQn_MAyU"
      },
      "source": [
        "### Define the Flower ClientApp"
      ]
    },
    {
      "cell_type": "code",
      "execution_count": 75,
      "metadata": {
        "id": "YvYWLdCKMAyU"
      },
      "outputs": [],
      "source": [
        "class FlowerClient(NumPyClient):\n",
        "    def __init__(self, model, client_loader_train, client_loader_validation):\n",
        "        self.model = model\n",
        "        self.trainloader = client_loader_train\n",
        "        self.valloader = client_loader_validation\n",
        "\n",
        "    def get_parameters(self, config):\n",
        "        return get_parameters(self.model)\n",
        "\n",
        "    def fit(self, parameters, config):\n",
        "        set_parameters(self.model, parameters)\n",
        "        train_model(\n",
        "            model=self.model,\n",
        "            client_loader_train=self.trainloader,\n",
        "            client_loader_validation=self.valloader,\n",
        "            epochs=1,\n",
        "            learning_rate=learning_rate,\n",
        "            verbose=False\n",
        "        )\n",
        "        return get_parameters(self.model), len(self.trainloader), {}\n",
        "\n",
        "    def evaluate(self, parameters, config):\n",
        "        set_parameters(self.model, parameters)\n",
        "        # loss, accuracy = test(self.model, self.valloader)\n",
        "        loss = test_model(\n",
        "            model=self.model,\n",
        "            client_loader_validation=self.valloader,\n",
        "            return_actual_rul=False,\n",
        "            show_fig=False\n",
        "        )\n",
        "        return float(loss), len(self.valloader), {\"accuracy\": float(0.0)}"
      ]
    },
    {
      "cell_type": "code",
      "execution_count": 76,
      "metadata": {
        "id": "uySkMzDwMAyU"
      },
      "outputs": [],
      "source": [
        "def client_fn(context: Context) -> Client:\n",
        "    \"\"\"Create a Flower client representing a single organization.\"\"\"\n",
        "\n",
        "    # Load model\n",
        "    model = TransformerModel(\n",
        "        input_dim=input_dim,\n",
        "        d_model=d_model,\n",
        "        nhead=nhead,\n",
        "        num_layers=num_layers,\n",
        "        dim_feedforward=dim_feedforward,\n",
        "        dropout=0.1\n",
        "    ).to(DEVICE)\n",
        "\n",
        "    # Note: each client gets a different trainloader/valloader, so each client\n",
        "    # will train and evaluate on their own unique data partition\n",
        "    # Read the node_config to fetch data partition associated to this node\n",
        "    partition_id = context.node_config[\"partition-id\"]\n",
        "    trainloader = client_loader_trains[partition_id]\n",
        "    valloader = client_loader_validations[partition_id]\n",
        "\n",
        "    # Create a single Flower client representing a single organization\n",
        "    # FlowerClient is a subclass of NumPyClient, so we need to call .to_client()\n",
        "    # to convert it to a subclass of `flwr.client.Client`\n",
        "    return FlowerClient(model, trainloader, valloader).to_client()\n",
        "\n",
        "\n",
        "# Create the ClientApp\n",
        "client = ClientApp(client_fn=client_fn)"
      ]
    },
    {
      "cell_type": "markdown",
      "metadata": {
        "id": "EuIAxKzIMAyV"
      },
      "source": [
        "### Define the Flower ServerApp"
      ]
    },
    {
      "cell_type": "code",
      "execution_count": 77,
      "metadata": {
        "id": "GYI9D2jeMAyV"
      },
      "outputs": [],
      "source": [
        "# Create FedAvg strategy\n",
        "strategy = FedAvg(\n",
        "    fraction_fit=1.0,  # Sample 100% of available clients for training\n",
        "    fraction_evaluate=0.5,  # Sample 50% of available clients for evaluation\n",
        "    min_fit_clients=10,  # Never sample less than 10 clients for training\n",
        "    min_evaluate_clients=5,  # Never sample less than 5 clients for evaluation\n",
        "    min_available_clients=10,  # Wait until all 10 clients are available\n",
        ")"
      ]
    },
    {
      "cell_type": "code",
      "execution_count": 78,
      "metadata": {
        "id": "0huq_J3CMAyV"
      },
      "outputs": [],
      "source": [
        "def server_fn(context: Context) -> ServerAppComponents:\n",
        "    \"\"\"Construct components that set the ServerApp behaviour.\n",
        "\n",
        "    You can use the settings in `context.run_config` to parameterize the\n",
        "    construction of all elements (e.g the strategy or the number of rounds)\n",
        "    wrapped in the returned ServerAppComponents object.\n",
        "    \"\"\"\n",
        "\n",
        "    # Configure the server for 5 rounds of training\n",
        "    config = ServerConfig(num_rounds=50)\n",
        "\n",
        "    return ServerAppComponents(strategy=strategy, config=config)\n",
        "\n",
        "\n",
        "# Create the ServerApp\n",
        "server = ServerApp(server_fn=server_fn)"
      ]
    },
    {
      "cell_type": "markdown",
      "metadata": {
        "id": "o7kLDqq5MAyV"
      },
      "source": [
        "### Run the training"
      ]
    },
    {
      "cell_type": "code",
      "execution_count": 79,
      "metadata": {
        "id": "uIXCYtEJMAyV"
      },
      "outputs": [],
      "source": [
        "# Specify the resources each of your clients need\n",
        "# By default, each client will be allocated 1x CPU and 0x GPUs\n",
        "backend_config = {\"client_resources\": {\"num_cpus\": 1, \"num_gpus\": 0.0}}\n",
        "\n",
        "# When running on GPU, assign an entire GPU for each client\n",
        "if DEVICE.type == \"cuda\":\n",
        "    backend_config = {\"client_resources\": {\"num_cpus\": 1, \"num_gpus\": 1.0}}\n",
        "    # Refer to our Flower framework documentation for more details about Flower simulations\n",
        "    # and how to set up the `backend_config`"
      ]
    },
    {
      "cell_type": "code",
      "execution_count": 80,
      "metadata": {
        "colab": {
          "base_uri": "https://localhost:8080/"
        },
        "id": "fa4Oj4OrMAyV",
        "outputId": "f1dd62fb-2894-477f-891e-2e8ce1ecbe4b"
      },
      "outputs": [
        {
          "name": "stderr",
          "output_type": "stream",
          "text": [
            "\u001b[92mINFO \u001b[0m:      Starting Flower ServerApp, config: num_rounds=50, no round_timeout\n",
            "\u001b[92mINFO \u001b[0m:      \n",
            "\u001b[92mINFO \u001b[0m:      [INIT]\n",
            "\u001b[92mINFO \u001b[0m:      Requesting initial parameters from one random client\n",
            "\u001b[92mINFO \u001b[0m:      Received initial parameters from one random client\n",
            "\u001b[92mINFO \u001b[0m:      Starting evaluation of initial global parameters\n",
            "\u001b[92mINFO \u001b[0m:      Evaluation returned no results (`None`)\n",
            "\u001b[92mINFO \u001b[0m:      \n",
            "\u001b[92mINFO \u001b[0m:      [ROUND 1]\n",
            "\u001b[92mINFO \u001b[0m:      configure_fit: strategy sampled 10 clients (out of 10)\n"
          ]
        },
        {
          "name": "stdout",
          "output_type": "stream",
          "text": [
            "\u001b[36m(ClientAppActor pid=441899)\u001b[0m Epoch 1/1, Train Loss: 0.0970639489506456, Validation Loss: 0.020048649473623795\n",
            "\u001b[36m(ClientAppActor pid=441899)\u001b[0m Epoch 1/1, Train Loss: 0.09441370025954464, Validation Loss: 0.020601569844240494\n",
            "\u001b[36m(ClientAppActor pid=441899)\u001b[0m Epoch 1/1, Train Loss: 0.08046383391642435, Validation Loss: 0.019045989664102144\n",
            "\u001b[36m(ClientAppActor pid=441899)\u001b[0m Epoch 1/1, Train Loss: 0.09806777234189212, Validation Loss: 0.01919098168780858\n",
            "\u001b[36m(ClientAppActor pid=441899)\u001b[0m Epoch 1/1, Train Loss: 0.10201417235657573, Validation Loss: 0.022912030192938717\n",
            "\u001b[36m(ClientAppActor pid=441899)\u001b[0m Epoch 1/1, Train Loss: 0.1007404336917468, Validation Loss: 0.021249166097153317\n",
            "\u001b[36m(ClientAppActor pid=441899)\u001b[0m Epoch 1/1, Train Loss: 0.0993254197634418, Validation Loss: 0.020795028064061295\n",
            "\u001b[36m(ClientAppActor pid=441899)\u001b[0m Epoch 1/1, Train Loss: 0.10287207591516728, Validation Loss: 0.02193527880378745\n",
            "\u001b[36m(ClientAppActor pid=441899)\u001b[0m Epoch 1/1, Train Loss: 0.09457410632802005, Validation Loss: 0.021277598571032286\n"
          ]
        },
        {
          "name": "stderr",
          "output_type": "stream",
          "text": [
            "\u001b[92mINFO \u001b[0m:      aggregate_fit: received 10 results and 0 failures\n",
            "\u001b[93mWARNING \u001b[0m:   No fit_metrics_aggregation_fn provided\n",
            "\u001b[92mINFO \u001b[0m:      configure_evaluate: strategy sampled 5 clients (out of 10)\n"
          ]
        },
        {
          "name": "stdout",
          "output_type": "stream",
          "text": [
            "\u001b[36m(ClientAppActor pid=441899)\u001b[0m Epoch 1/1, Train Loss: 0.10107315060767261, Validation Loss: 0.021625103005631405\n"
          ]
        },
        {
          "name": "stderr",
          "output_type": "stream",
          "text": [
            "\u001b[92mINFO \u001b[0m:      aggregate_evaluate: received 5 results and 0 failures\n",
            "\u001b[93mWARNING \u001b[0m:   No evaluate_metrics_aggregation_fn provided\n",
            "\u001b[92mINFO \u001b[0m:      \n",
            "\u001b[92mINFO \u001b[0m:      [ROUND 2]\n",
            "\u001b[92mINFO \u001b[0m:      configure_fit: strategy sampled 10 clients (out of 10)\n"
          ]
        },
        {
          "name": "stdout",
          "output_type": "stream",
          "text": [
            "\u001b[36m(ClientAppActor pid=441899)\u001b[0m Epoch 1/1, Train Loss: 0.030504558044909078, Validation Loss: 0.019577499225058338\n",
            "\u001b[36m(ClientAppActor pid=441899)\u001b[0m Epoch 1/1, Train Loss: 0.030862843956459652, Validation Loss: 0.020559764467179775\n",
            "\u001b[36m(ClientAppActor pid=441899)\u001b[0m Epoch 1/1, Train Loss: 0.027196958174251697, Validation Loss: 0.019435320980846882\n",
            "\u001b[36m(ClientAppActor pid=441899)\u001b[0m Epoch 1/1, Train Loss: 0.02970899399158291, Validation Loss: 0.019219618375328453\n",
            "\u001b[36m(ClientAppActor pid=441899)\u001b[0m Epoch 1/1, Train Loss: 0.028086883015930653, Validation Loss: 0.023317732848227024\n",
            "\u001b[36m(ClientAppActor pid=441899)\u001b[0m Epoch 1/1, Train Loss: 0.03036007558164949, Validation Loss: 0.02069373894482851\n",
            "\u001b[36m(ClientAppActor pid=441899)\u001b[0m Epoch 1/1, Train Loss: 0.029558744345029645, Validation Loss: 0.020687267861583016\n",
            "\u001b[36m(ClientAppActor pid=441899)\u001b[0m Epoch 1/1, Train Loss: 0.030956771880896253, Validation Loss: 0.02131263983689926\n",
            "\u001b[36m(ClientAppActor pid=441899)\u001b[0m Epoch 1/1, Train Loss: 0.028842905345796185, Validation Loss: 0.021166901019486515\n"
          ]
        },
        {
          "name": "stderr",
          "output_type": "stream",
          "text": [
            "\u001b[92mINFO \u001b[0m:      aggregate_fit: received 10 results and 0 failures\n",
            "\u001b[92mINFO \u001b[0m:      configure_evaluate: strategy sampled 5 clients (out of 10)\n"
          ]
        },
        {
          "name": "stdout",
          "output_type": "stream",
          "text": [
            "\u001b[36m(ClientAppActor pid=441899)\u001b[0m Epoch 1/1, Train Loss: 0.029022052481939845, Validation Loss: 0.019959105305712332\n"
          ]
        },
        {
          "name": "stderr",
          "output_type": "stream",
          "text": [
            "\u001b[92mINFO \u001b[0m:      aggregate_evaluate: received 5 results and 0 failures\n",
            "\u001b[92mINFO \u001b[0m:      \n",
            "\u001b[92mINFO \u001b[0m:      [ROUND 3]\n",
            "\u001b[92mINFO \u001b[0m:      configure_fit: strategy sampled 10 clients (out of 10)\n"
          ]
        },
        {
          "name": "stdout",
          "output_type": "stream",
          "text": [
            "\u001b[36m(ClientAppActor pid=441899)\u001b[0m Epoch 1/1, Train Loss: 0.02489438389470293, Validation Loss: 0.019764623350717804\n",
            "\u001b[36m(ClientAppActor pid=441899)\u001b[0m Epoch 1/1, Train Loss: 0.023621062060225417, Validation Loss: 0.020274214700541714\n",
            "\u001b[36m(ClientAppActor pid=441899)\u001b[0m Epoch 1/1, Train Loss: 0.02422476215923036, Validation Loss: 0.01899869731542739\n",
            "\u001b[36m(ClientAppActor pid=441899)\u001b[0m Epoch 1/1, Train Loss: 0.024490186870521444, Validation Loss: 0.019329595210200005\n",
            "\u001b[36m(ClientAppActor pid=441899)\u001b[0m Epoch 1/1, Train Loss: 0.023327738914469428, Validation Loss: 0.022942648904228754\n",
            "\u001b[36m(ClientAppActor pid=441899)\u001b[0m Epoch 1/1, Train Loss: 0.02401739354668693, Validation Loss: 0.020629439672285862\n",
            "\u001b[36m(ClientAppActor pid=441899)\u001b[0m Epoch 1/1, Train Loss: 0.023638062835247678, Validation Loss: 0.020721686665307392\n",
            "\u001b[36m(ClientAppActor pid=441899)\u001b[0m Epoch 1/1, Train Loss: 0.02320388446307995, Validation Loss: 0.021344661797312172\n",
            "\u001b[36m(ClientAppActor pid=441899)\u001b[0m Epoch 1/1, Train Loss: 0.023549663400362162, Validation Loss: 0.021132993511855602\n"
          ]
        },
        {
          "name": "stderr",
          "output_type": "stream",
          "text": [
            "\u001b[92mINFO \u001b[0m:      aggregate_fit: received 10 results and 0 failures\n",
            "\u001b[92mINFO \u001b[0m:      configure_evaluate: strategy sampled 5 clients (out of 10)\n"
          ]
        },
        {
          "name": "stdout",
          "output_type": "stream",
          "text": [
            "\u001b[36m(ClientAppActor pid=441899)\u001b[0m Epoch 1/1, Train Loss: 0.02440742835063826, Validation Loss: 0.019458398984914475\n"
          ]
        },
        {
          "name": "stderr",
          "output_type": "stream",
          "text": [
            "\u001b[92mINFO \u001b[0m:      aggregate_evaluate: received 5 results and 0 failures\n",
            "\u001b[92mINFO \u001b[0m:      \n",
            "\u001b[92mINFO \u001b[0m:      [ROUND 4]\n",
            "\u001b[92mINFO \u001b[0m:      configure_fit: strategy sampled 10 clients (out of 10)\n"
          ]
        },
        {
          "name": "stdout",
          "output_type": "stream",
          "text": [
            "\u001b[36m(ClientAppActor pid=441899)\u001b[0m Epoch 1/1, Train Loss: 0.022322840586473994, Validation Loss: 0.019594262311743063\n",
            "\u001b[36m(ClientAppActor pid=441899)\u001b[0m Epoch 1/1, Train Loss: 0.021881200436672025, Validation Loss: 0.020403974943540314\n",
            "\u001b[36m(ClientAppActor pid=441899)\u001b[0m Epoch 1/1, Train Loss: 0.022699835286899048, Validation Loss: 0.019068799404935402\n",
            "\u001b[36m(ClientAppActor pid=441899)\u001b[0m Epoch 1/1, Train Loss: 0.022711750532669776, Validation Loss: 0.019986543719741432\n",
            "\u001b[36m(ClientAppActor pid=441899)\u001b[0m Epoch 1/1, Train Loss: 0.021809712369841607, Validation Loss: 0.022805358875881542\n",
            "\u001b[36m(ClientAppActor pid=441899)\u001b[0m Epoch 1/1, Train Loss: 0.02340679846450009, Validation Loss: 0.020831088789484718\n",
            "\u001b[36m(ClientAppActor pid=441899)\u001b[0m Epoch 1/1, Train Loss: 0.022173768618482758, Validation Loss: 0.020752364430915226\n",
            "\u001b[36m(ClientAppActor pid=441899)\u001b[0m Epoch 1/1, Train Loss: 0.022803727727891368, Validation Loss: 0.02159296568821777\n",
            "\u001b[36m(ClientAppActor pid=441899)\u001b[0m Epoch 1/1, Train Loss: 0.022009154040874404, Validation Loss: 0.021538982591168446\n"
          ]
        },
        {
          "name": "stderr",
          "output_type": "stream",
          "text": [
            "\u001b[92mINFO \u001b[0m:      aggregate_fit: received 10 results and 0 failures\n",
            "\u001b[92mINFO \u001b[0m:      configure_evaluate: strategy sampled 5 clients (out of 10)\n"
          ]
        },
        {
          "name": "stdout",
          "output_type": "stream",
          "text": [
            "\u001b[36m(ClientAppActor pid=441899)\u001b[0m Epoch 1/1, Train Loss: 0.02179681162603877, Validation Loss: 0.019948742775754494\n"
          ]
        },
        {
          "name": "stderr",
          "output_type": "stream",
          "text": [
            "\u001b[92mINFO \u001b[0m:      aggregate_evaluate: received 5 results and 0 failures\n",
            "\u001b[92mINFO \u001b[0m:      \n",
            "\u001b[92mINFO \u001b[0m:      [ROUND 5]\n",
            "\u001b[92mINFO \u001b[0m:      configure_fit: strategy sampled 10 clients (out of 10)\n"
          ]
        },
        {
          "name": "stdout",
          "output_type": "stream",
          "text": [
            "\u001b[36m(ClientAppActor pid=441899)\u001b[0m Epoch 1/1, Train Loss: 0.021633695557036182, Validation Loss: 0.019495121203362942\n",
            "\u001b[36m(ClientAppActor pid=441899)\u001b[0m Epoch 1/1, Train Loss: 0.021044783770445396, Validation Loss: 0.02186677105386149\n",
            "\u001b[36m(ClientAppActor pid=441899)\u001b[0m Epoch 1/1, Train Loss: 0.021469142129221422, Validation Loss: 0.018934748812832615\n",
            "\u001b[36m(ClientAppActor pid=441899)\u001b[0m Epoch 1/1, Train Loss: 0.02174081189811907, Validation Loss: 0.019026484509760685\n",
            "\u001b[36m(ClientAppActor pid=441899)\u001b[0m Epoch 1/1, Train Loss: 0.02135538193397224, Validation Loss: 0.02303427788005634\n",
            "\u001b[36m(ClientAppActor pid=441899)\u001b[0m Epoch 1/1, Train Loss: 0.021946129960600625, Validation Loss: 0.02080213384364139\n",
            "\u001b[36m(ClientAppActor pid=441899)\u001b[0m Epoch 1/1, Train Loss: 0.021365602204406805, Validation Loss: 0.021260460500012745\n",
            "\u001b[36m(ClientAppActor pid=441899)\u001b[0m Epoch 1/1, Train Loss: 0.02243183017708361, Validation Loss: 0.022838174873455006\n",
            "\u001b[36m(ClientAppActor pid=441899)\u001b[0m Epoch 1/1, Train Loss: 0.021211578510701656, Validation Loss: 0.020806547127325426\n"
          ]
        },
        {
          "name": "stderr",
          "output_type": "stream",
          "text": [
            "\u001b[92mINFO \u001b[0m:      aggregate_fit: received 10 results and 0 failures\n",
            "\u001b[92mINFO \u001b[0m:      configure_evaluate: strategy sampled 5 clients (out of 10)\n"
          ]
        },
        {
          "name": "stdout",
          "output_type": "stream",
          "text": [
            "\u001b[36m(ClientAppActor pid=441899)\u001b[0m Epoch 1/1, Train Loss: 0.02166564304339276, Validation Loss: 0.019447595389051872\n"
          ]
        },
        {
          "name": "stderr",
          "output_type": "stream",
          "text": [
            "\u001b[92mINFO \u001b[0m:      aggregate_evaluate: received 5 results and 0 failures\n",
            "\u001b[92mINFO \u001b[0m:      \n",
            "\u001b[92mINFO \u001b[0m:      [ROUND 6]\n",
            "\u001b[92mINFO \u001b[0m:      configure_fit: strategy sampled 10 clients (out of 10)\n"
          ]
        },
        {
          "name": "stdout",
          "output_type": "stream",
          "text": [
            "\u001b[36m(ClientAppActor pid=441899)\u001b[0m Epoch 1/1, Train Loss: 0.018913465403867038, Validation Loss: 0.014892951924015175\n",
            "\u001b[36m(ClientAppActor pid=441899)\u001b[0m Epoch 1/1, Train Loss: 0.01906713321593336, Validation Loss: 0.013303936205127022\n",
            "\u001b[36m(ClientAppActor pid=441899)\u001b[0m Epoch 1/1, Train Loss: 0.01883899463890967, Validation Loss: 0.01282334988090125\n",
            "\u001b[36m(ClientAppActor pid=441899)\u001b[0m Epoch 1/1, Train Loss: 0.01970810837916691, Validation Loss: 0.015484739772298119\n",
            "\u001b[36m(ClientAppActor pid=441899)\u001b[0m Epoch 1/1, Train Loss: 0.019870468171906065, Validation Loss: 0.015535582195628773\n",
            "\u001b[36m(ClientAppActor pid=441899)\u001b[0m Epoch 1/1, Train Loss: 0.020321927477859637, Validation Loss: 0.0195432628758929\n",
            "\u001b[36m(ClientAppActor pid=441899)\u001b[0m Epoch 1/1, Train Loss: 0.020094932564957577, Validation Loss: 0.017994959373027086\n",
            "\u001b[36m(ClientAppActor pid=441899)\u001b[0m Epoch 1/1, Train Loss: 0.019479965029115028, Validation Loss: 0.017745990517803213\n",
            "\u001b[36m(ClientAppActor pid=441899)\u001b[0m Epoch 1/1, Train Loss: 0.01838394831231033, Validation Loss: 0.01385923915288665\n"
          ]
        },
        {
          "name": "stderr",
          "output_type": "stream",
          "text": [
            "\u001b[92mINFO \u001b[0m:      aggregate_fit: received 10 results and 0 failures\n",
            "\u001b[92mINFO \u001b[0m:      configure_evaluate: strategy sampled 5 clients (out of 10)\n"
          ]
        },
        {
          "name": "stdout",
          "output_type": "stream",
          "text": [
            "\u001b[36m(ClientAppActor pid=441899)\u001b[0m Epoch 1/1, Train Loss: 0.020149539965628224, Validation Loss: 0.0165042510594834\n"
          ]
        },
        {
          "name": "stderr",
          "output_type": "stream",
          "text": [
            "\u001b[92mINFO \u001b[0m:      aggregate_evaluate: received 5 results and 0 failures\n",
            "\u001b[92mINFO \u001b[0m:      \n",
            "\u001b[92mINFO \u001b[0m:      [ROUND 7]\n",
            "\u001b[92mINFO \u001b[0m:      configure_fit: strategy sampled 10 clients (out of 10)\n"
          ]
        },
        {
          "name": "stdout",
          "output_type": "stream",
          "text": [
            "\u001b[36m(ClientAppActor pid=441899)\u001b[0m Epoch 1/1, Train Loss: 0.015280613337050785, Validation Loss: 0.011238160479644483\n",
            "\u001b[36m(ClientAppActor pid=441899)\u001b[0m Epoch 1/1, Train Loss: 0.014987823870879683, Validation Loss: 0.012634120500561867\n",
            "\u001b[36m(ClientAppActor pid=441899)\u001b[0m Epoch 1/1, Train Loss: 0.013919195657680657, Validation Loss: 0.010593329937281933\n",
            "\u001b[36m(ClientAppActor pid=441899)\u001b[0m Epoch 1/1, Train Loss: 0.014424529794434255, Validation Loss: 0.01150161349637942\n",
            "\u001b[36m(ClientAppActor pid=441899)\u001b[0m Epoch 1/1, Train Loss: 0.01455465163400566, Validation Loss: 0.013423992786556482\n",
            "\u001b[36m(ClientAppActor pid=441899)\u001b[0m Epoch 1/1, Train Loss: 0.0186764171495187, Validation Loss: 0.014302172020755032\n",
            "\u001b[36m(ClientAppActor pid=441899)\u001b[0m Epoch 1/1, Train Loss: 0.014102206131528046, Validation Loss: 0.011442016725513067\n",
            "\u001b[36m(ClientAppActor pid=441899)\u001b[0m Epoch 1/1, Train Loss: 0.013739615837535397, Validation Loss: 0.011056831064210697\n",
            "\u001b[36m(ClientAppActor pid=441899)\u001b[0m Epoch 1/1, Train Loss: 0.01382264593319798, Validation Loss: 0.013944732448594137\n"
          ]
        },
        {
          "name": "stderr",
          "output_type": "stream",
          "text": [
            "\u001b[92mINFO \u001b[0m:      aggregate_fit: received 10 results and 0 failures\n",
            "\u001b[92mINFO \u001b[0m:      configure_evaluate: strategy sampled 5 clients (out of 10)\n"
          ]
        },
        {
          "name": "stdout",
          "output_type": "stream",
          "text": [
            "\u001b[36m(ClientAppActor pid=441899)\u001b[0m Epoch 1/1, Train Loss: 0.014278066566806625, Validation Loss: 0.01063372948291627\n"
          ]
        },
        {
          "name": "stderr",
          "output_type": "stream",
          "text": [
            "\u001b[92mINFO \u001b[0m:      aggregate_evaluate: received 5 results and 0 failures\n",
            "\u001b[92mINFO \u001b[0m:      \n",
            "\u001b[92mINFO \u001b[0m:      [ROUND 8]\n",
            "\u001b[92mINFO \u001b[0m:      configure_fit: strategy sampled 10 clients (out of 10)\n"
          ]
        },
        {
          "name": "stdout",
          "output_type": "stream",
          "text": [
            "\u001b[36m(ClientAppActor pid=441899)\u001b[0m Epoch 1/1, Train Loss: 0.013369963567873294, Validation Loss: 0.010596116073429585\n",
            "\u001b[36m(ClientAppActor pid=441899)\u001b[0m Epoch 1/1, Train Loss: 0.012910466874018312, Validation Loss: 0.010398509869859978\n",
            "\u001b[36m(ClientAppActor pid=441899)\u001b[0m Epoch 1/1, Train Loss: 0.012216112348886038, Validation Loss: 0.008313494205305522\n",
            "\u001b[36m(ClientAppActor pid=441899)\u001b[0m Epoch 1/1, Train Loss: 0.012525315819816156, Validation Loss: 0.008745553077791225\n",
            "\u001b[36m(ClientAppActor pid=441899)\u001b[0m Epoch 1/1, Train Loss: 0.012813056861473755, Validation Loss: 0.011216219937936827\n",
            "\u001b[36m(ClientAppActor pid=441899)\u001b[0m Epoch 1/1, Train Loss: 0.012477591549131003, Validation Loss: 0.0099949747831984\n",
            "\u001b[36m(ClientAppActor pid=441899)\u001b[0m Epoch 1/1, Train Loss: 0.012694712029770017, Validation Loss: 0.009600954257290472\n",
            "\u001b[36m(ClientAppActor pid=441899)\u001b[0m Epoch 1/1, Train Loss: 0.012367339825934985, Validation Loss: 0.010502119463953104\n",
            "\u001b[36m(ClientAppActor pid=441899)\u001b[0m Epoch 1/1, Train Loss: 0.012365287053398788, Validation Loss: 0.009719930462200533\n"
          ]
        },
        {
          "name": "stderr",
          "output_type": "stream",
          "text": [
            "\u001b[92mINFO \u001b[0m:      aggregate_fit: received 10 results and 0 failures\n",
            "\u001b[92mINFO \u001b[0m:      configure_evaluate: strategy sampled 5 clients (out of 10)\n"
          ]
        },
        {
          "name": "stdout",
          "output_type": "stream",
          "text": [
            "\u001b[36m(ClientAppActor pid=441899)\u001b[0m Epoch 1/1, Train Loss: 0.012450167411853645, Validation Loss: 0.009668735893104564\n"
          ]
        },
        {
          "name": "stderr",
          "output_type": "stream",
          "text": [
            "\u001b[92mINFO \u001b[0m:      aggregate_evaluate: received 5 results and 0 failures\n",
            "\u001b[92mINFO \u001b[0m:      \n",
            "\u001b[92mINFO \u001b[0m:      [ROUND 9]\n",
            "\u001b[92mINFO \u001b[0m:      configure_fit: strategy sampled 10 clients (out of 10)\n"
          ]
        },
        {
          "name": "stdout",
          "output_type": "stream",
          "text": [
            "\u001b[36m(ClientAppActor pid=441899)\u001b[0m Epoch 1/1, Train Loss: 0.011442795840346, Validation Loss: 0.009147579506547614\n",
            "\u001b[36m(ClientAppActor pid=441899)\u001b[0m Epoch 1/1, Train Loss: 0.011365122246471319, Validation Loss: 0.010061671258881688\n",
            "\u001b[36m(ClientAppActor pid=441899)\u001b[0m Epoch 1/1, Train Loss: 0.011338838407854464, Validation Loss: 0.008539218032224611\n",
            "\u001b[36m(ClientAppActor pid=441899)\u001b[0m Epoch 1/1, Train Loss: 0.011601394523908808, Validation Loss: 0.008995634778826074\n",
            "\u001b[36m(ClientAppActor pid=441899)\u001b[0m Epoch 1/1, Train Loss: 0.011379887931980193, Validation Loss: 0.010980751852250913\n",
            "\u001b[36m(ClientAppActor pid=441899)\u001b[0m Epoch 1/1, Train Loss: 0.012005583076229826, Validation Loss: 0.008916454897685484\n",
            "\u001b[36m(ClientAppActor pid=441899)\u001b[0m Epoch 1/1, Train Loss: 0.011294541404243897, Validation Loss: 0.009637707780877297\n",
            "\u001b[36m(ClientAppActor pid=441899)\u001b[0m Epoch 1/1, Train Loss: 0.010805098657411609, Validation Loss: 0.010887942446226423\n",
            "\u001b[36m(ClientAppActor pid=441899)\u001b[0m Epoch 1/1, Train Loss: 0.01072980780471963, Validation Loss: 0.009951572420752862\n"
          ]
        },
        {
          "name": "stderr",
          "output_type": "stream",
          "text": [
            "\u001b[92mINFO \u001b[0m:      aggregate_fit: received 10 results and 0 failures\n",
            "\u001b[92mINFO \u001b[0m:      configure_evaluate: strategy sampled 5 clients (out of 10)\n"
          ]
        },
        {
          "name": "stdout",
          "output_type": "stream",
          "text": [
            "\u001b[36m(ClientAppActor pid=441899)\u001b[0m Epoch 1/1, Train Loss: 0.011679304488511249, Validation Loss: 0.009144318565218286\n"
          ]
        },
        {
          "name": "stderr",
          "output_type": "stream",
          "text": [
            "\u001b[92mINFO \u001b[0m:      aggregate_evaluate: received 5 results and 0 failures\n",
            "\u001b[92mINFO \u001b[0m:      \n",
            "\u001b[92mINFO \u001b[0m:      [ROUND 10]\n",
            "\u001b[92mINFO \u001b[0m:      configure_fit: strategy sampled 10 clients (out of 10)\n"
          ]
        },
        {
          "name": "stdout",
          "output_type": "stream",
          "text": [
            "\u001b[36m(ClientAppActor pid=441899)\u001b[0m Epoch 1/1, Train Loss: 0.011094774585217237, Validation Loss: 0.009339594218710607\n",
            "\u001b[36m(ClientAppActor pid=441899)\u001b[0m Epoch 1/1, Train Loss: 0.010964811784850264, Validation Loss: 0.009105240333486687\n",
            "\u001b[36m(ClientAppActor pid=441899)\u001b[0m Epoch 1/1, Train Loss: 0.010653747102796015, Validation Loss: 0.008836994180455804\n",
            "\u001b[36m(ClientAppActor pid=441899)\u001b[0m Epoch 1/1, Train Loss: 0.010827068324116144, Validation Loss: 0.008354800118302757\n",
            "\u001b[36m(ClientAppActor pid=441899)\u001b[0m Epoch 1/1, Train Loss: 0.011148410732857883, Validation Loss: 0.011270256501368502\n",
            "\u001b[36m(ClientAppActor pid=441899)\u001b[0m Epoch 1/1, Train Loss: 0.010916695136322895, Validation Loss: 0.00893163380467079\n",
            "\u001b[36m(ClientAppActor pid=441899)\u001b[0m Epoch 1/1, Train Loss: 0.01113462933360345, Validation Loss: 0.009237116054547105\n",
            "\u001b[36m(ClientAppActor pid=441899)\u001b[0m Epoch 1/1, Train Loss: 0.010690320108551532, Validation Loss: 0.00908857230520384\n",
            "\u001b[36m(ClientAppActor pid=441899)\u001b[0m Epoch 1/1, Train Loss: 0.010297008668368851, Validation Loss: 0.010673307348042727\n"
          ]
        },
        {
          "name": "stderr",
          "output_type": "stream",
          "text": [
            "\u001b[92mINFO \u001b[0m:      aggregate_fit: received 10 results and 0 failures\n",
            "\u001b[92mINFO \u001b[0m:      configure_evaluate: strategy sampled 5 clients (out of 10)\n"
          ]
        },
        {
          "name": "stdout",
          "output_type": "stream",
          "text": [
            "\u001b[36m(ClientAppActor pid=441899)\u001b[0m Epoch 1/1, Train Loss: 0.011117566921959886, Validation Loss: 0.009372766172005371\n"
          ]
        },
        {
          "name": "stderr",
          "output_type": "stream",
          "text": [
            "\u001b[92mINFO \u001b[0m:      aggregate_evaluate: received 5 results and 0 failures\n",
            "\u001b[92mINFO \u001b[0m:      \n",
            "\u001b[92mINFO \u001b[0m:      [ROUND 11]\n",
            "\u001b[92mINFO \u001b[0m:      configure_fit: strategy sampled 10 clients (out of 10)\n"
          ]
        },
        {
          "name": "stdout",
          "output_type": "stream",
          "text": [
            "\u001b[36m(ClientAppActor pid=441899)\u001b[0m Epoch 1/1, Train Loss: 0.010891376925759356, Validation Loss: 0.008771457455374977\n",
            "\u001b[36m(ClientAppActor pid=441899)\u001b[0m Epoch 1/1, Train Loss: 0.010777320987968282, Validation Loss: 0.008946959140964529\n",
            "\u001b[36m(ClientAppActor pid=441899)\u001b[0m Epoch 1/1, Train Loss: 0.010615508373699744, Validation Loss: 0.008980655238371004\n",
            "\u001b[36m(ClientAppActor pid=441899)\u001b[0m Epoch 1/1, Train Loss: 0.010938254470767622, Validation Loss: 0.010405147151852196\n",
            "\u001b[36m(ClientAppActor pid=441899)\u001b[0m Epoch 1/1, Train Loss: 0.011523635835725476, Validation Loss: 0.010377510493113236\n",
            "\u001b[36m(ClientAppActor pid=441899)\u001b[0m Epoch 1/1, Train Loss: 0.010563237851866606, Validation Loss: 0.009596115909516811\n",
            "\u001b[36m(ClientAppActor pid=441899)\u001b[0m Epoch 1/1, Train Loss: 0.010484950124836441, Validation Loss: 0.009748980148949406\n",
            "\u001b[36m(ClientAppActor pid=441899)\u001b[0m Epoch 1/1, Train Loss: 0.010648399437989363, Validation Loss: 0.009195985590023074\n",
            "\u001b[36m(ClientAppActor pid=441899)\u001b[0m Epoch 1/1, Train Loss: 0.010350047092122788, Validation Loss: 0.009389057374474678\n"
          ]
        },
        {
          "name": "stderr",
          "output_type": "stream",
          "text": [
            "\u001b[92mINFO \u001b[0m:      aggregate_fit: received 10 results and 0 failures\n",
            "\u001b[92mINFO \u001b[0m:      configure_evaluate: strategy sampled 5 clients (out of 10)\n"
          ]
        },
        {
          "name": "stdout",
          "output_type": "stream",
          "text": [
            "\u001b[36m(ClientAppActor pid=441899)\u001b[0m Epoch 1/1, Train Loss: 0.010642481549769978, Validation Loss: 0.009338114770467986\n"
          ]
        },
        {
          "name": "stderr",
          "output_type": "stream",
          "text": [
            "\u001b[92mINFO \u001b[0m:      aggregate_evaluate: received 5 results and 0 failures\n",
            "\u001b[92mINFO \u001b[0m:      \n",
            "\u001b[92mINFO \u001b[0m:      [ROUND 12]\n",
            "\u001b[92mINFO \u001b[0m:      configure_fit: strategy sampled 10 clients (out of 10)\n"
          ]
        },
        {
          "name": "stdout",
          "output_type": "stream",
          "text": [
            "\u001b[36m(ClientAppActor pid=441899)\u001b[0m Epoch 1/1, Train Loss: 0.010834989190863615, Validation Loss: 0.00890606550753794\n",
            "\u001b[36m(ClientAppActor pid=441899)\u001b[0m Epoch 1/1, Train Loss: 0.010058246521194551, Validation Loss: 0.00903754753314636\n",
            "\u001b[36m(ClientAppActor pid=441899)\u001b[0m Epoch 1/1, Train Loss: 0.010316213682844218, Validation Loss: 0.008519996698437766\n",
            "\u001b[36m(ClientAppActor pid=441899)\u001b[0m Epoch 1/1, Train Loss: 0.01056708010781387, Validation Loss: 0.008465072076598351\n",
            "\u001b[36m(ClientAppActor pid=441899)\u001b[0m Epoch 1/1, Train Loss: 0.010788595949468965, Validation Loss: 0.010856999740512534\n",
            "\u001b[36m(ClientAppActor pid=441899)\u001b[0m Epoch 1/1, Train Loss: 0.010731762222183699, Validation Loss: 0.009046623229303143\n",
            "\u001b[36m(ClientAppActor pid=441899)\u001b[0m Epoch 1/1, Train Loss: 0.010411681824321435, Validation Loss: 0.010252368572930043\n",
            "\u001b[36m(ClientAppActor pid=441899)\u001b[0m Epoch 1/1, Train Loss: 0.010375314963642846, Validation Loss: 0.010021674912422895\n",
            "\u001b[36m(ClientAppActor pid=441899)\u001b[0m Epoch 1/1, Train Loss: 0.00972421726592901, Validation Loss: 0.009766188407824799\n"
          ]
        },
        {
          "name": "stderr",
          "output_type": "stream",
          "text": [
            "\u001b[92mINFO \u001b[0m:      aggregate_fit: received 10 results and 0 failures\n",
            "\u001b[92mINFO \u001b[0m:      configure_evaluate: strategy sampled 5 clients (out of 10)\n"
          ]
        },
        {
          "name": "stdout",
          "output_type": "stream",
          "text": [
            "\u001b[36m(ClientAppActor pid=441899)\u001b[0m Epoch 1/1, Train Loss: 0.010511026765346865, Validation Loss: 0.009037063393572515\n"
          ]
        },
        {
          "name": "stderr",
          "output_type": "stream",
          "text": [
            "\u001b[92mINFO \u001b[0m:      aggregate_evaluate: received 5 results and 0 failures\n",
            "\u001b[92mINFO \u001b[0m:      \n",
            "\u001b[92mINFO \u001b[0m:      [ROUND 13]\n",
            "\u001b[92mINFO \u001b[0m:      configure_fit: strategy sampled 10 clients (out of 10)\n"
          ]
        },
        {
          "name": "stdout",
          "output_type": "stream",
          "text": [
            "\u001b[36m(ClientAppActor pid=441899)\u001b[0m Epoch 1/1, Train Loss: 0.010738141078036278, Validation Loss: 0.00882320169528777\n",
            "\u001b[36m(ClientAppActor pid=441899)\u001b[0m Epoch 1/1, Train Loss: 0.01008129616754807, Validation Loss: 0.009244804503396153\n",
            "\u001b[36m(ClientAppActor pid=441899)\u001b[0m Epoch 1/1, Train Loss: 0.010653293839740481, Validation Loss: 0.008479387330060656\n",
            "\u001b[36m(ClientAppActor pid=441899)\u001b[0m Epoch 1/1, Train Loss: 0.010550588110080835, Validation Loss: 0.00898249923590232\n",
            "\u001b[36m(ClientAppActor pid=441899)\u001b[0m Epoch 1/1, Train Loss: 0.010404845821374858, Validation Loss: 0.010530002118850296\n",
            "\u001b[36m(ClientAppActor pid=441899)\u001b[0m Epoch 1/1, Train Loss: 0.010325684937098149, Validation Loss: 0.009102348005399108\n",
            "\u001b[36m(ClientAppActor pid=441899)\u001b[0m Epoch 1/1, Train Loss: 0.010379190853034908, Validation Loss: 0.009525682057508013\n",
            "\u001b[36m(ClientAppActor pid=441899)\u001b[0m Epoch 1/1, Train Loss: 0.009962584071961994, Validation Loss: 0.009401646971871907\n",
            "\u001b[36m(ClientAppActor pid=441899)\u001b[0m Epoch 1/1, Train Loss: 0.010739412523848428, Validation Loss: 0.00922092890620909\n"
          ]
        },
        {
          "name": "stderr",
          "output_type": "stream",
          "text": [
            "\u001b[92mINFO \u001b[0m:      aggregate_fit: received 10 results and 0 failures\n",
            "\u001b[92mINFO \u001b[0m:      configure_evaluate: strategy sampled 5 clients (out of 10)\n"
          ]
        },
        {
          "name": "stdout",
          "output_type": "stream",
          "text": [
            "\u001b[36m(ClientAppActor pid=441899)\u001b[0m Epoch 1/1, Train Loss: 0.01054980235957456, Validation Loss: 0.008784994758157567\n"
          ]
        },
        {
          "name": "stderr",
          "output_type": "stream",
          "text": [
            "\u001b[92mINFO \u001b[0m:      aggregate_evaluate: received 5 results and 0 failures\n",
            "\u001b[92mINFO \u001b[0m:      \n",
            "\u001b[92mINFO \u001b[0m:      [ROUND 14]\n",
            "\u001b[92mINFO \u001b[0m:      configure_fit: strategy sampled 10 clients (out of 10)\n"
          ]
        },
        {
          "name": "stdout",
          "output_type": "stream",
          "text": [
            "\u001b[36m(ClientAppActor pid=441899)\u001b[0m Epoch 1/1, Train Loss: 0.010248238855803555, Validation Loss: 0.008443589512766763\n",
            "\u001b[36m(ClientAppActor pid=441899)\u001b[0m Epoch 1/1, Train Loss: 0.010196102677251805, Validation Loss: 0.010980188423259691\n",
            "\u001b[36m(ClientAppActor pid=441899)\u001b[0m Epoch 1/1, Train Loss: 0.010226631145501002, Validation Loss: 0.008681101534007625\n",
            "\u001b[36m(ClientAppActor pid=441899)\u001b[0m Epoch 1/1, Train Loss: 0.010122533559545198, Validation Loss: 0.00867871804670854\n",
            "\u001b[36m(ClientAppActor pid=441899)\u001b[0m Epoch 1/1, Train Loss: 0.010340320121031255, Validation Loss: 0.010400297607041219\n",
            "\u001b[36m(ClientAppActor pid=441899)\u001b[0m Epoch 1/1, Train Loss: 0.010138912200504406, Validation Loss: 0.008817746092311361\n",
            "\u001b[36m(ClientAppActor pid=441899)\u001b[0m Epoch 1/1, Train Loss: 0.010096989238677039, Validation Loss: 0.009358896514062177\n",
            "\u001b[36m(ClientAppActor pid=441899)\u001b[0m Epoch 1/1, Train Loss: 0.009896353125275875, Validation Loss: 0.01080244288525798\n",
            "\u001b[36m(ClientAppActor pid=441899)\u001b[0m Epoch 1/1, Train Loss: 0.010430973811625418, Validation Loss: 0.00918435754085129\n"
          ]
        },
        {
          "name": "stderr",
          "output_type": "stream",
          "text": [
            "\u001b[92mINFO \u001b[0m:      aggregate_fit: received 10 results and 0 failures\n",
            "\u001b[92mINFO \u001b[0m:      configure_evaluate: strategy sampled 5 clients (out of 10)\n"
          ]
        },
        {
          "name": "stdout",
          "output_type": "stream",
          "text": [
            "\u001b[36m(ClientAppActor pid=441899)\u001b[0m Epoch 1/1, Train Loss: 0.010277888642370024, Validation Loss: 0.009351176061582837\n"
          ]
        },
        {
          "name": "stderr",
          "output_type": "stream",
          "text": [
            "\u001b[92mINFO \u001b[0m:      aggregate_evaluate: received 5 results and 0 failures\n",
            "\u001b[92mINFO \u001b[0m:      \n",
            "\u001b[92mINFO \u001b[0m:      [ROUND 15]\n",
            "\u001b[92mINFO \u001b[0m:      configure_fit: strategy sampled 10 clients (out of 10)\n"
          ]
        },
        {
          "name": "stdout",
          "output_type": "stream",
          "text": [
            "\u001b[36m(ClientAppActor pid=441899)\u001b[0m Epoch 1/1, Train Loss: 0.010445226327812468, Validation Loss: 0.008966291005807843\n",
            "\u001b[36m(ClientAppActor pid=441899)\u001b[0m Epoch 1/1, Train Loss: 0.010132673921444539, Validation Loss: 0.008643545718355612\n",
            "\u001b[36m(ClientAppActor pid=441899)\u001b[0m Epoch 1/1, Train Loss: 0.009972356545569544, Validation Loss: 0.007968152217058972\n",
            "\u001b[36m(ClientAppActor pid=441899)\u001b[0m Epoch 1/1, Train Loss: 0.010187734992624346, Validation Loss: 0.008315373720093206\n",
            "\u001b[36m(ClientAppActor pid=441899)\u001b[0m Epoch 1/1, Train Loss: 0.010129174799658358, Validation Loss: 0.01028029783628881\n",
            "\u001b[36m(ClientAppActor pid=441899)\u001b[0m Epoch 1/1, Train Loss: 0.010127792600542307, Validation Loss: 0.009023768446323547\n",
            "\u001b[36m(ClientAppActor pid=441899)\u001b[0m Epoch 1/1, Train Loss: 0.01001079104819589, Validation Loss: 0.008985016537322239\n",
            "\u001b[36m(ClientAppActor pid=441899)\u001b[0m Epoch 1/1, Train Loss: 0.009766250330192799, Validation Loss: 0.009282001505859873\n",
            "\u001b[36m(ClientAppActor pid=441899)\u001b[0m Epoch 1/1, Train Loss: 0.009509668050503189, Validation Loss: 0.009471709924665365\n"
          ]
        },
        {
          "name": "stderr",
          "output_type": "stream",
          "text": [
            "\u001b[92mINFO \u001b[0m:      aggregate_fit: received 10 results and 0 failures\n",
            "\u001b[92mINFO \u001b[0m:      configure_evaluate: strategy sampled 5 clients (out of 10)\n"
          ]
        },
        {
          "name": "stdout",
          "output_type": "stream",
          "text": [
            "\u001b[36m(ClientAppActor pid=441899)\u001b[0m Epoch 1/1, Train Loss: 0.010224697862709449, Validation Loss: 0.008593270385807211\n"
          ]
        },
        {
          "name": "stderr",
          "output_type": "stream",
          "text": [
            "\u001b[92mINFO \u001b[0m:      aggregate_evaluate: received 5 results and 0 failures\n",
            "\u001b[92mINFO \u001b[0m:      \n",
            "\u001b[92mINFO \u001b[0m:      [ROUND 16]\n",
            "\u001b[92mINFO \u001b[0m:      configure_fit: strategy sampled 10 clients (out of 10)\n"
          ]
        },
        {
          "name": "stdout",
          "output_type": "stream",
          "text": [
            "\u001b[36m(ClientAppActor pid=441899)\u001b[0m Epoch 1/1, Train Loss: 0.010122299014421349, Validation Loss: 0.00864779491993514\n",
            "\u001b[36m(ClientAppActor pid=441899)\u001b[0m Epoch 1/1, Train Loss: 0.009872432660565457, Validation Loss: 0.008923799709670922\n",
            "\u001b[36m(ClientAppActor pid=441899)\u001b[0m Epoch 1/1, Train Loss: 0.010132448118053038, Validation Loss: 0.00795359522188929\n",
            "\u001b[36m(ClientAppActor pid=441899)\u001b[0m Epoch 1/1, Train Loss: 0.010102975695520978, Validation Loss: 0.008306985890323465\n",
            "\u001b[36m(ClientAppActor pid=441899)\u001b[0m Epoch 1/1, Train Loss: 0.010191438047596339, Validation Loss: 0.009931372859599915\n",
            "\u001b[36m(ClientAppActor pid=441899)\u001b[0m Epoch 1/1, Train Loss: 0.010206036470745776, Validation Loss: 0.008800089570947668\n",
            "\u001b[36m(ClientAppActor pid=441899)\u001b[0m Epoch 1/1, Train Loss: 0.009863034896129235, Validation Loss: 0.009132063418457454\n",
            "\u001b[36m(ClientAppActor pid=441899)\u001b[0m Epoch 1/1, Train Loss: 0.00976502490547401, Validation Loss: 0.00982735568488186\n",
            "\u001b[36m(ClientAppActor pid=441899)\u001b[0m Epoch 1/1, Train Loss: 0.009528245612851937, Validation Loss: 0.009100902825593948\n"
          ]
        },
        {
          "name": "stderr",
          "output_type": "stream",
          "text": [
            "\u001b[92mINFO \u001b[0m:      aggregate_fit: received 10 results and 0 failures\n",
            "\u001b[92mINFO \u001b[0m:      configure_evaluate: strategy sampled 5 clients (out of 10)\n"
          ]
        },
        {
          "name": "stdout",
          "output_type": "stream",
          "text": [
            "\u001b[36m(ClientAppActor pid=441899)\u001b[0m Epoch 1/1, Train Loss: 0.009977444096214393, Validation Loss: 0.008671775671907446\n"
          ]
        },
        {
          "name": "stderr",
          "output_type": "stream",
          "text": [
            "\u001b[92mINFO \u001b[0m:      aggregate_evaluate: received 5 results and 0 failures\n",
            "\u001b[92mINFO \u001b[0m:      \n",
            "\u001b[92mINFO \u001b[0m:      [ROUND 17]\n",
            "\u001b[92mINFO \u001b[0m:      configure_fit: strategy sampled 10 clients (out of 10)\n"
          ]
        },
        {
          "name": "stdout",
          "output_type": "stream",
          "text": [
            "\u001b[36m(ClientAppActor pid=441899)\u001b[0m Epoch 1/1, Train Loss: 0.010015372589061206, Validation Loss: 0.008664100028743798\n",
            "\u001b[36m(ClientAppActor pid=441899)\u001b[0m Epoch 1/1, Train Loss: 0.009830582357773726, Validation Loss: 0.009105402023785493\n",
            "\u001b[36m(ClientAppActor pid=441899)\u001b[0m Epoch 1/1, Train Loss: 0.009705232609783045, Validation Loss: 0.008127762766724283\n",
            "\u001b[36m(ClientAppActor pid=441899)\u001b[0m Epoch 1/1, Train Loss: 0.009966033426198092, Validation Loss: 0.00907555374909531\n",
            "\u001b[36m(ClientAppActor pid=441899)\u001b[0m Epoch 1/1, Train Loss: 0.010086418663955887, Validation Loss: 0.010170004902068864\n",
            "\u001b[36m(ClientAppActor pid=441899)\u001b[0m Epoch 1/1, Train Loss: 0.00977044133998623, Validation Loss: 0.00902990967204625\n",
            "\u001b[36m(ClientAppActor pid=441899)\u001b[0m Epoch 1/1, Train Loss: 0.009756029668179426, Validation Loss: 0.00903492776507681\n",
            "\u001b[36m(ClientAppActor pid=441899)\u001b[0m Epoch 1/1, Train Loss: 0.009593728739260272, Validation Loss: 0.009378074223852971\n",
            "\u001b[36m(ClientAppActor pid=441899)\u001b[0m Epoch 1/1, Train Loss: 0.009578347259031778, Validation Loss: 0.009191653394902294\n"
          ]
        },
        {
          "name": "stderr",
          "output_type": "stream",
          "text": [
            "\u001b[92mINFO \u001b[0m:      aggregate_fit: received 10 results and 0 failures\n",
            "\u001b[92mINFO \u001b[0m:      configure_evaluate: strategy sampled 5 clients (out of 10)\n"
          ]
        },
        {
          "name": "stdout",
          "output_type": "stream",
          "text": [
            "\u001b[36m(ClientAppActor pid=441899)\u001b[0m Epoch 1/1, Train Loss: 0.009759570583066141, Validation Loss: 0.009028996933590282\n"
          ]
        },
        {
          "name": "stderr",
          "output_type": "stream",
          "text": [
            "\u001b[92mINFO \u001b[0m:      aggregate_evaluate: received 5 results and 0 failures\n",
            "\u001b[92mINFO \u001b[0m:      \n",
            "\u001b[92mINFO \u001b[0m:      [ROUND 18]\n",
            "\u001b[92mINFO \u001b[0m:      configure_fit: strategy sampled 10 clients (out of 10)\n"
          ]
        },
        {
          "name": "stdout",
          "output_type": "stream",
          "text": [
            "\u001b[36m(ClientAppActor pid=441899)\u001b[0m Epoch 1/1, Train Loss: 0.010118164360226894, Validation Loss: 0.010288883169943636\n",
            "\u001b[36m(ClientAppActor pid=441899)\u001b[0m Epoch 1/1, Train Loss: 0.00984694913495332, Validation Loss: 0.008769766342910853\n",
            "\u001b[36m(ClientAppActor pid=441899)\u001b[0m Epoch 1/1, Train Loss: 0.009585151226598431, Validation Loss: 0.0077829613054001875\n",
            "\u001b[36m(ClientAppActor pid=441899)\u001b[0m Epoch 1/1, Train Loss: 0.010233282508455555, Validation Loss: 0.008755396183749492\n",
            "\u001b[36m(ClientAppActor pid=441899)\u001b[0m Epoch 1/1, Train Loss: 0.009912657826630906, Validation Loss: 0.010080611121586779\n",
            "\u001b[36m(ClientAppActor pid=441899)\u001b[0m Epoch 1/1, Train Loss: 0.009944878788453272, Validation Loss: 0.009516673945737157\n",
            "\u001b[36m(ClientAppActor pid=441899)\u001b[0m Epoch 1/1, Train Loss: 0.00974856278414584, Validation Loss: 0.009300899480215528\n",
            "\u001b[36m(ClientAppActor pid=441899)\u001b[0m Epoch 1/1, Train Loss: 0.009503900988916443, Validation Loss: 0.009052344746041026\n",
            "\u001b[36m(ClientAppActor pid=441899)\u001b[0m Epoch 1/1, Train Loss: 0.009432974774178794, Validation Loss: 0.009157955561849203\n"
          ]
        },
        {
          "name": "stderr",
          "output_type": "stream",
          "text": [
            "\u001b[92mINFO \u001b[0m:      aggregate_fit: received 10 results and 0 failures\n",
            "\u001b[92mINFO \u001b[0m:      configure_evaluate: strategy sampled 5 clients (out of 10)\n"
          ]
        },
        {
          "name": "stdout",
          "output_type": "stream",
          "text": [
            "\u001b[36m(ClientAppActor pid=441899)\u001b[0m Epoch 1/1, Train Loss: 0.01000710641859438, Validation Loss: 0.009001039963384921\n"
          ]
        },
        {
          "name": "stderr",
          "output_type": "stream",
          "text": [
            "\u001b[92mINFO \u001b[0m:      aggregate_evaluate: received 5 results and 0 failures\n",
            "\u001b[92mINFO \u001b[0m:      \n",
            "\u001b[92mINFO \u001b[0m:      [ROUND 19]\n",
            "\u001b[92mINFO \u001b[0m:      configure_fit: strategy sampled 10 clients (out of 10)\n"
          ]
        },
        {
          "name": "stdout",
          "output_type": "stream",
          "text": [
            "\u001b[36m(ClientAppActor pid=441899)\u001b[0m Epoch 1/1, Train Loss: 0.00985511079621078, Validation Loss: 0.008822862058877945\n",
            "\u001b[36m(ClientAppActor pid=441899)\u001b[0m Epoch 1/1, Train Loss: 0.009723173083991489, Validation Loss: 0.009588498897342519\n",
            "\u001b[36m(ClientAppActor pid=441899)\u001b[0m Epoch 1/1, Train Loss: 0.009814437431156297, Validation Loss: 0.007763017730956728\n",
            "\u001b[36m(ClientAppActor pid=441899)\u001b[0m Epoch 1/1, Train Loss: 0.009834227321500128, Validation Loss: 0.008815840373493054\n",
            "\u001b[36m(ClientAppActor pid=441899)\u001b[0m Epoch 1/1, Train Loss: 0.010071711545937102, Validation Loss: 0.010591096456416628\n",
            "\u001b[36m(ClientAppActor pid=441899)\u001b[0m Epoch 1/1, Train Loss: 0.010053740211085162, Validation Loss: 0.009313348257406191\n",
            "\u001b[36m(ClientAppActor pid=441899)\u001b[0m Epoch 1/1, Train Loss: 0.00963581771462817, Validation Loss: 0.009325739250264385\n",
            "\u001b[36m(ClientAppActor pid=441899)\u001b[0m Epoch 1/1, Train Loss: 0.009537464441646907, Validation Loss: 0.009395026369020343\n",
            "\u001b[36m(ClientAppActor pid=441899)\u001b[0m Epoch 1/1, Train Loss: 0.009237365088086914, Validation Loss: 0.009408229940824887\n"
          ]
        },
        {
          "name": "stderr",
          "output_type": "stream",
          "text": [
            "\u001b[92mINFO \u001b[0m:      aggregate_fit: received 10 results and 0 failures\n",
            "\u001b[92mINFO \u001b[0m:      configure_evaluate: strategy sampled 5 clients (out of 10)\n"
          ]
        },
        {
          "name": "stdout",
          "output_type": "stream",
          "text": [
            "\u001b[36m(ClientAppActor pid=441899)\u001b[0m Epoch 1/1, Train Loss: 0.009970523533411324, Validation Loss: 0.008320745059543035\n"
          ]
        },
        {
          "name": "stderr",
          "output_type": "stream",
          "text": [
            "\u001b[92mINFO \u001b[0m:      aggregate_evaluate: received 5 results and 0 failures\n",
            "\u001b[92mINFO \u001b[0m:      \n",
            "\u001b[92mINFO \u001b[0m:      [ROUND 20]\n",
            "\u001b[92mINFO \u001b[0m:      configure_fit: strategy sampled 10 clients (out of 10)\n"
          ]
        },
        {
          "name": "stdout",
          "output_type": "stream",
          "text": [
            "\u001b[36m(ClientAppActor pid=441899)\u001b[0m Epoch 1/1, Train Loss: 0.009825673134235496, Validation Loss: 0.009152254005047407\n",
            "\u001b[36m(ClientAppActor pid=441899)\u001b[0m Epoch 1/1, Train Loss: 0.009904708877332847, Validation Loss: 0.008791325486857782\n",
            "\u001b[36m(ClientAppActor pid=441899)\u001b[0m Epoch 1/1, Train Loss: 0.009713569857095454, Validation Loss: 0.008141515967012807\n",
            "\u001b[36m(ClientAppActor pid=441899)\u001b[0m Epoch 1/1, Train Loss: 0.009768687532579695, Validation Loss: 0.008986221541735258\n",
            "\u001b[36m(ClientAppActor pid=441899)\u001b[0m Epoch 1/1, Train Loss: 0.009983797314238142, Validation Loss: 0.011197306829589334\n",
            "\u001b[36m(ClientAppActor pid=441899)\u001b[0m Epoch 1/1, Train Loss: 0.009963927981020375, Validation Loss: 0.009697259615429422\n",
            "\u001b[36m(ClientAppActor pid=441899)\u001b[0m Epoch 1/1, Train Loss: 0.009538727219809185, Validation Loss: 0.009477080480957573\n",
            "\u001b[36m(ClientAppActor pid=441899)\u001b[0m Epoch 1/1, Train Loss: 0.009312316426075995, Validation Loss: 0.009081039535389706\n",
            "\u001b[36m(ClientAppActor pid=441899)\u001b[0m Epoch 1/1, Train Loss: 0.00952902859055691, Validation Loss: 0.009872115555812012\n"
          ]
        },
        {
          "name": "stderr",
          "output_type": "stream",
          "text": [
            "\u001b[92mINFO \u001b[0m:      aggregate_fit: received 10 results and 0 failures\n",
            "\u001b[92mINFO \u001b[0m:      configure_evaluate: strategy sampled 5 clients (out of 10)\n"
          ]
        },
        {
          "name": "stdout",
          "output_type": "stream",
          "text": [
            "\u001b[36m(ClientAppActor pid=441899)\u001b[0m Epoch 1/1, Train Loss: 0.009785635714334521, Validation Loss: 0.00807298639450561\n"
          ]
        },
        {
          "name": "stderr",
          "output_type": "stream",
          "text": [
            "\u001b[92mINFO \u001b[0m:      aggregate_evaluate: received 5 results and 0 failures\n",
            "\u001b[92mINFO \u001b[0m:      \n",
            "\u001b[92mINFO \u001b[0m:      [ROUND 21]\n",
            "\u001b[92mINFO \u001b[0m:      configure_fit: strategy sampled 10 clients (out of 10)\n"
          ]
        },
        {
          "name": "stdout",
          "output_type": "stream",
          "text": [
            "\u001b[36m(ClientAppActor pid=441899)\u001b[0m Epoch 1/1, Train Loss: 0.00996742050417445, Validation Loss: 0.0085085302548991\n",
            "\u001b[36m(ClientAppActor pid=441899)\u001b[0m Epoch 1/1, Train Loss: 0.009329750414260408, Validation Loss: 0.008704538054933602\n",
            "\u001b[36m(ClientAppActor pid=441899)\u001b[0m Epoch 1/1, Train Loss: 0.009426189988682216, Validation Loss: 0.007688957647505132\n",
            "\u001b[36m(ClientAppActor pid=441899)\u001b[0m Epoch 1/1, Train Loss: 0.00974234904226085, Validation Loss: 0.008950925029983575\n",
            "\u001b[36m(ClientAppActor pid=441899)\u001b[0m Epoch 1/1, Train Loss: 0.009692915440113707, Validation Loss: 0.010112784316085956\n",
            "\u001b[36m(ClientAppActor pid=441899)\u001b[0m Epoch 1/1, Train Loss: 0.00994566429025409, Validation Loss: 0.009554174919189378\n",
            "\u001b[36m(ClientAppActor pid=441899)\u001b[0m Epoch 1/1, Train Loss: 0.009424265950325538, Validation Loss: 0.008997619406066158\n",
            "\u001b[36m(ClientAppActor pid=441899)\u001b[0m Epoch 1/1, Train Loss: 0.009400470944290812, Validation Loss: 0.008897908603433858\n",
            "\u001b[36m(ClientAppActor pid=441899)\u001b[0m Epoch 1/1, Train Loss: 0.009357138013001531, Validation Loss: 0.0093212810090997\n"
          ]
        },
        {
          "name": "stderr",
          "output_type": "stream",
          "text": [
            "\u001b[92mINFO \u001b[0m:      aggregate_fit: received 10 results and 0 failures\n",
            "\u001b[92mINFO \u001b[0m:      configure_evaluate: strategy sampled 5 clients (out of 10)\n"
          ]
        },
        {
          "name": "stdout",
          "output_type": "stream",
          "text": [
            "\u001b[36m(ClientAppActor pid=441899)\u001b[0m Epoch 1/1, Train Loss: 0.009608133193317124, Validation Loss: 0.00829352294518189\n"
          ]
        },
        {
          "name": "stderr",
          "output_type": "stream",
          "text": [
            "\u001b[92mINFO \u001b[0m:      aggregate_evaluate: received 5 results and 0 failures\n",
            "\u001b[92mINFO \u001b[0m:      \n",
            "\u001b[92mINFO \u001b[0m:      [ROUND 22]\n",
            "\u001b[92mINFO \u001b[0m:      configure_fit: strategy sampled 10 clients (out of 10)\n"
          ]
        },
        {
          "name": "stdout",
          "output_type": "stream",
          "text": [
            "\u001b[36m(ClientAppActor pid=441899)\u001b[0m Epoch 1/1, Train Loss: 0.009840623099907216, Validation Loss: 0.00867773076011376\n",
            "\u001b[36m(ClientAppActor pid=441899)\u001b[0m Epoch 1/1, Train Loss: 0.0093740373109044, Validation Loss: 0.00926308778368614\n",
            "\u001b[36m(ClientAppActor pid=441899)\u001b[0m Epoch 1/1, Train Loss: 0.009539660987105559, Validation Loss: 0.007835629988800396\n",
            "\u001b[36m(ClientAppActor pid=441899)\u001b[0m Epoch 1/1, Train Loss: 0.009821707308715717, Validation Loss: 0.008387139977209947\n",
            "\u001b[36m(ClientAppActor pid=441899)\u001b[0m Epoch 1/1, Train Loss: 0.009846604942471127, Validation Loss: 0.010172363920983944\n",
            "\u001b[36m(ClientAppActor pid=441899)\u001b[0m Epoch 1/1, Train Loss: 0.009884912711144849, Validation Loss: 0.008806273425844583\n",
            "\u001b[36m(ClientAppActor pid=441899)\u001b[0m Epoch 1/1, Train Loss: 0.009695353303951297, Validation Loss: 0.009809564883736048\n",
            "\u001b[36m(ClientAppActor pid=441899)\u001b[0m Epoch 1/1, Train Loss: 0.009240398135840554, Validation Loss: 0.010778194970705292\n",
            "\u001b[36m(ClientAppActor pid=441899)\u001b[0m Epoch 1/1, Train Loss: 0.009151148847939277, Validation Loss: 0.009585094744000922\n"
          ]
        },
        {
          "name": "stderr",
          "output_type": "stream",
          "text": [
            "\u001b[92mINFO \u001b[0m:      aggregate_fit: received 10 results and 0 failures\n",
            "\u001b[92mINFO \u001b[0m:      configure_evaluate: strategy sampled 5 clients (out of 10)\n"
          ]
        },
        {
          "name": "stdout",
          "output_type": "stream",
          "text": [
            "\u001b[36m(ClientAppActor pid=441899)\u001b[0m Epoch 1/1, Train Loss: 0.009728589015801183, Validation Loss: 0.008454284546050158\n"
          ]
        },
        {
          "name": "stderr",
          "output_type": "stream",
          "text": [
            "\u001b[92mINFO \u001b[0m:      aggregate_evaluate: received 5 results and 0 failures\n",
            "\u001b[92mINFO \u001b[0m:      \n",
            "\u001b[92mINFO \u001b[0m:      [ROUND 23]\n",
            "\u001b[92mINFO \u001b[0m:      configure_fit: strategy sampled 10 clients (out of 10)\n"
          ]
        },
        {
          "name": "stdout",
          "output_type": "stream",
          "text": [
            "\u001b[36m(ClientAppActor pid=441899)\u001b[0m Epoch 1/1, Train Loss: 0.009829560469370335, Validation Loss: 0.009968231432139874\n",
            "\u001b[36m(ClientAppActor pid=441899)\u001b[0m Epoch 1/1, Train Loss: 0.009542098607529293, Validation Loss: 0.013476000633090734\n",
            "\u001b[36m(ClientAppActor pid=441899)\u001b[0m Epoch 1/1, Train Loss: 0.009533882352777502, Validation Loss: 0.008065646471963688\n",
            "\u001b[36m(ClientAppActor pid=441899)\u001b[0m Epoch 1/1, Train Loss: 0.009642770185812631, Validation Loss: 0.008523021972822871\n",
            "\u001b[36m(ClientAppActor pid=441899)\u001b[0m Epoch 1/1, Train Loss: 0.010038754347161475, Validation Loss: 0.010173461950299416\n",
            "\u001b[36m(ClientAppActor pid=441899)\u001b[0m Epoch 1/1, Train Loss: 0.009581386048177426, Validation Loss: 0.008738916769454425\n",
            "\u001b[36m(ClientAppActor pid=441899)\u001b[0m Epoch 1/1, Train Loss: 0.009508710095277902, Validation Loss: 0.009345749350772663\n",
            "\u001b[36m(ClientAppActor pid=441899)\u001b[0m Epoch 1/1, Train Loss: 0.009407867322972214, Validation Loss: 0.010506678457287226\n",
            "\u001b[36m(ClientAppActor pid=441899)\u001b[0m Epoch 1/1, Train Loss: 0.009307216667697172, Validation Loss: 0.00895917538384145\n"
          ]
        },
        {
          "name": "stderr",
          "output_type": "stream",
          "text": [
            "\u001b[92mINFO \u001b[0m:      aggregate_fit: received 10 results and 0 failures\n",
            "\u001b[92mINFO \u001b[0m:      configure_evaluate: strategy sampled 5 clients (out of 10)\n"
          ]
        },
        {
          "name": "stdout",
          "output_type": "stream",
          "text": [
            "\u001b[36m(ClientAppActor pid=441899)\u001b[0m Epoch 1/1, Train Loss: 0.00968948468322527, Validation Loss: 0.008157341211864894\n"
          ]
        },
        {
          "name": "stderr",
          "output_type": "stream",
          "text": [
            "\u001b[92mINFO \u001b[0m:      aggregate_evaluate: received 5 results and 0 failures\n",
            "\u001b[92mINFO \u001b[0m:      \n",
            "\u001b[92mINFO \u001b[0m:      [ROUND 24]\n",
            "\u001b[92mINFO \u001b[0m:      configure_fit: strategy sampled 10 clients (out of 10)\n"
          ]
        },
        {
          "name": "stdout",
          "output_type": "stream",
          "text": [
            "\u001b[36m(ClientAppActor pid=441899)\u001b[0m Epoch 1/1, Train Loss: 0.009712748356502165, Validation Loss: 0.008689726364206184\n",
            "\u001b[36m(ClientAppActor pid=441899)\u001b[0m Epoch 1/1, Train Loss: 0.00956527875545858, Validation Loss: 0.008610932156443596\n",
            "\u001b[36m(ClientAppActor pid=441899)\u001b[0m Epoch 1/1, Train Loss: 0.009513651645234362, Validation Loss: 0.008375901813534174\n",
            "\u001b[36m(ClientAppActor pid=441899)\u001b[0m Epoch 1/1, Train Loss: 0.009857311326248402, Validation Loss: 0.00832976112988862\n",
            "\u001b[36m(ClientAppActor pid=441899)\u001b[0m Epoch 1/1, Train Loss: 0.009748346812557429, Validation Loss: 0.00986445868726481\n",
            "\u001b[36m(ClientAppActor pid=441899)\u001b[0m Epoch 1/1, Train Loss: 0.00966741288059645, Validation Loss: 0.008691254389387641\n",
            "\u001b[36m(ClientAppActor pid=441899)\u001b[0m Epoch 1/1, Train Loss: 0.009464823577383702, Validation Loss: 0.008842610330744223\n",
            "\u001b[36m(ClientAppActor pid=441899)\u001b[0m Epoch 1/1, Train Loss: 0.009174838757396421, Validation Loss: 0.009276226755570282\n",
            "\u001b[36m(ClientAppActor pid=441899)\u001b[0m Epoch 1/1, Train Loss: 0.009345308671155099, Validation Loss: 0.00923803537576036\n"
          ]
        },
        {
          "name": "stderr",
          "output_type": "stream",
          "text": [
            "\u001b[92mINFO \u001b[0m:      aggregate_fit: received 10 results and 0 failures\n",
            "\u001b[92mINFO \u001b[0m:      configure_evaluate: strategy sampled 5 clients (out of 10)\n"
          ]
        },
        {
          "name": "stdout",
          "output_type": "stream",
          "text": [
            "\u001b[36m(ClientAppActor pid=441899)\u001b[0m Epoch 1/1, Train Loss: 0.009702222564638678, Validation Loss: 0.008860250723294237\n"
          ]
        },
        {
          "name": "stderr",
          "output_type": "stream",
          "text": [
            "\u001b[92mINFO \u001b[0m:      aggregate_evaluate: received 5 results and 0 failures\n",
            "\u001b[92mINFO \u001b[0m:      \n",
            "\u001b[92mINFO \u001b[0m:      [ROUND 25]\n",
            "\u001b[92mINFO \u001b[0m:      configure_fit: strategy sampled 10 clients (out of 10)\n"
          ]
        },
        {
          "name": "stdout",
          "output_type": "stream",
          "text": [
            "\u001b[36m(ClientAppActor pid=441899)\u001b[0m Epoch 1/1, Train Loss: 0.009817566542716866, Validation Loss: 0.008412471506744623\n",
            "\u001b[36m(ClientAppActor pid=441899)\u001b[0m Epoch 1/1, Train Loss: 0.009706863392652436, Validation Loss: 0.008873794122006406\n",
            "\u001b[36m(ClientAppActor pid=441899)\u001b[0m Epoch 1/1, Train Loss: 0.009496659987648442, Validation Loss: 0.008214993910356001\n",
            "\u001b[36m(ClientAppActor pid=441899)\u001b[0m Epoch 1/1, Train Loss: 0.009789804128972306, Validation Loss: 0.008220972112295303\n",
            "\u001b[36m(ClientAppActor pid=441899)\u001b[0m Epoch 1/1, Train Loss: 0.009589787969492714, Validation Loss: 0.011239089537411928\n",
            "\u001b[36m(ClientAppActor pid=441899)\u001b[0m Epoch 1/1, Train Loss: 0.009629312680441548, Validation Loss: 0.008503873239864002\n",
            "\u001b[36m(ClientAppActor pid=441899)\u001b[0m Epoch 1/1, Train Loss: 0.009422781004104763, Validation Loss: 0.008694022449410775\n",
            "\u001b[36m(ClientAppActor pid=441899)\u001b[0m Epoch 1/1, Train Loss: 0.009163557207846845, Validation Loss: 0.009331386642191897\n",
            "\u001b[36m(ClientAppActor pid=441899)\u001b[0m Epoch 1/1, Train Loss: 0.009119100556497207, Validation Loss: 0.009128828829323704\n"
          ]
        },
        {
          "name": "stderr",
          "output_type": "stream",
          "text": [
            "\u001b[92mINFO \u001b[0m:      aggregate_fit: received 10 results and 0 failures\n",
            "\u001b[92mINFO \u001b[0m:      configure_evaluate: strategy sampled 5 clients (out of 10)\n"
          ]
        },
        {
          "name": "stdout",
          "output_type": "stream",
          "text": [
            "\u001b[36m(ClientAppActor pid=441899)\u001b[0m Epoch 1/1, Train Loss: 0.00974547607951205, Validation Loss: 0.008281726559454744\n"
          ]
        },
        {
          "name": "stderr",
          "output_type": "stream",
          "text": [
            "\u001b[92mINFO \u001b[0m:      aggregate_evaluate: received 5 results and 0 failures\n",
            "\u001b[92mINFO \u001b[0m:      \n",
            "\u001b[92mINFO \u001b[0m:      [ROUND 26]\n",
            "\u001b[92mINFO \u001b[0m:      configure_fit: strategy sampled 10 clients (out of 10)\n"
          ]
        },
        {
          "name": "stdout",
          "output_type": "stream",
          "text": [
            "\u001b[36m(ClientAppActor pid=441899)\u001b[0m Epoch 1/1, Train Loss: 0.00960085978625681, Validation Loss: 0.00865837048993192\n",
            "\u001b[36m(ClientAppActor pid=441899)\u001b[0m Epoch 1/1, Train Loss: 0.009347875401462343, Validation Loss: 0.009619145442477682\n",
            "\u001b[36m(ClientAppActor pid=441899)\u001b[0m Epoch 1/1, Train Loss: 0.009315534293736246, Validation Loss: 0.007905900732360104\n",
            "\u001b[36m(ClientAppActor pid=441899)\u001b[0m Epoch 1/1, Train Loss: 0.009428418421355838, Validation Loss: 0.00823192573575811\n",
            "\u001b[36m(ClientAppActor pid=441899)\u001b[0m Epoch 1/1, Train Loss: 0.009588704269845039, Validation Loss: 0.010147614531557669\n",
            "\u001b[36m(ClientAppActor pid=441899)\u001b[0m Epoch 1/1, Train Loss: 0.009591749133753845, Validation Loss: 0.008661738300526684\n",
            "\u001b[36m(ClientAppActor pid=441899)\u001b[0m Epoch 1/1, Train Loss: 0.009280202926178887, Validation Loss: 0.008687923514199529\n",
            "\u001b[36m(ClientAppActor pid=441899)\u001b[0m Epoch 1/1, Train Loss: 0.009139635679523715, Validation Loss: 0.008887909141115168\n",
            "\u001b[36m(ClientAppActor pid=441899)\u001b[0m Epoch 1/1, Train Loss: 0.009118113920769909, Validation Loss: 0.008925664048133925\n"
          ]
        },
        {
          "name": "stderr",
          "output_type": "stream",
          "text": [
            "\u001b[92mINFO \u001b[0m:      aggregate_fit: received 10 results and 0 failures\n",
            "\u001b[92mINFO \u001b[0m:      configure_evaluate: strategy sampled 5 clients (out of 10)\n"
          ]
        },
        {
          "name": "stdout",
          "output_type": "stream",
          "text": [
            "\u001b[36m(ClientAppActor pid=441899)\u001b[0m Epoch 1/1, Train Loss: 0.009480577533725987, Validation Loss: 0.008878819475119764\n"
          ]
        },
        {
          "name": "stderr",
          "output_type": "stream",
          "text": [
            "\u001b[92mINFO \u001b[0m:      aggregate_evaluate: received 5 results and 0 failures\n",
            "\u001b[92mINFO \u001b[0m:      \n",
            "\u001b[92mINFO \u001b[0m:      [ROUND 27]\n",
            "\u001b[92mINFO \u001b[0m:      configure_fit: strategy sampled 10 clients (out of 10)\n"
          ]
        },
        {
          "name": "stdout",
          "output_type": "stream",
          "text": [
            "\u001b[36m(ClientAppActor pid=441899)\u001b[0m Epoch 1/1, Train Loss: 0.009592817339580506, Validation Loss: 0.00879313828508285\n",
            "\u001b[36m(ClientAppActor pid=441899)\u001b[0m Epoch 1/1, Train Loss: 0.009195326086641713, Validation Loss: 0.009188489057123661\n",
            "\u001b[36m(ClientAppActor pid=441899)\u001b[0m Epoch 1/1, Train Loss: 0.009506601618010212, Validation Loss: 0.007894090800122782\n",
            "\u001b[36m(ClientAppActor pid=441899)\u001b[0m Epoch 1/1, Train Loss: 0.009507096626541832, Validation Loss: 0.009274596348404884\n",
            "\u001b[36m(ClientAppActor pid=441899)\u001b[0m Epoch 1/1, Train Loss: 0.009894350945780223, Validation Loss: 0.009975664635104213\n",
            "\u001b[36m(ClientAppActor pid=441899)\u001b[0m Epoch 1/1, Train Loss: 0.00961959614968774, Validation Loss: 0.008698000297458335\n",
            "\u001b[36m(ClientAppActor pid=441899)\u001b[0m Epoch 1/1, Train Loss: 0.009663632658140903, Validation Loss: 0.008657262025570328\n",
            "\u001b[36m(ClientAppActor pid=441899)\u001b[0m Epoch 1/1, Train Loss: 0.008994649846995757, Validation Loss: 0.009307333310558037\n",
            "\u001b[36m(ClientAppActor pid=441899)\u001b[0m Epoch 1/1, Train Loss: 0.008975973712619056, Validation Loss: 0.009109210519289429\n"
          ]
        },
        {
          "name": "stderr",
          "output_type": "stream",
          "text": [
            "\u001b[92mINFO \u001b[0m:      aggregate_fit: received 10 results and 0 failures\n",
            "\u001b[92mINFO \u001b[0m:      configure_evaluate: strategy sampled 5 clients (out of 10)\n"
          ]
        },
        {
          "name": "stdout",
          "output_type": "stream",
          "text": [
            "\u001b[36m(ClientAppActor pid=441899)\u001b[0m Epoch 1/1, Train Loss: 0.009619908248582347, Validation Loss: 0.008741404480216179\n"
          ]
        },
        {
          "name": "stderr",
          "output_type": "stream",
          "text": [
            "\u001b[92mINFO \u001b[0m:      aggregate_evaluate: received 5 results and 0 failures\n",
            "\u001b[92mINFO \u001b[0m:      \n",
            "\u001b[92mINFO \u001b[0m:      [ROUND 28]\n",
            "\u001b[92mINFO \u001b[0m:      configure_fit: strategy sampled 10 clients (out of 10)\n"
          ]
        },
        {
          "name": "stdout",
          "output_type": "stream",
          "text": [
            "\u001b[36m(ClientAppActor pid=441899)\u001b[0m Epoch 1/1, Train Loss: 0.009590015032286332, Validation Loss: 0.008997659939764575\n",
            "\u001b[36m(ClientAppActor pid=441899)\u001b[0m Epoch 1/1, Train Loss: 0.009348180753559891, Validation Loss: 0.008705017918890173\n",
            "\u001b[36m(ClientAppActor pid=441899)\u001b[0m Epoch 1/1, Train Loss: 0.009318309952504933, Validation Loss: 0.008541603361002424\n",
            "\u001b[36m(ClientAppActor pid=441899)\u001b[0m Epoch 1/1, Train Loss: 0.009826787329405885, Validation Loss: 0.008329599354924127\n",
            "\u001b[36m(ClientAppActor pid=441899)\u001b[0m Epoch 1/1, Train Loss: 0.00979536507194015, Validation Loss: 0.009930723770098253\n",
            "\u001b[36m(ClientAppActor pid=441899)\u001b[0m Epoch 1/1, Train Loss: 0.009517117683902721, Validation Loss: 0.008834825341843745\n",
            "\u001b[36m(ClientAppActor pid=441899)\u001b[0m Epoch 1/1, Train Loss: 0.009176612212534317, Validation Loss: 0.00857062661089003\n",
            "\u001b[36m(ClientAppActor pid=441899)\u001b[0m Epoch 1/1, Train Loss: 0.009085460682399571, Validation Loss: 0.009386022892695937\n",
            "\u001b[36m(ClientAppActor pid=441899)\u001b[0m Epoch 1/1, Train Loss: 0.009113154871473935, Validation Loss: 0.00956754964268343\n"
          ]
        },
        {
          "name": "stderr",
          "output_type": "stream",
          "text": [
            "\u001b[92mINFO \u001b[0m:      aggregate_fit: received 10 results and 0 failures\n",
            "\u001b[92mINFO \u001b[0m:      configure_evaluate: strategy sampled 5 clients (out of 10)\n"
          ]
        },
        {
          "name": "stdout",
          "output_type": "stream",
          "text": [
            "\u001b[36m(ClientAppActor pid=441899)\u001b[0m Epoch 1/1, Train Loss: 0.009368544613773172, Validation Loss: 0.00898880924267525\n"
          ]
        },
        {
          "name": "stderr",
          "output_type": "stream",
          "text": [
            "\u001b[92mINFO \u001b[0m:      aggregate_evaluate: received 5 results and 0 failures\n",
            "\u001b[92mINFO \u001b[0m:      \n",
            "\u001b[92mINFO \u001b[0m:      [ROUND 29]\n",
            "\u001b[92mINFO \u001b[0m:      configure_fit: strategy sampled 10 clients (out of 10)\n"
          ]
        },
        {
          "name": "stdout",
          "output_type": "stream",
          "text": [
            "\u001b[36m(ClientAppActor pid=441899)\u001b[0m Epoch 1/1, Train Loss: 0.009558327480176971, Validation Loss: 0.009002657861194828\n",
            "\u001b[36m(ClientAppActor pid=441899)\u001b[0m Epoch 1/1, Train Loss: 0.009301325819582085, Validation Loss: 0.009246431693265384\n",
            "\u001b[36m(ClientAppActor pid=441899)\u001b[0m Epoch 1/1, Train Loss: 0.009627995822070674, Validation Loss: 0.007650605381720446\n",
            "\u001b[36m(ClientAppActor pid=441899)\u001b[0m Epoch 1/1, Train Loss: 0.009675218924795363, Validation Loss: 0.00822101067751646\n",
            "\u001b[36m(ClientAppActor pid=441899)\u001b[0m Epoch 1/1, Train Loss: 0.009507058569314804, Validation Loss: 0.010051022453064268\n",
            "\u001b[36m(ClientAppActor pid=441899)\u001b[0m Epoch 1/1, Train Loss: 0.00961919214089655, Validation Loss: 0.008655500979247418\n",
            "\u001b[36m(ClientAppActor pid=441899)\u001b[0m Epoch 1/1, Train Loss: 0.009331613577986982, Validation Loss: 0.009387481809509072\n",
            "\u001b[36m(ClientAppActor pid=441899)\u001b[0m Epoch 1/1, Train Loss: 0.009150563247120854, Validation Loss: 0.009418708526275375\n",
            "\u001b[36m(ClientAppActor pid=441899)\u001b[0m Epoch 1/1, Train Loss: 0.00910422428701581, Validation Loss: 0.009302702499553561\n"
          ]
        },
        {
          "name": "stderr",
          "output_type": "stream",
          "text": [
            "\u001b[92mINFO \u001b[0m:      aggregate_fit: received 10 results and 0 failures\n",
            "\u001b[92mINFO \u001b[0m:      configure_evaluate: strategy sampled 5 clients (out of 10)\n"
          ]
        },
        {
          "name": "stdout",
          "output_type": "stream",
          "text": [
            "\u001b[36m(ClientAppActor pid=441899)\u001b[0m Epoch 1/1, Train Loss: 0.009373224589084699, Validation Loss: 0.008327956247905438\n"
          ]
        },
        {
          "name": "stderr",
          "output_type": "stream",
          "text": [
            "\u001b[92mINFO \u001b[0m:      aggregate_evaluate: received 5 results and 0 failures\n",
            "\u001b[92mINFO \u001b[0m:      \n",
            "\u001b[92mINFO \u001b[0m:      [ROUND 30]\n",
            "\u001b[92mINFO \u001b[0m:      configure_fit: strategy sampled 10 clients (out of 10)\n"
          ]
        },
        {
          "name": "stdout",
          "output_type": "stream",
          "text": [
            "\u001b[36m(ClientAppActor pid=441899)\u001b[0m Epoch 1/1, Train Loss: 0.0096824540365064, Validation Loss: 0.008309320906515826\n",
            "\u001b[36m(ClientAppActor pid=441899)\u001b[0m Epoch 1/1, Train Loss: 0.00933908520329913, Validation Loss: 0.008480090880766511\n",
            "\u001b[36m(ClientAppActor pid=441899)\u001b[0m Epoch 1/1, Train Loss: 0.00953923591772433, Validation Loss: 0.0076855321372435855\n",
            "\u001b[36m(ClientAppActor pid=441899)\u001b[0m Epoch 1/1, Train Loss: 0.009604836422526701, Validation Loss: 0.008432161549783566\n",
            "\u001b[36m(ClientAppActor pid=441899)\u001b[0m Epoch 1/1, Train Loss: 0.00956532103009522, Validation Loss: 0.010175414065915074\n",
            "\u001b[36m(ClientAppActor pid=441899)\u001b[0m Epoch 1/1, Train Loss: 0.009838200380644676, Validation Loss: 0.009242645507170395\n",
            "\u001b[36m(ClientAppActor pid=441899)\u001b[0m Epoch 1/1, Train Loss: 0.009208348595579579, Validation Loss: 0.009005122394724325\n",
            "\u001b[36m(ClientAppActor pid=441899)\u001b[0m Epoch 1/1, Train Loss: 0.009154397803782062, Validation Loss: 0.009163834218105132\n",
            "\u001b[36m(ClientAppActor pid=441899)\u001b[0m Epoch 1/1, Train Loss: 0.008878234165339645, Validation Loss: 0.00980813509191979\n"
          ]
        },
        {
          "name": "stderr",
          "output_type": "stream",
          "text": [
            "\u001b[92mINFO \u001b[0m:      aggregate_fit: received 10 results and 0 failures\n",
            "\u001b[92mINFO \u001b[0m:      configure_evaluate: strategy sampled 5 clients (out of 10)\n"
          ]
        },
        {
          "name": "stdout",
          "output_type": "stream",
          "text": [
            "\u001b[36m(ClientAppActor pid=441899)\u001b[0m Epoch 1/1, Train Loss: 0.009601385364393618, Validation Loss: 0.00821307081390511\n"
          ]
        },
        {
          "name": "stderr",
          "output_type": "stream",
          "text": [
            "\u001b[92mINFO \u001b[0m:      aggregate_evaluate: received 5 results and 0 failures\n",
            "\u001b[92mINFO \u001b[0m:      \n",
            "\u001b[92mINFO \u001b[0m:      [ROUND 31]\n",
            "\u001b[92mINFO \u001b[0m:      configure_fit: strategy sampled 10 clients (out of 10)\n"
          ]
        },
        {
          "name": "stdout",
          "output_type": "stream",
          "text": [
            "\u001b[36m(ClientAppActor pid=441899)\u001b[0m Epoch 1/1, Train Loss: 0.009680607308506627, Validation Loss: 0.008487706707621162\n",
            "\u001b[36m(ClientAppActor pid=441899)\u001b[0m Epoch 1/1, Train Loss: 0.009391104717823591, Validation Loss: 0.008553101236677983\n",
            "\u001b[36m(ClientAppActor pid=441899)\u001b[0m Epoch 1/1, Train Loss: 0.009245233800770207, Validation Loss: 0.007723055208440532\n",
            "\u001b[36m(ClientAppActor pid=441899)\u001b[0m Epoch 1/1, Train Loss: 0.00959478579038246, Validation Loss: 0.008524268336424773\n",
            "\u001b[36m(ClientAppActor pid=441899)\u001b[0m Epoch 1/1, Train Loss: 0.009620583838444541, Validation Loss: 0.011556722139093008\n",
            "\u001b[36m(ClientAppActor pid=441899)\u001b[0m Epoch 1/1, Train Loss: 0.009615269854707136, Validation Loss: 0.009313840292055498\n",
            "\u001b[36m(ClientAppActor pid=441899)\u001b[0m Epoch 1/1, Train Loss: 0.00956264696486125, Validation Loss: 0.0088805758648298\n",
            "\u001b[36m(ClientAppActor pid=441899)\u001b[0m Epoch 1/1, Train Loss: 0.009002912646709856, Validation Loss: 0.010114464993503961\n",
            "\u001b[36m(ClientAppActor pid=441899)\u001b[0m Epoch 1/1, Train Loss: 0.009354226857381449, Validation Loss: 0.008965838234871626\n"
          ]
        },
        {
          "name": "stderr",
          "output_type": "stream",
          "text": [
            "\u001b[92mINFO \u001b[0m:      aggregate_fit: received 10 results and 0 failures\n",
            "\u001b[92mINFO \u001b[0m:      configure_evaluate: strategy sampled 5 clients (out of 10)\n"
          ]
        },
        {
          "name": "stdout",
          "output_type": "stream",
          "text": [
            "\u001b[36m(ClientAppActor pid=441899)\u001b[0m Epoch 1/1, Train Loss: 0.009527224645187909, Validation Loss: 0.008656390498138287\n"
          ]
        },
        {
          "name": "stderr",
          "output_type": "stream",
          "text": [
            "\u001b[92mINFO \u001b[0m:      aggregate_evaluate: received 5 results and 0 failures\n",
            "\u001b[92mINFO \u001b[0m:      \n",
            "\u001b[92mINFO \u001b[0m:      [ROUND 32]\n",
            "\u001b[92mINFO \u001b[0m:      configure_fit: strategy sampled 10 clients (out of 10)\n"
          ]
        },
        {
          "name": "stdout",
          "output_type": "stream",
          "text": [
            "\u001b[36m(ClientAppActor pid=441899)\u001b[0m Epoch 1/1, Train Loss: 0.009586596136531707, Validation Loss: 0.008943031182173978\n",
            "\u001b[36m(ClientAppActor pid=441899)\u001b[0m Epoch 1/1, Train Loss: 0.009208838238423183, Validation Loss: 0.009386207633228465\n",
            "\u001b[36m(ClientAppActor pid=441899)\u001b[0m Epoch 1/1, Train Loss: 0.009363838302140886, Validation Loss: 0.008337901608849113\n",
            "\u001b[36m(ClientAppActor pid=441899)\u001b[0m Epoch 1/1, Train Loss: 0.009542692484418776, Validation Loss: 0.008630820401859555\n",
            "\u001b[36m(ClientAppActor pid=441899)\u001b[0m Epoch 1/1, Train Loss: 0.009556633520829068, Validation Loss: 0.010287750766358593\n",
            "\u001b[36m(ClientAppActor pid=441899)\u001b[0m Epoch 1/1, Train Loss: 0.00938165813303468, Validation Loss: 0.008737256411801685\n",
            "\u001b[36m(ClientAppActor pid=441899)\u001b[0m Epoch 1/1, Train Loss: 0.009292782056780363, Validation Loss: 0.00909320504235273\n",
            "\u001b[36m(ClientAppActor pid=441899)\u001b[0m Epoch 1/1, Train Loss: 0.009193508039143953, Validation Loss: 0.009889250070872631\n",
            "\u001b[36m(ClientAppActor pid=441899)\u001b[0m Epoch 1/1, Train Loss: 0.0089506053164686, Validation Loss: 0.008850206578658386\n"
          ]
        },
        {
          "name": "stderr",
          "output_type": "stream",
          "text": [
            "\u001b[92mINFO \u001b[0m:      aggregate_fit: received 10 results and 0 failures\n",
            "\u001b[92mINFO \u001b[0m:      configure_evaluate: strategy sampled 5 clients (out of 10)\n"
          ]
        },
        {
          "name": "stdout",
          "output_type": "stream",
          "text": [
            "\u001b[36m(ClientAppActor pid=441899)\u001b[0m Epoch 1/1, Train Loss: 0.009661521513904021, Validation Loss: 0.008060559418729761\n"
          ]
        },
        {
          "name": "stderr",
          "output_type": "stream",
          "text": [
            "\u001b[92mINFO \u001b[0m:      aggregate_evaluate: received 5 results and 0 failures\n",
            "\u001b[92mINFO \u001b[0m:      \n",
            "\u001b[92mINFO \u001b[0m:      [ROUND 33]\n",
            "\u001b[92mINFO \u001b[0m:      configure_fit: strategy sampled 10 clients (out of 10)\n"
          ]
        },
        {
          "name": "stdout",
          "output_type": "stream",
          "text": [
            "\u001b[36m(ClientAppActor pid=441899)\u001b[0m Epoch 1/1, Train Loss: 0.009501896470531145, Validation Loss: 0.008759041549637914\n",
            "\u001b[36m(ClientAppActor pid=441899)\u001b[0m Epoch 1/1, Train Loss: 0.009277443343307823, Validation Loss: 0.008536874528296969\n",
            "\u001b[36m(ClientAppActor pid=441899)\u001b[0m Epoch 1/1, Train Loss: 0.009192217845173383, Validation Loss: 0.007855596994473175\n",
            "\u001b[36m(ClientAppActor pid=441899)\u001b[0m Epoch 1/1, Train Loss: 0.00931789807509631, Validation Loss: 0.011565219060602512\n",
            "\u001b[36m(ClientAppActor pid=441899)\u001b[0m Epoch 1/1, Train Loss: 0.0096319132452746, Validation Loss: 0.009856077482585202\n",
            "\u001b[36m(ClientAppActor pid=441899)\u001b[0m Epoch 1/1, Train Loss: 0.009431501109661027, Validation Loss: 0.009524240412495354\n",
            "\u001b[36m(ClientAppActor pid=441899)\u001b[0m Epoch 1/1, Train Loss: 0.00932309797710993, Validation Loss: 0.00943920987827534\n",
            "\u001b[36m(ClientAppActor pid=441899)\u001b[0m Epoch 1/1, Train Loss: 0.009047523918773302, Validation Loss: 0.009119932603260333\n",
            "\u001b[36m(ClientAppActor pid=441899)\u001b[0m Epoch 1/1, Train Loss: 0.009056680407163432, Validation Loss: 0.009342357177626003\n"
          ]
        },
        {
          "name": "stderr",
          "output_type": "stream",
          "text": [
            "\u001b[92mINFO \u001b[0m:      aggregate_fit: received 10 results and 0 failures\n",
            "\u001b[92mINFO \u001b[0m:      configure_evaluate: strategy sampled 5 clients (out of 10)\n"
          ]
        },
        {
          "name": "stdout",
          "output_type": "stream",
          "text": [
            "\u001b[36m(ClientAppActor pid=441899)\u001b[0m Epoch 1/1, Train Loss: 0.009376483466687867, Validation Loss: 0.009008821650323543\n"
          ]
        },
        {
          "name": "stderr",
          "output_type": "stream",
          "text": [
            "\u001b[92mINFO \u001b[0m:      aggregate_evaluate: received 5 results and 0 failures\n",
            "\u001b[92mINFO \u001b[0m:      \n",
            "\u001b[92mINFO \u001b[0m:      [ROUND 34]\n",
            "\u001b[92mINFO \u001b[0m:      configure_fit: strategy sampled 10 clients (out of 10)\n"
          ]
        },
        {
          "name": "stdout",
          "output_type": "stream",
          "text": [
            "\u001b[36m(ClientAppActor pid=441899)\u001b[0m Epoch 1/1, Train Loss: 0.009518970386125147, Validation Loss: 0.00841642530973662\n",
            "\u001b[36m(ClientAppActor pid=441899)\u001b[0m Epoch 1/1, Train Loss: 0.00912106730340218, Validation Loss: 0.009065868057818576\n",
            "\u001b[36m(ClientAppActor pid=441899)\u001b[0m Epoch 1/1, Train Loss: 0.00935147765664045, Validation Loss: 0.007778397824784572\n",
            "\u001b[36m(ClientAppActor pid=441899)\u001b[0m Epoch 1/1, Train Loss: 0.009395083147947762, Validation Loss: 0.008346212392842228\n",
            "\u001b[36m(ClientAppActor pid=441899)\u001b[0m Epoch 1/1, Train Loss: 0.009594611209732566, Validation Loss: 0.010319899153811011\n",
            "\u001b[36m(ClientAppActor pid=441899)\u001b[0m Epoch 1/1, Train Loss: 0.009629375137261708, Validation Loss: 0.008682166459038854\n",
            "\u001b[36m(ClientAppActor pid=441899)\u001b[0m Epoch 1/1, Train Loss: 0.0093116065307351, Validation Loss: 0.009197150738063183\n",
            "\u001b[36m(ClientAppActor pid=441899)\u001b[0m Epoch 1/1, Train Loss: 0.009060626394454051, Validation Loss: 0.00938956039449708\n",
            "\u001b[36m(ClientAppActor pid=441899)\u001b[0m Epoch 1/1, Train Loss: 0.008921046704265544, Validation Loss: 0.01077465649524873\n"
          ]
        },
        {
          "name": "stderr",
          "output_type": "stream",
          "text": [
            "\u001b[92mINFO \u001b[0m:      aggregate_fit: received 10 results and 0 failures\n",
            "\u001b[92mINFO \u001b[0m:      configure_evaluate: strategy sampled 5 clients (out of 10)\n"
          ]
        },
        {
          "name": "stdout",
          "output_type": "stream",
          "text": [
            "\u001b[36m(ClientAppActor pid=441899)\u001b[0m Epoch 1/1, Train Loss: 0.009459934424905276, Validation Loss: 0.008736206028102473\n"
          ]
        },
        {
          "name": "stderr",
          "output_type": "stream",
          "text": [
            "\u001b[92mINFO \u001b[0m:      aggregate_evaluate: received 5 results and 0 failures\n",
            "\u001b[92mINFO \u001b[0m:      \n",
            "\u001b[92mINFO \u001b[0m:      [ROUND 35]\n",
            "\u001b[92mINFO \u001b[0m:      configure_fit: strategy sampled 10 clients (out of 10)\n"
          ]
        },
        {
          "name": "stdout",
          "output_type": "stream",
          "text": [
            "\u001b[36m(ClientAppActor pid=441899)\u001b[0m Epoch 1/1, Train Loss: 0.009382969085973773, Validation Loss: 0.008293811401182955\n",
            "\u001b[36m(ClientAppActor pid=441899)\u001b[0m Epoch 1/1, Train Loss: 0.009168933431448584, Validation Loss: 0.008460895327681845\n",
            "\u001b[36m(ClientAppActor pid=441899)\u001b[0m Epoch 1/1, Train Loss: 0.009419040727979418, Validation Loss: 0.007854493292556568\n",
            "\u001b[36m(ClientAppActor pid=441899)\u001b[0m Epoch 1/1, Train Loss: 0.0094297432012602, Validation Loss: 0.008127557325430891\n",
            "\u001b[36m(ClientAppActor pid=441899)\u001b[0m Epoch 1/1, Train Loss: 0.010032364691141993, Validation Loss: 0.010651212100955572\n",
            "\u001b[36m(ClientAppActor pid=441899)\u001b[0m Epoch 1/1, Train Loss: 0.009269692712802102, Validation Loss: 0.009858918079937046\n",
            "\u001b[36m(ClientAppActor pid=441899)\u001b[0m Epoch 1/1, Train Loss: 0.009144492584957996, Validation Loss: 0.008795418459075418\n",
            "\u001b[36m(ClientAppActor pid=441899)\u001b[0m Epoch 1/1, Train Loss: 0.00896928675303405, Validation Loss: 0.00888444561595944\n",
            "\u001b[36m(ClientAppActor pid=441899)\u001b[0m Epoch 1/1, Train Loss: 0.008905993621076712, Validation Loss: 0.009019147202541882\n"
          ]
        },
        {
          "name": "stderr",
          "output_type": "stream",
          "text": [
            "\u001b[92mINFO \u001b[0m:      aggregate_fit: received 10 results and 0 failures\n",
            "\u001b[92mINFO \u001b[0m:      configure_evaluate: strategy sampled 5 clients (out of 10)\n"
          ]
        },
        {
          "name": "stdout",
          "output_type": "stream",
          "text": [
            "\u001b[36m(ClientAppActor pid=441899)\u001b[0m Epoch 1/1, Train Loss: 0.009600997722538357, Validation Loss: 0.008533633187074553\n"
          ]
        },
        {
          "name": "stderr",
          "output_type": "stream",
          "text": [
            "\u001b[92mINFO \u001b[0m:      aggregate_evaluate: received 5 results and 0 failures\n",
            "\u001b[92mINFO \u001b[0m:      \n",
            "\u001b[92mINFO \u001b[0m:      [ROUND 36]\n",
            "\u001b[92mINFO \u001b[0m:      configure_fit: strategy sampled 10 clients (out of 10)\n"
          ]
        },
        {
          "name": "stdout",
          "output_type": "stream",
          "text": [
            "\u001b[36m(ClientAppActor pid=441899)\u001b[0m Epoch 1/1, Train Loss: 0.00910700589354912, Validation Loss: 0.008729217044839805\n",
            "\u001b[36m(ClientAppActor pid=441899)\u001b[0m Epoch 1/1, Train Loss: 0.009374135845891115, Validation Loss: 0.00921291849491271\n",
            "\u001b[36m(ClientAppActor pid=441899)\u001b[0m Epoch 1/1, Train Loss: 0.009102199851027266, Validation Loss: 0.0076361291152848435\n",
            "\u001b[36m(ClientAppActor pid=441899)\u001b[0m Epoch 1/1, Train Loss: 0.009418758542530915, Validation Loss: 0.008017285557633097\n",
            "\u001b[36m(ClientAppActor pid=441899)\u001b[0m Epoch 1/1, Train Loss: 0.00972302242669023, Validation Loss: 0.0106300716500052\n",
            "\u001b[36m(ClientAppActor pid=441899)\u001b[0m Epoch 1/1, Train Loss: 0.009342407051008195, Validation Loss: 0.008576683022759178\n",
            "\u001b[36m(ClientAppActor pid=441899)\u001b[0m Epoch 1/1, Train Loss: 0.009219686066816475, Validation Loss: 0.009142158066176555\n",
            "\u001b[36m(ClientAppActor pid=441899)\u001b[0m Epoch 1/1, Train Loss: 0.009159348624631424, Validation Loss: 0.009418067437681284\n",
            "\u001b[36m(ClientAppActor pid=441899)\u001b[0m Epoch 1/1, Train Loss: 0.009014071388678118, Validation Loss: 0.008913603060963478\n"
          ]
        },
        {
          "name": "stderr",
          "output_type": "stream",
          "text": [
            "\u001b[92mINFO \u001b[0m:      aggregate_fit: received 10 results and 0 failures\n",
            "\u001b[92mINFO \u001b[0m:      configure_evaluate: strategy sampled 5 clients (out of 10)\n"
          ]
        },
        {
          "name": "stdout",
          "output_type": "stream",
          "text": [
            "\u001b[36m(ClientAppActor pid=441899)\u001b[0m Epoch 1/1, Train Loss: 0.009474727954842489, Validation Loss: 0.008291169006208127\n"
          ]
        },
        {
          "name": "stderr",
          "output_type": "stream",
          "text": [
            "\u001b[92mINFO \u001b[0m:      aggregate_evaluate: received 5 results and 0 failures\n",
            "\u001b[92mINFO \u001b[0m:      \n",
            "\u001b[92mINFO \u001b[0m:      [ROUND 37]\n",
            "\u001b[92mINFO \u001b[0m:      configure_fit: strategy sampled 10 clients (out of 10)\n"
          ]
        },
        {
          "name": "stdout",
          "output_type": "stream",
          "text": [
            "\u001b[36m(ClientAppActor pid=441899)\u001b[0m Epoch 1/1, Train Loss: 0.009373438269407912, Validation Loss: 0.008421457605436444\n",
            "\u001b[36m(ClientAppActor pid=441899)\u001b[0m Epoch 1/1, Train Loss: 0.009497524493119934, Validation Loss: 0.00863081621090797\n",
            "\u001b[36m(ClientAppActor pid=441899)\u001b[0m Epoch 1/1, Train Loss: 0.009109169922091744, Validation Loss: 0.007951232160187581\n",
            "\u001b[36m(ClientAppActor pid=441899)\u001b[0m Epoch 1/1, Train Loss: 0.00928918589224023, Validation Loss: 0.00808160633526065\n",
            "\u001b[36m(ClientAppActor pid=441899)\u001b[0m Epoch 1/1, Train Loss: 0.009624952826098624, Validation Loss: 0.010222523198039695\n",
            "\u001b[36m(ClientAppActor pid=441899)\u001b[0m Epoch 1/1, Train Loss: 0.009369306165767326, Validation Loss: 0.00871845095587725\n",
            "\u001b[36m(ClientAppActor pid=441899)\u001b[0m Epoch 1/1, Train Loss: 0.009285920357797295, Validation Loss: 0.00855086629532955\n",
            "\u001b[36m(ClientAppActor pid=441899)\u001b[0m Epoch 1/1, Train Loss: 0.009051804372575134, Validation Loss: 0.009027469585734334\n",
            "\u001b[36m(ClientAppActor pid=441899)\u001b[0m Epoch 1/1, Train Loss: 0.008987192461394112, Validation Loss: 0.008897734721275892\n"
          ]
        },
        {
          "name": "stderr",
          "output_type": "stream",
          "text": [
            "\u001b[92mINFO \u001b[0m:      aggregate_fit: received 10 results and 0 failures\n",
            "\u001b[92mINFO \u001b[0m:      configure_evaluate: strategy sampled 5 clients (out of 10)\n"
          ]
        },
        {
          "name": "stdout",
          "output_type": "stream",
          "text": [
            "\u001b[36m(ClientAppActor pid=441899)\u001b[0m Epoch 1/1, Train Loss: 0.009370232969310811, Validation Loss: 0.008129853014410897\n"
          ]
        },
        {
          "name": "stderr",
          "output_type": "stream",
          "text": [
            "\u001b[92mINFO \u001b[0m:      aggregate_evaluate: received 5 results and 0 failures\n",
            "\u001b[92mINFO \u001b[0m:      \n",
            "\u001b[92mINFO \u001b[0m:      [ROUND 38]\n",
            "\u001b[92mINFO \u001b[0m:      configure_fit: strategy sampled 10 clients (out of 10)\n"
          ]
        },
        {
          "name": "stdout",
          "output_type": "stream",
          "text": [
            "\u001b[36m(ClientAppActor pid=441899)\u001b[0m Epoch 1/1, Train Loss: 0.009399186512878672, Validation Loss: 0.00863859552720731\n",
            "\u001b[36m(ClientAppActor pid=441899)\u001b[0m Epoch 1/1, Train Loss: 0.009067818622993813, Validation Loss: 0.00894060720350932\n",
            "\u001b[36m(ClientAppActor pid=441899)\u001b[0m Epoch 1/1, Train Loss: 0.00918805657949468, Validation Loss: 0.007840406869284132\n",
            "\u001b[36m(ClientAppActor pid=441899)\u001b[0m Epoch 1/1, Train Loss: 0.00939579081023112, Validation Loss: 0.00802045461552387\n",
            "\u001b[36m(ClientAppActor pid=441899)\u001b[0m Epoch 1/1, Train Loss: 0.00945777910105376, Validation Loss: 0.010256719140505249\n",
            "\u001b[36m(ClientAppActor pid=441899)\u001b[0m Epoch 1/1, Train Loss: 0.0093271599246443, Validation Loss: 0.008662376679818739\n",
            "\u001b[36m(ClientAppActor pid=441899)\u001b[0m Epoch 1/1, Train Loss: 0.009339000886856493, Validation Loss: 0.00880364819683812\n",
            "\u001b[36m(ClientAppActor pid=441899)\u001b[0m Epoch 1/1, Train Loss: 0.00889915866586803, Validation Loss: 0.008989081845026125\n",
            "\u001b[36m(ClientAppActor pid=441899)\u001b[0m Epoch 1/1, Train Loss: 0.008901373028162528, Validation Loss: 0.0093498094515367\n"
          ]
        },
        {
          "name": "stderr",
          "output_type": "stream",
          "text": [
            "\u001b[92mINFO \u001b[0m:      aggregate_fit: received 10 results and 0 failures\n",
            "\u001b[92mINFO \u001b[0m:      configure_evaluate: strategy sampled 5 clients (out of 10)\n"
          ]
        },
        {
          "name": "stdout",
          "output_type": "stream",
          "text": [
            "\u001b[36m(ClientAppActor pid=441899)\u001b[0m Epoch 1/1, Train Loss: 0.009317040708000686, Validation Loss: 0.00824867411177944\n"
          ]
        },
        {
          "name": "stderr",
          "output_type": "stream",
          "text": [
            "\u001b[92mINFO \u001b[0m:      aggregate_evaluate: received 5 results and 0 failures\n",
            "\u001b[92mINFO \u001b[0m:      \n",
            "\u001b[92mINFO \u001b[0m:      [ROUND 39]\n",
            "\u001b[92mINFO \u001b[0m:      configure_fit: strategy sampled 10 clients (out of 10)\n"
          ]
        },
        {
          "name": "stdout",
          "output_type": "stream",
          "text": [
            "\u001b[36m(ClientAppActor pid=441899)\u001b[0m Epoch 1/1, Train Loss: 0.009379715367686003, Validation Loss: 0.008825069674375382\n",
            "\u001b[36m(ClientAppActor pid=441899)\u001b[0m Epoch 1/1, Train Loss: 0.009289714587132701, Validation Loss: 0.00875502221540294\n",
            "\u001b[36m(ClientAppActor pid=441899)\u001b[0m Epoch 1/1, Train Loss: 0.00912429628343406, Validation Loss: 0.007699918213554404\n",
            "\u001b[36m(ClientAppActor pid=441899)\u001b[0m Epoch 1/1, Train Loss: 0.009443207749758254, Validation Loss: 0.00845429745756767\n",
            "\u001b[36m(ClientAppActor pid=441899)\u001b[0m Epoch 1/1, Train Loss: 0.009558170192493972, Validation Loss: 0.01022219340401617\n",
            "\u001b[36m(ClientAppActor pid=441899)\u001b[0m Epoch 1/1, Train Loss: 0.00931904245887629, Validation Loss: 0.008732307300140912\n",
            "\u001b[36m(ClientAppActor pid=441899)\u001b[0m Epoch 1/1, Train Loss: 0.009301952911879529, Validation Loss: 0.009155028012835166\n",
            "\u001b[36m(ClientAppActor pid=441899)\u001b[0m Epoch 1/1, Train Loss: 0.009064466803630983, Validation Loss: 0.009274373021484776\n",
            "\u001b[36m(ClientAppActor pid=441899)\u001b[0m Epoch 1/1, Train Loss: 0.008788508643523197, Validation Loss: 0.009197740688581358\n"
          ]
        },
        {
          "name": "stderr",
          "output_type": "stream",
          "text": [
            "\u001b[92mINFO \u001b[0m:      aggregate_fit: received 10 results and 0 failures\n",
            "\u001b[92mINFO \u001b[0m:      configure_evaluate: strategy sampled 5 clients (out of 10)\n"
          ]
        },
        {
          "name": "stdout",
          "output_type": "stream",
          "text": [
            "\u001b[36m(ClientAppActor pid=441899)\u001b[0m Epoch 1/1, Train Loss: 0.009387963932981207, Validation Loss: 0.00834838332693008\n"
          ]
        },
        {
          "name": "stderr",
          "output_type": "stream",
          "text": [
            "\u001b[92mINFO \u001b[0m:      aggregate_evaluate: received 5 results and 0 failures\n",
            "\u001b[92mINFO \u001b[0m:      \n",
            "\u001b[92mINFO \u001b[0m:      [ROUND 40]\n",
            "\u001b[92mINFO \u001b[0m:      configure_fit: strategy sampled 10 clients (out of 10)\n"
          ]
        },
        {
          "name": "stdout",
          "output_type": "stream",
          "text": [
            "\u001b[36m(ClientAppActor pid=441899)\u001b[0m Epoch 1/1, Train Loss: 0.00938248984113505, Validation Loss: 0.008319888729602098\n",
            "\u001b[36m(ClientAppActor pid=441899)\u001b[0m Epoch 1/1, Train Loss: 0.00939160231395032, Validation Loss: 0.008581398732282898\n",
            "\u001b[36m(ClientAppActor pid=441899)\u001b[0m Epoch 1/1, Train Loss: 0.00938402903160419, Validation Loss: 0.009111003399911251\n",
            "\u001b[36m(ClientAppActor pid=441899)\u001b[0m Epoch 1/1, Train Loss: 0.00938260377469388, Validation Loss: 0.007969002133573998\n",
            "\u001b[36m(ClientAppActor pid=441899)\u001b[0m Epoch 1/1, Train Loss: 0.009409464382439513, Validation Loss: 0.00974287649362602\n",
            "\u001b[36m(ClientAppActor pid=441899)\u001b[0m Epoch 1/1, Train Loss: 0.009359574829101224, Validation Loss: 0.00868047140962021\n",
            "\u001b[36m(ClientAppActor pid=441899)\u001b[0m Epoch 1/1, Train Loss: 0.009208429091483016, Validation Loss: 0.008727782173082232\n",
            "\u001b[36m(ClientAppActor pid=441899)\u001b[0m Epoch 1/1, Train Loss: 0.00892768883866004, Validation Loss: 0.009247395887293598\n",
            "\u001b[36m(ClientAppActor pid=441899)\u001b[0m Epoch 1/1, Train Loss: 0.009005157176447525, Validation Loss: 0.008946342605420134\n"
          ]
        },
        {
          "name": "stderr",
          "output_type": "stream",
          "text": [
            "\u001b[92mINFO \u001b[0m:      aggregate_fit: received 10 results and 0 failures\n",
            "\u001b[92mINFO \u001b[0m:      configure_evaluate: strategy sampled 5 clients (out of 10)\n"
          ]
        },
        {
          "name": "stdout",
          "output_type": "stream",
          "text": [
            "\u001b[36m(ClientAppActor pid=441899)\u001b[0m Epoch 1/1, Train Loss: 0.009561776125337929, Validation Loss: 0.008333634204146538\n"
          ]
        },
        {
          "name": "stderr",
          "output_type": "stream",
          "text": [
            "\u001b[92mINFO \u001b[0m:      aggregate_evaluate: received 5 results and 0 failures\n",
            "\u001b[92mINFO \u001b[0m:      \n",
            "\u001b[92mINFO \u001b[0m:      [ROUND 41]\n",
            "\u001b[92mINFO \u001b[0m:      configure_fit: strategy sampled 10 clients (out of 10)\n"
          ]
        },
        {
          "name": "stdout",
          "output_type": "stream",
          "text": [
            "\u001b[36m(ClientAppActor pid=441899)\u001b[0m Epoch 1/1, Train Loss: 0.009380162905224344, Validation Loss: 0.00837011937983334\n",
            "\u001b[36m(ClientAppActor pid=441899)\u001b[0m Epoch 1/1, Train Loss: 0.009223383078774945, Validation Loss: 0.008917317746884444\n",
            "\u001b[36m(ClientAppActor pid=441899)\u001b[0m Epoch 1/1, Train Loss: 0.009143237193877047, Validation Loss: 0.00785563179207119\n",
            "\u001b[36m(ClientAppActor pid=441899)\u001b[0m Epoch 1/1, Train Loss: 0.009353807688140396, Validation Loss: 0.008186683418567885\n",
            "\u001b[36m(ClientAppActor pid=441899)\u001b[0m Epoch 1/1, Train Loss: 0.009416951104702259, Validation Loss: 0.009843153519217263\n",
            "\u001b[36m(ClientAppActor pid=441899)\u001b[0m Epoch 1/1, Train Loss: 0.00963030755519867, Validation Loss: 0.00872964970767498\n",
            "\u001b[36m(ClientAppActor pid=441899)\u001b[0m Epoch 1/1, Train Loss: 0.00908794028642164, Validation Loss: 0.00849797631698576\n",
            "\u001b[36m(ClientAppActor pid=441899)\u001b[0m Epoch 1/1, Train Loss: 0.008946236709810117, Validation Loss: 0.009562630058181558\n",
            "\u001b[36m(ClientAppActor pid=441899)\u001b[0m Epoch 1/1, Train Loss: 0.008908029354643077, Validation Loss: 0.009656904328783805\n"
          ]
        },
        {
          "name": "stderr",
          "output_type": "stream",
          "text": [
            "\u001b[92mINFO \u001b[0m:      aggregate_fit: received 10 results and 0 failures\n",
            "\u001b[92mINFO \u001b[0m:      configure_evaluate: strategy sampled 5 clients (out of 10)\n"
          ]
        },
        {
          "name": "stdout",
          "output_type": "stream",
          "text": [
            "\u001b[36m(ClientAppActor pid=441899)\u001b[0m Epoch 1/1, Train Loss: 0.009387921409639106, Validation Loss: 0.008665417553856969\n"
          ]
        },
        {
          "name": "stderr",
          "output_type": "stream",
          "text": [
            "\u001b[92mINFO \u001b[0m:      aggregate_evaluate: received 5 results and 0 failures\n",
            "\u001b[92mINFO \u001b[0m:      \n",
            "\u001b[92mINFO \u001b[0m:      [ROUND 42]\n",
            "\u001b[92mINFO \u001b[0m:      configure_fit: strategy sampled 10 clients (out of 10)\n"
          ]
        },
        {
          "name": "stdout",
          "output_type": "stream",
          "text": [
            "\u001b[36m(ClientAppActor pid=441899)\u001b[0m Epoch 1/1, Train Loss: 0.009333441870033064, Validation Loss: 0.008588697401468049\n",
            "\u001b[36m(ClientAppActor pid=441899)\u001b[0m Epoch 1/1, Train Loss: 0.009267775029663673, Validation Loss: 0.008620274888182228\n",
            "\u001b[36m(ClientAppActor pid=441899)\u001b[0m Epoch 1/1, Train Loss: 0.009110171675936064, Validation Loss: 0.008008487099273638\n",
            "\u001b[36m(ClientAppActor pid=441899)\u001b[0m Epoch 1/1, Train Loss: 0.009406115775081244, Validation Loss: 0.008544692176986824\n",
            "\u001b[36m(ClientAppActor pid=441899)\u001b[0m Epoch 1/1, Train Loss: 0.009396745447619733, Validation Loss: 0.010058538056910038\n",
            "\u001b[36m(ClientAppActor pid=441899)\u001b[0m Epoch 1/1, Train Loss: 0.009243560817346654, Validation Loss: 0.008836456257003274\n",
            "\u001b[36m(ClientAppActor pid=441899)\u001b[0m Epoch 1/1, Train Loss: 0.009085472895425151, Validation Loss: 0.00852239828302779\n",
            "\u001b[36m(ClientAppActor pid=441899)\u001b[0m Epoch 1/1, Train Loss: 0.009180989703798497, Validation Loss: 0.008904714962806214\n",
            "\u001b[36m(ClientAppActor pid=441899)\u001b[0m Epoch 1/1, Train Loss: 0.008797625540120696, Validation Loss: 0.009031325324692509\n"
          ]
        },
        {
          "name": "stderr",
          "output_type": "stream",
          "text": [
            "\u001b[92mINFO \u001b[0m:      aggregate_fit: received 10 results and 0 failures\n",
            "\u001b[92mINFO \u001b[0m:      configure_evaluate: strategy sampled 5 clients (out of 10)\n"
          ]
        },
        {
          "name": "stdout",
          "output_type": "stream",
          "text": [
            "\u001b[36m(ClientAppActor pid=441899)\u001b[0m Epoch 1/1, Train Loss: 0.009450106960932979, Validation Loss: 0.008072477574883536\n"
          ]
        },
        {
          "name": "stderr",
          "output_type": "stream",
          "text": [
            "\u001b[92mINFO \u001b[0m:      aggregate_evaluate: received 5 results and 0 failures\n",
            "\u001b[92mINFO \u001b[0m:      \n",
            "\u001b[92mINFO \u001b[0m:      [ROUND 43]\n",
            "\u001b[92mINFO \u001b[0m:      configure_fit: strategy sampled 10 clients (out of 10)\n"
          ]
        },
        {
          "name": "stdout",
          "output_type": "stream",
          "text": [
            "\u001b[36m(ClientAppActor pid=441899)\u001b[0m Epoch 1/1, Train Loss: 0.009303125161254271, Validation Loss: 0.008572453442452983\n",
            "\u001b[36m(ClientAppActor pid=441899)\u001b[0m Epoch 1/1, Train Loss: 0.00920226947743107, Validation Loss: 0.008895981062034314\n",
            "\u001b[36m(ClientAppActor pid=441899)\u001b[0m Epoch 1/1, Train Loss: 0.008978161648635498, Validation Loss: 0.00795414368622005\n",
            "\u001b[36m(ClientAppActor pid=441899)\u001b[0m Epoch 1/1, Train Loss: 0.009194829786958342, Validation Loss: 0.00814492431130599\n",
            "\u001b[36m(ClientAppActor pid=441899)\u001b[0m Epoch 1/1, Train Loss: 0.009348802183839407, Validation Loss: 0.010043556696142663\n",
            "\u001b[36m(ClientAppActor pid=441899)\u001b[0m Epoch 1/1, Train Loss: 0.009285857959184796, Validation Loss: 0.008376210187138482\n",
            "\u001b[36m(ClientAppActor pid=441899)\u001b[0m Epoch 1/1, Train Loss: 0.009204212660816584, Validation Loss: 0.008886498293246736\n",
            "\u001b[36m(ClientAppActor pid=441899)\u001b[0m Epoch 1/1, Train Loss: 0.009019590268673544, Validation Loss: 0.00905138141983612\n",
            "\u001b[36m(ClientAppActor pid=441899)\u001b[0m Epoch 1/1, Train Loss: 0.008785480210049585, Validation Loss: 0.00904715679247271\n"
          ]
        },
        {
          "name": "stderr",
          "output_type": "stream",
          "text": [
            "\u001b[92mINFO \u001b[0m:      aggregate_fit: received 10 results and 0 failures\n",
            "\u001b[92mINFO \u001b[0m:      configure_evaluate: strategy sampled 5 clients (out of 10)\n"
          ]
        },
        {
          "name": "stdout",
          "output_type": "stream",
          "text": [
            "\u001b[36m(ClientAppActor pid=441899)\u001b[0m Epoch 1/1, Train Loss: 0.00930620142025873, Validation Loss: 0.008445270169018344\n"
          ]
        },
        {
          "name": "stderr",
          "output_type": "stream",
          "text": [
            "\u001b[92mINFO \u001b[0m:      aggregate_evaluate: received 5 results and 0 failures\n",
            "\u001b[92mINFO \u001b[0m:      \n",
            "\u001b[92mINFO \u001b[0m:      [ROUND 44]\n",
            "\u001b[92mINFO \u001b[0m:      configure_fit: strategy sampled 10 clients (out of 10)\n"
          ]
        },
        {
          "name": "stdout",
          "output_type": "stream",
          "text": [
            "\u001b[36m(ClientAppActor pid=441899)\u001b[0m Epoch 1/1, Train Loss: 0.009396400239149278, Validation Loss: 0.008546950359066779\n",
            "\u001b[36m(ClientAppActor pid=441899)\u001b[0m Epoch 1/1, Train Loss: 0.009146395493933762, Validation Loss: 0.008503789928826418\n",
            "\u001b[36m(ClientAppActor pid=441899)\u001b[0m Epoch 1/1, Train Loss: 0.00904033883919262, Validation Loss: 0.008056565463034944\n",
            "\u001b[36m(ClientAppActor pid=441899)\u001b[0m Epoch 1/1, Train Loss: 0.009232099231501872, Validation Loss: 0.008352861739695072\n",
            "\u001b[36m(ClientAppActor pid=441899)\u001b[0m Epoch 1/1, Train Loss: 0.009406067499763925, Validation Loss: 0.010034662502055819\n",
            "\u001b[36m(ClientAppActor pid=441899)\u001b[0m Epoch 1/1, Train Loss: 0.00949031507215378, Validation Loss: 0.008963558653538877\n",
            "\u001b[36m(ClientAppActor pid=441899)\u001b[0m Epoch 1/1, Train Loss: 0.009100488604004071, Validation Loss: 0.009109292391010305\n",
            "\u001b[36m(ClientAppActor pid=441899)\u001b[0m Epoch 1/1, Train Loss: 0.00908559502568096, Validation Loss: 0.00894888989966024\n",
            "\u001b[36m(ClientAppActor pid=441899)\u001b[0m Epoch 1/1, Train Loss: 0.008767285876357082, Validation Loss: 0.008837644476443529\n"
          ]
        },
        {
          "name": "stderr",
          "output_type": "stream",
          "text": [
            "\u001b[92mINFO \u001b[0m:      aggregate_fit: received 10 results and 0 failures\n",
            "\u001b[92mINFO \u001b[0m:      configure_evaluate: strategy sampled 5 clients (out of 10)\n"
          ]
        },
        {
          "name": "stdout",
          "output_type": "stream",
          "text": [
            "\u001b[36m(ClientAppActor pid=441899)\u001b[0m Epoch 1/1, Train Loss: 0.00923104342919859, Validation Loss: 0.008258160076696764\n"
          ]
        },
        {
          "name": "stderr",
          "output_type": "stream",
          "text": [
            "\u001b[92mINFO \u001b[0m:      aggregate_evaluate: received 5 results and 0 failures\n",
            "\u001b[92mINFO \u001b[0m:      \n",
            "\u001b[92mINFO \u001b[0m:      [ROUND 45]\n",
            "\u001b[92mINFO \u001b[0m:      configure_fit: strategy sampled 10 clients (out of 10)\n"
          ]
        },
        {
          "name": "stdout",
          "output_type": "stream",
          "text": [
            "\u001b[36m(ClientAppActor pid=441899)\u001b[0m Epoch 1/1, Train Loss: 0.009468432843939147, Validation Loss: 0.008396859979256988\n",
            "\u001b[36m(ClientAppActor pid=441899)\u001b[0m Epoch 1/1, Train Loss: 0.009079390284816989, Validation Loss: 0.008536155250939455\n",
            "\u001b[36m(ClientAppActor pid=441899)\u001b[0m Epoch 1/1, Train Loss: 0.009164172293491323, Validation Loss: 0.008632400284775278\n",
            "\u001b[36m(ClientAppActor pid=441899)\u001b[0m Epoch 1/1, Train Loss: 0.009293707727920264, Validation Loss: 0.008275023682720282\n",
            "\u001b[36m(ClientAppActor pid=441899)\u001b[0m Epoch 1/1, Train Loss: 0.00924020344179801, Validation Loss: 0.010089188919995318\n",
            "\u001b[36m(ClientAppActor pid=441899)\u001b[0m Epoch 1/1, Train Loss: 0.009351936549964275, Validation Loss: 0.00876612982458689\n",
            "\u001b[36m(ClientAppActor pid=441899)\u001b[0m Epoch 1/1, Train Loss: 0.009085485648194497, Validation Loss: 0.008733351228081367\n",
            "\u001b[36m(ClientAppActor pid=441899)\u001b[0m Epoch 1/1, Train Loss: 0.009072167364965108, Validation Loss: 0.009292719441212037\n",
            "\u001b[36m(ClientAppActor pid=441899)\u001b[0m Epoch 1/1, Train Loss: 0.008947794611396437, Validation Loss: 0.008936233628033237\n"
          ]
        },
        {
          "name": "stderr",
          "output_type": "stream",
          "text": [
            "\u001b[92mINFO \u001b[0m:      aggregate_fit: received 10 results and 0 failures\n",
            "\u001b[92mINFO \u001b[0m:      configure_evaluate: strategy sampled 5 clients (out of 10)\n"
          ]
        },
        {
          "name": "stdout",
          "output_type": "stream",
          "text": [
            "\u001b[36m(ClientAppActor pid=441899)\u001b[0m Epoch 1/1, Train Loss: 0.009213420059743592, Validation Loss: 0.00870287244800817\n"
          ]
        },
        {
          "name": "stderr",
          "output_type": "stream",
          "text": [
            "\u001b[92mINFO \u001b[0m:      aggregate_evaluate: received 5 results and 0 failures\n",
            "\u001b[92mINFO \u001b[0m:      \n",
            "\u001b[92mINFO \u001b[0m:      [ROUND 46]\n",
            "\u001b[92mINFO \u001b[0m:      configure_fit: strategy sampled 10 clients (out of 10)\n"
          ]
        },
        {
          "name": "stdout",
          "output_type": "stream",
          "text": [
            "\u001b[36m(ClientAppActor pid=441899)\u001b[0m Epoch 1/1, Train Loss: 0.00916568847076798, Validation Loss: 0.00856267838654193\n",
            "\u001b[36m(ClientAppActor pid=441899)\u001b[0m Epoch 1/1, Train Loss: 0.009262376962314274, Validation Loss: 0.008900212399153546\n",
            "\u001b[36m(ClientAppActor pid=441899)\u001b[0m Epoch 1/1, Train Loss: 0.009046252986246889, Validation Loss: 0.007715803359381177\n",
            "\u001b[36m(ClientAppActor pid=441899)\u001b[0m Epoch 1/1, Train Loss: 0.009345549179918387, Validation Loss: 0.008113533300770954\n",
            "\u001b[36m(ClientAppActor pid=441899)\u001b[0m Epoch 1/1, Train Loss: 0.009381933783350343, Validation Loss: 0.011064538816836748\n",
            "\u001b[36m(ClientAppActor pid=441899)\u001b[0m Epoch 1/1, Train Loss: 0.00934060289397497, Validation Loss: 0.008412012131884694\n",
            "\u001b[36m(ClientAppActor pid=441899)\u001b[0m Epoch 1/1, Train Loss: 0.009022160883019254, Validation Loss: 0.008518730628896843\n",
            "\u001b[36m(ClientAppActor pid=441899)\u001b[0m Epoch 1/1, Train Loss: 0.009000569936523045, Validation Loss: 0.008887363407252864\n",
            "\u001b[36m(ClientAppActor pid=441899)\u001b[0m Epoch 1/1, Train Loss: 0.009074995908039537, Validation Loss: 0.009445045460862193\n"
          ]
        },
        {
          "name": "stderr",
          "output_type": "stream",
          "text": [
            "\u001b[92mINFO \u001b[0m:      aggregate_fit: received 10 results and 0 failures\n",
            "\u001b[92mINFO \u001b[0m:      configure_evaluate: strategy sampled 5 clients (out of 10)\n"
          ]
        },
        {
          "name": "stdout",
          "output_type": "stream",
          "text": [
            "\u001b[36m(ClientAppActor pid=441899)\u001b[0m Epoch 1/1, Train Loss: 0.009354930286380377, Validation Loss: 0.008222659054974263\n"
          ]
        },
        {
          "name": "stderr",
          "output_type": "stream",
          "text": [
            "\u001b[92mINFO \u001b[0m:      aggregate_evaluate: received 5 results and 0 failures\n",
            "\u001b[92mINFO \u001b[0m:      \n",
            "\u001b[92mINFO \u001b[0m:      [ROUND 47]\n",
            "\u001b[92mINFO \u001b[0m:      configure_fit: strategy sampled 10 clients (out of 10)\n"
          ]
        },
        {
          "name": "stdout",
          "output_type": "stream",
          "text": [
            "\u001b[36m(ClientAppActor pid=441899)\u001b[0m Epoch 1/1, Train Loss: 0.00930843784854832, Validation Loss: 0.008619128641757097\n",
            "\u001b[36m(ClientAppActor pid=441899)\u001b[0m Epoch 1/1, Train Loss: 0.009381034919484095, Validation Loss: 0.008853466334668074\n",
            "\u001b[36m(ClientAppActor pid=441899)\u001b[0m Epoch 1/1, Train Loss: 0.00916295584862713, Validation Loss: 0.007757191165265712\n",
            "\u001b[36m(ClientAppActor pid=441899)\u001b[0m Epoch 1/1, Train Loss: 0.00927296911620281, Validation Loss: 0.008692274420437488\n",
            "\u001b[36m(ClientAppActor pid=441899)\u001b[0m Epoch 1/1, Train Loss: 0.009405840040099893, Validation Loss: 0.0113250516270372\n",
            "\u001b[36m(ClientAppActor pid=441899)\u001b[0m Epoch 1/1, Train Loss: 0.00948164367582649, Validation Loss: 0.008445518429983746\n",
            "\u001b[36m(ClientAppActor pid=441899)\u001b[0m Epoch 1/1, Train Loss: 0.009055722996973518, Validation Loss: 0.0087289571211758\n",
            "\u001b[36m(ClientAppActor pid=441899)\u001b[0m Epoch 1/1, Train Loss: 0.008919638279952447, Validation Loss: 0.009134747236120429\n",
            "\u001b[36m(ClientAppActor pid=441899)\u001b[0m Epoch 1/1, Train Loss: 0.008818565259306606, Validation Loss: 0.009109846591441468\n"
          ]
        },
        {
          "name": "stderr",
          "output_type": "stream",
          "text": [
            "\u001b[92mINFO \u001b[0m:      aggregate_fit: received 10 results and 0 failures\n",
            "\u001b[92mINFO \u001b[0m:      configure_evaluate: strategy sampled 5 clients (out of 10)\n"
          ]
        },
        {
          "name": "stdout",
          "output_type": "stream",
          "text": [
            "\u001b[36m(ClientAppActor pid=441899)\u001b[0m Epoch 1/1, Train Loss: 0.00926369123309004, Validation Loss: 0.008501828753982078\n"
          ]
        },
        {
          "name": "stderr",
          "output_type": "stream",
          "text": [
            "\u001b[92mINFO \u001b[0m:      aggregate_evaluate: received 5 results and 0 failures\n",
            "\u001b[92mINFO \u001b[0m:      \n",
            "\u001b[92mINFO \u001b[0m:      [ROUND 48]\n",
            "\u001b[92mINFO \u001b[0m:      configure_fit: strategy sampled 10 clients (out of 10)\n"
          ]
        },
        {
          "name": "stdout",
          "output_type": "stream",
          "text": [
            "\u001b[36m(ClientAppActor pid=441899)\u001b[0m Epoch 1/1, Train Loss: 0.009297026903368533, Validation Loss: 0.009045666507021948\n",
            "\u001b[36m(ClientAppActor pid=441899)\u001b[0m Epoch 1/1, Train Loss: 0.00915202566168525, Validation Loss: 0.00882537478835068\n",
            "\u001b[36m(ClientAppActor pid=441899)\u001b[0m Epoch 1/1, Train Loss: 0.009088196384254843, Validation Loss: 0.007742189357734539\n",
            "\u001b[36m(ClientAppActor pid=441899)\u001b[0m Epoch 1/1, Train Loss: 0.00940580034247515, Validation Loss: 0.007975436154414307\n",
            "\u001b[36m(ClientAppActor pid=441899)\u001b[0m Epoch 1/1, Train Loss: 0.00945509640521116, Validation Loss: 0.011085447029803287\n",
            "\u001b[36m(ClientAppActor pid=441899)\u001b[0m Epoch 1/1, Train Loss: 0.009283567159648308, Validation Loss: 0.008626292734830216\n",
            "\u001b[36m(ClientAppActor pid=441899)\u001b[0m Epoch 1/1, Train Loss: 0.009194179258139973, Validation Loss: 0.008645514386113395\n",
            "\u001b[36m(ClientAppActor pid=441899)\u001b[0m Epoch 1/1, Train Loss: 0.008985372387211431, Validation Loss: 0.009636854117905552\n",
            "\u001b[36m(ClientAppActor pid=441899)\u001b[0m Epoch 1/1, Train Loss: 0.00892565935977142, Validation Loss: 0.008655433818189935\n"
          ]
        },
        {
          "name": "stderr",
          "output_type": "stream",
          "text": [
            "\u001b[92mINFO \u001b[0m:      aggregate_fit: received 10 results and 0 failures\n",
            "\u001b[92mINFO \u001b[0m:      configure_evaluate: strategy sampled 5 clients (out of 10)\n"
          ]
        },
        {
          "name": "stdout",
          "output_type": "stream",
          "text": [
            "\u001b[36m(ClientAppActor pid=441899)\u001b[0m Epoch 1/1, Train Loss: 0.009302832583092491, Validation Loss: 0.008311261634596369\n"
          ]
        },
        {
          "name": "stderr",
          "output_type": "stream",
          "text": [
            "\u001b[92mINFO \u001b[0m:      aggregate_evaluate: received 5 results and 0 failures\n",
            "\u001b[92mINFO \u001b[0m:      \n",
            "\u001b[92mINFO \u001b[0m:      [ROUND 49]\n",
            "\u001b[92mINFO \u001b[0m:      configure_fit: strategy sampled 10 clients (out of 10)\n"
          ]
        },
        {
          "name": "stdout",
          "output_type": "stream",
          "text": [
            "\u001b[36m(ClientAppActor pid=441899)\u001b[0m Epoch 1/1, Train Loss: 0.009351330666421827, Validation Loss: 0.008432271340015259\n",
            "\u001b[36m(ClientAppActor pid=441899)\u001b[0m Epoch 1/1, Train Loss: 0.00919286179652607, Validation Loss: 0.008716982979835435\n",
            "\u001b[36m(ClientAppActor pid=441899)\u001b[0m Epoch 1/1, Train Loss: 0.00908229902217334, Validation Loss: 0.007735648150132461\n",
            "\u001b[36m(ClientAppActor pid=441899)\u001b[0m Epoch 1/1, Train Loss: 0.009146943180398508, Validation Loss: 0.008192079057070341\n",
            "\u001b[36m(ClientAppActor pid=441899)\u001b[0m Epoch 1/1, Train Loss: 0.009577298394023355, Validation Loss: 0.009869919327849691\n",
            "\u001b[36m(ClientAppActor pid=441899)\u001b[0m Epoch 1/1, Train Loss: 0.00927954208931293, Validation Loss: 0.009010571795939044\n",
            "\u001b[36m(ClientAppActor pid=441899)\u001b[0m Epoch 1/1, Train Loss: 0.009285129559099336, Validation Loss: 0.009237640812485055\n",
            "\u001b[36m(ClientAppActor pid=441899)\u001b[0m Epoch 1/1, Train Loss: 0.009105430471456864, Validation Loss: 0.009022106183692813\n",
            "\u001b[36m(ClientAppActor pid=441899)\u001b[0m Epoch 1/1, Train Loss: 0.00884458582467315, Validation Loss: 0.00878863934088837\n"
          ]
        },
        {
          "name": "stderr",
          "output_type": "stream",
          "text": [
            "\u001b[92mINFO \u001b[0m:      aggregate_fit: received 10 results and 0 failures\n",
            "\u001b[92mINFO \u001b[0m:      configure_evaluate: strategy sampled 5 clients (out of 10)\n"
          ]
        },
        {
          "name": "stdout",
          "output_type": "stream",
          "text": [
            "\u001b[36m(ClientAppActor pid=441899)\u001b[0m Epoch 1/1, Train Loss: 0.00917235430626368, Validation Loss: 0.00818912479603155\n"
          ]
        },
        {
          "name": "stderr",
          "output_type": "stream",
          "text": [
            "\u001b[92mINFO \u001b[0m:      aggregate_evaluate: received 5 results and 0 failures\n",
            "\u001b[92mINFO \u001b[0m:      \n",
            "\u001b[92mINFO \u001b[0m:      [ROUND 50]\n",
            "\u001b[92mINFO \u001b[0m:      configure_fit: strategy sampled 10 clients (out of 10)\n"
          ]
        },
        {
          "name": "stdout",
          "output_type": "stream",
          "text": [
            "\u001b[36m(ClientAppActor pid=441899)\u001b[0m Epoch 1/1, Train Loss: 0.00929168382638388, Validation Loss: 0.008380685848268595\n",
            "\u001b[36m(ClientAppActor pid=441899)\u001b[0m Epoch 1/1, Train Loss: 0.00906026583503593, Validation Loss: 0.008648792091249064\n",
            "\u001b[36m(ClientAppActor pid=441899)\u001b[0m Epoch 1/1, Train Loss: 0.008923414290289988, Validation Loss: 0.00813999827104536\n",
            "\u001b[36m(ClientAppActor pid=441899)\u001b[0m Epoch 1/1, Train Loss: 0.009291090986649082, Validation Loss: 0.008215178015895865\n",
            "\u001b[36m(ClientAppActor pid=441899)\u001b[0m Epoch 1/1, Train Loss: 0.009284069237764925, Validation Loss: 0.009969548830254511\n",
            "\u001b[36m(ClientAppActor pid=441899)\u001b[0m Epoch 1/1, Train Loss: 0.009336586930492724, Validation Loss: 0.008708342168988152\n",
            "\u001b[36m(ClientAppActor pid=441899)\u001b[0m Epoch 1/1, Train Loss: 0.009217542019376362, Validation Loss: 0.009096716297790408\n",
            "\u001b[36m(ClientAppActor pid=441899)\u001b[0m Epoch 1/1, Train Loss: 0.008953359454277564, Validation Loss: 0.00900418387556618\n",
            "\u001b[36m(ClientAppActor pid=441899)\u001b[0m Epoch 1/1, Train Loss: 0.008730681935875591, Validation Loss: 0.009154101092876359\n"
          ]
        },
        {
          "name": "stderr",
          "output_type": "stream",
          "text": [
            "\u001b[92mINFO \u001b[0m:      aggregate_fit: received 10 results and 0 failures\n",
            "\u001b[92mINFO \u001b[0m:      configure_evaluate: strategy sampled 5 clients (out of 10)\n"
          ]
        },
        {
          "name": "stdout",
          "output_type": "stream",
          "text": [
            "\u001b[36m(ClientAppActor pid=441899)\u001b[0m Epoch 1/1, Train Loss: 0.009166456579061394, Validation Loss: 0.008156976831907576\n"
          ]
        },
        {
          "name": "stderr",
          "output_type": "stream",
          "text": [
            "\u001b[92mINFO \u001b[0m:      aggregate_evaluate: received 5 results and 0 failures\n",
            "\u001b[92mINFO \u001b[0m:      \n",
            "\u001b[92mINFO \u001b[0m:      [SUMMARY]\n",
            "\u001b[92mINFO \u001b[0m:      Run finished 50 round(s) in 13361.87s\n",
            "\u001b[92mINFO \u001b[0m:      \tHistory (loss, distributed):\n",
            "\u001b[92mINFO \u001b[0m:      \t\tround 1: 0.020537616507234898\n",
            "\u001b[92mINFO \u001b[0m:      \t\tround 2: 0.02012965807013891\n",
            "\u001b[92mINFO \u001b[0m:      \t\tround 3: 0.020102937341752378\n",
            "\u001b[92mINFO \u001b[0m:      \t\tround 4: 0.02049677569249814\n",
            "\u001b[92mINFO \u001b[0m:      \t\tround 5: 0.020171089775182983\n",
            "\u001b[92mINFO \u001b[0m:      \t\tround 6: 0.014296741529621862\n",
            "\u001b[92mINFO \u001b[0m:      \t\tround 7: 0.011069594603031873\n",
            "\u001b[92mINFO \u001b[0m:      \t\tround 8: 0.008644030082293532\n",
            "\u001b[92mINFO \u001b[0m:      \t\tround 9: 0.008901948414065622\n",
            "\u001b[92mINFO \u001b[0m:      \t\tround 10: 0.008690660870210691\n",
            "\u001b[92mINFO \u001b[0m:      \t\tround 11: 0.008383935681459578\n",
            "\u001b[92mINFO \u001b[0m:      \t\tround 12: 0.008359353163872252\n",
            "\u001b[92mINFO \u001b[0m:      \t\tround 13: 0.008685507456010039\n",
            "\u001b[92mINFO \u001b[0m:      \t\tround 14: 0.008250446113842454\n",
            "\u001b[92mINFO \u001b[0m:      \t\tround 15: 0.008614479136568579\n",
            "\u001b[92mINFO \u001b[0m:      \t\tround 16: 0.008764101590283893\n",
            "\u001b[92mINFO \u001b[0m:      \t\tround 17: 0.008440346545963125\n",
            "\u001b[92mINFO \u001b[0m:      \t\tround 18: 0.008618472613902254\n",
            "\u001b[92mINFO \u001b[0m:      \t\tround 19: 0.008656633459031582\n",
            "\u001b[92mINFO \u001b[0m:      \t\tround 20: 0.008302842046726834\n",
            "\u001b[92mINFO \u001b[0m:      \t\tround 21: 0.00847335869700394\n",
            "\u001b[92mINFO \u001b[0m:      \t\tround 22: 0.008315472114323215\n",
            "\u001b[92mINFO \u001b[0m:      \t\tround 23: 0.008317626517435367\n",
            "\u001b[92mINFO \u001b[0m:      \t\tround 24: 0.008263154611499473\n",
            "\u001b[92mINFO \u001b[0m:      \t\tround 25: 0.008373652771115302\n",
            "\u001b[92mINFO \u001b[0m:      \t\tround 26: 0.008673610741441901\n",
            "\u001b[92mINFO \u001b[0m:      \t\tround 27: 0.008761500499465249\n",
            "\u001b[92mINFO \u001b[0m:      \t\tround 28: 0.008402318062938072\n",
            "\u001b[92mINFO \u001b[0m:      \t\tround 29: 0.008203709603879939\n",
            "\u001b[92mINFO \u001b[0m:      \t\tround 30: 0.008136134082451462\n",
            "\u001b[92mINFO \u001b[0m:      \t\tround 31: 0.008226156941699711\n",
            "\u001b[92mINFO \u001b[0m:      \t\tround 32: 0.008352952873842284\n",
            "\u001b[92mINFO \u001b[0m:      \t\tround 33: 0.008617167754776098\n",
            "\u001b[92mINFO \u001b[0m:      \t\tround 34: 0.00862047416581349\n",
            "\u001b[92mINFO \u001b[0m:      \t\tround 35: 0.008229368048804727\n",
            "\u001b[92mINFO \u001b[0m:      \t\tround 36: 0.008747849152000112\n",
            "\u001b[92mINFO \u001b[0m:      \t\tround 37: 0.008428304464640943\n",
            "\u001b[92mINFO \u001b[0m:      \t\tround 38: 0.00834600384008478\n",
            "\u001b[92mINFO \u001b[0m:      \t\tround 39: 0.008396810343997045\n",
            "\u001b[92mINFO \u001b[0m:      \t\tround 40: 0.008341563247482885\n",
            "\u001b[92mINFO \u001b[0m:      \t\tround 41: 0.0083593204702166\n",
            "\u001b[92mINFO \u001b[0m:      \t\tround 42: 0.008408430667424744\n",
            "\u001b[92mINFO \u001b[0m:      \t\tround 43: 0.008462929962710902\n",
            "\u001b[92mINFO \u001b[0m:      \t\tround 44: 0.008465134394778447\n",
            "\u001b[92mINFO \u001b[0m:      \t\tround 45: 0.008739202761683952\n",
            "\u001b[92mINFO \u001b[0m:      \t\tround 46: 0.008376148774881255\n",
            "\u001b[92mINFO \u001b[0m:      \t\tround 47: 0.00849436350082132\n",
            "\u001b[92mINFO \u001b[0m:      \t\tround 48: 0.008505521735853769\n",
            "\u001b[92mINFO \u001b[0m:      \t\tround 49: 0.008789735477925702\n",
            "\u001b[92mINFO \u001b[0m:      \t\tround 50: 0.008478403899987991\n",
            "\u001b[92mINFO \u001b[0m:      \n"
          ]
        }
      ],
      "source": [
        "try:\n",
        "    # Run simulation\n",
        "    run_simulation(\n",
        "        server_app=server,\n",
        "        client_app=client,\n",
        "        num_supernodes=num_clients,\n",
        "        backend_config=backend_config\n",
        "    )\n",
        "except KeyboardInterrupt:\n",
        "    print(\"Simulation interrupted by user.\")"
      ]
    }
  ],
  "metadata": {
    "accelerator": "GPU",
    "colab": {
      "collapsed_sections": [
        "bkndtwvEMAyB",
        "xjJsJCeIMAyE",
        "MofOJ5kcMAyF",
        "uUlltooqMAyF",
        "fLLW79nlMAyG",
        "HUo0_klUMAyG",
        "Fg8XtAIsMAyH",
        "Wp3n8jv4MAyH",
        "mhXW7sjEMAyI",
        "lj7dyHsdMAyK",
        "tBBvfsbBMAyQ",
        "eBpfPEUpMAyS"
      ],
      "gpuType": "T4",
      "provenance": []
    },
    "kernelspec": {
      "display_name": ".venv",
      "language": "python",
      "name": "python3"
    },
    "language_info": {
      "codemirror_mode": {
        "name": "ipython",
        "version": 3
      },
      "file_extension": ".py",
      "mimetype": "text/x-python",
      "name": "python",
      "nbconvert_exporter": "python",
      "pygments_lexer": "ipython3",
      "version": "3.12.0"
    }
  },
  "nbformat": 4,
  "nbformat_minor": 0
}
