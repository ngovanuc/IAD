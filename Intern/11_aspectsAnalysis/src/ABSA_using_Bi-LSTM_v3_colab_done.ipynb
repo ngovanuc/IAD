{
  "cells": [
    {
      "cell_type": "code",
      "execution_count": 1,
      "metadata": {
        "colab": {
          "base_uri": "https://localhost:8080/",
          "height": 36
        },
        "id": "gVnRXlc74PIE",
        "outputId": "d0f9f63e-dc2d-4117-a081-9b870479ba68"
      },
      "outputs": [
        {
          "data": {
            "application/vnd.google.colaboratory.intrinsic+json": {
              "type": "string"
            },
            "text/plain": [
              "'\\nAuthor: Ngo Van Uc\\nDate: 23/08/2024\\nGmail: ngovanuc.1508@gmail.com\\n'"
            ]
          },
          "execution_count": 1,
          "metadata": {},
          "output_type": "execute_result"
        }
      ],
      "source": [
        "'''\n",
        "Author: Ngo Van Uc\n",
        "Date: 23/08/2024\n",
        "Gmail: ngovanuc.1508@gmail.com\n",
        "'''"
      ]
    },
    {
      "cell_type": "markdown",
      "metadata": {
        "id": "ypRNcPas4PIF"
      },
      "source": [
        "# 00. Introduction"
      ]
    },
    {
      "cell_type": "code",
      "execution_count": 2,
      "metadata": {
        "id": "oaX1sc3Z4PIH"
      },
      "outputs": [],
      "source": [
        "from IPython.display import clear_output\n",
        "import warnings\n",
        "warnings.filterwarnings('ignore')\n",
        "\n",
        "import pandas as pd\n",
        "from ast import literal_eval\n",
        "import numpy as np\n",
        "from sklearn.metrics import accuracy_score\n",
        "from sklearn.metrics import f1_score\n",
        "from sklearn.metrics import precision_score\n",
        "from sklearn.metrics import recall_score"
      ]
    },
    {
      "cell_type": "code",
      "execution_count": 3,
      "metadata": {
        "colab": {
          "base_uri": "https://localhost:8080/"
        },
        "id": "F1yERva54S7n",
        "outputId": "065cc686-bf3e-4670-dabc-52bcb709633a"
      },
      "outputs": [
        {
          "name": "stdout",
          "output_type": "stream",
          "text": [
            "Mounted at /content/drive\n"
          ]
        }
      ],
      "source": [
        "from google.colab import drive\n",
        "drive.mount('/content/drive')"
      ]
    },
    {
      "cell_type": "markdown",
      "metadata": {
        "id": "-AYSsr8L4PIH"
      },
      "source": [
        "# 01. Load dataset"
      ]
    },
    {
      "cell_type": "code",
      "execution_count": 5,
      "metadata": {
        "colab": {
          "base_uri": "https://localhost:8080/",
          "height": 206
        },
        "id": "9RgQEYDG4PIH",
        "outputId": "10465f98-01c6-429a-841e-05b32d8001ef"
      },
      "outputs": [
        {
          "data": {
            "application/vnd.google.colaboratory.intrinsic+json": {
              "summary": "{\n  \"name\": \"train_data\",\n  \"rows\": 7786,\n  \"fields\": [\n    {\n      \"column\": \"index\",\n      \"properties\": {\n        \"dtype\": \"number\",\n        \"std\": 2247,\n        \"min\": 0,\n        \"max\": 7785,\n        \"num_unique_values\": 7786,\n        \"samples\": [\n          7324,\n          4694,\n          1322\n        ],\n        \"semantic_type\": \"\",\n        \"description\": \"\"\n      }\n    },\n    {\n      \"column\": \"comment\",\n      \"properties\": {\n        \"dtype\": \"string\",\n        \"num_unique_values\": 7786,\n        \"samples\": [\n          \"L\\u1ea5y m\\u00e1y v\\u1ec1 2 ng\\u00e0y b\\u1ecb l\\u1ed7i v\\u00e2n tay. Nh\\u1eadn di\\u1ec7n khu\\u00f4n m\\u1eb7t c\\u0169ng ch\\u1eadm. Kh\\u00f4ng \\u0111\\u00e1ng gi\\u00e1 ti\\u1ec1n t\\u00ed n\\u00e0o. Ch\\u00e1n\\ud83d\\ude1f\",\n          \"M\\u00e1y qu\\u00e1 \\u0111\\u1eb9p..h\\u01a1n h\\u1eb3n mong \\u0111\\u1ee3i..ch\\u1ec9 l\\u00e0 gi\\u1edd ch\\u01b0a c\\u00f3 \\u1ed1p l\\u01b0ng hay c\\u01b0\\u1eddng l\\u1ef1c.. mong b\\u00ean si\\u00eau th\\u1ecb nh\\u1eadp v\\u1ec1 s\\u1edbm l\\u00e0 ok\",\n          \"M\\u1edbi nh\\u1eadn l\\u00fac s\\u00e1ng, s\\u1ea1c c\\u00f3 v\\u1ebb l\\u00e2u h\\u01a1n vs oppo f11pro s\\u1ea1c c\\u00f9ng l\\u00fac v\\u00e0 c\\u00f9ng l\\u01b0\\u1ee3ng pin...nh\\u01b0ng khi oppo f11 \\u0111c 50% th\\u00ec \\u0111t mik m\\u1edbi \\u0111c 33% th\\u00f4i\"\n        ],\n        \"semantic_type\": \"\",\n        \"description\": \"\"\n      }\n    },\n    {\n      \"column\": \"n_star\",\n      \"properties\": {\n        \"dtype\": \"number\",\n        \"std\": 1,\n        \"min\": 1,\n        \"max\": 5,\n        \"num_unique_values\": 5,\n        \"samples\": [\n          3,\n          4,\n          1\n        ],\n        \"semantic_type\": \"\",\n        \"description\": \"\"\n      }\n    },\n    {\n      \"column\": \"date_time\",\n      \"properties\": {\n        \"dtype\": \"category\",\n        \"num_unique_values\": 756,\n        \"samples\": [\n          \"15/11/2019\",\n          \"5/5/2020\",\n          \"24/10/2017\"\n        ],\n        \"semantic_type\": \"\",\n        \"description\": \"\"\n      }\n    },\n    {\n      \"column\": \"label\",\n      \"properties\": {\n        \"dtype\": \"category\",\n        \"num_unique_values\": 2745,\n        \"samples\": [\n          \"{PRICE#Neutral};{GENERAL#Positive};{SER&ACC#Positive};{OTHERS};\",\n          \"{CAMERA#Positive};{FEATURES#Negative};{BATTERY#Positive};{PERFORMANCE#Positive};{GENERAL#Positive};\",\n          \"{SCREEN#Positive};{BATTERY#Positive};{PERFORMANCE#Positive};\"\n        ],\n        \"semantic_type\": \"\",\n        \"description\": \"\"\n      }\n    }\n  ]\n}",
              "type": "dataframe",
              "variable_name": "train_data"
            },
            "text/html": [
              "\n",
              "  <div id=\"df-d7151869-7df1-422b-920f-b7a9657adaf3\" class=\"colab-df-container\">\n",
              "    <div>\n",
              "<style scoped>\n",
              "    .dataframe tbody tr th:only-of-type {\n",
              "        vertical-align: middle;\n",
              "    }\n",
              "\n",
              "    .dataframe tbody tr th {\n",
              "        vertical-align: top;\n",
              "    }\n",
              "\n",
              "    .dataframe thead th {\n",
              "        text-align: right;\n",
              "    }\n",
              "</style>\n",
              "<table border=\"1\" class=\"dataframe\">\n",
              "  <thead>\n",
              "    <tr style=\"text-align: right;\">\n",
              "      <th></th>\n",
              "      <th>index</th>\n",
              "      <th>comment</th>\n",
              "      <th>n_star</th>\n",
              "      <th>date_time</th>\n",
              "      <th>label</th>\n",
              "    </tr>\n",
              "  </thead>\n",
              "  <tbody>\n",
              "    <tr>\n",
              "      <th>0</th>\n",
              "      <td>0</td>\n",
              "      <td>Mới mua máy này Tại thegioididong thốt nốt cảm...</td>\n",
              "      <td>5</td>\n",
              "      <td>2 tuần trước</td>\n",
              "      <td>{CAMERA#Positive};{FEATURES#Positive};{BATTERY...</td>\n",
              "    </tr>\n",
              "    <tr>\n",
              "      <th>1</th>\n",
              "      <td>1</td>\n",
              "      <td>Pin kém còn lại miễn chê mua 8/3/2019 tình trạ...</td>\n",
              "      <td>5</td>\n",
              "      <td>14/09/2019</td>\n",
              "      <td>{BATTERY#Negative};{GENERAL#Positive};{OTHERS};</td>\n",
              "    </tr>\n",
              "    <tr>\n",
              "      <th>2</th>\n",
              "      <td>2</td>\n",
              "      <td>Sao lúc gọi điện thoại màn hình bị chấm nhỏ nh...</td>\n",
              "      <td>3</td>\n",
              "      <td>17/08/2020</td>\n",
              "      <td>{FEATURES#Negative};</td>\n",
              "    </tr>\n",
              "    <tr>\n",
              "      <th>3</th>\n",
              "      <td>3</td>\n",
              "      <td>Mọi người cập nhật phần mềm lại , nó sẽ bớt tố...</td>\n",
              "      <td>3</td>\n",
              "      <td>29/02/2020</td>\n",
              "      <td>{FEATURES#Negative};{BATTERY#Neutral};{GENERAL...</td>\n",
              "    </tr>\n",
              "    <tr>\n",
              "      <th>4</th>\n",
              "      <td>4</td>\n",
              "      <td>Mới mua Sài được 1 tháng thấy pin rất trâu, Sà...</td>\n",
              "      <td>5</td>\n",
              "      <td>4/6/2020</td>\n",
              "      <td>{BATTERY#Positive};{PERFORMANCE#Positive};{SER...</td>\n",
              "    </tr>\n",
              "  </tbody>\n",
              "</table>\n",
              "</div>\n",
              "    <div class=\"colab-df-buttons\">\n",
              "\n",
              "  <div class=\"colab-df-container\">\n",
              "    <button class=\"colab-df-convert\" onclick=\"convertToInteractive('df-d7151869-7df1-422b-920f-b7a9657adaf3')\"\n",
              "            title=\"Convert this dataframe to an interactive table.\"\n",
              "            style=\"display:none;\">\n",
              "\n",
              "  <svg xmlns=\"http://www.w3.org/2000/svg\" height=\"24px\" viewBox=\"0 -960 960 960\">\n",
              "    <path d=\"M120-120v-720h720v720H120Zm60-500h600v-160H180v160Zm220 220h160v-160H400v160Zm0 220h160v-160H400v160ZM180-400h160v-160H180v160Zm440 0h160v-160H620v160ZM180-180h160v-160H180v160Zm440 0h160v-160H620v160Z\"/>\n",
              "  </svg>\n",
              "    </button>\n",
              "\n",
              "  <style>\n",
              "    .colab-df-container {\n",
              "      display:flex;\n",
              "      gap: 12px;\n",
              "    }\n",
              "\n",
              "    .colab-df-convert {\n",
              "      background-color: #E8F0FE;\n",
              "      border: none;\n",
              "      border-radius: 50%;\n",
              "      cursor: pointer;\n",
              "      display: none;\n",
              "      fill: #1967D2;\n",
              "      height: 32px;\n",
              "      padding: 0 0 0 0;\n",
              "      width: 32px;\n",
              "    }\n",
              "\n",
              "    .colab-df-convert:hover {\n",
              "      background-color: #E2EBFA;\n",
              "      box-shadow: 0px 1px 2px rgba(60, 64, 67, 0.3), 0px 1px 3px 1px rgba(60, 64, 67, 0.15);\n",
              "      fill: #174EA6;\n",
              "    }\n",
              "\n",
              "    .colab-df-buttons div {\n",
              "      margin-bottom: 4px;\n",
              "    }\n",
              "\n",
              "    [theme=dark] .colab-df-convert {\n",
              "      background-color: #3B4455;\n",
              "      fill: #D2E3FC;\n",
              "    }\n",
              "\n",
              "    [theme=dark] .colab-df-convert:hover {\n",
              "      background-color: #434B5C;\n",
              "      box-shadow: 0px 1px 3px 1px rgba(0, 0, 0, 0.15);\n",
              "      filter: drop-shadow(0px 1px 2px rgba(0, 0, 0, 0.3));\n",
              "      fill: #FFFFFF;\n",
              "    }\n",
              "  </style>\n",
              "\n",
              "    <script>\n",
              "      const buttonEl =\n",
              "        document.querySelector('#df-d7151869-7df1-422b-920f-b7a9657adaf3 button.colab-df-convert');\n",
              "      buttonEl.style.display =\n",
              "        google.colab.kernel.accessAllowed ? 'block' : 'none';\n",
              "\n",
              "      async function convertToInteractive(key) {\n",
              "        const element = document.querySelector('#df-d7151869-7df1-422b-920f-b7a9657adaf3');\n",
              "        const dataTable =\n",
              "          await google.colab.kernel.invokeFunction('convertToInteractive',\n",
              "                                                    [key], {});\n",
              "        if (!dataTable) return;\n",
              "\n",
              "        const docLinkHtml = 'Like what you see? Visit the ' +\n",
              "          '<a target=\"_blank\" href=https://colab.research.google.com/notebooks/data_table.ipynb>data table notebook</a>'\n",
              "          + ' to learn more about interactive tables.';\n",
              "        element.innerHTML = '';\n",
              "        dataTable['output_type'] = 'display_data';\n",
              "        await google.colab.output.renderOutput(dataTable, element);\n",
              "        const docLink = document.createElement('div');\n",
              "        docLink.innerHTML = docLinkHtml;\n",
              "        element.appendChild(docLink);\n",
              "      }\n",
              "    </script>\n",
              "  </div>\n",
              "\n",
              "\n",
              "<div id=\"df-274605e2-7ffc-45e5-b630-22a8379a1c6c\">\n",
              "  <button class=\"colab-df-quickchart\" onclick=\"quickchart('df-274605e2-7ffc-45e5-b630-22a8379a1c6c')\"\n",
              "            title=\"Suggest charts\"\n",
              "            style=\"display:none;\">\n",
              "\n",
              "<svg xmlns=\"http://www.w3.org/2000/svg\" height=\"24px\"viewBox=\"0 0 24 24\"\n",
              "     width=\"24px\">\n",
              "    <g>\n",
              "        <path d=\"M19 3H5c-1.1 0-2 .9-2 2v14c0 1.1.9 2 2 2h14c1.1 0 2-.9 2-2V5c0-1.1-.9-2-2-2zM9 17H7v-7h2v7zm4 0h-2V7h2v10zm4 0h-2v-4h2v4z\"/>\n",
              "    </g>\n",
              "</svg>\n",
              "  </button>\n",
              "\n",
              "<style>\n",
              "  .colab-df-quickchart {\n",
              "      --bg-color: #E8F0FE;\n",
              "      --fill-color: #1967D2;\n",
              "      --hover-bg-color: #E2EBFA;\n",
              "      --hover-fill-color: #174EA6;\n",
              "      --disabled-fill-color: #AAA;\n",
              "      --disabled-bg-color: #DDD;\n",
              "  }\n",
              "\n",
              "  [theme=dark] .colab-df-quickchart {\n",
              "      --bg-color: #3B4455;\n",
              "      --fill-color: #D2E3FC;\n",
              "      --hover-bg-color: #434B5C;\n",
              "      --hover-fill-color: #FFFFFF;\n",
              "      --disabled-bg-color: #3B4455;\n",
              "      --disabled-fill-color: #666;\n",
              "  }\n",
              "\n",
              "  .colab-df-quickchart {\n",
              "    background-color: var(--bg-color);\n",
              "    border: none;\n",
              "    border-radius: 50%;\n",
              "    cursor: pointer;\n",
              "    display: none;\n",
              "    fill: var(--fill-color);\n",
              "    height: 32px;\n",
              "    padding: 0;\n",
              "    width: 32px;\n",
              "  }\n",
              "\n",
              "  .colab-df-quickchart:hover {\n",
              "    background-color: var(--hover-bg-color);\n",
              "    box-shadow: 0 1px 2px rgba(60, 64, 67, 0.3), 0 1px 3px 1px rgba(60, 64, 67, 0.15);\n",
              "    fill: var(--button-hover-fill-color);\n",
              "  }\n",
              "\n",
              "  .colab-df-quickchart-complete:disabled,\n",
              "  .colab-df-quickchart-complete:disabled:hover {\n",
              "    background-color: var(--disabled-bg-color);\n",
              "    fill: var(--disabled-fill-color);\n",
              "    box-shadow: none;\n",
              "  }\n",
              "\n",
              "  .colab-df-spinner {\n",
              "    border: 2px solid var(--fill-color);\n",
              "    border-color: transparent;\n",
              "    border-bottom-color: var(--fill-color);\n",
              "    animation:\n",
              "      spin 1s steps(1) infinite;\n",
              "  }\n",
              "\n",
              "  @keyframes spin {\n",
              "    0% {\n",
              "      border-color: transparent;\n",
              "      border-bottom-color: var(--fill-color);\n",
              "      border-left-color: var(--fill-color);\n",
              "    }\n",
              "    20% {\n",
              "      border-color: transparent;\n",
              "      border-left-color: var(--fill-color);\n",
              "      border-top-color: var(--fill-color);\n",
              "    }\n",
              "    30% {\n",
              "      border-color: transparent;\n",
              "      border-left-color: var(--fill-color);\n",
              "      border-top-color: var(--fill-color);\n",
              "      border-right-color: var(--fill-color);\n",
              "    }\n",
              "    40% {\n",
              "      border-color: transparent;\n",
              "      border-right-color: var(--fill-color);\n",
              "      border-top-color: var(--fill-color);\n",
              "    }\n",
              "    60% {\n",
              "      border-color: transparent;\n",
              "      border-right-color: var(--fill-color);\n",
              "    }\n",
              "    80% {\n",
              "      border-color: transparent;\n",
              "      border-right-color: var(--fill-color);\n",
              "      border-bottom-color: var(--fill-color);\n",
              "    }\n",
              "    90% {\n",
              "      border-color: transparent;\n",
              "      border-bottom-color: var(--fill-color);\n",
              "    }\n",
              "  }\n",
              "</style>\n",
              "\n",
              "  <script>\n",
              "    async function quickchart(key) {\n",
              "      const quickchartButtonEl =\n",
              "        document.querySelector('#' + key + ' button');\n",
              "      quickchartButtonEl.disabled = true;  // To prevent multiple clicks.\n",
              "      quickchartButtonEl.classList.add('colab-df-spinner');\n",
              "      try {\n",
              "        const charts = await google.colab.kernel.invokeFunction(\n",
              "            'suggestCharts', [key], {});\n",
              "      } catch (error) {\n",
              "        console.error('Error during call to suggestCharts:', error);\n",
              "      }\n",
              "      quickchartButtonEl.classList.remove('colab-df-spinner');\n",
              "      quickchartButtonEl.classList.add('colab-df-quickchart-complete');\n",
              "    }\n",
              "    (() => {\n",
              "      let quickchartButtonEl =\n",
              "        document.querySelector('#df-274605e2-7ffc-45e5-b630-22a8379a1c6c button');\n",
              "      quickchartButtonEl.style.display =\n",
              "        google.colab.kernel.accessAllowed ? 'block' : 'none';\n",
              "    })();\n",
              "  </script>\n",
              "</div>\n",
              "\n",
              "    </div>\n",
              "  </div>\n"
            ],
            "text/plain": [
              "   index                                            comment  n_star  \\\n",
              "0      0  Mới mua máy này Tại thegioididong thốt nốt cảm...       5   \n",
              "1      1  Pin kém còn lại miễn chê mua 8/3/2019 tình trạ...       5   \n",
              "2      2  Sao lúc gọi điện thoại màn hình bị chấm nhỏ nh...       3   \n",
              "3      3  Mọi người cập nhật phần mềm lại , nó sẽ bớt tố...       3   \n",
              "4      4  Mới mua Sài được 1 tháng thấy pin rất trâu, Sà...       5   \n",
              "\n",
              "      date_time                                              label  \n",
              "0  2 tuần trước  {CAMERA#Positive};{FEATURES#Positive};{BATTERY...  \n",
              "1    14/09/2019    {BATTERY#Negative};{GENERAL#Positive};{OTHERS};  \n",
              "2    17/08/2020                               {FEATURES#Negative};  \n",
              "3    29/02/2020  {FEATURES#Negative};{BATTERY#Neutral};{GENERAL...  \n",
              "4      4/6/2020  {BATTERY#Positive};{PERFORMANCE#Positive};{SER...  "
            ]
          },
          "execution_count": 5,
          "metadata": {},
          "output_type": "execute_result"
        }
      ],
      "source": [
        "train_path = '/content/drive/MyDrive/Colab Notebooks/data/Train.csv'\n",
        "test_path = '/content/drive/MyDrive/Colab Notebooks/data/Test.csv'\n",
        "dev_path = '/content/drive/MyDrive/Colab Notebooks/data/Dev.csv'\n",
        "\n",
        "train_data = pd.read_csv(train_path)\n",
        "train_data.head()"
      ]
    },
    {
      "cell_type": "markdown",
      "metadata": {
        "id": "4gIf8ijH4PII"
      },
      "source": [
        "# 02. Preprocessing"
      ]
    },
    {
      "cell_type": "code",
      "execution_count": 6,
      "metadata": {
        "id": "nkrWFdzS4PII"
      },
      "outputs": [],
      "source": [
        "class_to_id = {\"SCREEN\": 0, \"CAMERA\": 1, \"FEATURES\": 2, \"BATTERY\": 3, \"PERFORMANCE\": 4, \"STORAGE\": 5, \"DESIGN\": 6, \"PRICE\": 7, \"GENERAL\": 8, \"SER&ACC\": 9}\n",
        "label_to_id = {\"Positive\": 0, \"Negative\": 1, \"Neutral\": 2, \"None\": 3}"
      ]
    },
    {
      "cell_type": "code",
      "execution_count": 7,
      "metadata": {
        "id": "Yi3rzmI14PIJ"
      },
      "outputs": [],
      "source": [
        "def get_label_dict(sentences_label):\n",
        "    label_dict = {}\n",
        "    labels = sentences_label.split(';')[:-1]\n",
        "    if len(labels) == 1 and labels[-1][1:-1] == \"OTHERS\":\n",
        "        return None\n",
        "    else:\n",
        "        if labels[-1][1:-1] == \"OTHERS\":\n",
        "            for l in labels[:-1]:\n",
        "                class_name, sentiment = l[1:-1].split('#')\n",
        "                label_dict[class_name] = sentiment\n",
        "            return label_dict\n",
        "        else:\n",
        "            for l in labels:\n",
        "                class_name, sentiment = l[1:-1].split('#')\n",
        "                label_dict[class_name] = sentiment\n",
        "            return label_dict"
      ]
    },
    {
      "cell_type": "code",
      "execution_count": 8,
      "metadata": {
        "colab": {
          "base_uri": "https://localhost:8080/"
        },
        "id": "djqCO8HL4PIJ",
        "outputId": "777b11a8-a551-4d7a-ead1-d973937a9671"
      },
      "outputs": [
        {
          "name": "stdout",
          "output_type": "stream",
          "text": [
            "Mới mua máy này Tại thegioididong thốt nốt cảm thấy ok bin trâu chụp ảnh đẹp loa nghe to bắt wf khỏe sóng ổn định, giá thành vừa với túi tiền, nhân viên tư vấn nhiệt tình\n",
            "[[0, 0, 0, 1], [1, 0, 0, 0], [1, 0, 0, 0], [1, 0, 0, 0], [0, 0, 0, 1], [0, 0, 0, 1], [0, 0, 0, 1], [1, 0, 0, 0], [1, 0, 0, 0], [1, 0, 0, 0]]\n"
          ]
        }
      ],
      "source": [
        "sentences = train_data['comment'].tolist()\n",
        "label_comment = train_data['label'].tolist()\n",
        "others_label = [[0, 0, 0, 1]] * 10\n",
        "\n",
        "train_set = []\n",
        "\n",
        "for sentence, sentence_label in zip(sentences, label_comment):\n",
        "    label_dict = get_label_dict(sentence_label)\n",
        "    labels_ = []\n",
        "    if label_dict:\n",
        "        for aspect in list(class_to_id.keys()):\n",
        "            train_label = [0] * 4\n",
        "            if aspect in label_dict.keys():\n",
        "                label_id = label_to_id[label_dict[aspect]]\n",
        "                train_label[label_id] =  1\n",
        "                labels_.append(train_label)\n",
        "            else:\n",
        "                labels_.append([0, 0, 0, 1])\n",
        "        train_set.append(\n",
        "            {'sentence': sentence, 'labels': labels_}\n",
        "        )\n",
        "    else:\n",
        "        train_set.append(\n",
        "            {'sentence': sentence, 'labels': others_label}\n",
        "        )\n",
        "print(train_set[0]['sentence'])\n",
        "print(train_set[0]['labels'])"
      ]
    },
    {
      "cell_type": "code",
      "execution_count": 9,
      "metadata": {
        "colab": {
          "base_uri": "https://localhost:8080/"
        },
        "id": "ioAAe03z4PIJ",
        "outputId": "3e6c12f9-1772-4450-9acc-7937cea1b7a5"
      },
      "outputs": [
        {
          "name": "stdout",
          "output_type": "stream",
          "text": [
            "pass\n"
          ]
        }
      ],
      "source": [
        "for i, data in enumerate(train_set):\n",
        "    sentence, label = data.items()\n",
        "    input = np.array(label[-1])\n",
        "    clear_output()\n",
        "    if input.shape == (10, 4):\n",
        "        print(\"pass\")\n",
        "    else:\n",
        "        print(i)"
      ]
    },
    {
      "cell_type": "markdown",
      "metadata": {
        "id": "Hgs05fMg4PIK"
      },
      "source": [
        "# 03. Build model"
      ]
    },
    {
      "cell_type": "code",
      "execution_count": 10,
      "metadata": {
        "id": "laucTnHY4PIK"
      },
      "outputs": [],
      "source": [
        "import torch\n",
        "from torch.utils.data import Dataset, DataLoader\n",
        "from transformers import BertTokenizer\n",
        "\n",
        "\n",
        "class AspectSentimentDataset(Dataset):\n",
        "    def __init__(self, data, tokenizer, max_len):\n",
        "        self.data = data\n",
        "        self.tokenizer = tokenizer\n",
        "        self.max_len = max_len\n",
        "\n",
        "    def __len__(self):\n",
        "        return len(self.data)\n",
        "\n",
        "    def __getitem__(self, index):\n",
        "        sentence = self.data[index]['sentence']\n",
        "        labels = self.data[index]['labels']\n",
        "\n",
        "        encoding = self.tokenizer.encode_plus(\n",
        "            sentence,\n",
        "            add_special_tokens=True,\n",
        "            max_length=self.max_len,\n",
        "            return_token_type_ids=False,\n",
        "            pad_to_max_length=True,\n",
        "            return_attention_mask=True,\n",
        "            return_tensors='pt',\n",
        "        )\n",
        "\n",
        "        return {\n",
        "            'sentence_text': sentence,\n",
        "            'input_ids': encoding['input_ids'].flatten(),\n",
        "            'attention_mask': encoding['attention_mask'].flatten(),\n",
        "            'labels': torch.tensor(labels, dtype=torch.float)\n",
        "        }"
      ]
    },
    {
      "cell_type": "code",
      "execution_count": 11,
      "metadata": {
        "colab": {
          "base_uri": "https://localhost:8080/",
          "height": 145,
          "referenced_widgets": [
            "eff20058fe09437baf02eab670f949a7",
            "5d0f428d9eb44f85a0bb7c6d88cc09b9",
            "d6e39ed845114fae948fdb6b5d695760",
            "077600dccc19495e815cc4dcfee9e941",
            "ba9816b93bc24b30a206f00fe54c6e03",
            "ba3a072523254408b331434fd256b58a",
            "3ee5f05a70f54be18738c0507e377970",
            "c02f28d9f43842b48faf847361d304a3",
            "554bdbe977ab4965b5cda95d9765e404",
            "3c6a8745c9d1496281a22c4de899f472",
            "a72070635709497e9e444dcb6713998d",
            "58588574260e4ad6bf774e2cfec84256",
            "d35c6e8f60cd4e4aaf43ae52134840e8",
            "844ab9e14d32419fbdc1aa596109d751",
            "e133adb164994158b067f708fc13c5d1",
            "b44430fb301b4cb88f8c8c6a03e97ad0",
            "7e7ae64a14e14b159028ae9413165fc9",
            "9cdca56e8cc84c8cb7f7be2941ada21c",
            "662cd83d48ef46628450a3d55e84ead7",
            "4385b86d2aa34656bd8817b52394d7a6",
            "5756d0367c30460bbba232cf0b798162",
            "7d78e0f19d714ef8ba2f453be9e78bba",
            "f285f60c744546aeb8a084cf6e684e1a",
            "8c73873278a74f9c89050437c5a4567e",
            "9a0138c1001143e789b6060ea37823a2",
            "3491055221f748478234f47dd74501ff",
            "def0aeb657d647ffbf63923dd55c5037",
            "9d4302f8fd9241889f5e15fdddc7015c",
            "e7bdb9eada7d4de98d4bbeed2d36307f",
            "89f31c67364f4c28a79c5ebec19f1f35",
            "b39d7759e3fd42169ab6fcdf7aeecdaa",
            "3ae9ff51c09948b4985e1c0798b2e703",
            "01e1109f8eb347a99db755dd4d047544",
            "c3432c42b4f441c5a3bb44429f9cd896",
            "afa10aac852e4474beaf11e7026d6a85",
            "14b6c59e982a42b0876aa4e0b990305b",
            "021d4540286940dba43d031a413f60a8",
            "be12ba35410f43bfa75594ed7121964f",
            "a64d07c18a5a4e318a90b8d5674e0db8",
            "90a0a67f0fac4e6f97885cf5d66eb304",
            "90c506cb9f574b71b6b0bed1b2260418",
            "68044cd6ac5944cfb075958a1ee33ea3",
            "cb92475ae0aa4b0c96a1a84d4b2f1ce8",
            "d442ddeb68dc4277a0d56d5215a76a36"
          ]
        },
        "id": "yk41PFwz4PIK",
        "outputId": "6b67b1fa-ad44-49a7-cf9d-34e2f487504b"
      },
      "outputs": [
        {
          "data": {
            "application/vnd.jupyter.widget-view+json": {
              "model_id": "eff20058fe09437baf02eab670f949a7",
              "version_major": 2,
              "version_minor": 0
            },
            "text/plain": [
              "tokenizer_config.json:   0%|          | 0.00/49.0 [00:00<?, ?B/s]"
            ]
          },
          "metadata": {},
          "output_type": "display_data"
        },
        {
          "data": {
            "application/vnd.jupyter.widget-view+json": {
              "model_id": "58588574260e4ad6bf774e2cfec84256",
              "version_major": 2,
              "version_minor": 0
            },
            "text/plain": [
              "vocab.txt:   0%|          | 0.00/996k [00:00<?, ?B/s]"
            ]
          },
          "metadata": {},
          "output_type": "display_data"
        },
        {
          "data": {
            "application/vnd.jupyter.widget-view+json": {
              "model_id": "f285f60c744546aeb8a084cf6e684e1a",
              "version_major": 2,
              "version_minor": 0
            },
            "text/plain": [
              "tokenizer.json:   0%|          | 0.00/1.96M [00:00<?, ?B/s]"
            ]
          },
          "metadata": {},
          "output_type": "display_data"
        },
        {
          "data": {
            "application/vnd.jupyter.widget-view+json": {
              "model_id": "c3432c42b4f441c5a3bb44429f9cd896",
              "version_major": 2,
              "version_minor": 0
            },
            "text/plain": [
              "config.json:   0%|          | 0.00/625 [00:00<?, ?B/s]"
            ]
          },
          "metadata": {},
          "output_type": "display_data"
        }
      ],
      "source": [
        "tokenizer = BertTokenizer.from_pretrained('google-bert/bert-base-multilingual-cased')\n",
        "dataset = AspectSentimentDataset(train_set, tokenizer, max_len=128)\n",
        "dataloader = DataLoader(dataset, batch_size=16, shuffle=True)"
      ]
    },
    {
      "cell_type": "code",
      "execution_count": 12,
      "metadata": {
        "colab": {
          "base_uri": "https://localhost:8080/"
        },
        "id": "5zH2yzV24PIK",
        "outputId": "2149feb5-0cd3-495d-f0e1-cd4f2ec1942e"
      },
      "outputs": [
        {
          "data": {
            "text/plain": [
              "7786"
            ]
          },
          "execution_count": 12,
          "metadata": {},
          "output_type": "execute_result"
        }
      ],
      "source": [
        "dataset.__len__()"
      ]
    },
    {
      "cell_type": "code",
      "execution_count": 13,
      "metadata": {
        "colab": {
          "base_uri": "https://localhost:8080/",
          "height": 49,
          "referenced_widgets": [
            "3e4bcd0b5a9846d1b8637c937cbb6a03",
            "374718cb17904946a88c657e426502b0",
            "2a9a433cd69d429a867a7995866faebd",
            "8f7fe85241954e7cb2f3b6e7b36306ea",
            "e75edf76eb894ae29a083939ff09fdc7",
            "deb37628bae24df4b5c25eaf01df7146",
            "7d95b24d4dc346d2a53b9aac03b15cf7",
            "6deb07cb2b0142ddad8634867cd9c260",
            "a66274b695b44792868b9a74d7d911b7",
            "7ff7dccfc5c04e3c8317042d4292e1db",
            "b105dc75c72d4b2f8755c5ef2c880acd"
          ]
        },
        "id": "ZLlu1EE64PIL",
        "outputId": "aa90b97e-e215-42d3-94c0-35f473285846"
      },
      "outputs": [
        {
          "data": {
            "application/vnd.jupyter.widget-view+json": {
              "model_id": "3e4bcd0b5a9846d1b8637c937cbb6a03",
              "version_major": 2,
              "version_minor": 0
            },
            "text/plain": [
              "model.safetensors:   0%|          | 0.00/714M [00:00<?, ?B/s]"
            ]
          },
          "metadata": {},
          "output_type": "display_data"
        }
      ],
      "source": [
        "import torch.nn as nn\n",
        "from transformers import BertModel\n",
        "\n",
        "\n",
        "class AspectSentimentModel(nn.Module):\n",
        "    def __init__(self, n_classes, n_labels_per_class):\n",
        "        super(AspectSentimentModel, self).__init__()\n",
        "        self.bert = BertModel.from_pretrained('google-bert/bert-base-multilingual-cased')\n",
        "        self.lstm = nn.LSTM(768, 256, batch_first=True, bidirectional=True)\n",
        "        self.classifier = nn.Linear(256*2, n_classes * n_labels_per_class)\n",
        "\n",
        "    def forward(self, input_ids, attention_mask):\n",
        "        bert_outputs = self.bert(\n",
        "            input_ids=input_ids,\n",
        "            attention_mask=attention_mask\n",
        "        )\n",
        "        lstm_outputs, _ = self.lstm(bert_outputs.last_hidden_state)\n",
        "        lstm_outputs = lstm_outputs[:, -1, :]\n",
        "        output = self.classifier(lstm_outputs)\n",
        "        return output.view(-1, 10, 4)\n",
        "\n",
        "model = AspectSentimentModel(n_classes=10, n_labels_per_class=4)"
      ]
    },
    {
      "cell_type": "markdown",
      "metadata": {
        "id": "TqUHiFlk4PIL"
      },
      "source": [
        "# 04. Training model"
      ]
    },
    {
      "cell_type": "code",
      "execution_count": 14,
      "metadata": {
        "colab": {
          "base_uri": "https://localhost:8080/"
        },
        "id": "7VKMl5mW4PIL",
        "outputId": "00bae989-c403-4bf4-c439-8451f9adb544"
      },
      "outputs": [
        {
          "name": "stderr",
          "output_type": "stream",
          "text": [
            "Truncation was not explicitly activated but `max_length` is provided a specific value, please use `truncation=True` to explicitly truncate examples to max length. Defaulting to 'longest_first' truncation strategy. If you encode pairs of sequences (GLUE-style) with the tokenizer you can select this strategy more precisely by providing a specific strategy to `truncation`.\n"
          ]
        },
        {
          "name": "stdout",
          "output_type": "stream",
          "text": [
            "Epoch 1/20, Train loss: 0.35701917280161893\n",
            "Epoch 2/20, Train loss: 0.2543433616109942\n",
            "Epoch 3/20, Train loss: 0.21643054834136727\n",
            "Epoch 4/20, Train loss: 0.1879604785747107\n",
            "Epoch 5/20, Train loss: 0.16580554699138939\n",
            "Epoch 6/20, Train loss: 0.14717986552499893\n",
            "Epoch 7/20, Train loss: 0.13283996137138265\n",
            "Epoch 8/20, Train loss: 0.11881087757111575\n",
            "Epoch 9/20, Train loss: 0.10798266530036926\n",
            "Epoch 10/20, Train loss: 0.09831595127862827\n",
            "Epoch 11/20, Train loss: 0.08895349209588901\n",
            "Epoch 12/20, Train loss: 0.08093492969778773\n",
            "Epoch 13/20, Train loss: 0.07498413566461701\n",
            "Epoch 14/20, Train loss: 0.06887476303800176\n",
            "Epoch 15/20, Train loss: 0.06336844679220624\n",
            "Epoch 16/20, Train loss: 0.0588150595102528\n",
            "Epoch 17/20, Train loss: 0.05458639443180767\n",
            "Epoch 18/20, Train loss: 0.04975261287170881\n",
            "Epoch 19/20, Train loss: 0.04557999273957168\n",
            "Epoch 20/20, Train loss: 0.04312661612020075\n"
          ]
        }
      ],
      "source": [
        "import torch.optim as optim\n",
        "import numpy as np\n",
        "\n",
        "\n",
        "def train_epoch(model, data_loader, loss_fn, optimizer, device):\n",
        "    model = model.train()\n",
        "    losses = []\n",
        "    correct_predictions = 0\n",
        "\n",
        "    for data in data_loader:\n",
        "        input_ids = data['input_ids'].to(device)\n",
        "        attention_mask = data['attention_mask'].to(device)\n",
        "        labels = data['labels'].to(device)\n",
        "\n",
        "        outputs = model(input_ids=input_ids, attention_mask=attention_mask)\n",
        "\n",
        "        loss = loss_fn(outputs, labels)\n",
        "        losses.append(loss.item())\n",
        "\n",
        "        optimizer.zero_grad()\n",
        "        loss.backward()\n",
        "        optimizer.step()\n",
        "\n",
        "    return np.mean(losses)\n",
        "\n",
        "\n",
        "EPOCHS = 20\n",
        "device = torch.device('cuda' if torch.cuda.is_available() else 'cpu')\n",
        "model = model.to(device)\n",
        "training = True\n",
        "\n",
        "\n",
        "optimizer = optim.Adam(model.parameters(), lr=2e-5)\n",
        "loss_fn = nn.BCEWithLogitsLoss()\n",
        "\n",
        "if training == True:\n",
        "    for epoch in range(EPOCHS):\n",
        "        train_loss = train_epoch(model, dataloader, loss_fn, optimizer, device)\n",
        "        print(f'Epoch {epoch + 1}/{EPOCHS}, Train loss: {train_loss}')"
      ]
    },
    {
      "cell_type": "code",
      "execution_count": 16,
      "metadata": {
        "id": "oL3XGonP4PIL"
      },
      "outputs": [],
      "source": [
        "path_save_model = '/content/drive/MyDrive/Colab Notebooks'\n",
        "torch.save(model.state_dict(), path_save_model+'/model_v3.pth')"
      ]
    },
    {
      "cell_type": "code",
      "execution_count": 17,
      "metadata": {
        "id": "wgJ35Fv34PIM"
      },
      "outputs": [],
      "source": [
        "# Load model\n",
        "# model = AspectSentimentModel(n_classes=10, n_labels_per_class=4)\n",
        "# model.load_state_dict(torch.load(path_save_model+'/model_v3.pth'))\n",
        "# model.eval()"
      ]
    },
    {
      "cell_type": "code",
      "execution_count": 18,
      "metadata": {
        "id": "FtrxKb9Z4PIM"
      },
      "outputs": [],
      "source": [
        "def predict_sentiment(model, sentence, tokenizer, max_len, device):\n",
        "    model = model.eval()\n",
        "\n",
        "    encoding = tokenizer.encode_plus(\n",
        "        sentence,\n",
        "        add_special_tokens=True,\n",
        "        max_length=max_len,\n",
        "        return_token_type_ids=False,\n",
        "        pad_to_max_length=True,\n",
        "        return_attention_mask=True,\n",
        "        return_tensors='pt'\n",
        "    )\n",
        "\n",
        "    input_ids = encoding['input_ids'].to(device)\n",
        "    attention_mask = encoding['attention_mask'].to(device)\n",
        "\n",
        "    with torch.no_grad():\n",
        "        outputs = model(input_ids=input_ids, attention_mask=attention_mask)\n",
        "\n",
        "    return outputs\n",
        "\n",
        "\n",
        "def interpret_predictions(predictions):\n",
        "    aspect_classes = ['SCREEN', 'CAMERA', 'FEATURES', 'BATTERY', 'PERFORMANCE', 'STORAGE', 'DESIGN', 'PRICE', 'GENERAL', 'SER&ACC']\n",
        "    sentiment_labels = ['Positive', 'Negative', 'Neutral', 'None']\n",
        "\n",
        "    results = {}\n",
        "\n",
        "    for i, aspect in enumerate(aspect_classes):\n",
        "        aspect_sentiments = predictions[0, i].cpu().numpy()\n",
        "        sentiment_index = aspect_sentiments.argmax()\n",
        "        results[aspect] = sentiment_labels[sentiment_index]\n",
        "\n",
        "    return results"
      ]
    },
    {
      "cell_type": "markdown",
      "metadata": {
        "id": "ul-B1z_l4PIM"
      },
      "source": [
        "# 05. Thực hiện predict trên bộ dữ liệu kiểm thử - test"
      ]
    },
    {
      "cell_type": "code",
      "execution_count": 19,
      "metadata": {
        "colab": {
          "base_uri": "https://localhost:8080/",
          "height": 206
        },
        "id": "iYdA03hx4PIN",
        "outputId": "f0595783-2bf7-45fd-d126-bed384d9a54d"
      },
      "outputs": [
        {
          "data": {
            "application/vnd.google.colaboratory.intrinsic+json": {
              "summary": "{\n  \"name\": \"test_data\",\n  \"rows\": 2224,\n  \"fields\": [\n    {\n      \"column\": \"index\",\n      \"properties\": {\n        \"dtype\": \"number\",\n        \"std\": 642,\n        \"min\": 0,\n        \"max\": 2223,\n        \"num_unique_values\": 2224,\n        \"samples\": [\n          96,\n          1401,\n          1995\n        ],\n        \"semantic_type\": \"\",\n        \"description\": \"\"\n      }\n    },\n    {\n      \"column\": \"comment\",\n      \"properties\": {\n        \"dtype\": \"string\",\n        \"num_unique_values\": 2224,\n        \"samples\": [\n          \"S\\u1ea3n ph\\u1ea9m t\\u1ed1t, nh\\u01b0ng pin kh\\u00f4ng tr\\u00e2u nh\\u01b0 m\\u00ecnh ngh\\u0129...x\\u00e0i c\\u1ea3 ng\\u00e0y 2,3 ti\\u1ebfng ch\\u1ec9 l\\u01b0\\u1edbt fb m\\u00e0 pin tu\\u1ed9t qu\\u00e1 mau\",\n          \"H\\u00e0ng ch\\u1ea5t l\\u01b0\\u1ee3ng sai r\\u1ea5t ok cho th\\u1ebf gi\\u1edbi \\u0111i \\u0111\\u00f4ng 5 sao .M\\u00ecnh mua h\\u01a1n 4 th\\u00e1ng m\\u00e0 th\\u1ea5y r\\u1ea5t tuy\\u1ec7t v\\u1eddi thanks nh\\u00e0 b\\u1ea1n h\\u00e0ng s\\u1ed1 1 Vi\\u00eat N\\u0103m.\",\n          \"E m\\u1edbi m\\u01b0a \\u0111c 2 th\\u00e1ng. M\\u00e0 e m\\u1edbi c\\u1eadp nh\\u1eadt phi\\u00ean b\\u1ea3n miui m\\u1edbi nh\\u1ea5t  , e s\\u1eed d\\u1ee5ng th\\u1ea5y n\\u00f3 t\\u1ee5t pin nhanh qu\\u00e1. M\\u00fan xu\\u1ed1ng l\\u1ea1i b\\u1ea3n c\\u1eadp nh\\u1eadt c\\u0169 th\\u00ec l\\u00e0m sao \\u1ea1\"\n        ],\n        \"semantic_type\": \"\",\n        \"description\": \"\"\n      }\n    },\n    {\n      \"column\": \"n_star\",\n      \"properties\": {\n        \"dtype\": \"number\",\n        \"std\": 1,\n        \"min\": 1,\n        \"max\": 5,\n        \"num_unique_values\": 5,\n        \"samples\": [\n          4,\n          3,\n          2\n        ],\n        \"semantic_type\": \"\",\n        \"description\": \"\"\n      }\n    },\n    {\n      \"column\": \"date_time\",\n      \"properties\": {\n        \"dtype\": \"category\",\n        \"num_unique_values\": 554,\n        \"samples\": [\n          \"7/1/2020\",\n          \"24/04/2020\",\n          \"5/5/2019\"\n        ],\n        \"semantic_type\": \"\",\n        \"description\": \"\"\n      }\n    },\n    {\n      \"column\": \"label\",\n      \"properties\": {\n        \"dtype\": \"category\",\n        \"num_unique_values\": 1109,\n        \"samples\": [\n          \"{FEATURES#Negative};{BATTERY#Positive};{PERFORMANCE#Neutral};{GENERAL#Negative};{SER&ACC#Neutral};{OTHERS};\",\n          \"{CAMERA#Neutral};{FEATURES#Positive};{BATTERY#Positive};{PERFORMANCE#Positive};{GENERAL#Positive};\",\n          \"{PERFORMANCE#Positive};{PRICE#Positive};{GENERAL#Positive};\"\n        ],\n        \"semantic_type\": \"\",\n        \"description\": \"\"\n      }\n    }\n  ]\n}",
              "type": "dataframe",
              "variable_name": "test_data"
            },
            "text/html": [
              "\n",
              "  <div id=\"df-f45f7e4a-72d1-45ae-a4ef-efb903b7f97b\" class=\"colab-df-container\">\n",
              "    <div>\n",
              "<style scoped>\n",
              "    .dataframe tbody tr th:only-of-type {\n",
              "        vertical-align: middle;\n",
              "    }\n",
              "\n",
              "    .dataframe tbody tr th {\n",
              "        vertical-align: top;\n",
              "    }\n",
              "\n",
              "    .dataframe thead th {\n",
              "        text-align: right;\n",
              "    }\n",
              "</style>\n",
              "<table border=\"1\" class=\"dataframe\">\n",
              "  <thead>\n",
              "    <tr style=\"text-align: right;\">\n",
              "      <th></th>\n",
              "      <th>index</th>\n",
              "      <th>comment</th>\n",
              "      <th>n_star</th>\n",
              "      <th>date_time</th>\n",
              "      <th>label</th>\n",
              "    </tr>\n",
              "  </thead>\n",
              "  <tbody>\n",
              "    <tr>\n",
              "      <th>0</th>\n",
              "      <td>0</td>\n",
              "      <td>Điện thoải ổn. Facelock cực nhanh, vân tay ôk ...</td>\n",
              "      <td>5</td>\n",
              "      <td>5/2/2020</td>\n",
              "      <td>{SCREEN#Positive};{FEATURES#Positive};{PERFORM...</td>\n",
              "    </tr>\n",
              "    <tr>\n",
              "      <th>1</th>\n",
              "      <td>1</td>\n",
              "      <td>Mình mới  mua vivo91c. Tải ứng dụng ,games  nh...</td>\n",
              "      <td>5</td>\n",
              "      <td>14/05/2019</td>\n",
              "      <td>{FEATURES#Negative};{PERFORMANCE#Positive};{SE...</td>\n",
              "    </tr>\n",
              "    <tr>\n",
              "      <th>2</th>\n",
              "      <td>2</td>\n",
              "      <td>Xấu đẹp gì ko biết nhưng rất ưng TGdđ phục vụ ...</td>\n",
              "      <td>5</td>\n",
              "      <td>26/03/2020</td>\n",
              "      <td>{DESIGN#Neutral};{SER&amp;ACC#Positive};</td>\n",
              "    </tr>\n",
              "    <tr>\n",
              "      <th>3</th>\n",
              "      <td>3</td>\n",
              "      <td>Màn hình hơi lác khi chơi game. Game nặng thì ...</td>\n",
              "      <td>4</td>\n",
              "      <td>4/6/2019</td>\n",
              "      <td>{PERFORMANCE#Negative};{DESIGN#Negative};{OTHE...</td>\n",
              "    </tr>\n",
              "    <tr>\n",
              "      <th>4</th>\n",
              "      <td>4</td>\n",
              "      <td>Nói chung máy đẹp với màn amoled, ổn trong tầm...</td>\n",
              "      <td>4</td>\n",
              "      <td>12/5/2020</td>\n",
              "      <td>{SCREEN#Positive};{BATTERY#Negative};{DESIGN#P...</td>\n",
              "    </tr>\n",
              "  </tbody>\n",
              "</table>\n",
              "</div>\n",
              "    <div class=\"colab-df-buttons\">\n",
              "\n",
              "  <div class=\"colab-df-container\">\n",
              "    <button class=\"colab-df-convert\" onclick=\"convertToInteractive('df-f45f7e4a-72d1-45ae-a4ef-efb903b7f97b')\"\n",
              "            title=\"Convert this dataframe to an interactive table.\"\n",
              "            style=\"display:none;\">\n",
              "\n",
              "  <svg xmlns=\"http://www.w3.org/2000/svg\" height=\"24px\" viewBox=\"0 -960 960 960\">\n",
              "    <path d=\"M120-120v-720h720v720H120Zm60-500h600v-160H180v160Zm220 220h160v-160H400v160Zm0 220h160v-160H400v160ZM180-400h160v-160H180v160Zm440 0h160v-160H620v160ZM180-180h160v-160H180v160Zm440 0h160v-160H620v160Z\"/>\n",
              "  </svg>\n",
              "    </button>\n",
              "\n",
              "  <style>\n",
              "    .colab-df-container {\n",
              "      display:flex;\n",
              "      gap: 12px;\n",
              "    }\n",
              "\n",
              "    .colab-df-convert {\n",
              "      background-color: #E8F0FE;\n",
              "      border: none;\n",
              "      border-radius: 50%;\n",
              "      cursor: pointer;\n",
              "      display: none;\n",
              "      fill: #1967D2;\n",
              "      height: 32px;\n",
              "      padding: 0 0 0 0;\n",
              "      width: 32px;\n",
              "    }\n",
              "\n",
              "    .colab-df-convert:hover {\n",
              "      background-color: #E2EBFA;\n",
              "      box-shadow: 0px 1px 2px rgba(60, 64, 67, 0.3), 0px 1px 3px 1px rgba(60, 64, 67, 0.15);\n",
              "      fill: #174EA6;\n",
              "    }\n",
              "\n",
              "    .colab-df-buttons div {\n",
              "      margin-bottom: 4px;\n",
              "    }\n",
              "\n",
              "    [theme=dark] .colab-df-convert {\n",
              "      background-color: #3B4455;\n",
              "      fill: #D2E3FC;\n",
              "    }\n",
              "\n",
              "    [theme=dark] .colab-df-convert:hover {\n",
              "      background-color: #434B5C;\n",
              "      box-shadow: 0px 1px 3px 1px rgba(0, 0, 0, 0.15);\n",
              "      filter: drop-shadow(0px 1px 2px rgba(0, 0, 0, 0.3));\n",
              "      fill: #FFFFFF;\n",
              "    }\n",
              "  </style>\n",
              "\n",
              "    <script>\n",
              "      const buttonEl =\n",
              "        document.querySelector('#df-f45f7e4a-72d1-45ae-a4ef-efb903b7f97b button.colab-df-convert');\n",
              "      buttonEl.style.display =\n",
              "        google.colab.kernel.accessAllowed ? 'block' : 'none';\n",
              "\n",
              "      async function convertToInteractive(key) {\n",
              "        const element = document.querySelector('#df-f45f7e4a-72d1-45ae-a4ef-efb903b7f97b');\n",
              "        const dataTable =\n",
              "          await google.colab.kernel.invokeFunction('convertToInteractive',\n",
              "                                                    [key], {});\n",
              "        if (!dataTable) return;\n",
              "\n",
              "        const docLinkHtml = 'Like what you see? Visit the ' +\n",
              "          '<a target=\"_blank\" href=https://colab.research.google.com/notebooks/data_table.ipynb>data table notebook</a>'\n",
              "          + ' to learn more about interactive tables.';\n",
              "        element.innerHTML = '';\n",
              "        dataTable['output_type'] = 'display_data';\n",
              "        await google.colab.output.renderOutput(dataTable, element);\n",
              "        const docLink = document.createElement('div');\n",
              "        docLink.innerHTML = docLinkHtml;\n",
              "        element.appendChild(docLink);\n",
              "      }\n",
              "    </script>\n",
              "  </div>\n",
              "\n",
              "\n",
              "<div id=\"df-5e3a6f5f-67a5-40e6-8320-4d78c04c60f1\">\n",
              "  <button class=\"colab-df-quickchart\" onclick=\"quickchart('df-5e3a6f5f-67a5-40e6-8320-4d78c04c60f1')\"\n",
              "            title=\"Suggest charts\"\n",
              "            style=\"display:none;\">\n",
              "\n",
              "<svg xmlns=\"http://www.w3.org/2000/svg\" height=\"24px\"viewBox=\"0 0 24 24\"\n",
              "     width=\"24px\">\n",
              "    <g>\n",
              "        <path d=\"M19 3H5c-1.1 0-2 .9-2 2v14c0 1.1.9 2 2 2h14c1.1 0 2-.9 2-2V5c0-1.1-.9-2-2-2zM9 17H7v-7h2v7zm4 0h-2V7h2v10zm4 0h-2v-4h2v4z\"/>\n",
              "    </g>\n",
              "</svg>\n",
              "  </button>\n",
              "\n",
              "<style>\n",
              "  .colab-df-quickchart {\n",
              "      --bg-color: #E8F0FE;\n",
              "      --fill-color: #1967D2;\n",
              "      --hover-bg-color: #E2EBFA;\n",
              "      --hover-fill-color: #174EA6;\n",
              "      --disabled-fill-color: #AAA;\n",
              "      --disabled-bg-color: #DDD;\n",
              "  }\n",
              "\n",
              "  [theme=dark] .colab-df-quickchart {\n",
              "      --bg-color: #3B4455;\n",
              "      --fill-color: #D2E3FC;\n",
              "      --hover-bg-color: #434B5C;\n",
              "      --hover-fill-color: #FFFFFF;\n",
              "      --disabled-bg-color: #3B4455;\n",
              "      --disabled-fill-color: #666;\n",
              "  }\n",
              "\n",
              "  .colab-df-quickchart {\n",
              "    background-color: var(--bg-color);\n",
              "    border: none;\n",
              "    border-radius: 50%;\n",
              "    cursor: pointer;\n",
              "    display: none;\n",
              "    fill: var(--fill-color);\n",
              "    height: 32px;\n",
              "    padding: 0;\n",
              "    width: 32px;\n",
              "  }\n",
              "\n",
              "  .colab-df-quickchart:hover {\n",
              "    background-color: var(--hover-bg-color);\n",
              "    box-shadow: 0 1px 2px rgba(60, 64, 67, 0.3), 0 1px 3px 1px rgba(60, 64, 67, 0.15);\n",
              "    fill: var(--button-hover-fill-color);\n",
              "  }\n",
              "\n",
              "  .colab-df-quickchart-complete:disabled,\n",
              "  .colab-df-quickchart-complete:disabled:hover {\n",
              "    background-color: var(--disabled-bg-color);\n",
              "    fill: var(--disabled-fill-color);\n",
              "    box-shadow: none;\n",
              "  }\n",
              "\n",
              "  .colab-df-spinner {\n",
              "    border: 2px solid var(--fill-color);\n",
              "    border-color: transparent;\n",
              "    border-bottom-color: var(--fill-color);\n",
              "    animation:\n",
              "      spin 1s steps(1) infinite;\n",
              "  }\n",
              "\n",
              "  @keyframes spin {\n",
              "    0% {\n",
              "      border-color: transparent;\n",
              "      border-bottom-color: var(--fill-color);\n",
              "      border-left-color: var(--fill-color);\n",
              "    }\n",
              "    20% {\n",
              "      border-color: transparent;\n",
              "      border-left-color: var(--fill-color);\n",
              "      border-top-color: var(--fill-color);\n",
              "    }\n",
              "    30% {\n",
              "      border-color: transparent;\n",
              "      border-left-color: var(--fill-color);\n",
              "      border-top-color: var(--fill-color);\n",
              "      border-right-color: var(--fill-color);\n",
              "    }\n",
              "    40% {\n",
              "      border-color: transparent;\n",
              "      border-right-color: var(--fill-color);\n",
              "      border-top-color: var(--fill-color);\n",
              "    }\n",
              "    60% {\n",
              "      border-color: transparent;\n",
              "      border-right-color: var(--fill-color);\n",
              "    }\n",
              "    80% {\n",
              "      border-color: transparent;\n",
              "      border-right-color: var(--fill-color);\n",
              "      border-bottom-color: var(--fill-color);\n",
              "    }\n",
              "    90% {\n",
              "      border-color: transparent;\n",
              "      border-bottom-color: var(--fill-color);\n",
              "    }\n",
              "  }\n",
              "</style>\n",
              "\n",
              "  <script>\n",
              "    async function quickchart(key) {\n",
              "      const quickchartButtonEl =\n",
              "        document.querySelector('#' + key + ' button');\n",
              "      quickchartButtonEl.disabled = true;  // To prevent multiple clicks.\n",
              "      quickchartButtonEl.classList.add('colab-df-spinner');\n",
              "      try {\n",
              "        const charts = await google.colab.kernel.invokeFunction(\n",
              "            'suggestCharts', [key], {});\n",
              "      } catch (error) {\n",
              "        console.error('Error during call to suggestCharts:', error);\n",
              "      }\n",
              "      quickchartButtonEl.classList.remove('colab-df-spinner');\n",
              "      quickchartButtonEl.classList.add('colab-df-quickchart-complete');\n",
              "    }\n",
              "    (() => {\n",
              "      let quickchartButtonEl =\n",
              "        document.querySelector('#df-5e3a6f5f-67a5-40e6-8320-4d78c04c60f1 button');\n",
              "      quickchartButtonEl.style.display =\n",
              "        google.colab.kernel.accessAllowed ? 'block' : 'none';\n",
              "    })();\n",
              "  </script>\n",
              "</div>\n",
              "\n",
              "    </div>\n",
              "  </div>\n"
            ],
            "text/plain": [
              "   index                                            comment  n_star  \\\n",
              "0      0  Điện thoải ổn. Facelock cực nhanh, vân tay ôk ...       5   \n",
              "1      1  Mình mới  mua vivo91c. Tải ứng dụng ,games  nh...       5   \n",
              "2      2  Xấu đẹp gì ko biết nhưng rất ưng TGdđ phục vụ ...       5   \n",
              "3      3  Màn hình hơi lác khi chơi game. Game nặng thì ...       4   \n",
              "4      4  Nói chung máy đẹp với màn amoled, ổn trong tầm...       4   \n",
              "\n",
              "    date_time                                              label  \n",
              "0    5/2/2020  {SCREEN#Positive};{FEATURES#Positive};{PERFORM...  \n",
              "1  14/05/2019  {FEATURES#Negative};{PERFORMANCE#Positive};{SE...  \n",
              "2  26/03/2020               {DESIGN#Neutral};{SER&ACC#Positive};  \n",
              "3    4/6/2019  {PERFORMANCE#Negative};{DESIGN#Negative};{OTHE...  \n",
              "4   12/5/2020  {SCREEN#Positive};{BATTERY#Negative};{DESIGN#P...  "
            ]
          },
          "execution_count": 19,
          "metadata": {},
          "output_type": "execute_result"
        }
      ],
      "source": [
        "test_data = pd.read_csv(test_path)\n",
        "test_data.head()"
      ]
    },
    {
      "cell_type": "code",
      "execution_count": 20,
      "metadata": {
        "colab": {
          "base_uri": "https://localhost:8080/"
        },
        "id": "VTgz_PUD4PIN",
        "outputId": "0ab827ea-0f87-43da-a47d-a3c419fefc75"
      },
      "outputs": [
        {
          "name": "stdout",
          "output_type": "stream",
          "text": [
            "Mọi thứ ok.mình thấy pin trâu chứ có sao đâu.mua đc 2 tuần rồi chỉ có cảm biến vân tay ko nhạy như mong đợi thôi.\n",
            "{FEATURES#Negative};{BATTERY#Positive};{GENERAL#Positive};\n",
            "Aspect Sentiment Prediction:\n",
            "SCREEN: None\n",
            "CAMERA: None\n",
            "FEATURES: Negative\n",
            "BATTERY: Positive\n",
            "PERFORMANCE: None\n",
            "STORAGE: None\n",
            "DESIGN: None\n",
            "PRICE: None\n",
            "GENERAL: Positive\n",
            "SER&ACC: None\n"
          ]
        }
      ],
      "source": [
        "max_len = 256\n",
        "idx = 20\n",
        "sentence_test = test_data.loc[idx, 'comment']\n",
        "true_label = test_data.loc[idx, 'label']\n",
        "print(sentence_test)\n",
        "print(true_label)\n",
        "\n",
        "predictions = predict_sentiment(model, sentence_test, tokenizer, max_len, device)\n",
        "results = interpret_predictions(predictions)\n",
        "\n",
        "print('Aspect Sentiment Prediction:')\n",
        "for aspect, sentiment in results.items():\n",
        "    print(f'{aspect}: {sentiment}')"
      ]
    },
    {
      "cell_type": "code",
      "execution_count": 21,
      "metadata": {
        "colab": {
          "base_uri": "https://localhost:8080/"
        },
        "id": "bZ0XBIGB4PIN",
        "outputId": "c9e44c68-e57a-4724-bf15-c6e53065740b"
      },
      "outputs": [
        {
          "name": "stdout",
          "output_type": "stream",
          "text": [
            "All done!\n"
          ]
        }
      ],
      "source": [
        "predictions_on_test = []\n",
        "\n",
        "for i in range(len(test_data)):\n",
        "    print(i)\n",
        "    sentence_on_test = test_data['comment'][i]\n",
        "    prediction_on_test = predict_sentiment(model, sentence_on_test, tokenizer, max_len, device)\n",
        "    results = interpret_predictions(prediction_on_test)\n",
        "    predictions_on_test.append(results)\n",
        "    clear_output()\n",
        "\n",
        "print('All done!')\n"
      ]
    },
    {
      "cell_type": "code",
      "execution_count": 22,
      "metadata": {
        "id": "_dyobrC94PIN"
      },
      "outputs": [],
      "source": [
        "true_labels = []\n",
        "\n",
        "for i in range(len(test_data)):\n",
        "    outcome = {}\n",
        "    label = test_data['label'][i]\n",
        "    label = label.replace('{', '')\n",
        "    label = label.replace('}', '')\n",
        "    labels = label.split(';')\n",
        "    for l in labels:\n",
        "        try:\n",
        "            text = l.split('#')\n",
        "            outcome[text[0]] = text[1]\n",
        "        except:\n",
        "            pass\n",
        "    true_labels.append(outcome)"
      ]
    },
    {
      "cell_type": "markdown",
      "metadata": {
        "id": "k5ydRZih4PIN"
      },
      "source": [
        "# 06. Chuẩn hóa nhãn đầu ra để thực hiện đánh giá hiệu suất mô hình"
      ]
    },
    {
      "cell_type": "code",
      "execution_count": 23,
      "metadata": {
        "id": "YeYOCpb64PIN"
      },
      "outputs": [],
      "source": [
        "def full_label(true_label, prediction):\n",
        "    '''\n",
        "    true_label: dict\n",
        "    prediction: dict\n",
        "     '''\n",
        "    for key, value in prediction.items():\n",
        "        if key not in true_label:\n",
        "            true_label[key] = 'None'\n",
        "    return true_label"
      ]
    },
    {
      "cell_type": "code",
      "execution_count": 24,
      "metadata": {
        "id": "LsKJlQrR4PIN"
      },
      "outputs": [],
      "source": [
        "# mục tiêu là đưa danh sách các nhãn thực tế về dạng đánh giá 10 class như trong dự đoán\n",
        "true_full_labels = []\n",
        "for idx in range(len(predictions_on_test)):\n",
        "    true_label = true_labels[idx]\n",
        "    prediction = predictions_on_test[idx]\n",
        "    true_full_labels.append(full_label(true_label, prediction))"
      ]
    },
    {
      "cell_type": "code",
      "execution_count": 25,
      "metadata": {
        "colab": {
          "base_uri": "https://localhost:8080/"
        },
        "id": "ZQHuGDRc4PIO",
        "outputId": "beab497d-7a91-485d-a7e2-e94f41536222"
      },
      "outputs": [
        {
          "name": "stdout",
          "output_type": "stream",
          "text": [
            "{'SCREEN': 'None', 'CAMERA': 'None', 'FEATURES': 'None', 'BATTERY': 'None', 'PERFORMANCE': 'Positive', 'STORAGE': 'None', 'DESIGN': 'None', 'PRICE': 'None', 'GENERAL': 'Positive', 'SER&ACC': 'Positive'}\n",
            "{'SCREEN': 'None', 'CAMERA': 'None', 'FEATURES': 'None', 'BATTERY': 'None', 'PERFORMANCE': 'None', 'STORAGE': 'None', 'DESIGN': 'None', 'PRICE': 'None', 'GENERAL': 'None', 'SER&ACC': 'None'}\n",
            "Thật tuyệt máy qua mượt túi thích  như thế giới Di Động có chỗ giá khác túi không hiểu đánh giá 5sao cho thế giới Di Động phương Phú Châu 5sao nhân viên OK\n",
            "true:  SCREEN None\n",
            "predicted:  SCREEN None\n",
            "true:  CAMERA None\n",
            "predicted:  CAMERA None\n",
            "true:  FEATURES None\n",
            "predicted:  FEATURES None\n",
            "true:  BATTERY None\n",
            "predicted:  BATTERY None\n",
            "true:  PERFORMANCE None\n",
            "predicted:  PERFORMANCE Positive\n",
            "true:  STORAGE None\n",
            "predicted:  STORAGE None\n",
            "true:  DESIGN None\n",
            "predicted:  DESIGN None\n",
            "true:  PRICE None\n",
            "predicted:  PRICE None\n",
            "true:  GENERAL None\n",
            "predicted:  GENERAL Positive\n",
            "true:  SER&ACC None\n",
            "predicted:  SER&ACC Positive\n"
          ]
        }
      ],
      "source": [
        "# data thỉnh thoảng bị sai -..-\n",
        "# bằng chứng là SER&ACC trong câu này phải là Positive nhưng nhãn là None\n",
        "# hoặc GENERAL nên là Positive thì nhãn lại là None\n",
        "\n",
        "print(predictions_on_test[6])\n",
        "print(true_labels[6])\n",
        "print(test_data.loc[6, 'comment'])\n",
        "for key, value in true_labels[6].items():\n",
        "    print('true: ',key, value)\n",
        "    print('predicted: ', key, predictions_on_test[6][key])"
      ]
    },
    {
      "cell_type": "markdown",
      "metadata": {
        "id": "GKWoRazF4PIO"
      },
      "source": [
        "# 07. Đánh giá hiệu suất tổng thể mô hình"
      ]
    },
    {
      "cell_type": "code",
      "execution_count": 26,
      "metadata": {
        "colab": {
          "base_uri": "https://localhost:8080/"
        },
        "id": "tyyaV6fb4PIO",
        "outputId": "4caf1e5d-df0b-4f61-cfb2-6fd5bb450931"
      },
      "outputs": [
        {
          "name": "stdout",
          "output_type": "stream",
          "text": [
            "Accuracy = 0.9341334077588613\n",
            "Precision = 0.8790697674418605\n",
            "Recall = 0.8849498327759198\n",
            "f1 = 0.882\n"
          ]
        }
      ],
      "source": [
        "true_ = []\n",
        "predicted_ = []\n",
        "\n",
        "for idx in range(len(predictions_on_test)):\n",
        "    for key, value in predictions_on_test[idx].items():\n",
        "        if true_full_labels[idx][key] == 'None' and value == 'None':\n",
        "            true_.append(0)\n",
        "            predicted_.append(0)\n",
        "        elif true_full_labels[idx][key] != 'None' and true_full_labels[idx][key] == value:\n",
        "            true_.append(1)\n",
        "            predicted_.append(1)\n",
        "        elif true_full_labels[idx][key] == 'None' and value != 'None':\n",
        "            true_.append(0)\n",
        "            predicted_.append(1)\n",
        "        elif true_full_labels[idx][key] != 'None' and value == 'None':\n",
        "            true_.append(1)\n",
        "            predicted_.append(0)\n",
        "\n",
        "accuracy = accuracy_score(true_, predicted_)\n",
        "precision = precision_score(true_, predicted_)\n",
        "recall = recall_score(true_, predicted_)\n",
        "f1 = f1_score(true_, predicted_)\n",
        "\n",
        "print(f'Accuracy = {accuracy}')\n",
        "print(f'Precision = {precision}')\n",
        "print(f'Recall = {recall}')\n",
        "print(f'f1 = {f1}')"
      ]
    },
    {
      "cell_type": "markdown",
      "metadata": {
        "id": "kHsExt1k4PIO"
      },
      "source": [
        "# 08. Đánh giá hiệu suất nhận diện khía cạnh"
      ]
    },
    {
      "cell_type": "markdown",
      "metadata": {
        "id": "CyzCsKSA4PIO"
      },
      "source": [
        "### Accuracy, Precision, Recall, F1-score trên toàn bộ khía cạnh"
      ]
    },
    {
      "cell_type": "code",
      "execution_count": 27,
      "metadata": {
        "colab": {
          "base_uri": "https://localhost:8080/"
        },
        "id": "8BsZtod14PIO",
        "outputId": "bd104285-8560-4f9f-a2f3-0b1764bd7dcf"
      },
      "outputs": [
        {
          "name": "stdout",
          "output_type": "stream",
          "text": [
            "Accuracy = 0.8099328859060403\n",
            "Precision = 0.8923395445134575\n",
            "Recall = 0.8976495090746801\n",
            "F1-score = 0.8949866508454464\n"
          ]
        }
      ],
      "source": [
        "true_ = []\n",
        "predicted_ = []\n",
        "\n",
        "for idx in range(len(predictions_on_test)):\n",
        "    for key, value in predictions_on_test[idx].items():\n",
        "        if true_full_labels[idx] == 'None' and value == 'None':\n",
        "            true_.append(0)\n",
        "            predicted_.append(0)\n",
        "        elif true_full_labels[idx][key] != 'None' and value != 'None':\n",
        "            true_.append(1)\n",
        "            predicted_.append(1)\n",
        "        elif true_full_labels[idx][key] == 'None' and value != 'None':\n",
        "            true_.append(0)\n",
        "            predicted_.append(1)\n",
        "        elif true_full_labels[idx][key] != 'None' and value == 'None':\n",
        "            true_.append(1)\n",
        "            predicted_.append(0)\n",
        "\n",
        "print(f'Accuracy = {accuracy_score(true_, predicted_)}')\n",
        "print(f'Precision = {precision_score(true_, predicted_)}')\n",
        "print(f'Recall = {recall_score(true_, predicted_)}')\n",
        "print(f'F1-score = {f1_score(true_, predicted_)}')"
      ]
    },
    {
      "cell_type": "markdown",
      "metadata": {
        "id": "pMeOmrDe4PIP"
      },
      "source": [
        "### đánh giá hiệu suất khía cạnh trên class SCREEN"
      ]
    },
    {
      "cell_type": "code",
      "execution_count": 28,
      "metadata": {
        "colab": {
          "base_uri": "https://localhost:8080/"
        },
        "id": "c1PAESfp4PIP",
        "outputId": "2efb67d4-4d5a-468b-cf49-a98ec751248b"
      },
      "outputs": [
        {
          "name": "stdout",
          "output_type": "stream",
          "text": [
            "Accuracy = 0.9608812949640287\n",
            "Precision = 0.8421052631578947\n",
            "Recall = 0.8327137546468402\n",
            "f1 = 0.8373831775700935\n"
          ]
        }
      ],
      "source": [
        "true_ = []\n",
        "predicted_ = []\n",
        "\n",
        "for idx in range(len(true_full_labels)):\n",
        "    key = 'SCREEN'\n",
        "    if true_full_labels[idx][key] == 'None' and predictions_on_test[idx][key] == 'None':\n",
        "        true_.append(0)\n",
        "        predicted_.append(0)\n",
        "    elif true_full_labels[idx][key] != 'None' and predictions_on_test[idx][key] != 'None':\n",
        "        true_.append(1)\n",
        "        predicted_.append(1)\n",
        "    elif true_full_labels[idx][key] == 'None' and predictions_on_test[idx][key] != 'None':\n",
        "        true_.append(0)\n",
        "        predicted_.append(1)\n",
        "    elif true_full_labels[idx][key] != 'None' and predictions_on_test[idx][key] == 'None':\n",
        "        true_.append(1)\n",
        "        predicted_.append(0)\n",
        "\n",
        "accuracy = accuracy_score(true_, predicted_)\n",
        "precision = precision_score(true_, predicted_)\n",
        "recall = recall_score(true_, predicted_)\n",
        "f1 = f1_score(true_, predicted_)\n",
        "\n",
        "print(f'Accuracy = {accuracy}')\n",
        "print(f'Precision = {precision}')\n",
        "print(f'Recall = {recall}')\n",
        "print(f'f1 = {f1}')"
      ]
    },
    {
      "cell_type": "markdown",
      "metadata": {
        "id": "za7u-Iqz4PIP"
      },
      "source": [
        "### đánh giá hiệu suất khía cạnh trên class FEATURES"
      ]
    },
    {
      "cell_type": "code",
      "execution_count": 29,
      "metadata": {
        "colab": {
          "base_uri": "https://localhost:8080/"
        },
        "id": "fEhXODbc4PIP",
        "outputId": "d7a95d34-6d57-48b2-9eea-a66c3c1b9dd3"
      },
      "outputs": [
        {
          "name": "stdout",
          "output_type": "stream",
          "text": [
            "Accuracy = 0.9204136690647482\n",
            "Precision = 0.8617886178861789\n",
            "Recall = 0.8945147679324894\n",
            "f1 = 0.8778467908902691\n"
          ]
        }
      ],
      "source": [
        "true_ = []\n",
        "predicted_ = []\n",
        "\n",
        "for idx in range(len(true_full_labels)):\n",
        "    key = 'FEATURES'\n",
        "    if true_full_labels[idx][key] == 'None' and predictions_on_test[idx][key] == 'None':\n",
        "        true_.append(0)\n",
        "        predicted_.append(0)\n",
        "    elif true_full_labels[idx][key] != 'None' and predictions_on_test[idx][key] != 'None':\n",
        "        true_.append(1)\n",
        "        predicted_.append(1)\n",
        "    elif true_full_labels[idx][key] == 'None' and predictions_on_test[idx][key] != 'None':\n",
        "        true_.append(0)\n",
        "        predicted_.append(1)\n",
        "    elif true_full_labels[idx][key] != 'None' and predictions_on_test[idx][key] == 'None':\n",
        "        true_.append(1)\n",
        "        predicted_.append(0)\n",
        "\n",
        "accuracy = accuracy_score(true_, predicted_)\n",
        "precision = precision_score(true_, predicted_)\n",
        "recall = recall_score(true_, predicted_)\n",
        "f1 = f1_score(true_, predicted_)\n",
        "\n",
        "print(f'Accuracy = {accuracy}')\n",
        "print(f'Precision = {precision}')\n",
        "print(f'Recall = {recall}')\n",
        "print(f'f1 = {f1}')"
      ]
    },
    {
      "cell_type": "markdown",
      "metadata": {
        "id": "htZA6cs44PIP"
      },
      "source": [
        "### đánh giá hiệu suất khía cạnh trên class PERFORMANCE"
      ]
    },
    {
      "cell_type": "code",
      "execution_count": 30,
      "metadata": {
        "colab": {
          "base_uri": "https://localhost:8080/"
        },
        "id": "Uk44S3j84PIS",
        "outputId": "1c39674d-4b7f-4b8d-c1b1-1a7eade27a67"
      },
      "outputs": [
        {
          "name": "stdout",
          "output_type": "stream",
          "text": [
            "Accuracy = 0.89568345323741\n",
            "Precision = 0.8903654485049833\n",
            "Recall = 0.9146757679180887\n",
            "f1 = 0.9023569023569024\n"
          ]
        }
      ],
      "source": [
        "true_ = []\n",
        "predicted_ = []\n",
        "\n",
        "for idx in range(len(true_full_labels)):\n",
        "    key = 'PERFORMANCE'\n",
        "    if true_full_labels[idx][key] == 'None' and predictions_on_test[idx][key] == 'None':\n",
        "        true_.append(0)\n",
        "        predicted_.append(0)\n",
        "    elif true_full_labels[idx][key] != 'None' and predictions_on_test[idx][key] != 'None':\n",
        "        true_.append(1)\n",
        "        predicted_.append(1)\n",
        "    elif true_full_labels[idx][key] == 'None' and predictions_on_test[idx][key] != 'None':\n",
        "        true_.append(0)\n",
        "        predicted_.append(1)\n",
        "    elif true_full_labels[idx][key] != 'None' and predictions_on_test[idx][key] == 'None':\n",
        "        true_.append(1)\n",
        "        predicted_.append(0)\n",
        "\n",
        "accuracy = accuracy_score(true_, predicted_)\n",
        "precision = precision_score(true_, predicted_)\n",
        "recall = recall_score(true_, predicted_)\n",
        "f1 = f1_score(true_, predicted_)\n",
        "\n",
        "print(f'Accuracy = {accuracy}')\n",
        "print(f'Precision = {precision}')\n",
        "print(f'Recall = {recall}')\n",
        "print(f'f1 = {f1}')"
      ]
    },
    {
      "cell_type": "markdown",
      "metadata": {
        "id": "k7Ga5XU24PIS"
      },
      "source": [
        "### đánh giá hiệu suất khía cạnh trên class GENERAL"
      ]
    },
    {
      "cell_type": "code",
      "execution_count": 31,
      "metadata": {
        "colab": {
          "base_uri": "https://localhost:8080/"
        },
        "id": "vBdR6d-84PIT",
        "outputId": "e3a68752-546f-4c1c-b50c-af318679c719"
      },
      "outputs": [
        {
          "name": "stdout",
          "output_type": "stream",
          "text": [
            "Accuracy = 0.8570143884892086\n",
            "Precision = 0.8714185883997205\n",
            "Recall = 0.9029688631426502\n",
            "f1 = 0.8869132290184922\n"
          ]
        }
      ],
      "source": [
        "true_ = []\n",
        "predicted_ = []\n",
        "\n",
        "for idx in range(len(true_full_labels)):\n",
        "    key = 'GENERAL'\n",
        "    if true_full_labels[idx][key] == 'None' and predictions_on_test[idx][key] == 'None':\n",
        "        true_.append(0)\n",
        "        predicted_.append(0)\n",
        "    elif true_full_labels[idx][key] != 'None' and predictions_on_test[idx][key] != 'None':\n",
        "        true_.append(1)\n",
        "        predicted_.append(1)\n",
        "    elif true_full_labels[idx][key] == 'None' and predictions_on_test[idx][key] != 'None':\n",
        "        true_.append(0)\n",
        "        predicted_.append(1)\n",
        "    elif true_full_labels[idx][key] != 'None' and predictions_on_test[idx][key] == 'None':\n",
        "        true_.append(1)\n",
        "        predicted_.append(0)\n",
        "\n",
        "accuracy = accuracy_score(true_, predicted_)\n",
        "precision = precision_score(true_, predicted_)\n",
        "recall = recall_score(true_, predicted_)\n",
        "f1 = f1_score(true_, predicted_)\n",
        "\n",
        "print(f'Accuracy = {accuracy}')\n",
        "print(f'Precision = {precision}')\n",
        "print(f'Recall = {recall}')\n",
        "print(f'f1 = {f1}')"
      ]
    },
    {
      "cell_type": "markdown",
      "metadata": {
        "id": "1FZsc9Kg4PIT"
      },
      "source": [
        "### đánh giá hiệu suất khía cạnh trên class BATTERY"
      ]
    },
    {
      "cell_type": "code",
      "execution_count": 32,
      "metadata": {
        "colab": {
          "base_uri": "https://localhost:8080/"
        },
        "id": "70LQN5Kx4PIT",
        "outputId": "d6b2ba7d-a878-4c7f-97fb-febf44a65e9b"
      },
      "outputs": [
        {
          "name": "stdout",
          "output_type": "stream",
          "text": [
            "Accuracy = 0.9671762589928058\n",
            "Precision = 0.951969260326609\n",
            "Recall = 0.9773175542406312\n",
            "f1 = 0.9644768856447689\n"
          ]
        }
      ],
      "source": [
        "true_ = []\n",
        "predicted_ = []\n",
        "\n",
        "for idx in range(len(true_full_labels)):\n",
        "    key = 'BATTERY'\n",
        "    if true_full_labels[idx][key] == 'None' and predictions_on_test[idx][key] == 'None':\n",
        "        true_.append(0)\n",
        "        predicted_.append(0)\n",
        "    elif true_full_labels[idx][key] != 'None' and predictions_on_test[idx][key] != 'None':\n",
        "        true_.append(1)\n",
        "        predicted_.append(1)\n",
        "    elif true_full_labels[idx][key] == 'None' and predictions_on_test[idx][key] != 'None':\n",
        "        true_.append(0)\n",
        "        predicted_.append(1)\n",
        "    elif true_full_labels[idx][key] != 'None' and predictions_on_test[idx][key] == 'None':\n",
        "        true_.append(1)\n",
        "        predicted_.append(0)\n",
        "\n",
        "accuracy = accuracy_score(true_, predicted_)\n",
        "precision = precision_score(true_, predicted_)\n",
        "recall = recall_score(true_, predicted_)\n",
        "f1 = f1_score(true_, predicted_)\n",
        "\n",
        "print(f'Accuracy = {accuracy}')\n",
        "print(f'Precision = {precision}')\n",
        "print(f'Recall = {recall}')\n",
        "print(f'f1 = {f1}')"
      ]
    },
    {
      "cell_type": "markdown",
      "metadata": {
        "id": "p4knquCr4PIT"
      },
      "source": [
        "### đánh giá hiệu suất khía cạnh trên class STORAGE"
      ]
    },
    {
      "cell_type": "code",
      "execution_count": 33,
      "metadata": {
        "colab": {
          "base_uri": "https://localhost:8080/"
        },
        "id": "pCsRFd1y4PIT",
        "outputId": "43920208-e746-487c-f497-667a91dfd53f"
      },
      "outputs": [
        {
          "name": "stdout",
          "output_type": "stream",
          "text": [
            "Accuracy = 0.9883093525179856\n",
            "Precision = 1.0\n",
            "Recall = 0.037037037037037035\n",
            "f1 = 0.07142857142857142\n"
          ]
        }
      ],
      "source": [
        "true_ = []\n",
        "predicted_ = []\n",
        "\n",
        "for idx in range(len(true_full_labels)):\n",
        "    key = 'STORAGE'\n",
        "    if true_full_labels[idx][key] == 'None' and predictions_on_test[idx][key] == 'None':\n",
        "        true_.append(0)\n",
        "        predicted_.append(0)\n",
        "    elif true_full_labels[idx][key] != 'None' and predictions_on_test[idx][key] != 'None':\n",
        "        true_.append(1)\n",
        "        predicted_.append(1)\n",
        "    elif true_full_labels[idx][key] == 'None' and predictions_on_test[idx][key] != 'None':\n",
        "        true_.append(0)\n",
        "        predicted_.append(1)\n",
        "    elif true_full_labels[idx][key] != 'None' and predictions_on_test[idx][key] == 'None':\n",
        "        true_.append(1)\n",
        "        predicted_.append(0)\n",
        "\n",
        "accuracy = accuracy_score(true_, predicted_)\n",
        "precision = precision_score(true_, predicted_)\n",
        "recall = recall_score(true_, predicted_)\n",
        "f1 = f1_score(true_, predicted_)\n",
        "\n",
        "print(f'Accuracy = {accuracy}')\n",
        "print(f'Precision = {precision}')\n",
        "print(f'Recall = {recall}')\n",
        "print(f'f1 = {f1}')"
      ]
    },
    {
      "cell_type": "markdown",
      "metadata": {
        "id": "T9mUgOii4PIT"
      },
      "source": [
        "### đánh giá hiệu suất khía cạnh trên class DESIGN"
      ]
    },
    {
      "cell_type": "code",
      "execution_count": 34,
      "metadata": {
        "colab": {
          "base_uri": "https://localhost:8080/"
        },
        "id": "vL4RQ0fG4PIT",
        "outputId": "5b6cb188-4cc2-41d8-f552-09f82b138763"
      },
      "outputs": [
        {
          "name": "stdout",
          "output_type": "stream",
          "text": [
            "Accuracy = 0.9505395683453237\n",
            "Precision = 0.9022346368715084\n",
            "Recall = 0.8115577889447236\n",
            "f1 = 0.8544973544973545\n"
          ]
        }
      ],
      "source": [
        "true_ = []\n",
        "predicted_ = []\n",
        "\n",
        "for idx in range(len(true_full_labels)):\n",
        "    key = 'DESIGN'\n",
        "    if true_full_labels[idx][key] == 'None' and predictions_on_test[idx][key] == 'None':\n",
        "        true_.append(0)\n",
        "        predicted_.append(0)\n",
        "    elif true_full_labels[idx][key] != 'None' and predictions_on_test[idx][key] != 'None':\n",
        "        true_.append(1)\n",
        "        predicted_.append(1)\n",
        "    elif true_full_labels[idx][key] == 'None' and predictions_on_test[idx][key] != 'None':\n",
        "        true_.append(0)\n",
        "        predicted_.append(1)\n",
        "    elif true_full_labels[idx][key] != 'None' and predictions_on_test[idx][key] == 'None':\n",
        "        true_.append(1)\n",
        "        predicted_.append(0)\n",
        "\n",
        "accuracy = accuracy_score(true_, predicted_)\n",
        "precision = precision_score(true_, predicted_)\n",
        "recall = recall_score(true_, predicted_)\n",
        "f1 = f1_score(true_, predicted_)\n",
        "\n",
        "print(f'Accuracy = {accuracy}')\n",
        "print(f'Precision = {precision}')\n",
        "print(f'Recall = {recall}')\n",
        "print(f'f1 = {f1}')"
      ]
    },
    {
      "cell_type": "markdown",
      "metadata": {
        "id": "Mlb5CMeW4PIU"
      },
      "source": [
        "### đánh giá hiệu suất khía cạnh trên class PRICE"
      ]
    },
    {
      "cell_type": "code",
      "execution_count": 35,
      "metadata": {
        "colab": {
          "base_uri": "https://localhost:8080/"
        },
        "id": "-eQRKIm64PIU",
        "outputId": "0e1b57e3-0690-4e71-ff0c-b00365fd7416"
      },
      "outputs": [
        {
          "name": "stdout",
          "output_type": "stream",
          "text": [
            "Accuracy = 0.9532374100719424\n",
            "Precision = 0.8907563025210085\n",
            "Recall = 0.9314586994727593\n",
            "f1 = 0.9106529209621993\n"
          ]
        }
      ],
      "source": [
        "true_ = []\n",
        "predicted_ = []\n",
        "\n",
        "for idx in range(len(true_full_labels)):\n",
        "    key = 'PRICE'\n",
        "    if true_full_labels[idx][key] == 'None' and predictions_on_test[idx][key] == 'None':\n",
        "        true_.append(0)\n",
        "        predicted_.append(0)\n",
        "    elif true_full_labels[idx][key] != 'None' and predictions_on_test[idx][key] != 'None':\n",
        "        true_.append(1)\n",
        "        predicted_.append(1)\n",
        "    elif true_full_labels[idx][key] == 'None' and predictions_on_test[idx][key] != 'None':\n",
        "        true_.append(0)\n",
        "        predicted_.append(1)\n",
        "    elif true_full_labels[idx][key] != 'None' and predictions_on_test[idx][key] == 'None':\n",
        "        true_.append(1)\n",
        "        predicted_.append(0)\n",
        "\n",
        "accuracy = accuracy_score(true_, predicted_)\n",
        "precision = precision_score(true_, predicted_)\n",
        "recall = recall_score(true_, predicted_)\n",
        "f1 = f1_score(true_, predicted_)\n",
        "\n",
        "print(f'Accuracy = {accuracy}')\n",
        "print(f'Precision = {precision}')\n",
        "print(f'Recall = {recall}')\n",
        "print(f'f1 = {f1}')"
      ]
    },
    {
      "cell_type": "markdown",
      "metadata": {
        "id": "HxeoG4_Z4PIU"
      },
      "source": [
        "### đánh giá hiệu suất khía cạnh trên class SER&ACC"
      ]
    },
    {
      "cell_type": "code",
      "execution_count": 36,
      "metadata": {
        "colab": {
          "base_uri": "https://localhost:8080/"
        },
        "id": "vS0tRLqU4PIU",
        "outputId": "f1bbb42f-c3c7-49ff-9337-ff3920d2ee00"
      },
      "outputs": [
        {
          "name": "stdout",
          "output_type": "stream",
          "text": [
            "Accuracy = 0.9024280575539568\n",
            "Precision = 0.8455882352941176\n",
            "Recall = 0.7757166947723441\n",
            "f1 = 0.809146877748461\n"
          ]
        }
      ],
      "source": [
        "true_ = []\n",
        "predicted_ = []\n",
        "\n",
        "for idx in range(len(true_full_labels)):\n",
        "    key = 'SER&ACC'\n",
        "    if true_full_labels[idx][key] == 'None' and predictions_on_test[idx][key] == 'None':\n",
        "        true_.append(0)\n",
        "        predicted_.append(0)\n",
        "    elif true_full_labels[idx][key] != 'None' and predictions_on_test[idx][key] != 'None':\n",
        "        true_.append(1)\n",
        "        predicted_.append(1)\n",
        "    elif true_full_labels[idx][key] == 'None' and predictions_on_test[idx][key] != 'None':\n",
        "        true_.append(0)\n",
        "        predicted_.append(1)\n",
        "    elif true_full_labels[idx][key] != 'None' and predictions_on_test[idx][key] == 'None':\n",
        "        true_.append(1)\n",
        "        predicted_.append(0)\n",
        "\n",
        "accuracy = accuracy_score(true_, predicted_)\n",
        "precision = precision_score(true_, predicted_)\n",
        "recall = recall_score(true_, predicted_)\n",
        "f1 = f1_score(true_, predicted_)\n",
        "\n",
        "print(f'Accuracy = {accuracy}')\n",
        "print(f'Precision = {precision}')\n",
        "print(f'Recall = {recall}')\n",
        "print(f'f1 = {f1}')"
      ]
    },
    {
      "cell_type": "markdown",
      "metadata": {
        "id": "ZM7qgYKK4PIU"
      },
      "source": [
        "### đánh giá hiệu suất khía cạnh trên class CAMERA"
      ]
    },
    {
      "cell_type": "code",
      "execution_count": 37,
      "metadata": {
        "colab": {
          "base_uri": "https://localhost:8080/"
        },
        "id": "X3EIJP_j4PIU",
        "outputId": "53c9208c-ad21-4501-836d-caa2af6470b3"
      },
      "outputs": [
        {
          "name": "stdout",
          "output_type": "stream",
          "text": [
            "Accuracy = 0.9676258992805755\n",
            "Precision = 0.9417808219178082\n",
            "Recall = 0.935374149659864\n",
            "f1 = 0.938566552901024\n"
          ]
        }
      ],
      "source": [
        "true_ = []\n",
        "predicted_ = []\n",
        "\n",
        "for idx in range(len(true_full_labels)):\n",
        "    key = 'CAMERA'\n",
        "    if true_full_labels[idx][key] == 'None' and predictions_on_test[idx][key] == 'None':\n",
        "        true_.append(0)\n",
        "        predicted_.append(0)\n",
        "    elif true_full_labels[idx][key] != 'None' and predictions_on_test[idx][key] != 'None':\n",
        "        true_.append(1)\n",
        "        predicted_.append(1)\n",
        "    elif true_full_labels[idx][key] == 'None' and predictions_on_test[idx][key] != 'None':\n",
        "        true_.append(0)\n",
        "        predicted_.append(1)\n",
        "    elif true_full_labels[idx][key] != 'None' and predictions_on_test[idx][key] == 'None':\n",
        "        true_.append(1)\n",
        "        predicted_.append(0)\n",
        "\n",
        "accuracy = accuracy_score(true_, predicted_)\n",
        "precision = precision_score(true_, predicted_)\n",
        "recall = recall_score(true_, predicted_)\n",
        "f1 = f1_score(true_, predicted_)\n",
        "\n",
        "print(f'Accuracy = {accuracy}')\n",
        "print(f'Precision = {precision}')\n",
        "print(f'Recall = {recall}')\n",
        "print(f'f1 = {f1}')"
      ]
    },
    {
      "cell_type": "markdown",
      "metadata": {
        "id": "gTsgsU7w4PIU"
      },
      "source": [
        "# 09. Đánh giá hiệu suất nhận diện tình cảm (đa nhãn)"
      ]
    },
    {
      "cell_type": "markdown",
      "metadata": {
        "id": "DRAROOhT4PIU"
      },
      "source": [
        "### Accuracy trên toàn bộ data kiểm thử\n",
        "acc = corrects/(all predictions)"
      ]
    },
    {
      "cell_type": "code",
      "execution_count": 38,
      "metadata": {
        "colab": {
          "base_uri": "https://localhost:8080/"
        },
        "id": "H4jlMUuV4PIU",
        "outputId": "9c0f8d78-8ebd-49b1-ef0d-a9f6ea9391a6"
      },
      "outputs": [
        {
          "name": "stdout",
          "output_type": "stream",
          "text": [
            "Accuracy = 0.7872656947337102\n"
          ]
        }
      ],
      "source": [
        "true_ = []\n",
        "predicted_ = []\n",
        "accuracy = []\n",
        "\n",
        "for idx in range(len(true_full_labels)):\n",
        "    for key, value in true_full_labels[idx].items():\n",
        "        if value == 'None':\n",
        "            continue\n",
        "        elif predictions_on_test[idx][key] != value:\n",
        "            accuracy.append(0)\n",
        "        elif predictions_on_test[idx][key] == value:\n",
        "            accuracy.append(1)\n",
        "\n",
        "print(f'Accuracy = {sum(accuracy)/len(accuracy)}')"
      ]
    },
    {
      "cell_type": "markdown",
      "metadata": {
        "id": "XYOY4tha4PIV"
      },
      "source": [
        "### Precisio, Recall, F1-score tình cảm trên toàn bộ data kiểm thử"
      ]
    },
    {
      "cell_type": "code",
      "execution_count": 39,
      "metadata": {
        "colab": {
          "base_uri": "https://localhost:8080/"
        },
        "id": "xhlyyKEL4PIV",
        "outputId": "98503eb3-0475-47bb-a281-02b8a2fff7f4"
      },
      "outputs": [
        {
          "name": "stdout",
          "output_type": "stream",
          "text": [
            "Classification report:\n",
            "                      precision    recall  f1-score   support\n",
            "\n",
            "    BATTERY_Negative     0.7832    0.9130    0.8432       368\n",
            "     BATTERY_Neutral     0.4098    0.2717    0.3268        92\n",
            "        BATTERY_None     0.9806    0.9587    0.9695      1210\n",
            "    BATTERY_Positive     0.8966    0.8917    0.8941       554\n",
            "     CAMERA_Negative     0.6340    0.8713    0.7340       171\n",
            "      CAMERA_Neutral     0.3438    0.1549    0.2136        71\n",
            "         CAMERA_None     0.9768    0.9792    0.9780      1636\n",
            "     CAMERA_Positive     0.9401    0.8613    0.8989       346\n",
            "     DESIGN_Negative     0.5876    0.5938    0.5907        96\n",
            "      DESIGN_Neutral     0.0000    0.0000    0.0000        28\n",
            "         DESIGN_None     0.9598    0.9808    0.9702      1826\n",
            "     DESIGN_Positive     0.8927    0.8504    0.8710       274\n",
            "   FEATURES_Negative     0.7468    0.8932    0.8135       459\n",
            "    FEATURES_Neutral     0.5000    0.0577    0.1034        52\n",
            "       FEATURES_None     0.9495    0.9326    0.9410      1513\n",
            "   FEATURES_Positive     0.7650    0.7000    0.7311       200\n",
            "    GENERAL_Negative     0.6841    0.8469    0.7568       294\n",
            "     GENERAL_Neutral     0.6600    0.3976    0.4962        83\n",
            "        GENERAL_None     0.8310    0.7817    0.8056       843\n",
            "    GENERAL_Positive     0.8899    0.9014    0.8956      1004\n",
            "PERFORMANCE_Negative     0.6747    0.8590    0.7558       454\n",
            " PERFORMANCE_Neutral     0.2967    0.2328    0.2609       116\n",
            "    PERFORMANCE_None     0.9020    0.8745    0.8880      1052\n",
            "PERFORMANCE_Positive     0.8953    0.7957    0.8426       602\n",
            "      PRICE_Negative     0.4800    0.6076    0.5363        79\n",
            "       PRICE_Neutral     0.7672    0.7835    0.7753       328\n",
            "          PRICE_None     0.9761    0.9607    0.9683      1655\n",
            "      PRICE_Positive     0.7188    0.7099    0.7143       162\n",
            "     SCREEN_Negative     0.6905    0.7500    0.7190       116\n",
            "      SCREEN_Neutral     0.0000    0.0000    0.0000        17\n",
            "         SCREEN_None     0.9770    0.9785    0.9778      1955\n",
            "     SCREEN_Positive     0.8143    0.8382    0.8261       136\n",
            "    SER&ACC_Negative     0.5584    0.5150    0.5358       167\n",
            "     SER&ACC_Neutral     0.0000    0.0000    0.0000        27\n",
            "        SER&ACC_None     0.9208    0.9485    0.9345      1631\n",
            "    SER&ACC_Positive     0.8869    0.8647    0.8756       399\n",
            "    STORAGE_Negative     0.0000    0.0000    0.0000         6\n",
            "     STORAGE_Neutral     0.0000    0.0000    0.0000         3\n",
            "        STORAGE_None     0.9883    1.0000    0.9941      2197\n",
            "    STORAGE_Positive     1.0000    0.0556    0.1053        18\n",
            "\n",
            "            accuracy                         0.9030     22240\n",
            "           macro avg     0.6745    0.6403    0.6386     22240\n",
            "        weighted avg     0.9000    0.9030    0.8995     22240\n",
            "\n"
          ]
        }
      ],
      "source": [
        "from sklearn.metrics import classification_report\n",
        "\n",
        "\n",
        "y_true = []\n",
        "y_pred = []\n",
        "\n",
        "for idx in range(len(true_labels)):\n",
        "    for key, value in true_labels[idx].items():\n",
        "        y_true.append(key + \"_\" + value)\n",
        "        y_pred.append(key + \"_\" + predictions_on_test[idx][key])\n",
        "\n",
        "\n",
        "print(f'Classification report:')\n",
        "print(classification_report(y_true, y_pred, digits=4))"
      ]
    },
    {
      "cell_type": "code",
      "execution_count": 40,
      "metadata": {
        "colab": {
          "base_uri": "https://localhost:8080/"
        },
        "id": "2PwzVFvW4PIV",
        "outputId": "dce9e779-4611-4c23-a17a-e21773a14b53"
      },
      "outputs": [
        {
          "name": "stdout",
          "output_type": "stream",
          "text": [
            "\n",
            "Overall Precision, Recall, F1-Score:\n",
            "Micro Precision: 0.9030\n",
            "Micro Recall: 0.9030\n",
            "Micro F1-Score: 0.9030\n",
            "Macro Precision: 0.6745\n",
            "Macro Recall: 0.6403\n",
            "Macro F1-Score: 0.6386\n",
            "Weighted Precision: 0.9000\n",
            "Weighted Recall: 0.9030\n",
            "Weighted F1-Score: 0.8995\n"
          ]
        }
      ],
      "source": [
        "precision_micro = precision_score(y_true, y_pred, average='micro')\n",
        "recall_micro = recall_score(y_true, y_pred, average='micro')\n",
        "f1_micro = f1_score(y_true, y_pred, average='micro')\n",
        "\n",
        "precision_macro = precision_score(y_true, y_pred, average='macro')\n",
        "recall_macro = recall_score(y_true, y_pred, average='macro')\n",
        "f1_macro = f1_score(y_true, y_pred, average='macro')\n",
        "\n",
        "precision_weighted = precision_score(y_true, y_pred, average='weighted')\n",
        "recall_weighted = recall_score(y_true, y_pred, average='weighted')\n",
        "f1_weighted = f1_score(y_true, y_pred, average='weighted')\n",
        "\n",
        "print(\"\\nOverall Precision, Recall, F1-Score:\")\n",
        "print(f\"Micro Precision: {precision_micro:.4f}\")\n",
        "print(f\"Micro Recall: {recall_micro:.4f}\")\n",
        "print(f\"Micro F1-Score: {f1_micro:.4f}\")\n",
        "print(f\"Macro Precision: {precision_macro:.4f}\")\n",
        "print(f\"Macro Recall: {recall_macro:.4f}\")\n",
        "print(f\"Macro F1-Score: {f1_macro:.4f}\")\n",
        "print(f\"Weighted Precision: {precision_weighted:.4f}\")\n",
        "print(f\"Weighted Recall: {recall_weighted:.4f}\")\n",
        "print(f\"Weighted F1-Score: {f1_weighted:.4f}\")"
      ]
    },
    {
      "cell_type": "markdown",
      "metadata": {
        "id": "UAy67-RC4PIV"
      },
      "source": [
        "### Đánh giá hiệu suất nhận diện tình cảm của khía cạnh SCREEN"
      ]
    },
    {
      "cell_type": "code",
      "execution_count": 41,
      "metadata": {
        "colab": {
          "base_uri": "https://localhost:8080/"
        },
        "id": "C-meStT74PIV",
        "outputId": "2b571117-dbed-40ea-f5f3-e9cc942a16b1"
      },
      "outputs": [
        {
          "name": "stdout",
          "output_type": "stream",
          "text": [
            "              precision    recall  f1-score   support\n",
            "\n",
            "    Negative       0.69      0.75      0.72       116\n",
            "     Neutral       0.00      0.00      0.00        17\n",
            "        None       0.98      0.98      0.98      1955\n",
            "    Positive       0.81      0.84      0.83       136\n",
            "\n",
            "    accuracy                           0.95      2224\n",
            "   macro avg       0.62      0.64      0.63      2224\n",
            "weighted avg       0.94      0.95      0.95      2224\n",
            "\n"
          ]
        }
      ],
      "source": [
        "y_true = []\n",
        "y_pred = []\n",
        "\n",
        "key = 'SCREEN'\n",
        "for idx in range(len(true_full_labels)):\n",
        "    y_true.append(true_full_labels[idx][key])\n",
        "    y_pred.append(predictions_on_test[idx][key])\n",
        "\n",
        "report = classification_report(y_true, y_pred)\n",
        "print(report)"
      ]
    },
    {
      "cell_type": "markdown",
      "metadata": {
        "id": "IvYJ5gf64PIV"
      },
      "source": [
        "### Đánh giá hiệu suất nhận diện tình cảm của khía cạnh FEATURES"
      ]
    },
    {
      "cell_type": "code",
      "execution_count": 42,
      "metadata": {
        "colab": {
          "base_uri": "https://localhost:8080/"
        },
        "id": "QCxcwhTS4PIV",
        "outputId": "e0533f06-58a1-42b5-ef2d-691486ff86f0"
      },
      "outputs": [
        {
          "name": "stdout",
          "output_type": "stream",
          "text": [
            "              precision    recall  f1-score   support\n",
            "\n",
            "    Negative       0.75      0.89      0.81       459\n",
            "     Neutral       0.50      0.06      0.10        52\n",
            "        None       0.95      0.93      0.94      1513\n",
            "    Positive       0.77      0.70      0.73       200\n",
            "\n",
            "    accuracy                           0.88      2224\n",
            "   macro avg       0.74      0.65      0.65      2224\n",
            "weighted avg       0.88      0.88      0.88      2224\n",
            "\n"
          ]
        }
      ],
      "source": [
        "y_true = []\n",
        "y_pred = []\n",
        "\n",
        "key = 'FEATURES'\n",
        "for idx in range(len(true_full_labels)):\n",
        "    y_true.append(true_full_labels[idx][key])\n",
        "    y_pred.append(predictions_on_test[idx][key])\n",
        "\n",
        "report = classification_report(y_true, y_pred)\n",
        "print(report)"
      ]
    },
    {
      "cell_type": "markdown",
      "metadata": {
        "id": "7ruWB3S24PIV"
      },
      "source": [
        "### Đánh giá hiệu suất nhận diện tình cảm của khía cạnh PERFORMANCE"
      ]
    },
    {
      "cell_type": "code",
      "execution_count": 43,
      "metadata": {
        "colab": {
          "base_uri": "https://localhost:8080/"
        },
        "id": "-b2mhu9c4PIV",
        "outputId": "abcb1226-5aef-40da-8858-5d16eca61859"
      },
      "outputs": [
        {
          "name": "stdout",
          "output_type": "stream",
          "text": [
            "              precision    recall  f1-score   support\n",
            "\n",
            "    Negative       0.67      0.86      0.76       454\n",
            "     Neutral       0.30      0.23      0.26       116\n",
            "        None       0.90      0.87      0.89      1052\n",
            "    Positive       0.90      0.80      0.84       602\n",
            "\n",
            "    accuracy                           0.82      2224\n",
            "   macro avg       0.69      0.69      0.69      2224\n",
            "weighted avg       0.82      0.82      0.82      2224\n",
            "\n"
          ]
        }
      ],
      "source": [
        "y_true = []\n",
        "y_pred = []\n",
        "\n",
        "key = 'PERFORMANCE'\n",
        "for idx in range(len(true_full_labels)):\n",
        "    y_true.append(true_full_labels[idx][key])\n",
        "    y_pred.append(predictions_on_test[idx][key])\n",
        "\n",
        "report = classification_report(y_true, y_pred)\n",
        "print(report)"
      ]
    },
    {
      "cell_type": "markdown",
      "metadata": {
        "id": "DDMx7sU14PIW"
      },
      "source": [
        "### Đánh giá hiệu suất nhận diện tình cảm của khía cạnh GENERAL"
      ]
    },
    {
      "cell_type": "code",
      "execution_count": 44,
      "metadata": {
        "colab": {
          "base_uri": "https://localhost:8080/"
        },
        "id": "ROSNV9XN4PIW",
        "outputId": "512c443a-7cf7-4e7d-c0f7-a9f314dc2f2b"
      },
      "outputs": [
        {
          "name": "stdout",
          "output_type": "stream",
          "text": [
            "              precision    recall  f1-score   support\n",
            "\n",
            "    Negative       0.68      0.85      0.76       294\n",
            "     Neutral       0.66      0.40      0.50        83\n",
            "        None       0.83      0.78      0.81       843\n",
            "    Positive       0.89      0.90      0.90      1004\n",
            "\n",
            "    accuracy                           0.83      2224\n",
            "   macro avg       0.77      0.73      0.74      2224\n",
            "weighted avg       0.83      0.83      0.83      2224\n",
            "\n"
          ]
        }
      ],
      "source": [
        "y_true = []\n",
        "y_pred = []\n",
        "\n",
        "key = 'GENERAL'\n",
        "for idx in range(len(true_full_labels)):\n",
        "    y_true.append(true_full_labels[idx][key])\n",
        "    y_pred.append(predictions_on_test[idx][key])\n",
        "\n",
        "report = classification_report(y_true, y_pred)\n",
        "print(report)"
      ]
    },
    {
      "cell_type": "markdown",
      "metadata": {
        "id": "f6ZG7MlI4PIW"
      },
      "source": [
        "### Đánh giá hiệu suất nhận diện tình cảm của khía cạnh CAMERA"
      ]
    },
    {
      "cell_type": "code",
      "execution_count": 45,
      "metadata": {
        "colab": {
          "base_uri": "https://localhost:8080/"
        },
        "id": "bZRSc6JK4PIW",
        "outputId": "fef5dae1-a2b0-4676-87cc-886f96d78ae1"
      },
      "outputs": [
        {
          "name": "stdout",
          "output_type": "stream",
          "text": [
            "              precision    recall  f1-score   support\n",
            "\n",
            "    Negative       0.63      0.87      0.73       171\n",
            "     Neutral       0.34      0.15      0.21        71\n",
            "        None       0.98      0.98      0.98      1636\n",
            "    Positive       0.94      0.86      0.90       346\n",
            "\n",
            "    accuracy                           0.93      2224\n",
            "   macro avg       0.72      0.72      0.71      2224\n",
            "weighted avg       0.92      0.93      0.92      2224\n",
            "\n"
          ]
        }
      ],
      "source": [
        "y_true = []\n",
        "y_pred = []\n",
        "\n",
        "key = 'CAMERA'\n",
        "for idx in range(len(true_full_labels)):\n",
        "    y_true.append(true_full_labels[idx][key])\n",
        "    y_pred.append(predictions_on_test[idx][key])\n",
        "\n",
        "report = classification_report(y_true, y_pred)\n",
        "print(report)"
      ]
    },
    {
      "cell_type": "markdown",
      "metadata": {
        "id": "lTUW4T3_4PIW"
      },
      "source": [
        "### Đánh giá hiệu suất nhận diện tình cảm của khía cạnh BATTERY"
      ]
    },
    {
      "cell_type": "code",
      "execution_count": 46,
      "metadata": {
        "colab": {
          "base_uri": "https://localhost:8080/"
        },
        "id": "JpwS_V074PIW",
        "outputId": "c860d8cd-79b4-4d69-aa9a-8da12546b97e"
      },
      "outputs": [
        {
          "name": "stdout",
          "output_type": "stream",
          "text": [
            "              precision    recall  f1-score   support\n",
            "\n",
            "    Negative       0.78      0.91      0.84       368\n",
            "     Neutral       0.41      0.27      0.33        92\n",
            "        None       0.98      0.96      0.97      1210\n",
            "    Positive       0.90      0.89      0.89       554\n",
            "\n",
            "    accuracy                           0.91      2224\n",
            "   macro avg       0.77      0.76      0.76      2224\n",
            "weighted avg       0.90      0.91      0.90      2224\n",
            "\n"
          ]
        }
      ],
      "source": [
        "y_true = []\n",
        "y_pred = []\n",
        "\n",
        "key = 'BATTERY'\n",
        "for idx in range(len(true_full_labels)):\n",
        "    y_true.append(true_full_labels[idx][key])\n",
        "    y_pred.append(predictions_on_test[idx][key])\n",
        "\n",
        "report = classification_report(y_true, y_pred)\n",
        "print(report)"
      ]
    },
    {
      "cell_type": "markdown",
      "metadata": {
        "id": "fKS_khmz4PIW"
      },
      "source": [
        "### Đánh giá hiệu suất nhận diện tình cảm của khía cạnh STORAGE"
      ]
    },
    {
      "cell_type": "code",
      "execution_count": 47,
      "metadata": {
        "colab": {
          "base_uri": "https://localhost:8080/"
        },
        "id": "DUWfYlz34PIW",
        "outputId": "f1c4ffad-68e8-4f73-81cb-935dd1884ef9"
      },
      "outputs": [
        {
          "name": "stdout",
          "output_type": "stream",
          "text": [
            "              precision    recall  f1-score   support\n",
            "\n",
            "    Negative       0.00      0.00      0.00         6\n",
            "     Neutral       0.00      0.00      0.00         3\n",
            "        None       0.99      1.00      0.99      2197\n",
            "    Positive       1.00      0.06      0.11        18\n",
            "\n",
            "    accuracy                           0.99      2224\n",
            "   macro avg       0.50      0.26      0.27      2224\n",
            "weighted avg       0.98      0.99      0.98      2224\n",
            "\n"
          ]
        }
      ],
      "source": [
        "y_true = []\n",
        "y_pred = []\n",
        "\n",
        "key = 'STORAGE'\n",
        "for idx in range(len(true_full_labels)):\n",
        "    y_true.append(true_full_labels[idx][key])\n",
        "    y_pred.append(predictions_on_test[idx][key])\n",
        "\n",
        "report = classification_report(y_true, y_pred)\n",
        "print(report)"
      ]
    },
    {
      "cell_type": "markdown",
      "metadata": {
        "id": "Z4Nd2dqh4PIW"
      },
      "source": [
        "### Đánh giá hiệu suất nhận diện tình cảm của khía cạnh DESIGN"
      ]
    },
    {
      "cell_type": "code",
      "execution_count": 48,
      "metadata": {
        "colab": {
          "base_uri": "https://localhost:8080/"
        },
        "id": "I7T-HK8p4PIW",
        "outputId": "ec923fd2-8c7c-4bde-f39f-0ee4dfcf2708"
      },
      "outputs": [
        {
          "name": "stdout",
          "output_type": "stream",
          "text": [
            "              precision    recall  f1-score   support\n",
            "\n",
            "    Negative       0.59      0.59      0.59        96\n",
            "     Neutral       0.00      0.00      0.00        28\n",
            "        None       0.96      0.98      0.97      1826\n",
            "    Positive       0.89      0.85      0.87       274\n",
            "\n",
            "    accuracy                           0.94      2224\n",
            "   macro avg       0.61      0.61      0.61      2224\n",
            "weighted avg       0.92      0.94      0.93      2224\n",
            "\n"
          ]
        }
      ],
      "source": [
        "y_true = []\n",
        "y_pred = []\n",
        "\n",
        "key = 'DESIGN'\n",
        "for idx in range(len(true_full_labels)):\n",
        "    y_true.append(true_full_labels[idx][key])\n",
        "    y_pred.append(predictions_on_test[idx][key])\n",
        "\n",
        "report = classification_report(y_true, y_pred)\n",
        "print(report)"
      ]
    },
    {
      "cell_type": "markdown",
      "metadata": {
        "id": "KxYdVdZ64PIX"
      },
      "source": [
        "### Đánh giá hiệu suất nhận diện tình cảm của khía cạnh PRICE"
      ]
    },
    {
      "cell_type": "code",
      "execution_count": 49,
      "metadata": {
        "colab": {
          "base_uri": "https://localhost:8080/"
        },
        "id": "E-Lxmsuc4PIX",
        "outputId": "8bca026a-daac-42bf-fca0-a227b3617d2e"
      },
      "outputs": [
        {
          "name": "stdout",
          "output_type": "stream",
          "text": [
            "              precision    recall  f1-score   support\n",
            "\n",
            "    Negative       0.48      0.61      0.54        79\n",
            "     Neutral       0.77      0.78      0.78       328\n",
            "        None       0.98      0.96      0.97      1655\n",
            "    Positive       0.72      0.71      0.71       162\n",
            "\n",
            "    accuracy                           0.90      2224\n",
            "   macro avg       0.74      0.77      0.75      2224\n",
            "weighted avg       0.91      0.90      0.91      2224\n",
            "\n"
          ]
        }
      ],
      "source": [
        "y_true = []\n",
        "y_pred = []\n",
        "\n",
        "key = 'PRICE'\n",
        "for idx in range(len(true_full_labels)):\n",
        "    y_true.append(true_full_labels[idx][key])\n",
        "    y_pred.append(predictions_on_test[idx][key])\n",
        "\n",
        "report = classification_report(y_true, y_pred)\n",
        "print(report)"
      ]
    },
    {
      "cell_type": "markdown",
      "metadata": {
        "id": "iLEr0YiZ4PIX"
      },
      "source": [
        "### Đánh giá hiệu suất nhận diện tình cảm của khía cạnh SER&ACC"
      ]
    },
    {
      "cell_type": "code",
      "execution_count": 50,
      "metadata": {
        "colab": {
          "base_uri": "https://localhost:8080/"
        },
        "id": "GcEIcIo-4PIX",
        "outputId": "147ca0ee-d1da-4376-9532-a8f4ade42068"
      },
      "outputs": [
        {
          "name": "stdout",
          "output_type": "stream",
          "text": [
            "              precision    recall  f1-score   support\n",
            "\n",
            "    Negative       0.56      0.51      0.54       167\n",
            "     Neutral       0.00      0.00      0.00        27\n",
            "        None       0.92      0.95      0.93      1631\n",
            "    Positive       0.89      0.86      0.88       399\n",
            "\n",
            "    accuracy                           0.89      2224\n",
            "   macro avg       0.59      0.58      0.59      2224\n",
            "weighted avg       0.88      0.89      0.88      2224\n",
            "\n"
          ]
        }
      ],
      "source": [
        "y_true = []\n",
        "y_pred = []\n",
        "\n",
        "key = 'SER&ACC'\n",
        "for idx in range(len(true_full_labels)):\n",
        "    y_true.append(true_full_labels[idx][key])\n",
        "    y_pred.append(predictions_on_test[idx][key])\n",
        "\n",
        "report = classification_report(y_true, y_pred)\n",
        "print(report)"
      ]
    }
  ],
  "metadata": {
    "accelerator": "GPU",
    "colab": {
      "gpuType": "T4",
      "provenance": []
    },
    "kernelspec": {
      "display_name": "Python 3",
      "name": "python3"
    },
    "language_info": {
      "codemirror_mode": {
        "name": "ipython",
        "version": 3
      },
      "file_extension": ".py",
      "mimetype": "text/x-python",
      "name": "python",
      "nbconvert_exporter": "python",
      "pygments_lexer": "ipython3",
      "version": "3.10.0"
    },
    "widgets": {
      "application/vnd.jupyter.widget-state+json": {
        "01e1109f8eb347a99db755dd4d047544": {
          "model_module": "@jupyter-widgets/controls",
          "model_module_version": "1.5.0",
          "model_name": "DescriptionStyleModel",
          "state": {
            "_model_module": "@jupyter-widgets/controls",
            "_model_module_version": "1.5.0",
            "_model_name": "DescriptionStyleModel",
            "_view_count": null,
            "_view_module": "@jupyter-widgets/base",
            "_view_module_version": "1.2.0",
            "_view_name": "StyleView",
            "description_width": ""
          }
        },
        "021d4540286940dba43d031a413f60a8": {
          "model_module": "@jupyter-widgets/controls",
          "model_module_version": "1.5.0",
          "model_name": "HTMLModel",
          "state": {
            "_dom_classes": [],
            "_model_module": "@jupyter-widgets/controls",
            "_model_module_version": "1.5.0",
            "_model_name": "HTMLModel",
            "_view_count": null,
            "_view_module": "@jupyter-widgets/controls",
            "_view_module_version": "1.5.0",
            "_view_name": "HTMLView",
            "description": "",
            "description_tooltip": null,
            "layout": "IPY_MODEL_cb92475ae0aa4b0c96a1a84d4b2f1ce8",
            "placeholder": "​",
            "style": "IPY_MODEL_d442ddeb68dc4277a0d56d5215a76a36",
            "value": " 625/625 [00:00&lt;00:00, 40.8kB/s]"
          }
        },
        "077600dccc19495e815cc4dcfee9e941": {
          "model_module": "@jupyter-widgets/controls",
          "model_module_version": "1.5.0",
          "model_name": "HTMLModel",
          "state": {
            "_dom_classes": [],
            "_model_module": "@jupyter-widgets/controls",
            "_model_module_version": "1.5.0",
            "_model_name": "HTMLModel",
            "_view_count": null,
            "_view_module": "@jupyter-widgets/controls",
            "_view_module_version": "1.5.0",
            "_view_name": "HTMLView",
            "description": "",
            "description_tooltip": null,
            "layout": "IPY_MODEL_3c6a8745c9d1496281a22c4de899f472",
            "placeholder": "​",
            "style": "IPY_MODEL_a72070635709497e9e444dcb6713998d",
            "value": " 49.0/49.0 [00:00&lt;00:00, 2.49kB/s]"
          }
        },
        "14b6c59e982a42b0876aa4e0b990305b": {
          "model_module": "@jupyter-widgets/controls",
          "model_module_version": "1.5.0",
          "model_name": "FloatProgressModel",
          "state": {
            "_dom_classes": [],
            "_model_module": "@jupyter-widgets/controls",
            "_model_module_version": "1.5.0",
            "_model_name": "FloatProgressModel",
            "_view_count": null,
            "_view_module": "@jupyter-widgets/controls",
            "_view_module_version": "1.5.0",
            "_view_name": "ProgressView",
            "bar_style": "success",
            "description": "",
            "description_tooltip": null,
            "layout": "IPY_MODEL_90c506cb9f574b71b6b0bed1b2260418",
            "max": 625,
            "min": 0,
            "orientation": "horizontal",
            "style": "IPY_MODEL_68044cd6ac5944cfb075958a1ee33ea3",
            "value": 625
          }
        },
        "2a9a433cd69d429a867a7995866faebd": {
          "model_module": "@jupyter-widgets/controls",
          "model_module_version": "1.5.0",
          "model_name": "FloatProgressModel",
          "state": {
            "_dom_classes": [],
            "_model_module": "@jupyter-widgets/controls",
            "_model_module_version": "1.5.0",
            "_model_name": "FloatProgressModel",
            "_view_count": null,
            "_view_module": "@jupyter-widgets/controls",
            "_view_module_version": "1.5.0",
            "_view_name": "ProgressView",
            "bar_style": "success",
            "description": "",
            "description_tooltip": null,
            "layout": "IPY_MODEL_6deb07cb2b0142ddad8634867cd9c260",
            "max": 714290682,
            "min": 0,
            "orientation": "horizontal",
            "style": "IPY_MODEL_a66274b695b44792868b9a74d7d911b7",
            "value": 714290682
          }
        },
        "3491055221f748478234f47dd74501ff": {
          "model_module": "@jupyter-widgets/controls",
          "model_module_version": "1.5.0",
          "model_name": "HTMLModel",
          "state": {
            "_dom_classes": [],
            "_model_module": "@jupyter-widgets/controls",
            "_model_module_version": "1.5.0",
            "_model_name": "HTMLModel",
            "_view_count": null,
            "_view_module": "@jupyter-widgets/controls",
            "_view_module_version": "1.5.0",
            "_view_name": "HTMLView",
            "description": "",
            "description_tooltip": null,
            "layout": "IPY_MODEL_3ae9ff51c09948b4985e1c0798b2e703",
            "placeholder": "​",
            "style": "IPY_MODEL_01e1109f8eb347a99db755dd4d047544",
            "value": " 1.96M/1.96M [00:00&lt;00:00, 4.61MB/s]"
          }
        },
        "374718cb17904946a88c657e426502b0": {
          "model_module": "@jupyter-widgets/controls",
          "model_module_version": "1.5.0",
          "model_name": "HTMLModel",
          "state": {
            "_dom_classes": [],
            "_model_module": "@jupyter-widgets/controls",
            "_model_module_version": "1.5.0",
            "_model_name": "HTMLModel",
            "_view_count": null,
            "_view_module": "@jupyter-widgets/controls",
            "_view_module_version": "1.5.0",
            "_view_name": "HTMLView",
            "description": "",
            "description_tooltip": null,
            "layout": "IPY_MODEL_deb37628bae24df4b5c25eaf01df7146",
            "placeholder": "​",
            "style": "IPY_MODEL_7d95b24d4dc346d2a53b9aac03b15cf7",
            "value": "model.safetensors: 100%"
          }
        },
        "3ae9ff51c09948b4985e1c0798b2e703": {
          "model_module": "@jupyter-widgets/base",
          "model_module_version": "1.2.0",
          "model_name": "LayoutModel",
          "state": {
            "_model_module": "@jupyter-widgets/base",
            "_model_module_version": "1.2.0",
            "_model_name": "LayoutModel",
            "_view_count": null,
            "_view_module": "@jupyter-widgets/base",
            "_view_module_version": "1.2.0",
            "_view_name": "LayoutView",
            "align_content": null,
            "align_items": null,
            "align_self": null,
            "border": null,
            "bottom": null,
            "display": null,
            "flex": null,
            "flex_flow": null,
            "grid_area": null,
            "grid_auto_columns": null,
            "grid_auto_flow": null,
            "grid_auto_rows": null,
            "grid_column": null,
            "grid_gap": null,
            "grid_row": null,
            "grid_template_areas": null,
            "grid_template_columns": null,
            "grid_template_rows": null,
            "height": null,
            "justify_content": null,
            "justify_items": null,
            "left": null,
            "margin": null,
            "max_height": null,
            "max_width": null,
            "min_height": null,
            "min_width": null,
            "object_fit": null,
            "object_position": null,
            "order": null,
            "overflow": null,
            "overflow_x": null,
            "overflow_y": null,
            "padding": null,
            "right": null,
            "top": null,
            "visibility": null,
            "width": null
          }
        },
        "3c6a8745c9d1496281a22c4de899f472": {
          "model_module": "@jupyter-widgets/base",
          "model_module_version": "1.2.0",
          "model_name": "LayoutModel",
          "state": {
            "_model_module": "@jupyter-widgets/base",
            "_model_module_version": "1.2.0",
            "_model_name": "LayoutModel",
            "_view_count": null,
            "_view_module": "@jupyter-widgets/base",
            "_view_module_version": "1.2.0",
            "_view_name": "LayoutView",
            "align_content": null,
            "align_items": null,
            "align_self": null,
            "border": null,
            "bottom": null,
            "display": null,
            "flex": null,
            "flex_flow": null,
            "grid_area": null,
            "grid_auto_columns": null,
            "grid_auto_flow": null,
            "grid_auto_rows": null,
            "grid_column": null,
            "grid_gap": null,
            "grid_row": null,
            "grid_template_areas": null,
            "grid_template_columns": null,
            "grid_template_rows": null,
            "height": null,
            "justify_content": null,
            "justify_items": null,
            "left": null,
            "margin": null,
            "max_height": null,
            "max_width": null,
            "min_height": null,
            "min_width": null,
            "object_fit": null,
            "object_position": null,
            "order": null,
            "overflow": null,
            "overflow_x": null,
            "overflow_y": null,
            "padding": null,
            "right": null,
            "top": null,
            "visibility": null,
            "width": null
          }
        },
        "3e4bcd0b5a9846d1b8637c937cbb6a03": {
          "model_module": "@jupyter-widgets/controls",
          "model_module_version": "1.5.0",
          "model_name": "HBoxModel",
          "state": {
            "_dom_classes": [],
            "_model_module": "@jupyter-widgets/controls",
            "_model_module_version": "1.5.0",
            "_model_name": "HBoxModel",
            "_view_count": null,
            "_view_module": "@jupyter-widgets/controls",
            "_view_module_version": "1.5.0",
            "_view_name": "HBoxView",
            "box_style": "",
            "children": [
              "IPY_MODEL_374718cb17904946a88c657e426502b0",
              "IPY_MODEL_2a9a433cd69d429a867a7995866faebd",
              "IPY_MODEL_8f7fe85241954e7cb2f3b6e7b36306ea"
            ],
            "layout": "IPY_MODEL_e75edf76eb894ae29a083939ff09fdc7"
          }
        },
        "3ee5f05a70f54be18738c0507e377970": {
          "model_module": "@jupyter-widgets/controls",
          "model_module_version": "1.5.0",
          "model_name": "DescriptionStyleModel",
          "state": {
            "_model_module": "@jupyter-widgets/controls",
            "_model_module_version": "1.5.0",
            "_model_name": "DescriptionStyleModel",
            "_view_count": null,
            "_view_module": "@jupyter-widgets/base",
            "_view_module_version": "1.2.0",
            "_view_name": "StyleView",
            "description_width": ""
          }
        },
        "4385b86d2aa34656bd8817b52394d7a6": {
          "model_module": "@jupyter-widgets/controls",
          "model_module_version": "1.5.0",
          "model_name": "ProgressStyleModel",
          "state": {
            "_model_module": "@jupyter-widgets/controls",
            "_model_module_version": "1.5.0",
            "_model_name": "ProgressStyleModel",
            "_view_count": null,
            "_view_module": "@jupyter-widgets/base",
            "_view_module_version": "1.2.0",
            "_view_name": "StyleView",
            "bar_color": null,
            "description_width": ""
          }
        },
        "554bdbe977ab4965b5cda95d9765e404": {
          "model_module": "@jupyter-widgets/controls",
          "model_module_version": "1.5.0",
          "model_name": "ProgressStyleModel",
          "state": {
            "_model_module": "@jupyter-widgets/controls",
            "_model_module_version": "1.5.0",
            "_model_name": "ProgressStyleModel",
            "_view_count": null,
            "_view_module": "@jupyter-widgets/base",
            "_view_module_version": "1.2.0",
            "_view_name": "StyleView",
            "bar_color": null,
            "description_width": ""
          }
        },
        "5756d0367c30460bbba232cf0b798162": {
          "model_module": "@jupyter-widgets/base",
          "model_module_version": "1.2.0",
          "model_name": "LayoutModel",
          "state": {
            "_model_module": "@jupyter-widgets/base",
            "_model_module_version": "1.2.0",
            "_model_name": "LayoutModel",
            "_view_count": null,
            "_view_module": "@jupyter-widgets/base",
            "_view_module_version": "1.2.0",
            "_view_name": "LayoutView",
            "align_content": null,
            "align_items": null,
            "align_self": null,
            "border": null,
            "bottom": null,
            "display": null,
            "flex": null,
            "flex_flow": null,
            "grid_area": null,
            "grid_auto_columns": null,
            "grid_auto_flow": null,
            "grid_auto_rows": null,
            "grid_column": null,
            "grid_gap": null,
            "grid_row": null,
            "grid_template_areas": null,
            "grid_template_columns": null,
            "grid_template_rows": null,
            "height": null,
            "justify_content": null,
            "justify_items": null,
            "left": null,
            "margin": null,
            "max_height": null,
            "max_width": null,
            "min_height": null,
            "min_width": null,
            "object_fit": null,
            "object_position": null,
            "order": null,
            "overflow": null,
            "overflow_x": null,
            "overflow_y": null,
            "padding": null,
            "right": null,
            "top": null,
            "visibility": null,
            "width": null
          }
        },
        "58588574260e4ad6bf774e2cfec84256": {
          "model_module": "@jupyter-widgets/controls",
          "model_module_version": "1.5.0",
          "model_name": "HBoxModel",
          "state": {
            "_dom_classes": [],
            "_model_module": "@jupyter-widgets/controls",
            "_model_module_version": "1.5.0",
            "_model_name": "HBoxModel",
            "_view_count": null,
            "_view_module": "@jupyter-widgets/controls",
            "_view_module_version": "1.5.0",
            "_view_name": "HBoxView",
            "box_style": "",
            "children": [
              "IPY_MODEL_d35c6e8f60cd4e4aaf43ae52134840e8",
              "IPY_MODEL_844ab9e14d32419fbdc1aa596109d751",
              "IPY_MODEL_e133adb164994158b067f708fc13c5d1"
            ],
            "layout": "IPY_MODEL_b44430fb301b4cb88f8c8c6a03e97ad0"
          }
        },
        "5d0f428d9eb44f85a0bb7c6d88cc09b9": {
          "model_module": "@jupyter-widgets/controls",
          "model_module_version": "1.5.0",
          "model_name": "HTMLModel",
          "state": {
            "_dom_classes": [],
            "_model_module": "@jupyter-widgets/controls",
            "_model_module_version": "1.5.0",
            "_model_name": "HTMLModel",
            "_view_count": null,
            "_view_module": "@jupyter-widgets/controls",
            "_view_module_version": "1.5.0",
            "_view_name": "HTMLView",
            "description": "",
            "description_tooltip": null,
            "layout": "IPY_MODEL_ba3a072523254408b331434fd256b58a",
            "placeholder": "​",
            "style": "IPY_MODEL_3ee5f05a70f54be18738c0507e377970",
            "value": "tokenizer_config.json: 100%"
          }
        },
        "662cd83d48ef46628450a3d55e84ead7": {
          "model_module": "@jupyter-widgets/base",
          "model_module_version": "1.2.0",
          "model_name": "LayoutModel",
          "state": {
            "_model_module": "@jupyter-widgets/base",
            "_model_module_version": "1.2.0",
            "_model_name": "LayoutModel",
            "_view_count": null,
            "_view_module": "@jupyter-widgets/base",
            "_view_module_version": "1.2.0",
            "_view_name": "LayoutView",
            "align_content": null,
            "align_items": null,
            "align_self": null,
            "border": null,
            "bottom": null,
            "display": null,
            "flex": null,
            "flex_flow": null,
            "grid_area": null,
            "grid_auto_columns": null,
            "grid_auto_flow": null,
            "grid_auto_rows": null,
            "grid_column": null,
            "grid_gap": null,
            "grid_row": null,
            "grid_template_areas": null,
            "grid_template_columns": null,
            "grid_template_rows": null,
            "height": null,
            "justify_content": null,
            "justify_items": null,
            "left": null,
            "margin": null,
            "max_height": null,
            "max_width": null,
            "min_height": null,
            "min_width": null,
            "object_fit": null,
            "object_position": null,
            "order": null,
            "overflow": null,
            "overflow_x": null,
            "overflow_y": null,
            "padding": null,
            "right": null,
            "top": null,
            "visibility": null,
            "width": null
          }
        },
        "68044cd6ac5944cfb075958a1ee33ea3": {
          "model_module": "@jupyter-widgets/controls",
          "model_module_version": "1.5.0",
          "model_name": "ProgressStyleModel",
          "state": {
            "_model_module": "@jupyter-widgets/controls",
            "_model_module_version": "1.5.0",
            "_model_name": "ProgressStyleModel",
            "_view_count": null,
            "_view_module": "@jupyter-widgets/base",
            "_view_module_version": "1.2.0",
            "_view_name": "StyleView",
            "bar_color": null,
            "description_width": ""
          }
        },
        "6deb07cb2b0142ddad8634867cd9c260": {
          "model_module": "@jupyter-widgets/base",
          "model_module_version": "1.2.0",
          "model_name": "LayoutModel",
          "state": {
            "_model_module": "@jupyter-widgets/base",
            "_model_module_version": "1.2.0",
            "_model_name": "LayoutModel",
            "_view_count": null,
            "_view_module": "@jupyter-widgets/base",
            "_view_module_version": "1.2.0",
            "_view_name": "LayoutView",
            "align_content": null,
            "align_items": null,
            "align_self": null,
            "border": null,
            "bottom": null,
            "display": null,
            "flex": null,
            "flex_flow": null,
            "grid_area": null,
            "grid_auto_columns": null,
            "grid_auto_flow": null,
            "grid_auto_rows": null,
            "grid_column": null,
            "grid_gap": null,
            "grid_row": null,
            "grid_template_areas": null,
            "grid_template_columns": null,
            "grid_template_rows": null,
            "height": null,
            "justify_content": null,
            "justify_items": null,
            "left": null,
            "margin": null,
            "max_height": null,
            "max_width": null,
            "min_height": null,
            "min_width": null,
            "object_fit": null,
            "object_position": null,
            "order": null,
            "overflow": null,
            "overflow_x": null,
            "overflow_y": null,
            "padding": null,
            "right": null,
            "top": null,
            "visibility": null,
            "width": null
          }
        },
        "7d78e0f19d714ef8ba2f453be9e78bba": {
          "model_module": "@jupyter-widgets/controls",
          "model_module_version": "1.5.0",
          "model_name": "DescriptionStyleModel",
          "state": {
            "_model_module": "@jupyter-widgets/controls",
            "_model_module_version": "1.5.0",
            "_model_name": "DescriptionStyleModel",
            "_view_count": null,
            "_view_module": "@jupyter-widgets/base",
            "_view_module_version": "1.2.0",
            "_view_name": "StyleView",
            "description_width": ""
          }
        },
        "7d95b24d4dc346d2a53b9aac03b15cf7": {
          "model_module": "@jupyter-widgets/controls",
          "model_module_version": "1.5.0",
          "model_name": "DescriptionStyleModel",
          "state": {
            "_model_module": "@jupyter-widgets/controls",
            "_model_module_version": "1.5.0",
            "_model_name": "DescriptionStyleModel",
            "_view_count": null,
            "_view_module": "@jupyter-widgets/base",
            "_view_module_version": "1.2.0",
            "_view_name": "StyleView",
            "description_width": ""
          }
        },
        "7e7ae64a14e14b159028ae9413165fc9": {
          "model_module": "@jupyter-widgets/base",
          "model_module_version": "1.2.0",
          "model_name": "LayoutModel",
          "state": {
            "_model_module": "@jupyter-widgets/base",
            "_model_module_version": "1.2.0",
            "_model_name": "LayoutModel",
            "_view_count": null,
            "_view_module": "@jupyter-widgets/base",
            "_view_module_version": "1.2.0",
            "_view_name": "LayoutView",
            "align_content": null,
            "align_items": null,
            "align_self": null,
            "border": null,
            "bottom": null,
            "display": null,
            "flex": null,
            "flex_flow": null,
            "grid_area": null,
            "grid_auto_columns": null,
            "grid_auto_flow": null,
            "grid_auto_rows": null,
            "grid_column": null,
            "grid_gap": null,
            "grid_row": null,
            "grid_template_areas": null,
            "grid_template_columns": null,
            "grid_template_rows": null,
            "height": null,
            "justify_content": null,
            "justify_items": null,
            "left": null,
            "margin": null,
            "max_height": null,
            "max_width": null,
            "min_height": null,
            "min_width": null,
            "object_fit": null,
            "object_position": null,
            "order": null,
            "overflow": null,
            "overflow_x": null,
            "overflow_y": null,
            "padding": null,
            "right": null,
            "top": null,
            "visibility": null,
            "width": null
          }
        },
        "7ff7dccfc5c04e3c8317042d4292e1db": {
          "model_module": "@jupyter-widgets/base",
          "model_module_version": "1.2.0",
          "model_name": "LayoutModel",
          "state": {
            "_model_module": "@jupyter-widgets/base",
            "_model_module_version": "1.2.0",
            "_model_name": "LayoutModel",
            "_view_count": null,
            "_view_module": "@jupyter-widgets/base",
            "_view_module_version": "1.2.0",
            "_view_name": "LayoutView",
            "align_content": null,
            "align_items": null,
            "align_self": null,
            "border": null,
            "bottom": null,
            "display": null,
            "flex": null,
            "flex_flow": null,
            "grid_area": null,
            "grid_auto_columns": null,
            "grid_auto_flow": null,
            "grid_auto_rows": null,
            "grid_column": null,
            "grid_gap": null,
            "grid_row": null,
            "grid_template_areas": null,
            "grid_template_columns": null,
            "grid_template_rows": null,
            "height": null,
            "justify_content": null,
            "justify_items": null,
            "left": null,
            "margin": null,
            "max_height": null,
            "max_width": null,
            "min_height": null,
            "min_width": null,
            "object_fit": null,
            "object_position": null,
            "order": null,
            "overflow": null,
            "overflow_x": null,
            "overflow_y": null,
            "padding": null,
            "right": null,
            "top": null,
            "visibility": null,
            "width": null
          }
        },
        "844ab9e14d32419fbdc1aa596109d751": {
          "model_module": "@jupyter-widgets/controls",
          "model_module_version": "1.5.0",
          "model_name": "FloatProgressModel",
          "state": {
            "_dom_classes": [],
            "_model_module": "@jupyter-widgets/controls",
            "_model_module_version": "1.5.0",
            "_model_name": "FloatProgressModel",
            "_view_count": null,
            "_view_module": "@jupyter-widgets/controls",
            "_view_module_version": "1.5.0",
            "_view_name": "ProgressView",
            "bar_style": "success",
            "description": "",
            "description_tooltip": null,
            "layout": "IPY_MODEL_662cd83d48ef46628450a3d55e84ead7",
            "max": 995526,
            "min": 0,
            "orientation": "horizontal",
            "style": "IPY_MODEL_4385b86d2aa34656bd8817b52394d7a6",
            "value": 995526
          }
        },
        "89f31c67364f4c28a79c5ebec19f1f35": {
          "model_module": "@jupyter-widgets/base",
          "model_module_version": "1.2.0",
          "model_name": "LayoutModel",
          "state": {
            "_model_module": "@jupyter-widgets/base",
            "_model_module_version": "1.2.0",
            "_model_name": "LayoutModel",
            "_view_count": null,
            "_view_module": "@jupyter-widgets/base",
            "_view_module_version": "1.2.0",
            "_view_name": "LayoutView",
            "align_content": null,
            "align_items": null,
            "align_self": null,
            "border": null,
            "bottom": null,
            "display": null,
            "flex": null,
            "flex_flow": null,
            "grid_area": null,
            "grid_auto_columns": null,
            "grid_auto_flow": null,
            "grid_auto_rows": null,
            "grid_column": null,
            "grid_gap": null,
            "grid_row": null,
            "grid_template_areas": null,
            "grid_template_columns": null,
            "grid_template_rows": null,
            "height": null,
            "justify_content": null,
            "justify_items": null,
            "left": null,
            "margin": null,
            "max_height": null,
            "max_width": null,
            "min_height": null,
            "min_width": null,
            "object_fit": null,
            "object_position": null,
            "order": null,
            "overflow": null,
            "overflow_x": null,
            "overflow_y": null,
            "padding": null,
            "right": null,
            "top": null,
            "visibility": null,
            "width": null
          }
        },
        "8c73873278a74f9c89050437c5a4567e": {
          "model_module": "@jupyter-widgets/controls",
          "model_module_version": "1.5.0",
          "model_name": "HTMLModel",
          "state": {
            "_dom_classes": [],
            "_model_module": "@jupyter-widgets/controls",
            "_model_module_version": "1.5.0",
            "_model_name": "HTMLModel",
            "_view_count": null,
            "_view_module": "@jupyter-widgets/controls",
            "_view_module_version": "1.5.0",
            "_view_name": "HTMLView",
            "description": "",
            "description_tooltip": null,
            "layout": "IPY_MODEL_9d4302f8fd9241889f5e15fdddc7015c",
            "placeholder": "​",
            "style": "IPY_MODEL_e7bdb9eada7d4de98d4bbeed2d36307f",
            "value": "tokenizer.json: 100%"
          }
        },
        "8f7fe85241954e7cb2f3b6e7b36306ea": {
          "model_module": "@jupyter-widgets/controls",
          "model_module_version": "1.5.0",
          "model_name": "HTMLModel",
          "state": {
            "_dom_classes": [],
            "_model_module": "@jupyter-widgets/controls",
            "_model_module_version": "1.5.0",
            "_model_name": "HTMLModel",
            "_view_count": null,
            "_view_module": "@jupyter-widgets/controls",
            "_view_module_version": "1.5.0",
            "_view_name": "HTMLView",
            "description": "",
            "description_tooltip": null,
            "layout": "IPY_MODEL_7ff7dccfc5c04e3c8317042d4292e1db",
            "placeholder": "​",
            "style": "IPY_MODEL_b105dc75c72d4b2f8755c5ef2c880acd",
            "value": " 714M/714M [00:06&lt;00:00, 194MB/s]"
          }
        },
        "90a0a67f0fac4e6f97885cf5d66eb304": {
          "model_module": "@jupyter-widgets/controls",
          "model_module_version": "1.5.0",
          "model_name": "DescriptionStyleModel",
          "state": {
            "_model_module": "@jupyter-widgets/controls",
            "_model_module_version": "1.5.0",
            "_model_name": "DescriptionStyleModel",
            "_view_count": null,
            "_view_module": "@jupyter-widgets/base",
            "_view_module_version": "1.2.0",
            "_view_name": "StyleView",
            "description_width": ""
          }
        },
        "90c506cb9f574b71b6b0bed1b2260418": {
          "model_module": "@jupyter-widgets/base",
          "model_module_version": "1.2.0",
          "model_name": "LayoutModel",
          "state": {
            "_model_module": "@jupyter-widgets/base",
            "_model_module_version": "1.2.0",
            "_model_name": "LayoutModel",
            "_view_count": null,
            "_view_module": "@jupyter-widgets/base",
            "_view_module_version": "1.2.0",
            "_view_name": "LayoutView",
            "align_content": null,
            "align_items": null,
            "align_self": null,
            "border": null,
            "bottom": null,
            "display": null,
            "flex": null,
            "flex_flow": null,
            "grid_area": null,
            "grid_auto_columns": null,
            "grid_auto_flow": null,
            "grid_auto_rows": null,
            "grid_column": null,
            "grid_gap": null,
            "grid_row": null,
            "grid_template_areas": null,
            "grid_template_columns": null,
            "grid_template_rows": null,
            "height": null,
            "justify_content": null,
            "justify_items": null,
            "left": null,
            "margin": null,
            "max_height": null,
            "max_width": null,
            "min_height": null,
            "min_width": null,
            "object_fit": null,
            "object_position": null,
            "order": null,
            "overflow": null,
            "overflow_x": null,
            "overflow_y": null,
            "padding": null,
            "right": null,
            "top": null,
            "visibility": null,
            "width": null
          }
        },
        "9a0138c1001143e789b6060ea37823a2": {
          "model_module": "@jupyter-widgets/controls",
          "model_module_version": "1.5.0",
          "model_name": "FloatProgressModel",
          "state": {
            "_dom_classes": [],
            "_model_module": "@jupyter-widgets/controls",
            "_model_module_version": "1.5.0",
            "_model_name": "FloatProgressModel",
            "_view_count": null,
            "_view_module": "@jupyter-widgets/controls",
            "_view_module_version": "1.5.0",
            "_view_name": "ProgressView",
            "bar_style": "success",
            "description": "",
            "description_tooltip": null,
            "layout": "IPY_MODEL_89f31c67364f4c28a79c5ebec19f1f35",
            "max": 1961828,
            "min": 0,
            "orientation": "horizontal",
            "style": "IPY_MODEL_b39d7759e3fd42169ab6fcdf7aeecdaa",
            "value": 1961828
          }
        },
        "9cdca56e8cc84c8cb7f7be2941ada21c": {
          "model_module": "@jupyter-widgets/controls",
          "model_module_version": "1.5.0",
          "model_name": "DescriptionStyleModel",
          "state": {
            "_model_module": "@jupyter-widgets/controls",
            "_model_module_version": "1.5.0",
            "_model_name": "DescriptionStyleModel",
            "_view_count": null,
            "_view_module": "@jupyter-widgets/base",
            "_view_module_version": "1.2.0",
            "_view_name": "StyleView",
            "description_width": ""
          }
        },
        "9d4302f8fd9241889f5e15fdddc7015c": {
          "model_module": "@jupyter-widgets/base",
          "model_module_version": "1.2.0",
          "model_name": "LayoutModel",
          "state": {
            "_model_module": "@jupyter-widgets/base",
            "_model_module_version": "1.2.0",
            "_model_name": "LayoutModel",
            "_view_count": null,
            "_view_module": "@jupyter-widgets/base",
            "_view_module_version": "1.2.0",
            "_view_name": "LayoutView",
            "align_content": null,
            "align_items": null,
            "align_self": null,
            "border": null,
            "bottom": null,
            "display": null,
            "flex": null,
            "flex_flow": null,
            "grid_area": null,
            "grid_auto_columns": null,
            "grid_auto_flow": null,
            "grid_auto_rows": null,
            "grid_column": null,
            "grid_gap": null,
            "grid_row": null,
            "grid_template_areas": null,
            "grid_template_columns": null,
            "grid_template_rows": null,
            "height": null,
            "justify_content": null,
            "justify_items": null,
            "left": null,
            "margin": null,
            "max_height": null,
            "max_width": null,
            "min_height": null,
            "min_width": null,
            "object_fit": null,
            "object_position": null,
            "order": null,
            "overflow": null,
            "overflow_x": null,
            "overflow_y": null,
            "padding": null,
            "right": null,
            "top": null,
            "visibility": null,
            "width": null
          }
        },
        "a64d07c18a5a4e318a90b8d5674e0db8": {
          "model_module": "@jupyter-widgets/base",
          "model_module_version": "1.2.0",
          "model_name": "LayoutModel",
          "state": {
            "_model_module": "@jupyter-widgets/base",
            "_model_module_version": "1.2.0",
            "_model_name": "LayoutModel",
            "_view_count": null,
            "_view_module": "@jupyter-widgets/base",
            "_view_module_version": "1.2.0",
            "_view_name": "LayoutView",
            "align_content": null,
            "align_items": null,
            "align_self": null,
            "border": null,
            "bottom": null,
            "display": null,
            "flex": null,
            "flex_flow": null,
            "grid_area": null,
            "grid_auto_columns": null,
            "grid_auto_flow": null,
            "grid_auto_rows": null,
            "grid_column": null,
            "grid_gap": null,
            "grid_row": null,
            "grid_template_areas": null,
            "grid_template_columns": null,
            "grid_template_rows": null,
            "height": null,
            "justify_content": null,
            "justify_items": null,
            "left": null,
            "margin": null,
            "max_height": null,
            "max_width": null,
            "min_height": null,
            "min_width": null,
            "object_fit": null,
            "object_position": null,
            "order": null,
            "overflow": null,
            "overflow_x": null,
            "overflow_y": null,
            "padding": null,
            "right": null,
            "top": null,
            "visibility": null,
            "width": null
          }
        },
        "a66274b695b44792868b9a74d7d911b7": {
          "model_module": "@jupyter-widgets/controls",
          "model_module_version": "1.5.0",
          "model_name": "ProgressStyleModel",
          "state": {
            "_model_module": "@jupyter-widgets/controls",
            "_model_module_version": "1.5.0",
            "_model_name": "ProgressStyleModel",
            "_view_count": null,
            "_view_module": "@jupyter-widgets/base",
            "_view_module_version": "1.2.0",
            "_view_name": "StyleView",
            "bar_color": null,
            "description_width": ""
          }
        },
        "a72070635709497e9e444dcb6713998d": {
          "model_module": "@jupyter-widgets/controls",
          "model_module_version": "1.5.0",
          "model_name": "DescriptionStyleModel",
          "state": {
            "_model_module": "@jupyter-widgets/controls",
            "_model_module_version": "1.5.0",
            "_model_name": "DescriptionStyleModel",
            "_view_count": null,
            "_view_module": "@jupyter-widgets/base",
            "_view_module_version": "1.2.0",
            "_view_name": "StyleView",
            "description_width": ""
          }
        },
        "afa10aac852e4474beaf11e7026d6a85": {
          "model_module": "@jupyter-widgets/controls",
          "model_module_version": "1.5.0",
          "model_name": "HTMLModel",
          "state": {
            "_dom_classes": [],
            "_model_module": "@jupyter-widgets/controls",
            "_model_module_version": "1.5.0",
            "_model_name": "HTMLModel",
            "_view_count": null,
            "_view_module": "@jupyter-widgets/controls",
            "_view_module_version": "1.5.0",
            "_view_name": "HTMLView",
            "description": "",
            "description_tooltip": null,
            "layout": "IPY_MODEL_a64d07c18a5a4e318a90b8d5674e0db8",
            "placeholder": "​",
            "style": "IPY_MODEL_90a0a67f0fac4e6f97885cf5d66eb304",
            "value": "config.json: 100%"
          }
        },
        "b105dc75c72d4b2f8755c5ef2c880acd": {
          "model_module": "@jupyter-widgets/controls",
          "model_module_version": "1.5.0",
          "model_name": "DescriptionStyleModel",
          "state": {
            "_model_module": "@jupyter-widgets/controls",
            "_model_module_version": "1.5.0",
            "_model_name": "DescriptionStyleModel",
            "_view_count": null,
            "_view_module": "@jupyter-widgets/base",
            "_view_module_version": "1.2.0",
            "_view_name": "StyleView",
            "description_width": ""
          }
        },
        "b39d7759e3fd42169ab6fcdf7aeecdaa": {
          "model_module": "@jupyter-widgets/controls",
          "model_module_version": "1.5.0",
          "model_name": "ProgressStyleModel",
          "state": {
            "_model_module": "@jupyter-widgets/controls",
            "_model_module_version": "1.5.0",
            "_model_name": "ProgressStyleModel",
            "_view_count": null,
            "_view_module": "@jupyter-widgets/base",
            "_view_module_version": "1.2.0",
            "_view_name": "StyleView",
            "bar_color": null,
            "description_width": ""
          }
        },
        "b44430fb301b4cb88f8c8c6a03e97ad0": {
          "model_module": "@jupyter-widgets/base",
          "model_module_version": "1.2.0",
          "model_name": "LayoutModel",
          "state": {
            "_model_module": "@jupyter-widgets/base",
            "_model_module_version": "1.2.0",
            "_model_name": "LayoutModel",
            "_view_count": null,
            "_view_module": "@jupyter-widgets/base",
            "_view_module_version": "1.2.0",
            "_view_name": "LayoutView",
            "align_content": null,
            "align_items": null,
            "align_self": null,
            "border": null,
            "bottom": null,
            "display": null,
            "flex": null,
            "flex_flow": null,
            "grid_area": null,
            "grid_auto_columns": null,
            "grid_auto_flow": null,
            "grid_auto_rows": null,
            "grid_column": null,
            "grid_gap": null,
            "grid_row": null,
            "grid_template_areas": null,
            "grid_template_columns": null,
            "grid_template_rows": null,
            "height": null,
            "justify_content": null,
            "justify_items": null,
            "left": null,
            "margin": null,
            "max_height": null,
            "max_width": null,
            "min_height": null,
            "min_width": null,
            "object_fit": null,
            "object_position": null,
            "order": null,
            "overflow": null,
            "overflow_x": null,
            "overflow_y": null,
            "padding": null,
            "right": null,
            "top": null,
            "visibility": null,
            "width": null
          }
        },
        "ba3a072523254408b331434fd256b58a": {
          "model_module": "@jupyter-widgets/base",
          "model_module_version": "1.2.0",
          "model_name": "LayoutModel",
          "state": {
            "_model_module": "@jupyter-widgets/base",
            "_model_module_version": "1.2.0",
            "_model_name": "LayoutModel",
            "_view_count": null,
            "_view_module": "@jupyter-widgets/base",
            "_view_module_version": "1.2.0",
            "_view_name": "LayoutView",
            "align_content": null,
            "align_items": null,
            "align_self": null,
            "border": null,
            "bottom": null,
            "display": null,
            "flex": null,
            "flex_flow": null,
            "grid_area": null,
            "grid_auto_columns": null,
            "grid_auto_flow": null,
            "grid_auto_rows": null,
            "grid_column": null,
            "grid_gap": null,
            "grid_row": null,
            "grid_template_areas": null,
            "grid_template_columns": null,
            "grid_template_rows": null,
            "height": null,
            "justify_content": null,
            "justify_items": null,
            "left": null,
            "margin": null,
            "max_height": null,
            "max_width": null,
            "min_height": null,
            "min_width": null,
            "object_fit": null,
            "object_position": null,
            "order": null,
            "overflow": null,
            "overflow_x": null,
            "overflow_y": null,
            "padding": null,
            "right": null,
            "top": null,
            "visibility": null,
            "width": null
          }
        },
        "ba9816b93bc24b30a206f00fe54c6e03": {
          "model_module": "@jupyter-widgets/base",
          "model_module_version": "1.2.0",
          "model_name": "LayoutModel",
          "state": {
            "_model_module": "@jupyter-widgets/base",
            "_model_module_version": "1.2.0",
            "_model_name": "LayoutModel",
            "_view_count": null,
            "_view_module": "@jupyter-widgets/base",
            "_view_module_version": "1.2.0",
            "_view_name": "LayoutView",
            "align_content": null,
            "align_items": null,
            "align_self": null,
            "border": null,
            "bottom": null,
            "display": null,
            "flex": null,
            "flex_flow": null,
            "grid_area": null,
            "grid_auto_columns": null,
            "grid_auto_flow": null,
            "grid_auto_rows": null,
            "grid_column": null,
            "grid_gap": null,
            "grid_row": null,
            "grid_template_areas": null,
            "grid_template_columns": null,
            "grid_template_rows": null,
            "height": null,
            "justify_content": null,
            "justify_items": null,
            "left": null,
            "margin": null,
            "max_height": null,
            "max_width": null,
            "min_height": null,
            "min_width": null,
            "object_fit": null,
            "object_position": null,
            "order": null,
            "overflow": null,
            "overflow_x": null,
            "overflow_y": null,
            "padding": null,
            "right": null,
            "top": null,
            "visibility": null,
            "width": null
          }
        },
        "be12ba35410f43bfa75594ed7121964f": {
          "model_module": "@jupyter-widgets/base",
          "model_module_version": "1.2.0",
          "model_name": "LayoutModel",
          "state": {
            "_model_module": "@jupyter-widgets/base",
            "_model_module_version": "1.2.0",
            "_model_name": "LayoutModel",
            "_view_count": null,
            "_view_module": "@jupyter-widgets/base",
            "_view_module_version": "1.2.0",
            "_view_name": "LayoutView",
            "align_content": null,
            "align_items": null,
            "align_self": null,
            "border": null,
            "bottom": null,
            "display": null,
            "flex": null,
            "flex_flow": null,
            "grid_area": null,
            "grid_auto_columns": null,
            "grid_auto_flow": null,
            "grid_auto_rows": null,
            "grid_column": null,
            "grid_gap": null,
            "grid_row": null,
            "grid_template_areas": null,
            "grid_template_columns": null,
            "grid_template_rows": null,
            "height": null,
            "justify_content": null,
            "justify_items": null,
            "left": null,
            "margin": null,
            "max_height": null,
            "max_width": null,
            "min_height": null,
            "min_width": null,
            "object_fit": null,
            "object_position": null,
            "order": null,
            "overflow": null,
            "overflow_x": null,
            "overflow_y": null,
            "padding": null,
            "right": null,
            "top": null,
            "visibility": null,
            "width": null
          }
        },
        "c02f28d9f43842b48faf847361d304a3": {
          "model_module": "@jupyter-widgets/base",
          "model_module_version": "1.2.0",
          "model_name": "LayoutModel",
          "state": {
            "_model_module": "@jupyter-widgets/base",
            "_model_module_version": "1.2.0",
            "_model_name": "LayoutModel",
            "_view_count": null,
            "_view_module": "@jupyter-widgets/base",
            "_view_module_version": "1.2.0",
            "_view_name": "LayoutView",
            "align_content": null,
            "align_items": null,
            "align_self": null,
            "border": null,
            "bottom": null,
            "display": null,
            "flex": null,
            "flex_flow": null,
            "grid_area": null,
            "grid_auto_columns": null,
            "grid_auto_flow": null,
            "grid_auto_rows": null,
            "grid_column": null,
            "grid_gap": null,
            "grid_row": null,
            "grid_template_areas": null,
            "grid_template_columns": null,
            "grid_template_rows": null,
            "height": null,
            "justify_content": null,
            "justify_items": null,
            "left": null,
            "margin": null,
            "max_height": null,
            "max_width": null,
            "min_height": null,
            "min_width": null,
            "object_fit": null,
            "object_position": null,
            "order": null,
            "overflow": null,
            "overflow_x": null,
            "overflow_y": null,
            "padding": null,
            "right": null,
            "top": null,
            "visibility": null,
            "width": null
          }
        },
        "c3432c42b4f441c5a3bb44429f9cd896": {
          "model_module": "@jupyter-widgets/controls",
          "model_module_version": "1.5.0",
          "model_name": "HBoxModel",
          "state": {
            "_dom_classes": [],
            "_model_module": "@jupyter-widgets/controls",
            "_model_module_version": "1.5.0",
            "_model_name": "HBoxModel",
            "_view_count": null,
            "_view_module": "@jupyter-widgets/controls",
            "_view_module_version": "1.5.0",
            "_view_name": "HBoxView",
            "box_style": "",
            "children": [
              "IPY_MODEL_afa10aac852e4474beaf11e7026d6a85",
              "IPY_MODEL_14b6c59e982a42b0876aa4e0b990305b",
              "IPY_MODEL_021d4540286940dba43d031a413f60a8"
            ],
            "layout": "IPY_MODEL_be12ba35410f43bfa75594ed7121964f"
          }
        },
        "cb92475ae0aa4b0c96a1a84d4b2f1ce8": {
          "model_module": "@jupyter-widgets/base",
          "model_module_version": "1.2.0",
          "model_name": "LayoutModel",
          "state": {
            "_model_module": "@jupyter-widgets/base",
            "_model_module_version": "1.2.0",
            "_model_name": "LayoutModel",
            "_view_count": null,
            "_view_module": "@jupyter-widgets/base",
            "_view_module_version": "1.2.0",
            "_view_name": "LayoutView",
            "align_content": null,
            "align_items": null,
            "align_self": null,
            "border": null,
            "bottom": null,
            "display": null,
            "flex": null,
            "flex_flow": null,
            "grid_area": null,
            "grid_auto_columns": null,
            "grid_auto_flow": null,
            "grid_auto_rows": null,
            "grid_column": null,
            "grid_gap": null,
            "grid_row": null,
            "grid_template_areas": null,
            "grid_template_columns": null,
            "grid_template_rows": null,
            "height": null,
            "justify_content": null,
            "justify_items": null,
            "left": null,
            "margin": null,
            "max_height": null,
            "max_width": null,
            "min_height": null,
            "min_width": null,
            "object_fit": null,
            "object_position": null,
            "order": null,
            "overflow": null,
            "overflow_x": null,
            "overflow_y": null,
            "padding": null,
            "right": null,
            "top": null,
            "visibility": null,
            "width": null
          }
        },
        "d35c6e8f60cd4e4aaf43ae52134840e8": {
          "model_module": "@jupyter-widgets/controls",
          "model_module_version": "1.5.0",
          "model_name": "HTMLModel",
          "state": {
            "_dom_classes": [],
            "_model_module": "@jupyter-widgets/controls",
            "_model_module_version": "1.5.0",
            "_model_name": "HTMLModel",
            "_view_count": null,
            "_view_module": "@jupyter-widgets/controls",
            "_view_module_version": "1.5.0",
            "_view_name": "HTMLView",
            "description": "",
            "description_tooltip": null,
            "layout": "IPY_MODEL_7e7ae64a14e14b159028ae9413165fc9",
            "placeholder": "​",
            "style": "IPY_MODEL_9cdca56e8cc84c8cb7f7be2941ada21c",
            "value": "vocab.txt: 100%"
          }
        },
        "d442ddeb68dc4277a0d56d5215a76a36": {
          "model_module": "@jupyter-widgets/controls",
          "model_module_version": "1.5.0",
          "model_name": "DescriptionStyleModel",
          "state": {
            "_model_module": "@jupyter-widgets/controls",
            "_model_module_version": "1.5.0",
            "_model_name": "DescriptionStyleModel",
            "_view_count": null,
            "_view_module": "@jupyter-widgets/base",
            "_view_module_version": "1.2.0",
            "_view_name": "StyleView",
            "description_width": ""
          }
        },
        "d6e39ed845114fae948fdb6b5d695760": {
          "model_module": "@jupyter-widgets/controls",
          "model_module_version": "1.5.0",
          "model_name": "FloatProgressModel",
          "state": {
            "_dom_classes": [],
            "_model_module": "@jupyter-widgets/controls",
            "_model_module_version": "1.5.0",
            "_model_name": "FloatProgressModel",
            "_view_count": null,
            "_view_module": "@jupyter-widgets/controls",
            "_view_module_version": "1.5.0",
            "_view_name": "ProgressView",
            "bar_style": "success",
            "description": "",
            "description_tooltip": null,
            "layout": "IPY_MODEL_c02f28d9f43842b48faf847361d304a3",
            "max": 49,
            "min": 0,
            "orientation": "horizontal",
            "style": "IPY_MODEL_554bdbe977ab4965b5cda95d9765e404",
            "value": 49
          }
        },
        "deb37628bae24df4b5c25eaf01df7146": {
          "model_module": "@jupyter-widgets/base",
          "model_module_version": "1.2.0",
          "model_name": "LayoutModel",
          "state": {
            "_model_module": "@jupyter-widgets/base",
            "_model_module_version": "1.2.0",
            "_model_name": "LayoutModel",
            "_view_count": null,
            "_view_module": "@jupyter-widgets/base",
            "_view_module_version": "1.2.0",
            "_view_name": "LayoutView",
            "align_content": null,
            "align_items": null,
            "align_self": null,
            "border": null,
            "bottom": null,
            "display": null,
            "flex": null,
            "flex_flow": null,
            "grid_area": null,
            "grid_auto_columns": null,
            "grid_auto_flow": null,
            "grid_auto_rows": null,
            "grid_column": null,
            "grid_gap": null,
            "grid_row": null,
            "grid_template_areas": null,
            "grid_template_columns": null,
            "grid_template_rows": null,
            "height": null,
            "justify_content": null,
            "justify_items": null,
            "left": null,
            "margin": null,
            "max_height": null,
            "max_width": null,
            "min_height": null,
            "min_width": null,
            "object_fit": null,
            "object_position": null,
            "order": null,
            "overflow": null,
            "overflow_x": null,
            "overflow_y": null,
            "padding": null,
            "right": null,
            "top": null,
            "visibility": null,
            "width": null
          }
        },
        "def0aeb657d647ffbf63923dd55c5037": {
          "model_module": "@jupyter-widgets/base",
          "model_module_version": "1.2.0",
          "model_name": "LayoutModel",
          "state": {
            "_model_module": "@jupyter-widgets/base",
            "_model_module_version": "1.2.0",
            "_model_name": "LayoutModel",
            "_view_count": null,
            "_view_module": "@jupyter-widgets/base",
            "_view_module_version": "1.2.0",
            "_view_name": "LayoutView",
            "align_content": null,
            "align_items": null,
            "align_self": null,
            "border": null,
            "bottom": null,
            "display": null,
            "flex": null,
            "flex_flow": null,
            "grid_area": null,
            "grid_auto_columns": null,
            "grid_auto_flow": null,
            "grid_auto_rows": null,
            "grid_column": null,
            "grid_gap": null,
            "grid_row": null,
            "grid_template_areas": null,
            "grid_template_columns": null,
            "grid_template_rows": null,
            "height": null,
            "justify_content": null,
            "justify_items": null,
            "left": null,
            "margin": null,
            "max_height": null,
            "max_width": null,
            "min_height": null,
            "min_width": null,
            "object_fit": null,
            "object_position": null,
            "order": null,
            "overflow": null,
            "overflow_x": null,
            "overflow_y": null,
            "padding": null,
            "right": null,
            "top": null,
            "visibility": null,
            "width": null
          }
        },
        "e133adb164994158b067f708fc13c5d1": {
          "model_module": "@jupyter-widgets/controls",
          "model_module_version": "1.5.0",
          "model_name": "HTMLModel",
          "state": {
            "_dom_classes": [],
            "_model_module": "@jupyter-widgets/controls",
            "_model_module_version": "1.5.0",
            "_model_name": "HTMLModel",
            "_view_count": null,
            "_view_module": "@jupyter-widgets/controls",
            "_view_module_version": "1.5.0",
            "_view_name": "HTMLView",
            "description": "",
            "description_tooltip": null,
            "layout": "IPY_MODEL_5756d0367c30460bbba232cf0b798162",
            "placeholder": "​",
            "style": "IPY_MODEL_7d78e0f19d714ef8ba2f453be9e78bba",
            "value": " 996k/996k [00:00&lt;00:00, 5.55MB/s]"
          }
        },
        "e75edf76eb894ae29a083939ff09fdc7": {
          "model_module": "@jupyter-widgets/base",
          "model_module_version": "1.2.0",
          "model_name": "LayoutModel",
          "state": {
            "_model_module": "@jupyter-widgets/base",
            "_model_module_version": "1.2.0",
            "_model_name": "LayoutModel",
            "_view_count": null,
            "_view_module": "@jupyter-widgets/base",
            "_view_module_version": "1.2.0",
            "_view_name": "LayoutView",
            "align_content": null,
            "align_items": null,
            "align_self": null,
            "border": null,
            "bottom": null,
            "display": null,
            "flex": null,
            "flex_flow": null,
            "grid_area": null,
            "grid_auto_columns": null,
            "grid_auto_flow": null,
            "grid_auto_rows": null,
            "grid_column": null,
            "grid_gap": null,
            "grid_row": null,
            "grid_template_areas": null,
            "grid_template_columns": null,
            "grid_template_rows": null,
            "height": null,
            "justify_content": null,
            "justify_items": null,
            "left": null,
            "margin": null,
            "max_height": null,
            "max_width": null,
            "min_height": null,
            "min_width": null,
            "object_fit": null,
            "object_position": null,
            "order": null,
            "overflow": null,
            "overflow_x": null,
            "overflow_y": null,
            "padding": null,
            "right": null,
            "top": null,
            "visibility": null,
            "width": null
          }
        },
        "e7bdb9eada7d4de98d4bbeed2d36307f": {
          "model_module": "@jupyter-widgets/controls",
          "model_module_version": "1.5.0",
          "model_name": "DescriptionStyleModel",
          "state": {
            "_model_module": "@jupyter-widgets/controls",
            "_model_module_version": "1.5.0",
            "_model_name": "DescriptionStyleModel",
            "_view_count": null,
            "_view_module": "@jupyter-widgets/base",
            "_view_module_version": "1.2.0",
            "_view_name": "StyleView",
            "description_width": ""
          }
        },
        "eff20058fe09437baf02eab670f949a7": {
          "model_module": "@jupyter-widgets/controls",
          "model_module_version": "1.5.0",
          "model_name": "HBoxModel",
          "state": {
            "_dom_classes": [],
            "_model_module": "@jupyter-widgets/controls",
            "_model_module_version": "1.5.0",
            "_model_name": "HBoxModel",
            "_view_count": null,
            "_view_module": "@jupyter-widgets/controls",
            "_view_module_version": "1.5.0",
            "_view_name": "HBoxView",
            "box_style": "",
            "children": [
              "IPY_MODEL_5d0f428d9eb44f85a0bb7c6d88cc09b9",
              "IPY_MODEL_d6e39ed845114fae948fdb6b5d695760",
              "IPY_MODEL_077600dccc19495e815cc4dcfee9e941"
            ],
            "layout": "IPY_MODEL_ba9816b93bc24b30a206f00fe54c6e03"
          }
        },
        "f285f60c744546aeb8a084cf6e684e1a": {
          "model_module": "@jupyter-widgets/controls",
          "model_module_version": "1.5.0",
          "model_name": "HBoxModel",
          "state": {
            "_dom_classes": [],
            "_model_module": "@jupyter-widgets/controls",
            "_model_module_version": "1.5.0",
            "_model_name": "HBoxModel",
            "_view_count": null,
            "_view_module": "@jupyter-widgets/controls",
            "_view_module_version": "1.5.0",
            "_view_name": "HBoxView",
            "box_style": "",
            "children": [
              "IPY_MODEL_8c73873278a74f9c89050437c5a4567e",
              "IPY_MODEL_9a0138c1001143e789b6060ea37823a2",
              "IPY_MODEL_3491055221f748478234f47dd74501ff"
            ],
            "layout": "IPY_MODEL_def0aeb657d647ffbf63923dd55c5037"
          }
        }
      }
    }
  },
  "nbformat": 4,
  "nbformat_minor": 0
}
