{
  "cells": [
    {
      "cell_type": "code",
      "execution_count": null,
      "metadata": {
        "colab": {
          "base_uri": "https://localhost:8080/",
          "height": 36
        },
        "id": "gVnRXlc74PIE",
        "outputId": "22d29fb4-b9aa-49d8-8985-4cab2a0a875f"
      },
      "outputs": [
        {
          "data": {
            "application/vnd.google.colaboratory.intrinsic+json": {
              "type": "string"
            },
            "text/plain": [
              "'\\nAuthor: Ngo Van Uc\\nDate: 23/08/2024\\nGmail: ngovanuc.1508@gmail.com\\n'"
            ]
          },
          "execution_count": 1,
          "metadata": {},
          "output_type": "execute_result"
        }
      ],
      "source": [
        "'''\n",
        "Author: Ngo Van Uc\n",
        "Date: 23/08/2024\n",
        "Gmail: ngovanuc.1508@gmail.com\n",
        "'''"
      ]
    },
    {
      "cell_type": "markdown",
      "metadata": {
        "id": "ypRNcPas4PIF"
      },
      "source": [
        "# 00. Introduction"
      ]
    },
    {
      "cell_type": "code",
      "execution_count": 1,
      "metadata": {
        "id": "oaX1sc3Z4PIH"
      },
      "outputs": [],
      "source": [
        "from IPython.display import clear_output\n",
        "import warnings\n",
        "warnings.filterwarnings('ignore')\n",
        "\n",
        "import pandas as pd\n",
        "from ast import literal_eval\n",
        "import numpy as np\n",
        "from sklearn.metrics import accuracy_score\n",
        "from sklearn.metrics import f1_score\n",
        "from sklearn.metrics import precision_score\n",
        "from sklearn.metrics import recall_score"
      ]
    },
    {
      "cell_type": "code",
      "execution_count": 2,
      "metadata": {
        "colab": {
          "base_uri": "https://localhost:8080/"
        },
        "id": "F1yERva54S7n",
        "outputId": "c6da0d20-4586-4c04-dc40-296ed5d15eff"
      },
      "outputs": [
        {
          "name": "stdout",
          "output_type": "stream",
          "text": [
            "Mounted at /content/drive\n"
          ]
        }
      ],
      "source": [
        "from google.colab import drive\n",
        "drive.mount('/content/drive')"
      ]
    },
    {
      "cell_type": "markdown",
      "metadata": {
        "id": "-AYSsr8L4PIH"
      },
      "source": [
        "# 01. Load dataset"
      ]
    },
    {
      "cell_type": "code",
      "execution_count": 3,
      "metadata": {
        "colab": {
          "base_uri": "https://localhost:8080/",
          "height": 206
        },
        "id": "9RgQEYDG4PIH",
        "outputId": "a8353df1-d579-4fd9-b343-866b66ab66e9"
      },
      "outputs": [
        {
          "data": {
            "application/vnd.google.colaboratory.intrinsic+json": {
              "summary": "{\n  \"name\": \"train_data\",\n  \"rows\": 7786,\n  \"fields\": [\n    {\n      \"column\": \"index\",\n      \"properties\": {\n        \"dtype\": \"number\",\n        \"std\": 2247,\n        \"min\": 0,\n        \"max\": 7785,\n        \"num_unique_values\": 7786,\n        \"samples\": [\n          7324,\n          4694,\n          1322\n        ],\n        \"semantic_type\": \"\",\n        \"description\": \"\"\n      }\n    },\n    {\n      \"column\": \"comment\",\n      \"properties\": {\n        \"dtype\": \"string\",\n        \"num_unique_values\": 7786,\n        \"samples\": [\n          \"L\\u1ea5y m\\u00e1y v\\u1ec1 2 ng\\u00e0y b\\u1ecb l\\u1ed7i v\\u00e2n tay. Nh\\u1eadn di\\u1ec7n khu\\u00f4n m\\u1eb7t c\\u0169ng ch\\u1eadm. Kh\\u00f4ng \\u0111\\u00e1ng gi\\u00e1 ti\\u1ec1n t\\u00ed n\\u00e0o. Ch\\u00e1n\\ud83d\\ude1f\",\n          \"M\\u00e1y qu\\u00e1 \\u0111\\u1eb9p..h\\u01a1n h\\u1eb3n mong \\u0111\\u1ee3i..ch\\u1ec9 l\\u00e0 gi\\u1edd ch\\u01b0a c\\u00f3 \\u1ed1p l\\u01b0ng hay c\\u01b0\\u1eddng l\\u1ef1c.. mong b\\u00ean si\\u00eau th\\u1ecb nh\\u1eadp v\\u1ec1 s\\u1edbm l\\u00e0 ok\",\n          \"M\\u1edbi nh\\u1eadn l\\u00fac s\\u00e1ng, s\\u1ea1c c\\u00f3 v\\u1ebb l\\u00e2u h\\u01a1n vs oppo f11pro s\\u1ea1c c\\u00f9ng l\\u00fac v\\u00e0 c\\u00f9ng l\\u01b0\\u1ee3ng pin...nh\\u01b0ng khi oppo f11 \\u0111c 50% th\\u00ec \\u0111t mik m\\u1edbi \\u0111c 33% th\\u00f4i\"\n        ],\n        \"semantic_type\": \"\",\n        \"description\": \"\"\n      }\n    },\n    {\n      \"column\": \"n_star\",\n      \"properties\": {\n        \"dtype\": \"number\",\n        \"std\": 1,\n        \"min\": 1,\n        \"max\": 5,\n        \"num_unique_values\": 5,\n        \"samples\": [\n          3,\n          4,\n          1\n        ],\n        \"semantic_type\": \"\",\n        \"description\": \"\"\n      }\n    },\n    {\n      \"column\": \"date_time\",\n      \"properties\": {\n        \"dtype\": \"category\",\n        \"num_unique_values\": 756,\n        \"samples\": [\n          \"15/11/2019\",\n          \"5/5/2020\",\n          \"24/10/2017\"\n        ],\n        \"semantic_type\": \"\",\n        \"description\": \"\"\n      }\n    },\n    {\n      \"column\": \"label\",\n      \"properties\": {\n        \"dtype\": \"category\",\n        \"num_unique_values\": 2745,\n        \"samples\": [\n          \"{PRICE#Neutral};{GENERAL#Positive};{SER&ACC#Positive};{OTHERS};\",\n          \"{CAMERA#Positive};{FEATURES#Negative};{BATTERY#Positive};{PERFORMANCE#Positive};{GENERAL#Positive};\",\n          \"{SCREEN#Positive};{BATTERY#Positive};{PERFORMANCE#Positive};\"\n        ],\n        \"semantic_type\": \"\",\n        \"description\": \"\"\n      }\n    }\n  ]\n}",
              "type": "dataframe",
              "variable_name": "train_data"
            },
            "text/html": [
              "\n",
              "  <div id=\"df-857df249-fd4d-43bd-b9e3-9a4313a18580\" class=\"colab-df-container\">\n",
              "    <div>\n",
              "<style scoped>\n",
              "    .dataframe tbody tr th:only-of-type {\n",
              "        vertical-align: middle;\n",
              "    }\n",
              "\n",
              "    .dataframe tbody tr th {\n",
              "        vertical-align: top;\n",
              "    }\n",
              "\n",
              "    .dataframe thead th {\n",
              "        text-align: right;\n",
              "    }\n",
              "</style>\n",
              "<table border=\"1\" class=\"dataframe\">\n",
              "  <thead>\n",
              "    <tr style=\"text-align: right;\">\n",
              "      <th></th>\n",
              "      <th>index</th>\n",
              "      <th>comment</th>\n",
              "      <th>n_star</th>\n",
              "      <th>date_time</th>\n",
              "      <th>label</th>\n",
              "    </tr>\n",
              "  </thead>\n",
              "  <tbody>\n",
              "    <tr>\n",
              "      <th>0</th>\n",
              "      <td>0</td>\n",
              "      <td>Mới mua máy này Tại thegioididong thốt nốt cảm...</td>\n",
              "      <td>5</td>\n",
              "      <td>2 tuần trước</td>\n",
              "      <td>{CAMERA#Positive};{FEATURES#Positive};{BATTERY...</td>\n",
              "    </tr>\n",
              "    <tr>\n",
              "      <th>1</th>\n",
              "      <td>1</td>\n",
              "      <td>Pin kém còn lại miễn chê mua 8/3/2019 tình trạ...</td>\n",
              "      <td>5</td>\n",
              "      <td>14/09/2019</td>\n",
              "      <td>{BATTERY#Negative};{GENERAL#Positive};{OTHERS};</td>\n",
              "    </tr>\n",
              "    <tr>\n",
              "      <th>2</th>\n",
              "      <td>2</td>\n",
              "      <td>Sao lúc gọi điện thoại màn hình bị chấm nhỏ nh...</td>\n",
              "      <td>3</td>\n",
              "      <td>17/08/2020</td>\n",
              "      <td>{FEATURES#Negative};</td>\n",
              "    </tr>\n",
              "    <tr>\n",
              "      <th>3</th>\n",
              "      <td>3</td>\n",
              "      <td>Mọi người cập nhật phần mềm lại , nó sẽ bớt tố...</td>\n",
              "      <td>3</td>\n",
              "      <td>29/02/2020</td>\n",
              "      <td>{FEATURES#Negative};{BATTERY#Neutral};{GENERAL...</td>\n",
              "    </tr>\n",
              "    <tr>\n",
              "      <th>4</th>\n",
              "      <td>4</td>\n",
              "      <td>Mới mua Sài được 1 tháng thấy pin rất trâu, Sà...</td>\n",
              "      <td>5</td>\n",
              "      <td>4/6/2020</td>\n",
              "      <td>{BATTERY#Positive};{PERFORMANCE#Positive};{SER...</td>\n",
              "    </tr>\n",
              "  </tbody>\n",
              "</table>\n",
              "</div>\n",
              "    <div class=\"colab-df-buttons\">\n",
              "\n",
              "  <div class=\"colab-df-container\">\n",
              "    <button class=\"colab-df-convert\" onclick=\"convertToInteractive('df-857df249-fd4d-43bd-b9e3-9a4313a18580')\"\n",
              "            title=\"Convert this dataframe to an interactive table.\"\n",
              "            style=\"display:none;\">\n",
              "\n",
              "  <svg xmlns=\"http://www.w3.org/2000/svg\" height=\"24px\" viewBox=\"0 -960 960 960\">\n",
              "    <path d=\"M120-120v-720h720v720H120Zm60-500h600v-160H180v160Zm220 220h160v-160H400v160Zm0 220h160v-160H400v160ZM180-400h160v-160H180v160Zm440 0h160v-160H620v160ZM180-180h160v-160H180v160Zm440 0h160v-160H620v160Z\"/>\n",
              "  </svg>\n",
              "    </button>\n",
              "\n",
              "  <style>\n",
              "    .colab-df-container {\n",
              "      display:flex;\n",
              "      gap: 12px;\n",
              "    }\n",
              "\n",
              "    .colab-df-convert {\n",
              "      background-color: #E8F0FE;\n",
              "      border: none;\n",
              "      border-radius: 50%;\n",
              "      cursor: pointer;\n",
              "      display: none;\n",
              "      fill: #1967D2;\n",
              "      height: 32px;\n",
              "      padding: 0 0 0 0;\n",
              "      width: 32px;\n",
              "    }\n",
              "\n",
              "    .colab-df-convert:hover {\n",
              "      background-color: #E2EBFA;\n",
              "      box-shadow: 0px 1px 2px rgba(60, 64, 67, 0.3), 0px 1px 3px 1px rgba(60, 64, 67, 0.15);\n",
              "      fill: #174EA6;\n",
              "    }\n",
              "\n",
              "    .colab-df-buttons div {\n",
              "      margin-bottom: 4px;\n",
              "    }\n",
              "\n",
              "    [theme=dark] .colab-df-convert {\n",
              "      background-color: #3B4455;\n",
              "      fill: #D2E3FC;\n",
              "    }\n",
              "\n",
              "    [theme=dark] .colab-df-convert:hover {\n",
              "      background-color: #434B5C;\n",
              "      box-shadow: 0px 1px 3px 1px rgba(0, 0, 0, 0.15);\n",
              "      filter: drop-shadow(0px 1px 2px rgba(0, 0, 0, 0.3));\n",
              "      fill: #FFFFFF;\n",
              "    }\n",
              "  </style>\n",
              "\n",
              "    <script>\n",
              "      const buttonEl =\n",
              "        document.querySelector('#df-857df249-fd4d-43bd-b9e3-9a4313a18580 button.colab-df-convert');\n",
              "      buttonEl.style.display =\n",
              "        google.colab.kernel.accessAllowed ? 'block' : 'none';\n",
              "\n",
              "      async function convertToInteractive(key) {\n",
              "        const element = document.querySelector('#df-857df249-fd4d-43bd-b9e3-9a4313a18580');\n",
              "        const dataTable =\n",
              "          await google.colab.kernel.invokeFunction('convertToInteractive',\n",
              "                                                    [key], {});\n",
              "        if (!dataTable) return;\n",
              "\n",
              "        const docLinkHtml = 'Like what you see? Visit the ' +\n",
              "          '<a target=\"_blank\" href=https://colab.research.google.com/notebooks/data_table.ipynb>data table notebook</a>'\n",
              "          + ' to learn more about interactive tables.';\n",
              "        element.innerHTML = '';\n",
              "        dataTable['output_type'] = 'display_data';\n",
              "        await google.colab.output.renderOutput(dataTable, element);\n",
              "        const docLink = document.createElement('div');\n",
              "        docLink.innerHTML = docLinkHtml;\n",
              "        element.appendChild(docLink);\n",
              "      }\n",
              "    </script>\n",
              "  </div>\n",
              "\n",
              "\n",
              "<div id=\"df-7beb5cbc-f951-47a1-8f22-7576983a2cf0\">\n",
              "  <button class=\"colab-df-quickchart\" onclick=\"quickchart('df-7beb5cbc-f951-47a1-8f22-7576983a2cf0')\"\n",
              "            title=\"Suggest charts\"\n",
              "            style=\"display:none;\">\n",
              "\n",
              "<svg xmlns=\"http://www.w3.org/2000/svg\" height=\"24px\"viewBox=\"0 0 24 24\"\n",
              "     width=\"24px\">\n",
              "    <g>\n",
              "        <path d=\"M19 3H5c-1.1 0-2 .9-2 2v14c0 1.1.9 2 2 2h14c1.1 0 2-.9 2-2V5c0-1.1-.9-2-2-2zM9 17H7v-7h2v7zm4 0h-2V7h2v10zm4 0h-2v-4h2v4z\"/>\n",
              "    </g>\n",
              "</svg>\n",
              "  </button>\n",
              "\n",
              "<style>\n",
              "  .colab-df-quickchart {\n",
              "      --bg-color: #E8F0FE;\n",
              "      --fill-color: #1967D2;\n",
              "      --hover-bg-color: #E2EBFA;\n",
              "      --hover-fill-color: #174EA6;\n",
              "      --disabled-fill-color: #AAA;\n",
              "      --disabled-bg-color: #DDD;\n",
              "  }\n",
              "\n",
              "  [theme=dark] .colab-df-quickchart {\n",
              "      --bg-color: #3B4455;\n",
              "      --fill-color: #D2E3FC;\n",
              "      --hover-bg-color: #434B5C;\n",
              "      --hover-fill-color: #FFFFFF;\n",
              "      --disabled-bg-color: #3B4455;\n",
              "      --disabled-fill-color: #666;\n",
              "  }\n",
              "\n",
              "  .colab-df-quickchart {\n",
              "    background-color: var(--bg-color);\n",
              "    border: none;\n",
              "    border-radius: 50%;\n",
              "    cursor: pointer;\n",
              "    display: none;\n",
              "    fill: var(--fill-color);\n",
              "    height: 32px;\n",
              "    padding: 0;\n",
              "    width: 32px;\n",
              "  }\n",
              "\n",
              "  .colab-df-quickchart:hover {\n",
              "    background-color: var(--hover-bg-color);\n",
              "    box-shadow: 0 1px 2px rgba(60, 64, 67, 0.3), 0 1px 3px 1px rgba(60, 64, 67, 0.15);\n",
              "    fill: var(--button-hover-fill-color);\n",
              "  }\n",
              "\n",
              "  .colab-df-quickchart-complete:disabled,\n",
              "  .colab-df-quickchart-complete:disabled:hover {\n",
              "    background-color: var(--disabled-bg-color);\n",
              "    fill: var(--disabled-fill-color);\n",
              "    box-shadow: none;\n",
              "  }\n",
              "\n",
              "  .colab-df-spinner {\n",
              "    border: 2px solid var(--fill-color);\n",
              "    border-color: transparent;\n",
              "    border-bottom-color: var(--fill-color);\n",
              "    animation:\n",
              "      spin 1s steps(1) infinite;\n",
              "  }\n",
              "\n",
              "  @keyframes spin {\n",
              "    0% {\n",
              "      border-color: transparent;\n",
              "      border-bottom-color: var(--fill-color);\n",
              "      border-left-color: var(--fill-color);\n",
              "    }\n",
              "    20% {\n",
              "      border-color: transparent;\n",
              "      border-left-color: var(--fill-color);\n",
              "      border-top-color: var(--fill-color);\n",
              "    }\n",
              "    30% {\n",
              "      border-color: transparent;\n",
              "      border-left-color: var(--fill-color);\n",
              "      border-top-color: var(--fill-color);\n",
              "      border-right-color: var(--fill-color);\n",
              "    }\n",
              "    40% {\n",
              "      border-color: transparent;\n",
              "      border-right-color: var(--fill-color);\n",
              "      border-top-color: var(--fill-color);\n",
              "    }\n",
              "    60% {\n",
              "      border-color: transparent;\n",
              "      border-right-color: var(--fill-color);\n",
              "    }\n",
              "    80% {\n",
              "      border-color: transparent;\n",
              "      border-right-color: var(--fill-color);\n",
              "      border-bottom-color: var(--fill-color);\n",
              "    }\n",
              "    90% {\n",
              "      border-color: transparent;\n",
              "      border-bottom-color: var(--fill-color);\n",
              "    }\n",
              "  }\n",
              "</style>\n",
              "\n",
              "  <script>\n",
              "    async function quickchart(key) {\n",
              "      const quickchartButtonEl =\n",
              "        document.querySelector('#' + key + ' button');\n",
              "      quickchartButtonEl.disabled = true;  // To prevent multiple clicks.\n",
              "      quickchartButtonEl.classList.add('colab-df-spinner');\n",
              "      try {\n",
              "        const charts = await google.colab.kernel.invokeFunction(\n",
              "            'suggestCharts', [key], {});\n",
              "      } catch (error) {\n",
              "        console.error('Error during call to suggestCharts:', error);\n",
              "      }\n",
              "      quickchartButtonEl.classList.remove('colab-df-spinner');\n",
              "      quickchartButtonEl.classList.add('colab-df-quickchart-complete');\n",
              "    }\n",
              "    (() => {\n",
              "      let quickchartButtonEl =\n",
              "        document.querySelector('#df-7beb5cbc-f951-47a1-8f22-7576983a2cf0 button');\n",
              "      quickchartButtonEl.style.display =\n",
              "        google.colab.kernel.accessAllowed ? 'block' : 'none';\n",
              "    })();\n",
              "  </script>\n",
              "</div>\n",
              "\n",
              "    </div>\n",
              "  </div>\n"
            ],
            "text/plain": [
              "   index                                            comment  n_star  \\\n",
              "0      0  Mới mua máy này Tại thegioididong thốt nốt cảm...       5   \n",
              "1      1  Pin kém còn lại miễn chê mua 8/3/2019 tình trạ...       5   \n",
              "2      2  Sao lúc gọi điện thoại màn hình bị chấm nhỏ nh...       3   \n",
              "3      3  Mọi người cập nhật phần mềm lại , nó sẽ bớt tố...       3   \n",
              "4      4  Mới mua Sài được 1 tháng thấy pin rất trâu, Sà...       5   \n",
              "\n",
              "      date_time                                              label  \n",
              "0  2 tuần trước  {CAMERA#Positive};{FEATURES#Positive};{BATTERY...  \n",
              "1    14/09/2019    {BATTERY#Negative};{GENERAL#Positive};{OTHERS};  \n",
              "2    17/08/2020                               {FEATURES#Negative};  \n",
              "3    29/02/2020  {FEATURES#Negative};{BATTERY#Neutral};{GENERAL...  \n",
              "4      4/6/2020  {BATTERY#Positive};{PERFORMANCE#Positive};{SER...  "
            ]
          },
          "execution_count": 3,
          "metadata": {},
          "output_type": "execute_result"
        }
      ],
      "source": [
        "train_path = '/content/drive/MyDrive/Colab Notebooks/data/Train.csv'\n",
        "test_path = '/content/drive/MyDrive/Colab Notebooks/data/Test.csv'\n",
        "dev_path = '/content/drive/MyDrive/Colab Notebooks/data/Dev.csv'\n",
        "\n",
        "train_data = pd.read_csv(train_path)\n",
        "train_data.head()"
      ]
    },
    {
      "cell_type": "markdown",
      "metadata": {
        "id": "4gIf8ijH4PII"
      },
      "source": [
        "# 02. Preprocessing"
      ]
    },
    {
      "cell_type": "code",
      "execution_count": 4,
      "metadata": {
        "id": "nkrWFdzS4PII"
      },
      "outputs": [],
      "source": [
        "class_to_id = {\"SCREEN\": 0, \"CAMERA\": 1, \"FEATURES\": 2, \"BATTERY\": 3, \"PERFORMANCE\": 4, \"STORAGE\": 5, \"DESIGN\": 6, \"PRICE\": 7, \"GENERAL\": 8, \"SER&ACC\": 9}\n",
        "label_to_id = {\"Positive\": 0, \"Negative\": 1, \"Neutral\": 2, \"None\": 3}"
      ]
    },
    {
      "cell_type": "code",
      "execution_count": 5,
      "metadata": {
        "id": "Yi3rzmI14PIJ"
      },
      "outputs": [],
      "source": [
        "def get_label_dict(sentences_label):\n",
        "    label_dict = {}\n",
        "    labels = sentences_label.split(';')[:-1]\n",
        "    if len(labels) == 1 and labels[-1][1:-1] == \"OTHERS\":\n",
        "        return None\n",
        "    else:\n",
        "        if labels[-1][1:-1] == \"OTHERS\":\n",
        "            for l in labels[:-1]:\n",
        "                class_name, sentiment = l[1:-1].split('#')\n",
        "                label_dict[class_name] = sentiment\n",
        "            return label_dict\n",
        "        else:\n",
        "            for l in labels:\n",
        "                class_name, sentiment = l[1:-1].split('#')\n",
        "                label_dict[class_name] = sentiment\n",
        "            return label_dict"
      ]
    },
    {
      "cell_type": "code",
      "execution_count": 6,
      "metadata": {
        "colab": {
          "base_uri": "https://localhost:8080/"
        },
        "id": "djqCO8HL4PIJ",
        "outputId": "424a3d35-fac2-487d-df70-dae38836d0fd"
      },
      "outputs": [
        {
          "name": "stdout",
          "output_type": "stream",
          "text": [
            "Mới mua máy này Tại thegioididong thốt nốt cảm thấy ok bin trâu chụp ảnh đẹp loa nghe to bắt wf khỏe sóng ổn định, giá thành vừa với túi tiền, nhân viên tư vấn nhiệt tình\n",
            "[[0, 0, 0, 1], [1, 0, 0, 0], [1, 0, 0, 0], [1, 0, 0, 0], [0, 0, 0, 1], [0, 0, 0, 1], [0, 0, 0, 1], [1, 0, 0, 0], [1, 0, 0, 0], [1, 0, 0, 0]]\n"
          ]
        }
      ],
      "source": [
        "sentences = train_data['comment'].tolist()\n",
        "label_comment = train_data['label'].tolist()\n",
        "others_label = [[0, 0, 0, 1]] * 10\n",
        "\n",
        "train_set = []\n",
        "\n",
        "for sentence, sentence_label in zip(sentences, label_comment):\n",
        "    label_dict = get_label_dict(sentence_label)\n",
        "    labels_ = []\n",
        "    if label_dict:\n",
        "        for aspect in list(class_to_id.keys()):\n",
        "            train_label = [0] * 4\n",
        "            if aspect in label_dict.keys():\n",
        "                label_id = label_to_id[label_dict[aspect]]\n",
        "                train_label[label_id] =  1\n",
        "                labels_.append(train_label)\n",
        "            else:\n",
        "                labels_.append([0, 0, 0, 1])\n",
        "        train_set.append(\n",
        "            {'sentence': sentence, 'labels': labels_}\n",
        "        )\n",
        "    else:\n",
        "        train_set.append(\n",
        "            {'sentence': sentence, 'labels': others_label}\n",
        "        )\n",
        "print(train_set[0]['sentence'])\n",
        "print(train_set[0]['labels'])"
      ]
    },
    {
      "cell_type": "code",
      "execution_count": 7,
      "metadata": {
        "colab": {
          "base_uri": "https://localhost:8080/"
        },
        "id": "ioAAe03z4PIJ",
        "outputId": "28eb3af7-f10f-4f83-909f-bbfb8bf1c5e6"
      },
      "outputs": [
        {
          "name": "stdout",
          "output_type": "stream",
          "text": [
            "pass\n"
          ]
        }
      ],
      "source": [
        "for i, data in enumerate(train_set):\n",
        "    sentence, label = data.items()\n",
        "    input = np.array(label[-1])\n",
        "    clear_output()\n",
        "    if input.shape == (10, 4):\n",
        "        print(\"pass\")\n",
        "    else:\n",
        "        print(i)"
      ]
    },
    {
      "cell_type": "markdown",
      "metadata": {
        "id": "Hgs05fMg4PIK"
      },
      "source": [
        "# 03. Build model"
      ]
    },
    {
      "cell_type": "code",
      "execution_count": 8,
      "metadata": {
        "id": "laucTnHY4PIK"
      },
      "outputs": [],
      "source": [
        "import torch\n",
        "from torch.utils.data import Dataset, DataLoader\n",
        "from transformers import BertTokenizer\n",
        "\n",
        "\n",
        "class AspectSentimentDataset(Dataset):\n",
        "    def __init__(self, data, tokenizer, max_len):\n",
        "        self.data = data\n",
        "        self.tokenizer = tokenizer\n",
        "        self.max_len = max_len\n",
        "\n",
        "    def __len__(self):\n",
        "        return len(self.data)\n",
        "\n",
        "    def __getitem__(self, index):\n",
        "        sentence = self.data[index]['sentence']\n",
        "        labels = self.data[index]['labels']\n",
        "\n",
        "        encoding = self.tokenizer.encode_plus(\n",
        "            sentence,\n",
        "            add_special_tokens=True,\n",
        "            max_length=self.max_len,\n",
        "            return_token_type_ids=False,\n",
        "            pad_to_max_length=True,\n",
        "            return_attention_mask=True,\n",
        "            return_tensors='pt',\n",
        "        )\n",
        "\n",
        "        return {\n",
        "            'sentence_text': sentence,\n",
        "            'input_ids': encoding['input_ids'].flatten(),\n",
        "            'attention_mask': encoding['attention_mask'].flatten(),\n",
        "            'labels': torch.tensor(labels, dtype=torch.float)\n",
        "        }"
      ]
    },
    {
      "cell_type": "code",
      "execution_count": 9,
      "metadata": {
        "colab": {
          "base_uri": "https://localhost:8080/",
          "height": 145,
          "referenced_widgets": [
            "d0274efdbb77423689d8be76b26ebc19",
            "d069f858b86e43499071f67ed828225f",
            "eb29443e17d1414aa6550db17aba3c03",
            "6397a59df967491f89f7395a427b6b69",
            "4390e67bcff34f5d99e104d4fd4b8528",
            "3ff5bbd91dde43dbbf4db6dbff5507d9",
            "be5bda7576554124893c3e94f6708df7",
            "63cfe1c848d341189fbeb7f1c51dea52",
            "63d7bff2bbb94bccb1fda3c2496f903c",
            "3fc09e1523ba462b826a1df1cca8c3b3",
            "ca29a8b97bab4d95b496abc9dcf8d90f",
            "6c955f8d7e29463ebe37d02ebd67b042",
            "a1704515ef554230ba00ec82ce75f38c",
            "9485ad098d354514aa3e0f5ff9b0f404",
            "837563d7e23944efa8343c26c1127a0b",
            "adf9425a17344d2aa9ac6c8a46b898eb",
            "a254fb9f72f14ceba11850dbb28bb86c",
            "9115ca105d0543a2992a073c79c4fb08",
            "c5da18a9a22b4283896be62e1fc99719",
            "2cfc6d185bec4eaf8fb695940f4fe23f",
            "dfccddc38a484f0a83089f6a499507f4",
            "f91c39b0358f407ba673f5da66b6aa9e",
            "e7ea76b196e24a7fbb9c98faa5f8bac5",
            "09e4626512f8458ebab743f6a16a13bb",
            "0f2a6c5d98ff432c8a60486d6c740d03",
            "5f31f6da4d4e4637877259d87ce8e575",
            "63a80f140e574813be7fc2a393d923b7",
            "bbb9d039ff654e618cf377f5268cc526",
            "1304aee1ca13406b81fde414d98b9054",
            "58804701c688441aaa9869cf3f445427",
            "d038b76ba4f6427d968a9a509478a404",
            "7a6b988bea6940459785fb2d1cde4c8f",
            "38820b586c8a49dd9223fa59bc39347d",
            "3990ede1464345ec8d223d23eac775e4",
            "25927bda6c43477ca52a730bc831533d",
            "8ec3517c5150468ba1c96a4dfab11e5b",
            "c552d20e416b47c78eeaa47b7047d2a6",
            "404bd56b2f394826b1a2d480656827e3",
            "d68ad7347b804699a4e75068eab30147",
            "3fb582e2ddcc4106b334860897d01b57",
            "85140397ad154b55a7c8a49d18c8bf6c",
            "f598205d3a414aaa8cd21408c02a7da3",
            "c26a4161552847edbdeaec3fd241e572",
            "6340520136f8466a91d605f97bf480b8"
          ]
        },
        "id": "yk41PFwz4PIK",
        "outputId": "a7e69428-1001-4ab8-e6fd-5acc6e9842f9"
      },
      "outputs": [
        {
          "data": {
            "application/vnd.jupyter.widget-view+json": {
              "model_id": "d0274efdbb77423689d8be76b26ebc19",
              "version_major": 2,
              "version_minor": 0
            },
            "text/plain": [
              "tokenizer_config.json:   0%|          | 0.00/49.0 [00:00<?, ?B/s]"
            ]
          },
          "metadata": {},
          "output_type": "display_data"
        },
        {
          "data": {
            "application/vnd.jupyter.widget-view+json": {
              "model_id": "6c955f8d7e29463ebe37d02ebd67b042",
              "version_major": 2,
              "version_minor": 0
            },
            "text/plain": [
              "vocab.txt:   0%|          | 0.00/996k [00:00<?, ?B/s]"
            ]
          },
          "metadata": {},
          "output_type": "display_data"
        },
        {
          "data": {
            "application/vnd.jupyter.widget-view+json": {
              "model_id": "e7ea76b196e24a7fbb9c98faa5f8bac5",
              "version_major": 2,
              "version_minor": 0
            },
            "text/plain": [
              "tokenizer.json:   0%|          | 0.00/1.96M [00:00<?, ?B/s]"
            ]
          },
          "metadata": {},
          "output_type": "display_data"
        },
        {
          "data": {
            "application/vnd.jupyter.widget-view+json": {
              "model_id": "3990ede1464345ec8d223d23eac775e4",
              "version_major": 2,
              "version_minor": 0
            },
            "text/plain": [
              "config.json:   0%|          | 0.00/625 [00:00<?, ?B/s]"
            ]
          },
          "metadata": {},
          "output_type": "display_data"
        }
      ],
      "source": [
        "tokenizer = BertTokenizer.from_pretrained('google-bert/bert-base-multilingual-cased')\n",
        "dataset = AspectSentimentDataset(train_set, tokenizer, max_len=128)\n",
        "dataloader = DataLoader(dataset, batch_size=16, shuffle=True)"
      ]
    },
    {
      "cell_type": "code",
      "execution_count": 10,
      "metadata": {
        "colab": {
          "base_uri": "https://localhost:8080/"
        },
        "id": "5zH2yzV24PIK",
        "outputId": "89e4cd6e-2840-4297-d382-fb85c95d191c"
      },
      "outputs": [
        {
          "data": {
            "text/plain": [
              "7786"
            ]
          },
          "execution_count": 10,
          "metadata": {},
          "output_type": "execute_result"
        }
      ],
      "source": [
        "dataset.__len__()"
      ]
    },
    {
      "cell_type": "code",
      "execution_count": 11,
      "metadata": {
        "id": "ZLlu1EE64PIL"
      },
      "outputs": [],
      "source": [
        "import torch.nn as nn\n",
        "from transformers import BertModel\n",
        "\n",
        "\n",
        "class AspectSentimentModel(nn.Module):\n",
        "    def __init__(self, n_classes, n_labels_per_class):\n",
        "        super(AspectSentimentModel, self).__init__()\n",
        "        self.bert = BertModel.from_pretrained('google-bert/bert-base-multilingual-cased')\n",
        "        self.lstm = nn.LSTM(768, 256, batch_first=True, bidirectional=True)\n",
        "        self.classifier = nn.Linear(256*2, n_classes * n_labels_per_class)\n",
        "\n",
        "    def forward(self, input_ids, attention_mask):\n",
        "        bert_outputs = self.bert(\n",
        "            input_ids=input_ids,\n",
        "            attention_mask=attention_mask\n",
        "        )\n",
        "        lstm_outputs, _ = self.lstm(bert_outputs.last_hidden_state)\n",
        "        lstm_outputs = lstm_outputs[:, -1, :]\n",
        "        output = self.classifier(lstm_outputs)\n",
        "        return output.view(-1, 10, 4)\n",
        "\n",
        "# model = AspectSentimentModel(n_classes=10, n_labels_per_class=4)"
      ]
    },
    {
      "cell_type": "markdown",
      "metadata": {
        "id": "TqUHiFlk4PIL"
      },
      "source": [
        "# 04. Training model"
      ]
    },
    {
      "cell_type": "code",
      "execution_count": null,
      "metadata": {
        "colab": {
          "base_uri": "https://localhost:8080/"
        },
        "id": "7VKMl5mW4PIL",
        "outputId": "eab5cf6c-2f37-408b-aa9d-57930b603ba1"
      },
      "outputs": [
        {
          "name": "stderr",
          "output_type": "stream",
          "text": [
            "Truncation was not explicitly activated but `max_length` is provided a specific value, please use `truncation=True` to explicitly truncate examples to max length. Defaulting to 'longest_first' truncation strategy. If you encode pairs of sequences (GLUE-style) with the tokenizer you can select this strategy more precisely by providing a specific strategy to `truncation`.\n"
          ]
        },
        {
          "name": "stdout",
          "output_type": "stream",
          "text": [
            "Epoch 1/30, Train loss: 0.3516012473640011\n",
            "Epoch 2/30, Train loss: 0.25334868459241344\n",
            "Epoch 3/30, Train loss: 0.21811595017537933\n",
            "Epoch 4/30, Train loss: 0.18857208527701103\n",
            "Epoch 5/30, Train loss: 0.16705622762686417\n",
            "Epoch 6/30, Train loss: 0.14924982210020754\n",
            "Epoch 7/30, Train loss: 0.13482262009039553\n",
            "Epoch 8/30, Train loss: 0.12167480471687395\n",
            "Epoch 9/30, Train loss: 0.10986221163271634\n",
            "Epoch 10/30, Train loss: 0.10236786936985394\n"
          ]
        }
      ],
      "source": [
        "import torch.optim as optim\n",
        "import numpy as np\n",
        "\n",
        "\n",
        "def train_epoch(model, data_loader, loss_fn, optimizer, device):\n",
        "    model = model.train()\n",
        "    losses = []\n",
        "    correct_predictions = 0\n",
        "\n",
        "    for data in data_loader:\n",
        "        input_ids = data['input_ids'].to(device)\n",
        "        attention_mask = data['attention_mask'].to(device)\n",
        "        labels = data['labels'].to(device)\n",
        "\n",
        "        outputs = model(input_ids=input_ids, attention_mask=attention_mask)\n",
        "\n",
        "        loss = loss_fn(outputs, labels)\n",
        "        losses.append(loss.item())\n",
        "\n",
        "        optimizer.zero_grad()\n",
        "        loss.backward()\n",
        "        optimizer.step()\n",
        "\n",
        "    return np.mean(losses)\n",
        "\n",
        "\n",
        "EPOCHS = 30\n",
        "device = torch.device('cuda' if torch.cuda.is_available() else 'cpu')\n",
        "model = model.to(device)\n",
        "training = True\n",
        "\n",
        "\n",
        "optimizer = optim.Adam(model.parameters(), lr=2e-5)\n",
        "loss_fn = nn.BCEWithLogitsLoss()\n",
        "\n",
        "if training == True:\n",
        "    for epoch in range(EPOCHS):\n",
        "        train_loss = train_epoch(model, dataloader, loss_fn, optimizer, device)\n",
        "        print(f'Epoch {epoch + 1}/{EPOCHS}, Train loss: {train_loss}')"
      ]
    },
    {
      "cell_type": "code",
      "execution_count": null,
      "metadata": {
        "id": "oL3XGonP4PIL"
      },
      "outputs": [],
      "source": [
        "path_save_model = '/content/drive/MyDrive/RESEARCHING/ASPECT_BASE_SENTIMENT_ANALYSIS'\n",
        "torch.save(model.state_dict(), path_save_model+'/model_v4_30epoch.pth')"
      ]
    },
    {
      "cell_type": "code",
      "execution_count": null,
      "metadata": {
        "colab": {
          "base_uri": "https://localhost:8080/"
        },
        "id": "u9Vad8utyQfM",
        "outputId": "df94f34c-f307-4114-cb50-c88f1ffdcacb"
      },
      "outputs": [
        {
          "name": "stderr",
          "output_type": "stream",
          "text": [
            "Truncation was not explicitly activated but `max_length` is provided a specific value, please use `truncation=True` to explicitly truncate examples to max length. Defaulting to 'longest_first' truncation strategy. If you encode pairs of sequences (GLUE-style) with the tokenizer you can select this strategy more precisely by providing a specific strategy to `truncation`.\n"
          ]
        },
        {
          "name": "stdout",
          "output_type": "stream",
          "text": [
            "Epoch 11/20, Train loss: 0.040897934527367785\n",
            "Epoch 12/20, Train loss: 0.03912197627524943\n",
            "Epoch 13/20, Train loss: 0.03235150888959975\n",
            "Epoch 14/20, Train loss: 0.029859618230261963\n",
            "Epoch 15/20, Train loss: 0.029507471235120934\n",
            "Epoch 16/20, Train loss: 0.02635333414076688\n",
            "Epoch 17/20, Train loss: 0.024805937934804564\n",
            "Epoch 18/20, Train loss: 0.026403492652224015\n",
            "Epoch 19/20, Train loss: 0.030596404812572184\n",
            "Epoch 20/20, Train loss: 0.020933447399958813\n"
          ]
        }
      ],
      "source": [
        "# traning tiếp\n",
        "model = AspectSentimentModel(n_classes=10, n_labels_per_class=4)\n",
        "model.load_state_dict(torch.load(path_save_model+'/model_v3.pth'))\n",
        "\n",
        "import torch.optim as optim\n",
        "import numpy as np\n",
        "\n",
        "def train_epoch(model, data_loader, loss_fn, optimizer, device):\n",
        "    model = model.train()\n",
        "    losses = []\n",
        "    correct_predictions = 0\n",
        "\n",
        "    for data in data_loader:\n",
        "        input_ids = data['input_ids'].to(device)\n",
        "        attention_mask = data['attention_mask'].to(device)\n",
        "        labels = data['labels'].to(device)\n",
        "\n",
        "        outputs = model(input_ids=input_ids, attention_mask=attention_mask)\n",
        "\n",
        "        loss = loss_fn(outputs, labels)\n",
        "        losses.append(loss.item())\n",
        "\n",
        "        optimizer.zero_grad()\n",
        "        loss.backward()\n",
        "        optimizer.step()\n",
        "\n",
        "    return np.mean(losses)\n",
        "\n",
        "\n",
        "EPOCHS = 10\n",
        "device = torch.device('cuda' if torch.cuda.is_available() else 'cpu')\n",
        "model = model.to(device)\n",
        "training = True\n",
        "\n",
        "\n",
        "optimizer = optim.Adam(model.parameters(), lr=2e-5)\n",
        "loss_fn = nn.BCEWithLogitsLoss()\n",
        "\n",
        "if training == True:\n",
        "    for epoch in range(EPOCHS):\n",
        "        train_loss = train_epoch(model, dataloader, loss_fn, optimizer, device)\n",
        "        print(f'Epoch {epoch + 21}/{EPOCHS+20}, Train loss: {train_loss}')\n",
        "\n",
        "# model.eval()"
      ]
    },
    {
      "cell_type": "code",
      "execution_count": null,
      "metadata": {
        "id": "hCLLOAOmzJka"
      },
      "outputs": [],
      "source": [
        "path_save_model = '/content/drive/MyDrive/RESEARCHING/ASPECT_BASE_SENTIMENT_ANALYSIS'\n",
        "torch.save(model.state_dict(), path_save_model+'/model_v3_30epoch.pth')"
      ]
    },
    {
      "cell_type": "code",
      "execution_count": 15,
      "metadata": {
        "colab": {
          "base_uri": "https://localhost:8080/"
        },
        "id": "7iNGWw1YbEh4",
        "outputId": "49c20b06-73b4-4f3e-f450-df11083d248a"
      },
      "outputs": [
        {
          "name": "stdout",
          "output_type": "stream",
          "text": [
            "Epoch 31/40, Train loss: 0.021102205838709764\n",
            "Epoch 32/40, Train loss: 0.01991456458670158\n",
            "Epoch 33/40, Train loss: 0.01865543902792358\n",
            "Epoch 34/40, Train loss: 0.017413773166600928\n",
            "Epoch 35/40, Train loss: 0.016814415604143845\n",
            "Epoch 36/40, Train loss: 0.013912282642684647\n",
            "Epoch 37/40, Train loss: 0.013635942056006321\n",
            "Epoch 38/40, Train loss: 0.014922661669514078\n",
            "Epoch 39/40, Train loss: 0.01472458113663786\n",
            "Epoch 40/40, Train loss: 0.013036285298044585\n"
          ]
        }
      ],
      "source": [
        "# traning tiếp\n",
        "path_save_model = '/content/drive/MyDrive/Colab Notebooks/model_v3_30epoch.pth'\n",
        "model = AspectSentimentModel(n_classes=10, n_labels_per_class=4)\n",
        "model.load_state_dict(torch.load(path_save_model))\n",
        "\n",
        "import torch.optim as optim\n",
        "import numpy as np\n",
        "\n",
        "def train_epoch(model, data_loader, loss_fn, optimizer, device):\n",
        "    model = model.train()\n",
        "    losses = []\n",
        "    correct_predictions = 0\n",
        "\n",
        "    for data in data_loader:\n",
        "        input_ids = data['input_ids'].to(device)\n",
        "        attention_mask = data['attention_mask'].to(device)\n",
        "        labels = data['labels'].to(device)\n",
        "\n",
        "        outputs = model(input_ids=input_ids, attention_mask=attention_mask)\n",
        "\n",
        "        loss = loss_fn(outputs, labels)\n",
        "        losses.append(loss.item())\n",
        "\n",
        "        optimizer.zero_grad()\n",
        "        loss.backward()\n",
        "        optimizer.step()\n",
        "\n",
        "    return np.mean(losses)\n",
        "\n",
        "\n",
        "EPOCHS = 10\n",
        "device = torch.device('cuda' if torch.cuda.is_available() else 'cpu')\n",
        "model = model.to(device)\n",
        "training = True\n",
        "\n",
        "\n",
        "optimizer = optim.Adam(model.parameters(), lr=2e-5)\n",
        "loss_fn = nn.BCEWithLogitsLoss()\n",
        "\n",
        "if training == True:\n",
        "    for epoch in range(EPOCHS):\n",
        "        train_loss = train_epoch(model, dataloader, loss_fn, optimizer, device)\n",
        "        print(f'Epoch {epoch + 31}/{EPOCHS+30}, Train loss: {train_loss}')\n"
      ]
    },
    {
      "cell_type": "code",
      "execution_count": 16,
      "metadata": {
        "id": "19qhAB_9bNQP"
      },
      "outputs": [],
      "source": [
        "path_save_model = '/content/drive/MyDrive/Colab Notebooks'\n",
        "torch.save(model.state_dict(), path_save_model+'/model_v3_40epochs.pth')"
      ]
    },
    {
      "cell_type": "code",
      "execution_count": 12,
      "metadata": {
        "colab": {
          "base_uri": "https://localhost:8080/",
          "height": 634,
          "referenced_widgets": [
            "61dff310764141ff8243063b1b2f2bc0",
            "fb490cfc54d2472285bcdfd352a37572",
            "25154ff5aa0c4a35a40261466359ed36",
            "e68efd8eeed94f378f3b1443eca67d9e",
            "952a207406414fabbac6ca8d9f936f70",
            "ae6e671c749f48aaaac1165a0c89a544",
            "a97e4458c3c641c38c85df7c54968aeb",
            "3fdeed2a1ed2440e9f733b40c61065cf",
            "05262f8e96bf4ae8be925135a5aafb46",
            "dfc424a3cc374373be9b0a62939f2e8e",
            "431b3ac2f83c4f6da9a906371da706a7"
          ]
        },
        "id": "SooHCuFV-V51",
        "outputId": "20f156ee-8e1d-4089-b96f-3af001e56589"
      },
      "outputs": [
        {
          "data": {
            "application/vnd.jupyter.widget-view+json": {
              "model_id": "61dff310764141ff8243063b1b2f2bc0",
              "version_major": 2,
              "version_minor": 0
            },
            "text/plain": [
              "model.safetensors:   0%|          | 0.00/714M [00:00<?, ?B/s]"
            ]
          },
          "metadata": {},
          "output_type": "display_data"
        },
        {
          "name": "stderr",
          "output_type": "stream",
          "text": [
            "Truncation was not explicitly activated but `max_length` is provided a specific value, please use `truncation=True` to explicitly truncate examples to max length. Defaulting to 'longest_first' truncation strategy. If you encode pairs of sequences (GLUE-style) with the tokenizer you can select this strategy more precisely by providing a specific strategy to `truncation`.\n"
          ]
        },
        {
          "name": "stdout",
          "output_type": "stream",
          "text": [
            "Epoch 31/50, Train loss: 0.020790362980186144\n",
            "Epoch 32/50, Train loss: 0.020654397684835984\n",
            "Epoch 33/50, Train loss: 0.018107938570653143\n",
            "Epoch 34/50, Train loss: 0.018068853420543905\n",
            "Epoch 35/50, Train loss: 0.016600381467277204\n",
            "Epoch 36/50, Train loss: 0.016494441103358473\n",
            "Epoch 37/50, Train loss: 0.014579249086007629\n",
            "Epoch 38/50, Train loss: 0.01396796119818177\n",
            "Epoch 39/50, Train loss: 0.013354896699237107\n",
            "Epoch 40/50, Train loss: 0.011898802021552772\n",
            "Epoch 41/50, Train loss: 0.01477099614346006\n",
            "Epoch 42/50, Train loss: 0.016783199376317632\n"
          ]
        },
        {
          "ename": "KeyboardInterrupt",
          "evalue": "",
          "output_type": "error",
          "traceback": [
            "\u001b[0;31m---------------------------------------------------------------------------\u001b[0m",
            "\u001b[0;31mKeyboardInterrupt\u001b[0m                         Traceback (most recent call last)",
            "\u001b[0;32m<ipython-input-12-14eba16099e2>\u001b[0m in \u001b[0;36m<cell line: 40>\u001b[0;34m()\u001b[0m\n\u001b[1;32m     40\u001b[0m \u001b[0;32mif\u001b[0m \u001b[0mtraining\u001b[0m \u001b[0;34m==\u001b[0m \u001b[0;32mTrue\u001b[0m\u001b[0;34m:\u001b[0m\u001b[0;34m\u001b[0m\u001b[0;34m\u001b[0m\u001b[0m\n\u001b[1;32m     41\u001b[0m     \u001b[0;32mfor\u001b[0m \u001b[0mepoch\u001b[0m \u001b[0;32min\u001b[0m \u001b[0mrange\u001b[0m\u001b[0;34m(\u001b[0m\u001b[0mEPOCHS\u001b[0m\u001b[0;34m)\u001b[0m\u001b[0;34m:\u001b[0m\u001b[0;34m\u001b[0m\u001b[0;34m\u001b[0m\u001b[0m\n\u001b[0;32m---> 42\u001b[0;31m         \u001b[0mtrain_loss\u001b[0m \u001b[0;34m=\u001b[0m \u001b[0mtrain_epoch\u001b[0m\u001b[0;34m(\u001b[0m\u001b[0mmodel\u001b[0m\u001b[0;34m,\u001b[0m \u001b[0mdataloader\u001b[0m\u001b[0;34m,\u001b[0m \u001b[0mloss_fn\u001b[0m\u001b[0;34m,\u001b[0m \u001b[0moptimizer\u001b[0m\u001b[0;34m,\u001b[0m \u001b[0mdevice\u001b[0m\u001b[0;34m)\u001b[0m\u001b[0;34m\u001b[0m\u001b[0;34m\u001b[0m\u001b[0m\n\u001b[0m\u001b[1;32m     43\u001b[0m         \u001b[0mprint\u001b[0m\u001b[0;34m(\u001b[0m\u001b[0;34mf'Epoch {epoch + 31}/{EPOCHS+30}, Train loss: {train_loss}'\u001b[0m\u001b[0;34m)\u001b[0m\u001b[0;34m\u001b[0m\u001b[0;34m\u001b[0m\u001b[0m\n",
            "\u001b[0;32m<ipython-input-12-14eba16099e2>\u001b[0m in \u001b[0;36mtrain_epoch\u001b[0;34m(model, data_loader, loss_fn, optimizer, device)\u001b[0m\n\u001b[1;32m     24\u001b[0m         \u001b[0moptimizer\u001b[0m\u001b[0;34m.\u001b[0m\u001b[0mzero_grad\u001b[0m\u001b[0;34m(\u001b[0m\u001b[0;34m)\u001b[0m\u001b[0;34m\u001b[0m\u001b[0;34m\u001b[0m\u001b[0m\n\u001b[1;32m     25\u001b[0m         \u001b[0mloss\u001b[0m\u001b[0;34m.\u001b[0m\u001b[0mbackward\u001b[0m\u001b[0;34m(\u001b[0m\u001b[0;34m)\u001b[0m\u001b[0;34m\u001b[0m\u001b[0;34m\u001b[0m\u001b[0m\n\u001b[0;32m---> 26\u001b[0;31m         \u001b[0moptimizer\u001b[0m\u001b[0;34m.\u001b[0m\u001b[0mstep\u001b[0m\u001b[0;34m(\u001b[0m\u001b[0;34m)\u001b[0m\u001b[0;34m\u001b[0m\u001b[0;34m\u001b[0m\u001b[0m\n\u001b[0m\u001b[1;32m     27\u001b[0m \u001b[0;34m\u001b[0m\u001b[0m\n\u001b[1;32m     28\u001b[0m     \u001b[0;32mreturn\u001b[0m \u001b[0mnp\u001b[0m\u001b[0;34m.\u001b[0m\u001b[0mmean\u001b[0m\u001b[0;34m(\u001b[0m\u001b[0mlosses\u001b[0m\u001b[0;34m)\u001b[0m\u001b[0;34m\u001b[0m\u001b[0;34m\u001b[0m\u001b[0m\n",
            "\u001b[0;32m/usr/local/lib/python3.10/dist-packages/torch/optim/optimizer.py\u001b[0m in \u001b[0;36mwrapper\u001b[0;34m(*args, **kwargs)\u001b[0m\n\u001b[1;32m    482\u001b[0m                             )\n\u001b[1;32m    483\u001b[0m \u001b[0;34m\u001b[0m\u001b[0m\n\u001b[0;32m--> 484\u001b[0;31m                 \u001b[0mout\u001b[0m \u001b[0;34m=\u001b[0m \u001b[0mfunc\u001b[0m\u001b[0;34m(\u001b[0m\u001b[0;34m*\u001b[0m\u001b[0margs\u001b[0m\u001b[0;34m,\u001b[0m \u001b[0;34m**\u001b[0m\u001b[0mkwargs\u001b[0m\u001b[0;34m)\u001b[0m\u001b[0;34m\u001b[0m\u001b[0;34m\u001b[0m\u001b[0m\n\u001b[0m\u001b[1;32m    485\u001b[0m                 \u001b[0mself\u001b[0m\u001b[0;34m.\u001b[0m\u001b[0m_optimizer_step_code\u001b[0m\u001b[0;34m(\u001b[0m\u001b[0;34m)\u001b[0m\u001b[0;34m\u001b[0m\u001b[0;34m\u001b[0m\u001b[0m\n\u001b[1;32m    486\u001b[0m \u001b[0;34m\u001b[0m\u001b[0m\n",
            "\u001b[0;32m/usr/local/lib/python3.10/dist-packages/torch/optim/optimizer.py\u001b[0m in \u001b[0;36m_use_grad\u001b[0;34m(self, *args, **kwargs)\u001b[0m\n\u001b[1;32m     87\u001b[0m             \u001b[0mtorch\u001b[0m\u001b[0;34m.\u001b[0m\u001b[0mset_grad_enabled\u001b[0m\u001b[0;34m(\u001b[0m\u001b[0mself\u001b[0m\u001b[0;34m.\u001b[0m\u001b[0mdefaults\u001b[0m\u001b[0;34m[\u001b[0m\u001b[0;34m\"differentiable\"\u001b[0m\u001b[0;34m]\u001b[0m\u001b[0;34m)\u001b[0m\u001b[0;34m\u001b[0m\u001b[0;34m\u001b[0m\u001b[0m\n\u001b[1;32m     88\u001b[0m             \u001b[0mtorch\u001b[0m\u001b[0;34m.\u001b[0m\u001b[0m_dynamo\u001b[0m\u001b[0;34m.\u001b[0m\u001b[0mgraph_break\u001b[0m\u001b[0;34m(\u001b[0m\u001b[0;34m)\u001b[0m\u001b[0;34m\u001b[0m\u001b[0;34m\u001b[0m\u001b[0m\n\u001b[0;32m---> 89\u001b[0;31m             \u001b[0mret\u001b[0m \u001b[0;34m=\u001b[0m \u001b[0mfunc\u001b[0m\u001b[0;34m(\u001b[0m\u001b[0mself\u001b[0m\u001b[0;34m,\u001b[0m \u001b[0;34m*\u001b[0m\u001b[0margs\u001b[0m\u001b[0;34m,\u001b[0m \u001b[0;34m**\u001b[0m\u001b[0mkwargs\u001b[0m\u001b[0;34m)\u001b[0m\u001b[0;34m\u001b[0m\u001b[0;34m\u001b[0m\u001b[0m\n\u001b[0m\u001b[1;32m     90\u001b[0m         \u001b[0;32mfinally\u001b[0m\u001b[0;34m:\u001b[0m\u001b[0;34m\u001b[0m\u001b[0;34m\u001b[0m\u001b[0m\n\u001b[1;32m     91\u001b[0m             \u001b[0mtorch\u001b[0m\u001b[0;34m.\u001b[0m\u001b[0m_dynamo\u001b[0m\u001b[0;34m.\u001b[0m\u001b[0mgraph_break\u001b[0m\u001b[0;34m(\u001b[0m\u001b[0;34m)\u001b[0m\u001b[0;34m\u001b[0m\u001b[0;34m\u001b[0m\u001b[0m\n",
            "\u001b[0;32m/usr/local/lib/python3.10/dist-packages/torch/optim/adam.py\u001b[0m in \u001b[0;36mstep\u001b[0;34m(self, closure)\u001b[0m\n\u001b[1;32m    224\u001b[0m             )\n\u001b[1;32m    225\u001b[0m \u001b[0;34m\u001b[0m\u001b[0m\n\u001b[0;32m--> 226\u001b[0;31m             adam(\n\u001b[0m\u001b[1;32m    227\u001b[0m                 \u001b[0mparams_with_grad\u001b[0m\u001b[0;34m,\u001b[0m\u001b[0;34m\u001b[0m\u001b[0;34m\u001b[0m\u001b[0m\n\u001b[1;32m    228\u001b[0m                 \u001b[0mgrads\u001b[0m\u001b[0;34m,\u001b[0m\u001b[0;34m\u001b[0m\u001b[0;34m\u001b[0m\u001b[0m\n",
            "\u001b[0;32m/usr/local/lib/python3.10/dist-packages/torch/optim/optimizer.py\u001b[0m in \u001b[0;36mmaybe_fallback\u001b[0;34m(*args, **kwargs)\u001b[0m\n\u001b[1;32m    159\u001b[0m                 \u001b[0;32mreturn\u001b[0m \u001b[0mdisabled_func\u001b[0m\u001b[0;34m(\u001b[0m\u001b[0;34m*\u001b[0m\u001b[0margs\u001b[0m\u001b[0;34m,\u001b[0m \u001b[0;34m**\u001b[0m\u001b[0mkwargs\u001b[0m\u001b[0;34m)\u001b[0m\u001b[0;34m\u001b[0m\u001b[0;34m\u001b[0m\u001b[0m\n\u001b[1;32m    160\u001b[0m             \u001b[0;32melse\u001b[0m\u001b[0;34m:\u001b[0m\u001b[0;34m\u001b[0m\u001b[0;34m\u001b[0m\u001b[0m\n\u001b[0;32m--> 161\u001b[0;31m                 \u001b[0;32mreturn\u001b[0m \u001b[0mfunc\u001b[0m\u001b[0;34m(\u001b[0m\u001b[0;34m*\u001b[0m\u001b[0margs\u001b[0m\u001b[0;34m,\u001b[0m \u001b[0;34m**\u001b[0m\u001b[0mkwargs\u001b[0m\u001b[0;34m)\u001b[0m\u001b[0;34m\u001b[0m\u001b[0;34m\u001b[0m\u001b[0m\n\u001b[0m\u001b[1;32m    162\u001b[0m \u001b[0;34m\u001b[0m\u001b[0m\n\u001b[1;32m    163\u001b[0m         \u001b[0;32mreturn\u001b[0m \u001b[0mmaybe_fallback\u001b[0m\u001b[0;34m\u001b[0m\u001b[0;34m\u001b[0m\u001b[0m\n",
            "\u001b[0;32m/usr/local/lib/python3.10/dist-packages/torch/optim/adam.py\u001b[0m in \u001b[0;36madam\u001b[0;34m(params, grads, exp_avgs, exp_avg_sqs, max_exp_avg_sqs, state_steps, foreach, capturable, differentiable, fused, grad_scale, found_inf, has_complex, amsgrad, beta1, beta2, lr, weight_decay, eps, maximize)\u001b[0m\n\u001b[1;32m    764\u001b[0m         \u001b[0mfunc\u001b[0m \u001b[0;34m=\u001b[0m \u001b[0m_single_tensor_adam\u001b[0m\u001b[0;34m\u001b[0m\u001b[0;34m\u001b[0m\u001b[0m\n\u001b[1;32m    765\u001b[0m \u001b[0;34m\u001b[0m\u001b[0m\n\u001b[0;32m--> 766\u001b[0;31m     func(\n\u001b[0m\u001b[1;32m    767\u001b[0m         \u001b[0mparams\u001b[0m\u001b[0;34m,\u001b[0m\u001b[0;34m\u001b[0m\u001b[0;34m\u001b[0m\u001b[0m\n\u001b[1;32m    768\u001b[0m         \u001b[0mgrads\u001b[0m\u001b[0;34m,\u001b[0m\u001b[0;34m\u001b[0m\u001b[0;34m\u001b[0m\u001b[0m\n",
            "\u001b[0;32m/usr/local/lib/python3.10/dist-packages/torch/optim/adam.py\u001b[0m in \u001b[0;36m_multi_tensor_adam\u001b[0;34m(params, grads, exp_avgs, exp_avg_sqs, max_exp_avg_sqs, state_steps, grad_scale, found_inf, amsgrad, has_complex, beta1, beta2, lr, weight_decay, eps, maximize, capturable, differentiable)\u001b[0m\n\u001b[1;32m    600\u001b[0m                 \u001b[0mexp_avg_sq_sqrt\u001b[0m \u001b[0;34m=\u001b[0m \u001b[0mtorch\u001b[0m\u001b[0;34m.\u001b[0m\u001b[0m_foreach_sqrt\u001b[0m\u001b[0;34m(\u001b[0m\u001b[0mdevice_max_exp_avg_sqs\u001b[0m\u001b[0;34m)\u001b[0m\u001b[0;34m\u001b[0m\u001b[0;34m\u001b[0m\u001b[0m\n\u001b[1;32m    601\u001b[0m             \u001b[0;32melse\u001b[0m\u001b[0;34m:\u001b[0m\u001b[0;34m\u001b[0m\u001b[0;34m\u001b[0m\u001b[0m\n\u001b[0;32m--> 602\u001b[0;31m                 \u001b[0mexp_avg_sq_sqrt\u001b[0m \u001b[0;34m=\u001b[0m \u001b[0mtorch\u001b[0m\u001b[0;34m.\u001b[0m\u001b[0m_foreach_sqrt\u001b[0m\u001b[0;34m(\u001b[0m\u001b[0mdevice_exp_avg_sqs\u001b[0m\u001b[0;34m)\u001b[0m\u001b[0;34m\u001b[0m\u001b[0;34m\u001b[0m\u001b[0m\n\u001b[0m\u001b[1;32m    603\u001b[0m \u001b[0;34m\u001b[0m\u001b[0m\n\u001b[1;32m    604\u001b[0m             \u001b[0mtorch\u001b[0m\u001b[0;34m.\u001b[0m\u001b[0m_foreach_div_\u001b[0m\u001b[0;34m(\u001b[0m\u001b[0mexp_avg_sq_sqrt\u001b[0m\u001b[0;34m,\u001b[0m \u001b[0mbias_correction2_sqrt\u001b[0m\u001b[0;34m)\u001b[0m\u001b[0;34m\u001b[0m\u001b[0;34m\u001b[0m\u001b[0m\n",
            "\u001b[0;31mKeyboardInterrupt\u001b[0m: "
          ]
        }
      ],
      "source": [
        "# traning tiếp\n",
        "path_save_model = '/content/drive/MyDrive/Colab Notebooks/model_v3_30epoch.pth'\n",
        "model = AspectSentimentModel(n_classes=10, n_labels_per_class=4)\n",
        "model.load_state_dict(torch.load(path_save_model))\n",
        "\n",
        "import torch.optim as optim\n",
        "import numpy as np\n",
        "\n",
        "def train_epoch(model, data_loader, loss_fn, optimizer, device):\n",
        "    model = model.train()\n",
        "    losses = []\n",
        "    correct_predictions = 0\n",
        "\n",
        "    for data in data_loader:\n",
        "        input_ids = data['input_ids'].to(device)\n",
        "        attention_mask = data['attention_mask'].to(device)\n",
        "        labels = data['labels'].to(device)\n",
        "\n",
        "        outputs = model(input_ids=input_ids, attention_mask=attention_mask)\n",
        "\n",
        "        loss = loss_fn(outputs, labels)\n",
        "        losses.append(loss.item())\n",
        "\n",
        "        optimizer.zero_grad()\n",
        "        loss.backward()\n",
        "        optimizer.step()\n",
        "\n",
        "    return np.mean(losses)\n",
        "\n",
        "\n",
        "EPOCHS = 20\n",
        "device = torch.device('cuda' if torch.cuda.is_available() else 'cpu')\n",
        "model = model.to(device)\n",
        "training = True\n",
        "\n",
        "\n",
        "optimizer = optim.Adam(model.parameters(), lr=2e-5)\n",
        "loss_fn = nn.BCEWithLogitsLoss()\n",
        "\n",
        "if training == True:\n",
        "    for epoch in range(EPOCHS):\n",
        "        train_loss = train_epoch(model, dataloader, loss_fn, optimizer, device)\n",
        "        print(f'Epoch {epoch + 31}/{EPOCHS+30}, Train loss: {train_loss}')\n"
      ]
    },
    {
      "cell_type": "code",
      "execution_count": 14,
      "metadata": {
        "id": "kx8j4CTz-ffA"
      },
      "outputs": [],
      "source": [
        "path_save_model = '/content/drive/MyDrive/Colab Notebooks'\n",
        "torch.save(model.state_dict(), path_save_model+'/model_v3_40epoch.pth')"
      ]
    },
    {
      "cell_type": "code",
      "execution_count": 17,
      "metadata": {
        "id": "FtrxKb9Z4PIM"
      },
      "outputs": [],
      "source": [
        "def predict_sentiment(model, sentence, tokenizer, max_len, device):\n",
        "    model = model.eval()\n",
        "\n",
        "    encoding = tokenizer.encode_plus(\n",
        "        sentence,\n",
        "        add_special_tokens=True,\n",
        "        max_length=max_len,\n",
        "        return_token_type_ids=False,\n",
        "        pad_to_max_length=True,\n",
        "        return_attention_mask=True,\n",
        "        return_tensors='pt'\n",
        "    )\n",
        "\n",
        "    input_ids = encoding['input_ids'].to(device)\n",
        "    attention_mask = encoding['attention_mask'].to(device)\n",
        "\n",
        "    with torch.no_grad():\n",
        "        outputs = model(input_ids=input_ids, attention_mask=attention_mask)\n",
        "\n",
        "    return outputs\n",
        "\n",
        "\n",
        "def interpret_predictions(predictions):\n",
        "    aspect_classes = ['SCREEN', 'CAMERA', 'FEATURES', 'BATTERY', 'PERFORMANCE', 'STORAGE', 'DESIGN', 'PRICE', 'GENERAL', 'SER&ACC']\n",
        "    sentiment_labels = ['Positive', 'Negative', 'Neutral', 'None']\n",
        "\n",
        "    results = {}\n",
        "\n",
        "    for i, aspect in enumerate(aspect_classes):\n",
        "        aspect_sentiments = predictions[0, i].cpu().numpy()\n",
        "        sentiment_index = aspect_sentiments.argmax()\n",
        "        results[aspect] = sentiment_labels[sentiment_index]\n",
        "\n",
        "    return results"
      ]
    },
    {
      "cell_type": "markdown",
      "metadata": {
        "id": "ul-B1z_l4PIM"
      },
      "source": [
        "# 05. Thực hiện predict trên bộ dữ liệu kiểm thử - test"
      ]
    },
    {
      "cell_type": "code",
      "execution_count": 18,
      "metadata": {
        "colab": {
          "base_uri": "https://localhost:8080/",
          "height": 206
        },
        "id": "iYdA03hx4PIN",
        "outputId": "41e3b26f-6ad0-4385-f78e-df084a376311"
      },
      "outputs": [
        {
          "data": {
            "application/vnd.google.colaboratory.intrinsic+json": {
              "summary": "{\n  \"name\": \"test_data\",\n  \"rows\": 2224,\n  \"fields\": [\n    {\n      \"column\": \"index\",\n      \"properties\": {\n        \"dtype\": \"number\",\n        \"std\": 642,\n        \"min\": 0,\n        \"max\": 2223,\n        \"num_unique_values\": 2224,\n        \"samples\": [\n          96,\n          1401,\n          1995\n        ],\n        \"semantic_type\": \"\",\n        \"description\": \"\"\n      }\n    },\n    {\n      \"column\": \"comment\",\n      \"properties\": {\n        \"dtype\": \"string\",\n        \"num_unique_values\": 2224,\n        \"samples\": [\n          \"S\\u1ea3n ph\\u1ea9m t\\u1ed1t, nh\\u01b0ng pin kh\\u00f4ng tr\\u00e2u nh\\u01b0 m\\u00ecnh ngh\\u0129...x\\u00e0i c\\u1ea3 ng\\u00e0y 2,3 ti\\u1ebfng ch\\u1ec9 l\\u01b0\\u1edbt fb m\\u00e0 pin tu\\u1ed9t qu\\u00e1 mau\",\n          \"H\\u00e0ng ch\\u1ea5t l\\u01b0\\u1ee3ng sai r\\u1ea5t ok cho th\\u1ebf gi\\u1edbi \\u0111i \\u0111\\u00f4ng 5 sao .M\\u00ecnh mua h\\u01a1n 4 th\\u00e1ng m\\u00e0 th\\u1ea5y r\\u1ea5t tuy\\u1ec7t v\\u1eddi thanks nh\\u00e0 b\\u1ea1n h\\u00e0ng s\\u1ed1 1 Vi\\u00eat N\\u0103m.\",\n          \"E m\\u1edbi m\\u01b0a \\u0111c 2 th\\u00e1ng. M\\u00e0 e m\\u1edbi c\\u1eadp nh\\u1eadt phi\\u00ean b\\u1ea3n miui m\\u1edbi nh\\u1ea5t  , e s\\u1eed d\\u1ee5ng th\\u1ea5y n\\u00f3 t\\u1ee5t pin nhanh qu\\u00e1. M\\u00fan xu\\u1ed1ng l\\u1ea1i b\\u1ea3n c\\u1eadp nh\\u1eadt c\\u0169 th\\u00ec l\\u00e0m sao \\u1ea1\"\n        ],\n        \"semantic_type\": \"\",\n        \"description\": \"\"\n      }\n    },\n    {\n      \"column\": \"n_star\",\n      \"properties\": {\n        \"dtype\": \"number\",\n        \"std\": 1,\n        \"min\": 1,\n        \"max\": 5,\n        \"num_unique_values\": 5,\n        \"samples\": [\n          4,\n          3,\n          2\n        ],\n        \"semantic_type\": \"\",\n        \"description\": \"\"\n      }\n    },\n    {\n      \"column\": \"date_time\",\n      \"properties\": {\n        \"dtype\": \"category\",\n        \"num_unique_values\": 554,\n        \"samples\": [\n          \"7/1/2020\",\n          \"24/04/2020\",\n          \"5/5/2019\"\n        ],\n        \"semantic_type\": \"\",\n        \"description\": \"\"\n      }\n    },\n    {\n      \"column\": \"label\",\n      \"properties\": {\n        \"dtype\": \"category\",\n        \"num_unique_values\": 1109,\n        \"samples\": [\n          \"{FEATURES#Negative};{BATTERY#Positive};{PERFORMANCE#Neutral};{GENERAL#Negative};{SER&ACC#Neutral};{OTHERS};\",\n          \"{CAMERA#Neutral};{FEATURES#Positive};{BATTERY#Positive};{PERFORMANCE#Positive};{GENERAL#Positive};\",\n          \"{PERFORMANCE#Positive};{PRICE#Positive};{GENERAL#Positive};\"\n        ],\n        \"semantic_type\": \"\",\n        \"description\": \"\"\n      }\n    }\n  ]\n}",
              "type": "dataframe",
              "variable_name": "test_data"
            },
            "text/html": [
              "\n",
              "  <div id=\"df-144ee1f6-215e-4c78-9100-aa3cd6ae7d36\" class=\"colab-df-container\">\n",
              "    <div>\n",
              "<style scoped>\n",
              "    .dataframe tbody tr th:only-of-type {\n",
              "        vertical-align: middle;\n",
              "    }\n",
              "\n",
              "    .dataframe tbody tr th {\n",
              "        vertical-align: top;\n",
              "    }\n",
              "\n",
              "    .dataframe thead th {\n",
              "        text-align: right;\n",
              "    }\n",
              "</style>\n",
              "<table border=\"1\" class=\"dataframe\">\n",
              "  <thead>\n",
              "    <tr style=\"text-align: right;\">\n",
              "      <th></th>\n",
              "      <th>index</th>\n",
              "      <th>comment</th>\n",
              "      <th>n_star</th>\n",
              "      <th>date_time</th>\n",
              "      <th>label</th>\n",
              "    </tr>\n",
              "  </thead>\n",
              "  <tbody>\n",
              "    <tr>\n",
              "      <th>0</th>\n",
              "      <td>0</td>\n",
              "      <td>Điện thoải ổn. Facelock cực nhanh, vân tay ôk ...</td>\n",
              "      <td>5</td>\n",
              "      <td>5/2/2020</td>\n",
              "      <td>{SCREEN#Positive};{FEATURES#Positive};{PERFORM...</td>\n",
              "    </tr>\n",
              "    <tr>\n",
              "      <th>1</th>\n",
              "      <td>1</td>\n",
              "      <td>Mình mới  mua vivo91c. Tải ứng dụng ,games  nh...</td>\n",
              "      <td>5</td>\n",
              "      <td>14/05/2019</td>\n",
              "      <td>{FEATURES#Negative};{PERFORMANCE#Positive};{SE...</td>\n",
              "    </tr>\n",
              "    <tr>\n",
              "      <th>2</th>\n",
              "      <td>2</td>\n",
              "      <td>Xấu đẹp gì ko biết nhưng rất ưng TGdđ phục vụ ...</td>\n",
              "      <td>5</td>\n",
              "      <td>26/03/2020</td>\n",
              "      <td>{DESIGN#Neutral};{SER&amp;ACC#Positive};</td>\n",
              "    </tr>\n",
              "    <tr>\n",
              "      <th>3</th>\n",
              "      <td>3</td>\n",
              "      <td>Màn hình hơi lác khi chơi game. Game nặng thì ...</td>\n",
              "      <td>4</td>\n",
              "      <td>4/6/2019</td>\n",
              "      <td>{PERFORMANCE#Negative};{DESIGN#Negative};{OTHE...</td>\n",
              "    </tr>\n",
              "    <tr>\n",
              "      <th>4</th>\n",
              "      <td>4</td>\n",
              "      <td>Nói chung máy đẹp với màn amoled, ổn trong tầm...</td>\n",
              "      <td>4</td>\n",
              "      <td>12/5/2020</td>\n",
              "      <td>{SCREEN#Positive};{BATTERY#Negative};{DESIGN#P...</td>\n",
              "    </tr>\n",
              "  </tbody>\n",
              "</table>\n",
              "</div>\n",
              "    <div class=\"colab-df-buttons\">\n",
              "\n",
              "  <div class=\"colab-df-container\">\n",
              "    <button class=\"colab-df-convert\" onclick=\"convertToInteractive('df-144ee1f6-215e-4c78-9100-aa3cd6ae7d36')\"\n",
              "            title=\"Convert this dataframe to an interactive table.\"\n",
              "            style=\"display:none;\">\n",
              "\n",
              "  <svg xmlns=\"http://www.w3.org/2000/svg\" height=\"24px\" viewBox=\"0 -960 960 960\">\n",
              "    <path d=\"M120-120v-720h720v720H120Zm60-500h600v-160H180v160Zm220 220h160v-160H400v160Zm0 220h160v-160H400v160ZM180-400h160v-160H180v160Zm440 0h160v-160H620v160ZM180-180h160v-160H180v160Zm440 0h160v-160H620v160Z\"/>\n",
              "  </svg>\n",
              "    </button>\n",
              "\n",
              "  <style>\n",
              "    .colab-df-container {\n",
              "      display:flex;\n",
              "      gap: 12px;\n",
              "    }\n",
              "\n",
              "    .colab-df-convert {\n",
              "      background-color: #E8F0FE;\n",
              "      border: none;\n",
              "      border-radius: 50%;\n",
              "      cursor: pointer;\n",
              "      display: none;\n",
              "      fill: #1967D2;\n",
              "      height: 32px;\n",
              "      padding: 0 0 0 0;\n",
              "      width: 32px;\n",
              "    }\n",
              "\n",
              "    .colab-df-convert:hover {\n",
              "      background-color: #E2EBFA;\n",
              "      box-shadow: 0px 1px 2px rgba(60, 64, 67, 0.3), 0px 1px 3px 1px rgba(60, 64, 67, 0.15);\n",
              "      fill: #174EA6;\n",
              "    }\n",
              "\n",
              "    .colab-df-buttons div {\n",
              "      margin-bottom: 4px;\n",
              "    }\n",
              "\n",
              "    [theme=dark] .colab-df-convert {\n",
              "      background-color: #3B4455;\n",
              "      fill: #D2E3FC;\n",
              "    }\n",
              "\n",
              "    [theme=dark] .colab-df-convert:hover {\n",
              "      background-color: #434B5C;\n",
              "      box-shadow: 0px 1px 3px 1px rgba(0, 0, 0, 0.15);\n",
              "      filter: drop-shadow(0px 1px 2px rgba(0, 0, 0, 0.3));\n",
              "      fill: #FFFFFF;\n",
              "    }\n",
              "  </style>\n",
              "\n",
              "    <script>\n",
              "      const buttonEl =\n",
              "        document.querySelector('#df-144ee1f6-215e-4c78-9100-aa3cd6ae7d36 button.colab-df-convert');\n",
              "      buttonEl.style.display =\n",
              "        google.colab.kernel.accessAllowed ? 'block' : 'none';\n",
              "\n",
              "      async function convertToInteractive(key) {\n",
              "        const element = document.querySelector('#df-144ee1f6-215e-4c78-9100-aa3cd6ae7d36');\n",
              "        const dataTable =\n",
              "          await google.colab.kernel.invokeFunction('convertToInteractive',\n",
              "                                                    [key], {});\n",
              "        if (!dataTable) return;\n",
              "\n",
              "        const docLinkHtml = 'Like what you see? Visit the ' +\n",
              "          '<a target=\"_blank\" href=https://colab.research.google.com/notebooks/data_table.ipynb>data table notebook</a>'\n",
              "          + ' to learn more about interactive tables.';\n",
              "        element.innerHTML = '';\n",
              "        dataTable['output_type'] = 'display_data';\n",
              "        await google.colab.output.renderOutput(dataTable, element);\n",
              "        const docLink = document.createElement('div');\n",
              "        docLink.innerHTML = docLinkHtml;\n",
              "        element.appendChild(docLink);\n",
              "      }\n",
              "    </script>\n",
              "  </div>\n",
              "\n",
              "\n",
              "<div id=\"df-b7497cd4-4027-4fbc-9c22-d53ee34333be\">\n",
              "  <button class=\"colab-df-quickchart\" onclick=\"quickchart('df-b7497cd4-4027-4fbc-9c22-d53ee34333be')\"\n",
              "            title=\"Suggest charts\"\n",
              "            style=\"display:none;\">\n",
              "\n",
              "<svg xmlns=\"http://www.w3.org/2000/svg\" height=\"24px\"viewBox=\"0 0 24 24\"\n",
              "     width=\"24px\">\n",
              "    <g>\n",
              "        <path d=\"M19 3H5c-1.1 0-2 .9-2 2v14c0 1.1.9 2 2 2h14c1.1 0 2-.9 2-2V5c0-1.1-.9-2-2-2zM9 17H7v-7h2v7zm4 0h-2V7h2v10zm4 0h-2v-4h2v4z\"/>\n",
              "    </g>\n",
              "</svg>\n",
              "  </button>\n",
              "\n",
              "<style>\n",
              "  .colab-df-quickchart {\n",
              "      --bg-color: #E8F0FE;\n",
              "      --fill-color: #1967D2;\n",
              "      --hover-bg-color: #E2EBFA;\n",
              "      --hover-fill-color: #174EA6;\n",
              "      --disabled-fill-color: #AAA;\n",
              "      --disabled-bg-color: #DDD;\n",
              "  }\n",
              "\n",
              "  [theme=dark] .colab-df-quickchart {\n",
              "      --bg-color: #3B4455;\n",
              "      --fill-color: #D2E3FC;\n",
              "      --hover-bg-color: #434B5C;\n",
              "      --hover-fill-color: #FFFFFF;\n",
              "      --disabled-bg-color: #3B4455;\n",
              "      --disabled-fill-color: #666;\n",
              "  }\n",
              "\n",
              "  .colab-df-quickchart {\n",
              "    background-color: var(--bg-color);\n",
              "    border: none;\n",
              "    border-radius: 50%;\n",
              "    cursor: pointer;\n",
              "    display: none;\n",
              "    fill: var(--fill-color);\n",
              "    height: 32px;\n",
              "    padding: 0;\n",
              "    width: 32px;\n",
              "  }\n",
              "\n",
              "  .colab-df-quickchart:hover {\n",
              "    background-color: var(--hover-bg-color);\n",
              "    box-shadow: 0 1px 2px rgba(60, 64, 67, 0.3), 0 1px 3px 1px rgba(60, 64, 67, 0.15);\n",
              "    fill: var(--button-hover-fill-color);\n",
              "  }\n",
              "\n",
              "  .colab-df-quickchart-complete:disabled,\n",
              "  .colab-df-quickchart-complete:disabled:hover {\n",
              "    background-color: var(--disabled-bg-color);\n",
              "    fill: var(--disabled-fill-color);\n",
              "    box-shadow: none;\n",
              "  }\n",
              "\n",
              "  .colab-df-spinner {\n",
              "    border: 2px solid var(--fill-color);\n",
              "    border-color: transparent;\n",
              "    border-bottom-color: var(--fill-color);\n",
              "    animation:\n",
              "      spin 1s steps(1) infinite;\n",
              "  }\n",
              "\n",
              "  @keyframes spin {\n",
              "    0% {\n",
              "      border-color: transparent;\n",
              "      border-bottom-color: var(--fill-color);\n",
              "      border-left-color: var(--fill-color);\n",
              "    }\n",
              "    20% {\n",
              "      border-color: transparent;\n",
              "      border-left-color: var(--fill-color);\n",
              "      border-top-color: var(--fill-color);\n",
              "    }\n",
              "    30% {\n",
              "      border-color: transparent;\n",
              "      border-left-color: var(--fill-color);\n",
              "      border-top-color: var(--fill-color);\n",
              "      border-right-color: var(--fill-color);\n",
              "    }\n",
              "    40% {\n",
              "      border-color: transparent;\n",
              "      border-right-color: var(--fill-color);\n",
              "      border-top-color: var(--fill-color);\n",
              "    }\n",
              "    60% {\n",
              "      border-color: transparent;\n",
              "      border-right-color: var(--fill-color);\n",
              "    }\n",
              "    80% {\n",
              "      border-color: transparent;\n",
              "      border-right-color: var(--fill-color);\n",
              "      border-bottom-color: var(--fill-color);\n",
              "    }\n",
              "    90% {\n",
              "      border-color: transparent;\n",
              "      border-bottom-color: var(--fill-color);\n",
              "    }\n",
              "  }\n",
              "</style>\n",
              "\n",
              "  <script>\n",
              "    async function quickchart(key) {\n",
              "      const quickchartButtonEl =\n",
              "        document.querySelector('#' + key + ' button');\n",
              "      quickchartButtonEl.disabled = true;  // To prevent multiple clicks.\n",
              "      quickchartButtonEl.classList.add('colab-df-spinner');\n",
              "      try {\n",
              "        const charts = await google.colab.kernel.invokeFunction(\n",
              "            'suggestCharts', [key], {});\n",
              "      } catch (error) {\n",
              "        console.error('Error during call to suggestCharts:', error);\n",
              "      }\n",
              "      quickchartButtonEl.classList.remove('colab-df-spinner');\n",
              "      quickchartButtonEl.classList.add('colab-df-quickchart-complete');\n",
              "    }\n",
              "    (() => {\n",
              "      let quickchartButtonEl =\n",
              "        document.querySelector('#df-b7497cd4-4027-4fbc-9c22-d53ee34333be button');\n",
              "      quickchartButtonEl.style.display =\n",
              "        google.colab.kernel.accessAllowed ? 'block' : 'none';\n",
              "    })();\n",
              "  </script>\n",
              "</div>\n",
              "\n",
              "    </div>\n",
              "  </div>\n"
            ],
            "text/plain": [
              "   index                                            comment  n_star  \\\n",
              "0      0  Điện thoải ổn. Facelock cực nhanh, vân tay ôk ...       5   \n",
              "1      1  Mình mới  mua vivo91c. Tải ứng dụng ,games  nh...       5   \n",
              "2      2  Xấu đẹp gì ko biết nhưng rất ưng TGdđ phục vụ ...       5   \n",
              "3      3  Màn hình hơi lác khi chơi game. Game nặng thì ...       4   \n",
              "4      4  Nói chung máy đẹp với màn amoled, ổn trong tầm...       4   \n",
              "\n",
              "    date_time                                              label  \n",
              "0    5/2/2020  {SCREEN#Positive};{FEATURES#Positive};{PERFORM...  \n",
              "1  14/05/2019  {FEATURES#Negative};{PERFORMANCE#Positive};{SE...  \n",
              "2  26/03/2020               {DESIGN#Neutral};{SER&ACC#Positive};  \n",
              "3    4/6/2019  {PERFORMANCE#Negative};{DESIGN#Negative};{OTHE...  \n",
              "4   12/5/2020  {SCREEN#Positive};{BATTERY#Negative};{DESIGN#P...  "
            ]
          },
          "execution_count": 18,
          "metadata": {},
          "output_type": "execute_result"
        }
      ],
      "source": [
        "test_data = pd.read_csv(test_path)\n",
        "test_data.head()"
      ]
    },
    {
      "cell_type": "code",
      "execution_count": 19,
      "metadata": {
        "colab": {
          "base_uri": "https://localhost:8080/"
        },
        "id": "VTgz_PUD4PIN",
        "outputId": "17d05449-ccd2-4ba8-b252-e0fa76127ea3"
      },
      "outputs": [
        {
          "name": "stdout",
          "output_type": "stream",
          "text": [
            "Mọi thứ ok.mình thấy pin trâu chứ có sao đâu.mua đc 2 tuần rồi chỉ có cảm biến vân tay ko nhạy như mong đợi thôi.\n",
            "{FEATURES#Negative};{BATTERY#Positive};{GENERAL#Positive};\n",
            "Aspect Sentiment Prediction:\n",
            "SCREEN: None\n",
            "CAMERA: None\n",
            "FEATURES: Negative\n",
            "BATTERY: Positive\n",
            "PERFORMANCE: None\n",
            "STORAGE: None\n",
            "DESIGN: None\n",
            "PRICE: None\n",
            "GENERAL: Positive\n",
            "SER&ACC: None\n"
          ]
        }
      ],
      "source": [
        "max_len = 256\n",
        "idx = 20\n",
        "sentence_test = test_data.loc[idx, 'comment']\n",
        "true_label = test_data.loc[idx, 'label']\n",
        "print(sentence_test)\n",
        "print(true_label)\n",
        "\n",
        "predictions = predict_sentiment(model, sentence_test, tokenizer, max_len, device)\n",
        "results = interpret_predictions(predictions)\n",
        "\n",
        "print('Aspect Sentiment Prediction:')\n",
        "for aspect, sentiment in results.items():\n",
        "    print(f'{aspect}: {sentiment}')"
      ]
    },
    {
      "cell_type": "code",
      "execution_count": 20,
      "metadata": {
        "colab": {
          "base_uri": "https://localhost:8080/"
        },
        "id": "bZ0XBIGB4PIN",
        "outputId": "06a72d44-149b-4887-8bd3-8607c7583e77"
      },
      "outputs": [
        {
          "name": "stdout",
          "output_type": "stream",
          "text": [
            "All done!\n"
          ]
        }
      ],
      "source": [
        "predictions_on_test = []\n",
        "\n",
        "for i in range(len(test_data)):\n",
        "    print(i)\n",
        "    sentence_on_test = test_data['comment'][i]\n",
        "    prediction_on_test = predict_sentiment(model, sentence_on_test, tokenizer, max_len, device)\n",
        "    results = interpret_predictions(prediction_on_test)\n",
        "    predictions_on_test.append(results)\n",
        "    clear_output()\n",
        "\n",
        "print('All done!')\n"
      ]
    },
    {
      "cell_type": "code",
      "execution_count": 21,
      "metadata": {
        "id": "_dyobrC94PIN"
      },
      "outputs": [],
      "source": [
        "true_labels = []\n",
        "\n",
        "for i in range(len(test_data)):\n",
        "    outcome = {}\n",
        "    label = test_data['label'][i]\n",
        "    label = label.replace('{', '')\n",
        "    label = label.replace('}', '')\n",
        "    labels = label.split(';')\n",
        "    for l in labels:\n",
        "        try:\n",
        "            text = l.split('#')\n",
        "            outcome[text[0]] = text[1]\n",
        "        except:\n",
        "            pass\n",
        "    true_labels.append(outcome)"
      ]
    },
    {
      "cell_type": "markdown",
      "metadata": {
        "id": "k5ydRZih4PIN"
      },
      "source": [
        "# 06. Chuẩn hóa nhãn đầu ra để thực hiện đánh giá hiệu suất mô hình"
      ]
    },
    {
      "cell_type": "code",
      "execution_count": 22,
      "metadata": {
        "id": "YeYOCpb64PIN"
      },
      "outputs": [],
      "source": [
        "def full_label(true_label, prediction):\n",
        "    '''true_label: dict\n",
        "     prediction: dict '''\n",
        "    for key, value in prediction.items():\n",
        "        if key not in true_label:\n",
        "            true_label[key] = 'None'\n",
        "    return true_label"
      ]
    },
    {
      "cell_type": "code",
      "execution_count": 23,
      "metadata": {
        "id": "LsKJlQrR4PIN"
      },
      "outputs": [],
      "source": [
        "# mục tiêu là đưa danh sách các nhãn thực tế về dạng đánh giá 10 class như trong dự đoán\n",
        "true_full_labels = []\n",
        "for idx in range(len(predictions_on_test)):\n",
        "    true_label = true_labels[idx]\n",
        "    prediction = predictions_on_test[idx]\n",
        "    true_full_labels.append(full_label(true_label, prediction))"
      ]
    },
    {
      "cell_type": "code",
      "execution_count": 24,
      "metadata": {
        "colab": {
          "base_uri": "https://localhost:8080/"
        },
        "id": "ZQHuGDRc4PIO",
        "outputId": "bc7c3037-29ab-410f-cbbc-bd6534d1a40d"
      },
      "outputs": [
        {
          "name": "stdout",
          "output_type": "stream",
          "text": [
            "{'SCREEN': 'None', 'CAMERA': 'None', 'FEATURES': 'None', 'BATTERY': 'None', 'PERFORMANCE': 'Positive', 'STORAGE': 'None', 'DESIGN': 'None', 'PRICE': 'None', 'GENERAL': 'Positive', 'SER&ACC': 'Positive'}\n",
            "{'SCREEN': 'None', 'CAMERA': 'None', 'FEATURES': 'None', 'BATTERY': 'None', 'PERFORMANCE': 'None', 'STORAGE': 'None', 'DESIGN': 'None', 'PRICE': 'None', 'GENERAL': 'None', 'SER&ACC': 'None'}\n",
            "Thật tuyệt máy qua mượt túi thích  như thế giới Di Động có chỗ giá khác túi không hiểu đánh giá 5sao cho thế giới Di Động phương Phú Châu 5sao nhân viên OK\n",
            "true:  SCREEN None\n",
            "predicted:  SCREEN None\n",
            "true:  CAMERA None\n",
            "predicted:  CAMERA None\n",
            "true:  FEATURES None\n",
            "predicted:  FEATURES None\n",
            "true:  BATTERY None\n",
            "predicted:  BATTERY None\n",
            "true:  PERFORMANCE None\n",
            "predicted:  PERFORMANCE Positive\n",
            "true:  STORAGE None\n",
            "predicted:  STORAGE None\n",
            "true:  DESIGN None\n",
            "predicted:  DESIGN None\n",
            "true:  PRICE None\n",
            "predicted:  PRICE None\n",
            "true:  GENERAL None\n",
            "predicted:  GENERAL Positive\n",
            "true:  SER&ACC None\n",
            "predicted:  SER&ACC Positive\n"
          ]
        }
      ],
      "source": [
        "# data thỉnh thoảng bị sai -..-\n",
        "# bằng chứng là SER&ACC trong câu này phải là Positive nhưng nhãn là None\n",
        "# hoặc GENERAL nên là Positive thì nhãn lại là None\n",
        "\n",
        "print(predictions_on_test[6])\n",
        "print(true_labels[6])\n",
        "print(test_data.loc[6, 'comment'])\n",
        "for key, value in true_labels[6].items():\n",
        "    print('true: ',key, value)\n",
        "    print('predicted: ', key, predictions_on_test[6][key])"
      ]
    },
    {
      "cell_type": "markdown",
      "metadata": {
        "id": "GKWoRazF4PIO"
      },
      "source": [
        "# 07. Đánh giá hiệu suất tổng thể mô hình"
      ]
    },
    {
      "cell_type": "code",
      "execution_count": 25,
      "metadata": {
        "colab": {
          "base_uri": "https://localhost:8080/"
        },
        "id": "tyyaV6fb4PIO",
        "outputId": "74a7680f-cfb7-4098-c992-9d4f92ce9332"
      },
      "outputs": [
        {
          "name": "stdout",
          "output_type": "stream",
          "text": [
            "Accuracy = 0.9354240118760438\n",
            "Precision = 0.868496192893401\n",
            "Recall = 0.9067572043723087\n",
            "f1 = 0.8872143898881867\n"
          ]
        }
      ],
      "source": [
        "true_ = []\n",
        "predicted_ = []\n",
        "\n",
        "for idx in range(len(predictions_on_test)):\n",
        "    for key, value in predictions_on_test[idx].items():\n",
        "        if true_full_labels[idx][key] == 'None' and value == 'None':\n",
        "            true_.append(0)\n",
        "            predicted_.append(0)\n",
        "        elif true_full_labels[idx][key] != 'None' and true_full_labels[idx][key] == value:\n",
        "            true_.append(1)\n",
        "            predicted_.append(1)\n",
        "        elif true_full_labels[idx][key] == 'None' and value != 'None':\n",
        "            true_.append(0)\n",
        "            predicted_.append(1)\n",
        "        elif true_full_labels[idx][key] != 'None' and value == 'None':\n",
        "            true_.append(1)\n",
        "            predicted_.append(0)\n",
        "\n",
        "accuracy = accuracy_score(true_, predicted_)\n",
        "precision = precision_score(true_, predicted_)\n",
        "recall = recall_score(true_, predicted_)\n",
        "f1 = f1_score(true_, predicted_)\n",
        "\n",
        "print(f'Accuracy = {accuracy}')\n",
        "print(f'Precision = {precision}')\n",
        "print(f'Recall = {recall}')\n",
        "print(f'f1 = {f1}')"
      ]
    },
    {
      "cell_type": "markdown",
      "metadata": {
        "id": "kHsExt1k4PIO"
      },
      "source": [
        "# 08. Đánh giá hiệu suất nhận diện khía cạnh"
      ]
    },
    {
      "cell_type": "markdown",
      "metadata": {
        "id": "CyzCsKSA4PIO"
      },
      "source": [
        "### Accuracy, Precision, Recall, F1-score trên toàn bộ khía cạnh"
      ]
    },
    {
      "cell_type": "code",
      "execution_count": 26,
      "metadata": {
        "colab": {
          "base_uri": "https://localhost:8080/"
        },
        "id": "8BsZtod14PIO",
        "outputId": "b89dd18c-6933-42c7-a56d-31aca7f1db3c"
      },
      "outputs": [
        {
          "name": "stdout",
          "output_type": "stream",
          "text": [
            "Accuracy = 0.8156535558204211\n",
            "Precision = 0.8813680595306239\n",
            "Recall = 0.9162451651294258\n",
            "F1-score = 0.8984682713347921\n"
          ]
        }
      ],
      "source": [
        "true_ = []\n",
        "predicted_ = []\n",
        "\n",
        "for idx in range(len(predictions_on_test)):\n",
        "    for key, value in predictions_on_test[idx].items():\n",
        "        if true_full_labels[idx] == 'None' and value == 'None':\n",
        "            true_.append(0)\n",
        "            predicted_.append(0)\n",
        "        elif true_full_labels[idx][key] != 'None' and value != 'None':\n",
        "            true_.append(1)\n",
        "            predicted_.append(1)\n",
        "        elif true_full_labels[idx][key] == 'None' and value != 'None':\n",
        "            true_.append(0)\n",
        "            predicted_.append(1)\n",
        "        elif true_full_labels[idx][key] != 'None' and value == 'None':\n",
        "            true_.append(1)\n",
        "            predicted_.append(0)\n",
        "\n",
        "print(f'Accuracy = {accuracy_score(true_, predicted_)}')\n",
        "print(f'Precision = {precision_score(true_, predicted_)}')\n",
        "print(f'Recall = {recall_score(true_, predicted_)}')\n",
        "print(f'F1-score = {f1_score(true_, predicted_)}')"
      ]
    },
    {
      "cell_type": "markdown",
      "metadata": {
        "id": "pMeOmrDe4PIP"
      },
      "source": [
        "### đánh giá hiệu suất khía cạnh trên class SCREEN"
      ]
    },
    {
      "cell_type": "code",
      "execution_count": 27,
      "metadata": {
        "colab": {
          "base_uri": "https://localhost:8080/"
        },
        "id": "c1PAESfp4PIP",
        "outputId": "4645fafd-65fd-4d44-b72e-08a831fa3d6b"
      },
      "outputs": [
        {
          "name": "stdout",
          "output_type": "stream",
          "text": [
            "Accuracy = 0.960431654676259\n",
            "Precision = 0.8175438596491228\n",
            "Recall = 0.8661710037174721\n",
            "f1 = 0.8411552346570398\n"
          ]
        }
      ],
      "source": [
        "true_ = []\n",
        "predicted_ = []\n",
        "\n",
        "for idx in range(len(true_full_labels)):\n",
        "    key = 'SCREEN'\n",
        "    if true_full_labels[idx][key] == 'None' and predictions_on_test[idx][key] == 'None':\n",
        "        true_.append(0)\n",
        "        predicted_.append(0)\n",
        "    elif true_full_labels[idx][key] != 'None' and predictions_on_test[idx][key] != 'None':\n",
        "        true_.append(1)\n",
        "        predicted_.append(1)\n",
        "    elif true_full_labels[idx][key] == 'None' and predictions_on_test[idx][key] != 'None':\n",
        "        true_.append(0)\n",
        "        predicted_.append(1)\n",
        "    elif true_full_labels[idx][key] != 'None' and predictions_on_test[idx][key] == 'None':\n",
        "        true_.append(1)\n",
        "        predicted_.append(0)\n",
        "\n",
        "accuracy = accuracy_score(true_, predicted_)\n",
        "precision = precision_score(true_, predicted_)\n",
        "recall = recall_score(true_, predicted_)\n",
        "f1 = f1_score(true_, predicted_)\n",
        "\n",
        "print(f'Accuracy = {accuracy}')\n",
        "print(f'Precision = {precision}')\n",
        "print(f'Recall = {recall}')\n",
        "print(f'f1 = {f1}')"
      ]
    },
    {
      "cell_type": "markdown",
      "metadata": {
        "id": "za7u-Iqz4PIP"
      },
      "source": [
        "### đánh giá hiệu suất khía cạnh trên class FEATURES"
      ]
    },
    {
      "cell_type": "code",
      "execution_count": 28,
      "metadata": {
        "colab": {
          "base_uri": "https://localhost:8080/"
        },
        "id": "fEhXODbc4PIP",
        "outputId": "3e4aded0-3d82-4304-d753-8bd38dfc0b6a"
      },
      "outputs": [
        {
          "name": "stdout",
          "output_type": "stream",
          "text": [
            "Accuracy = 0.9123201438848921\n",
            "Precision = 0.8290816326530612\n",
            "Recall = 0.9142053445850914\n",
            "f1 = 0.8695652173913043\n"
          ]
        }
      ],
      "source": [
        "true_ = []\n",
        "predicted_ = []\n",
        "\n",
        "for idx in range(len(true_full_labels)):\n",
        "    key = 'FEATURES'\n",
        "    if true_full_labels[idx][key] == 'None' and predictions_on_test[idx][key] == 'None':\n",
        "        true_.append(0)\n",
        "        predicted_.append(0)\n",
        "    elif true_full_labels[idx][key] != 'None' and predictions_on_test[idx][key] != 'None':\n",
        "        true_.append(1)\n",
        "        predicted_.append(1)\n",
        "    elif true_full_labels[idx][key] == 'None' and predictions_on_test[idx][key] != 'None':\n",
        "        true_.append(0)\n",
        "        predicted_.append(1)\n",
        "    elif true_full_labels[idx][key] != 'None' and predictions_on_test[idx][key] == 'None':\n",
        "        true_.append(1)\n",
        "        predicted_.append(0)\n",
        "\n",
        "accuracy = accuracy_score(true_, predicted_)\n",
        "precision = precision_score(true_, predicted_)\n",
        "recall = recall_score(true_, predicted_)\n",
        "f1 = f1_score(true_, predicted_)\n",
        "\n",
        "print(f'Accuracy = {accuracy}')\n",
        "print(f'Precision = {precision}')\n",
        "print(f'Recall = {recall}')\n",
        "print(f'f1 = {f1}')"
      ]
    },
    {
      "cell_type": "markdown",
      "metadata": {
        "id": "htZA6cs44PIP"
      },
      "source": [
        "### đánh giá hiệu suất khía cạnh trên class PERFORMANCE"
      ]
    },
    {
      "cell_type": "code",
      "execution_count": 29,
      "metadata": {
        "colab": {
          "base_uri": "https://localhost:8080/"
        },
        "id": "Uk44S3j84PIS",
        "outputId": "7317a8a5-3d38-4625-feef-20c2f0699193"
      },
      "outputs": [
        {
          "name": "stdout",
          "output_type": "stream",
          "text": [
            "Accuracy = 0.9019784172661871\n",
            "Precision = 0.9008403361344538\n",
            "Recall = 0.9146757679180887\n",
            "f1 = 0.9077053344623202\n"
          ]
        }
      ],
      "source": [
        "true_ = []\n",
        "predicted_ = []\n",
        "\n",
        "for idx in range(len(true_full_labels)):\n",
        "    key = 'PERFORMANCE'\n",
        "    if true_full_labels[idx][key] == 'None' and predictions_on_test[idx][key] == 'None':\n",
        "        true_.append(0)\n",
        "        predicted_.append(0)\n",
        "    elif true_full_labels[idx][key] != 'None' and predictions_on_test[idx][key] != 'None':\n",
        "        true_.append(1)\n",
        "        predicted_.append(1)\n",
        "    elif true_full_labels[idx][key] == 'None' and predictions_on_test[idx][key] != 'None':\n",
        "        true_.append(0)\n",
        "        predicted_.append(1)\n",
        "    elif true_full_labels[idx][key] != 'None' and predictions_on_test[idx][key] == 'None':\n",
        "        true_.append(1)\n",
        "        predicted_.append(0)\n",
        "\n",
        "accuracy = accuracy_score(true_, predicted_)\n",
        "precision = precision_score(true_, predicted_)\n",
        "recall = recall_score(true_, predicted_)\n",
        "f1 = f1_score(true_, predicted_)\n",
        "\n",
        "print(f'Accuracy = {accuracy}')\n",
        "print(f'Precision = {precision}')\n",
        "print(f'Recall = {recall}')\n",
        "print(f'f1 = {f1}')"
      ]
    },
    {
      "cell_type": "markdown",
      "metadata": {
        "id": "k7Ga5XU24PIS"
      },
      "source": [
        "### đánh giá hiệu suất khía cạnh trên class GENERAL"
      ]
    },
    {
      "cell_type": "code",
      "execution_count": 30,
      "metadata": {
        "colab": {
          "base_uri": "https://localhost:8080/"
        },
        "id": "vBdR6d-84PIT",
        "outputId": "678b32aa-9a67-45f2-fd29-afd9d131e688"
      },
      "outputs": [
        {
          "name": "stdout",
          "output_type": "stream",
          "text": [
            "Accuracy = 0.85431654676259\n",
            "Precision = 0.8632302405498282\n",
            "Recall = 0.9094858797972484\n",
            "f1 = 0.8857545839210155\n"
          ]
        }
      ],
      "source": [
        "true_ = []\n",
        "predicted_ = []\n",
        "\n",
        "for idx in range(len(true_full_labels)):\n",
        "    key = 'GENERAL'\n",
        "    if true_full_labels[idx][key] == 'None' and predictions_on_test[idx][key] == 'None':\n",
        "        true_.append(0)\n",
        "        predicted_.append(0)\n",
        "    elif true_full_labels[idx][key] != 'None' and predictions_on_test[idx][key] != 'None':\n",
        "        true_.append(1)\n",
        "        predicted_.append(1)\n",
        "    elif true_full_labels[idx][key] == 'None' and predictions_on_test[idx][key] != 'None':\n",
        "        true_.append(0)\n",
        "        predicted_.append(1)\n",
        "    elif true_full_labels[idx][key] != 'None' and predictions_on_test[idx][key] == 'None':\n",
        "        true_.append(1)\n",
        "        predicted_.append(0)\n",
        "\n",
        "accuracy = accuracy_score(true_, predicted_)\n",
        "precision = precision_score(true_, predicted_)\n",
        "recall = recall_score(true_, predicted_)\n",
        "f1 = f1_score(true_, predicted_)\n",
        "\n",
        "print(f'Accuracy = {accuracy}')\n",
        "print(f'Precision = {precision}')\n",
        "print(f'Recall = {recall}')\n",
        "print(f'f1 = {f1}')"
      ]
    },
    {
      "cell_type": "markdown",
      "metadata": {
        "id": "1FZsc9Kg4PIT"
      },
      "source": [
        "### đánh giá hiệu suất khía cạnh trên class BATTERY"
      ]
    },
    {
      "cell_type": "code",
      "execution_count": 31,
      "metadata": {
        "colab": {
          "base_uri": "https://localhost:8080/"
        },
        "id": "70LQN5Kx4PIT",
        "outputId": "68e7c442-bdfb-476a-f145-6499245fda3a"
      },
      "outputs": [
        {
          "name": "stdout",
          "output_type": "stream",
          "text": [
            "Accuracy = 0.9671762589928058\n",
            "Precision = 0.9485224022878932\n",
            "Recall = 0.9812623274161736\n",
            "f1 = 0.9646146388754241\n"
          ]
        }
      ],
      "source": [
        "true_ = []\n",
        "predicted_ = []\n",
        "\n",
        "for idx in range(len(true_full_labels)):\n",
        "    key = 'BATTERY'\n",
        "    if true_full_labels[idx][key] == 'None' and predictions_on_test[idx][key] == 'None':\n",
        "        true_.append(0)\n",
        "        predicted_.append(0)\n",
        "    elif true_full_labels[idx][key] != 'None' and predictions_on_test[idx][key] != 'None':\n",
        "        true_.append(1)\n",
        "        predicted_.append(1)\n",
        "    elif true_full_labels[idx][key] == 'None' and predictions_on_test[idx][key] != 'None':\n",
        "        true_.append(0)\n",
        "        predicted_.append(1)\n",
        "    elif true_full_labels[idx][key] != 'None' and predictions_on_test[idx][key] == 'None':\n",
        "        true_.append(1)\n",
        "        predicted_.append(0)\n",
        "\n",
        "accuracy = accuracy_score(true_, predicted_)\n",
        "precision = precision_score(true_, predicted_)\n",
        "recall = recall_score(true_, predicted_)\n",
        "f1 = f1_score(true_, predicted_)\n",
        "\n",
        "print(f'Accuracy = {accuracy}')\n",
        "print(f'Precision = {precision}')\n",
        "print(f'Recall = {recall}')\n",
        "print(f'f1 = {f1}')"
      ]
    },
    {
      "cell_type": "markdown",
      "metadata": {
        "id": "p4knquCr4PIT"
      },
      "source": [
        "### đánh giá hiệu suất khía cạnh trên class STORAGE"
      ]
    },
    {
      "cell_type": "code",
      "execution_count": 32,
      "metadata": {
        "colab": {
          "base_uri": "https://localhost:8080/"
        },
        "id": "pCsRFd1y4PIT",
        "outputId": "071ded47-6a45-4b38-e5a4-3c9f816eff41"
      },
      "outputs": [
        {
          "name": "stdout",
          "output_type": "stream",
          "text": [
            "Accuracy = 0.9932553956834532\n",
            "Precision = 0.75\n",
            "Recall = 0.6666666666666666\n",
            "f1 = 0.7058823529411765\n"
          ]
        }
      ],
      "source": [
        "true_ = []\n",
        "predicted_ = []\n",
        "\n",
        "for idx in range(len(true_full_labels)):\n",
        "    key = 'STORAGE'\n",
        "    if true_full_labels[idx][key] == 'None' and predictions_on_test[idx][key] == 'None':\n",
        "        true_.append(0)\n",
        "        predicted_.append(0)\n",
        "    elif true_full_labels[idx][key] != 'None' and predictions_on_test[idx][key] != 'None':\n",
        "        true_.append(1)\n",
        "        predicted_.append(1)\n",
        "    elif true_full_labels[idx][key] == 'None' and predictions_on_test[idx][key] != 'None':\n",
        "        true_.append(0)\n",
        "        predicted_.append(1)\n",
        "    elif true_full_labels[idx][key] != 'None' and predictions_on_test[idx][key] == 'None':\n",
        "        true_.append(1)\n",
        "        predicted_.append(0)\n",
        "\n",
        "accuracy = accuracy_score(true_, predicted_)\n",
        "precision = precision_score(true_, predicted_)\n",
        "recall = recall_score(true_, predicted_)\n",
        "f1 = f1_score(true_, predicted_)\n",
        "\n",
        "print(f'Accuracy = {accuracy}')\n",
        "print(f'Precision = {precision}')\n",
        "print(f'Recall = {recall}')\n",
        "print(f'f1 = {f1}')"
      ]
    },
    {
      "cell_type": "markdown",
      "metadata": {
        "id": "T9mUgOii4PIT"
      },
      "source": [
        "### đánh giá hiệu suất khía cạnh trên class DESIGN"
      ]
    },
    {
      "cell_type": "code",
      "execution_count": 33,
      "metadata": {
        "colab": {
          "base_uri": "https://localhost:8080/"
        },
        "id": "vL4RQ0fG4PIT",
        "outputId": "061e459b-90dc-4ad2-8e2a-f66439a171dc"
      },
      "outputs": [
        {
          "name": "stdout",
          "output_type": "stream",
          "text": [
            "Accuracy = 0.9559352517985612\n",
            "Precision = 0.875\n",
            "Recall = 0.8793969849246231\n",
            "f1 = 0.8771929824561404\n"
          ]
        }
      ],
      "source": [
        "true_ = []\n",
        "predicted_ = []\n",
        "\n",
        "for idx in range(len(true_full_labels)):\n",
        "    key = 'DESIGN'\n",
        "    if true_full_labels[idx][key] == 'None' and predictions_on_test[idx][key] == 'None':\n",
        "        true_.append(0)\n",
        "        predicted_.append(0)\n",
        "    elif true_full_labels[idx][key] != 'None' and predictions_on_test[idx][key] != 'None':\n",
        "        true_.append(1)\n",
        "        predicted_.append(1)\n",
        "    elif true_full_labels[idx][key] == 'None' and predictions_on_test[idx][key] != 'None':\n",
        "        true_.append(0)\n",
        "        predicted_.append(1)\n",
        "    elif true_full_labels[idx][key] != 'None' and predictions_on_test[idx][key] == 'None':\n",
        "        true_.append(1)\n",
        "        predicted_.append(0)\n",
        "\n",
        "accuracy = accuracy_score(true_, predicted_)\n",
        "precision = precision_score(true_, predicted_)\n",
        "recall = recall_score(true_, predicted_)\n",
        "f1 = f1_score(true_, predicted_)\n",
        "\n",
        "print(f'Accuracy = {accuracy}')\n",
        "print(f'Precision = {precision}')\n",
        "print(f'Recall = {recall}')\n",
        "print(f'f1 = {f1}')"
      ]
    },
    {
      "cell_type": "markdown",
      "metadata": {
        "id": "Mlb5CMeW4PIU"
      },
      "source": [
        "### đánh giá hiệu suất khía cạnh trên class PRICE"
      ]
    },
    {
      "cell_type": "code",
      "execution_count": 34,
      "metadata": {
        "colab": {
          "base_uri": "https://localhost:8080/"
        },
        "id": "-eQRKIm64PIU",
        "outputId": "135d99ab-897f-4412-c3ac-58143c854ab2"
      },
      "outputs": [
        {
          "name": "stdout",
          "output_type": "stream",
          "text": [
            "Accuracy = 0.950089928057554\n",
            "Precision = 0.8948275862068965\n",
            "Recall = 0.9121265377855887\n",
            "f1 = 0.9033942558746736\n"
          ]
        }
      ],
      "source": [
        "true_ = []\n",
        "predicted_ = []\n",
        "\n",
        "for idx in range(len(true_full_labels)):\n",
        "    key = 'PRICE'\n",
        "    if true_full_labels[idx][key] == 'None' and predictions_on_test[idx][key] == 'None':\n",
        "        true_.append(0)\n",
        "        predicted_.append(0)\n",
        "    elif true_full_labels[idx][key] != 'None' and predictions_on_test[idx][key] != 'None':\n",
        "        true_.append(1)\n",
        "        predicted_.append(1)\n",
        "    elif true_full_labels[idx][key] == 'None' and predictions_on_test[idx][key] != 'None':\n",
        "        true_.append(0)\n",
        "        predicted_.append(1)\n",
        "    elif true_full_labels[idx][key] != 'None' and predictions_on_test[idx][key] == 'None':\n",
        "        true_.append(1)\n",
        "        predicted_.append(0)\n",
        "\n",
        "accuracy = accuracy_score(true_, predicted_)\n",
        "precision = precision_score(true_, predicted_)\n",
        "recall = recall_score(true_, predicted_)\n",
        "f1 = f1_score(true_, predicted_)\n",
        "\n",
        "print(f'Accuracy = {accuracy}')\n",
        "print(f'Precision = {precision}')\n",
        "print(f'Recall = {recall}')\n",
        "print(f'f1 = {f1}')"
      ]
    },
    {
      "cell_type": "markdown",
      "metadata": {
        "id": "HxeoG4_Z4PIU"
      },
      "source": [
        "### đánh giá hiệu suất khía cạnh trên class SER&ACC"
      ]
    },
    {
      "cell_type": "code",
      "execution_count": 35,
      "metadata": {
        "colab": {
          "base_uri": "https://localhost:8080/"
        },
        "id": "vS0tRLqU4PIU",
        "outputId": "cbeccbec-d07f-41fa-cbd2-d465308daea1"
      },
      "outputs": [
        {
          "name": "stdout",
          "output_type": "stream",
          "text": [
            "Accuracy = 0.904226618705036\n",
            "Precision = 0.8145695364238411\n",
            "Recall = 0.8296795952782462\n",
            "f1 = 0.8220551378446115\n"
          ]
        }
      ],
      "source": [
        "true_ = []\n",
        "predicted_ = []\n",
        "\n",
        "for idx in range(len(true_full_labels)):\n",
        "    key = 'SER&ACC'\n",
        "    if true_full_labels[idx][key] == 'None' and predictions_on_test[idx][key] == 'None':\n",
        "        true_.append(0)\n",
        "        predicted_.append(0)\n",
        "    elif true_full_labels[idx][key] != 'None' and predictions_on_test[idx][key] != 'None':\n",
        "        true_.append(1)\n",
        "        predicted_.append(1)\n",
        "    elif true_full_labels[idx][key] == 'None' and predictions_on_test[idx][key] != 'None':\n",
        "        true_.append(0)\n",
        "        predicted_.append(1)\n",
        "    elif true_full_labels[idx][key] != 'None' and predictions_on_test[idx][key] == 'None':\n",
        "        true_.append(1)\n",
        "        predicted_.append(0)\n",
        "\n",
        "accuracy = accuracy_score(true_, predicted_)\n",
        "precision = precision_score(true_, predicted_)\n",
        "recall = recall_score(true_, predicted_)\n",
        "f1 = f1_score(true_, predicted_)\n",
        "\n",
        "print(f'Accuracy = {accuracy}')\n",
        "print(f'Precision = {precision}')\n",
        "print(f'Recall = {recall}')\n",
        "print(f'f1 = {f1}')"
      ]
    },
    {
      "cell_type": "markdown",
      "metadata": {
        "id": "ZM7qgYKK4PIU"
      },
      "source": [
        "### đánh giá hiệu suất khía cạnh trên class CAMERA"
      ]
    },
    {
      "cell_type": "code",
      "execution_count": 36,
      "metadata": {
        "colab": {
          "base_uri": "https://localhost:8080/"
        },
        "id": "X3EIJP_j4PIU",
        "outputId": "d19fbdf1-d0e4-49d6-bdf7-b5434a7caf4c"
      },
      "outputs": [
        {
          "name": "stdout",
          "output_type": "stream",
          "text": [
            "Accuracy = 0.9743705035971223\n",
            "Precision = 0.9303079416531604\n",
            "Recall = 0.9761904761904762\n",
            "f1 = 0.9526970954356846\n"
          ]
        }
      ],
      "source": [
        "true_ = []\n",
        "predicted_ = []\n",
        "\n",
        "for idx in range(len(true_full_labels)):\n",
        "    key = 'CAMERA'\n",
        "    if true_full_labels[idx][key] == 'None' and predictions_on_test[idx][key] == 'None':\n",
        "        true_.append(0)\n",
        "        predicted_.append(0)\n",
        "    elif true_full_labels[idx][key] != 'None' and predictions_on_test[idx][key] != 'None':\n",
        "        true_.append(1)\n",
        "        predicted_.append(1)\n",
        "    elif true_full_labels[idx][key] == 'None' and predictions_on_test[idx][key] != 'None':\n",
        "        true_.append(0)\n",
        "        predicted_.append(1)\n",
        "    elif true_full_labels[idx][key] != 'None' and predictions_on_test[idx][key] == 'None':\n",
        "        true_.append(1)\n",
        "        predicted_.append(0)\n",
        "\n",
        "accuracy = accuracy_score(true_, predicted_)\n",
        "precision = precision_score(true_, predicted_)\n",
        "recall = recall_score(true_, predicted_)\n",
        "f1 = f1_score(true_, predicted_)\n",
        "\n",
        "print(f'Accuracy = {accuracy}')\n",
        "print(f'Precision = {precision}')\n",
        "print(f'Recall = {recall}')\n",
        "print(f'f1 = {f1}')"
      ]
    },
    {
      "cell_type": "markdown",
      "metadata": {
        "id": "gTsgsU7w4PIU"
      },
      "source": [
        "# 09. Đánh giá hiệu suất nhận diện tình cảm (đa nhãn)"
      ]
    },
    {
      "cell_type": "markdown",
      "metadata": {
        "id": "DRAROOhT4PIU"
      },
      "source": [
        "### Accuracy trên toàn bộ data kiểm thử\n",
        "acc = corrects/(all predictions)"
      ]
    },
    {
      "cell_type": "code",
      "execution_count": 37,
      "metadata": {
        "colab": {
          "base_uri": "https://localhost:8080/"
        },
        "id": "H4jlMUuV4PIU",
        "outputId": "46fdd70e-a24d-44a9-c316-1c6574bbacaf"
      },
      "outputs": [
        {
          "name": "stdout",
          "output_type": "stream",
          "text": [
            "Accuracy = 0.8144897351978578\n"
          ]
        }
      ],
      "source": [
        "true_ = []\n",
        "predicted_ = []\n",
        "accuracy = []\n",
        "\n",
        "for idx in range(len(true_full_labels)):\n",
        "    for key, value in true_full_labels[idx].items():\n",
        "        if value == 'None':\n",
        "            continue\n",
        "        elif predictions_on_test[idx][key] != value:\n",
        "            accuracy.append(0)\n",
        "        elif predictions_on_test[idx][key] == value:\n",
        "            accuracy.append(1)\n",
        "\n",
        "print(f'Accuracy = {sum(accuracy)/len(accuracy)}')"
      ]
    },
    {
      "cell_type": "markdown",
      "metadata": {
        "id": "XYOY4tha4PIV"
      },
      "source": [
        "### Precisio, Recall, F1-score tình cảm trên toàn bộ data kiểm thử"
      ]
    },
    {
      "cell_type": "code",
      "execution_count": 38,
      "metadata": {
        "colab": {
          "base_uri": "https://localhost:8080/"
        },
        "id": "xhlyyKEL4PIV",
        "outputId": "45d36391-2107-401c-b694-93aac7e3f777"
      },
      "outputs": [
        {
          "name": "stdout",
          "output_type": "stream",
          "text": [
            "Classification report:\n",
            "                      precision    recall  f1-score   support\n",
            "\n",
            "    BATTERY_Negative     0.7995    0.8886    0.8417       368\n",
            "     BATTERY_Neutral     0.3673    0.3913    0.3789        92\n",
            "        BATTERY_None     0.9838    0.9554    0.9694      1210\n",
            "    BATTERY_Positive     0.9041    0.8845    0.8942       554\n",
            "     CAMERA_Negative     0.7673    0.9064    0.8311       171\n",
            "      CAMERA_Neutral     0.5593    0.4648    0.5077        71\n",
            "         CAMERA_None     0.9913    0.9737    0.9824      1636\n",
            "     CAMERA_Positive     0.8989    0.9249    0.9117       346\n",
            "     DESIGN_Negative     0.5962    0.6458    0.6200        96\n",
            "      DESIGN_Neutral     0.5714    0.1429    0.2286        28\n",
            "         DESIGN_None     0.9737    0.9726    0.9732      1826\n",
            "     DESIGN_Positive     0.8651    0.9124    0.8881       274\n",
            "   FEATURES_Negative     0.7636    0.8867    0.8206       459\n",
            "    FEATURES_Neutral     0.3684    0.4038    0.3853        52\n",
            "       FEATURES_None     0.9576    0.9114    0.9340      1513\n",
            "   FEATURES_Positive     0.7577    0.7350    0.7462       200\n",
            "    GENERAL_Negative     0.6912    0.7993    0.7413       294\n",
            "     GENERAL_Neutral     0.6351    0.5663    0.5987        83\n",
            "        GENERAL_None     0.8375    0.7639    0.7990       843\n",
            "    GENERAL_Positive     0.8790    0.9114    0.8949      1004\n",
            "PERFORMANCE_Negative     0.7828    0.8018    0.7922       454\n",
            " PERFORMANCE_Neutral     0.4173    0.4569    0.4362       116\n",
            "    PERFORMANCE_None     0.9033    0.8878    0.8955      1052\n",
            "PERFORMANCE_Positive     0.8696    0.8638    0.8667       602\n",
            "      PRICE_Negative     0.5000    0.4557    0.4768        79\n",
            "       PRICE_Neutral     0.7464    0.7988    0.7717       328\n",
            "          PRICE_None     0.9696    0.9631    0.9664      1655\n",
            "      PRICE_Positive     0.7389    0.7160    0.7273       162\n",
            "     SCREEN_Negative     0.6454    0.7845    0.7082       116\n",
            "      SCREEN_Neutral     1.0000    0.1176    0.2105        17\n",
            "         SCREEN_None     0.9814    0.9734    0.9774      1955\n",
            "     SCREEN_Positive     0.8239    0.8603    0.8417       136\n",
            "    SER&ACC_Negative     0.5674    0.6048    0.5855       167\n",
            "     SER&ACC_Neutral     0.0000    0.0000    0.0000        27\n",
            "        SER&ACC_None     0.9377    0.9313    0.9345      1631\n",
            "    SER&ACC_Positive     0.8645    0.8797    0.8720       399\n",
            "    STORAGE_Negative     0.2500    0.1667    0.2000         6\n",
            "     STORAGE_Neutral     0.0000    0.0000    0.0000         3\n",
            "        STORAGE_None     0.9959    0.9973    0.9966      2197\n",
            "    STORAGE_Positive     0.6000    0.6667    0.6316        18\n",
            "\n",
            "            accuracy                         0.9067     22240\n",
            "           macro avg     0.7191    0.6992    0.6959     22240\n",
            "        weighted avg     0.9084    0.9067    0.9066     22240\n",
            "\n"
          ]
        }
      ],
      "source": [
        "from sklearn.metrics import classification_report\n",
        "\n",
        "\n",
        "y_true = []\n",
        "y_pred = []\n",
        "\n",
        "for idx in range(len(true_labels)):\n",
        "    for key, value in true_labels[idx].items():\n",
        "        y_true.append(key + \"_\" + value)\n",
        "        y_pred.append(key + \"_\" + predictions_on_test[idx][key])\n",
        "\n",
        "\n",
        "print(f'Classification report:')\n",
        "print(classification_report(y_true, y_pred, digits=4))"
      ]
    },
    {
      "cell_type": "code",
      "execution_count": 39,
      "metadata": {
        "colab": {
          "base_uri": "https://localhost:8080/"
        },
        "id": "2PwzVFvW4PIV",
        "outputId": "a35fd616-c8a5-4e02-ae9e-aed8631aa941"
      },
      "outputs": [
        {
          "name": "stdout",
          "output_type": "stream",
          "text": [
            "\n",
            "Overall Precision, Recall, F1-Score:\n",
            "Micro Precision: 0.9067\n",
            "Micro Recall: 0.9067\n",
            "Micro F1-Score: 0.9067\n",
            "Macro Precision: 0.7191\n",
            "Macro Recall: 0.6992\n",
            "Macro F1-Score: 0.6959\n",
            "Weighted Precision: 0.9084\n",
            "Weighted Recall: 0.9067\n",
            "Weighted F1-Score: 0.9066\n"
          ]
        }
      ],
      "source": [
        "precision_micro = precision_score(y_true, y_pred, average='micro')\n",
        "recall_micro = recall_score(y_true, y_pred, average='micro')\n",
        "f1_micro = f1_score(y_true, y_pred, average='micro')\n",
        "\n",
        "precision_macro = precision_score(y_true, y_pred, average='macro')\n",
        "recall_macro = recall_score(y_true, y_pred, average='macro')\n",
        "f1_macro = f1_score(y_true, y_pred, average='macro')\n",
        "\n",
        "precision_weighted = precision_score(y_true, y_pred, average='weighted')\n",
        "recall_weighted = recall_score(y_true, y_pred, average='weighted')\n",
        "f1_weighted = f1_score(y_true, y_pred, average='weighted')\n",
        "\n",
        "print(\"\\nOverall Precision, Recall, F1-Score:\")\n",
        "print(f\"Micro Precision: {precision_micro:.4f}\")\n",
        "print(f\"Micro Recall: {recall_micro:.4f}\")\n",
        "print(f\"Micro F1-Score: {f1_micro:.4f}\")\n",
        "print(f\"Macro Precision: {precision_macro:.4f}\")\n",
        "print(f\"Macro Recall: {recall_macro:.4f}\")\n",
        "print(f\"Macro F1-Score: {f1_macro:.4f}\")\n",
        "print(f\"Weighted Precision: {precision_weighted:.4f}\")\n",
        "print(f\"Weighted Recall: {recall_weighted:.4f}\")\n",
        "print(f\"Weighted F1-Score: {f1_weighted:.4f}\")"
      ]
    },
    {
      "cell_type": "markdown",
      "metadata": {
        "id": "UAy67-RC4PIV"
      },
      "source": [
        "### Đánh giá hiệu suất nhận diện tình cảm của khía cạnh SCREEN"
      ]
    },
    {
      "cell_type": "code",
      "execution_count": 40,
      "metadata": {
        "colab": {
          "base_uri": "https://localhost:8080/"
        },
        "id": "C-meStT74PIV",
        "outputId": "87c4eac7-d5b4-47e5-9f6d-351a5df14de9"
      },
      "outputs": [
        {
          "name": "stdout",
          "output_type": "stream",
          "text": [
            "              precision    recall  f1-score   support\n",
            "\n",
            "    Negative       0.65      0.78      0.71       116\n",
            "     Neutral       1.00      0.12      0.21        17\n",
            "        None       0.98      0.97      0.98      1955\n",
            "    Positive       0.82      0.86      0.84       136\n",
            "\n",
            "    accuracy                           0.95      2224\n",
            "   macro avg       0.86      0.68      0.68      2224\n",
            "weighted avg       0.95      0.95      0.95      2224\n",
            "\n"
          ]
        }
      ],
      "source": [
        "y_true = []\n",
        "y_pred = []\n",
        "\n",
        "key = 'SCREEN'\n",
        "for idx in range(len(true_full_labels)):\n",
        "    y_true.append(true_full_labels[idx][key])\n",
        "    y_pred.append(predictions_on_test[idx][key])\n",
        "\n",
        "report = classification_report(y_true, y_pred)\n",
        "print(report)"
      ]
    },
    {
      "cell_type": "markdown",
      "metadata": {
        "id": "IvYJ5gf64PIV"
      },
      "source": [
        "### Đánh giá hiệu suất nhận diện tình cảm của khía cạnh FEATURES"
      ]
    },
    {
      "cell_type": "code",
      "execution_count": 41,
      "metadata": {
        "colab": {
          "base_uri": "https://localhost:8080/"
        },
        "id": "QCxcwhTS4PIV",
        "outputId": "48668907-c2f3-4d6f-a104-691c4749db64"
      },
      "outputs": [
        {
          "name": "stdout",
          "output_type": "stream",
          "text": [
            "              precision    recall  f1-score   support\n",
            "\n",
            "    Negative       0.76      0.89      0.82       459\n",
            "     Neutral       0.37      0.40      0.39        52\n",
            "        None       0.96      0.91      0.93      1513\n",
            "    Positive       0.76      0.73      0.75       200\n",
            "\n",
            "    accuracy                           0.88      2224\n",
            "   macro avg       0.71      0.73      0.72      2224\n",
            "weighted avg       0.89      0.88      0.88      2224\n",
            "\n"
          ]
        }
      ],
      "source": [
        "y_true = []\n",
        "y_pred = []\n",
        "\n",
        "key = 'FEATURES'\n",
        "for idx in range(len(true_full_labels)):\n",
        "    y_true.append(true_full_labels[idx][key])\n",
        "    y_pred.append(predictions_on_test[idx][key])\n",
        "\n",
        "report = classification_report(y_true, y_pred)\n",
        "print(report)"
      ]
    },
    {
      "cell_type": "markdown",
      "metadata": {
        "id": "7ruWB3S24PIV"
      },
      "source": [
        "### Đánh giá hiệu suất nhận diện tình cảm của khía cạnh PERFORMANCE"
      ]
    },
    {
      "cell_type": "code",
      "execution_count": 42,
      "metadata": {
        "colab": {
          "base_uri": "https://localhost:8080/"
        },
        "id": "-b2mhu9c4PIV",
        "outputId": "9bcc4d80-7129-4597-b9fc-10adeca217fd"
      },
      "outputs": [
        {
          "name": "stdout",
          "output_type": "stream",
          "text": [
            "              precision    recall  f1-score   support\n",
            "\n",
            "    Negative       0.78      0.80      0.79       454\n",
            "     Neutral       0.42      0.46      0.44       116\n",
            "        None       0.90      0.89      0.90      1052\n",
            "    Positive       0.87      0.86      0.87       602\n",
            "\n",
            "    accuracy                           0.84      2224\n",
            "   macro avg       0.74      0.75      0.75      2224\n",
            "weighted avg       0.84      0.84      0.84      2224\n",
            "\n"
          ]
        }
      ],
      "source": [
        "y_true = []\n",
        "y_pred = []\n",
        "\n",
        "key = 'PERFORMANCE'\n",
        "for idx in range(len(true_full_labels)):\n",
        "    y_true.append(true_full_labels[idx][key])\n",
        "    y_pred.append(predictions_on_test[idx][key])\n",
        "\n",
        "report = classification_report(y_true, y_pred)\n",
        "print(report)"
      ]
    },
    {
      "cell_type": "markdown",
      "metadata": {
        "id": "DDMx7sU14PIW"
      },
      "source": [
        "### Đánh giá hiệu suất nhận diện tình cảm của khía cạnh GENERAL"
      ]
    },
    {
      "cell_type": "code",
      "execution_count": 43,
      "metadata": {
        "colab": {
          "base_uri": "https://localhost:8080/"
        },
        "id": "ROSNV9XN4PIW",
        "outputId": "2ab51bf1-6826-4def-fe1c-2f530bf08a66"
      },
      "outputs": [
        {
          "name": "stdout",
          "output_type": "stream",
          "text": [
            "              precision    recall  f1-score   support\n",
            "\n",
            "    Negative       0.69      0.80      0.74       294\n",
            "     Neutral       0.64      0.57      0.60        83\n",
            "        None       0.84      0.76      0.80       843\n",
            "    Positive       0.88      0.91      0.89      1004\n",
            "\n",
            "    accuracy                           0.83      2224\n",
            "   macro avg       0.76      0.76      0.76      2224\n",
            "weighted avg       0.83      0.83      0.83      2224\n",
            "\n"
          ]
        }
      ],
      "source": [
        "y_true = []\n",
        "y_pred = []\n",
        "\n",
        "key = 'GENERAL'\n",
        "for idx in range(len(true_full_labels)):\n",
        "    y_true.append(true_full_labels[idx][key])\n",
        "    y_pred.append(predictions_on_test[idx][key])\n",
        "\n",
        "report = classification_report(y_true, y_pred)\n",
        "print(report)"
      ]
    },
    {
      "cell_type": "markdown",
      "metadata": {
        "id": "f6ZG7MlI4PIW"
      },
      "source": [
        "### Đánh giá hiệu suất nhận diện tình cảm của khía cạnh CAMERA"
      ]
    },
    {
      "cell_type": "code",
      "execution_count": 44,
      "metadata": {
        "colab": {
          "base_uri": "https://localhost:8080/"
        },
        "id": "bZRSc6JK4PIW",
        "outputId": "ccd90404-1a07-448d-90e0-59647e5e6628"
      },
      "outputs": [
        {
          "name": "stdout",
          "output_type": "stream",
          "text": [
            "              precision    recall  f1-score   support\n",
            "\n",
            "    Negative       0.77      0.91      0.83       171\n",
            "     Neutral       0.56      0.46      0.51        71\n",
            "        None       0.99      0.97      0.98      1636\n",
            "    Positive       0.90      0.92      0.91       346\n",
            "\n",
            "    accuracy                           0.94      2224\n",
            "   macro avg       0.80      0.82      0.81      2224\n",
            "weighted avg       0.95      0.94      0.94      2224\n",
            "\n"
          ]
        }
      ],
      "source": [
        "y_true = []\n",
        "y_pred = []\n",
        "\n",
        "key = 'CAMERA'\n",
        "for idx in range(len(true_full_labels)):\n",
        "    y_true.append(true_full_labels[idx][key])\n",
        "    y_pred.append(predictions_on_test[idx][key])\n",
        "\n",
        "report = classification_report(y_true, y_pred)\n",
        "print(report)"
      ]
    },
    {
      "cell_type": "markdown",
      "metadata": {
        "id": "lTUW4T3_4PIW"
      },
      "source": [
        "### Đánh giá hiệu suất nhận diện tình cảm của khía cạnh BATTERY"
      ]
    },
    {
      "cell_type": "code",
      "execution_count": 45,
      "metadata": {
        "colab": {
          "base_uri": "https://localhost:8080/"
        },
        "id": "JpwS_V074PIW",
        "outputId": "0243a1bc-aff2-4e0e-912b-078158567a03"
      },
      "outputs": [
        {
          "name": "stdout",
          "output_type": "stream",
          "text": [
            "              precision    recall  f1-score   support\n",
            "\n",
            "    Negative       0.80      0.89      0.84       368\n",
            "     Neutral       0.37      0.39      0.38        92\n",
            "        None       0.98      0.96      0.97      1210\n",
            "    Positive       0.90      0.88      0.89       554\n",
            "\n",
            "    accuracy                           0.90      2224\n",
            "   macro avg       0.76      0.78      0.77      2224\n",
            "weighted avg       0.91      0.90      0.91      2224\n",
            "\n"
          ]
        }
      ],
      "source": [
        "y_true = []\n",
        "y_pred = []\n",
        "\n",
        "key = 'BATTERY'\n",
        "for idx in range(len(true_full_labels)):\n",
        "    y_true.append(true_full_labels[idx][key])\n",
        "    y_pred.append(predictions_on_test[idx][key])\n",
        "\n",
        "report = classification_report(y_true, y_pred)\n",
        "print(report)"
      ]
    },
    {
      "cell_type": "markdown",
      "metadata": {
        "id": "fKS_khmz4PIW"
      },
      "source": [
        "### Đánh giá hiệu suất nhận diện tình cảm của khía cạnh STORAGE"
      ]
    },
    {
      "cell_type": "code",
      "execution_count": 46,
      "metadata": {
        "colab": {
          "base_uri": "https://localhost:8080/"
        },
        "id": "DUWfYlz34PIW",
        "outputId": "f35b5582-7456-426c-e826-1dada4db7a84"
      },
      "outputs": [
        {
          "name": "stdout",
          "output_type": "stream",
          "text": [
            "              precision    recall  f1-score   support\n",
            "\n",
            "    Negative       0.25      0.17      0.20         6\n",
            "     Neutral       0.00      0.00      0.00         3\n",
            "        None       1.00      1.00      1.00      2197\n",
            "    Positive       0.60      0.67      0.63        18\n",
            "\n",
            "    accuracy                           0.99      2224\n",
            "   macro avg       0.46      0.46      0.46      2224\n",
            "weighted avg       0.99      0.99      0.99      2224\n",
            "\n"
          ]
        }
      ],
      "source": [
        "y_true = []\n",
        "y_pred = []\n",
        "\n",
        "key = 'STORAGE'\n",
        "for idx in range(len(true_full_labels)):\n",
        "    y_true.append(true_full_labels[idx][key])\n",
        "    y_pred.append(predictions_on_test[idx][key])\n",
        "\n",
        "report = classification_report(y_true, y_pred)\n",
        "print(report)"
      ]
    },
    {
      "cell_type": "markdown",
      "metadata": {
        "id": "Z4Nd2dqh4PIW"
      },
      "source": [
        "### Đánh giá hiệu suất nhận diện tình cảm của khía cạnh DESIGN"
      ]
    },
    {
      "cell_type": "code",
      "execution_count": 47,
      "metadata": {
        "colab": {
          "base_uri": "https://localhost:8080/"
        },
        "id": "I7T-HK8p4PIW",
        "outputId": "e4862cd4-402e-43c2-ef36-924369aef47d"
      },
      "outputs": [
        {
          "name": "stdout",
          "output_type": "stream",
          "text": [
            "              precision    recall  f1-score   support\n",
            "\n",
            "    Negative       0.60      0.65      0.62        96\n",
            "     Neutral       0.57      0.14      0.23        28\n",
            "        None       0.97      0.97      0.97      1826\n",
            "    Positive       0.87      0.91      0.89       274\n",
            "\n",
            "    accuracy                           0.94      2224\n",
            "   macro avg       0.75      0.67      0.68      2224\n",
            "weighted avg       0.94      0.94      0.94      2224\n",
            "\n"
          ]
        }
      ],
      "source": [
        "y_true = []\n",
        "y_pred = []\n",
        "\n",
        "key = 'DESIGN'\n",
        "for idx in range(len(true_full_labels)):\n",
        "    y_true.append(true_full_labels[idx][key])\n",
        "    y_pred.append(predictions_on_test[idx][key])\n",
        "\n",
        "report = classification_report(y_true, y_pred)\n",
        "print(report)"
      ]
    },
    {
      "cell_type": "markdown",
      "metadata": {
        "id": "KxYdVdZ64PIX"
      },
      "source": [
        "### Đánh giá hiệu suất nhận diện tình cảm của khía cạnh PRICE"
      ]
    },
    {
      "cell_type": "code",
      "execution_count": 48,
      "metadata": {
        "colab": {
          "base_uri": "https://localhost:8080/"
        },
        "id": "E-Lxmsuc4PIX",
        "outputId": "bcef95dd-b1ad-41c1-da2a-35fbcb7d82f8"
      },
      "outputs": [
        {
          "name": "stdout",
          "output_type": "stream",
          "text": [
            "              precision    recall  f1-score   support\n",
            "\n",
            "    Negative       0.50      0.46      0.48        79\n",
            "     Neutral       0.75      0.80      0.77       328\n",
            "        None       0.97      0.96      0.97      1655\n",
            "    Positive       0.74      0.72      0.73       162\n",
            "\n",
            "    accuracy                           0.90      2224\n",
            "   macro avg       0.74      0.73      0.74      2224\n",
            "weighted avg       0.90      0.90      0.90      2224\n",
            "\n"
          ]
        }
      ],
      "source": [
        "y_true = []\n",
        "y_pred = []\n",
        "\n",
        "key = 'PRICE'\n",
        "for idx in range(len(true_full_labels)):\n",
        "    y_true.append(true_full_labels[idx][key])\n",
        "    y_pred.append(predictions_on_test[idx][key])\n",
        "\n",
        "report = classification_report(y_true, y_pred)\n",
        "print(report)"
      ]
    },
    {
      "cell_type": "markdown",
      "metadata": {
        "id": "iLEr0YiZ4PIX"
      },
      "source": [
        "### Đánh giá hiệu suất nhận diện tình cảm của khía cạnh SER&ACC"
      ]
    },
    {
      "cell_type": "code",
      "execution_count": 49,
      "metadata": {
        "colab": {
          "base_uri": "https://localhost:8080/"
        },
        "id": "GcEIcIo-4PIX",
        "outputId": "03eb3038-24ba-42ec-e3e7-dba351219adb"
      },
      "outputs": [
        {
          "name": "stdout",
          "output_type": "stream",
          "text": [
            "              precision    recall  f1-score   support\n",
            "\n",
            "    Negative       0.57      0.60      0.59       167\n",
            "     Neutral       0.00      0.00      0.00        27\n",
            "        None       0.94      0.93      0.93      1631\n",
            "    Positive       0.86      0.88      0.87       399\n",
            "\n",
            "    accuracy                           0.89      2224\n",
            "   macro avg       0.59      0.60      0.60      2224\n",
            "weighted avg       0.89      0.89      0.89      2224\n",
            "\n"
          ]
        }
      ],
      "source": [
        "y_true = []\n",
        "y_pred = []\n",
        "\n",
        "key = 'SER&ACC'\n",
        "for idx in range(len(true_full_labels)):\n",
        "    y_true.append(true_full_labels[idx][key])\n",
        "    y_pred.append(predictions_on_test[idx][key])\n",
        "\n",
        "report = classification_report(y_true, y_pred)\n",
        "print(report)"
      ]
    }
  ],
  "metadata": {
    "accelerator": "GPU",
    "colab": {
      "gpuType": "T4",
      "provenance": []
    },
    "kernelspec": {
      "display_name": "Python 3",
      "name": "python3"
    },
    "language_info": {
      "codemirror_mode": {
        "name": "ipython",
        "version": 3
      },
      "file_extension": ".py",
      "mimetype": "text/x-python",
      "name": "python",
      "nbconvert_exporter": "python",
      "pygments_lexer": "ipython3",
      "version": "3.10.0"
    },
    "widgets": {
      "application/vnd.jupyter.widget-state+json": {
        "05262f8e96bf4ae8be925135a5aafb46": {
          "model_module": "@jupyter-widgets/controls",
          "model_module_version": "1.5.0",
          "model_name": "ProgressStyleModel",
          "state": {
            "_model_module": "@jupyter-widgets/controls",
            "_model_module_version": "1.5.0",
            "_model_name": "ProgressStyleModel",
            "_view_count": null,
            "_view_module": "@jupyter-widgets/base",
            "_view_module_version": "1.2.0",
            "_view_name": "StyleView",
            "bar_color": null,
            "description_width": ""
          }
        },
        "09e4626512f8458ebab743f6a16a13bb": {
          "model_module": "@jupyter-widgets/controls",
          "model_module_version": "1.5.0",
          "model_name": "HTMLModel",
          "state": {
            "_dom_classes": [],
            "_model_module": "@jupyter-widgets/controls",
            "_model_module_version": "1.5.0",
            "_model_name": "HTMLModel",
            "_view_count": null,
            "_view_module": "@jupyter-widgets/controls",
            "_view_module_version": "1.5.0",
            "_view_name": "HTMLView",
            "description": "",
            "description_tooltip": null,
            "layout": "IPY_MODEL_bbb9d039ff654e618cf377f5268cc526",
            "placeholder": "​",
            "style": "IPY_MODEL_1304aee1ca13406b81fde414d98b9054",
            "value": "tokenizer.json: 100%"
          }
        },
        "0f2a6c5d98ff432c8a60486d6c740d03": {
          "model_module": "@jupyter-widgets/controls",
          "model_module_version": "1.5.0",
          "model_name": "FloatProgressModel",
          "state": {
            "_dom_classes": [],
            "_model_module": "@jupyter-widgets/controls",
            "_model_module_version": "1.5.0",
            "_model_name": "FloatProgressModel",
            "_view_count": null,
            "_view_module": "@jupyter-widgets/controls",
            "_view_module_version": "1.5.0",
            "_view_name": "ProgressView",
            "bar_style": "success",
            "description": "",
            "description_tooltip": null,
            "layout": "IPY_MODEL_58804701c688441aaa9869cf3f445427",
            "max": 1961828,
            "min": 0,
            "orientation": "horizontal",
            "style": "IPY_MODEL_d038b76ba4f6427d968a9a509478a404",
            "value": 1961828
          }
        },
        "1304aee1ca13406b81fde414d98b9054": {
          "model_module": "@jupyter-widgets/controls",
          "model_module_version": "1.5.0",
          "model_name": "DescriptionStyleModel",
          "state": {
            "_model_module": "@jupyter-widgets/controls",
            "_model_module_version": "1.5.0",
            "_model_name": "DescriptionStyleModel",
            "_view_count": null,
            "_view_module": "@jupyter-widgets/base",
            "_view_module_version": "1.2.0",
            "_view_name": "StyleView",
            "description_width": ""
          }
        },
        "25154ff5aa0c4a35a40261466359ed36": {
          "model_module": "@jupyter-widgets/controls",
          "model_module_version": "1.5.0",
          "model_name": "FloatProgressModel",
          "state": {
            "_dom_classes": [],
            "_model_module": "@jupyter-widgets/controls",
            "_model_module_version": "1.5.0",
            "_model_name": "FloatProgressModel",
            "_view_count": null,
            "_view_module": "@jupyter-widgets/controls",
            "_view_module_version": "1.5.0",
            "_view_name": "ProgressView",
            "bar_style": "success",
            "description": "",
            "description_tooltip": null,
            "layout": "IPY_MODEL_3fdeed2a1ed2440e9f733b40c61065cf",
            "max": 714290682,
            "min": 0,
            "orientation": "horizontal",
            "style": "IPY_MODEL_05262f8e96bf4ae8be925135a5aafb46",
            "value": 714290682
          }
        },
        "25927bda6c43477ca52a730bc831533d": {
          "model_module": "@jupyter-widgets/controls",
          "model_module_version": "1.5.0",
          "model_name": "HTMLModel",
          "state": {
            "_dom_classes": [],
            "_model_module": "@jupyter-widgets/controls",
            "_model_module_version": "1.5.0",
            "_model_name": "HTMLModel",
            "_view_count": null,
            "_view_module": "@jupyter-widgets/controls",
            "_view_module_version": "1.5.0",
            "_view_name": "HTMLView",
            "description": "",
            "description_tooltip": null,
            "layout": "IPY_MODEL_d68ad7347b804699a4e75068eab30147",
            "placeholder": "​",
            "style": "IPY_MODEL_3fb582e2ddcc4106b334860897d01b57",
            "value": "config.json: 100%"
          }
        },
        "2cfc6d185bec4eaf8fb695940f4fe23f": {
          "model_module": "@jupyter-widgets/controls",
          "model_module_version": "1.5.0",
          "model_name": "ProgressStyleModel",
          "state": {
            "_model_module": "@jupyter-widgets/controls",
            "_model_module_version": "1.5.0",
            "_model_name": "ProgressStyleModel",
            "_view_count": null,
            "_view_module": "@jupyter-widgets/base",
            "_view_module_version": "1.2.0",
            "_view_name": "StyleView",
            "bar_color": null,
            "description_width": ""
          }
        },
        "38820b586c8a49dd9223fa59bc39347d": {
          "model_module": "@jupyter-widgets/controls",
          "model_module_version": "1.5.0",
          "model_name": "DescriptionStyleModel",
          "state": {
            "_model_module": "@jupyter-widgets/controls",
            "_model_module_version": "1.5.0",
            "_model_name": "DescriptionStyleModel",
            "_view_count": null,
            "_view_module": "@jupyter-widgets/base",
            "_view_module_version": "1.2.0",
            "_view_name": "StyleView",
            "description_width": ""
          }
        },
        "3990ede1464345ec8d223d23eac775e4": {
          "model_module": "@jupyter-widgets/controls",
          "model_module_version": "1.5.0",
          "model_name": "HBoxModel",
          "state": {
            "_dom_classes": [],
            "_model_module": "@jupyter-widgets/controls",
            "_model_module_version": "1.5.0",
            "_model_name": "HBoxModel",
            "_view_count": null,
            "_view_module": "@jupyter-widgets/controls",
            "_view_module_version": "1.5.0",
            "_view_name": "HBoxView",
            "box_style": "",
            "children": [
              "IPY_MODEL_25927bda6c43477ca52a730bc831533d",
              "IPY_MODEL_8ec3517c5150468ba1c96a4dfab11e5b",
              "IPY_MODEL_c552d20e416b47c78eeaa47b7047d2a6"
            ],
            "layout": "IPY_MODEL_404bd56b2f394826b1a2d480656827e3"
          }
        },
        "3fb582e2ddcc4106b334860897d01b57": {
          "model_module": "@jupyter-widgets/controls",
          "model_module_version": "1.5.0",
          "model_name": "DescriptionStyleModel",
          "state": {
            "_model_module": "@jupyter-widgets/controls",
            "_model_module_version": "1.5.0",
            "_model_name": "DescriptionStyleModel",
            "_view_count": null,
            "_view_module": "@jupyter-widgets/base",
            "_view_module_version": "1.2.0",
            "_view_name": "StyleView",
            "description_width": ""
          }
        },
        "3fc09e1523ba462b826a1df1cca8c3b3": {
          "model_module": "@jupyter-widgets/base",
          "model_module_version": "1.2.0",
          "model_name": "LayoutModel",
          "state": {
            "_model_module": "@jupyter-widgets/base",
            "_model_module_version": "1.2.0",
            "_model_name": "LayoutModel",
            "_view_count": null,
            "_view_module": "@jupyter-widgets/base",
            "_view_module_version": "1.2.0",
            "_view_name": "LayoutView",
            "align_content": null,
            "align_items": null,
            "align_self": null,
            "border": null,
            "bottom": null,
            "display": null,
            "flex": null,
            "flex_flow": null,
            "grid_area": null,
            "grid_auto_columns": null,
            "grid_auto_flow": null,
            "grid_auto_rows": null,
            "grid_column": null,
            "grid_gap": null,
            "grid_row": null,
            "grid_template_areas": null,
            "grid_template_columns": null,
            "grid_template_rows": null,
            "height": null,
            "justify_content": null,
            "justify_items": null,
            "left": null,
            "margin": null,
            "max_height": null,
            "max_width": null,
            "min_height": null,
            "min_width": null,
            "object_fit": null,
            "object_position": null,
            "order": null,
            "overflow": null,
            "overflow_x": null,
            "overflow_y": null,
            "padding": null,
            "right": null,
            "top": null,
            "visibility": null,
            "width": null
          }
        },
        "3fdeed2a1ed2440e9f733b40c61065cf": {
          "model_module": "@jupyter-widgets/base",
          "model_module_version": "1.2.0",
          "model_name": "LayoutModel",
          "state": {
            "_model_module": "@jupyter-widgets/base",
            "_model_module_version": "1.2.0",
            "_model_name": "LayoutModel",
            "_view_count": null,
            "_view_module": "@jupyter-widgets/base",
            "_view_module_version": "1.2.0",
            "_view_name": "LayoutView",
            "align_content": null,
            "align_items": null,
            "align_self": null,
            "border": null,
            "bottom": null,
            "display": null,
            "flex": null,
            "flex_flow": null,
            "grid_area": null,
            "grid_auto_columns": null,
            "grid_auto_flow": null,
            "grid_auto_rows": null,
            "grid_column": null,
            "grid_gap": null,
            "grid_row": null,
            "grid_template_areas": null,
            "grid_template_columns": null,
            "grid_template_rows": null,
            "height": null,
            "justify_content": null,
            "justify_items": null,
            "left": null,
            "margin": null,
            "max_height": null,
            "max_width": null,
            "min_height": null,
            "min_width": null,
            "object_fit": null,
            "object_position": null,
            "order": null,
            "overflow": null,
            "overflow_x": null,
            "overflow_y": null,
            "padding": null,
            "right": null,
            "top": null,
            "visibility": null,
            "width": null
          }
        },
        "3ff5bbd91dde43dbbf4db6dbff5507d9": {
          "model_module": "@jupyter-widgets/base",
          "model_module_version": "1.2.0",
          "model_name": "LayoutModel",
          "state": {
            "_model_module": "@jupyter-widgets/base",
            "_model_module_version": "1.2.0",
            "_model_name": "LayoutModel",
            "_view_count": null,
            "_view_module": "@jupyter-widgets/base",
            "_view_module_version": "1.2.0",
            "_view_name": "LayoutView",
            "align_content": null,
            "align_items": null,
            "align_self": null,
            "border": null,
            "bottom": null,
            "display": null,
            "flex": null,
            "flex_flow": null,
            "grid_area": null,
            "grid_auto_columns": null,
            "grid_auto_flow": null,
            "grid_auto_rows": null,
            "grid_column": null,
            "grid_gap": null,
            "grid_row": null,
            "grid_template_areas": null,
            "grid_template_columns": null,
            "grid_template_rows": null,
            "height": null,
            "justify_content": null,
            "justify_items": null,
            "left": null,
            "margin": null,
            "max_height": null,
            "max_width": null,
            "min_height": null,
            "min_width": null,
            "object_fit": null,
            "object_position": null,
            "order": null,
            "overflow": null,
            "overflow_x": null,
            "overflow_y": null,
            "padding": null,
            "right": null,
            "top": null,
            "visibility": null,
            "width": null
          }
        },
        "404bd56b2f394826b1a2d480656827e3": {
          "model_module": "@jupyter-widgets/base",
          "model_module_version": "1.2.0",
          "model_name": "LayoutModel",
          "state": {
            "_model_module": "@jupyter-widgets/base",
            "_model_module_version": "1.2.0",
            "_model_name": "LayoutModel",
            "_view_count": null,
            "_view_module": "@jupyter-widgets/base",
            "_view_module_version": "1.2.0",
            "_view_name": "LayoutView",
            "align_content": null,
            "align_items": null,
            "align_self": null,
            "border": null,
            "bottom": null,
            "display": null,
            "flex": null,
            "flex_flow": null,
            "grid_area": null,
            "grid_auto_columns": null,
            "grid_auto_flow": null,
            "grid_auto_rows": null,
            "grid_column": null,
            "grid_gap": null,
            "grid_row": null,
            "grid_template_areas": null,
            "grid_template_columns": null,
            "grid_template_rows": null,
            "height": null,
            "justify_content": null,
            "justify_items": null,
            "left": null,
            "margin": null,
            "max_height": null,
            "max_width": null,
            "min_height": null,
            "min_width": null,
            "object_fit": null,
            "object_position": null,
            "order": null,
            "overflow": null,
            "overflow_x": null,
            "overflow_y": null,
            "padding": null,
            "right": null,
            "top": null,
            "visibility": null,
            "width": null
          }
        },
        "431b3ac2f83c4f6da9a906371da706a7": {
          "model_module": "@jupyter-widgets/controls",
          "model_module_version": "1.5.0",
          "model_name": "DescriptionStyleModel",
          "state": {
            "_model_module": "@jupyter-widgets/controls",
            "_model_module_version": "1.5.0",
            "_model_name": "DescriptionStyleModel",
            "_view_count": null,
            "_view_module": "@jupyter-widgets/base",
            "_view_module_version": "1.2.0",
            "_view_name": "StyleView",
            "description_width": ""
          }
        },
        "4390e67bcff34f5d99e104d4fd4b8528": {
          "model_module": "@jupyter-widgets/base",
          "model_module_version": "1.2.0",
          "model_name": "LayoutModel",
          "state": {
            "_model_module": "@jupyter-widgets/base",
            "_model_module_version": "1.2.0",
            "_model_name": "LayoutModel",
            "_view_count": null,
            "_view_module": "@jupyter-widgets/base",
            "_view_module_version": "1.2.0",
            "_view_name": "LayoutView",
            "align_content": null,
            "align_items": null,
            "align_self": null,
            "border": null,
            "bottom": null,
            "display": null,
            "flex": null,
            "flex_flow": null,
            "grid_area": null,
            "grid_auto_columns": null,
            "grid_auto_flow": null,
            "grid_auto_rows": null,
            "grid_column": null,
            "grid_gap": null,
            "grid_row": null,
            "grid_template_areas": null,
            "grid_template_columns": null,
            "grid_template_rows": null,
            "height": null,
            "justify_content": null,
            "justify_items": null,
            "left": null,
            "margin": null,
            "max_height": null,
            "max_width": null,
            "min_height": null,
            "min_width": null,
            "object_fit": null,
            "object_position": null,
            "order": null,
            "overflow": null,
            "overflow_x": null,
            "overflow_y": null,
            "padding": null,
            "right": null,
            "top": null,
            "visibility": null,
            "width": null
          }
        },
        "58804701c688441aaa9869cf3f445427": {
          "model_module": "@jupyter-widgets/base",
          "model_module_version": "1.2.0",
          "model_name": "LayoutModel",
          "state": {
            "_model_module": "@jupyter-widgets/base",
            "_model_module_version": "1.2.0",
            "_model_name": "LayoutModel",
            "_view_count": null,
            "_view_module": "@jupyter-widgets/base",
            "_view_module_version": "1.2.0",
            "_view_name": "LayoutView",
            "align_content": null,
            "align_items": null,
            "align_self": null,
            "border": null,
            "bottom": null,
            "display": null,
            "flex": null,
            "flex_flow": null,
            "grid_area": null,
            "grid_auto_columns": null,
            "grid_auto_flow": null,
            "grid_auto_rows": null,
            "grid_column": null,
            "grid_gap": null,
            "grid_row": null,
            "grid_template_areas": null,
            "grid_template_columns": null,
            "grid_template_rows": null,
            "height": null,
            "justify_content": null,
            "justify_items": null,
            "left": null,
            "margin": null,
            "max_height": null,
            "max_width": null,
            "min_height": null,
            "min_width": null,
            "object_fit": null,
            "object_position": null,
            "order": null,
            "overflow": null,
            "overflow_x": null,
            "overflow_y": null,
            "padding": null,
            "right": null,
            "top": null,
            "visibility": null,
            "width": null
          }
        },
        "5f31f6da4d4e4637877259d87ce8e575": {
          "model_module": "@jupyter-widgets/controls",
          "model_module_version": "1.5.0",
          "model_name": "HTMLModel",
          "state": {
            "_dom_classes": [],
            "_model_module": "@jupyter-widgets/controls",
            "_model_module_version": "1.5.0",
            "_model_name": "HTMLModel",
            "_view_count": null,
            "_view_module": "@jupyter-widgets/controls",
            "_view_module_version": "1.5.0",
            "_view_name": "HTMLView",
            "description": "",
            "description_tooltip": null,
            "layout": "IPY_MODEL_7a6b988bea6940459785fb2d1cde4c8f",
            "placeholder": "​",
            "style": "IPY_MODEL_38820b586c8a49dd9223fa59bc39347d",
            "value": " 1.96M/1.96M [00:00&lt;00:00, 5.89MB/s]"
          }
        },
        "61dff310764141ff8243063b1b2f2bc0": {
          "model_module": "@jupyter-widgets/controls",
          "model_module_version": "1.5.0",
          "model_name": "HBoxModel",
          "state": {
            "_dom_classes": [],
            "_model_module": "@jupyter-widgets/controls",
            "_model_module_version": "1.5.0",
            "_model_name": "HBoxModel",
            "_view_count": null,
            "_view_module": "@jupyter-widgets/controls",
            "_view_module_version": "1.5.0",
            "_view_name": "HBoxView",
            "box_style": "",
            "children": [
              "IPY_MODEL_fb490cfc54d2472285bcdfd352a37572",
              "IPY_MODEL_25154ff5aa0c4a35a40261466359ed36",
              "IPY_MODEL_e68efd8eeed94f378f3b1443eca67d9e"
            ],
            "layout": "IPY_MODEL_952a207406414fabbac6ca8d9f936f70"
          }
        },
        "6340520136f8466a91d605f97bf480b8": {
          "model_module": "@jupyter-widgets/controls",
          "model_module_version": "1.5.0",
          "model_name": "DescriptionStyleModel",
          "state": {
            "_model_module": "@jupyter-widgets/controls",
            "_model_module_version": "1.5.0",
            "_model_name": "DescriptionStyleModel",
            "_view_count": null,
            "_view_module": "@jupyter-widgets/base",
            "_view_module_version": "1.2.0",
            "_view_name": "StyleView",
            "description_width": ""
          }
        },
        "6397a59df967491f89f7395a427b6b69": {
          "model_module": "@jupyter-widgets/controls",
          "model_module_version": "1.5.0",
          "model_name": "HTMLModel",
          "state": {
            "_dom_classes": [],
            "_model_module": "@jupyter-widgets/controls",
            "_model_module_version": "1.5.0",
            "_model_name": "HTMLModel",
            "_view_count": null,
            "_view_module": "@jupyter-widgets/controls",
            "_view_module_version": "1.5.0",
            "_view_name": "HTMLView",
            "description": "",
            "description_tooltip": null,
            "layout": "IPY_MODEL_3fc09e1523ba462b826a1df1cca8c3b3",
            "placeholder": "​",
            "style": "IPY_MODEL_ca29a8b97bab4d95b496abc9dcf8d90f",
            "value": " 49.0/49.0 [00:00&lt;00:00, 2.75kB/s]"
          }
        },
        "63a80f140e574813be7fc2a393d923b7": {
          "model_module": "@jupyter-widgets/base",
          "model_module_version": "1.2.0",
          "model_name": "LayoutModel",
          "state": {
            "_model_module": "@jupyter-widgets/base",
            "_model_module_version": "1.2.0",
            "_model_name": "LayoutModel",
            "_view_count": null,
            "_view_module": "@jupyter-widgets/base",
            "_view_module_version": "1.2.0",
            "_view_name": "LayoutView",
            "align_content": null,
            "align_items": null,
            "align_self": null,
            "border": null,
            "bottom": null,
            "display": null,
            "flex": null,
            "flex_flow": null,
            "grid_area": null,
            "grid_auto_columns": null,
            "grid_auto_flow": null,
            "grid_auto_rows": null,
            "grid_column": null,
            "grid_gap": null,
            "grid_row": null,
            "grid_template_areas": null,
            "grid_template_columns": null,
            "grid_template_rows": null,
            "height": null,
            "justify_content": null,
            "justify_items": null,
            "left": null,
            "margin": null,
            "max_height": null,
            "max_width": null,
            "min_height": null,
            "min_width": null,
            "object_fit": null,
            "object_position": null,
            "order": null,
            "overflow": null,
            "overflow_x": null,
            "overflow_y": null,
            "padding": null,
            "right": null,
            "top": null,
            "visibility": null,
            "width": null
          }
        },
        "63cfe1c848d341189fbeb7f1c51dea52": {
          "model_module": "@jupyter-widgets/base",
          "model_module_version": "1.2.0",
          "model_name": "LayoutModel",
          "state": {
            "_model_module": "@jupyter-widgets/base",
            "_model_module_version": "1.2.0",
            "_model_name": "LayoutModel",
            "_view_count": null,
            "_view_module": "@jupyter-widgets/base",
            "_view_module_version": "1.2.0",
            "_view_name": "LayoutView",
            "align_content": null,
            "align_items": null,
            "align_self": null,
            "border": null,
            "bottom": null,
            "display": null,
            "flex": null,
            "flex_flow": null,
            "grid_area": null,
            "grid_auto_columns": null,
            "grid_auto_flow": null,
            "grid_auto_rows": null,
            "grid_column": null,
            "grid_gap": null,
            "grid_row": null,
            "grid_template_areas": null,
            "grid_template_columns": null,
            "grid_template_rows": null,
            "height": null,
            "justify_content": null,
            "justify_items": null,
            "left": null,
            "margin": null,
            "max_height": null,
            "max_width": null,
            "min_height": null,
            "min_width": null,
            "object_fit": null,
            "object_position": null,
            "order": null,
            "overflow": null,
            "overflow_x": null,
            "overflow_y": null,
            "padding": null,
            "right": null,
            "top": null,
            "visibility": null,
            "width": null
          }
        },
        "63d7bff2bbb94bccb1fda3c2496f903c": {
          "model_module": "@jupyter-widgets/controls",
          "model_module_version": "1.5.0",
          "model_name": "ProgressStyleModel",
          "state": {
            "_model_module": "@jupyter-widgets/controls",
            "_model_module_version": "1.5.0",
            "_model_name": "ProgressStyleModel",
            "_view_count": null,
            "_view_module": "@jupyter-widgets/base",
            "_view_module_version": "1.2.0",
            "_view_name": "StyleView",
            "bar_color": null,
            "description_width": ""
          }
        },
        "6c955f8d7e29463ebe37d02ebd67b042": {
          "model_module": "@jupyter-widgets/controls",
          "model_module_version": "1.5.0",
          "model_name": "HBoxModel",
          "state": {
            "_dom_classes": [],
            "_model_module": "@jupyter-widgets/controls",
            "_model_module_version": "1.5.0",
            "_model_name": "HBoxModel",
            "_view_count": null,
            "_view_module": "@jupyter-widgets/controls",
            "_view_module_version": "1.5.0",
            "_view_name": "HBoxView",
            "box_style": "",
            "children": [
              "IPY_MODEL_a1704515ef554230ba00ec82ce75f38c",
              "IPY_MODEL_9485ad098d354514aa3e0f5ff9b0f404",
              "IPY_MODEL_837563d7e23944efa8343c26c1127a0b"
            ],
            "layout": "IPY_MODEL_adf9425a17344d2aa9ac6c8a46b898eb"
          }
        },
        "7a6b988bea6940459785fb2d1cde4c8f": {
          "model_module": "@jupyter-widgets/base",
          "model_module_version": "1.2.0",
          "model_name": "LayoutModel",
          "state": {
            "_model_module": "@jupyter-widgets/base",
            "_model_module_version": "1.2.0",
            "_model_name": "LayoutModel",
            "_view_count": null,
            "_view_module": "@jupyter-widgets/base",
            "_view_module_version": "1.2.0",
            "_view_name": "LayoutView",
            "align_content": null,
            "align_items": null,
            "align_self": null,
            "border": null,
            "bottom": null,
            "display": null,
            "flex": null,
            "flex_flow": null,
            "grid_area": null,
            "grid_auto_columns": null,
            "grid_auto_flow": null,
            "grid_auto_rows": null,
            "grid_column": null,
            "grid_gap": null,
            "grid_row": null,
            "grid_template_areas": null,
            "grid_template_columns": null,
            "grid_template_rows": null,
            "height": null,
            "justify_content": null,
            "justify_items": null,
            "left": null,
            "margin": null,
            "max_height": null,
            "max_width": null,
            "min_height": null,
            "min_width": null,
            "object_fit": null,
            "object_position": null,
            "order": null,
            "overflow": null,
            "overflow_x": null,
            "overflow_y": null,
            "padding": null,
            "right": null,
            "top": null,
            "visibility": null,
            "width": null
          }
        },
        "837563d7e23944efa8343c26c1127a0b": {
          "model_module": "@jupyter-widgets/controls",
          "model_module_version": "1.5.0",
          "model_name": "HTMLModel",
          "state": {
            "_dom_classes": [],
            "_model_module": "@jupyter-widgets/controls",
            "_model_module_version": "1.5.0",
            "_model_name": "HTMLModel",
            "_view_count": null,
            "_view_module": "@jupyter-widgets/controls",
            "_view_module_version": "1.5.0",
            "_view_name": "HTMLView",
            "description": "",
            "description_tooltip": null,
            "layout": "IPY_MODEL_dfccddc38a484f0a83089f6a499507f4",
            "placeholder": "​",
            "style": "IPY_MODEL_f91c39b0358f407ba673f5da66b6aa9e",
            "value": " 996k/996k [00:00&lt;00:00, 3.78MB/s]"
          }
        },
        "85140397ad154b55a7c8a49d18c8bf6c": {
          "model_module": "@jupyter-widgets/base",
          "model_module_version": "1.2.0",
          "model_name": "LayoutModel",
          "state": {
            "_model_module": "@jupyter-widgets/base",
            "_model_module_version": "1.2.0",
            "_model_name": "LayoutModel",
            "_view_count": null,
            "_view_module": "@jupyter-widgets/base",
            "_view_module_version": "1.2.0",
            "_view_name": "LayoutView",
            "align_content": null,
            "align_items": null,
            "align_self": null,
            "border": null,
            "bottom": null,
            "display": null,
            "flex": null,
            "flex_flow": null,
            "grid_area": null,
            "grid_auto_columns": null,
            "grid_auto_flow": null,
            "grid_auto_rows": null,
            "grid_column": null,
            "grid_gap": null,
            "grid_row": null,
            "grid_template_areas": null,
            "grid_template_columns": null,
            "grid_template_rows": null,
            "height": null,
            "justify_content": null,
            "justify_items": null,
            "left": null,
            "margin": null,
            "max_height": null,
            "max_width": null,
            "min_height": null,
            "min_width": null,
            "object_fit": null,
            "object_position": null,
            "order": null,
            "overflow": null,
            "overflow_x": null,
            "overflow_y": null,
            "padding": null,
            "right": null,
            "top": null,
            "visibility": null,
            "width": null
          }
        },
        "8ec3517c5150468ba1c96a4dfab11e5b": {
          "model_module": "@jupyter-widgets/controls",
          "model_module_version": "1.5.0",
          "model_name": "FloatProgressModel",
          "state": {
            "_dom_classes": [],
            "_model_module": "@jupyter-widgets/controls",
            "_model_module_version": "1.5.0",
            "_model_name": "FloatProgressModel",
            "_view_count": null,
            "_view_module": "@jupyter-widgets/controls",
            "_view_module_version": "1.5.0",
            "_view_name": "ProgressView",
            "bar_style": "success",
            "description": "",
            "description_tooltip": null,
            "layout": "IPY_MODEL_85140397ad154b55a7c8a49d18c8bf6c",
            "max": 625,
            "min": 0,
            "orientation": "horizontal",
            "style": "IPY_MODEL_f598205d3a414aaa8cd21408c02a7da3",
            "value": 625
          }
        },
        "9115ca105d0543a2992a073c79c4fb08": {
          "model_module": "@jupyter-widgets/controls",
          "model_module_version": "1.5.0",
          "model_name": "DescriptionStyleModel",
          "state": {
            "_model_module": "@jupyter-widgets/controls",
            "_model_module_version": "1.5.0",
            "_model_name": "DescriptionStyleModel",
            "_view_count": null,
            "_view_module": "@jupyter-widgets/base",
            "_view_module_version": "1.2.0",
            "_view_name": "StyleView",
            "description_width": ""
          }
        },
        "9485ad098d354514aa3e0f5ff9b0f404": {
          "model_module": "@jupyter-widgets/controls",
          "model_module_version": "1.5.0",
          "model_name": "FloatProgressModel",
          "state": {
            "_dom_classes": [],
            "_model_module": "@jupyter-widgets/controls",
            "_model_module_version": "1.5.0",
            "_model_name": "FloatProgressModel",
            "_view_count": null,
            "_view_module": "@jupyter-widgets/controls",
            "_view_module_version": "1.5.0",
            "_view_name": "ProgressView",
            "bar_style": "success",
            "description": "",
            "description_tooltip": null,
            "layout": "IPY_MODEL_c5da18a9a22b4283896be62e1fc99719",
            "max": 995526,
            "min": 0,
            "orientation": "horizontal",
            "style": "IPY_MODEL_2cfc6d185bec4eaf8fb695940f4fe23f",
            "value": 995526
          }
        },
        "952a207406414fabbac6ca8d9f936f70": {
          "model_module": "@jupyter-widgets/base",
          "model_module_version": "1.2.0",
          "model_name": "LayoutModel",
          "state": {
            "_model_module": "@jupyter-widgets/base",
            "_model_module_version": "1.2.0",
            "_model_name": "LayoutModel",
            "_view_count": null,
            "_view_module": "@jupyter-widgets/base",
            "_view_module_version": "1.2.0",
            "_view_name": "LayoutView",
            "align_content": null,
            "align_items": null,
            "align_self": null,
            "border": null,
            "bottom": null,
            "display": null,
            "flex": null,
            "flex_flow": null,
            "grid_area": null,
            "grid_auto_columns": null,
            "grid_auto_flow": null,
            "grid_auto_rows": null,
            "grid_column": null,
            "grid_gap": null,
            "grid_row": null,
            "grid_template_areas": null,
            "grid_template_columns": null,
            "grid_template_rows": null,
            "height": null,
            "justify_content": null,
            "justify_items": null,
            "left": null,
            "margin": null,
            "max_height": null,
            "max_width": null,
            "min_height": null,
            "min_width": null,
            "object_fit": null,
            "object_position": null,
            "order": null,
            "overflow": null,
            "overflow_x": null,
            "overflow_y": null,
            "padding": null,
            "right": null,
            "top": null,
            "visibility": null,
            "width": null
          }
        },
        "a1704515ef554230ba00ec82ce75f38c": {
          "model_module": "@jupyter-widgets/controls",
          "model_module_version": "1.5.0",
          "model_name": "HTMLModel",
          "state": {
            "_dom_classes": [],
            "_model_module": "@jupyter-widgets/controls",
            "_model_module_version": "1.5.0",
            "_model_name": "HTMLModel",
            "_view_count": null,
            "_view_module": "@jupyter-widgets/controls",
            "_view_module_version": "1.5.0",
            "_view_name": "HTMLView",
            "description": "",
            "description_tooltip": null,
            "layout": "IPY_MODEL_a254fb9f72f14ceba11850dbb28bb86c",
            "placeholder": "​",
            "style": "IPY_MODEL_9115ca105d0543a2992a073c79c4fb08",
            "value": "vocab.txt: 100%"
          }
        },
        "a254fb9f72f14ceba11850dbb28bb86c": {
          "model_module": "@jupyter-widgets/base",
          "model_module_version": "1.2.0",
          "model_name": "LayoutModel",
          "state": {
            "_model_module": "@jupyter-widgets/base",
            "_model_module_version": "1.2.0",
            "_model_name": "LayoutModel",
            "_view_count": null,
            "_view_module": "@jupyter-widgets/base",
            "_view_module_version": "1.2.0",
            "_view_name": "LayoutView",
            "align_content": null,
            "align_items": null,
            "align_self": null,
            "border": null,
            "bottom": null,
            "display": null,
            "flex": null,
            "flex_flow": null,
            "grid_area": null,
            "grid_auto_columns": null,
            "grid_auto_flow": null,
            "grid_auto_rows": null,
            "grid_column": null,
            "grid_gap": null,
            "grid_row": null,
            "grid_template_areas": null,
            "grid_template_columns": null,
            "grid_template_rows": null,
            "height": null,
            "justify_content": null,
            "justify_items": null,
            "left": null,
            "margin": null,
            "max_height": null,
            "max_width": null,
            "min_height": null,
            "min_width": null,
            "object_fit": null,
            "object_position": null,
            "order": null,
            "overflow": null,
            "overflow_x": null,
            "overflow_y": null,
            "padding": null,
            "right": null,
            "top": null,
            "visibility": null,
            "width": null
          }
        },
        "a97e4458c3c641c38c85df7c54968aeb": {
          "model_module": "@jupyter-widgets/controls",
          "model_module_version": "1.5.0",
          "model_name": "DescriptionStyleModel",
          "state": {
            "_model_module": "@jupyter-widgets/controls",
            "_model_module_version": "1.5.0",
            "_model_name": "DescriptionStyleModel",
            "_view_count": null,
            "_view_module": "@jupyter-widgets/base",
            "_view_module_version": "1.2.0",
            "_view_name": "StyleView",
            "description_width": ""
          }
        },
        "adf9425a17344d2aa9ac6c8a46b898eb": {
          "model_module": "@jupyter-widgets/base",
          "model_module_version": "1.2.0",
          "model_name": "LayoutModel",
          "state": {
            "_model_module": "@jupyter-widgets/base",
            "_model_module_version": "1.2.0",
            "_model_name": "LayoutModel",
            "_view_count": null,
            "_view_module": "@jupyter-widgets/base",
            "_view_module_version": "1.2.0",
            "_view_name": "LayoutView",
            "align_content": null,
            "align_items": null,
            "align_self": null,
            "border": null,
            "bottom": null,
            "display": null,
            "flex": null,
            "flex_flow": null,
            "grid_area": null,
            "grid_auto_columns": null,
            "grid_auto_flow": null,
            "grid_auto_rows": null,
            "grid_column": null,
            "grid_gap": null,
            "grid_row": null,
            "grid_template_areas": null,
            "grid_template_columns": null,
            "grid_template_rows": null,
            "height": null,
            "justify_content": null,
            "justify_items": null,
            "left": null,
            "margin": null,
            "max_height": null,
            "max_width": null,
            "min_height": null,
            "min_width": null,
            "object_fit": null,
            "object_position": null,
            "order": null,
            "overflow": null,
            "overflow_x": null,
            "overflow_y": null,
            "padding": null,
            "right": null,
            "top": null,
            "visibility": null,
            "width": null
          }
        },
        "ae6e671c749f48aaaac1165a0c89a544": {
          "model_module": "@jupyter-widgets/base",
          "model_module_version": "1.2.0",
          "model_name": "LayoutModel",
          "state": {
            "_model_module": "@jupyter-widgets/base",
            "_model_module_version": "1.2.0",
            "_model_name": "LayoutModel",
            "_view_count": null,
            "_view_module": "@jupyter-widgets/base",
            "_view_module_version": "1.2.0",
            "_view_name": "LayoutView",
            "align_content": null,
            "align_items": null,
            "align_self": null,
            "border": null,
            "bottom": null,
            "display": null,
            "flex": null,
            "flex_flow": null,
            "grid_area": null,
            "grid_auto_columns": null,
            "grid_auto_flow": null,
            "grid_auto_rows": null,
            "grid_column": null,
            "grid_gap": null,
            "grid_row": null,
            "grid_template_areas": null,
            "grid_template_columns": null,
            "grid_template_rows": null,
            "height": null,
            "justify_content": null,
            "justify_items": null,
            "left": null,
            "margin": null,
            "max_height": null,
            "max_width": null,
            "min_height": null,
            "min_width": null,
            "object_fit": null,
            "object_position": null,
            "order": null,
            "overflow": null,
            "overflow_x": null,
            "overflow_y": null,
            "padding": null,
            "right": null,
            "top": null,
            "visibility": null,
            "width": null
          }
        },
        "bbb9d039ff654e618cf377f5268cc526": {
          "model_module": "@jupyter-widgets/base",
          "model_module_version": "1.2.0",
          "model_name": "LayoutModel",
          "state": {
            "_model_module": "@jupyter-widgets/base",
            "_model_module_version": "1.2.0",
            "_model_name": "LayoutModel",
            "_view_count": null,
            "_view_module": "@jupyter-widgets/base",
            "_view_module_version": "1.2.0",
            "_view_name": "LayoutView",
            "align_content": null,
            "align_items": null,
            "align_self": null,
            "border": null,
            "bottom": null,
            "display": null,
            "flex": null,
            "flex_flow": null,
            "grid_area": null,
            "grid_auto_columns": null,
            "grid_auto_flow": null,
            "grid_auto_rows": null,
            "grid_column": null,
            "grid_gap": null,
            "grid_row": null,
            "grid_template_areas": null,
            "grid_template_columns": null,
            "grid_template_rows": null,
            "height": null,
            "justify_content": null,
            "justify_items": null,
            "left": null,
            "margin": null,
            "max_height": null,
            "max_width": null,
            "min_height": null,
            "min_width": null,
            "object_fit": null,
            "object_position": null,
            "order": null,
            "overflow": null,
            "overflow_x": null,
            "overflow_y": null,
            "padding": null,
            "right": null,
            "top": null,
            "visibility": null,
            "width": null
          }
        },
        "be5bda7576554124893c3e94f6708df7": {
          "model_module": "@jupyter-widgets/controls",
          "model_module_version": "1.5.0",
          "model_name": "DescriptionStyleModel",
          "state": {
            "_model_module": "@jupyter-widgets/controls",
            "_model_module_version": "1.5.0",
            "_model_name": "DescriptionStyleModel",
            "_view_count": null,
            "_view_module": "@jupyter-widgets/base",
            "_view_module_version": "1.2.0",
            "_view_name": "StyleView",
            "description_width": ""
          }
        },
        "c26a4161552847edbdeaec3fd241e572": {
          "model_module": "@jupyter-widgets/base",
          "model_module_version": "1.2.0",
          "model_name": "LayoutModel",
          "state": {
            "_model_module": "@jupyter-widgets/base",
            "_model_module_version": "1.2.0",
            "_model_name": "LayoutModel",
            "_view_count": null,
            "_view_module": "@jupyter-widgets/base",
            "_view_module_version": "1.2.0",
            "_view_name": "LayoutView",
            "align_content": null,
            "align_items": null,
            "align_self": null,
            "border": null,
            "bottom": null,
            "display": null,
            "flex": null,
            "flex_flow": null,
            "grid_area": null,
            "grid_auto_columns": null,
            "grid_auto_flow": null,
            "grid_auto_rows": null,
            "grid_column": null,
            "grid_gap": null,
            "grid_row": null,
            "grid_template_areas": null,
            "grid_template_columns": null,
            "grid_template_rows": null,
            "height": null,
            "justify_content": null,
            "justify_items": null,
            "left": null,
            "margin": null,
            "max_height": null,
            "max_width": null,
            "min_height": null,
            "min_width": null,
            "object_fit": null,
            "object_position": null,
            "order": null,
            "overflow": null,
            "overflow_x": null,
            "overflow_y": null,
            "padding": null,
            "right": null,
            "top": null,
            "visibility": null,
            "width": null
          }
        },
        "c552d20e416b47c78eeaa47b7047d2a6": {
          "model_module": "@jupyter-widgets/controls",
          "model_module_version": "1.5.0",
          "model_name": "HTMLModel",
          "state": {
            "_dom_classes": [],
            "_model_module": "@jupyter-widgets/controls",
            "_model_module_version": "1.5.0",
            "_model_name": "HTMLModel",
            "_view_count": null,
            "_view_module": "@jupyter-widgets/controls",
            "_view_module_version": "1.5.0",
            "_view_name": "HTMLView",
            "description": "",
            "description_tooltip": null,
            "layout": "IPY_MODEL_c26a4161552847edbdeaec3fd241e572",
            "placeholder": "​",
            "style": "IPY_MODEL_6340520136f8466a91d605f97bf480b8",
            "value": " 625/625 [00:00&lt;00:00, 31.1kB/s]"
          }
        },
        "c5da18a9a22b4283896be62e1fc99719": {
          "model_module": "@jupyter-widgets/base",
          "model_module_version": "1.2.0",
          "model_name": "LayoutModel",
          "state": {
            "_model_module": "@jupyter-widgets/base",
            "_model_module_version": "1.2.0",
            "_model_name": "LayoutModel",
            "_view_count": null,
            "_view_module": "@jupyter-widgets/base",
            "_view_module_version": "1.2.0",
            "_view_name": "LayoutView",
            "align_content": null,
            "align_items": null,
            "align_self": null,
            "border": null,
            "bottom": null,
            "display": null,
            "flex": null,
            "flex_flow": null,
            "grid_area": null,
            "grid_auto_columns": null,
            "grid_auto_flow": null,
            "grid_auto_rows": null,
            "grid_column": null,
            "grid_gap": null,
            "grid_row": null,
            "grid_template_areas": null,
            "grid_template_columns": null,
            "grid_template_rows": null,
            "height": null,
            "justify_content": null,
            "justify_items": null,
            "left": null,
            "margin": null,
            "max_height": null,
            "max_width": null,
            "min_height": null,
            "min_width": null,
            "object_fit": null,
            "object_position": null,
            "order": null,
            "overflow": null,
            "overflow_x": null,
            "overflow_y": null,
            "padding": null,
            "right": null,
            "top": null,
            "visibility": null,
            "width": null
          }
        },
        "ca29a8b97bab4d95b496abc9dcf8d90f": {
          "model_module": "@jupyter-widgets/controls",
          "model_module_version": "1.5.0",
          "model_name": "DescriptionStyleModel",
          "state": {
            "_model_module": "@jupyter-widgets/controls",
            "_model_module_version": "1.5.0",
            "_model_name": "DescriptionStyleModel",
            "_view_count": null,
            "_view_module": "@jupyter-widgets/base",
            "_view_module_version": "1.2.0",
            "_view_name": "StyleView",
            "description_width": ""
          }
        },
        "d0274efdbb77423689d8be76b26ebc19": {
          "model_module": "@jupyter-widgets/controls",
          "model_module_version": "1.5.0",
          "model_name": "HBoxModel",
          "state": {
            "_dom_classes": [],
            "_model_module": "@jupyter-widgets/controls",
            "_model_module_version": "1.5.0",
            "_model_name": "HBoxModel",
            "_view_count": null,
            "_view_module": "@jupyter-widgets/controls",
            "_view_module_version": "1.5.0",
            "_view_name": "HBoxView",
            "box_style": "",
            "children": [
              "IPY_MODEL_d069f858b86e43499071f67ed828225f",
              "IPY_MODEL_eb29443e17d1414aa6550db17aba3c03",
              "IPY_MODEL_6397a59df967491f89f7395a427b6b69"
            ],
            "layout": "IPY_MODEL_4390e67bcff34f5d99e104d4fd4b8528"
          }
        },
        "d038b76ba4f6427d968a9a509478a404": {
          "model_module": "@jupyter-widgets/controls",
          "model_module_version": "1.5.0",
          "model_name": "ProgressStyleModel",
          "state": {
            "_model_module": "@jupyter-widgets/controls",
            "_model_module_version": "1.5.0",
            "_model_name": "ProgressStyleModel",
            "_view_count": null,
            "_view_module": "@jupyter-widgets/base",
            "_view_module_version": "1.2.0",
            "_view_name": "StyleView",
            "bar_color": null,
            "description_width": ""
          }
        },
        "d069f858b86e43499071f67ed828225f": {
          "model_module": "@jupyter-widgets/controls",
          "model_module_version": "1.5.0",
          "model_name": "HTMLModel",
          "state": {
            "_dom_classes": [],
            "_model_module": "@jupyter-widgets/controls",
            "_model_module_version": "1.5.0",
            "_model_name": "HTMLModel",
            "_view_count": null,
            "_view_module": "@jupyter-widgets/controls",
            "_view_module_version": "1.5.0",
            "_view_name": "HTMLView",
            "description": "",
            "description_tooltip": null,
            "layout": "IPY_MODEL_3ff5bbd91dde43dbbf4db6dbff5507d9",
            "placeholder": "​",
            "style": "IPY_MODEL_be5bda7576554124893c3e94f6708df7",
            "value": "tokenizer_config.json: 100%"
          }
        },
        "d68ad7347b804699a4e75068eab30147": {
          "model_module": "@jupyter-widgets/base",
          "model_module_version": "1.2.0",
          "model_name": "LayoutModel",
          "state": {
            "_model_module": "@jupyter-widgets/base",
            "_model_module_version": "1.2.0",
            "_model_name": "LayoutModel",
            "_view_count": null,
            "_view_module": "@jupyter-widgets/base",
            "_view_module_version": "1.2.0",
            "_view_name": "LayoutView",
            "align_content": null,
            "align_items": null,
            "align_self": null,
            "border": null,
            "bottom": null,
            "display": null,
            "flex": null,
            "flex_flow": null,
            "grid_area": null,
            "grid_auto_columns": null,
            "grid_auto_flow": null,
            "grid_auto_rows": null,
            "grid_column": null,
            "grid_gap": null,
            "grid_row": null,
            "grid_template_areas": null,
            "grid_template_columns": null,
            "grid_template_rows": null,
            "height": null,
            "justify_content": null,
            "justify_items": null,
            "left": null,
            "margin": null,
            "max_height": null,
            "max_width": null,
            "min_height": null,
            "min_width": null,
            "object_fit": null,
            "object_position": null,
            "order": null,
            "overflow": null,
            "overflow_x": null,
            "overflow_y": null,
            "padding": null,
            "right": null,
            "top": null,
            "visibility": null,
            "width": null
          }
        },
        "dfc424a3cc374373be9b0a62939f2e8e": {
          "model_module": "@jupyter-widgets/base",
          "model_module_version": "1.2.0",
          "model_name": "LayoutModel",
          "state": {
            "_model_module": "@jupyter-widgets/base",
            "_model_module_version": "1.2.0",
            "_model_name": "LayoutModel",
            "_view_count": null,
            "_view_module": "@jupyter-widgets/base",
            "_view_module_version": "1.2.0",
            "_view_name": "LayoutView",
            "align_content": null,
            "align_items": null,
            "align_self": null,
            "border": null,
            "bottom": null,
            "display": null,
            "flex": null,
            "flex_flow": null,
            "grid_area": null,
            "grid_auto_columns": null,
            "grid_auto_flow": null,
            "grid_auto_rows": null,
            "grid_column": null,
            "grid_gap": null,
            "grid_row": null,
            "grid_template_areas": null,
            "grid_template_columns": null,
            "grid_template_rows": null,
            "height": null,
            "justify_content": null,
            "justify_items": null,
            "left": null,
            "margin": null,
            "max_height": null,
            "max_width": null,
            "min_height": null,
            "min_width": null,
            "object_fit": null,
            "object_position": null,
            "order": null,
            "overflow": null,
            "overflow_x": null,
            "overflow_y": null,
            "padding": null,
            "right": null,
            "top": null,
            "visibility": null,
            "width": null
          }
        },
        "dfccddc38a484f0a83089f6a499507f4": {
          "model_module": "@jupyter-widgets/base",
          "model_module_version": "1.2.0",
          "model_name": "LayoutModel",
          "state": {
            "_model_module": "@jupyter-widgets/base",
            "_model_module_version": "1.2.0",
            "_model_name": "LayoutModel",
            "_view_count": null,
            "_view_module": "@jupyter-widgets/base",
            "_view_module_version": "1.2.0",
            "_view_name": "LayoutView",
            "align_content": null,
            "align_items": null,
            "align_self": null,
            "border": null,
            "bottom": null,
            "display": null,
            "flex": null,
            "flex_flow": null,
            "grid_area": null,
            "grid_auto_columns": null,
            "grid_auto_flow": null,
            "grid_auto_rows": null,
            "grid_column": null,
            "grid_gap": null,
            "grid_row": null,
            "grid_template_areas": null,
            "grid_template_columns": null,
            "grid_template_rows": null,
            "height": null,
            "justify_content": null,
            "justify_items": null,
            "left": null,
            "margin": null,
            "max_height": null,
            "max_width": null,
            "min_height": null,
            "min_width": null,
            "object_fit": null,
            "object_position": null,
            "order": null,
            "overflow": null,
            "overflow_x": null,
            "overflow_y": null,
            "padding": null,
            "right": null,
            "top": null,
            "visibility": null,
            "width": null
          }
        },
        "e68efd8eeed94f378f3b1443eca67d9e": {
          "model_module": "@jupyter-widgets/controls",
          "model_module_version": "1.5.0",
          "model_name": "HTMLModel",
          "state": {
            "_dom_classes": [],
            "_model_module": "@jupyter-widgets/controls",
            "_model_module_version": "1.5.0",
            "_model_name": "HTMLModel",
            "_view_count": null,
            "_view_module": "@jupyter-widgets/controls",
            "_view_module_version": "1.5.0",
            "_view_name": "HTMLView",
            "description": "",
            "description_tooltip": null,
            "layout": "IPY_MODEL_dfc424a3cc374373be9b0a62939f2e8e",
            "placeholder": "​",
            "style": "IPY_MODEL_431b3ac2f83c4f6da9a906371da706a7",
            "value": " 714M/714M [00:06&lt;00:00, 241MB/s]"
          }
        },
        "e7ea76b196e24a7fbb9c98faa5f8bac5": {
          "model_module": "@jupyter-widgets/controls",
          "model_module_version": "1.5.0",
          "model_name": "HBoxModel",
          "state": {
            "_dom_classes": [],
            "_model_module": "@jupyter-widgets/controls",
            "_model_module_version": "1.5.0",
            "_model_name": "HBoxModel",
            "_view_count": null,
            "_view_module": "@jupyter-widgets/controls",
            "_view_module_version": "1.5.0",
            "_view_name": "HBoxView",
            "box_style": "",
            "children": [
              "IPY_MODEL_09e4626512f8458ebab743f6a16a13bb",
              "IPY_MODEL_0f2a6c5d98ff432c8a60486d6c740d03",
              "IPY_MODEL_5f31f6da4d4e4637877259d87ce8e575"
            ],
            "layout": "IPY_MODEL_63a80f140e574813be7fc2a393d923b7"
          }
        },
        "eb29443e17d1414aa6550db17aba3c03": {
          "model_module": "@jupyter-widgets/controls",
          "model_module_version": "1.5.0",
          "model_name": "FloatProgressModel",
          "state": {
            "_dom_classes": [],
            "_model_module": "@jupyter-widgets/controls",
            "_model_module_version": "1.5.0",
            "_model_name": "FloatProgressModel",
            "_view_count": null,
            "_view_module": "@jupyter-widgets/controls",
            "_view_module_version": "1.5.0",
            "_view_name": "ProgressView",
            "bar_style": "success",
            "description": "",
            "description_tooltip": null,
            "layout": "IPY_MODEL_63cfe1c848d341189fbeb7f1c51dea52",
            "max": 49,
            "min": 0,
            "orientation": "horizontal",
            "style": "IPY_MODEL_63d7bff2bbb94bccb1fda3c2496f903c",
            "value": 49
          }
        },
        "f598205d3a414aaa8cd21408c02a7da3": {
          "model_module": "@jupyter-widgets/controls",
          "model_module_version": "1.5.0",
          "model_name": "ProgressStyleModel",
          "state": {
            "_model_module": "@jupyter-widgets/controls",
            "_model_module_version": "1.5.0",
            "_model_name": "ProgressStyleModel",
            "_view_count": null,
            "_view_module": "@jupyter-widgets/base",
            "_view_module_version": "1.2.0",
            "_view_name": "StyleView",
            "bar_color": null,
            "description_width": ""
          }
        },
        "f91c39b0358f407ba673f5da66b6aa9e": {
          "model_module": "@jupyter-widgets/controls",
          "model_module_version": "1.5.0",
          "model_name": "DescriptionStyleModel",
          "state": {
            "_model_module": "@jupyter-widgets/controls",
            "_model_module_version": "1.5.0",
            "_model_name": "DescriptionStyleModel",
            "_view_count": null,
            "_view_module": "@jupyter-widgets/base",
            "_view_module_version": "1.2.0",
            "_view_name": "StyleView",
            "description_width": ""
          }
        },
        "fb490cfc54d2472285bcdfd352a37572": {
          "model_module": "@jupyter-widgets/controls",
          "model_module_version": "1.5.0",
          "model_name": "HTMLModel",
          "state": {
            "_dom_classes": [],
            "_model_module": "@jupyter-widgets/controls",
            "_model_module_version": "1.5.0",
            "_model_name": "HTMLModel",
            "_view_count": null,
            "_view_module": "@jupyter-widgets/controls",
            "_view_module_version": "1.5.0",
            "_view_name": "HTMLView",
            "description": "",
            "description_tooltip": null,
            "layout": "IPY_MODEL_ae6e671c749f48aaaac1165a0c89a544",
            "placeholder": "​",
            "style": "IPY_MODEL_a97e4458c3c641c38c85df7c54968aeb",
            "value": "model.safetensors: 100%"
          }
        }
      }
    }
  },
  "nbformat": 4,
  "nbformat_minor": 0
}
