{
 "cells": [
  {
   "cell_type": "markdown",
   "metadata": {},
   "source": [
    "### Các điều chỉnh cần bổ sung\n",
    "- vẽ mainflow cho phương pháp\n",
    "- phần thực nghiệm thêm các phương pháp khác nữa để so sánh: Bi-LSTM, RNN, GRU, Transformer"
   ]
  }
 ],
 "metadata": {
  "language_info": {
   "name": "python"
  }
 },
 "nbformat": 4,
 "nbformat_minor": 2
}
