{
  "cells": [
    {
      "cell_type": "code",
      "execution_count": 1,
      "metadata": {
        "id": "QICMnQPGL3f0",
        "colab": {
          "base_uri": "https://localhost:8080/",
          "height": 36
        },
        "outputId": "096a4583-a0bf-4fbe-f44f-32ff5ca84aac"
      },
      "outputs": [
        {
          "output_type": "execute_result",
          "data": {
            "text/plain": [
              "'\\nAuthor: Ngo Van Uc\\nDate:\\nContact: ngovanuc.1508@gmail.com\\n'"
            ],
            "application/vnd.google.colaboratory.intrinsic+json": {
              "type": "string"
            }
          },
          "metadata": {},
          "execution_count": 1
        }
      ],
      "source": [
        "\"\"\"\n",
        "Author: Ngo Van Uc\n",
        "Date:\n",
        "Contact: ngovanuc.1508@gmail.com\n",
        "\"\"\""
      ]
    },
    {
      "cell_type": "code",
      "source": [
        "from google.colab import drive\n",
        "drive.mount('/content/MyDrive')"
      ],
      "metadata": {
        "id": "PUVY9-4IMHEN",
        "colab": {
          "base_uri": "https://localhost:8080/"
        },
        "outputId": "c7a4c8bb-219d-4b03-ce83-59c254ff2ddc"
      },
      "execution_count": 2,
      "outputs": [
        {
          "output_type": "stream",
          "name": "stdout",
          "text": [
            "Mounted at /content/MyDrive\n"
          ]
        }
      ]
    },
    {
      "cell_type": "code",
      "execution_count": 3,
      "metadata": {
        "id": "ZxVNxskoL3f2"
      },
      "outputs": [],
      "source": [
        "import warnings\n",
        "warnings.filterwarnings('ignore')\n",
        "from IPython.display import clear_output\n",
        "\n",
        "import pandas as pd\n",
        "import numpy as np\n",
        "\n",
        "from sklearn.metrics import accuracy_score\n",
        "from sklearn.metrics import f1_score\n",
        "from sklearn.metrics import precision_score\n",
        "from sklearn.metrics import recall_score"
      ]
    },
    {
      "cell_type": "markdown",
      "metadata": {
        "id": "xbaS4j2uL3f3"
      },
      "source": [
        "# 01. Preprocessing"
      ]
    },
    {
      "cell_type": "code",
      "execution_count": 4,
      "metadata": {
        "id": "hMcNeYJzL3f4",
        "colab": {
          "base_uri": "https://localhost:8080/",
          "height": 206
        },
        "outputId": "2e8c0305-f201-4667-b51b-234fad35cc8a"
      },
      "outputs": [
        {
          "output_type": "execute_result",
          "data": {
            "text/plain": [
              "   index                                            comment  n_star  \\\n",
              "0      0  Mới mua máy này Tại thegioididong thốt nốt cảm...       5   \n",
              "1      1  Pin kém còn lại miễn chê mua 8/3/2019 tình trạ...       5   \n",
              "2      2  Sao lúc gọi điện thoại màn hình bị chấm nhỏ nh...       3   \n",
              "3      3  Mọi người cập nhật phần mềm lại , nó sẽ bớt tố...       3   \n",
              "4      4  Mới mua Sài được 1 tháng thấy pin rất trâu, Sà...       5   \n",
              "\n",
              "      date_time                                              label  \n",
              "0  2 tuần trước  {CAMERA#Positive};{FEATURES#Positive};{BATTERY...  \n",
              "1    14/09/2019    {BATTERY#Negative};{GENERAL#Positive};{OTHERS};  \n",
              "2    17/08/2020                               {FEATURES#Negative};  \n",
              "3    29/02/2020  {FEATURES#Negative};{BATTERY#Neutral};{GENERAL...  \n",
              "4      4/6/2020  {BATTERY#Positive};{PERFORMANCE#Positive};{SER...  "
            ],
            "text/html": [
              "\n",
              "  <div id=\"df-3570cad1-6f88-4b49-8ae2-0b1df26d0e09\" class=\"colab-df-container\">\n",
              "    <div>\n",
              "<style scoped>\n",
              "    .dataframe tbody tr th:only-of-type {\n",
              "        vertical-align: middle;\n",
              "    }\n",
              "\n",
              "    .dataframe tbody tr th {\n",
              "        vertical-align: top;\n",
              "    }\n",
              "\n",
              "    .dataframe thead th {\n",
              "        text-align: right;\n",
              "    }\n",
              "</style>\n",
              "<table border=\"1\" class=\"dataframe\">\n",
              "  <thead>\n",
              "    <tr style=\"text-align: right;\">\n",
              "      <th></th>\n",
              "      <th>index</th>\n",
              "      <th>comment</th>\n",
              "      <th>n_star</th>\n",
              "      <th>date_time</th>\n",
              "      <th>label</th>\n",
              "    </tr>\n",
              "  </thead>\n",
              "  <tbody>\n",
              "    <tr>\n",
              "      <th>0</th>\n",
              "      <td>0</td>\n",
              "      <td>Mới mua máy này Tại thegioididong thốt nốt cảm...</td>\n",
              "      <td>5</td>\n",
              "      <td>2 tuần trước</td>\n",
              "      <td>{CAMERA#Positive};{FEATURES#Positive};{BATTERY...</td>\n",
              "    </tr>\n",
              "    <tr>\n",
              "      <th>1</th>\n",
              "      <td>1</td>\n",
              "      <td>Pin kém còn lại miễn chê mua 8/3/2019 tình trạ...</td>\n",
              "      <td>5</td>\n",
              "      <td>14/09/2019</td>\n",
              "      <td>{BATTERY#Negative};{GENERAL#Positive};{OTHERS};</td>\n",
              "    </tr>\n",
              "    <tr>\n",
              "      <th>2</th>\n",
              "      <td>2</td>\n",
              "      <td>Sao lúc gọi điện thoại màn hình bị chấm nhỏ nh...</td>\n",
              "      <td>3</td>\n",
              "      <td>17/08/2020</td>\n",
              "      <td>{FEATURES#Negative};</td>\n",
              "    </tr>\n",
              "    <tr>\n",
              "      <th>3</th>\n",
              "      <td>3</td>\n",
              "      <td>Mọi người cập nhật phần mềm lại , nó sẽ bớt tố...</td>\n",
              "      <td>3</td>\n",
              "      <td>29/02/2020</td>\n",
              "      <td>{FEATURES#Negative};{BATTERY#Neutral};{GENERAL...</td>\n",
              "    </tr>\n",
              "    <tr>\n",
              "      <th>4</th>\n",
              "      <td>4</td>\n",
              "      <td>Mới mua Sài được 1 tháng thấy pin rất trâu, Sà...</td>\n",
              "      <td>5</td>\n",
              "      <td>4/6/2020</td>\n",
              "      <td>{BATTERY#Positive};{PERFORMANCE#Positive};{SER...</td>\n",
              "    </tr>\n",
              "  </tbody>\n",
              "</table>\n",
              "</div>\n",
              "    <div class=\"colab-df-buttons\">\n",
              "\n",
              "  <div class=\"colab-df-container\">\n",
              "    <button class=\"colab-df-convert\" onclick=\"convertToInteractive('df-3570cad1-6f88-4b49-8ae2-0b1df26d0e09')\"\n",
              "            title=\"Convert this dataframe to an interactive table.\"\n",
              "            style=\"display:none;\">\n",
              "\n",
              "  <svg xmlns=\"http://www.w3.org/2000/svg\" height=\"24px\" viewBox=\"0 -960 960 960\">\n",
              "    <path d=\"M120-120v-720h720v720H120Zm60-500h600v-160H180v160Zm220 220h160v-160H400v160Zm0 220h160v-160H400v160ZM180-400h160v-160H180v160Zm440 0h160v-160H620v160ZM180-180h160v-160H180v160Zm440 0h160v-160H620v160Z\"/>\n",
              "  </svg>\n",
              "    </button>\n",
              "\n",
              "  <style>\n",
              "    .colab-df-container {\n",
              "      display:flex;\n",
              "      gap: 12px;\n",
              "    }\n",
              "\n",
              "    .colab-df-convert {\n",
              "      background-color: #E8F0FE;\n",
              "      border: none;\n",
              "      border-radius: 50%;\n",
              "      cursor: pointer;\n",
              "      display: none;\n",
              "      fill: #1967D2;\n",
              "      height: 32px;\n",
              "      padding: 0 0 0 0;\n",
              "      width: 32px;\n",
              "    }\n",
              "\n",
              "    .colab-df-convert:hover {\n",
              "      background-color: #E2EBFA;\n",
              "      box-shadow: 0px 1px 2px rgba(60, 64, 67, 0.3), 0px 1px 3px 1px rgba(60, 64, 67, 0.15);\n",
              "      fill: #174EA6;\n",
              "    }\n",
              "\n",
              "    .colab-df-buttons div {\n",
              "      margin-bottom: 4px;\n",
              "    }\n",
              "\n",
              "    [theme=dark] .colab-df-convert {\n",
              "      background-color: #3B4455;\n",
              "      fill: #D2E3FC;\n",
              "    }\n",
              "\n",
              "    [theme=dark] .colab-df-convert:hover {\n",
              "      background-color: #434B5C;\n",
              "      box-shadow: 0px 1px 3px 1px rgba(0, 0, 0, 0.15);\n",
              "      filter: drop-shadow(0px 1px 2px rgba(0, 0, 0, 0.3));\n",
              "      fill: #FFFFFF;\n",
              "    }\n",
              "  </style>\n",
              "\n",
              "    <script>\n",
              "      const buttonEl =\n",
              "        document.querySelector('#df-3570cad1-6f88-4b49-8ae2-0b1df26d0e09 button.colab-df-convert');\n",
              "      buttonEl.style.display =\n",
              "        google.colab.kernel.accessAllowed ? 'block' : 'none';\n",
              "\n",
              "      async function convertToInteractive(key) {\n",
              "        const element = document.querySelector('#df-3570cad1-6f88-4b49-8ae2-0b1df26d0e09');\n",
              "        const dataTable =\n",
              "          await google.colab.kernel.invokeFunction('convertToInteractive',\n",
              "                                                    [key], {});\n",
              "        if (!dataTable) return;\n",
              "\n",
              "        const docLinkHtml = 'Like what you see? Visit the ' +\n",
              "          '<a target=\"_blank\" href=https://colab.research.google.com/notebooks/data_table.ipynb>data table notebook</a>'\n",
              "          + ' to learn more about interactive tables.';\n",
              "        element.innerHTML = '';\n",
              "        dataTable['output_type'] = 'display_data';\n",
              "        await google.colab.output.renderOutput(dataTable, element);\n",
              "        const docLink = document.createElement('div');\n",
              "        docLink.innerHTML = docLinkHtml;\n",
              "        element.appendChild(docLink);\n",
              "      }\n",
              "    </script>\n",
              "  </div>\n",
              "\n",
              "\n",
              "<div id=\"df-624c7d69-727b-4d48-89f9-d943189f72b0\">\n",
              "  <button class=\"colab-df-quickchart\" onclick=\"quickchart('df-624c7d69-727b-4d48-89f9-d943189f72b0')\"\n",
              "            title=\"Suggest charts\"\n",
              "            style=\"display:none;\">\n",
              "\n",
              "<svg xmlns=\"http://www.w3.org/2000/svg\" height=\"24px\"viewBox=\"0 0 24 24\"\n",
              "     width=\"24px\">\n",
              "    <g>\n",
              "        <path d=\"M19 3H5c-1.1 0-2 .9-2 2v14c0 1.1.9 2 2 2h14c1.1 0 2-.9 2-2V5c0-1.1-.9-2-2-2zM9 17H7v-7h2v7zm4 0h-2V7h2v10zm4 0h-2v-4h2v4z\"/>\n",
              "    </g>\n",
              "</svg>\n",
              "  </button>\n",
              "\n",
              "<style>\n",
              "  .colab-df-quickchart {\n",
              "      --bg-color: #E8F0FE;\n",
              "      --fill-color: #1967D2;\n",
              "      --hover-bg-color: #E2EBFA;\n",
              "      --hover-fill-color: #174EA6;\n",
              "      --disabled-fill-color: #AAA;\n",
              "      --disabled-bg-color: #DDD;\n",
              "  }\n",
              "\n",
              "  [theme=dark] .colab-df-quickchart {\n",
              "      --bg-color: #3B4455;\n",
              "      --fill-color: #D2E3FC;\n",
              "      --hover-bg-color: #434B5C;\n",
              "      --hover-fill-color: #FFFFFF;\n",
              "      --disabled-bg-color: #3B4455;\n",
              "      --disabled-fill-color: #666;\n",
              "  }\n",
              "\n",
              "  .colab-df-quickchart {\n",
              "    background-color: var(--bg-color);\n",
              "    border: none;\n",
              "    border-radius: 50%;\n",
              "    cursor: pointer;\n",
              "    display: none;\n",
              "    fill: var(--fill-color);\n",
              "    height: 32px;\n",
              "    padding: 0;\n",
              "    width: 32px;\n",
              "  }\n",
              "\n",
              "  .colab-df-quickchart:hover {\n",
              "    background-color: var(--hover-bg-color);\n",
              "    box-shadow: 0 1px 2px rgba(60, 64, 67, 0.3), 0 1px 3px 1px rgba(60, 64, 67, 0.15);\n",
              "    fill: var(--button-hover-fill-color);\n",
              "  }\n",
              "\n",
              "  .colab-df-quickchart-complete:disabled,\n",
              "  .colab-df-quickchart-complete:disabled:hover {\n",
              "    background-color: var(--disabled-bg-color);\n",
              "    fill: var(--disabled-fill-color);\n",
              "    box-shadow: none;\n",
              "  }\n",
              "\n",
              "  .colab-df-spinner {\n",
              "    border: 2px solid var(--fill-color);\n",
              "    border-color: transparent;\n",
              "    border-bottom-color: var(--fill-color);\n",
              "    animation:\n",
              "      spin 1s steps(1) infinite;\n",
              "  }\n",
              "\n",
              "  @keyframes spin {\n",
              "    0% {\n",
              "      border-color: transparent;\n",
              "      border-bottom-color: var(--fill-color);\n",
              "      border-left-color: var(--fill-color);\n",
              "    }\n",
              "    20% {\n",
              "      border-color: transparent;\n",
              "      border-left-color: var(--fill-color);\n",
              "      border-top-color: var(--fill-color);\n",
              "    }\n",
              "    30% {\n",
              "      border-color: transparent;\n",
              "      border-left-color: var(--fill-color);\n",
              "      border-top-color: var(--fill-color);\n",
              "      border-right-color: var(--fill-color);\n",
              "    }\n",
              "    40% {\n",
              "      border-color: transparent;\n",
              "      border-right-color: var(--fill-color);\n",
              "      border-top-color: var(--fill-color);\n",
              "    }\n",
              "    60% {\n",
              "      border-color: transparent;\n",
              "      border-right-color: var(--fill-color);\n",
              "    }\n",
              "    80% {\n",
              "      border-color: transparent;\n",
              "      border-right-color: var(--fill-color);\n",
              "      border-bottom-color: var(--fill-color);\n",
              "    }\n",
              "    90% {\n",
              "      border-color: transparent;\n",
              "      border-bottom-color: var(--fill-color);\n",
              "    }\n",
              "  }\n",
              "</style>\n",
              "\n",
              "  <script>\n",
              "    async function quickchart(key) {\n",
              "      const quickchartButtonEl =\n",
              "        document.querySelector('#' + key + ' button');\n",
              "      quickchartButtonEl.disabled = true;  // To prevent multiple clicks.\n",
              "      quickchartButtonEl.classList.add('colab-df-spinner');\n",
              "      try {\n",
              "        const charts = await google.colab.kernel.invokeFunction(\n",
              "            'suggestCharts', [key], {});\n",
              "      } catch (error) {\n",
              "        console.error('Error during call to suggestCharts:', error);\n",
              "      }\n",
              "      quickchartButtonEl.classList.remove('colab-df-spinner');\n",
              "      quickchartButtonEl.classList.add('colab-df-quickchart-complete');\n",
              "    }\n",
              "    (() => {\n",
              "      let quickchartButtonEl =\n",
              "        document.querySelector('#df-624c7d69-727b-4d48-89f9-d943189f72b0 button');\n",
              "      quickchartButtonEl.style.display =\n",
              "        google.colab.kernel.accessAllowed ? 'block' : 'none';\n",
              "    })();\n",
              "  </script>\n",
              "</div>\n",
              "\n",
              "    </div>\n",
              "  </div>\n"
            ],
            "application/vnd.google.colaboratory.intrinsic+json": {
              "type": "dataframe",
              "variable_name": "train_data",
              "summary": "{\n  \"name\": \"train_data\",\n  \"rows\": 7786,\n  \"fields\": [\n    {\n      \"column\": \"index\",\n      \"properties\": {\n        \"dtype\": \"number\",\n        \"std\": 2247,\n        \"min\": 0,\n        \"max\": 7785,\n        \"num_unique_values\": 7786,\n        \"samples\": [\n          7324,\n          4694,\n          1322\n        ],\n        \"semantic_type\": \"\",\n        \"description\": \"\"\n      }\n    },\n    {\n      \"column\": \"comment\",\n      \"properties\": {\n        \"dtype\": \"string\",\n        \"num_unique_values\": 7786,\n        \"samples\": [\n          \"L\\u1ea5y m\\u00e1y v\\u1ec1 2 ng\\u00e0y b\\u1ecb l\\u1ed7i v\\u00e2n tay. Nh\\u1eadn di\\u1ec7n khu\\u00f4n m\\u1eb7t c\\u0169ng ch\\u1eadm. Kh\\u00f4ng \\u0111\\u00e1ng gi\\u00e1 ti\\u1ec1n t\\u00ed n\\u00e0o. Ch\\u00e1n\\ud83d\\ude1f\",\n          \"M\\u00e1y qu\\u00e1 \\u0111\\u1eb9p..h\\u01a1n h\\u1eb3n mong \\u0111\\u1ee3i..ch\\u1ec9 l\\u00e0 gi\\u1edd ch\\u01b0a c\\u00f3 \\u1ed1p l\\u01b0ng hay c\\u01b0\\u1eddng l\\u1ef1c.. mong b\\u00ean si\\u00eau th\\u1ecb nh\\u1eadp v\\u1ec1 s\\u1edbm l\\u00e0 ok\",\n          \"M\\u1edbi nh\\u1eadn l\\u00fac s\\u00e1ng, s\\u1ea1c c\\u00f3 v\\u1ebb l\\u00e2u h\\u01a1n vs oppo f11pro s\\u1ea1c c\\u00f9ng l\\u00fac v\\u00e0 c\\u00f9ng l\\u01b0\\u1ee3ng pin...nh\\u01b0ng khi oppo f11 \\u0111c 50% th\\u00ec \\u0111t mik m\\u1edbi \\u0111c 33% th\\u00f4i\"\n        ],\n        \"semantic_type\": \"\",\n        \"description\": \"\"\n      }\n    },\n    {\n      \"column\": \"n_star\",\n      \"properties\": {\n        \"dtype\": \"number\",\n        \"std\": 1,\n        \"min\": 1,\n        \"max\": 5,\n        \"num_unique_values\": 5,\n        \"samples\": [\n          3,\n          4,\n          1\n        ],\n        \"semantic_type\": \"\",\n        \"description\": \"\"\n      }\n    },\n    {\n      \"column\": \"date_time\",\n      \"properties\": {\n        \"dtype\": \"category\",\n        \"num_unique_values\": 756,\n        \"samples\": [\n          \"15/11/2019\",\n          \"5/5/2020\",\n          \"24/10/2017\"\n        ],\n        \"semantic_type\": \"\",\n        \"description\": \"\"\n      }\n    },\n    {\n      \"column\": \"label\",\n      \"properties\": {\n        \"dtype\": \"category\",\n        \"num_unique_values\": 2745,\n        \"samples\": [\n          \"{PRICE#Neutral};{GENERAL#Positive};{SER&ACC#Positive};{OTHERS};\",\n          \"{CAMERA#Positive};{FEATURES#Negative};{BATTERY#Positive};{PERFORMANCE#Positive};{GENERAL#Positive};\",\n          \"{SCREEN#Positive};{BATTERY#Positive};{PERFORMANCE#Positive};\"\n        ],\n        \"semantic_type\": \"\",\n        \"description\": \"\"\n      }\n    }\n  ]\n}"
            }
          },
          "metadata": {},
          "execution_count": 4
        }
      ],
      "source": [
        "train_path = '/content/MyDrive/MyDrive/Colab Notebooks/Aspect_Based_Sentiment_Analysis/Dataset/Train.csv'\n",
        "test_path = '/content/MyDrive/MyDrive/Colab Notebooks/Aspect_Based_Sentiment_Analysis/Dataset/Test.csv'\n",
        "dev_path = '/content/MyDrive/MyDrive/Colab Notebooks/Aspect_Based_Sentiment_Analysis/Dataset/Dev.csv'\n",
        "\n",
        "train_data = pd.read_csv(train_path)\n",
        "train_data.head()"
      ]
    },
    {
      "cell_type": "code",
      "execution_count": 5,
      "metadata": {
        "id": "gd2uVJdpL3f4"
      },
      "outputs": [],
      "source": [
        "class_to_id = {\"SCREEN\": 0, \"CAMERA\": 1, \"FEATURES\": 2, \"BATTERY\": 3, \"PERFORMANCE\": 4, \"STORAGE\": 5, \"DESIGN\": 6, \"PRICE\": 7, \"GENERAL\": 8, \"SER&ACC\": 9}\n",
        "label_to_id = {\"Positive\": 0, \"Negative\": 1, \"Neutral\": 2, \"None\": 3}"
      ]
    },
    {
      "cell_type": "code",
      "execution_count": 6,
      "metadata": {
        "id": "qlbUOyAuL3f5"
      },
      "outputs": [],
      "source": [
        "def get_label_dict(sentences_label):\n",
        "    label_dict = {}\n",
        "    labels = sentences_label.split(';')[:-1]\n",
        "    if len(labels) == 1 and labels[-1][1:-1] == \"OTHERS\":\n",
        "        return None\n",
        "    else:\n",
        "        if labels[-1][1:-1] == \"OTHERS\":\n",
        "            for l in labels[:-1]:\n",
        "                class_name, sentiment = l[1:-1].split('#')\n",
        "                label_dict[class_name] = sentiment\n",
        "            return label_dict\n",
        "        else:\n",
        "            for l in labels:\n",
        "                class_name, sentiment = l[1:-1].split('#')\n",
        "                label_dict[class_name] = sentiment\n",
        "            return label_dict"
      ]
    },
    {
      "cell_type": "code",
      "execution_count": 7,
      "metadata": {
        "id": "4sk4QoWnL3f5",
        "colab": {
          "base_uri": "https://localhost:8080/"
        },
        "outputId": "16efd111-d388-47fd-d96f-dd1247e94aa1"
      },
      "outputs": [
        {
          "output_type": "stream",
          "name": "stdout",
          "text": [
            "Mới mua máy này Tại thegioididong thốt nốt cảm thấy ok bin trâu chụp ảnh đẹp loa nghe to bắt wf khỏe sóng ổn định, giá thành vừa với túi tiền, nhân viên tư vấn nhiệt tình\n",
            "[[0, 0, 0, 1], [1, 0, 0, 0], [1, 0, 0, 0], [1, 0, 0, 0], [0, 0, 0, 1], [0, 0, 0, 1], [0, 0, 0, 1], [1, 0, 0, 0], [1, 0, 0, 0], [1, 0, 0, 0]]\n"
          ]
        }
      ],
      "source": [
        "sentences = train_data['comment'].tolist()\n",
        "label_comment = train_data['label'].tolist()\n",
        "others_label = [[0, 0, 0, 1]] * 10\n",
        "\n",
        "train_set = []\n",
        "\n",
        "for sentence, sentence_label in zip(sentences, label_comment):\n",
        "    label_dict = get_label_dict(sentence_label)\n",
        "    labels_ = []\n",
        "    if label_dict:\n",
        "        for aspect in list(class_to_id.keys()):\n",
        "            train_label = [0] * 4\n",
        "            if aspect in label_dict.keys():\n",
        "                label_id = label_to_id[label_dict[aspect]]\n",
        "                train_label[label_id] =  1\n",
        "                labels_.append(train_label)\n",
        "            else:\n",
        "                labels_.append([0, 0, 0, 1])\n",
        "        train_set.append(\n",
        "            {'sentence': sentence, 'labels': labels_}\n",
        "        )\n",
        "    else:\n",
        "        train_set.append(\n",
        "            {'sentence': sentence, 'labels': others_label}\n",
        "        )\n",
        "print(train_set[0]['sentence'])\n",
        "print(train_set[0]['labels'])"
      ]
    },
    {
      "cell_type": "code",
      "execution_count": 8,
      "metadata": {
        "id": "Ep-MIw7-L3f5",
        "colab": {
          "base_uri": "https://localhost:8080/"
        },
        "outputId": "76d45794-180b-4419-8b44-7e1c22f56323"
      },
      "outputs": [
        {
          "output_type": "stream",
          "name": "stdout",
          "text": [
            "pass\n"
          ]
        }
      ],
      "source": [
        "for i, data in enumerate(train_set):\n",
        "    sentence, label = data.items()\n",
        "    input = np.array(label[-1])\n",
        "    clear_output()\n",
        "    if input.shape == (10, 4):\n",
        "        print(\"pass\")\n",
        "    else:\n",
        "        print(i)"
      ]
    },
    {
      "cell_type": "markdown",
      "metadata": {
        "id": "9F1iUAUoL3f6"
      },
      "source": [
        "# 02. Build data loader"
      ]
    },
    {
      "cell_type": "code",
      "execution_count": 9,
      "metadata": {
        "id": "Z6HwLgS4L3f6"
      },
      "outputs": [],
      "source": [
        "import torch\n",
        "from torch.utils.data import Dataset, DataLoader\n",
        "from transformers import BertTokenizer\n",
        "\n",
        "\n",
        "class AspectSentimentDataset(Dataset):\n",
        "    def __init__(self, data, tokenizer, max_len):\n",
        "        self.data = data\n",
        "        self.tokenizer = tokenizer\n",
        "        self.max_len = max_len\n",
        "\n",
        "    def __len__(self):\n",
        "        return len(self.data)\n",
        "\n",
        "    def __getitem__(self, index):\n",
        "        sentence = self.data[index]['sentence']\n",
        "        labels = self.data[index]['labels']\n",
        "\n",
        "        encoding = self.tokenizer.encode_plus(\n",
        "            sentence,\n",
        "            add_special_tokens=True,\n",
        "            max_length=self.max_len,\n",
        "            return_token_type_ids=False,\n",
        "            pad_to_max_length=True,\n",
        "            return_attention_mask=True,\n",
        "            return_tensors='pt',\n",
        "        )\n",
        "\n",
        "        return {\n",
        "            'sentence_text': sentence,\n",
        "            'input_ids': encoding['input_ids'].flatten(),\n",
        "            'attention_mask': encoding['attention_mask'].flatten(),\n",
        "            'labels': torch.tensor(labels, dtype=torch.float)\n",
        "        }"
      ]
    },
    {
      "cell_type": "code",
      "execution_count": 10,
      "metadata": {
        "id": "aeh-XB_EL3f6",
        "colab": {
          "base_uri": "https://localhost:8080/",
          "height": 145,
          "referenced_widgets": [
            "557ed213436640968cae3f1101196bf9",
            "3434d03e19bf4f6688c7d234870dc3ee",
            "fbeaa8d52d5a4198856db33d333d5b95",
            "303b364b2b644e5ebf35da1756471f71",
            "c7b8a8bc24f9419ba2da1a2c6b3768da",
            "17e57990a19f41b1b43ed687686fc3fb",
            "691ac7bb4bc44170a8ae378c92336410",
            "af4b916b5ff64eecabd7dde9d8beb551",
            "fcf9fdcfc1c54d30af8bef3d2950dcce",
            "58d0982af373479c87dc376f59a4d260",
            "c9e50628feb641d6bb95999a42ad3213",
            "b414ca36fc334463af49852448377f17",
            "f725f7ac20164f6386fef8fbc94937cd",
            "2719296e7bca40ba87d911a927134586",
            "e7b8b833c46c4623a3fb4d6324e77b58",
            "d68883662dd24102a497227705d1f5b7",
            "e79c6d3d95e9470eafe7db06227bea79",
            "8413e918b150451daa6b8bd51114bc28",
            "37809a1097bf438ca7959b926cfdf80f",
            "062d6499e0b442619a94decff7ba8ddd",
            "9c05daf26e2f469fba4bd9f715875adb",
            "067468c186824de78bab74c81c3047ad",
            "9deb16e396364779a2fa67667af27f19",
            "2e51b3bd8e904681896883e936644024",
            "d2859e6f03f14bfeb91851f61efa740b",
            "2e2b63a3241549dd98560dec5398e0d6",
            "c4202a0e7a7146049f6472836117e2fe",
            "fa3c5dcaac0740d29e69f754fefade84",
            "3655ab348d4b4becb6603143a775a640",
            "6b716fd86f94415488709f0e05f1c6e7",
            "df193e67950b4068bd5db8ac9cf398c8",
            "cc05539577014bd283f5900f74a997a9",
            "e7c2030ee72d4399b23c023afccf25a5",
            "273e4a514c934765b250b74b01121a06",
            "1aad9f54ed714cd79b542e2f353a7314",
            "ec05a34b83064e4aa49f5dd985662225",
            "8bd91be3907d4771aa833044f6d7c542",
            "94ef41721b574b3aa0e470d50d6da17f",
            "49b2a6efb6674f31978cb9029e6e8a8f",
            "5d6de586baa0483a80fe01df3dafee06",
            "404b94477a9a4dd0bdc5a63bd067718c",
            "3f34437ae326448289f491c96f57e779",
            "533773d729604fae9cce00c77306102c",
            "b6e38db655674566b92379206025dcee"
          ]
        },
        "outputId": "a8129f42-c014-420d-efa4-b9a3b957bd13"
      },
      "outputs": [
        {
          "output_type": "display_data",
          "data": {
            "text/plain": [
              "tokenizer_config.json:   0%|          | 0.00/49.0 [00:00<?, ?B/s]"
            ],
            "application/vnd.jupyter.widget-view+json": {
              "version_major": 2,
              "version_minor": 0,
              "model_id": "557ed213436640968cae3f1101196bf9"
            }
          },
          "metadata": {}
        },
        {
          "output_type": "display_data",
          "data": {
            "text/plain": [
              "vocab.txt:   0%|          | 0.00/996k [00:00<?, ?B/s]"
            ],
            "application/vnd.jupyter.widget-view+json": {
              "version_major": 2,
              "version_minor": 0,
              "model_id": "b414ca36fc334463af49852448377f17"
            }
          },
          "metadata": {}
        },
        {
          "output_type": "display_data",
          "data": {
            "text/plain": [
              "tokenizer.json:   0%|          | 0.00/1.96M [00:00<?, ?B/s]"
            ],
            "application/vnd.jupyter.widget-view+json": {
              "version_major": 2,
              "version_minor": 0,
              "model_id": "9deb16e396364779a2fa67667af27f19"
            }
          },
          "metadata": {}
        },
        {
          "output_type": "display_data",
          "data": {
            "text/plain": [
              "config.json:   0%|          | 0.00/625 [00:00<?, ?B/s]"
            ],
            "application/vnd.jupyter.widget-view+json": {
              "version_major": 2,
              "version_minor": 0,
              "model_id": "273e4a514c934765b250b74b01121a06"
            }
          },
          "metadata": {}
        }
      ],
      "source": [
        "tokenizer = BertTokenizer.from_pretrained('google-bert/bert-base-multilingual-cased')\n",
        "dataset = AspectSentimentDataset(train_set, tokenizer, max_len=128)\n",
        "dataloader = DataLoader(dataset, batch_size=16, shuffle=True)"
      ]
    },
    {
      "cell_type": "code",
      "execution_count": 11,
      "metadata": {
        "id": "rogjJPACL3f7",
        "colab": {
          "base_uri": "https://localhost:8080/"
        },
        "outputId": "b3ed4870-3f89-498a-ac7f-34e42361ae30"
      },
      "outputs": [
        {
          "output_type": "execute_result",
          "data": {
            "text/plain": [
              "7786"
            ]
          },
          "metadata": {},
          "execution_count": 11
        }
      ],
      "source": [
        "dataset.__len__()"
      ]
    },
    {
      "cell_type": "markdown",
      "metadata": {
        "id": "qyZUZuvzL3f7"
      },
      "source": [
        "# 03. Build GRU model"
      ]
    },
    {
      "cell_type": "code",
      "execution_count": 12,
      "metadata": {
        "id": "Hq31qhapL3f7",
        "colab": {
          "base_uri": "https://localhost:8080/",
          "height": 49,
          "referenced_widgets": [
            "e9f0360efd3149dab1cffdeaee573702",
            "532cbb72e03b4236a64041732a49d456",
            "320f013789c043af885c602305d2b39c",
            "e3d7fb94ffd34c5e9bafba0bd7df4ff5",
            "9f02bfe0c15048b8901f6d3683baf0e0",
            "b0d615b9436f46a094bae14cf2d7ca9f",
            "ac6aeb852cc042b39cf526032b095c17",
            "0539679017f64f24ac998699436e0ff1",
            "213153bd78574996a32790fb2398e76b",
            "082c13d92bcb43dc83401738a7e7a3c9",
            "415fcc8aa7b64483a5d4f475e5ac3a2f"
          ]
        },
        "outputId": "e0d71eab-c9de-491d-fab7-66e616a26e09"
      },
      "outputs": [
        {
          "output_type": "display_data",
          "data": {
            "text/plain": [
              "model.safetensors:   0%|          | 0.00/714M [00:00<?, ?B/s]"
            ],
            "application/vnd.jupyter.widget-view+json": {
              "version_major": 2,
              "version_minor": 0,
              "model_id": "e9f0360efd3149dab1cffdeaee573702"
            }
          },
          "metadata": {}
        }
      ],
      "source": [
        "import torch.nn as nn\n",
        "from transformers import BertModel\n",
        "\n",
        "\n",
        "class AspectSentimentModel(nn.Module):\n",
        "    def __init__(self, n_classes, n_labels_per_class):\n",
        "        super(AspectSentimentModel, self).__init__()\n",
        "        self.bert = BertModel.from_pretrained('google-bert/bert-base-multilingual-cased')\n",
        "        self.gru = nn.GRU(768, 256, batch_first=True, bidirectional=True)\n",
        "        self.classifier = nn.Linear(256*2, n_classes * n_labels_per_class)\n",
        "\n",
        "    def forward(self, input_ids, attention_mask):\n",
        "        bert_outputs = self.bert(\n",
        "            input_ids=input_ids,\n",
        "            attention_mask=attention_mask\n",
        "        )\n",
        "        gru_outputs, _ = self.gru(bert_outputs.last_hidden_state)\n",
        "        gru_outputs = gru_outputs[:, -1, :]\n",
        "        output = self.classifier(gru_outputs)\n",
        "        return output.view(-1, 10, 4)\n",
        "\n",
        "model = AspectSentimentModel(n_classes=10, n_labels_per_class=4)"
      ]
    },
    {
      "cell_type": "code",
      "execution_count": 14,
      "metadata": {
        "id": "D6Y4cTKhL3f7",
        "colab": {
          "base_uri": "https://localhost:8080/"
        },
        "outputId": "c2d0b10d-2bd3-466d-d5a9-8e06f4febd76"
      },
      "outputs": [
        {
          "output_type": "stream",
          "name": "stdout",
          "text": [
            "Epoch 1/40, Train loss: 0.23072011462839231\n",
            "Epoch 2/40, Train loss: 0.18701695450399936\n",
            "Epoch 3/40, Train loss: 0.15728996366690806\n",
            "Epoch 4/40, Train loss: 0.13490936134079398\n",
            "Epoch 5/40, Train loss: 0.11640188646420561\n",
            "Epoch 6/40, Train loss: 0.10072557250271098\n",
            "Epoch 7/40, Train loss: 0.08754791470064764\n",
            "Epoch 8/40, Train loss: 0.07631127020722787\n",
            "Epoch 9/40, Train loss: 0.06634403382345759\n",
            "Epoch 10/40, Train loss: 0.05877155634656824\n",
            "Epoch 11/40, Train loss: 0.05144381649730999\n",
            "Epoch 12/40, Train loss: 0.04509158282171652\n",
            "Epoch 13/40, Train loss: 0.041310350527294606\n",
            "Epoch 14/40, Train loss: 0.03630267967540748\n",
            "Epoch 15/40, Train loss: 0.031870108694450075\n",
            "Epoch 16/40, Train loss: 0.02851494640356706\n",
            "Epoch 17/40, Train loss: 0.025057866203635013\n",
            "Epoch 18/40, Train loss: 0.02266153636593104\n",
            "Epoch 19/40, Train loss: 0.020191683438730863\n",
            "Epoch 20/40, Train loss: 0.019690822266822477\n",
            "Epoch 21/40, Train loss: 0.017744007830181038\n",
            "Epoch 22/40, Train loss: 0.018211091171521733\n",
            "Epoch 23/40, Train loss: 0.015696002005980002\n",
            "Epoch 24/40, Train loss: 0.013910082950078916\n",
            "Epoch 25/40, Train loss: 0.012084153729435478\n",
            "Epoch 26/40, Train loss: 0.011375633521613644\n",
            "Epoch 27/40, Train loss: 0.012339632015376977\n",
            "Epoch 28/40, Train loss: 0.011055652909382443\n",
            "Epoch 29/40, Train loss: 0.01016641503393084\n",
            "Epoch 30/40, Train loss: 0.009478322527652464\n",
            "Epoch 31/40, Train loss: 0.009201790407649959\n",
            "Epoch 32/40, Train loss: 0.009797658260196478\n",
            "Epoch 33/40, Train loss: 0.008422612707184158\n",
            "Epoch 34/40, Train loss: 0.008916936133504373\n",
            "Epoch 35/40, Train loss: 0.007922052246091976\n",
            "Epoch 36/40, Train loss: 0.007596687635347568\n",
            "Epoch 37/40, Train loss: 0.007458596049283978\n",
            "Epoch 38/40, Train loss: 0.007768735964400063\n",
            "Epoch 39/40, Train loss: 0.005990219619211185\n",
            "Epoch 40/40, Train loss: 0.00789286472126593\n"
          ]
        }
      ],
      "source": [
        "import torch.optim as optim\n",
        "\n",
        "\n",
        "def train_epoch(model, data_loader, loss_fn, optimizer, device):\n",
        "    model = model.train()\n",
        "    losses = []\n",
        "    correct_predictions = 0\n",
        "\n",
        "    for data in data_loader:\n",
        "        input_ids = data['input_ids'].to(device)\n",
        "        attention_mask = data['attention_mask'].to(device)\n",
        "        labels = data['labels'].to(device)\n",
        "\n",
        "        outputs = model(input_ids=input_ids, attention_mask=attention_mask)\n",
        "\n",
        "        loss = loss_fn(outputs, labels)\n",
        "        losses.append(loss.item())\n",
        "\n",
        "        optimizer.zero_grad()\n",
        "        loss.backward()\n",
        "        optimizer.step()\n",
        "\n",
        "    return np.mean(losses)\n",
        "\n",
        "\n",
        "EPOCHS = 40\n",
        "device = torch.device('cuda' if torch.cuda.is_available() else 'cpu')\n",
        "model = model.to(device)\n",
        "training = True\n",
        "\n",
        "\n",
        "optimizer = optim.Adam(model.parameters(), lr=2e-5)\n",
        "loss_fn = nn.BCEWithLogitsLoss()\n",
        "\n",
        "if training == True:\n",
        "    for epoch in range(EPOCHS):\n",
        "        train_loss = train_epoch(model, dataloader, loss_fn, optimizer, device)\n",
        "        print(f'Epoch {epoch + 1}/{EPOCHS}, Train loss: {train_loss}')\n",
        "        if epoch % 5 == 0:\n",
        "            torch.save(model.state_dict(), f'/content/MyDrive/MyDrive/Colab Notebooks/Aspect_Based_Sentiment_Analysis/Models/ABSA_using_GRU_model{epoch}.pth')\n",
        "\n",
        "torch.save(model.state_dict(), f'/content/MyDrive/MyDrive/Colab Notebooks/Aspect_Based_Sentiment_Analysis/Models/ABSA_using_GRU_model{40}.pth')"
      ]
    },
    {
      "cell_type": "code",
      "execution_count": 16,
      "metadata": {
        "id": "pfqr6YpCL3f8"
      },
      "outputs": [],
      "source": [
        "# path_save_model = 'E:/IAD/Intern/11_aspectsAnalysis/models'\n",
        "# torch.save(model.state_dict(), path_save_model+'/ABSA_using_GRU_model.pth')\n",
        "# torch.save(model.state_dict(), f'/content/MyDrive/MyDrive/Colab Notebooks/Aspect_Based_Sentiment_Analysis/models/ABSA_using_GRU_model{40}.pth')"
      ]
    },
    {
      "cell_type": "code",
      "execution_count": 17,
      "metadata": {
        "id": "-4p3-KcIL3f8"
      },
      "outputs": [],
      "source": [
        "# model = AspectSentimentModel(n_classes=10, n_labels_per_class=4)\n",
        "# model.load_state_dict(torch.load(path_save_model+'/ABSA_using_GRU_model.pth'))\n",
        "# model.eval()"
      ]
    },
    {
      "cell_type": "markdown",
      "metadata": {
        "id": "VuZ226lUL3f8"
      },
      "source": [
        "# 04. Predict"
      ]
    },
    {
      "cell_type": "code",
      "execution_count": 18,
      "metadata": {
        "id": "qkZu8N1ZL3f8"
      },
      "outputs": [],
      "source": [
        "def predict_sentiment(model, sentence, tokenizer, max_len, device):\n",
        "    model = model.eval()\n",
        "\n",
        "    encoding = tokenizer.encode_plus(\n",
        "        sentence,\n",
        "        add_special_tokens=True,\n",
        "        max_length=max_len,\n",
        "        return_token_type_ids=False,\n",
        "        pad_to_max_length=True,\n",
        "        return_attention_mask=True,\n",
        "        return_tensors='pt'\n",
        "    )\n",
        "\n",
        "    input_ids = encoding['input_ids'].to(device)\n",
        "    attention_mask = encoding['attention_mask'].to(device)\n",
        "\n",
        "    with torch.no_grad():\n",
        "        outputs = model(input_ids=input_ids, attention_mask=attention_mask)\n",
        "\n",
        "    return outputs\n",
        "\n",
        "\n",
        "def interpret_predictions(predictions):\n",
        "    aspect_classes = ['SCREEN', 'CAMERA', 'FEATURES', 'BATTERY', 'PERFORMANCE', 'STORAGE', 'DESIGN', 'PRICE', 'GENERAL', 'SER&ACC']\n",
        "    sentiment_labels = ['Positive', 'Negative', 'Neutral', 'None']\n",
        "\n",
        "    results = {}\n",
        "\n",
        "    for i, aspect in enumerate(aspect_classes):\n",
        "        aspect_sentiments = predictions[0, i].cpu().numpy()\n",
        "        sentiment_index = aspect_sentiments.argmax()\n",
        "        results[aspect] = sentiment_labels[sentiment_index]\n",
        "\n",
        "    return results"
      ]
    },
    {
      "cell_type": "markdown",
      "metadata": {
        "id": "VVyTo8TsL3f8"
      },
      "source": [
        "# 05. Thực hiện predict trên toàn bộ dữ liệu kiểm thử (testset)"
      ]
    },
    {
      "cell_type": "code",
      "execution_count": 19,
      "metadata": {
        "id": "9hzRIFT6L3f8",
        "colab": {
          "base_uri": "https://localhost:8080/",
          "height": 206
        },
        "outputId": "2c84d539-b1a4-482e-bac1-518926bfd6f5"
      },
      "outputs": [
        {
          "output_type": "execute_result",
          "data": {
            "text/plain": [
              "   index                                            comment  n_star  \\\n",
              "0      0  Điện thoải ổn. Facelock cực nhanh, vân tay ôk ...       5   \n",
              "1      1  Mình mới  mua vivo91c. Tải ứng dụng ,games  nh...       5   \n",
              "2      2  Xấu đẹp gì ko biết nhưng rất ưng TGdđ phục vụ ...       5   \n",
              "3      3  Màn hình hơi lác khi chơi game. Game nặng thì ...       4   \n",
              "4      4  Nói chung máy đẹp với màn amoled, ổn trong tầm...       4   \n",
              "\n",
              "    date_time                                              label  \n",
              "0    5/2/2020  {SCREEN#Positive};{FEATURES#Positive};{PERFORM...  \n",
              "1  14/05/2019  {FEATURES#Negative};{PERFORMANCE#Positive};{SE...  \n",
              "2  26/03/2020               {DESIGN#Neutral};{SER&ACC#Positive};  \n",
              "3    4/6/2019  {PERFORMANCE#Negative};{DESIGN#Negative};{OTHE...  \n",
              "4   12/5/2020  {SCREEN#Positive};{BATTERY#Negative};{DESIGN#P...  "
            ],
            "text/html": [
              "\n",
              "  <div id=\"df-338a66e4-0acc-4295-ba9a-a920883a0845\" class=\"colab-df-container\">\n",
              "    <div>\n",
              "<style scoped>\n",
              "    .dataframe tbody tr th:only-of-type {\n",
              "        vertical-align: middle;\n",
              "    }\n",
              "\n",
              "    .dataframe tbody tr th {\n",
              "        vertical-align: top;\n",
              "    }\n",
              "\n",
              "    .dataframe thead th {\n",
              "        text-align: right;\n",
              "    }\n",
              "</style>\n",
              "<table border=\"1\" class=\"dataframe\">\n",
              "  <thead>\n",
              "    <tr style=\"text-align: right;\">\n",
              "      <th></th>\n",
              "      <th>index</th>\n",
              "      <th>comment</th>\n",
              "      <th>n_star</th>\n",
              "      <th>date_time</th>\n",
              "      <th>label</th>\n",
              "    </tr>\n",
              "  </thead>\n",
              "  <tbody>\n",
              "    <tr>\n",
              "      <th>0</th>\n",
              "      <td>0</td>\n",
              "      <td>Điện thoải ổn. Facelock cực nhanh, vân tay ôk ...</td>\n",
              "      <td>5</td>\n",
              "      <td>5/2/2020</td>\n",
              "      <td>{SCREEN#Positive};{FEATURES#Positive};{PERFORM...</td>\n",
              "    </tr>\n",
              "    <tr>\n",
              "      <th>1</th>\n",
              "      <td>1</td>\n",
              "      <td>Mình mới  mua vivo91c. Tải ứng dụng ,games  nh...</td>\n",
              "      <td>5</td>\n",
              "      <td>14/05/2019</td>\n",
              "      <td>{FEATURES#Negative};{PERFORMANCE#Positive};{SE...</td>\n",
              "    </tr>\n",
              "    <tr>\n",
              "      <th>2</th>\n",
              "      <td>2</td>\n",
              "      <td>Xấu đẹp gì ko biết nhưng rất ưng TGdđ phục vụ ...</td>\n",
              "      <td>5</td>\n",
              "      <td>26/03/2020</td>\n",
              "      <td>{DESIGN#Neutral};{SER&amp;ACC#Positive};</td>\n",
              "    </tr>\n",
              "    <tr>\n",
              "      <th>3</th>\n",
              "      <td>3</td>\n",
              "      <td>Màn hình hơi lác khi chơi game. Game nặng thì ...</td>\n",
              "      <td>4</td>\n",
              "      <td>4/6/2019</td>\n",
              "      <td>{PERFORMANCE#Negative};{DESIGN#Negative};{OTHE...</td>\n",
              "    </tr>\n",
              "    <tr>\n",
              "      <th>4</th>\n",
              "      <td>4</td>\n",
              "      <td>Nói chung máy đẹp với màn amoled, ổn trong tầm...</td>\n",
              "      <td>4</td>\n",
              "      <td>12/5/2020</td>\n",
              "      <td>{SCREEN#Positive};{BATTERY#Negative};{DESIGN#P...</td>\n",
              "    </tr>\n",
              "  </tbody>\n",
              "</table>\n",
              "</div>\n",
              "    <div class=\"colab-df-buttons\">\n",
              "\n",
              "  <div class=\"colab-df-container\">\n",
              "    <button class=\"colab-df-convert\" onclick=\"convertToInteractive('df-338a66e4-0acc-4295-ba9a-a920883a0845')\"\n",
              "            title=\"Convert this dataframe to an interactive table.\"\n",
              "            style=\"display:none;\">\n",
              "\n",
              "  <svg xmlns=\"http://www.w3.org/2000/svg\" height=\"24px\" viewBox=\"0 -960 960 960\">\n",
              "    <path d=\"M120-120v-720h720v720H120Zm60-500h600v-160H180v160Zm220 220h160v-160H400v160Zm0 220h160v-160H400v160ZM180-400h160v-160H180v160Zm440 0h160v-160H620v160ZM180-180h160v-160H180v160Zm440 0h160v-160H620v160Z\"/>\n",
              "  </svg>\n",
              "    </button>\n",
              "\n",
              "  <style>\n",
              "    .colab-df-container {\n",
              "      display:flex;\n",
              "      gap: 12px;\n",
              "    }\n",
              "\n",
              "    .colab-df-convert {\n",
              "      background-color: #E8F0FE;\n",
              "      border: none;\n",
              "      border-radius: 50%;\n",
              "      cursor: pointer;\n",
              "      display: none;\n",
              "      fill: #1967D2;\n",
              "      height: 32px;\n",
              "      padding: 0 0 0 0;\n",
              "      width: 32px;\n",
              "    }\n",
              "\n",
              "    .colab-df-convert:hover {\n",
              "      background-color: #E2EBFA;\n",
              "      box-shadow: 0px 1px 2px rgba(60, 64, 67, 0.3), 0px 1px 3px 1px rgba(60, 64, 67, 0.15);\n",
              "      fill: #174EA6;\n",
              "    }\n",
              "\n",
              "    .colab-df-buttons div {\n",
              "      margin-bottom: 4px;\n",
              "    }\n",
              "\n",
              "    [theme=dark] .colab-df-convert {\n",
              "      background-color: #3B4455;\n",
              "      fill: #D2E3FC;\n",
              "    }\n",
              "\n",
              "    [theme=dark] .colab-df-convert:hover {\n",
              "      background-color: #434B5C;\n",
              "      box-shadow: 0px 1px 3px 1px rgba(0, 0, 0, 0.15);\n",
              "      filter: drop-shadow(0px 1px 2px rgba(0, 0, 0, 0.3));\n",
              "      fill: #FFFFFF;\n",
              "    }\n",
              "  </style>\n",
              "\n",
              "    <script>\n",
              "      const buttonEl =\n",
              "        document.querySelector('#df-338a66e4-0acc-4295-ba9a-a920883a0845 button.colab-df-convert');\n",
              "      buttonEl.style.display =\n",
              "        google.colab.kernel.accessAllowed ? 'block' : 'none';\n",
              "\n",
              "      async function convertToInteractive(key) {\n",
              "        const element = document.querySelector('#df-338a66e4-0acc-4295-ba9a-a920883a0845');\n",
              "        const dataTable =\n",
              "          await google.colab.kernel.invokeFunction('convertToInteractive',\n",
              "                                                    [key], {});\n",
              "        if (!dataTable) return;\n",
              "\n",
              "        const docLinkHtml = 'Like what you see? Visit the ' +\n",
              "          '<a target=\"_blank\" href=https://colab.research.google.com/notebooks/data_table.ipynb>data table notebook</a>'\n",
              "          + ' to learn more about interactive tables.';\n",
              "        element.innerHTML = '';\n",
              "        dataTable['output_type'] = 'display_data';\n",
              "        await google.colab.output.renderOutput(dataTable, element);\n",
              "        const docLink = document.createElement('div');\n",
              "        docLink.innerHTML = docLinkHtml;\n",
              "        element.appendChild(docLink);\n",
              "      }\n",
              "    </script>\n",
              "  </div>\n",
              "\n",
              "\n",
              "<div id=\"df-5fe9f6e9-cd2f-45a0-9ef4-baa42ac2daf6\">\n",
              "  <button class=\"colab-df-quickchart\" onclick=\"quickchart('df-5fe9f6e9-cd2f-45a0-9ef4-baa42ac2daf6')\"\n",
              "            title=\"Suggest charts\"\n",
              "            style=\"display:none;\">\n",
              "\n",
              "<svg xmlns=\"http://www.w3.org/2000/svg\" height=\"24px\"viewBox=\"0 0 24 24\"\n",
              "     width=\"24px\">\n",
              "    <g>\n",
              "        <path d=\"M19 3H5c-1.1 0-2 .9-2 2v14c0 1.1.9 2 2 2h14c1.1 0 2-.9 2-2V5c0-1.1-.9-2-2-2zM9 17H7v-7h2v7zm4 0h-2V7h2v10zm4 0h-2v-4h2v4z\"/>\n",
              "    </g>\n",
              "</svg>\n",
              "  </button>\n",
              "\n",
              "<style>\n",
              "  .colab-df-quickchart {\n",
              "      --bg-color: #E8F0FE;\n",
              "      --fill-color: #1967D2;\n",
              "      --hover-bg-color: #E2EBFA;\n",
              "      --hover-fill-color: #174EA6;\n",
              "      --disabled-fill-color: #AAA;\n",
              "      --disabled-bg-color: #DDD;\n",
              "  }\n",
              "\n",
              "  [theme=dark] .colab-df-quickchart {\n",
              "      --bg-color: #3B4455;\n",
              "      --fill-color: #D2E3FC;\n",
              "      --hover-bg-color: #434B5C;\n",
              "      --hover-fill-color: #FFFFFF;\n",
              "      --disabled-bg-color: #3B4455;\n",
              "      --disabled-fill-color: #666;\n",
              "  }\n",
              "\n",
              "  .colab-df-quickchart {\n",
              "    background-color: var(--bg-color);\n",
              "    border: none;\n",
              "    border-radius: 50%;\n",
              "    cursor: pointer;\n",
              "    display: none;\n",
              "    fill: var(--fill-color);\n",
              "    height: 32px;\n",
              "    padding: 0;\n",
              "    width: 32px;\n",
              "  }\n",
              "\n",
              "  .colab-df-quickchart:hover {\n",
              "    background-color: var(--hover-bg-color);\n",
              "    box-shadow: 0 1px 2px rgba(60, 64, 67, 0.3), 0 1px 3px 1px rgba(60, 64, 67, 0.15);\n",
              "    fill: var(--button-hover-fill-color);\n",
              "  }\n",
              "\n",
              "  .colab-df-quickchart-complete:disabled,\n",
              "  .colab-df-quickchart-complete:disabled:hover {\n",
              "    background-color: var(--disabled-bg-color);\n",
              "    fill: var(--disabled-fill-color);\n",
              "    box-shadow: none;\n",
              "  }\n",
              "\n",
              "  .colab-df-spinner {\n",
              "    border: 2px solid var(--fill-color);\n",
              "    border-color: transparent;\n",
              "    border-bottom-color: var(--fill-color);\n",
              "    animation:\n",
              "      spin 1s steps(1) infinite;\n",
              "  }\n",
              "\n",
              "  @keyframes spin {\n",
              "    0% {\n",
              "      border-color: transparent;\n",
              "      border-bottom-color: var(--fill-color);\n",
              "      border-left-color: var(--fill-color);\n",
              "    }\n",
              "    20% {\n",
              "      border-color: transparent;\n",
              "      border-left-color: var(--fill-color);\n",
              "      border-top-color: var(--fill-color);\n",
              "    }\n",
              "    30% {\n",
              "      border-color: transparent;\n",
              "      border-left-color: var(--fill-color);\n",
              "      border-top-color: var(--fill-color);\n",
              "      border-right-color: var(--fill-color);\n",
              "    }\n",
              "    40% {\n",
              "      border-color: transparent;\n",
              "      border-right-color: var(--fill-color);\n",
              "      border-top-color: var(--fill-color);\n",
              "    }\n",
              "    60% {\n",
              "      border-color: transparent;\n",
              "      border-right-color: var(--fill-color);\n",
              "    }\n",
              "    80% {\n",
              "      border-color: transparent;\n",
              "      border-right-color: var(--fill-color);\n",
              "      border-bottom-color: var(--fill-color);\n",
              "    }\n",
              "    90% {\n",
              "      border-color: transparent;\n",
              "      border-bottom-color: var(--fill-color);\n",
              "    }\n",
              "  }\n",
              "</style>\n",
              "\n",
              "  <script>\n",
              "    async function quickchart(key) {\n",
              "      const quickchartButtonEl =\n",
              "        document.querySelector('#' + key + ' button');\n",
              "      quickchartButtonEl.disabled = true;  // To prevent multiple clicks.\n",
              "      quickchartButtonEl.classList.add('colab-df-spinner');\n",
              "      try {\n",
              "        const charts = await google.colab.kernel.invokeFunction(\n",
              "            'suggestCharts', [key], {});\n",
              "      } catch (error) {\n",
              "        console.error('Error during call to suggestCharts:', error);\n",
              "      }\n",
              "      quickchartButtonEl.classList.remove('colab-df-spinner');\n",
              "      quickchartButtonEl.classList.add('colab-df-quickchart-complete');\n",
              "    }\n",
              "    (() => {\n",
              "      let quickchartButtonEl =\n",
              "        document.querySelector('#df-5fe9f6e9-cd2f-45a0-9ef4-baa42ac2daf6 button');\n",
              "      quickchartButtonEl.style.display =\n",
              "        google.colab.kernel.accessAllowed ? 'block' : 'none';\n",
              "    })();\n",
              "  </script>\n",
              "</div>\n",
              "\n",
              "    </div>\n",
              "  </div>\n"
            ],
            "application/vnd.google.colaboratory.intrinsic+json": {
              "type": "dataframe",
              "variable_name": "test_data",
              "summary": "{\n  \"name\": \"test_data\",\n  \"rows\": 2224,\n  \"fields\": [\n    {\n      \"column\": \"index\",\n      \"properties\": {\n        \"dtype\": \"number\",\n        \"std\": 642,\n        \"min\": 0,\n        \"max\": 2223,\n        \"num_unique_values\": 2224,\n        \"samples\": [\n          96,\n          1401,\n          1995\n        ],\n        \"semantic_type\": \"\",\n        \"description\": \"\"\n      }\n    },\n    {\n      \"column\": \"comment\",\n      \"properties\": {\n        \"dtype\": \"string\",\n        \"num_unique_values\": 2224,\n        \"samples\": [\n          \"S\\u1ea3n ph\\u1ea9m t\\u1ed1t, nh\\u01b0ng pin kh\\u00f4ng tr\\u00e2u nh\\u01b0 m\\u00ecnh ngh\\u0129...x\\u00e0i c\\u1ea3 ng\\u00e0y 2,3 ti\\u1ebfng ch\\u1ec9 l\\u01b0\\u1edbt fb m\\u00e0 pin tu\\u1ed9t qu\\u00e1 mau\",\n          \"H\\u00e0ng ch\\u1ea5t l\\u01b0\\u1ee3ng sai r\\u1ea5t ok cho th\\u1ebf gi\\u1edbi \\u0111i \\u0111\\u00f4ng 5 sao .M\\u00ecnh mua h\\u01a1n 4 th\\u00e1ng m\\u00e0 th\\u1ea5y r\\u1ea5t tuy\\u1ec7t v\\u1eddi thanks nh\\u00e0 b\\u1ea1n h\\u00e0ng s\\u1ed1 1 Vi\\u00eat N\\u0103m.\",\n          \"E m\\u1edbi m\\u01b0a \\u0111c 2 th\\u00e1ng. M\\u00e0 e m\\u1edbi c\\u1eadp nh\\u1eadt phi\\u00ean b\\u1ea3n miui m\\u1edbi nh\\u1ea5t  , e s\\u1eed d\\u1ee5ng th\\u1ea5y n\\u00f3 t\\u1ee5t pin nhanh qu\\u00e1. M\\u00fan xu\\u1ed1ng l\\u1ea1i b\\u1ea3n c\\u1eadp nh\\u1eadt c\\u0169 th\\u00ec l\\u00e0m sao \\u1ea1\"\n        ],\n        \"semantic_type\": \"\",\n        \"description\": \"\"\n      }\n    },\n    {\n      \"column\": \"n_star\",\n      \"properties\": {\n        \"dtype\": \"number\",\n        \"std\": 1,\n        \"min\": 1,\n        \"max\": 5,\n        \"num_unique_values\": 5,\n        \"samples\": [\n          4,\n          3,\n          2\n        ],\n        \"semantic_type\": \"\",\n        \"description\": \"\"\n      }\n    },\n    {\n      \"column\": \"date_time\",\n      \"properties\": {\n        \"dtype\": \"category\",\n        \"num_unique_values\": 554,\n        \"samples\": [\n          \"7/1/2020\",\n          \"24/04/2020\",\n          \"5/5/2019\"\n        ],\n        \"semantic_type\": \"\",\n        \"description\": \"\"\n      }\n    },\n    {\n      \"column\": \"label\",\n      \"properties\": {\n        \"dtype\": \"category\",\n        \"num_unique_values\": 1109,\n        \"samples\": [\n          \"{FEATURES#Negative};{BATTERY#Positive};{PERFORMANCE#Neutral};{GENERAL#Negative};{SER&ACC#Neutral};{OTHERS};\",\n          \"{CAMERA#Neutral};{FEATURES#Positive};{BATTERY#Positive};{PERFORMANCE#Positive};{GENERAL#Positive};\",\n          \"{PERFORMANCE#Positive};{PRICE#Positive};{GENERAL#Positive};\"\n        ],\n        \"semantic_type\": \"\",\n        \"description\": \"\"\n      }\n    }\n  ]\n}"
            }
          },
          "metadata": {},
          "execution_count": 19
        }
      ],
      "source": [
        "test_data = pd.read_csv(test_path)\n",
        "test_data.head()"
      ]
    },
    {
      "cell_type": "code",
      "execution_count": 20,
      "metadata": {
        "id": "o603qY2fL3f9",
        "colab": {
          "base_uri": "https://localhost:8080/"
        },
        "outputId": "9a646259-4df5-4f79-acb7-d84ba50a9b74"
      },
      "outputs": [
        {
          "output_type": "stream",
          "name": "stdout",
          "text": [
            "Mọi thứ ok.mình thấy pin trâu chứ có sao đâu.mua đc 2 tuần rồi chỉ có cảm biến vân tay ko nhạy như mong đợi thôi.\n",
            "{FEATURES#Negative};{BATTERY#Positive};{GENERAL#Positive};\n",
            "Aspect Sentiment Prediction:\n",
            "SCREEN: None\n",
            "CAMERA: None\n",
            "FEATURES: Negative\n",
            "BATTERY: Positive\n",
            "PERFORMANCE: None\n",
            "STORAGE: None\n",
            "DESIGN: None\n",
            "PRICE: None\n",
            "GENERAL: Positive\n",
            "SER&ACC: None\n"
          ]
        }
      ],
      "source": [
        "max_len = 256\n",
        "idx = 20\n",
        "sentence_test = test_data.loc[idx, 'comment']\n",
        "true_label = test_data.loc[idx, 'label']\n",
        "print(sentence_test)\n",
        "print(true_label)\n",
        "\n",
        "predictions = predict_sentiment(model, sentence_test, tokenizer, max_len, device)\n",
        "results = interpret_predictions(predictions)\n",
        "\n",
        "print('Aspect Sentiment Prediction:')\n",
        "for aspect, sentiment in results.items():\n",
        "    print(f'{aspect}: {sentiment}')"
      ]
    },
    {
      "cell_type": "code",
      "execution_count": 21,
      "metadata": {
        "id": "0DLiXQxSL3f9",
        "colab": {
          "base_uri": "https://localhost:8080/"
        },
        "outputId": "a22867e3-1cb2-4c42-f398-c22fc306a405"
      },
      "outputs": [
        {
          "output_type": "stream",
          "name": "stdout",
          "text": [
            "All done!\n"
          ]
        }
      ],
      "source": [
        "predictions_on_test = []\n",
        "\n",
        "for i in range(len(test_data)):\n",
        "    print(i)\n",
        "    sentence_on_test = test_data['comment'][i]\n",
        "    prediction_on_test = predict_sentiment(model, sentence_on_test, tokenizer, max_len, device)\n",
        "    results = interpret_predictions(prediction_on_test)\n",
        "    predictions_on_test.append(results)\n",
        "    clear_output()\n",
        "\n",
        "print('All done!')\n"
      ]
    },
    {
      "cell_type": "code",
      "execution_count": 22,
      "metadata": {
        "id": "jsXhcHBfL3f9"
      },
      "outputs": [],
      "source": [
        "true_labels = []\n",
        "\n",
        "for i in range(len(test_data)):\n",
        "    outcome = {}\n",
        "    label = test_data['label'][i]\n",
        "    label = label.replace('{', '')\n",
        "    label = label.replace('}', '')\n",
        "    labels = label.split(';')\n",
        "    for l in labels:\n",
        "        try:\n",
        "            text = l.split('#')\n",
        "            outcome[text[0]] = text[1]\n",
        "        except:\n",
        "            pass\n",
        "    true_labels.append(outcome)"
      ]
    },
    {
      "cell_type": "markdown",
      "metadata": {
        "id": "5DjwTH5nL3f9"
      },
      "source": [
        "# 06. Chuẩn hóa nhãn đầu ra để thực hiện đánh giá hiệu suất mô hình"
      ]
    },
    {
      "cell_type": "code",
      "execution_count": 23,
      "metadata": {
        "id": "xtD91lUiL3f9"
      },
      "outputs": [],
      "source": [
        "def full_label(true_label, prediction):\n",
        "    '''true_label: dict\n",
        "     prediction: dict '''\n",
        "    for key, value in prediction.items():\n",
        "        if key not in true_label:\n",
        "            true_label[key] = 'None'\n",
        "    return true_label"
      ]
    },
    {
      "cell_type": "code",
      "execution_count": 24,
      "metadata": {
        "id": "rp44CrV2L3f9"
      },
      "outputs": [],
      "source": [
        "# mục tiêu là đưa danh sách các nhãn thực tế về dạng đánh giá 10 class như trong dự đoán\n",
        "true_full_labels = []\n",
        "for idx in range(len(predictions_on_test)):\n",
        "    true_label = true_labels[idx]\n",
        "    prediction = predictions_on_test[idx]\n",
        "    true_full_labels.append(full_label(true_label, prediction))"
      ]
    },
    {
      "cell_type": "code",
      "execution_count": 25,
      "metadata": {
        "id": "K44Dx7W9L3f9",
        "colab": {
          "base_uri": "https://localhost:8080/"
        },
        "outputId": "fc056eb7-5ce8-436f-ff9a-b05555faceab"
      },
      "outputs": [
        {
          "output_type": "stream",
          "name": "stdout",
          "text": [
            "{'SCREEN': 'None', 'CAMERA': 'None', 'FEATURES': 'None', 'BATTERY': 'None', 'PERFORMANCE': 'Positive', 'STORAGE': 'None', 'DESIGN': 'None', 'PRICE': 'None', 'GENERAL': 'Positive', 'SER&ACC': 'Positive'}\n",
            "{'SCREEN': 'None', 'CAMERA': 'None', 'FEATURES': 'None', 'BATTERY': 'None', 'PERFORMANCE': 'None', 'STORAGE': 'None', 'DESIGN': 'None', 'PRICE': 'None', 'GENERAL': 'None', 'SER&ACC': 'None'}\n",
            "Thật tuyệt máy qua mượt túi thích  như thế giới Di Động có chỗ giá khác túi không hiểu đánh giá 5sao cho thế giới Di Động phương Phú Châu 5sao nhân viên OK\n",
            "true:  SCREEN None\n",
            "predicted:  SCREEN None\n",
            "true:  CAMERA None\n",
            "predicted:  CAMERA None\n",
            "true:  FEATURES None\n",
            "predicted:  FEATURES None\n",
            "true:  BATTERY None\n",
            "predicted:  BATTERY None\n",
            "true:  PERFORMANCE None\n",
            "predicted:  PERFORMANCE Positive\n",
            "true:  STORAGE None\n",
            "predicted:  STORAGE None\n",
            "true:  DESIGN None\n",
            "predicted:  DESIGN None\n",
            "true:  PRICE None\n",
            "predicted:  PRICE None\n",
            "true:  GENERAL None\n",
            "predicted:  GENERAL Positive\n",
            "true:  SER&ACC None\n",
            "predicted:  SER&ACC Positive\n"
          ]
        }
      ],
      "source": [
        "# data thỉnh thoảng bị sai -..-\n",
        "# bằng chứng là SER&ACC trong câu này phải là Positive nhưng nhãn là None\n",
        "# hoặc GENERAL nên là Positive thì nhãn lại là None\n",
        "\n",
        "print(predictions_on_test[6])\n",
        "print(true_labels[6])\n",
        "print(test_data.loc[6, 'comment'])\n",
        "for key, value in true_labels[6].items():\n",
        "    print('true: ',key, value)\n",
        "    print('predicted: ', key, predictions_on_test[6][key])"
      ]
    },
    {
      "cell_type": "markdown",
      "metadata": {
        "id": "H0_E9JDSL3f9"
      },
      "source": [
        "# 07. Đánh giá hiệu suất tổng thể của mô hình"
      ]
    },
    {
      "cell_type": "code",
      "execution_count": 26,
      "metadata": {
        "id": "-SQCV9uTL3f9",
        "colab": {
          "base_uri": "https://localhost:8080/"
        },
        "outputId": "bcd03e74-7392-4eb0-86f0-e6a6e3db906b"
      },
      "outputs": [
        {
          "output_type": "stream",
          "name": "stdout",
          "text": [
            "Accuracy = 0.9321680267062314\n",
            "Precision = 0.8765391561319981\n",
            "Recall = 0.8824793388429752\n",
            "f1 = 0.8794992175273866\n"
          ]
        }
      ],
      "source": [
        "true_ = []\n",
        "predicted_ = []\n",
        "\n",
        "for idx in range(len(predictions_on_test)):\n",
        "    for key, value in predictions_on_test[idx].items():\n",
        "        if true_full_labels[idx][key] == 'None' and value == 'None':\n",
        "            true_.append(0)\n",
        "            predicted_.append(0)\n",
        "        elif true_full_labels[idx][key] != 'None' and true_full_labels[idx][key] == value:\n",
        "            true_.append(1)\n",
        "            predicted_.append(1)\n",
        "        elif true_full_labels[idx][key] == 'None' and value != 'None':\n",
        "            true_.append(0)\n",
        "            predicted_.append(1)\n",
        "        elif true_full_labels[idx][key] != 'None' and value == 'None':\n",
        "            true_.append(1)\n",
        "            predicted_.append(0)\n",
        "\n",
        "accuracy = accuracy_score(true_, predicted_)\n",
        "precision = precision_score(true_, predicted_)\n",
        "recall = recall_score(true_, predicted_)\n",
        "f1 = f1_score(true_, predicted_)\n",
        "\n",
        "print(f'Accuracy = {accuracy}')\n",
        "print(f'Precision = {precision}')\n",
        "print(f'Recall = {recall}')\n",
        "print(f'f1 = {f1}')"
      ]
    },
    {
      "cell_type": "markdown",
      "metadata": {
        "id": "0bK3ZOZVL3f-"
      },
      "source": [
        "# 08. Đánh giá hiệu suất nhận diện khía cạnh"
      ]
    },
    {
      "cell_type": "markdown",
      "metadata": {
        "id": "F2zBPBkiL3f-"
      },
      "source": [
        "### Accuracy, Precision, Recall, F1-score trên toàn bộ khía cạnh"
      ]
    },
    {
      "cell_type": "code",
      "execution_count": 27,
      "metadata": {
        "id": "QGddNyxBL3f-",
        "colab": {
          "base_uri": "https://localhost:8080/"
        },
        "outputId": "4a225966-1c56-406a-d117-7be79855b66b"
      },
      "outputs": [
        {
          "output_type": "stream",
          "name": "stdout",
          "text": [
            "Accuracy = 0.8042547497993042\n",
            "Precision = 0.8888067425698655\n",
            "Recall = 0.894227908360607\n",
            "F1-score = 0.8915090841675937\n"
          ]
        }
      ],
      "source": [
        "true_ = []\n",
        "predicted_ = []\n",
        "\n",
        "for idx in range(len(predictions_on_test)):\n",
        "    for key, value in predictions_on_test[idx].items():\n",
        "        if true_full_labels[idx] == 'None' and value == 'None':\n",
        "            true_.append(0)\n",
        "            predicted_.append(0)\n",
        "        elif true_full_labels[idx][key] != 'None' and value != 'None':\n",
        "            true_.append(1)\n",
        "            predicted_.append(1)\n",
        "        elif true_full_labels[idx][key] == 'None' and value != 'None':\n",
        "            true_.append(0)\n",
        "            predicted_.append(1)\n",
        "        elif true_full_labels[idx][key] != 'None' and value == 'None':\n",
        "            true_.append(1)\n",
        "            predicted_.append(0)\n",
        "\n",
        "print(f'Accuracy = {accuracy_score(true_, predicted_)}')\n",
        "print(f'Precision = {precision_score(true_, predicted_)}')\n",
        "print(f'Recall = {recall_score(true_, predicted_)}')\n",
        "print(f'F1-score = {f1_score(true_, predicted_)}')"
      ]
    },
    {
      "cell_type": "markdown",
      "metadata": {
        "id": "14oMoEzZL3f-"
      },
      "source": [
        "### đánh giá hiệu suất khía cạnh trên class SCREEN"
      ]
    },
    {
      "cell_type": "code",
      "execution_count": 28,
      "metadata": {
        "id": "cVEfG4vcL3f-",
        "colab": {
          "base_uri": "https://localhost:8080/"
        },
        "outputId": "cee1e899-bdf5-4b28-f846-a3d7f2d2f5df"
      },
      "outputs": [
        {
          "output_type": "stream",
          "name": "stdout",
          "text": [
            "Accuracy = 0.9532374100719424\n",
            "Precision = 0.8947368421052632\n",
            "Recall = 0.6951672862453532\n",
            "f1 = 0.7824267782426778\n"
          ]
        }
      ],
      "source": [
        "true_ = []\n",
        "predicted_ = []\n",
        "\n",
        "for idx in range(len(true_full_labels)):\n",
        "    key = 'SCREEN'\n",
        "    if true_full_labels[idx][key] == 'None' and predictions_on_test[idx][key] == 'None':\n",
        "        true_.append(0)\n",
        "        predicted_.append(0)\n",
        "    elif true_full_labels[idx][key] != 'None' and predictions_on_test[idx][key] != 'None':\n",
        "        true_.append(1)\n",
        "        predicted_.append(1)\n",
        "    elif true_full_labels[idx][key] == 'None' and predictions_on_test[idx][key] != 'None':\n",
        "        true_.append(0)\n",
        "        predicted_.append(1)\n",
        "    elif true_full_labels[idx][key] != 'None' and predictions_on_test[idx][key] == 'None':\n",
        "        true_.append(1)\n",
        "        predicted_.append(0)\n",
        "\n",
        "accuracy = accuracy_score(true_, predicted_)\n",
        "precision = precision_score(true_, predicted_)\n",
        "recall = recall_score(true_, predicted_)\n",
        "f1 = f1_score(true_, predicted_)\n",
        "\n",
        "print(f'Accuracy = {accuracy}')\n",
        "print(f'Precision = {precision}')\n",
        "print(f'Recall = {recall}')\n",
        "print(f'f1 = {f1}')"
      ]
    },
    {
      "cell_type": "markdown",
      "metadata": {
        "id": "jIMSSHKjL3f_"
      },
      "source": [
        "### đánh giá hiệu suất khía cạnh trên class FEATURES"
      ]
    },
    {
      "cell_type": "code",
      "execution_count": 29,
      "metadata": {
        "id": "k6Ce-aulL3f_",
        "colab": {
          "base_uri": "https://localhost:8080/"
        },
        "outputId": "afe11566-69c6-4ca3-f34f-7da3a8853f38"
      },
      "outputs": [
        {
          "output_type": "stream",
          "name": "stdout",
          "text": [
            "Accuracy = 0.9087230215827338\n",
            "Precision = 0.8207070707070707\n",
            "Recall = 0.9142053445850914\n",
            "f1 = 0.8649367930805056\n"
          ]
        }
      ],
      "source": [
        "true_ = []\n",
        "predicted_ = []\n",
        "\n",
        "for idx in range(len(true_full_labels)):\n",
        "    key = 'FEATURES'\n",
        "    if true_full_labels[idx][key] == 'None' and predictions_on_test[idx][key] == 'None':\n",
        "        true_.append(0)\n",
        "        predicted_.append(0)\n",
        "    elif true_full_labels[idx][key] != 'None' and predictions_on_test[idx][key] != 'None':\n",
        "        true_.append(1)\n",
        "        predicted_.append(1)\n",
        "    elif true_full_labels[idx][key] == 'None' and predictions_on_test[idx][key] != 'None':\n",
        "        true_.append(0)\n",
        "        predicted_.append(1)\n",
        "    elif true_full_labels[idx][key] != 'None' and predictions_on_test[idx][key] == 'None':\n",
        "        true_.append(1)\n",
        "        predicted_.append(0)\n",
        "\n",
        "accuracy = accuracy_score(true_, predicted_)\n",
        "precision = precision_score(true_, predicted_)\n",
        "recall = recall_score(true_, predicted_)\n",
        "f1 = f1_score(true_, predicted_)\n",
        "\n",
        "print(f'Accuracy = {accuracy}')\n",
        "print(f'Precision = {precision}')\n",
        "print(f'Recall = {recall}')\n",
        "print(f'f1 = {f1}')"
      ]
    },
    {
      "cell_type": "markdown",
      "metadata": {
        "id": "E31Op0xJL3f_"
      },
      "source": [
        "### đánh giá hiệu suất khía cạnh trên class PERFORMANCE"
      ]
    },
    {
      "cell_type": "code",
      "execution_count": 30,
      "metadata": {
        "id": "2J3GsCbKL3f_",
        "colab": {
          "base_uri": "https://localhost:8080/"
        },
        "outputId": "3a7117db-b6e1-46a0-e88b-21f2418103d5"
      },
      "outputs": [
        {
          "output_type": "stream",
          "name": "stdout",
          "text": [
            "Accuracy = 0.89568345323741\n",
            "Precision = 0.9174067495559503\n",
            "Recall = 0.8813993174061433\n",
            "f1 = 0.8990426457789382\n"
          ]
        }
      ],
      "source": [
        "true_ = []\n",
        "predicted_ = []\n",
        "\n",
        "for idx in range(len(true_full_labels)):\n",
        "    key = 'PERFORMANCE'\n",
        "    if true_full_labels[idx][key] == 'None' and predictions_on_test[idx][key] == 'None':\n",
        "        true_.append(0)\n",
        "        predicted_.append(0)\n",
        "    elif true_full_labels[idx][key] != 'None' and predictions_on_test[idx][key] != 'None':\n",
        "        true_.append(1)\n",
        "        predicted_.append(1)\n",
        "    elif true_full_labels[idx][key] == 'None' and predictions_on_test[idx][key] != 'None':\n",
        "        true_.append(0)\n",
        "        predicted_.append(1)\n",
        "    elif true_full_labels[idx][key] != 'None' and predictions_on_test[idx][key] == 'None':\n",
        "        true_.append(1)\n",
        "        predicted_.append(0)\n",
        "\n",
        "accuracy = accuracy_score(true_, predicted_)\n",
        "precision = precision_score(true_, predicted_)\n",
        "recall = recall_score(true_, predicted_)\n",
        "f1 = f1_score(true_, predicted_)\n",
        "\n",
        "print(f'Accuracy = {accuracy}')\n",
        "print(f'Precision = {precision}')\n",
        "print(f'Recall = {recall}')\n",
        "print(f'f1 = {f1}')"
      ]
    },
    {
      "cell_type": "markdown",
      "metadata": {
        "id": "7SLxsG5vL3f_"
      },
      "source": [
        "### đánh giá hiệu suất khía cạnh trên class GENERAL"
      ]
    },
    {
      "cell_type": "code",
      "execution_count": 31,
      "metadata": {
        "id": "RY88Z-KyL3f_",
        "colab": {
          "base_uri": "https://localhost:8080/"
        },
        "outputId": "4e8ce439-62cc-47b8-afac-36e72e1138d0"
      },
      "outputs": [
        {
          "output_type": "stream",
          "name": "stdout",
          "text": [
            "Accuracy = 0.8552158273381295\n",
            "Precision = 0.9051262433052792\n",
            "Recall = 0.8566256335988415\n",
            "f1 = 0.8802083333333334\n"
          ]
        }
      ],
      "source": [
        "true_ = []\n",
        "predicted_ = []\n",
        "\n",
        "for idx in range(len(true_full_labels)):\n",
        "    key = 'GENERAL'\n",
        "    if true_full_labels[idx][key] == 'None' and predictions_on_test[idx][key] == 'None':\n",
        "        true_.append(0)\n",
        "        predicted_.append(0)\n",
        "    elif true_full_labels[idx][key] != 'None' and predictions_on_test[idx][key] != 'None':\n",
        "        true_.append(1)\n",
        "        predicted_.append(1)\n",
        "    elif true_full_labels[idx][key] == 'None' and predictions_on_test[idx][key] != 'None':\n",
        "        true_.append(0)\n",
        "        predicted_.append(1)\n",
        "    elif true_full_labels[idx][key] != 'None' and predictions_on_test[idx][key] == 'None':\n",
        "        true_.append(1)\n",
        "        predicted_.append(0)\n",
        "\n",
        "accuracy = accuracy_score(true_, predicted_)\n",
        "precision = precision_score(true_, predicted_)\n",
        "recall = recall_score(true_, predicted_)\n",
        "f1 = f1_score(true_, predicted_)\n",
        "\n",
        "print(f'Accuracy = {accuracy}')\n",
        "print(f'Precision = {precision}')\n",
        "print(f'Recall = {recall}')\n",
        "print(f'f1 = {f1}')"
      ]
    },
    {
      "cell_type": "markdown",
      "metadata": {
        "id": "5KlAGh3VL3f_"
      },
      "source": [
        "### đánh giá hiệu suất khía cạnh trên class BATTERY"
      ]
    },
    {
      "cell_type": "code",
      "execution_count": 32,
      "metadata": {
        "id": "6wfQP70jL3f_",
        "colab": {
          "base_uri": "https://localhost:8080/"
        },
        "outputId": "87652a6a-4cf3-4330-9d7d-d8434771a389"
      },
      "outputs": [
        {
          "output_type": "stream",
          "name": "stdout",
          "text": [
            "Accuracy = 0.9680755395683454\n",
            "Precision = 0.9573229873908826\n",
            "Recall = 0.9733727810650887\n",
            "f1 = 0.965281173594132\n"
          ]
        }
      ],
      "source": [
        "true_ = []\n",
        "predicted_ = []\n",
        "\n",
        "for idx in range(len(true_full_labels)):\n",
        "    key = 'BATTERY'\n",
        "    if true_full_labels[idx][key] == 'None' and predictions_on_test[idx][key] == 'None':\n",
        "        true_.append(0)\n",
        "        predicted_.append(0)\n",
        "    elif true_full_labels[idx][key] != 'None' and predictions_on_test[idx][key] != 'None':\n",
        "        true_.append(1)\n",
        "        predicted_.append(1)\n",
        "    elif true_full_labels[idx][key] == 'None' and predictions_on_test[idx][key] != 'None':\n",
        "        true_.append(0)\n",
        "        predicted_.append(1)\n",
        "    elif true_full_labels[idx][key] != 'None' and predictions_on_test[idx][key] == 'None':\n",
        "        true_.append(1)\n",
        "        predicted_.append(0)\n",
        "\n",
        "accuracy = accuracy_score(true_, predicted_)\n",
        "precision = precision_score(true_, predicted_)\n",
        "recall = recall_score(true_, predicted_)\n",
        "f1 = f1_score(true_, predicted_)\n",
        "\n",
        "print(f'Accuracy = {accuracy}')\n",
        "print(f'Precision = {precision}')\n",
        "print(f'Recall = {recall}')\n",
        "print(f'f1 = {f1}')"
      ]
    },
    {
      "cell_type": "markdown",
      "metadata": {
        "id": "AVdhg1STL3gA"
      },
      "source": [
        "### đánh giá hiệu suất khía cạnh trên class STORAGE"
      ]
    },
    {
      "cell_type": "code",
      "execution_count": 33,
      "metadata": {
        "id": "YtrsBY-UL3gA",
        "colab": {
          "base_uri": "https://localhost:8080/"
        },
        "outputId": "20c220a7-2276-41df-c580-e5047c540744"
      },
      "outputs": [
        {
          "output_type": "stream",
          "name": "stdout",
          "text": [
            "Accuracy = 0.9923561151079137\n",
            "Precision = 0.7083333333333334\n",
            "Recall = 0.6296296296296297\n",
            "f1 = 0.6666666666666666\n"
          ]
        }
      ],
      "source": [
        "true_ = []\n",
        "predicted_ = []\n",
        "\n",
        "for idx in range(len(true_full_labels)):\n",
        "    key = 'STORAGE'\n",
        "    if true_full_labels[idx][key] == 'None' and predictions_on_test[idx][key] == 'None':\n",
        "        true_.append(0)\n",
        "        predicted_.append(0)\n",
        "    elif true_full_labels[idx][key] != 'None' and predictions_on_test[idx][key] != 'None':\n",
        "        true_.append(1)\n",
        "        predicted_.append(1)\n",
        "    elif true_full_labels[idx][key] == 'None' and predictions_on_test[idx][key] != 'None':\n",
        "        true_.append(0)\n",
        "        predicted_.append(1)\n",
        "    elif true_full_labels[idx][key] != 'None' and predictions_on_test[idx][key] == 'None':\n",
        "        true_.append(1)\n",
        "        predicted_.append(0)\n",
        "\n",
        "accuracy = accuracy_score(true_, predicted_)\n",
        "precision = precision_score(true_, predicted_)\n",
        "recall = recall_score(true_, predicted_)\n",
        "f1 = f1_score(true_, predicted_)\n",
        "\n",
        "print(f'Accuracy = {accuracy}')\n",
        "print(f'Precision = {precision}')\n",
        "print(f'Recall = {recall}')\n",
        "print(f'f1 = {f1}')"
      ]
    },
    {
      "cell_type": "markdown",
      "metadata": {
        "id": "1A6ARN0EL3gA"
      },
      "source": [
        "### đánh giá hiệu suất khía cạnh trên class DESIGN"
      ]
    },
    {
      "cell_type": "code",
      "execution_count": 34,
      "metadata": {
        "id": "35QPCIzoL3gA",
        "colab": {
          "base_uri": "https://localhost:8080/"
        },
        "outputId": "0d91cf07-c2d2-4dff-aaef-e21eea2d9044"
      },
      "outputs": [
        {
          "output_type": "stream",
          "name": "stdout",
          "text": [
            "Accuracy = 0.9410971223021583\n",
            "Precision = 0.8027210884353742\n",
            "Recall = 0.8894472361809045\n",
            "f1 = 0.8438617401668653\n"
          ]
        }
      ],
      "source": [
        "true_ = []\n",
        "predicted_ = []\n",
        "\n",
        "for idx in range(len(true_full_labels)):\n",
        "    key = 'DESIGN'\n",
        "    if true_full_labels[idx][key] == 'None' and predictions_on_test[idx][key] == 'None':\n",
        "        true_.append(0)\n",
        "        predicted_.append(0)\n",
        "    elif true_full_labels[idx][key] != 'None' and predictions_on_test[idx][key] != 'None':\n",
        "        true_.append(1)\n",
        "        predicted_.append(1)\n",
        "    elif true_full_labels[idx][key] == 'None' and predictions_on_test[idx][key] != 'None':\n",
        "        true_.append(0)\n",
        "        predicted_.append(1)\n",
        "    elif true_full_labels[idx][key] != 'None' and predictions_on_test[idx][key] == 'None':\n",
        "        true_.append(1)\n",
        "        predicted_.append(0)\n",
        "\n",
        "accuracy = accuracy_score(true_, predicted_)\n",
        "precision = precision_score(true_, predicted_)\n",
        "recall = recall_score(true_, predicted_)\n",
        "f1 = f1_score(true_, predicted_)\n",
        "\n",
        "print(f'Accuracy = {accuracy}')\n",
        "print(f'Precision = {precision}')\n",
        "print(f'Recall = {recall}')\n",
        "print(f'f1 = {f1}')"
      ]
    },
    {
      "cell_type": "markdown",
      "metadata": {
        "id": "v_VJ1XB_L3gA"
      },
      "source": [
        "### đánh giá hiệu suất khía cạnh trên class PRICE"
      ]
    },
    {
      "cell_type": "code",
      "execution_count": 35,
      "metadata": {
        "id": "YC1PzdkbL3gB",
        "colab": {
          "base_uri": "https://localhost:8080/"
        },
        "outputId": "27b5badc-605f-42a4-f61e-157cec784244"
      },
      "outputs": [
        {
          "output_type": "stream",
          "name": "stdout",
          "text": [
            "Accuracy = 0.9514388489208633\n",
            "Precision = 0.8835274542429284\n",
            "Recall = 0.9332161687170475\n",
            "f1 = 0.9076923076923077\n"
          ]
        }
      ],
      "source": [
        "true_ = []\n",
        "predicted_ = []\n",
        "\n",
        "for idx in range(len(true_full_labels)):\n",
        "    key = 'PRICE'\n",
        "    if true_full_labels[idx][key] == 'None' and predictions_on_test[idx][key] == 'None':\n",
        "        true_.append(0)\n",
        "        predicted_.append(0)\n",
        "    elif true_full_labels[idx][key] != 'None' and predictions_on_test[idx][key] != 'None':\n",
        "        true_.append(1)\n",
        "        predicted_.append(1)\n",
        "    elif true_full_labels[idx][key] == 'None' and predictions_on_test[idx][key] != 'None':\n",
        "        true_.append(0)\n",
        "        predicted_.append(1)\n",
        "    elif true_full_labels[idx][key] != 'None' and predictions_on_test[idx][key] == 'None':\n",
        "        true_.append(1)\n",
        "        predicted_.append(0)\n",
        "\n",
        "accuracy = accuracy_score(true_, predicted_)\n",
        "precision = precision_score(true_, predicted_)\n",
        "recall = recall_score(true_, predicted_)\n",
        "f1 = f1_score(true_, predicted_)\n",
        "\n",
        "print(f'Accuracy = {accuracy}')\n",
        "print(f'Precision = {precision}')\n",
        "print(f'Recall = {recall}')\n",
        "print(f'f1 = {f1}')"
      ]
    },
    {
      "cell_type": "markdown",
      "metadata": {
        "id": "CvM-4qdRL3gB"
      },
      "source": [
        "### đánh giá hiệu suất khía cạnh trên class SER&ACC"
      ]
    },
    {
      "cell_type": "code",
      "execution_count": 36,
      "metadata": {
        "id": "bBrzXC9dL3gB",
        "colab": {
          "base_uri": "https://localhost:8080/"
        },
        "outputId": "d9a43227-b7a7-45c4-d799-2bf46fc3fc46"
      },
      "outputs": [
        {
          "output_type": "stream",
          "name": "stdout",
          "text": [
            "Accuracy = 0.9019784172661871\n",
            "Precision = 0.7971473851030111\n",
            "Recall = 0.8482293423271501\n",
            "f1 = 0.8218954248366013\n"
          ]
        }
      ],
      "source": [
        "true_ = []\n",
        "predicted_ = []\n",
        "\n",
        "for idx in range(len(true_full_labels)):\n",
        "    key = 'SER&ACC'\n",
        "    if true_full_labels[idx][key] == 'None' and predictions_on_test[idx][key] == 'None':\n",
        "        true_.append(0)\n",
        "        predicted_.append(0)\n",
        "    elif true_full_labels[idx][key] != 'None' and predictions_on_test[idx][key] != 'None':\n",
        "        true_.append(1)\n",
        "        predicted_.append(1)\n",
        "    elif true_full_labels[idx][key] == 'None' and predictions_on_test[idx][key] != 'None':\n",
        "        true_.append(0)\n",
        "        predicted_.append(1)\n",
        "    elif true_full_labels[idx][key] != 'None' and predictions_on_test[idx][key] == 'None':\n",
        "        true_.append(1)\n",
        "        predicted_.append(0)\n",
        "\n",
        "accuracy = accuracy_score(true_, predicted_)\n",
        "precision = precision_score(true_, predicted_)\n",
        "recall = recall_score(true_, predicted_)\n",
        "f1 = f1_score(true_, predicted_)\n",
        "\n",
        "print(f'Accuracy = {accuracy}')\n",
        "print(f'Precision = {precision}')\n",
        "print(f'Recall = {recall}')\n",
        "print(f'f1 = {f1}')"
      ]
    },
    {
      "cell_type": "markdown",
      "metadata": {
        "id": "rFP6X4cNL3gB"
      },
      "source": [
        "### đánh giá hiệu suất khía cạnh trên class CAMERA"
      ]
    },
    {
      "cell_type": "code",
      "execution_count": 37,
      "metadata": {
        "id": "z05ImEujL3gB",
        "colab": {
          "base_uri": "https://localhost:8080/"
        },
        "outputId": "dd0128d1-691d-4b71-ed25-09409b41e895"
      },
      "outputs": [
        {
          "output_type": "stream",
          "name": "stdout",
          "text": [
            "Accuracy = 0.9743705035971223\n",
            "Precision = 0.9417637271214643\n",
            "Recall = 0.9625850340136054\n",
            "f1 = 0.9520605550883096\n"
          ]
        }
      ],
      "source": [
        "true_ = []\n",
        "predicted_ = []\n",
        "\n",
        "for idx in range(len(true_full_labels)):\n",
        "    key = 'CAMERA'\n",
        "    if true_full_labels[idx][key] == 'None' and predictions_on_test[idx][key] == 'None':\n",
        "        true_.append(0)\n",
        "        predicted_.append(0)\n",
        "    elif true_full_labels[idx][key] != 'None' and predictions_on_test[idx][key] != 'None':\n",
        "        true_.append(1)\n",
        "        predicted_.append(1)\n",
        "    elif true_full_labels[idx][key] == 'None' and predictions_on_test[idx][key] != 'None':\n",
        "        true_.append(0)\n",
        "        predicted_.append(1)\n",
        "    elif true_full_labels[idx][key] != 'None' and predictions_on_test[idx][key] == 'None':\n",
        "        true_.append(1)\n",
        "        predicted_.append(0)\n",
        "\n",
        "accuracy = accuracy_score(true_, predicted_)\n",
        "precision = precision_score(true_, predicted_)\n",
        "recall = recall_score(true_, predicted_)\n",
        "f1 = f1_score(true_, predicted_)\n",
        "\n",
        "print(f'Accuracy = {accuracy}')\n",
        "print(f'Precision = {precision}')\n",
        "print(f'Recall = {recall}')\n",
        "print(f'f1 = {f1}')"
      ]
    },
    {
      "cell_type": "markdown",
      "metadata": {
        "id": "P_OGvIUDL3gC"
      },
      "source": [
        "# 09. Đánh giá hiệu suất nhận diện tình cảm (đa nhãn)"
      ]
    },
    {
      "cell_type": "markdown",
      "metadata": {
        "id": "KdKIxXuXL3gC"
      },
      "source": [
        "### Accuracy trên toàn bộ data kiểm thử\n",
        "acc = corrects/(all predictions)"
      ]
    },
    {
      "cell_type": "code",
      "execution_count": 38,
      "metadata": {
        "id": "pUu7dCv-L3gC",
        "colab": {
          "base_uri": "https://localhost:8080/"
        },
        "outputId": "8e2176f3-8e66-4383-d08d-d79b1fab73fa"
      },
      "outputs": [
        {
          "output_type": "stream",
          "name": "stdout",
          "text": [
            "Accuracy = 0.7942576614102945\n"
          ]
        }
      ],
      "source": [
        "true_ = []\n",
        "predicted_ = []\n",
        "accuracy = []\n",
        "\n",
        "for idx in range(len(true_full_labels)):\n",
        "    for key, value in true_full_labels[idx].items():\n",
        "        if value == 'None':\n",
        "            continue\n",
        "        elif predictions_on_test[idx][key] != value:\n",
        "            accuracy.append(0)\n",
        "        elif predictions_on_test[idx][key] == value:\n",
        "            accuracy.append(1)\n",
        "\n",
        "print(f'Accuracy = {sum(accuracy)/len(accuracy)}')"
      ]
    },
    {
      "cell_type": "markdown",
      "metadata": {
        "id": "n2xGREGjL3gC"
      },
      "source": [
        "### Precisio, Recall, F1-score tình cảm trên toàn bộ data kiểm thử"
      ]
    },
    {
      "cell_type": "code",
      "execution_count": 39,
      "metadata": {
        "id": "2m1Xx7SgL3gC",
        "colab": {
          "base_uri": "https://localhost:8080/"
        },
        "outputId": "940cb686-1fbf-400d-98c7-1e7d0fa9f51b"
      },
      "outputs": [
        {
          "output_type": "stream",
          "name": "stdout",
          "text": [
            "Classification report:\n",
            "                      precision    recall  f1-score   support\n",
            "\n",
            "    BATTERY_Negative     0.8660    0.8777    0.8718       368\n",
            "     BATTERY_Neutral     0.4324    0.5217    0.4729        92\n",
            "        BATTERY_None     0.9774    0.9636    0.9705      1210\n",
            "    BATTERY_Positive     0.9086    0.8971    0.9028       554\n",
            "     CAMERA_Negative     0.8497    0.7602    0.8025       171\n",
            "      CAMERA_Neutral     0.5000    0.6338    0.5590        71\n",
            "         CAMERA_None     0.9864    0.9786    0.9825      1636\n",
            "     CAMERA_Positive     0.9078    0.9393    0.9233       346\n",
            "     DESIGN_Negative     0.4242    0.5833    0.4912        96\n",
            "      DESIGN_Neutral     0.2000    0.1429    0.1667        28\n",
            "         DESIGN_None     0.9753    0.9524    0.9637      1826\n",
            "     DESIGN_Positive     0.8547    0.9015    0.8774       274\n",
            "   FEATURES_Negative     0.7514    0.8758    0.8089       459\n",
            "    FEATURES_Neutral     0.3016    0.3654    0.3304        52\n",
            "       FEATURES_None     0.9574    0.9061    0.9311      1513\n",
            "   FEATURES_Positive     0.7526    0.7300    0.7411       200\n",
            "    GENERAL_Negative     0.8169    0.5918    0.6864       294\n",
            "     GENERAL_Neutral     0.6562    0.5060    0.5714        83\n",
            "        GENERAL_None     0.7841    0.8529    0.8170       843\n",
            "    GENERAL_Positive     0.8854    0.9084    0.8968      1004\n",
            "PERFORMANCE_Negative     0.8263    0.7335    0.7771       454\n",
            " PERFORMANCE_Neutral     0.4259    0.3966    0.4107       116\n",
            "    PERFORMANCE_None     0.8734    0.9116    0.8921      1052\n",
            "PERFORMANCE_Positive     0.8585    0.8771    0.8677       602\n",
            "      PRICE_Negative     0.5106    0.6076    0.5549        79\n",
            "       PRICE_Neutral     0.8094    0.6860    0.7426       328\n",
            "          PRICE_None     0.9766    0.9577    0.9671      1655\n",
            "      PRICE_Positive     0.6114    0.8642    0.7161       162\n",
            "     SCREEN_Negative     0.7875    0.5431    0.6429       116\n",
            "      SCREEN_Neutral     0.4000    0.1176    0.1818        17\n",
            "         SCREEN_None     0.9593    0.9887    0.9738      1955\n",
            "     SCREEN_Positive     0.8710    0.7941    0.8308       136\n",
            "    SER&ACC_Negative     0.5543    0.6108    0.5812       167\n",
            "     SER&ACC_Neutral     0.2667    0.2963    0.2807        27\n",
            "        SER&ACC_None     0.9435    0.9215    0.9324      1631\n",
            "    SER&ACC_Positive     0.8489    0.8872    0.8676       399\n",
            "    STORAGE_Negative     0.0000    0.0000    0.0000         6\n",
            "     STORAGE_Neutral     0.0000    0.0000    0.0000         3\n",
            "        STORAGE_None     0.9955    0.9968    0.9961      2197\n",
            "    STORAGE_Positive     0.6000    0.6667    0.6316        18\n",
            "\n",
            "            accuracy                         0.9040     22240\n",
            "           macro avg     0.6977    0.6936    0.6904     22240\n",
            "        weighted avg     0.9068    0.9040    0.9042     22240\n",
            "\n"
          ]
        }
      ],
      "source": [
        "from sklearn.metrics import classification_report\n",
        "\n",
        "\n",
        "y_true = []\n",
        "y_pred = []\n",
        "\n",
        "for idx in range(len(true_labels)):\n",
        "    for key, value in true_labels[idx].items():\n",
        "        y_true.append(key + \"_\" + value)\n",
        "        y_pred.append(key + \"_\" + predictions_on_test[idx][key])\n",
        "\n",
        "\n",
        "print(f'Classification report:')\n",
        "print(classification_report(y_true, y_pred, digits=4))"
      ]
    },
    {
      "cell_type": "code",
      "execution_count": 40,
      "metadata": {
        "id": "Eg2E4SdpL3gC",
        "colab": {
          "base_uri": "https://localhost:8080/"
        },
        "outputId": "23660b6f-5eba-4ac8-d471-20d9eeec5668"
      },
      "outputs": [
        {
          "output_type": "stream",
          "name": "stdout",
          "text": [
            "\n",
            "Overall Precision, Recall, F1-Score:\n",
            "Micro Precision: 0.9040\n",
            "Micro Recall: 0.9040\n",
            "Micro F1-Score: 0.9040\n",
            "Macro Precision: 0.6977\n",
            "Macro Recall: 0.6936\n",
            "Macro F1-Score: 0.6904\n",
            "Weighted Precision: 0.9068\n",
            "Weighted Recall: 0.9040\n",
            "Weighted F1-Score: 0.9042\n"
          ]
        }
      ],
      "source": [
        "precision_micro = precision_score(y_true, y_pred, average='micro')\n",
        "recall_micro = recall_score(y_true, y_pred, average='micro')\n",
        "f1_micro = f1_score(y_true, y_pred, average='micro')\n",
        "\n",
        "precision_macro = precision_score(y_true, y_pred, average='macro')\n",
        "recall_macro = recall_score(y_true, y_pred, average='macro')\n",
        "f1_macro = f1_score(y_true, y_pred, average='macro')\n",
        "\n",
        "precision_weighted = precision_score(y_true, y_pred, average='weighted')\n",
        "recall_weighted = recall_score(y_true, y_pred, average='weighted')\n",
        "f1_weighted = f1_score(y_true, y_pred, average='weighted')\n",
        "\n",
        "print(\"\\nOverall Precision, Recall, F1-Score:\")\n",
        "print(f\"Micro Precision: {precision_micro:.4f}\")\n",
        "print(f\"Micro Recall: {recall_micro:.4f}\")\n",
        "print(f\"Micro F1-Score: {f1_micro:.4f}\")\n",
        "print(f\"Macro Precision: {precision_macro:.4f}\")\n",
        "print(f\"Macro Recall: {recall_macro:.4f}\")\n",
        "print(f\"Macro F1-Score: {f1_macro:.4f}\")\n",
        "print(f\"Weighted Precision: {precision_weighted:.4f}\")\n",
        "print(f\"Weighted Recall: {recall_weighted:.4f}\")\n",
        "print(f\"Weighted F1-Score: {f1_weighted:.4f}\")"
      ]
    },
    {
      "cell_type": "markdown",
      "metadata": {
        "id": "85kskj-JL3gC"
      },
      "source": [
        "### Đánh giá hiệu suất nhận diện tình cảm của khía cạnh SCREEN"
      ]
    },
    {
      "cell_type": "code",
      "execution_count": 41,
      "metadata": {
        "id": "olSGC7kkL3gC",
        "colab": {
          "base_uri": "https://localhost:8080/"
        },
        "outputId": "d6d295d9-af23-43b6-ead0-650a8e298dbe"
      },
      "outputs": [
        {
          "output_type": "stream",
          "name": "stdout",
          "text": [
            "              precision    recall  f1-score   support\n",
            "\n",
            "    Negative       0.79      0.54      0.64       116\n",
            "     Neutral       0.40      0.12      0.18        17\n",
            "        None       0.96      0.99      0.97      1955\n",
            "    Positive       0.87      0.79      0.83       136\n",
            "\n",
            "    accuracy                           0.95      2224\n",
            "   macro avg       0.75      0.61      0.66      2224\n",
            "weighted avg       0.94      0.95      0.94      2224\n",
            "\n"
          ]
        }
      ],
      "source": [
        "y_true = []\n",
        "y_pred = []\n",
        "\n",
        "key = 'SCREEN'\n",
        "for idx in range(len(true_full_labels)):\n",
        "    y_true.append(true_full_labels[idx][key])\n",
        "    y_pred.append(predictions_on_test[idx][key])\n",
        "\n",
        "report = classification_report(y_true, y_pred)\n",
        "print(report)"
      ]
    },
    {
      "cell_type": "markdown",
      "metadata": {
        "id": "nSCh5fYkL3gD"
      },
      "source": [
        "### Đánh giá hiệu suất nhận diện tình cảm của khía cạnh FEATURES"
      ]
    },
    {
      "cell_type": "code",
      "execution_count": 42,
      "metadata": {
        "id": "5sMUcNW4L3gD",
        "colab": {
          "base_uri": "https://localhost:8080/"
        },
        "outputId": "cd67fe69-4030-4a3b-bbda-597130683a9f"
      },
      "outputs": [
        {
          "output_type": "stream",
          "name": "stdout",
          "text": [
            "              precision    recall  f1-score   support\n",
            "\n",
            "    Negative       0.75      0.88      0.81       459\n",
            "     Neutral       0.30      0.37      0.33        52\n",
            "        None       0.96      0.91      0.93      1513\n",
            "    Positive       0.75      0.73      0.74       200\n",
            "\n",
            "    accuracy                           0.87      2224\n",
            "   macro avg       0.69      0.72      0.70      2224\n",
            "weighted avg       0.88      0.87      0.87      2224\n",
            "\n"
          ]
        }
      ],
      "source": [
        "y_true = []\n",
        "y_pred = []\n",
        "\n",
        "key = 'FEATURES'\n",
        "for idx in range(len(true_full_labels)):\n",
        "    y_true.append(true_full_labels[idx][key])\n",
        "    y_pred.append(predictions_on_test[idx][key])\n",
        "\n",
        "report = classification_report(y_true, y_pred)\n",
        "print(report)"
      ]
    },
    {
      "cell_type": "markdown",
      "metadata": {
        "id": "RZULf_sfL3gD"
      },
      "source": [
        "### Đánh giá hiệu suất nhận diện tình cảm của khía cạnh PERFORMANCE"
      ]
    },
    {
      "cell_type": "code",
      "execution_count": 43,
      "metadata": {
        "id": "4Q90-m_pL3gD",
        "colab": {
          "base_uri": "https://localhost:8080/"
        },
        "outputId": "44749fde-d73d-49e9-c00c-2edaa56213a4"
      },
      "outputs": [
        {
          "output_type": "stream",
          "name": "stdout",
          "text": [
            "              precision    recall  f1-score   support\n",
            "\n",
            "    Negative       0.83      0.73      0.78       454\n",
            "     Neutral       0.43      0.40      0.41       116\n",
            "        None       0.87      0.91      0.89      1052\n",
            "    Positive       0.86      0.88      0.87       602\n",
            "\n",
            "    accuracy                           0.84      2224\n",
            "   macro avg       0.75      0.73      0.74      2224\n",
            "weighted avg       0.84      0.84      0.84      2224\n",
            "\n"
          ]
        }
      ],
      "source": [
        "y_true = []\n",
        "y_pred = []\n",
        "\n",
        "key = 'PERFORMANCE'\n",
        "for idx in range(len(true_full_labels)):\n",
        "    y_true.append(true_full_labels[idx][key])\n",
        "    y_pred.append(predictions_on_test[idx][key])\n",
        "\n",
        "report = classification_report(y_true, y_pred)\n",
        "print(report)"
      ]
    },
    {
      "cell_type": "markdown",
      "metadata": {
        "id": "mKmCNzanL3gD"
      },
      "source": [
        "### Đánh giá hiệu suất nhận diện tình cảm của khía cạnh GENERAL"
      ]
    },
    {
      "cell_type": "code",
      "execution_count": 44,
      "metadata": {
        "id": "27HH5VZML3gD",
        "colab": {
          "base_uri": "https://localhost:8080/"
        },
        "outputId": "59ac34a5-53cb-46a0-86c5-c1de42ecb02d"
      },
      "outputs": [
        {
          "output_type": "stream",
          "name": "stdout",
          "text": [
            "              precision    recall  f1-score   support\n",
            "\n",
            "    Negative       0.82      0.59      0.69       294\n",
            "     Neutral       0.66      0.51      0.57        83\n",
            "        None       0.78      0.85      0.82       843\n",
            "    Positive       0.89      0.91      0.90      1004\n",
            "\n",
            "    accuracy                           0.83      2224\n",
            "   macro avg       0.79      0.71      0.74      2224\n",
            "weighted avg       0.83      0.83      0.83      2224\n",
            "\n"
          ]
        }
      ],
      "source": [
        "y_true = []\n",
        "y_pred = []\n",
        "\n",
        "key = 'GENERAL'\n",
        "for idx in range(len(true_full_labels)):\n",
        "    y_true.append(true_full_labels[idx][key])\n",
        "    y_pred.append(predictions_on_test[idx][key])\n",
        "\n",
        "report = classification_report(y_true, y_pred)\n",
        "print(report)"
      ]
    },
    {
      "cell_type": "markdown",
      "metadata": {
        "id": "wQ7sHHbyL3gD"
      },
      "source": [
        "### Đánh giá hiệu suất nhận diện tình cảm của khía cạnh CAMERA"
      ]
    },
    {
      "cell_type": "code",
      "execution_count": 45,
      "metadata": {
        "id": "VaUO5CaSL3gD",
        "colab": {
          "base_uri": "https://localhost:8080/"
        },
        "outputId": "43e0d2f8-57f1-45f3-896d-2effd5a07036"
      },
      "outputs": [
        {
          "output_type": "stream",
          "name": "stdout",
          "text": [
            "              precision    recall  f1-score   support\n",
            "\n",
            "    Negative       0.85      0.76      0.80       171\n",
            "     Neutral       0.50      0.63      0.56        71\n",
            "        None       0.99      0.98      0.98      1636\n",
            "    Positive       0.91      0.94      0.92       346\n",
            "\n",
            "    accuracy                           0.94      2224\n",
            "   macro avg       0.81      0.83      0.82      2224\n",
            "weighted avg       0.95      0.94      0.95      2224\n",
            "\n"
          ]
        }
      ],
      "source": [
        "y_true = []\n",
        "y_pred = []\n",
        "\n",
        "key = 'CAMERA'\n",
        "for idx in range(len(true_full_labels)):\n",
        "    y_true.append(true_full_labels[idx][key])\n",
        "    y_pred.append(predictions_on_test[idx][key])\n",
        "\n",
        "report = classification_report(y_true, y_pred)\n",
        "print(report)"
      ]
    },
    {
      "cell_type": "markdown",
      "metadata": {
        "id": "Ldc7rnzvL3gD"
      },
      "source": [
        "### Đánh giá hiệu suất nhận diện tình cảm của khía cạnh BATTERY"
      ]
    },
    {
      "cell_type": "code",
      "execution_count": 46,
      "metadata": {
        "id": "a5lOm1mPL3gE",
        "colab": {
          "base_uri": "https://localhost:8080/"
        },
        "outputId": "d4ecbaa5-75da-4db4-e101-9723a4a32ca5"
      },
      "outputs": [
        {
          "output_type": "stream",
          "name": "stdout",
          "text": [
            "              precision    recall  f1-score   support\n",
            "\n",
            "    Negative       0.87      0.88      0.87       368\n",
            "     Neutral       0.43      0.52      0.47        92\n",
            "        None       0.98      0.96      0.97      1210\n",
            "    Positive       0.91      0.90      0.90       554\n",
            "\n",
            "    accuracy                           0.91      2224\n",
            "   macro avg       0.80      0.82      0.80      2224\n",
            "weighted avg       0.92      0.91      0.92      2224\n",
            "\n"
          ]
        }
      ],
      "source": [
        "y_true = []\n",
        "y_pred = []\n",
        "\n",
        "key = 'BATTERY'\n",
        "for idx in range(len(true_full_labels)):\n",
        "    y_true.append(true_full_labels[idx][key])\n",
        "    y_pred.append(predictions_on_test[idx][key])\n",
        "\n",
        "report = classification_report(y_true, y_pred)\n",
        "print(report)"
      ]
    },
    {
      "cell_type": "markdown",
      "metadata": {
        "id": "efeC2xrgL3gE"
      },
      "source": [
        "### Đánh giá hiệu suất nhận diện tình cảm của khía cạnh STORAGE"
      ]
    },
    {
      "cell_type": "code",
      "execution_count": 47,
      "metadata": {
        "id": "bGX4khBGL3gE",
        "colab": {
          "base_uri": "https://localhost:8080/"
        },
        "outputId": "58b92c4e-9928-4f10-faa3-2c80e9a9ba89"
      },
      "outputs": [
        {
          "output_type": "stream",
          "name": "stdout",
          "text": [
            "              precision    recall  f1-score   support\n",
            "\n",
            "    Negative       0.00      0.00      0.00         6\n",
            "     Neutral       0.00      0.00      0.00         3\n",
            "        None       1.00      1.00      1.00      2197\n",
            "    Positive       0.60      0.67      0.63        18\n",
            "\n",
            "    accuracy                           0.99      2224\n",
            "   macro avg       0.40      0.42      0.41      2224\n",
            "weighted avg       0.99      0.99      0.99      2224\n",
            "\n"
          ]
        }
      ],
      "source": [
        "y_true = []\n",
        "y_pred = []\n",
        "\n",
        "key = 'STORAGE'\n",
        "for idx in range(len(true_full_labels)):\n",
        "    y_true.append(true_full_labels[idx][key])\n",
        "    y_pred.append(predictions_on_test[idx][key])\n",
        "\n",
        "report = classification_report(y_true, y_pred)\n",
        "print(report)"
      ]
    },
    {
      "cell_type": "markdown",
      "metadata": {
        "id": "pwkYtIbML3gE"
      },
      "source": [
        "### Đánh giá hiệu suất nhận diện tình cảm của khía cạnh DESIGN"
      ]
    },
    {
      "cell_type": "code",
      "execution_count": 48,
      "metadata": {
        "id": "YwxElykWL3gE",
        "colab": {
          "base_uri": "https://localhost:8080/"
        },
        "outputId": "ea781cf3-80a9-4a2c-e746-c73fd9fab93d"
      },
      "outputs": [
        {
          "output_type": "stream",
          "name": "stdout",
          "text": [
            "              precision    recall  f1-score   support\n",
            "\n",
            "    Negative       0.42      0.58      0.49        96\n",
            "     Neutral       0.20      0.14      0.17        28\n",
            "        None       0.98      0.95      0.96      1826\n",
            "    Positive       0.85      0.90      0.88       274\n",
            "\n",
            "    accuracy                           0.92      2224\n",
            "   macro avg       0.61      0.65      0.62      2224\n",
            "weighted avg       0.93      0.92      0.92      2224\n",
            "\n"
          ]
        }
      ],
      "source": [
        "y_true = []\n",
        "y_pred = []\n",
        "\n",
        "key = 'DESIGN'\n",
        "for idx in range(len(true_full_labels)):\n",
        "    y_true.append(true_full_labels[idx][key])\n",
        "    y_pred.append(predictions_on_test[idx][key])\n",
        "\n",
        "report = classification_report(y_true, y_pred)\n",
        "print(report)"
      ]
    },
    {
      "cell_type": "markdown",
      "metadata": {
        "id": "4GzXhwAwL3gE"
      },
      "source": [
        "### Đánh giá hiệu suất nhận diện tình cảm của khía cạnh PRICE"
      ]
    },
    {
      "cell_type": "code",
      "execution_count": 49,
      "metadata": {
        "id": "2BCtliSwL3gE",
        "colab": {
          "base_uri": "https://localhost:8080/"
        },
        "outputId": "47fe1a96-3ca6-4adf-d142-53fbae385bfb"
      },
      "outputs": [
        {
          "output_type": "stream",
          "name": "stdout",
          "text": [
            "              precision    recall  f1-score   support\n",
            "\n",
            "    Negative       0.51      0.61      0.55        79\n",
            "     Neutral       0.81      0.69      0.74       328\n",
            "        None       0.98      0.96      0.97      1655\n",
            "    Positive       0.61      0.86      0.72       162\n",
            "\n",
            "    accuracy                           0.90      2224\n",
            "   macro avg       0.73      0.78      0.75      2224\n",
            "weighted avg       0.91      0.90      0.90      2224\n",
            "\n"
          ]
        }
      ],
      "source": [
        "y_true = []\n",
        "y_pred = []\n",
        "\n",
        "key = 'PRICE'\n",
        "for idx in range(len(true_full_labels)):\n",
        "    y_true.append(true_full_labels[idx][key])\n",
        "    y_pred.append(predictions_on_test[idx][key])\n",
        "\n",
        "report = classification_report(y_true, y_pred)\n",
        "print(report)"
      ]
    },
    {
      "cell_type": "markdown",
      "metadata": {
        "id": "PEYvGyl-L3gE"
      },
      "source": [
        "### Đánh giá hiệu suất nhận diện tình cảm của khía cạnh SER&ACC"
      ]
    },
    {
      "cell_type": "code",
      "execution_count": 50,
      "metadata": {
        "id": "pvxyV01gL3gE",
        "colab": {
          "base_uri": "https://localhost:8080/"
        },
        "outputId": "966bae00-a6e6-4e39-f176-e4b5ca282e50"
      },
      "outputs": [
        {
          "output_type": "stream",
          "name": "stdout",
          "text": [
            "              precision    recall  f1-score   support\n",
            "\n",
            "    Negative       0.55      0.61      0.58       167\n",
            "     Neutral       0.27      0.30      0.28        27\n",
            "        None       0.94      0.92      0.93      1631\n",
            "    Positive       0.85      0.89      0.87       399\n",
            "\n",
            "    accuracy                           0.88      2224\n",
            "   macro avg       0.65      0.68      0.67      2224\n",
            "weighted avg       0.89      0.88      0.89      2224\n",
            "\n"
          ]
        }
      ],
      "source": [
        "y_true = []\n",
        "y_pred = []\n",
        "\n",
        "key = 'SER&ACC'\n",
        "for idx in range(len(true_full_labels)):\n",
        "    y_true.append(true_full_labels[idx][key])\n",
        "    y_pred.append(predictions_on_test[idx][key])\n",
        "\n",
        "report = classification_report(y_true, y_pred)\n",
        "print(report)"
      ]
    }
  ],
  "metadata": {
    "kernelspec": {
      "display_name": "Python 3",
      "name": "python3"
    },
    "language_info": {
      "name": "python",
      "version": "3.10.0"
    },
    "colab": {
      "provenance": [],
      "gpuType": "T4"
    },
    "accelerator": "GPU",
    "widgets": {
      "application/vnd.jupyter.widget-state+json": {
        "557ed213436640968cae3f1101196bf9": {
          "model_module": "@jupyter-widgets/controls",
          "model_name": "HBoxModel",
          "model_module_version": "1.5.0",
          "state": {
            "_dom_classes": [],
            "_model_module": "@jupyter-widgets/controls",
            "_model_module_version": "1.5.0",
            "_model_name": "HBoxModel",
            "_view_count": null,
            "_view_module": "@jupyter-widgets/controls",
            "_view_module_version": "1.5.0",
            "_view_name": "HBoxView",
            "box_style": "",
            "children": [
              "IPY_MODEL_3434d03e19bf4f6688c7d234870dc3ee",
              "IPY_MODEL_fbeaa8d52d5a4198856db33d333d5b95",
              "IPY_MODEL_303b364b2b644e5ebf35da1756471f71"
            ],
            "layout": "IPY_MODEL_c7b8a8bc24f9419ba2da1a2c6b3768da"
          }
        },
        "3434d03e19bf4f6688c7d234870dc3ee": {
          "model_module": "@jupyter-widgets/controls",
          "model_name": "HTMLModel",
          "model_module_version": "1.5.0",
          "state": {
            "_dom_classes": [],
            "_model_module": "@jupyter-widgets/controls",
            "_model_module_version": "1.5.0",
            "_model_name": "HTMLModel",
            "_view_count": null,
            "_view_module": "@jupyter-widgets/controls",
            "_view_module_version": "1.5.0",
            "_view_name": "HTMLView",
            "description": "",
            "description_tooltip": null,
            "layout": "IPY_MODEL_17e57990a19f41b1b43ed687686fc3fb",
            "placeholder": "​",
            "style": "IPY_MODEL_691ac7bb4bc44170a8ae378c92336410",
            "value": "tokenizer_config.json: 100%"
          }
        },
        "fbeaa8d52d5a4198856db33d333d5b95": {
          "model_module": "@jupyter-widgets/controls",
          "model_name": "FloatProgressModel",
          "model_module_version": "1.5.0",
          "state": {
            "_dom_classes": [],
            "_model_module": "@jupyter-widgets/controls",
            "_model_module_version": "1.5.0",
            "_model_name": "FloatProgressModel",
            "_view_count": null,
            "_view_module": "@jupyter-widgets/controls",
            "_view_module_version": "1.5.0",
            "_view_name": "ProgressView",
            "bar_style": "success",
            "description": "",
            "description_tooltip": null,
            "layout": "IPY_MODEL_af4b916b5ff64eecabd7dde9d8beb551",
            "max": 49,
            "min": 0,
            "orientation": "horizontal",
            "style": "IPY_MODEL_fcf9fdcfc1c54d30af8bef3d2950dcce",
            "value": 49
          }
        },
        "303b364b2b644e5ebf35da1756471f71": {
          "model_module": "@jupyter-widgets/controls",
          "model_name": "HTMLModel",
          "model_module_version": "1.5.0",
          "state": {
            "_dom_classes": [],
            "_model_module": "@jupyter-widgets/controls",
            "_model_module_version": "1.5.0",
            "_model_name": "HTMLModel",
            "_view_count": null,
            "_view_module": "@jupyter-widgets/controls",
            "_view_module_version": "1.5.0",
            "_view_name": "HTMLView",
            "description": "",
            "description_tooltip": null,
            "layout": "IPY_MODEL_58d0982af373479c87dc376f59a4d260",
            "placeholder": "​",
            "style": "IPY_MODEL_c9e50628feb641d6bb95999a42ad3213",
            "value": " 49.0/49.0 [00:00&lt;00:00, 3.09kB/s]"
          }
        },
        "c7b8a8bc24f9419ba2da1a2c6b3768da": {
          "model_module": "@jupyter-widgets/base",
          "model_name": "LayoutModel",
          "model_module_version": "1.2.0",
          "state": {
            "_model_module": "@jupyter-widgets/base",
            "_model_module_version": "1.2.0",
            "_model_name": "LayoutModel",
            "_view_count": null,
            "_view_module": "@jupyter-widgets/base",
            "_view_module_version": "1.2.0",
            "_view_name": "LayoutView",
            "align_content": null,
            "align_items": null,
            "align_self": null,
            "border": null,
            "bottom": null,
            "display": null,
            "flex": null,
            "flex_flow": null,
            "grid_area": null,
            "grid_auto_columns": null,
            "grid_auto_flow": null,
            "grid_auto_rows": null,
            "grid_column": null,
            "grid_gap": null,
            "grid_row": null,
            "grid_template_areas": null,
            "grid_template_columns": null,
            "grid_template_rows": null,
            "height": null,
            "justify_content": null,
            "justify_items": null,
            "left": null,
            "margin": null,
            "max_height": null,
            "max_width": null,
            "min_height": null,
            "min_width": null,
            "object_fit": null,
            "object_position": null,
            "order": null,
            "overflow": null,
            "overflow_x": null,
            "overflow_y": null,
            "padding": null,
            "right": null,
            "top": null,
            "visibility": null,
            "width": null
          }
        },
        "17e57990a19f41b1b43ed687686fc3fb": {
          "model_module": "@jupyter-widgets/base",
          "model_name": "LayoutModel",
          "model_module_version": "1.2.0",
          "state": {
            "_model_module": "@jupyter-widgets/base",
            "_model_module_version": "1.2.0",
            "_model_name": "LayoutModel",
            "_view_count": null,
            "_view_module": "@jupyter-widgets/base",
            "_view_module_version": "1.2.0",
            "_view_name": "LayoutView",
            "align_content": null,
            "align_items": null,
            "align_self": null,
            "border": null,
            "bottom": null,
            "display": null,
            "flex": null,
            "flex_flow": null,
            "grid_area": null,
            "grid_auto_columns": null,
            "grid_auto_flow": null,
            "grid_auto_rows": null,
            "grid_column": null,
            "grid_gap": null,
            "grid_row": null,
            "grid_template_areas": null,
            "grid_template_columns": null,
            "grid_template_rows": null,
            "height": null,
            "justify_content": null,
            "justify_items": null,
            "left": null,
            "margin": null,
            "max_height": null,
            "max_width": null,
            "min_height": null,
            "min_width": null,
            "object_fit": null,
            "object_position": null,
            "order": null,
            "overflow": null,
            "overflow_x": null,
            "overflow_y": null,
            "padding": null,
            "right": null,
            "top": null,
            "visibility": null,
            "width": null
          }
        },
        "691ac7bb4bc44170a8ae378c92336410": {
          "model_module": "@jupyter-widgets/controls",
          "model_name": "DescriptionStyleModel",
          "model_module_version": "1.5.0",
          "state": {
            "_model_module": "@jupyter-widgets/controls",
            "_model_module_version": "1.5.0",
            "_model_name": "DescriptionStyleModel",
            "_view_count": null,
            "_view_module": "@jupyter-widgets/base",
            "_view_module_version": "1.2.0",
            "_view_name": "StyleView",
            "description_width": ""
          }
        },
        "af4b916b5ff64eecabd7dde9d8beb551": {
          "model_module": "@jupyter-widgets/base",
          "model_name": "LayoutModel",
          "model_module_version": "1.2.0",
          "state": {
            "_model_module": "@jupyter-widgets/base",
            "_model_module_version": "1.2.0",
            "_model_name": "LayoutModel",
            "_view_count": null,
            "_view_module": "@jupyter-widgets/base",
            "_view_module_version": "1.2.0",
            "_view_name": "LayoutView",
            "align_content": null,
            "align_items": null,
            "align_self": null,
            "border": null,
            "bottom": null,
            "display": null,
            "flex": null,
            "flex_flow": null,
            "grid_area": null,
            "grid_auto_columns": null,
            "grid_auto_flow": null,
            "grid_auto_rows": null,
            "grid_column": null,
            "grid_gap": null,
            "grid_row": null,
            "grid_template_areas": null,
            "grid_template_columns": null,
            "grid_template_rows": null,
            "height": null,
            "justify_content": null,
            "justify_items": null,
            "left": null,
            "margin": null,
            "max_height": null,
            "max_width": null,
            "min_height": null,
            "min_width": null,
            "object_fit": null,
            "object_position": null,
            "order": null,
            "overflow": null,
            "overflow_x": null,
            "overflow_y": null,
            "padding": null,
            "right": null,
            "top": null,
            "visibility": null,
            "width": null
          }
        },
        "fcf9fdcfc1c54d30af8bef3d2950dcce": {
          "model_module": "@jupyter-widgets/controls",
          "model_name": "ProgressStyleModel",
          "model_module_version": "1.5.0",
          "state": {
            "_model_module": "@jupyter-widgets/controls",
            "_model_module_version": "1.5.0",
            "_model_name": "ProgressStyleModel",
            "_view_count": null,
            "_view_module": "@jupyter-widgets/base",
            "_view_module_version": "1.2.0",
            "_view_name": "StyleView",
            "bar_color": null,
            "description_width": ""
          }
        },
        "58d0982af373479c87dc376f59a4d260": {
          "model_module": "@jupyter-widgets/base",
          "model_name": "LayoutModel",
          "model_module_version": "1.2.0",
          "state": {
            "_model_module": "@jupyter-widgets/base",
            "_model_module_version": "1.2.0",
            "_model_name": "LayoutModel",
            "_view_count": null,
            "_view_module": "@jupyter-widgets/base",
            "_view_module_version": "1.2.0",
            "_view_name": "LayoutView",
            "align_content": null,
            "align_items": null,
            "align_self": null,
            "border": null,
            "bottom": null,
            "display": null,
            "flex": null,
            "flex_flow": null,
            "grid_area": null,
            "grid_auto_columns": null,
            "grid_auto_flow": null,
            "grid_auto_rows": null,
            "grid_column": null,
            "grid_gap": null,
            "grid_row": null,
            "grid_template_areas": null,
            "grid_template_columns": null,
            "grid_template_rows": null,
            "height": null,
            "justify_content": null,
            "justify_items": null,
            "left": null,
            "margin": null,
            "max_height": null,
            "max_width": null,
            "min_height": null,
            "min_width": null,
            "object_fit": null,
            "object_position": null,
            "order": null,
            "overflow": null,
            "overflow_x": null,
            "overflow_y": null,
            "padding": null,
            "right": null,
            "top": null,
            "visibility": null,
            "width": null
          }
        },
        "c9e50628feb641d6bb95999a42ad3213": {
          "model_module": "@jupyter-widgets/controls",
          "model_name": "DescriptionStyleModel",
          "model_module_version": "1.5.0",
          "state": {
            "_model_module": "@jupyter-widgets/controls",
            "_model_module_version": "1.5.0",
            "_model_name": "DescriptionStyleModel",
            "_view_count": null,
            "_view_module": "@jupyter-widgets/base",
            "_view_module_version": "1.2.0",
            "_view_name": "StyleView",
            "description_width": ""
          }
        },
        "b414ca36fc334463af49852448377f17": {
          "model_module": "@jupyter-widgets/controls",
          "model_name": "HBoxModel",
          "model_module_version": "1.5.0",
          "state": {
            "_dom_classes": [],
            "_model_module": "@jupyter-widgets/controls",
            "_model_module_version": "1.5.0",
            "_model_name": "HBoxModel",
            "_view_count": null,
            "_view_module": "@jupyter-widgets/controls",
            "_view_module_version": "1.5.0",
            "_view_name": "HBoxView",
            "box_style": "",
            "children": [
              "IPY_MODEL_f725f7ac20164f6386fef8fbc94937cd",
              "IPY_MODEL_2719296e7bca40ba87d911a927134586",
              "IPY_MODEL_e7b8b833c46c4623a3fb4d6324e77b58"
            ],
            "layout": "IPY_MODEL_d68883662dd24102a497227705d1f5b7"
          }
        },
        "f725f7ac20164f6386fef8fbc94937cd": {
          "model_module": "@jupyter-widgets/controls",
          "model_name": "HTMLModel",
          "model_module_version": "1.5.0",
          "state": {
            "_dom_classes": [],
            "_model_module": "@jupyter-widgets/controls",
            "_model_module_version": "1.5.0",
            "_model_name": "HTMLModel",
            "_view_count": null,
            "_view_module": "@jupyter-widgets/controls",
            "_view_module_version": "1.5.0",
            "_view_name": "HTMLView",
            "description": "",
            "description_tooltip": null,
            "layout": "IPY_MODEL_e79c6d3d95e9470eafe7db06227bea79",
            "placeholder": "​",
            "style": "IPY_MODEL_8413e918b150451daa6b8bd51114bc28",
            "value": "vocab.txt: 100%"
          }
        },
        "2719296e7bca40ba87d911a927134586": {
          "model_module": "@jupyter-widgets/controls",
          "model_name": "FloatProgressModel",
          "model_module_version": "1.5.0",
          "state": {
            "_dom_classes": [],
            "_model_module": "@jupyter-widgets/controls",
            "_model_module_version": "1.5.0",
            "_model_name": "FloatProgressModel",
            "_view_count": null,
            "_view_module": "@jupyter-widgets/controls",
            "_view_module_version": "1.5.0",
            "_view_name": "ProgressView",
            "bar_style": "success",
            "description": "",
            "description_tooltip": null,
            "layout": "IPY_MODEL_37809a1097bf438ca7959b926cfdf80f",
            "max": 995526,
            "min": 0,
            "orientation": "horizontal",
            "style": "IPY_MODEL_062d6499e0b442619a94decff7ba8ddd",
            "value": 995526
          }
        },
        "e7b8b833c46c4623a3fb4d6324e77b58": {
          "model_module": "@jupyter-widgets/controls",
          "model_name": "HTMLModel",
          "model_module_version": "1.5.0",
          "state": {
            "_dom_classes": [],
            "_model_module": "@jupyter-widgets/controls",
            "_model_module_version": "1.5.0",
            "_model_name": "HTMLModel",
            "_view_count": null,
            "_view_module": "@jupyter-widgets/controls",
            "_view_module_version": "1.5.0",
            "_view_name": "HTMLView",
            "description": "",
            "description_tooltip": null,
            "layout": "IPY_MODEL_9c05daf26e2f469fba4bd9f715875adb",
            "placeholder": "​",
            "style": "IPY_MODEL_067468c186824de78bab74c81c3047ad",
            "value": " 996k/996k [00:00&lt;00:00, 4.94MB/s]"
          }
        },
        "d68883662dd24102a497227705d1f5b7": {
          "model_module": "@jupyter-widgets/base",
          "model_name": "LayoutModel",
          "model_module_version": "1.2.0",
          "state": {
            "_model_module": "@jupyter-widgets/base",
            "_model_module_version": "1.2.0",
            "_model_name": "LayoutModel",
            "_view_count": null,
            "_view_module": "@jupyter-widgets/base",
            "_view_module_version": "1.2.0",
            "_view_name": "LayoutView",
            "align_content": null,
            "align_items": null,
            "align_self": null,
            "border": null,
            "bottom": null,
            "display": null,
            "flex": null,
            "flex_flow": null,
            "grid_area": null,
            "grid_auto_columns": null,
            "grid_auto_flow": null,
            "grid_auto_rows": null,
            "grid_column": null,
            "grid_gap": null,
            "grid_row": null,
            "grid_template_areas": null,
            "grid_template_columns": null,
            "grid_template_rows": null,
            "height": null,
            "justify_content": null,
            "justify_items": null,
            "left": null,
            "margin": null,
            "max_height": null,
            "max_width": null,
            "min_height": null,
            "min_width": null,
            "object_fit": null,
            "object_position": null,
            "order": null,
            "overflow": null,
            "overflow_x": null,
            "overflow_y": null,
            "padding": null,
            "right": null,
            "top": null,
            "visibility": null,
            "width": null
          }
        },
        "e79c6d3d95e9470eafe7db06227bea79": {
          "model_module": "@jupyter-widgets/base",
          "model_name": "LayoutModel",
          "model_module_version": "1.2.0",
          "state": {
            "_model_module": "@jupyter-widgets/base",
            "_model_module_version": "1.2.0",
            "_model_name": "LayoutModel",
            "_view_count": null,
            "_view_module": "@jupyter-widgets/base",
            "_view_module_version": "1.2.0",
            "_view_name": "LayoutView",
            "align_content": null,
            "align_items": null,
            "align_self": null,
            "border": null,
            "bottom": null,
            "display": null,
            "flex": null,
            "flex_flow": null,
            "grid_area": null,
            "grid_auto_columns": null,
            "grid_auto_flow": null,
            "grid_auto_rows": null,
            "grid_column": null,
            "grid_gap": null,
            "grid_row": null,
            "grid_template_areas": null,
            "grid_template_columns": null,
            "grid_template_rows": null,
            "height": null,
            "justify_content": null,
            "justify_items": null,
            "left": null,
            "margin": null,
            "max_height": null,
            "max_width": null,
            "min_height": null,
            "min_width": null,
            "object_fit": null,
            "object_position": null,
            "order": null,
            "overflow": null,
            "overflow_x": null,
            "overflow_y": null,
            "padding": null,
            "right": null,
            "top": null,
            "visibility": null,
            "width": null
          }
        },
        "8413e918b150451daa6b8bd51114bc28": {
          "model_module": "@jupyter-widgets/controls",
          "model_name": "DescriptionStyleModel",
          "model_module_version": "1.5.0",
          "state": {
            "_model_module": "@jupyter-widgets/controls",
            "_model_module_version": "1.5.0",
            "_model_name": "DescriptionStyleModel",
            "_view_count": null,
            "_view_module": "@jupyter-widgets/base",
            "_view_module_version": "1.2.0",
            "_view_name": "StyleView",
            "description_width": ""
          }
        },
        "37809a1097bf438ca7959b926cfdf80f": {
          "model_module": "@jupyter-widgets/base",
          "model_name": "LayoutModel",
          "model_module_version": "1.2.0",
          "state": {
            "_model_module": "@jupyter-widgets/base",
            "_model_module_version": "1.2.0",
            "_model_name": "LayoutModel",
            "_view_count": null,
            "_view_module": "@jupyter-widgets/base",
            "_view_module_version": "1.2.0",
            "_view_name": "LayoutView",
            "align_content": null,
            "align_items": null,
            "align_self": null,
            "border": null,
            "bottom": null,
            "display": null,
            "flex": null,
            "flex_flow": null,
            "grid_area": null,
            "grid_auto_columns": null,
            "grid_auto_flow": null,
            "grid_auto_rows": null,
            "grid_column": null,
            "grid_gap": null,
            "grid_row": null,
            "grid_template_areas": null,
            "grid_template_columns": null,
            "grid_template_rows": null,
            "height": null,
            "justify_content": null,
            "justify_items": null,
            "left": null,
            "margin": null,
            "max_height": null,
            "max_width": null,
            "min_height": null,
            "min_width": null,
            "object_fit": null,
            "object_position": null,
            "order": null,
            "overflow": null,
            "overflow_x": null,
            "overflow_y": null,
            "padding": null,
            "right": null,
            "top": null,
            "visibility": null,
            "width": null
          }
        },
        "062d6499e0b442619a94decff7ba8ddd": {
          "model_module": "@jupyter-widgets/controls",
          "model_name": "ProgressStyleModel",
          "model_module_version": "1.5.0",
          "state": {
            "_model_module": "@jupyter-widgets/controls",
            "_model_module_version": "1.5.0",
            "_model_name": "ProgressStyleModel",
            "_view_count": null,
            "_view_module": "@jupyter-widgets/base",
            "_view_module_version": "1.2.0",
            "_view_name": "StyleView",
            "bar_color": null,
            "description_width": ""
          }
        },
        "9c05daf26e2f469fba4bd9f715875adb": {
          "model_module": "@jupyter-widgets/base",
          "model_name": "LayoutModel",
          "model_module_version": "1.2.0",
          "state": {
            "_model_module": "@jupyter-widgets/base",
            "_model_module_version": "1.2.0",
            "_model_name": "LayoutModel",
            "_view_count": null,
            "_view_module": "@jupyter-widgets/base",
            "_view_module_version": "1.2.0",
            "_view_name": "LayoutView",
            "align_content": null,
            "align_items": null,
            "align_self": null,
            "border": null,
            "bottom": null,
            "display": null,
            "flex": null,
            "flex_flow": null,
            "grid_area": null,
            "grid_auto_columns": null,
            "grid_auto_flow": null,
            "grid_auto_rows": null,
            "grid_column": null,
            "grid_gap": null,
            "grid_row": null,
            "grid_template_areas": null,
            "grid_template_columns": null,
            "grid_template_rows": null,
            "height": null,
            "justify_content": null,
            "justify_items": null,
            "left": null,
            "margin": null,
            "max_height": null,
            "max_width": null,
            "min_height": null,
            "min_width": null,
            "object_fit": null,
            "object_position": null,
            "order": null,
            "overflow": null,
            "overflow_x": null,
            "overflow_y": null,
            "padding": null,
            "right": null,
            "top": null,
            "visibility": null,
            "width": null
          }
        },
        "067468c186824de78bab74c81c3047ad": {
          "model_module": "@jupyter-widgets/controls",
          "model_name": "DescriptionStyleModel",
          "model_module_version": "1.5.0",
          "state": {
            "_model_module": "@jupyter-widgets/controls",
            "_model_module_version": "1.5.0",
            "_model_name": "DescriptionStyleModel",
            "_view_count": null,
            "_view_module": "@jupyter-widgets/base",
            "_view_module_version": "1.2.0",
            "_view_name": "StyleView",
            "description_width": ""
          }
        },
        "9deb16e396364779a2fa67667af27f19": {
          "model_module": "@jupyter-widgets/controls",
          "model_name": "HBoxModel",
          "model_module_version": "1.5.0",
          "state": {
            "_dom_classes": [],
            "_model_module": "@jupyter-widgets/controls",
            "_model_module_version": "1.5.0",
            "_model_name": "HBoxModel",
            "_view_count": null,
            "_view_module": "@jupyter-widgets/controls",
            "_view_module_version": "1.5.0",
            "_view_name": "HBoxView",
            "box_style": "",
            "children": [
              "IPY_MODEL_2e51b3bd8e904681896883e936644024",
              "IPY_MODEL_d2859e6f03f14bfeb91851f61efa740b",
              "IPY_MODEL_2e2b63a3241549dd98560dec5398e0d6"
            ],
            "layout": "IPY_MODEL_c4202a0e7a7146049f6472836117e2fe"
          }
        },
        "2e51b3bd8e904681896883e936644024": {
          "model_module": "@jupyter-widgets/controls",
          "model_name": "HTMLModel",
          "model_module_version": "1.5.0",
          "state": {
            "_dom_classes": [],
            "_model_module": "@jupyter-widgets/controls",
            "_model_module_version": "1.5.0",
            "_model_name": "HTMLModel",
            "_view_count": null,
            "_view_module": "@jupyter-widgets/controls",
            "_view_module_version": "1.5.0",
            "_view_name": "HTMLView",
            "description": "",
            "description_tooltip": null,
            "layout": "IPY_MODEL_fa3c5dcaac0740d29e69f754fefade84",
            "placeholder": "​",
            "style": "IPY_MODEL_3655ab348d4b4becb6603143a775a640",
            "value": "tokenizer.json: 100%"
          }
        },
        "d2859e6f03f14bfeb91851f61efa740b": {
          "model_module": "@jupyter-widgets/controls",
          "model_name": "FloatProgressModel",
          "model_module_version": "1.5.0",
          "state": {
            "_dom_classes": [],
            "_model_module": "@jupyter-widgets/controls",
            "_model_module_version": "1.5.0",
            "_model_name": "FloatProgressModel",
            "_view_count": null,
            "_view_module": "@jupyter-widgets/controls",
            "_view_module_version": "1.5.0",
            "_view_name": "ProgressView",
            "bar_style": "success",
            "description": "",
            "description_tooltip": null,
            "layout": "IPY_MODEL_6b716fd86f94415488709f0e05f1c6e7",
            "max": 1961828,
            "min": 0,
            "orientation": "horizontal",
            "style": "IPY_MODEL_df193e67950b4068bd5db8ac9cf398c8",
            "value": 1961828
          }
        },
        "2e2b63a3241549dd98560dec5398e0d6": {
          "model_module": "@jupyter-widgets/controls",
          "model_name": "HTMLModel",
          "model_module_version": "1.5.0",
          "state": {
            "_dom_classes": [],
            "_model_module": "@jupyter-widgets/controls",
            "_model_module_version": "1.5.0",
            "_model_name": "HTMLModel",
            "_view_count": null,
            "_view_module": "@jupyter-widgets/controls",
            "_view_module_version": "1.5.0",
            "_view_name": "HTMLView",
            "description": "",
            "description_tooltip": null,
            "layout": "IPY_MODEL_cc05539577014bd283f5900f74a997a9",
            "placeholder": "​",
            "style": "IPY_MODEL_e7c2030ee72d4399b23c023afccf25a5",
            "value": " 1.96M/1.96M [00:00&lt;00:00, 27.2MB/s]"
          }
        },
        "c4202a0e7a7146049f6472836117e2fe": {
          "model_module": "@jupyter-widgets/base",
          "model_name": "LayoutModel",
          "model_module_version": "1.2.0",
          "state": {
            "_model_module": "@jupyter-widgets/base",
            "_model_module_version": "1.2.0",
            "_model_name": "LayoutModel",
            "_view_count": null,
            "_view_module": "@jupyter-widgets/base",
            "_view_module_version": "1.2.0",
            "_view_name": "LayoutView",
            "align_content": null,
            "align_items": null,
            "align_self": null,
            "border": null,
            "bottom": null,
            "display": null,
            "flex": null,
            "flex_flow": null,
            "grid_area": null,
            "grid_auto_columns": null,
            "grid_auto_flow": null,
            "grid_auto_rows": null,
            "grid_column": null,
            "grid_gap": null,
            "grid_row": null,
            "grid_template_areas": null,
            "grid_template_columns": null,
            "grid_template_rows": null,
            "height": null,
            "justify_content": null,
            "justify_items": null,
            "left": null,
            "margin": null,
            "max_height": null,
            "max_width": null,
            "min_height": null,
            "min_width": null,
            "object_fit": null,
            "object_position": null,
            "order": null,
            "overflow": null,
            "overflow_x": null,
            "overflow_y": null,
            "padding": null,
            "right": null,
            "top": null,
            "visibility": null,
            "width": null
          }
        },
        "fa3c5dcaac0740d29e69f754fefade84": {
          "model_module": "@jupyter-widgets/base",
          "model_name": "LayoutModel",
          "model_module_version": "1.2.0",
          "state": {
            "_model_module": "@jupyter-widgets/base",
            "_model_module_version": "1.2.0",
            "_model_name": "LayoutModel",
            "_view_count": null,
            "_view_module": "@jupyter-widgets/base",
            "_view_module_version": "1.2.0",
            "_view_name": "LayoutView",
            "align_content": null,
            "align_items": null,
            "align_self": null,
            "border": null,
            "bottom": null,
            "display": null,
            "flex": null,
            "flex_flow": null,
            "grid_area": null,
            "grid_auto_columns": null,
            "grid_auto_flow": null,
            "grid_auto_rows": null,
            "grid_column": null,
            "grid_gap": null,
            "grid_row": null,
            "grid_template_areas": null,
            "grid_template_columns": null,
            "grid_template_rows": null,
            "height": null,
            "justify_content": null,
            "justify_items": null,
            "left": null,
            "margin": null,
            "max_height": null,
            "max_width": null,
            "min_height": null,
            "min_width": null,
            "object_fit": null,
            "object_position": null,
            "order": null,
            "overflow": null,
            "overflow_x": null,
            "overflow_y": null,
            "padding": null,
            "right": null,
            "top": null,
            "visibility": null,
            "width": null
          }
        },
        "3655ab348d4b4becb6603143a775a640": {
          "model_module": "@jupyter-widgets/controls",
          "model_name": "DescriptionStyleModel",
          "model_module_version": "1.5.0",
          "state": {
            "_model_module": "@jupyter-widgets/controls",
            "_model_module_version": "1.5.0",
            "_model_name": "DescriptionStyleModel",
            "_view_count": null,
            "_view_module": "@jupyter-widgets/base",
            "_view_module_version": "1.2.0",
            "_view_name": "StyleView",
            "description_width": ""
          }
        },
        "6b716fd86f94415488709f0e05f1c6e7": {
          "model_module": "@jupyter-widgets/base",
          "model_name": "LayoutModel",
          "model_module_version": "1.2.0",
          "state": {
            "_model_module": "@jupyter-widgets/base",
            "_model_module_version": "1.2.0",
            "_model_name": "LayoutModel",
            "_view_count": null,
            "_view_module": "@jupyter-widgets/base",
            "_view_module_version": "1.2.0",
            "_view_name": "LayoutView",
            "align_content": null,
            "align_items": null,
            "align_self": null,
            "border": null,
            "bottom": null,
            "display": null,
            "flex": null,
            "flex_flow": null,
            "grid_area": null,
            "grid_auto_columns": null,
            "grid_auto_flow": null,
            "grid_auto_rows": null,
            "grid_column": null,
            "grid_gap": null,
            "grid_row": null,
            "grid_template_areas": null,
            "grid_template_columns": null,
            "grid_template_rows": null,
            "height": null,
            "justify_content": null,
            "justify_items": null,
            "left": null,
            "margin": null,
            "max_height": null,
            "max_width": null,
            "min_height": null,
            "min_width": null,
            "object_fit": null,
            "object_position": null,
            "order": null,
            "overflow": null,
            "overflow_x": null,
            "overflow_y": null,
            "padding": null,
            "right": null,
            "top": null,
            "visibility": null,
            "width": null
          }
        },
        "df193e67950b4068bd5db8ac9cf398c8": {
          "model_module": "@jupyter-widgets/controls",
          "model_name": "ProgressStyleModel",
          "model_module_version": "1.5.0",
          "state": {
            "_model_module": "@jupyter-widgets/controls",
            "_model_module_version": "1.5.0",
            "_model_name": "ProgressStyleModel",
            "_view_count": null,
            "_view_module": "@jupyter-widgets/base",
            "_view_module_version": "1.2.0",
            "_view_name": "StyleView",
            "bar_color": null,
            "description_width": ""
          }
        },
        "cc05539577014bd283f5900f74a997a9": {
          "model_module": "@jupyter-widgets/base",
          "model_name": "LayoutModel",
          "model_module_version": "1.2.0",
          "state": {
            "_model_module": "@jupyter-widgets/base",
            "_model_module_version": "1.2.0",
            "_model_name": "LayoutModel",
            "_view_count": null,
            "_view_module": "@jupyter-widgets/base",
            "_view_module_version": "1.2.0",
            "_view_name": "LayoutView",
            "align_content": null,
            "align_items": null,
            "align_self": null,
            "border": null,
            "bottom": null,
            "display": null,
            "flex": null,
            "flex_flow": null,
            "grid_area": null,
            "grid_auto_columns": null,
            "grid_auto_flow": null,
            "grid_auto_rows": null,
            "grid_column": null,
            "grid_gap": null,
            "grid_row": null,
            "grid_template_areas": null,
            "grid_template_columns": null,
            "grid_template_rows": null,
            "height": null,
            "justify_content": null,
            "justify_items": null,
            "left": null,
            "margin": null,
            "max_height": null,
            "max_width": null,
            "min_height": null,
            "min_width": null,
            "object_fit": null,
            "object_position": null,
            "order": null,
            "overflow": null,
            "overflow_x": null,
            "overflow_y": null,
            "padding": null,
            "right": null,
            "top": null,
            "visibility": null,
            "width": null
          }
        },
        "e7c2030ee72d4399b23c023afccf25a5": {
          "model_module": "@jupyter-widgets/controls",
          "model_name": "DescriptionStyleModel",
          "model_module_version": "1.5.0",
          "state": {
            "_model_module": "@jupyter-widgets/controls",
            "_model_module_version": "1.5.0",
            "_model_name": "DescriptionStyleModel",
            "_view_count": null,
            "_view_module": "@jupyter-widgets/base",
            "_view_module_version": "1.2.0",
            "_view_name": "StyleView",
            "description_width": ""
          }
        },
        "273e4a514c934765b250b74b01121a06": {
          "model_module": "@jupyter-widgets/controls",
          "model_name": "HBoxModel",
          "model_module_version": "1.5.0",
          "state": {
            "_dom_classes": [],
            "_model_module": "@jupyter-widgets/controls",
            "_model_module_version": "1.5.0",
            "_model_name": "HBoxModel",
            "_view_count": null,
            "_view_module": "@jupyter-widgets/controls",
            "_view_module_version": "1.5.0",
            "_view_name": "HBoxView",
            "box_style": "",
            "children": [
              "IPY_MODEL_1aad9f54ed714cd79b542e2f353a7314",
              "IPY_MODEL_ec05a34b83064e4aa49f5dd985662225",
              "IPY_MODEL_8bd91be3907d4771aa833044f6d7c542"
            ],
            "layout": "IPY_MODEL_94ef41721b574b3aa0e470d50d6da17f"
          }
        },
        "1aad9f54ed714cd79b542e2f353a7314": {
          "model_module": "@jupyter-widgets/controls",
          "model_name": "HTMLModel",
          "model_module_version": "1.5.0",
          "state": {
            "_dom_classes": [],
            "_model_module": "@jupyter-widgets/controls",
            "_model_module_version": "1.5.0",
            "_model_name": "HTMLModel",
            "_view_count": null,
            "_view_module": "@jupyter-widgets/controls",
            "_view_module_version": "1.5.0",
            "_view_name": "HTMLView",
            "description": "",
            "description_tooltip": null,
            "layout": "IPY_MODEL_49b2a6efb6674f31978cb9029e6e8a8f",
            "placeholder": "​",
            "style": "IPY_MODEL_5d6de586baa0483a80fe01df3dafee06",
            "value": "config.json: 100%"
          }
        },
        "ec05a34b83064e4aa49f5dd985662225": {
          "model_module": "@jupyter-widgets/controls",
          "model_name": "FloatProgressModel",
          "model_module_version": "1.5.0",
          "state": {
            "_dom_classes": [],
            "_model_module": "@jupyter-widgets/controls",
            "_model_module_version": "1.5.0",
            "_model_name": "FloatProgressModel",
            "_view_count": null,
            "_view_module": "@jupyter-widgets/controls",
            "_view_module_version": "1.5.0",
            "_view_name": "ProgressView",
            "bar_style": "success",
            "description": "",
            "description_tooltip": null,
            "layout": "IPY_MODEL_404b94477a9a4dd0bdc5a63bd067718c",
            "max": 625,
            "min": 0,
            "orientation": "horizontal",
            "style": "IPY_MODEL_3f34437ae326448289f491c96f57e779",
            "value": 625
          }
        },
        "8bd91be3907d4771aa833044f6d7c542": {
          "model_module": "@jupyter-widgets/controls",
          "model_name": "HTMLModel",
          "model_module_version": "1.5.0",
          "state": {
            "_dom_classes": [],
            "_model_module": "@jupyter-widgets/controls",
            "_model_module_version": "1.5.0",
            "_model_name": "HTMLModel",
            "_view_count": null,
            "_view_module": "@jupyter-widgets/controls",
            "_view_module_version": "1.5.0",
            "_view_name": "HTMLView",
            "description": "",
            "description_tooltip": null,
            "layout": "IPY_MODEL_533773d729604fae9cce00c77306102c",
            "placeholder": "​",
            "style": "IPY_MODEL_b6e38db655674566b92379206025dcee",
            "value": " 625/625 [00:00&lt;00:00, 28.5kB/s]"
          }
        },
        "94ef41721b574b3aa0e470d50d6da17f": {
          "model_module": "@jupyter-widgets/base",
          "model_name": "LayoutModel",
          "model_module_version": "1.2.0",
          "state": {
            "_model_module": "@jupyter-widgets/base",
            "_model_module_version": "1.2.0",
            "_model_name": "LayoutModel",
            "_view_count": null,
            "_view_module": "@jupyter-widgets/base",
            "_view_module_version": "1.2.0",
            "_view_name": "LayoutView",
            "align_content": null,
            "align_items": null,
            "align_self": null,
            "border": null,
            "bottom": null,
            "display": null,
            "flex": null,
            "flex_flow": null,
            "grid_area": null,
            "grid_auto_columns": null,
            "grid_auto_flow": null,
            "grid_auto_rows": null,
            "grid_column": null,
            "grid_gap": null,
            "grid_row": null,
            "grid_template_areas": null,
            "grid_template_columns": null,
            "grid_template_rows": null,
            "height": null,
            "justify_content": null,
            "justify_items": null,
            "left": null,
            "margin": null,
            "max_height": null,
            "max_width": null,
            "min_height": null,
            "min_width": null,
            "object_fit": null,
            "object_position": null,
            "order": null,
            "overflow": null,
            "overflow_x": null,
            "overflow_y": null,
            "padding": null,
            "right": null,
            "top": null,
            "visibility": null,
            "width": null
          }
        },
        "49b2a6efb6674f31978cb9029e6e8a8f": {
          "model_module": "@jupyter-widgets/base",
          "model_name": "LayoutModel",
          "model_module_version": "1.2.0",
          "state": {
            "_model_module": "@jupyter-widgets/base",
            "_model_module_version": "1.2.0",
            "_model_name": "LayoutModel",
            "_view_count": null,
            "_view_module": "@jupyter-widgets/base",
            "_view_module_version": "1.2.0",
            "_view_name": "LayoutView",
            "align_content": null,
            "align_items": null,
            "align_self": null,
            "border": null,
            "bottom": null,
            "display": null,
            "flex": null,
            "flex_flow": null,
            "grid_area": null,
            "grid_auto_columns": null,
            "grid_auto_flow": null,
            "grid_auto_rows": null,
            "grid_column": null,
            "grid_gap": null,
            "grid_row": null,
            "grid_template_areas": null,
            "grid_template_columns": null,
            "grid_template_rows": null,
            "height": null,
            "justify_content": null,
            "justify_items": null,
            "left": null,
            "margin": null,
            "max_height": null,
            "max_width": null,
            "min_height": null,
            "min_width": null,
            "object_fit": null,
            "object_position": null,
            "order": null,
            "overflow": null,
            "overflow_x": null,
            "overflow_y": null,
            "padding": null,
            "right": null,
            "top": null,
            "visibility": null,
            "width": null
          }
        },
        "5d6de586baa0483a80fe01df3dafee06": {
          "model_module": "@jupyter-widgets/controls",
          "model_name": "DescriptionStyleModel",
          "model_module_version": "1.5.0",
          "state": {
            "_model_module": "@jupyter-widgets/controls",
            "_model_module_version": "1.5.0",
            "_model_name": "DescriptionStyleModel",
            "_view_count": null,
            "_view_module": "@jupyter-widgets/base",
            "_view_module_version": "1.2.0",
            "_view_name": "StyleView",
            "description_width": ""
          }
        },
        "404b94477a9a4dd0bdc5a63bd067718c": {
          "model_module": "@jupyter-widgets/base",
          "model_name": "LayoutModel",
          "model_module_version": "1.2.0",
          "state": {
            "_model_module": "@jupyter-widgets/base",
            "_model_module_version": "1.2.0",
            "_model_name": "LayoutModel",
            "_view_count": null,
            "_view_module": "@jupyter-widgets/base",
            "_view_module_version": "1.2.0",
            "_view_name": "LayoutView",
            "align_content": null,
            "align_items": null,
            "align_self": null,
            "border": null,
            "bottom": null,
            "display": null,
            "flex": null,
            "flex_flow": null,
            "grid_area": null,
            "grid_auto_columns": null,
            "grid_auto_flow": null,
            "grid_auto_rows": null,
            "grid_column": null,
            "grid_gap": null,
            "grid_row": null,
            "grid_template_areas": null,
            "grid_template_columns": null,
            "grid_template_rows": null,
            "height": null,
            "justify_content": null,
            "justify_items": null,
            "left": null,
            "margin": null,
            "max_height": null,
            "max_width": null,
            "min_height": null,
            "min_width": null,
            "object_fit": null,
            "object_position": null,
            "order": null,
            "overflow": null,
            "overflow_x": null,
            "overflow_y": null,
            "padding": null,
            "right": null,
            "top": null,
            "visibility": null,
            "width": null
          }
        },
        "3f34437ae326448289f491c96f57e779": {
          "model_module": "@jupyter-widgets/controls",
          "model_name": "ProgressStyleModel",
          "model_module_version": "1.5.0",
          "state": {
            "_model_module": "@jupyter-widgets/controls",
            "_model_module_version": "1.5.0",
            "_model_name": "ProgressStyleModel",
            "_view_count": null,
            "_view_module": "@jupyter-widgets/base",
            "_view_module_version": "1.2.0",
            "_view_name": "StyleView",
            "bar_color": null,
            "description_width": ""
          }
        },
        "533773d729604fae9cce00c77306102c": {
          "model_module": "@jupyter-widgets/base",
          "model_name": "LayoutModel",
          "model_module_version": "1.2.0",
          "state": {
            "_model_module": "@jupyter-widgets/base",
            "_model_module_version": "1.2.0",
            "_model_name": "LayoutModel",
            "_view_count": null,
            "_view_module": "@jupyter-widgets/base",
            "_view_module_version": "1.2.0",
            "_view_name": "LayoutView",
            "align_content": null,
            "align_items": null,
            "align_self": null,
            "border": null,
            "bottom": null,
            "display": null,
            "flex": null,
            "flex_flow": null,
            "grid_area": null,
            "grid_auto_columns": null,
            "grid_auto_flow": null,
            "grid_auto_rows": null,
            "grid_column": null,
            "grid_gap": null,
            "grid_row": null,
            "grid_template_areas": null,
            "grid_template_columns": null,
            "grid_template_rows": null,
            "height": null,
            "justify_content": null,
            "justify_items": null,
            "left": null,
            "margin": null,
            "max_height": null,
            "max_width": null,
            "min_height": null,
            "min_width": null,
            "object_fit": null,
            "object_position": null,
            "order": null,
            "overflow": null,
            "overflow_x": null,
            "overflow_y": null,
            "padding": null,
            "right": null,
            "top": null,
            "visibility": null,
            "width": null
          }
        },
        "b6e38db655674566b92379206025dcee": {
          "model_module": "@jupyter-widgets/controls",
          "model_name": "DescriptionStyleModel",
          "model_module_version": "1.5.0",
          "state": {
            "_model_module": "@jupyter-widgets/controls",
            "_model_module_version": "1.5.0",
            "_model_name": "DescriptionStyleModel",
            "_view_count": null,
            "_view_module": "@jupyter-widgets/base",
            "_view_module_version": "1.2.0",
            "_view_name": "StyleView",
            "description_width": ""
          }
        },
        "e9f0360efd3149dab1cffdeaee573702": {
          "model_module": "@jupyter-widgets/controls",
          "model_name": "HBoxModel",
          "model_module_version": "1.5.0",
          "state": {
            "_dom_classes": [],
            "_model_module": "@jupyter-widgets/controls",
            "_model_module_version": "1.5.0",
            "_model_name": "HBoxModel",
            "_view_count": null,
            "_view_module": "@jupyter-widgets/controls",
            "_view_module_version": "1.5.0",
            "_view_name": "HBoxView",
            "box_style": "",
            "children": [
              "IPY_MODEL_532cbb72e03b4236a64041732a49d456",
              "IPY_MODEL_320f013789c043af885c602305d2b39c",
              "IPY_MODEL_e3d7fb94ffd34c5e9bafba0bd7df4ff5"
            ],
            "layout": "IPY_MODEL_9f02bfe0c15048b8901f6d3683baf0e0"
          }
        },
        "532cbb72e03b4236a64041732a49d456": {
          "model_module": "@jupyter-widgets/controls",
          "model_name": "HTMLModel",
          "model_module_version": "1.5.0",
          "state": {
            "_dom_classes": [],
            "_model_module": "@jupyter-widgets/controls",
            "_model_module_version": "1.5.0",
            "_model_name": "HTMLModel",
            "_view_count": null,
            "_view_module": "@jupyter-widgets/controls",
            "_view_module_version": "1.5.0",
            "_view_name": "HTMLView",
            "description": "",
            "description_tooltip": null,
            "layout": "IPY_MODEL_b0d615b9436f46a094bae14cf2d7ca9f",
            "placeholder": "​",
            "style": "IPY_MODEL_ac6aeb852cc042b39cf526032b095c17",
            "value": "model.safetensors: 100%"
          }
        },
        "320f013789c043af885c602305d2b39c": {
          "model_module": "@jupyter-widgets/controls",
          "model_name": "FloatProgressModel",
          "model_module_version": "1.5.0",
          "state": {
            "_dom_classes": [],
            "_model_module": "@jupyter-widgets/controls",
            "_model_module_version": "1.5.0",
            "_model_name": "FloatProgressModel",
            "_view_count": null,
            "_view_module": "@jupyter-widgets/controls",
            "_view_module_version": "1.5.0",
            "_view_name": "ProgressView",
            "bar_style": "success",
            "description": "",
            "description_tooltip": null,
            "layout": "IPY_MODEL_0539679017f64f24ac998699436e0ff1",
            "max": 714290682,
            "min": 0,
            "orientation": "horizontal",
            "style": "IPY_MODEL_213153bd78574996a32790fb2398e76b",
            "value": 714290682
          }
        },
        "e3d7fb94ffd34c5e9bafba0bd7df4ff5": {
          "model_module": "@jupyter-widgets/controls",
          "model_name": "HTMLModel",
          "model_module_version": "1.5.0",
          "state": {
            "_dom_classes": [],
            "_model_module": "@jupyter-widgets/controls",
            "_model_module_version": "1.5.0",
            "_model_name": "HTMLModel",
            "_view_count": null,
            "_view_module": "@jupyter-widgets/controls",
            "_view_module_version": "1.5.0",
            "_view_name": "HTMLView",
            "description": "",
            "description_tooltip": null,
            "layout": "IPY_MODEL_082c13d92bcb43dc83401738a7e7a3c9",
            "placeholder": "​",
            "style": "IPY_MODEL_415fcc8aa7b64483a5d4f475e5ac3a2f",
            "value": " 714M/714M [00:03&lt;00:00, 206MB/s]"
          }
        },
        "9f02bfe0c15048b8901f6d3683baf0e0": {
          "model_module": "@jupyter-widgets/base",
          "model_name": "LayoutModel",
          "model_module_version": "1.2.0",
          "state": {
            "_model_module": "@jupyter-widgets/base",
            "_model_module_version": "1.2.0",
            "_model_name": "LayoutModel",
            "_view_count": null,
            "_view_module": "@jupyter-widgets/base",
            "_view_module_version": "1.2.0",
            "_view_name": "LayoutView",
            "align_content": null,
            "align_items": null,
            "align_self": null,
            "border": null,
            "bottom": null,
            "display": null,
            "flex": null,
            "flex_flow": null,
            "grid_area": null,
            "grid_auto_columns": null,
            "grid_auto_flow": null,
            "grid_auto_rows": null,
            "grid_column": null,
            "grid_gap": null,
            "grid_row": null,
            "grid_template_areas": null,
            "grid_template_columns": null,
            "grid_template_rows": null,
            "height": null,
            "justify_content": null,
            "justify_items": null,
            "left": null,
            "margin": null,
            "max_height": null,
            "max_width": null,
            "min_height": null,
            "min_width": null,
            "object_fit": null,
            "object_position": null,
            "order": null,
            "overflow": null,
            "overflow_x": null,
            "overflow_y": null,
            "padding": null,
            "right": null,
            "top": null,
            "visibility": null,
            "width": null
          }
        },
        "b0d615b9436f46a094bae14cf2d7ca9f": {
          "model_module": "@jupyter-widgets/base",
          "model_name": "LayoutModel",
          "model_module_version": "1.2.0",
          "state": {
            "_model_module": "@jupyter-widgets/base",
            "_model_module_version": "1.2.0",
            "_model_name": "LayoutModel",
            "_view_count": null,
            "_view_module": "@jupyter-widgets/base",
            "_view_module_version": "1.2.0",
            "_view_name": "LayoutView",
            "align_content": null,
            "align_items": null,
            "align_self": null,
            "border": null,
            "bottom": null,
            "display": null,
            "flex": null,
            "flex_flow": null,
            "grid_area": null,
            "grid_auto_columns": null,
            "grid_auto_flow": null,
            "grid_auto_rows": null,
            "grid_column": null,
            "grid_gap": null,
            "grid_row": null,
            "grid_template_areas": null,
            "grid_template_columns": null,
            "grid_template_rows": null,
            "height": null,
            "justify_content": null,
            "justify_items": null,
            "left": null,
            "margin": null,
            "max_height": null,
            "max_width": null,
            "min_height": null,
            "min_width": null,
            "object_fit": null,
            "object_position": null,
            "order": null,
            "overflow": null,
            "overflow_x": null,
            "overflow_y": null,
            "padding": null,
            "right": null,
            "top": null,
            "visibility": null,
            "width": null
          }
        },
        "ac6aeb852cc042b39cf526032b095c17": {
          "model_module": "@jupyter-widgets/controls",
          "model_name": "DescriptionStyleModel",
          "model_module_version": "1.5.0",
          "state": {
            "_model_module": "@jupyter-widgets/controls",
            "_model_module_version": "1.5.0",
            "_model_name": "DescriptionStyleModel",
            "_view_count": null,
            "_view_module": "@jupyter-widgets/base",
            "_view_module_version": "1.2.0",
            "_view_name": "StyleView",
            "description_width": ""
          }
        },
        "0539679017f64f24ac998699436e0ff1": {
          "model_module": "@jupyter-widgets/base",
          "model_name": "LayoutModel",
          "model_module_version": "1.2.0",
          "state": {
            "_model_module": "@jupyter-widgets/base",
            "_model_module_version": "1.2.0",
            "_model_name": "LayoutModel",
            "_view_count": null,
            "_view_module": "@jupyter-widgets/base",
            "_view_module_version": "1.2.0",
            "_view_name": "LayoutView",
            "align_content": null,
            "align_items": null,
            "align_self": null,
            "border": null,
            "bottom": null,
            "display": null,
            "flex": null,
            "flex_flow": null,
            "grid_area": null,
            "grid_auto_columns": null,
            "grid_auto_flow": null,
            "grid_auto_rows": null,
            "grid_column": null,
            "grid_gap": null,
            "grid_row": null,
            "grid_template_areas": null,
            "grid_template_columns": null,
            "grid_template_rows": null,
            "height": null,
            "justify_content": null,
            "justify_items": null,
            "left": null,
            "margin": null,
            "max_height": null,
            "max_width": null,
            "min_height": null,
            "min_width": null,
            "object_fit": null,
            "object_position": null,
            "order": null,
            "overflow": null,
            "overflow_x": null,
            "overflow_y": null,
            "padding": null,
            "right": null,
            "top": null,
            "visibility": null,
            "width": null
          }
        },
        "213153bd78574996a32790fb2398e76b": {
          "model_module": "@jupyter-widgets/controls",
          "model_name": "ProgressStyleModel",
          "model_module_version": "1.5.0",
          "state": {
            "_model_module": "@jupyter-widgets/controls",
            "_model_module_version": "1.5.0",
            "_model_name": "ProgressStyleModel",
            "_view_count": null,
            "_view_module": "@jupyter-widgets/base",
            "_view_module_version": "1.2.0",
            "_view_name": "StyleView",
            "bar_color": null,
            "description_width": ""
          }
        },
        "082c13d92bcb43dc83401738a7e7a3c9": {
          "model_module": "@jupyter-widgets/base",
          "model_name": "LayoutModel",
          "model_module_version": "1.2.0",
          "state": {
            "_model_module": "@jupyter-widgets/base",
            "_model_module_version": "1.2.0",
            "_model_name": "LayoutModel",
            "_view_count": null,
            "_view_module": "@jupyter-widgets/base",
            "_view_module_version": "1.2.0",
            "_view_name": "LayoutView",
            "align_content": null,
            "align_items": null,
            "align_self": null,
            "border": null,
            "bottom": null,
            "display": null,
            "flex": null,
            "flex_flow": null,
            "grid_area": null,
            "grid_auto_columns": null,
            "grid_auto_flow": null,
            "grid_auto_rows": null,
            "grid_column": null,
            "grid_gap": null,
            "grid_row": null,
            "grid_template_areas": null,
            "grid_template_columns": null,
            "grid_template_rows": null,
            "height": null,
            "justify_content": null,
            "justify_items": null,
            "left": null,
            "margin": null,
            "max_height": null,
            "max_width": null,
            "min_height": null,
            "min_width": null,
            "object_fit": null,
            "object_position": null,
            "order": null,
            "overflow": null,
            "overflow_x": null,
            "overflow_y": null,
            "padding": null,
            "right": null,
            "top": null,
            "visibility": null,
            "width": null
          }
        },
        "415fcc8aa7b64483a5d4f475e5ac3a2f": {
          "model_module": "@jupyter-widgets/controls",
          "model_name": "DescriptionStyleModel",
          "model_module_version": "1.5.0",
          "state": {
            "_model_module": "@jupyter-widgets/controls",
            "_model_module_version": "1.5.0",
            "_model_name": "DescriptionStyleModel",
            "_view_count": null,
            "_view_module": "@jupyter-widgets/base",
            "_view_module_version": "1.2.0",
            "_view_name": "StyleView",
            "description_width": ""
          }
        }
      }
    }
  },
  "nbformat": 4,
  "nbformat_minor": 0
}