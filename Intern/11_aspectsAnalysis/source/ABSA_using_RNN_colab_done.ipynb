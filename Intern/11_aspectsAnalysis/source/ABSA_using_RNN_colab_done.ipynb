{
  "cells": [
    {
      "cell_type": "code",
      "execution_count": null,
      "metadata": {
        "colab": {
          "base_uri": "https://localhost:8080/",
          "height": 36
        },
        "id": "Fs-PYV89J34R",
        "outputId": "76980bcc-f8e8-438c-aa34-b526629914b0"
      },
      "outputs": [
        {
          "data": {
            "application/vnd.google.colaboratory.intrinsic+json": {
              "type": "string"
            },
            "text/plain": [
              "'\\nAuthor: Ngo Van Uc\\nDate: \\nContact: ngovanuc.1508@gmail.com\\n'"
            ]
          },
          "execution_count": 1,
          "metadata": {},
          "output_type": "execute_result"
        }
      ],
      "source": [
        "\"\"\"\n",
        "Author: Ngo Van Uc\n",
        "Date:\n",
        "Contact: ngovanuc.1508@gmail.com\n",
        "\"\"\""
      ]
    },
    {
      "cell_type": "code",
      "execution_count": null,
      "metadata": {
        "colab": {
          "base_uri": "https://localhost:8080/"
        },
        "id": "B29OPOTrKAT8",
        "outputId": "a7b38f86-a5e6-4008-a689-36de4e8f59ec"
      },
      "outputs": [
        {
          "name": "stdout",
          "output_type": "stream",
          "text": [
            "Mounted at /content/MyDrive\n"
          ]
        }
      ],
      "source": [
        "from google.colab import drive\n",
        "drive.mount('/content/MyDrive')"
      ]
    },
    {
      "cell_type": "code",
      "execution_count": null,
      "metadata": {
        "id": "h0rlh-_6J34U"
      },
      "outputs": [],
      "source": [
        "import warnings\n",
        "warnings.filterwarnings('ignore')\n",
        "from IPython.display import clear_output\n",
        "\n",
        "import pandas as pd\n",
        "import numpy as np\n",
        "\n",
        "from sklearn.metrics import accuracy_score\n",
        "from sklearn.metrics import f1_score\n",
        "from sklearn.metrics import precision_score\n",
        "from sklearn.metrics import recall_score"
      ]
    },
    {
      "cell_type": "markdown",
      "metadata": {
        "id": "lXiADRuSJ34U"
      },
      "source": [
        "# 01. Preprocessing"
      ]
    },
    {
      "cell_type": "code",
      "execution_count": null,
      "metadata": {
        "colab": {
          "base_uri": "https://localhost:8080/",
          "height": 206
        },
        "id": "6nzPvHRWJ34V",
        "outputId": "adb2e9d2-4b4e-4ce8-c3fb-a4829310c827"
      },
      "outputs": [
        {
          "data": {
            "application/vnd.google.colaboratory.intrinsic+json": {
              "summary": "{\n  \"name\": \"train_data\",\n  \"rows\": 7786,\n  \"fields\": [\n    {\n      \"column\": \"index\",\n      \"properties\": {\n        \"dtype\": \"number\",\n        \"std\": 2247,\n        \"min\": 0,\n        \"max\": 7785,\n        \"num_unique_values\": 7786,\n        \"samples\": [\n          7324,\n          4694,\n          1322\n        ],\n        \"semantic_type\": \"\",\n        \"description\": \"\"\n      }\n    },\n    {\n      \"column\": \"comment\",\n      \"properties\": {\n        \"dtype\": \"string\",\n        \"num_unique_values\": 7786,\n        \"samples\": [\n          \"L\\u1ea5y m\\u00e1y v\\u1ec1 2 ng\\u00e0y b\\u1ecb l\\u1ed7i v\\u00e2n tay. Nh\\u1eadn di\\u1ec7n khu\\u00f4n m\\u1eb7t c\\u0169ng ch\\u1eadm. Kh\\u00f4ng \\u0111\\u00e1ng gi\\u00e1 ti\\u1ec1n t\\u00ed n\\u00e0o. Ch\\u00e1n\\ud83d\\ude1f\",\n          \"M\\u00e1y qu\\u00e1 \\u0111\\u1eb9p..h\\u01a1n h\\u1eb3n mong \\u0111\\u1ee3i..ch\\u1ec9 l\\u00e0 gi\\u1edd ch\\u01b0a c\\u00f3 \\u1ed1p l\\u01b0ng hay c\\u01b0\\u1eddng l\\u1ef1c.. mong b\\u00ean si\\u00eau th\\u1ecb nh\\u1eadp v\\u1ec1 s\\u1edbm l\\u00e0 ok\",\n          \"M\\u1edbi nh\\u1eadn l\\u00fac s\\u00e1ng, s\\u1ea1c c\\u00f3 v\\u1ebb l\\u00e2u h\\u01a1n vs oppo f11pro s\\u1ea1c c\\u00f9ng l\\u00fac v\\u00e0 c\\u00f9ng l\\u01b0\\u1ee3ng pin...nh\\u01b0ng khi oppo f11 \\u0111c 50% th\\u00ec \\u0111t mik m\\u1edbi \\u0111c 33% th\\u00f4i\"\n        ],\n        \"semantic_type\": \"\",\n        \"description\": \"\"\n      }\n    },\n    {\n      \"column\": \"n_star\",\n      \"properties\": {\n        \"dtype\": \"number\",\n        \"std\": 1,\n        \"min\": 1,\n        \"max\": 5,\n        \"num_unique_values\": 5,\n        \"samples\": [\n          3,\n          4,\n          1\n        ],\n        \"semantic_type\": \"\",\n        \"description\": \"\"\n      }\n    },\n    {\n      \"column\": \"date_time\",\n      \"properties\": {\n        \"dtype\": \"category\",\n        \"num_unique_values\": 756,\n        \"samples\": [\n          \"15/11/2019\",\n          \"5/5/2020\",\n          \"24/10/2017\"\n        ],\n        \"semantic_type\": \"\",\n        \"description\": \"\"\n      }\n    },\n    {\n      \"column\": \"label\",\n      \"properties\": {\n        \"dtype\": \"category\",\n        \"num_unique_values\": 2745,\n        \"samples\": [\n          \"{PRICE#Neutral};{GENERAL#Positive};{SER&ACC#Positive};{OTHERS};\",\n          \"{CAMERA#Positive};{FEATURES#Negative};{BATTERY#Positive};{PERFORMANCE#Positive};{GENERAL#Positive};\",\n          \"{SCREEN#Positive};{BATTERY#Positive};{PERFORMANCE#Positive};\"\n        ],\n        \"semantic_type\": \"\",\n        \"description\": \"\"\n      }\n    }\n  ]\n}",
              "type": "dataframe",
              "variable_name": "train_data"
            },
            "text/html": [
              "\n",
              "  <div id=\"df-97bb3df8-0433-48ed-a8af-cd085673aaf7\" class=\"colab-df-container\">\n",
              "    <div>\n",
              "<style scoped>\n",
              "    .dataframe tbody tr th:only-of-type {\n",
              "        vertical-align: middle;\n",
              "    }\n",
              "\n",
              "    .dataframe tbody tr th {\n",
              "        vertical-align: top;\n",
              "    }\n",
              "\n",
              "    .dataframe thead th {\n",
              "        text-align: right;\n",
              "    }\n",
              "</style>\n",
              "<table border=\"1\" class=\"dataframe\">\n",
              "  <thead>\n",
              "    <tr style=\"text-align: right;\">\n",
              "      <th></th>\n",
              "      <th>index</th>\n",
              "      <th>comment</th>\n",
              "      <th>n_star</th>\n",
              "      <th>date_time</th>\n",
              "      <th>label</th>\n",
              "    </tr>\n",
              "  </thead>\n",
              "  <tbody>\n",
              "    <tr>\n",
              "      <th>0</th>\n",
              "      <td>0</td>\n",
              "      <td>Mới mua máy này Tại thegioididong thốt nốt cảm...</td>\n",
              "      <td>5</td>\n",
              "      <td>2 tuần trước</td>\n",
              "      <td>{CAMERA#Positive};{FEATURES#Positive};{BATTERY...</td>\n",
              "    </tr>\n",
              "    <tr>\n",
              "      <th>1</th>\n",
              "      <td>1</td>\n",
              "      <td>Pin kém còn lại miễn chê mua 8/3/2019 tình trạ...</td>\n",
              "      <td>5</td>\n",
              "      <td>14/09/2019</td>\n",
              "      <td>{BATTERY#Negative};{GENERAL#Positive};{OTHERS};</td>\n",
              "    </tr>\n",
              "    <tr>\n",
              "      <th>2</th>\n",
              "      <td>2</td>\n",
              "      <td>Sao lúc gọi điện thoại màn hình bị chấm nhỏ nh...</td>\n",
              "      <td>3</td>\n",
              "      <td>17/08/2020</td>\n",
              "      <td>{FEATURES#Negative};</td>\n",
              "    </tr>\n",
              "    <tr>\n",
              "      <th>3</th>\n",
              "      <td>3</td>\n",
              "      <td>Mọi người cập nhật phần mềm lại , nó sẽ bớt tố...</td>\n",
              "      <td>3</td>\n",
              "      <td>29/02/2020</td>\n",
              "      <td>{FEATURES#Negative};{BATTERY#Neutral};{GENERAL...</td>\n",
              "    </tr>\n",
              "    <tr>\n",
              "      <th>4</th>\n",
              "      <td>4</td>\n",
              "      <td>Mới mua Sài được 1 tháng thấy pin rất trâu, Sà...</td>\n",
              "      <td>5</td>\n",
              "      <td>4/6/2020</td>\n",
              "      <td>{BATTERY#Positive};{PERFORMANCE#Positive};{SER...</td>\n",
              "    </tr>\n",
              "  </tbody>\n",
              "</table>\n",
              "</div>\n",
              "    <div class=\"colab-df-buttons\">\n",
              "\n",
              "  <div class=\"colab-df-container\">\n",
              "    <button class=\"colab-df-convert\" onclick=\"convertToInteractive('df-97bb3df8-0433-48ed-a8af-cd085673aaf7')\"\n",
              "            title=\"Convert this dataframe to an interactive table.\"\n",
              "            style=\"display:none;\">\n",
              "\n",
              "  <svg xmlns=\"http://www.w3.org/2000/svg\" height=\"24px\" viewBox=\"0 -960 960 960\">\n",
              "    <path d=\"M120-120v-720h720v720H120Zm60-500h600v-160H180v160Zm220 220h160v-160H400v160Zm0 220h160v-160H400v160ZM180-400h160v-160H180v160Zm440 0h160v-160H620v160ZM180-180h160v-160H180v160Zm440 0h160v-160H620v160Z\"/>\n",
              "  </svg>\n",
              "    </button>\n",
              "\n",
              "  <style>\n",
              "    .colab-df-container {\n",
              "      display:flex;\n",
              "      gap: 12px;\n",
              "    }\n",
              "\n",
              "    .colab-df-convert {\n",
              "      background-color: #E8F0FE;\n",
              "      border: none;\n",
              "      border-radius: 50%;\n",
              "      cursor: pointer;\n",
              "      display: none;\n",
              "      fill: #1967D2;\n",
              "      height: 32px;\n",
              "      padding: 0 0 0 0;\n",
              "      width: 32px;\n",
              "    }\n",
              "\n",
              "    .colab-df-convert:hover {\n",
              "      background-color: #E2EBFA;\n",
              "      box-shadow: 0px 1px 2px rgba(60, 64, 67, 0.3), 0px 1px 3px 1px rgba(60, 64, 67, 0.15);\n",
              "      fill: #174EA6;\n",
              "    }\n",
              "\n",
              "    .colab-df-buttons div {\n",
              "      margin-bottom: 4px;\n",
              "    }\n",
              "\n",
              "    [theme=dark] .colab-df-convert {\n",
              "      background-color: #3B4455;\n",
              "      fill: #D2E3FC;\n",
              "    }\n",
              "\n",
              "    [theme=dark] .colab-df-convert:hover {\n",
              "      background-color: #434B5C;\n",
              "      box-shadow: 0px 1px 3px 1px rgba(0, 0, 0, 0.15);\n",
              "      filter: drop-shadow(0px 1px 2px rgba(0, 0, 0, 0.3));\n",
              "      fill: #FFFFFF;\n",
              "    }\n",
              "  </style>\n",
              "\n",
              "    <script>\n",
              "      const buttonEl =\n",
              "        document.querySelector('#df-97bb3df8-0433-48ed-a8af-cd085673aaf7 button.colab-df-convert');\n",
              "      buttonEl.style.display =\n",
              "        google.colab.kernel.accessAllowed ? 'block' : 'none';\n",
              "\n",
              "      async function convertToInteractive(key) {\n",
              "        const element = document.querySelector('#df-97bb3df8-0433-48ed-a8af-cd085673aaf7');\n",
              "        const dataTable =\n",
              "          await google.colab.kernel.invokeFunction('convertToInteractive',\n",
              "                                                    [key], {});\n",
              "        if (!dataTable) return;\n",
              "\n",
              "        const docLinkHtml = 'Like what you see? Visit the ' +\n",
              "          '<a target=\"_blank\" href=https://colab.research.google.com/notebooks/data_table.ipynb>data table notebook</a>'\n",
              "          + ' to learn more about interactive tables.';\n",
              "        element.innerHTML = '';\n",
              "        dataTable['output_type'] = 'display_data';\n",
              "        await google.colab.output.renderOutput(dataTable, element);\n",
              "        const docLink = document.createElement('div');\n",
              "        docLink.innerHTML = docLinkHtml;\n",
              "        element.appendChild(docLink);\n",
              "      }\n",
              "    </script>\n",
              "  </div>\n",
              "\n",
              "\n",
              "<div id=\"df-80e1f7be-5ecb-4a32-ad63-7c3d7dc50c77\">\n",
              "  <button class=\"colab-df-quickchart\" onclick=\"quickchart('df-80e1f7be-5ecb-4a32-ad63-7c3d7dc50c77')\"\n",
              "            title=\"Suggest charts\"\n",
              "            style=\"display:none;\">\n",
              "\n",
              "<svg xmlns=\"http://www.w3.org/2000/svg\" height=\"24px\"viewBox=\"0 0 24 24\"\n",
              "     width=\"24px\">\n",
              "    <g>\n",
              "        <path d=\"M19 3H5c-1.1 0-2 .9-2 2v14c0 1.1.9 2 2 2h14c1.1 0 2-.9 2-2V5c0-1.1-.9-2-2-2zM9 17H7v-7h2v7zm4 0h-2V7h2v10zm4 0h-2v-4h2v4z\"/>\n",
              "    </g>\n",
              "</svg>\n",
              "  </button>\n",
              "\n",
              "<style>\n",
              "  .colab-df-quickchart {\n",
              "      --bg-color: #E8F0FE;\n",
              "      --fill-color: #1967D2;\n",
              "      --hover-bg-color: #E2EBFA;\n",
              "      --hover-fill-color: #174EA6;\n",
              "      --disabled-fill-color: #AAA;\n",
              "      --disabled-bg-color: #DDD;\n",
              "  }\n",
              "\n",
              "  [theme=dark] .colab-df-quickchart {\n",
              "      --bg-color: #3B4455;\n",
              "      --fill-color: #D2E3FC;\n",
              "      --hover-bg-color: #434B5C;\n",
              "      --hover-fill-color: #FFFFFF;\n",
              "      --disabled-bg-color: #3B4455;\n",
              "      --disabled-fill-color: #666;\n",
              "  }\n",
              "\n",
              "  .colab-df-quickchart {\n",
              "    background-color: var(--bg-color);\n",
              "    border: none;\n",
              "    border-radius: 50%;\n",
              "    cursor: pointer;\n",
              "    display: none;\n",
              "    fill: var(--fill-color);\n",
              "    height: 32px;\n",
              "    padding: 0;\n",
              "    width: 32px;\n",
              "  }\n",
              "\n",
              "  .colab-df-quickchart:hover {\n",
              "    background-color: var(--hover-bg-color);\n",
              "    box-shadow: 0 1px 2px rgba(60, 64, 67, 0.3), 0 1px 3px 1px rgba(60, 64, 67, 0.15);\n",
              "    fill: var(--button-hover-fill-color);\n",
              "  }\n",
              "\n",
              "  .colab-df-quickchart-complete:disabled,\n",
              "  .colab-df-quickchart-complete:disabled:hover {\n",
              "    background-color: var(--disabled-bg-color);\n",
              "    fill: var(--disabled-fill-color);\n",
              "    box-shadow: none;\n",
              "  }\n",
              "\n",
              "  .colab-df-spinner {\n",
              "    border: 2px solid var(--fill-color);\n",
              "    border-color: transparent;\n",
              "    border-bottom-color: var(--fill-color);\n",
              "    animation:\n",
              "      spin 1s steps(1) infinite;\n",
              "  }\n",
              "\n",
              "  @keyframes spin {\n",
              "    0% {\n",
              "      border-color: transparent;\n",
              "      border-bottom-color: var(--fill-color);\n",
              "      border-left-color: var(--fill-color);\n",
              "    }\n",
              "    20% {\n",
              "      border-color: transparent;\n",
              "      border-left-color: var(--fill-color);\n",
              "      border-top-color: var(--fill-color);\n",
              "    }\n",
              "    30% {\n",
              "      border-color: transparent;\n",
              "      border-left-color: var(--fill-color);\n",
              "      border-top-color: var(--fill-color);\n",
              "      border-right-color: var(--fill-color);\n",
              "    }\n",
              "    40% {\n",
              "      border-color: transparent;\n",
              "      border-right-color: var(--fill-color);\n",
              "      border-top-color: var(--fill-color);\n",
              "    }\n",
              "    60% {\n",
              "      border-color: transparent;\n",
              "      border-right-color: var(--fill-color);\n",
              "    }\n",
              "    80% {\n",
              "      border-color: transparent;\n",
              "      border-right-color: var(--fill-color);\n",
              "      border-bottom-color: var(--fill-color);\n",
              "    }\n",
              "    90% {\n",
              "      border-color: transparent;\n",
              "      border-bottom-color: var(--fill-color);\n",
              "    }\n",
              "  }\n",
              "</style>\n",
              "\n",
              "  <script>\n",
              "    async function quickchart(key) {\n",
              "      const quickchartButtonEl =\n",
              "        document.querySelector('#' + key + ' button');\n",
              "      quickchartButtonEl.disabled = true;  // To prevent multiple clicks.\n",
              "      quickchartButtonEl.classList.add('colab-df-spinner');\n",
              "      try {\n",
              "        const charts = await google.colab.kernel.invokeFunction(\n",
              "            'suggestCharts', [key], {});\n",
              "      } catch (error) {\n",
              "        console.error('Error during call to suggestCharts:', error);\n",
              "      }\n",
              "      quickchartButtonEl.classList.remove('colab-df-spinner');\n",
              "      quickchartButtonEl.classList.add('colab-df-quickchart-complete');\n",
              "    }\n",
              "    (() => {\n",
              "      let quickchartButtonEl =\n",
              "        document.querySelector('#df-80e1f7be-5ecb-4a32-ad63-7c3d7dc50c77 button');\n",
              "      quickchartButtonEl.style.display =\n",
              "        google.colab.kernel.accessAllowed ? 'block' : 'none';\n",
              "    })();\n",
              "  </script>\n",
              "</div>\n",
              "\n",
              "    </div>\n",
              "  </div>\n"
            ],
            "text/plain": [
              "   index                                            comment  n_star  \\\n",
              "0      0  Mới mua máy này Tại thegioididong thốt nốt cảm...       5   \n",
              "1      1  Pin kém còn lại miễn chê mua 8/3/2019 tình trạ...       5   \n",
              "2      2  Sao lúc gọi điện thoại màn hình bị chấm nhỏ nh...       3   \n",
              "3      3  Mọi người cập nhật phần mềm lại , nó sẽ bớt tố...       3   \n",
              "4      4  Mới mua Sài được 1 tháng thấy pin rất trâu, Sà...       5   \n",
              "\n",
              "      date_time                                              label  \n",
              "0  2 tuần trước  {CAMERA#Positive};{FEATURES#Positive};{BATTERY...  \n",
              "1    14/09/2019    {BATTERY#Negative};{GENERAL#Positive};{OTHERS};  \n",
              "2    17/08/2020                               {FEATURES#Negative};  \n",
              "3    29/02/2020  {FEATURES#Negative};{BATTERY#Neutral};{GENERAL...  \n",
              "4      4/6/2020  {BATTERY#Positive};{PERFORMANCE#Positive};{SER...  "
            ]
          },
          "execution_count": 4,
          "metadata": {},
          "output_type": "execute_result"
        }
      ],
      "source": [
        "train_path = '/content/MyDrive/MyDrive/Colab Notebooks/Aspect_Based_Sentiment_Analysis/Dataset/Train.csv'\n",
        "test_path = '/content/MyDrive/MyDrive/Colab Notebooks/Aspect_Based_Sentiment_Analysis/Dataset/Test.csv'\n",
        "dev_path = '/content/MyDrive/MyDrive/Colab Notebooks/Aspect_Based_Sentiment_Analysis/Dataset/Dev.csv'\n",
        "\n",
        "train_data = pd.read_csv(train_path)\n",
        "train_data.head()"
      ]
    },
    {
      "cell_type": "code",
      "execution_count": null,
      "metadata": {
        "id": "Wad_ku8YJ34V"
      },
      "outputs": [],
      "source": [
        "class_to_id = {\"SCREEN\": 0, \"CAMERA\": 1, \"FEATURES\": 2, \"BATTERY\": 3, \"PERFORMANCE\": 4, \"STORAGE\": 5, \"DESIGN\": 6, \"PRICE\": 7, \"GENERAL\": 8, \"SER&ACC\": 9}\n",
        "label_to_id = {\"Positive\": 0, \"Negative\": 1, \"Neutral\": 2, \"None\": 3}"
      ]
    },
    {
      "cell_type": "code",
      "execution_count": null,
      "metadata": {
        "id": "vwp03z0zJ34W"
      },
      "outputs": [],
      "source": [
        "def get_label_dict(sentences_label):\n",
        "    label_dict = {}\n",
        "    labels = sentences_label.split(';')[:-1]\n",
        "    if len(labels) == 1 and labels[-1][1:-1] == \"OTHERS\":\n",
        "        return None\n",
        "    else:\n",
        "        if labels[-1][1:-1] == \"OTHERS\":\n",
        "            for l in labels[:-1]:\n",
        "                class_name, sentiment = l[1:-1].split('#')\n",
        "                label_dict[class_name] = sentiment\n",
        "            return label_dict\n",
        "        else:\n",
        "            for l in labels:\n",
        "                class_name, sentiment = l[1:-1].split('#')\n",
        "                label_dict[class_name] = sentiment\n",
        "            return label_dict"
      ]
    },
    {
      "cell_type": "code",
      "execution_count": null,
      "metadata": {
        "colab": {
          "base_uri": "https://localhost:8080/"
        },
        "id": "qP1GDb8LJ34W",
        "outputId": "054a5928-5aeb-45d2-89c5-706ec832e9e3"
      },
      "outputs": [
        {
          "name": "stdout",
          "output_type": "stream",
          "text": [
            "Mới mua máy này Tại thegioididong thốt nốt cảm thấy ok bin trâu chụp ảnh đẹp loa nghe to bắt wf khỏe sóng ổn định, giá thành vừa với túi tiền, nhân viên tư vấn nhiệt tình\n",
            "[[0, 0, 0, 1], [1, 0, 0, 0], [1, 0, 0, 0], [1, 0, 0, 0], [0, 0, 0, 1], [0, 0, 0, 1], [0, 0, 0, 1], [1, 0, 0, 0], [1, 0, 0, 0], [1, 0, 0, 0]]\n"
          ]
        }
      ],
      "source": [
        "sentences = train_data['comment'].tolist()\n",
        "label_comment = train_data['label'].tolist()\n",
        "others_label = [[0, 0, 0, 1]] * 10\n",
        "\n",
        "train_set = []\n",
        "\n",
        "for sentence, sentence_label in zip(sentences, label_comment):\n",
        "    label_dict = get_label_dict(sentence_label)\n",
        "    labels_ = []\n",
        "    if label_dict:\n",
        "        for aspect in list(class_to_id.keys()):\n",
        "            train_label = [0] * 4\n",
        "            if aspect in label_dict.keys():\n",
        "                label_id = label_to_id[label_dict[aspect]]\n",
        "                train_label[label_id] =  1\n",
        "                labels_.append(train_label)\n",
        "            else:\n",
        "                labels_.append([0, 0, 0, 1])\n",
        "        train_set.append(\n",
        "            {'sentence': sentence, 'labels': labels_}\n",
        "        )\n",
        "    else:\n",
        "        train_set.append(\n",
        "            {'sentence': sentence, 'labels': others_label}\n",
        "        )\n",
        "print(train_set[0]['sentence'])\n",
        "print(train_set[0]['labels'])"
      ]
    },
    {
      "cell_type": "code",
      "execution_count": null,
      "metadata": {
        "colab": {
          "base_uri": "https://localhost:8080/"
        },
        "id": "_t8u4_byJ34W",
        "outputId": "a6e78364-6a35-4f33-c4db-5e4eb5c8b32e"
      },
      "outputs": [
        {
          "name": "stdout",
          "output_type": "stream",
          "text": [
            "pass\n"
          ]
        }
      ],
      "source": [
        "for i, data in enumerate(train_set):\n",
        "    sentence, label = data.items()\n",
        "    input = np.array(label[-1])\n",
        "    clear_output()\n",
        "    if input.shape == (10, 4):\n",
        "        print(\"pass\")\n",
        "    else:\n",
        "        print(i)"
      ]
    },
    {
      "cell_type": "markdown",
      "metadata": {
        "id": "aaSw4uWAJ34X"
      },
      "source": [
        "# 02. Build data loader"
      ]
    },
    {
      "cell_type": "code",
      "execution_count": null,
      "metadata": {
        "id": "XnXfBNAOJ34X"
      },
      "outputs": [],
      "source": [
        "import torch\n",
        "from torch.utils.data import Dataset, DataLoader\n",
        "from transformers import BertTokenizer\n",
        "\n",
        "\n",
        "class AspectSentimentDataset(Dataset):\n",
        "    def __init__(self, data, tokenizer, max_len):\n",
        "        self.data = data\n",
        "        self.tokenizer = tokenizer\n",
        "        self.max_len = max_len\n",
        "\n",
        "    def __len__(self):\n",
        "        return len(self.data)\n",
        "\n",
        "    def __getitem__(self, index):\n",
        "        sentence = self.data[index]['sentence']\n",
        "        labels = self.data[index]['labels']\n",
        "\n",
        "        encoding = self.tokenizer.encode_plus(\n",
        "            sentence,\n",
        "            add_special_tokens=True,\n",
        "            max_length=self.max_len,\n",
        "            return_token_type_ids=False,\n",
        "            pad_to_max_length=True,\n",
        "            return_attention_mask=True,\n",
        "            return_tensors='pt',\n",
        "        )\n",
        "\n",
        "        return {\n",
        "            'sentence_text': sentence,\n",
        "            'input_ids': encoding['input_ids'].flatten(),\n",
        "            'attention_mask': encoding['attention_mask'].flatten(),\n",
        "            'labels': torch.tensor(labels, dtype=torch.float)\n",
        "        }"
      ]
    },
    {
      "cell_type": "code",
      "execution_count": null,
      "metadata": {
        "colab": {
          "base_uri": "https://localhost:8080/",
          "height": 145,
          "referenced_widgets": [
            "7968550e225d4e978363d1b611e56328",
            "e14c87f650e946e4926f60206973c639",
            "99a90692e4564f62b77266ee9504b44a",
            "e57b2a4922db446c9111dfe19a7aedb7",
            "4c5527972b394ae28da74948469b2f2d",
            "af183018d06c487fbe20c4bcafd58f23",
            "ac0c0b8522b34313a49bfea1fed51f37",
            "47be2983030f4df2a47d9ad6ecc6e30c",
            "95dec4d710d048279f89b68901a46942",
            "9f0aa59bee8e4e568cbc70017ba15ebd",
            "f1dcef8db4524194a8ec8ddc6a892e7d",
            "2bf0c01c35ef4251a67125e7a2d28e47",
            "deff6e52b2e842ecb2347e9039565faa",
            "89f079369ffe48bf942df633787468fa",
            "7b63c1f8d5e648ddb6758d696ed34b72",
            "96e4e813eeb94d70bce982ee6fac4502",
            "ca6173812f6948b495e19eceacef579a",
            "c75f50421115475ca8113b18975485e4",
            "974691cfe4ad455885ef354a4f787b93",
            "29dbbad4588441018f9a4f5673688063",
            "98b94fd45a98484e891f811ce5b868cd",
            "af69417ae2874cd291349f954c4eb319",
            "b37670896acc47cfbe611634df92f130",
            "b4fb3d41ffca41ff8e2555974675a40c",
            "df60f64336264cdfa6b3da5abbd51279",
            "8c1608eab11c4a3e82e9be9a7fd84fe4",
            "f35c2807c05b4379843345ce43c923e9",
            "832fad5b9b334b88979fd1d8827cf444",
            "f02fb472c0494aa88d8602218c0b26a6",
            "c42d433a1055460b908790c4a2919f2a",
            "224b3e7589674f11aa4edc6bd108917c",
            "c9faa934f79f42d5bbadd689a275a7fc",
            "0167a07e7bf2437a98ada8a8de9a5e5f",
            "3051a117bbb54374bca0b336dc23a8f3",
            "3d31964b28864b3998d57db7147ecb12",
            "477e5ca82ded4d759f1a32507a6d67f4",
            "1c68d70311e04101b1dcf96eb9da95ea",
            "e1f285d3effc4c10a9d22bd76114476f",
            "41eb9f09b5e947c5b24ed602d6212b9d",
            "34e6096406bb4e3a8723d288ad9aa7c3",
            "0949c21e87584dc18591d0c92cd517db",
            "39e92fd7946b4a83879d708eb80e8065",
            "27986674d4454145b4c24601eeddb0a3",
            "ab4a183c808b4be4a902a4c35748fccd"
          ]
        },
        "id": "y_0U_UY6J34X",
        "outputId": "6e9f58fd-fd01-476e-e0d8-eb412cc94019"
      },
      "outputs": [
        {
          "data": {
            "application/vnd.jupyter.widget-view+json": {
              "model_id": "7968550e225d4e978363d1b611e56328",
              "version_major": 2,
              "version_minor": 0
            },
            "text/plain": [
              "tokenizer_config.json:   0%|          | 0.00/49.0 [00:00<?, ?B/s]"
            ]
          },
          "metadata": {},
          "output_type": "display_data"
        },
        {
          "data": {
            "application/vnd.jupyter.widget-view+json": {
              "model_id": "2bf0c01c35ef4251a67125e7a2d28e47",
              "version_major": 2,
              "version_minor": 0
            },
            "text/plain": [
              "vocab.txt:   0%|          | 0.00/996k [00:00<?, ?B/s]"
            ]
          },
          "metadata": {},
          "output_type": "display_data"
        },
        {
          "data": {
            "application/vnd.jupyter.widget-view+json": {
              "model_id": "b37670896acc47cfbe611634df92f130",
              "version_major": 2,
              "version_minor": 0
            },
            "text/plain": [
              "tokenizer.json:   0%|          | 0.00/1.96M [00:00<?, ?B/s]"
            ]
          },
          "metadata": {},
          "output_type": "display_data"
        },
        {
          "data": {
            "application/vnd.jupyter.widget-view+json": {
              "model_id": "3051a117bbb54374bca0b336dc23a8f3",
              "version_major": 2,
              "version_minor": 0
            },
            "text/plain": [
              "config.json:   0%|          | 0.00/625 [00:00<?, ?B/s]"
            ]
          },
          "metadata": {},
          "output_type": "display_data"
        }
      ],
      "source": [
        "tokenizer = BertTokenizer.from_pretrained('google-bert/bert-base-multilingual-cased')\n",
        "dataset = AspectSentimentDataset(train_set, tokenizer, max_len=128)\n",
        "dataloader = DataLoader(dataset, batch_size=16, shuffle=True)"
      ]
    },
    {
      "cell_type": "code",
      "execution_count": null,
      "metadata": {
        "colab": {
          "base_uri": "https://localhost:8080/"
        },
        "id": "-bJ8GtVNJ34X",
        "outputId": "dcbb24e0-d1ea-4177-8447-d42df0a05d20"
      },
      "outputs": [
        {
          "data": {
            "text/plain": [
              "7786"
            ]
          },
          "execution_count": 11,
          "metadata": {},
          "output_type": "execute_result"
        }
      ],
      "source": [
        "dataset.__len__()"
      ]
    },
    {
      "cell_type": "markdown",
      "metadata": {
        "id": "2E2obwlwJ34Y"
      },
      "source": [
        "# 03. Build RNN model"
      ]
    },
    {
      "cell_type": "code",
      "execution_count": null,
      "metadata": {
        "colab": {
          "base_uri": "https://localhost:8080/",
          "height": 49,
          "referenced_widgets": [
            "79785c06391d49d4b19e5104e03dab0d",
            "e55bc992e89d4e199bd7312684110aae",
            "9262a8ea5aa34a3cb020fa4c40943b17",
            "ee4d8c24ad064669876dfdcff0998bca",
            "ec845922361c4992a9daa90d0d0eb78d",
            "af595d6af3f84030bb6c7fa3142a1db3",
            "1feff9f385474a9a983da3f7b900f098",
            "a3a831cacd2249dcba30024f4dac116f",
            "3bc202669e7e40519b7f6ea9ba5f6b55",
            "084db416e119434d8f0e1acd3de978ee",
            "a49034725b16482bbc893caed89e5601"
          ]
        },
        "id": "L8yTlkFSJ34Y",
        "outputId": "e3283f7d-357d-4967-9d14-187a00f4baa0"
      },
      "outputs": [
        {
          "data": {
            "application/vnd.jupyter.widget-view+json": {
              "model_id": "79785c06391d49d4b19e5104e03dab0d",
              "version_major": 2,
              "version_minor": 0
            },
            "text/plain": [
              "model.safetensors:   0%|          | 0.00/714M [00:00<?, ?B/s]"
            ]
          },
          "metadata": {},
          "output_type": "display_data"
        }
      ],
      "source": [
        "import torch.nn as nn\n",
        "from transformers import BertModel\n",
        "\n",
        "\n",
        "class AspectSentimentModel(nn.Module):\n",
        "    def __init__(self, n_classes, n_labels_per_class):\n",
        "        super(AspectSentimentModel, self).__init__()\n",
        "        self.bert = BertModel.from_pretrained('google-bert/bert-base-multilingual-cased')\n",
        "        self.rnn = nn.RNN(768, 256, batch_first=True, bidirectional=True)\n",
        "        self.classifier = nn.Linear(256*2, n_classes * n_labels_per_class)\n",
        "\n",
        "    def forward(self, input_ids, attention_mask):\n",
        "        bert_outputs = self.bert(\n",
        "            input_ids=input_ids,\n",
        "            attention_mask=attention_mask\n",
        "        )\n",
        "        rnn_outputs, _ = self.rnn(bert_outputs.last_hidden_state)\n",
        "        rnn_outputs = rnn_outputs[:, -1, :]\n",
        "        output = self.classifier(rnn_outputs)\n",
        "        return output.view(-1, 10, 4)\n",
        "\n",
        "model = AspectSentimentModel(n_classes=10, n_labels_per_class=4)"
      ]
    },
    {
      "cell_type": "code",
      "execution_count": null,
      "metadata": {
        "colab": {
          "background_save": true,
          "base_uri": "https://localhost:8080/"
        },
        "id": "2A1JFkutJ34Y",
        "outputId": "69304538-fd45-44a3-d214-1bda2c209766"
      },
      "outputs": [
        {
          "name": "stdout",
          "output_type": "stream",
          "text": [
            "Epoch 1/40, Train loss: 0.2240360308232004\n",
            "Epoch 2/40, Train loss: 0.18419618258975615\n",
            "Epoch 3/40, Train loss: 0.1570158595299574\n",
            "Epoch 4/40, Train loss: 0.13546707343455458\n",
            "Epoch 5/40, Train loss: 0.1184748739493701\n",
            "Epoch 6/40, Train loss: 0.10322257653031751\n",
            "Epoch 7/40, Train loss: 0.089470876369327\n",
            "Epoch 8/40, Train loss: 0.07842894155509174\n",
            "Epoch 9/40, Train loss: 0.06938255990585752\n",
            "Epoch 10/40, Train loss: 0.061233339991871825\n",
            "Epoch 11/40, Train loss: 0.05425387879477879\n",
            "Epoch 12/40, Train loss: 0.04787318307133793\n",
            "Epoch 13/40, Train loss: 0.04214495317761842\n",
            "Epoch 14/40, Train loss: 0.03725947599735654\n",
            "Epoch 15/40, Train loss: 0.03333241639188367\n",
            "Epoch 16/40, Train loss: 0.03058727961836777\n",
            "Epoch 17/40, Train loss: 0.026574214520716937\n",
            "Epoch 18/40, Train loss: 0.024818539384224698\n",
            "Epoch 19/40, Train loss: 0.022305012746566804\n",
            "Epoch 20/40, Train loss: 0.021231128175377662\n",
            "Epoch 21/40, Train loss: 0.017935589674929083\n",
            "Epoch 22/40, Train loss: 0.017240576302628863\n",
            "Epoch 23/40, Train loss: 0.015365779546167878\n",
            "Epoch 24/40, Train loss: 0.015259363935223839\n",
            "Epoch 25/40, Train loss: 0.014913158280893518\n",
            "Epoch 26/40, Train loss: 0.012947742408428348\n",
            "Epoch 27/40, Train loss: 0.012019935575097769\n",
            "Epoch 28/40, Train loss: 0.011228333066697606\n",
            "Epoch 29/40, Train loss: 0.011064438570531762\n",
            "Epoch 30/40, Train loss: 0.010730645391761155\n",
            "Epoch 31/40, Train loss: 0.008953066096207015\n",
            "Epoch 32/40, Train loss: 0.01098942683982898\n",
            "Epoch 33/40, Train loss: 0.00846434257842325\n",
            "Epoch 34/40, Train loss: 0.0076327395866370665\n",
            "Epoch 35/40, Train loss: 0.006874133908291189\n",
            "Epoch 36/40, Train loss: 0.009802428269003436\n",
            "Epoch 37/40, Train loss: 0.008580139596961836\n",
            "Epoch 38/40, Train loss: 0.006624470678592211\n",
            "Epoch 39/40, Train loss: 0.007180850200108358\n",
            "Epoch 40/40, Train loss: 0.006327896895512434\n"
          ]
        }
      ],
      "source": [
        "import torch.optim as optim\n",
        "\n",
        "\n",
        "def train_epoch(model, data_loader, loss_fn, optimizer, device):\n",
        "    model = model.train()\n",
        "    losses = []\n",
        "    correct_predictions = 0\n",
        "\n",
        "    for data in data_loader:\n",
        "        input_ids = data['input_ids'].to(device)\n",
        "        attention_mask = data['attention_mask'].to(device)\n",
        "        labels = data['labels'].to(device)\n",
        "\n",
        "        outputs = model(input_ids=input_ids, attention_mask=attention_mask)\n",
        "\n",
        "        loss = loss_fn(outputs, labels)\n",
        "        losses.append(loss.item())\n",
        "\n",
        "        optimizer.zero_grad()\n",
        "        loss.backward()\n",
        "        optimizer.step()\n",
        "\n",
        "    return np.mean(losses)\n",
        "\n",
        "\n",
        "EPOCHS = 40\n",
        "device = torch.device('cuda' if torch.cuda.is_available() else 'cpu')\n",
        "model = model.to(device)\n",
        "training = True\n",
        "\n",
        "\n",
        "optimizer = optim.Adam(model.parameters(), lr=2e-5)\n",
        "loss_fn = nn.BCEWithLogitsLoss()\n",
        "\n",
        "if training == True:\n",
        "    for epoch in range(EPOCHS):\n",
        "        train_loss = train_epoch(model, dataloader, loss_fn, optimizer, device)\n",
        "        print(f'Epoch {epoch + 1}/{EPOCHS}, Train loss: {train_loss}')\n",
        "        if epoch % 5 == 0:\n",
        "            torch.save(model.state_dict(), f'/content/MyDrive/MyDrive/Colab Notebooks/Aspect_Based_Sentiment_Analysis/models/ABSA_using_RNN_model{epoch}.pth')"
      ]
    },
    {
      "cell_type": "code",
      "execution_count": 50,
      "metadata": {
        "id": "29Fp_clxJ34Y"
      },
      "outputs": [],
      "source": [
        "# path_save_model = '/content/MyDrive/MyDrive/Colab Notebooks/Aspect_Based_Sentiment_Analysis/models/ABSA_using_RNN_model.pth'\n",
        "# torch.save(model.state_dict(), path_save_model+'/ABSA_using_RNN_model.pth')\n",
        "torch.save(model.state_dict(), f'/content/MyDrive/MyDrive/Colab Notebooks/Aspect_Based_Sentiment_Analysis/models/ABSA_using_RNN_model{40}.pth')"
      ]
    },
    {
      "cell_type": "code",
      "execution_count": null,
      "metadata": {
        "colab": {
          "background_save": true
        },
        "id": "3mySCn_gJ34Y"
      },
      "outputs": [],
      "source": [
        "# model = AspectSentimentModel(n_classes=10, n_labels_per_class=4)\n",
        "# model.load_state_dict(torch.load(path_save_model+'/ABSA_using_RNN_model.pth'))\n",
        "# model.eval()"
      ]
    },
    {
      "cell_type": "markdown",
      "metadata": {
        "id": "CwEZZKPRJ34Y"
      },
      "source": [
        "# 04. Predict"
      ]
    },
    {
      "cell_type": "code",
      "execution_count": null,
      "metadata": {
        "colab": {
          "background_save": true
        },
        "id": "2-kuEOlgJ34Z"
      },
      "outputs": [],
      "source": [
        "def predict_sentiment(model, sentence, tokenizer, max_len, device):\n",
        "    model = model.eval()\n",
        "\n",
        "    encoding = tokenizer.encode_plus(\n",
        "        sentence,\n",
        "        add_special_tokens=True,\n",
        "        max_length=max_len,\n",
        "        return_token_type_ids=False,\n",
        "        pad_to_max_length=True,\n",
        "        return_attention_mask=True,\n",
        "        return_tensors='pt'\n",
        "    )\n",
        "\n",
        "    input_ids = encoding['input_ids'].to(device)\n",
        "    attention_mask = encoding['attention_mask'].to(device)\n",
        "\n",
        "    with torch.no_grad():\n",
        "        outputs = model(input_ids=input_ids, attention_mask=attention_mask)\n",
        "\n",
        "    return outputs\n",
        "\n",
        "\n",
        "def interpret_predictions(predictions):\n",
        "    aspect_classes = ['SCREEN', 'CAMERA', 'FEATURES', 'BATTERY', 'PERFORMANCE', 'STORAGE', 'DESIGN', 'PRICE', 'GENERAL', 'SER&ACC']\n",
        "    sentiment_labels = ['Positive', 'Negative', 'Neutral', 'None']\n",
        "\n",
        "    results = {}\n",
        "\n",
        "    for i, aspect in enumerate(aspect_classes):\n",
        "        aspect_sentiments = predictions[0, i].cpu().numpy()\n",
        "        sentiment_index = aspect_sentiments.argmax()\n",
        "        results[aspect] = sentiment_labels[sentiment_index]\n",
        "\n",
        "    return results"
      ]
    },
    {
      "cell_type": "markdown",
      "metadata": {
        "id": "syta4DTLJ34Z"
      },
      "source": [
        "# 05. Thực hiện predict trên toàn bộ dữ liệu kiểm thử (testset)"
      ]
    },
    {
      "cell_type": "code",
      "execution_count": null,
      "metadata": {
        "colab": {
          "background_save": true
        },
        "id": "bJMLb0jyJ34Z",
        "outputId": "c45833f4-7121-4b22-fe9d-d5c986bf6307"
      },
      "outputs": [
        {
          "data": {
            "application/vnd.google.colaboratory.intrinsic+json": {
              "summary": "{\n  \"name\": \"test_data\",\n  \"rows\": 2224,\n  \"fields\": [\n    {\n      \"column\": \"index\",\n      \"properties\": {\n        \"dtype\": \"number\",\n        \"std\": 642,\n        \"min\": 0,\n        \"max\": 2223,\n        \"num_unique_values\": 2224,\n        \"samples\": [\n          96,\n          1401,\n          1995\n        ],\n        \"semantic_type\": \"\",\n        \"description\": \"\"\n      }\n    },\n    {\n      \"column\": \"comment\",\n      \"properties\": {\n        \"dtype\": \"string\",\n        \"num_unique_values\": 2224,\n        \"samples\": [\n          \"S\\u1ea3n ph\\u1ea9m t\\u1ed1t, nh\\u01b0ng pin kh\\u00f4ng tr\\u00e2u nh\\u01b0 m\\u00ecnh ngh\\u0129...x\\u00e0i c\\u1ea3 ng\\u00e0y 2,3 ti\\u1ebfng ch\\u1ec9 l\\u01b0\\u1edbt fb m\\u00e0 pin tu\\u1ed9t qu\\u00e1 mau\",\n          \"H\\u00e0ng ch\\u1ea5t l\\u01b0\\u1ee3ng sai r\\u1ea5t ok cho th\\u1ebf gi\\u1edbi \\u0111i \\u0111\\u00f4ng 5 sao .M\\u00ecnh mua h\\u01a1n 4 th\\u00e1ng m\\u00e0 th\\u1ea5y r\\u1ea5t tuy\\u1ec7t v\\u1eddi thanks nh\\u00e0 b\\u1ea1n h\\u00e0ng s\\u1ed1 1 Vi\\u00eat N\\u0103m.\",\n          \"E m\\u1edbi m\\u01b0a \\u0111c 2 th\\u00e1ng. M\\u00e0 e m\\u1edbi c\\u1eadp nh\\u1eadt phi\\u00ean b\\u1ea3n miui m\\u1edbi nh\\u1ea5t  , e s\\u1eed d\\u1ee5ng th\\u1ea5y n\\u00f3 t\\u1ee5t pin nhanh qu\\u00e1. M\\u00fan xu\\u1ed1ng l\\u1ea1i b\\u1ea3n c\\u1eadp nh\\u1eadt c\\u0169 th\\u00ec l\\u00e0m sao \\u1ea1\"\n        ],\n        \"semantic_type\": \"\",\n        \"description\": \"\"\n      }\n    },\n    {\n      \"column\": \"n_star\",\n      \"properties\": {\n        \"dtype\": \"number\",\n        \"std\": 1,\n        \"min\": 1,\n        \"max\": 5,\n        \"num_unique_values\": 5,\n        \"samples\": [\n          4,\n          3,\n          2\n        ],\n        \"semantic_type\": \"\",\n        \"description\": \"\"\n      }\n    },\n    {\n      \"column\": \"date_time\",\n      \"properties\": {\n        \"dtype\": \"category\",\n        \"num_unique_values\": 554,\n        \"samples\": [\n          \"7/1/2020\",\n          \"24/04/2020\",\n          \"5/5/2019\"\n        ],\n        \"semantic_type\": \"\",\n        \"description\": \"\"\n      }\n    },\n    {\n      \"column\": \"label\",\n      \"properties\": {\n        \"dtype\": \"category\",\n        \"num_unique_values\": 1109,\n        \"samples\": [\n          \"{FEATURES#Negative};{BATTERY#Positive};{PERFORMANCE#Neutral};{GENERAL#Negative};{SER&ACC#Neutral};{OTHERS};\",\n          \"{CAMERA#Neutral};{FEATURES#Positive};{BATTERY#Positive};{PERFORMANCE#Positive};{GENERAL#Positive};\",\n          \"{PERFORMANCE#Positive};{PRICE#Positive};{GENERAL#Positive};\"\n        ],\n        \"semantic_type\": \"\",\n        \"description\": \"\"\n      }\n    }\n  ]\n}",
              "type": "dataframe",
              "variable_name": "test_data"
            },
            "text/html": [
              "\n",
              "  <div id=\"df-87154945-2c4f-4108-bd05-430f6e8de7f9\" class=\"colab-df-container\">\n",
              "    <div>\n",
              "<style scoped>\n",
              "    .dataframe tbody tr th:only-of-type {\n",
              "        vertical-align: middle;\n",
              "    }\n",
              "\n",
              "    .dataframe tbody tr th {\n",
              "        vertical-align: top;\n",
              "    }\n",
              "\n",
              "    .dataframe thead th {\n",
              "        text-align: right;\n",
              "    }\n",
              "</style>\n",
              "<table border=\"1\" class=\"dataframe\">\n",
              "  <thead>\n",
              "    <tr style=\"text-align: right;\">\n",
              "      <th></th>\n",
              "      <th>index</th>\n",
              "      <th>comment</th>\n",
              "      <th>n_star</th>\n",
              "      <th>date_time</th>\n",
              "      <th>label</th>\n",
              "    </tr>\n",
              "  </thead>\n",
              "  <tbody>\n",
              "    <tr>\n",
              "      <th>0</th>\n",
              "      <td>0</td>\n",
              "      <td>Điện thoải ổn. Facelock cực nhanh, vân tay ôk ...</td>\n",
              "      <td>5</td>\n",
              "      <td>5/2/2020</td>\n",
              "      <td>{SCREEN#Positive};{FEATURES#Positive};{PERFORM...</td>\n",
              "    </tr>\n",
              "    <tr>\n",
              "      <th>1</th>\n",
              "      <td>1</td>\n",
              "      <td>Mình mới  mua vivo91c. Tải ứng dụng ,games  nh...</td>\n",
              "      <td>5</td>\n",
              "      <td>14/05/2019</td>\n",
              "      <td>{FEATURES#Negative};{PERFORMANCE#Positive};{SE...</td>\n",
              "    </tr>\n",
              "    <tr>\n",
              "      <th>2</th>\n",
              "      <td>2</td>\n",
              "      <td>Xấu đẹp gì ko biết nhưng rất ưng TGdđ phục vụ ...</td>\n",
              "      <td>5</td>\n",
              "      <td>26/03/2020</td>\n",
              "      <td>{DESIGN#Neutral};{SER&amp;ACC#Positive};</td>\n",
              "    </tr>\n",
              "    <tr>\n",
              "      <th>3</th>\n",
              "      <td>3</td>\n",
              "      <td>Màn hình hơi lác khi chơi game. Game nặng thì ...</td>\n",
              "      <td>4</td>\n",
              "      <td>4/6/2019</td>\n",
              "      <td>{PERFORMANCE#Negative};{DESIGN#Negative};{OTHE...</td>\n",
              "    </tr>\n",
              "    <tr>\n",
              "      <th>4</th>\n",
              "      <td>4</td>\n",
              "      <td>Nói chung máy đẹp với màn amoled, ổn trong tầm...</td>\n",
              "      <td>4</td>\n",
              "      <td>12/5/2020</td>\n",
              "      <td>{SCREEN#Positive};{BATTERY#Negative};{DESIGN#P...</td>\n",
              "    </tr>\n",
              "  </tbody>\n",
              "</table>\n",
              "</div>\n",
              "    <div class=\"colab-df-buttons\">\n",
              "\n",
              "  <div class=\"colab-df-container\">\n",
              "    <button class=\"colab-df-convert\" onclick=\"convertToInteractive('df-87154945-2c4f-4108-bd05-430f6e8de7f9')\"\n",
              "            title=\"Convert this dataframe to an interactive table.\"\n",
              "            style=\"display:none;\">\n",
              "\n",
              "  <svg xmlns=\"http://www.w3.org/2000/svg\" height=\"24px\" viewBox=\"0 -960 960 960\">\n",
              "    <path d=\"M120-120v-720h720v720H120Zm60-500h600v-160H180v160Zm220 220h160v-160H400v160Zm0 220h160v-160H400v160ZM180-400h160v-160H180v160Zm440 0h160v-160H620v160ZM180-180h160v-160H180v160Zm440 0h160v-160H620v160Z\"/>\n",
              "  </svg>\n",
              "    </button>\n",
              "\n",
              "  <style>\n",
              "    .colab-df-container {\n",
              "      display:flex;\n",
              "      gap: 12px;\n",
              "    }\n",
              "\n",
              "    .colab-df-convert {\n",
              "      background-color: #E8F0FE;\n",
              "      border: none;\n",
              "      border-radius: 50%;\n",
              "      cursor: pointer;\n",
              "      display: none;\n",
              "      fill: #1967D2;\n",
              "      height: 32px;\n",
              "      padding: 0 0 0 0;\n",
              "      width: 32px;\n",
              "    }\n",
              "\n",
              "    .colab-df-convert:hover {\n",
              "      background-color: #E2EBFA;\n",
              "      box-shadow: 0px 1px 2px rgba(60, 64, 67, 0.3), 0px 1px 3px 1px rgba(60, 64, 67, 0.15);\n",
              "      fill: #174EA6;\n",
              "    }\n",
              "\n",
              "    .colab-df-buttons div {\n",
              "      margin-bottom: 4px;\n",
              "    }\n",
              "\n",
              "    [theme=dark] .colab-df-convert {\n",
              "      background-color: #3B4455;\n",
              "      fill: #D2E3FC;\n",
              "    }\n",
              "\n",
              "    [theme=dark] .colab-df-convert:hover {\n",
              "      background-color: #434B5C;\n",
              "      box-shadow: 0px 1px 3px 1px rgba(0, 0, 0, 0.15);\n",
              "      filter: drop-shadow(0px 1px 2px rgba(0, 0, 0, 0.3));\n",
              "      fill: #FFFFFF;\n",
              "    }\n",
              "  </style>\n",
              "\n",
              "    <script>\n",
              "      const buttonEl =\n",
              "        document.querySelector('#df-87154945-2c4f-4108-bd05-430f6e8de7f9 button.colab-df-convert');\n",
              "      buttonEl.style.display =\n",
              "        google.colab.kernel.accessAllowed ? 'block' : 'none';\n",
              "\n",
              "      async function convertToInteractive(key) {\n",
              "        const element = document.querySelector('#df-87154945-2c4f-4108-bd05-430f6e8de7f9');\n",
              "        const dataTable =\n",
              "          await google.colab.kernel.invokeFunction('convertToInteractive',\n",
              "                                                    [key], {});\n",
              "        if (!dataTable) return;\n",
              "\n",
              "        const docLinkHtml = 'Like what you see? Visit the ' +\n",
              "          '<a target=\"_blank\" href=https://colab.research.google.com/notebooks/data_table.ipynb>data table notebook</a>'\n",
              "          + ' to learn more about interactive tables.';\n",
              "        element.innerHTML = '';\n",
              "        dataTable['output_type'] = 'display_data';\n",
              "        await google.colab.output.renderOutput(dataTable, element);\n",
              "        const docLink = document.createElement('div');\n",
              "        docLink.innerHTML = docLinkHtml;\n",
              "        element.appendChild(docLink);\n",
              "      }\n",
              "    </script>\n",
              "  </div>\n",
              "\n",
              "\n",
              "<div id=\"df-ec1ee48f-8951-4442-91f4-e7371f835b82\">\n",
              "  <button class=\"colab-df-quickchart\" onclick=\"quickchart('df-ec1ee48f-8951-4442-91f4-e7371f835b82')\"\n",
              "            title=\"Suggest charts\"\n",
              "            style=\"display:none;\">\n",
              "\n",
              "<svg xmlns=\"http://www.w3.org/2000/svg\" height=\"24px\"viewBox=\"0 0 24 24\"\n",
              "     width=\"24px\">\n",
              "    <g>\n",
              "        <path d=\"M19 3H5c-1.1 0-2 .9-2 2v14c0 1.1.9 2 2 2h14c1.1 0 2-.9 2-2V5c0-1.1-.9-2-2-2zM9 17H7v-7h2v7zm4 0h-2V7h2v10zm4 0h-2v-4h2v4z\"/>\n",
              "    </g>\n",
              "</svg>\n",
              "  </button>\n",
              "\n",
              "<style>\n",
              "  .colab-df-quickchart {\n",
              "      --bg-color: #E8F0FE;\n",
              "      --fill-color: #1967D2;\n",
              "      --hover-bg-color: #E2EBFA;\n",
              "      --hover-fill-color: #174EA6;\n",
              "      --disabled-fill-color: #AAA;\n",
              "      --disabled-bg-color: #DDD;\n",
              "  }\n",
              "\n",
              "  [theme=dark] .colab-df-quickchart {\n",
              "      --bg-color: #3B4455;\n",
              "      --fill-color: #D2E3FC;\n",
              "      --hover-bg-color: #434B5C;\n",
              "      --hover-fill-color: #FFFFFF;\n",
              "      --disabled-bg-color: #3B4455;\n",
              "      --disabled-fill-color: #666;\n",
              "  }\n",
              "\n",
              "  .colab-df-quickchart {\n",
              "    background-color: var(--bg-color);\n",
              "    border: none;\n",
              "    border-radius: 50%;\n",
              "    cursor: pointer;\n",
              "    display: none;\n",
              "    fill: var(--fill-color);\n",
              "    height: 32px;\n",
              "    padding: 0;\n",
              "    width: 32px;\n",
              "  }\n",
              "\n",
              "  .colab-df-quickchart:hover {\n",
              "    background-color: var(--hover-bg-color);\n",
              "    box-shadow: 0 1px 2px rgba(60, 64, 67, 0.3), 0 1px 3px 1px rgba(60, 64, 67, 0.15);\n",
              "    fill: var(--button-hover-fill-color);\n",
              "  }\n",
              "\n",
              "  .colab-df-quickchart-complete:disabled,\n",
              "  .colab-df-quickchart-complete:disabled:hover {\n",
              "    background-color: var(--disabled-bg-color);\n",
              "    fill: var(--disabled-fill-color);\n",
              "    box-shadow: none;\n",
              "  }\n",
              "\n",
              "  .colab-df-spinner {\n",
              "    border: 2px solid var(--fill-color);\n",
              "    border-color: transparent;\n",
              "    border-bottom-color: var(--fill-color);\n",
              "    animation:\n",
              "      spin 1s steps(1) infinite;\n",
              "  }\n",
              "\n",
              "  @keyframes spin {\n",
              "    0% {\n",
              "      border-color: transparent;\n",
              "      border-bottom-color: var(--fill-color);\n",
              "      border-left-color: var(--fill-color);\n",
              "    }\n",
              "    20% {\n",
              "      border-color: transparent;\n",
              "      border-left-color: var(--fill-color);\n",
              "      border-top-color: var(--fill-color);\n",
              "    }\n",
              "    30% {\n",
              "      border-color: transparent;\n",
              "      border-left-color: var(--fill-color);\n",
              "      border-top-color: var(--fill-color);\n",
              "      border-right-color: var(--fill-color);\n",
              "    }\n",
              "    40% {\n",
              "      border-color: transparent;\n",
              "      border-right-color: var(--fill-color);\n",
              "      border-top-color: var(--fill-color);\n",
              "    }\n",
              "    60% {\n",
              "      border-color: transparent;\n",
              "      border-right-color: var(--fill-color);\n",
              "    }\n",
              "    80% {\n",
              "      border-color: transparent;\n",
              "      border-right-color: var(--fill-color);\n",
              "      border-bottom-color: var(--fill-color);\n",
              "    }\n",
              "    90% {\n",
              "      border-color: transparent;\n",
              "      border-bottom-color: var(--fill-color);\n",
              "    }\n",
              "  }\n",
              "</style>\n",
              "\n",
              "  <script>\n",
              "    async function quickchart(key) {\n",
              "      const quickchartButtonEl =\n",
              "        document.querySelector('#' + key + ' button');\n",
              "      quickchartButtonEl.disabled = true;  // To prevent multiple clicks.\n",
              "      quickchartButtonEl.classList.add('colab-df-spinner');\n",
              "      try {\n",
              "        const charts = await google.colab.kernel.invokeFunction(\n",
              "            'suggestCharts', [key], {});\n",
              "      } catch (error) {\n",
              "        console.error('Error during call to suggestCharts:', error);\n",
              "      }\n",
              "      quickchartButtonEl.classList.remove('colab-df-spinner');\n",
              "      quickchartButtonEl.classList.add('colab-df-quickchart-complete');\n",
              "    }\n",
              "    (() => {\n",
              "      let quickchartButtonEl =\n",
              "        document.querySelector('#df-ec1ee48f-8951-4442-91f4-e7371f835b82 button');\n",
              "      quickchartButtonEl.style.display =\n",
              "        google.colab.kernel.accessAllowed ? 'block' : 'none';\n",
              "    })();\n",
              "  </script>\n",
              "</div>\n",
              "\n",
              "    </div>\n",
              "  </div>\n"
            ],
            "text/plain": [
              "   index                                            comment  n_star  \\\n",
              "0      0  Điện thoải ổn. Facelock cực nhanh, vân tay ôk ...       5   \n",
              "1      1  Mình mới  mua vivo91c. Tải ứng dụng ,games  nh...       5   \n",
              "2      2  Xấu đẹp gì ko biết nhưng rất ưng TGdđ phục vụ ...       5   \n",
              "3      3  Màn hình hơi lác khi chơi game. Game nặng thì ...       4   \n",
              "4      4  Nói chung máy đẹp với màn amoled, ổn trong tầm...       4   \n",
              "\n",
              "    date_time                                              label  \n",
              "0    5/2/2020  {SCREEN#Positive};{FEATURES#Positive};{PERFORM...  \n",
              "1  14/05/2019  {FEATURES#Negative};{PERFORMANCE#Positive};{SE...  \n",
              "2  26/03/2020               {DESIGN#Neutral};{SER&ACC#Positive};  \n",
              "3    4/6/2019  {PERFORMANCE#Negative};{DESIGN#Negative};{OTHE...  \n",
              "4   12/5/2020  {SCREEN#Positive};{BATTERY#Negative};{DESIGN#P...  "
            ]
          },
          "execution_count": 18,
          "metadata": {},
          "output_type": "execute_result"
        }
      ],
      "source": [
        "test_data = pd.read_csv(test_path)\n",
        "test_data.head()"
      ]
    },
    {
      "cell_type": "code",
      "execution_count": null,
      "metadata": {
        "colab": {
          "background_save": true
        },
        "id": "N3llQH37J34Z",
        "outputId": "9f3b52eb-5ca1-458f-d9c4-77876c44f743"
      },
      "outputs": [
        {
          "name": "stdout",
          "output_type": "stream",
          "text": [
            "Mọi thứ ok.mình thấy pin trâu chứ có sao đâu.mua đc 2 tuần rồi chỉ có cảm biến vân tay ko nhạy như mong đợi thôi.\n",
            "{FEATURES#Negative};{BATTERY#Positive};{GENERAL#Positive};\n",
            "Aspect Sentiment Prediction:\n",
            "SCREEN: None\n",
            "CAMERA: None\n",
            "FEATURES: Negative\n",
            "BATTERY: Positive\n",
            "PERFORMANCE: None\n",
            "STORAGE: None\n",
            "DESIGN: None\n",
            "PRICE: None\n",
            "GENERAL: Positive\n",
            "SER&ACC: None\n"
          ]
        }
      ],
      "source": [
        "max_len = 256\n",
        "idx = 20\n",
        "sentence_test = test_data.loc[idx, 'comment']\n",
        "true_label = test_data.loc[idx, 'label']\n",
        "print(sentence_test)\n",
        "print(true_label)\n",
        "\n",
        "predictions = predict_sentiment(model, sentence_test, tokenizer, max_len, device)\n",
        "results = interpret_predictions(predictions)\n",
        "\n",
        "print('Aspect Sentiment Prediction:')\n",
        "for aspect, sentiment in results.items():\n",
        "    print(f'{aspect}: {sentiment}')"
      ]
    },
    {
      "cell_type": "code",
      "execution_count": null,
      "metadata": {
        "colab": {
          "background_save": true
        },
        "id": "Hptazs3pJ34Z",
        "outputId": "7a75fe34-30d9-4fa3-cfa2-72e6c0334add"
      },
      "outputs": [
        {
          "name": "stdout",
          "output_type": "stream",
          "text": [
            "All done!\n"
          ]
        }
      ],
      "source": [
        "predictions_on_test = []\n",
        "\n",
        "for i in range(len(test_data)):\n",
        "    print(i)\n",
        "    sentence_on_test = test_data['comment'][i]\n",
        "    prediction_on_test = predict_sentiment(model, sentence_on_test, tokenizer, max_len, device)\n",
        "    results = interpret_predictions(prediction_on_test)\n",
        "    predictions_on_test.append(results)\n",
        "    clear_output()\n",
        "\n",
        "print('All done!')\n"
      ]
    },
    {
      "cell_type": "code",
      "execution_count": null,
      "metadata": {
        "colab": {
          "background_save": true
        },
        "id": "CPgEB5UMJ34a"
      },
      "outputs": [],
      "source": [
        "true_labels = []\n",
        "\n",
        "for i in range(len(test_data)):\n",
        "    outcome = {}\n",
        "    label = test_data['label'][i]\n",
        "    label = label.replace('{', '')\n",
        "    label = label.replace('}', '')\n",
        "    labels = label.split(';')\n",
        "    for l in labels:\n",
        "        try:\n",
        "            text = l.split('#')\n",
        "            outcome[text[0]] = text[1]\n",
        "        except:\n",
        "            pass\n",
        "    true_labels.append(outcome)"
      ]
    },
    {
      "cell_type": "markdown",
      "metadata": {
        "id": "JCMxNAUIJ34a"
      },
      "source": [
        "# 06. Chuẩn hóa nhãn đầu ra để thực hiện đánh giá hiệu suất mô hình"
      ]
    },
    {
      "cell_type": "code",
      "execution_count": null,
      "metadata": {
        "id": "d3ne3IeDJ34a"
      },
      "outputs": [],
      "source": [
        "def full_label(true_label, prediction):\n",
        "    '''true_label: dict\n",
        "     prediction: dict '''\n",
        "    for key, value in prediction.items():\n",
        "        if key not in true_label:\n",
        "            true_label[key] = 'None'\n",
        "    return true_label"
      ]
    },
    {
      "cell_type": "code",
      "execution_count": null,
      "metadata": {
        "id": "DSDrWkl5J34a"
      },
      "outputs": [],
      "source": [
        "# mục tiêu là đưa danh sách các nhãn thực tế về dạng đánh giá 10 class như trong dự đoán\n",
        "true_full_labels = []\n",
        "for idx in range(len(predictions_on_test)):\n",
        "    true_label = true_labels[idx]\n",
        "    prediction = predictions_on_test[idx]\n",
        "    true_full_labels.append(full_label(true_label, prediction))"
      ]
    },
    {
      "cell_type": "code",
      "execution_count": null,
      "metadata": {
        "id": "BgCeg4YeJ34a"
      },
      "outputs": [],
      "source": [
        "# data thỉnh thoảng bị sai -..-\n",
        "# bằng chứng là SER&ACC trong câu này phải là Positive nhưng nhãn là None\n",
        "# hoặc GENERAL nên là Positive thì nhãn lại là None\n",
        "\n",
        "print(predictions_on_test[6])\n",
        "print(true_labels[6])\n",
        "print(test_data.loc[6, 'comment'])\n",
        "for key, value in true_labels[6].items():\n",
        "    print('true: ',key, value)\n",
        "    print('predicted: ', key, predictions_on_test[6][key])"
      ]
    },
    {
      "cell_type": "markdown",
      "metadata": {
        "id": "OT3tusGDJ34a"
      },
      "source": [
        "# 07. Đánh giá hiệu suất tổng thể của mô hình"
      ]
    },
    {
      "cell_type": "code",
      "execution_count": null,
      "metadata": {
        "id": "0I7jPkZHJ34a"
      },
      "outputs": [],
      "source": [
        "true_ = []\n",
        "predicted_ = []\n",
        "\n",
        "for idx in range(len(predictions_on_test)):\n",
        "    for key, value in predictions_on_test[idx].items():\n",
        "        if true_full_labels[idx][key] == 'None' and value == 'None':\n",
        "            true_.append(0)\n",
        "            predicted_.append(0)\n",
        "        elif true_full_labels[idx][key] != 'None' and true_full_labels[idx][key] == value:\n",
        "            true_.append(1)\n",
        "            predicted_.append(1)\n",
        "        elif true_full_labels[idx][key] == 'None' and value != 'None':\n",
        "            true_.append(0)\n",
        "            predicted_.append(1)\n",
        "        elif true_full_labels[idx][key] != 'None' and value == 'None':\n",
        "            true_.append(1)\n",
        "            predicted_.append(0)\n",
        "\n",
        "accuracy = accuracy_score(true_, predicted_)\n",
        "precision = precision_score(true_, predicted_)\n",
        "recall = recall_score(true_, predicted_)\n",
        "f1 = f1_score(true_, predicted_)\n",
        "\n",
        "print(f'Accuracy = {accuracy}')\n",
        "print(f'Precision = {precision}')\n",
        "print(f'Recall = {recall}')\n",
        "print(f'f1 = {f1}')"
      ]
    },
    {
      "cell_type": "markdown",
      "metadata": {
        "id": "3PlXM_PlJ34b"
      },
      "source": [
        "# 08. Đánh giá hiệu suất nhận diện khía cạnh"
      ]
    },
    {
      "cell_type": "markdown",
      "metadata": {
        "id": "UCtMQCL0J34b"
      },
      "source": [
        "### Accuracy, Precision, Recall, F1-score trên toàn bộ khía cạnh"
      ]
    },
    {
      "cell_type": "code",
      "execution_count": null,
      "metadata": {
        "id": "RrQHwn6VJ34b"
      },
      "outputs": [],
      "source": [
        "true_ = []\n",
        "predicted_ = []\n",
        "\n",
        "for idx in range(len(predictions_on_test)):\n",
        "    for key, value in predictions_on_test[idx].items():\n",
        "        if true_full_labels[idx] == 'None' and value == 'None':\n",
        "            true_.append(0)\n",
        "            predicted_.append(0)\n",
        "        elif true_full_labels[idx][key] != 'None' and value != 'None':\n",
        "            true_.append(1)\n",
        "            predicted_.append(1)\n",
        "        elif true_full_labels[idx][key] == 'None' and value != 'None':\n",
        "            true_.append(0)\n",
        "            predicted_.append(1)\n",
        "        elif true_full_labels[idx][key] != 'None' and value == 'None':\n",
        "            true_.append(1)\n",
        "            predicted_.append(0)\n",
        "\n",
        "print(f'Accuracy = {accuracy_score(true_, predicted_)}')\n",
        "print(f'Precision = {precision_score(true_, predicted_)}')\n",
        "print(f'Recall = {recall_score(true_, predicted_)}')\n",
        "print(f'F1-score = {f1_score(true_, predicted_)}')"
      ]
    },
    {
      "cell_type": "markdown",
      "metadata": {
        "id": "jVgRt_vlJ34b"
      },
      "source": [
        "### đánh giá hiệu suất khía cạnh trên class SCREEN"
      ]
    },
    {
      "cell_type": "code",
      "execution_count": 27,
      "metadata": {
        "id": "zQoONsqBJ34b",
        "colab": {
          "base_uri": "https://localhost:8080/"
        },
        "outputId": "e9df55a1-5489-4016-e2cd-31e2817b011c"
      },
      "outputs": [
        {
          "metadata": {
            "tags": null
          },
          "name": "stdout",
          "output_type": "stream",
          "text": [
            "Accuracy = 0.9518884892086331\n",
            "Precision = 0.762987012987013\n",
            "Recall = 0.8736059479553904\n",
            "f1 = 0.8145580589254766\n"
          ]
        }
      ],
      "source": [
        "true_ = []\n",
        "predicted_ = []\n",
        "\n",
        "for idx in range(len(true_full_labels)):\n",
        "    key = 'SCREEN'\n",
        "    if true_full_labels[idx][key] == 'None' and predictions_on_test[idx][key] == 'None':\n",
        "        true_.append(0)\n",
        "        predicted_.append(0)\n",
        "    elif true_full_labels[idx][key] != 'None' and predictions_on_test[idx][key] != 'None':\n",
        "        true_.append(1)\n",
        "        predicted_.append(1)\n",
        "    elif true_full_labels[idx][key] == 'None' and predictions_on_test[idx][key] != 'None':\n",
        "        true_.append(0)\n",
        "        predicted_.append(1)\n",
        "    elif true_full_labels[idx][key] != 'None' and predictions_on_test[idx][key] == 'None':\n",
        "        true_.append(1)\n",
        "        predicted_.append(0)\n",
        "\n",
        "accuracy = accuracy_score(true_, predicted_)\n",
        "precision = precision_score(true_, predicted_)\n",
        "recall = recall_score(true_, predicted_)\n",
        "f1 = f1_score(true_, predicted_)\n",
        "\n",
        "print(f'Accuracy = {accuracy}')\n",
        "print(f'Precision = {precision}')\n",
        "print(f'Recall = {recall}')\n",
        "print(f'f1 = {f1}')"
      ]
    },
    {
      "cell_type": "markdown",
      "metadata": {
        "id": "K5M-NI4VJ34b"
      },
      "source": [
        "### đánh giá hiệu suất khía cạnh trên class FEATURES"
      ]
    },
    {
      "cell_type": "code",
      "execution_count": 28,
      "metadata": {
        "id": "MSer0vYsJ34c",
        "colab": {
          "base_uri": "https://localhost:8080/"
        },
        "outputId": "01b643aa-355e-4a97-d750-b06127356d21"
      },
      "outputs": [
        {
          "metadata": {
            "tags": null
          },
          "name": "stdout",
          "output_type": "stream",
          "text": [
            "Accuracy = 0.9132194244604317\n",
            "Precision = 0.8390052356020943\n",
            "Recall = 0.9015471167369902\n",
            "f1 = 0.8691525423728813\n"
          ]
        }
      ],
      "source": [
        "true_ = []\n",
        "predicted_ = []\n",
        "\n",
        "for idx in range(len(true_full_labels)):\n",
        "    key = 'FEATURES'\n",
        "    if true_full_labels[idx][key] == 'None' and predictions_on_test[idx][key] == 'None':\n",
        "        true_.append(0)\n",
        "        predicted_.append(0)\n",
        "    elif true_full_labels[idx][key] != 'None' and predictions_on_test[idx][key] != 'None':\n",
        "        true_.append(1)\n",
        "        predicted_.append(1)\n",
        "    elif true_full_labels[idx][key] == 'None' and predictions_on_test[idx][key] != 'None':\n",
        "        true_.append(0)\n",
        "        predicted_.append(1)\n",
        "    elif true_full_labels[idx][key] != 'None' and predictions_on_test[idx][key] == 'None':\n",
        "        true_.append(1)\n",
        "        predicted_.append(0)\n",
        "\n",
        "accuracy = accuracy_score(true_, predicted_)\n",
        "precision = precision_score(true_, predicted_)\n",
        "recall = recall_score(true_, predicted_)\n",
        "f1 = f1_score(true_, predicted_)\n",
        "\n",
        "print(f'Accuracy = {accuracy}')\n",
        "print(f'Precision = {precision}')\n",
        "print(f'Recall = {recall}')\n",
        "print(f'f1 = {f1}')"
      ]
    },
    {
      "cell_type": "markdown",
      "metadata": {
        "id": "GQ4tBgtfJ34c"
      },
      "source": [
        "### đánh giá hiệu suất khía cạnh trên class PERFORMANCE"
      ]
    },
    {
      "cell_type": "code",
      "execution_count": 29,
      "metadata": {
        "id": "p00r_Js6J34c",
        "colab": {
          "base_uri": "https://localhost:8080/"
        },
        "outputId": "b6dfcf39-bc1c-4abe-de77-25b62c6746df"
      },
      "outputs": [
        {
          "metadata": {
            "tags": null
          },
          "name": "stdout",
          "output_type": "stream",
          "text": [
            "Accuracy = 0.9024280575539568\n",
            "Precision = 0.9050042408821035\n",
            "Recall = 0.9104095563139932\n",
            "f1 = 0.9076988515525308\n"
          ]
        }
      ],
      "source": [
        "true_ = []\n",
        "predicted_ = []\n",
        "\n",
        "for idx in range(len(true_full_labels)):\n",
        "    key = 'PERFORMANCE'\n",
        "    if true_full_labels[idx][key] == 'None' and predictions_on_test[idx][key] == 'None':\n",
        "        true_.append(0)\n",
        "        predicted_.append(0)\n",
        "    elif true_full_labels[idx][key] != 'None' and predictions_on_test[idx][key] != 'None':\n",
        "        true_.append(1)\n",
        "        predicted_.append(1)\n",
        "    elif true_full_labels[idx][key] == 'None' and predictions_on_test[idx][key] != 'None':\n",
        "        true_.append(0)\n",
        "        predicted_.append(1)\n",
        "    elif true_full_labels[idx][key] != 'None' and predictions_on_test[idx][key] == 'None':\n",
        "        true_.append(1)\n",
        "        predicted_.append(0)\n",
        "\n",
        "accuracy = accuracy_score(true_, predicted_)\n",
        "precision = precision_score(true_, predicted_)\n",
        "recall = recall_score(true_, predicted_)\n",
        "f1 = f1_score(true_, predicted_)\n",
        "\n",
        "print(f'Accuracy = {accuracy}')\n",
        "print(f'Precision = {precision}')\n",
        "print(f'Recall = {recall}')\n",
        "print(f'f1 = {f1}')"
      ]
    },
    {
      "cell_type": "markdown",
      "metadata": {
        "id": "9fP_k-soJ34c"
      },
      "source": [
        "### đánh giá hiệu suất khía cạnh trên class GENERAL"
      ]
    },
    {
      "cell_type": "code",
      "execution_count": 30,
      "metadata": {
        "id": "1fPqu2cqJ34c",
        "colab": {
          "base_uri": "https://localhost:8080/"
        },
        "outputId": "e8a344a8-e0e0-47b1-8b34-fcc641a06c53"
      },
      "outputs": [
        {
          "metadata": {
            "tags": null
          },
          "name": "stdout",
          "output_type": "stream",
          "text": [
            "Accuracy = 0.8538669064748201\n",
            "Precision = 0.8626373626373627\n",
            "Recall = 0.9094858797972484\n",
            "f1 = 0.8854423686993302\n"
          ]
        }
      ],
      "source": [
        "true_ = []\n",
        "predicted_ = []\n",
        "\n",
        "for idx in range(len(true_full_labels)):\n",
        "    key = 'GENERAL'\n",
        "    if true_full_labels[idx][key] == 'None' and predictions_on_test[idx][key] == 'None':\n",
        "        true_.append(0)\n",
        "        predicted_.append(0)\n",
        "    elif true_full_labels[idx][key] != 'None' and predictions_on_test[idx][key] != 'None':\n",
        "        true_.append(1)\n",
        "        predicted_.append(1)\n",
        "    elif true_full_labels[idx][key] == 'None' and predictions_on_test[idx][key] != 'None':\n",
        "        true_.append(0)\n",
        "        predicted_.append(1)\n",
        "    elif true_full_labels[idx][key] != 'None' and predictions_on_test[idx][key] == 'None':\n",
        "        true_.append(1)\n",
        "        predicted_.append(0)\n",
        "\n",
        "accuracy = accuracy_score(true_, predicted_)\n",
        "precision = precision_score(true_, predicted_)\n",
        "recall = recall_score(true_, predicted_)\n",
        "f1 = f1_score(true_, predicted_)\n",
        "\n",
        "print(f'Accuracy = {accuracy}')\n",
        "print(f'Precision = {precision}')\n",
        "print(f'Recall = {recall}')\n",
        "print(f'f1 = {f1}')"
      ]
    },
    {
      "cell_type": "markdown",
      "metadata": {
        "id": "43yhplWaJ34d"
      },
      "source": [
        "### đánh giá hiệu suất khía cạnh trên class BATTERY"
      ]
    },
    {
      "cell_type": "code",
      "execution_count": 31,
      "metadata": {
        "id": "QQFTp1ezJ34d",
        "colab": {
          "base_uri": "https://localhost:8080/"
        },
        "outputId": "1871a78d-1480-48e7-8f0f-1abe2d940bc4"
      },
      "outputs": [
        {
          "metadata": {
            "tags": null
          },
          "name": "stdout",
          "output_type": "stream",
          "text": [
            "Accuracy = 0.9662769784172662\n",
            "Precision = 0.9458689458689459\n",
            "Recall = 0.9822485207100592\n",
            "f1 = 0.9637155297532656\n"
          ]
        }
      ],
      "source": [
        "true_ = []\n",
        "predicted_ = []\n",
        "\n",
        "for idx in range(len(true_full_labels)):\n",
        "    key = 'BATTERY'\n",
        "    if true_full_labels[idx][key] == 'None' and predictions_on_test[idx][key] == 'None':\n",
        "        true_.append(0)\n",
        "        predicted_.append(0)\n",
        "    elif true_full_labels[idx][key] != 'None' and predictions_on_test[idx][key] != 'None':\n",
        "        true_.append(1)\n",
        "        predicted_.append(1)\n",
        "    elif true_full_labels[idx][key] == 'None' and predictions_on_test[idx][key] != 'None':\n",
        "        true_.append(0)\n",
        "        predicted_.append(1)\n",
        "    elif true_full_labels[idx][key] != 'None' and predictions_on_test[idx][key] == 'None':\n",
        "        true_.append(1)\n",
        "        predicted_.append(0)\n",
        "\n",
        "accuracy = accuracy_score(true_, predicted_)\n",
        "precision = precision_score(true_, predicted_)\n",
        "recall = recall_score(true_, predicted_)\n",
        "f1 = f1_score(true_, predicted_)\n",
        "\n",
        "print(f'Accuracy = {accuracy}')\n",
        "print(f'Precision = {precision}')\n",
        "print(f'Recall = {recall}')\n",
        "print(f'f1 = {f1}')"
      ]
    },
    {
      "cell_type": "markdown",
      "metadata": {
        "id": "vG0WTyZOJ34d"
      },
      "source": [
        "### đánh giá hiệu suất khía cạnh trên class STORAGE"
      ]
    },
    {
      "cell_type": "code",
      "execution_count": 32,
      "metadata": {
        "id": "CfNbm_AnJ34d",
        "colab": {
          "base_uri": "https://localhost:8080/"
        },
        "outputId": "c48fcec3-90f6-4a56-e1d6-0ecc6593b8d8"
      },
      "outputs": [
        {
          "metadata": {
            "tags": null
          },
          "name": "stdout",
          "output_type": "stream",
          "text": [
            "Accuracy = 0.9928057553956835\n",
            "Precision = 0.6666666666666666\n",
            "Recall = 0.8148148148148148\n",
            "f1 = 0.7333333333333333\n"
          ]
        }
      ],
      "source": [
        "true_ = []\n",
        "predicted_ = []\n",
        "\n",
        "for idx in range(len(true_full_labels)):\n",
        "    key = 'STORAGE'\n",
        "    if true_full_labels[idx][key] == 'None' and predictions_on_test[idx][key] == 'None':\n",
        "        true_.append(0)\n",
        "        predicted_.append(0)\n",
        "    elif true_full_labels[idx][key] != 'None' and predictions_on_test[idx][key] != 'None':\n",
        "        true_.append(1)\n",
        "        predicted_.append(1)\n",
        "    elif true_full_labels[idx][key] == 'None' and predictions_on_test[idx][key] != 'None':\n",
        "        true_.append(0)\n",
        "        predicted_.append(1)\n",
        "    elif true_full_labels[idx][key] != 'None' and predictions_on_test[idx][key] == 'None':\n",
        "        true_.append(1)\n",
        "        predicted_.append(0)\n",
        "\n",
        "accuracy = accuracy_score(true_, predicted_)\n",
        "precision = precision_score(true_, predicted_)\n",
        "recall = recall_score(true_, predicted_)\n",
        "f1 = f1_score(true_, predicted_)\n",
        "\n",
        "print(f'Accuracy = {accuracy}')\n",
        "print(f'Precision = {precision}')\n",
        "print(f'Recall = {recall}')\n",
        "print(f'f1 = {f1}')"
      ]
    },
    {
      "cell_type": "markdown",
      "metadata": {
        "id": "upZXIYxyJ34d"
      },
      "source": [
        "### đánh giá hiệu suất khía cạnh trên class DESIGN"
      ]
    },
    {
      "cell_type": "code",
      "execution_count": 33,
      "metadata": {
        "id": "pfWYs1aWJ34d",
        "colab": {
          "base_uri": "https://localhost:8080/"
        },
        "outputId": "715236a5-c244-43e1-9a33-df971677d8b3"
      },
      "outputs": [
        {
          "metadata": {
            "tags": null
          },
          "name": "stdout",
          "output_type": "stream",
          "text": [
            "Accuracy = 0.9514388489208633\n",
            "Precision = 0.864321608040201\n",
            "Recall = 0.864321608040201\n",
            "f1 = 0.864321608040201\n"
          ]
        }
      ],
      "source": [
        "true_ = []\n",
        "predicted_ = []\n",
        "\n",
        "for idx in range(len(true_full_labels)):\n",
        "    key = 'DESIGN'\n",
        "    if true_full_labels[idx][key] == 'None' and predictions_on_test[idx][key] == 'None':\n",
        "        true_.append(0)\n",
        "        predicted_.append(0)\n",
        "    elif true_full_labels[idx][key] != 'None' and predictions_on_test[idx][key] != 'None':\n",
        "        true_.append(1)\n",
        "        predicted_.append(1)\n",
        "    elif true_full_labels[idx][key] == 'None' and predictions_on_test[idx][key] != 'None':\n",
        "        true_.append(0)\n",
        "        predicted_.append(1)\n",
        "    elif true_full_labels[idx][key] != 'None' and predictions_on_test[idx][key] == 'None':\n",
        "        true_.append(1)\n",
        "        predicted_.append(0)\n",
        "\n",
        "accuracy = accuracy_score(true_, predicted_)\n",
        "precision = precision_score(true_, predicted_)\n",
        "recall = recall_score(true_, predicted_)\n",
        "f1 = f1_score(true_, predicted_)\n",
        "\n",
        "print(f'Accuracy = {accuracy}')\n",
        "print(f'Precision = {precision}')\n",
        "print(f'Recall = {recall}')\n",
        "print(f'f1 = {f1}')"
      ]
    },
    {
      "cell_type": "markdown",
      "metadata": {
        "id": "wslK7nPmJ34e"
      },
      "source": [
        "### đánh giá hiệu suất khía cạnh trên class PRICE"
      ]
    },
    {
      "cell_type": "code",
      "execution_count": 34,
      "metadata": {
        "id": "0npd4Lz4J34e",
        "colab": {
          "base_uri": "https://localhost:8080/"
        },
        "outputId": "3af307fd-a289-43a1-92f9-4e69ddfcbf4c"
      },
      "outputs": [
        {
          "metadata": {
            "tags": null
          },
          "name": "stdout",
          "output_type": "stream",
          "text": [
            "Accuracy = 0.9482913669064749\n",
            "Precision = 0.8733552631578947\n",
            "Recall = 0.9332161687170475\n",
            "f1 = 0.9022939677145284\n"
          ]
        }
      ],
      "source": [
        "true_ = []\n",
        "predicted_ = []\n",
        "\n",
        "for idx in range(len(true_full_labels)):\n",
        "    key = 'PRICE'\n",
        "    if true_full_labels[idx][key] == 'None' and predictions_on_test[idx][key] == 'None':\n",
        "        true_.append(0)\n",
        "        predicted_.append(0)\n",
        "    elif true_full_labels[idx][key] != 'None' and predictions_on_test[idx][key] != 'None':\n",
        "        true_.append(1)\n",
        "        predicted_.append(1)\n",
        "    elif true_full_labels[idx][key] == 'None' and predictions_on_test[idx][key] != 'None':\n",
        "        true_.append(0)\n",
        "        predicted_.append(1)\n",
        "    elif true_full_labels[idx][key] != 'None' and predictions_on_test[idx][key] == 'None':\n",
        "        true_.append(1)\n",
        "        predicted_.append(0)\n",
        "\n",
        "accuracy = accuracy_score(true_, predicted_)\n",
        "precision = precision_score(true_, predicted_)\n",
        "recall = recall_score(true_, predicted_)\n",
        "f1 = f1_score(true_, predicted_)\n",
        "\n",
        "print(f'Accuracy = {accuracy}')\n",
        "print(f'Precision = {precision}')\n",
        "print(f'Recall = {recall}')\n",
        "print(f'f1 = {f1}')"
      ]
    },
    {
      "cell_type": "markdown",
      "metadata": {
        "id": "SCeyFrF3J34e"
      },
      "source": [
        "### đánh giá hiệu suất khía cạnh trên class SER&ACC"
      ]
    },
    {
      "cell_type": "code",
      "execution_count": 35,
      "metadata": {
        "id": "sP4mwuANJ34e",
        "colab": {
          "base_uri": "https://localhost:8080/"
        },
        "outputId": "a7c44dfb-828c-4d59-d473-13aace5c7a9e"
      },
      "outputs": [
        {
          "metadata": {
            "tags": null
          },
          "name": "stdout",
          "output_type": "stream",
          "text": [
            "Accuracy = 0.89568345323741\n",
            "Precision = 0.8464491362763915\n",
            "Recall = 0.7436762225969646\n",
            "f1 = 0.7917414721723519\n"
          ]
        }
      ],
      "source": [
        "true_ = []\n",
        "predicted_ = []\n",
        "\n",
        "for idx in range(len(true_full_labels)):\n",
        "    key = 'SER&ACC'\n",
        "    if true_full_labels[idx][key] == 'None' and predictions_on_test[idx][key] == 'None':\n",
        "        true_.append(0)\n",
        "        predicted_.append(0)\n",
        "    elif true_full_labels[idx][key] != 'None' and predictions_on_test[idx][key] != 'None':\n",
        "        true_.append(1)\n",
        "        predicted_.append(1)\n",
        "    elif true_full_labels[idx][key] == 'None' and predictions_on_test[idx][key] != 'None':\n",
        "        true_.append(0)\n",
        "        predicted_.append(1)\n",
        "    elif true_full_labels[idx][key] != 'None' and predictions_on_test[idx][key] == 'None':\n",
        "        true_.append(1)\n",
        "        predicted_.append(0)\n",
        "\n",
        "accuracy = accuracy_score(true_, predicted_)\n",
        "precision = precision_score(true_, predicted_)\n",
        "recall = recall_score(true_, predicted_)\n",
        "f1 = f1_score(true_, predicted_)\n",
        "\n",
        "print(f'Accuracy = {accuracy}')\n",
        "print(f'Precision = {precision}')\n",
        "print(f'Recall = {recall}')\n",
        "print(f'f1 = {f1}')"
      ]
    },
    {
      "cell_type": "markdown",
      "metadata": {
        "id": "z-L-sq_8J34e"
      },
      "source": [
        "### đánh giá hiệu suất khía cạnh trên class CAMERA"
      ]
    },
    {
      "cell_type": "code",
      "execution_count": 36,
      "metadata": {
        "id": "iYApo0BFJ34e",
        "colab": {
          "base_uri": "https://localhost:8080/"
        },
        "outputId": "00e24b69-d6f0-4aa2-8ff0-c3bab83e86c9"
      },
      "outputs": [
        {
          "metadata": {
            "tags": null
          },
          "name": "stdout",
          "output_type": "stream",
          "text": [
            "Accuracy = 0.9734712230215827\n",
            "Precision = 0.9300813008130081\n",
            "Recall = 0.9727891156462585\n",
            "f1 = 0.9509559434746467\n"
          ]
        }
      ],
      "source": [
        "true_ = []\n",
        "predicted_ = []\n",
        "\n",
        "for idx in range(len(true_full_labels)):\n",
        "    key = 'CAMERA'\n",
        "    if true_full_labels[idx][key] == 'None' and predictions_on_test[idx][key] == 'None':\n",
        "        true_.append(0)\n",
        "        predicted_.append(0)\n",
        "    elif true_full_labels[idx][key] != 'None' and predictions_on_test[idx][key] != 'None':\n",
        "        true_.append(1)\n",
        "        predicted_.append(1)\n",
        "    elif true_full_labels[idx][key] == 'None' and predictions_on_test[idx][key] != 'None':\n",
        "        true_.append(0)\n",
        "        predicted_.append(1)\n",
        "    elif true_full_labels[idx][key] != 'None' and predictions_on_test[idx][key] == 'None':\n",
        "        true_.append(1)\n",
        "        predicted_.append(0)\n",
        "\n",
        "accuracy = accuracy_score(true_, predicted_)\n",
        "precision = precision_score(true_, predicted_)\n",
        "recall = recall_score(true_, predicted_)\n",
        "f1 = f1_score(true_, predicted_)\n",
        "\n",
        "print(f'Accuracy = {accuracy}')\n",
        "print(f'Precision = {precision}')\n",
        "print(f'Recall = {recall}')\n",
        "print(f'f1 = {f1}')"
      ]
    },
    {
      "cell_type": "markdown",
      "metadata": {
        "id": "6MJMt5imJ34f"
      },
      "source": [
        "# 09. Đánh giá hiệu suất nhận diện tình cảm (đa nhãn)"
      ]
    },
    {
      "cell_type": "markdown",
      "metadata": {
        "id": "ESD5xIHMJ34f"
      },
      "source": [
        "### Accuracy trên toàn bộ data kiểm thử\n",
        "acc = corrects/(all predictions)"
      ]
    },
    {
      "cell_type": "code",
      "execution_count": 37,
      "metadata": {
        "id": "L9TAB9o7J34f",
        "colab": {
          "base_uri": "https://localhost:8080/"
        },
        "outputId": "8acd042f-b13b-4e4e-e52a-87b218b957a0"
      },
      "outputs": [
        {
          "metadata": {
            "tags": null
          },
          "name": "stdout",
          "output_type": "stream",
          "text": [
            "Accuracy = 0.8103243082415947\n"
          ]
        }
      ],
      "source": [
        "true_ = []\n",
        "predicted_ = []\n",
        "accuracy = []\n",
        "\n",
        "for idx in range(len(true_full_labels)):\n",
        "    for key, value in true_full_labels[idx].items():\n",
        "        if value == 'None':\n",
        "            continue\n",
        "        elif predictions_on_test[idx][key] != value:\n",
        "            accuracy.append(0)\n",
        "        elif predictions_on_test[idx][key] == value:\n",
        "            accuracy.append(1)\n",
        "\n",
        "print(f'Accuracy = {sum(accuracy)/len(accuracy)}')"
      ]
    },
    {
      "cell_type": "markdown",
      "metadata": {
        "id": "nZ92SaXXJ34f"
      },
      "source": [
        "### Precisio, Recall, F1-score tình cảm trên toàn bộ data kiểm thử"
      ]
    },
    {
      "cell_type": "code",
      "execution_count": 38,
      "metadata": {
        "id": "J0TjB0BdJ34f",
        "colab": {
          "base_uri": "https://localhost:8080/"
        },
        "outputId": "a230d74e-b6cd-49ac-d374-e9f22c33945a"
      },
      "outputs": [
        {
          "metadata": {
            "tags": null
          },
          "name": "stdout",
          "output_type": "stream",
          "text": [
            "Classification report:\n",
            "                      precision    recall  f1-score   support\n",
            "\n",
            "    BATTERY_Negative     0.8293    0.9239    0.8740       368\n",
            "     BATTERY_Neutral     0.4595    0.5543    0.5025        92\n",
            "        BATTERY_None     0.9846    0.9529    0.9685      1210\n",
            "    BATTERY_Positive     0.9154    0.8791    0.8969       554\n",
            "     CAMERA_Negative     0.7656    0.8596    0.8099       171\n",
            "      CAMERA_Neutral     0.5897    0.6479    0.6174        71\n",
            "         CAMERA_None     0.9901    0.9737    0.9818      1636\n",
            "     CAMERA_Positive     0.9217    0.9191    0.9204       346\n",
            "     DESIGN_Negative     0.6250    0.5729    0.5978        96\n",
            "      DESIGN_Neutral     0.4000    0.2143    0.2791        28\n",
            "         DESIGN_None     0.9704    0.9704    0.9704      1826\n",
            "     DESIGN_Positive     0.8373    0.9015    0.8682       274\n",
            "   FEATURES_Negative     0.8033    0.8453    0.8238       459\n",
            "    FEATURES_Neutral     0.3676    0.4808    0.4167        52\n",
            "       FEATURES_None     0.9521    0.9187    0.9351      1513\n",
            "   FEATURES_Positive     0.6995    0.7450    0.7215       200\n",
            "    GENERAL_Negative     0.6829    0.8129    0.7422       294\n",
            "     GENERAL_Neutral     0.5844    0.5422    0.5625        83\n",
            "        GENERAL_None     0.8372    0.7628    0.7983       843\n",
            "    GENERAL_Positive     0.8844    0.9064    0.8952      1004\n",
            "PERFORMANCE_Negative     0.7965    0.8018    0.7991       454\n",
            " PERFORMANCE_Neutral     0.4095    0.3707    0.3891       116\n",
            "    PERFORMANCE_None     0.8995    0.8935    0.8965      1052\n",
            "PERFORMANCE_Positive     0.8639    0.8854    0.8745       602\n",
            "      PRICE_Negative     0.4685    0.6582    0.5474        79\n",
            "       PRICE_Neutral     0.7830    0.7591    0.7709       328\n",
            "          PRICE_None     0.9765    0.9535    0.9648      1655\n",
            "      PRICE_Positive     0.7263    0.8025    0.7625       162\n",
            "     SCREEN_Negative     0.6028    0.7328    0.6615       116\n",
            "      SCREEN_Neutral     0.0833    0.0588    0.0690        17\n",
            "         SCREEN_None     0.9823    0.9627    0.9724      1955\n",
            "     SCREEN_Positive     0.7613    0.8676    0.8110       136\n",
            "    SER&ACC_Negative     0.6134    0.4371    0.5105       167\n",
            "     SER&ACC_Neutral     0.1538    0.1481    0.1509        27\n",
            "        SER&ACC_None     0.9107    0.9510    0.9304      1631\n",
            "    SER&ACC_Positive     0.8670    0.8170    0.8413       399\n",
            "    STORAGE_Negative     0.2500    0.3333    0.2857         6\n",
            "     STORAGE_Neutral     0.0000    0.0000    0.0000         3\n",
            "        STORAGE_None     0.9977    0.9950    0.9964      2197\n",
            "    STORAGE_Positive     0.5600    0.7778    0.6512        18\n",
            "\n",
            "            accuracy                         0.9054     22240\n",
            "           macro avg     0.6952    0.7147    0.7017     22240\n",
            "        weighted avg     0.9074    0.9054    0.9057     22240\n",
            "\n"
          ]
        }
      ],
      "source": [
        "from sklearn.metrics import classification_report\n",
        "\n",
        "\n",
        "y_true = []\n",
        "y_pred = []\n",
        "\n",
        "for idx in range(len(true_labels)):\n",
        "    for key, value in true_labels[idx].items():\n",
        "        y_true.append(key + \"_\" + value)\n",
        "        y_pred.append(key + \"_\" + predictions_on_test[idx][key])\n",
        "\n",
        "\n",
        "print(f'Classification report:')\n",
        "print(classification_report(y_true, y_pred, digits=4))"
      ]
    },
    {
      "cell_type": "code",
      "execution_count": 39,
      "metadata": {
        "id": "g813NYuqJ34f",
        "colab": {
          "base_uri": "https://localhost:8080/"
        },
        "outputId": "cc31b376-36ba-4025-f602-9dd416ccbccf"
      },
      "outputs": [
        {
          "metadata": {
            "tags": null
          },
          "name": "stdout",
          "output_type": "stream",
          "text": [
            "\n",
            "Overall Precision, Recall, F1-Score:\n",
            "Micro Precision: 0.9054\n",
            "Micro Recall: 0.9054\n",
            "Micro F1-Score: 0.9054\n",
            "Macro Precision: 0.6952\n",
            "Macro Recall: 0.7147\n",
            "Macro F1-Score: 0.7017\n",
            "Weighted Precision: 0.9074\n",
            "Weighted Recall: 0.9054\n",
            "Weighted F1-Score: 0.9057\n"
          ]
        }
      ],
      "source": [
        "precision_micro = precision_score(y_true, y_pred, average='micro')\n",
        "recall_micro = recall_score(y_true, y_pred, average='micro')\n",
        "f1_micro = f1_score(y_true, y_pred, average='micro')\n",
        "\n",
        "precision_macro = precision_score(y_true, y_pred, average='macro')\n",
        "recall_macro = recall_score(y_true, y_pred, average='macro')\n",
        "f1_macro = f1_score(y_true, y_pred, average='macro')\n",
        "\n",
        "precision_weighted = precision_score(y_true, y_pred, average='weighted')\n",
        "recall_weighted = recall_score(y_true, y_pred, average='weighted')\n",
        "f1_weighted = f1_score(y_true, y_pred, average='weighted')\n",
        "\n",
        "print(\"\\nOverall Precision, Recall, F1-Score:\")\n",
        "print(f\"Micro Precision: {precision_micro:.4f}\")\n",
        "print(f\"Micro Recall: {recall_micro:.4f}\")\n",
        "print(f\"Micro F1-Score: {f1_micro:.4f}\")\n",
        "print(f\"Macro Precision: {precision_macro:.4f}\")\n",
        "print(f\"Macro Recall: {recall_macro:.4f}\")\n",
        "print(f\"Macro F1-Score: {f1_macro:.4f}\")\n",
        "print(f\"Weighted Precision: {precision_weighted:.4f}\")\n",
        "print(f\"Weighted Recall: {recall_weighted:.4f}\")\n",
        "print(f\"Weighted F1-Score: {f1_weighted:.4f}\")"
      ]
    },
    {
      "cell_type": "markdown",
      "metadata": {
        "id": "KJhXGy1PJ34f"
      },
      "source": [
        "### Đánh giá hiệu suất nhận diện tình cảm của khía cạnh SCREEN"
      ]
    },
    {
      "cell_type": "code",
      "execution_count": 40,
      "metadata": {
        "id": "dz3xcLcbJ34g",
        "colab": {
          "base_uri": "https://localhost:8080/"
        },
        "outputId": "01d8727a-e8ae-4f2e-8c1b-bc43be47e126"
      },
      "outputs": [
        {
          "metadata": {
            "tags": null
          },
          "name": "stdout",
          "output_type": "stream",
          "text": [
            "              precision    recall  f1-score   support\n",
            "\n",
            "    Negative       0.60      0.73      0.66       116\n",
            "     Neutral       0.08      0.06      0.07        17\n",
            "        None       0.98      0.96      0.97      1955\n",
            "    Positive       0.76      0.87      0.81       136\n",
            "\n",
            "    accuracy                           0.94      2224\n",
            "   macro avg       0.61      0.66      0.63      2224\n",
            "weighted avg       0.94      0.94      0.94      2224\n",
            "\n"
          ]
        }
      ],
      "source": [
        "y_true = []\n",
        "y_pred = []\n",
        "\n",
        "key = 'SCREEN'\n",
        "for idx in range(len(true_full_labels)):\n",
        "    y_true.append(true_full_labels[idx][key])\n",
        "    y_pred.append(predictions_on_test[idx][key])\n",
        "\n",
        "report = classification_report(y_true, y_pred)\n",
        "print(report)"
      ]
    },
    {
      "cell_type": "markdown",
      "metadata": {
        "id": "rqvgQbHCJ34g"
      },
      "source": [
        "### Đánh giá hiệu suất nhận diện tình cảm của khía cạnh FEATURES"
      ]
    },
    {
      "cell_type": "code",
      "execution_count": 41,
      "metadata": {
        "id": "A2Y6AVs2J34g",
        "colab": {
          "base_uri": "https://localhost:8080/"
        },
        "outputId": "a094ec50-845e-4559-84ba-ff6a27c56565"
      },
      "outputs": [
        {
          "metadata": {
            "tags": null
          },
          "name": "stdout",
          "output_type": "stream",
          "text": [
            "              precision    recall  f1-score   support\n",
            "\n",
            "    Negative       0.80      0.85      0.82       459\n",
            "     Neutral       0.37      0.48      0.42        52\n",
            "        None       0.95      0.92      0.94      1513\n",
            "    Positive       0.70      0.74      0.72       200\n",
            "\n",
            "    accuracy                           0.88      2224\n",
            "   macro avg       0.71      0.75      0.72      2224\n",
            "weighted avg       0.88      0.88      0.88      2224\n",
            "\n"
          ]
        }
      ],
      "source": [
        "y_true = []\n",
        "y_pred = []\n",
        "\n",
        "key = 'FEATURES'\n",
        "for idx in range(len(true_full_labels)):\n",
        "    y_true.append(true_full_labels[idx][key])\n",
        "    y_pred.append(predictions_on_test[idx][key])\n",
        "\n",
        "report = classification_report(y_true, y_pred)\n",
        "print(report)"
      ]
    },
    {
      "cell_type": "markdown",
      "metadata": {
        "id": "9pHEad0VJ34g"
      },
      "source": [
        "### Đánh giá hiệu suất nhận diện tình cảm của khía cạnh PERFORMANCE"
      ]
    },
    {
      "cell_type": "code",
      "execution_count": 42,
      "metadata": {
        "id": "A-Y4TGefJ34g",
        "colab": {
          "base_uri": "https://localhost:8080/"
        },
        "outputId": "a7da3989-be50-433a-f51e-81598d08703b"
      },
      "outputs": [
        {
          "metadata": {
            "tags": null
          },
          "name": "stdout",
          "output_type": "stream",
          "text": [
            "              precision    recall  f1-score   support\n",
            "\n",
            "    Negative       0.80      0.80      0.80       454\n",
            "     Neutral       0.41      0.37      0.39       116\n",
            "        None       0.90      0.89      0.90      1052\n",
            "    Positive       0.86      0.89      0.87       602\n",
            "\n",
            "    accuracy                           0.85      2224\n",
            "   macro avg       0.74      0.74      0.74      2224\n",
            "weighted avg       0.84      0.85      0.84      2224\n",
            "\n"
          ]
        }
      ],
      "source": [
        "y_true = []\n",
        "y_pred = []\n",
        "\n",
        "key = 'PERFORMANCE'\n",
        "for idx in range(len(true_full_labels)):\n",
        "    y_true.append(true_full_labels[idx][key])\n",
        "    y_pred.append(predictions_on_test[idx][key])\n",
        "\n",
        "report = classification_report(y_true, y_pred)\n",
        "print(report)"
      ]
    },
    {
      "cell_type": "markdown",
      "metadata": {
        "id": "MsSRq9KFJ34g"
      },
      "source": [
        "### Đánh giá hiệu suất nhận diện tình cảm của khía cạnh GENERAL"
      ]
    },
    {
      "cell_type": "code",
      "execution_count": 43,
      "metadata": {
        "id": "D50BsU8MJ34g",
        "colab": {
          "base_uri": "https://localhost:8080/"
        },
        "outputId": "b014f1c9-6ea4-4f73-ecab-8e0888789841"
      },
      "outputs": [
        {
          "metadata": {
            "tags": null
          },
          "name": "stdout",
          "output_type": "stream",
          "text": [
            "              precision    recall  f1-score   support\n",
            "\n",
            "    Negative       0.68      0.81      0.74       294\n",
            "     Neutral       0.58      0.54      0.56        83\n",
            "        None       0.84      0.76      0.80       843\n",
            "    Positive       0.88      0.91      0.90      1004\n",
            "\n",
            "    accuracy                           0.83      2224\n",
            "   macro avg       0.75      0.76      0.75      2224\n",
            "weighted avg       0.83      0.83      0.83      2224\n",
            "\n"
          ]
        }
      ],
      "source": [
        "y_true = []\n",
        "y_pred = []\n",
        "\n",
        "key = 'GENERAL'\n",
        "for idx in range(len(true_full_labels)):\n",
        "    y_true.append(true_full_labels[idx][key])\n",
        "    y_pred.append(predictions_on_test[idx][key])\n",
        "\n",
        "report = classification_report(y_true, y_pred)\n",
        "print(report)"
      ]
    },
    {
      "cell_type": "markdown",
      "metadata": {
        "id": "JV7Z_BC_J34g"
      },
      "source": [
        "### Đánh giá hiệu suất nhận diện tình cảm của khía cạnh CAMERA"
      ]
    },
    {
      "cell_type": "code",
      "execution_count": 44,
      "metadata": {
        "id": "NWqLtemrJ34g",
        "colab": {
          "base_uri": "https://localhost:8080/"
        },
        "outputId": "22c32270-53d1-4d36-e93e-7e869b7331e3"
      },
      "outputs": [
        {
          "metadata": {
            "tags": null
          },
          "name": "stdout",
          "output_type": "stream",
          "text": [
            "              precision    recall  f1-score   support\n",
            "\n",
            "    Negative       0.77      0.86      0.81       171\n",
            "     Neutral       0.59      0.65      0.62        71\n",
            "        None       0.99      0.97      0.98      1636\n",
            "    Positive       0.92      0.92      0.92       346\n",
            "\n",
            "    accuracy                           0.95      2224\n",
            "   macro avg       0.82      0.85      0.83      2224\n",
            "weighted avg       0.95      0.95      0.95      2224\n",
            "\n"
          ]
        }
      ],
      "source": [
        "y_true = []\n",
        "y_pred = []\n",
        "\n",
        "key = 'CAMERA'\n",
        "for idx in range(len(true_full_labels)):\n",
        "    y_true.append(true_full_labels[idx][key])\n",
        "    y_pred.append(predictions_on_test[idx][key])\n",
        "\n",
        "report = classification_report(y_true, y_pred)\n",
        "print(report)"
      ]
    },
    {
      "cell_type": "markdown",
      "metadata": {
        "id": "tBGRRa6PJ34g"
      },
      "source": [
        "### Đánh giá hiệu suất nhận diện tình cảm của khía cạnh BATTERY"
      ]
    },
    {
      "cell_type": "code",
      "execution_count": 45,
      "metadata": {
        "id": "wtoqUyvPJ34h",
        "colab": {
          "base_uri": "https://localhost:8080/"
        },
        "outputId": "529cda83-499c-4fa8-fa25-bedf09416c1a"
      },
      "outputs": [
        {
          "metadata": {
            "tags": null
          },
          "name": "stdout",
          "output_type": "stream",
          "text": [
            "              precision    recall  f1-score   support\n",
            "\n",
            "    Negative       0.83      0.92      0.87       368\n",
            "     Neutral       0.46      0.55      0.50        92\n",
            "        None       0.98      0.95      0.97      1210\n",
            "    Positive       0.92      0.88      0.90       554\n",
            "\n",
            "    accuracy                           0.91      2224\n",
            "   macro avg       0.80      0.83      0.81      2224\n",
            "weighted avg       0.92      0.91      0.92      2224\n",
            "\n"
          ]
        }
      ],
      "source": [
        "y_true = []\n",
        "y_pred = []\n",
        "\n",
        "key = 'BATTERY'\n",
        "for idx in range(len(true_full_labels)):\n",
        "    y_true.append(true_full_labels[idx][key])\n",
        "    y_pred.append(predictions_on_test[idx][key])\n",
        "\n",
        "report = classification_report(y_true, y_pred)\n",
        "print(report)"
      ]
    },
    {
      "cell_type": "markdown",
      "metadata": {
        "id": "Tsigu7wFJ34h"
      },
      "source": [
        "### Đánh giá hiệu suất nhận diện tình cảm của khía cạnh STORAGE"
      ]
    },
    {
      "cell_type": "code",
      "execution_count": 46,
      "metadata": {
        "id": "667rhW9SJ34h",
        "colab": {
          "base_uri": "https://localhost:8080/"
        },
        "outputId": "cbccf291-87f8-4816-eef5-6c22b444ff3e"
      },
      "outputs": [
        {
          "metadata": {
            "tags": null
          },
          "name": "stdout",
          "output_type": "stream",
          "text": [
            "              precision    recall  f1-score   support\n",
            "\n",
            "    Negative       0.25      0.33      0.29         6\n",
            "     Neutral       0.00      0.00      0.00         3\n",
            "        None       1.00      0.99      1.00      2197\n",
            "    Positive       0.56      0.78      0.65        18\n",
            "\n",
            "    accuracy                           0.99      2224\n",
            "   macro avg       0.45      0.53      0.48      2224\n",
            "weighted avg       0.99      0.99      0.99      2224\n",
            "\n"
          ]
        }
      ],
      "source": [
        "y_true = []\n",
        "y_pred = []\n",
        "\n",
        "key = 'STORAGE'\n",
        "for idx in range(len(true_full_labels)):\n",
        "    y_true.append(true_full_labels[idx][key])\n",
        "    y_pred.append(predictions_on_test[idx][key])\n",
        "\n",
        "report = classification_report(y_true, y_pred)\n",
        "print(report)"
      ]
    },
    {
      "cell_type": "markdown",
      "metadata": {
        "id": "TaKtGBy8J34h"
      },
      "source": [
        "### Đánh giá hiệu suất nhận diện tình cảm của khía cạnh DESIGN"
      ]
    },
    {
      "cell_type": "code",
      "execution_count": 47,
      "metadata": {
        "id": "6svj0hs3J34h",
        "colab": {
          "base_uri": "https://localhost:8080/"
        },
        "outputId": "215fd106-c53d-40ea-d628-e88ddf47e7f5"
      },
      "outputs": [
        {
          "metadata": {
            "tags": null
          },
          "name": "stdout",
          "output_type": "stream",
          "text": [
            "              precision    recall  f1-score   support\n",
            "\n",
            "    Negative       0.62      0.57      0.60        96\n",
            "     Neutral       0.40      0.21      0.28        28\n",
            "        None       0.97      0.97      0.97      1826\n",
            "    Positive       0.84      0.90      0.87       274\n",
            "\n",
            "    accuracy                           0.94      2224\n",
            "   macro avg       0.71      0.66      0.68      2224\n",
            "weighted avg       0.93      0.94      0.93      2224\n",
            "\n"
          ]
        }
      ],
      "source": [
        "y_true = []\n",
        "y_pred = []\n",
        "\n",
        "key = 'DESIGN'\n",
        "for idx in range(len(true_full_labels)):\n",
        "    y_true.append(true_full_labels[idx][key])\n",
        "    y_pred.append(predictions_on_test[idx][key])\n",
        "\n",
        "report = classification_report(y_true, y_pred)\n",
        "print(report)"
      ]
    },
    {
      "cell_type": "markdown",
      "metadata": {
        "id": "IQr_W3q1J34h"
      },
      "source": [
        "### Đánh giá hiệu suất nhận diện tình cảm của khía cạnh PRICE"
      ]
    },
    {
      "cell_type": "code",
      "execution_count": 48,
      "metadata": {
        "id": "-ajhmREjJ34h",
        "colab": {
          "base_uri": "https://localhost:8080/"
        },
        "outputId": "e769bb16-944b-4428-a9bc-344e1779ce59"
      },
      "outputs": [
        {
          "metadata": {
            "tags": null
          },
          "name": "stdout",
          "output_type": "stream",
          "text": [
            "              precision    recall  f1-score   support\n",
            "\n",
            "    Negative       0.47      0.66      0.55        79\n",
            "     Neutral       0.78      0.76      0.77       328\n",
            "        None       0.98      0.95      0.96      1655\n",
            "    Positive       0.73      0.80      0.76       162\n",
            "\n",
            "    accuracy                           0.90      2224\n",
            "   macro avg       0.74      0.79      0.76      2224\n",
            "weighted avg       0.91      0.90      0.91      2224\n",
            "\n"
          ]
        }
      ],
      "source": [
        "y_true = []\n",
        "y_pred = []\n",
        "\n",
        "key = 'PRICE'\n",
        "for idx in range(len(true_full_labels)):\n",
        "    y_true.append(true_full_labels[idx][key])\n",
        "    y_pred.append(predictions_on_test[idx][key])\n",
        "\n",
        "report = classification_report(y_true, y_pred)\n",
        "print(report)"
      ]
    },
    {
      "cell_type": "markdown",
      "metadata": {
        "id": "8rPwVFjkJ34h"
      },
      "source": [
        "### Đánh giá hiệu suất nhận diện tình cảm của khía cạnh SER&ACC"
      ]
    },
    {
      "cell_type": "code",
      "execution_count": 49,
      "metadata": {
        "id": "IhOuVCOPJ34h",
        "colab": {
          "base_uri": "https://localhost:8080/"
        },
        "outputId": "cad47ea0-c838-484d-f1ff-92fbb8455819"
      },
      "outputs": [
        {
          "metadata": {
            "tags": null
          },
          "name": "stdout",
          "output_type": "stream",
          "text": [
            "              precision    recall  f1-score   support\n",
            "\n",
            "    Negative       0.61      0.44      0.51       167\n",
            "     Neutral       0.15      0.15      0.15        27\n",
            "        None       0.91      0.95      0.93      1631\n",
            "    Positive       0.87      0.82      0.84       399\n",
            "\n",
            "    accuracy                           0.88      2224\n",
            "   macro avg       0.64      0.59      0.61      2224\n",
            "weighted avg       0.87      0.88      0.87      2224\n",
            "\n"
          ]
        }
      ],
      "source": [
        "y_true = []\n",
        "y_pred = []\n",
        "\n",
        "key = 'SER&ACC'\n",
        "for idx in range(len(true_full_labels)):\n",
        "    y_true.append(true_full_labels[idx][key])\n",
        "    y_pred.append(predictions_on_test[idx][key])\n",
        "\n",
        "report = classification_report(y_true, y_pred)\n",
        "print(report)"
      ]
    },
    {
      "cell_type": "code",
      "source": [],
      "metadata": {
        "id": "cM7KiGC2vDXo"
      },
      "execution_count": null,
      "outputs": []
    }
  ],
  "metadata": {
    "accelerator": "GPU",
    "colab": {
      "gpuType": "T4",
      "provenance": []
    },
    "kernelspec": {
      "display_name": "Python 3",
      "name": "python3"
    },
    "language_info": {
      "name": "python",
      "version": "3.10.0"
    },
    "widgets": {
      "application/vnd.jupyter.widget-state+json": {
        "0167a07e7bf2437a98ada8a8de9a5e5f": {
          "model_module": "@jupyter-widgets/controls",
          "model_module_version": "1.5.0",
          "model_name": "DescriptionStyleModel",
          "state": {
            "_model_module": "@jupyter-widgets/controls",
            "_model_module_version": "1.5.0",
            "_model_name": "DescriptionStyleModel",
            "_view_count": null,
            "_view_module": "@jupyter-widgets/base",
            "_view_module_version": "1.2.0",
            "_view_name": "StyleView",
            "description_width": ""
          }
        },
        "084db416e119434d8f0e1acd3de978ee": {
          "model_module": "@jupyter-widgets/base",
          "model_module_version": "1.2.0",
          "model_name": "LayoutModel",
          "state": {
            "_model_module": "@jupyter-widgets/base",
            "_model_module_version": "1.2.0",
            "_model_name": "LayoutModel",
            "_view_count": null,
            "_view_module": "@jupyter-widgets/base",
            "_view_module_version": "1.2.0",
            "_view_name": "LayoutView",
            "align_content": null,
            "align_items": null,
            "align_self": null,
            "border": null,
            "bottom": null,
            "display": null,
            "flex": null,
            "flex_flow": null,
            "grid_area": null,
            "grid_auto_columns": null,
            "grid_auto_flow": null,
            "grid_auto_rows": null,
            "grid_column": null,
            "grid_gap": null,
            "grid_row": null,
            "grid_template_areas": null,
            "grid_template_columns": null,
            "grid_template_rows": null,
            "height": null,
            "justify_content": null,
            "justify_items": null,
            "left": null,
            "margin": null,
            "max_height": null,
            "max_width": null,
            "min_height": null,
            "min_width": null,
            "object_fit": null,
            "object_position": null,
            "order": null,
            "overflow": null,
            "overflow_x": null,
            "overflow_y": null,
            "padding": null,
            "right": null,
            "top": null,
            "visibility": null,
            "width": null
          }
        },
        "0949c21e87584dc18591d0c92cd517db": {
          "model_module": "@jupyter-widgets/base",
          "model_module_version": "1.2.0",
          "model_name": "LayoutModel",
          "state": {
            "_model_module": "@jupyter-widgets/base",
            "_model_module_version": "1.2.0",
            "_model_name": "LayoutModel",
            "_view_count": null,
            "_view_module": "@jupyter-widgets/base",
            "_view_module_version": "1.2.0",
            "_view_name": "LayoutView",
            "align_content": null,
            "align_items": null,
            "align_self": null,
            "border": null,
            "bottom": null,
            "display": null,
            "flex": null,
            "flex_flow": null,
            "grid_area": null,
            "grid_auto_columns": null,
            "grid_auto_flow": null,
            "grid_auto_rows": null,
            "grid_column": null,
            "grid_gap": null,
            "grid_row": null,
            "grid_template_areas": null,
            "grid_template_columns": null,
            "grid_template_rows": null,
            "height": null,
            "justify_content": null,
            "justify_items": null,
            "left": null,
            "margin": null,
            "max_height": null,
            "max_width": null,
            "min_height": null,
            "min_width": null,
            "object_fit": null,
            "object_position": null,
            "order": null,
            "overflow": null,
            "overflow_x": null,
            "overflow_y": null,
            "padding": null,
            "right": null,
            "top": null,
            "visibility": null,
            "width": null
          }
        },
        "1c68d70311e04101b1dcf96eb9da95ea": {
          "model_module": "@jupyter-widgets/controls",
          "model_module_version": "1.5.0",
          "model_name": "HTMLModel",
          "state": {
            "_dom_classes": [],
            "_model_module": "@jupyter-widgets/controls",
            "_model_module_version": "1.5.0",
            "_model_name": "HTMLModel",
            "_view_count": null,
            "_view_module": "@jupyter-widgets/controls",
            "_view_module_version": "1.5.0",
            "_view_name": "HTMLView",
            "description": "",
            "description_tooltip": null,
            "layout": "IPY_MODEL_27986674d4454145b4c24601eeddb0a3",
            "placeholder": "​",
            "style": "IPY_MODEL_ab4a183c808b4be4a902a4c35748fccd",
            "value": " 625/625 [00:00&lt;00:00, 35.4kB/s]"
          }
        },
        "1feff9f385474a9a983da3f7b900f098": {
          "model_module": "@jupyter-widgets/controls",
          "model_module_version": "1.5.0",
          "model_name": "DescriptionStyleModel",
          "state": {
            "_model_module": "@jupyter-widgets/controls",
            "_model_module_version": "1.5.0",
            "_model_name": "DescriptionStyleModel",
            "_view_count": null,
            "_view_module": "@jupyter-widgets/base",
            "_view_module_version": "1.2.0",
            "_view_name": "StyleView",
            "description_width": ""
          }
        },
        "224b3e7589674f11aa4edc6bd108917c": {
          "model_module": "@jupyter-widgets/controls",
          "model_module_version": "1.5.0",
          "model_name": "ProgressStyleModel",
          "state": {
            "_model_module": "@jupyter-widgets/controls",
            "_model_module_version": "1.5.0",
            "_model_name": "ProgressStyleModel",
            "_view_count": null,
            "_view_module": "@jupyter-widgets/base",
            "_view_module_version": "1.2.0",
            "_view_name": "StyleView",
            "bar_color": null,
            "description_width": ""
          }
        },
        "27986674d4454145b4c24601eeddb0a3": {
          "model_module": "@jupyter-widgets/base",
          "model_module_version": "1.2.0",
          "model_name": "LayoutModel",
          "state": {
            "_model_module": "@jupyter-widgets/base",
            "_model_module_version": "1.2.0",
            "_model_name": "LayoutModel",
            "_view_count": null,
            "_view_module": "@jupyter-widgets/base",
            "_view_module_version": "1.2.0",
            "_view_name": "LayoutView",
            "align_content": null,
            "align_items": null,
            "align_self": null,
            "border": null,
            "bottom": null,
            "display": null,
            "flex": null,
            "flex_flow": null,
            "grid_area": null,
            "grid_auto_columns": null,
            "grid_auto_flow": null,
            "grid_auto_rows": null,
            "grid_column": null,
            "grid_gap": null,
            "grid_row": null,
            "grid_template_areas": null,
            "grid_template_columns": null,
            "grid_template_rows": null,
            "height": null,
            "justify_content": null,
            "justify_items": null,
            "left": null,
            "margin": null,
            "max_height": null,
            "max_width": null,
            "min_height": null,
            "min_width": null,
            "object_fit": null,
            "object_position": null,
            "order": null,
            "overflow": null,
            "overflow_x": null,
            "overflow_y": null,
            "padding": null,
            "right": null,
            "top": null,
            "visibility": null,
            "width": null
          }
        },
        "29dbbad4588441018f9a4f5673688063": {
          "model_module": "@jupyter-widgets/controls",
          "model_module_version": "1.5.0",
          "model_name": "ProgressStyleModel",
          "state": {
            "_model_module": "@jupyter-widgets/controls",
            "_model_module_version": "1.5.0",
            "_model_name": "ProgressStyleModel",
            "_view_count": null,
            "_view_module": "@jupyter-widgets/base",
            "_view_module_version": "1.2.0",
            "_view_name": "StyleView",
            "bar_color": null,
            "description_width": ""
          }
        },
        "2bf0c01c35ef4251a67125e7a2d28e47": {
          "model_module": "@jupyter-widgets/controls",
          "model_module_version": "1.5.0",
          "model_name": "HBoxModel",
          "state": {
            "_dom_classes": [],
            "_model_module": "@jupyter-widgets/controls",
            "_model_module_version": "1.5.0",
            "_model_name": "HBoxModel",
            "_view_count": null,
            "_view_module": "@jupyter-widgets/controls",
            "_view_module_version": "1.5.0",
            "_view_name": "HBoxView",
            "box_style": "",
            "children": [
              "IPY_MODEL_deff6e52b2e842ecb2347e9039565faa",
              "IPY_MODEL_89f079369ffe48bf942df633787468fa",
              "IPY_MODEL_7b63c1f8d5e648ddb6758d696ed34b72"
            ],
            "layout": "IPY_MODEL_96e4e813eeb94d70bce982ee6fac4502"
          }
        },
        "3051a117bbb54374bca0b336dc23a8f3": {
          "model_module": "@jupyter-widgets/controls",
          "model_module_version": "1.5.0",
          "model_name": "HBoxModel",
          "state": {
            "_dom_classes": [],
            "_model_module": "@jupyter-widgets/controls",
            "_model_module_version": "1.5.0",
            "_model_name": "HBoxModel",
            "_view_count": null,
            "_view_module": "@jupyter-widgets/controls",
            "_view_module_version": "1.5.0",
            "_view_name": "HBoxView",
            "box_style": "",
            "children": [
              "IPY_MODEL_3d31964b28864b3998d57db7147ecb12",
              "IPY_MODEL_477e5ca82ded4d759f1a32507a6d67f4",
              "IPY_MODEL_1c68d70311e04101b1dcf96eb9da95ea"
            ],
            "layout": "IPY_MODEL_e1f285d3effc4c10a9d22bd76114476f"
          }
        },
        "34e6096406bb4e3a8723d288ad9aa7c3": {
          "model_module": "@jupyter-widgets/controls",
          "model_module_version": "1.5.0",
          "model_name": "DescriptionStyleModel",
          "state": {
            "_model_module": "@jupyter-widgets/controls",
            "_model_module_version": "1.5.0",
            "_model_name": "DescriptionStyleModel",
            "_view_count": null,
            "_view_module": "@jupyter-widgets/base",
            "_view_module_version": "1.2.0",
            "_view_name": "StyleView",
            "description_width": ""
          }
        },
        "39e92fd7946b4a83879d708eb80e8065": {
          "model_module": "@jupyter-widgets/controls",
          "model_module_version": "1.5.0",
          "model_name": "ProgressStyleModel",
          "state": {
            "_model_module": "@jupyter-widgets/controls",
            "_model_module_version": "1.5.0",
            "_model_name": "ProgressStyleModel",
            "_view_count": null,
            "_view_module": "@jupyter-widgets/base",
            "_view_module_version": "1.2.0",
            "_view_name": "StyleView",
            "bar_color": null,
            "description_width": ""
          }
        },
        "3bc202669e7e40519b7f6ea9ba5f6b55": {
          "model_module": "@jupyter-widgets/controls",
          "model_module_version": "1.5.0",
          "model_name": "ProgressStyleModel",
          "state": {
            "_model_module": "@jupyter-widgets/controls",
            "_model_module_version": "1.5.0",
            "_model_name": "ProgressStyleModel",
            "_view_count": null,
            "_view_module": "@jupyter-widgets/base",
            "_view_module_version": "1.2.0",
            "_view_name": "StyleView",
            "bar_color": null,
            "description_width": ""
          }
        },
        "3d31964b28864b3998d57db7147ecb12": {
          "model_module": "@jupyter-widgets/controls",
          "model_module_version": "1.5.0",
          "model_name": "HTMLModel",
          "state": {
            "_dom_classes": [],
            "_model_module": "@jupyter-widgets/controls",
            "_model_module_version": "1.5.0",
            "_model_name": "HTMLModel",
            "_view_count": null,
            "_view_module": "@jupyter-widgets/controls",
            "_view_module_version": "1.5.0",
            "_view_name": "HTMLView",
            "description": "",
            "description_tooltip": null,
            "layout": "IPY_MODEL_41eb9f09b5e947c5b24ed602d6212b9d",
            "placeholder": "​",
            "style": "IPY_MODEL_34e6096406bb4e3a8723d288ad9aa7c3",
            "value": "config.json: 100%"
          }
        },
        "41eb9f09b5e947c5b24ed602d6212b9d": {
          "model_module": "@jupyter-widgets/base",
          "model_module_version": "1.2.0",
          "model_name": "LayoutModel",
          "state": {
            "_model_module": "@jupyter-widgets/base",
            "_model_module_version": "1.2.0",
            "_model_name": "LayoutModel",
            "_view_count": null,
            "_view_module": "@jupyter-widgets/base",
            "_view_module_version": "1.2.0",
            "_view_name": "LayoutView",
            "align_content": null,
            "align_items": null,
            "align_self": null,
            "border": null,
            "bottom": null,
            "display": null,
            "flex": null,
            "flex_flow": null,
            "grid_area": null,
            "grid_auto_columns": null,
            "grid_auto_flow": null,
            "grid_auto_rows": null,
            "grid_column": null,
            "grid_gap": null,
            "grid_row": null,
            "grid_template_areas": null,
            "grid_template_columns": null,
            "grid_template_rows": null,
            "height": null,
            "justify_content": null,
            "justify_items": null,
            "left": null,
            "margin": null,
            "max_height": null,
            "max_width": null,
            "min_height": null,
            "min_width": null,
            "object_fit": null,
            "object_position": null,
            "order": null,
            "overflow": null,
            "overflow_x": null,
            "overflow_y": null,
            "padding": null,
            "right": null,
            "top": null,
            "visibility": null,
            "width": null
          }
        },
        "477e5ca82ded4d759f1a32507a6d67f4": {
          "model_module": "@jupyter-widgets/controls",
          "model_module_version": "1.5.0",
          "model_name": "FloatProgressModel",
          "state": {
            "_dom_classes": [],
            "_model_module": "@jupyter-widgets/controls",
            "_model_module_version": "1.5.0",
            "_model_name": "FloatProgressModel",
            "_view_count": null,
            "_view_module": "@jupyter-widgets/controls",
            "_view_module_version": "1.5.0",
            "_view_name": "ProgressView",
            "bar_style": "success",
            "description": "",
            "description_tooltip": null,
            "layout": "IPY_MODEL_0949c21e87584dc18591d0c92cd517db",
            "max": 625,
            "min": 0,
            "orientation": "horizontal",
            "style": "IPY_MODEL_39e92fd7946b4a83879d708eb80e8065",
            "value": 625
          }
        },
        "47be2983030f4df2a47d9ad6ecc6e30c": {
          "model_module": "@jupyter-widgets/base",
          "model_module_version": "1.2.0",
          "model_name": "LayoutModel",
          "state": {
            "_model_module": "@jupyter-widgets/base",
            "_model_module_version": "1.2.0",
            "_model_name": "LayoutModel",
            "_view_count": null,
            "_view_module": "@jupyter-widgets/base",
            "_view_module_version": "1.2.0",
            "_view_name": "LayoutView",
            "align_content": null,
            "align_items": null,
            "align_self": null,
            "border": null,
            "bottom": null,
            "display": null,
            "flex": null,
            "flex_flow": null,
            "grid_area": null,
            "grid_auto_columns": null,
            "grid_auto_flow": null,
            "grid_auto_rows": null,
            "grid_column": null,
            "grid_gap": null,
            "grid_row": null,
            "grid_template_areas": null,
            "grid_template_columns": null,
            "grid_template_rows": null,
            "height": null,
            "justify_content": null,
            "justify_items": null,
            "left": null,
            "margin": null,
            "max_height": null,
            "max_width": null,
            "min_height": null,
            "min_width": null,
            "object_fit": null,
            "object_position": null,
            "order": null,
            "overflow": null,
            "overflow_x": null,
            "overflow_y": null,
            "padding": null,
            "right": null,
            "top": null,
            "visibility": null,
            "width": null
          }
        },
        "4c5527972b394ae28da74948469b2f2d": {
          "model_module": "@jupyter-widgets/base",
          "model_module_version": "1.2.0",
          "model_name": "LayoutModel",
          "state": {
            "_model_module": "@jupyter-widgets/base",
            "_model_module_version": "1.2.0",
            "_model_name": "LayoutModel",
            "_view_count": null,
            "_view_module": "@jupyter-widgets/base",
            "_view_module_version": "1.2.0",
            "_view_name": "LayoutView",
            "align_content": null,
            "align_items": null,
            "align_self": null,
            "border": null,
            "bottom": null,
            "display": null,
            "flex": null,
            "flex_flow": null,
            "grid_area": null,
            "grid_auto_columns": null,
            "grid_auto_flow": null,
            "grid_auto_rows": null,
            "grid_column": null,
            "grid_gap": null,
            "grid_row": null,
            "grid_template_areas": null,
            "grid_template_columns": null,
            "grid_template_rows": null,
            "height": null,
            "justify_content": null,
            "justify_items": null,
            "left": null,
            "margin": null,
            "max_height": null,
            "max_width": null,
            "min_height": null,
            "min_width": null,
            "object_fit": null,
            "object_position": null,
            "order": null,
            "overflow": null,
            "overflow_x": null,
            "overflow_y": null,
            "padding": null,
            "right": null,
            "top": null,
            "visibility": null,
            "width": null
          }
        },
        "7968550e225d4e978363d1b611e56328": {
          "model_module": "@jupyter-widgets/controls",
          "model_module_version": "1.5.0",
          "model_name": "HBoxModel",
          "state": {
            "_dom_classes": [],
            "_model_module": "@jupyter-widgets/controls",
            "_model_module_version": "1.5.0",
            "_model_name": "HBoxModel",
            "_view_count": null,
            "_view_module": "@jupyter-widgets/controls",
            "_view_module_version": "1.5.0",
            "_view_name": "HBoxView",
            "box_style": "",
            "children": [
              "IPY_MODEL_e14c87f650e946e4926f60206973c639",
              "IPY_MODEL_99a90692e4564f62b77266ee9504b44a",
              "IPY_MODEL_e57b2a4922db446c9111dfe19a7aedb7"
            ],
            "layout": "IPY_MODEL_4c5527972b394ae28da74948469b2f2d"
          }
        },
        "79785c06391d49d4b19e5104e03dab0d": {
          "model_module": "@jupyter-widgets/controls",
          "model_module_version": "1.5.0",
          "model_name": "HBoxModel",
          "state": {
            "_dom_classes": [],
            "_model_module": "@jupyter-widgets/controls",
            "_model_module_version": "1.5.0",
            "_model_name": "HBoxModel",
            "_view_count": null,
            "_view_module": "@jupyter-widgets/controls",
            "_view_module_version": "1.5.0",
            "_view_name": "HBoxView",
            "box_style": "",
            "children": [
              "IPY_MODEL_e55bc992e89d4e199bd7312684110aae",
              "IPY_MODEL_9262a8ea5aa34a3cb020fa4c40943b17",
              "IPY_MODEL_ee4d8c24ad064669876dfdcff0998bca"
            ],
            "layout": "IPY_MODEL_ec845922361c4992a9daa90d0d0eb78d"
          }
        },
        "7b63c1f8d5e648ddb6758d696ed34b72": {
          "model_module": "@jupyter-widgets/controls",
          "model_module_version": "1.5.0",
          "model_name": "HTMLModel",
          "state": {
            "_dom_classes": [],
            "_model_module": "@jupyter-widgets/controls",
            "_model_module_version": "1.5.0",
            "_model_name": "HTMLModel",
            "_view_count": null,
            "_view_module": "@jupyter-widgets/controls",
            "_view_module_version": "1.5.0",
            "_view_name": "HTMLView",
            "description": "",
            "description_tooltip": null,
            "layout": "IPY_MODEL_98b94fd45a98484e891f811ce5b868cd",
            "placeholder": "​",
            "style": "IPY_MODEL_af69417ae2874cd291349f954c4eb319",
            "value": " 996k/996k [00:00&lt;00:00, 3.68MB/s]"
          }
        },
        "832fad5b9b334b88979fd1d8827cf444": {
          "model_module": "@jupyter-widgets/base",
          "model_module_version": "1.2.0",
          "model_name": "LayoutModel",
          "state": {
            "_model_module": "@jupyter-widgets/base",
            "_model_module_version": "1.2.0",
            "_model_name": "LayoutModel",
            "_view_count": null,
            "_view_module": "@jupyter-widgets/base",
            "_view_module_version": "1.2.0",
            "_view_name": "LayoutView",
            "align_content": null,
            "align_items": null,
            "align_self": null,
            "border": null,
            "bottom": null,
            "display": null,
            "flex": null,
            "flex_flow": null,
            "grid_area": null,
            "grid_auto_columns": null,
            "grid_auto_flow": null,
            "grid_auto_rows": null,
            "grid_column": null,
            "grid_gap": null,
            "grid_row": null,
            "grid_template_areas": null,
            "grid_template_columns": null,
            "grid_template_rows": null,
            "height": null,
            "justify_content": null,
            "justify_items": null,
            "left": null,
            "margin": null,
            "max_height": null,
            "max_width": null,
            "min_height": null,
            "min_width": null,
            "object_fit": null,
            "object_position": null,
            "order": null,
            "overflow": null,
            "overflow_x": null,
            "overflow_y": null,
            "padding": null,
            "right": null,
            "top": null,
            "visibility": null,
            "width": null
          }
        },
        "89f079369ffe48bf942df633787468fa": {
          "model_module": "@jupyter-widgets/controls",
          "model_module_version": "1.5.0",
          "model_name": "FloatProgressModel",
          "state": {
            "_dom_classes": [],
            "_model_module": "@jupyter-widgets/controls",
            "_model_module_version": "1.5.0",
            "_model_name": "FloatProgressModel",
            "_view_count": null,
            "_view_module": "@jupyter-widgets/controls",
            "_view_module_version": "1.5.0",
            "_view_name": "ProgressView",
            "bar_style": "success",
            "description": "",
            "description_tooltip": null,
            "layout": "IPY_MODEL_974691cfe4ad455885ef354a4f787b93",
            "max": 995526,
            "min": 0,
            "orientation": "horizontal",
            "style": "IPY_MODEL_29dbbad4588441018f9a4f5673688063",
            "value": 995526
          }
        },
        "8c1608eab11c4a3e82e9be9a7fd84fe4": {
          "model_module": "@jupyter-widgets/controls",
          "model_module_version": "1.5.0",
          "model_name": "HTMLModel",
          "state": {
            "_dom_classes": [],
            "_model_module": "@jupyter-widgets/controls",
            "_model_module_version": "1.5.0",
            "_model_name": "HTMLModel",
            "_view_count": null,
            "_view_module": "@jupyter-widgets/controls",
            "_view_module_version": "1.5.0",
            "_view_name": "HTMLView",
            "description": "",
            "description_tooltip": null,
            "layout": "IPY_MODEL_c9faa934f79f42d5bbadd689a275a7fc",
            "placeholder": "​",
            "style": "IPY_MODEL_0167a07e7bf2437a98ada8a8de9a5e5f",
            "value": " 1.96M/1.96M [00:00&lt;00:00, 23.0MB/s]"
          }
        },
        "9262a8ea5aa34a3cb020fa4c40943b17": {
          "model_module": "@jupyter-widgets/controls",
          "model_module_version": "1.5.0",
          "model_name": "FloatProgressModel",
          "state": {
            "_dom_classes": [],
            "_model_module": "@jupyter-widgets/controls",
            "_model_module_version": "1.5.0",
            "_model_name": "FloatProgressModel",
            "_view_count": null,
            "_view_module": "@jupyter-widgets/controls",
            "_view_module_version": "1.5.0",
            "_view_name": "ProgressView",
            "bar_style": "success",
            "description": "",
            "description_tooltip": null,
            "layout": "IPY_MODEL_a3a831cacd2249dcba30024f4dac116f",
            "max": 714290682,
            "min": 0,
            "orientation": "horizontal",
            "style": "IPY_MODEL_3bc202669e7e40519b7f6ea9ba5f6b55",
            "value": 714290682
          }
        },
        "95dec4d710d048279f89b68901a46942": {
          "model_module": "@jupyter-widgets/controls",
          "model_module_version": "1.5.0",
          "model_name": "ProgressStyleModel",
          "state": {
            "_model_module": "@jupyter-widgets/controls",
            "_model_module_version": "1.5.0",
            "_model_name": "ProgressStyleModel",
            "_view_count": null,
            "_view_module": "@jupyter-widgets/base",
            "_view_module_version": "1.2.0",
            "_view_name": "StyleView",
            "bar_color": null,
            "description_width": ""
          }
        },
        "96e4e813eeb94d70bce982ee6fac4502": {
          "model_module": "@jupyter-widgets/base",
          "model_module_version": "1.2.0",
          "model_name": "LayoutModel",
          "state": {
            "_model_module": "@jupyter-widgets/base",
            "_model_module_version": "1.2.0",
            "_model_name": "LayoutModel",
            "_view_count": null,
            "_view_module": "@jupyter-widgets/base",
            "_view_module_version": "1.2.0",
            "_view_name": "LayoutView",
            "align_content": null,
            "align_items": null,
            "align_self": null,
            "border": null,
            "bottom": null,
            "display": null,
            "flex": null,
            "flex_flow": null,
            "grid_area": null,
            "grid_auto_columns": null,
            "grid_auto_flow": null,
            "grid_auto_rows": null,
            "grid_column": null,
            "grid_gap": null,
            "grid_row": null,
            "grid_template_areas": null,
            "grid_template_columns": null,
            "grid_template_rows": null,
            "height": null,
            "justify_content": null,
            "justify_items": null,
            "left": null,
            "margin": null,
            "max_height": null,
            "max_width": null,
            "min_height": null,
            "min_width": null,
            "object_fit": null,
            "object_position": null,
            "order": null,
            "overflow": null,
            "overflow_x": null,
            "overflow_y": null,
            "padding": null,
            "right": null,
            "top": null,
            "visibility": null,
            "width": null
          }
        },
        "974691cfe4ad455885ef354a4f787b93": {
          "model_module": "@jupyter-widgets/base",
          "model_module_version": "1.2.0",
          "model_name": "LayoutModel",
          "state": {
            "_model_module": "@jupyter-widgets/base",
            "_model_module_version": "1.2.0",
            "_model_name": "LayoutModel",
            "_view_count": null,
            "_view_module": "@jupyter-widgets/base",
            "_view_module_version": "1.2.0",
            "_view_name": "LayoutView",
            "align_content": null,
            "align_items": null,
            "align_self": null,
            "border": null,
            "bottom": null,
            "display": null,
            "flex": null,
            "flex_flow": null,
            "grid_area": null,
            "grid_auto_columns": null,
            "grid_auto_flow": null,
            "grid_auto_rows": null,
            "grid_column": null,
            "grid_gap": null,
            "grid_row": null,
            "grid_template_areas": null,
            "grid_template_columns": null,
            "grid_template_rows": null,
            "height": null,
            "justify_content": null,
            "justify_items": null,
            "left": null,
            "margin": null,
            "max_height": null,
            "max_width": null,
            "min_height": null,
            "min_width": null,
            "object_fit": null,
            "object_position": null,
            "order": null,
            "overflow": null,
            "overflow_x": null,
            "overflow_y": null,
            "padding": null,
            "right": null,
            "top": null,
            "visibility": null,
            "width": null
          }
        },
        "98b94fd45a98484e891f811ce5b868cd": {
          "model_module": "@jupyter-widgets/base",
          "model_module_version": "1.2.0",
          "model_name": "LayoutModel",
          "state": {
            "_model_module": "@jupyter-widgets/base",
            "_model_module_version": "1.2.0",
            "_model_name": "LayoutModel",
            "_view_count": null,
            "_view_module": "@jupyter-widgets/base",
            "_view_module_version": "1.2.0",
            "_view_name": "LayoutView",
            "align_content": null,
            "align_items": null,
            "align_self": null,
            "border": null,
            "bottom": null,
            "display": null,
            "flex": null,
            "flex_flow": null,
            "grid_area": null,
            "grid_auto_columns": null,
            "grid_auto_flow": null,
            "grid_auto_rows": null,
            "grid_column": null,
            "grid_gap": null,
            "grid_row": null,
            "grid_template_areas": null,
            "grid_template_columns": null,
            "grid_template_rows": null,
            "height": null,
            "justify_content": null,
            "justify_items": null,
            "left": null,
            "margin": null,
            "max_height": null,
            "max_width": null,
            "min_height": null,
            "min_width": null,
            "object_fit": null,
            "object_position": null,
            "order": null,
            "overflow": null,
            "overflow_x": null,
            "overflow_y": null,
            "padding": null,
            "right": null,
            "top": null,
            "visibility": null,
            "width": null
          }
        },
        "99a90692e4564f62b77266ee9504b44a": {
          "model_module": "@jupyter-widgets/controls",
          "model_module_version": "1.5.0",
          "model_name": "FloatProgressModel",
          "state": {
            "_dom_classes": [],
            "_model_module": "@jupyter-widgets/controls",
            "_model_module_version": "1.5.0",
            "_model_name": "FloatProgressModel",
            "_view_count": null,
            "_view_module": "@jupyter-widgets/controls",
            "_view_module_version": "1.5.0",
            "_view_name": "ProgressView",
            "bar_style": "success",
            "description": "",
            "description_tooltip": null,
            "layout": "IPY_MODEL_47be2983030f4df2a47d9ad6ecc6e30c",
            "max": 49,
            "min": 0,
            "orientation": "horizontal",
            "style": "IPY_MODEL_95dec4d710d048279f89b68901a46942",
            "value": 49
          }
        },
        "9f0aa59bee8e4e568cbc70017ba15ebd": {
          "model_module": "@jupyter-widgets/base",
          "model_module_version": "1.2.0",
          "model_name": "LayoutModel",
          "state": {
            "_model_module": "@jupyter-widgets/base",
            "_model_module_version": "1.2.0",
            "_model_name": "LayoutModel",
            "_view_count": null,
            "_view_module": "@jupyter-widgets/base",
            "_view_module_version": "1.2.0",
            "_view_name": "LayoutView",
            "align_content": null,
            "align_items": null,
            "align_self": null,
            "border": null,
            "bottom": null,
            "display": null,
            "flex": null,
            "flex_flow": null,
            "grid_area": null,
            "grid_auto_columns": null,
            "grid_auto_flow": null,
            "grid_auto_rows": null,
            "grid_column": null,
            "grid_gap": null,
            "grid_row": null,
            "grid_template_areas": null,
            "grid_template_columns": null,
            "grid_template_rows": null,
            "height": null,
            "justify_content": null,
            "justify_items": null,
            "left": null,
            "margin": null,
            "max_height": null,
            "max_width": null,
            "min_height": null,
            "min_width": null,
            "object_fit": null,
            "object_position": null,
            "order": null,
            "overflow": null,
            "overflow_x": null,
            "overflow_y": null,
            "padding": null,
            "right": null,
            "top": null,
            "visibility": null,
            "width": null
          }
        },
        "a3a831cacd2249dcba30024f4dac116f": {
          "model_module": "@jupyter-widgets/base",
          "model_module_version": "1.2.0",
          "model_name": "LayoutModel",
          "state": {
            "_model_module": "@jupyter-widgets/base",
            "_model_module_version": "1.2.0",
            "_model_name": "LayoutModel",
            "_view_count": null,
            "_view_module": "@jupyter-widgets/base",
            "_view_module_version": "1.2.0",
            "_view_name": "LayoutView",
            "align_content": null,
            "align_items": null,
            "align_self": null,
            "border": null,
            "bottom": null,
            "display": null,
            "flex": null,
            "flex_flow": null,
            "grid_area": null,
            "grid_auto_columns": null,
            "grid_auto_flow": null,
            "grid_auto_rows": null,
            "grid_column": null,
            "grid_gap": null,
            "grid_row": null,
            "grid_template_areas": null,
            "grid_template_columns": null,
            "grid_template_rows": null,
            "height": null,
            "justify_content": null,
            "justify_items": null,
            "left": null,
            "margin": null,
            "max_height": null,
            "max_width": null,
            "min_height": null,
            "min_width": null,
            "object_fit": null,
            "object_position": null,
            "order": null,
            "overflow": null,
            "overflow_x": null,
            "overflow_y": null,
            "padding": null,
            "right": null,
            "top": null,
            "visibility": null,
            "width": null
          }
        },
        "a49034725b16482bbc893caed89e5601": {
          "model_module": "@jupyter-widgets/controls",
          "model_module_version": "1.5.0",
          "model_name": "DescriptionStyleModel",
          "state": {
            "_model_module": "@jupyter-widgets/controls",
            "_model_module_version": "1.5.0",
            "_model_name": "DescriptionStyleModel",
            "_view_count": null,
            "_view_module": "@jupyter-widgets/base",
            "_view_module_version": "1.2.0",
            "_view_name": "StyleView",
            "description_width": ""
          }
        },
        "ab4a183c808b4be4a902a4c35748fccd": {
          "model_module": "@jupyter-widgets/controls",
          "model_module_version": "1.5.0",
          "model_name": "DescriptionStyleModel",
          "state": {
            "_model_module": "@jupyter-widgets/controls",
            "_model_module_version": "1.5.0",
            "_model_name": "DescriptionStyleModel",
            "_view_count": null,
            "_view_module": "@jupyter-widgets/base",
            "_view_module_version": "1.2.0",
            "_view_name": "StyleView",
            "description_width": ""
          }
        },
        "ac0c0b8522b34313a49bfea1fed51f37": {
          "model_module": "@jupyter-widgets/controls",
          "model_module_version": "1.5.0",
          "model_name": "DescriptionStyleModel",
          "state": {
            "_model_module": "@jupyter-widgets/controls",
            "_model_module_version": "1.5.0",
            "_model_name": "DescriptionStyleModel",
            "_view_count": null,
            "_view_module": "@jupyter-widgets/base",
            "_view_module_version": "1.2.0",
            "_view_name": "StyleView",
            "description_width": ""
          }
        },
        "af183018d06c487fbe20c4bcafd58f23": {
          "model_module": "@jupyter-widgets/base",
          "model_module_version": "1.2.0",
          "model_name": "LayoutModel",
          "state": {
            "_model_module": "@jupyter-widgets/base",
            "_model_module_version": "1.2.0",
            "_model_name": "LayoutModel",
            "_view_count": null,
            "_view_module": "@jupyter-widgets/base",
            "_view_module_version": "1.2.0",
            "_view_name": "LayoutView",
            "align_content": null,
            "align_items": null,
            "align_self": null,
            "border": null,
            "bottom": null,
            "display": null,
            "flex": null,
            "flex_flow": null,
            "grid_area": null,
            "grid_auto_columns": null,
            "grid_auto_flow": null,
            "grid_auto_rows": null,
            "grid_column": null,
            "grid_gap": null,
            "grid_row": null,
            "grid_template_areas": null,
            "grid_template_columns": null,
            "grid_template_rows": null,
            "height": null,
            "justify_content": null,
            "justify_items": null,
            "left": null,
            "margin": null,
            "max_height": null,
            "max_width": null,
            "min_height": null,
            "min_width": null,
            "object_fit": null,
            "object_position": null,
            "order": null,
            "overflow": null,
            "overflow_x": null,
            "overflow_y": null,
            "padding": null,
            "right": null,
            "top": null,
            "visibility": null,
            "width": null
          }
        },
        "af595d6af3f84030bb6c7fa3142a1db3": {
          "model_module": "@jupyter-widgets/base",
          "model_module_version": "1.2.0",
          "model_name": "LayoutModel",
          "state": {
            "_model_module": "@jupyter-widgets/base",
            "_model_module_version": "1.2.0",
            "_model_name": "LayoutModel",
            "_view_count": null,
            "_view_module": "@jupyter-widgets/base",
            "_view_module_version": "1.2.0",
            "_view_name": "LayoutView",
            "align_content": null,
            "align_items": null,
            "align_self": null,
            "border": null,
            "bottom": null,
            "display": null,
            "flex": null,
            "flex_flow": null,
            "grid_area": null,
            "grid_auto_columns": null,
            "grid_auto_flow": null,
            "grid_auto_rows": null,
            "grid_column": null,
            "grid_gap": null,
            "grid_row": null,
            "grid_template_areas": null,
            "grid_template_columns": null,
            "grid_template_rows": null,
            "height": null,
            "justify_content": null,
            "justify_items": null,
            "left": null,
            "margin": null,
            "max_height": null,
            "max_width": null,
            "min_height": null,
            "min_width": null,
            "object_fit": null,
            "object_position": null,
            "order": null,
            "overflow": null,
            "overflow_x": null,
            "overflow_y": null,
            "padding": null,
            "right": null,
            "top": null,
            "visibility": null,
            "width": null
          }
        },
        "af69417ae2874cd291349f954c4eb319": {
          "model_module": "@jupyter-widgets/controls",
          "model_module_version": "1.5.0",
          "model_name": "DescriptionStyleModel",
          "state": {
            "_model_module": "@jupyter-widgets/controls",
            "_model_module_version": "1.5.0",
            "_model_name": "DescriptionStyleModel",
            "_view_count": null,
            "_view_module": "@jupyter-widgets/base",
            "_view_module_version": "1.2.0",
            "_view_name": "StyleView",
            "description_width": ""
          }
        },
        "b37670896acc47cfbe611634df92f130": {
          "model_module": "@jupyter-widgets/controls",
          "model_module_version": "1.5.0",
          "model_name": "HBoxModel",
          "state": {
            "_dom_classes": [],
            "_model_module": "@jupyter-widgets/controls",
            "_model_module_version": "1.5.0",
            "_model_name": "HBoxModel",
            "_view_count": null,
            "_view_module": "@jupyter-widgets/controls",
            "_view_module_version": "1.5.0",
            "_view_name": "HBoxView",
            "box_style": "",
            "children": [
              "IPY_MODEL_b4fb3d41ffca41ff8e2555974675a40c",
              "IPY_MODEL_df60f64336264cdfa6b3da5abbd51279",
              "IPY_MODEL_8c1608eab11c4a3e82e9be9a7fd84fe4"
            ],
            "layout": "IPY_MODEL_f35c2807c05b4379843345ce43c923e9"
          }
        },
        "b4fb3d41ffca41ff8e2555974675a40c": {
          "model_module": "@jupyter-widgets/controls",
          "model_module_version": "1.5.0",
          "model_name": "HTMLModel",
          "state": {
            "_dom_classes": [],
            "_model_module": "@jupyter-widgets/controls",
            "_model_module_version": "1.5.0",
            "_model_name": "HTMLModel",
            "_view_count": null,
            "_view_module": "@jupyter-widgets/controls",
            "_view_module_version": "1.5.0",
            "_view_name": "HTMLView",
            "description": "",
            "description_tooltip": null,
            "layout": "IPY_MODEL_832fad5b9b334b88979fd1d8827cf444",
            "placeholder": "​",
            "style": "IPY_MODEL_f02fb472c0494aa88d8602218c0b26a6",
            "value": "tokenizer.json: 100%"
          }
        },
        "c42d433a1055460b908790c4a2919f2a": {
          "model_module": "@jupyter-widgets/base",
          "model_module_version": "1.2.0",
          "model_name": "LayoutModel",
          "state": {
            "_model_module": "@jupyter-widgets/base",
            "_model_module_version": "1.2.0",
            "_model_name": "LayoutModel",
            "_view_count": null,
            "_view_module": "@jupyter-widgets/base",
            "_view_module_version": "1.2.0",
            "_view_name": "LayoutView",
            "align_content": null,
            "align_items": null,
            "align_self": null,
            "border": null,
            "bottom": null,
            "display": null,
            "flex": null,
            "flex_flow": null,
            "grid_area": null,
            "grid_auto_columns": null,
            "grid_auto_flow": null,
            "grid_auto_rows": null,
            "grid_column": null,
            "grid_gap": null,
            "grid_row": null,
            "grid_template_areas": null,
            "grid_template_columns": null,
            "grid_template_rows": null,
            "height": null,
            "justify_content": null,
            "justify_items": null,
            "left": null,
            "margin": null,
            "max_height": null,
            "max_width": null,
            "min_height": null,
            "min_width": null,
            "object_fit": null,
            "object_position": null,
            "order": null,
            "overflow": null,
            "overflow_x": null,
            "overflow_y": null,
            "padding": null,
            "right": null,
            "top": null,
            "visibility": null,
            "width": null
          }
        },
        "c75f50421115475ca8113b18975485e4": {
          "model_module": "@jupyter-widgets/controls",
          "model_module_version": "1.5.0",
          "model_name": "DescriptionStyleModel",
          "state": {
            "_model_module": "@jupyter-widgets/controls",
            "_model_module_version": "1.5.0",
            "_model_name": "DescriptionStyleModel",
            "_view_count": null,
            "_view_module": "@jupyter-widgets/base",
            "_view_module_version": "1.2.0",
            "_view_name": "StyleView",
            "description_width": ""
          }
        },
        "c9faa934f79f42d5bbadd689a275a7fc": {
          "model_module": "@jupyter-widgets/base",
          "model_module_version": "1.2.0",
          "model_name": "LayoutModel",
          "state": {
            "_model_module": "@jupyter-widgets/base",
            "_model_module_version": "1.2.0",
            "_model_name": "LayoutModel",
            "_view_count": null,
            "_view_module": "@jupyter-widgets/base",
            "_view_module_version": "1.2.0",
            "_view_name": "LayoutView",
            "align_content": null,
            "align_items": null,
            "align_self": null,
            "border": null,
            "bottom": null,
            "display": null,
            "flex": null,
            "flex_flow": null,
            "grid_area": null,
            "grid_auto_columns": null,
            "grid_auto_flow": null,
            "grid_auto_rows": null,
            "grid_column": null,
            "grid_gap": null,
            "grid_row": null,
            "grid_template_areas": null,
            "grid_template_columns": null,
            "grid_template_rows": null,
            "height": null,
            "justify_content": null,
            "justify_items": null,
            "left": null,
            "margin": null,
            "max_height": null,
            "max_width": null,
            "min_height": null,
            "min_width": null,
            "object_fit": null,
            "object_position": null,
            "order": null,
            "overflow": null,
            "overflow_x": null,
            "overflow_y": null,
            "padding": null,
            "right": null,
            "top": null,
            "visibility": null,
            "width": null
          }
        },
        "ca6173812f6948b495e19eceacef579a": {
          "model_module": "@jupyter-widgets/base",
          "model_module_version": "1.2.0",
          "model_name": "LayoutModel",
          "state": {
            "_model_module": "@jupyter-widgets/base",
            "_model_module_version": "1.2.0",
            "_model_name": "LayoutModel",
            "_view_count": null,
            "_view_module": "@jupyter-widgets/base",
            "_view_module_version": "1.2.0",
            "_view_name": "LayoutView",
            "align_content": null,
            "align_items": null,
            "align_self": null,
            "border": null,
            "bottom": null,
            "display": null,
            "flex": null,
            "flex_flow": null,
            "grid_area": null,
            "grid_auto_columns": null,
            "grid_auto_flow": null,
            "grid_auto_rows": null,
            "grid_column": null,
            "grid_gap": null,
            "grid_row": null,
            "grid_template_areas": null,
            "grid_template_columns": null,
            "grid_template_rows": null,
            "height": null,
            "justify_content": null,
            "justify_items": null,
            "left": null,
            "margin": null,
            "max_height": null,
            "max_width": null,
            "min_height": null,
            "min_width": null,
            "object_fit": null,
            "object_position": null,
            "order": null,
            "overflow": null,
            "overflow_x": null,
            "overflow_y": null,
            "padding": null,
            "right": null,
            "top": null,
            "visibility": null,
            "width": null
          }
        },
        "deff6e52b2e842ecb2347e9039565faa": {
          "model_module": "@jupyter-widgets/controls",
          "model_module_version": "1.5.0",
          "model_name": "HTMLModel",
          "state": {
            "_dom_classes": [],
            "_model_module": "@jupyter-widgets/controls",
            "_model_module_version": "1.5.0",
            "_model_name": "HTMLModel",
            "_view_count": null,
            "_view_module": "@jupyter-widgets/controls",
            "_view_module_version": "1.5.0",
            "_view_name": "HTMLView",
            "description": "",
            "description_tooltip": null,
            "layout": "IPY_MODEL_ca6173812f6948b495e19eceacef579a",
            "placeholder": "​",
            "style": "IPY_MODEL_c75f50421115475ca8113b18975485e4",
            "value": "vocab.txt: 100%"
          }
        },
        "df60f64336264cdfa6b3da5abbd51279": {
          "model_module": "@jupyter-widgets/controls",
          "model_module_version": "1.5.0",
          "model_name": "FloatProgressModel",
          "state": {
            "_dom_classes": [],
            "_model_module": "@jupyter-widgets/controls",
            "_model_module_version": "1.5.0",
            "_model_name": "FloatProgressModel",
            "_view_count": null,
            "_view_module": "@jupyter-widgets/controls",
            "_view_module_version": "1.5.0",
            "_view_name": "ProgressView",
            "bar_style": "success",
            "description": "",
            "description_tooltip": null,
            "layout": "IPY_MODEL_c42d433a1055460b908790c4a2919f2a",
            "max": 1961828,
            "min": 0,
            "orientation": "horizontal",
            "style": "IPY_MODEL_224b3e7589674f11aa4edc6bd108917c",
            "value": 1961828
          }
        },
        "e14c87f650e946e4926f60206973c639": {
          "model_module": "@jupyter-widgets/controls",
          "model_module_version": "1.5.0",
          "model_name": "HTMLModel",
          "state": {
            "_dom_classes": [],
            "_model_module": "@jupyter-widgets/controls",
            "_model_module_version": "1.5.0",
            "_model_name": "HTMLModel",
            "_view_count": null,
            "_view_module": "@jupyter-widgets/controls",
            "_view_module_version": "1.5.0",
            "_view_name": "HTMLView",
            "description": "",
            "description_tooltip": null,
            "layout": "IPY_MODEL_af183018d06c487fbe20c4bcafd58f23",
            "placeholder": "​",
            "style": "IPY_MODEL_ac0c0b8522b34313a49bfea1fed51f37",
            "value": "tokenizer_config.json: 100%"
          }
        },
        "e1f285d3effc4c10a9d22bd76114476f": {
          "model_module": "@jupyter-widgets/base",
          "model_module_version": "1.2.0",
          "model_name": "LayoutModel",
          "state": {
            "_model_module": "@jupyter-widgets/base",
            "_model_module_version": "1.2.0",
            "_model_name": "LayoutModel",
            "_view_count": null,
            "_view_module": "@jupyter-widgets/base",
            "_view_module_version": "1.2.0",
            "_view_name": "LayoutView",
            "align_content": null,
            "align_items": null,
            "align_self": null,
            "border": null,
            "bottom": null,
            "display": null,
            "flex": null,
            "flex_flow": null,
            "grid_area": null,
            "grid_auto_columns": null,
            "grid_auto_flow": null,
            "grid_auto_rows": null,
            "grid_column": null,
            "grid_gap": null,
            "grid_row": null,
            "grid_template_areas": null,
            "grid_template_columns": null,
            "grid_template_rows": null,
            "height": null,
            "justify_content": null,
            "justify_items": null,
            "left": null,
            "margin": null,
            "max_height": null,
            "max_width": null,
            "min_height": null,
            "min_width": null,
            "object_fit": null,
            "object_position": null,
            "order": null,
            "overflow": null,
            "overflow_x": null,
            "overflow_y": null,
            "padding": null,
            "right": null,
            "top": null,
            "visibility": null,
            "width": null
          }
        },
        "e55bc992e89d4e199bd7312684110aae": {
          "model_module": "@jupyter-widgets/controls",
          "model_module_version": "1.5.0",
          "model_name": "HTMLModel",
          "state": {
            "_dom_classes": [],
            "_model_module": "@jupyter-widgets/controls",
            "_model_module_version": "1.5.0",
            "_model_name": "HTMLModel",
            "_view_count": null,
            "_view_module": "@jupyter-widgets/controls",
            "_view_module_version": "1.5.0",
            "_view_name": "HTMLView",
            "description": "",
            "description_tooltip": null,
            "layout": "IPY_MODEL_af595d6af3f84030bb6c7fa3142a1db3",
            "placeholder": "​",
            "style": "IPY_MODEL_1feff9f385474a9a983da3f7b900f098",
            "value": "model.safetensors: 100%"
          }
        },
        "e57b2a4922db446c9111dfe19a7aedb7": {
          "model_module": "@jupyter-widgets/controls",
          "model_module_version": "1.5.0",
          "model_name": "HTMLModel",
          "state": {
            "_dom_classes": [],
            "_model_module": "@jupyter-widgets/controls",
            "_model_module_version": "1.5.0",
            "_model_name": "HTMLModel",
            "_view_count": null,
            "_view_module": "@jupyter-widgets/controls",
            "_view_module_version": "1.5.0",
            "_view_name": "HTMLView",
            "description": "",
            "description_tooltip": null,
            "layout": "IPY_MODEL_9f0aa59bee8e4e568cbc70017ba15ebd",
            "placeholder": "​",
            "style": "IPY_MODEL_f1dcef8db4524194a8ec8ddc6a892e7d",
            "value": " 49.0/49.0 [00:00&lt;00:00, 2.55kB/s]"
          }
        },
        "ec845922361c4992a9daa90d0d0eb78d": {
          "model_module": "@jupyter-widgets/base",
          "model_module_version": "1.2.0",
          "model_name": "LayoutModel",
          "state": {
            "_model_module": "@jupyter-widgets/base",
            "_model_module_version": "1.2.0",
            "_model_name": "LayoutModel",
            "_view_count": null,
            "_view_module": "@jupyter-widgets/base",
            "_view_module_version": "1.2.0",
            "_view_name": "LayoutView",
            "align_content": null,
            "align_items": null,
            "align_self": null,
            "border": null,
            "bottom": null,
            "display": null,
            "flex": null,
            "flex_flow": null,
            "grid_area": null,
            "grid_auto_columns": null,
            "grid_auto_flow": null,
            "grid_auto_rows": null,
            "grid_column": null,
            "grid_gap": null,
            "grid_row": null,
            "grid_template_areas": null,
            "grid_template_columns": null,
            "grid_template_rows": null,
            "height": null,
            "justify_content": null,
            "justify_items": null,
            "left": null,
            "margin": null,
            "max_height": null,
            "max_width": null,
            "min_height": null,
            "min_width": null,
            "object_fit": null,
            "object_position": null,
            "order": null,
            "overflow": null,
            "overflow_x": null,
            "overflow_y": null,
            "padding": null,
            "right": null,
            "top": null,
            "visibility": null,
            "width": null
          }
        },
        "ee4d8c24ad064669876dfdcff0998bca": {
          "model_module": "@jupyter-widgets/controls",
          "model_module_version": "1.5.0",
          "model_name": "HTMLModel",
          "state": {
            "_dom_classes": [],
            "_model_module": "@jupyter-widgets/controls",
            "_model_module_version": "1.5.0",
            "_model_name": "HTMLModel",
            "_view_count": null,
            "_view_module": "@jupyter-widgets/controls",
            "_view_module_version": "1.5.0",
            "_view_name": "HTMLView",
            "description": "",
            "description_tooltip": null,
            "layout": "IPY_MODEL_084db416e119434d8f0e1acd3de978ee",
            "placeholder": "​",
            "style": "IPY_MODEL_a49034725b16482bbc893caed89e5601",
            "value": " 714M/714M [00:08&lt;00:00, 124MB/s]"
          }
        },
        "f02fb472c0494aa88d8602218c0b26a6": {
          "model_module": "@jupyter-widgets/controls",
          "model_module_version": "1.5.0",
          "model_name": "DescriptionStyleModel",
          "state": {
            "_model_module": "@jupyter-widgets/controls",
            "_model_module_version": "1.5.0",
            "_model_name": "DescriptionStyleModel",
            "_view_count": null,
            "_view_module": "@jupyter-widgets/base",
            "_view_module_version": "1.2.0",
            "_view_name": "StyleView",
            "description_width": ""
          }
        },
        "f1dcef8db4524194a8ec8ddc6a892e7d": {
          "model_module": "@jupyter-widgets/controls",
          "model_module_version": "1.5.0",
          "model_name": "DescriptionStyleModel",
          "state": {
            "_model_module": "@jupyter-widgets/controls",
            "_model_module_version": "1.5.0",
            "_model_name": "DescriptionStyleModel",
            "_view_count": null,
            "_view_module": "@jupyter-widgets/base",
            "_view_module_version": "1.2.0",
            "_view_name": "StyleView",
            "description_width": ""
          }
        },
        "f35c2807c05b4379843345ce43c923e9": {
          "model_module": "@jupyter-widgets/base",
          "model_module_version": "1.2.0",
          "model_name": "LayoutModel",
          "state": {
            "_model_module": "@jupyter-widgets/base",
            "_model_module_version": "1.2.0",
            "_model_name": "LayoutModel",
            "_view_count": null,
            "_view_module": "@jupyter-widgets/base",
            "_view_module_version": "1.2.0",
            "_view_name": "LayoutView",
            "align_content": null,
            "align_items": null,
            "align_self": null,
            "border": null,
            "bottom": null,
            "display": null,
            "flex": null,
            "flex_flow": null,
            "grid_area": null,
            "grid_auto_columns": null,
            "grid_auto_flow": null,
            "grid_auto_rows": null,
            "grid_column": null,
            "grid_gap": null,
            "grid_row": null,
            "grid_template_areas": null,
            "grid_template_columns": null,
            "grid_template_rows": null,
            "height": null,
            "justify_content": null,
            "justify_items": null,
            "left": null,
            "margin": null,
            "max_height": null,
            "max_width": null,
            "min_height": null,
            "min_width": null,
            "object_fit": null,
            "object_position": null,
            "order": null,
            "overflow": null,
            "overflow_x": null,
            "overflow_y": null,
            "padding": null,
            "right": null,
            "top": null,
            "visibility": null,
            "width": null
          }
        }
      }
    }
  },
  "nbformat": 4,
  "nbformat_minor": 0
}