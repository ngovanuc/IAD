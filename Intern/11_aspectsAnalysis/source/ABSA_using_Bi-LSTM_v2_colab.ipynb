{
  "cells": [
    {
      "cell_type": "code",
      "execution_count": 2,
      "metadata": {
        "colab": {
          "base_uri": "https://localhost:8080/",
          "height": 36
        },
        "id": "Wkw7i9PScnBm",
        "outputId": "9bedfbfe-f33f-43ee-93ee-e241793ccef0"
      },
      "outputs": [
        {
          "output_type": "execute_result",
          "data": {
            "text/plain": [
              "'\\nAuthor: Ngo Van Uc\\nDate: 23/08/2024\\nGmail: ngovanuc.1508@gmail.com\\n'"
            ],
            "application/vnd.google.colaboratory.intrinsic+json": {
              "type": "string"
            }
          },
          "metadata": {},
          "execution_count": 2
        }
      ],
      "source": [
        "'''\n",
        "Author: Ngo Van Uc\n",
        "Date: 23/08/2024\n",
        "Gmail: ngovanuc.1508@gmail.com\n",
        "'''"
      ]
    },
    {
      "cell_type": "markdown",
      "metadata": {
        "id": "u7LDt50WcnBp"
      },
      "source": [
        "# 00. Import"
      ]
    },
    {
      "cell_type": "code",
      "execution_count": 3,
      "metadata": {
        "id": "knrFT3y2cnBq"
      },
      "outputs": [],
      "source": [
        "from IPython.display import clear_output\n",
        "import warnings\n",
        "warnings.filterwarnings('ignore')\n",
        "\n",
        "import pandas as pd\n",
        "from ast import literal_eval\n",
        "\n",
        "import numpy as np"
      ]
    },
    {
      "cell_type": "code",
      "execution_count": 4,
      "metadata": {
        "colab": {
          "base_uri": "https://localhost:8080/"
        },
        "id": "Rr032nFCcz56",
        "outputId": "560ffd0f-09b7-49a9-cfef-0d3091db2cf5"
      },
      "outputs": [
        {
          "output_type": "stream",
          "name": "stdout",
          "text": [
            "Mounted at /content/drive\n"
          ]
        }
      ],
      "source": [
        "from google.colab import drive\n",
        "drive.mount('/content/drive')"
      ]
    },
    {
      "cell_type": "markdown",
      "metadata": {
        "id": "By9iV3bdcnBr"
      },
      "source": [
        "# 01. Load dataset"
      ]
    },
    {
      "cell_type": "code",
      "execution_count": 5,
      "metadata": {
        "colab": {
          "base_uri": "https://localhost:8080/",
          "height": 206
        },
        "id": "e54WNYt7cnBr",
        "outputId": "47c54eba-5b6b-4337-aa8a-d4c7facef475"
      },
      "outputs": [
        {
          "output_type": "execute_result",
          "data": {
            "text/plain": [
              "   index                                            comment  n_star  \\\n",
              "0      0  Mới mua máy này Tại thegioididong thốt nốt cảm...       5   \n",
              "1      1  Pin kém còn lại miễn chê mua 8/3/2019 tình trạ...       5   \n",
              "2      2  Sao lúc gọi điện thoại màn hình bị chấm nhỏ nh...       3   \n",
              "3      3  Mọi người cập nhật phần mềm lại , nó sẽ bớt tố...       3   \n",
              "4      4  Mới mua Sài được 1 tháng thấy pin rất trâu, Sà...       5   \n",
              "\n",
              "      date_time                                              label  \n",
              "0  2 tuần trước  {CAMERA#Positive};{FEATURES#Positive};{BATTERY...  \n",
              "1    14/09/2019    {BATTERY#Negative};{GENERAL#Positive};{OTHERS};  \n",
              "2    17/08/2020                               {FEATURES#Negative};  \n",
              "3    29/02/2020  {FEATURES#Negative};{BATTERY#Neutral};{GENERAL...  \n",
              "4      4/6/2020  {BATTERY#Positive};{PERFORMANCE#Positive};{SER...  "
            ],
            "text/html": [
              "\n",
              "  <div id=\"df-a500dc55-015a-4ae2-b306-6154d7197e3d\" class=\"colab-df-container\">\n",
              "    <div>\n",
              "<style scoped>\n",
              "    .dataframe tbody tr th:only-of-type {\n",
              "        vertical-align: middle;\n",
              "    }\n",
              "\n",
              "    .dataframe tbody tr th {\n",
              "        vertical-align: top;\n",
              "    }\n",
              "\n",
              "    .dataframe thead th {\n",
              "        text-align: right;\n",
              "    }\n",
              "</style>\n",
              "<table border=\"1\" class=\"dataframe\">\n",
              "  <thead>\n",
              "    <tr style=\"text-align: right;\">\n",
              "      <th></th>\n",
              "      <th>index</th>\n",
              "      <th>comment</th>\n",
              "      <th>n_star</th>\n",
              "      <th>date_time</th>\n",
              "      <th>label</th>\n",
              "    </tr>\n",
              "  </thead>\n",
              "  <tbody>\n",
              "    <tr>\n",
              "      <th>0</th>\n",
              "      <td>0</td>\n",
              "      <td>Mới mua máy này Tại thegioididong thốt nốt cảm...</td>\n",
              "      <td>5</td>\n",
              "      <td>2 tuần trước</td>\n",
              "      <td>{CAMERA#Positive};{FEATURES#Positive};{BATTERY...</td>\n",
              "    </tr>\n",
              "    <tr>\n",
              "      <th>1</th>\n",
              "      <td>1</td>\n",
              "      <td>Pin kém còn lại miễn chê mua 8/3/2019 tình trạ...</td>\n",
              "      <td>5</td>\n",
              "      <td>14/09/2019</td>\n",
              "      <td>{BATTERY#Negative};{GENERAL#Positive};{OTHERS};</td>\n",
              "    </tr>\n",
              "    <tr>\n",
              "      <th>2</th>\n",
              "      <td>2</td>\n",
              "      <td>Sao lúc gọi điện thoại màn hình bị chấm nhỏ nh...</td>\n",
              "      <td>3</td>\n",
              "      <td>17/08/2020</td>\n",
              "      <td>{FEATURES#Negative};</td>\n",
              "    </tr>\n",
              "    <tr>\n",
              "      <th>3</th>\n",
              "      <td>3</td>\n",
              "      <td>Mọi người cập nhật phần mềm lại , nó sẽ bớt tố...</td>\n",
              "      <td>3</td>\n",
              "      <td>29/02/2020</td>\n",
              "      <td>{FEATURES#Negative};{BATTERY#Neutral};{GENERAL...</td>\n",
              "    </tr>\n",
              "    <tr>\n",
              "      <th>4</th>\n",
              "      <td>4</td>\n",
              "      <td>Mới mua Sài được 1 tháng thấy pin rất trâu, Sà...</td>\n",
              "      <td>5</td>\n",
              "      <td>4/6/2020</td>\n",
              "      <td>{BATTERY#Positive};{PERFORMANCE#Positive};{SER...</td>\n",
              "    </tr>\n",
              "  </tbody>\n",
              "</table>\n",
              "</div>\n",
              "    <div class=\"colab-df-buttons\">\n",
              "\n",
              "  <div class=\"colab-df-container\">\n",
              "    <button class=\"colab-df-convert\" onclick=\"convertToInteractive('df-a500dc55-015a-4ae2-b306-6154d7197e3d')\"\n",
              "            title=\"Convert this dataframe to an interactive table.\"\n",
              "            style=\"display:none;\">\n",
              "\n",
              "  <svg xmlns=\"http://www.w3.org/2000/svg\" height=\"24px\" viewBox=\"0 -960 960 960\">\n",
              "    <path d=\"M120-120v-720h720v720H120Zm60-500h600v-160H180v160Zm220 220h160v-160H400v160Zm0 220h160v-160H400v160ZM180-400h160v-160H180v160Zm440 0h160v-160H620v160ZM180-180h160v-160H180v160Zm440 0h160v-160H620v160Z\"/>\n",
              "  </svg>\n",
              "    </button>\n",
              "\n",
              "  <style>\n",
              "    .colab-df-container {\n",
              "      display:flex;\n",
              "      gap: 12px;\n",
              "    }\n",
              "\n",
              "    .colab-df-convert {\n",
              "      background-color: #E8F0FE;\n",
              "      border: none;\n",
              "      border-radius: 50%;\n",
              "      cursor: pointer;\n",
              "      display: none;\n",
              "      fill: #1967D2;\n",
              "      height: 32px;\n",
              "      padding: 0 0 0 0;\n",
              "      width: 32px;\n",
              "    }\n",
              "\n",
              "    .colab-df-convert:hover {\n",
              "      background-color: #E2EBFA;\n",
              "      box-shadow: 0px 1px 2px rgba(60, 64, 67, 0.3), 0px 1px 3px 1px rgba(60, 64, 67, 0.15);\n",
              "      fill: #174EA6;\n",
              "    }\n",
              "\n",
              "    .colab-df-buttons div {\n",
              "      margin-bottom: 4px;\n",
              "    }\n",
              "\n",
              "    [theme=dark] .colab-df-convert {\n",
              "      background-color: #3B4455;\n",
              "      fill: #D2E3FC;\n",
              "    }\n",
              "\n",
              "    [theme=dark] .colab-df-convert:hover {\n",
              "      background-color: #434B5C;\n",
              "      box-shadow: 0px 1px 3px 1px rgba(0, 0, 0, 0.15);\n",
              "      filter: drop-shadow(0px 1px 2px rgba(0, 0, 0, 0.3));\n",
              "      fill: #FFFFFF;\n",
              "    }\n",
              "  </style>\n",
              "\n",
              "    <script>\n",
              "      const buttonEl =\n",
              "        document.querySelector('#df-a500dc55-015a-4ae2-b306-6154d7197e3d button.colab-df-convert');\n",
              "      buttonEl.style.display =\n",
              "        google.colab.kernel.accessAllowed ? 'block' : 'none';\n",
              "\n",
              "      async function convertToInteractive(key) {\n",
              "        const element = document.querySelector('#df-a500dc55-015a-4ae2-b306-6154d7197e3d');\n",
              "        const dataTable =\n",
              "          await google.colab.kernel.invokeFunction('convertToInteractive',\n",
              "                                                    [key], {});\n",
              "        if (!dataTable) return;\n",
              "\n",
              "        const docLinkHtml = 'Like what you see? Visit the ' +\n",
              "          '<a target=\"_blank\" href=https://colab.research.google.com/notebooks/data_table.ipynb>data table notebook</a>'\n",
              "          + ' to learn more about interactive tables.';\n",
              "        element.innerHTML = '';\n",
              "        dataTable['output_type'] = 'display_data';\n",
              "        await google.colab.output.renderOutput(dataTable, element);\n",
              "        const docLink = document.createElement('div');\n",
              "        docLink.innerHTML = docLinkHtml;\n",
              "        element.appendChild(docLink);\n",
              "      }\n",
              "    </script>\n",
              "  </div>\n",
              "\n",
              "\n",
              "<div id=\"df-aab07395-fe36-43d5-a530-3bb79b53f61d\">\n",
              "  <button class=\"colab-df-quickchart\" onclick=\"quickchart('df-aab07395-fe36-43d5-a530-3bb79b53f61d')\"\n",
              "            title=\"Suggest charts\"\n",
              "            style=\"display:none;\">\n",
              "\n",
              "<svg xmlns=\"http://www.w3.org/2000/svg\" height=\"24px\"viewBox=\"0 0 24 24\"\n",
              "     width=\"24px\">\n",
              "    <g>\n",
              "        <path d=\"M19 3H5c-1.1 0-2 .9-2 2v14c0 1.1.9 2 2 2h14c1.1 0 2-.9 2-2V5c0-1.1-.9-2-2-2zM9 17H7v-7h2v7zm4 0h-2V7h2v10zm4 0h-2v-4h2v4z\"/>\n",
              "    </g>\n",
              "</svg>\n",
              "  </button>\n",
              "\n",
              "<style>\n",
              "  .colab-df-quickchart {\n",
              "      --bg-color: #E8F0FE;\n",
              "      --fill-color: #1967D2;\n",
              "      --hover-bg-color: #E2EBFA;\n",
              "      --hover-fill-color: #174EA6;\n",
              "      --disabled-fill-color: #AAA;\n",
              "      --disabled-bg-color: #DDD;\n",
              "  }\n",
              "\n",
              "  [theme=dark] .colab-df-quickchart {\n",
              "      --bg-color: #3B4455;\n",
              "      --fill-color: #D2E3FC;\n",
              "      --hover-bg-color: #434B5C;\n",
              "      --hover-fill-color: #FFFFFF;\n",
              "      --disabled-bg-color: #3B4455;\n",
              "      --disabled-fill-color: #666;\n",
              "  }\n",
              "\n",
              "  .colab-df-quickchart {\n",
              "    background-color: var(--bg-color);\n",
              "    border: none;\n",
              "    border-radius: 50%;\n",
              "    cursor: pointer;\n",
              "    display: none;\n",
              "    fill: var(--fill-color);\n",
              "    height: 32px;\n",
              "    padding: 0;\n",
              "    width: 32px;\n",
              "  }\n",
              "\n",
              "  .colab-df-quickchart:hover {\n",
              "    background-color: var(--hover-bg-color);\n",
              "    box-shadow: 0 1px 2px rgba(60, 64, 67, 0.3), 0 1px 3px 1px rgba(60, 64, 67, 0.15);\n",
              "    fill: var(--button-hover-fill-color);\n",
              "  }\n",
              "\n",
              "  .colab-df-quickchart-complete:disabled,\n",
              "  .colab-df-quickchart-complete:disabled:hover {\n",
              "    background-color: var(--disabled-bg-color);\n",
              "    fill: var(--disabled-fill-color);\n",
              "    box-shadow: none;\n",
              "  }\n",
              "\n",
              "  .colab-df-spinner {\n",
              "    border: 2px solid var(--fill-color);\n",
              "    border-color: transparent;\n",
              "    border-bottom-color: var(--fill-color);\n",
              "    animation:\n",
              "      spin 1s steps(1) infinite;\n",
              "  }\n",
              "\n",
              "  @keyframes spin {\n",
              "    0% {\n",
              "      border-color: transparent;\n",
              "      border-bottom-color: var(--fill-color);\n",
              "      border-left-color: var(--fill-color);\n",
              "    }\n",
              "    20% {\n",
              "      border-color: transparent;\n",
              "      border-left-color: var(--fill-color);\n",
              "      border-top-color: var(--fill-color);\n",
              "    }\n",
              "    30% {\n",
              "      border-color: transparent;\n",
              "      border-left-color: var(--fill-color);\n",
              "      border-top-color: var(--fill-color);\n",
              "      border-right-color: var(--fill-color);\n",
              "    }\n",
              "    40% {\n",
              "      border-color: transparent;\n",
              "      border-right-color: var(--fill-color);\n",
              "      border-top-color: var(--fill-color);\n",
              "    }\n",
              "    60% {\n",
              "      border-color: transparent;\n",
              "      border-right-color: var(--fill-color);\n",
              "    }\n",
              "    80% {\n",
              "      border-color: transparent;\n",
              "      border-right-color: var(--fill-color);\n",
              "      border-bottom-color: var(--fill-color);\n",
              "    }\n",
              "    90% {\n",
              "      border-color: transparent;\n",
              "      border-bottom-color: var(--fill-color);\n",
              "    }\n",
              "  }\n",
              "</style>\n",
              "\n",
              "  <script>\n",
              "    async function quickchart(key) {\n",
              "      const quickchartButtonEl =\n",
              "        document.querySelector('#' + key + ' button');\n",
              "      quickchartButtonEl.disabled = true;  // To prevent multiple clicks.\n",
              "      quickchartButtonEl.classList.add('colab-df-spinner');\n",
              "      try {\n",
              "        const charts = await google.colab.kernel.invokeFunction(\n",
              "            'suggestCharts', [key], {});\n",
              "      } catch (error) {\n",
              "        console.error('Error during call to suggestCharts:', error);\n",
              "      }\n",
              "      quickchartButtonEl.classList.remove('colab-df-spinner');\n",
              "      quickchartButtonEl.classList.add('colab-df-quickchart-complete');\n",
              "    }\n",
              "    (() => {\n",
              "      let quickchartButtonEl =\n",
              "        document.querySelector('#df-aab07395-fe36-43d5-a530-3bb79b53f61d button');\n",
              "      quickchartButtonEl.style.display =\n",
              "        google.colab.kernel.accessAllowed ? 'block' : 'none';\n",
              "    })();\n",
              "  </script>\n",
              "</div>\n",
              "\n",
              "    </div>\n",
              "  </div>\n"
            ],
            "application/vnd.google.colaboratory.intrinsic+json": {
              "type": "dataframe",
              "variable_name": "train_data",
              "summary": "{\n  \"name\": \"train_data\",\n  \"rows\": 7786,\n  \"fields\": [\n    {\n      \"column\": \"index\",\n      \"properties\": {\n        \"dtype\": \"number\",\n        \"std\": 2247,\n        \"min\": 0,\n        \"max\": 7785,\n        \"num_unique_values\": 7786,\n        \"samples\": [\n          7324,\n          4694,\n          1322\n        ],\n        \"semantic_type\": \"\",\n        \"description\": \"\"\n      }\n    },\n    {\n      \"column\": \"comment\",\n      \"properties\": {\n        \"dtype\": \"string\",\n        \"num_unique_values\": 7786,\n        \"samples\": [\n          \"L\\u1ea5y m\\u00e1y v\\u1ec1 2 ng\\u00e0y b\\u1ecb l\\u1ed7i v\\u00e2n tay. Nh\\u1eadn di\\u1ec7n khu\\u00f4n m\\u1eb7t c\\u0169ng ch\\u1eadm. Kh\\u00f4ng \\u0111\\u00e1ng gi\\u00e1 ti\\u1ec1n t\\u00ed n\\u00e0o. Ch\\u00e1n\\ud83d\\ude1f\",\n          \"M\\u00e1y qu\\u00e1 \\u0111\\u1eb9p..h\\u01a1n h\\u1eb3n mong \\u0111\\u1ee3i..ch\\u1ec9 l\\u00e0 gi\\u1edd ch\\u01b0a c\\u00f3 \\u1ed1p l\\u01b0ng hay c\\u01b0\\u1eddng l\\u1ef1c.. mong b\\u00ean si\\u00eau th\\u1ecb nh\\u1eadp v\\u1ec1 s\\u1edbm l\\u00e0 ok\",\n          \"M\\u1edbi nh\\u1eadn l\\u00fac s\\u00e1ng, s\\u1ea1c c\\u00f3 v\\u1ebb l\\u00e2u h\\u01a1n vs oppo f11pro s\\u1ea1c c\\u00f9ng l\\u00fac v\\u00e0 c\\u00f9ng l\\u01b0\\u1ee3ng pin...nh\\u01b0ng khi oppo f11 \\u0111c 50% th\\u00ec \\u0111t mik m\\u1edbi \\u0111c 33% th\\u00f4i\"\n        ],\n        \"semantic_type\": \"\",\n        \"description\": \"\"\n      }\n    },\n    {\n      \"column\": \"n_star\",\n      \"properties\": {\n        \"dtype\": \"number\",\n        \"std\": 1,\n        \"min\": 1,\n        \"max\": 5,\n        \"num_unique_values\": 5,\n        \"samples\": [\n          3,\n          4,\n          1\n        ],\n        \"semantic_type\": \"\",\n        \"description\": \"\"\n      }\n    },\n    {\n      \"column\": \"date_time\",\n      \"properties\": {\n        \"dtype\": \"category\",\n        \"num_unique_values\": 756,\n        \"samples\": [\n          \"15/11/2019\",\n          \"5/5/2020\",\n          \"24/10/2017\"\n        ],\n        \"semantic_type\": \"\",\n        \"description\": \"\"\n      }\n    },\n    {\n      \"column\": \"label\",\n      \"properties\": {\n        \"dtype\": \"category\",\n        \"num_unique_values\": 2745,\n        \"samples\": [\n          \"{PRICE#Neutral};{GENERAL#Positive};{SER&ACC#Positive};{OTHERS};\",\n          \"{CAMERA#Positive};{FEATURES#Negative};{BATTERY#Positive};{PERFORMANCE#Positive};{GENERAL#Positive};\",\n          \"{SCREEN#Positive};{BATTERY#Positive};{PERFORMANCE#Positive};\"\n        ],\n        \"semantic_type\": \"\",\n        \"description\": \"\"\n      }\n    }\n  ]\n}"
            }
          },
          "metadata": {},
          "execution_count": 5
        }
      ],
      "source": [
        "train_path = '/content/drive/MyDrive/RESEARCHING/ASPECT_BASE_SENTIMENT_ANALYSIS/data/Train.csv'\n",
        "test_path = '/content/drive/MyDrive/RESEARCHING/ASPECT_BASE_SENTIMENT_ANALYSIS/data/Test.csv'\n",
        "dev_path = '/content/drive/MyDrive/RESEARCHING/ASPECT_BASE_SENTIMENT_ANALYSIS/data/Dev.csv'\n",
        "\n",
        "train_data = pd.read_csv(train_path)\n",
        "train_data.head()"
      ]
    },
    {
      "cell_type": "markdown",
      "metadata": {
        "id": "pf13I4DDcnBs"
      },
      "source": [
        "# 02. Preprocessing"
      ]
    },
    {
      "cell_type": "code",
      "execution_count": 6,
      "metadata": {
        "id": "ysnSvXJfcnBs"
      },
      "outputs": [],
      "source": [
        "class_to_id = {\"SCREEN\": 0, \"CAMERA\": 1, \"FEATURES\": 2, \"BATTERY\": 3, \"PERFORMANCE\": 4, \"STORAGE\": 5, \"DESIGN\": 6, \"PRICE\": 7, \"GENERAL\": 8, \"SER&ACC\": 9}\n",
        "label_to_id = {\"Positive\": 0, \"Negative\": 1, \"Neutral\": 2, \"None\": 3}"
      ]
    },
    {
      "cell_type": "code",
      "execution_count": 7,
      "metadata": {
        "id": "qC3BuHbLcnBs"
      },
      "outputs": [],
      "source": [
        "def get_label_dict(sentences_label):\n",
        "    label_dict = {}\n",
        "    labels = sentences_label.split(';')[:-1]\n",
        "    if len(labels) == 1 and labels[-1][1:-1] == \"OTHERS\":\n",
        "        # đầu ra chỉ có OTHERS\n",
        "        return None\n",
        "    else:\n",
        "        if labels[-1][1:-1] == \"OTHERS\":\n",
        "            # đầu ra có OTHERS và các nhãn khác nữa\n",
        "            for l in labels[:-1]:\n",
        "                class_name, sentiment = l[1:-1].split('#')\n",
        "                label_dict[class_name] = sentiment\n",
        "            return label_dict\n",
        "        else:\n",
        "            for l in labels:\n",
        "                class_name, sentiment = l[1:-1].split('#')\n",
        "                label_dict[class_name] = sentiment\n",
        "            return label_dict"
      ]
    },
    {
      "cell_type": "code",
      "execution_count": 8,
      "metadata": {
        "colab": {
          "base_uri": "https://localhost:8080/"
        },
        "id": "TaaVSGCvcnBt",
        "outputId": "5bf664ed-eb5f-4393-e72a-7410b47c7dcd"
      },
      "outputs": [
        {
          "output_type": "stream",
          "name": "stdout",
          "text": [
            "Mới mua máy này Tại thegioididong thốt nốt cảm thấy ok bin trâu chụp ảnh đẹp loa nghe to bắt wf khỏe sóng ổn định, giá thành vừa với túi tiền, nhân viên tư vấn nhiệt tình\n",
            "[[0, 0, 0, 1], [1, 0, 0, 0], [1, 0, 0, 0], [1, 0, 0, 0], [0, 0, 0, 1], [0, 0, 0, 1], [0, 0, 0, 1], [1, 0, 0, 0], [1, 0, 0, 0], [1, 0, 0, 0]]\n"
          ]
        }
      ],
      "source": [
        "sentences = train_data['comment'].tolist()\n",
        "label_comment = train_data['label'].tolist()\n",
        "others_label = [[0, 0, 0, 1]]*10\n",
        "\n",
        "train_set = []\n",
        "\n",
        "for sentence, sentence_label in zip(sentences, label_comment):\n",
        "    label_dict = get_label_dict(sentence_label)\n",
        "    labels_ = []\n",
        "    if label_dict:\n",
        "        for aspect in list(class_to_id.keys()):\n",
        "            train_label = [0] * 4\n",
        "            if aspect in label_dict.keys():\n",
        "                label_id = label_to_id[label_dict[aspect]]\n",
        "                train_label[label_id] =  1\n",
        "                labels_.append(train_label)\n",
        "            else:\n",
        "                labels_.append([0, 0, 0, 1])\n",
        "        # train_labels.append(labels_)\n",
        "        train_set.append(\n",
        "            {'sentence': sentence, 'labels': labels_}\n",
        "        )\n",
        "    else:\n",
        "        train_set.append(\n",
        "            {'sentence': sentence, 'labels': others_label}\n",
        "        )\n",
        "print(train_set[0]['sentence'])\n",
        "print(train_set[0]['labels'])"
      ]
    },
    {
      "cell_type": "code",
      "execution_count": 9,
      "metadata": {
        "colab": {
          "base_uri": "https://localhost:8080/"
        },
        "id": "NIUUHPpwcnBt",
        "outputId": "76572006-543f-44a4-9c69-7156b790780c"
      },
      "outputs": [
        {
          "output_type": "stream",
          "name": "stdout",
          "text": [
            "pass\n"
          ]
        }
      ],
      "source": [
        "for i, data in enumerate(train_set):\n",
        "    sentence, label = data.items()\n",
        "    input = np.array(label[-1])\n",
        "    clear_output()\n",
        "    if input.shape == (10, 4):\n",
        "        print(\"pass\")\n",
        "    else:\n",
        "        print(i)"
      ]
    },
    {
      "cell_type": "markdown",
      "metadata": {
        "id": "hXPjAzPMcnBt"
      },
      "source": [
        "# 03. Build model"
      ]
    },
    {
      "cell_type": "code",
      "execution_count": 10,
      "metadata": {
        "id": "3jq6KI1GcnBt"
      },
      "outputs": [],
      "source": [
        "import torch\n",
        "from torch.utils.data import Dataset, DataLoader\n",
        "from transformers import BertTokenizer\n",
        "\n",
        "\n",
        "class AspectSentimentDataset(Dataset):\n",
        "    def __init__(self, data, tokenizer, max_len):\n",
        "        self.data = data\n",
        "        self.tokenizer = tokenizer\n",
        "        self.max_len = max_len\n",
        "\n",
        "    def __len__(self):\n",
        "        return len(self.data)\n",
        "\n",
        "    def __getitem__(self, index):\n",
        "        sentence = self.data[index]['sentence']\n",
        "        labels = self.data[index]['labels']\n",
        "\n",
        "        encoding = self.tokenizer.encode_plus(\n",
        "            sentence,\n",
        "            add_special_tokens=True,\n",
        "            max_length=self.max_len,\n",
        "            return_token_type_ids=False,\n",
        "            pad_to_max_length=True,\n",
        "            return_attention_mask=True,\n",
        "            return_tensors='pt',\n",
        "        )\n",
        "\n",
        "        return {\n",
        "            'sentence_text': sentence,\n",
        "            'input_ids': encoding['input_ids'].flatten(),\n",
        "            'attention_mask': encoding['attention_mask'].flatten(),\n",
        "            'labels': torch.tensor(labels, dtype=torch.float)\n",
        "        }"
      ]
    },
    {
      "cell_type": "code",
      "execution_count": 11,
      "metadata": {
        "colab": {
          "base_uri": "https://localhost:8080/",
          "height": 145,
          "referenced_widgets": [
            "28d8cb8941594084a53c5884f6a0b448",
            "839f0204bb1745c3be8c826cb527e9df",
            "405afb011b6143d0a665ce6547a03792",
            "20542af85b114a9c86a5c002de3adf43",
            "9f9e4f268b414687885f5bd59d8f6e39",
            "efe82e9f3a614ca5bf994f1266ebfd3c",
            "de3b66b55f9642fa9ec08fd908dd3c3f",
            "17c8067ce08341ea9231d489db2fccc1",
            "f039217403aa48b9993bc15aa8135bfb",
            "fab2d6d37f7d43b2b72b7ec465efb70e",
            "130e0ab82e08415d80badf247fc19b47",
            "1069935ed88e4dffa954f09378303273",
            "6b403fb8f69b4f0c8d54b04b9ff353f8",
            "10d75fe7c965436391836038d06e14ea",
            "a9acfa4e48a54724b6d878993b1d7e92",
            "8a5433e7ebdd4d07b399082dc0c6d1dc",
            "70edabeebcaa4d88ac2793ef8c71dcc0",
            "9dc8f086b8774c28a158b3e544a5949e",
            "8f26b3d4cd4749d885ce850bd6158b50",
            "d1ed1a90e0d14850a6a42a013593f2c4",
            "55049f4c95134b6a8f159460a88e92d2",
            "d6115e528a2c4da19d18b78b713fbeea",
            "1677cb603164408d84a7c9b3bba07c3a",
            "7f7b54a9c6fa4c24a36b93ff938fb2ea",
            "9262462085994c5f847cc28db151f17f",
            "63c3a6be37d44264933a1f7353dad86f",
            "2add7c5997984cbca2d5cee255b67a40",
            "15dd264998da4ea98bc38a424854a1c5",
            "1a7016b692464a09b375c804b7bbdb74",
            "42ef82189a0d49069201ede76decef47",
            "e5be40c4f18e40ddb5ce4e4bad0da2bb",
            "53019c1a26c54147adacff253d03ab40",
            "515ef77b9daf4d62bc88c6f30aa4b654",
            "29866e0c64964487b511a3ea5dc21d6d",
            "74fb36152c0b49ff8700226004ad97ad",
            "588ea465419e4dddb30fd5b16ac2f052",
            "dfaf7042f69541b98ed44aee5c337240",
            "c9884b76e9764ee5b9fe95721c6e3bde",
            "3859b70fc0784605a4a5e864d1d7a7ee",
            "654ad57dd40243cc8a0def30eee2bc44",
            "035d1194795e41a3998e939e3e877113",
            "37f0c9bb2c6749639cd2f9ce03e0fcc0",
            "117506bc37a440d1bdbb9db2c0624fc0",
            "242c2277eda148bba4c261d44d356928"
          ]
        },
        "id": "pwoFlQ6OcnBu",
        "outputId": "95c7c379-8266-434f-a8bb-1a393e30e9fb"
      },
      "outputs": [
        {
          "output_type": "display_data",
          "data": {
            "text/plain": [
              "tokenizer_config.json:   0%|          | 0.00/49.0 [00:00<?, ?B/s]"
            ],
            "application/vnd.jupyter.widget-view+json": {
              "version_major": 2,
              "version_minor": 0,
              "model_id": "28d8cb8941594084a53c5884f6a0b448"
            }
          },
          "metadata": {}
        },
        {
          "output_type": "display_data",
          "data": {
            "text/plain": [
              "vocab.txt:   0%|          | 0.00/996k [00:00<?, ?B/s]"
            ],
            "application/vnd.jupyter.widget-view+json": {
              "version_major": 2,
              "version_minor": 0,
              "model_id": "1069935ed88e4dffa954f09378303273"
            }
          },
          "metadata": {}
        },
        {
          "output_type": "display_data",
          "data": {
            "text/plain": [
              "tokenizer.json:   0%|          | 0.00/1.96M [00:00<?, ?B/s]"
            ],
            "application/vnd.jupyter.widget-view+json": {
              "version_major": 2,
              "version_minor": 0,
              "model_id": "1677cb603164408d84a7c9b3bba07c3a"
            }
          },
          "metadata": {}
        },
        {
          "output_type": "display_data",
          "data": {
            "text/plain": [
              "config.json:   0%|          | 0.00/625 [00:00<?, ?B/s]"
            ],
            "application/vnd.jupyter.widget-view+json": {
              "version_major": 2,
              "version_minor": 0,
              "model_id": "29866e0c64964487b511a3ea5dc21d6d"
            }
          },
          "metadata": {}
        }
      ],
      "source": [
        "tokenizer = BertTokenizer.from_pretrained('google-bert/bert-base-multilingual-cased')\n",
        "dataset = AspectSentimentDataset(train_set, tokenizer, max_len=128)\n",
        "dataloader = DataLoader(dataset, batch_size=16, shuffle=True)"
      ]
    },
    {
      "cell_type": "code",
      "execution_count": 12,
      "metadata": {
        "colab": {
          "base_uri": "https://localhost:8080/"
        },
        "id": "bqnioLxdcnBu",
        "outputId": "e9403217-eff9-4ac1-ebb8-2b5d4a8d54c5"
      },
      "outputs": [
        {
          "output_type": "execute_result",
          "data": {
            "text/plain": [
              "7786"
            ]
          },
          "metadata": {},
          "execution_count": 12
        }
      ],
      "source": [
        "dataset.__len__()"
      ]
    },
    {
      "cell_type": "code",
      "execution_count": 13,
      "metadata": {
        "colab": {
          "base_uri": "https://localhost:8080/",
          "height": 49,
          "referenced_widgets": [
            "b068d3a8b77b40d08bff21aae3564e47",
            "235ba94297a046219bc5c7ae7bfcd3c4",
            "cb12830b3e894c4792cc3711927ea304",
            "d72b260de9c7441ebd429fb69b632884",
            "d1bf42c7c5294cde8b73f2b6a6064069",
            "cc91b96cbe8e48b1b3bc105973a33280",
            "477a66a02cf64f579dd44bd7b5cd9b22",
            "a2af075f9d8249ce81ebf858d5dc0600",
            "dc32a46302f249fca4dc72d086368255",
            "0bd10cfc91ee41c0975126be9b937595",
            "4c738e6bca334bcb82424b553d2fb428"
          ]
        },
        "id": "o4kGf9mGcnBu",
        "outputId": "8840e753-2076-451c-c1e4-f32dcbab9b02"
      },
      "outputs": [
        {
          "output_type": "display_data",
          "data": {
            "text/plain": [
              "model.safetensors:   0%|          | 0.00/714M [00:00<?, ?B/s]"
            ],
            "application/vnd.jupyter.widget-view+json": {
              "version_major": 2,
              "version_minor": 0,
              "model_id": "b068d3a8b77b40d08bff21aae3564e47"
            }
          },
          "metadata": {}
        }
      ],
      "source": [
        "import torch.nn as nn\n",
        "from transformers import BertModel\n",
        "\n",
        "\n",
        "class AspectSentimentModel(nn.Module):\n",
        "    def __init__(self, n_classes, n_labels_per_class):\n",
        "        super(AspectSentimentModel, self).__init__()\n",
        "        self.bert = BertModel.from_pretrained('google-bert/bert-base-multilingual-cased')\n",
        "        self.lstm = nn.LSTM(768, 256, batch_first=True, bidirectional=True)\n",
        "        self.classifier = nn.Linear(256*2, n_classes * n_labels_per_class)\n",
        "\n",
        "    def forward(self, input_ids, attention_mask):\n",
        "        bert_outputs = self.bert(\n",
        "            input_ids=input_ids,\n",
        "            attention_mask=attention_mask\n",
        "        )\n",
        "        lstm_outputs, _ = self.lstm(bert_outputs.last_hidden_state)\n",
        "        lstm_outputs = lstm_outputs[:, -1, :]\n",
        "        output = self.classifier(lstm_outputs)\n",
        "        return output.view(-1, 10, 4)\n",
        "\n",
        "model = AspectSentimentModel(n_classes=10, n_labels_per_class=4)"
      ]
    },
    {
      "cell_type": "markdown",
      "metadata": {
        "id": "RLs3nw6icnBu"
      },
      "source": [
        "# 04. Training model"
      ]
    },
    {
      "cell_type": "code",
      "execution_count": 14,
      "metadata": {
        "colab": {
          "base_uri": "https://localhost:8080/"
        },
        "id": "xZwQ8ex5cnBu",
        "outputId": "ab5adafb-827c-4976-cfc1-2b028dc1f00c"
      },
      "outputs": [
        {
          "metadata": {
            "tags": null
          },
          "name": "stderr",
          "output_type": "stream",
          "text": [
            "Truncation was not explicitly activated but `max_length` is provided a specific value, please use `truncation=True` to explicitly truncate examples to max length. Defaulting to 'longest_first' truncation strategy. If you encode pairs of sequences (GLUE-style) with the tokenizer you can select this strategy more precisely by providing a specific strategy to `truncation`.\n"
          ]
        },
        {
          "output_type": "stream",
          "name": "stdout",
          "text": [
            "Epoch 1/10, Train loss: 0.35485674584670723\n",
            "Epoch 2/10, Train loss: 0.2511550738520201\n",
            "Epoch 3/10, Train loss: 0.21357102817578483\n",
            "Epoch 4/10, Train loss: 0.18683833829308927\n",
            "Epoch 5/10, Train loss: 0.1645154110490664\n",
            "Epoch 6/10, Train loss: 0.14728355060429055\n",
            "Epoch 7/10, Train loss: 0.13158436953348301\n",
            "Epoch 8/10, Train loss: 0.11936823307733516\n",
            "Epoch 9/10, Train loss: 0.10791112686788522\n",
            "Epoch 10/10, Train loss: 0.09833912419067271\n"
          ]
        }
      ],
      "source": [
        "import torch.optim as optim\n",
        "import numpy as np\n",
        "\n",
        "\n",
        "def train_epoch(model, data_loader, loss_fn, optimizer, device):\n",
        "    model = model.train()\n",
        "    losses = []\n",
        "    correct_predictions = 0\n",
        "\n",
        "    for data in data_loader:\n",
        "        input_ids = data['input_ids'].to(device)\n",
        "        attention_mask = data['attention_mask'].to(device)\n",
        "        labels = data['labels'].to(device)\n",
        "\n",
        "        outputs = model(input_ids=input_ids, attention_mask=attention_mask)\n",
        "\n",
        "        loss = loss_fn(outputs, labels)\n",
        "        losses.append(loss.item())\n",
        "\n",
        "        optimizer.zero_grad()\n",
        "        loss.backward()\n",
        "        optimizer.step()\n",
        "\n",
        "    return np.mean(losses)\n",
        "\n",
        "\n",
        "EPOCHS = 10\n",
        "device = torch.device('cuda' if torch.cuda.is_available() else 'cpu')\n",
        "model = model.to(device)\n",
        "training = True\n",
        "\n",
        "\n",
        "optimizer = optim.Adam(model.parameters(), lr=2e-5)\n",
        "loss_fn = nn.BCEWithLogitsLoss()\n",
        "\n",
        "if training == True:\n",
        "    for epoch in range(EPOCHS):\n",
        "        train_loss = train_epoch(model, dataloader, loss_fn, optimizer, device)\n",
        "        print(f'Epoch {epoch + 1}/{EPOCHS}, Train loss: {train_loss}')"
      ]
    },
    {
      "cell_type": "code",
      "execution_count": null,
      "metadata": {
        "id": "i-NsNuXgcnBu"
      },
      "outputs": [],
      "source": [
        "path_save_model = '/content/drive/MyDrive/RESEARCHING/ASPECT_BASE_SENTIMENT_ANALYSIS'\n",
        "torch.save(model.state_dict(), path_save_model+'/model_v2.pth')"
      ]
    },
    {
      "cell_type": "code",
      "execution_count": null,
      "metadata": {
        "colab": {
          "background_save": true
        },
        "id": "SatICHSOcnBu"
      },
      "outputs": [],
      "source": [
        "# model = AspectSentimentModel(n_classes=10, n_labels_per_class=4)\n",
        "# model.load_state_dict(torch.load(path_save_model+'/model.pth'))\n",
        "# model.eval()\n",
        "# clear_output()"
      ]
    },
    {
      "cell_type": "code",
      "execution_count": 15,
      "metadata": {
        "id": "4Ux1qzq1cnBv"
      },
      "outputs": [],
      "source": [
        "def predict_sentiment(model, sentence, tokenizer, max_len, device):\n",
        "    model = model.eval()\n",
        "\n",
        "    encoding = tokenizer.encode_plus(\n",
        "        sentence,\n",
        "        add_special_tokens=True,\n",
        "        max_length=max_len,\n",
        "        return_token_type_ids=False,\n",
        "        pad_to_max_length=True,\n",
        "        return_attention_mask=True,\n",
        "        return_tensors='pt'\n",
        "    )\n",
        "\n",
        "    input_ids = encoding['input_ids'].to(device)\n",
        "    attention_mask = encoding['attention_mask'].to(device)\n",
        "\n",
        "    with torch.no_grad():\n",
        "        outputs = model(input_ids=input_ids, attention_mask=attention_mask)\n",
        "\n",
        "    return outputs\n",
        "\n",
        "\n",
        "def interpret_predictions(predictions):\n",
        "    aspect_classes = ['SCREEN', 'CAMERA', 'FEATURES', 'BATTERY', 'PERFORMANCE', 'STORAGE', 'DESIGN', 'PRICE', 'GENERAL', 'SER&ACC']\n",
        "    sentiment_labels = ['Positive', 'Negative', 'Neutral', 'None']\n",
        "\n",
        "    results = {}\n",
        "\n",
        "    for i, aspect in enumerate(aspect_classes):\n",
        "        aspect_sentiments = predictions[0, i].cpu().numpy()\n",
        "        sentiment_index = aspect_sentiments.argmax()\n",
        "        results[aspect] = sentiment_labels[sentiment_index]\n",
        "\n",
        "    return results"
      ]
    },
    {
      "cell_type": "markdown",
      "metadata": {
        "id": "Ggs47iezcnBv"
      },
      "source": [
        "# 05. Thực hiện predict trên bộ dữ liệu kiểm thử - test"
      ]
    },
    {
      "cell_type": "code",
      "execution_count": 16,
      "metadata": {
        "colab": {
          "base_uri": "https://localhost:8080/",
          "height": 206
        },
        "id": "X2ywgv3jcnBv",
        "outputId": "3911f76f-a19e-459f-e503-58c0cdb6aad3"
      },
      "outputs": [
        {
          "output_type": "execute_result",
          "data": {
            "text/plain": [
              "   index                                            comment  n_star  \\\n",
              "0      0  Điện thoải ổn. Facelock cực nhanh, vân tay ôk ...       5   \n",
              "1      1  Mình mới  mua vivo91c. Tải ứng dụng ,games  nh...       5   \n",
              "2      2  Xấu đẹp gì ko biết nhưng rất ưng TGdđ phục vụ ...       5   \n",
              "3      3  Màn hình hơi lác khi chơi game. Game nặng thì ...       4   \n",
              "4      4  Nói chung máy đẹp với màn amoled, ổn trong tầm...       4   \n",
              "\n",
              "    date_time                                              label  \n",
              "0    5/2/2020  {SCREEN#Positive};{FEATURES#Positive};{PERFORM...  \n",
              "1  14/05/2019  {FEATURES#Negative};{PERFORMANCE#Positive};{SE...  \n",
              "2  26/03/2020               {DESIGN#Neutral};{SER&ACC#Positive};  \n",
              "3    4/6/2019  {PERFORMANCE#Negative};{DESIGN#Negative};{OTHE...  \n",
              "4   12/5/2020  {SCREEN#Positive};{BATTERY#Negative};{DESIGN#P...  "
            ],
            "text/html": [
              "\n",
              "  <div id=\"df-04b0f4ab-0db6-4df7-93e7-9328e2adae7b\" class=\"colab-df-container\">\n",
              "    <div>\n",
              "<style scoped>\n",
              "    .dataframe tbody tr th:only-of-type {\n",
              "        vertical-align: middle;\n",
              "    }\n",
              "\n",
              "    .dataframe tbody tr th {\n",
              "        vertical-align: top;\n",
              "    }\n",
              "\n",
              "    .dataframe thead th {\n",
              "        text-align: right;\n",
              "    }\n",
              "</style>\n",
              "<table border=\"1\" class=\"dataframe\">\n",
              "  <thead>\n",
              "    <tr style=\"text-align: right;\">\n",
              "      <th></th>\n",
              "      <th>index</th>\n",
              "      <th>comment</th>\n",
              "      <th>n_star</th>\n",
              "      <th>date_time</th>\n",
              "      <th>label</th>\n",
              "    </tr>\n",
              "  </thead>\n",
              "  <tbody>\n",
              "    <tr>\n",
              "      <th>0</th>\n",
              "      <td>0</td>\n",
              "      <td>Điện thoải ổn. Facelock cực nhanh, vân tay ôk ...</td>\n",
              "      <td>5</td>\n",
              "      <td>5/2/2020</td>\n",
              "      <td>{SCREEN#Positive};{FEATURES#Positive};{PERFORM...</td>\n",
              "    </tr>\n",
              "    <tr>\n",
              "      <th>1</th>\n",
              "      <td>1</td>\n",
              "      <td>Mình mới  mua vivo91c. Tải ứng dụng ,games  nh...</td>\n",
              "      <td>5</td>\n",
              "      <td>14/05/2019</td>\n",
              "      <td>{FEATURES#Negative};{PERFORMANCE#Positive};{SE...</td>\n",
              "    </tr>\n",
              "    <tr>\n",
              "      <th>2</th>\n",
              "      <td>2</td>\n",
              "      <td>Xấu đẹp gì ko biết nhưng rất ưng TGdđ phục vụ ...</td>\n",
              "      <td>5</td>\n",
              "      <td>26/03/2020</td>\n",
              "      <td>{DESIGN#Neutral};{SER&amp;ACC#Positive};</td>\n",
              "    </tr>\n",
              "    <tr>\n",
              "      <th>3</th>\n",
              "      <td>3</td>\n",
              "      <td>Màn hình hơi lác khi chơi game. Game nặng thì ...</td>\n",
              "      <td>4</td>\n",
              "      <td>4/6/2019</td>\n",
              "      <td>{PERFORMANCE#Negative};{DESIGN#Negative};{OTHE...</td>\n",
              "    </tr>\n",
              "    <tr>\n",
              "      <th>4</th>\n",
              "      <td>4</td>\n",
              "      <td>Nói chung máy đẹp với màn amoled, ổn trong tầm...</td>\n",
              "      <td>4</td>\n",
              "      <td>12/5/2020</td>\n",
              "      <td>{SCREEN#Positive};{BATTERY#Negative};{DESIGN#P...</td>\n",
              "    </tr>\n",
              "  </tbody>\n",
              "</table>\n",
              "</div>\n",
              "    <div class=\"colab-df-buttons\">\n",
              "\n",
              "  <div class=\"colab-df-container\">\n",
              "    <button class=\"colab-df-convert\" onclick=\"convertToInteractive('df-04b0f4ab-0db6-4df7-93e7-9328e2adae7b')\"\n",
              "            title=\"Convert this dataframe to an interactive table.\"\n",
              "            style=\"display:none;\">\n",
              "\n",
              "  <svg xmlns=\"http://www.w3.org/2000/svg\" height=\"24px\" viewBox=\"0 -960 960 960\">\n",
              "    <path d=\"M120-120v-720h720v720H120Zm60-500h600v-160H180v160Zm220 220h160v-160H400v160Zm0 220h160v-160H400v160ZM180-400h160v-160H180v160Zm440 0h160v-160H620v160ZM180-180h160v-160H180v160Zm440 0h160v-160H620v160Z\"/>\n",
              "  </svg>\n",
              "    </button>\n",
              "\n",
              "  <style>\n",
              "    .colab-df-container {\n",
              "      display:flex;\n",
              "      gap: 12px;\n",
              "    }\n",
              "\n",
              "    .colab-df-convert {\n",
              "      background-color: #E8F0FE;\n",
              "      border: none;\n",
              "      border-radius: 50%;\n",
              "      cursor: pointer;\n",
              "      display: none;\n",
              "      fill: #1967D2;\n",
              "      height: 32px;\n",
              "      padding: 0 0 0 0;\n",
              "      width: 32px;\n",
              "    }\n",
              "\n",
              "    .colab-df-convert:hover {\n",
              "      background-color: #E2EBFA;\n",
              "      box-shadow: 0px 1px 2px rgba(60, 64, 67, 0.3), 0px 1px 3px 1px rgba(60, 64, 67, 0.15);\n",
              "      fill: #174EA6;\n",
              "    }\n",
              "\n",
              "    .colab-df-buttons div {\n",
              "      margin-bottom: 4px;\n",
              "    }\n",
              "\n",
              "    [theme=dark] .colab-df-convert {\n",
              "      background-color: #3B4455;\n",
              "      fill: #D2E3FC;\n",
              "    }\n",
              "\n",
              "    [theme=dark] .colab-df-convert:hover {\n",
              "      background-color: #434B5C;\n",
              "      box-shadow: 0px 1px 3px 1px rgba(0, 0, 0, 0.15);\n",
              "      filter: drop-shadow(0px 1px 2px rgba(0, 0, 0, 0.3));\n",
              "      fill: #FFFFFF;\n",
              "    }\n",
              "  </style>\n",
              "\n",
              "    <script>\n",
              "      const buttonEl =\n",
              "        document.querySelector('#df-04b0f4ab-0db6-4df7-93e7-9328e2adae7b button.colab-df-convert');\n",
              "      buttonEl.style.display =\n",
              "        google.colab.kernel.accessAllowed ? 'block' : 'none';\n",
              "\n",
              "      async function convertToInteractive(key) {\n",
              "        const element = document.querySelector('#df-04b0f4ab-0db6-4df7-93e7-9328e2adae7b');\n",
              "        const dataTable =\n",
              "          await google.colab.kernel.invokeFunction('convertToInteractive',\n",
              "                                                    [key], {});\n",
              "        if (!dataTable) return;\n",
              "\n",
              "        const docLinkHtml = 'Like what you see? Visit the ' +\n",
              "          '<a target=\"_blank\" href=https://colab.research.google.com/notebooks/data_table.ipynb>data table notebook</a>'\n",
              "          + ' to learn more about interactive tables.';\n",
              "        element.innerHTML = '';\n",
              "        dataTable['output_type'] = 'display_data';\n",
              "        await google.colab.output.renderOutput(dataTable, element);\n",
              "        const docLink = document.createElement('div');\n",
              "        docLink.innerHTML = docLinkHtml;\n",
              "        element.appendChild(docLink);\n",
              "      }\n",
              "    </script>\n",
              "  </div>\n",
              "\n",
              "\n",
              "<div id=\"df-9f79e0f1-c077-4ec0-b610-bcf5f8a9edc1\">\n",
              "  <button class=\"colab-df-quickchart\" onclick=\"quickchart('df-9f79e0f1-c077-4ec0-b610-bcf5f8a9edc1')\"\n",
              "            title=\"Suggest charts\"\n",
              "            style=\"display:none;\">\n",
              "\n",
              "<svg xmlns=\"http://www.w3.org/2000/svg\" height=\"24px\"viewBox=\"0 0 24 24\"\n",
              "     width=\"24px\">\n",
              "    <g>\n",
              "        <path d=\"M19 3H5c-1.1 0-2 .9-2 2v14c0 1.1.9 2 2 2h14c1.1 0 2-.9 2-2V5c0-1.1-.9-2-2-2zM9 17H7v-7h2v7zm4 0h-2V7h2v10zm4 0h-2v-4h2v4z\"/>\n",
              "    </g>\n",
              "</svg>\n",
              "  </button>\n",
              "\n",
              "<style>\n",
              "  .colab-df-quickchart {\n",
              "      --bg-color: #E8F0FE;\n",
              "      --fill-color: #1967D2;\n",
              "      --hover-bg-color: #E2EBFA;\n",
              "      --hover-fill-color: #174EA6;\n",
              "      --disabled-fill-color: #AAA;\n",
              "      --disabled-bg-color: #DDD;\n",
              "  }\n",
              "\n",
              "  [theme=dark] .colab-df-quickchart {\n",
              "      --bg-color: #3B4455;\n",
              "      --fill-color: #D2E3FC;\n",
              "      --hover-bg-color: #434B5C;\n",
              "      --hover-fill-color: #FFFFFF;\n",
              "      --disabled-bg-color: #3B4455;\n",
              "      --disabled-fill-color: #666;\n",
              "  }\n",
              "\n",
              "  .colab-df-quickchart {\n",
              "    background-color: var(--bg-color);\n",
              "    border: none;\n",
              "    border-radius: 50%;\n",
              "    cursor: pointer;\n",
              "    display: none;\n",
              "    fill: var(--fill-color);\n",
              "    height: 32px;\n",
              "    padding: 0;\n",
              "    width: 32px;\n",
              "  }\n",
              "\n",
              "  .colab-df-quickchart:hover {\n",
              "    background-color: var(--hover-bg-color);\n",
              "    box-shadow: 0 1px 2px rgba(60, 64, 67, 0.3), 0 1px 3px 1px rgba(60, 64, 67, 0.15);\n",
              "    fill: var(--button-hover-fill-color);\n",
              "  }\n",
              "\n",
              "  .colab-df-quickchart-complete:disabled,\n",
              "  .colab-df-quickchart-complete:disabled:hover {\n",
              "    background-color: var(--disabled-bg-color);\n",
              "    fill: var(--disabled-fill-color);\n",
              "    box-shadow: none;\n",
              "  }\n",
              "\n",
              "  .colab-df-spinner {\n",
              "    border: 2px solid var(--fill-color);\n",
              "    border-color: transparent;\n",
              "    border-bottom-color: var(--fill-color);\n",
              "    animation:\n",
              "      spin 1s steps(1) infinite;\n",
              "  }\n",
              "\n",
              "  @keyframes spin {\n",
              "    0% {\n",
              "      border-color: transparent;\n",
              "      border-bottom-color: var(--fill-color);\n",
              "      border-left-color: var(--fill-color);\n",
              "    }\n",
              "    20% {\n",
              "      border-color: transparent;\n",
              "      border-left-color: var(--fill-color);\n",
              "      border-top-color: var(--fill-color);\n",
              "    }\n",
              "    30% {\n",
              "      border-color: transparent;\n",
              "      border-left-color: var(--fill-color);\n",
              "      border-top-color: var(--fill-color);\n",
              "      border-right-color: var(--fill-color);\n",
              "    }\n",
              "    40% {\n",
              "      border-color: transparent;\n",
              "      border-right-color: var(--fill-color);\n",
              "      border-top-color: var(--fill-color);\n",
              "    }\n",
              "    60% {\n",
              "      border-color: transparent;\n",
              "      border-right-color: var(--fill-color);\n",
              "    }\n",
              "    80% {\n",
              "      border-color: transparent;\n",
              "      border-right-color: var(--fill-color);\n",
              "      border-bottom-color: var(--fill-color);\n",
              "    }\n",
              "    90% {\n",
              "      border-color: transparent;\n",
              "      border-bottom-color: var(--fill-color);\n",
              "    }\n",
              "  }\n",
              "</style>\n",
              "\n",
              "  <script>\n",
              "    async function quickchart(key) {\n",
              "      const quickchartButtonEl =\n",
              "        document.querySelector('#' + key + ' button');\n",
              "      quickchartButtonEl.disabled = true;  // To prevent multiple clicks.\n",
              "      quickchartButtonEl.classList.add('colab-df-spinner');\n",
              "      try {\n",
              "        const charts = await google.colab.kernel.invokeFunction(\n",
              "            'suggestCharts', [key], {});\n",
              "      } catch (error) {\n",
              "        console.error('Error during call to suggestCharts:', error);\n",
              "      }\n",
              "      quickchartButtonEl.classList.remove('colab-df-spinner');\n",
              "      quickchartButtonEl.classList.add('colab-df-quickchart-complete');\n",
              "    }\n",
              "    (() => {\n",
              "      let quickchartButtonEl =\n",
              "        document.querySelector('#df-9f79e0f1-c077-4ec0-b610-bcf5f8a9edc1 button');\n",
              "      quickchartButtonEl.style.display =\n",
              "        google.colab.kernel.accessAllowed ? 'block' : 'none';\n",
              "    })();\n",
              "  </script>\n",
              "</div>\n",
              "\n",
              "    </div>\n",
              "  </div>\n"
            ],
            "application/vnd.google.colaboratory.intrinsic+json": {
              "type": "dataframe",
              "variable_name": "test_data",
              "summary": "{\n  \"name\": \"test_data\",\n  \"rows\": 2224,\n  \"fields\": [\n    {\n      \"column\": \"index\",\n      \"properties\": {\n        \"dtype\": \"number\",\n        \"std\": 642,\n        \"min\": 0,\n        \"max\": 2223,\n        \"num_unique_values\": 2224,\n        \"samples\": [\n          96,\n          1401,\n          1995\n        ],\n        \"semantic_type\": \"\",\n        \"description\": \"\"\n      }\n    },\n    {\n      \"column\": \"comment\",\n      \"properties\": {\n        \"dtype\": \"string\",\n        \"num_unique_values\": 2224,\n        \"samples\": [\n          \"S\\u1ea3n ph\\u1ea9m t\\u1ed1t, nh\\u01b0ng pin kh\\u00f4ng tr\\u00e2u nh\\u01b0 m\\u00ecnh ngh\\u0129...x\\u00e0i c\\u1ea3 ng\\u00e0y 2,3 ti\\u1ebfng ch\\u1ec9 l\\u01b0\\u1edbt fb m\\u00e0 pin tu\\u1ed9t qu\\u00e1 mau\",\n          \"H\\u00e0ng ch\\u1ea5t l\\u01b0\\u1ee3ng sai r\\u1ea5t ok cho th\\u1ebf gi\\u1edbi \\u0111i \\u0111\\u00f4ng 5 sao .M\\u00ecnh mua h\\u01a1n 4 th\\u00e1ng m\\u00e0 th\\u1ea5y r\\u1ea5t tuy\\u1ec7t v\\u1eddi thanks nh\\u00e0 b\\u1ea1n h\\u00e0ng s\\u1ed1 1 Vi\\u00eat N\\u0103m.\",\n          \"E m\\u1edbi m\\u01b0a \\u0111c 2 th\\u00e1ng. M\\u00e0 e m\\u1edbi c\\u1eadp nh\\u1eadt phi\\u00ean b\\u1ea3n miui m\\u1edbi nh\\u1ea5t  , e s\\u1eed d\\u1ee5ng th\\u1ea5y n\\u00f3 t\\u1ee5t pin nhanh qu\\u00e1. M\\u00fan xu\\u1ed1ng l\\u1ea1i b\\u1ea3n c\\u1eadp nh\\u1eadt c\\u0169 th\\u00ec l\\u00e0m sao \\u1ea1\"\n        ],\n        \"semantic_type\": \"\",\n        \"description\": \"\"\n      }\n    },\n    {\n      \"column\": \"n_star\",\n      \"properties\": {\n        \"dtype\": \"number\",\n        \"std\": 1,\n        \"min\": 1,\n        \"max\": 5,\n        \"num_unique_values\": 5,\n        \"samples\": [\n          4,\n          3,\n          2\n        ],\n        \"semantic_type\": \"\",\n        \"description\": \"\"\n      }\n    },\n    {\n      \"column\": \"date_time\",\n      \"properties\": {\n        \"dtype\": \"category\",\n        \"num_unique_values\": 554,\n        \"samples\": [\n          \"7/1/2020\",\n          \"24/04/2020\",\n          \"5/5/2019\"\n        ],\n        \"semantic_type\": \"\",\n        \"description\": \"\"\n      }\n    },\n    {\n      \"column\": \"label\",\n      \"properties\": {\n        \"dtype\": \"category\",\n        \"num_unique_values\": 1109,\n        \"samples\": [\n          \"{FEATURES#Negative};{BATTERY#Positive};{PERFORMANCE#Neutral};{GENERAL#Negative};{SER&ACC#Neutral};{OTHERS};\",\n          \"{CAMERA#Neutral};{FEATURES#Positive};{BATTERY#Positive};{PERFORMANCE#Positive};{GENERAL#Positive};\",\n          \"{PERFORMANCE#Positive};{PRICE#Positive};{GENERAL#Positive};\"\n        ],\n        \"semantic_type\": \"\",\n        \"description\": \"\"\n      }\n    }\n  ]\n}"
            }
          },
          "metadata": {},
          "execution_count": 16
        }
      ],
      "source": [
        "test_data = pd.read_csv(test_path)\n",
        "test_data.head()"
      ]
    },
    {
      "cell_type": "code",
      "execution_count": 17,
      "metadata": {
        "colab": {
          "base_uri": "https://localhost:8080/"
        },
        "id": "GKd0AeXWcnBv",
        "outputId": "60b4fa78-6343-4cb1-817b-62f029244cf7"
      },
      "outputs": [
        {
          "output_type": "stream",
          "name": "stdout",
          "text": [
            "Mọi thứ ok.mình thấy pin trâu chứ có sao đâu.mua đc 2 tuần rồi chỉ có cảm biến vân tay ko nhạy như mong đợi thôi.\n",
            "{FEATURES#Negative};{BATTERY#Positive};{GENERAL#Positive};\n",
            "Aspect Sentiment Prediction:\n",
            "SCREEN: None\n",
            "CAMERA: None\n",
            "FEATURES: Negative\n",
            "BATTERY: Positive\n",
            "PERFORMANCE: None\n",
            "STORAGE: None\n",
            "DESIGN: None\n",
            "PRICE: None\n",
            "GENERAL: Positive\n",
            "SER&ACC: None\n"
          ]
        }
      ],
      "source": [
        "max_len = 256\n",
        "\n",
        "idx = 20\n",
        "sentence_test = test_data.loc[idx, 'comment']\n",
        "true_label = test_data.loc[idx, 'label']\n",
        "print(sentence_test)\n",
        "print(true_label)\n",
        "\n",
        "predictions = predict_sentiment(model, sentence_test, tokenizer, max_len, device)\n",
        "results = interpret_predictions(predictions)\n",
        "\n",
        "print('Aspect Sentiment Prediction:')\n",
        "for aspect, sentiment in results.items():\n",
        "    print(f'{aspect}: {sentiment}')"
      ]
    },
    {
      "cell_type": "code",
      "execution_count": 18,
      "metadata": {
        "colab": {
          "base_uri": "https://localhost:8080/"
        },
        "id": "HCWHwq76cnBv",
        "outputId": "5be83d92-ca4f-481d-fe76-4a76b0a56b67"
      },
      "outputs": [
        {
          "output_type": "stream",
          "name": "stdout",
          "text": [
            "All done!\n"
          ]
        }
      ],
      "source": [
        "predictions_on_test = []\n",
        "\n",
        "for i in range(len(test_data)):\n",
        "    print(i)\n",
        "    sentence_on_test = test_data['comment'][i]\n",
        "    prediction_on_test = predict_sentiment(model, sentence_on_test, tokenizer, max_len, device)\n",
        "    results = interpret_predictions(prediction_on_test)\n",
        "    predictions_on_test.append(results)\n",
        "    clear_output()\n",
        "\n",
        "print('All done!')\n"
      ]
    },
    {
      "cell_type": "code",
      "execution_count": 19,
      "metadata": {
        "colab": {
          "base_uri": "https://localhost:8080/"
        },
        "id": "ev4i-Yz9cnBv",
        "outputId": "e42903e5-3b4d-4b50-e8a7-a4df7d764ec4"
      },
      "outputs": [
        {
          "output_type": "stream",
          "name": "stdout",
          "text": [
            "{'SCREEN': 'None', 'CAMERA': 'None', 'FEATURES': 'Negative', 'BATTERY': 'None', 'PERFORMANCE': 'None', 'STORAGE': 'None', 'DESIGN': 'None', 'PRICE': 'None', 'GENERAL': 'Positive', 'SER&ACC': 'None'}\n",
            "{SCREEN#Negative};{FEATURES#Negative};{GENERAL#Positive};\n"
          ]
        }
      ],
      "source": [
        "i = 5\n",
        "print(predictions_on_test[i])\n",
        "print(test_data['label'][i])"
      ]
    },
    {
      "cell_type": "code",
      "execution_count": 20,
      "metadata": {
        "id": "6cQzUXVwcnBv"
      },
      "outputs": [],
      "source": [
        "true_labels = []\n",
        "\n",
        "for i in range(len(test_data)):\n",
        "    outcome = {}\n",
        "    label = test_data['label'][i]\n",
        "    label = label.replace('{', '')\n",
        "    label = label.replace('}', '')\n",
        "    labels = label.split(';')\n",
        "    for l in labels:\n",
        "        try:\n",
        "            text = l.split('#')\n",
        "            outcome[text[0]] = text[1]\n",
        "        except:\n",
        "            pass\n",
        "    true_labels.append(outcome)"
      ]
    },
    {
      "cell_type": "code",
      "execution_count": 21,
      "metadata": {
        "colab": {
          "base_uri": "https://localhost:8080/"
        },
        "id": "kC90NflXcnBv",
        "outputId": "af0100c4-05ee-47af-b32f-4ac98b780de5"
      },
      "outputs": [
        {
          "output_type": "stream",
          "name": "stdout",
          "text": [
            "2224\n",
            "Comment:\n",
            "Thật tuyệt máy qua mượt túi thích  như thế giới Di Động có chỗ giá khác túi không hiểu đánh giá 5sao cho thế giới Di Động phương Phú Châu 5sao nhân viên OK\n",
            "True label:\n",
            "{}\n",
            "Predicted: \n",
            "{'SCREEN': 'None', 'CAMERA': 'None', 'FEATURES': 'None', 'BATTERY': 'None', 'PERFORMANCE': 'Positive', 'STORAGE': 'None', 'DESIGN': 'None', 'PRICE': 'None', 'GENERAL': 'Positive', 'SER&ACC': 'Positive'}\n"
          ]
        }
      ],
      "source": [
        "print(len(true_labels))\n",
        "\n",
        "idx = 6\n",
        "print(f'Comment:\\n{test_data[\"comment\"][idx]}')\n",
        "print(f'True label:\\n{true_labels[idx]}')\n",
        "print(f'Predicted: \\n{predictions_on_test[idx]}')"
      ]
    },
    {
      "cell_type": "markdown",
      "metadata": {
        "id": "6BBTzgG6cnBv"
      },
      "source": [
        "# 06. Chuẩn hóa nhãn đầu ra để thực hiện đánh giá hiệu suất mô hình"
      ]
    },
    {
      "cell_type": "code",
      "execution_count": 22,
      "metadata": {
        "id": "vNalaw3EcnBv"
      },
      "outputs": [],
      "source": [
        "def full_label(true_label, prediction):\n",
        "    '''true_label: dict\n",
        "     prediction: dict '''\n",
        "    for key, value in prediction.items():\n",
        "        if key not in true_label:\n",
        "            true_label[key] = 'None'\n",
        "    return true_label"
      ]
    },
    {
      "cell_type": "code",
      "execution_count": 23,
      "metadata": {
        "id": "46qWJa6EcnBw"
      },
      "outputs": [],
      "source": [
        "# mục tiêu là đưa danh sách các nhãn thực tế về dạng đánh giá 10 class như trong dự đoán\n",
        "true_full_labels = []\n",
        "for idx in range(len(test_data)):\n",
        "    true_label = true_labels[idx]\n",
        "    prediction = predictions_on_test[idx]\n",
        "    true_full_labels.append(full_label(true_label, prediction))"
      ]
    },
    {
      "cell_type": "code",
      "execution_count": 24,
      "metadata": {
        "id": "PsarD2fvcnBw"
      },
      "outputs": [],
      "source": [
        "from sklearn.metrics import accuracy_score\n",
        "from sklearn.metrics import f1_score\n",
        "from sklearn.metrics import precision_score\n",
        "from sklearn.metrics import recall_score"
      ]
    },
    {
      "cell_type": "code",
      "execution_count": 25,
      "metadata": {
        "colab": {
          "base_uri": "https://localhost:8080/"
        },
        "id": "tj2XOVRtcnBw",
        "outputId": "9441e124-78ec-418a-a4d5-c6781a4ff5c9"
      },
      "outputs": [
        {
          "output_type": "stream",
          "name": "stdout",
          "text": [
            "{'SCREEN': 'None', 'CAMERA': 'None', 'FEATURES': 'None', 'BATTERY': 'None', 'PERFORMANCE': 'Positive', 'STORAGE': 'None', 'DESIGN': 'None', 'PRICE': 'None', 'GENERAL': 'Positive', 'SER&ACC': 'Positive'}\n",
            "{'SCREEN': 'None', 'CAMERA': 'None', 'FEATURES': 'None', 'BATTERY': 'None', 'PERFORMANCE': 'None', 'STORAGE': 'None', 'DESIGN': 'None', 'PRICE': 'None', 'GENERAL': 'None', 'SER&ACC': 'None'}\n",
            "Thật tuyệt máy qua mượt túi thích  như thế giới Di Động có chỗ giá khác túi không hiểu đánh giá 5sao cho thế giới Di Động phương Phú Châu 5sao nhân viên OK\n",
            "true:  SCREEN None\n",
            "predicted:  SCREEN None\n",
            "true:  CAMERA None\n",
            "predicted:  CAMERA None\n",
            "true:  FEATURES None\n",
            "predicted:  FEATURES None\n",
            "true:  BATTERY None\n",
            "predicted:  BATTERY None\n",
            "true:  PERFORMANCE None\n",
            "predicted:  PERFORMANCE Positive\n",
            "true:  STORAGE None\n",
            "predicted:  STORAGE None\n",
            "true:  DESIGN None\n",
            "predicted:  DESIGN None\n",
            "true:  PRICE None\n",
            "predicted:  PRICE None\n",
            "true:  GENERAL None\n",
            "predicted:  GENERAL Positive\n",
            "true:  SER&ACC None\n",
            "predicted:  SER&ACC Positive\n"
          ]
        }
      ],
      "source": [
        "# data thỉnh thoảng bị sai -..-\n",
        "\n",
        "print(predictions_on_test[6])\n",
        "print(true_labels[6])\n",
        "print(test_data.loc[6, 'comment'])\n",
        "for key, value in true_labels[6].items():\n",
        "    print('true: ',key, value)\n",
        "    print('predicted: ', key, predictions_on_test[6][key])"
      ]
    },
    {
      "cell_type": "markdown",
      "metadata": {
        "id": "0xwwKGeBcnBw"
      },
      "source": [
        "# 07. Đánh giá hiệu suất tổng thể mô hình"
      ]
    },
    {
      "cell_type": "code",
      "execution_count": 26,
      "metadata": {
        "colab": {
          "base_uri": "https://localhost:8080/"
        },
        "id": "8odMrtOXcnBw",
        "outputId": "03f47af4-27f9-4780-a4f3-bc87a872d5f5"
      },
      "outputs": [
        {
          "output_type": "stream",
          "name": "stdout",
          "text": [
            "Accuracy = 0.9663459213771094\n",
            "Precision = 0.8812083973374296\n",
            "Recall = 1.0\n",
            "f1 = 0.9368535655960806\n"
          ]
        }
      ],
      "source": [
        "# đoạn code này đánh giá hiệu suất của toàn bộ mô hình trên toàn bộ các đặc trưng\n",
        "true_ = []\n",
        "predicted_ = []\n",
        "\n",
        "for idx in range(len(true_labels)):\n",
        "    for key, value in predictions_on_test[idx].items():\n",
        "        if true_labels[idx][key] == 'None' and value == 'None':\n",
        "            # đầu ra 0, dự đoán 0 => TP\n",
        "            true_.append(0)\n",
        "            predicted_.append(0)\n",
        "        elif true_labels[idx][key] != 'None' and true_labels[idx][key] == value:\n",
        "            # đầu ra 1, dự đoán 1 => TN\n",
        "            true_.append(1)\n",
        "            predicted_.append(1)\n",
        "        elif true_labels[idx][key] == 'None' and true_labels[idx][key] != value:\n",
        "            # đầu ra 0, dự đoán 1 => FP\n",
        "            true_.append(0)\n",
        "            predicted_.append(1)\n",
        "        elif true_labels[idx][key] != 'None' and true_labels[idx][key] == value:\n",
        "            # đầu ra 1, dự đoán 0 => FN\n",
        "            true_.append(1)\n",
        "            predicted_.append(0)\n",
        "\n",
        "accuracy = accuracy_score(true_, predicted_)\n",
        "precision = precision_score(true_, predicted_)\n",
        "recall = recall_score(true_, predicted_)\n",
        "f1 = f1_score(true_, predicted_)\n",
        "\n",
        "print(f'Accuracy = {accuracy}')\n",
        "print(f'Precision = {precision}')\n",
        "print(f'Recall = {recall}')\n",
        "print(f'f1 = {f1}')"
      ]
    },
    {
      "cell_type": "markdown",
      "metadata": {
        "id": "Ii3QTcABcnBw"
      },
      "source": [
        "# 08. Đánh giá hiệu suất nhận diện khía cạnh"
      ]
    },
    {
      "cell_type": "markdown",
      "metadata": {
        "id": "cGws-BiucnBw"
      },
      "source": [
        "### Accuracy trên toàn bộ khía cạnh"
      ]
    },
    {
      "cell_type": "code",
      "execution_count": 27,
      "metadata": {
        "colab": {
          "base_uri": "https://localhost:8080/"
        },
        "id": "qhsSi9shcnBw",
        "outputId": "0f2a1bef-6cac-4219-df14-aa6bcc4265bc"
      },
      "outputs": [
        {
          "output_type": "stream",
          "name": "stdout",
          "text": [
            "Accuracy = 0.9645233812949641\n"
          ]
        }
      ],
      "source": [
        "true_ = []\n",
        "predicted_ = []\n",
        "accuracy = []\n",
        "\n",
        "for idx in range(len(predictions_on_test)):\n",
        "    for key, value in predictions_on_test[idx].items():\n",
        "        if true_labels[idx][key] == 'None' and value == 'None':\n",
        "            accuracy.append(1)\n",
        "        elif true_labels[idx] != 'None' and value != 'None':\n",
        "            accuracy.append(1)\n",
        "        elif true_labels[idx][key] == 'None' and value != 'None':\n",
        "            accuracy.append(0)\n",
        "        elif true_labels[idx][key] != 'None' and value == 'None':\n",
        "            accuracy.append(0)\n",
        "\n",
        "\n",
        "print(f'Accuracy = {sum(accuracy)/len(accuracy)}')"
      ]
    },
    {
      "cell_type": "markdown",
      "metadata": {
        "id": "7lQ3Cx_ecnBx"
      },
      "source": [
        "### Precision, Recall, F1-score trên toàn bộ khía cạnh"
      ]
    },
    {
      "cell_type": "code",
      "execution_count": 28,
      "metadata": {
        "colab": {
          "base_uri": "https://localhost:8080/"
        },
        "id": "fnie10sFcnBx",
        "outputId": "a8131daa-f727-47e5-9e9d-e1721e5ee26d"
      },
      "outputs": [
        {
          "output_type": "stream",
          "name": "stdout",
          "text": [
            "Precision = 0.8950067883542012\n",
            "Recall = 0.8826242189824457\n",
            "F1-score = 0.8887723766010037\n"
          ]
        }
      ],
      "source": [
        "true_ = []\n",
        "predicted_ = []\n",
        "\n",
        "for idx in range(len(predictions_on_test)):\n",
        "    for key, value in predictions_on_test[idx].items():\n",
        "        if true_labels[idx] == 'None' and value == 'None':\n",
        "            true_.append(0)\n",
        "            predicted_.append(0)\n",
        "        elif true_labels[idx][key] != 'None' and value != 'None':\n",
        "            true_.append(1)\n",
        "            predicted_.append(1)\n",
        "        elif true_labels[idx][key] == 'None' and value != 'None':\n",
        "            true_.append(0)\n",
        "            predicted_.append(1)\n",
        "        elif true_labels[idx][key] != 'None' and value == 'None':\n",
        "            true_.append(1)\n",
        "            predicted_.append(0)\n",
        "\n",
        "\n",
        "print(f'Precision = {precision_score(true_, predicted_)}')\n",
        "print(f'Recall = {recall_score(true_, predicted_)}')\n",
        "print(f'F1-score = {f1_score(true_, predicted_)}')"
      ]
    },
    {
      "cell_type": "markdown",
      "metadata": {
        "id": "tV373MOAcnB1"
      },
      "source": [
        "### đánh giá hiệu suất khía cạnh trên class SCREEN"
      ]
    },
    {
      "cell_type": "code",
      "execution_count": 29,
      "metadata": {
        "colab": {
          "base_uri": "https://localhost:8080/"
        },
        "id": "SKblO7accnB1",
        "outputId": "b81aae06-ed75-4303-da43-114516cb7a34"
      },
      "outputs": [
        {
          "output_type": "stream",
          "name": "stdout",
          "text": [
            "Accuracy = 0.9550359712230215\n",
            "Precision = 0.8393574297188755\n",
            "Recall = 0.7769516728624535\n",
            "f1 = 0.8069498069498069\n"
          ]
        }
      ],
      "source": [
        "true_ = []\n",
        "predicted_ = []\n",
        "\n",
        "for idx in range(len(true_labels)):\n",
        "    key = 'SCREEN'\n",
        "    if true_labels[idx][key] == 'None' and predictions_on_test[idx][key] == 'None':\n",
        "        true_.append(0)\n",
        "        predicted_.append(0)\n",
        "    elif true_labels[idx][key] != 'None' and predictions_on_test[idx][key] != 'None':\n",
        "        true_.append(1)\n",
        "        predicted_.append(1)\n",
        "    elif true_labels[idx][key] == 'None' and predictions_on_test[idx][key] != 'None':\n",
        "        true_.append(0)\n",
        "        predicted_.append(1)\n",
        "    elif true_labels[idx][key] != 'None' and predictions_on_test[idx][key] == 'None':\n",
        "        true_.append(1)\n",
        "        predicted_.append(0)\n",
        "\n",
        "accuracy = accuracy_score(true_, predicted_)\n",
        "precision = precision_score(true_, predicted_)\n",
        "recall = recall_score(true_, predicted_)\n",
        "f1 = f1_score(true_, predicted_)\n",
        "\n",
        "print(f'Accuracy = {accuracy}')\n",
        "print(f'Precision = {precision}')\n",
        "print(f'Recall = {recall}')\n",
        "print(f'f1 = {f1}')"
      ]
    },
    {
      "cell_type": "markdown",
      "metadata": {
        "id": "MQJnywAGcnB1"
      },
      "source": [
        "### đánh giá hiệu suất khía cạnh trên class FEATURES"
      ]
    },
    {
      "cell_type": "code",
      "execution_count": 30,
      "metadata": {
        "colab": {
          "base_uri": "https://localhost:8080/"
        },
        "id": "0qWyPYuucnB1",
        "outputId": "18789b0b-a9f0-494b-f87a-70d1aaf1abc7"
      },
      "outputs": [
        {
          "output_type": "stream",
          "name": "stdout",
          "text": [
            "Accuracy = 0.9163669064748201\n",
            "Precision = 0.8650904033379694\n",
            "Recall = 0.8748241912798875\n",
            "f1 = 0.8699300699300699\n"
          ]
        }
      ],
      "source": [
        "true_ = []\n",
        "predicted_ = []\n",
        "\n",
        "for idx in range(len(true_labels)):\n",
        "    key = 'FEATURES'\n",
        "    if true_labels[idx][key] == 'None' and predictions_on_test[idx][key] == 'None':\n",
        "        true_.append(0)\n",
        "        predicted_.append(0)\n",
        "    elif true_labels[idx][key] != 'None' and predictions_on_test[idx][key] != 'None':\n",
        "        true_.append(1)\n",
        "        predicted_.append(1)\n",
        "    elif true_labels[idx][key] == 'None' and predictions_on_test[idx][key] != 'None':\n",
        "        true_.append(0)\n",
        "        predicted_.append(1)\n",
        "    elif true_labels[idx][key] != 'None' and predictions_on_test[idx][key] == 'None':\n",
        "        true_.append(1)\n",
        "        predicted_.append(0)\n",
        "\n",
        "accuracy = accuracy_score(true_, predicted_)\n",
        "precision = precision_score(true_, predicted_)\n",
        "recall = recall_score(true_, predicted_)\n",
        "f1 = f1_score(true_, predicted_)\n",
        "\n",
        "print(f'Accuracy = {accuracy}')\n",
        "print(f'Precision = {precision}')\n",
        "print(f'Recall = {recall}')\n",
        "print(f'f1 = {f1}')"
      ]
    },
    {
      "cell_type": "markdown",
      "metadata": {
        "id": "gfWyISwacnB1"
      },
      "source": [
        "### đánh giá hiệu suất khía cạnh trên class PERFORMANCE"
      ]
    },
    {
      "cell_type": "code",
      "execution_count": 32,
      "metadata": {
        "colab": {
          "base_uri": "https://localhost:8080/"
        },
        "id": "lV9hELy_cnB1",
        "outputId": "ff8d0fb6-3712-4f46-bde6-3af42cab32ac"
      },
      "outputs": [
        {
          "output_type": "stream",
          "name": "stdout",
          "text": [
            "Accuracy = 0.8920863309352518\n",
            "Precision = 0.9153297682709447\n",
            "Recall = 0.8762798634812287\n",
            "f1 = 0.8953792502179598\n"
          ]
        }
      ],
      "source": [
        "true_ = []\n",
        "predicted_ = []\n",
        "\n",
        "for idx in range(len(true_labels)):\n",
        "    key = 'PERFORMANCE'\n",
        "    if true_labels[idx][key] == 'None' and predictions_on_test[idx][key] == 'None':\n",
        "        true_.append(0)\n",
        "        predicted_.append(0)\n",
        "    elif true_labels[idx][key] != 'None' and predictions_on_test[idx][key] != 'None':\n",
        "        true_.append(1)\n",
        "        predicted_.append(1)\n",
        "    elif true_labels[idx][key] == 'None' and predictions_on_test[idx][key] != 'None':\n",
        "        true_.append(0)\n",
        "        predicted_.append(1)\n",
        "    elif true_labels[idx][key] != 'None' and predictions_on_test[idx][key] == 'None':\n",
        "        true_.append(1)\n",
        "        predicted_.append(0)\n",
        "\n",
        "accuracy = accuracy_score(true_, predicted_)\n",
        "precision = precision_score(true_, predicted_)\n",
        "recall = recall_score(true_, predicted_)\n",
        "f1 = f1_score(true_, predicted_)\n",
        "\n",
        "print(f'Accuracy = {accuracy}')\n",
        "print(f'Precision = {precision}')\n",
        "print(f'Recall = {recall}')\n",
        "print(f'f1 = {f1}')"
      ]
    },
    {
      "cell_type": "markdown",
      "metadata": {
        "id": "lNGgFdeMcnB2"
      },
      "source": [
        "### đánh giá hiệu suất khía cạnh trên class GENERAL"
      ]
    },
    {
      "cell_type": "code",
      "execution_count": 61,
      "metadata": {
        "colab": {
          "base_uri": "https://localhost:8080/"
        },
        "id": "tZaeWWahcnB2",
        "outputId": "9a73377b-194e-43a3-a0e9-2a5471d83b58"
      },
      "outputs": [
        {
          "output_type": "stream",
          "name": "stdout",
          "text": [
            "Accuracy = 0.845773381294964\n",
            "Precision = 0.8450797872340425\n",
            "Recall = 0.9203475742215785\n",
            "f1 = 0.8811091854419411\n"
          ]
        }
      ],
      "source": [
        "true_ = []\n",
        "predicted_ = []\n",
        "\n",
        "for idx in range(len(true_labels)):\n",
        "    key = 'GENERAL'\n",
        "    if true_labels[idx][key] == 'None' and predictions_on_test[idx][key] == 'None':\n",
        "        true_.append(0)\n",
        "        predicted_.append(0)\n",
        "    elif true_labels[idx][key] != 'None' and predictions_on_test[idx][key] != 'None':\n",
        "        true_.append(1)\n",
        "        predicted_.append(1)\n",
        "    elif true_labels[idx][key] == 'None' and predictions_on_test[idx][key] != 'None':\n",
        "        true_.append(0)\n",
        "        predicted_.append(1)\n",
        "    elif true_labels[idx][key] != 'None' and predictions_on_test[idx][key] == 'None':\n",
        "        true_.append(1)\n",
        "        predicted_.append(0)\n",
        "\n",
        "accuracy = accuracy_score(true_, predicted_)\n",
        "precision = precision_score(true_, predicted_)\n",
        "recall = recall_score(true_, predicted_)\n",
        "f1 = f1_score(true_, predicted_)\n",
        "\n",
        "print(f'Accuracy = {accuracy}')\n",
        "print(f'Precision = {precision}')\n",
        "print(f'Recall = {recall}')\n",
        "print(f'f1 = {f1}')"
      ]
    },
    {
      "cell_type": "markdown",
      "metadata": {
        "id": "ehqnaMbScnB2"
      },
      "source": [
        "### đánh giá hiệu suất khía cạnh trên class BATTERY"
      ]
    },
    {
      "cell_type": "code",
      "execution_count": 62,
      "metadata": {
        "colab": {
          "base_uri": "https://localhost:8080/"
        },
        "id": "xS4JDB9acnB2",
        "outputId": "c5f9886c-c944-47c8-d587-72921b167467"
      },
      "outputs": [
        {
          "output_type": "stream",
          "name": "stdout",
          "text": [
            "Accuracy = 0.9694244604316546\n",
            "Precision = 0.9530651340996169\n",
            "Recall = 0.9812623274161736\n",
            "f1 = 0.966958211856171\n"
          ]
        }
      ],
      "source": [
        "true_ = []\n",
        "predicted_ = []\n",
        "\n",
        "for idx in range(len(true_labels)):\n",
        "    key = 'BATTERY'\n",
        "    if true_labels[idx][key] == 'None' and predictions_on_test[idx][key] == 'None':\n",
        "        true_.append(0)\n",
        "        predicted_.append(0)\n",
        "    elif true_labels[idx][key] != 'None' and predictions_on_test[idx][key] != 'None':\n",
        "        true_.append(1)\n",
        "        predicted_.append(1)\n",
        "    elif true_labels[idx][key] == 'None' and predictions_on_test[idx][key] != 'None':\n",
        "        true_.append(0)\n",
        "        predicted_.append(1)\n",
        "    elif true_labels[idx][key] != 'None' and predictions_on_test[idx][key] == 'None':\n",
        "        true_.append(1)\n",
        "        predicted_.append(0)\n",
        "\n",
        "accuracy = accuracy_score(true_, predicted_)\n",
        "precision = precision_score(true_, predicted_)\n",
        "recall = recall_score(true_, predicted_)\n",
        "f1 = f1_score(true_, predicted_)\n",
        "\n",
        "print(f'Accuracy = {accuracy}')\n",
        "print(f'Precision = {precision}')\n",
        "print(f'Recall = {recall}')\n",
        "print(f'f1 = {f1}')"
      ]
    },
    {
      "cell_type": "markdown",
      "metadata": {
        "id": "jTc0_wtdcnB2"
      },
      "source": [
        "### đánh giá hiệu suất khía cạnh trên class STORAGE"
      ]
    },
    {
      "cell_type": "code",
      "execution_count": 63,
      "metadata": {
        "colab": {
          "base_uri": "https://localhost:8080/"
        },
        "id": "APOZnrn4cnB2",
        "outputId": "c6d8ad30-9c29-4a3f-fb7b-56cb966fd70f"
      },
      "outputs": [
        {
          "output_type": "stream",
          "name": "stdout",
          "text": [
            "Accuracy = 0.9878597122302158\n",
            "Precision = 0.0\n",
            "Recall = 0.0\n",
            "f1 = 0.0\n"
          ]
        }
      ],
      "source": [
        "true_ = []\n",
        "predicted_ = []\n",
        "\n",
        "for idx in range(len(true_labels)):\n",
        "    key = 'STORAGE'\n",
        "    if true_labels[idx][key] == 'None' and predictions_on_test[idx][key] == 'None':\n",
        "        true_.append(0)\n",
        "        predicted_.append(0)\n",
        "    elif true_labels[idx][key] != 'None' and predictions_on_test[idx][key] != 'None':\n",
        "        true_.append(1)\n",
        "        predicted_.append(1)\n",
        "    elif true_labels[idx][key] == 'None' and predictions_on_test[idx][key] != 'None':\n",
        "        true_.append(0)\n",
        "        predicted_.append(1)\n",
        "    elif true_labels[idx][key] != 'None' and predictions_on_test[idx][key] == 'None':\n",
        "        true_.append(1)\n",
        "        predicted_.append(0)\n",
        "\n",
        "accuracy = accuracy_score(true_, predicted_)\n",
        "precision = precision_score(true_, predicted_)\n",
        "recall = recall_score(true_, predicted_)\n",
        "f1 = f1_score(true_, predicted_)\n",
        "\n",
        "print(f'Accuracy = {accuracy}')\n",
        "print(f'Precision = {precision}')\n",
        "print(f'Recall = {recall}')\n",
        "print(f'f1 = {f1}')"
      ]
    },
    {
      "cell_type": "markdown",
      "metadata": {
        "id": "n8Fn9FxAcnB3"
      },
      "source": [
        "### đánh giá hiệu suất khía cạnh trên class DESIGN"
      ]
    },
    {
      "cell_type": "code",
      "execution_count": 65,
      "metadata": {
        "colab": {
          "base_uri": "https://localhost:8080/"
        },
        "id": "vflEbCi2cnB3",
        "outputId": "3ef87de4-0db0-4143-be52-16cd268c5ff1"
      },
      "outputs": [
        {
          "output_type": "stream",
          "name": "stdout",
          "text": [
            "Accuracy = 0.9348021582733813\n",
            "Precision = 0.9174917491749175\n",
            "Recall = 0.6984924623115578\n",
            "f1 = 0.7931526390870185\n"
          ]
        }
      ],
      "source": [
        "true_ = []\n",
        "predicted_ = []\n",
        "\n",
        "for idx in range(len(true_labels)):\n",
        "    key = 'DESIGN'\n",
        "    if true_labels[idx][key] == 'None' and predictions_on_test[idx][key] == 'None':\n",
        "        true_.append(0)\n",
        "        predicted_.append(0)\n",
        "    elif true_labels[idx][key] != 'None' and predictions_on_test[idx][key] != 'None':\n",
        "        true_.append(1)\n",
        "        predicted_.append(1)\n",
        "    elif true_labels[idx][key] == 'None' and predictions_on_test[idx][key] != 'None':\n",
        "        true_.append(0)\n",
        "        predicted_.append(1)\n",
        "    elif true_labels[idx][key] != 'None' and predictions_on_test[idx][key] == 'None':\n",
        "        true_.append(1)\n",
        "        predicted_.append(0)\n",
        "\n",
        "accuracy = accuracy_score(true_, predicted_)\n",
        "precision = precision_score(true_, predicted_)\n",
        "recall = recall_score(true_, predicted_)\n",
        "f1 = f1_score(true_, predicted_)\n",
        "\n",
        "print(f'Accuracy = {accuracy}')\n",
        "print(f'Precision = {precision}')\n",
        "print(f'Recall = {recall}')\n",
        "print(f'f1 = {f1}')"
      ]
    },
    {
      "cell_type": "markdown",
      "metadata": {
        "id": "l8zHXZSBcnB3"
      },
      "source": [
        "### đánh giá hiệu suất khía cạnh trên class PRICE"
      ]
    },
    {
      "cell_type": "code",
      "execution_count": 66,
      "metadata": {
        "colab": {
          "base_uri": "https://localhost:8080/"
        },
        "id": "-jbKIgeJcnB3",
        "outputId": "1c8d4e77-4b4e-4b10-b327-5545d5844233"
      },
      "outputs": [
        {
          "output_type": "stream",
          "name": "stdout",
          "text": [
            "Accuracy = 0.9482913669064749\n",
            "Precision = 0.8900343642611683\n",
            "Recall = 0.9103690685413005\n",
            "f1 = 0.900086880973067\n"
          ]
        }
      ],
      "source": [
        "true_ = []\n",
        "predicted_ = []\n",
        "\n",
        "for idx in range(len(true_labels)):\n",
        "    key = 'PRICE'\n",
        "    if true_labels[idx][key] == 'None' and predictions_on_test[idx][key] == 'None':\n",
        "        true_.append(0)\n",
        "        predicted_.append(0)\n",
        "    elif true_labels[idx][key] != 'None' and predictions_on_test[idx][key] != 'None':\n",
        "        true_.append(1)\n",
        "        predicted_.append(1)\n",
        "    elif true_labels[idx][key] == 'None' and predictions_on_test[idx][key] != 'None':\n",
        "        true_.append(0)\n",
        "        predicted_.append(1)\n",
        "    elif true_labels[idx][key] != 'None' and predictions_on_test[idx][key] == 'None':\n",
        "        true_.append(1)\n",
        "        predicted_.append(0)\n",
        "\n",
        "accuracy = accuracy_score(true_, predicted_)\n",
        "precision = precision_score(true_, predicted_)\n",
        "recall = recall_score(true_, predicted_)\n",
        "f1 = f1_score(true_, predicted_)\n",
        "\n",
        "print(f'Accuracy = {accuracy}')\n",
        "print(f'Precision = {precision}')\n",
        "print(f'Recall = {recall}')\n",
        "print(f'f1 = {f1}')"
      ]
    },
    {
      "cell_type": "markdown",
      "metadata": {
        "id": "2ijAgRXbcnB3"
      },
      "source": [
        "### đánh giá hiệu suất khía cạnh trên class SER&ACC"
      ]
    },
    {
      "cell_type": "code",
      "execution_count": 67,
      "metadata": {
        "colab": {
          "base_uri": "https://localhost:8080/"
        },
        "id": "PkzUn4wrcnB3",
        "outputId": "891c1444-73b6-42b8-a86d-7c4d7fd3f0a5"
      },
      "outputs": [
        {
          "output_type": "stream",
          "name": "stdout",
          "text": [
            "Accuracy = 0.9109712230215827\n",
            "Precision = 0.8957915831663327\n",
            "Recall = 0.7537942664418212\n",
            "f1 = 0.8186813186813187\n"
          ]
        }
      ],
      "source": [
        "true_ = []\n",
        "predicted_ = []\n",
        "\n",
        "for idx in range(len(true_labels)):\n",
        "    key = 'SER&ACC'\n",
        "    if true_labels[idx][key] == 'None' and predictions_on_test[idx][key] == 'None':\n",
        "        true_.append(0)\n",
        "        predicted_.append(0)\n",
        "    elif true_labels[idx][key] != 'None' and predictions_on_test[idx][key] != 'None':\n",
        "        true_.append(1)\n",
        "        predicted_.append(1)\n",
        "    elif true_labels[idx][key] == 'None' and predictions_on_test[idx][key] != 'None':\n",
        "        true_.append(0)\n",
        "        predicted_.append(1)\n",
        "    elif true_labels[idx][key] != 'None' and predictions_on_test[idx][key] == 'None':\n",
        "        true_.append(1)\n",
        "        predicted_.append(0)\n",
        "\n",
        "accuracy = accuracy_score(true_, predicted_)\n",
        "precision = precision_score(true_, predicted_)\n",
        "recall = recall_score(true_, predicted_)\n",
        "f1 = f1_score(true_, predicted_)\n",
        "\n",
        "print(f'Accuracy = {accuracy}')\n",
        "print(f'Precision = {precision}')\n",
        "print(f'Recall = {recall}')\n",
        "print(f'f1 = {f1}')"
      ]
    },
    {
      "cell_type": "markdown",
      "metadata": {
        "id": "bMygeDnkcnB3"
      },
      "source": [
        "### đánh giá hiệu suất khía cạnh trên class CAMERA"
      ]
    },
    {
      "cell_type": "code",
      "execution_count": 68,
      "metadata": {
        "colab": {
          "base_uri": "https://localhost:8080/"
        },
        "id": "GY2LbchecnB3",
        "outputId": "3f3be771-bdaa-4826-ee28-9c50bd9091f5"
      },
      "outputs": [
        {
          "output_type": "stream",
          "name": "stdout",
          "text": [
            "Accuracy = 0.9716726618705036\n",
            "Precision = 0.9324546952224053\n",
            "Recall = 0.9625850340136054\n",
            "f1 = 0.9472803347280334\n"
          ]
        }
      ],
      "source": [
        "true_ = []\n",
        "predicted_ = []\n",
        "\n",
        "for idx in range(len(true_labels)):\n",
        "    key = 'CAMERA'\n",
        "    if true_labels[idx][key] == 'None' and predictions_on_test[idx][key] == 'None':\n",
        "        true_.append(0)\n",
        "        predicted_.append(0)\n",
        "    elif true_labels[idx][key] != 'None' and predictions_on_test[idx][key] != 'None':\n",
        "        true_.append(1)\n",
        "        predicted_.append(1)\n",
        "    elif true_labels[idx][key] == 'None' and predictions_on_test[idx][key] != 'None':\n",
        "        true_.append(0)\n",
        "        predicted_.append(1)\n",
        "    elif true_labels[idx][key] != 'None' and predictions_on_test[idx][key] == 'None':\n",
        "        true_.append(1)\n",
        "        predicted_.append(0)\n",
        "\n",
        "accuracy = accuracy_score(true_, predicted_)\n",
        "precision = precision_score(true_, predicted_)\n",
        "recall = recall_score(true_, predicted_)\n",
        "f1 = f1_score(true_, predicted_)\n",
        "\n",
        "print(f'Accuracy = {accuracy}')\n",
        "print(f'Precision = {precision}')\n",
        "print(f'Recall = {recall}')\n",
        "print(f'f1 = {f1}')"
      ]
    },
    {
      "cell_type": "markdown",
      "metadata": {
        "id": "Jr9uysVPcnB3"
      },
      "source": [
        "# 09. Đánh giá hiệu suất nhận diện tình cảm (đa nhãn)"
      ]
    },
    {
      "cell_type": "markdown",
      "metadata": {
        "id": "IF-FiaO8cnB4"
      },
      "source": [
        "### Accuracy trên toàn bộ data kiểm thử\n",
        "acc = corrects/(all predictions)"
      ]
    },
    {
      "cell_type": "code",
      "execution_count": 69,
      "metadata": {
        "colab": {
          "base_uri": "https://localhost:8080/"
        },
        "id": "h5a3r39KcnB4",
        "outputId": "3b40b559-d252-4aaa-a2de-f4b3e31ee573"
      },
      "outputs": [
        {
          "output_type": "stream",
          "name": "stdout",
          "text": [
            "Accuracy = 0.7680749776852127\n"
          ]
        }
      ],
      "source": [
        "# đánh giá độ chính xác accuracy (chỉ dựa trên nhãn true_labels để đánh giá)\n",
        "true_ = []\n",
        "predicted_ = []\n",
        "accuracy = []\n",
        "\n",
        "for idx in range(len(true_labels)):\n",
        "    for key, value in true_labels[idx].items():\n",
        "        if value == 'None':\n",
        "            continue\n",
        "        elif predictions_on_test[idx][key] != value:\n",
        "            accuracy.append(0)\n",
        "        elif predictions_on_test[idx][key] == value:\n",
        "            accuracy.append(1)\n",
        "\n",
        "print(f'Accuracy = {sum(accuracy)/len(accuracy)}')"
      ]
    },
    {
      "cell_type": "markdown",
      "metadata": {
        "id": "mJFmplQycnB4"
      },
      "source": [
        "### Precisio, Recall, F1-score trên toàn bộ data kiểm thử"
      ]
    },
    {
      "cell_type": "code",
      "execution_count": 70,
      "metadata": {
        "colab": {
          "base_uri": "https://localhost:8080/"
        },
        "id": "55m6Kd7dcnB4",
        "outputId": "f8263012-9d0b-4787-f623-5720026407dd"
      },
      "outputs": [
        {
          "output_type": "stream",
          "name": "stdout",
          "text": [
            "Classification report:\n",
            "                      precision    recall  f1-score   support\n",
            "\n",
            "    BATTERY_Negative     0.7441    0.9402    0.8307       368\n",
            "     BATTERY_Neutral     0.0000    0.0000    0.0000        92\n",
            "        BATTERY_None     0.9839    0.9595    0.9715      1210\n",
            "    BATTERY_Positive     0.8722    0.9116    0.8914       554\n",
            "     CAMERA_Negative     0.6816    0.8012    0.7366       171\n",
            "      CAMERA_Neutral     0.4000    0.0282    0.0526        71\n",
            "         CAMERA_None     0.9864    0.9749    0.9806      1636\n",
            "     CAMERA_Positive     0.8080    0.9364    0.8675       346\n",
            "     DESIGN_Negative     0.6364    0.0729    0.1308        96\n",
            "      DESIGN_Neutral     0.0000    0.0000    0.0000        28\n",
            "         DESIGN_None     0.9375    0.9863    0.9613      1826\n",
            "     DESIGN_Positive     0.7842    0.8358    0.8092       274\n",
            "   FEATURES_Negative     0.7466    0.8410    0.7910       459\n",
            "    FEATURES_Neutral     0.0000    0.0000    0.0000        52\n",
            "       FEATURES_None     0.9409    0.9359    0.9384      1513\n",
            "   FEATURES_Positive     0.7079    0.7150    0.7114       200\n",
            "    GENERAL_Negative     0.6457    0.7687    0.7019       294\n",
            "     GENERAL_Neutral     0.0000    0.0000    0.0000        83\n",
            "        GENERAL_None     0.8472    0.7236    0.7806       843\n",
            "    GENERAL_Positive     0.8267    0.9502    0.8842      1004\n",
            "PERFORMANCE_Negative     0.7542    0.7974    0.7752       454\n",
            " PERFORMANCE_Neutral     0.5000    0.0086    0.0169       116\n",
            "    PERFORMANCE_None     0.8684    0.9097    0.8886      1052\n",
            "PERFORMANCE_Positive     0.8250    0.8771    0.8502       602\n",
            "      PRICE_Negative     0.5455    0.5316    0.5385        79\n",
            "       PRICE_Neutral     0.7652    0.7652    0.7652       328\n",
            "          PRICE_None     0.9689    0.9613    0.9651      1655\n",
            "      PRICE_Positive     0.6723    0.7346    0.7021       162\n",
            "     SCREEN_Negative     0.7204    0.5776    0.6411       116\n",
            "      SCREEN_Neutral     0.0000    0.0000    0.0000        17\n",
            "         SCREEN_None     0.9696    0.9795    0.9746      1955\n",
            "     SCREEN_Positive     0.7372    0.8456    0.7877       136\n",
            "    SER&ACC_Negative     0.7129    0.4311    0.5373       167\n",
            "     SER&ACC_Neutral     0.0000    0.0000    0.0000        27\n",
            "        SER&ACC_None     0.9154    0.9681    0.9410      1631\n",
            "    SER&ACC_Positive     0.8719    0.8697    0.8708       399\n",
            "    STORAGE_Negative     0.0000    0.0000    0.0000         6\n",
            "     STORAGE_Neutral     0.0000    0.0000    0.0000         3\n",
            "        STORAGE_None     0.9879    1.0000    0.9939      2197\n",
            "    STORAGE_Positive     0.0000    0.0000    0.0000        18\n",
            "\n",
            "            accuracy                         0.8986     22240\n",
            "           macro avg     0.6091    0.5910    0.5822     22240\n",
            "        weighted avg     0.8832    0.8986    0.8868     22240\n",
            "\n"
          ]
        }
      ],
      "source": [
        "from sklearn.metrics import classification_report\n",
        "\n",
        "\n",
        "y_true = []\n",
        "y_pred = []\n",
        "\n",
        "for idx in range(len(true_labels)):\n",
        "    for key, value in true_labels[idx].items():\n",
        "        y_true.append(key + \"_\" + value)\n",
        "        y_pred.append(key + \"_\" + predictions_on_test[idx][key])\n",
        "\n",
        "\n",
        "print(f'Classification report:')\n",
        "print(classification_report(y_true, y_pred, digits=4))"
      ]
    },
    {
      "cell_type": "code",
      "execution_count": 71,
      "metadata": {
        "colab": {
          "base_uri": "https://localhost:8080/"
        },
        "id": "AYQADa__cnB4",
        "outputId": "4c5bef92-e794-481f-bb7c-08acdd125479"
      },
      "outputs": [
        {
          "output_type": "stream",
          "name": "stdout",
          "text": [
            "\n",
            "Overall Precision, Recall, F1-Score:\n",
            "Micro Precision: 0.8986\n",
            "Micro Recall: 0.8986\n",
            "Micro F1-Score: 0.8986\n",
            "Macro Precision: 0.6091\n",
            "Macro Recall: 0.5910\n",
            "Macro F1-Score: 0.5822\n",
            "Weighted Precision: 0.8832\n",
            "Weighted Recall: 0.8986\n",
            "Weighted F1-Score: 0.8868\n"
          ]
        }
      ],
      "source": [
        "precision_micro = precision_score(y_true, y_pred, average='micro')\n",
        "recall_micro = recall_score(y_true, y_pred, average='micro')\n",
        "f1_micro = f1_score(y_true, y_pred, average='micro')\n",
        "\n",
        "precision_macro = precision_score(y_true, y_pred, average='macro')\n",
        "recall_macro = recall_score(y_true, y_pred, average='macro')\n",
        "f1_macro = f1_score(y_true, y_pred, average='macro')\n",
        "\n",
        "precision_weighted = precision_score(y_true, y_pred, average='weighted')\n",
        "recall_weighted = recall_score(y_true, y_pred, average='weighted')\n",
        "f1_weighted = f1_score(y_true, y_pred, average='weighted')\n",
        "\n",
        "print(\"\\nOverall Precision, Recall, F1-Score:\")\n",
        "print(f\"Micro Precision: {precision_micro:.4f}\")\n",
        "print(f\"Micro Recall: {recall_micro:.4f}\")\n",
        "print(f\"Micro F1-Score: {f1_micro:.4f}\")\n",
        "print(f\"Macro Precision: {precision_macro:.4f}\")\n",
        "print(f\"Macro Recall: {recall_macro:.4f}\")\n",
        "print(f\"Macro F1-Score: {f1_macro:.4f}\")\n",
        "print(f\"Weighted Precision: {precision_weighted:.4f}\")\n",
        "print(f\"Weighted Recall: {recall_weighted:.4f}\")\n",
        "print(f\"Weighted F1-Score: {f1_weighted:.4f}\")"
      ]
    },
    {
      "cell_type": "markdown",
      "metadata": {
        "id": "uP4q3WCJcnB4"
      },
      "source": [
        "### Đánh giá hiệu suất nhận diện tình cảm của khía cạnh SCREEN"
      ]
    },
    {
      "cell_type": "code",
      "execution_count": 72,
      "metadata": {
        "colab": {
          "base_uri": "https://localhost:8080/"
        },
        "id": "eUXH27o7cnB4",
        "outputId": "8c2999cb-bc7b-449c-ccf0-c996cee0ce2a"
      },
      "outputs": [
        {
          "output_type": "stream",
          "name": "stdout",
          "text": [
            "              precision    recall  f1-score   support\n",
            "\n",
            "    Negative       0.72      0.58      0.64       116\n",
            "     Neutral       0.00      0.00      0.00        17\n",
            "        None       0.97      0.98      0.97      1955\n",
            "    Positive       0.74      0.85      0.79       136\n",
            "\n",
            "    accuracy                           0.94      2224\n",
            "   macro avg       0.61      0.60      0.60      2224\n",
            "weighted avg       0.93      0.94      0.94      2224\n",
            "\n"
          ]
        }
      ],
      "source": [
        "y_true = []\n",
        "y_pred = []\n",
        "\n",
        "key = 'SCREEN'\n",
        "for idx in range(len(true_labels)):\n",
        "    y_true.append(true_labels[idx][key])\n",
        "    y_pred.append(predictions_on_test[idx][key])\n",
        "\n",
        "report = classification_report(y_true, y_pred)\n",
        "print(report)"
      ]
    },
    {
      "cell_type": "markdown",
      "metadata": {
        "id": "e7xkPqygcnB4"
      },
      "source": [
        "### Đánh giá hiệu suất nhận diện tình cảm của khía cạnh FEATURES"
      ]
    },
    {
      "cell_type": "code",
      "execution_count": 73,
      "metadata": {
        "colab": {
          "base_uri": "https://localhost:8080/"
        },
        "id": "BoS5-BfdcnB4",
        "outputId": "84410fe2-00d7-4210-f826-b3a820fc4807"
      },
      "outputs": [
        {
          "output_type": "stream",
          "name": "stdout",
          "text": [
            "              precision    recall  f1-score   support\n",
            "\n",
            "    Negative       0.75      0.84      0.79       459\n",
            "     Neutral       0.00      0.00      0.00        52\n",
            "        None       0.94      0.94      0.94      1513\n",
            "    Positive       0.71      0.71      0.71       200\n",
            "\n",
            "    accuracy                           0.87      2224\n",
            "   macro avg       0.60      0.62      0.61      2224\n",
            "weighted avg       0.86      0.87      0.87      2224\n",
            "\n"
          ]
        }
      ],
      "source": [
        "y_true = []\n",
        "y_pred = []\n",
        "\n",
        "key = 'FEATURES'\n",
        "for idx in range(len(true_labels)):\n",
        "    y_true.append(true_labels[idx][key])\n",
        "    y_pred.append(predictions_on_test[idx][key])\n",
        "\n",
        "report = classification_report(y_true, y_pred)\n",
        "print(report)"
      ]
    },
    {
      "cell_type": "markdown",
      "metadata": {
        "id": "uOAKVfSAcnB4"
      },
      "source": [
        "### Đánh giá hiệu suất nhận diện tình cảm của khía cạnh PERFORMANCE"
      ]
    },
    {
      "cell_type": "code",
      "execution_count": 48,
      "metadata": {
        "colab": {
          "base_uri": "https://localhost:8080/"
        },
        "id": "MxAH_0SXcnB5",
        "outputId": "14d06674-de8b-4cd6-b939-de7b4e5d8e0b"
      },
      "outputs": [
        {
          "output_type": "stream",
          "name": "stdout",
          "text": [
            "              precision    recall  f1-score   support\n",
            "\n",
            "    Negative       0.75      0.80      0.78       454\n",
            "     Neutral       0.50      0.01      0.02       116\n",
            "        None       0.87      0.91      0.89      1052\n",
            "    Positive       0.82      0.88      0.85       602\n",
            "\n",
            "    accuracy                           0.83      2224\n",
            "   macro avg       0.74      0.65      0.63      2224\n",
            "weighted avg       0.81      0.83      0.81      2224\n",
            "\n"
          ]
        }
      ],
      "source": [
        "y_true = []\n",
        "y_pred = []\n",
        "\n",
        "key = 'PERFORMANCE'\n",
        "for idx in range(len(true_labels)):\n",
        "    y_true.append(true_labels[idx][key])\n",
        "    y_pred.append(predictions_on_test[idx][key])\n",
        "\n",
        "report = classification_report(y_true, y_pred)\n",
        "print(report)"
      ]
    },
    {
      "cell_type": "markdown",
      "metadata": {
        "id": "-Q56dyWicnB5"
      },
      "source": [
        "### Đánh giá hiệu suất nhận diện tình cảm của khía cạnh GENERAL"
      ]
    },
    {
      "cell_type": "code",
      "execution_count": 49,
      "metadata": {
        "colab": {
          "base_uri": "https://localhost:8080/"
        },
        "id": "yM38AgNGcnB5",
        "outputId": "ba7c429e-ba76-46ef-a259-a5c06f3add43"
      },
      "outputs": [
        {
          "output_type": "stream",
          "name": "stdout",
          "text": [
            "              precision    recall  f1-score   support\n",
            "\n",
            "    Negative       0.65      0.77      0.70       294\n",
            "     Neutral       0.00      0.00      0.00        83\n",
            "        None       0.85      0.72      0.78       843\n",
            "    Positive       0.83      0.95      0.88      1004\n",
            "\n",
            "    accuracy                           0.80      2224\n",
            "   macro avg       0.58      0.61      0.59      2224\n",
            "weighted avg       0.78      0.80      0.79      2224\n",
            "\n"
          ]
        }
      ],
      "source": [
        "y_true = []\n",
        "y_pred = []\n",
        "\n",
        "key = 'GENERAL'\n",
        "for idx in range(len(true_labels)):\n",
        "    y_true.append(true_labels[idx][key])\n",
        "    y_pred.append(predictions_on_test[idx][key])\n",
        "\n",
        "report = classification_report(y_true, y_pred)\n",
        "print(report)"
      ]
    },
    {
      "cell_type": "markdown",
      "metadata": {
        "id": "aAoHxt8UcnB5"
      },
      "source": [
        "### Đánh giá hiệu suất nhận diện tình cảm của khía cạnh CAMERA"
      ]
    },
    {
      "cell_type": "code",
      "execution_count": 50,
      "metadata": {
        "colab": {
          "base_uri": "https://localhost:8080/"
        },
        "id": "Vk_yx7DHcnB5",
        "outputId": "ec414db0-1897-401c-bac7-a754ca67b9a2"
      },
      "outputs": [
        {
          "output_type": "stream",
          "name": "stdout",
          "text": [
            "              precision    recall  f1-score   support\n",
            "\n",
            "    Negative       0.68      0.80      0.74       171\n",
            "     Neutral       0.40      0.03      0.05        71\n",
            "        None       0.99      0.97      0.98      1636\n",
            "    Positive       0.81      0.94      0.87       346\n",
            "\n",
            "    accuracy                           0.93      2224\n",
            "   macro avg       0.72      0.69      0.66      2224\n",
            "weighted avg       0.92      0.93      0.91      2224\n",
            "\n"
          ]
        }
      ],
      "source": [
        "y_true = []\n",
        "y_pred = []\n",
        "\n",
        "key = 'CAMERA'\n",
        "for idx in range(len(true_labels)):\n",
        "    y_true.append(true_labels[idx][key])\n",
        "    y_pred.append(predictions_on_test[idx][key])\n",
        "\n",
        "report = classification_report(y_true, y_pred)\n",
        "print(report)"
      ]
    },
    {
      "cell_type": "markdown",
      "metadata": {
        "id": "IXwMhBr5cnB5"
      },
      "source": [
        "### Đánh giá hiệu suất nhận diện tình cảm của khía cạnh BATTERY"
      ]
    },
    {
      "cell_type": "code",
      "execution_count": 51,
      "metadata": {
        "colab": {
          "base_uri": "https://localhost:8080/"
        },
        "id": "QdsY2OhecnB5",
        "outputId": "06d20a65-21ae-4ded-bed6-03cdff32ba60"
      },
      "outputs": [
        {
          "output_type": "stream",
          "name": "stdout",
          "text": [
            "              precision    recall  f1-score   support\n",
            "\n",
            "    Negative       0.74      0.94      0.83       368\n",
            "     Neutral       0.00      0.00      0.00        92\n",
            "        None       0.98      0.96      0.97      1210\n",
            "    Positive       0.87      0.91      0.89       554\n",
            "\n",
            "    accuracy                           0.90      2224\n",
            "   macro avg       0.65      0.70      0.67      2224\n",
            "weighted avg       0.88      0.90      0.89      2224\n",
            "\n"
          ]
        }
      ],
      "source": [
        "y_true = []\n",
        "y_pred = []\n",
        "\n",
        "key = 'BATTERY'\n",
        "for idx in range(len(true_labels)):\n",
        "    y_true.append(true_labels[idx][key])\n",
        "    y_pred.append(predictions_on_test[idx][key])\n",
        "\n",
        "report = classification_report(y_true, y_pred)\n",
        "print(report)"
      ]
    },
    {
      "cell_type": "markdown",
      "metadata": {
        "id": "x7yrHl_BcnB5"
      },
      "source": [
        "### Đánh giá hiệu suất nhận diện tình cảm của khía cạnh STORAGE"
      ]
    },
    {
      "cell_type": "code",
      "execution_count": 52,
      "metadata": {
        "colab": {
          "base_uri": "https://localhost:8080/"
        },
        "id": "cqzt3aEMcnB5",
        "outputId": "926a1e23-8117-4f22-ee30-91fe7bed05eb"
      },
      "outputs": [
        {
          "output_type": "stream",
          "name": "stdout",
          "text": [
            "              precision    recall  f1-score   support\n",
            "\n",
            "    Negative       0.00      0.00      0.00         6\n",
            "     Neutral       0.00      0.00      0.00         3\n",
            "        None       0.99      1.00      0.99      2197\n",
            "    Positive       0.00      0.00      0.00        18\n",
            "\n",
            "    accuracy                           0.99      2224\n",
            "   macro avg       0.25      0.25      0.25      2224\n",
            "weighted avg       0.98      0.99      0.98      2224\n",
            "\n"
          ]
        }
      ],
      "source": [
        "y_true = []\n",
        "y_pred = []\n",
        "\n",
        "key = 'STORAGE'\n",
        "for idx in range(len(true_labels)):\n",
        "    y_true.append(true_labels[idx][key])\n",
        "    y_pred.append(predictions_on_test[idx][key])\n",
        "\n",
        "report = classification_report(y_true, y_pred)\n",
        "print(report)"
      ]
    },
    {
      "cell_type": "markdown",
      "metadata": {
        "id": "fuZKSksfcnB5"
      },
      "source": [
        "### Đánh giá hiệu suất nhận diện tình cảm của khía cạnh DESIGN"
      ]
    },
    {
      "cell_type": "code",
      "execution_count": 53,
      "metadata": {
        "colab": {
          "base_uri": "https://localhost:8080/"
        },
        "id": "XLhPLisxcnB5",
        "outputId": "9b783426-26be-481c-e95f-90c97c57c02b"
      },
      "outputs": [
        {
          "output_type": "stream",
          "name": "stdout",
          "text": [
            "              precision    recall  f1-score   support\n",
            "\n",
            "    Negative       0.64      0.07      0.13        96\n",
            "     Neutral       0.00      0.00      0.00        28\n",
            "        None       0.94      0.99      0.96      1826\n",
            "    Positive       0.78      0.84      0.81       274\n",
            "\n",
            "    accuracy                           0.92      2224\n",
            "   macro avg       0.59      0.47      0.48      2224\n",
            "weighted avg       0.89      0.92      0.89      2224\n",
            "\n"
          ]
        }
      ],
      "source": [
        "y_true = []\n",
        "y_pred = []\n",
        "\n",
        "key = 'DESIGN'\n",
        "for idx in range(len(true_labels)):\n",
        "    y_true.append(true_labels[idx][key])\n",
        "    y_pred.append(predictions_on_test[idx][key])\n",
        "\n",
        "report = classification_report(y_true, y_pred)\n",
        "print(report)"
      ]
    },
    {
      "cell_type": "markdown",
      "metadata": {
        "id": "27zn5P7GcnB6"
      },
      "source": [
        "### Đánh giá hiệu suất nhận diện tình cảm của khía cạnh PRICE"
      ]
    },
    {
      "cell_type": "code",
      "execution_count": 54,
      "metadata": {
        "colab": {
          "base_uri": "https://localhost:8080/"
        },
        "id": "ybKBV0dVcnB6",
        "outputId": "f51e48a6-25ef-48d3-a1db-3f7692a2ed9a"
      },
      "outputs": [
        {
          "output_type": "stream",
          "name": "stdout",
          "text": [
            "              precision    recall  f1-score   support\n",
            "\n",
            "    Negative       0.55      0.53      0.54        79\n",
            "     Neutral       0.77      0.77      0.77       328\n",
            "        None       0.97      0.96      0.97      1655\n",
            "    Positive       0.67      0.73      0.70       162\n",
            "\n",
            "    accuracy                           0.90      2224\n",
            "   macro avg       0.74      0.75      0.74      2224\n",
            "weighted avg       0.90      0.90      0.90      2224\n",
            "\n"
          ]
        }
      ],
      "source": [
        "y_true = []\n",
        "y_pred = []\n",
        "\n",
        "key = 'PRICE'\n",
        "for idx in range(len(true_labels)):\n",
        "    y_true.append(true_labels[idx][key])\n",
        "    y_pred.append(predictions_on_test[idx][key])\n",
        "\n",
        "report = classification_report(y_true, y_pred)\n",
        "print(report)"
      ]
    },
    {
      "cell_type": "markdown",
      "metadata": {
        "id": "FTijVI72cnB6"
      },
      "source": [
        "### Đánh giá hiệu suất nhận diện tình cảm của khía cạnh SER&ACC"
      ]
    },
    {
      "cell_type": "code",
      "execution_count": 55,
      "metadata": {
        "colab": {
          "base_uri": "https://localhost:8080/"
        },
        "id": "YdVD23EvcnB6",
        "outputId": "4dcce50d-e49e-4824-ce1d-f803610a1e12"
      },
      "outputs": [
        {
          "output_type": "stream",
          "name": "stdout",
          "text": [
            "              precision    recall  f1-score   support\n",
            "\n",
            "    Negative       0.71      0.43      0.54       167\n",
            "     Neutral       0.00      0.00      0.00        27\n",
            "        None       0.92      0.97      0.94      1631\n",
            "    Positive       0.87      0.87      0.87       399\n",
            "\n",
            "    accuracy                           0.90      2224\n",
            "   macro avg       0.63      0.57      0.59      2224\n",
            "weighted avg       0.88      0.90      0.89      2224\n",
            "\n"
          ]
        }
      ],
      "source": [
        "y_true = []\n",
        "y_pred = []\n",
        "\n",
        "key = 'SER&ACC'\n",
        "for idx in range(len(true_labels)):\n",
        "    y_true.append(true_labels[idx][key])\n",
        "    y_pred.append(predictions_on_test[idx][key])\n",
        "\n",
        "report = classification_report(y_true, y_pred)\n",
        "print(report)"
      ]
    }
  ],
  "metadata": {
    "accelerator": "GPU",
    "colab": {
      "gpuType": "T4",
      "provenance": []
    },
    "kernelspec": {
      "display_name": "Python 3",
      "name": "python3"
    },
    "language_info": {
      "codemirror_mode": {
        "name": "ipython",
        "version": 3
      },
      "file_extension": ".py",
      "mimetype": "text/x-python",
      "name": "python",
      "nbconvert_exporter": "python",
      "pygments_lexer": "ipython3",
      "version": "3.10.0"
    },
    "widgets": {
      "application/vnd.jupyter.widget-state+json": {
        "28d8cb8941594084a53c5884f6a0b448": {
          "model_module": "@jupyter-widgets/controls",
          "model_name": "HBoxModel",
          "model_module_version": "1.5.0",
          "state": {
            "_dom_classes": [],
            "_model_module": "@jupyter-widgets/controls",
            "_model_module_version": "1.5.0",
            "_model_name": "HBoxModel",
            "_view_count": null,
            "_view_module": "@jupyter-widgets/controls",
            "_view_module_version": "1.5.0",
            "_view_name": "HBoxView",
            "box_style": "",
            "children": [
              "IPY_MODEL_839f0204bb1745c3be8c826cb527e9df",
              "IPY_MODEL_405afb011b6143d0a665ce6547a03792",
              "IPY_MODEL_20542af85b114a9c86a5c002de3adf43"
            ],
            "layout": "IPY_MODEL_9f9e4f268b414687885f5bd59d8f6e39"
          }
        },
        "839f0204bb1745c3be8c826cb527e9df": {
          "model_module": "@jupyter-widgets/controls",
          "model_name": "HTMLModel",
          "model_module_version": "1.5.0",
          "state": {
            "_dom_classes": [],
            "_model_module": "@jupyter-widgets/controls",
            "_model_module_version": "1.5.0",
            "_model_name": "HTMLModel",
            "_view_count": null,
            "_view_module": "@jupyter-widgets/controls",
            "_view_module_version": "1.5.0",
            "_view_name": "HTMLView",
            "description": "",
            "description_tooltip": null,
            "layout": "IPY_MODEL_efe82e9f3a614ca5bf994f1266ebfd3c",
            "placeholder": "​",
            "style": "IPY_MODEL_de3b66b55f9642fa9ec08fd908dd3c3f",
            "value": "tokenizer_config.json: 100%"
          }
        },
        "405afb011b6143d0a665ce6547a03792": {
          "model_module": "@jupyter-widgets/controls",
          "model_name": "FloatProgressModel",
          "model_module_version": "1.5.0",
          "state": {
            "_dom_classes": [],
            "_model_module": "@jupyter-widgets/controls",
            "_model_module_version": "1.5.0",
            "_model_name": "FloatProgressModel",
            "_view_count": null,
            "_view_module": "@jupyter-widgets/controls",
            "_view_module_version": "1.5.0",
            "_view_name": "ProgressView",
            "bar_style": "success",
            "description": "",
            "description_tooltip": null,
            "layout": "IPY_MODEL_17c8067ce08341ea9231d489db2fccc1",
            "max": 49,
            "min": 0,
            "orientation": "horizontal",
            "style": "IPY_MODEL_f039217403aa48b9993bc15aa8135bfb",
            "value": 49
          }
        },
        "20542af85b114a9c86a5c002de3adf43": {
          "model_module": "@jupyter-widgets/controls",
          "model_name": "HTMLModel",
          "model_module_version": "1.5.0",
          "state": {
            "_dom_classes": [],
            "_model_module": "@jupyter-widgets/controls",
            "_model_module_version": "1.5.0",
            "_model_name": "HTMLModel",
            "_view_count": null,
            "_view_module": "@jupyter-widgets/controls",
            "_view_module_version": "1.5.0",
            "_view_name": "HTMLView",
            "description": "",
            "description_tooltip": null,
            "layout": "IPY_MODEL_fab2d6d37f7d43b2b72b7ec465efb70e",
            "placeholder": "​",
            "style": "IPY_MODEL_130e0ab82e08415d80badf247fc19b47",
            "value": " 49.0/49.0 [00:00&lt;00:00, 2.90kB/s]"
          }
        },
        "9f9e4f268b414687885f5bd59d8f6e39": {
          "model_module": "@jupyter-widgets/base",
          "model_name": "LayoutModel",
          "model_module_version": "1.2.0",
          "state": {
            "_model_module": "@jupyter-widgets/base",
            "_model_module_version": "1.2.0",
            "_model_name": "LayoutModel",
            "_view_count": null,
            "_view_module": "@jupyter-widgets/base",
            "_view_module_version": "1.2.0",
            "_view_name": "LayoutView",
            "align_content": null,
            "align_items": null,
            "align_self": null,
            "border": null,
            "bottom": null,
            "display": null,
            "flex": null,
            "flex_flow": null,
            "grid_area": null,
            "grid_auto_columns": null,
            "grid_auto_flow": null,
            "grid_auto_rows": null,
            "grid_column": null,
            "grid_gap": null,
            "grid_row": null,
            "grid_template_areas": null,
            "grid_template_columns": null,
            "grid_template_rows": null,
            "height": null,
            "justify_content": null,
            "justify_items": null,
            "left": null,
            "margin": null,
            "max_height": null,
            "max_width": null,
            "min_height": null,
            "min_width": null,
            "object_fit": null,
            "object_position": null,
            "order": null,
            "overflow": null,
            "overflow_x": null,
            "overflow_y": null,
            "padding": null,
            "right": null,
            "top": null,
            "visibility": null,
            "width": null
          }
        },
        "efe82e9f3a614ca5bf994f1266ebfd3c": {
          "model_module": "@jupyter-widgets/base",
          "model_name": "LayoutModel",
          "model_module_version": "1.2.0",
          "state": {
            "_model_module": "@jupyter-widgets/base",
            "_model_module_version": "1.2.0",
            "_model_name": "LayoutModel",
            "_view_count": null,
            "_view_module": "@jupyter-widgets/base",
            "_view_module_version": "1.2.0",
            "_view_name": "LayoutView",
            "align_content": null,
            "align_items": null,
            "align_self": null,
            "border": null,
            "bottom": null,
            "display": null,
            "flex": null,
            "flex_flow": null,
            "grid_area": null,
            "grid_auto_columns": null,
            "grid_auto_flow": null,
            "grid_auto_rows": null,
            "grid_column": null,
            "grid_gap": null,
            "grid_row": null,
            "grid_template_areas": null,
            "grid_template_columns": null,
            "grid_template_rows": null,
            "height": null,
            "justify_content": null,
            "justify_items": null,
            "left": null,
            "margin": null,
            "max_height": null,
            "max_width": null,
            "min_height": null,
            "min_width": null,
            "object_fit": null,
            "object_position": null,
            "order": null,
            "overflow": null,
            "overflow_x": null,
            "overflow_y": null,
            "padding": null,
            "right": null,
            "top": null,
            "visibility": null,
            "width": null
          }
        },
        "de3b66b55f9642fa9ec08fd908dd3c3f": {
          "model_module": "@jupyter-widgets/controls",
          "model_name": "DescriptionStyleModel",
          "model_module_version": "1.5.0",
          "state": {
            "_model_module": "@jupyter-widgets/controls",
            "_model_module_version": "1.5.0",
            "_model_name": "DescriptionStyleModel",
            "_view_count": null,
            "_view_module": "@jupyter-widgets/base",
            "_view_module_version": "1.2.0",
            "_view_name": "StyleView",
            "description_width": ""
          }
        },
        "17c8067ce08341ea9231d489db2fccc1": {
          "model_module": "@jupyter-widgets/base",
          "model_name": "LayoutModel",
          "model_module_version": "1.2.0",
          "state": {
            "_model_module": "@jupyter-widgets/base",
            "_model_module_version": "1.2.0",
            "_model_name": "LayoutModel",
            "_view_count": null,
            "_view_module": "@jupyter-widgets/base",
            "_view_module_version": "1.2.0",
            "_view_name": "LayoutView",
            "align_content": null,
            "align_items": null,
            "align_self": null,
            "border": null,
            "bottom": null,
            "display": null,
            "flex": null,
            "flex_flow": null,
            "grid_area": null,
            "grid_auto_columns": null,
            "grid_auto_flow": null,
            "grid_auto_rows": null,
            "grid_column": null,
            "grid_gap": null,
            "grid_row": null,
            "grid_template_areas": null,
            "grid_template_columns": null,
            "grid_template_rows": null,
            "height": null,
            "justify_content": null,
            "justify_items": null,
            "left": null,
            "margin": null,
            "max_height": null,
            "max_width": null,
            "min_height": null,
            "min_width": null,
            "object_fit": null,
            "object_position": null,
            "order": null,
            "overflow": null,
            "overflow_x": null,
            "overflow_y": null,
            "padding": null,
            "right": null,
            "top": null,
            "visibility": null,
            "width": null
          }
        },
        "f039217403aa48b9993bc15aa8135bfb": {
          "model_module": "@jupyter-widgets/controls",
          "model_name": "ProgressStyleModel",
          "model_module_version": "1.5.0",
          "state": {
            "_model_module": "@jupyter-widgets/controls",
            "_model_module_version": "1.5.0",
            "_model_name": "ProgressStyleModel",
            "_view_count": null,
            "_view_module": "@jupyter-widgets/base",
            "_view_module_version": "1.2.0",
            "_view_name": "StyleView",
            "bar_color": null,
            "description_width": ""
          }
        },
        "fab2d6d37f7d43b2b72b7ec465efb70e": {
          "model_module": "@jupyter-widgets/base",
          "model_name": "LayoutModel",
          "model_module_version": "1.2.0",
          "state": {
            "_model_module": "@jupyter-widgets/base",
            "_model_module_version": "1.2.0",
            "_model_name": "LayoutModel",
            "_view_count": null,
            "_view_module": "@jupyter-widgets/base",
            "_view_module_version": "1.2.0",
            "_view_name": "LayoutView",
            "align_content": null,
            "align_items": null,
            "align_self": null,
            "border": null,
            "bottom": null,
            "display": null,
            "flex": null,
            "flex_flow": null,
            "grid_area": null,
            "grid_auto_columns": null,
            "grid_auto_flow": null,
            "grid_auto_rows": null,
            "grid_column": null,
            "grid_gap": null,
            "grid_row": null,
            "grid_template_areas": null,
            "grid_template_columns": null,
            "grid_template_rows": null,
            "height": null,
            "justify_content": null,
            "justify_items": null,
            "left": null,
            "margin": null,
            "max_height": null,
            "max_width": null,
            "min_height": null,
            "min_width": null,
            "object_fit": null,
            "object_position": null,
            "order": null,
            "overflow": null,
            "overflow_x": null,
            "overflow_y": null,
            "padding": null,
            "right": null,
            "top": null,
            "visibility": null,
            "width": null
          }
        },
        "130e0ab82e08415d80badf247fc19b47": {
          "model_module": "@jupyter-widgets/controls",
          "model_name": "DescriptionStyleModel",
          "model_module_version": "1.5.0",
          "state": {
            "_model_module": "@jupyter-widgets/controls",
            "_model_module_version": "1.5.0",
            "_model_name": "DescriptionStyleModel",
            "_view_count": null,
            "_view_module": "@jupyter-widgets/base",
            "_view_module_version": "1.2.0",
            "_view_name": "StyleView",
            "description_width": ""
          }
        },
        "1069935ed88e4dffa954f09378303273": {
          "model_module": "@jupyter-widgets/controls",
          "model_name": "HBoxModel",
          "model_module_version": "1.5.0",
          "state": {
            "_dom_classes": [],
            "_model_module": "@jupyter-widgets/controls",
            "_model_module_version": "1.5.0",
            "_model_name": "HBoxModel",
            "_view_count": null,
            "_view_module": "@jupyter-widgets/controls",
            "_view_module_version": "1.5.0",
            "_view_name": "HBoxView",
            "box_style": "",
            "children": [
              "IPY_MODEL_6b403fb8f69b4f0c8d54b04b9ff353f8",
              "IPY_MODEL_10d75fe7c965436391836038d06e14ea",
              "IPY_MODEL_a9acfa4e48a54724b6d878993b1d7e92"
            ],
            "layout": "IPY_MODEL_8a5433e7ebdd4d07b399082dc0c6d1dc"
          }
        },
        "6b403fb8f69b4f0c8d54b04b9ff353f8": {
          "model_module": "@jupyter-widgets/controls",
          "model_name": "HTMLModel",
          "model_module_version": "1.5.0",
          "state": {
            "_dom_classes": [],
            "_model_module": "@jupyter-widgets/controls",
            "_model_module_version": "1.5.0",
            "_model_name": "HTMLModel",
            "_view_count": null,
            "_view_module": "@jupyter-widgets/controls",
            "_view_module_version": "1.5.0",
            "_view_name": "HTMLView",
            "description": "",
            "description_tooltip": null,
            "layout": "IPY_MODEL_70edabeebcaa4d88ac2793ef8c71dcc0",
            "placeholder": "​",
            "style": "IPY_MODEL_9dc8f086b8774c28a158b3e544a5949e",
            "value": "vocab.txt: 100%"
          }
        },
        "10d75fe7c965436391836038d06e14ea": {
          "model_module": "@jupyter-widgets/controls",
          "model_name": "FloatProgressModel",
          "model_module_version": "1.5.0",
          "state": {
            "_dom_classes": [],
            "_model_module": "@jupyter-widgets/controls",
            "_model_module_version": "1.5.0",
            "_model_name": "FloatProgressModel",
            "_view_count": null,
            "_view_module": "@jupyter-widgets/controls",
            "_view_module_version": "1.5.0",
            "_view_name": "ProgressView",
            "bar_style": "success",
            "description": "",
            "description_tooltip": null,
            "layout": "IPY_MODEL_8f26b3d4cd4749d885ce850bd6158b50",
            "max": 995526,
            "min": 0,
            "orientation": "horizontal",
            "style": "IPY_MODEL_d1ed1a90e0d14850a6a42a013593f2c4",
            "value": 995526
          }
        },
        "a9acfa4e48a54724b6d878993b1d7e92": {
          "model_module": "@jupyter-widgets/controls",
          "model_name": "HTMLModel",
          "model_module_version": "1.5.0",
          "state": {
            "_dom_classes": [],
            "_model_module": "@jupyter-widgets/controls",
            "_model_module_version": "1.5.0",
            "_model_name": "HTMLModel",
            "_view_count": null,
            "_view_module": "@jupyter-widgets/controls",
            "_view_module_version": "1.5.0",
            "_view_name": "HTMLView",
            "description": "",
            "description_tooltip": null,
            "layout": "IPY_MODEL_55049f4c95134b6a8f159460a88e92d2",
            "placeholder": "​",
            "style": "IPY_MODEL_d6115e528a2c4da19d18b78b713fbeea",
            "value": " 996k/996k [00:00&lt;00:00, 3.81MB/s]"
          }
        },
        "8a5433e7ebdd4d07b399082dc0c6d1dc": {
          "model_module": "@jupyter-widgets/base",
          "model_name": "LayoutModel",
          "model_module_version": "1.2.0",
          "state": {
            "_model_module": "@jupyter-widgets/base",
            "_model_module_version": "1.2.0",
            "_model_name": "LayoutModel",
            "_view_count": null,
            "_view_module": "@jupyter-widgets/base",
            "_view_module_version": "1.2.0",
            "_view_name": "LayoutView",
            "align_content": null,
            "align_items": null,
            "align_self": null,
            "border": null,
            "bottom": null,
            "display": null,
            "flex": null,
            "flex_flow": null,
            "grid_area": null,
            "grid_auto_columns": null,
            "grid_auto_flow": null,
            "grid_auto_rows": null,
            "grid_column": null,
            "grid_gap": null,
            "grid_row": null,
            "grid_template_areas": null,
            "grid_template_columns": null,
            "grid_template_rows": null,
            "height": null,
            "justify_content": null,
            "justify_items": null,
            "left": null,
            "margin": null,
            "max_height": null,
            "max_width": null,
            "min_height": null,
            "min_width": null,
            "object_fit": null,
            "object_position": null,
            "order": null,
            "overflow": null,
            "overflow_x": null,
            "overflow_y": null,
            "padding": null,
            "right": null,
            "top": null,
            "visibility": null,
            "width": null
          }
        },
        "70edabeebcaa4d88ac2793ef8c71dcc0": {
          "model_module": "@jupyter-widgets/base",
          "model_name": "LayoutModel",
          "model_module_version": "1.2.0",
          "state": {
            "_model_module": "@jupyter-widgets/base",
            "_model_module_version": "1.2.0",
            "_model_name": "LayoutModel",
            "_view_count": null,
            "_view_module": "@jupyter-widgets/base",
            "_view_module_version": "1.2.0",
            "_view_name": "LayoutView",
            "align_content": null,
            "align_items": null,
            "align_self": null,
            "border": null,
            "bottom": null,
            "display": null,
            "flex": null,
            "flex_flow": null,
            "grid_area": null,
            "grid_auto_columns": null,
            "grid_auto_flow": null,
            "grid_auto_rows": null,
            "grid_column": null,
            "grid_gap": null,
            "grid_row": null,
            "grid_template_areas": null,
            "grid_template_columns": null,
            "grid_template_rows": null,
            "height": null,
            "justify_content": null,
            "justify_items": null,
            "left": null,
            "margin": null,
            "max_height": null,
            "max_width": null,
            "min_height": null,
            "min_width": null,
            "object_fit": null,
            "object_position": null,
            "order": null,
            "overflow": null,
            "overflow_x": null,
            "overflow_y": null,
            "padding": null,
            "right": null,
            "top": null,
            "visibility": null,
            "width": null
          }
        },
        "9dc8f086b8774c28a158b3e544a5949e": {
          "model_module": "@jupyter-widgets/controls",
          "model_name": "DescriptionStyleModel",
          "model_module_version": "1.5.0",
          "state": {
            "_model_module": "@jupyter-widgets/controls",
            "_model_module_version": "1.5.0",
            "_model_name": "DescriptionStyleModel",
            "_view_count": null,
            "_view_module": "@jupyter-widgets/base",
            "_view_module_version": "1.2.0",
            "_view_name": "StyleView",
            "description_width": ""
          }
        },
        "8f26b3d4cd4749d885ce850bd6158b50": {
          "model_module": "@jupyter-widgets/base",
          "model_name": "LayoutModel",
          "model_module_version": "1.2.0",
          "state": {
            "_model_module": "@jupyter-widgets/base",
            "_model_module_version": "1.2.0",
            "_model_name": "LayoutModel",
            "_view_count": null,
            "_view_module": "@jupyter-widgets/base",
            "_view_module_version": "1.2.0",
            "_view_name": "LayoutView",
            "align_content": null,
            "align_items": null,
            "align_self": null,
            "border": null,
            "bottom": null,
            "display": null,
            "flex": null,
            "flex_flow": null,
            "grid_area": null,
            "grid_auto_columns": null,
            "grid_auto_flow": null,
            "grid_auto_rows": null,
            "grid_column": null,
            "grid_gap": null,
            "grid_row": null,
            "grid_template_areas": null,
            "grid_template_columns": null,
            "grid_template_rows": null,
            "height": null,
            "justify_content": null,
            "justify_items": null,
            "left": null,
            "margin": null,
            "max_height": null,
            "max_width": null,
            "min_height": null,
            "min_width": null,
            "object_fit": null,
            "object_position": null,
            "order": null,
            "overflow": null,
            "overflow_x": null,
            "overflow_y": null,
            "padding": null,
            "right": null,
            "top": null,
            "visibility": null,
            "width": null
          }
        },
        "d1ed1a90e0d14850a6a42a013593f2c4": {
          "model_module": "@jupyter-widgets/controls",
          "model_name": "ProgressStyleModel",
          "model_module_version": "1.5.0",
          "state": {
            "_model_module": "@jupyter-widgets/controls",
            "_model_module_version": "1.5.0",
            "_model_name": "ProgressStyleModel",
            "_view_count": null,
            "_view_module": "@jupyter-widgets/base",
            "_view_module_version": "1.2.0",
            "_view_name": "StyleView",
            "bar_color": null,
            "description_width": ""
          }
        },
        "55049f4c95134b6a8f159460a88e92d2": {
          "model_module": "@jupyter-widgets/base",
          "model_name": "LayoutModel",
          "model_module_version": "1.2.0",
          "state": {
            "_model_module": "@jupyter-widgets/base",
            "_model_module_version": "1.2.0",
            "_model_name": "LayoutModel",
            "_view_count": null,
            "_view_module": "@jupyter-widgets/base",
            "_view_module_version": "1.2.0",
            "_view_name": "LayoutView",
            "align_content": null,
            "align_items": null,
            "align_self": null,
            "border": null,
            "bottom": null,
            "display": null,
            "flex": null,
            "flex_flow": null,
            "grid_area": null,
            "grid_auto_columns": null,
            "grid_auto_flow": null,
            "grid_auto_rows": null,
            "grid_column": null,
            "grid_gap": null,
            "grid_row": null,
            "grid_template_areas": null,
            "grid_template_columns": null,
            "grid_template_rows": null,
            "height": null,
            "justify_content": null,
            "justify_items": null,
            "left": null,
            "margin": null,
            "max_height": null,
            "max_width": null,
            "min_height": null,
            "min_width": null,
            "object_fit": null,
            "object_position": null,
            "order": null,
            "overflow": null,
            "overflow_x": null,
            "overflow_y": null,
            "padding": null,
            "right": null,
            "top": null,
            "visibility": null,
            "width": null
          }
        },
        "d6115e528a2c4da19d18b78b713fbeea": {
          "model_module": "@jupyter-widgets/controls",
          "model_name": "DescriptionStyleModel",
          "model_module_version": "1.5.0",
          "state": {
            "_model_module": "@jupyter-widgets/controls",
            "_model_module_version": "1.5.0",
            "_model_name": "DescriptionStyleModel",
            "_view_count": null,
            "_view_module": "@jupyter-widgets/base",
            "_view_module_version": "1.2.0",
            "_view_name": "StyleView",
            "description_width": ""
          }
        },
        "1677cb603164408d84a7c9b3bba07c3a": {
          "model_module": "@jupyter-widgets/controls",
          "model_name": "HBoxModel",
          "model_module_version": "1.5.0",
          "state": {
            "_dom_classes": [],
            "_model_module": "@jupyter-widgets/controls",
            "_model_module_version": "1.5.0",
            "_model_name": "HBoxModel",
            "_view_count": null,
            "_view_module": "@jupyter-widgets/controls",
            "_view_module_version": "1.5.0",
            "_view_name": "HBoxView",
            "box_style": "",
            "children": [
              "IPY_MODEL_7f7b54a9c6fa4c24a36b93ff938fb2ea",
              "IPY_MODEL_9262462085994c5f847cc28db151f17f",
              "IPY_MODEL_63c3a6be37d44264933a1f7353dad86f"
            ],
            "layout": "IPY_MODEL_2add7c5997984cbca2d5cee255b67a40"
          }
        },
        "7f7b54a9c6fa4c24a36b93ff938fb2ea": {
          "model_module": "@jupyter-widgets/controls",
          "model_name": "HTMLModel",
          "model_module_version": "1.5.0",
          "state": {
            "_dom_classes": [],
            "_model_module": "@jupyter-widgets/controls",
            "_model_module_version": "1.5.0",
            "_model_name": "HTMLModel",
            "_view_count": null,
            "_view_module": "@jupyter-widgets/controls",
            "_view_module_version": "1.5.0",
            "_view_name": "HTMLView",
            "description": "",
            "description_tooltip": null,
            "layout": "IPY_MODEL_15dd264998da4ea98bc38a424854a1c5",
            "placeholder": "​",
            "style": "IPY_MODEL_1a7016b692464a09b375c804b7bbdb74",
            "value": "tokenizer.json: 100%"
          }
        },
        "9262462085994c5f847cc28db151f17f": {
          "model_module": "@jupyter-widgets/controls",
          "model_name": "FloatProgressModel",
          "model_module_version": "1.5.0",
          "state": {
            "_dom_classes": [],
            "_model_module": "@jupyter-widgets/controls",
            "_model_module_version": "1.5.0",
            "_model_name": "FloatProgressModel",
            "_view_count": null,
            "_view_module": "@jupyter-widgets/controls",
            "_view_module_version": "1.5.0",
            "_view_name": "ProgressView",
            "bar_style": "success",
            "description": "",
            "description_tooltip": null,
            "layout": "IPY_MODEL_42ef82189a0d49069201ede76decef47",
            "max": 1961828,
            "min": 0,
            "orientation": "horizontal",
            "style": "IPY_MODEL_e5be40c4f18e40ddb5ce4e4bad0da2bb",
            "value": 1961828
          }
        },
        "63c3a6be37d44264933a1f7353dad86f": {
          "model_module": "@jupyter-widgets/controls",
          "model_name": "HTMLModel",
          "model_module_version": "1.5.0",
          "state": {
            "_dom_classes": [],
            "_model_module": "@jupyter-widgets/controls",
            "_model_module_version": "1.5.0",
            "_model_name": "HTMLModel",
            "_view_count": null,
            "_view_module": "@jupyter-widgets/controls",
            "_view_module_version": "1.5.0",
            "_view_name": "HTMLView",
            "description": "",
            "description_tooltip": null,
            "layout": "IPY_MODEL_53019c1a26c54147adacff253d03ab40",
            "placeholder": "​",
            "style": "IPY_MODEL_515ef77b9daf4d62bc88c6f30aa4b654",
            "value": " 1.96M/1.96M [00:00&lt;00:00, 5.97MB/s]"
          }
        },
        "2add7c5997984cbca2d5cee255b67a40": {
          "model_module": "@jupyter-widgets/base",
          "model_name": "LayoutModel",
          "model_module_version": "1.2.0",
          "state": {
            "_model_module": "@jupyter-widgets/base",
            "_model_module_version": "1.2.0",
            "_model_name": "LayoutModel",
            "_view_count": null,
            "_view_module": "@jupyter-widgets/base",
            "_view_module_version": "1.2.0",
            "_view_name": "LayoutView",
            "align_content": null,
            "align_items": null,
            "align_self": null,
            "border": null,
            "bottom": null,
            "display": null,
            "flex": null,
            "flex_flow": null,
            "grid_area": null,
            "grid_auto_columns": null,
            "grid_auto_flow": null,
            "grid_auto_rows": null,
            "grid_column": null,
            "grid_gap": null,
            "grid_row": null,
            "grid_template_areas": null,
            "grid_template_columns": null,
            "grid_template_rows": null,
            "height": null,
            "justify_content": null,
            "justify_items": null,
            "left": null,
            "margin": null,
            "max_height": null,
            "max_width": null,
            "min_height": null,
            "min_width": null,
            "object_fit": null,
            "object_position": null,
            "order": null,
            "overflow": null,
            "overflow_x": null,
            "overflow_y": null,
            "padding": null,
            "right": null,
            "top": null,
            "visibility": null,
            "width": null
          }
        },
        "15dd264998da4ea98bc38a424854a1c5": {
          "model_module": "@jupyter-widgets/base",
          "model_name": "LayoutModel",
          "model_module_version": "1.2.0",
          "state": {
            "_model_module": "@jupyter-widgets/base",
            "_model_module_version": "1.2.0",
            "_model_name": "LayoutModel",
            "_view_count": null,
            "_view_module": "@jupyter-widgets/base",
            "_view_module_version": "1.2.0",
            "_view_name": "LayoutView",
            "align_content": null,
            "align_items": null,
            "align_self": null,
            "border": null,
            "bottom": null,
            "display": null,
            "flex": null,
            "flex_flow": null,
            "grid_area": null,
            "grid_auto_columns": null,
            "grid_auto_flow": null,
            "grid_auto_rows": null,
            "grid_column": null,
            "grid_gap": null,
            "grid_row": null,
            "grid_template_areas": null,
            "grid_template_columns": null,
            "grid_template_rows": null,
            "height": null,
            "justify_content": null,
            "justify_items": null,
            "left": null,
            "margin": null,
            "max_height": null,
            "max_width": null,
            "min_height": null,
            "min_width": null,
            "object_fit": null,
            "object_position": null,
            "order": null,
            "overflow": null,
            "overflow_x": null,
            "overflow_y": null,
            "padding": null,
            "right": null,
            "top": null,
            "visibility": null,
            "width": null
          }
        },
        "1a7016b692464a09b375c804b7bbdb74": {
          "model_module": "@jupyter-widgets/controls",
          "model_name": "DescriptionStyleModel",
          "model_module_version": "1.5.0",
          "state": {
            "_model_module": "@jupyter-widgets/controls",
            "_model_module_version": "1.5.0",
            "_model_name": "DescriptionStyleModel",
            "_view_count": null,
            "_view_module": "@jupyter-widgets/base",
            "_view_module_version": "1.2.0",
            "_view_name": "StyleView",
            "description_width": ""
          }
        },
        "42ef82189a0d49069201ede76decef47": {
          "model_module": "@jupyter-widgets/base",
          "model_name": "LayoutModel",
          "model_module_version": "1.2.0",
          "state": {
            "_model_module": "@jupyter-widgets/base",
            "_model_module_version": "1.2.0",
            "_model_name": "LayoutModel",
            "_view_count": null,
            "_view_module": "@jupyter-widgets/base",
            "_view_module_version": "1.2.0",
            "_view_name": "LayoutView",
            "align_content": null,
            "align_items": null,
            "align_self": null,
            "border": null,
            "bottom": null,
            "display": null,
            "flex": null,
            "flex_flow": null,
            "grid_area": null,
            "grid_auto_columns": null,
            "grid_auto_flow": null,
            "grid_auto_rows": null,
            "grid_column": null,
            "grid_gap": null,
            "grid_row": null,
            "grid_template_areas": null,
            "grid_template_columns": null,
            "grid_template_rows": null,
            "height": null,
            "justify_content": null,
            "justify_items": null,
            "left": null,
            "margin": null,
            "max_height": null,
            "max_width": null,
            "min_height": null,
            "min_width": null,
            "object_fit": null,
            "object_position": null,
            "order": null,
            "overflow": null,
            "overflow_x": null,
            "overflow_y": null,
            "padding": null,
            "right": null,
            "top": null,
            "visibility": null,
            "width": null
          }
        },
        "e5be40c4f18e40ddb5ce4e4bad0da2bb": {
          "model_module": "@jupyter-widgets/controls",
          "model_name": "ProgressStyleModel",
          "model_module_version": "1.5.0",
          "state": {
            "_model_module": "@jupyter-widgets/controls",
            "_model_module_version": "1.5.0",
            "_model_name": "ProgressStyleModel",
            "_view_count": null,
            "_view_module": "@jupyter-widgets/base",
            "_view_module_version": "1.2.0",
            "_view_name": "StyleView",
            "bar_color": null,
            "description_width": ""
          }
        },
        "53019c1a26c54147adacff253d03ab40": {
          "model_module": "@jupyter-widgets/base",
          "model_name": "LayoutModel",
          "model_module_version": "1.2.0",
          "state": {
            "_model_module": "@jupyter-widgets/base",
            "_model_module_version": "1.2.0",
            "_model_name": "LayoutModel",
            "_view_count": null,
            "_view_module": "@jupyter-widgets/base",
            "_view_module_version": "1.2.0",
            "_view_name": "LayoutView",
            "align_content": null,
            "align_items": null,
            "align_self": null,
            "border": null,
            "bottom": null,
            "display": null,
            "flex": null,
            "flex_flow": null,
            "grid_area": null,
            "grid_auto_columns": null,
            "grid_auto_flow": null,
            "grid_auto_rows": null,
            "grid_column": null,
            "grid_gap": null,
            "grid_row": null,
            "grid_template_areas": null,
            "grid_template_columns": null,
            "grid_template_rows": null,
            "height": null,
            "justify_content": null,
            "justify_items": null,
            "left": null,
            "margin": null,
            "max_height": null,
            "max_width": null,
            "min_height": null,
            "min_width": null,
            "object_fit": null,
            "object_position": null,
            "order": null,
            "overflow": null,
            "overflow_x": null,
            "overflow_y": null,
            "padding": null,
            "right": null,
            "top": null,
            "visibility": null,
            "width": null
          }
        },
        "515ef77b9daf4d62bc88c6f30aa4b654": {
          "model_module": "@jupyter-widgets/controls",
          "model_name": "DescriptionStyleModel",
          "model_module_version": "1.5.0",
          "state": {
            "_model_module": "@jupyter-widgets/controls",
            "_model_module_version": "1.5.0",
            "_model_name": "DescriptionStyleModel",
            "_view_count": null,
            "_view_module": "@jupyter-widgets/base",
            "_view_module_version": "1.2.0",
            "_view_name": "StyleView",
            "description_width": ""
          }
        },
        "29866e0c64964487b511a3ea5dc21d6d": {
          "model_module": "@jupyter-widgets/controls",
          "model_name": "HBoxModel",
          "model_module_version": "1.5.0",
          "state": {
            "_dom_classes": [],
            "_model_module": "@jupyter-widgets/controls",
            "_model_module_version": "1.5.0",
            "_model_name": "HBoxModel",
            "_view_count": null,
            "_view_module": "@jupyter-widgets/controls",
            "_view_module_version": "1.5.0",
            "_view_name": "HBoxView",
            "box_style": "",
            "children": [
              "IPY_MODEL_74fb36152c0b49ff8700226004ad97ad",
              "IPY_MODEL_588ea465419e4dddb30fd5b16ac2f052",
              "IPY_MODEL_dfaf7042f69541b98ed44aee5c337240"
            ],
            "layout": "IPY_MODEL_c9884b76e9764ee5b9fe95721c6e3bde"
          }
        },
        "74fb36152c0b49ff8700226004ad97ad": {
          "model_module": "@jupyter-widgets/controls",
          "model_name": "HTMLModel",
          "model_module_version": "1.5.0",
          "state": {
            "_dom_classes": [],
            "_model_module": "@jupyter-widgets/controls",
            "_model_module_version": "1.5.0",
            "_model_name": "HTMLModel",
            "_view_count": null,
            "_view_module": "@jupyter-widgets/controls",
            "_view_module_version": "1.5.0",
            "_view_name": "HTMLView",
            "description": "",
            "description_tooltip": null,
            "layout": "IPY_MODEL_3859b70fc0784605a4a5e864d1d7a7ee",
            "placeholder": "​",
            "style": "IPY_MODEL_654ad57dd40243cc8a0def30eee2bc44",
            "value": "config.json: 100%"
          }
        },
        "588ea465419e4dddb30fd5b16ac2f052": {
          "model_module": "@jupyter-widgets/controls",
          "model_name": "FloatProgressModel",
          "model_module_version": "1.5.0",
          "state": {
            "_dom_classes": [],
            "_model_module": "@jupyter-widgets/controls",
            "_model_module_version": "1.5.0",
            "_model_name": "FloatProgressModel",
            "_view_count": null,
            "_view_module": "@jupyter-widgets/controls",
            "_view_module_version": "1.5.0",
            "_view_name": "ProgressView",
            "bar_style": "success",
            "description": "",
            "description_tooltip": null,
            "layout": "IPY_MODEL_035d1194795e41a3998e939e3e877113",
            "max": 625,
            "min": 0,
            "orientation": "horizontal",
            "style": "IPY_MODEL_37f0c9bb2c6749639cd2f9ce03e0fcc0",
            "value": 625
          }
        },
        "dfaf7042f69541b98ed44aee5c337240": {
          "model_module": "@jupyter-widgets/controls",
          "model_name": "HTMLModel",
          "model_module_version": "1.5.0",
          "state": {
            "_dom_classes": [],
            "_model_module": "@jupyter-widgets/controls",
            "_model_module_version": "1.5.0",
            "_model_name": "HTMLModel",
            "_view_count": null,
            "_view_module": "@jupyter-widgets/controls",
            "_view_module_version": "1.5.0",
            "_view_name": "HTMLView",
            "description": "",
            "description_tooltip": null,
            "layout": "IPY_MODEL_117506bc37a440d1bdbb9db2c0624fc0",
            "placeholder": "​",
            "style": "IPY_MODEL_242c2277eda148bba4c261d44d356928",
            "value": " 625/625 [00:00&lt;00:00, 44.4kB/s]"
          }
        },
        "c9884b76e9764ee5b9fe95721c6e3bde": {
          "model_module": "@jupyter-widgets/base",
          "model_name": "LayoutModel",
          "model_module_version": "1.2.0",
          "state": {
            "_model_module": "@jupyter-widgets/base",
            "_model_module_version": "1.2.0",
            "_model_name": "LayoutModel",
            "_view_count": null,
            "_view_module": "@jupyter-widgets/base",
            "_view_module_version": "1.2.0",
            "_view_name": "LayoutView",
            "align_content": null,
            "align_items": null,
            "align_self": null,
            "border": null,
            "bottom": null,
            "display": null,
            "flex": null,
            "flex_flow": null,
            "grid_area": null,
            "grid_auto_columns": null,
            "grid_auto_flow": null,
            "grid_auto_rows": null,
            "grid_column": null,
            "grid_gap": null,
            "grid_row": null,
            "grid_template_areas": null,
            "grid_template_columns": null,
            "grid_template_rows": null,
            "height": null,
            "justify_content": null,
            "justify_items": null,
            "left": null,
            "margin": null,
            "max_height": null,
            "max_width": null,
            "min_height": null,
            "min_width": null,
            "object_fit": null,
            "object_position": null,
            "order": null,
            "overflow": null,
            "overflow_x": null,
            "overflow_y": null,
            "padding": null,
            "right": null,
            "top": null,
            "visibility": null,
            "width": null
          }
        },
        "3859b70fc0784605a4a5e864d1d7a7ee": {
          "model_module": "@jupyter-widgets/base",
          "model_name": "LayoutModel",
          "model_module_version": "1.2.0",
          "state": {
            "_model_module": "@jupyter-widgets/base",
            "_model_module_version": "1.2.0",
            "_model_name": "LayoutModel",
            "_view_count": null,
            "_view_module": "@jupyter-widgets/base",
            "_view_module_version": "1.2.0",
            "_view_name": "LayoutView",
            "align_content": null,
            "align_items": null,
            "align_self": null,
            "border": null,
            "bottom": null,
            "display": null,
            "flex": null,
            "flex_flow": null,
            "grid_area": null,
            "grid_auto_columns": null,
            "grid_auto_flow": null,
            "grid_auto_rows": null,
            "grid_column": null,
            "grid_gap": null,
            "grid_row": null,
            "grid_template_areas": null,
            "grid_template_columns": null,
            "grid_template_rows": null,
            "height": null,
            "justify_content": null,
            "justify_items": null,
            "left": null,
            "margin": null,
            "max_height": null,
            "max_width": null,
            "min_height": null,
            "min_width": null,
            "object_fit": null,
            "object_position": null,
            "order": null,
            "overflow": null,
            "overflow_x": null,
            "overflow_y": null,
            "padding": null,
            "right": null,
            "top": null,
            "visibility": null,
            "width": null
          }
        },
        "654ad57dd40243cc8a0def30eee2bc44": {
          "model_module": "@jupyter-widgets/controls",
          "model_name": "DescriptionStyleModel",
          "model_module_version": "1.5.0",
          "state": {
            "_model_module": "@jupyter-widgets/controls",
            "_model_module_version": "1.5.0",
            "_model_name": "DescriptionStyleModel",
            "_view_count": null,
            "_view_module": "@jupyter-widgets/base",
            "_view_module_version": "1.2.0",
            "_view_name": "StyleView",
            "description_width": ""
          }
        },
        "035d1194795e41a3998e939e3e877113": {
          "model_module": "@jupyter-widgets/base",
          "model_name": "LayoutModel",
          "model_module_version": "1.2.0",
          "state": {
            "_model_module": "@jupyter-widgets/base",
            "_model_module_version": "1.2.0",
            "_model_name": "LayoutModel",
            "_view_count": null,
            "_view_module": "@jupyter-widgets/base",
            "_view_module_version": "1.2.0",
            "_view_name": "LayoutView",
            "align_content": null,
            "align_items": null,
            "align_self": null,
            "border": null,
            "bottom": null,
            "display": null,
            "flex": null,
            "flex_flow": null,
            "grid_area": null,
            "grid_auto_columns": null,
            "grid_auto_flow": null,
            "grid_auto_rows": null,
            "grid_column": null,
            "grid_gap": null,
            "grid_row": null,
            "grid_template_areas": null,
            "grid_template_columns": null,
            "grid_template_rows": null,
            "height": null,
            "justify_content": null,
            "justify_items": null,
            "left": null,
            "margin": null,
            "max_height": null,
            "max_width": null,
            "min_height": null,
            "min_width": null,
            "object_fit": null,
            "object_position": null,
            "order": null,
            "overflow": null,
            "overflow_x": null,
            "overflow_y": null,
            "padding": null,
            "right": null,
            "top": null,
            "visibility": null,
            "width": null
          }
        },
        "37f0c9bb2c6749639cd2f9ce03e0fcc0": {
          "model_module": "@jupyter-widgets/controls",
          "model_name": "ProgressStyleModel",
          "model_module_version": "1.5.0",
          "state": {
            "_model_module": "@jupyter-widgets/controls",
            "_model_module_version": "1.5.0",
            "_model_name": "ProgressStyleModel",
            "_view_count": null,
            "_view_module": "@jupyter-widgets/base",
            "_view_module_version": "1.2.0",
            "_view_name": "StyleView",
            "bar_color": null,
            "description_width": ""
          }
        },
        "117506bc37a440d1bdbb9db2c0624fc0": {
          "model_module": "@jupyter-widgets/base",
          "model_name": "LayoutModel",
          "model_module_version": "1.2.0",
          "state": {
            "_model_module": "@jupyter-widgets/base",
            "_model_module_version": "1.2.0",
            "_model_name": "LayoutModel",
            "_view_count": null,
            "_view_module": "@jupyter-widgets/base",
            "_view_module_version": "1.2.0",
            "_view_name": "LayoutView",
            "align_content": null,
            "align_items": null,
            "align_self": null,
            "border": null,
            "bottom": null,
            "display": null,
            "flex": null,
            "flex_flow": null,
            "grid_area": null,
            "grid_auto_columns": null,
            "grid_auto_flow": null,
            "grid_auto_rows": null,
            "grid_column": null,
            "grid_gap": null,
            "grid_row": null,
            "grid_template_areas": null,
            "grid_template_columns": null,
            "grid_template_rows": null,
            "height": null,
            "justify_content": null,
            "justify_items": null,
            "left": null,
            "margin": null,
            "max_height": null,
            "max_width": null,
            "min_height": null,
            "min_width": null,
            "object_fit": null,
            "object_position": null,
            "order": null,
            "overflow": null,
            "overflow_x": null,
            "overflow_y": null,
            "padding": null,
            "right": null,
            "top": null,
            "visibility": null,
            "width": null
          }
        },
        "242c2277eda148bba4c261d44d356928": {
          "model_module": "@jupyter-widgets/controls",
          "model_name": "DescriptionStyleModel",
          "model_module_version": "1.5.0",
          "state": {
            "_model_module": "@jupyter-widgets/controls",
            "_model_module_version": "1.5.0",
            "_model_name": "DescriptionStyleModel",
            "_view_count": null,
            "_view_module": "@jupyter-widgets/base",
            "_view_module_version": "1.2.0",
            "_view_name": "StyleView",
            "description_width": ""
          }
        },
        "b068d3a8b77b40d08bff21aae3564e47": {
          "model_module": "@jupyter-widgets/controls",
          "model_name": "HBoxModel",
          "model_module_version": "1.5.0",
          "state": {
            "_dom_classes": [],
            "_model_module": "@jupyter-widgets/controls",
            "_model_module_version": "1.5.0",
            "_model_name": "HBoxModel",
            "_view_count": null,
            "_view_module": "@jupyter-widgets/controls",
            "_view_module_version": "1.5.0",
            "_view_name": "HBoxView",
            "box_style": "",
            "children": [
              "IPY_MODEL_235ba94297a046219bc5c7ae7bfcd3c4",
              "IPY_MODEL_cb12830b3e894c4792cc3711927ea304",
              "IPY_MODEL_d72b260de9c7441ebd429fb69b632884"
            ],
            "layout": "IPY_MODEL_d1bf42c7c5294cde8b73f2b6a6064069"
          }
        },
        "235ba94297a046219bc5c7ae7bfcd3c4": {
          "model_module": "@jupyter-widgets/controls",
          "model_name": "HTMLModel",
          "model_module_version": "1.5.0",
          "state": {
            "_dom_classes": [],
            "_model_module": "@jupyter-widgets/controls",
            "_model_module_version": "1.5.0",
            "_model_name": "HTMLModel",
            "_view_count": null,
            "_view_module": "@jupyter-widgets/controls",
            "_view_module_version": "1.5.0",
            "_view_name": "HTMLView",
            "description": "",
            "description_tooltip": null,
            "layout": "IPY_MODEL_cc91b96cbe8e48b1b3bc105973a33280",
            "placeholder": "​",
            "style": "IPY_MODEL_477a66a02cf64f579dd44bd7b5cd9b22",
            "value": "model.safetensors: 100%"
          }
        },
        "cb12830b3e894c4792cc3711927ea304": {
          "model_module": "@jupyter-widgets/controls",
          "model_name": "FloatProgressModel",
          "model_module_version": "1.5.0",
          "state": {
            "_dom_classes": [],
            "_model_module": "@jupyter-widgets/controls",
            "_model_module_version": "1.5.0",
            "_model_name": "FloatProgressModel",
            "_view_count": null,
            "_view_module": "@jupyter-widgets/controls",
            "_view_module_version": "1.5.0",
            "_view_name": "ProgressView",
            "bar_style": "success",
            "description": "",
            "description_tooltip": null,
            "layout": "IPY_MODEL_a2af075f9d8249ce81ebf858d5dc0600",
            "max": 714290682,
            "min": 0,
            "orientation": "horizontal",
            "style": "IPY_MODEL_dc32a46302f249fca4dc72d086368255",
            "value": 714290682
          }
        },
        "d72b260de9c7441ebd429fb69b632884": {
          "model_module": "@jupyter-widgets/controls",
          "model_name": "HTMLModel",
          "model_module_version": "1.5.0",
          "state": {
            "_dom_classes": [],
            "_model_module": "@jupyter-widgets/controls",
            "_model_module_version": "1.5.0",
            "_model_name": "HTMLModel",
            "_view_count": null,
            "_view_module": "@jupyter-widgets/controls",
            "_view_module_version": "1.5.0",
            "_view_name": "HTMLView",
            "description": "",
            "description_tooltip": null,
            "layout": "IPY_MODEL_0bd10cfc91ee41c0975126be9b937595",
            "placeholder": "​",
            "style": "IPY_MODEL_4c738e6bca334bcb82424b553d2fb428",
            "value": " 714M/714M [00:11&lt;00:00, 52.0MB/s]"
          }
        },
        "d1bf42c7c5294cde8b73f2b6a6064069": {
          "model_module": "@jupyter-widgets/base",
          "model_name": "LayoutModel",
          "model_module_version": "1.2.0",
          "state": {
            "_model_module": "@jupyter-widgets/base",
            "_model_module_version": "1.2.0",
            "_model_name": "LayoutModel",
            "_view_count": null,
            "_view_module": "@jupyter-widgets/base",
            "_view_module_version": "1.2.0",
            "_view_name": "LayoutView",
            "align_content": null,
            "align_items": null,
            "align_self": null,
            "border": null,
            "bottom": null,
            "display": null,
            "flex": null,
            "flex_flow": null,
            "grid_area": null,
            "grid_auto_columns": null,
            "grid_auto_flow": null,
            "grid_auto_rows": null,
            "grid_column": null,
            "grid_gap": null,
            "grid_row": null,
            "grid_template_areas": null,
            "grid_template_columns": null,
            "grid_template_rows": null,
            "height": null,
            "justify_content": null,
            "justify_items": null,
            "left": null,
            "margin": null,
            "max_height": null,
            "max_width": null,
            "min_height": null,
            "min_width": null,
            "object_fit": null,
            "object_position": null,
            "order": null,
            "overflow": null,
            "overflow_x": null,
            "overflow_y": null,
            "padding": null,
            "right": null,
            "top": null,
            "visibility": null,
            "width": null
          }
        },
        "cc91b96cbe8e48b1b3bc105973a33280": {
          "model_module": "@jupyter-widgets/base",
          "model_name": "LayoutModel",
          "model_module_version": "1.2.0",
          "state": {
            "_model_module": "@jupyter-widgets/base",
            "_model_module_version": "1.2.0",
            "_model_name": "LayoutModel",
            "_view_count": null,
            "_view_module": "@jupyter-widgets/base",
            "_view_module_version": "1.2.0",
            "_view_name": "LayoutView",
            "align_content": null,
            "align_items": null,
            "align_self": null,
            "border": null,
            "bottom": null,
            "display": null,
            "flex": null,
            "flex_flow": null,
            "grid_area": null,
            "grid_auto_columns": null,
            "grid_auto_flow": null,
            "grid_auto_rows": null,
            "grid_column": null,
            "grid_gap": null,
            "grid_row": null,
            "grid_template_areas": null,
            "grid_template_columns": null,
            "grid_template_rows": null,
            "height": null,
            "justify_content": null,
            "justify_items": null,
            "left": null,
            "margin": null,
            "max_height": null,
            "max_width": null,
            "min_height": null,
            "min_width": null,
            "object_fit": null,
            "object_position": null,
            "order": null,
            "overflow": null,
            "overflow_x": null,
            "overflow_y": null,
            "padding": null,
            "right": null,
            "top": null,
            "visibility": null,
            "width": null
          }
        },
        "477a66a02cf64f579dd44bd7b5cd9b22": {
          "model_module": "@jupyter-widgets/controls",
          "model_name": "DescriptionStyleModel",
          "model_module_version": "1.5.0",
          "state": {
            "_model_module": "@jupyter-widgets/controls",
            "_model_module_version": "1.5.0",
            "_model_name": "DescriptionStyleModel",
            "_view_count": null,
            "_view_module": "@jupyter-widgets/base",
            "_view_module_version": "1.2.0",
            "_view_name": "StyleView",
            "description_width": ""
          }
        },
        "a2af075f9d8249ce81ebf858d5dc0600": {
          "model_module": "@jupyter-widgets/base",
          "model_name": "LayoutModel",
          "model_module_version": "1.2.0",
          "state": {
            "_model_module": "@jupyter-widgets/base",
            "_model_module_version": "1.2.0",
            "_model_name": "LayoutModel",
            "_view_count": null,
            "_view_module": "@jupyter-widgets/base",
            "_view_module_version": "1.2.0",
            "_view_name": "LayoutView",
            "align_content": null,
            "align_items": null,
            "align_self": null,
            "border": null,
            "bottom": null,
            "display": null,
            "flex": null,
            "flex_flow": null,
            "grid_area": null,
            "grid_auto_columns": null,
            "grid_auto_flow": null,
            "grid_auto_rows": null,
            "grid_column": null,
            "grid_gap": null,
            "grid_row": null,
            "grid_template_areas": null,
            "grid_template_columns": null,
            "grid_template_rows": null,
            "height": null,
            "justify_content": null,
            "justify_items": null,
            "left": null,
            "margin": null,
            "max_height": null,
            "max_width": null,
            "min_height": null,
            "min_width": null,
            "object_fit": null,
            "object_position": null,
            "order": null,
            "overflow": null,
            "overflow_x": null,
            "overflow_y": null,
            "padding": null,
            "right": null,
            "top": null,
            "visibility": null,
            "width": null
          }
        },
        "dc32a46302f249fca4dc72d086368255": {
          "model_module": "@jupyter-widgets/controls",
          "model_name": "ProgressStyleModel",
          "model_module_version": "1.5.0",
          "state": {
            "_model_module": "@jupyter-widgets/controls",
            "_model_module_version": "1.5.0",
            "_model_name": "ProgressStyleModel",
            "_view_count": null,
            "_view_module": "@jupyter-widgets/base",
            "_view_module_version": "1.2.0",
            "_view_name": "StyleView",
            "bar_color": null,
            "description_width": ""
          }
        },
        "0bd10cfc91ee41c0975126be9b937595": {
          "model_module": "@jupyter-widgets/base",
          "model_name": "LayoutModel",
          "model_module_version": "1.2.0",
          "state": {
            "_model_module": "@jupyter-widgets/base",
            "_model_module_version": "1.2.0",
            "_model_name": "LayoutModel",
            "_view_count": null,
            "_view_module": "@jupyter-widgets/base",
            "_view_module_version": "1.2.0",
            "_view_name": "LayoutView",
            "align_content": null,
            "align_items": null,
            "align_self": null,
            "border": null,
            "bottom": null,
            "display": null,
            "flex": null,
            "flex_flow": null,
            "grid_area": null,
            "grid_auto_columns": null,
            "grid_auto_flow": null,
            "grid_auto_rows": null,
            "grid_column": null,
            "grid_gap": null,
            "grid_row": null,
            "grid_template_areas": null,
            "grid_template_columns": null,
            "grid_template_rows": null,
            "height": null,
            "justify_content": null,
            "justify_items": null,
            "left": null,
            "margin": null,
            "max_height": null,
            "max_width": null,
            "min_height": null,
            "min_width": null,
            "object_fit": null,
            "object_position": null,
            "order": null,
            "overflow": null,
            "overflow_x": null,
            "overflow_y": null,
            "padding": null,
            "right": null,
            "top": null,
            "visibility": null,
            "width": null
          }
        },
        "4c738e6bca334bcb82424b553d2fb428": {
          "model_module": "@jupyter-widgets/controls",
          "model_name": "DescriptionStyleModel",
          "model_module_version": "1.5.0",
          "state": {
            "_model_module": "@jupyter-widgets/controls",
            "_model_module_version": "1.5.0",
            "_model_name": "DescriptionStyleModel",
            "_view_count": null,
            "_view_module": "@jupyter-widgets/base",
            "_view_module_version": "1.2.0",
            "_view_name": "StyleView",
            "description_width": ""
          }
        }
      }
    }
  },
  "nbformat": 4,
  "nbformat_minor": 0
}