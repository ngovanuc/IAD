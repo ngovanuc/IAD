{
 "cells": [
  {
   "cell_type": "markdown",
   "metadata": {},
   "source": [
    "- mục tiêu\n",
    "- phương pháp\n",
    "- kết quả\n",
    "- nhận định\n",
    "- kết luận"
   ]
  },
  {
   "cell_type": "markdown",
   "metadata": {},
   "source": [
    "# diabete-shape\n",
    "\n",
    "title: tầm quan trọng của việc triển khai mô hình học máy để phát hiện đường máu trong bệnh tiểu đường"
   ]
  },
  {
   "cell_type": "markdown",
   "metadata": {},
   "source": [
    "## note:\n",
    "\n",
    "- SHAP, viết tắt của SHapley Additive exPlanations, là một phương pháp giải thích mô hình học máy (machine learning). cung cấp cho người dùng cách thức hiểu rõ hơn về cách thức hoạt động của mô hình học máy, đặc biệt là mô hình học máy phức tạp như mạng nơ-ron nhân tạo\n",
    "\n",
    "- chuẩn đoán bệnh tiểu đường loại 1\n",
    "\n",
    "- hàm kích hoạt MAE\n",
    "\n",
    "- RMSE (Root Mean Squared Error):đo lường độ lệch trung bình giữa giá trị dự đoán của mô hình và giá trị thực tế\n",
    "\n",
    "- hàm kích hoạt tanh\n",
    "\n",
    "- sử dụng long-short term memory - LSTM (p-LSTM and np-LSTM)\n",
    "với np-LSTM sẽ không có lớp preprocessing layer\n",
    "tham chiếu: https://www.researchgate.net/figure/Schematic-architecture-of-np-LSTM-a-and-p-LSTM-b-The-only-difference-between-the-two_fig4_374502402\n",
    "\n",
    "- LSTM là lựa chọn tốt vì giải quyết được vấn đề vanishing-exploding gradient\n",
    "\n",
    "- trong dự án này: chọn thuật toán dự đoán BG để nhúng vào DSS đơn giản cho liệu pháp T1D, với mục đích đề xuất các liều insulin điều chỉnh để bù đắp cho việc tiêm insulin dưới mức tối ưu vào thời gian bữa ăn được thực hiện\n",
    "\n",
    "- learnt the physiological relationship between inputs and glucose prediction\n",
    "\n",
    "- Lớp tiền xử lý thể hiện sự khác biệt chính giữa np-LSTM và p-LSTM. Đây là một lớp tùy chỉnh và không thể học được bao gồm hai bộ lọc cung cấp sự gần đúng về đường cong phân rã sinh lý của insulin và CHO\n",
    "\n",
    "- Đầu ra của lớp tiền xử lý là ước tính của cả insulin-on-board (IOB) và carbohydrate-on-board (COB), thu được dưới dạng tích chập giữa đầu vào (insulin hoặc CHO) với các bộ lọc ( hins và hmeal )\n",
    "\n"
   ]
  },
  {
   "cell_type": "markdown",
   "metadata": {},
   "source": [
    "# diabetes\n",
    "\n",
    "title: phát hiện bệnh tiểu đường sử dụng các kĩ thuật machine learning"
   ]
  },
  {
   "cell_type": "markdown",
   "metadata": {},
   "source": [
    "## note:\n",
    "\n",
    "- các kĩ thuật sử dụng: our study presents an innovative diabetes prediction model  employing  a  range  of  machine  learning  techniques,  including  Logistic  Regression,  SVM, Naïve Bayes, and Random Forest. \n",
    "- thêm nữa: Ngoài các kỹ thuật nền tảng này, chúng tôi còn khai thác sức mạnh của việc học tập tổng hợp để nâng cao hơn nữa độ chính xác và độ tin cậy của dự đoán. Cụ thể, chúng tôi khám phá các phương pháp tổng hợp như XGBoost, LightGBM, CatBoost, Adaboost và Bagging\n",
    "\n",
    "- SVM, Naïve Bayes, and Random Forest\n",
    "- ensemble learning\n",
    "- XGBoost, LightGBM, CatBoost, Adaboost,  and  Bagging\n",
    "- accuracy rate of 95.4% compared to XGBoost’s 94.3%\n",
    "- CatBoost’s higher AUC-ROC score  of  0.99  reinforces  its  potential  superiority  over  XGBoost,  which  achieved  an  AUC-ROC score of 0.98\n",
    "\n",
    "- tác giả nói về các kĩ thuật machine learning như: classification, regression, decison tree, knowledge discovery dictionary, Support  Vector  Machine  (SVM), KNN, RF, K-mean, Naive Bayes Classification...\n",
    "\n",
    "- đề cập đến  application of machine learning in healthcare: xác định bệnh và chuẩn đoán, ghi chỉ số sức khỏe thông minh, thử nghiệm và nghiên cứu lâm sàng\n",
    "dự đoán bùng phát, thu thập dữ liệu\n",
    "\n",
    "- senitivity = TP/(TP + FN)\n",
    "\n",
    "- 80/20 data training/testing\n",
    "\n",
    "- data kaggle\n",
    "\n",
    "- có so sánh với các công trình nghiên cứu trước đây trên cùng dataset (kết quả cũng tốt hơn)"
   ]
  },
  {
   "cell_type": "markdown",
   "metadata": {},
   "source": [
    "# Koushik\n",
    "\n",
    "title: Mô hình học máy để phân loại và xác định các thuộc tính quan trọng nhằm phát hiện bệnh tiểu đường loại 2"
   ]
  },
  {
   "cell_type": "markdown",
   "metadata": {},
   "source": [
    "## note:\n",
    "\n",
    "- Bệnh tiểu đường loại 2 (T2D)\n",
    "- Thách thức của công việc này là xác định các đặc điểm liên quan đến T2D có thể phân biệt các phân nhóm T2D cho mục đích tiên lượng và điều trị.\n",
    "- Generalized Boosted Regression modeling showed the highest accuracy (90.91%), followed by kappa statistics (78.77%) and specificity (85.19%). In addition, Sparse Distance Weighted Discrimination, Generalized Additive Model using LOESS and Boosted Generalized Additive Models also gave the maximum sensitivity (100%), highest AUROC (95.26%) and lowest logarith-mic loss (30.98%) respectively\n",
    "\n",
    "- feature selection approach: information  Gain  Attribute  Evaluation  (IGAE), Gini  Indexing  Attribute  Evaluation  (GIAE), Analysis of Variance (ANOVA), Chi-Square, Correlation  based  Feature  Selection  (CFS)\n",
    "\n",
    "information  Gain  Attribute  Evaluation  (IGAE): Đánh giá sự quan trọng của các đặc trưng bằng cách sử dụng độ đo \"thu hoạch thông tin\". Phương pháp này đo lường sự khác biệt trong thông tin mà một đặc trưng cụ thể đem lại cho việc phân loại dữ liệu\n",
    "\n",
    "Gini  Indexing  Attribute  Evaluation  (GIAE): Phương pháp này dùng chỉ số Gini để đo lường độ tinh khiết của sự phân chia dữ liệu dựa trên từng đặc trưng. Các đặc trưng có giá trị Gini Index cao có thể được chọn để tạo ra các quy tắc phân loại tốt.\n",
    "\n",
    "Analysis of Variance (ANOVA): Phương pháp này thường được sử dụng trong việc xác định sự khác biệt giữa các nhóm dữ liệu. Trong bối cảnh feature selection, ANOVA có thể được áp dụng để xem xét sự khác biệt của mỗi đặc trưng đối với các nhãn phân loại.\n",
    "\n",
    "Chi-Square: Chi-Square được sử dụng để xác định mức độ phụ thuộc giữa hai biến phân loại. Trong việc lựa chọn đặc trưng, phương pháp này có thể được sử dụng để xác định mức độ ảnh hưởng của từng đặc trưng đối với biến phân loại.\n",
    "\n",
    "Correlation  based  Feature  Selection  (CFS): Lựa chọn tính năng dựa trên tương quan (CFS) đo lường tầm quan trọng của các tính năng riêng lẻ bằng cách tính toán các giá trị tương quan giữa chúng. Trong phương pháp này, các đặc điểm có tính tương quan cao và không liên quan được loại bỏ [7] để xác định các đặc điểm quan trọng nhất từ ​​tập dữ liệu\n",
    "\n",
    "Fast  Correlation  based  Feature  Selection  (FC-FS): là một phương pháp đa biến có độ bất định đối xứng để xác định sự phụ thuộc của tính năng\n",
    "\n",
    "Gain  Ratio  Attribute  Evaluation  (GRAE): Đánh giá thuộc tính tỷ lệ khuếch đại (GRAE) là phần mở rộng của IG giúp giảm bớt độ lệch của nó bằng cách sử dụng thông tin nội tại\n",
    "\n",
    "- phương huóng tương lai: In  future,  the  performance  of  this  model  will  be  inspected  using  multiple  diabetes  datasets  and  explored  with  high  performing  machine  learning  mod-els for various crucial features which will enable us better classify this disorder. This work, therefore, has potentially significant  clinical  importance  and  the  study  outcomes  method  developed  will  help  physicians  and  researchers  to predict T2D more reliably"
   ]
  },
  {
   "cell_type": "markdown",
   "metadata": {},
   "source": [
    "# muhammad diabetes prediction usung superviser ML\n",
    "\n",
    "title: phát hiện bệnh tiểu đường sử dụng thuật toán học máy có giám sát"
   ]
  },
  {
   "cell_type": "markdown",
   "metadata": {},
   "source": [
    "## note:\n",
    "\n",
    "- mục tiêu nghiên cứu: The  study  concluded  by  comparing two k-Nearest Neighbor algorithms and the Naive Bayes algorithm to predict diabetes\n",
    "\n",
    "- comparison between the  KNN  and  Naive  Bayes  algorithms  to  see  which  algorithm  suit  the  best  for  diabetes  prediction\n",
    "\n",
    "- predict in realtime\n",
    "\n",
    "- data pre-processing: hợp nhất, thay đổi hình dạng hoặc chuyển đổi dữ liệu như một cách để làm sạch, tích hợp, thu gọn và rời rạc hóa.\n",
    "\n",
    "- data clearning:  finding incomplete, incorrect, inaccuratedata, and missing data (Missing Value)\n",
    "\n",
    "- future: For future research can be done  by adding other algorithm like neural network and other techniques  in  order  to  produce  an  accuracy  value  and  better  precision  also  by  Adding  technique  Particle  Swarm  Optimization for optimize the results and using application program development"
   ]
  },
  {
   "cell_type": "markdown",
   "metadata": {},
   "source": [
    "# rashi\n",
    "\n",
    "title: phát hiện bệnh tiểu đường sử dụng kĩ thuật mining dữ liệu (khai phá dữ liệu)"
   ]
  },
  {
   "cell_type": "markdown",
   "metadata": {},
   "source": [
    "## note:\n",
    "\n",
    "- bệnh tiểu đường loại 2\n",
    "\n",
    "- apply four data mining techniques such as Random Forest, Support Vector Machine (SVM), Logistic Regression, and Naive Bayes.\n",
    "\n",
    "- high, i.e., 82.46%\n",
    "\n",
    "- Trong mô hình hồi quy logistic, độ chính xác cao, tức là 82,46% so với các mô hình khác. trong khi ở SVM độ chính xác thấp, tức là 79,22% so với các mô hình khác\n",
    "\n",
    "- Trong tương lai, dự định sẽ tiếp tục nghiên cứu và áp dụng nhiều thuật toán phân loại hơn để dự đoán các tập dữ liệu về bệnh tiểu đường. Nó cũng nhằm đề xuất một cách mới để đưa ra dự đoán về kết quả bệnh tiểu đường chính xác hơn"
   ]
  },
  {
   "cell_type": "markdown",
   "metadata": {},
   "source": [
    "# roshan birjais\n",
    "\n",
    "title: phát hiện và chẩn đoán nguy cơ mắc bệnh tiểu đường trong tương lai với phương pháp học máy"
   ]
  },
  {
   "cell_type": "markdown",
   "metadata": {},
   "source": [
    "## note:\n",
    "\n",
    "- In this paper we have used three techniques of machine learning –Gradient boosting, logistic regression and Naive Bayes to do the better diagnosis of diabetes disease.\n",
    "\n",
    "- ccuracy as 86% for the Gradient Boosting, 79% for Logistic Regression and 77% for Naive Bayes"
   ]
  },
  {
   "cell_type": "markdown",
   "metadata": {},
   "source": [
    "# s11517-022\n",
    "\n",
    "title: Một mô hình học tập tổng hợp kết hợp để dự đoán nguy cơ mắc bệnh tiểu đường ở giai đoạn đầu"
   ]
  },
  {
   "cell_type": "markdown",
   "metadata": {},
   "source": [
    "## note:\n",
    "\n",
    "- The proposed super learner model was created with four base-learners (logistic regression, decision tree, random forest, gradient boosting) and a meta learner (support vector machines) as a result of a case study\n",
    "\n",
    "- Three different dataset were used to measure the robustness of the proposed model\n",
    "\n",
    "- mô hình siêu học mới đạt được để đạt được kết quả chính xác nhất trong việc phát hiện bệnh Đái tháo đường so với mô hình học cơ sở để dự đoán nguy cơ mắc bệnh tiểu đường giai đoạn đầu (99,6%), PIMA (92%) và bệnh tiểu đường 130-US (98%) tập dữ liệu tương ứng.\n",
    "\n",
    "***điểm mới: ***\n",
    "\n",
    "- áp dụng mô hình super leanring -> Thuật toán siêu học là một loại thuật toán học tập tổng hợp. Super learning là một cách tiếp cận dựa trên xác thực chéo để đưa ra dự đoán tốt hơn bằng cách kết hợp các kết quả dự đoán của nhiều thuật toán học máy\n",
    "\n",
    "- sự kết hợp của 3 bộ dữ liệu: giai đoạn sớm, PIMA, bênh tiểu đường loại 2\n",
    "\n",
    "***Super learner model:***\n",
    "\n",
    "* Để huấn luyện các mô hình cơ sở đơn, tập dữ liệu gốc được chia thành V khối.\n",
    "\n",
    "•Mỗi mô hình cơ sở đơn lẻ được huấn luyện bằng một trong các khối này.\n",
    "\n",
    "•Cài đặt thông số được thực hiện cho từng model để đạt được kết quả tốt nhất.\n",
    "\n",
    "•Các mô hình cơ sở được dự đoán với xác thực chéo k-fold. Tất cả các ước tính ngoài k-fold đều được lưu trữ. Mỗi mô hình cơ sở đều phù hợp với tổng số tập dữ liệu huấn luyện, do đó, họ có thể sử dụng mô hình này sau này để ước tính trong các trường hợp mới chưa được thấy trong suốt quá trình đào tạo.\n",
    "\n",
    "•Cuối cùng, các dự đoán của mô hình cơ sở được đưa ra làm tham số đầu vào cho mô hình siêu học. Người học meta được đào tạo với các dự đoán vượt trội của các mô hình khác. Do đó, nó được đào tạo về các dự đoán ngoài luồng từ mỗi mô hình và học cách kết hợp các dự đoán tốt nhất từ ​​nhiều mô hình. Trên thực tế, nó thực hiện đồng thời cả hai công việc\n",
    "\n",
    "***các mô hình cơ sở***:\n",
    "- used in level 0 which are decision tree (DT), logistic regression (LR), random forest (RF), and gradient boosting (GB).\n",
    "\n",
    "Trong quá trình xác định các thuật toán phù hợp ở cấp độ 0, người ta đã cố gắng kết hợp các thuật toán học máy đa dạng (KNN, NB, AB, ET) để đạt được điểm thống kê tốt nhất. Cuối cùng, bốn thuật toán học máy này (DT, LR, RF, GB) đã cho phép chúng tôi cung cấp điểm chính xác tốt nhất so với các thuật toán khác\n",
    "\n",
    "sử dụng sigmoid và áp dụng ngưỡng\n",
    "\n",
    "***hyperparameter tuning***:\n",
    "Đối với các cài đặt siêu tham số trong tập dữ liệu này, việc lựa chọn tham số thích hợp nhất được thực hiện bằng cách sử dụng phương pháp GridSearch\n",
    "\n",
    "SVM được sử dụng làm công cụ học meta trong khi các thuật toán còn lại được sử dụng làm công cụ học cơ bản\n",
    "\n"
   ]
  },
  {
   "cell_type": "markdown",
   "metadata": {},
   "source": [
    "# seok ju hahn\n",
    "\n",
    "title: phát hiện đái tháo đường loại 2 sử dụng Điểm rủi ro đa gen trên toàn bộ gen và hồ sơ trao đổi chất: Phân tích học máy của nghiên cứu đoàn hệ tương lai 10 năm dựa trên dân số"
   ]
  },
  {
   "cell_type": "markdown",
   "metadata": {},
   "source": [
    "## note:\n",
    "\n",
    "- sử dụng xác thực chéo đã được khởi động để đánh giá hồi quy logistic và các mô hình học máy dựa trên rừng ngẫu nhiên (RF).\n",
    "\n",
    "- use genome-wide polygenic risk score (gPRS) and serum metabolite datafor type 2 diabetes risk prediction in the Asian population\n",
    "- Data of 1425 participants from the Korean Genome and Epidemiology Study (KoGES) Ansan-Ansung cohortwere used in this study. \n",
    "\n",
    "- RF là 0,844, 0,876 và 0,883 đối với mô hình chỉ sử dụng nhân khẩu học và các yếu tố lâm sàng, mô hình bao gồm gPRS và mô hình có cả gPRS và chất chuyển hóa tương ứng\n",
    "\n",
    "- "
   ]
  },
  {
   "cell_type": "markdown",
   "metadata": {},
   "source": [
    "# xin feng\n",
    "\n",
    "title: tối ưu phân loại bệnh đái tháo đường với một framework học máy"
   ]
  },
  {
   "cell_type": "markdown",
   "metadata": {},
   "source": [
    "## note:\n",
    "\n",
    "- Phân tích trạng thái cân bằng liên kết đã xác định được 239.062 biến thể di truyền được sử dụng để xác định gPRS, trong khi các chất chuyển hóa được chọn bằng thuật toán Boruta\n",
    "- Chúng tôi đã sử dụng xác thực chéo đã được khởi động để đánh giá hồi quy logistic và các mô hình học máy dựa trên rừng ngẫu nhiên (RF).\n",
    "- mối liên hệ giữa gPRS và các chất chuyển hóa chọn lọc với các giá trị đánh giá mô hình cân bằng nội môi của chức năng tế bào beta (HOMA-B) và tình trạng kháng insulin (HOMA-IR) đã được ước tính thêm\n",
    "\n",
    "- a binary classification accuracy of 96.27%, tertiary classification accuracy of 99.31%, precision and f1 score of 0.9698, recall of 0.9698, and an AUC of 0.9702\n",
    "\n",
    "- keywords: Diabetes diagnoses, Machine learning, GAN\n",
    "\n",
    "- dataset: PIMA Indian Diabetes Dataset\n",
    "\n",
    "data pre-processing: \n",
    "- missing (chúng tôi đã sử dụng phương pháp điền giá trị trung bình và trung vị kết hợp), \n",
    "- outlier (loại bỏ trực tiếp các giá trị ngoại lệ là một kỹ thuật được sử dụng thường xuyên để xử lý các giá trị này), \n",
    "- Dán nhãn lại dựa trên glucoseTrong học máy, dán nhãn lại liên quan đến việc cập nhật nhãn hoặc phân loại mẫu trong tập dữ liệu để cải thiện hiệu suất và độ chính xác của mô hình bằng cách sửa các nhãn bị dán nhãn sai hoặc không chính xác\n",
    "- Xử lý mất cân bằng dữ liệu bằng SMOTEENN Mất cân bằng dữ liệu: nhiều kỹ thuật khác nhau như lấy mẫu lại, phương pháp tổng hợp và học tập nhạy cảm với chi phí được sử dụng để cân bằng lại việc phân phối dữ liệu và nâng cao hiệu suất của các mô hình\n",
    "\n",
    "ngoài ra:\n",
    "- Hệ số tương quan Pearson Hệ số tương quan Pearson là một công cụ có giá trị để đánh giá mức độ mạnh mẽ của mối quan hệ tuyến tính giữa hai biến. Thống kê này dao động từ -1 đến 1, với 0 biểu thị không có mối tương quan, 1 biểu thị mối tương quan hoàn toàn tích cực và -1 biểu thị mối tương quan hoàn toàn tiêu cực\n",
    "\n",
    "- DCSGAN: được tối ưu hóa để phân loại bệnh tiểu đường Mạng đối thủ sáng tạo\n",
    "\n",
    "- Ý tưởng cốt lõi đằng sau GAN là tạo ra dữ liệu tổng hợp gần giống với việc phân phối dữ liệu thực\n",
    "\n",
    "- Trong bài báo này, chúng tôi đề xuất DCSGAN, sử dụng các nguyên tắc của mạng lưới thần kinh đối nghịch để phân loại bệnh tiểu đường.\n",
    "\n",
    "- Ngoài ra, việc tạo ra một số lượng lớn mẫu của Trình tạo đóng vai trò như một hình thức tăng cường dữ liệu và mở rộng mẫu, nâng cao hiệu quả tính đa dạng và số lượng của dữ liệu gốc.\n",
    "\n",
    "- Trong bài báo này, chúng tôi đề xuất DCSGAN, tận dụng các nguyên tắc của mạng lưới thần kinh đối nghịch để phân loại bệnh tiểu đường. Hình 4 minh họa thiết kế kiến ​​trúc của mô hình đề xuất của chúng tôi. Ban đầu, Trình tạo học từ dữ liệu thực và tạo ra dữ liệu tổng hợp để đánh lừa Người phân biệt đối xử, từ đó cố gắng phân biệt giữa dữ liệu thực và dữ liệu bịa đặt thông qua đào tạo liên tục. Khi hiệu suất của Trình tạo được cải thiện và đạt đến một ngưỡng nhất định, dữ liệu tổng hợp được tạo sẽ không thể phân biệt được với dữ liệu xác thực. Hàm mục tiêu của DCSGAN được hiển thị trong biểu thức"
   ]
  },
  {
   "cell_type": "markdown",
   "metadata": {},
   "source": [
    "# bệnh tiểu đường - diabete\n",
    "Bệnh tiểu đường là một rối loạn chuyển hóa có liên quan đến cách cơ thể xử lý đường huyết. Bệnh tiểu đường được chia thành hai loại chính: tiểu đường loại 1 và tiểu đường loại 2. Dưới đây là sự khác biệt chính giữa hai loại bệnh tiểu đường này:\n",
    "\n",
    "1. Tiểu đường Loại 1:\n",
    "   - Tiểu đường loại 1 thường xuất hiện ở tuổi trẻ hoặc tuổi teen, thường bắt đầu đột ngột và người mắc bệnh cần tiêm insulin hàng ngày.\n",
    "   - Bệnh này xảy ra khi hệ thống miễn dịch tấn công và phá hủy tế bào beta trong tụy, là nơi sản xuất insulin. Do đó, người mắc tiểu đường loại 1 thường thiếu insulin.\n",
    "   - Người mắc tiểu đường loại 1 thường phải kiểm soát cẩn thận lượng đường trong máu, ăn uống và tập luyện đều đặn.\n",
    "\n",
    "2. Tiểu đường Loại 2:\n",
    "   - Tiểu đường loại 2 thường phát triển ở người lớn hơn, thường là người trBệnh tiểu đường là một tình trạng mà cơ thể không thể điều chỉnh đường huyết hiệu quả, dẫn đến tăng đường huyết. Có hai loại chính của bệnh tiểu đường là tiểu đường type 1 và type 2, được phân biệt dựa trên nguyên nhân và cách điều trị. Dưới đây là sự khác biệt giữa hai loại bệnh tiểu đường này:\n",
    "\n",
    "1. Tiểu đường Type 1:\n",
    "   - Nguyên nhân chính: Tiểu đường type 1 thường là do hệ miễn dịch tấn công tế bào beta của tụy, ngăn cản sản xuất insulin. \n",
    "   - Đặc điểm: Thường phát hiện ở tuổi trẻ hoặc trẻ trưởng thành. Cần dùng insulin để điều trị vì cơ thể không sản xuất đủ insulin.\n",
    "   - Triệu chứng: Thường xuất hiện đột ngột và bao gồm tiểu đường cao, mệt mỏi, khát nước, mất cân nặng và khám sức khỏe thể hiện đường huyết cao.\n",
    "\n",
    "2. Tiểu đường Type 2:\n",
    "   - Nguyên nhân chính: Tiểu đường type 2 thường do sự kết hợp giữa khả năng sản xuất insulin giảm dần và khả năng cơ thể không sử dụng insulin hiệu quả.\n",
    "   - Đặc điểm: Thường xảy ra ở người trưởng thành và người cao tuổi, có thể điều chỉnh qua lối sống và chế độ ăn uống.\n",
    "   - Triệu chứng: Người mắc tiểu đường type 2 thường có lịch sử gia đình có bệnh tiểu đường, thừa cân hoặc béo phì, hay có áp lực công việc và stress.\n",
    "\n",
    "Tóm lại, tiểu đường type 1 thường do vấn đề miễn dịch, cần điều trị bằng insulin, trong khi tiểu đường type 2 thường liên quan đến lối sống và chế độ ăn uống, có thể kiểm soát thông qua biện pháp thay đổi lối sống và thuốc.\n"
   ]
  }
 ],
 "metadata": {
  "language_info": {
   "name": "python"
  }
 },
 "nbformat": 4,
 "nbformat_minor": 2
}
