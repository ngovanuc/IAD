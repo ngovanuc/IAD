{
 "cells": [
  {
   "cell_type": "markdown",
   "metadata": {},
   "source": [
    "***notebook này tập trung vào việc áp dụng kĩ thuật Stacked Generalization để nâng cao độ chính xác mô hình***\n"
   ]
  },
  {
   "cell_type": "markdown",
   "metadata": {},
   "source": [
    "***references:***\n",
    "- https://viblo.asia/p/lam-chu-stacking-ensemble-learning-Az45b0A6ZxY\n",
    "\n",
    "***nội dung:***\n",
    "\n",
    "0. báo cáo công việc và kết quả\n",
    "1. Basic stacking Ensemble Learning\n",
    "2. Stacking với Cross-Validation\n",
    "3. Multi-levels Stacking\n",
    "4. voting classifier\n",
    "5. Weighted Average Ensemble\n",
    "6. Blending Ensemble\n",
    "7. ngoài lề: kĩ thuật ensemble trong bài toán regression"
   ]
  },
  {
   "cell_type": "markdown",
   "metadata": {},
   "source": [
    "# 0. báo cáo công việc và kết quả"
   ]
  },
  {
   "cell_type": "markdown",
   "metadata": {},
   "source": [
    "- các phướng pháp stacking generalization techniques là những thuật toán machine learning mạnh mẽ, trong notebook này tập trung ứng dụng các kĩ kĩ thuật stacking và các biến thể mạnh mẽ của nó để cải thiện hiệu suất mô hình trên bộ dữ liệu cũ\n",
    "\n",
    "\n",
    "1. ứng dụng các kĩ thuật staking ensemble learning đơn giản\n",
    "    - kĩ thuật stacking cơ bản:\n",
    "        + sử dụng LogisticRegression, DecisionTreeClassifier, SVC, RandomForestClassifier để làm mô hình cơ sở (base models)\n",
    "        + sử dụng LogisticRegression làm mô hình ảo (meta model) để phân loại đầu ra\n",
    "\n",
    "        => kết quả: độ chính xác có cải thiện (tăng 6% so với kết quả trước đây đối với mô hình RF)\n",
    "\n",
    "2. kĩ thuật stacking với cross-validation\n",
    "    - sử dụng kĩ thuật stacking với cross-validation để giảm thiểu overfiting trên phương pháp 1:\n",
    "        + cross-validation với 5-fold\n",
    "        + base models: DecisionTreeClassifier, SVC, RandomForestClassifier\n",
    "        + meta model: LogisticRegression\n",
    "\n",
    "        => kết quả: độ chính xác cải thiện (tăng 6% so với kết quả trước đây đối với mô hình RF, không tăng so với phương pháp 1)\n",
    "\n",
    "3. kĩ thuật multi-levels stacking\n",
    "    - phát triển từ phương pháp 2 với số lượng tầng meta model tăng lên (từ 1 tăng lên 2)\n",
    "        + base models lv1:DecisionTreeClassifier, SVC, RandomForestClassifier\n",
    "        + meta models với 2 levels: đều dung LogisticRegression\n",
    "        + base models lv2: level1_stacking, RandomForestClassifier, \n",
    "    \n",
    "\n",
    "        => độ chính xác tăng so với phương pháp truyền thống trước đây, tăng không đáng kể so với phương pháp 2\n",
    "\n",
    "4. kĩ thuật voting classifier\n",
    "    - phương pháp: sử dụng hard voting (dựa trên số lượng dự đoán đầu ra) và soft voting (dựa trên xác suất dự đoán đầu ra)\n",
    "    - phương pháp hard-voting:\n",
    "        + base models: DecisionTreeClassifier, SVC, RandomForestClassifier\n",
    "        + voting: hard\n",
    "\n",
    "        => kết quả: độ chính xác tăng đáng kể (đạt 84%, cao nhất từ trước tới nay, tăng trung bình so với các thuật toán khác là 5%, tăng nhiều nhất so với kfold là 9%, tăng ít nhất là 2% so với mô hình catboost)\n",
    "        \n",
    "    - phương pháp soft-voting:\n",
    "        + base models: DecisionTreeClassifier, SVC, RandomForestClassifier\n",
    "        + voting: soft\n",
    "   \n",
    "        => kết quả: độ chính xác tăng khong đáng kể so với các phương pháp cũ, đạt 81%\n",
    "\n",
    "5. kĩ thuật weighted average ensemble\n",
    "    - các base models được sử dụng: XGB_pred + KNN_pred + MLPC_pred + DecisionTree_pred + RandomForest_pred\n",
    "    - giả định 1: các mô hình quan trọng như nhau\n",
    "        + độ chính xác tăng\n",
    "    - giả đinhk 2: mỗi mô hình có trọng số riêng (tầm quan trọng khác nhau)\n",
    "        + độ chính xác tăng\n",
    "\n",
    "6. kĩ thuật blending ensemble\n",
    "    - blending đối với hard-voting:\n",
    "        + base models: LogisticRegression, KNeighborsClassifier, DecisionTreeClassifier, SVC, GaussianNB\n",
    "        + độ chính xác tăng đáng kể: đạt 83%\n",
    "    -blending đối với soft-voting:\n",
    "        + base models: LogisticRegression, KNeighborsClassifier, DecisionTreeClassifier, SVC, GaussianNB\n",
    "        + độ chính xác tăng ít/ không tăng đối với các mô hình trước đây: đạt 81%\n",
    "\n",
    "7. tổng kết\n",
    "    - đạt được:\n",
    "        + sử dụng da dạng các phiên bản và biến thể của stacking generalization\n",
    "        + cải thiện được độ chính xác trên tập dữ liệu cũ\n",
    "\n",
    "    - chưa đạt được:\n",
    "        + tổng quan kết quả vẫn còn cần cải thiện thêm nữa"
   ]
  },
  {
   "cell_type": "markdown",
   "metadata": {},
   "source": [
    "# 1. Basic stacking Ensemble Learning\n",
    "\n",
    "***ý tưởng cơ bản:***\n",
    "- ý tưởng cơ bản của thuật toán này là thay vì dùng một mô hình machine learning đơn giản thì ta kết hợp các mô hình machine learning khác lại để có được dự đoán mạnh hơn"
   ]
  },
  {
   "cell_type": "code",
   "execution_count": 1,
   "metadata": {},
   "outputs": [],
   "source": [
    "import numpy as np\n",
    "import pandas as pd\n",
    "import matplotlib.pyplot as plt\n",
    "from sklearn.model_selection import train_test_split\n",
    "from sklearn.metrics import accuracy_score\n",
    "from sklearn.linear_model import LogisticRegression\n",
    "from sklearn.tree import DecisionTreeClassifier\n",
    "from sklearn.svm import SVC\n",
    "from sklearn.ensemble import RandomForestClassifier\n",
    "from sklearn.ensemble import StackingClassifier"
   ]
  },
  {
   "cell_type": "code",
   "execution_count": 2,
   "metadata": {},
   "outputs": [],
   "source": [
    "df = pd.read_csv(\"E:/IAD/INTERN/01_diabetes/data/diabetes.csv\")\n",
    "# df.head()\n",
    "# print(len(df.columns))\n",
    "# print(y_test.columns)"
   ]
  },
  {
   "cell_type": "code",
   "execution_count": 3,
   "metadata": {},
   "outputs": [
    {
     "name": "stdout",
     "output_type": "stream",
     "text": [
      "(614, 8)\n",
      "(614,)\n",
      "(154, 8)\n",
      "(154,)\n"
     ]
    }
   ],
   "source": [
    "x = df.iloc[:, :-1].values\n",
    "y = df.iloc[:, -1].values\n",
    "x_train, x_test, y_train, y_test = train_test_split(x, y, test_size = 0.2, random_state = 0)\n",
    "print(x_train.shape)\n",
    "print(y_train.shape)\n",
    "print(x_test.shape)\n",
    "print(y_test.shape)"
   ]
  },
  {
   "cell_type": "code",
   "execution_count": 12,
   "metadata": {},
   "outputs": [
    {
     "name": "stdout",
     "output_type": "stream",
     "text": [
      "accuracu = 0.8181818181818182\n"
     ]
    }
   ],
   "source": [
    "# create base models\n",
    "base_model = [\n",
    "    ('dt', DecisionTreeClassifier()),\n",
    "    ('svm', SVC(probability=True)),\n",
    "    ('rf', RandomForestClassifier())\n",
    "]\n",
    "\n",
    "\n",
    "# create meta model\n",
    "meta_model = LogisticRegression()\n",
    "\n",
    "\n",
    "# create stacking model\n",
    "stacking_model = StackingClassifier(estimators=base_model, final_estimator=meta_model)\n",
    "\n",
    "\n",
    "stacking_model.fit(x_train, y_train)\n",
    "y_pred = stacking_model.predict(x_test)\n",
    "accuracy = accuracy_score(y_test, y_pred)\n",
    "print(f'accuracu = {accuracy}')\n"
   ]
  },
  {
   "cell_type": "markdown",
   "metadata": {},
   "source": [
    "# 2. Stacking với Cross-Validation\n",
    "\n",
    "***điểm chú ý:***\n",
    "- tạo ra nhiều test set và kết hợp chúng lại\n",
    "\n",
    "***cơ chế:***\n",
    "- chia tập dữ liệu thành k tập (k-fold)\n",
    "- đối với mỗi mô hình, dùng k-1 tập để huấn luyện, 1 tập còn lại để kiểm thử mô hình\n",
    "- dự đoán 1 phần còn lại đó và cả trên test set\n",
    "- tổng hợp các kết quả chạy được (bao gồm cả kết quả test trên 1 fold và cả test set trên các mô hình)\n",
    "- nếu bài toán cần giải quyết là regression thì ta tính mean còn class thì ta sử dụng voting để đưa ra kết quả cuối cùng"
   ]
  },
  {
   "cell_type": "code",
   "execution_count": 13,
   "metadata": {},
   "outputs": [
    {
     "name": "stdout",
     "output_type": "stream",
     "text": [
      "accuracu = 0.8116883116883117\n"
     ]
    }
   ],
   "source": [
    "# create base models\n",
    "base_model = [\n",
    "    ('dt', DecisionTreeClassifier()),\n",
    "    ('svm', SVC(probability=True)),\n",
    "    ('rf', RandomForestClassifier())\n",
    "]\n",
    "\n",
    "\n",
    "# create meta model\n",
    "meta_model = LogisticRegression()\n",
    "\n",
    "\n",
    "# create stacking model\n",
    "stacking_model = StackingClassifier(estimators=base_model, final_estimator=meta_model, cv=5) # 5-fold cross-validation\n",
    "\n",
    "\n",
    "stacking_model.fit(x_train, y_train)\n",
    "y_pred = stacking_model.predict(x_test)\n",
    "accuracy = accuracy_score(y_test, y_pred)\n",
    "print(f'accuracu = {accuracy}')\n"
   ]
  },
  {
   "cell_type": "markdown",
   "metadata": {},
   "source": [
    "# 3. Multi-levels Stacking\n",
    "\n",
    "***cơ chế:***\n",
    "- sau khi huấn luyện sử dụng phương pháp stacking (based models - level 0 và meta model - level1)\n",
    "- thì thay vì chỉ có 1 lớp meta model thì bây giờ thêm nhiều meta models và các tầng meta models"
   ]
  },
  {
   "cell_type": "code",
   "execution_count": 15,
   "metadata": {},
   "outputs": [
    {
     "name": "stdout",
     "output_type": "stream",
     "text": [
      "accuracyu = 0.8116883116883117\n"
     ]
    }
   ],
   "source": [
    "level1_models = [\n",
    "    ('dt', DecisionTreeClassifier()),\n",
    "    ('svm', SVC(probability=True)),\n",
    "    ('rf', RandomForestClassifier())\n",
    "]\n",
    "level1_meta_model = LogisticRegression()\n",
    "level1_stacking = StackingClassifier(estimators=level1_models, final_estimator=level1_meta_model, cv=5)\n",
    "level1_stacking.fit(x_train, y_train)\n",
    "\n",
    "\n",
    "# level 2\n",
    "level2_models = [\n",
    "    ('level1_stacking_model', level1_stacking),\n",
    "    ('rf', RandomForestClassifier()),\n",
    "    ('svm', SVC(probability=True))\n",
    "]\n",
    "level2_stacking_model = LogisticRegression()\n",
    "level2_stacking = StackingClassifier(estimators=level2_models, final_estimator=level2_stacking_model, cv=5)\n",
    "level2_stacking.fit(x_train, y_train)\n",
    "\n",
    "y_pred = level2_stacking.predict(x_test)\n",
    "accuracu = accuracy_score(y_test, y_pred)\n",
    "print(f'accuracyu = {accuracy}')\n"
   ]
  },
  {
   "cell_type": "markdown",
   "metadata": {},
   "source": [
    "# 4. voting classifier\n",
    "\n",
    "https://machinelearningmastery.com/voting-ensembles-with-python/\n",
    "\n",
    "***cơ chế:***\n",
    "- sử dụng phương pháp thống kê đơn giản\n",
    "- voting sẽ dử dụng hard-voting được predicted nhiều nhất\n",
    "- hoặc soft-voting được predicted với class có tổng xác suất cao nhất \n",
    "- trong voting, các based models được giả định có độ quan trọng như nhau"
   ]
  },
  {
   "cell_type": "code",
   "execution_count": 94,
   "metadata": {},
   "outputs": [
    {
     "name": "stdout",
     "output_type": "stream",
     "text": [
      "accuracy = 0.8441558441558441\n"
     ]
    }
   ],
   "source": [
    "from sklearn.ensemble import VotingClassifier\n",
    "\n",
    "\n",
    "base_models = [\n",
    "    ('dt', DecisionTreeClassifier()),\n",
    "    ('svm', SVC(probability=True)),\n",
    "    ('rf', RandomForestClassifier())\n",
    "]   \n",
    "\n",
    "meta_model = VotingClassifier(estimators=base_models)\n",
    "meta_model.fit(x_train, y_train)\n",
    "pred = meta_model.predict(x_test)\n",
    "accuracy = accuracy_score(y_test, pred)\n",
    "print(f'accuracy = {accuracy}')\n"
   ]
  },
  {
   "cell_type": "code",
   "execution_count": 98,
   "metadata": {},
   "outputs": [
    {
     "name": "stdout",
     "output_type": "stream",
     "text": [
      "accuracy = 0.8376623376623377\n"
     ]
    }
   ],
   "source": [
    "base_models = [\n",
    "    ('dt', DecisionTreeClassifier()),\n",
    "    ('svm', SVC(probability=True)),\n",
    "    ('rf', RandomForestClassifier())\n",
    "]   \n",
    "\n",
    "meta_model = VotingClassifier(estimators=base_models, voting='hard')\n",
    "meta_model.fit(x_train, y_train)\n",
    "pred = meta_model.predict(x_test)\n",
    "accuracy = accuracy_score(y_test, pred)\n",
    "print(f'accuracy = {accuracy}')\n"
   ]
  },
  {
   "cell_type": "code",
   "execution_count": 100,
   "metadata": {},
   "outputs": [
    {
     "name": "stdout",
     "output_type": "stream",
     "text": [
      "accuracy = 0.8116883116883117\n"
     ]
    }
   ],
   "source": [
    "base_models = [\n",
    "    ('dt', DecisionTreeClassifier()),\n",
    "    ('svm', SVC(probability=True)),\n",
    "    ('rf', RandomForestClassifier())\n",
    "]   \n",
    "\n",
    "meta_model = VotingClassifier(estimators=base_models, voting='soft')\n",
    "meta_model.fit(x_train, y_train)\n",
    "pred = meta_model.predict(x_test)\n",
    "accuracy = accuracy_score(y_test, pred)\n",
    "print(f'accuracy = {accuracy}')\n"
   ]
  },
  {
   "cell_type": "code",
   "execution_count": 109,
   "metadata": {},
   "outputs": [
    {
     "name": "stdout",
     "output_type": "stream",
     "text": [
      "name = knn1, mean = 0.6766404647983596, std = 0.05627723759360064\n",
      "name = knn3, mean = 0.6962292093871042, std = 0.04791392086663333\n",
      "name = knn5, mean = 0.7174698108908635, std = 0.03957102555584292\n",
      "name = knn7, mean = 0.7252620186830714, std = 0.0446881681408015\n",
      "name = knn9, mean = 0.7348086124401915, std = 0.04471529175902817\n",
      "name = hard_voting, mean = 0.718324219640009, std = 0.04931925746433479\n"
     ]
    },
    {
     "name": "stderr",
     "output_type": "stream",
     "text": [
      "C:\\Users\\JOS UC\\AppData\\Local\\Temp\\ipykernel_3156\\1027644249.py:47: MatplotlibDeprecationWarning: The 'labels' parameter of boxplot() has been renamed 'tick_labels' since Matplotlib 3.9; support for the old name will be dropped in 3.11.\n",
      "  plt.boxplot(results, labels=names, showmeans=True)\n"
     ]
    },
    {
     "data": {
      "image/png": "[encoded data removed]",
      "text/plain": [
       "<Figure size 640x480 with 1 Axes>"
      ]
     },
     "metadata": {},
     "output_type": "display_data"
    }
   ],
   "source": [
    "from numpy import mean, std\n",
    "from sklearn.model_selection import cross_val_score, RepeatedStratifiedKFold\n",
    "from sklearn.neighbors import KNeighborsClassifier\n",
    "from sklearn.ensemble import VotingClassifier\n",
    "import matplotlib.pyplot as plt\n",
    "\n",
    "def get_voting():\n",
    "    # define the base models\n",
    "    model = list()\n",
    "    model.append(('knn1', KNeighborsClassifier(n_neighbors=1)))\n",
    "    model.append(('knn3', KNeighborsClassifier(n_neighbors=3)))\n",
    "    model.append(('knn5', KNeighborsClassifier(n_neighbors=5)))\n",
    "    model.append(('knn7', KNeighborsClassifier(n_neighbors=7)))\n",
    "    model.append(('knn9', KNeighborsClassifier(n_neighbors=9)))\n",
    "    # define the voting ensemble\n",
    "    ensemble = VotingClassifier(estimators=model, voting='hard')\n",
    "    return ensemble  # Return the ensemble model, not the list of models\n",
    "\n",
    "def get_models():\n",
    "    # get a list of model to evaluate\n",
    "    models = dict()\n",
    "    models['knn1'] = KNeighborsClassifier(n_neighbors=1)\n",
    "    models['knn3'] = KNeighborsClassifier(n_neighbors=3)\n",
    "    models['knn5'] = KNeighborsClassifier(n_neighbors=5)\n",
    "    models['knn7'] = KNeighborsClassifier(n_neighbors=7)\n",
    "    models['knn9'] = KNeighborsClassifier(n_neighbors=9)\n",
    "    models['hard_voting'] = get_voting()\n",
    "    return models\n",
    "\n",
    "def evaluate_model(model, x, y):\n",
    "    cv = RepeatedStratifiedKFold(n_splits=10, n_repeats=3, random_state=1)\n",
    "    scores = cross_val_score(model, x, y, scoring='accuracy', cv=cv, n_jobs=-1, error_score='raise')\n",
    "    return scores\n",
    "\n",
    "# Assuming X and y are your feature matrix and target vector respectively\n",
    "# X, y = your_data_loading_function()\n",
    "\n",
    "models = get_models()\n",
    "results, names = list(), list()\n",
    "for name, model in models.items():\n",
    "    scores = evaluate_model(model, x, y)\n",
    "    results.append(scores)\n",
    "    names.append(name)\n",
    "    print(f'name = {name}, mean = {mean(scores)}, std = {std(scores)}')\n",
    "\n",
    "# plot model performance for comparison\n",
    "plt.boxplot(results, labels=names, showmeans=True)\n",
    "plt.show()\n"
   ]
  },
  {
   "cell_type": "markdown",
   "metadata": {},
   "source": [
    "\n",
    "# 5. Weighted Average Ensemble\n",
    "https://medium.com/analytics-vidhya/simple-weighted-average-ensemble-machine-learning-777824852426\n",
    "\n",
    "***cơ chế:***\n",
    "- sử dụng một tập hợp các based models để thực hiện dự đoán\n",
    "- dựa trên cơ chế là đánh giá các trọng số của based models (ví dụ dựa trên accuracy, performence...)\n",
    "- đầu ra là từng trọng số của mô hình nhân với predictions của nó"
   ]
  },
  {
   "cell_type": "code",
   "execution_count": 5,
   "metadata": {},
   "outputs": [],
   "source": [
    "from sklearn.ensemble import RandomForestClassifier\n",
    "from sklearn.tree import DecisionTreeClassifier\n",
    "from sklearn.neighbors import KNeighborsClassifier\n",
    "from sklearn.neural_network import MLPClassifier\n",
    "from xgboost import XGBClassifier"
   ]
  },
  {
   "cell_type": "code",
   "execution_count": 19,
   "metadata": {},
   "outputs": [],
   "source": [
    "import warnings\n",
    "warnings.filterwarnings('ignore')"
   ]
  },
  {
   "cell_type": "code",
   "execution_count": 7,
   "metadata": {},
   "outputs": [
    {
     "name": "stdout",
     "output_type": "stream",
     "text": [
      "[1 0 0 1 0 0 1 1 0 1 1 1 0 0 0 1 1 0 0 0 1 0 0 1 0 1 0 0 0 0 0 0 1 0 0 1 1\n",
      " 0 1 1 1 0 0 1 1 0 0 0 1 0 1 1 1 1 0 0 0 1 0 0 0 1 0 1 1 1 0 0 1 0 0 0 0 1\n",
      " 1 1 1 1 0 0 1 0 0 0 0 0 0 0 1 0 0 0 0 0 0 0 0 0 1 1 0 0 0 0 1 1 0 0 0 1 0\n",
      " 1 0 1 0 1 0 0 0 1 0 0 0 1 0 0 0 1 0 0 0 0 0 1 0 1 0 1 1 0 0 1 0 0 0 0 0 0\n",
      " 0 0 0 0 0 0]\n"
     ]
    }
   ],
   "source": [
    "\"\"\"The target variable is binary, either 0 (didn’t purchase) or 1 (Quote converted).\"\"\"\n",
    "\n",
    "# Decision Tree\n",
    "DecisionTree = DecisionTreeClassifier()\n",
    "DecisionTree.fit(x_train, y_train)\n",
    "DecisionTree_pred = DecisionTree.predict(x_test)\n",
    "print(DecisionTree_pred)\n",
    "# DecisionTreePrediction = pd.DataFrame(\n",
    "#     {'QuoteNumber': y_test},\n",
    "#     {'QuoteConversion_Flag': DecisionTree_pred}\n",
    "# )"
   ]
  },
  {
   "cell_type": "code",
   "execution_count": 21,
   "metadata": {},
   "outputs": [
    {
     "name": "stdout",
     "output_type": "stream",
     "text": [
      "done!\n"
     ]
    }
   ],
   "source": [
    "# Decision Tree\n",
    "DecisionTree = DecisionTreeClassifier()\n",
    "DecisionTree.fit(x_train, y_train)\n",
    "DecisionTree_pred = DecisionTree.predict(x_test)\n",
    "DecisionTreePrediction = pd.DataFrame(\n",
    "    {'QuoteNumber': y_test,\n",
    "    'QuoteConversion_Flag': DecisionTree_pred}\n",
    ")\n",
    "DecisionTreePrediction.to_csv('DecisionTreePrediction.csv', index=False)\n",
    "\n",
    "\n",
    "# KNN\n",
    "KNN = KNeighborsClassifier(n_neighbors=2)\n",
    "KNN.fit(x_train, y_train)\n",
    "KNN_pred = KNN.predict(x_test)\n",
    "KNNPrediction = pd.DataFrame(\n",
    "    {'QuoteNumber': y_test,\n",
    "    'QuoteConversion_Flag': KNN_pred}\n",
    ")\n",
    "KNNPrediction.to_csv('KNNPrediction.csv', index=False)\n",
    "\n",
    "\n",
    "# MLPC\n",
    "MLPC = MLPClassifier(random_state=1, max_iter=100)\n",
    "MLPC.fit(x_train, y_train)\n",
    "MLPC_pred = MLPC.predict(x_test)\n",
    "MLPCPrediction = pd.DataFrame(\n",
    "    {'QuoteNumber': y_test,\n",
    "    'QuoteConversion_Flag': MLPC_pred}\n",
    ")\n",
    "MLPCPrediction.to_csv('MLPCPrediction.csv', index=False)\n",
    "\n",
    "\n",
    "# Random Forest\n",
    "RandomForest = RandomForestClassifier()\n",
    "RandomForest.fit(x_train, y_train)\n",
    "RandomForest_pred = RandomForest.predict(x_test)\n",
    "RandomForestPrediction = pd.DataFrame(\n",
    "    {'QuoteNumber': y_test,\n",
    "    'QuoteConversion_Flag': RandomForest_pred}\n",
    ")\n",
    "RandomForestPrediction.to_csv('RandomForestPrediction.csv', index=False)\n",
    "\n",
    "\n",
    "# XGB classifier\n",
    "XGB = XGBClassifier()\n",
    "XGB.fit(x_train, y_train)\n",
    "XGB_pred = XGB.predict(x_test)\n",
    "XGBPrediction = pd.DataFrame(\n",
    "    {'QuoteNumber': y_test,\n",
    "    'QuoteConversion_Flag': XGB_pred}\n",
    ")\n",
    "XGBPrediction.to_csv('XGBPrediction.csv', index=False)\n",
    "\n",
    "print('done!')"
   ]
  },
  {
   "cell_type": "code",
   "execution_count": 23,
   "metadata": {},
   "outputs": [
    {
     "name": "stdout",
     "output_type": "stream",
     "text": [
      "done!\n"
     ]
    }
   ],
   "source": [
    "# average weights\n",
    "average_pred = (XGB_pred + KNN_pred + MLPC_pred + DecisionTree_pred + RandomForest_pred) / 5\n",
    "\n",
    "# make submission table\n",
    "FiveModelAveragePrediction = pd.DataFrame(\n",
    "    {'QuoteNumber': y_test,\n",
    "     'QuoteConversion_Flag': average_pred}\n",
    ")\n",
    "FiveModelAveragePrediction.to_csv('FiveModelAveragePrediction.csv', index=False)\n",
    "\n",
    "# weighted average\n",
    "weighted_average = (0.3*XGB_pred + 0.2*KNN_pred + 0.2*MLPC_pred + 0.15*DecisionTree_pred + 0.15*RandomForest_pred)\n",
    "\n",
    "# make submission table\n",
    "WeightedAveragePrediction = pd.DataFrame(\n",
    "    {'QouteNumber': y_test,\n",
    "     'QuoteConversion_Flag': weighted_average}\n",
    ")\n",
    "WeightedAveragePrediction.to_csv('WeightedAveragePrediction.csv', index=False)\n",
    "\n",
    "print('done!')"
   ]
  },
  {
   "cell_type": "markdown",
   "metadata": {},
   "source": [
    "# 6. Blending Ensemble\n",
    "https://machinelearningmastery.com/blending-ensemble-machine-learning-with-python/\n",
    "\n",
    "***tổng quan:***\n",
    "- chia dataset thành 2 phần (sebset-1 và subset2)\n",
    "- dùng subset-1 để huấn luyện các based models (KNN, Linear...)\n",
    "- dùng subset-2 để thực hiện predict trên các based models đó ta có được predictions của subset-2\n",
    "- từ các kết quả của predictions, ta dùng nó làm dữ liệu huấn luyện cho blender "
   ]
  },
  {
   "cell_type": "code",
   "execution_count": 28,
   "metadata": {},
   "outputs": [],
   "source": [
    "import warnings\n",
    "warnings.filterwarnings('ignore')"
   ]
  },
  {
   "cell_type": "code",
   "execution_count": 25,
   "metadata": {},
   "outputs": [],
   "source": [
    "from numpy import hstack\n",
    "from sklearn.model_selection import train_test_split\n",
    "from sklearn.metrics import accuracy_score\n",
    "from sklearn.linear_model import LogisticRegression\n",
    "from sklearn.neighbors import KNeighborsClassifier\n",
    "from sklearn.tree import DecisionTreeClassifier\n",
    "from sklearn.ensemble import RandomForestClassifier\n",
    "from sklearn.ensemble import StackingClassifier\n",
    "from sklearn.svm import SVC\n",
    "from sklearn.naive_bayes import GaussianNB"
   ]
  },
  {
   "cell_type": "code",
   "execution_count": 31,
   "metadata": {},
   "outputs": [
    {
     "name": "stdout",
     "output_type": "stream",
     "text": [
      "accuracy = 0.8311688311688312\n"
     ]
    }
   ],
   "source": [
    "# FOR CLASSIFICATION\n",
    "\n",
    "def get_models():\n",
    "    models = list()\n",
    "    models.append(('lr', LogisticRegression()))\n",
    "    models.append(('knn', KNeighborsClassifier()))\n",
    "    models.append(('cart', DecisionTreeClassifier()))\n",
    "    models.append(('svm', SVC()))\n",
    "    models.append(('bayes', GaussianNB()))\n",
    "    return models\n",
    "\n",
    "\n",
    "# fit the blending ensemble\n",
    "def fit_ensemble(models, x_train, y_train, x_test, y_test):\n",
    "    # fit all models on the training dataset\n",
    "    meta_x = list()\n",
    "    for name, model in models:\n",
    "        model.fit(x_train, y_train)\n",
    "        pred = model.predict(x_test)\n",
    "        pred = pred.reshape(len(pred), 1)\n",
    "        meta_x.append(pred)\n",
    "\n",
    "    meta_x = hstack(meta_x)\n",
    "    blender = LogisticRegression()\n",
    "    blender.fit(meta_x, y_test)\n",
    "    return blender\n",
    "\n",
    "\n",
    "# make a prediction with the blending ensemble\n",
    "def predict_ensemble(models, blender, x_test):\n",
    "    meta_x = list()\n",
    "    for name, model in models:\n",
    "        pred = model.predict(x_test)\n",
    "        pred = pred.reshape(len(pred), 1)\n",
    "        meta_x.append(pred)\n",
    "\n",
    "    meta_x = hstack(meta_x)\n",
    "    return blender.predict(meta_x)\n",
    "\n",
    "\n",
    "models = get_models()\n",
    "blender = fit_ensemble(models, x_train, y_train, x_test, y_test)\n",
    "pred = predict_ensemble(models, blender, x_test)\n",
    "accuracy = accuracy_score(y_test, pred)\n",
    "print(f'accuracy = {accuracy}')"
   ]
  },
  {
   "cell_type": "markdown",
   "metadata": {},
   "source": [
    "***bleding ensemble with soft voting***"
   ]
  },
  {
   "cell_type": "code",
   "execution_count": null,
   "metadata": {},
   "outputs": [],
   "source": [
    "from numpy import hstack\n",
    "from sklearn.datasets import make_classification\n",
    "from sklearn.model_selection import train_test_split\n",
    "from sklearn.metrics import accuracy_score\n",
    "from sklearn.linear_model import LogisticRegression\n",
    "from sklearn.neighbors import KNeighborsClassifier\n",
    "from sklearn.tree import DecisionTreeClassifier\n",
    "from sklearn.svm import SVC\n",
    "from sklearn.naive_bayes import GaussianNB"
   ]
  },
  {
   "cell_type": "code",
   "execution_count": 38,
   "metadata": {},
   "outputs": [
    {
     "name": "stdout",
     "output_type": "stream",
     "text": [
      "accuracy = 0.8181818181818182\n"
     ]
    }
   ],
   "source": [
    "# get a list of base models\n",
    "def get_models():\n",
    "    models = list()\n",
    "    models.append(('lr', LogisticRegression()))\n",
    "    models.append(('knn', KNeighborsClassifier()))\n",
    "    models.append(('cart', DecisionTreeClassifier()))\n",
    "    models.append(('svm', SVC(probability=True)))\n",
    "    models.append(('bayes', GaussianNB()))\n",
    "    return models\n",
    "\n",
    "\n",
    "def fit_ensemble(models, x_train, y_train, x_test, y_test):\n",
    "    meta_x = list()\n",
    "    for name, model in models:\n",
    "        model.fit(x_train, y_train)\n",
    "        pred = model.predict_proba(x_test)\n",
    "        meta_x.append(pred)  \n",
    "\n",
    "    meta_x = hstack(meta_x)\n",
    "    blender = LogisticRegression()\n",
    "    blender.fit(meta_x, y_test)\n",
    "    return blender\n",
    "\n",
    "\n",
    "def predict_ensemble(model, blender, x_test):\n",
    "    meta_x = list()\n",
    "    for name, model in models:\n",
    "        pred = model.predict_proba(x_test)\n",
    "        meta_x.append(pred)\n",
    "    \n",
    "    meta_x = hstack(meta_x)\n",
    "    return blender.predict_proba(meta_x)\n",
    "\n",
    "\n",
    "models = get_models()\n",
    "blender = fit_ensemble(models, x_train, y_train, x_test, y_test)\n",
    "pred = predict_ensemble(models, blender, x_test)\n",
    "# print(pred)\n",
    "pred_class = [np.argmax(i) for i in pred]\n",
    "# print(pred_class)\n",
    "accuracy = accuracy_score(y_test, pred_class)\n",
    "print(f'accuracy = {accuracy}')"
   ]
  },
  {
   "cell_type": "markdown",
   "metadata": {},
   "source": [
    "***blending ensemble for regression***"
   ]
  },
  {
   "cell_type": "code",
   "execution_count": 58,
   "metadata": {},
   "outputs": [],
   "source": [
    "# evaluate blending ensemble for regression\n",
    "from numpy import hstack\n",
    "from sklearn.datasets import make_regression\n",
    "from sklearn.model_selection import train_test_split\n",
    "from sklearn.metrics import mean_absolute_error\n",
    "from sklearn.linear_model import LinearRegression\n",
    "from sklearn.neighbors import KNeighborsRegressor\n",
    "from sklearn.tree import DecisionTreeRegressor\n",
    "from sklearn.svm import SVR"
   ]
  },
  {
   "cell_type": "code",
   "execution_count": 55,
   "metadata": {},
   "outputs": [
    {
     "name": "stdout",
     "output_type": "stream",
     "text": [
      "0      148\n",
      "1       85\n",
      "2      183\n",
      "3       89\n",
      "4      137\n",
      "      ... \n",
      "763    101\n",
      "764    122\n",
      "765    121\n",
      "766    126\n",
      "767     93\n",
      "Name: Glucose, Length: 768, dtype: int64\n"
     ]
    }
   ],
   "source": [
    "x = df['Glucose']\n",
    "print(x)\n",
    "x_train, x_test, y_train, y_test = train_test_split(x, y, test_size = 0.2, random_state = 0)"
   ]
  },
  {
   "cell_type": "markdown",
   "metadata": {},
   "source": [
    "# 7. ngoài lề: kĩ thuật ensemble trong bài toán regression"
   ]
  },
  {
   "cell_type": "code",
   "execution_count": null,
   "metadata": {},
   "outputs": [],
   "source": [
    "# FOR REGRESSION\n",
    "\n",
    "def get_dataset():\n",
    "\tx, y = make_regression(n_samples=10000, n_features=20, n_informative=10, noise=0.3, random_state=7)\n",
    "\treturn x, y\n",
    "\n",
    "# get a list of base models\n",
    "def get_models():\n",
    "    models = list()\n",
    "    models.append(('lr', LinearRegression()))\n",
    "    models.append(('knn', KNeighborsRegressor()))\n",
    "    models.append(('cart', DecisionTreeRegressor()))\n",
    "    models.append(('svm', SVR()))\n",
    "    return models\n",
    "\n",
    "\n",
    "def fit_ensemble(models, x_train, y_train, x_test, y_test):\n",
    "    meta_x = list()\n",
    "    for name, model in models:\n",
    "        model.fit(x_train, y_train)\n",
    "        pred = model.predict(x_test)\n",
    "        meta_x.append(pred)\n",
    "        pred = pred.reshape(len(pred), 1)\n",
    "    \n",
    "    meta_x = hstack(meta_x)\n",
    "    blender = LinearRegression()\n",
    "    blender.fit(pred, y_test)\n",
    "    return blender\n",
    "\n",
    "\n",
    "def predict_ensemble(model, blender, x_test):\n",
    "    meta_x = list()\n",
    "    for name, model in models:\n",
    "        pred = model.predict(x_test)\n",
    "        pred = pred.reshape(len(pred), 1)\n",
    "        meta_x.append(pred)\n",
    "\n",
    "    meta_x = hstack(meta_x)\n",
    "    return blender.predict(meta_x)\n",
    "\n",
    "\n",
    "x, y = get_dataset()\n",
    "x_train, x_test, y_train, y_test = train_test_split(x, y, test_size = 0.2, random_state = 0)\n",
    "models = get_models()\n",
    "blender = fit_ensemble(models, x_train, y_train, x_test, y_test)\n",
    "pred = predict_ensemble(models, blender, x_test)\n",
    "# print(pred)\n",
    "accuracy = mean_absolute_error(y_test, pred)\n",
    "print(f'accuracy = {accuracy}')"
   ]
  },
  {
   "cell_type": "code",
   "execution_count": 61,
   "metadata": {},
   "outputs": [
    {
     "name": "stdout",
     "output_type": "stream",
     "text": [
      "Train: (6700, 20), Val: (3300, 20)\n",
      "Predicted: 359.986\n"
     ]
    }
   ],
   "source": [
    "# example of making a prediction with a blending ensemble for regression\n",
    "from numpy import hstack\n",
    "from sklearn.datasets import make_regression\n",
    "from sklearn.model_selection import train_test_split\n",
    "from sklearn.linear_model import LinearRegression\n",
    "from sklearn.neighbors import KNeighborsRegressor\n",
    "from sklearn.tree import DecisionTreeRegressor\n",
    "from sklearn.svm import SVR\n",
    "\n",
    "# get the dataset\n",
    "def get_dataset():\n",
    "\tX, y = make_regression(n_samples=10000, n_features=20, n_informative=10, noise=0.3, random_state=7)\n",
    "\treturn X, y\n",
    "\n",
    "# get a list of base models\n",
    "def get_models():\n",
    "\tmodels = list()\n",
    "\tmodels.append(('lr', LinearRegression()))\n",
    "\tmodels.append(('knn', KNeighborsRegressor()))\n",
    "\tmodels.append(('cart', DecisionTreeRegressor()))\n",
    "\tmodels.append(('svm', SVR()))\n",
    "\treturn models\n",
    "\n",
    "# fit the blending ensemble\n",
    "def fit_ensemble(models, X_train, X_val, y_train, y_val):\n",
    "\t# fit all models on the training set and predict on hold out set\n",
    "\tmeta_X = list()\n",
    "\tfor _, model in models:\n",
    "\t\t# fit in training set\n",
    "\t\tmodel.fit(X_train, y_train)\n",
    "\t\t# predict on hold out set\n",
    "\t\tyhat = model.predict(X_val)\n",
    "\t\t# reshape predictions into a matrix with one column\n",
    "\t\tyhat = yhat.reshape(len(yhat), 1)\n",
    "\t\t# store predictions as input for blending\n",
    "\t\tmeta_X.append(yhat)\n",
    "\t# create 2d array from predictions, each set is an input feature\n",
    "\tmeta_X = hstack(meta_X)\n",
    "\t# define blending model\n",
    "\tblender = LinearRegression()\n",
    "\t# fit on predictions from base models\n",
    "\tblender.fit(meta_X, y_val)\n",
    "\treturn blender\n",
    "\n",
    "# make a prediction with the blending ensemble\n",
    "def predict_ensemble(models, blender, X_test):\n",
    "\t# make predictions with base models\n",
    "\tmeta_X = list()\n",
    "\tfor _, model in models:\n",
    "\t\t# predict with base model\n",
    "\t\tyhat = model.predict(X_test)\n",
    "\t\t# reshape predictions into a matrix with one column\n",
    "\t\tyhat = yhat.reshape(len(yhat), 1)\n",
    "\t\t# store prediction\n",
    "\t\tmeta_X.append(yhat)\n",
    "\t# create 2d array from predictions, each set is an input feature\n",
    "\tmeta_X = hstack(meta_X)\n",
    "\t# predict\n",
    "\treturn blender.predict(meta_X)\n",
    "\n",
    "# define dataset\n",
    "X, y = get_dataset()\n",
    "# split dataset set into train and validation sets\n",
    "X_train, X_val, y_train, y_val = train_test_split(X, y, test_size=0.33, random_state=1)\n",
    "# summarize data split\n",
    "print('Train: %s, Val: %s' % (X_train.shape, X_val.shape))\n",
    "# create the base models\n",
    "models = get_models()\n",
    "# train the blending ensemble\n",
    "blender = fit_ensemble(models, X_train, X_val, y_train, y_val)\n",
    "# make a prediction on a new row of data\n",
    "row = [-0.24038754, 0.55423865, -0.48979221, 1.56074459, -1.16007611, 1.10049103, 1.18385406, -1.57344162, 0.97862519, -0.03166643, 1.77099821, 1.98645499, 0.86780193, 2.01534177, 2.51509494, -1.04609004, -0.19428148, -0.05967386, -2.67168985, 1.07182911]\n",
    "yhat = predict_ensemble(models, blender, [row])\n",
    "# summarize prediction\n",
    "print('Predicted: %.3f' % (yhat[0]))"
   ]
  }
 ],
 "metadata": {
  "kernelspec": {
   "display_name": ".venv",
   "language": "python",
   "name": "python3"
  },
  "language_info": {
   "codemirror_mode": {
    "name": "ipython",
    "version": 3
   },
   "file_extension": ".py",
   "mimetype": "text/x-python",
   "name": "python",
   "nbconvert_exporter": "python",
   "pygments_lexer": "ipython3",
   "version": "3.10.0"
  }
 },
 "nbformat": 4,
 "nbformat_minor": 2
}
