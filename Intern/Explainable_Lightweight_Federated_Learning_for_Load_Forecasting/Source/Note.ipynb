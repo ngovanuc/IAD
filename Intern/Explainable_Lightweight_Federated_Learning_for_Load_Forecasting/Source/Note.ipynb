{
 "cells": [
  {
   "cell_type": "code",
   "execution_count": 1,
   "metadata": {},
   "outputs": [
    {
     "data": {
      "text/plain": [
       "'\\nAuthor: Ngo Van Uc\\nDate: 31/10/2024\\nContact: ngovanuc.1508@gmail.com\\n'"
      ]
     },
     "execution_count": 1,
     "metadata": {},
     "output_type": "execute_result"
    }
   ],
   "source": [
    "\"\"\"\n",
    "Author: Ngo Van Uc\n",
    "Date: 31/10/2024\n",
    "Contact: ngovanuc.1508@gmail.com\n",
    "\"\"\""
   ]
  },
  {
   "cell_type": "markdown",
   "metadata": {},
   "source": [
    "## Exploring Lightweight Federated Learning for Distributed Load Forecasting\n",
    "\n",
    "- Trong nghiên cứu này:\n",
    "    - Áp dụng khuôn khổ FL để dự báo tải ngắn hạn bằng cách sử dụng bộ dữ liệu tiêu thụ năng lượng đồng hồ thông minh\n",
    "    - Nghiên cứu này chỉ ra rằng phương pháp này có độ chính xác tương đương với các phương pháp DNN hiện đại khác, nhưng nằm trong khuôn khổ FL để hạn chế chia sẻ và tổng hợp dữ liệu trên toàn cục\n",
    "\n",
    "\n",
    "- Các đóng góp của nghiên cứu:\n",
    "    - Mô hình feed-forward nhẹ trong khuôn khổ FL để đạt được hiệu suất dự báo tải ngắn hạn tốt ngay cả khi các kết nối thiết bị hạn chế trong cụm\n",
    "    - Kết hợp luồng FL để đạt được biểu diễn toàn cục tốt hơn ở mỗi cục (địa phương) -> cải thiện hiệu suất dự báo\n",
    "    - Đánh giá phương pháp tiếp cận và chưng minh rằng phương pháp đạt sự ổn định so với các mô hình dự báo phức tạp khác\n",
    "    - Định lượng chi phí chung của các mô hình nhẹ được đề xuất trên một bộ vi điều khiển nhẹ mô phỏng một thiết bị đo thông minh thực tế\n",
    "\n"
   ]
  }
 ],
 "metadata": {
  "kernelspec": {
   "display_name": "Python 3",
   "language": "python",
   "name": "python3"
  },
  "language_info": {
   "codemirror_mode": {
    "name": "ipython",
    "version": 3
   },
   "file_extension": ".py",
   "mimetype": "text/x-python",
   "name": "python",
   "nbconvert_exporter": "python",
   "pygments_lexer": "ipython3",
   "version": "3.10.0"
  }
 },
 "nbformat": 4,
 "nbformat_minor": 2
}
