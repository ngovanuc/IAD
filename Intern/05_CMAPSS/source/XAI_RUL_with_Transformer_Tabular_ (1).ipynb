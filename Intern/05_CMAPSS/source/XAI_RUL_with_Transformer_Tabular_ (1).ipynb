{
  "cells": [
    {
      "cell_type": "code",
      "execution_count": 54,
      "metadata": {
        "colab": {
          "base_uri": "https://localhost:8080/"
        },
        "id": "dr50r4jiyjcl",
        "outputId": "3d49316d-f487-484c-9b30-1c3fab3b1774"
      },
      "outputs": [],
      "source": [
        "# from google.colab import drive\n",
        "# drive.mount('/content/drive')"
      ]
    },
    {
      "cell_type": "code",
      "execution_count": 55,
      "metadata": {
        "colab": {
          "base_uri": "https://localhost:8080/",
          "height": 1000
        },
        "collapsed": true,
        "id": "MHFRMWluyoZO",
        "outputId": "5eb83406-13fc-4c4c-c640-1088ba73ec43"
      },
      "outputs": [],
      "source": [
        "# !pip install tabpfn\n",
        "# !pip install -U pytorch_tabular\n",
        "# !pip install pytorch-tabular\n",
        "# !pip install --upgrade pytorch-tabular"
      ]
    },
    {
      "cell_type": "code",
      "execution_count": 56,
      "metadata": {},
      "outputs": [],
      "source": [
        "import warnings\n",
        "warnings.filterwarnings('ignore')"
      ]
    },
    {
      "cell_type": "code",
      "execution_count": 57,
      "metadata": {
        "id": "SbbqNXFCyrju"
      },
      "outputs": [],
      "source": [
        "from pytorch_tabular import TabularModel\n",
        "from pytorch_tabular.models import (\n",
        "    CategoryEmbeddingModelConfig,\n",
        "    FTTransformerConfig,\n",
        "    TabNetModelConfig,\n",
        "    GatedAdditiveTreeEnsembleConfig,\n",
        "    TabTransformerConfig,\n",
        "    AutoIntConfig\n",
        ")\n",
        "from pytorch_tabular.config import DataConfig, OptimizerConfig, TrainerConfig, ExperimentConfig\n",
        "from pytorch_tabular.models.common.heads import LinearHeadConfig"
      ]
    },
    {
      "cell_type": "code",
      "execution_count": 58,
      "metadata": {
        "id": "VJbV_0fByu2d"
      },
      "outputs": [],
      "source": [
        "import numpy as np\n",
        "import pandas as pd\n",
        "from sklearn.datasets import fetch_openml\n",
        "from sklearn.model_selection import train_test_split\n",
        "from sklearn.metrics import accuracy_score, log_loss"
      ]
    },
    {
      "cell_type": "code",
      "execution_count": 59,
      "metadata": {
        "id": "Qf41qQaGyzfj"
      },
      "outputs": [],
      "source": [
        "import pandas as pd\n",
        "import numpy as np\n",
        "from pytorch_tabular import TabularModel\n",
        "from pytorch_tabular.config import DataConfig, OptimizerConfig, TrainerConfig\n",
        "from pytorch_tabular.models.tab_transformer import TabTransformerConfig\n",
        "import pickle\n",
        "from sklearn.metrics import mean_squared_error\n",
        "\n",
        "# Đọc dữ liệu từ các file CSV riêng biệt\n",
        "train = pd.read_csv('E:/IAD/Intern/05_CMAPSS/CMAPSSData/train_FD004.txt', sep=' ', header=None)\n",
        "test = pd.read_csv('E:/IAD/Intern/05_CMAPSS/CMAPSSData/test_FD004.txt', sep=' ', header=None)"
      ]
    },
    {
      "cell_type": "code",
      "execution_count": 60,
      "metadata": {
        "id": "rX1OaZwgy2gC"
      },
      "outputs": [],
      "source": [
        "# Xóa các cột trống (nếu có)\n",
        "train.dropna(axis=1, how='all', inplace=True)\n",
        "test.dropna(axis=1, how='all', inplace=True)\n",
        "# Lấy số lượng cột hiện tại của DataFrame\n",
        "num_columns_train = len(train.columns)\n",
        "num_columns_test = len(test.columns)"
      ]
    },
    {
      "cell_type": "code",
      "execution_count": 61,
      "metadata": {
        "id": "0U5R_wgWy5t8"
      },
      "outputs": [],
      "source": [
        "# Tạo tên cột tự động dựa trên số lượng cột\n",
        "# cột đầu tiên là 'unit', cột thứ hai là 'cycle', 3 cột tiếp theo là 'setting1', 'setting2', 'setting3'\n",
        "column_names_train = ['unit', 'cycle'] + [f'setting{i}' for i in range(1, 4)] + [f'sensor{i}' for i in range(1, num_columns_train - 5 + 1)]\n",
        "column_names_test = ['unit', 'cycle'] + [f'setting{i}' for i in range(1, 4)] + [f'sensor{i}' for i in range(1, num_columns_test - 5 + 1)]"
      ]
    },
    {
      "cell_type": "code",
      "execution_count": 62,
      "metadata": {
        "id": "S6T8gm9jy9r9"
      },
      "outputs": [],
      "source": [
        "# Đặt tên cho các cột\n",
        "train.columns = column_names_train\n",
        "test.columns = column_names_test"
      ]
    },
    {
      "cell_type": "code",
      "execution_count": 63,
      "metadata": {
        "id": "S6hjmVgXzAq0"
      },
      "outputs": [],
      "source": [
        "# Tính toán RUL cho tập train\n",
        "max_cycle_train = train.groupby('unit')['cycle'].max()\n",
        "train['RUL'] = train.apply(lambda row: max_cycle_train[row['unit']] - row['cycle'], axis=1)\n",
        "\n",
        "# Tính toán RUL cho tập test\n",
        "max_cycle_test = test.groupby('unit')['cycle'].max()\n",
        "test['RUL'] = test.apply(lambda row: max_cycle_test[row['unit']] - row['cycle'], axis=1)"
      ]
    },
    {
      "cell_type": "code",
      "execution_count": 64,
      "metadata": {
        "id": "ONcckvDhzEFk"
      },
      "outputs": [],
      "source": [
        "train_copy = train.copy()\n",
        "test_copy = test.copy()\n",
        "#train = train_copy\n",
        "#test = test_copy\n",
        "#train = train.drop(columns=['unit', 'cycle'])\n",
        "#test = test.drop(columns=['unit', 'cycle'])\n",
        "\n"
      ]
    },
    {
      "cell_type": "code",
      "execution_count": 65,
      "metadata": {
        "id": "oY3V8EOezG4E"
      },
      "outputs": [],
      "source": [
        "from sklearn.preprocessing import OrdinalEncoder\n",
        "# Xác định các cột đặc trưng (features) và cột mục tiêu (target)\n",
        "features = column_names_train[2:]  # All columns except 'unit' and 'cycle'\n",
        "target = ['RUL']\n",
        "\n",
        "# Mã hóa các cột phân loại (Ordinal Encoding) cho tập train và test\n",
        "cat_cols = ['unit']\n",
        "train_enc = train.drop(columns=['cycle'])\n",
        "test_enc = test.drop(columns=['cycle'])\n",
        "\n",
        "# train_enc = train.copy()\n",
        "# test_enc = test.copy()\n",
        "\n",
        "# for col in cat_cols:\n",
        "#     enc = OrdinalEncoder(handle_unknown=\"use_encoded_value\", unknown_value=np.nan)\n",
        "#     train_enc[col] = enc.fit_transform(train_enc[col].values.reshape(-1,1))\n",
        "#     test_enc[col] = enc.transform(test_enc[col].values.reshape(-1,1))\n",
        "\n",
        "\n",
        "# Cấu hình cho TabularModel\n",
        "data_config = DataConfig(\n",
        "    target=target,\n",
        "    continuous_cols=features,  # Columns that are continuous features\n",
        "    categorical_cols=['unit'], # Columns that are categorical\n",
        ")"
      ]
    },
    {
      "cell_type": "code",
      "execution_count": 66,
      "metadata": {
        "id": "znLNAoBizLIz"
      },
      "outputs": [],
      "source": [
        "# Cấu hình cho TabTransformer\n",
        "model_config = TabTransformerConfig(\n",
        "    task=\"regression\",\n",
        "    learning_rate=1e-3,\n",
        "    loss=\"MSELoss\",\n",
        "    metrics=[\"mean_squared_error\"],\n",
        "    metrics_params=[{}]\n",
        "    #metrics_params=[{\"mean_squared_error\":{}}],\n",
        ")\n",
        "\n",
        "# Cấu hình huấn luyện\n",
        "trainer_config = TrainerConfig(\n",
        "    max_epochs=10, # Số lượng epoch để huấn luyện\n",
        "    #gpus=1, # Sử dụng GPU nếu có\n",
        ")\n",
        "\n",
        "optimizer_config = OptimizerConfig()"
      ]
    },
    {
      "cell_type": "code",
      "execution_count": 67,
      "metadata": {
        "colab": {
          "base_uri": "https://localhost:8080/"
        },
        "id": "wYg4jr33zPa7",
        "outputId": "5a9ad7ff-8282-482e-e1c3-a296426a22f8"
      },
      "outputs": [
        {
          "data": {
            "text/html": [
              "<pre style=\"white-space:pre;overflow-x:auto;line-height:normal;font-family:Menlo,'DejaVu Sans Mono',consolas,'Courier New',monospace\"><span style=\"color: #008080; text-decoration-color: #008080; font-weight: bold\">2024</span>-<span style=\"color: #008080; text-decoration-color: #008080; font-weight: bold\">09</span>-<span style=\"color: #008080; text-decoration-color: #008080; font-weight: bold\">01</span> <span style=\"color: #00ff00; text-decoration-color: #00ff00; font-weight: bold\">10:33:45</span>,<span style=\"color: #008080; text-decoration-color: #008080; font-weight: bold\">642</span> - <span style=\"font-weight: bold\">{</span>pytorch_tabular.tabular_model:<span style=\"color: #008080; text-decoration-color: #008080; font-weight: bold\">140</span><span style=\"font-weight: bold\">}</span> - INFO - Experiment Tracking is turned off           \n",
              "</pre>\n"
            ],
            "text/plain": [
              "\u001b[1;36m2024\u001b[0m-\u001b[1;36m09\u001b[0m-\u001b[1;36m01\u001b[0m \u001b[1;92m10:33:45\u001b[0m,\u001b[1;36m642\u001b[0m - \u001b[1m{\u001b[0mpytorch_tabular.tabular_model:\u001b[1;36m140\u001b[0m\u001b[1m}\u001b[0m - INFO - Experiment Tracking is turned off           \n"
            ]
          },
          "metadata": {},
          "output_type": "display_data"
        }
      ],
      "source": [
        "# Khởi tạo mô hình\n",
        "tabular_model = TabularModel(\n",
        "    data_config=data_config,\n",
        "    model_config=model_config,\n",
        "    optimizer_config=optimizer_config,\n",
        "    trainer_config=trainer_config,\n",
        "    \n",
        ")"
      ]
    },
    {
      "cell_type": "code",
      "execution_count": 68,
      "metadata": {},
      "outputs": [
        {
          "data": {
            "text/html": [
              "<div>\n",
              "<style scoped>\n",
              "    .dataframe tbody tr th:only-of-type {\n",
              "        vertical-align: middle;\n",
              "    }\n",
              "\n",
              "    .dataframe tbody tr th {\n",
              "        vertical-align: top;\n",
              "    }\n",
              "\n",
              "    .dataframe thead th {\n",
              "        text-align: right;\n",
              "    }\n",
              "</style>\n",
              "<table border=\"1\" class=\"dataframe\">\n",
              "  <thead>\n",
              "    <tr style=\"text-align: right;\">\n",
              "      <th></th>\n",
              "      <th>unit</th>\n",
              "      <th>setting1</th>\n",
              "      <th>setting2</th>\n",
              "      <th>setting3</th>\n",
              "      <th>sensor1</th>\n",
              "      <th>sensor2</th>\n",
              "      <th>sensor3</th>\n",
              "      <th>sensor4</th>\n",
              "      <th>sensor5</th>\n",
              "      <th>sensor6</th>\n",
              "      <th>...</th>\n",
              "      <th>sensor13</th>\n",
              "      <th>sensor14</th>\n",
              "      <th>sensor15</th>\n",
              "      <th>sensor16</th>\n",
              "      <th>sensor17</th>\n",
              "      <th>sensor18</th>\n",
              "      <th>sensor19</th>\n",
              "      <th>sensor20</th>\n",
              "      <th>sensor21</th>\n",
              "      <th>RUL</th>\n",
              "    </tr>\n",
              "  </thead>\n",
              "  <tbody>\n",
              "    <tr>\n",
              "      <th>0</th>\n",
              "      <td>1</td>\n",
              "      <td>42.0049</td>\n",
              "      <td>0.8400</td>\n",
              "      <td>100.0</td>\n",
              "      <td>445.00</td>\n",
              "      <td>549.68</td>\n",
              "      <td>1343.43</td>\n",
              "      <td>1112.93</td>\n",
              "      <td>3.91</td>\n",
              "      <td>5.70</td>\n",
              "      <td>...</td>\n",
              "      <td>2387.99</td>\n",
              "      <td>8074.83</td>\n",
              "      <td>9.3335</td>\n",
              "      <td>0.02</td>\n",
              "      <td>330</td>\n",
              "      <td>2212</td>\n",
              "      <td>100.00</td>\n",
              "      <td>10.62</td>\n",
              "      <td>6.3670</td>\n",
              "      <td>320.0</td>\n",
              "    </tr>\n",
              "    <tr>\n",
              "      <th>1</th>\n",
              "      <td>1</td>\n",
              "      <td>20.0020</td>\n",
              "      <td>0.7002</td>\n",
              "      <td>100.0</td>\n",
              "      <td>491.19</td>\n",
              "      <td>606.07</td>\n",
              "      <td>1477.61</td>\n",
              "      <td>1237.50</td>\n",
              "      <td>9.35</td>\n",
              "      <td>13.61</td>\n",
              "      <td>...</td>\n",
              "      <td>2387.73</td>\n",
              "      <td>8046.13</td>\n",
              "      <td>9.1913</td>\n",
              "      <td>0.02</td>\n",
              "      <td>361</td>\n",
              "      <td>2324</td>\n",
              "      <td>100.00</td>\n",
              "      <td>24.37</td>\n",
              "      <td>14.6552</td>\n",
              "      <td>319.0</td>\n",
              "    </tr>\n",
              "    <tr>\n",
              "      <th>2</th>\n",
              "      <td>1</td>\n",
              "      <td>42.0038</td>\n",
              "      <td>0.8409</td>\n",
              "      <td>100.0</td>\n",
              "      <td>445.00</td>\n",
              "      <td>548.95</td>\n",
              "      <td>1343.12</td>\n",
              "      <td>1117.05</td>\n",
              "      <td>3.91</td>\n",
              "      <td>5.69</td>\n",
              "      <td>...</td>\n",
              "      <td>2387.97</td>\n",
              "      <td>8066.62</td>\n",
              "      <td>9.4007</td>\n",
              "      <td>0.02</td>\n",
              "      <td>329</td>\n",
              "      <td>2212</td>\n",
              "      <td>100.00</td>\n",
              "      <td>10.48</td>\n",
              "      <td>6.4213</td>\n",
              "      <td>318.0</td>\n",
              "    </tr>\n",
              "    <tr>\n",
              "      <th>3</th>\n",
              "      <td>1</td>\n",
              "      <td>42.0000</td>\n",
              "      <td>0.8400</td>\n",
              "      <td>100.0</td>\n",
              "      <td>445.00</td>\n",
              "      <td>548.70</td>\n",
              "      <td>1341.24</td>\n",
              "      <td>1118.03</td>\n",
              "      <td>3.91</td>\n",
              "      <td>5.70</td>\n",
              "      <td>...</td>\n",
              "      <td>2388.02</td>\n",
              "      <td>8076.05</td>\n",
              "      <td>9.3369</td>\n",
              "      <td>0.02</td>\n",
              "      <td>328</td>\n",
              "      <td>2212</td>\n",
              "      <td>100.00</td>\n",
              "      <td>10.54</td>\n",
              "      <td>6.4176</td>\n",
              "      <td>317.0</td>\n",
              "    </tr>\n",
              "    <tr>\n",
              "      <th>4</th>\n",
              "      <td>1</td>\n",
              "      <td>25.0063</td>\n",
              "      <td>0.6207</td>\n",
              "      <td>60.0</td>\n",
              "      <td>462.54</td>\n",
              "      <td>536.10</td>\n",
              "      <td>1255.23</td>\n",
              "      <td>1033.59</td>\n",
              "      <td>7.05</td>\n",
              "      <td>9.00</td>\n",
              "      <td>...</td>\n",
              "      <td>2028.08</td>\n",
              "      <td>7865.80</td>\n",
              "      <td>10.8366</td>\n",
              "      <td>0.02</td>\n",
              "      <td>305</td>\n",
              "      <td>1915</td>\n",
              "      <td>84.93</td>\n",
              "      <td>14.03</td>\n",
              "      <td>8.6754</td>\n",
              "      <td>316.0</td>\n",
              "    </tr>\n",
              "  </tbody>\n",
              "</table>\n",
              "<p>5 rows × 26 columns</p>\n",
              "</div>"
            ],
            "text/plain": [
              "   unit  setting1  setting2  setting3  sensor1  sensor2  sensor3  sensor4  \\\n",
              "0     1   42.0049    0.8400     100.0   445.00   549.68  1343.43  1112.93   \n",
              "1     1   20.0020    0.7002     100.0   491.19   606.07  1477.61  1237.50   \n",
              "2     1   42.0038    0.8409     100.0   445.00   548.95  1343.12  1117.05   \n",
              "3     1   42.0000    0.8400     100.0   445.00   548.70  1341.24  1118.03   \n",
              "4     1   25.0063    0.6207      60.0   462.54   536.10  1255.23  1033.59   \n",
              "\n",
              "   sensor5  sensor6  ...  sensor13  sensor14  sensor15  sensor16  sensor17  \\\n",
              "0     3.91     5.70  ...   2387.99   8074.83    9.3335      0.02       330   \n",
              "1     9.35    13.61  ...   2387.73   8046.13    9.1913      0.02       361   \n",
              "2     3.91     5.69  ...   2387.97   8066.62    9.4007      0.02       329   \n",
              "3     3.91     5.70  ...   2388.02   8076.05    9.3369      0.02       328   \n",
              "4     7.05     9.00  ...   2028.08   7865.80   10.8366      0.02       305   \n",
              "\n",
              "   sensor18  sensor19  sensor20  sensor21    RUL  \n",
              "0      2212    100.00     10.62    6.3670  320.0  \n",
              "1      2324    100.00     24.37   14.6552  319.0  \n",
              "2      2212    100.00     10.48    6.4213  318.0  \n",
              "3      2212    100.00     10.54    6.4176  317.0  \n",
              "4      1915     84.93     14.03    8.6754  316.0  \n",
              "\n",
              "[5 rows x 26 columns]"
            ]
          },
          "execution_count": 68,
          "metadata": {},
          "output_type": "execute_result"
        }
      ],
      "source": [
        "train_enc.head()"
      ]
    },
    {
      "cell_type": "code",
      "execution_count": 69,
      "metadata": {},
      "outputs": [
        {
          "data": {
            "text/html": [
              "<div>\n",
              "<style scoped>\n",
              "    .dataframe tbody tr th:only-of-type {\n",
              "        vertical-align: middle;\n",
              "    }\n",
              "\n",
              "    .dataframe tbody tr th {\n",
              "        vertical-align: top;\n",
              "    }\n",
              "\n",
              "    .dataframe thead th {\n",
              "        text-align: right;\n",
              "    }\n",
              "</style>\n",
              "<table border=\"1\" class=\"dataframe\">\n",
              "  <thead>\n",
              "    <tr style=\"text-align: right;\">\n",
              "      <th></th>\n",
              "      <th>unit</th>\n",
              "      <th>setting1</th>\n",
              "      <th>setting2</th>\n",
              "      <th>setting3</th>\n",
              "      <th>sensor1</th>\n",
              "      <th>sensor2</th>\n",
              "      <th>sensor3</th>\n",
              "      <th>sensor4</th>\n",
              "      <th>sensor5</th>\n",
              "      <th>sensor6</th>\n",
              "      <th>...</th>\n",
              "      <th>sensor12</th>\n",
              "      <th>sensor13</th>\n",
              "      <th>sensor14</th>\n",
              "      <th>sensor15</th>\n",
              "      <th>sensor16</th>\n",
              "      <th>sensor17</th>\n",
              "      <th>sensor18</th>\n",
              "      <th>sensor19</th>\n",
              "      <th>sensor20</th>\n",
              "      <th>sensor21</th>\n",
              "    </tr>\n",
              "  </thead>\n",
              "  <tbody>\n",
              "    <tr>\n",
              "      <th>0</th>\n",
              "      <td>1</td>\n",
              "      <td>42.0049</td>\n",
              "      <td>0.8400</td>\n",
              "      <td>100.0</td>\n",
              "      <td>445.00</td>\n",
              "      <td>549.68</td>\n",
              "      <td>1343.43</td>\n",
              "      <td>1112.93</td>\n",
              "      <td>3.91</td>\n",
              "      <td>5.70</td>\n",
              "      <td>...</td>\n",
              "      <td>129.78</td>\n",
              "      <td>2387.99</td>\n",
              "      <td>8074.83</td>\n",
              "      <td>9.3335</td>\n",
              "      <td>0.02</td>\n",
              "      <td>330</td>\n",
              "      <td>2212</td>\n",
              "      <td>100.00</td>\n",
              "      <td>10.62</td>\n",
              "      <td>6.3670</td>\n",
              "    </tr>\n",
              "    <tr>\n",
              "      <th>1</th>\n",
              "      <td>1</td>\n",
              "      <td>20.0020</td>\n",
              "      <td>0.7002</td>\n",
              "      <td>100.0</td>\n",
              "      <td>491.19</td>\n",
              "      <td>606.07</td>\n",
              "      <td>1477.61</td>\n",
              "      <td>1237.50</td>\n",
              "      <td>9.35</td>\n",
              "      <td>13.61</td>\n",
              "      <td>...</td>\n",
              "      <td>312.59</td>\n",
              "      <td>2387.73</td>\n",
              "      <td>8046.13</td>\n",
              "      <td>9.1913</td>\n",
              "      <td>0.02</td>\n",
              "      <td>361</td>\n",
              "      <td>2324</td>\n",
              "      <td>100.00</td>\n",
              "      <td>24.37</td>\n",
              "      <td>14.6552</td>\n",
              "    </tr>\n",
              "    <tr>\n",
              "      <th>2</th>\n",
              "      <td>1</td>\n",
              "      <td>42.0038</td>\n",
              "      <td>0.8409</td>\n",
              "      <td>100.0</td>\n",
              "      <td>445.00</td>\n",
              "      <td>548.95</td>\n",
              "      <td>1343.12</td>\n",
              "      <td>1117.05</td>\n",
              "      <td>3.91</td>\n",
              "      <td>5.69</td>\n",
              "      <td>...</td>\n",
              "      <td>129.62</td>\n",
              "      <td>2387.97</td>\n",
              "      <td>8066.62</td>\n",
              "      <td>9.4007</td>\n",
              "      <td>0.02</td>\n",
              "      <td>329</td>\n",
              "      <td>2212</td>\n",
              "      <td>100.00</td>\n",
              "      <td>10.48</td>\n",
              "      <td>6.4213</td>\n",
              "    </tr>\n",
              "    <tr>\n",
              "      <th>3</th>\n",
              "      <td>1</td>\n",
              "      <td>42.0000</td>\n",
              "      <td>0.8400</td>\n",
              "      <td>100.0</td>\n",
              "      <td>445.00</td>\n",
              "      <td>548.70</td>\n",
              "      <td>1341.24</td>\n",
              "      <td>1118.03</td>\n",
              "      <td>3.91</td>\n",
              "      <td>5.70</td>\n",
              "      <td>...</td>\n",
              "      <td>129.80</td>\n",
              "      <td>2388.02</td>\n",
              "      <td>8076.05</td>\n",
              "      <td>9.3369</td>\n",
              "      <td>0.02</td>\n",
              "      <td>328</td>\n",
              "      <td>2212</td>\n",
              "      <td>100.00</td>\n",
              "      <td>10.54</td>\n",
              "      <td>6.4176</td>\n",
              "    </tr>\n",
              "    <tr>\n",
              "      <th>4</th>\n",
              "      <td>1</td>\n",
              "      <td>25.0063</td>\n",
              "      <td>0.6207</td>\n",
              "      <td>60.0</td>\n",
              "      <td>462.54</td>\n",
              "      <td>536.10</td>\n",
              "      <td>1255.23</td>\n",
              "      <td>1033.59</td>\n",
              "      <td>7.05</td>\n",
              "      <td>9.00</td>\n",
              "      <td>...</td>\n",
              "      <td>164.11</td>\n",
              "      <td>2028.08</td>\n",
              "      <td>7865.80</td>\n",
              "      <td>10.8366</td>\n",
              "      <td>0.02</td>\n",
              "      <td>305</td>\n",
              "      <td>1915</td>\n",
              "      <td>84.93</td>\n",
              "      <td>14.03</td>\n",
              "      <td>8.6754</td>\n",
              "    </tr>\n",
              "  </tbody>\n",
              "</table>\n",
              "<p>5 rows × 25 columns</p>\n",
              "</div>"
            ],
            "text/plain": [
              "   unit  setting1  setting2  setting3  sensor1  sensor2  sensor3  sensor4  \\\n",
              "0     1   42.0049    0.8400     100.0   445.00   549.68  1343.43  1112.93   \n",
              "1     1   20.0020    0.7002     100.0   491.19   606.07  1477.61  1237.50   \n",
              "2     1   42.0038    0.8409     100.0   445.00   548.95  1343.12  1117.05   \n",
              "3     1   42.0000    0.8400     100.0   445.00   548.70  1341.24  1118.03   \n",
              "4     1   25.0063    0.6207      60.0   462.54   536.10  1255.23  1033.59   \n",
              "\n",
              "   sensor5  sensor6  ...  sensor12  sensor13  sensor14  sensor15  sensor16  \\\n",
              "0     3.91     5.70  ...    129.78   2387.99   8074.83    9.3335      0.02   \n",
              "1     9.35    13.61  ...    312.59   2387.73   8046.13    9.1913      0.02   \n",
              "2     3.91     5.69  ...    129.62   2387.97   8066.62    9.4007      0.02   \n",
              "3     3.91     5.70  ...    129.80   2388.02   8076.05    9.3369      0.02   \n",
              "4     7.05     9.00  ...    164.11   2028.08   7865.80   10.8366      0.02   \n",
              "\n",
              "   sensor17  sensor18  sensor19  sensor20  sensor21  \n",
              "0       330      2212    100.00     10.62    6.3670  \n",
              "1       361      2324    100.00     24.37   14.6552  \n",
              "2       329      2212    100.00     10.48    6.4213  \n",
              "3       328      2212    100.00     10.54    6.4176  \n",
              "4       305      1915     84.93     14.03    8.6754  \n",
              "\n",
              "[5 rows x 25 columns]"
            ]
          },
          "execution_count": 69,
          "metadata": {},
          "output_type": "execute_result"
        }
      ],
      "source": [
        "rul_train = train_enc.loc[:, 'RUL']\n",
        "rul_train.columns = ['RUL']\n",
        "train_enc = train_enc.drop(columns=['RUL'])\n",
        "train_enc.head()"
      ]
    },
    {
      "cell_type": "code",
      "execution_count": 70,
      "metadata": {},
      "outputs": [
        {
          "data": {
            "text/html": [
              "<div>\n",
              "<style scoped>\n",
              "    .dataframe tbody tr th:only-of-type {\n",
              "        vertical-align: middle;\n",
              "    }\n",
              "\n",
              "    .dataframe tbody tr th {\n",
              "        vertical-align: top;\n",
              "    }\n",
              "\n",
              "    .dataframe thead th {\n",
              "        text-align: right;\n",
              "    }\n",
              "</style>\n",
              "<table border=\"1\" class=\"dataframe\">\n",
              "  <thead>\n",
              "    <tr style=\"text-align: right;\">\n",
              "      <th></th>\n",
              "      <th>unit</th>\n",
              "      <th>setting1</th>\n",
              "      <th>setting2</th>\n",
              "      <th>setting3</th>\n",
              "      <th>sensor1</th>\n",
              "      <th>sensor2</th>\n",
              "      <th>sensor3</th>\n",
              "      <th>sensor4</th>\n",
              "      <th>sensor5</th>\n",
              "      <th>sensor6</th>\n",
              "      <th>...</th>\n",
              "      <th>sensor12</th>\n",
              "      <th>sensor13</th>\n",
              "      <th>sensor14</th>\n",
              "      <th>sensor15</th>\n",
              "      <th>sensor16</th>\n",
              "      <th>sensor17</th>\n",
              "      <th>sensor18</th>\n",
              "      <th>sensor19</th>\n",
              "      <th>sensor20</th>\n",
              "      <th>sensor21</th>\n",
              "    </tr>\n",
              "  </thead>\n",
              "  <tbody>\n",
              "    <tr>\n",
              "      <th>0</th>\n",
              "      <td>1</td>\n",
              "      <td>20.0072</td>\n",
              "      <td>0.7000</td>\n",
              "      <td>100.0</td>\n",
              "      <td>491.19</td>\n",
              "      <td>606.67</td>\n",
              "      <td>1481.04</td>\n",
              "      <td>1227.81</td>\n",
              "      <td>9.35</td>\n",
              "      <td>13.60</td>\n",
              "      <td>...</td>\n",
              "      <td>313.03</td>\n",
              "      <td>2387.78</td>\n",
              "      <td>8048.98</td>\n",
              "      <td>9.2229</td>\n",
              "      <td>0.02</td>\n",
              "      <td>362</td>\n",
              "      <td>2324</td>\n",
              "      <td>100.00</td>\n",
              "      <td>24.31</td>\n",
              "      <td>14.7007</td>\n",
              "    </tr>\n",
              "    <tr>\n",
              "      <th>1</th>\n",
              "      <td>1</td>\n",
              "      <td>24.9984</td>\n",
              "      <td>0.6200</td>\n",
              "      <td>60.0</td>\n",
              "      <td>462.54</td>\n",
              "      <td>536.22</td>\n",
              "      <td>1256.17</td>\n",
              "      <td>1031.48</td>\n",
              "      <td>7.05</td>\n",
              "      <td>9.00</td>\n",
              "      <td>...</td>\n",
              "      <td>163.61</td>\n",
              "      <td>2028.09</td>\n",
              "      <td>7863.46</td>\n",
              "      <td>10.8632</td>\n",
              "      <td>0.02</td>\n",
              "      <td>306</td>\n",
              "      <td>1915</td>\n",
              "      <td>84.93</td>\n",
              "      <td>14.36</td>\n",
              "      <td>8.5748</td>\n",
              "    </tr>\n",
              "    <tr>\n",
              "      <th>2</th>\n",
              "      <td>1</td>\n",
              "      <td>42.0000</td>\n",
              "      <td>0.8420</td>\n",
              "      <td>100.0</td>\n",
              "      <td>445.00</td>\n",
              "      <td>549.23</td>\n",
              "      <td>1340.13</td>\n",
              "      <td>1105.88</td>\n",
              "      <td>3.91</td>\n",
              "      <td>5.69</td>\n",
              "      <td>...</td>\n",
              "      <td>129.98</td>\n",
              "      <td>2387.95</td>\n",
              "      <td>8071.13</td>\n",
              "      <td>9.3960</td>\n",
              "      <td>0.02</td>\n",
              "      <td>328</td>\n",
              "      <td>2212</td>\n",
              "      <td>100.00</td>\n",
              "      <td>10.39</td>\n",
              "      <td>6.4365</td>\n",
              "    </tr>\n",
              "    <tr>\n",
              "      <th>3</th>\n",
              "      <td>1</td>\n",
              "      <td>42.0035</td>\n",
              "      <td>0.8402</td>\n",
              "      <td>100.0</td>\n",
              "      <td>445.00</td>\n",
              "      <td>549.19</td>\n",
              "      <td>1339.70</td>\n",
              "      <td>1107.26</td>\n",
              "      <td>3.91</td>\n",
              "      <td>5.69</td>\n",
              "      <td>...</td>\n",
              "      <td>129.48</td>\n",
              "      <td>2387.90</td>\n",
              "      <td>8078.89</td>\n",
              "      <td>9.3594</td>\n",
              "      <td>0.02</td>\n",
              "      <td>328</td>\n",
              "      <td>2212</td>\n",
              "      <td>100.00</td>\n",
              "      <td>10.56</td>\n",
              "      <td>6.2367</td>\n",
              "    </tr>\n",
              "    <tr>\n",
              "      <th>4</th>\n",
              "      <td>1</td>\n",
              "      <td>35.0079</td>\n",
              "      <td>0.8400</td>\n",
              "      <td>100.0</td>\n",
              "      <td>449.44</td>\n",
              "      <td>555.10</td>\n",
              "      <td>1353.04</td>\n",
              "      <td>1117.80</td>\n",
              "      <td>5.48</td>\n",
              "      <td>7.97</td>\n",
              "      <td>...</td>\n",
              "      <td>181.82</td>\n",
              "      <td>2387.87</td>\n",
              "      <td>8057.83</td>\n",
              "      <td>9.3030</td>\n",
              "      <td>0.02</td>\n",
              "      <td>333</td>\n",
              "      <td>2223</td>\n",
              "      <td>100.00</td>\n",
              "      <td>14.85</td>\n",
              "      <td>8.9326</td>\n",
              "    </tr>\n",
              "  </tbody>\n",
              "</table>\n",
              "<p>5 rows × 25 columns</p>\n",
              "</div>"
            ],
            "text/plain": [
              "   unit  setting1  setting2  setting3  sensor1  sensor2  sensor3  sensor4  \\\n",
              "0     1   20.0072    0.7000     100.0   491.19   606.67  1481.04  1227.81   \n",
              "1     1   24.9984    0.6200      60.0   462.54   536.22  1256.17  1031.48   \n",
              "2     1   42.0000    0.8420     100.0   445.00   549.23  1340.13  1105.88   \n",
              "3     1   42.0035    0.8402     100.0   445.00   549.19  1339.70  1107.26   \n",
              "4     1   35.0079    0.8400     100.0   449.44   555.10  1353.04  1117.80   \n",
              "\n",
              "   sensor5  sensor6  ...  sensor12  sensor13  sensor14  sensor15  sensor16  \\\n",
              "0     9.35    13.60  ...    313.03   2387.78   8048.98    9.2229      0.02   \n",
              "1     7.05     9.00  ...    163.61   2028.09   7863.46   10.8632      0.02   \n",
              "2     3.91     5.69  ...    129.98   2387.95   8071.13    9.3960      0.02   \n",
              "3     3.91     5.69  ...    129.48   2387.90   8078.89    9.3594      0.02   \n",
              "4     5.48     7.97  ...    181.82   2387.87   8057.83    9.3030      0.02   \n",
              "\n",
              "   sensor17  sensor18  sensor19  sensor20  sensor21  \n",
              "0       362      2324    100.00     24.31   14.7007  \n",
              "1       306      1915     84.93     14.36    8.5748  \n",
              "2       328      2212    100.00     10.39    6.4365  \n",
              "3       328      2212    100.00     10.56    6.2367  \n",
              "4       333      2223    100.00     14.85    8.9326  \n",
              "\n",
              "[5 rows x 25 columns]"
            ]
          },
          "execution_count": 70,
          "metadata": {},
          "output_type": "execute_result"
        }
      ],
      "source": [
        "rul_test = test_enc.loc[:, 'RUL']\n",
        "test_enc = test_enc.drop(columns=['RUL'])\n",
        "test_enc.head()"
      ]
    },
    {
      "cell_type": "code",
      "execution_count": 72,
      "metadata": {},
      "outputs": [
        {
          "data": {
            "text/html": [
              "<div>\n",
              "<style scoped>\n",
              "    .dataframe tbody tr th:only-of-type {\n",
              "        vertical-align: middle;\n",
              "    }\n",
              "\n",
              "    .dataframe tbody tr th {\n",
              "        vertical-align: top;\n",
              "    }\n",
              "\n",
              "    .dataframe thead th {\n",
              "        text-align: right;\n",
              "    }\n",
              "</style>\n",
              "<table border=\"1\" class=\"dataframe\">\n",
              "  <thead>\n",
              "    <tr style=\"text-align: right;\">\n",
              "      <th></th>\n",
              "      <th>unit</th>\n",
              "      <th>cycle</th>\n",
              "      <th>setting1</th>\n",
              "      <th>setting2</th>\n",
              "      <th>setting3</th>\n",
              "      <th>sensor1</th>\n",
              "      <th>sensor2</th>\n",
              "      <th>sensor3</th>\n",
              "      <th>sensor4</th>\n",
              "      <th>sensor5</th>\n",
              "      <th>...</th>\n",
              "      <th>sensor13</th>\n",
              "      <th>sensor14</th>\n",
              "      <th>sensor15</th>\n",
              "      <th>sensor16</th>\n",
              "      <th>sensor17</th>\n",
              "      <th>sensor18</th>\n",
              "      <th>sensor19</th>\n",
              "      <th>sensor20</th>\n",
              "      <th>sensor21</th>\n",
              "      <th>RUL</th>\n",
              "    </tr>\n",
              "  </thead>\n",
              "  <tbody>\n",
              "    <tr>\n",
              "      <th>0</th>\n",
              "      <td>1</td>\n",
              "      <td>1</td>\n",
              "      <td>42.0049</td>\n",
              "      <td>0.8400</td>\n",
              "      <td>100.0</td>\n",
              "      <td>445.00</td>\n",
              "      <td>549.68</td>\n",
              "      <td>1343.43</td>\n",
              "      <td>1112.93</td>\n",
              "      <td>3.91</td>\n",
              "      <td>...</td>\n",
              "      <td>2387.99</td>\n",
              "      <td>8074.83</td>\n",
              "      <td>9.3335</td>\n",
              "      <td>0.02</td>\n",
              "      <td>330</td>\n",
              "      <td>2212</td>\n",
              "      <td>100.00</td>\n",
              "      <td>10.62</td>\n",
              "      <td>6.3670</td>\n",
              "      <td>320.0</td>\n",
              "    </tr>\n",
              "    <tr>\n",
              "      <th>1</th>\n",
              "      <td>1</td>\n",
              "      <td>2</td>\n",
              "      <td>20.0020</td>\n",
              "      <td>0.7002</td>\n",
              "      <td>100.0</td>\n",
              "      <td>491.19</td>\n",
              "      <td>606.07</td>\n",
              "      <td>1477.61</td>\n",
              "      <td>1237.50</td>\n",
              "      <td>9.35</td>\n",
              "      <td>...</td>\n",
              "      <td>2387.73</td>\n",
              "      <td>8046.13</td>\n",
              "      <td>9.1913</td>\n",
              "      <td>0.02</td>\n",
              "      <td>361</td>\n",
              "      <td>2324</td>\n",
              "      <td>100.00</td>\n",
              "      <td>24.37</td>\n",
              "      <td>14.6552</td>\n",
              "      <td>319.0</td>\n",
              "    </tr>\n",
              "    <tr>\n",
              "      <th>2</th>\n",
              "      <td>1</td>\n",
              "      <td>3</td>\n",
              "      <td>42.0038</td>\n",
              "      <td>0.8409</td>\n",
              "      <td>100.0</td>\n",
              "      <td>445.00</td>\n",
              "      <td>548.95</td>\n",
              "      <td>1343.12</td>\n",
              "      <td>1117.05</td>\n",
              "      <td>3.91</td>\n",
              "      <td>...</td>\n",
              "      <td>2387.97</td>\n",
              "      <td>8066.62</td>\n",
              "      <td>9.4007</td>\n",
              "      <td>0.02</td>\n",
              "      <td>329</td>\n",
              "      <td>2212</td>\n",
              "      <td>100.00</td>\n",
              "      <td>10.48</td>\n",
              "      <td>6.4213</td>\n",
              "      <td>318.0</td>\n",
              "    </tr>\n",
              "    <tr>\n",
              "      <th>3</th>\n",
              "      <td>1</td>\n",
              "      <td>4</td>\n",
              "      <td>42.0000</td>\n",
              "      <td>0.8400</td>\n",
              "      <td>100.0</td>\n",
              "      <td>445.00</td>\n",
              "      <td>548.70</td>\n",
              "      <td>1341.24</td>\n",
              "      <td>1118.03</td>\n",
              "      <td>3.91</td>\n",
              "      <td>...</td>\n",
              "      <td>2388.02</td>\n",
              "      <td>8076.05</td>\n",
              "      <td>9.3369</td>\n",
              "      <td>0.02</td>\n",
              "      <td>328</td>\n",
              "      <td>2212</td>\n",
              "      <td>100.00</td>\n",
              "      <td>10.54</td>\n",
              "      <td>6.4176</td>\n",
              "      <td>317.0</td>\n",
              "    </tr>\n",
              "    <tr>\n",
              "      <th>4</th>\n",
              "      <td>1</td>\n",
              "      <td>5</td>\n",
              "      <td>25.0063</td>\n",
              "      <td>0.6207</td>\n",
              "      <td>60.0</td>\n",
              "      <td>462.54</td>\n",
              "      <td>536.10</td>\n",
              "      <td>1255.23</td>\n",
              "      <td>1033.59</td>\n",
              "      <td>7.05</td>\n",
              "      <td>...</td>\n",
              "      <td>2028.08</td>\n",
              "      <td>7865.80</td>\n",
              "      <td>10.8366</td>\n",
              "      <td>0.02</td>\n",
              "      <td>305</td>\n",
              "      <td>1915</td>\n",
              "      <td>84.93</td>\n",
              "      <td>14.03</td>\n",
              "      <td>8.6754</td>\n",
              "      <td>316.0</td>\n",
              "    </tr>\n",
              "  </tbody>\n",
              "</table>\n",
              "<p>5 rows × 27 columns</p>\n",
              "</div>"
            ],
            "text/plain": [
              "   unit  cycle  setting1  setting2  setting3  sensor1  sensor2  sensor3  \\\n",
              "0     1      1   42.0049    0.8400     100.0   445.00   549.68  1343.43   \n",
              "1     1      2   20.0020    0.7002     100.0   491.19   606.07  1477.61   \n",
              "2     1      3   42.0038    0.8409     100.0   445.00   548.95  1343.12   \n",
              "3     1      4   42.0000    0.8400     100.0   445.00   548.70  1341.24   \n",
              "4     1      5   25.0063    0.6207      60.0   462.54   536.10  1255.23   \n",
              "\n",
              "   sensor4  sensor5  ...  sensor13  sensor14  sensor15  sensor16  sensor17  \\\n",
              "0  1112.93     3.91  ...   2387.99   8074.83    9.3335      0.02       330   \n",
              "1  1237.50     9.35  ...   2387.73   8046.13    9.1913      0.02       361   \n",
              "2  1117.05     3.91  ...   2387.97   8066.62    9.4007      0.02       329   \n",
              "3  1118.03     3.91  ...   2388.02   8076.05    9.3369      0.02       328   \n",
              "4  1033.59     7.05  ...   2028.08   7865.80   10.8366      0.02       305   \n",
              "\n",
              "   sensor18  sensor19  sensor20  sensor21    RUL  \n",
              "0      2212    100.00     10.62    6.3670  320.0  \n",
              "1      2324    100.00     24.37   14.6552  319.0  \n",
              "2      2212    100.00     10.48    6.4213  318.0  \n",
              "3      2212    100.00     10.54    6.4176  317.0  \n",
              "4      1915     84.93     14.03    8.6754  316.0  \n",
              "\n",
              "[5 rows x 27 columns]"
            ]
          },
          "execution_count": 72,
          "metadata": {},
          "output_type": "execute_result"
        }
      ],
      "source": [
        "train.head()"
      ]
    },
    {
      "cell_type": "code",
      "execution_count": 73,
      "metadata": {
        "colab": {
          "base_uri": "https://localhost:8080/",
          "height": 609,
          "referenced_widgets": [
            "ec1b186d46744a569079aa21179af143",
            "4da7aab19d0a4623b37eb8fcf7b72f55"
          ]
        },
        "id": "-PDQLI3GzS70",
        "outputId": "b3b7f26e-18f0-4dc6-e016-05bcd259fa3f"
      },
      "outputs": [
        {
          "name": "stderr",
          "output_type": "stream",
          "text": [
            "Seed set to 42\n"
          ]
        },
        {
          "data": {
            "text/html": [
              "<pre style=\"white-space:pre;overflow-x:auto;line-height:normal;font-family:Menlo,'DejaVu Sans Mono',consolas,'Courier New',monospace\"><span style=\"color: #008080; text-decoration-color: #008080; font-weight: bold\">2024</span>-<span style=\"color: #008080; text-decoration-color: #008080; font-weight: bold\">09</span>-<span style=\"color: #008080; text-decoration-color: #008080; font-weight: bold\">01</span> <span style=\"color: #00ff00; text-decoration-color: #00ff00; font-weight: bold\">10:35:56</span>,<span style=\"color: #008080; text-decoration-color: #008080; font-weight: bold\">248</span> - <span style=\"font-weight: bold\">{</span>pytorch_tabular.tabular_model:<span style=\"color: #008080; text-decoration-color: #008080; font-weight: bold\">524</span><span style=\"font-weight: bold\">}</span> - INFO - Preparing the DataLoaders                   \n",
              "</pre>\n"
            ],
            "text/plain": [
              "\u001b[1;36m2024\u001b[0m-\u001b[1;36m09\u001b[0m-\u001b[1;36m01\u001b[0m \u001b[1;92m10:35:56\u001b[0m,\u001b[1;36m248\u001b[0m - \u001b[1m{\u001b[0mpytorch_tabular.tabular_model:\u001b[1;36m524\u001b[0m\u001b[1m}\u001b[0m - INFO - Preparing the DataLoaders                   \n"
            ]
          },
          "metadata": {},
          "output_type": "display_data"
        },
        {
          "data": {
            "text/html": [
              "<pre style=\"white-space:pre;overflow-x:auto;line-height:normal;font-family:Menlo,'DejaVu Sans Mono',consolas,'Courier New',monospace\"><span style=\"color: #008080; text-decoration-color: #008080; font-weight: bold\">2024</span>-<span style=\"color: #008080; text-decoration-color: #008080; font-weight: bold\">09</span>-<span style=\"color: #008080; text-decoration-color: #008080; font-weight: bold\">01</span> <span style=\"color: #00ff00; text-decoration-color: #00ff00; font-weight: bold\">10:35:56</span>,<span style=\"color: #008080; text-decoration-color: #008080; font-weight: bold\">272</span> - <span style=\"font-weight: bold\">{</span>pytorch_tabular.tabular_datamodul<span style=\"color: #00ff00; text-decoration-color: #00ff00; font-weight: bold\">e:499</span><span style=\"font-weight: bold\">}</span> - INFO - Setting up the datamodule for          \n",
              "regression task                                                                                                    \n",
              "</pre>\n"
            ],
            "text/plain": [
              "\u001b[1;36m2024\u001b[0m-\u001b[1;36m09\u001b[0m-\u001b[1;36m01\u001b[0m \u001b[1;92m10:35:56\u001b[0m,\u001b[1;36m272\u001b[0m - \u001b[1m{\u001b[0mpytorch_tabular.tabular_datamodul\u001b[1;92me:499\u001b[0m\u001b[1m}\u001b[0m - INFO - Setting up the datamodule for          \n",
              "regression task                                                                                                    \n"
            ]
          },
          "metadata": {},
          "output_type": "display_data"
        },
        {
          "data": {
            "text/html": [
              "<pre style=\"white-space:pre;overflow-x:auto;line-height:normal;font-family:Menlo,'DejaVu Sans Mono',consolas,'Courier New',monospace\"><span style=\"color: #008080; text-decoration-color: #008080; font-weight: bold\">2024</span>-<span style=\"color: #008080; text-decoration-color: #008080; font-weight: bold\">09</span>-<span style=\"color: #008080; text-decoration-color: #008080; font-weight: bold\">01</span> <span style=\"color: #00ff00; text-decoration-color: #00ff00; font-weight: bold\">10:35:56</span>,<span style=\"color: #008080; text-decoration-color: #008080; font-weight: bold\">398</span> - <span style=\"font-weight: bold\">{</span>pytorch_tabular.tabular_model:<span style=\"color: #008080; text-decoration-color: #008080; font-weight: bold\">574</span><span style=\"font-weight: bold\">}</span> - INFO - Preparing the Model: TabTransformerModel    \n",
              "</pre>\n"
            ],
            "text/plain": [
              "\u001b[1;36m2024\u001b[0m-\u001b[1;36m09\u001b[0m-\u001b[1;36m01\u001b[0m \u001b[1;92m10:35:56\u001b[0m,\u001b[1;36m398\u001b[0m - \u001b[1m{\u001b[0mpytorch_tabular.tabular_model:\u001b[1;36m574\u001b[0m\u001b[1m}\u001b[0m - INFO - Preparing the Model: TabTransformerModel    \n"
            ]
          },
          "metadata": {},
          "output_type": "display_data"
        },
        {
          "data": {
            "text/html": [
              "<pre style=\"white-space:pre;overflow-x:auto;line-height:normal;font-family:Menlo,'DejaVu Sans Mono',consolas,'Courier New',monospace\"><span style=\"color: #008080; text-decoration-color: #008080; font-weight: bold\">2024</span>-<span style=\"color: #008080; text-decoration-color: #008080; font-weight: bold\">09</span>-<span style=\"color: #008080; text-decoration-color: #008080; font-weight: bold\">01</span> <span style=\"color: #00ff00; text-decoration-color: #00ff00; font-weight: bold\">10:35:56</span>,<span style=\"color: #008080; text-decoration-color: #008080; font-weight: bold\">445</span> - <span style=\"font-weight: bold\">{</span>pytorch_tabular.tabular_model:<span style=\"color: #008080; text-decoration-color: #008080; font-weight: bold\">340</span><span style=\"font-weight: bold\">}</span> - INFO - Preparing the Trainer                       \n",
              "</pre>\n"
            ],
            "text/plain": [
              "\u001b[1;36m2024\u001b[0m-\u001b[1;36m09\u001b[0m-\u001b[1;36m01\u001b[0m \u001b[1;92m10:35:56\u001b[0m,\u001b[1;36m445\u001b[0m - \u001b[1m{\u001b[0mpytorch_tabular.tabular_model:\u001b[1;36m340\u001b[0m\u001b[1m}\u001b[0m - INFO - Preparing the Trainer                       \n"
            ]
          },
          "metadata": {},
          "output_type": "display_data"
        },
        {
          "name": "stderr",
          "output_type": "stream",
          "text": [
            "GPU available: False, used: False\n",
            "TPU available: False, using: 0 TPU cores\n",
            "IPU available: False, using: 0 IPUs\n",
            "HPU available: False, using: 0 HPUs\n"
          ]
        },
        {
          "data": {
            "text/html": [
              "<pre style=\"white-space:pre;overflow-x:auto;line-height:normal;font-family:Menlo,'DejaVu Sans Mono',consolas,'Courier New',monospace\"><span style=\"color: #008080; text-decoration-color: #008080; font-weight: bold\">2024</span>-<span style=\"color: #008080; text-decoration-color: #008080; font-weight: bold\">09</span>-<span style=\"color: #008080; text-decoration-color: #008080; font-weight: bold\">01</span> <span style=\"color: #00ff00; text-decoration-color: #00ff00; font-weight: bold\">10:35:56</span>,<span style=\"color: #008080; text-decoration-color: #008080; font-weight: bold\">472</span> - <span style=\"font-weight: bold\">{</span>pytorch_tabular.tabular_model:<span style=\"color: #008080; text-decoration-color: #008080; font-weight: bold\">652</span><span style=\"font-weight: bold\">}</span> - INFO - Training Started                            \n",
              "</pre>\n"
            ],
            "text/plain": [
              "\u001b[1;36m2024\u001b[0m-\u001b[1;36m09\u001b[0m-\u001b[1;36m01\u001b[0m \u001b[1;92m10:35:56\u001b[0m,\u001b[1;36m472\u001b[0m - \u001b[1m{\u001b[0mpytorch_tabular.tabular_model:\u001b[1;36m652\u001b[0m\u001b[1m}\u001b[0m - INFO - Training Started                            \n"
            ]
          },
          "metadata": {},
          "output_type": "display_data"
        },
        {
          "data": {
            "text/html": [
              "<pre style=\"white-space:pre;overflow-x:auto;line-height:normal;font-family:Menlo,'DejaVu Sans Mono',consolas,'Courier New',monospace\">┏━━━┳━━━━━━━━━━━━━━━━━━┳━━━━━━━━━━━━━━━━━━━━━━━━┳━━━━━━━━┓\n",
              "┃<span style=\"color: #800080; text-decoration-color: #800080; font-weight: bold\">   </span>┃<span style=\"color: #800080; text-decoration-color: #800080; font-weight: bold\"> Name             </span>┃<span style=\"color: #800080; text-decoration-color: #800080; font-weight: bold\"> Type                   </span>┃<span style=\"color: #800080; text-decoration-color: #800080; font-weight: bold\"> Params </span>┃\n",
              "┡━━━╇━━━━━━━━━━━━━━━━━━╇━━━━━━━━━━━━━━━━━━━━━━━━╇━━━━━━━━┩\n",
              "│<span style=\"color: #7f7f7f; text-decoration-color: #7f7f7f\"> 0 </span>│ _backbone        │ TabTransformerBackbone │  271 K │\n",
              "│<span style=\"color: #7f7f7f; text-decoration-color: #7f7f7f\"> 1 </span>│ _embedding_layer │ Embedding2dLayer       │  8.0 K │\n",
              "│<span style=\"color: #7f7f7f; text-decoration-color: #7f7f7f\"> 2 </span>│ _head            │ LinearHead             │     57 │\n",
              "│<span style=\"color: #7f7f7f; text-decoration-color: #7f7f7f\"> 3 </span>│ loss             │ MSELoss                │      0 │\n",
              "└───┴──────────────────┴────────────────────────┴────────┘\n",
              "</pre>\n"
            ],
            "text/plain": [
              "┏━━━┳━━━━━━━━━━━━━━━━━━┳━━━━━━━━━━━━━━━━━━━━━━━━┳━━━━━━━━┓\n",
              "┃\u001b[1;35m \u001b[0m\u001b[1;35m \u001b[0m\u001b[1;35m \u001b[0m┃\u001b[1;35m \u001b[0m\u001b[1;35mName            \u001b[0m\u001b[1;35m \u001b[0m┃\u001b[1;35m \u001b[0m\u001b[1;35mType                  \u001b[0m\u001b[1;35m \u001b[0m┃\u001b[1;35m \u001b[0m\u001b[1;35mParams\u001b[0m\u001b[1;35m \u001b[0m┃\n",
              "┡━━━╇━━━━━━━━━━━━━━━━━━╇━━━━━━━━━━━━━━━━━━━━━━━━╇━━━━━━━━┩\n",
              "│\u001b[2m \u001b[0m\u001b[2m0\u001b[0m\u001b[2m \u001b[0m│ _backbone        │ TabTransformerBackbone │  271 K │\n",
              "│\u001b[2m \u001b[0m\u001b[2m1\u001b[0m\u001b[2m \u001b[0m│ _embedding_layer │ Embedding2dLayer       │  8.0 K │\n",
              "│\u001b[2m \u001b[0m\u001b[2m2\u001b[0m\u001b[2m \u001b[0m│ _head            │ LinearHead             │     57 │\n",
              "│\u001b[2m \u001b[0m\u001b[2m3\u001b[0m\u001b[2m \u001b[0m│ loss             │ MSELoss                │      0 │\n",
              "└───┴──────────────────┴────────────────────────┴────────┘\n"
            ]
          },
          "metadata": {},
          "output_type": "display_data"
        },
        {
          "data": {
            "text/html": [
              "<pre style=\"white-space:pre;overflow-x:auto;line-height:normal;font-family:Menlo,'DejaVu Sans Mono',consolas,'Courier New',monospace\"><span style=\"font-weight: bold\">Trainable params</span>: 279 K                                                                                            \n",
              "<span style=\"font-weight: bold\">Non-trainable params</span>: 0                                                                                            \n",
              "<span style=\"font-weight: bold\">Total params</span>: 279 K                                                                                                \n",
              "<span style=\"font-weight: bold\">Total estimated model params size (MB)</span>: 1                                                                          \n",
              "</pre>\n"
            ],
            "text/plain": [
              "\u001b[1mTrainable params\u001b[0m: 279 K                                                                                            \n",
              "\u001b[1mNon-trainable params\u001b[0m: 0                                                                                            \n",
              "\u001b[1mTotal params\u001b[0m: 279 K                                                                                                \n",
              "\u001b[1mTotal estimated model params size (MB)\u001b[0m: 1                                                                          \n"
            ]
          },
          "metadata": {},
          "output_type": "display_data"
        },
        {
          "data": {
            "application/vnd.jupyter.widget-view+json": {
              "model_id": "9b0471501d7d445e840c02eafaa4103a",
              "version_major": 2,
              "version_minor": 0
            },
            "text/plain": [
              "Output()"
            ]
          },
          "metadata": {},
          "output_type": "display_data"
        },
        {
          "name": "stderr",
          "output_type": "stream",
          "text": [
            "`Trainer.fit` stopped: `max_epochs=10` reached.\n"
          ]
        },
        {
          "data": {
            "text/html": [
              "<pre style=\"white-space:pre;overflow-x:auto;line-height:normal;font-family:Menlo,'DejaVu Sans Mono',consolas,'Courier New',monospace\"></pre>\n"
            ],
            "text/plain": []
          },
          "metadata": {},
          "output_type": "display_data"
        },
        {
          "data": {
            "text/html": [
              "<pre style=\"white-space:pre;overflow-x:auto;line-height:normal;font-family:Menlo,'DejaVu Sans Mono',consolas,'Courier New',monospace\">\n",
              "</pre>\n"
            ],
            "text/plain": [
              "\n"
            ]
          },
          "metadata": {},
          "output_type": "display_data"
        },
        {
          "data": {
            "text/html": [
              "<pre style=\"white-space:pre;overflow-x:auto;line-height:normal;font-family:Menlo,'DejaVu Sans Mono',consolas,'Courier New',monospace\"><span style=\"color: #008080; text-decoration-color: #008080; font-weight: bold\">2024</span>-<span style=\"color: #008080; text-decoration-color: #008080; font-weight: bold\">09</span>-<span style=\"color: #008080; text-decoration-color: #008080; font-weight: bold\">01</span> <span style=\"color: #00ff00; text-decoration-color: #00ff00; font-weight: bold\">10:48:09</span>,<span style=\"color: #008080; text-decoration-color: #008080; font-weight: bold\">432</span> - <span style=\"font-weight: bold\">{</span>pytorch_tabular.tabular_model:<span style=\"color: #008080; text-decoration-color: #008080; font-weight: bold\">663</span><span style=\"font-weight: bold\">}</span> - INFO - Training the model completed                \n",
              "</pre>\n"
            ],
            "text/plain": [
              "\u001b[1;36m2024\u001b[0m-\u001b[1;36m09\u001b[0m-\u001b[1;36m01\u001b[0m \u001b[1;92m10:48:09\u001b[0m,\u001b[1;36m432\u001b[0m - \u001b[1m{\u001b[0mpytorch_tabular.tabular_model:\u001b[1;36m663\u001b[0m\u001b[1m}\u001b[0m - INFO - Training the model completed                \n"
            ]
          },
          "metadata": {},
          "output_type": "display_data"
        },
        {
          "data": {
            "text/html": [
              "<pre style=\"white-space:pre;overflow-x:auto;line-height:normal;font-family:Menlo,'DejaVu Sans Mono',consolas,'Courier New',monospace\"><span style=\"color: #008080; text-decoration-color: #008080; font-weight: bold\">2024</span>-<span style=\"color: #008080; text-decoration-color: #008080; font-weight: bold\">09</span>-<span style=\"color: #008080; text-decoration-color: #008080; font-weight: bold\">01</span> <span style=\"color: #00ff00; text-decoration-color: #00ff00; font-weight: bold\">10:48:09</span>,<span style=\"color: #008080; text-decoration-color: #008080; font-weight: bold\">450</span> - <span style=\"font-weight: bold\">{</span>pytorch_tabular.tabular_model:<span style=\"color: #008080; text-decoration-color: #008080; font-weight: bold\">1489</span><span style=\"font-weight: bold\">}</span> - INFO - Loading the best model                     \n",
              "</pre>\n"
            ],
            "text/plain": [
              "\u001b[1;36m2024\u001b[0m-\u001b[1;36m09\u001b[0m-\u001b[1;36m01\u001b[0m \u001b[1;92m10:48:09\u001b[0m,\u001b[1;36m450\u001b[0m - \u001b[1m{\u001b[0mpytorch_tabular.tabular_model:\u001b[1;36m1489\u001b[0m\u001b[1m}\u001b[0m - INFO - Loading the best model                     \n"
            ]
          },
          "metadata": {},
          "output_type": "display_data"
        },
        {
          "data": {
            "text/plain": [
              "<pytorch_lightning.trainer.trainer.Trainer at 0x25fc280bca0>"
            ]
          },
          "execution_count": 73,
          "metadata": {},
          "output_type": "execute_result"
        }
      ],
      "source": [
        "# Huấn luyện mô hình\n",
        "\n",
        "tabular_model.fit(train)"
      ]
    },
    {
      "cell_type": "code",
      "execution_count": null,
      "metadata": {
        "colab": {
          "base_uri": "https://localhost:8080/",
          "height": 150,
          "referenced_widgets": [
            "b5097338b5ec427cbf1f5272303f078f",
            "5e9bde7dd9384ff3bdb1386863fac558"
          ]
        },
        "id": "VQXZalGkzWLF",
        "outputId": "57c845b3-d2ed-4ac5-8084-ba684fb35631"
      },
      "outputs": [],
      "source": [
        "# Đánh giá mô hình\n",
        "tabular_model.evaluate(test)"
      ]
    },
    {
      "cell_type": "code",
      "execution_count": null,
      "metadata": {
        "id": "GK0Dz56GzZCj"
      },
      "outputs": [],
      "source": [
        "# Dự đoán trên tập test\n",
        "test_pred = tabular_model.predict(test)"
      ]
    },
    {
      "cell_type": "code",
      "execution_count": null,
      "metadata": {
        "colab": {
          "base_uri": "https://localhost:8080/"
        },
        "id": "wXbe0vTWzcl6",
        "outputId": "43fea628-4b36-4b9e-d452-b1e7a09d1fe7"
      },
      "outputs": [],
      "source": [
        "# Tính toán và in lỗi MSE\n",
        "mse = mean_squared_error(test[target], test_pred[\"RUL_prediction\"].values)\n",
        "print(f\"Mean Squared Error: {mse}\")\n",
        "\n",
        "# Lưu mô hình đã huấn luyện\n",
        "with open('E:/IAD/Intern/05_CMAPSS/source/tab_transformer_cmapss.sav', 'wb') as model_file:\n",
        "    pickle.dump(tabular_model, model_file)\n",
        "\n",
        "# Tải mô hình đã lưu (nếu cần thiết)\n",
        "with open('E:/IAD/Intern/05_CMAPSS/source/tab_transformer_cmapss.sav', 'rb') as model_file:\n",
        "    loaded_model = pickle.load(model_file)"
      ]
    },
    {
      "cell_type": "code",
      "execution_count": null,
      "metadata": {
        "colab": {
          "base_uri": "https://localhost:8080/"
        },
        "id": "Z58tgs1xzffU",
        "outputId": "4851a9b2-45d5-4730-e383-8bf57b651a5e"
      },
      "outputs": [],
      "source": [
        "#test_enc = train.drop(columns=['unit','cycle','RUL'])\n",
        "train_enc = train.drop(columns=['unit','cycle','RUL'])\n",
        "test_enc = test.drop(columns=['unit','cycle','RUL'])\n",
        "print(\"Columns in test_enc:\", test_enc.columns.tolist())\n",
        "print(\"Expected categorical columns:\", cat_cols)\n",
        "print(\"Expected feature columns:\", features)"
      ]
    },
    {
      "cell_type": "code",
      "execution_count": null,
      "metadata": {
        "colab": {
          "base_uri": "https://localhost:8080/",
          "height": 1000
        },
        "id": "T-3luR-DziyH",
        "outputId": "f3fa03fa-be86-4e9b-ea9d-647ae2439ad8"
      },
      "outputs": [],
      "source": [
        "from sklearn.metrics import mean_squared_error, mean_absolute_error\n",
        "import numpy as np\n",
        "import matplotlib.pyplot as plt\n",
        "\n",
        "\n",
        "test_pred = loaded_model.predict(test_enc)\n",
        "#mse = mean_squared_error(test[target], test_pred[\"RUL_prediction\"].values)\n",
        "#print(f\"Mean Squared Error: {mse}\")\n",
        "\n",
        "mse = mean_squared_error(test_enc[target[0]], test_pred)\n",
        "#rmse = np.sqrt(mse)\n",
        "#mae = mean_absolute_error(test[target[0]], test_pred[\"RUL_prediction\"].values)\n",
        "\n",
        "print(f\"Mean Squared Error (MSE): {mse}\")\n",
        "print(f\"Root Mean Squared Error (RMSE): {rmse}\")\n",
        "print(f\"Mean Absolute Error (MAE): {mae}\")\n",
        "\n",
        "# Giả sử test_pred là một DataFrame, chuyển nó thành mảng numpy và làm phẳng\n",
        "test_pred_flat = test_pred.to_numpy().ravel()\n",
        "\n",
        "\n",
        "comparison_df = pd.DataFrame({\n",
        "    'Actual RUL': test_enc[target[0]].values,\n",
        "    'Predicted RUL': test_pred\n",
        "})\n",
        "\n",
        "\n",
        "print(comparison_df.head(10))\n",
        "\n",
        "plt.figure(figsize=(10, 6))\n",
        "plt.scatter(range(len(test_enc)), test_enc[target[0]], label='Actual', alpha=0.6)\n",
        "plt.scatter(range(len(test_enc)), test_pred, label='Predicted', alpha=0.6)\n",
        "plt.title('Actual vs Predicted RUL')\n",
        "plt.xlabel('Sample Index')\n",
        "plt.ylabel('RUL')\n",
        "plt.legend()\n",
        "plt.show()\n",
        "\n",
        "plt.figure(figsize=(10, 6))\n",
        "errors = test_enc[target[0]].values - test_pred\n",
        "plt.hist(errors, bins=50, edgecolor='k', alpha=0.7)\n",
        "plt.title('Distribution of Prediction Errors')\n",
        "plt.xlabel('Prediction Error')\n",
        "plt.ylabel('Frequency')\n",
        "plt.show()\n",
        "# Tạo DataFrame với các mảng đã được làm phẳng\n",
        "# comparison_df = pd.DataFrame({\n",
        "#     'Actual RUL': test[target[0]].values.ravel(),  # Dùng .ravel() để làm phẳng mảng\n",
        "#     'Predicted RUL': test_pred_flat  # Sử dụng mảng đã được làm phẳng\n",
        "# })\n",
        "\n",
        "# print(comparison_df.head(10))\n",
        "\n",
        "# plt.figure(figsize=(10, 6))\n",
        "# plt.scatter(range(len(test)), test[target[0]], label='Actual', alpha=0.6)\n",
        "# plt.scatter(range(len(test)), test_pred, label='Predicted', alpha=0.6)\n",
        "# plt.title('Actual vs Predicted RUL')\n",
        "# plt.xlabel('Sample Index')\n",
        "# plt.ylabel('RUL')\n",
        "# plt.legend()\n",
        "# plt.show()\n",
        "\n",
        "# plt.figure(figsize=(10, 6))\n",
        "# errors = test[target[0]].values - test_pred[\"RUL_prediction\"]\n",
        "# plt.hist(errors, bins=50, edgecolor='k', alpha=0.7)\n",
        "# plt.title('Distribution of Prediction Errors')\n",
        "# plt.xlabel('Prediction Error')\n",
        "# plt.ylabel('Frequency')\n",
        "# plt.show()"
      ]
    },
    {
      "cell_type": "code",
      "execution_count": null,
      "metadata": {
        "id": "B5UkOBMbzrVL"
      },
      "outputs": [],
      "source": [
        "from sklearn.preprocessing import MinMaxScaler\n",
        "\n",
        "#max_cycles = df_spark.groupby('unit')['cycle'].max()\n",
        "#df_spark['RUL'] = df_spark.apply(lambda row: max_cycles[row['unit']] - row['cycle'], axis=1)\n",
        "\n",
        "# Tính toán RUL cho tập train\n",
        "max_cycle_train = train.groupby('unit')['cycle'].max()\n",
        "train['RUL'] = train.apply(lambda row: max_cycle_train[row['unit']] - row['cycle'], axis=1)\n",
        "\n",
        "# Tính toán RUL cho tập test (nếu cần thiết)\n",
        "max_cycle_test = test.groupby('unit')['cycle'].max()\n",
        "test['RUL'] = test.apply(lambda row: max_cycle_test[row['unit']] - row['cycle'], axis=1)\n",
        "\n",
        "#train, test = train_test_split(df_spark, test_size=0.2, random_state=42)\n",
        "\n",
        "scaler = MinMaxScaler()\n",
        "train_scaled = scaler.fit_transform(train.iloc[:, 2:25])\n",
        "test_scaled = scaler.transform(test.iloc[:, 2:25])\n",
        "\n",
        "X_train, y_train = train_scaled, train['RUL']\n",
        "X_test, y_test = test_scaled, test['RUL']"
      ]
    },
    {
      "cell_type": "code",
      "execution_count": null,
      "metadata": {
        "colab": {
          "base_uri": "https://localhost:8080/",
          "height": 664
        },
        "id": "oi7L8T5Czxzz",
        "outputId": "a8f948c8-b4e8-4074-a722-a9e818bf88f6"
      },
      "outputs": [],
      "source": [
        "!pip install shap\n",
        "\n",
        "import shap\n",
        "\n",
        "#explainer = shap.Explainer(tabular_model, X_train)\n",
        "\n",
        "explainer = shap.Explainer(predict_func, X_train)\n",
        "#shap_values = explainer(X_test, check_additivity=False)\n",
        "\n",
        "#shap_values = explainer(X_test, check_additivity=False)\n",
        "shap_values = explainer(X_test)\n",
        "shap.summary_plot(shap_values, X_test, feature_names=column_names[2:25])"
      ]
    }
  ],
  "metadata": {
    "colab": {
      "provenance": []
    },
    "kernelspec": {
      "display_name": "Python 3",
      "name": "python3"
    },
    "language_info": {
      "codemirror_mode": {
        "name": "ipython",
        "version": 3
      },
      "file_extension": ".py",
      "mimetype": "text/x-python",
      "name": "python",
      "nbconvert_exporter": "python",
      "pygments_lexer": "ipython3",
      "version": "3.10.0"
    },
    "widgets": {
      "application/vnd.jupyter.widget-state+json": {
        "4da7aab19d0a4623b37eb8fcf7b72f55": {
          "model_module": "@jupyter-widgets/base",
          "model_module_version": "1.2.0",
          "model_name": "LayoutModel",
          "state": {
            "_model_module": "@jupyter-widgets/base",
            "_model_module_version": "1.2.0",
            "_model_name": "LayoutModel",
            "_view_count": null,
            "_view_module": "@jupyter-widgets/base",
            "_view_module_version": "1.2.0",
            "_view_name": "LayoutView",
            "align_content": null,
            "align_items": null,
            "align_self": null,
            "border": null,
            "bottom": null,
            "display": null,
            "flex": null,
            "flex_flow": null,
            "grid_area": null,
            "grid_auto_columns": null,
            "grid_auto_flow": null,
            "grid_auto_rows": null,
            "grid_column": null,
            "grid_gap": null,
            "grid_row": null,
            "grid_template_areas": null,
            "grid_template_columns": null,
            "grid_template_rows": null,
            "height": null,
            "justify_content": null,
            "justify_items": null,
            "left": null,
            "margin": null,
            "max_height": null,
            "max_width": null,
            "min_height": null,
            "min_width": null,
            "object_fit": null,
            "object_position": null,
            "order": null,
            "overflow": null,
            "overflow_x": null,
            "overflow_y": null,
            "padding": null,
            "right": null,
            "top": null,
            "visibility": null,
            "width": null
          }
        },
        "5e9bde7dd9384ff3bdb1386863fac558": {
          "model_module": "@jupyter-widgets/base",
          "model_module_version": "1.2.0",
          "model_name": "LayoutModel",
          "state": {
            "_model_module": "@jupyter-widgets/base",
            "_model_module_version": "1.2.0",
            "_model_name": "LayoutModel",
            "_view_count": null,
            "_view_module": "@jupyter-widgets/base",
            "_view_module_version": "1.2.0",
            "_view_name": "LayoutView",
            "align_content": null,
            "align_items": null,
            "align_self": null,
            "border": null,
            "bottom": null,
            "display": null,
            "flex": null,
            "flex_flow": null,
            "grid_area": null,
            "grid_auto_columns": null,
            "grid_auto_flow": null,
            "grid_auto_rows": null,
            "grid_column": null,
            "grid_gap": null,
            "grid_row": null,
            "grid_template_areas": null,
            "grid_template_columns": null,
            "grid_template_rows": null,
            "height": null,
            "justify_content": null,
            "justify_items": null,
            "left": null,
            "margin": null,
            "max_height": null,
            "max_width": null,
            "min_height": null,
            "min_width": null,
            "object_fit": null,
            "object_position": null,
            "order": null,
            "overflow": null,
            "overflow_x": null,
            "overflow_y": null,
            "padding": null,
            "right": null,
            "top": null,
            "visibility": null,
            "width": null
          }
        },
        "b5097338b5ec427cbf1f5272303f078f": {
          "model_module": "@jupyter-widgets/output",
          "model_module_version": "1.0.0",
          "model_name": "OutputModel",
          "state": {
            "_dom_classes": [],
            "_model_module": "@jupyter-widgets/output",
            "_model_module_version": "1.0.0",
            "_model_name": "OutputModel",
            "_view_count": null,
            "_view_module": "@jupyter-widgets/output",
            "_view_module_version": "1.0.0",
            "_view_name": "OutputView",
            "layout": "IPY_MODEL_5e9bde7dd9384ff3bdb1386863fac558",
            "msg_id": "",
            "outputs": [
              {
                "data": {
                  "text/html": "<pre style=\"white-space:pre;overflow-x:auto;line-height:normal;font-family:Menlo,'DejaVu Sans Mono',consolas,'Courier New',monospace\"><span style=\"color: #c0c0c0; text-decoration-color: #c0c0c0\">Testing</span> <span style=\"color: #6206e0; text-decoration-color: #6206e0\">━━━━━━━━━━━━━━━━━━━━━━━━━━━━━━━━━━━━━━━━</span> <span style=\"color: #c0c0c0; text-decoration-color: #c0c0c0\">644/644</span> <span style=\"color: #8a8a8a; text-decoration-color: #8a8a8a\">0:00:25 • 0:00:00</span> <span style=\"color: #b2b2b2; text-decoration-color: #b2b2b2\">25.36it/s</span>  \n</pre>\n",
                  "text/plain": "\u001b[37mTesting\u001b[0m \u001b[38;2;98;6;224m━━━━━━━━━━━━━━━━━━━━━━━━━━━━━━━━━━━━━━━━\u001b[0m \u001b[37m644/644\u001b[0m \u001b[38;5;245m0:00:25 • 0:00:00\u001b[0m \u001b[38;5;249m25.36it/s\u001b[0m  \n"
                },
                "metadata": {},
                "output_type": "display_data"
              }
            ]
          }
        },
        "ec1b186d46744a569079aa21179af143": {
          "model_module": "@jupyter-widgets/output",
          "model_module_version": "1.0.0",
          "model_name": "OutputModel",
          "state": {
            "_dom_classes": [],
            "_model_module": "@jupyter-widgets/output",
            "_model_module_version": "1.0.0",
            "_model_name": "OutputModel",
            "_view_count": null,
            "_view_module": "@jupyter-widgets/output",
            "_view_module_version": "1.0.0",
            "_view_name": "OutputView",
            "layout": "IPY_MODEL_4da7aab19d0a4623b37eb8fcf7b72f55",
            "msg_id": "",
            "outputs": [
              {
                "data": {
                  "text/html": "<pre style=\"white-space:pre;overflow-x:auto;line-height:normal;font-family:Menlo,'DejaVu Sans Mono',consolas,'Courier New',monospace\">Epoch 9/9  <span style=\"color: #6206e0; text-decoration-color: #6206e0\">━━━━━━━━━━━━━━━━━━━━━━━━━━━━━━━━━</span> <span style=\"color: #c0c0c0; text-decoration-color: #c0c0c0\">766/766</span> <span style=\"color: #8a8a8a; text-decoration-color: #8a8a8a\">0:01:05 • 0:00:00</span> <span style=\"color: #b2b2b2; text-decoration-color: #b2b2b2\">11.99it/s</span> <span style=\"color: #c0c0c0; text-decoration-color: #c0c0c0\">v_num: 1.000 train_loss: 6880.537 </span>\n                                                                                 <span style=\"color: #c0c0c0; text-decoration-color: #c0c0c0\">valid_loss: 7831.518              </span>\n                                                                                 <span style=\"color: #c0c0c0; text-decoration-color: #c0c0c0\">valid_mean_squared_error: 7831.518</span>\n                                                                                 <span style=\"color: #c0c0c0; text-decoration-color: #c0c0c0\">train_mean_squared_error: 7868.898</span>\n</pre>\n",
                  "text/plain": "Epoch 9/9  \u001b[38;2;98;6;224m━━━━━━━━━━━━━━━━━━━━━━━━━━━━━━━━━\u001b[0m \u001b[37m766/766\u001b[0m \u001b[38;5;245m0:01:05 • 0:00:00\u001b[0m \u001b[38;5;249m11.99it/s\u001b[0m \u001b[37mv_num: 1.000 train_loss: 6880.537 \u001b[0m\n                                                                                 \u001b[37mvalid_loss: 7831.518              \u001b[0m\n                                                                                 \u001b[37mvalid_mean_squared_error: 7831.518\u001b[0m\n                                                                                 \u001b[37mtrain_mean_squared_error: 7868.898\u001b[0m\n"
                },
                "metadata": {},
                "output_type": "display_data"
              }
            ]
          }
        }
      }
    }
  },
  "nbformat": 4,
  "nbformat_minor": 0
}
